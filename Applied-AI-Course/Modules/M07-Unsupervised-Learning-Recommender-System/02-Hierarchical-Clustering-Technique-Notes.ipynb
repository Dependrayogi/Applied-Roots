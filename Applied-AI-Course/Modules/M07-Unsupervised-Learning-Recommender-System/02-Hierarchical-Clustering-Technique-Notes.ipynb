{
 "cells": [
  {
   "cell_type": "markdown",
   "id": "f7fab01b",
   "metadata": {},
   "source": [
    "__Agglomerative & Divisive, Dendrograms__"
   ]
  },
  {
   "cell_type": "markdown",
   "id": "f2eca1d8",
   "metadata": {},
   "source": [
    "![](https://user-images.githubusercontent.com/63338657/189517401-c2fbf5ac-a50b-48a9-bc66-803fb40c59e0.png)\n",
    "\n",
    "![](https://user-images.githubusercontent.com/63338657/189517508-24834bd4-dcf9-4818-826f-a8e188ff72f4.png)\n",
    "\n",
    "![](https://user-images.githubusercontent.com/63338657/189517528-d08031e4-be62-42e8-a363-b829f1e27b88.png)\n",
    "\n",
    "![](https://user-images.githubusercontent.com/63338657/189517636-008534fc-f076-40dd-ade2-33739dcf2979.png)\n",
    "\n",
    "![](https://user-images.githubusercontent.com/63338657/189517676-0afadab2-e352-4c92-8b6a-59e63d91ff3f.png)\n",
    "\n",
    "Link: https://youtu.be/ijUMKMC4f9I\n",
    "\n",
    "![](https://user-images.githubusercontent.com/63338657/189518046-75e29485-c712-4223-903f-5121676bbcfa.png)\n",
    "\n",
    "![](https://user-images.githubusercontent.com/63338657/189518146-0b83f7d1-c6be-4fa0-89db-84b69652c1e6.png)"
   ]
  },
  {
   "cell_type": "markdown",
   "id": "9e3f09e0",
   "metadata": {},
   "source": [
    "__Agglomerative Clustering__"
   ]
  },
  {
   "cell_type": "markdown",
   "id": "6711a825",
   "metadata": {},
   "source": [
    "![](https://user-images.githubusercontent.com/63338657/189518228-b355ea31-fdbe-42a8-9bad-e09b9d34c89d.png)\n",
    "\n",
    "![](https://user-images.githubusercontent.com/63338657/189518273-3119883f-a668-48cb-b453-1aa14770646a.png)\n",
    "\n",
    "![](https://user-images.githubusercontent.com/63338657/189518320-c5de527e-696a-4f2d-b51e-5ba121231c2f.png)\n",
    "\n",
    "![](https://user-images.githubusercontent.com/63338657/189518412-d7566e57-4ec5-45b1-bc94-d4679c7b4499.png)\n",
    "\n",
    "Link: https://youtu.be/1jW9xlEtQao\n",
    "\n",
    "![](https://user-images.githubusercontent.com/63338657/189518707-62f61510-bda7-4808-b7da-50369d305803.png)"
   ]
  },
  {
   "cell_type": "markdown",
   "id": "4d3dcca8",
   "metadata": {},
   "source": [
    "__Proximity methods: Advantages and Limitations__"
   ]
  },
  {
   "cell_type": "markdown",
   "id": "2b5c3f36",
   "metadata": {},
   "source": [
    "![](https://user-images.githubusercontent.com/63338657/189523381-44d3e943-4952-4bc1-8c62-098d72cbb2f7.png)\n",
    "\n",
    "![](https://user-images.githubusercontent.com/63338657/189523415-d94cec4a-039b-4231-ac38-4fda8b169ab0.png)\n",
    "\n",
    "![](https://user-images.githubusercontent.com/63338657/189523491-7da36ba6-f6d4-44bb-bd53-019a7ce6ffb8.png)\n",
    "\n",
    "![](https://user-images.githubusercontent.com/63338657/189523557-896d3fde-d72c-43c9-88f1-b7a98aa7014c.png)\n",
    "\n",
    "![](https://user-images.githubusercontent.com/63338657/189523613-8d91ff6b-9c99-4a3c-a6c7-ed58d0eebdc7.png)\n",
    "\n",
    "![](https://user-images.githubusercontent.com/63338657/189523679-0098d827-b99c-48c7-b323-e5ac71f2cc5c.png)\n",
    "\n",
    "![](https://user-images.githubusercontent.com/63338657/189523722-466126c5-907d-4ece-b82f-4a740ee438f9.png)\n",
    "\n",
    "![](https://user-images.githubusercontent.com/63338657/189524161-2b9f0e65-8c2d-4876-80e8-dc91d4417911.png)\n",
    "\n",
    "![](https://user-images.githubusercontent.com/63338657/189524221-54223b3c-09d0-4a72-aec5-786378470c66.png)\n",
    "\n",
    "![](https://user-images.githubusercontent.com/63338657/189524285-e4b5f128-65b3-47d6-832d-39041494e050.png)\n",
    "\n",
    "![](https://user-images.githubusercontent.com/63338657/189524394-a9da86f2-a6b5-4e52-92e4-c2b24813f133.png)"
   ]
  },
  {
   "cell_type": "markdown",
   "id": "9253be84",
   "metadata": {},
   "source": [
    "__Time and Space Complexity__"
   ]
  },
  {
   "cell_type": "markdown",
   "id": "4caa6f6a",
   "metadata": {},
   "source": [
    "![](https://user-images.githubusercontent.com/63338657/189525291-637f8d08-af29-4bef-b161-6d28f01504eb.png)\n",
    "\n",
    "![](https://user-images.githubusercontent.com/63338657/189525355-45e667ac-3859-46c5-84f5-3ca1892c62e8.png)\n",
    "\n",
    "![](https://user-images.githubusercontent.com/63338657/189525787-73ce76b5-acb1-4ff0-8367-c8fdf2e7a39e.png)"
   ]
  },
  {
   "cell_type": "markdown",
   "id": "4e33f822",
   "metadata": {},
   "source": [
    "__Limitations of Hierarchical Clustering__\n",
    "\n",
    "![](https://user-images.githubusercontent.com/63338657/189525901-cd0797cb-0bfd-4afe-b926-1941fb4e9ccf.png)\n",
    "\n",
    "![](https://user-images.githubusercontent.com/63338657/189526039-e4667784-f17b-497c-810c-bc1c1b6253a0.png)"
   ]
  },
  {
   "cell_type": "code",
   "execution_count": null,
   "id": "c338868b",
   "metadata": {},
   "outputs": [],
   "source": []
  }
 ],
 "metadata": {
  "kernelspec": {
   "display_name": "Python 3 (ipykernel)",
   "language": "python",
   "name": "python3"
  },
  "language_info": {
   "codemirror_mode": {
    "name": "ipython",
    "version": 3
   },
   "file_extension": ".py",
   "mimetype": "text/x-python",
   "name": "python",
   "nbconvert_exporter": "python",
   "pygments_lexer": "ipython3",
   "version": "3.10.6"
  }
 },
 "nbformat": 4,
 "nbformat_minor": 5
}
