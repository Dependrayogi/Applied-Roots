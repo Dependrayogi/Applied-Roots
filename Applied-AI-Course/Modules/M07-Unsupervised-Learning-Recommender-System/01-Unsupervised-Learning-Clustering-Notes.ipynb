{
 "cells": [
  {
   "cell_type": "markdown",
   "id": "e7e687c9",
   "metadata": {},
   "source": [
    "__What is Clustering?__"
   ]
  },
  {
   "cell_type": "markdown",
   "id": "c81c4826",
   "metadata": {},
   "source": [
    "![](https://user-images.githubusercontent.com/63338657/189005778-b44a1239-222c-4cf3-8061-a9acb66225da.png)\n",
    "\n",
    "![](https://user-images.githubusercontent.com/63338657/189006036-f4ab7fc4-dac3-4caa-a579-479a3af2ceba.png)\n",
    "\n",
    "![](https://user-images.githubusercontent.com/63338657/189006256-c22dd358-705b-41bd-bae5-b303560e796b.png)\n",
    "\n",
    "Link: https://www.analyticsvidhya.com/blog/2015/12/10-machine-learning-algorithms-explained-army-soldier/\n",
    "\n",
    "![](https://user-images.githubusercontent.com/63338657/189007398-4cc1122d-4bec-4d5a-8610-457cc111caff.png)"
   ]
  },
  {
   "cell_type": "markdown",
   "id": "d032722d",
   "metadata": {},
   "source": [
    "__Unsupervised Learning__"
   ]
  },
  {
   "cell_type": "markdown",
   "id": "cac4bd86",
   "metadata": {},
   "source": [
    "![](https://user-images.githubusercontent.com/63338657/189007706-bfd11dcf-9ed1-4527-842a-978da3705901.png)\n",
    "\n",
    "![](https://user-images.githubusercontent.com/63338657/189007979-828c9762-50d7-468b-98a3-3ee9d8e06e80.png)"
   ]
  },
  {
   "cell_type": "markdown",
   "id": "5c87139c",
   "metadata": {},
   "source": [
    "__Applications__"
   ]
  },
  {
   "cell_type": "markdown",
   "id": "60fd8bf5",
   "metadata": {},
   "source": [
    "![](https://user-images.githubusercontent.com/63338657/189008671-58a36ebe-13aa-4556-b16b-875944742e7e.png)\n",
    "\n",
    "![](https://user-images.githubusercontent.com/63338657/189009016-ec878c68-e82f-41a2-9e29-bfff6d3426b4.png)\n",
    "\n",
    "![](https://user-images.githubusercontent.com/63338657/189009276-7cdfbb7b-73e9-419c-a7ac-c67dd865c525.png)\n",
    "\n",
    "![](https://user-images.githubusercontent.com/63338657/189009654-ef7f5173-c2f6-40cf-9c3d-54196d25bddd.png)\n",
    "\n",
    "![](https://user-images.githubusercontent.com/63338657/189010015-5a592e84-557a-4707-aa30-6cabb452bc5a.png)\n",
    "\n",
    "![](https://user-images.githubusercontent.com/63338657/189010330-32bdab13-384c-4330-bf1b-29f51fb88866.png)"
   ]
  },
  {
   "cell_type": "markdown",
   "id": "5aa5257a",
   "metadata": {},
   "source": [
    "__Metrics for Clustering__"
   ]
  },
  {
   "cell_type": "markdown",
   "id": "af51d9ee",
   "metadata": {},
   "source": [
    "![](https://user-images.githubusercontent.com/63338657/189167617-494fdee5-d9a8-4db9-b59c-9364f2df4c9f.png)\n",
    "\n",
    "![](https://user-images.githubusercontent.com/63338657/189172229-07fe2522-2e0e-4971-9ed7-03519190415a.png)\n",
    "\n",
    "![](https://user-images.githubusercontent.com/63338657/189172771-5f312acb-c353-4c80-9cc1-f5330115efd5.png)\n",
    "\n",
    "Numerator\n",
    "\n",
    "![](https://user-images.githubusercontent.com/63338657/189173683-be8c1066-d35c-4576-8002-d3d98adcf15e.png)\n",
    "\n",
    "Denomenator\n",
    "\n",
    "![](https://user-images.githubusercontent.com/63338657/189173861-3742f413-7568-4dbf-b5c9-28b75da16167.png)\n",
    "\n",
    "![](https://user-images.githubusercontent.com/63338657/189174214-49d0c5f7-d655-4df2-bff6-d532b7af4c54.png)\n",
    "\n",
    "Sir's formula above is incorrect.\n",
    "\n",
    "Below is the correct formula.\n",
    "\n",
    "![](https://user-images.githubusercontent.com/63338657/189177973-26a7f638-ff1d-490c-a90a-d7848fd8d5cc.png)\n",
    "\n",
    "![](https://user-images.githubusercontent.com/63338657/189178284-06d063a1-5d12-4867-a5eb-d57ef1c16c30.png)"
   ]
  },
  {
   "cell_type": "markdown",
   "id": "15622e3d",
   "metadata": {},
   "source": [
    "__K-Means: Geometric Intuition, Centroids__"
   ]
  },
  {
   "cell_type": "markdown",
   "id": "d49aac26",
   "metadata": {},
   "source": [
    "![](https://user-images.githubusercontent.com/63338657/189393460-cce1c6b3-5f97-4a98-93ee-bc5ce2503c1d.png)\n",
    "\n",
    "![](https://user-images.githubusercontent.com/63338657/189393837-64d8f547-ac49-4f6d-abe2-61eeaeef3eeb.png)\n",
    "\n",
    "![](https://user-images.githubusercontent.com/63338657/189394240-b8d9066f-bbc6-4ade-a3d9-9031758acac4.png)\n",
    "\n",
    "![](https://user-images.githubusercontent.com/63338657/189394604-fec38227-b5f4-409a-9acd-9408df56c0db.png)\n",
    "\n",
    "![](https://user-images.githubusercontent.com/63338657/189394978-45fe3234-0433-491a-8cca-06db206c0d9c.png)"
   ]
  },
  {
   "cell_type": "markdown",
   "id": "29fe74ad",
   "metadata": {},
   "source": [
    "__K-Means: Mathematical Formulation: Objective Function__"
   ]
  },
  {
   "cell_type": "markdown",
   "id": "2de8186a",
   "metadata": {},
   "source": [
    "![](https://user-images.githubusercontent.com/63338657/189474335-ebb2bf16-ad1d-4c6b-80bd-5666b19372f5.png)\n",
    "\n",
    "![](https://user-images.githubusercontent.com/63338657/189474502-1a9b39f9-b5d5-4749-9500-4d8fcea61500.png)\n",
    "\n",
    "![](https://user-images.githubusercontent.com/63338657/189474603-643c8783-d96f-4762-89c1-d0d183acf84a.png)\n",
    "\n",
    "![](https://user-images.githubusercontent.com/63338657/189474706-04e23b8d-1fd1-4996-8353-659e6b8fe38a.png)\n",
    "\n",
    "Link: https://www.saedsayad.com/clustering_kmeans.htm\n",
    "\n",
    "Link: https://soundcloud.com/applied-ai-course/comment-k-means/s-hmZZH"
   ]
  },
  {
   "cell_type": "markdown",
   "id": "edf5b935",
   "metadata": {},
   "source": [
    "__K-Means Algorithm__"
   ]
  },
  {
   "cell_type": "markdown",
   "id": "8d425ac3",
   "metadata": {},
   "source": [
    "![](https://user-images.githubusercontent.com/63338657/189475070-1ada9816-b65e-4dfd-95f4-a214809d5a71.png)\n",
    "\n",
    "![](https://user-images.githubusercontent.com/63338657/189475139-6e6c6c33-a81c-445a-b919-344ad06e98b9.png)\n",
    "\n",
    "![](https://user-images.githubusercontent.com/63338657/189475263-5a163056-ad1a-4c6a-83c6-f61b77c6b2b5.png)\n",
    "\n",
    "![](https://user-images.githubusercontent.com/63338657/189475283-33f6e884-c8fa-4190-b407-273d2068f0e2.png)\n",
    "\n",
    "![](https://user-images.githubusercontent.com/63338657/189475369-4119813d-7428-492e-a63a-96cb918ac49f.png)\n",
    "\n",
    "Link: https://youtu.be/5I3Ei69I40s"
   ]
  },
  {
   "cell_type": "markdown",
   "id": "e0fdb54b",
   "metadata": {},
   "source": [
    "Link: https://www.analyticsvidhya.com/blog/2017/04/40-questions-test-data-scientist-machine-learning-solution-skillpower-machine-learning-datafest-2017/"
   ]
  },
  {
   "cell_type": "markdown",
   "id": "6bf191a6",
   "metadata": {},
   "source": [
    "__How to initialize: K-Means++__"
   ]
  },
  {
   "cell_type": "markdown",
   "id": "37ef1c1a",
   "metadata": {},
   "source": [
    "![](https://user-images.githubusercontent.com/63338657/189475906-6d965eea-3420-4199-9493-0f9e6fde247c.png)\n",
    "\n",
    "![](https://user-images.githubusercontent.com/63338657/189476044-20bb2c26-e99d-4fed-add1-a63c027ffd23.png)\n",
    "\n",
    "![](https://user-images.githubusercontent.com/63338657/189476120-477c5108-bb47-4aca-a890-cc915f4a2a37.png)\n",
    "\n",
    "![](https://user-images.githubusercontent.com/63338657/189476204-cbca5cc8-6f74-48b8-b267-5dae8a498350.png)\n",
    "\n",
    "![](https://user-images.githubusercontent.com/63338657/189476347-051dc3d9-a18a-4d5f-bf7f-fea78fc9a405.png)\n",
    "\n",
    "![](https://user-images.githubusercontent.com/63338657/189476462-a0e8571c-251f-4278-816f-21bff8b421c1.png)\n",
    "\n",
    "![](https://user-images.githubusercontent.com/63338657/189476620-fd5cf702-7bb3-4525-93f9-ed8c958d5cc6.png)\n",
    "\n",
    "![](https://user-images.githubusercontent.com/63338657/189476732-e62e9844-9bf9-419c-b4c6-814249ec38a9.png)\n",
    "\n",
    "![](https://user-images.githubusercontent.com/63338657/189476854-3dd90607-f148-4ce8-867b-7b03b628be98.png)\n",
    "\n",
    "![](https://user-images.githubusercontent.com/63338657/189477215-7547f50a-4af6-446e-8df7-14bfbe8b5668.png)"
   ]
  },
  {
   "cell_type": "markdown",
   "id": "7f8d8ffe",
   "metadata": {},
   "source": [
    "__Failure cases/Limitations__"
   ]
  },
  {
   "cell_type": "markdown",
   "id": "5ebc92d5",
   "metadata": {},
   "source": [
    "![](https://user-images.githubusercontent.com/63338657/189489390-a400f6bc-55e4-4eaf-bbd9-16f4e3adbcf5.png)\n",
    "\n",
    "![](https://user-images.githubusercontent.com/63338657/189489473-4b21e5a3-1a0b-4c50-bfeb-3731ae3fa3b1.png)\n",
    "\n",
    "![](https://user-images.githubusercontent.com/63338657/189489528-9909d7b8-0cb0-423c-b228-f24ee66afc9c.png)\n",
    "\n",
    "![](https://user-images.githubusercontent.com/63338657/189489662-850f361e-e6bb-4b19-b990-f59cdc612de9.png)\n",
    "\n",
    "![](https://user-images.githubusercontent.com/63338657/189489759-f030ea54-afc2-42cb-bdf8-bcf92d27b430.png)\n",
    "\n",
    "![](https://user-images.githubusercontent.com/63338657/189489789-a94a0c9e-a7fe-4f43-a150-c4c1aa4a357f.png)\n",
    "\n",
    "![](https://user-images.githubusercontent.com/63338657/189489829-701f183e-6e8a-4ff6-8cd7-19512bdaa8a0.png)\n",
    "\n",
    "![](https://user-images.githubusercontent.com/63338657/189489890-ab7dc511-057f-4f19-ba67-6788a73899a0.png)\n",
    "\n",
    "Link: https://stats.stackexchange.com/a/133694/265313"
   ]
  },
  {
   "cell_type": "markdown",
   "id": "c0892393",
   "metadata": {},
   "source": [
    "__K-Medoids__"
   ]
  },
  {
   "cell_type": "markdown",
   "id": "7ddfca39",
   "metadata": {},
   "source": [
    "![](https://user-images.githubusercontent.com/63338657/189492091-7b2ea746-e419-468e-9bec-9a71bc8a79d4.png)\n",
    "\n",
    "![](https://user-images.githubusercontent.com/63338657/189492179-5357cbdb-0ea0-4622-bbdc-51cf11f234ed.png)\n",
    "\n",
    "![](https://user-images.githubusercontent.com/63338657/189492263-ba5ef0b5-0c79-4d15-8a5d-4360e6596aa0.png)\n",
    "\n",
    "![](https://user-images.githubusercontent.com/63338657/189492457-8035a3a2-9639-447a-9de2-cf8579cc2d71.png)\n",
    "\n",
    "![](https://user-images.githubusercontent.com/63338657/189492574-f7a9a18a-5311-4ade-9eab-a8239afdddc2.png)\n",
    "\n",
    "![](https://user-images.githubusercontent.com/63338657/189492662-9beca632-6d12-4852-bb75-ea242b6ca882.png)\n",
    "\n",
    "![](https://user-images.githubusercontent.com/63338657/189492762-5ee4c278-b798-43e4-a4a5-a651820fcc1d.png)\n",
    "\n",
    "![](https://user-images.githubusercontent.com/63338657/189492857-5e42437e-7f85-4e5d-8e07-a0540f861e9f.png)\n",
    "\n",
    "![](https://user-images.githubusercontent.com/63338657/189492942-27e1c5ed-0c30-4685-ac0e-226ad3988987.png)\n",
    "\n",
    "![](https://user-images.githubusercontent.com/63338657/189493010-8105cf34-26b0-4cae-86f0-7b7bf382669e.png)\n",
    "\n",
    "Link: https://youtu.be/AxARUMZh0sk\n",
    "\n",
    "Link: https://youtu.be/IC1ynIKDxow\n",
    "\n",
    "![](https://user-images.githubusercontent.com/63338657/189494646-1fcc9f1b-8a3d-4190-af6f-29aec629bc57.png)"
   ]
  },
  {
   "cell_type": "markdown",
   "id": "d63ecb7c",
   "metadata": {},
   "source": [
    "__Determining the right K__"
   ]
  },
  {
   "cell_type": "markdown",
   "id": "95bfbeb7",
   "metadata": {},
   "source": [
    "![](https://user-images.githubusercontent.com/63338657/189496227-5ec2253f-e828-4a63-b344-15fbb4162d5c.png)\n",
    "\n",
    "![](https://user-images.githubusercontent.com/63338657/189496333-646f9bac-1d46-47fd-961b-3c29bf5e99d3.png)\n",
    "\n",
    "The plot of obj/loss vs K need NOT uptick after $K=5$ as stated in the above video.\n",
    "\n",
    "![](https://user-images.githubusercontent.com/63338657/189496422-f776cd4d-2eb1-4eb4-a621-41d8b954cf98.png)"
   ]
  },
  {
   "cell_type": "markdown",
   "id": "5071ef02",
   "metadata": {},
   "source": [
    "__Time and space complexity__"
   ]
  },
  {
   "cell_type": "markdown",
   "id": "ceee8512",
   "metadata": {},
   "source": [
    "![](https://user-images.githubusercontent.com/63338657/189497030-4ee6ad7e-d044-482d-9239-f020ed73ed6c.png)\n",
    "\n",
    "![](https://user-images.githubusercontent.com/63338657/189497158-675ccb92-4067-4be7-b691-05bcee8ad45d.png)"
   ]
  },
  {
   "cell_type": "code",
   "execution_count": null,
   "id": "e6b0181d",
   "metadata": {},
   "outputs": [],
   "source": []
  }
 ],
 "metadata": {
  "kernelspec": {
   "display_name": "Python 3 (ipykernel)",
   "language": "python",
   "name": "python3"
  },
  "language_info": {
   "codemirror_mode": {
    "name": "ipython",
    "version": 3
   },
   "file_extension": ".py",
   "mimetype": "text/x-python",
   "name": "python",
   "nbconvert_exporter": "python",
   "pygments_lexer": "ipython3",
   "version": "3.10.6"
  }
 },
 "nbformat": 4,
 "nbformat_minor": 5
}
