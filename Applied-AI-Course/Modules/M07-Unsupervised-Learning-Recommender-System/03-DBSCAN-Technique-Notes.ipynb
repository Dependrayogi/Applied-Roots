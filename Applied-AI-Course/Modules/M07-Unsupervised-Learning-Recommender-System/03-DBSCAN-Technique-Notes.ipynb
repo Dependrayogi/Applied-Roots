{
 "cells": [
  {
   "cell_type": "markdown",
   "id": "727ff431",
   "metadata": {},
   "source": [
    "__Density based Clustering__\n",
    "\n",
    "Density-based spatial clustering of applications with noise (DBSCAN)\n",
    "\n",
    "Link: https://cs.wmich.edu/alfuqaha/summer14/cs6530/lectures/ClusteringAnalysis.pdf"
   ]
  },
  {
   "cell_type": "markdown",
   "id": "d76fc2fb",
   "metadata": {},
   "source": [
    "![](https://user-images.githubusercontent.com/63338657/189555695-ef0d6212-b7f1-4fc8-a7c7-ccd9a9cc1d61.png)\n",
    "\n",
    "![](https://user-images.githubusercontent.com/63338657/189555880-454641d3-e408-41a2-92fe-541cf9362a1d.png)"
   ]
  },
  {
   "cell_type": "markdown",
   "id": "51872fc8",
   "metadata": {},
   "source": [
    "__MinPts and Eps: Density__"
   ]
  },
  {
   "cell_type": "markdown",
   "id": "2ac2d808",
   "metadata": {},
   "source": [
    "![](https://user-images.githubusercontent.com/63338657/189556246-4d0eb58f-4ab6-4a63-ad9c-038da8e9bd50.png)\n",
    "\n",
    "![](https://user-images.githubusercontent.com/63338657/189556380-05bbd38f-fb95-421a-b6f1-17359e9a4cb9.png)\n",
    "\n",
    "![](https://user-images.githubusercontent.com/63338657/189556812-35cb077a-8511-44e5-b909-3dce69a49d2c.png)"
   ]
  },
  {
   "cell_type": "markdown",
   "id": "82a1b3ac",
   "metadata": {},
   "source": [
    "__Core, Border and Noise points__"
   ]
  },
  {
   "cell_type": "markdown",
   "id": "57641680",
   "metadata": {},
   "source": [
    "![](https://user-images.githubusercontent.com/63338657/189557223-47368e52-ae55-4338-bf4a-5ff6b4cfa819.png)\n",
    "\n",
    "![](https://user-images.githubusercontent.com/63338657/189557364-c8ccb31e-3f23-4c60-9055-7204d7fd717e.png)\n",
    "\n",
    "![](https://user-images.githubusercontent.com/63338657/189557452-6864b060-bb19-453a-969f-330bda10e15a.png)\n",
    "\n",
    "![](https://user-images.githubusercontent.com/63338657/189557643-03dbc9ee-a0f9-452a-a9d4-294e707c6eaf.png)\n",
    "\n",
    "![](https://user-images.githubusercontent.com/63338657/189557817-7bbe5c0a-8246-417c-887d-482f4cf65525.png)"
   ]
  },
  {
   "cell_type": "markdown",
   "id": "1cb5fd9c",
   "metadata": {},
   "source": [
    "__Density Edge and Density Connected Points__"
   ]
  },
  {
   "cell_type": "markdown",
   "id": "f4f04b04",
   "metadata": {},
   "source": [
    "![](https://user-images.githubusercontent.com/63338657/189952041-6dc44628-5dc7-42bb-9292-0dbf65e9f3c7.png)\n",
    "\n",
    "![](https://user-images.githubusercontent.com/63338657/189952604-a0af505c-3a75-4572-8348-8b00f97e3038.png)\n",
    "\n",
    "![](https://user-images.githubusercontent.com/63338657/189953031-52198046-0b3a-407a-b7f7-589800219cdc.png)"
   ]
  },
  {
   "cell_type": "markdown",
   "id": "52cda1e3",
   "metadata": {},
   "source": [
    "__DBSCAN Algorithm__"
   ]
  },
  {
   "cell_type": "markdown",
   "id": "455433a3",
   "metadata": {},
   "source": [
    "![](https://user-images.githubusercontent.com/63338657/189954252-5f99f65b-7c2a-4599-ae93-aa0b36b5a8ff.png)\n",
    "\n",
    "![](https://user-images.githubusercontent.com/63338657/189956239-ded612cc-8d6d-4d25-87c1-8e240858bd79.png)\n",
    "\n",
    "![](https://user-images.githubusercontent.com/63338657/189955778-52b11998-0094-4308-8816-98ca431cfd18.png)"
   ]
  },
  {
   "cell_type": "markdown",
   "id": "8d7f237b",
   "metadata": {},
   "source": [
    "__Hyper Parameters: MinPts and EpsA__"
   ]
  },
  {
   "cell_type": "markdown",
   "id": "20089946",
   "metadata": {},
   "source": [
    "![](https://user-images.githubusercontent.com/63338657/190024010-fa3ea51c-6720-49bd-9578-745a7de0590f.png)\n",
    "\n",
    "![](https://user-images.githubusercontent.com/63338657/190024215-696e384d-7f6d-4909-9f71-e50dfdbd50f3.png)\n",
    "\n",
    "![](https://user-images.githubusercontent.com/63338657/190024422-ac4cd429-9874-4aa8-8ff2-447d82982141.png)\n",
    "\n",
    "![](https://user-images.githubusercontent.com/63338657/190024713-33fa211a-499c-42ab-808e-d7534b08bdef.png)\n",
    "\n",
    "![](https://user-images.githubusercontent.com/63338657/190025622-4a3da369-2ea0-49fa-8960-5322043335df.png)"
   ]
  },
  {
   "cell_type": "markdown",
   "id": "e060f689",
   "metadata": {},
   "source": [
    "__Advantages and Limitations of DBSCAN__"
   ]
  },
  {
   "cell_type": "markdown",
   "id": "4ab7b72a",
   "metadata": {},
   "source": [
    "![](https://user-images.githubusercontent.com/63338657/190026133-211c0791-3add-48b7-b9ab-4ad38e066b98.png)\n",
    "\n",
    "![](https://user-images.githubusercontent.com/63338657/190026336-09dae2c5-9c9a-4f19-918b-6c9ff922bd46.png)\n",
    "\n",
    "![](https://user-images.githubusercontent.com/63338657/190026562-2cedb9c3-4800-43b7-b97c-2debfab7a27c.png)\n",
    "\n",
    "![](https://user-images.githubusercontent.com/63338657/190026717-adae7414-63b4-4173-ab46-bef24e68e4df.png)\n",
    "\n",
    "![](https://user-images.githubusercontent.com/63338657/190027257-8f16d966-ca31-4763-831c-991ffd49872c.png)\n",
    "\n",
    "![](https://user-images.githubusercontent.com/63338657/190027024-5f015b3b-5a50-45e6-a166-fde9aafb7d06.png)\n",
    "\n",
    "![](https://user-images.githubusercontent.com/63338657/190027462-47681579-20df-4023-833e-95fdd7fa5002.png)\n",
    "\n",
    "![](https://user-images.githubusercontent.com/63338657/190027576-b2f669b9-fb61-4969-bc42-b9902ab9dc2e.png)\n",
    "\n",
    "![](https://user-images.githubusercontent.com/63338657/190027764-adfc4cb0-17e6-4220-b93c-1eece53f6409.png)"
   ]
  },
  {
   "cell_type": "markdown",
   "id": "f78dd726",
   "metadata": {},
   "source": [
    "__Time and Space Complexity__"
   ]
  },
  {
   "cell_type": "markdown",
   "id": "0c1c64de",
   "metadata": {},
   "source": [
    "![](https://user-images.githubusercontent.com/63338657/190028211-30855001-384a-41b2-bcf8-cd0bf932e442.png)\n",
    "\n",
    "Correction: At 1:54, we stated that DBSCAN is \"sensitive to noise\" which it is NOT. It works very well in the presence of noise."
   ]
  },
  {
   "cell_type": "code",
   "execution_count": null,
   "id": "753b85b5",
   "metadata": {},
   "outputs": [],
   "source": []
  }
 ],
 "metadata": {
  "kernelspec": {
   "display_name": "Python 3 (ipykernel)",
   "language": "python",
   "name": "python3"
  },
  "language_info": {
   "codemirror_mode": {
    "name": "ipython",
    "version": 3
   },
   "file_extension": ".py",
   "mimetype": "text/x-python",
   "name": "python",
   "nbconvert_exporter": "python",
   "pygments_lexer": "ipython3",
   "version": "3.10.6"
  }
 },
 "nbformat": 4,
 "nbformat_minor": 5
}
