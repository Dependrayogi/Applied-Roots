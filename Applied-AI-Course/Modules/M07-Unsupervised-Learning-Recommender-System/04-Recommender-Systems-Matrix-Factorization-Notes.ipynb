{
 "cells": [
  {
   "cell_type": "markdown",
   "id": "2b0b8f22",
   "metadata": {},
   "source": [
    "__Problem Formulation: Movie Reviews__"
   ]
  },
  {
   "cell_type": "markdown",
   "id": "638f9ab2",
   "metadata": {},
   "source": [
    "![](https://user-images.githubusercontent.com/63338657/190667022-58ab1f54-1e12-4c74-a812-cc147dc7cf7a.png)\n",
    "\n",
    "![](https://user-images.githubusercontent.com/63338657/190668459-3d3a4d54-d7fc-4c58-988c-472c371d6abb.png)\n",
    "\n",
    "![](https://user-images.githubusercontent.com/63338657/190668844-6a5b97db-c6c3-4521-83ea-a78c67f33a74.png)\n",
    "\n",
    "![](https://user-images.githubusercontent.com/63338657/190669340-fc0dae77-94ec-4009-b238-78766aa20762.png)\n",
    "\n",
    "Correction in the above image: sparsity = (# empty cells / # total cells).\n",
    "\n",
    "![](https://user-images.githubusercontent.com/63338657/190672882-7f9535c6-c4e7-4986-b7bf-f8b8ae8b51c3.png)\n",
    "\n",
    "![](https://user-images.githubusercontent.com/63338657/190670333-f0701643-15fb-42ee-8421-7cef718cc563.png)\n",
    "\n",
    "![](https://user-images.githubusercontent.com/63338657/190670741-8df868ec-0cf6-43ba-a823-f10a812a9880.png)\n",
    "\n",
    "![](https://user-images.githubusercontent.com/63338657/190671401-a8812c8d-defb-4b9d-a188-59bfc4531ad7.png)\n",
    "\n",
    "![](https://user-images.githubusercontent.com/63338657/190672117-4a42faf9-0dd5-4e04-bd3d-fd57737ba001.png)\n",
    "\n",
    "![](https://user-images.githubusercontent.com/63338657/190672593-54b03f5a-c57e-4078-beae-ef58a65da066.png)"
   ]
  },
  {
   "cell_type": "markdown",
   "id": "27f09981",
   "metadata": {},
   "source": [
    "__Content Based vs Collaborative Filtering__"
   ]
  },
  {
   "cell_type": "markdown",
   "id": "e3b55dac",
   "metadata": {},
   "source": [
    "![](https://user-images.githubusercontent.com/63338657/190673910-3787c4b6-f371-42c8-9da3-6e21a0254e2b.png)\n",
    "\n",
    "![](https://user-images.githubusercontent.com/63338657/190674526-1a31db0c-153b-435c-9b71-af46b9a72d14.png)\n",
    "\n",
    "We use $A_{ij}$ as $y_{i}$.\n",
    "\n",
    "![](https://user-images.githubusercontent.com/63338657/190674871-c1100466-3664-4269-a7e4-ca84d4ce5963.png)\n",
    "\n",
    "![](https://user-images.githubusercontent.com/63338657/190675235-e809ef0a-70e8-4ad9-976e-3dd8d316441e.png)\n",
    "\n",
    "![](https://user-images.githubusercontent.com/63338657/190675789-eab90358-fcde-4f82-a5ec-f1e54a03357b.png)"
   ]
  },
  {
   "cell_type": "markdown",
   "id": "7097a941",
   "metadata": {},
   "source": [
    "__Similarity based Algorithms__"
   ]
  },
  {
   "cell_type": "markdown",
   "id": "58933f42",
   "metadata": {},
   "source": [
    "![](https://user-images.githubusercontent.com/63338657/190831599-619da95b-3583-4e0a-b4e9-9290a67cc3b4.png)\n",
    "\n",
    "![](https://user-images.githubusercontent.com/63338657/190832086-3da255c9-da7b-48a0-ad31-9cac74805cf4.png)\n",
    "\n",
    "![](https://user-images.githubusercontent.com/63338657/190831933-58fdab66-55a4-41e9-8290-b8c22ef2b192.png)\n",
    "\n",
    "![](https://user-images.githubusercontent.com/63338657/190832154-a31f2ece-97df-420d-8735-9efb39dab53a.png)\n",
    "\n",
    "![](https://user-images.githubusercontent.com/63338657/190832336-6f7a24b6-5853-4ab7-89c5-cd83e2c41cc9.png)\n",
    "\n",
    "![](https://user-images.githubusercontent.com/63338657/190832450-e4fea261-b806-4452-9424-e91506c379a1.png)\n",
    "\n",
    "![](https://user-images.githubusercontent.com/63338657/190832569-fc662b16-ee31-4d08-b867-eba44a972f58.png)\n",
    "\n",
    "![](https://user-images.githubusercontent.com/63338657/190832772-6f1f9494-c81d-4521-a869-b46fa9c9026b.png)\n",
    "\n",
    "![](https://miro.medium.com/max/1920/1*QvhetbRjCr1vryTch_2HZQ.jpeg)\n",
    "\n",
    "![](https://user-images.githubusercontent.com/63338657/190833643-d9eec479-3eaa-4f54-a92c-be902e52d14c.png)\n",
    "\n",
    "![](https://user-images.githubusercontent.com/63338657/190833738-cdd5fdf8-5887-4e22-af6b-51bad2a594b3.png)"
   ]
  },
  {
   "cell_type": "markdown",
   "id": "ebfb2e2b",
   "metadata": {},
   "source": [
    "__Matrix Factorization: PCA, SVD__"
   ]
  },
  {
   "cell_type": "markdown",
   "id": "4f6c3b4f",
   "metadata": {},
   "source": [
    "![](https://user-images.githubusercontent.com/63338657/190834078-81a45022-edd7-4b0e-9e0c-aa1816d4763b.png)\n",
    "\n",
    "![](https://user-images.githubusercontent.com/63338657/190834175-3c832b6a-9335-4971-ae49-3261dfef4ee1.png)\n",
    "\n",
    "![](https://user-images.githubusercontent.com/63338657/190834213-52446e8e-18b8-4b20-ba69-68ee0fd8722a.png)\n",
    "\n",
    "![](https://user-images.githubusercontent.com/63338657/190834294-f1931196-2c53-4fe5-841f-d1ee254dcc77.png)\n",
    "\n",
    "![](https://user-images.githubusercontent.com/63338657/190834486-3707f30c-a9d8-4974-8686-6dbb4eccfad7.png)\n",
    "\n",
    "![](https://user-images.githubusercontent.com/63338657/190834555-a4e00cda-775f-4ac7-8d36-4396b0fa5034.png)\n",
    "\n",
    "![](https://user-images.githubusercontent.com/63338657/190834604-a1d39e30-ae0d-44fb-ab7c-740fe24e8bc7.png)\n",
    "\n",
    "![](https://user-images.githubusercontent.com/63338657/190834754-bee17473-6ae3-4abf-ae1a-a172554b0984.png)\n",
    "\n",
    "![](https://user-images.githubusercontent.com/63338657/190834812-d3b50d46-1256-4cb0-a614-eafa8b13f050.png)\n",
    "\n",
    "![](https://user-images.githubusercontent.com/63338657/190834888-b4f43d56-9dea-4bdf-8682-2a0fef763d69.png)\n",
    "\n",
    "Link: https://youtu.be/YPe5OP7Clv4\n",
    "\n",
    "Link: http://web.mit.edu/be.400/www/SVD/Singular_Value_Decomposition.htm"
   ]
  },
  {
   "cell_type": "markdown",
   "id": "58df17b7",
   "metadata": {},
   "source": [
    "__Matrix Factorization: NMF__"
   ]
  },
  {
   "cell_type": "markdown",
   "id": "278d28e9",
   "metadata": {},
   "source": [
    "![](https://user-images.githubusercontent.com/63338657/190841959-1103162c-2648-4e45-ad27-2dc9a97f1e7c.png)\n",
    "\n",
    "![](https://user-images.githubusercontent.com/63338657/190842007-c2f85f67-de36-441b-b58a-2ffd2375f12e.png)\n",
    "\n",
    "Link: https://soundcloud.com/applied-ai-course/nmf-why-non-negative\n",
    "\n",
    "![](https://user-images.githubusercontent.com/63338657/190845404-21741cca-5df1-479b-8c8b-fec45e6371e1.png)"
   ]
  },
  {
   "cell_type": "markdown",
   "id": "c7eee8f7",
   "metadata": {},
   "source": [
    "__Matrix Factorization for Collaborative Filtering__"
   ]
  },
  {
   "cell_type": "markdown",
   "id": "1dd97a4a",
   "metadata": {},
   "source": [
    "![](https://user-images.githubusercontent.com/63338657/190845792-c72ac4a2-4ff7-47e3-a535-85d76572e0ee.png)\n",
    "\n",
    "![](https://user-images.githubusercontent.com/63338657/190845909-44033b08-5823-4cd0-af41-6bf230d26905.png)\n",
    "\n",
    "Clarification: At 3:08 minutes, b_i is the ith-row of matrix B represented as a column vector and c_j is the jth-row of matrix C represented also as a column vector.\n",
    "\n",
    "![](https://user-images.githubusercontent.com/63338657/190846045-ae38bc0c-8165-4aec-92ae-c5fd50cc3ac8.png)\n",
    "\n",
    "![](https://user-images.githubusercontent.com/63338657/190846285-a7764e1c-3c81-4e2b-95ff-5fad0e3d5395.png)\n",
    "\n",
    "![](https://user-images.githubusercontent.com/63338657/190846333-197edccd-24fb-4b95-817d-5bd343d21657.png)\n",
    "\n",
    "![](https://user-images.githubusercontent.com/63338657/190846425-9d972ce1-a714-4a1e-bbc0-f4953fc09cc5.png)\n",
    "\n",
    "![](https://user-images.githubusercontent.com/63338657/190846500-b9238485-41c7-4d1f-8717-2861bdb89b62.png)\n",
    "\n",
    "![](https://user-images.githubusercontent.com/63338657/190846653-299e3cde-ed74-4972-bc38-f13102b68bc0.png)\n",
    "\n",
    "![](https://user-images.githubusercontent.com/63338657/190846863-bdf28a13-d31b-46ae-92aa-628fabfb7cd0.png)\n",
    "\n",
    "![](https://user-images.githubusercontent.com/63338657/190846927-405c30e2-12e8-4413-81c5-0f6695d4e922.png)\n",
    "\n",
    "![](https://user-images.githubusercontent.com/63338657/190846986-29750113-5ba9-4539-a38c-5dcfa36b3ed0.png)\n",
    "\n",
    "Link: https://youtu.be/biCWRHEul1s\n",
    "\n",
    "![](https://user-images.githubusercontent.com/63338657/190849740-3c19b206-a0a6-4ae7-85f1-f328c5ee29a5.png)"
   ]
  },
  {
   "cell_type": "markdown",
   "id": "482b4847",
   "metadata": {},
   "source": [
    "__Matrix Factorization for Feature Engineering__"
   ]
  },
  {
   "cell_type": "markdown",
   "id": "96e016c0",
   "metadata": {},
   "source": [
    "![](https://user-images.githubusercontent.com/63338657/190867453-3297ff32-cdb9-44c6-b71c-e10caf6b5674.png)\n",
    "\n",
    "![](https://user-images.githubusercontent.com/63338657/190867484-82925f0a-7497-4239-8b1e-1748becdbff7.png)\n",
    "\n",
    "![](https://user-images.githubusercontent.com/63338657/190867534-c44aded8-ed74-4405-a243-e22146378a34.png)\n",
    "\n",
    "![](https://user-images.githubusercontent.com/63338657/190867591-f09dfdb0-e9a1-4f4d-8b4e-4f22c12a3fd3.png)\n",
    "\n",
    "![](https://user-images.githubusercontent.com/63338657/190867711-231a7b5c-4857-4e52-8c7a-910c6fbbe49b.png)"
   ]
  },
  {
   "cell_type": "markdown",
   "id": "1b5a9971",
   "metadata": {},
   "source": [
    "__Clustering as MF__"
   ]
  },
  {
   "cell_type": "markdown",
   "id": "313c3d58",
   "metadata": {},
   "source": [
    "![](https://user-images.githubusercontent.com/63338657/190868234-9a7ae800-b007-49e3-b71c-50d69ed49b33.png)\n",
    "\n",
    "![](https://user-images.githubusercontent.com/63338657/190868348-d15df757-ef23-42ce-980f-7134602cc449.png)\n",
    "\n",
    "![](https://user-images.githubusercontent.com/63338657/190868537-e89f51f4-f6a9-4c39-a001-3a4d41249626.png)\n",
    "\n",
    "Typo @ 6:00 min: The second summation should be over \"j\" and not \"i\".\n",
    "\n",
    "![](https://user-images.githubusercontent.com/63338657/190868672-8955a8c2-7ef1-4360-b64b-f7cd73b902a3.png)\n",
    "\n",
    "![](https://user-images.githubusercontent.com/63338657/190868905-304488d7-9e14-4bcf-8409-797385b641bb.png)\n",
    "\n",
    "The second summation should be over \"j\" and not \"i\".\n",
    "\n",
    "![](https://user-images.githubusercontent.com/63338657/190869123-df54c48d-d914-4c02-bcf9-963b1891cd97.png)\n",
    "\n",
    "![](https://user-images.githubusercontent.com/63338657/190869280-59e1ea3c-ca26-48a3-941b-cb3e0b4a7c8d.png)\n",
    "\n",
    "Link: https://soundcloud.com/applied-ai-course/clusteirng-mf/s-tq9ae\n",
    "\n",
    "![](https://user-images.githubusercontent.com/63338657/190869639-a8a14cee-7450-4711-b9fa-e1560d58e10e.png)"
   ]
  },
  {
   "cell_type": "markdown",
   "id": "d52727d5",
   "metadata": {},
   "source": [
    "__Hyperparameter Tuning__\n",
    "\n",
    "![](https://user-images.githubusercontent.com/63338657/190890102-9da69b2b-1f8d-4090-9dca-867a0c61355c.png)\n",
    "\n",
    "![](https://user-images.githubusercontent.com/63338657/190890292-5bd5129d-ac8b-402c-a135-7a22d3265325.png)\n",
    "\n",
    "![](https://user-images.githubusercontent.com/63338657/190890370-4497c43a-9059-49d8-8def-e88157dd36c1.png)\n",
    "\n",
    "![](https://user-images.githubusercontent.com/63338657/190890536-29242f02-abb7-494f-8e05-92eb5398a7f2.png)\n",
    "\n"
   ]
  },
  {
   "cell_type": "markdown",
   "id": "1840989f",
   "metadata": {},
   "source": [
    "__Matrix Factorization for recommender systems: Netflix Prize Solution__"
   ]
  },
  {
   "cell_type": "markdown",
   "id": "d3948d62",
   "metadata": {},
   "source": [
    "![](https://user-images.githubusercontent.com/63338657/190890952-e079d64a-1ee0-498c-8f1a-a5be2d8008e1.png)\n",
    "\n",
    "![](https://user-images.githubusercontent.com/63338657/190891082-524ab3cc-3fd3-495e-993d-19872bad771c.png)\n",
    "\n",
    "![](https://user-images.githubusercontent.com/63338657/190891432-a33e2896-7a91-4eb2-ad61-959bd8c84eca.png)\n",
    "\n",
    "![](https://user-images.githubusercontent.com/63338657/190891480-0ac5590b-c795-497a-b2da-db8425eb2f9e.png)\n",
    "\n",
    "![](https://user-images.githubusercontent.com/63338657/190891704-1d35572d-5c97-46a0-82a5-a862cdd12148.png)\n",
    "\n",
    "Link: https://datajobs.com/data-science-repo/Recommender-Systems-[Netflix].pdf"
   ]
  },
  {
   "cell_type": "markdown",
   "id": "d5a9256d",
   "metadata": {},
   "source": [
    "__Cold Start Problem__"
   ]
  },
  {
   "cell_type": "markdown",
   "id": "19d49be4",
   "metadata": {},
   "source": [
    "![](https://user-images.githubusercontent.com/63338657/190895144-b15b5f35-0cc3-417d-accf-a9faff4b1c0e.png)\n",
    "\n",
    "![](https://user-images.githubusercontent.com/63338657/190895214-78681ba0-139b-40e7-b1d6-f86494fad64b.png)\n",
    "\n",
    "![](https://user-images.githubusercontent.com/63338657/190895312-7d2f0a52-ad87-4554-aea2-6dc9656f21cb.png)\n",
    "\n",
    "Link: https://youtu.be/hx1ycGVeeD0"
   ]
  },
  {
   "cell_type": "markdown",
   "id": "627311ee",
   "metadata": {},
   "source": [
    "__Word Vectors as MF__"
   ]
  },
  {
   "cell_type": "markdown",
   "id": "ade818ae",
   "metadata": {},
   "source": [
    "![](https://user-images.githubusercontent.com/63338657/190895919-487dabad-b78f-4af1-96f8-81f9c6b4147a.png)\n",
    "\n",
    "![](https://user-images.githubusercontent.com/63338657/190896098-4b0cfa7b-f47e-4271-9323-f324dbbb4516.png)\n",
    "\n",
    "![](https://user-images.githubusercontent.com/63338657/190896178-2e7632bc-0916-496c-9d99-7831f4c5fdea.png)\n",
    "\n",
    "![](https://user-images.githubusercontent.com/63338657/190896286-ba522a86-93d2-4f2d-9841-17d71063a75f.png)\n",
    "\n",
    "![](https://user-images.githubusercontent.com/63338657/190896433-451ed94d-e298-476b-95cb-10367957e706.png)\n",
    "\n",
    "![](https://user-images.githubusercontent.com/63338657/190896496-eeed7284-131b-4d45-a76a-f6d3cabb3b70.png)\n",
    "\n",
    "![](https://user-images.githubusercontent.com/63338657/190896569-63459216-8a74-4bd1-bf5b-800265af35cc.png)\n",
    "\n",
    "![](https://user-images.githubusercontent.com/63338657/190896661-85956673-cbc7-4251-a58d-a2f98da40923.png)\n",
    "\n",
    "![](https://user-images.githubusercontent.com/63338657/190896749-69287873-c504-4046-a0b2-a5fc8648b1d9.png)\n",
    "\n",
    "Link: https://soundcloud.com/applied-ai-course/value-of-k-in-mf-1\n",
    "\n",
    "Link: https://soundcloud.com/applied-ai-course/value-of-k-in-mf-2"
   ]
  },
  {
   "cell_type": "markdown",
   "id": "e3315385",
   "metadata": {},
   "source": [
    "__Eigen-Faces__"
   ]
  },
  {
   "cell_type": "markdown",
   "id": "83597015",
   "metadata": {},
   "source": [
    "![](https://user-images.githubusercontent.com/63338657/190913637-7d358ff4-e767-4a51-8b75-ad3db9c602cc.png)\n",
    "\n",
    "![](https://user-images.githubusercontent.com/63338657/190914125-867bf56b-6613-47c2-ac30-f4110aea493e.png)\n",
    "\n",
    "![](https://user-images.githubusercontent.com/63338657/190914176-dfc5a849-f84a-4511-b217-b8a383b49380.png)\n",
    "\n",
    "![](https://user-images.githubusercontent.com/63338657/190914291-8b573503-3e6d-4cac-b521-ac4b05e8accb.png)\n",
    "\n",
    "![](https://user-images.githubusercontent.com/63338657/190914429-6421ad5b-bf7d-43b3-88f2-4f305060dac4.png)\n",
    "\n",
    "![](https://user-images.githubusercontent.com/63338657/190914703-17535a5d-26f4-4041-b887-eec54a300a80.png)\n",
    "\n",
    "![](https://user-images.githubusercontent.com/63338657/190914776-f007dc86-8fa2-4ba5-bcb4-825e89981e0c.png)\n",
    "\n",
    "![](https://user-images.githubusercontent.com/63338657/190914804-52b1e79a-4194-470e-8d45-d243d6d180b6.png)"
   ]
  },
  {
   "cell_type": "markdown",
   "id": "25a68eaa",
   "metadata": {},
   "source": [
    "__Frobenius norm of X__\n",
    "\n",
    "![](https://user-images.githubusercontent.com/63338657/190915152-71b123f6-cf80-47f7-bec9-f66d36ecdb14.png)"
   ]
  },
  {
   "cell_type": "code",
   "execution_count": null,
   "id": "51746cbd",
   "metadata": {},
   "outputs": [],
   "source": []
  }
 ],
 "metadata": {
  "kernelspec": {
   "display_name": "Python 3 (ipykernel)",
   "language": "python",
   "name": "python3"
  },
  "language_info": {
   "codemirror_mode": {
    "name": "ipython",
    "version": 3
   },
   "file_extension": ".py",
   "mimetype": "text/x-python",
   "name": "python",
   "nbconvert_exporter": "python",
   "pygments_lexer": "ipython3",
   "version": "3.10.6"
  }
 },
 "nbformat": 4,
 "nbformat_minor": 5
}
