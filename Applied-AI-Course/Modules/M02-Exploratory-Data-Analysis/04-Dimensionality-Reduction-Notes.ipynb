{
 "cells": [
  {
   "cell_type": "markdown",
   "id": "8d71a978",
   "metadata": {},
   "source": [
    "__Definition__\n",
    "\n",
    "Dimensionality reduction, or dimension reduction, is the transformation of data from a high-dimensional space into a low-dimensional space so that the low-dimensional representation retains some meaningful properties of the original data, ideally close to its intrinsic dimension.\n",
    "\n",
    "- 2D & 3D → Scatter Plot and other related plots\n",
    "- 4D, 5D, & 6D → Pair Plots\n",
    "- nD → Dimensionality Reduction\n",
    "    - PCA (Principal Component Analysis)\n",
    "    - t-SNE (t-distributed Stochastic Neighborhood Embedding)\n",
    "\n",
    "Only independent features/attributes/columns are dimensions.\n",
    "\n",
    "Higher dimensional data is the data with huge number of features. For example, if we have 1000 features in our dataset and we want to reduce it to 10 features, then we have to go for dimensionality reduction techniques like PCA or t-SNE."
   ]
  },
  {
   "cell_type": "markdown",
   "id": "7467ec36",
   "metadata": {},
   "source": [
    "---"
   ]
  },
  {
   "cell_type": "markdown",
   "id": "6a06af63",
   "metadata": {},
   "source": [
    "__Row and Column Vectors__\n",
    "\n",
    "![](https://user-images.githubusercontent.com/63338657/158421615-44669a71-3582-4fb6-a8a1-fc3834c2a373.png)"
   ]
  },
  {
   "cell_type": "markdown",
   "id": "fcadf224",
   "metadata": {},
   "source": [
    "__How to represent a data set?__\n",
    "\n",
    "![](https://user-images.githubusercontent.com/63338657/158427554-99480cdb-f01d-4ad8-bbb4-be226f0c4eb7.png)\n",
    "\n",
    "![](https://user-images.githubusercontent.com/63338657/158429500-6dd3b6a1-5847-4dbe-b292-a48e9e4321f0.png)\n",
    "\n",
    "The matrix itself is a 2D array. But we are representing multi-dimensional features/variables in a matrix which is two dimensional for operational purpose."
   ]
  },
  {
   "cell_type": "markdown",
   "id": "9235f4a6",
   "metadata": {},
   "source": [
    "---"
   ]
  },
  {
   "cell_type": "markdown",
   "id": "a823ab8d",
   "metadata": {},
   "source": [
    "__Data Preprocessing__\n",
    "\n",
    "Applying mathematical transformations on the data before building any model that can fit the data.\n",
    "\n",
    "![](https://assets-global.website-files.com/5d7b77b063a9066d83e1209c/613749410d056eb67ec4b11f_model-building.png)\n",
    "\n",
    "Column Normalization\n",
    "\n",
    "- For each column/feature (col) and find $\\text{col}_\\text{min}$ and $\\text{col}_\\text{max}$.\n",
    "- Compute\n",
    "$$\\text{col}_{i}^{'} = \\frac{\\text{col}_{i} - \\text{col}_\\text{min}}{\\text{col}_\\text{max} - \\text{col}_\\text{min}}$$\n",
    "- $\\text{col}_{i}^{'} \\in \\left[0, 1\\right]$\n",
    "- This helps to get rid off scale measurement.\n",
    "- Squishes the data into one unit measurement.\n",
    "\n",
    "![](https://camo.githubusercontent.com/6c430259338f662fa68e743f04164c9a0d6c015d323dbb98e469799db74b2de4/68747470733a2f2f757365722d696d616765732e67697468756275736572636f6e74656e742e636f6d2f36333333333735332f3131333237393536322d65316136376530302d393330302d313165622d386664362d3438363638343038376564312e706e67)\n",
    "\n",
    "Column Standardization\n",
    "\n",
    "- For each column/feature (col) and find $\\mu_{\\text{col}}$ and $\\sigma_{\\text{col}}$.\n",
    "- Compute\n",
    "$$\\text{col}_z = \\frac{\\text{col}_{i} - \\mu_{\\text{col}}}{\\sigma_{\\text{col}}}$$\n",
    "- The mean of $\\text{col}_z$ is $0$ and standard deviation of $\\text{col}_z$ is $1$.\n",
    "\n",
    "![](https://camo.githubusercontent.com/0f716b7c56160c51cef0652f490633f0ef617178609763ad8943d494ca49f9cf/68747470733a2f2f757365722d696d616765732e67697468756275736572636f6e74656e742e636f6d2f36333333333735332f3131333237393334322d39373235303138302d393330302d313165622d383364332d3062336436376436316366302e706e67)\n",
    "\n",
    "Normalization: Data normalization is the process of rescaling one or more features to the range of 0 to 1. This means that the largest value for each feature is 1 and the smallest value is 0. Normalization is a good technique to use when you do not know the distribution of your data or when you know the distribution is not Gaussian (a bell curve). Normalization is useful when your data has varying scales and the algorithm you are using does not make assumptions about the distribution of your data.\n",
    "\n",
    "Standardization: Data standardization is the process of rescaling one or more features so that they have a mean value of 0 and a standard deviation of 1. Standardization assumes that your data has a Gaussian (bell curve) distribution. This does not strictly have to be true, but the technique is more effective if your feature distribution is Gaussian. "
   ]
  },
  {
   "cell_type": "markdown",
   "id": "883ec917",
   "metadata": {},
   "source": [
    "---"
   ]
  },
  {
   "cell_type": "markdown",
   "id": "08c53e28",
   "metadata": {},
   "source": [
    "__Co-Variance of a Data Matrix__\n",
    "\n",
    "In probability theory and statistics, a covariance matrix (also known as auto-covariance matrix, dispersion matrix, variance matrix, or variance–covariance matrix) is a square matrix giving the covariance between each pair of elements of a given data matrix. Any covariance matrix is symmetric and positive semi-definite and its main diagonal contains variances (i.e., the covariance of each element with itself).\n",
    "\n",
    "![](https://user-images.githubusercontent.com/63338657/159112982-0b751035-cecb-4e8e-89ab-dc0fa7a805da.png)"
   ]
  },
  {
   "cell_type": "markdown",
   "id": "7fc43315",
   "metadata": {},
   "source": [
    "---"
   ]
  },
  {
   "cell_type": "markdown",
   "id": "40c68b67",
   "metadata": {},
   "source": [
    "Useful link: http://colah.github.io/posts/2014-10-Visualizing-MNIST/"
   ]
  },
  {
   "cell_type": "code",
   "execution_count": null,
   "id": "a7b60ffa",
   "metadata": {},
   "outputs": [],
   "source": []
  }
 ],
 "metadata": {
  "kernelspec": {
   "display_name": "Python 3 (ipykernel)",
   "language": "python",
   "name": "python3"
  },
  "language_info": {
   "codemirror_mode": {
    "name": "ipython",
    "version": 3
   },
   "file_extension": ".py",
   "mimetype": "text/x-python",
   "name": "python",
   "nbconvert_exporter": "python",
   "pygments_lexer": "ipython3",
   "version": "3.10.2"
  }
 },
 "nbformat": 4,
 "nbformat_minor": 5
}
