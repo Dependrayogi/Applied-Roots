{
 "cells": [
  {
   "cell_type": "markdown",
   "id": "876b5be8",
   "metadata": {},
   "source": [
    "__Point__\n",
    "\n",
    "- 2-Dim - $(x_1, x_2)$ for example $(2, 3)$. Here, $2$ is a $x_1$ component and $3$ is a $x_2$ component.\n",
    "- 3-Dim - $(x_1, x_2, x_3)$ for example $(2, 3, 4)$.\n",
    "- N-Dim - $(x_1, x_2, x_3, \\dots, x_n)$."
   ]
  },
  {
   "cell_type": "markdown",
   "id": "48a4fa0e",
   "metadata": {},
   "source": [
    "---"
   ]
  },
  {
   "cell_type": "markdown",
   "id": "9683e1b2",
   "metadata": {},
   "source": [
    "__Distance between Origin $O$ and a Point $P$__\n",
    "\n",
    "- 2-Dim - $\\overline{OP} = \\sqrt{a_1^2 + a_2^2}$ if $O$ is $(0, 0)$ and $P$ is $(a_1, a_2)$.\n",
    "- 3-Dim - $\\overline{OP} = \\sqrt{a_1^2 + a_2^2 + a_3^2}$ if $O$ is $(0, 0, 0)$ and $P$ is $(a_1, a_2, a_3)$.\n",
    "- N-Dim - $\\overline{OP} = \\sqrt{a_1^2 + a_2^2 + \\dots + a_n^2}$ if $O$ is $(0, 0, \\dots, 0)$ and $P$ is $(a_1, a_2, \\dots, a_n)$."
   ]
  },
  {
   "cell_type": "markdown",
   "id": "134cbb02",
   "metadata": {},
   "source": [
    "---"
   ]
  },
  {
   "cell_type": "markdown",
   "id": "ebdc6f6c",
   "metadata": {},
   "source": [
    "__Distance between a Point $P$ and an another Point $Q$__\n",
    "\n",
    "![](https://www.chilimath.com/wp-content/uploads/2017/02/der4.png)\n",
    "\n",
    "- 2-Dim - $\\overline{PQ} = \\sqrt{(b_1-a_1)^2 + (b_2-a_2)^2}$ if $P$ is $(a_1, a_2)$ and $Q$ is $(b_1, b_2)$.\n",
    "- 3-Dim - $\\overline{PQ} = \\sqrt{(b_1-a_1)^2 + (b_2-a_2)^2 + (b_3-a_3)^2}$ if $P$ is $(a_1, a_2, a_3)$ and $Q$ is $(b_1, b_2, b_3)$.\n",
    "- N-Dim - $\\overline{PQ} = \\sqrt{\\sum_{i=1}^{n}(b_i-a_i)^2}$ if $P$ is $(a_1, a_2, \\dots, a_n)$ and $Q$ is $(b_1, b_2, \\dots, b_n)$."
   ]
  },
  {
   "cell_type": "markdown",
   "id": "0348e536",
   "metadata": {},
   "source": [
    "---"
   ]
  },
  {
   "cell_type": "markdown",
   "id": "63537c15",
   "metadata": {},
   "source": [
    "__Row Vector__\n",
    "\n",
    "A vector with $1$ row and $n$ columns.\n",
    "\n",
    "$$A_{1 \\times n} = \n",
    "    \\begin{bmatrix}\n",
    "        a_1 & a_2 & \\cdots & a_n\n",
    "    \\end{bmatrix}$$"
   ]
  },
  {
   "cell_type": "markdown",
   "id": "9a7a79b9",
   "metadata": {},
   "source": [
    "---"
   ]
  },
  {
   "cell_type": "markdown",
   "id": "78bd1afb",
   "metadata": {},
   "source": [
    "__Column Vector__\n",
    "\n",
    "A vector with $1$ column and $n$ rows.\n",
    "\n",
    "$$A_{n \\times 1} =\n",
    "   \\begin{bmatrix}\n",
    "        a_1 \\\\\n",
    "        a_2 \\\\\n",
    "        \\vdots \\\\\n",
    "        a_n\n",
    "   \\end{bmatrix}$$"
   ]
  },
  {
   "cell_type": "markdown",
   "id": "8129c923",
   "metadata": {},
   "source": [
    "---"
   ]
  },
  {
   "cell_type": "markdown",
   "id": "939bbb4a",
   "metadata": {},
   "source": [
    "__Vector Addition__\n",
    "\n",
    "$A = \n",
    "    \\begin{bmatrix}\n",
    "        a_1 & a_2 & \\cdots & a_n\n",
    "    \\end{bmatrix}$\n",
    "\n",
    "$B = \n",
    "    \\begin{bmatrix}\n",
    "        b_1 & b_2 & \\cdots & b_n\n",
    "    \\end{bmatrix}$\n",
    "\n",
    "$A + B = \n",
    "    \\begin{bmatrix}\n",
    "        a_1+b_1 & a_2+b_2 & \\cdots & a_n+b_n\n",
    "    \\end{bmatrix}$"
   ]
  },
  {
   "cell_type": "markdown",
   "id": "2b48b39e",
   "metadata": {},
   "source": [
    "---"
   ]
  },
  {
   "cell_type": "markdown",
   "id": "dd660d30",
   "metadata": {},
   "source": [
    "__Dot Product / Scalar Product__\n",
    "\n",
    "The default representation of a vector is a column vector.\n",
    "\n",
    "$A =\n",
    "   \\begin{bmatrix}\n",
    "        a_1 \\\\\n",
    "        a_2 \\\\\n",
    "        \\vdots \\\\\n",
    "        a_n\n",
    "   \\end{bmatrix}$\n",
    "\n",
    "$A^T = \n",
    "    \\begin{bmatrix}\n",
    "        a_1 & a_2 & \\cdots & a_n\n",
    "    \\end{bmatrix}$\n",
    "\n",
    "$B =\n",
    "   \\begin{bmatrix}\n",
    "        b_1 \\\\\n",
    "        b_2 \\\\\n",
    "        \\vdots \\\\\n",
    "        b_n\n",
    "   \\end{bmatrix}$\n",
    "   \n",
    "$$A.B = A^T.B =\n",
    "    \\begin{bmatrix}\n",
    "        a_1 & a_2 & \\cdots & a_n\n",
    "    \\end{bmatrix}\n",
    "    \\begin{bmatrix}\n",
    "        b_1 \\\\\n",
    "        b_2 \\\\\n",
    "        \\vdots \\\\\n",
    "        b_n\n",
    "   \\end{bmatrix} =\n",
    "   a_1b_1 + a_2b_2 + \\dots + a_nb_n = \\sum_{i=0}^{n}a_ib_i$$\n",
    "\n",
    "Geometric perspective\n",
    "\n",
    "- Length of a vector $A$ is distance from Origin $O$ to vector $A$. It is represented as $\\lVert A \\rVert = \\sqrt{a_1^2 + a_2^2 + \\dots + a_n^2}$.\n",
    "- Length of a vector $B$ is distance from Origin $O$ to vector $B$. It is represented as $\\lVert B \\rVert = \\sqrt{b_1^2 + b_2^2 + \\dots + b_n^2}$.\n",
    "\n",
    "$$A.B = \\lVert A \\rVert \\lVert B \\rVert \\cos{\\theta}$$\n",
    "\n",
    "$$\n",
    "\\cos{\\theta} = \\frac{A.B}{\\lVert A \\rVert \\lVert B \\rVert} = \\frac{a_1b_1 + a_2b_2 + \\dots + a_nb_n}{\\lVert A \\rVert \\lVert B \\rVert} = \\frac{\\sum_{i=0}^{n}a_ib_i}{\\lVert A \\rVert \\lVert B \\rVert}\n",
    "$$\n",
    "\n",
    "$$\\theta = \\cos^{-1}\\left[\\frac{a_1b_1 + a_2b_2 + \\dots + a_nb_n}{\\lVert A \\rVert \\lVert B \\rVert}\\right] = \\cos^{-1}\\left[\\frac{\\sum_{i=0}^{n}a_ib_i}{\\lVert A \\rVert \\lVert B \\rVert}\\right]$$\n",
    "\n",
    "If dot product of two vectors $A.B$ is $0$ then those two vectors are perpendicular or orthogonal $\\left( \\theta = \\frac{\\pi}{2} \\Rightarrow \\cos\\left(\\frac{\\pi}{2}\\right) = 0 \\right)$ to each other.\n",
    "\n",
    "$$A.B = \\lVert A \\rVert \\lVert B \\rVert \\cos{\\left(\\frac{\\pi}{2}\\right)} = 0$$\n",
    "\n",
    "Dotting a vector $A$ with itself gives square of its length, $\\lVert A \\rVert ^ 2$.\n",
    "\n",
    "$$A.A = a_1^2 + a_2^2 + \\dots + a_n^2 = \\left(\\sqrt{a_1^2 + a_2^2 + \\dots + a_n^2}\\right)^2 = \\lVert A \\rVert^2$$"
   ]
  },
  {
   "cell_type": "markdown",
   "id": "19b42906",
   "metadata": {},
   "source": [
    "---"
   ]
  },
  {
   "cell_type": "markdown",
   "id": "0c7cc8e9",
   "metadata": {},
   "source": [
    "__Projection of a Vector__\n",
    "\n",
    "Link: https://youtu.be/27vT-NWuw0M\n",
    "\n",
    "The vector projection of a vector $A$ on (or onto) a nonzero vector $B$ (also known as the vector component or vector resolution of $A$ in the direction of $B$), is the orthogonal projection of $A$ onto a straight line parallel to $B$. It is a vector parallel to $B$, defined as:\n",
    "\n",
    "$A_1 = d \\hat{B}$ (scaling the unit vector $\\hat{B}$)\n",
    "\n",
    "where $d$ is a scalar, called the scalar projection of $A$ onto $B$, and $\\hat{B}$ is the unit vector in the direction of $B$.\n",
    "\n",
    "In turn, the scalar projection is defined as:\n",
    "\n",
    "$d = \\lVert A \\rVert \\cos{\\theta} = A.\\hat{B}$ (where $\\hat{B} = \\frac{B}{\\lVert B \\rVert}$ and $\\lVert \\hat{B} \\rVert = 1$ because $\\hat{B}$ is a unit vector)\n",
    "\n",
    "which finally gives:\n",
    "\n",
    "$$\n",
    "A_1 = d \\hat{B} = (A.\\hat{B})\\hat{B} = \\frac{A.B}{\\lVert B \\rVert}\\frac{B}{\\lVert B \\rVert} = \\frac{A.B}{\\lVert B \\rVert ^ 2}B = \\frac{A.B}{B.B} B\n",
    "$$\n",
    "\n",
    "here $\\frac{A.B}{B.B}$ is a scalar, because dot product always returns a scalar.\n",
    "\n",
    "![](https://upload.wikimedia.org/wikipedia/commons/thumb/9/98/Projection_and_rejection.png/300px-Projection_and_rejection.png)\n",
    "\n",
    "Projection of $A$ on $B$ $(A_1)$, and rejection of $A$ from $B$ $(A_2)$.\n",
    "\n",
    "![](https://upload.wikimedia.org/wikipedia/commons/thumb/f/f7/Projection_and_rejection_2.png/372px-Projection_and_rejection_2.png)\n",
    "\n",
    "When $90^{\\circ} < \\theta \\le 180^{\\circ}$, $A_1$ has an opposite direction with respect to $B$."
   ]
  },
  {
   "cell_type": "markdown",
   "id": "21a8e2b2",
   "metadata": {},
   "source": [
    "---"
   ]
  },
  {
   "cell_type": "markdown",
   "id": "01bf0b9d",
   "metadata": {},
   "source": [
    "__Unit Vector__\n",
    "\n",
    "![](https://www.onlinemathlearning.com/image-files/unit-vector.png)\n",
    "\n",
    "The reason we divide the vector $v$ by its magnitude (or length) $\\lVert v \\rVert$ is because, we need to scale down the vector $v$ so that in the end we obtain a vector $u$ whose magnitude will be $1$.\n",
    "\n",
    "Geometric representation\n",
    "\n",
    "![](https://ximera.osu.edu/la/LinearAlgebra/VEC-M-0035/main-figure1.svg)"
   ]
  },
  {
   "cell_type": "markdown",
   "id": "590bef8a",
   "metadata": {},
   "source": [
    "---"
   ]
  },
  {
   "cell_type": "markdown",
   "id": "75d18874",
   "metadata": {},
   "source": [
    "__Line, Plane, Hyperplane__\n",
    "\n",
    "Line separates 2-Dim region into two parts.\n",
    "\n",
    "Plane separates 3-Dim region into two parts.\n",
    "\n",
    "Hyperplane separates N-Dim region into two parts.\n",
    "\n",
    "![](https://upload.wikimedia.org/wikipedia/commons/thumb/8/86/FuncionLineal01.svg/435px-FuncionLineal01.svg.png)\n",
    "\n",
    "The red and blue lines on this graph have the same slope (gradient); the red and green lines have the same y-intercept (cross the y-axis at the same place).\n",
    "\n",
    "If we have $X_1, X_2, \\dots, X_n$ axes, then the equation of hyperplane is: $w_0 + w_1x_1 + w_2x_2 + \\dots + w_nx_n = 0$. This is a hyperplane in N dimensions.\n",
    "\n",
    "2-Dim: Line: $w_0 + w_1x_1 + w_2x_2 = 0$\n",
    "\n",
    "3-Dim: Plane: $w_0 + w_1x_1 + w_2x_2 + w_3x_3 = 0$\n",
    "\n",
    "N-Dim: HyperPlane: \n",
    "$$\n",
    "\\begin{align*}\n",
    "\\Rightarrow w_0 + w_1x_1 + w_2x_2 + \\dots + w_nx_n & = 0 \\\\\n",
    "\\Rightarrow w_0 + \\sum_{i=1}^{n}w_ix_i & = 0 \\\\\n",
    "\\Rightarrow \n",
    "w_0 + \n",
    "\\begin{bmatrix}\n",
    "    w_1 & w_2 & \\cdots & w_n\n",
    "\\end{bmatrix}\n",
    "\\begin{bmatrix}\n",
    "    x_1 \\\\\n",
    "    x_2 \\\\\n",
    "    \\vdots \\\\\n",
    "    x_n\n",
    "\\end{bmatrix} & = 0 \\\\\n",
    "\\Rightarrow w_0 + W^TX & = 0\n",
    "\\end{align*}$$\n",
    "\n",
    "where $W = \\begin{bmatrix}\n",
    "    w_1 \\\\\n",
    "    w_2 \\\\\n",
    "    \\vdots \\\\\n",
    "    w_n\n",
    "\\end{bmatrix}$ and $X = \\begin{bmatrix}\n",
    "    x_1 \\\\\n",
    "    x_2 \\\\\n",
    "    \\vdots \\\\\n",
    "    x_n\n",
    "\\end{bmatrix}$ both are column vectors and $w_0$ is an intercept term.\n",
    "\n",
    "If the hyperplane is passing through the origin $O$, then the intercept term $w_0$ will be $0$, so we have:\n",
    "\n",
    "2-Dim: Line: $w_1x_1 + w_2x_2 = 0$\n",
    "\n",
    "3-Dim: Plane: $w_1x_1 + w_2x_2 + w_3x_3 = 0$\n",
    "\n",
    "N-Dim: HyperPlane: \n",
    "$$\n",
    "\\begin{align*}\n",
    "\\Rightarrow w_1x_1 + w_2x_2 + \\dots + w_nx_n & = 0 \\\\\n",
    "\\Rightarrow \\sum_{i=1}^{n}w_ix_i & = 0 \\\\\n",
    "\\Rightarrow \n",
    "\\begin{bmatrix}\n",
    "    w_1 & w_2 & \\cdots & w_n\n",
    "\\end{bmatrix}\n",
    "\\begin{bmatrix}\n",
    "    x_1 \\\\\n",
    "    x_2 \\\\\n",
    "    \\vdots \\\\\n",
    "    x_n\n",
    "\\end{bmatrix} & = 0 \\\\\n",
    "\\Rightarrow W^TX & = 0\n",
    "\\end{align*}$$\n",
    "\n",
    "where $W = \\begin{bmatrix}\n",
    "    w_1 \\\\\n",
    "    w_2 \\\\\n",
    "    \\vdots \\\\\n",
    "    w_n\n",
    "\\end{bmatrix}$ and $X = \\begin{bmatrix}\n",
    "    x_1 \\\\\n",
    "    x_2 \\\\\n",
    "    \\vdots \\\\\n",
    "    x_n\n",
    "\\end{bmatrix}$ both are column vectors.\n",
    "\n",
    "Let's take the same idea into the vector representation.\n",
    "\n",
    "We have two vectors, $W = \\begin{bmatrix}\n",
    "    w_1 \\\\\n",
    "    w_2 \\\\\n",
    "    \\vdots \\\\\n",
    "    w_n\n",
    "\\end{bmatrix}$ and $X = \\begin{bmatrix}\n",
    "    x_1 \\\\\n",
    "    x_2 \\\\\n",
    "    \\vdots \\\\\n",
    "    x_n\n",
    "\\end{bmatrix}$, passing through the origin $O$.\n",
    "\n",
    "Dotting these two vectors, we get:\n",
    "\n",
    "$$\n",
    "W.X = W^TX = \\lVert W \\rVert \\lVert X \\rVert \\cos{\\theta} \\Rightarrow \\theta = \\frac{\\pi}{2}\n",
    "$$\n",
    "\n",
    "which means $W$ and $X$ are orthogonal to each other."
   ]
  },
  {
   "cell_type": "markdown",
   "id": "adc37770",
   "metadata": {},
   "source": [
    "---"
   ]
  },
  {
   "cell_type": "markdown",
   "id": "7c49bbdf",
   "metadata": {},
   "source": [
    "Distance between a Point $P$ and Plane\n",
    "\n",
    "![](https://user-images.githubusercontent.com/63338657/153720482-8a8a5a67-92ad-44d6-9119-2db99d365fd0.png)\n",
    "\n",
    "If $W$ and $P$ lie on the same side of hyperplane, then the distance between them will be positive, else the distance will be negative. Since distance is always non-negative, we take the absolute value of it."
   ]
  },
  {
   "cell_type": "markdown",
   "id": "cc97acba",
   "metadata": {},
   "source": [
    "---"
   ]
  },
  {
   "cell_type": "markdown",
   "id": "9624556e",
   "metadata": {},
   "source": [
    "__Circle, Hypersphere__\n",
    "\n",
    "![](https://www.onlinemathlearning.com/image-files/equation-circle.png)\n",
    "\n",
    "Equation of a circle centered at origin $O$ with a radius $r$ and the axes $X_1, X_2, \\dots, X_n$,\n",
    "$$\n",
    "\\begin{align*}\n",
    "    \\Rightarrow x_1^2 + x_2^2 + \\dots + x_n^2 & = r^2 \\\\\n",
    "    \\Rightarrow \\sum_{i=1}^{n}x_i^2 = r^2\n",
    "\\end{align*}\n",
    "$$\n",
    "\n",
    "this is mathematically called as a hypersphere (not circle).\n",
    "\n",
    "Let's say there is a point $P$ whose components are $(x_1, x_2, \\dots, x_n)$ then,\n",
    "\n",
    "- If $\\overline{OP} \\Rightarrow \\sqrt{x_1^2 + x_2^2 + \\dots + x_n^2} < r$ then $P$ is inside the hypersphere.\n",
    "- If $\\overline{OP} \\Rightarrow \\sqrt{x_1^2 + x_2^2 + \\dots + x_n^2} = r$ then $P$ is on the hypersphere.\n",
    "- If $\\overline{OP} \\Rightarrow \\sqrt{x_1^2 + x_2^2 + \\dots + x_n^2} > r$ then $P$ is outside the hypersphere.\n",
    "\n",
    "here, $\\overline{OP}$ is the distance between center of the hypersphere (origin $O$) and a point $P$."
   ]
  },
  {
   "cell_type": "markdown",
   "id": "d7c7f185",
   "metadata": {},
   "source": [
    "---"
   ]
  },
  {
   "cell_type": "markdown",
   "id": "939e14b0",
   "metadata": {},
   "source": [
    "__Half Space__\n",
    "\n",
    "![](https://upload.wikimedia.org/wikipedia/commons/6/65/Half_Space.svg)\n",
    "\n",
    "When a hyperplane divides the entire space into two regions, each part of it is called half space."
   ]
  },
  {
   "cell_type": "code",
   "execution_count": null,
   "id": "2cc591b7",
   "metadata": {},
   "outputs": [],
   "source": []
  }
 ],
 "metadata": {
  "kernelspec": {
   "display_name": "Python 3 (ipykernel)",
   "language": "python",
   "name": "python3"
  },
  "language_info": {
   "codemirror_mode": {
    "name": "ipython",
    "version": 3
   },
   "file_extension": ".py",
   "mimetype": "text/x-python",
   "name": "python",
   "nbconvert_exporter": "python",
   "pygments_lexer": "ipython3",
   "version": "3.10.2"
  }
 },
 "nbformat": 4,
 "nbformat_minor": 5
}
