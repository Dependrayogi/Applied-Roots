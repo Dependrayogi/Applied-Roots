{
 "cells": [
  {
   "cell_type": "markdown",
   "id": "c412884c",
   "metadata": {},
   "source": [
    "Link: https://soundcloud.com/applied-ai-course/quora-question-pair"
   ]
  },
  {
   "cell_type": "markdown",
   "id": "b6a6509a",
   "metadata": {},
   "source": [
    "When to use what performance metrics\n",
    "1. If we want probabilities of classes: Log loss\n",
    "2. If classes are balanced: Accuracy\n",
    "3. If classes are imbalanced: and if we are more concerned about only true positive, then we use precision.\n",
    "4. If we are more concerned about False negative and True positive then we use recall.\n",
    "5. F1 score is a balance between precision and recall.\n",
    "6. If our concern is both classes (true negative and true positive) then we use ROC_AUC."
   ]
  },
  {
   "cell_type": "markdown",
   "id": "97ea1f6a",
   "metadata": {},
   "source": [
    "In sklearn \"ROC_AUC_SCORE\" will give area under ROC curve. \"AUC\" function will give Area Under the Curve. If you are giving fpr, tpr to AUC function, it gives ROC AUC score."
   ]
  },
  {
   "cell_type": "markdown",
   "id": "7717eae0",
   "metadata": {},
   "source": [
    "The lower FPR, the more negative points will be classified correctly."
   ]
  },
  {
   "cell_type": "markdown",
   "id": "d10e3a26",
   "metadata": {},
   "source": [
    "If timestamp was one of the feature, we would have done temporal splitting.\n",
    "\n",
    "![](https://user-images.githubusercontent.com/63338657/178470949-c07d9cf4-75e9-4a61-8267-1b19efd60198.png)\n",
    "\n",
    "![](https://user-images.githubusercontent.com/63338657/178471227-79e240b8-bd7f-48a3-8381-e3056e03fd4b.png)\n",
    "\n",
    "As there is no timestamp, we opt for random splitting.\n",
    "\n",
    "![](https://user-images.githubusercontent.com/63338657/178472279-f706f265-7eca-4c09-bee0-cb54a1b4ebf4.png)"
   ]
  },
  {
   "cell_type": "code",
   "execution_count": 1,
   "id": "550f6886",
   "metadata": {},
   "outputs": [],
   "source": [
    "import numpy as np\n",
    "import pandas as pd"
   ]
  },
  {
   "cell_type": "code",
   "execution_count": 2,
   "id": "dc3c0cf8",
   "metadata": {
    "scrolled": true
   },
   "outputs": [
    {
     "data": {
      "text/html": [
       "<div>\n",
       "<style scoped>\n",
       "    .dataframe tbody tr th:only-of-type {\n",
       "        vertical-align: middle;\n",
       "    }\n",
       "\n",
       "    .dataframe tbody tr th {\n",
       "        vertical-align: top;\n",
       "    }\n",
       "\n",
       "    .dataframe thead th {\n",
       "        text-align: right;\n",
       "    }\n",
       "</style>\n",
       "<table border=\"1\" class=\"dataframe\">\n",
       "  <thead>\n",
       "    <tr style=\"text-align: right;\">\n",
       "      <th></th>\n",
       "      <th>1</th>\n",
       "      <th>2</th>\n",
       "    </tr>\n",
       "  </thead>\n",
       "  <tbody>\n",
       "    <tr>\n",
       "      <th>0</th>\n",
       "      <td>0.0</td>\n",
       "      <td>1.0</td>\n",
       "    </tr>\n",
       "    <tr>\n",
       "      <th>1</th>\n",
       "      <td>1.0</td>\n",
       "      <td>NaN</td>\n",
       "    </tr>\n",
       "    <tr>\n",
       "      <th>2</th>\n",
       "      <td>2.0</td>\n",
       "      <td>NaN</td>\n",
       "    </tr>\n",
       "    <tr>\n",
       "      <th>3</th>\n",
       "      <td>NaN</td>\n",
       "      <td>4.0</td>\n",
       "    </tr>\n",
       "    <tr>\n",
       "      <th>4</th>\n",
       "      <td>NaN</td>\n",
       "      <td>5.0</td>\n",
       "    </tr>\n",
       "    <tr>\n",
       "      <th>5</th>\n",
       "      <td>5.0</td>\n",
       "      <td>6.0</td>\n",
       "    </tr>\n",
       "    <tr>\n",
       "      <th>6</th>\n",
       "      <td>6.0</td>\n",
       "      <td>7.0</td>\n",
       "    </tr>\n",
       "  </tbody>\n",
       "</table>\n",
       "</div>"
      ],
      "text/plain": [
       "     1    2\n",
       "0  0.0  1.0\n",
       "1  1.0  NaN\n",
       "2  2.0  NaN\n",
       "3  NaN  4.0\n",
       "4  NaN  5.0\n",
       "5  5.0  6.0\n",
       "6  6.0  7.0"
      ]
     },
     "metadata": {},
     "output_type": "display_data"
    }
   ],
   "source": [
    "df = pd.DataFrame(data={1: [0, 1, 2, np.nan, np.nan, 5, 6],\n",
    "                        2: [1, np.nan, np.nan, 4, 5, 6, 7]})\n",
    "display(df)"
   ]
  },
  {
   "cell_type": "code",
   "execution_count": 3,
   "id": "fc98987e",
   "metadata": {},
   "outputs": [
    {
     "data": {
      "text/html": [
       "<div>\n",
       "<style scoped>\n",
       "    .dataframe tbody tr th:only-of-type {\n",
       "        vertical-align: middle;\n",
       "    }\n",
       "\n",
       "    .dataframe tbody tr th {\n",
       "        vertical-align: top;\n",
       "    }\n",
       "\n",
       "    .dataframe thead th {\n",
       "        text-align: right;\n",
       "    }\n",
       "</style>\n",
       "<table border=\"1\" class=\"dataframe\">\n",
       "  <thead>\n",
       "    <tr style=\"text-align: right;\">\n",
       "      <th></th>\n",
       "      <th>1</th>\n",
       "      <th>2</th>\n",
       "    </tr>\n",
       "  </thead>\n",
       "  <tbody>\n",
       "    <tr>\n",
       "      <th>1</th>\n",
       "      <td>1.0</td>\n",
       "      <td>NaN</td>\n",
       "    </tr>\n",
       "    <tr>\n",
       "      <th>2</th>\n",
       "      <td>2.0</td>\n",
       "      <td>NaN</td>\n",
       "    </tr>\n",
       "    <tr>\n",
       "      <th>3</th>\n",
       "      <td>NaN</td>\n",
       "      <td>4.0</td>\n",
       "    </tr>\n",
       "    <tr>\n",
       "      <th>4</th>\n",
       "      <td>NaN</td>\n",
       "      <td>5.0</td>\n",
       "    </tr>\n",
       "  </tbody>\n",
       "</table>\n",
       "</div>"
      ],
      "text/plain": [
       "     1    2\n",
       "1  1.0  NaN\n",
       "2  2.0  NaN\n",
       "3  NaN  4.0\n",
       "4  NaN  5.0"
      ]
     },
     "metadata": {},
     "output_type": "display_data"
    }
   ],
   "source": [
    "display(df[df.isnull().any(axis=1)])"
   ]
  },
  {
   "cell_type": "code",
   "execution_count": 4,
   "id": "dd41f8f9",
   "metadata": {
    "scrolled": true
   },
   "outputs": [
    {
     "data": {
      "text/html": [
       "<div>\n",
       "<style scoped>\n",
       "    .dataframe tbody tr th:only-of-type {\n",
       "        vertical-align: middle;\n",
       "    }\n",
       "\n",
       "    .dataframe tbody tr th {\n",
       "        vertical-align: top;\n",
       "    }\n",
       "\n",
       "    .dataframe thead th {\n",
       "        text-align: right;\n",
       "    }\n",
       "</style>\n",
       "<table border=\"1\" class=\"dataframe\">\n",
       "  <thead>\n",
       "    <tr style=\"text-align: right;\">\n",
       "      <th></th>\n",
       "      <th>1</th>\n",
       "      <th>2</th>\n",
       "    </tr>\n",
       "  </thead>\n",
       "  <tbody>\n",
       "    <tr>\n",
       "      <th>0</th>\n",
       "      <td>0.0</td>\n",
       "      <td>1.0</td>\n",
       "    </tr>\n",
       "    <tr>\n",
       "      <th>1</th>\n",
       "      <td>1.0</td>\n",
       "      <td></td>\n",
       "    </tr>\n",
       "    <tr>\n",
       "      <th>2</th>\n",
       "      <td>2.0</td>\n",
       "      <td></td>\n",
       "    </tr>\n",
       "    <tr>\n",
       "      <th>3</th>\n",
       "      <td></td>\n",
       "      <td>4.0</td>\n",
       "    </tr>\n",
       "    <tr>\n",
       "      <th>4</th>\n",
       "      <td></td>\n",
       "      <td>5.0</td>\n",
       "    </tr>\n",
       "    <tr>\n",
       "      <th>5</th>\n",
       "      <td>5.0</td>\n",
       "      <td>6.0</td>\n",
       "    </tr>\n",
       "    <tr>\n",
       "      <th>6</th>\n",
       "      <td>6.0</td>\n",
       "      <td>7.0</td>\n",
       "    </tr>\n",
       "  </tbody>\n",
       "</table>\n",
       "</div>"
      ],
      "text/plain": [
       "     1    2\n",
       "0  0.0  1.0\n",
       "1  1.0     \n",
       "2  2.0     \n",
       "3       4.0\n",
       "4       5.0\n",
       "5  5.0  6.0\n",
       "6  6.0  7.0"
      ]
     },
     "metadata": {},
     "output_type": "display_data"
    }
   ],
   "source": [
    "df = df.fillna(value='')\n",
    "display(df)"
   ]
  },
  {
   "cell_type": "code",
   "execution_count": 5,
   "id": "668894a4",
   "metadata": {},
   "outputs": [
    {
     "name": "stdout",
     "output_type": "stream",
     "text": [
      "Empty DataFrame\n",
      "Columns: [1, 2]\n",
      "Index: []\n"
     ]
    }
   ],
   "source": [
    "print(df[df.isnull().any(axis=1)])"
   ]
  },
  {
   "cell_type": "code",
   "execution_count": 6,
   "id": "c08f741e",
   "metadata": {},
   "outputs": [
    {
     "data": {
      "text/plain": [
       "0     0.0\n",
       "1     1.0\n",
       "2     2.0\n",
       "3        \n",
       "4        \n",
       "5     5.0\n",
       "6     6.0\n",
       "7     1.0\n",
       "8        \n",
       "9        \n",
       "10    4.0\n",
       "11    5.0\n",
       "12    6.0\n",
       "13    7.0\n",
       "dtype: object"
      ]
     },
     "metadata": {},
     "output_type": "display_data"
    }
   ],
   "source": [
    "all_ = pd.Series(df[1].to_list() + df[2].to_list())\n",
    "display(all_)"
   ]
  },
  {
   "cell_type": "code",
   "execution_count": 7,
   "id": "c263b3b9",
   "metadata": {},
   "outputs": [
    {
     "data": {
      "text/html": [
       "<div>\n",
       "<style scoped>\n",
       "    .dataframe tbody tr th:only-of-type {\n",
       "        vertical-align: middle;\n",
       "    }\n",
       "\n",
       "    .dataframe tbody tr th {\n",
       "        vertical-align: top;\n",
       "    }\n",
       "\n",
       "    .dataframe thead th {\n",
       "        text-align: right;\n",
       "    }\n",
       "</style>\n",
       "<table border=\"1\" class=\"dataframe\">\n",
       "  <thead>\n",
       "    <tr style=\"text-align: right;\">\n",
       "      <th></th>\n",
       "      <th>0</th>\n",
       "    </tr>\n",
       "  </thead>\n",
       "  <tbody>\n",
       "    <tr>\n",
       "      <th></th>\n",
       "      <td>4</td>\n",
       "    </tr>\n",
       "    <tr>\n",
       "      <th>1.0</th>\n",
       "      <td>2</td>\n",
       "    </tr>\n",
       "    <tr>\n",
       "      <th>5.0</th>\n",
       "      <td>2</td>\n",
       "    </tr>\n",
       "    <tr>\n",
       "      <th>6.0</th>\n",
       "      <td>2</td>\n",
       "    </tr>\n",
       "    <tr>\n",
       "      <th>0.0</th>\n",
       "      <td>1</td>\n",
       "    </tr>\n",
       "    <tr>\n",
       "      <th>2.0</th>\n",
       "      <td>1</td>\n",
       "    </tr>\n",
       "    <tr>\n",
       "      <th>4.0</th>\n",
       "      <td>1</td>\n",
       "    </tr>\n",
       "    <tr>\n",
       "      <th>7.0</th>\n",
       "      <td>1</td>\n",
       "    </tr>\n",
       "  </tbody>\n",
       "</table>\n",
       "</div>"
      ],
      "text/plain": [
       "     0\n",
       "     4\n",
       "1.0  2\n",
       "5.0  2\n",
       "6.0  2\n",
       "0.0  1\n",
       "2.0  1\n",
       "4.0  1\n",
       "7.0  1"
      ]
     },
     "metadata": {},
     "output_type": "display_data"
    }
   ],
   "source": [
    "freq = all_.value_counts().to_frame()\n",
    "display(freq)"
   ]
  },
  {
   "cell_type": "code",
   "execution_count": 8,
   "id": "9aca3a7f",
   "metadata": {},
   "outputs": [
    {
     "data": {
      "text/plain": [
       "4"
      ]
     },
     "metadata": {},
     "output_type": "display_data"
    }
   ],
   "source": [
    "rep = np.sum(np.where(freq[0] != 1, 1, 0))\n",
    "display(rep)"
   ]
  },
  {
   "cell_type": "markdown",
   "id": "545151b4",
   "metadata": {},
   "source": [
    "![](https://user-images.githubusercontent.com/63338657/178702396-c534ffd4-0c5f-44bd-b040-304fb2baab89.png)"
   ]
  },
  {
   "cell_type": "markdown",
   "id": "a4bbb9a4",
   "metadata": {},
   "source": [
    "Link: https://towardsdatascience.com/how-to-apply-continual-learning-to-your-machine-learning-models-4754adcd7f7f"
   ]
  },
  {
   "cell_type": "markdown",
   "id": "95668734",
   "metadata": {},
   "source": [
    "Common words: number of common words in both questions.\n",
    "Similar words: number of words that are similar in both questions.\n",
    "\n",
    "Ex:\n",
    "\n",
    "Q1: I'm very smart.<br>Q2: I'm very handsome.\n",
    "\n",
    "Here, the words \"I'm very\" are common words. Words like \"smart\" and \"handsome\" are similar words.\n",
    "\n",
    "Similar words: words that are similar or have the same meaning, semantically."
   ]
  },
  {
   "cell_type": "code",
   "execution_count": 9,
   "id": "6da2dfb2",
   "metadata": {},
   "outputs": [
    {
     "name": "stdout",
     "output_type": "stream",
     "text": [
      "[1 2 3 4] (4,)\n",
      "[5 6 7 8] (4,)\n"
     ]
    }
   ],
   "source": [
    "arr1 = np.array([1, 2, 3, 4])\n",
    "print(arr1, arr1.shape)\n",
    "\n",
    "arr2 = np.array([5, 6, 7, 8])\n",
    "print(arr2, arr2.shape)"
   ]
  },
  {
   "cell_type": "code",
   "execution_count": 10,
   "id": "78e4b72f",
   "metadata": {},
   "outputs": [
    {
     "name": "stdout",
     "output_type": "stream",
     "text": [
      "[1 2 3 4 5 6 7 8] (8,)\n",
      "[[1 2 3 4]\n",
      " [5 6 7 8]] (2, 4)\n"
     ]
    }
   ],
   "source": [
    "arrh = np.hstack(tup=(arr1, arr2))\n",
    "print(arrh, arrh.shape)\n",
    "\n",
    "arrv = np.vstack(tup=(arr1, arr2))\n",
    "print(arrv, arrv.shape)"
   ]
  },
  {
   "cell_type": "code",
   "execution_count": 11,
   "id": "c387d02c",
   "metadata": {},
   "outputs": [
    {
     "name": "stdout",
     "output_type": "stream",
     "text": [
      "[[[1 5 1 5]\n",
      "  [2 6 2 6]\n",
      "  [3 7 3 7]\n",
      "  [4 8 4 8]]] (1, 4, 4)\n",
      "[1 5 1 5 2 6 2 6 3 7 3 7 4 8 4 8] (16,)\n"
     ]
    }
   ],
   "source": [
    "arrd = np.dstack(tup=(arr1, arr2, arr1, arr2))\n",
    "print(arrd, arrd.shape)\n",
    "\n",
    "arrdf = arrd.flatten()\n",
    "print(arrdf, arrdf.shape)"
   ]
  },
  {
   "cell_type": "code",
   "execution_count": 12,
   "id": "eb65da6c",
   "metadata": {
    "scrolled": true
   },
   "outputs": [
    {
     "name": "stdout",
     "output_type": "stream",
     "text": [
      "[[1]\n",
      " [2]\n",
      " [3]\n",
      " [4]] (4, 1)\n",
      "[[5]\n",
      " [6]\n",
      " [7]\n",
      " [8]] (4, 1)\n"
     ]
    }
   ],
   "source": [
    "arr1r = arr1.reshape((-1, 1))\n",
    "print(arr1r, arr1r.shape)\n",
    "\n",
    "arr2r = arr2.reshape((-1, 1))\n",
    "print(arr2r, arr2r.shape)"
   ]
  },
  {
   "cell_type": "code",
   "execution_count": 13,
   "id": "9004fac1",
   "metadata": {},
   "outputs": [
    {
     "name": "stdout",
     "output_type": "stream",
     "text": [
      "[[1 5]\n",
      " [2 6]\n",
      " [3 7]\n",
      " [4 8]] (4, 2)\n",
      "[[1]\n",
      " [2]\n",
      " [3]\n",
      " [4]\n",
      " [5]\n",
      " [6]\n",
      " [7]\n",
      " [8]] (8, 1)\n"
     ]
    }
   ],
   "source": [
    "arrhr = np.hstack(tup=(arr1r, arr2r))\n",
    "print(arrhr, arrhr.shape)\n",
    "\n",
    "arrvr = np.vstack(tup=(arr1r, arr2r))\n",
    "print(arrvr, arrvr.shape)"
   ]
  },
  {
   "cell_type": "code",
   "execution_count": 14,
   "id": "cacc9b4c",
   "metadata": {},
   "outputs": [
    {
     "name": "stdout",
     "output_type": "stream",
     "text": [
      "[[[1 5 1 5]]\n",
      "\n",
      " [[2 6 2 6]]\n",
      "\n",
      " [[3 7 3 7]]\n",
      "\n",
      " [[4 8 4 8]]] (4, 1, 4)\n",
      "[1 5 1 5 2 6 2 6 3 7 3 7 4 8 4 8] (16,)\n"
     ]
    }
   ],
   "source": [
    "arrdr = np.dstack(tup=(arr1r, arr2r, arr1r, arr2r))\n",
    "print(arrdr, arrdr.shape)\n",
    "\n",
    "arrdrf = arrdr.flatten()\n",
    "print(arrdrf, arrdrf.shape)"
   ]
  },
  {
   "cell_type": "markdown",
   "id": "1daf2ef9",
   "metadata": {},
   "source": [
    "![](https://user-images.githubusercontent.com/63338657/178907103-792489b0-6775-4fbd-9743-49ba090d00b8.png)\n",
    "\n",
    "![](https://user-images.githubusercontent.com/63338657/178907258-f5d8b747-8a57-4f85-a695-1a92fc262238.png)"
   ]
  },
  {
   "cell_type": "markdown",
   "id": "a6261a1a",
   "metadata": {},
   "source": [
    "![](https://user-images.githubusercontent.com/63338657/178909226-6e56bc9a-3d01-4ad0-8a1d-47e30c148ca5.png)"
   ]
  },
  {
   "cell_type": "markdown",
   "id": "04811418",
   "metadata": {},
   "source": [
    "![](https://user-images.githubusercontent.com/63338657/178946909-1da271cb-37cc-411a-8d03-35e15a1fb2e1.png)"
   ]
  },
  {
   "cell_type": "code",
   "execution_count": 21,
   "id": "56c4ef63",
   "metadata": {},
   "outputs": [
    {
     "name": "stdout",
     "output_type": "stream",
     "text": [
      "RangeIndex(start=0, stop=7, step=1)\n"
     ]
    }
   ],
   "source": [
    "print(df.index)"
   ]
  },
  {
   "cell_type": "code",
   "execution_count": 41,
   "id": "20056743",
   "metadata": {},
   "outputs": [
    {
     "name": "stdout",
     "output_type": "stream",
     "text": [
      "[[0.0029329  0.63523934]]\n"
     ]
    }
   ],
   "source": [
    "rp = np.random.rand(1, 2)\n",
    "print(rp)"
   ]
  },
  {
   "cell_type": "code",
   "execution_count": 42,
   "id": "0a84db37",
   "metadata": {},
   "outputs": [
    {
     "data": {
      "text/plain": [
       "array([[0.00459579, 0.99540421]])"
      ]
     },
     "execution_count": 42,
     "metadata": {},
     "output_type": "execute_result"
    }
   ],
   "source": [
    "rp_prob = rp / np.sum(rp)\n",
    "rp_prob"
   ]
  },
  {
   "cell_type": "code",
   "execution_count": 43,
   "id": "b7968136",
   "metadata": {},
   "outputs": [
    {
     "name": "stdout",
     "output_type": "stream",
     "text": [
      "[1e-05, 0.0001, 0.001, 0.01, 0.1, 1, 10]\n"
     ]
    }
   ],
   "source": [
    "alpha = [10 ** x for x in range(-5, 2)]\n",
    "print(alpha)"
   ]
  },
  {
   "cell_type": "code",
   "execution_count": null,
   "id": "90e454a2",
   "metadata": {},
   "outputs": [],
   "source": []
  },
  {
   "cell_type": "code",
   "execution_count": null,
   "id": "3052d298",
   "metadata": {},
   "outputs": [],
   "source": []
  },
  {
   "cell_type": "code",
   "execution_count": null,
   "id": "0c114327",
   "metadata": {},
   "outputs": [],
   "source": []
  }
 ],
 "metadata": {
  "kernelspec": {
   "display_name": "Python 3 (ipykernel)",
   "language": "python",
   "name": "python3"
  },
  "language_info": {
   "codemirror_mode": {
    "name": "ipython",
    "version": 3
   },
   "file_extension": ".py",
   "mimetype": "text/x-python",
   "name": "python",
   "nbconvert_exporter": "python",
   "pygments_lexer": "ipython3",
   "version": "3.10.5"
  }
 },
 "nbformat": 4,
 "nbformat_minor": 5
}
