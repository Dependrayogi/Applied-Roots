{
 "cells": [
  {
   "cell_type": "markdown",
   "metadata": {
    "id": "XK3q0EWG7WHW"
   },
   "source": [
    "### 1. Business/Real-world Problem"
   ]
  },
  {
   "cell_type": "markdown",
   "metadata": {
    "id": "FV9ZT-tj7fKU"
   },
   "source": [
    "#### 1.1. What is Malware?"
   ]
  },
  {
   "cell_type": "markdown",
   "metadata": {
    "id": "C7eDxUtD7ja7"
   },
   "source": [
    "The term malware is a contraction of malicious software. Put simply, malware is any piece of software that was written with the intent of doing harm to data, devices or to people.\n",
    "\n",
    "Source: https://www.avg.com/en/signal/what-is-malware"
   ]
  },
  {
   "cell_type": "markdown",
   "metadata": {
    "id": "3DDP4qLi7u1T"
   },
   "source": [
    "#### 1.2. Problem Statement"
   ]
  },
  {
   "cell_type": "markdown",
   "metadata": {
    "id": "RnU6o14T7zuB"
   },
   "source": [
    "In the past few years, the malware industry has grown very rapidly that, the syndicates invest heavily in technologies to evade traditional protection, forcing the anti-malware groups/communities to build more robust softwares to detect and terminate these attacks. The major part of protecting a computer system from a malware attack is to **identify whether a given piece of file/software is a malware**."
   ]
  },
  {
   "cell_type": "markdown",
   "metadata": {
    "id": "WFuYDPLk7_Wh"
   },
   "source": [
    "#### 1.3 Source/Useful Links"
   ]
  },
  {
   "cell_type": "markdown",
   "metadata": {
    "id": "gIvFjOc08EAH"
   },
   "source": [
    "Microsoft has been very active in building anti-malware products over the years and it runs it’s anti-malware utilities over 150 million computers around the world. This generates tens of millions of daily data points to be analyzed as potential malware. In order to be effective in analyzing and classifying such large amounts of data, we need to be able to group them into groups and identify their respective families.\n",
    "\n",
    "This dataset provided by Microsoft contains about 9 classes of malware.\n",
    "\n",
    "Source: https://www.kaggle.com/c/malware-classification"
   ]
  },
  {
   "cell_type": "markdown",
   "metadata": {
    "id": "yb1gzrRL8XlL"
   },
   "source": [
    "#### 1.4. Real-world/Business Objectives and Constraints"
   ]
  },
  {
   "cell_type": "markdown",
   "metadata": {
    "id": "ZG6mtfbF8nnX"
   },
   "source": [
    "1. Minimize multi-class error.\n",
    "2. Multi-class probability estimates.\n",
    "3. Malware detection should not take hours and block the user's computer. It should fininsh in a few seconds or a minute."
   ]
  },
  {
   "cell_type": "markdown",
   "metadata": {
    "id": "YZYsV5gAK3lo"
   },
   "source": [
    "### 2. Machine Learning Problem"
   ]
  },
  {
   "cell_type": "markdown",
   "metadata": {
    "id": "ldN8NpZNLBKz"
   },
   "source": [
    "#### 2.1. Data"
   ]
  },
  {
   "cell_type": "markdown",
   "metadata": {
    "id": "tczto9ZsLEjY"
   },
   "source": [
    "##### 2.1.1. Data Overview"
   ]
  },
  {
   "cell_type": "markdown",
   "metadata": {
    "id": "dUXHt1RVLP5L"
   },
   "source": [
    "* Source : https://www.kaggle.com/c/malware-classification/data\n",
    "* For every malware, we have two files\n",
    "    * .asm file (read more: https://www.reviversoft.com/file-extensions/asm)\n",
    "    * .bytes file (the raw data contains the hexadecimal representation of the file's binary content, without the PE header)\n",
    "* Total train dataset consist of 200GB data out of which 50GB of data is .bytes files and 150GB of data is .asm files.\n",
    "* Lots of Data for a single-box/computer.\n",
    "* There are total 10, 868 .bytes files and 10,868 asm files total 21, 736 files\n",
    "* There are 9 types of malwares (9 classes) in our give data.\n",
    "* Types of Malware:\n",
    "    1. Ramnit\n",
    "    2. Lollipop\n",
    "    3. Kelihos_ver3\n",
    "    4. Vundo\n",
    "    5. Simda\n",
    "    6. Tracur\n",
    "    7. Kelihos_ver1\n",
    "    8. Obfuscator.ACY\n",
    "    9. Gatak"
   ]
  },
  {
   "cell_type": "markdown",
   "metadata": {
    "id": "kba43JEXMBND"
   },
   "source": [
    "#### 2.2. Mapping the Real-world Problem to an ML Problem"
   ]
  },
  {
   "cell_type": "markdown",
   "metadata": {
    "id": "gRqPT52QMIp9"
   },
   "source": [
    "##### 2.2.1. Type of Machine Learning Problem"
   ]
  },
  {
   "cell_type": "markdown",
   "metadata": {
    "id": "Vdk90hyuMsby"
   },
   "source": [
    "There are nine different classes of malware that we need to classify a given a data point - Multi class classification problem."
   ]
  },
  {
   "cell_type": "markdown",
   "metadata": {
    "id": "ZCID0AlaMWTq"
   },
   "source": [
    "##### 2.2.2. Performance Metric"
   ]
  },
  {
   "cell_type": "markdown",
   "metadata": {
    "id": "33oV5qxaMfm5"
   },
   "source": [
    "Source: https://www.kaggle.com/c/malware-classification#evaluation\n",
    "\n",
    "Metric(s):\n",
    "* Multi class log-loss\n",
    "* Confusion matrix"
   ]
  },
  {
   "cell_type": "markdown",
   "metadata": {
    "id": "dYDScA-pMmTb"
   },
   "source": [
    "##### 2.2.3. Machine Learing Objectives and Constraints"
   ]
  },
  {
   "cell_type": "markdown",
   "metadata": {
    "id": "7RVA8hqyMvzG"
   },
   "source": [
    "Objective: Predict the probability of each data-point belonging to each of the nine classes.\n",
    "\n",
    "Constraints:\n",
    "* Class probabilities are needed.\n",
    "* Penalize the errors in class probabilites => Metric is Log-loss.\n",
    "* Some Latency constraints."
   ]
  },
  {
   "cell_type": "markdown",
   "metadata": {
    "id": "Lw1Jg6OCM7gQ"
   },
   "source": [
    "#### 2.3. Train and Test Dataset"
   ]
  },
  {
   "cell_type": "markdown",
   "metadata": {
    "id": "dEvLEKfZM-xH"
   },
   "source": [
    "Split the dataset randomly into three parts train, cross validation and test with 64%, 16%, 20% of data respectively."
   ]
  },
  {
   "cell_type": "markdown",
   "metadata": {
    "id": "ia4o-POINEMQ"
   },
   "source": [
    "#### 2.4. Useful Blogs, Videos and Papers"
   ]
  },
  {
   "cell_type": "markdown",
   "metadata": {
    "id": "5Sx1tv8NNLr_"
   },
   "source": [
    "* http://blog.kaggle.com/2015/05/26/microsoft-malware-winners-interview-1st-place-no-to-overfitting/\n",
    "* https://arxiv.org/pdf/1511.04317.pdf\n",
    "* First place solution in Kaggle competition: https://www.youtube.com/watch?v=VLQTRlLGz5Y\n",
    "* https://github.com/dchad/malware-detection\n",
    "* http://vizsec.org/files/2011/Nataraj.pdf\n",
    "* Cross validation is more trustworthy than domain knowledge: https://www.dropbox.com/sh/gfqzv0ckgs4l1bf/AAB6EelnEjvvuQg2nu_pIB6ua?dl=0"
   ]
  },
  {
   "cell_type": "code",
   "execution_count": 1,
   "metadata": {
    "id": "cg9JUbKVRDfR"
   },
   "outputs": [],
   "source": [
    "import warnings\n",
    "warnings.filterwarnings('ignore')"
   ]
  },
  {
   "cell_type": "code",
   "execution_count": 2,
   "metadata": {},
   "outputs": [],
   "source": [
    "import codecs\n",
    "import multiprocessing\n",
    "import numpy as np\n",
    "import os\n",
    "import pandas as pd\n",
    "import pickle\n",
    "import seaborn as sns\n",
    "import shutil\n",
    "import random as r"
   ]
  },
  {
   "cell_type": "code",
   "execution_count": 3,
   "metadata": {},
   "outputs": [],
   "source": [
    "from IPython.display import display"
   ]
  },
  {
   "cell_type": "code",
   "execution_count": 4,
   "metadata": {},
   "outputs": [],
   "source": [
    "from matplotlib import pyplot as plt\n",
    "from matplotlib import style\n",
    "style.use(style='seaborn-deep')"
   ]
  },
  {
   "cell_type": "code",
   "execution_count": 5,
   "metadata": {},
   "outputs": [],
   "source": [
    "from multiprocessing import Process"
   ]
  },
  {
   "cell_type": "code",
   "execution_count": 6,
   "metadata": {},
   "outputs": [],
   "source": [
    "from sklearn import preprocessing\n",
    "from sklearn.calibration import CalibratedClassifierCV\n",
    "from sklearn.ensemble import RandomForestClassifier\n",
    "from sklearn.linear_model import LogisticRegression\n",
    "from sklearn.manifold import TSNE\n",
    "from sklearn.metrics import confusion_matrix\n",
    "from sklearn.metrics import log_loss\n",
    "from sklearn.model_selection import RandomizedSearchCV\n",
    "from sklearn.model_selection import train_test_split\n",
    "from sklearn.neighbors import KNeighborsClassifier\n",
    "from sklearn.tree import DecisionTreeClassifier"
   ]
  },
  {
   "cell_type": "code",
   "execution_count": 7,
   "metadata": {},
   "outputs": [],
   "source": [
    "from tqdm import tqdm"
   ]
  },
  {
   "cell_type": "code",
   "execution_count": 8,
   "metadata": {},
   "outputs": [],
   "source": [
    "from xgboost import XGBClassifier"
   ]
  },
  {
   "cell_type": "markdown",
   "metadata": {},
   "source": [
    "### 3. Exploratory Data Analysis"
   ]
  },
  {
   "cell_type": "code",
   "execution_count": 9,
   "metadata": {},
   "outputs": [],
   "source": [
    "label_df = pd.read_csv(filepath_or_buffer='data/trainLabels.csv', names=['ID', 'Class'])"
   ]
  },
  {
   "cell_type": "code",
   "execution_count": 10,
   "metadata": {},
   "outputs": [
    {
     "data": {
      "text/html": [
       "<div>\n",
       "<style scoped>\n",
       "    .dataframe tbody tr th:only-of-type {\n",
       "        vertical-align: middle;\n",
       "    }\n",
       "\n",
       "    .dataframe tbody tr th {\n",
       "        vertical-align: top;\n",
       "    }\n",
       "\n",
       "    .dataframe thead th {\n",
       "        text-align: right;\n",
       "    }\n",
       "</style>\n",
       "<table border=\"1\" class=\"dataframe\">\n",
       "  <thead>\n",
       "    <tr style=\"text-align: right;\">\n",
       "      <th></th>\n",
       "      <th>ID</th>\n",
       "      <th>Class</th>\n",
       "    </tr>\n",
       "  </thead>\n",
       "  <tbody>\n",
       "    <tr>\n",
       "      <th>0</th>\n",
       "      <td>Id</td>\n",
       "      <td>Class</td>\n",
       "    </tr>\n",
       "    <tr>\n",
       "      <th>1</th>\n",
       "      <td>01kcPWA9K2BOxQeS5Rju</td>\n",
       "      <td>1</td>\n",
       "    </tr>\n",
       "    <tr>\n",
       "      <th>2</th>\n",
       "      <td>04EjIdbPV5e1XroFOpiN</td>\n",
       "      <td>1</td>\n",
       "    </tr>\n",
       "    <tr>\n",
       "      <th>3</th>\n",
       "      <td>05EeG39MTRrI6VY21DPd</td>\n",
       "      <td>1</td>\n",
       "    </tr>\n",
       "    <tr>\n",
       "      <th>4</th>\n",
       "      <td>05rJTUWYAKNegBk2wE8X</td>\n",
       "      <td>1</td>\n",
       "    </tr>\n",
       "  </tbody>\n",
       "</table>\n",
       "</div>"
      ],
      "text/plain": [
       "                     ID  Class\n",
       "0                    Id  Class\n",
       "1  01kcPWA9K2BOxQeS5Rju      1\n",
       "2  04EjIdbPV5e1XroFOpiN      1\n",
       "3  05EeG39MTRrI6VY21DPd      1\n",
       "4  05rJTUWYAKNegBk2wE8X      1"
      ]
     },
     "metadata": {},
     "output_type": "display_data"
    },
    {
     "data": {
      "text/html": [
       "<div>\n",
       "<style scoped>\n",
       "    .dataframe tbody tr th:only-of-type {\n",
       "        vertical-align: middle;\n",
       "    }\n",
       "\n",
       "    .dataframe tbody tr th {\n",
       "        vertical-align: top;\n",
       "    }\n",
       "\n",
       "    .dataframe thead th {\n",
       "        text-align: right;\n",
       "    }\n",
       "</style>\n",
       "<table border=\"1\" class=\"dataframe\">\n",
       "  <thead>\n",
       "    <tr style=\"text-align: right;\">\n",
       "      <th></th>\n",
       "      <th>ID</th>\n",
       "      <th>Class</th>\n",
       "    </tr>\n",
       "  </thead>\n",
       "  <tbody>\n",
       "    <tr>\n",
       "      <th>count</th>\n",
       "      <td>10869</td>\n",
       "      <td>10869</td>\n",
       "    </tr>\n",
       "    <tr>\n",
       "      <th>unique</th>\n",
       "      <td>10869</td>\n",
       "      <td>10</td>\n",
       "    </tr>\n",
       "    <tr>\n",
       "      <th>top</th>\n",
       "      <td>Id</td>\n",
       "      <td>3</td>\n",
       "    </tr>\n",
       "    <tr>\n",
       "      <th>freq</th>\n",
       "      <td>1</td>\n",
       "      <td>2942</td>\n",
       "    </tr>\n",
       "  </tbody>\n",
       "</table>\n",
       "</div>"
      ],
      "text/plain": [
       "           ID  Class\n",
       "count   10869  10869\n",
       "unique  10869     10\n",
       "top        Id      3\n",
       "freq        1   2942"
      ]
     },
     "metadata": {},
     "output_type": "display_data"
    }
   ],
   "source": [
    "display(label_df.head())\n",
    "display(label_df.describe())"
   ]
  },
  {
   "cell_type": "code",
   "execution_count": 11,
   "metadata": {},
   "outputs": [],
   "source": [
    "def class_distribution(data, label, title='Data'):\n",
    "    \"\"\"\n",
    "    This function plots the distribution of given data[label].\n",
    "    \"\"\"\n",
    "    class_val_counts = data[label].value_counts().to_frame()\n",
    "    percents = class_val_counts.apply(lambda x: round((x / data.shape[0]) * 100, 2))\n",
    "    class_val_counts['Percentage'] = percents\n",
    "    display(class_val_counts)\n",
    "    \n",
    "    plt.figure(figsize=(12, 6))\n",
    "    bars = sns.barplot(x=class_val_counts.index, y=class_val_counts[label])\n",
    "    for bar in bars.patches:\n",
    "        bars.annotate(text=format(bar.get_height()),\n",
    "                      xy=((bar.get_x() + bar.get_width() / 2), bar.get_height()),\n",
    "                      ha='center',\n",
    "                      va='center',\n",
    "                      size=10,\n",
    "                      xytext=(0, 6),\n",
    "                      textcoords='offset points')\n",
    "    plt.xlabel(xlabel=label)\n",
    "    plt.ylabel(ylabel='Value Counts')\n",
    "    plt.title(label=title)\n",
    "    plt.grid()\n",
    "    plt.show()"
   ]
  },
  {
   "cell_type": "code",
   "execution_count": 12,
   "metadata": {},
   "outputs": [
    {
     "data": {
      "text/html": [
       "<div>\n",
       "<style scoped>\n",
       "    .dataframe tbody tr th:only-of-type {\n",
       "        vertical-align: middle;\n",
       "    }\n",
       "\n",
       "    .dataframe tbody tr th {\n",
       "        vertical-align: top;\n",
       "    }\n",
       "\n",
       "    .dataframe thead th {\n",
       "        text-align: right;\n",
       "    }\n",
       "</style>\n",
       "<table border=\"1\" class=\"dataframe\">\n",
       "  <thead>\n",
       "    <tr style=\"text-align: right;\">\n",
       "      <th></th>\n",
       "      <th>Class</th>\n",
       "      <th>Percentage</th>\n",
       "    </tr>\n",
       "  </thead>\n",
       "  <tbody>\n",
       "    <tr>\n",
       "      <th>3</th>\n",
       "      <td>2942</td>\n",
       "      <td>27.07</td>\n",
       "    </tr>\n",
       "    <tr>\n",
       "      <th>2</th>\n",
       "      <td>2478</td>\n",
       "      <td>22.80</td>\n",
       "    </tr>\n",
       "    <tr>\n",
       "      <th>1</th>\n",
       "      <td>1541</td>\n",
       "      <td>14.18</td>\n",
       "    </tr>\n",
       "    <tr>\n",
       "      <th>8</th>\n",
       "      <td>1228</td>\n",
       "      <td>11.30</td>\n",
       "    </tr>\n",
       "    <tr>\n",
       "      <th>9</th>\n",
       "      <td>1013</td>\n",
       "      <td>9.32</td>\n",
       "    </tr>\n",
       "    <tr>\n",
       "      <th>6</th>\n",
       "      <td>751</td>\n",
       "      <td>6.91</td>\n",
       "    </tr>\n",
       "    <tr>\n",
       "      <th>4</th>\n",
       "      <td>475</td>\n",
       "      <td>4.37</td>\n",
       "    </tr>\n",
       "    <tr>\n",
       "      <th>7</th>\n",
       "      <td>398</td>\n",
       "      <td>3.66</td>\n",
       "    </tr>\n",
       "    <tr>\n",
       "      <th>5</th>\n",
       "      <td>42</td>\n",
       "      <td>0.39</td>\n",
       "    </tr>\n",
       "    <tr>\n",
       "      <th>Class</th>\n",
       "      <td>1</td>\n",
       "      <td>0.01</td>\n",
       "    </tr>\n",
       "  </tbody>\n",
       "</table>\n",
       "</div>"
      ],
      "text/plain": [
       "       Class  Percentage\n",
       "3       2942       27.07\n",
       "2       2478       22.80\n",
       "1       1541       14.18\n",
       "8       1228       11.30\n",
       "9       1013        9.32\n",
       "6        751        6.91\n",
       "4        475        4.37\n",
       "7        398        3.66\n",
       "5         42        0.39\n",
       "Class      1        0.01"
      ]
     },
     "metadata": {},
     "output_type": "display_data"
    },
    {
     "data": {
      "image/png": "[encoded data removed]",
      "text/plain": [
       "<Figure size 864x432 with 1 Axes>"
      ]
     },
     "metadata": {
      "needs_background": "light"
     },
     "output_type": "display_data"
    }
   ],
   "source": [
    "class_distribution(data=label_df, label='Class')"
   ]
  },
  {
   "cell_type": "markdown",
   "metadata": {},
   "source": [
    "Feature Extraction"
   ]
  },
  {
   "cell_type": "code",
   "execution_count": 13,
   "metadata": {},
   "outputs": [],
   "source": [
    "def get_file_sizes(label_df, is_bytes=True):\n",
    "    \"\"\"\n",
    "    This function gets the file size.\n",
    "    \"\"\"\n",
    "    size_type = 1024.0 * 1024 # converts to MB.\n",
    "    if is_bytes:\n",
    "        dir_path = os.path.join('data/train', 'train_bytes_files')\n",
    "    else:\n",
    "        dir_path = os.path.join('data/train', 'train_asm_files')\n",
    "    all_files = os.listdir(path=dir_path)\n",
    "    all_sizes = [os.stat(path=os.path.join(dir_path, filepath)).st_size / size_type\n",
    "                 for filepath in all_files]\n",
    "    file_names = [f_name.split('.')[0] for f_name in all_files]\n",
    "    file_size_df = pd.DataFrame(data={'ID': file_names, 'Size': all_sizes})\n",
    "    file_size_class_df = label_df.merge(right=file_size_df)\n",
    "    return file_size_class_df"
   ]
  },
  {
   "cell_type": "code",
   "execution_count": 14,
   "metadata": {},
   "outputs": [],
   "source": [
    "file_size_class_df = get_file_sizes(label_df=label_df)\n",
    "file_size_class_df = file_size_class_df[['ID', 'Size', 'Class']]"
   ]
  },
  {
   "cell_type": "code",
   "execution_count": 15,
   "metadata": {},
   "outputs": [
    {
     "data": {
      "text/html": [
       "<div>\n",
       "<style scoped>\n",
       "    .dataframe tbody tr th:only-of-type {\n",
       "        vertical-align: middle;\n",
       "    }\n",
       "\n",
       "    .dataframe tbody tr th {\n",
       "        vertical-align: top;\n",
       "    }\n",
       "\n",
       "    .dataframe thead th {\n",
       "        text-align: right;\n",
       "    }\n",
       "</style>\n",
       "<table border=\"1\" class=\"dataframe\">\n",
       "  <thead>\n",
       "    <tr style=\"text-align: right;\">\n",
       "      <th></th>\n",
       "      <th>ID</th>\n",
       "      <th>Size</th>\n",
       "      <th>Class</th>\n",
       "    </tr>\n",
       "  </thead>\n",
       "  <tbody>\n",
       "    <tr>\n",
       "      <th>0</th>\n",
       "      <td>01kcPWA9K2BOxQeS5Rju</td>\n",
       "      <td>0.562500</td>\n",
       "      <td>1</td>\n",
       "    </tr>\n",
       "    <tr>\n",
       "      <th>1</th>\n",
       "      <td>04EjIdbPV5e1XroFOpiN</td>\n",
       "      <td>0.703125</td>\n",
       "      <td>1</td>\n",
       "    </tr>\n",
       "    <tr>\n",
       "      <th>2</th>\n",
       "      <td>05EeG39MTRrI6VY21DPd</td>\n",
       "      <td>0.421875</td>\n",
       "      <td>1</td>\n",
       "    </tr>\n",
       "    <tr>\n",
       "      <th>3</th>\n",
       "      <td>05rJTUWYAKNegBk2wE8X</td>\n",
       "      <td>2.308594</td>\n",
       "      <td>1</td>\n",
       "    </tr>\n",
       "    <tr>\n",
       "      <th>4</th>\n",
       "      <td>0AnoOZDNbPXIr2MRBSCJ</td>\n",
       "      <td>0.468750</td>\n",
       "      <td>1</td>\n",
       "    </tr>\n",
       "  </tbody>\n",
       "</table>\n",
       "</div>"
      ],
      "text/plain": [
       "                     ID      Size Class\n",
       "0  01kcPWA9K2BOxQeS5Rju  0.562500     1\n",
       "1  04EjIdbPV5e1XroFOpiN  0.703125     1\n",
       "2  05EeG39MTRrI6VY21DPd  0.421875     1\n",
       "3  05rJTUWYAKNegBk2wE8X  2.308594     1\n",
       "4  0AnoOZDNbPXIr2MRBSCJ  0.468750     1"
      ]
     },
     "metadata": {},
     "output_type": "display_data"
    },
    {
     "data": {
      "text/html": [
       "<div>\n",
       "<style scoped>\n",
       "    .dataframe tbody tr th:only-of-type {\n",
       "        vertical-align: middle;\n",
       "    }\n",
       "\n",
       "    .dataframe tbody tr th {\n",
       "        vertical-align: top;\n",
       "    }\n",
       "\n",
       "    .dataframe thead th {\n",
       "        text-align: right;\n",
       "    }\n",
       "</style>\n",
       "<table border=\"1\" class=\"dataframe\">\n",
       "  <thead>\n",
       "    <tr style=\"text-align: right;\">\n",
       "      <th></th>\n",
       "      <th>Size</th>\n",
       "    </tr>\n",
       "  </thead>\n",
       "  <tbody>\n",
       "    <tr>\n",
       "      <th>count</th>\n",
       "      <td>10868.000000</td>\n",
       "    </tr>\n",
       "    <tr>\n",
       "      <th>mean</th>\n",
       "      <td>3.692606</td>\n",
       "    </tr>\n",
       "    <tr>\n",
       "      <th>std</th>\n",
       "      <td>2.951447</td>\n",
       "    </tr>\n",
       "    <tr>\n",
       "      <th>min</th>\n",
       "      <td>0.088892</td>\n",
       "    </tr>\n",
       "    <tr>\n",
       "      <th>25%</th>\n",
       "      <td>0.691406</td>\n",
       "    </tr>\n",
       "    <tr>\n",
       "      <th>50%</th>\n",
       "      <td>3.449896</td>\n",
       "    </tr>\n",
       "    <tr>\n",
       "      <th>75%</th>\n",
       "      <td>6.703125</td>\n",
       "    </tr>\n",
       "    <tr>\n",
       "      <th>max</th>\n",
       "      <td>44.109375</td>\n",
       "    </tr>\n",
       "  </tbody>\n",
       "</table>\n",
       "</div>"
      ],
      "text/plain": [
       "               Size\n",
       "count  10868.000000\n",
       "mean       3.692606\n",
       "std        2.951447\n",
       "min        0.088892\n",
       "25%        0.691406\n",
       "50%        3.449896\n",
       "75%        6.703125\n",
       "max       44.109375"
      ]
     },
     "metadata": {},
     "output_type": "display_data"
    }
   ],
   "source": [
    "display(file_size_class_df.head())\n",
    "display(file_size_class_df.describe())\n",
    "display()"
   ]
  },
  {
   "cell_type": "markdown",
   "metadata": {},
   "source": [
    "Boxplot of file-sizes"
   ]
  },
  {
   "cell_type": "code",
   "execution_count": 16,
   "metadata": {},
   "outputs": [
    {
     "data": {
      "image/png": "[encoded data removed]",
      "text/plain": [
       "<Figure size 864x288 with 1 Axes>"
      ]
     },
     "metadata": {
      "needs_background": "light"
     },
     "output_type": "display_data"
    }
   ],
   "source": [
    "plt.figure(figsize=(12, 4))\n",
    "sns.boxplot(x='Class', y='Size', data=file_size_class_df)\n",
    "plt.title(\"Boxplot of .bytes file sizes (in MB)\")\n",
    "plt.show()"
   ]
  },
  {
   "cell_type": "markdown",
   "metadata": {},
   "source": [
    "`.bytes` to `.txt`"
   ]
  },
  {
   "cell_type": "code",
   "execution_count": 17,
   "metadata": {},
   "outputs": [],
   "source": [
    "def bytes_2_txt(dir_path):\n",
    "    \"\"\"\n",
    "    This function converts bytes file to txt file.\n",
    "    \"\"\"\n",
    "    all_files = os.listdir(path=dir_path)\n",
    "    for b_file in tqdm(all_files):\n",
    "        b_f_name = os.path.basename(b_file).split('.')[0]\n",
    "        with open(file=os.path.join(dir_path, '{}.txt'.format(b_f_name)), mode='w+') as b_txt:\n",
    "            with open(file=os.path.join(dir_path, b_file), mode='r') as b_f:\n",
    "                for line in b_f:\n",
    "                    l = line.strip().split()[1:]\n",
    "                    l = ' '.join(l) + '\\n'\n",
    "                    b_txt.write(l)\n",
    "        os.remove(path=os.path.join(dir_path, b_file))\n",
    "    print(\"Done!\")"
   ]
  },
  {
   "cell_type": "code",
   "execution_count": 18,
   "metadata": {
    "scrolled": true
   },
   "outputs": [],
   "source": [
    "# bytes_2_txt(dir_path='data/train/train_bytes_files/')"
   ]
  },
  {
   "cell_type": "code",
   "execution_count": 19,
   "metadata": {},
   "outputs": [],
   "source": [
    "# bytes_2_txt(dir_path='data/dataSample/bytes/')"
   ]
  },
  {
   "cell_type": "markdown",
   "metadata": {},
   "source": [
    "Bag of Words on Bytes"
   ]
  },
  {
   "cell_type": "code",
   "execution_count": 20,
   "metadata": {},
   "outputs": [
    {
     "name": "stdout",
     "output_type": "stream",
     "text": [
      "258\n"
     ]
    }
   ],
   "source": [
    "features_string = \"\"\"\n",
    "ID,\n",
    "00,01,02,03,04,05,06,07,08,09,0a,0b,0c,0d,0e,0f,\n",
    "10,11,12,13,14,15,16,17,18,19,1a,1b,1c,1d,1e,1f,\n",
    "20,21,22,23,24,25,26,27,28,29,2a,2b,2c,2d,2e,2f,\n",
    "30,31,32,33,34,35,36,37,38,39,3a,3b,3c,3d,3e,3f,\n",
    "40,41,42,43,44,45,46,47,48,49,4a,4b,4c,4d,4e,4f,\n",
    "50,51,52,53,54,55,56,57,58,59,5a,5b,5c,5d,5e,5f,\n",
    "60,61,62,63,64,65,66,67,68,69,6a,6b,6c,6d,6e,6f,\n",
    "70,71,72,73,74,75,76,77,78,79,7a,7b,7c,7d,7e,7f,\n",
    "80,81,82,83,84,85,86,87,88,89,8a,8b,8c,8d,8e,8f,\n",
    "90,91,92,93,94,95,96,97,98,99,9a,9b,9c,9d,9e,9f,\n",
    "a0,a1,a2,a3,a4,a5,a6,a7,a8,a9,aa,ab,ac,ad,ae,af,\n",
    "b0,b1,b2,b3,b4,b5,b6,b7,b8,b9,ba,bb,bc,bd,be,bf,\n",
    "c0,c1,c2,c3,c4,c5,c6,c7,c8,c9,ca,cb,cc,cd,ce,cf,\n",
    "d0,d1,d2,d3,d4,d5,d6,d7,d8,d9,da,db,dc,dd,de,df,\n",
    "e0,e1,e2,e3,e4,e5,e6,e7,e8,e9,ea,eb,ec,ed,ee,ef,\n",
    "f0,f1,f2,f3,f4,f5,f6,f7,f8,f9,fa,fb,fc,fd,fe,ff,\n",
    "??\n",
    "\"\"\"\n",
    "features_string = features_string.replace('\\n', '')\n",
    "total_features = len(features_string.split(','))\n",
    "print(total_features)"
   ]
  },
  {
   "cell_type": "code",
   "execution_count": 21,
   "metadata": {},
   "outputs": [],
   "source": [
    "def bag_of_words(dir_path, features_string, total_features, final_file_name):\n",
    "    \"\"\"\n",
    "    This function fetches the bag of word representation.\n",
    "    \"\"\"\n",
    "    all_files= os.listdir(path=dir_path)\n",
    "    feature_matrix = np.zeros(shape=(len(all_files), total_features-1), dtype=int)\n",
    "    k = 0\n",
    "    with open(file=os.path.join(dir_path, final_file_name), mode='w+') as b_bow_f:\n",
    "        b_bow_f.write(features_string)\n",
    "        b_bow_f.write('\\n')\n",
    "        for b_t_file in tqdm(all_files):\n",
    "            b_t_f_name = os.path.basename(b_t_file).split('.')[0]\n",
    "            b_bow_f.write(b_t_f_name)\n",
    "            with open(file=os.path.join(dir_path, b_t_file), mode='r') as b_t_f:\n",
    "                for line in b_t_f:\n",
    "                    l = line.strip().split()\n",
    "                    for hex_code in l:\n",
    "                        if hex_code == '??':\n",
    "                            feature_matrix[k][-1] += 1\n",
    "                        else:\n",
    "                            feature_matrix[k][int(hex_code, 16)] += 1\n",
    "            for i in feature_matrix[k]:\n",
    "                b_bow_f.write(','+str(i))\n",
    "            b_bow_f.write('\\n')\n",
    "            k += 1\n",
    "    print(\"Done!\")"
   ]
  },
  {
   "cell_type": "code",
   "execution_count": 22,
   "metadata": {},
   "outputs": [],
   "source": [
    "# bag_of_words(dir_path='data/dataSample/bytes/',\n",
    "#              features_string=features_string,\n",
    "#              total_features=total_features)"
   ]
  },
  {
   "cell_type": "code",
   "execution_count": 23,
   "metadata": {},
   "outputs": [],
   "source": [
    "# bag_of_words(dir_path='data/train/train_bytes_files/',\n",
    "#              features_string=features_string,\n",
    "#              total_features=total_features,\n",
    "#              final_file_name='bytes_bow.csv')"
   ]
  },
  {
   "cell_type": "code",
   "execution_count": 24,
   "metadata": {},
   "outputs": [
    {
     "data": {
      "text/html": [
       "<div>\n",
       "<style scoped>\n",
       "    .dataframe tbody tr th:only-of-type {\n",
       "        vertical-align: middle;\n",
       "    }\n",
       "\n",
       "    .dataframe tbody tr th {\n",
       "        vertical-align: top;\n",
       "    }\n",
       "\n",
       "    .dataframe thead th {\n",
       "        text-align: right;\n",
       "    }\n",
       "</style>\n",
       "<table border=\"1\" class=\"dataframe\">\n",
       "  <thead>\n",
       "    <tr style=\"text-align: right;\">\n",
       "      <th></th>\n",
       "      <th>ID</th>\n",
       "      <th>00</th>\n",
       "      <th>01</th>\n",
       "      <th>02</th>\n",
       "      <th>03</th>\n",
       "      <th>04</th>\n",
       "      <th>05</th>\n",
       "      <th>06</th>\n",
       "      <th>07</th>\n",
       "      <th>08</th>\n",
       "      <th>...</th>\n",
       "      <th>f7</th>\n",
       "      <th>f8</th>\n",
       "      <th>f9</th>\n",
       "      <th>fa</th>\n",
       "      <th>fb</th>\n",
       "      <th>fc</th>\n",
       "      <th>fd</th>\n",
       "      <th>fe</th>\n",
       "      <th>ff</th>\n",
       "      <th>??</th>\n",
       "    </tr>\n",
       "  </thead>\n",
       "  <tbody>\n",
       "    <tr>\n",
       "      <th>0</th>\n",
       "      <td>01azqd4InC7m9JpocGv5</td>\n",
       "      <td>601905</td>\n",
       "      <td>3905</td>\n",
       "      <td>2816</td>\n",
       "      <td>3832</td>\n",
       "      <td>3345</td>\n",
       "      <td>3242</td>\n",
       "      <td>3650</td>\n",
       "      <td>3201</td>\n",
       "      <td>2965</td>\n",
       "      <td>...</td>\n",
       "      <td>2804</td>\n",
       "      <td>3687</td>\n",
       "      <td>3101</td>\n",
       "      <td>3211</td>\n",
       "      <td>3097</td>\n",
       "      <td>2758</td>\n",
       "      <td>3099</td>\n",
       "      <td>2759</td>\n",
       "      <td>5753</td>\n",
       "      <td>1824</td>\n",
       "    </tr>\n",
       "    <tr>\n",
       "      <th>1</th>\n",
       "      <td>01IsoiSMh5gxyDYTl4CB</td>\n",
       "      <td>39755</td>\n",
       "      <td>8337</td>\n",
       "      <td>7249</td>\n",
       "      <td>7186</td>\n",
       "      <td>8663</td>\n",
       "      <td>6844</td>\n",
       "      <td>8420</td>\n",
       "      <td>7589</td>\n",
       "      <td>9291</td>\n",
       "      <td>...</td>\n",
       "      <td>451</td>\n",
       "      <td>6536</td>\n",
       "      <td>439</td>\n",
       "      <td>281</td>\n",
       "      <td>302</td>\n",
       "      <td>7639</td>\n",
       "      <td>518</td>\n",
       "      <td>17001</td>\n",
       "      <td>54902</td>\n",
       "      <td>8588</td>\n",
       "    </tr>\n",
       "    <tr>\n",
       "      <th>2</th>\n",
       "      <td>01jsnpXSAlgw6aPeDxrU</td>\n",
       "      <td>93506</td>\n",
       "      <td>9542</td>\n",
       "      <td>2568</td>\n",
       "      <td>2438</td>\n",
       "      <td>8925</td>\n",
       "      <td>9330</td>\n",
       "      <td>9007</td>\n",
       "      <td>2342</td>\n",
       "      <td>9107</td>\n",
       "      <td>...</td>\n",
       "      <td>2325</td>\n",
       "      <td>2358</td>\n",
       "      <td>2242</td>\n",
       "      <td>2885</td>\n",
       "      <td>2863</td>\n",
       "      <td>2471</td>\n",
       "      <td>2786</td>\n",
       "      <td>2680</td>\n",
       "      <td>49144</td>\n",
       "      <td>468</td>\n",
       "    </tr>\n",
       "    <tr>\n",
       "      <th>3</th>\n",
       "      <td>01kcPWA9K2BOxQeS5Rju</td>\n",
       "      <td>21091</td>\n",
       "      <td>1213</td>\n",
       "      <td>726</td>\n",
       "      <td>817</td>\n",
       "      <td>1257</td>\n",
       "      <td>625</td>\n",
       "      <td>550</td>\n",
       "      <td>523</td>\n",
       "      <td>1078</td>\n",
       "      <td>...</td>\n",
       "      <td>478</td>\n",
       "      <td>873</td>\n",
       "      <td>485</td>\n",
       "      <td>462</td>\n",
       "      <td>516</td>\n",
       "      <td>1133</td>\n",
       "      <td>471</td>\n",
       "      <td>761</td>\n",
       "      <td>7998</td>\n",
       "      <td>13940</td>\n",
       "    </tr>\n",
       "    <tr>\n",
       "      <th>4</th>\n",
       "      <td>01SuzwMJEIXsK7A8dQbl</td>\n",
       "      <td>19764</td>\n",
       "      <td>710</td>\n",
       "      <td>302</td>\n",
       "      <td>433</td>\n",
       "      <td>559</td>\n",
       "      <td>410</td>\n",
       "      <td>262</td>\n",
       "      <td>249</td>\n",
       "      <td>422</td>\n",
       "      <td>...</td>\n",
       "      <td>847</td>\n",
       "      <td>947</td>\n",
       "      <td>350</td>\n",
       "      <td>209</td>\n",
       "      <td>239</td>\n",
       "      <td>653</td>\n",
       "      <td>221</td>\n",
       "      <td>242</td>\n",
       "      <td>2199</td>\n",
       "      <td>9008</td>\n",
       "    </tr>\n",
       "  </tbody>\n",
       "</table>\n",
       "<p>5 rows × 258 columns</p>\n",
       "</div>"
      ],
      "text/plain": [
       "                     ID      00    01    02    03    04    05    06    07  \\\n",
       "0  01azqd4InC7m9JpocGv5  601905  3905  2816  3832  3345  3242  3650  3201   \n",
       "1  01IsoiSMh5gxyDYTl4CB   39755  8337  7249  7186  8663  6844  8420  7589   \n",
       "2  01jsnpXSAlgw6aPeDxrU   93506  9542  2568  2438  8925  9330  9007  2342   \n",
       "3  01kcPWA9K2BOxQeS5Rju   21091  1213   726   817  1257   625   550   523   \n",
       "4  01SuzwMJEIXsK7A8dQbl   19764   710   302   433   559   410   262   249   \n",
       "\n",
       "     08  ...    f7    f8    f9    fa    fb    fc    fd     fe     ff     ??  \n",
       "0  2965  ...  2804  3687  3101  3211  3097  2758  3099   2759   5753   1824  \n",
       "1  9291  ...   451  6536   439   281   302  7639   518  17001  54902   8588  \n",
       "2  9107  ...  2325  2358  2242  2885  2863  2471  2786   2680  49144    468  \n",
       "3  1078  ...   478   873   485   462   516  1133   471    761   7998  13940  \n",
       "4   422  ...   847   947   350   209   239   653   221    242   2199   9008  \n",
       "\n",
       "[5 rows x 258 columns]"
      ]
     },
     "metadata": {},
     "output_type": "display_data"
    }
   ],
   "source": [
    "byte_features = pd.read_csv(filepath_or_buffer='data/train/train_bytes_files/bytes_bow.csv')\n",
    "display(byte_features.head())"
   ]
  },
  {
   "cell_type": "code",
   "execution_count": 25,
   "metadata": {},
   "outputs": [],
   "source": [
    "bytes_result = pd.merge(left=byte_features, right=file_size_class_df, on='ID')"
   ]
  },
  {
   "cell_type": "code",
   "execution_count": 26,
   "metadata": {},
   "outputs": [
    {
     "data": {
      "text/plain": [
       "(10868, 260)"
      ]
     },
     "metadata": {},
     "output_type": "display_data"
    },
    {
     "data": {
      "text/html": [
       "<div>\n",
       "<style scoped>\n",
       "    .dataframe tbody tr th:only-of-type {\n",
       "        vertical-align: middle;\n",
       "    }\n",
       "\n",
       "    .dataframe tbody tr th {\n",
       "        vertical-align: top;\n",
       "    }\n",
       "\n",
       "    .dataframe thead th {\n",
       "        text-align: right;\n",
       "    }\n",
       "</style>\n",
       "<table border=\"1\" class=\"dataframe\">\n",
       "  <thead>\n",
       "    <tr style=\"text-align: right;\">\n",
       "      <th></th>\n",
       "      <th>ID</th>\n",
       "      <th>00</th>\n",
       "      <th>01</th>\n",
       "      <th>02</th>\n",
       "      <th>03</th>\n",
       "      <th>04</th>\n",
       "      <th>05</th>\n",
       "      <th>06</th>\n",
       "      <th>07</th>\n",
       "      <th>08</th>\n",
       "      <th>...</th>\n",
       "      <th>f9</th>\n",
       "      <th>fa</th>\n",
       "      <th>fb</th>\n",
       "      <th>fc</th>\n",
       "      <th>fd</th>\n",
       "      <th>fe</th>\n",
       "      <th>ff</th>\n",
       "      <th>??</th>\n",
       "      <th>Size</th>\n",
       "      <th>Class</th>\n",
       "    </tr>\n",
       "  </thead>\n",
       "  <tbody>\n",
       "    <tr>\n",
       "      <th>0</th>\n",
       "      <td>01azqd4InC7m9JpocGv5</td>\n",
       "      <td>601905</td>\n",
       "      <td>3905</td>\n",
       "      <td>2816</td>\n",
       "      <td>3832</td>\n",
       "      <td>3345</td>\n",
       "      <td>3242</td>\n",
       "      <td>3650</td>\n",
       "      <td>3201</td>\n",
       "      <td>2965</td>\n",
       "      <td>...</td>\n",
       "      <td>3101</td>\n",
       "      <td>3211</td>\n",
       "      <td>3097</td>\n",
       "      <td>2758</td>\n",
       "      <td>3099</td>\n",
       "      <td>2759</td>\n",
       "      <td>5753</td>\n",
       "      <td>1824</td>\n",
       "      <td>4.148438</td>\n",
       "      <td>9</td>\n",
       "    </tr>\n",
       "    <tr>\n",
       "      <th>1</th>\n",
       "      <td>01IsoiSMh5gxyDYTl4CB</td>\n",
       "      <td>39755</td>\n",
       "      <td>8337</td>\n",
       "      <td>7249</td>\n",
       "      <td>7186</td>\n",
       "      <td>8663</td>\n",
       "      <td>6844</td>\n",
       "      <td>8420</td>\n",
       "      <td>7589</td>\n",
       "      <td>9291</td>\n",
       "      <td>...</td>\n",
       "      <td>439</td>\n",
       "      <td>281</td>\n",
       "      <td>302</td>\n",
       "      <td>7639</td>\n",
       "      <td>518</td>\n",
       "      <td>17001</td>\n",
       "      <td>54902</td>\n",
       "      <td>8588</td>\n",
       "      <td>5.425781</td>\n",
       "      <td>2</td>\n",
       "    </tr>\n",
       "    <tr>\n",
       "      <th>2</th>\n",
       "      <td>01jsnpXSAlgw6aPeDxrU</td>\n",
       "      <td>93506</td>\n",
       "      <td>9542</td>\n",
       "      <td>2568</td>\n",
       "      <td>2438</td>\n",
       "      <td>8925</td>\n",
       "      <td>9330</td>\n",
       "      <td>9007</td>\n",
       "      <td>2342</td>\n",
       "      <td>9107</td>\n",
       "      <td>...</td>\n",
       "      <td>2242</td>\n",
       "      <td>2885</td>\n",
       "      <td>2863</td>\n",
       "      <td>2471</td>\n",
       "      <td>2786</td>\n",
       "      <td>2680</td>\n",
       "      <td>49144</td>\n",
       "      <td>468</td>\n",
       "      <td>3.808594</td>\n",
       "      <td>9</td>\n",
       "    </tr>\n",
       "    <tr>\n",
       "      <th>3</th>\n",
       "      <td>01kcPWA9K2BOxQeS5Rju</td>\n",
       "      <td>21091</td>\n",
       "      <td>1213</td>\n",
       "      <td>726</td>\n",
       "      <td>817</td>\n",
       "      <td>1257</td>\n",
       "      <td>625</td>\n",
       "      <td>550</td>\n",
       "      <td>523</td>\n",
       "      <td>1078</td>\n",
       "      <td>...</td>\n",
       "      <td>485</td>\n",
       "      <td>462</td>\n",
       "      <td>516</td>\n",
       "      <td>1133</td>\n",
       "      <td>471</td>\n",
       "      <td>761</td>\n",
       "      <td>7998</td>\n",
       "      <td>13940</td>\n",
       "      <td>0.562500</td>\n",
       "      <td>1</td>\n",
       "    </tr>\n",
       "    <tr>\n",
       "      <th>4</th>\n",
       "      <td>01SuzwMJEIXsK7A8dQbl</td>\n",
       "      <td>19764</td>\n",
       "      <td>710</td>\n",
       "      <td>302</td>\n",
       "      <td>433</td>\n",
       "      <td>559</td>\n",
       "      <td>410</td>\n",
       "      <td>262</td>\n",
       "      <td>249</td>\n",
       "      <td>422</td>\n",
       "      <td>...</td>\n",
       "      <td>350</td>\n",
       "      <td>209</td>\n",
       "      <td>239</td>\n",
       "      <td>653</td>\n",
       "      <td>221</td>\n",
       "      <td>242</td>\n",
       "      <td>2199</td>\n",
       "      <td>9008</td>\n",
       "      <td>0.363281</td>\n",
       "      <td>8</td>\n",
       "    </tr>\n",
       "  </tbody>\n",
       "</table>\n",
       "<p>5 rows × 260 columns</p>\n",
       "</div>"
      ],
      "text/plain": [
       "                     ID      00    01    02    03    04    05    06    07  \\\n",
       "0  01azqd4InC7m9JpocGv5  601905  3905  2816  3832  3345  3242  3650  3201   \n",
       "1  01IsoiSMh5gxyDYTl4CB   39755  8337  7249  7186  8663  6844  8420  7589   \n",
       "2  01jsnpXSAlgw6aPeDxrU   93506  9542  2568  2438  8925  9330  9007  2342   \n",
       "3  01kcPWA9K2BOxQeS5Rju   21091  1213   726   817  1257   625   550   523   \n",
       "4  01SuzwMJEIXsK7A8dQbl   19764   710   302   433   559   410   262   249   \n",
       "\n",
       "     08  ...    f9    fa    fb    fc    fd     fe     ff     ??      Size  \\\n",
       "0  2965  ...  3101  3211  3097  2758  3099   2759   5753   1824  4.148438   \n",
       "1  9291  ...   439   281   302  7639   518  17001  54902   8588  5.425781   \n",
       "2  9107  ...  2242  2885  2863  2471  2786   2680  49144    468  3.808594   \n",
       "3  1078  ...   485   462   516  1133   471    761   7998  13940  0.562500   \n",
       "4   422  ...   350   209   239   653   221    242   2199   9008  0.363281   \n",
       "\n",
       "   Class  \n",
       "0      9  \n",
       "1      2  \n",
       "2      9  \n",
       "3      1  \n",
       "4      8  \n",
       "\n",
       "[5 rows x 260 columns]"
      ]
     },
     "metadata": {},
     "output_type": "display_data"
    }
   ],
   "source": [
    "display(bytes_result.shape)\n",
    "display(bytes_result.head())"
   ]
  },
  {
   "cell_type": "code",
   "execution_count": 27,
   "metadata": {},
   "outputs": [],
   "source": [
    "y_all = bytes_result['Class'].values"
   ]
  },
  {
   "cell_type": "markdown",
   "metadata": {},
   "source": [
    "Normalization"
   ]
  },
  {
   "cell_type": "code",
   "execution_count": 28,
   "metadata": {},
   "outputs": [],
   "source": [
    "def normalize(df):\n",
    "    \"\"\"\n",
    "    Min-max normalizer.\n",
    "    \"\"\"\n",
    "    result = df.copy()\n",
    "    df_columns = list(df.columns)\n",
    "    df_columns.remove('ID')\n",
    "    df_columns.remove('Class')\n",
    "    for feature_name in df_columns:\n",
    "        max_value = df[feature_name].max()\n",
    "        min_value = df[feature_name].min()\n",
    "        result[feature_name] = (df[feature_name] - min_value) / (max_value - min_value)\n",
    "    return result"
   ]
  },
  {
   "cell_type": "code",
   "execution_count": 29,
   "metadata": {},
   "outputs": [
    {
     "data": {
      "text/html": [
       "<div>\n",
       "<style scoped>\n",
       "    .dataframe tbody tr th:only-of-type {\n",
       "        vertical-align: middle;\n",
       "    }\n",
       "\n",
       "    .dataframe tbody tr th {\n",
       "        vertical-align: top;\n",
       "    }\n",
       "\n",
       "    .dataframe thead th {\n",
       "        text-align: right;\n",
       "    }\n",
       "</style>\n",
       "<table border=\"1\" class=\"dataframe\">\n",
       "  <thead>\n",
       "    <tr style=\"text-align: right;\">\n",
       "      <th></th>\n",
       "      <th>ID</th>\n",
       "      <th>00</th>\n",
       "      <th>01</th>\n",
       "      <th>02</th>\n",
       "      <th>03</th>\n",
       "      <th>04</th>\n",
       "      <th>05</th>\n",
       "      <th>06</th>\n",
       "      <th>07</th>\n",
       "      <th>08</th>\n",
       "      <th>...</th>\n",
       "      <th>f9</th>\n",
       "      <th>fa</th>\n",
       "      <th>fb</th>\n",
       "      <th>fc</th>\n",
       "      <th>fd</th>\n",
       "      <th>fe</th>\n",
       "      <th>ff</th>\n",
       "      <th>??</th>\n",
       "      <th>Size</th>\n",
       "      <th>Class</th>\n",
       "    </tr>\n",
       "  </thead>\n",
       "  <tbody>\n",
       "    <tr>\n",
       "      <th>0</th>\n",
       "      <td>01azqd4InC7m9JpocGv5</td>\n",
       "      <td>0.262806</td>\n",
       "      <td>0.005498</td>\n",
       "      <td>0.001567</td>\n",
       "      <td>0.002067</td>\n",
       "      <td>0.002048</td>\n",
       "      <td>0.001835</td>\n",
       "      <td>0.002058</td>\n",
       "      <td>0.002946</td>\n",
       "      <td>0.002638</td>\n",
       "      <td>...</td>\n",
       "      <td>0.013560</td>\n",
       "      <td>0.013107</td>\n",
       "      <td>0.013634</td>\n",
       "      <td>0.031724</td>\n",
       "      <td>0.014549</td>\n",
       "      <td>0.014348</td>\n",
       "      <td>0.007843</td>\n",
       "      <td>0.000129</td>\n",
       "      <td>0.092219</td>\n",
       "      <td>9</td>\n",
       "    </tr>\n",
       "    <tr>\n",
       "      <th>1</th>\n",
       "      <td>01IsoiSMh5gxyDYTl4CB</td>\n",
       "      <td>0.017358</td>\n",
       "      <td>0.011737</td>\n",
       "      <td>0.004033</td>\n",
       "      <td>0.003876</td>\n",
       "      <td>0.005303</td>\n",
       "      <td>0.003873</td>\n",
       "      <td>0.004747</td>\n",
       "      <td>0.006984</td>\n",
       "      <td>0.008267</td>\n",
       "      <td>...</td>\n",
       "      <td>0.001920</td>\n",
       "      <td>0.001147</td>\n",
       "      <td>0.001329</td>\n",
       "      <td>0.087867</td>\n",
       "      <td>0.002432</td>\n",
       "      <td>0.088411</td>\n",
       "      <td>0.074851</td>\n",
       "      <td>0.000606</td>\n",
       "      <td>0.121236</td>\n",
       "      <td>2</td>\n",
       "    </tr>\n",
       "    <tr>\n",
       "      <th>2</th>\n",
       "      <td>01jsnpXSAlgw6aPeDxrU</td>\n",
       "      <td>0.040827</td>\n",
       "      <td>0.013434</td>\n",
       "      <td>0.001429</td>\n",
       "      <td>0.001315</td>\n",
       "      <td>0.005464</td>\n",
       "      <td>0.005280</td>\n",
       "      <td>0.005078</td>\n",
       "      <td>0.002155</td>\n",
       "      <td>0.008104</td>\n",
       "      <td>...</td>\n",
       "      <td>0.009804</td>\n",
       "      <td>0.011777</td>\n",
       "      <td>0.012604</td>\n",
       "      <td>0.028423</td>\n",
       "      <td>0.013080</td>\n",
       "      <td>0.013937</td>\n",
       "      <td>0.067001</td>\n",
       "      <td>0.000033</td>\n",
       "      <td>0.084499</td>\n",
       "      <td>9</td>\n",
       "    </tr>\n",
       "    <tr>\n",
       "      <th>3</th>\n",
       "      <td>01kcPWA9K2BOxQeS5Rju</td>\n",
       "      <td>0.009209</td>\n",
       "      <td>0.001708</td>\n",
       "      <td>0.000404</td>\n",
       "      <td>0.000441</td>\n",
       "      <td>0.000770</td>\n",
       "      <td>0.000354</td>\n",
       "      <td>0.000310</td>\n",
       "      <td>0.000481</td>\n",
       "      <td>0.000959</td>\n",
       "      <td>...</td>\n",
       "      <td>0.002121</td>\n",
       "      <td>0.001886</td>\n",
       "      <td>0.002272</td>\n",
       "      <td>0.013032</td>\n",
       "      <td>0.002211</td>\n",
       "      <td>0.003957</td>\n",
       "      <td>0.010904</td>\n",
       "      <td>0.000984</td>\n",
       "      <td>0.010759</td>\n",
       "      <td>1</td>\n",
       "    </tr>\n",
       "    <tr>\n",
       "      <th>4</th>\n",
       "      <td>01SuzwMJEIXsK7A8dQbl</td>\n",
       "      <td>0.008629</td>\n",
       "      <td>0.001000</td>\n",
       "      <td>0.000168</td>\n",
       "      <td>0.000234</td>\n",
       "      <td>0.000342</td>\n",
       "      <td>0.000232</td>\n",
       "      <td>0.000148</td>\n",
       "      <td>0.000229</td>\n",
       "      <td>0.000376</td>\n",
       "      <td>...</td>\n",
       "      <td>0.001530</td>\n",
       "      <td>0.000853</td>\n",
       "      <td>0.001052</td>\n",
       "      <td>0.007511</td>\n",
       "      <td>0.001038</td>\n",
       "      <td>0.001258</td>\n",
       "      <td>0.002998</td>\n",
       "      <td>0.000636</td>\n",
       "      <td>0.006233</td>\n",
       "      <td>8</td>\n",
       "    </tr>\n",
       "  </tbody>\n",
       "</table>\n",
       "<p>5 rows × 260 columns</p>\n",
       "</div>"
      ],
      "text/plain": [
       "                     ID        00        01        02        03        04  \\\n",
       "0  01azqd4InC7m9JpocGv5  0.262806  0.005498  0.001567  0.002067  0.002048   \n",
       "1  01IsoiSMh5gxyDYTl4CB  0.017358  0.011737  0.004033  0.003876  0.005303   \n",
       "2  01jsnpXSAlgw6aPeDxrU  0.040827  0.013434  0.001429  0.001315  0.005464   \n",
       "3  01kcPWA9K2BOxQeS5Rju  0.009209  0.001708  0.000404  0.000441  0.000770   \n",
       "4  01SuzwMJEIXsK7A8dQbl  0.008629  0.001000  0.000168  0.000234  0.000342   \n",
       "\n",
       "         05        06        07        08  ...        f9        fa        fb  \\\n",
       "0  0.001835  0.002058  0.002946  0.002638  ...  0.013560  0.013107  0.013634   \n",
       "1  0.003873  0.004747  0.006984  0.008267  ...  0.001920  0.001147  0.001329   \n",
       "2  0.005280  0.005078  0.002155  0.008104  ...  0.009804  0.011777  0.012604   \n",
       "3  0.000354  0.000310  0.000481  0.000959  ...  0.002121  0.001886  0.002272   \n",
       "4  0.000232  0.000148  0.000229  0.000376  ...  0.001530  0.000853  0.001052   \n",
       "\n",
       "         fc        fd        fe        ff        ??      Size  Class  \n",
       "0  0.031724  0.014549  0.014348  0.007843  0.000129  0.092219      9  \n",
       "1  0.087867  0.002432  0.088411  0.074851  0.000606  0.121236      2  \n",
       "2  0.028423  0.013080  0.013937  0.067001  0.000033  0.084499      9  \n",
       "3  0.013032  0.002211  0.003957  0.010904  0.000984  0.010759      1  \n",
       "4  0.007511  0.001038  0.001258  0.002998  0.000636  0.006233      8  \n",
       "\n",
       "[5 rows x 260 columns]"
      ]
     },
     "metadata": {},
     "output_type": "display_data"
    }
   ],
   "source": [
    "bytes_result = normalize(df=bytes_result)\n",
    "display(bytes_result.head())"
   ]
  },
  {
   "cell_type": "markdown",
   "metadata": {},
   "source": [
    "Multivariate Analysis"
   ]
  },
  {
   "cell_type": "code",
   "execution_count": 30,
   "metadata": {},
   "outputs": [],
   "source": [
    "bytes_tSNE_result = bytes_result.drop(labels=['ID', 'Class'], axis=1)"
   ]
  },
  {
   "cell_type": "code",
   "execution_count": 31,
   "metadata": {},
   "outputs": [
    {
     "data": {
      "text/html": [
       "<div>\n",
       "<style scoped>\n",
       "    .dataframe tbody tr th:only-of-type {\n",
       "        vertical-align: middle;\n",
       "    }\n",
       "\n",
       "    .dataframe tbody tr th {\n",
       "        vertical-align: top;\n",
       "    }\n",
       "\n",
       "    .dataframe thead th {\n",
       "        text-align: right;\n",
       "    }\n",
       "</style>\n",
       "<table border=\"1\" class=\"dataframe\">\n",
       "  <thead>\n",
       "    <tr style=\"text-align: right;\">\n",
       "      <th></th>\n",
       "      <th>00</th>\n",
       "      <th>01</th>\n",
       "      <th>02</th>\n",
       "      <th>03</th>\n",
       "      <th>04</th>\n",
       "      <th>05</th>\n",
       "      <th>06</th>\n",
       "      <th>07</th>\n",
       "      <th>08</th>\n",
       "      <th>09</th>\n",
       "      <th>...</th>\n",
       "      <th>f8</th>\n",
       "      <th>f9</th>\n",
       "      <th>fa</th>\n",
       "      <th>fb</th>\n",
       "      <th>fc</th>\n",
       "      <th>fd</th>\n",
       "      <th>fe</th>\n",
       "      <th>ff</th>\n",
       "      <th>??</th>\n",
       "      <th>Size</th>\n",
       "    </tr>\n",
       "  </thead>\n",
       "  <tbody>\n",
       "    <tr>\n",
       "      <th>0</th>\n",
       "      <td>0.262806</td>\n",
       "      <td>0.005498</td>\n",
       "      <td>0.001567</td>\n",
       "      <td>0.002067</td>\n",
       "      <td>0.002048</td>\n",
       "      <td>0.001835</td>\n",
       "      <td>0.002058</td>\n",
       "      <td>0.002946</td>\n",
       "      <td>0.002638</td>\n",
       "      <td>0.003531</td>\n",
       "      <td>...</td>\n",
       "      <td>0.019969</td>\n",
       "      <td>0.013560</td>\n",
       "      <td>0.013107</td>\n",
       "      <td>0.013634</td>\n",
       "      <td>0.031724</td>\n",
       "      <td>0.014549</td>\n",
       "      <td>0.014348</td>\n",
       "      <td>0.007843</td>\n",
       "      <td>0.000129</td>\n",
       "      <td>0.092219</td>\n",
       "    </tr>\n",
       "    <tr>\n",
       "      <th>1</th>\n",
       "      <td>0.017358</td>\n",
       "      <td>0.011737</td>\n",
       "      <td>0.004033</td>\n",
       "      <td>0.003876</td>\n",
       "      <td>0.005303</td>\n",
       "      <td>0.003873</td>\n",
       "      <td>0.004747</td>\n",
       "      <td>0.006984</td>\n",
       "      <td>0.008267</td>\n",
       "      <td>0.000394</td>\n",
       "      <td>...</td>\n",
       "      <td>0.035399</td>\n",
       "      <td>0.001920</td>\n",
       "      <td>0.001147</td>\n",
       "      <td>0.001329</td>\n",
       "      <td>0.087867</td>\n",
       "      <td>0.002432</td>\n",
       "      <td>0.088411</td>\n",
       "      <td>0.074851</td>\n",
       "      <td>0.000606</td>\n",
       "      <td>0.121236</td>\n",
       "    </tr>\n",
       "    <tr>\n",
       "      <th>2</th>\n",
       "      <td>0.040827</td>\n",
       "      <td>0.013434</td>\n",
       "      <td>0.001429</td>\n",
       "      <td>0.001315</td>\n",
       "      <td>0.005464</td>\n",
       "      <td>0.005280</td>\n",
       "      <td>0.005078</td>\n",
       "      <td>0.002155</td>\n",
       "      <td>0.008104</td>\n",
       "      <td>0.002707</td>\n",
       "      <td>...</td>\n",
       "      <td>0.012771</td>\n",
       "      <td>0.009804</td>\n",
       "      <td>0.011777</td>\n",
       "      <td>0.012604</td>\n",
       "      <td>0.028423</td>\n",
       "      <td>0.013080</td>\n",
       "      <td>0.013937</td>\n",
       "      <td>0.067001</td>\n",
       "      <td>0.000033</td>\n",
       "      <td>0.084499</td>\n",
       "    </tr>\n",
       "    <tr>\n",
       "      <th>3</th>\n",
       "      <td>0.009209</td>\n",
       "      <td>0.001708</td>\n",
       "      <td>0.000404</td>\n",
       "      <td>0.000441</td>\n",
       "      <td>0.000770</td>\n",
       "      <td>0.000354</td>\n",
       "      <td>0.000310</td>\n",
       "      <td>0.000481</td>\n",
       "      <td>0.000959</td>\n",
       "      <td>0.000521</td>\n",
       "      <td>...</td>\n",
       "      <td>0.004728</td>\n",
       "      <td>0.002121</td>\n",
       "      <td>0.001886</td>\n",
       "      <td>0.002272</td>\n",
       "      <td>0.013032</td>\n",
       "      <td>0.002211</td>\n",
       "      <td>0.003957</td>\n",
       "      <td>0.010904</td>\n",
       "      <td>0.000984</td>\n",
       "      <td>0.010759</td>\n",
       "    </tr>\n",
       "    <tr>\n",
       "      <th>4</th>\n",
       "      <td>0.008629</td>\n",
       "      <td>0.001000</td>\n",
       "      <td>0.000168</td>\n",
       "      <td>0.000234</td>\n",
       "      <td>0.000342</td>\n",
       "      <td>0.000232</td>\n",
       "      <td>0.000148</td>\n",
       "      <td>0.000229</td>\n",
       "      <td>0.000376</td>\n",
       "      <td>0.000246</td>\n",
       "      <td>...</td>\n",
       "      <td>0.005129</td>\n",
       "      <td>0.001530</td>\n",
       "      <td>0.000853</td>\n",
       "      <td>0.001052</td>\n",
       "      <td>0.007511</td>\n",
       "      <td>0.001038</td>\n",
       "      <td>0.001258</td>\n",
       "      <td>0.002998</td>\n",
       "      <td>0.000636</td>\n",
       "      <td>0.006233</td>\n",
       "    </tr>\n",
       "  </tbody>\n",
       "</table>\n",
       "<p>5 rows × 258 columns</p>\n",
       "</div>"
      ],
      "text/plain": [
       "         00        01        02        03        04        05        06  \\\n",
       "0  0.262806  0.005498  0.001567  0.002067  0.002048  0.001835  0.002058   \n",
       "1  0.017358  0.011737  0.004033  0.003876  0.005303  0.003873  0.004747   \n",
       "2  0.040827  0.013434  0.001429  0.001315  0.005464  0.005280  0.005078   \n",
       "3  0.009209  0.001708  0.000404  0.000441  0.000770  0.000354  0.000310   \n",
       "4  0.008629  0.001000  0.000168  0.000234  0.000342  0.000232  0.000148   \n",
       "\n",
       "         07        08        09  ...        f8        f9        fa        fb  \\\n",
       "0  0.002946  0.002638  0.003531  ...  0.019969  0.013560  0.013107  0.013634   \n",
       "1  0.006984  0.008267  0.000394  ...  0.035399  0.001920  0.001147  0.001329   \n",
       "2  0.002155  0.008104  0.002707  ...  0.012771  0.009804  0.011777  0.012604   \n",
       "3  0.000481  0.000959  0.000521  ...  0.004728  0.002121  0.001886  0.002272   \n",
       "4  0.000229  0.000376  0.000246  ...  0.005129  0.001530  0.000853  0.001052   \n",
       "\n",
       "         fc        fd        fe        ff        ??      Size  \n",
       "0  0.031724  0.014549  0.014348  0.007843  0.000129  0.092219  \n",
       "1  0.087867  0.002432  0.088411  0.074851  0.000606  0.121236  \n",
       "2  0.028423  0.013080  0.013937  0.067001  0.000033  0.084499  \n",
       "3  0.013032  0.002211  0.003957  0.010904  0.000984  0.010759  \n",
       "4  0.007511  0.001038  0.001258  0.002998  0.000636  0.006233  \n",
       "\n",
       "[5 rows x 258 columns]"
      ]
     },
     "metadata": {},
     "output_type": "display_data"
    }
   ],
   "source": [
    "display(bytes_tSNE_result.head())"
   ]
  },
  {
   "cell_type": "code",
   "execution_count": 32,
   "metadata": {},
   "outputs": [],
   "source": [
    "def plot_tSNE(perplexity, df, y_all):\n",
    "    \"\"\"\n",
    "    Plots the tSNE.\n",
    "    \"\"\"\n",
    "    xtSNE = TSNE(perplexity=50)\n",
    "    xtSNE_result = xtSNE.fit_transform(X=df)\n",
    "    vis_x = xtSNE_result[:, 0]\n",
    "    vis_y = xtSNE_result[:, 1]\n",
    "    \n",
    "    c = list(map(int, y_all))\n",
    "    \n",
    "    plt.figure(figsize=(15, 8))\n",
    "    plt.scatter(x=vis_x, y=vis_y, c=c, cmap=plt.cm.get_cmap('jet', 9))\n",
    "    plt.colorbar()\n",
    "    plt.clim(vmin=1, vmax=9)\n",
    "    plt.show()"
   ]
  },
  {
   "cell_type": "code",
   "execution_count": 33,
   "metadata": {},
   "outputs": [
    {
     "data": {
      "image/png": "[encoded data removed]",
      "text/plain": [
       "<Figure size 1080x576 with 2 Axes>"
      ]
     },
     "metadata": {
      "needs_background": "light"
     },
     "output_type": "display_data"
    }
   ],
   "source": [
    "plot_tSNE(perplexity=50, df=bytes_tSNE_result, y_all=y_all)"
   ]
  },
  {
   "cell_type": "code",
   "execution_count": 34,
   "metadata": {},
   "outputs": [
    {
     "data": {
      "image/png": "[encoded data removed]",
      "text/plain": [
       "<Figure size 1080x576 with 2 Axes>"
      ]
     },
     "metadata": {
      "needs_background": "light"
     },
     "output_type": "display_data"
    }
   ],
   "source": [
    "plot_tSNE(perplexity=30, df=bytes_tSNE_result, y_all=y_all)"
   ]
  },
  {
   "cell_type": "code",
   "execution_count": null,
   "metadata": {},
   "outputs": [],
   "source": []
  },
  {
   "cell_type": "code",
   "execution_count": null,
   "metadata": {},
   "outputs": [],
   "source": []
  },
  {
   "cell_type": "code",
   "execution_count": null,
   "metadata": {},
   "outputs": [],
   "source": []
  },
  {
   "cell_type": "code",
   "execution_count": null,
   "metadata": {},
   "outputs": [],
   "source": []
  },
  {
   "cell_type": "code",
   "execution_count": null,
   "metadata": {},
   "outputs": [],
   "source": []
  }
 ],
 "metadata": {
  "colab": {
   "collapsed_sections": [],
   "machine_shape": "hm",
   "name": "Microsoft-Malware-Detection-Practice.ipynb",
   "provenance": []
  },
  "gpuClass": "standard",
  "kernelspec": {
   "display_name": "Python 3 (ipykernel)",
   "language": "python",
   "name": "python3"
  },
  "language_info": {
   "codemirror_mode": {
    "name": "ipython",
    "version": 3
   },
   "file_extension": ".py",
   "mimetype": "text/x-python",
   "name": "python",
   "nbconvert_exporter": "python",
   "pygments_lexer": "ipython3",
   "version": "3.10.6"
  }
 },
 "nbformat": 4,
 "nbformat_minor": 1
}
