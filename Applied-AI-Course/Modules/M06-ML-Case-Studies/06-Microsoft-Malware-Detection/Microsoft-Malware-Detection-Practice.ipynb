{
 "cells": [
  {
   "cell_type": "markdown",
   "metadata": {
    "id": "XK3q0EWG7WHW"
   },
   "source": [
    "### 1. Business/Real-world Problem"
   ]
  },
  {
   "cell_type": "markdown",
   "metadata": {
    "id": "FV9ZT-tj7fKU"
   },
   "source": [
    "#### 1.1. What is Malware?"
   ]
  },
  {
   "cell_type": "markdown",
   "metadata": {
    "id": "C7eDxUtD7ja7"
   },
   "source": [
    "The term malware is a contraction of malicious software. Put simply, malware is any piece of software that was written with the intent of doing harm to data, devices or to people.\n",
    "\n",
    "Source: https://www.avg.com/en/signal/what-is-malware"
   ]
  },
  {
   "cell_type": "markdown",
   "metadata": {
    "id": "3DDP4qLi7u1T"
   },
   "source": [
    "#### 1.2. Problem Statement"
   ]
  },
  {
   "cell_type": "markdown",
   "metadata": {
    "id": "RnU6o14T7zuB"
   },
   "source": [
    "In the past few years, the malware industry has grown very rapidly that, the syndicates invest heavily in technologies to evade traditional protection, forcing the anti-malware groups/communities to build more robust softwares to detect and terminate these attacks. The major part of protecting a computer system from a malware attack is to **identify whether a given piece of file/software is a malware**."
   ]
  },
  {
   "cell_type": "markdown",
   "metadata": {
    "id": "WFuYDPLk7_Wh"
   },
   "source": [
    "#### 1.3 Source/Useful Links"
   ]
  },
  {
   "cell_type": "markdown",
   "metadata": {
    "id": "gIvFjOc08EAH"
   },
   "source": [
    "Microsoft has been very active in building anti-malware products over the years and it runs it’s anti-malware utilities over 150 million computers around the world. This generates tens of millions of daily data points to be analyzed as potential malware. In order to be effective in analyzing and classifying such large amounts of data, we need to be able to group them into groups and identify their respective families.\n",
    "\n",
    "This dataset provided by Microsoft contains about 9 classes of malware.\n",
    "\n",
    "Source: https://www.kaggle.com/c/malware-classification"
   ]
  },
  {
   "cell_type": "markdown",
   "metadata": {
    "id": "yb1gzrRL8XlL"
   },
   "source": [
    "#### 1.4. Real-world/Business Objectives and Constraints"
   ]
  },
  {
   "cell_type": "markdown",
   "metadata": {
    "id": "ZG6mtfbF8nnX"
   },
   "source": [
    "1. Minimize multi-class error.\n",
    "2. Multi-class probability estimates.\n",
    "3. Malware detection should not take hours and block the user's computer. It should fininsh in a few seconds or a minute."
   ]
  },
  {
   "cell_type": "markdown",
   "metadata": {
    "id": "YZYsV5gAK3lo"
   },
   "source": [
    "### 2. Machine Learning Problem"
   ]
  },
  {
   "cell_type": "markdown",
   "metadata": {
    "id": "ldN8NpZNLBKz"
   },
   "source": [
    "#### 2.1. Data"
   ]
  },
  {
   "cell_type": "markdown",
   "metadata": {
    "id": "tczto9ZsLEjY"
   },
   "source": [
    "##### 2.1.1. Data Overview"
   ]
  },
  {
   "cell_type": "markdown",
   "metadata": {
    "id": "dUXHt1RVLP5L"
   },
   "source": [
    "* Source : https://www.kaggle.com/c/malware-classification/data\n",
    "* For every malware, we have two files\n",
    "    * .asm file (read more: https://www.reviversoft.com/file-extensions/asm)\n",
    "    * .bytes file (the raw data contains the hexadecimal representation of the file's binary content, without the PE header)\n",
    "* Total train dataset consist of 200GB data out of which 50GB of data is .bytes files and 150GB of data is .asm files.\n",
    "* Lots of Data for a single-box/computer.\n",
    "* There are total 10, 868 .bytes files and 10,868 asm files total 21, 736 files\n",
    "* There are 9 types of malwares (9 classes) in our give data.\n",
    "* Types of Malware:\n",
    "    1. Ramnit\n",
    "    2. Lollipop\n",
    "    3. Kelihos_ver3\n",
    "    4. Vundo\n",
    "    5. Simda\n",
    "    6. Tracur\n",
    "    7. Kelihos_ver1\n",
    "    8. Obfuscator.ACY\n",
    "    9. Gatak"
   ]
  },
  {
   "cell_type": "markdown",
   "metadata": {
    "id": "kba43JEXMBND"
   },
   "source": [
    "#### 2.2. Mapping the Real-world Problem to an ML Problem"
   ]
  },
  {
   "cell_type": "markdown",
   "metadata": {
    "id": "gRqPT52QMIp9"
   },
   "source": [
    "##### 2.2.1. Type of Machine Learning Problem"
   ]
  },
  {
   "cell_type": "markdown",
   "metadata": {
    "id": "Vdk90hyuMsby"
   },
   "source": [
    "There are nine different classes of malware that we need to classify a given a data point - Multi class classification problem."
   ]
  },
  {
   "cell_type": "markdown",
   "metadata": {
    "id": "ZCID0AlaMWTq"
   },
   "source": [
    "##### 2.2.2. Performance Metric"
   ]
  },
  {
   "cell_type": "markdown",
   "metadata": {
    "id": "33oV5qxaMfm5"
   },
   "source": [
    "Source: https://www.kaggle.com/c/malware-classification#evaluation\n",
    "\n",
    "Metric(s):\n",
    "* Multi class log-loss\n",
    "* Confusion matrix"
   ]
  },
  {
   "cell_type": "markdown",
   "metadata": {
    "id": "dYDScA-pMmTb"
   },
   "source": [
    "##### 2.2.3. Machine Learing Objectives and Constraints"
   ]
  },
  {
   "cell_type": "markdown",
   "metadata": {
    "id": "7RVA8hqyMvzG"
   },
   "source": [
    "Objective: Predict the probability of each data-point belonging to each of the nine classes.\n",
    "\n",
    "Constraints:\n",
    "* Class probabilities are needed.\n",
    "* Penalize the errors in class probabilites => Metric is Log-loss.\n",
    "* Some Latency constraints."
   ]
  },
  {
   "cell_type": "markdown",
   "metadata": {
    "id": "Lw1Jg6OCM7gQ"
   },
   "source": [
    "#### 2.3. Train and Test Dataset"
   ]
  },
  {
   "cell_type": "markdown",
   "metadata": {
    "id": "dEvLEKfZM-xH"
   },
   "source": [
    "Split the dataset randomly into three parts train, cross validation and test with 64%, 16%, 20% of data respectively."
   ]
  },
  {
   "cell_type": "markdown",
   "metadata": {
    "id": "ia4o-POINEMQ"
   },
   "source": [
    "#### 2.4. Useful Blogs, Videos and Papers"
   ]
  },
  {
   "cell_type": "markdown",
   "metadata": {
    "id": "5Sx1tv8NNLr_"
   },
   "source": [
    "* http://blog.kaggle.com/2015/05/26/microsoft-malware-winners-interview-1st-place-no-to-overfitting/\n",
    "* https://arxiv.org/pdf/1511.04317.pdf\n",
    "* First place solution in Kaggle competition: https://www.youtube.com/watch?v=VLQTRlLGz5Y\n",
    "* https://github.com/dchad/malware-detection\n",
    "* http://vizsec.org/files/2011/Nataraj.pdf\n",
    "* Cross validation is more trustworthy than domain knowledge: https://www.dropbox.com/sh/gfqzv0ckgs4l1bf/AAB6EelnEjvvuQg2nu_pIB6ua?dl=0"
   ]
  },
  {
   "cell_type": "code",
   "execution_count": 1,
   "metadata": {
    "id": "cg9JUbKVRDfR"
   },
   "outputs": [],
   "source": [
    "import warnings\n",
    "warnings.filterwarnings('ignore')"
   ]
  },
  {
   "cell_type": "code",
   "execution_count": 2,
   "metadata": {},
   "outputs": [],
   "source": [
    "import codecs\n",
    "import multiprocessing\n",
    "import numpy as np\n",
    "import os\n",
    "import pandas as pd\n",
    "import pickle\n",
    "import seaborn as sns\n",
    "import shutil\n",
    "import random as r"
   ]
  },
  {
   "cell_type": "code",
   "execution_count": 3,
   "metadata": {},
   "outputs": [],
   "source": [
    "from matplotlib import pyplot as plt\n",
    "from matplotlib import style\n",
    "style.use(style='seaborn-deep')"
   ]
  },
  {
   "cell_type": "code",
   "execution_count": 4,
   "metadata": {},
   "outputs": [],
   "source": [
    "from multiprocessing import Process"
   ]
  },
  {
   "cell_type": "code",
   "execution_count": 5,
   "metadata": {},
   "outputs": [],
   "source": [
    "from sklearn import preprocessing\n",
    "from sklearn.calibration import CalibratedClassifierCV\n",
    "from sklearn.ensemble import RandomForestClassifier\n",
    "from sklearn.linear_model import LogisticRegression\n",
    "from sklearn.manifold import TSNE\n",
    "from sklearn.metrics import confusion_matrix\n",
    "from sklearn.metrics import log_loss\n",
    "from sklearn.model_selection import RandomizedSearchCV\n",
    "from sklearn.model_selection import train_test_split\n",
    "from sklearn.neighbors import KNeighborsClassifier\n",
    "from sklearn.tree import DecisionTreeClassifier"
   ]
  },
  {
   "cell_type": "code",
   "execution_count": 6,
   "metadata": {},
   "outputs": [],
   "source": [
    "from xgboost import XGBClassifier"
   ]
  },
  {
   "cell_type": "code",
   "execution_count": 8,
   "metadata": {},
   "outputs": [],
   "source": [
    "from IPython.display import display"
   ]
  },
  {
   "cell_type": "markdown",
   "metadata": {},
   "source": [
    "### 3. Exploratory Data Analysis"
   ]
  },
  {
   "cell_type": "code",
   "execution_count": 11,
   "metadata": {},
   "outputs": [],
   "source": [
    "label_df = pd.read_csv(filepath_or_buffer='data/trainLabels.csv')"
   ]
  },
  {
   "cell_type": "code",
   "execution_count": 19,
   "metadata": {},
   "outputs": [
    {
     "data": {
      "text/plain": [
       "Index(['Id', 'Class'], dtype='object')"
      ]
     },
     "metadata": {},
     "output_type": "display_data"
    },
    {
     "data": {
      "text/html": [
       "<div>\n",
       "<style scoped>\n",
       "    .dataframe tbody tr th:only-of-type {\n",
       "        vertical-align: middle;\n",
       "    }\n",
       "\n",
       "    .dataframe tbody tr th {\n",
       "        vertical-align: top;\n",
       "    }\n",
       "\n",
       "    .dataframe thead th {\n",
       "        text-align: right;\n",
       "    }\n",
       "</style>\n",
       "<table border=\"1\" class=\"dataframe\">\n",
       "  <thead>\n",
       "    <tr style=\"text-align: right;\">\n",
       "      <th></th>\n",
       "      <th>Id</th>\n",
       "      <th>Class</th>\n",
       "    </tr>\n",
       "  </thead>\n",
       "  <tbody>\n",
       "    <tr>\n",
       "      <th>0</th>\n",
       "      <td>01kcPWA9K2BOxQeS5Rju</td>\n",
       "      <td>1</td>\n",
       "    </tr>\n",
       "    <tr>\n",
       "      <th>1</th>\n",
       "      <td>04EjIdbPV5e1XroFOpiN</td>\n",
       "      <td>1</td>\n",
       "    </tr>\n",
       "    <tr>\n",
       "      <th>2</th>\n",
       "      <td>05EeG39MTRrI6VY21DPd</td>\n",
       "      <td>1</td>\n",
       "    </tr>\n",
       "    <tr>\n",
       "      <th>3</th>\n",
       "      <td>05rJTUWYAKNegBk2wE8X</td>\n",
       "      <td>1</td>\n",
       "    </tr>\n",
       "    <tr>\n",
       "      <th>4</th>\n",
       "      <td>0AnoOZDNbPXIr2MRBSCJ</td>\n",
       "      <td>1</td>\n",
       "    </tr>\n",
       "  </tbody>\n",
       "</table>\n",
       "</div>"
      ],
      "text/plain": [
       "                     Id  Class\n",
       "0  01kcPWA9K2BOxQeS5Rju      1\n",
       "1  04EjIdbPV5e1XroFOpiN      1\n",
       "2  05EeG39MTRrI6VY21DPd      1\n",
       "3  05rJTUWYAKNegBk2wE8X      1\n",
       "4  0AnoOZDNbPXIr2MRBSCJ      1"
      ]
     },
     "metadata": {},
     "output_type": "display_data"
    },
    {
     "data": {
      "text/html": [
       "<div>\n",
       "<style scoped>\n",
       "    .dataframe tbody tr th:only-of-type {\n",
       "        vertical-align: middle;\n",
       "    }\n",
       "\n",
       "    .dataframe tbody tr th {\n",
       "        vertical-align: top;\n",
       "    }\n",
       "\n",
       "    .dataframe thead th {\n",
       "        text-align: right;\n",
       "    }\n",
       "</style>\n",
       "<table border=\"1\" class=\"dataframe\">\n",
       "  <thead>\n",
       "    <tr style=\"text-align: right;\">\n",
       "      <th></th>\n",
       "      <th>Class</th>\n",
       "    </tr>\n",
       "  </thead>\n",
       "  <tbody>\n",
       "    <tr>\n",
       "      <th>count</th>\n",
       "      <td>10868.000000</td>\n",
       "    </tr>\n",
       "    <tr>\n",
       "      <th>mean</th>\n",
       "      <td>4.017851</td>\n",
       "    </tr>\n",
       "    <tr>\n",
       "      <th>std</th>\n",
       "      <td>2.684621</td>\n",
       "    </tr>\n",
       "    <tr>\n",
       "      <th>min</th>\n",
       "      <td>1.000000</td>\n",
       "    </tr>\n",
       "    <tr>\n",
       "      <th>25%</th>\n",
       "      <td>2.000000</td>\n",
       "    </tr>\n",
       "    <tr>\n",
       "      <th>50%</th>\n",
       "      <td>3.000000</td>\n",
       "    </tr>\n",
       "    <tr>\n",
       "      <th>75%</th>\n",
       "      <td>6.000000</td>\n",
       "    </tr>\n",
       "    <tr>\n",
       "      <th>max</th>\n",
       "      <td>9.000000</td>\n",
       "    </tr>\n",
       "  </tbody>\n",
       "</table>\n",
       "</div>"
      ],
      "text/plain": [
       "              Class\n",
       "count  10868.000000\n",
       "mean       4.017851\n",
       "std        2.684621\n",
       "min        1.000000\n",
       "25%        2.000000\n",
       "50%        3.000000\n",
       "75%        6.000000\n",
       "max        9.000000"
      ]
     },
     "metadata": {},
     "output_type": "display_data"
    }
   ],
   "source": [
    "display(label_df.columns)\n",
    "display(label_df.head())\n",
    "display(label_df.describe())"
   ]
  },
  {
   "cell_type": "code",
   "execution_count": 16,
   "metadata": {},
   "outputs": [],
   "source": [
    "def class_distribution(data, label, title='Data'):\n",
    "    \"\"\"\n",
    "    This function plots the distribution of given data[label].\n",
    "    \"\"\"\n",
    "    class_val_counts = data[label].value_counts().to_frame()\n",
    "    percents = class_val_counts.apply(lambda x: round((x / data.shape[0]) * 100, 2))\n",
    "    class_val_counts['Percentage'] = percents\n",
    "    display(class_val_counts)\n",
    "    \n",
    "    plt.figure(figsize=(12, 6))\n",
    "    bars = sns.barplot(x=class_val_counts.index, y=class_val_counts[label])\n",
    "    for bar in bars.patches:\n",
    "        bars.annotate(text=format(bar.get_height()),\n",
    "                      xy=((bar.get_x() + bar.get_width() / 2), bar.get_height()),\n",
    "                      ha='center',\n",
    "                      va='center',\n",
    "                      size=10,\n",
    "                      xytext=(0, 6),\n",
    "                      textcoords='offset points')\n",
    "    plt.xlabel(xlabel=label)\n",
    "    plt.ylabel(ylabel='Value Counts')\n",
    "    plt.title(label=title)\n",
    "    plt.grid()\n",
    "    plt.show()"
   ]
  },
  {
   "cell_type": "code",
   "execution_count": 17,
   "metadata": {},
   "outputs": [
    {
     "data": {
      "text/html": [
       "<div>\n",
       "<style scoped>\n",
       "    .dataframe tbody tr th:only-of-type {\n",
       "        vertical-align: middle;\n",
       "    }\n",
       "\n",
       "    .dataframe tbody tr th {\n",
       "        vertical-align: top;\n",
       "    }\n",
       "\n",
       "    .dataframe thead th {\n",
       "        text-align: right;\n",
       "    }\n",
       "</style>\n",
       "<table border=\"1\" class=\"dataframe\">\n",
       "  <thead>\n",
       "    <tr style=\"text-align: right;\">\n",
       "      <th></th>\n",
       "      <th>Class</th>\n",
       "      <th>Percentage</th>\n",
       "    </tr>\n",
       "  </thead>\n",
       "  <tbody>\n",
       "    <tr>\n",
       "      <th>3</th>\n",
       "      <td>2942</td>\n",
       "      <td>27.07</td>\n",
       "    </tr>\n",
       "    <tr>\n",
       "      <th>2</th>\n",
       "      <td>2478</td>\n",
       "      <td>22.80</td>\n",
       "    </tr>\n",
       "    <tr>\n",
       "      <th>1</th>\n",
       "      <td>1541</td>\n",
       "      <td>14.18</td>\n",
       "    </tr>\n",
       "    <tr>\n",
       "      <th>8</th>\n",
       "      <td>1228</td>\n",
       "      <td>11.30</td>\n",
       "    </tr>\n",
       "    <tr>\n",
       "      <th>9</th>\n",
       "      <td>1013</td>\n",
       "      <td>9.32</td>\n",
       "    </tr>\n",
       "    <tr>\n",
       "      <th>6</th>\n",
       "      <td>751</td>\n",
       "      <td>6.91</td>\n",
       "    </tr>\n",
       "    <tr>\n",
       "      <th>4</th>\n",
       "      <td>475</td>\n",
       "      <td>4.37</td>\n",
       "    </tr>\n",
       "    <tr>\n",
       "      <th>7</th>\n",
       "      <td>398</td>\n",
       "      <td>3.66</td>\n",
       "    </tr>\n",
       "    <tr>\n",
       "      <th>5</th>\n",
       "      <td>42</td>\n",
       "      <td>0.39</td>\n",
       "    </tr>\n",
       "  </tbody>\n",
       "</table>\n",
       "</div>"
      ],
      "text/plain": [
       "   Class  Percentage\n",
       "3   2942       27.07\n",
       "2   2478       22.80\n",
       "1   1541       14.18\n",
       "8   1228       11.30\n",
       "9   1013        9.32\n",
       "6    751        6.91\n",
       "4    475        4.37\n",
       "7    398        3.66\n",
       "5     42        0.39"
      ]
     },
     "metadata": {},
     "output_type": "display_data"
    },
    {
     "data": {
      "image/png": "[encoded data removed]",
      "text/plain": [
       "<Figure size 864x432 with 1 Axes>"
      ]
     },
     "metadata": {
      "needs_background": "light"
     },
     "output_type": "display_data"
    }
   ],
   "source": [
    "class_distribution(data=label_df, label='Class')"
   ]
  },
  {
   "cell_type": "markdown",
   "metadata": {},
   "source": [
    "Feature Extraction"
   ]
  },
  {
   "cell_type": "code",
   "execution_count": 38,
   "metadata": {},
   "outputs": [],
   "source": [
    "def get_file_sizes(label_df, is_bytes=True):\n",
    "    \"\"\"\n",
    "    This function gets the file size.\n",
    "    \"\"\"\n",
    "    size_type = 1024.0 * 1024 # converts to MB.\n",
    "    if is_bytes:\n",
    "        dir_path = os.path.join('data/train', 'train_bytes_files')\n",
    "    else:\n",
    "        dir_path = os.path.join('data/train', 'train_asm_files')\n",
    "    all_files = os.listdir(path=dir_path)\n",
    "    all_sizes = [os.stat(path=os.path.join(dir_path, filepath)).st_size / size_type\n",
    "                 for filepath in all_files]\n",
    "    file_names = [f_name.split('.')[0] for f_name in all_files]\n",
    "    file_size_df = pd.DataFrame(data={'Id': file_names, 'Size': all_sizes})\n",
    "    file_size_class_df = label_df.merge(right=file_size_df)\n",
    "    return file_size_class_df"
   ]
  },
  {
   "cell_type": "code",
   "execution_count": 39,
   "metadata": {},
   "outputs": [],
   "source": [
    "file_size_class_df = get_file_sizes(label_df=label_df)"
   ]
  },
  {
   "cell_type": "code",
   "execution_count": 41,
   "metadata": {},
   "outputs": [
    {
     "data": {
      "text/html": [
       "<div>\n",
       "<style scoped>\n",
       "    .dataframe tbody tr th:only-of-type {\n",
       "        vertical-align: middle;\n",
       "    }\n",
       "\n",
       "    .dataframe tbody tr th {\n",
       "        vertical-align: top;\n",
       "    }\n",
       "\n",
       "    .dataframe thead th {\n",
       "        text-align: right;\n",
       "    }\n",
       "</style>\n",
       "<table border=\"1\" class=\"dataframe\">\n",
       "  <thead>\n",
       "    <tr style=\"text-align: right;\">\n",
       "      <th></th>\n",
       "      <th>Id</th>\n",
       "      <th>Class</th>\n",
       "      <th>Size</th>\n",
       "    </tr>\n",
       "  </thead>\n",
       "  <tbody>\n",
       "    <tr>\n",
       "      <th>0</th>\n",
       "      <td>01kcPWA9K2BOxQeS5Rju</td>\n",
       "      <td>1</td>\n",
       "      <td>0.679688</td>\n",
       "    </tr>\n",
       "    <tr>\n",
       "      <th>1</th>\n",
       "      <td>04EjIdbPV5e1XroFOpiN</td>\n",
       "      <td>1</td>\n",
       "      <td>0.849609</td>\n",
       "    </tr>\n",
       "    <tr>\n",
       "      <th>2</th>\n",
       "      <td>05EeG39MTRrI6VY21DPd</td>\n",
       "      <td>1</td>\n",
       "      <td>0.509766</td>\n",
       "    </tr>\n",
       "    <tr>\n",
       "      <th>3</th>\n",
       "      <td>05rJTUWYAKNegBk2wE8X</td>\n",
       "      <td>1</td>\n",
       "      <td>2.789551</td>\n",
       "    </tr>\n",
       "    <tr>\n",
       "      <th>4</th>\n",
       "      <td>0AnoOZDNbPXIr2MRBSCJ</td>\n",
       "      <td>1</td>\n",
       "      <td>0.566406</td>\n",
       "    </tr>\n",
       "  </tbody>\n",
       "</table>\n",
       "</div>"
      ],
      "text/plain": [
       "                     Id  Class      Size\n",
       "0  01kcPWA9K2BOxQeS5Rju      1  0.679688\n",
       "1  04EjIdbPV5e1XroFOpiN      1  0.849609\n",
       "2  05EeG39MTRrI6VY21DPd      1  0.509766\n",
       "3  05rJTUWYAKNegBk2wE8X      1  2.789551\n",
       "4  0AnoOZDNbPXIr2MRBSCJ      1  0.566406"
      ]
     },
     "metadata": {},
     "output_type": "display_data"
    },
    {
     "data": {
      "text/html": [
       "<div>\n",
       "<style scoped>\n",
       "    .dataframe tbody tr th:only-of-type {\n",
       "        vertical-align: middle;\n",
       "    }\n",
       "\n",
       "    .dataframe tbody tr th {\n",
       "        vertical-align: top;\n",
       "    }\n",
       "\n",
       "    .dataframe thead th {\n",
       "        text-align: right;\n",
       "    }\n",
       "</style>\n",
       "<table border=\"1\" class=\"dataframe\">\n",
       "  <thead>\n",
       "    <tr style=\"text-align: right;\">\n",
       "      <th></th>\n",
       "      <th>Class</th>\n",
       "      <th>Size</th>\n",
       "    </tr>\n",
       "  </thead>\n",
       "  <tbody>\n",
       "    <tr>\n",
       "      <th>count</th>\n",
       "      <td>10868.000000</td>\n",
       "      <td>10868.000000</td>\n",
       "    </tr>\n",
       "    <tr>\n",
       "      <th>mean</th>\n",
       "      <td>4.017851</td>\n",
       "      <td>4.461899</td>\n",
       "    </tr>\n",
       "    <tr>\n",
       "      <th>std</th>\n",
       "      <td>2.684621</td>\n",
       "      <td>3.566332</td>\n",
       "    </tr>\n",
       "    <tr>\n",
       "      <th>min</th>\n",
       "      <td>1.000000</td>\n",
       "      <td>0.107410</td>\n",
       "    </tr>\n",
       "    <tr>\n",
       "      <th>25%</th>\n",
       "      <td>2.000000</td>\n",
       "      <td>0.835449</td>\n",
       "    </tr>\n",
       "    <tr>\n",
       "      <th>50%</th>\n",
       "      <td>3.000000</td>\n",
       "      <td>4.168626</td>\n",
       "    </tr>\n",
       "    <tr>\n",
       "      <th>75%</th>\n",
       "      <td>6.000000</td>\n",
       "      <td>8.099609</td>\n",
       "    </tr>\n",
       "    <tr>\n",
       "      <th>max</th>\n",
       "      <td>9.000000</td>\n",
       "      <td>53.298828</td>\n",
       "    </tr>\n",
       "  </tbody>\n",
       "</table>\n",
       "</div>"
      ],
      "text/plain": [
       "              Class          Size\n",
       "count  10868.000000  10868.000000\n",
       "mean       4.017851      4.461899\n",
       "std        2.684621      3.566332\n",
       "min        1.000000      0.107410\n",
       "25%        2.000000      0.835449\n",
       "50%        3.000000      4.168626\n",
       "75%        6.000000      8.099609\n",
       "max        9.000000     53.298828"
      ]
     },
     "metadata": {},
     "output_type": "display_data"
    }
   ],
   "source": [
    "display(file_size_class_df.head())\n",
    "display(file_size_class_df.describe())"
   ]
  },
  {
   "cell_type": "markdown",
   "metadata": {},
   "source": [
    "Boxplot of file-sizes"
   ]
  },
  {
   "cell_type": "code",
   "execution_count": 52,
   "metadata": {},
   "outputs": [
    {
     "data": {
      "image/png": "[encoded data removed]",
      "text/plain": [
       "<Figure size 864x288 with 1 Axes>"
      ]
     },
     "metadata": {
      "needs_background": "light"
     },
     "output_type": "display_data"
    }
   ],
   "source": [
    "plt.figure(figsize=(12, 4))\n",
    "sns.boxplot(x='Class', y='Size', data=file_size_class_df)\n",
    "plt.title(\"Boxplot of .bytes file sizes (in MB)\")\n",
    "plt.show()"
   ]
  },
  {
   "cell_type": "code",
   "execution_count": null,
   "metadata": {},
   "outputs": [],
   "source": []
  },
  {
   "cell_type": "code",
   "execution_count": null,
   "metadata": {},
   "outputs": [],
   "source": []
  },
  {
   "cell_type": "code",
   "execution_count": null,
   "metadata": {},
   "outputs": [],
   "source": []
  },
  {
   "cell_type": "code",
   "execution_count": null,
   "metadata": {},
   "outputs": [],
   "source": []
  },
  {
   "cell_type": "code",
   "execution_count": null,
   "metadata": {},
   "outputs": [],
   "source": []
  },
  {
   "cell_type": "code",
   "execution_count": null,
   "metadata": {},
   "outputs": [],
   "source": []
  },
  {
   "cell_type": "code",
   "execution_count": null,
   "metadata": {},
   "outputs": [],
   "source": []
  },
  {
   "cell_type": "code",
   "execution_count": null,
   "metadata": {},
   "outputs": [],
   "source": []
  },
  {
   "cell_type": "code",
   "execution_count": null,
   "metadata": {},
   "outputs": [],
   "source": []
  }
 ],
 "metadata": {
  "colab": {
   "collapsed_sections": [],
   "machine_shape": "hm",
   "name": "Microsoft-Malware-Detection-Practice.ipynb",
   "provenance": []
  },
  "gpuClass": "standard",
  "kernelspec": {
   "display_name": "Python 3 (ipykernel)",
   "language": "python",
   "name": "python3"
  },
  "language_info": {
   "codemirror_mode": {
    "name": "ipython",
    "version": 3
   },
   "file_extension": ".py",
   "mimetype": "text/x-python",
   "name": "python",
   "nbconvert_exporter": "python",
   "pygments_lexer": "ipython3",
   "version": "3.10.6"
  }
 },
 "nbformat": 4,
 "nbformat_minor": 1
}
