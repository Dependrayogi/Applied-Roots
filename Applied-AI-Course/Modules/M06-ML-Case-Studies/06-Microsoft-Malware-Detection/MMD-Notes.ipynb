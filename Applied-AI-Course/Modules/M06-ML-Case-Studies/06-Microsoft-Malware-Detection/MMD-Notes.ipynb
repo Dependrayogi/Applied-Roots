{
 "cells": [
  {
   "cell_type": "markdown",
   "id": "3a46b962",
   "metadata": {},
   "source": [
    "![](https://user-images.githubusercontent.com/63338657/187058913-bd5a57d0-66db-4aab-a274-595c916383ac.png)\n",
    "\n",
    "![](https://user-images.githubusercontent.com/63338657/187058964-6b58ddc9-2cc6-40ad-8441-c12cbf81b8c7.png)"
   ]
  },
  {
   "cell_type": "markdown",
   "id": "9d55cdd5",
   "metadata": {},
   "source": [
    "![](https://user-images.githubusercontent.com/63338657/187069426-ce193bdc-c0fd-41cf-9716-5f1fe9f8dc7d.png)"
   ]
  },
  {
   "cell_type": "markdown",
   "id": "9139e12f",
   "metadata": {},
   "source": [
    "![](https://user-images.githubusercontent.com/63338657/187069696-ec14bd3d-4d72-4ded-9e69-92265e5b8be4.png)\n",
    "\n",
    "![](https://user-images.githubusercontent.com/63338657/187069820-e910f5eb-aa66-4b69-8531-5d28ad8a9fe0.png)\n",
    "\n",
    "![](https://user-images.githubusercontent.com/63338657/187069920-b6bc1b94-e7eb-4101-b7c3-7d954d70399d.png)\n",
    "\n",
    "![](https://user-images.githubusercontent.com/63338657/187069977-6155a432-92b7-4651-8ce6-15b1405478bf.png)\n",
    "\n",
    "![](https://user-images.githubusercontent.com/63338657/187070087-64e6f59f-6b35-4366-9400-45d5ef5f2cb5.png)\n",
    "\n",
    "![](https://user-images.githubusercontent.com/63338657/187070389-dea43861-3f5c-46b2-ad11-03a85cfb7e96.png)"
   ]
  },
  {
   "cell_type": "code",
   "execution_count": null,
   "id": "ea332982",
   "metadata": {},
   "outputs": [],
   "source": []
  },
  {
   "cell_type": "code",
   "execution_count": null,
   "id": "d13fc545",
   "metadata": {},
   "outputs": [],
   "source": []
  },
  {
   "cell_type": "code",
   "execution_count": null,
   "id": "f8e2c75c",
   "metadata": {},
   "outputs": [],
   "source": []
  },
  {
   "cell_type": "code",
   "execution_count": null,
   "id": "7a440011",
   "metadata": {},
   "outputs": [],
   "source": []
  },
  {
   "cell_type": "code",
   "execution_count": null,
   "id": "7505fd02",
   "metadata": {},
   "outputs": [],
   "source": []
  }
 ],
 "metadata": {
  "kernelspec": {
   "display_name": "Python 3 (ipykernel)",
   "language": "python",
   "name": "python3"
  },
  "language_info": {
   "codemirror_mode": {
    "name": "ipython",
    "version": 3
   },
   "file_extension": ".py",
   "mimetype": "text/x-python",
   "name": "python",
   "nbconvert_exporter": "python",
   "pygments_lexer": "ipython3",
   "version": "3.10.6"
  }
 },
 "nbformat": 4,
 "nbformat_minor": 5
}
