{
 "cells": [
  {
   "cell_type": "markdown",
   "id": "3a46b962",
   "metadata": {},
   "source": [
    "![](https://user-images.githubusercontent.com/63338657/187058913-bd5a57d0-66db-4aab-a274-595c916383ac.png)\n",
    "\n",
    "![](https://user-images.githubusercontent.com/63338657/187058964-6b58ddc9-2cc6-40ad-8441-c12cbf81b8c7.png)"
   ]
  },
  {
   "cell_type": "markdown",
   "id": "b463f383",
   "metadata": {},
   "source": [
    "![](https://user-images.githubusercontent.com/63338657/187069426-ce193bdc-c0fd-41cf-9716-5f1fe9f8dc7d.png)"
   ]
  },
  {
   "cell_type": "markdown",
   "id": "082756ca",
   "metadata": {},
   "source": [
    "![](https://user-images.githubusercontent.com/63338657/187069696-ec14bd3d-4d72-4ded-9e69-92265e5b8be4.png)\n",
    "\n",
    "![](https://user-images.githubusercontent.com/63338657/187069820-e910f5eb-aa66-4b69-8531-5d28ad8a9fe0.png)\n",
    "\n",
    "![](https://user-images.githubusercontent.com/63338657/187069920-b6bc1b94-e7eb-4101-b7c3-7d954d70399d.png)\n",
    "\n",
    "![](https://user-images.githubusercontent.com/63338657/187069977-6155a432-92b7-4651-8ce6-15b1405478bf.png)\n",
    "\n",
    "![](https://user-images.githubusercontent.com/63338657/187070087-64e6f59f-6b35-4366-9400-45d5ef5f2cb5.png)\n",
    "\n",
    "![](https://user-images.githubusercontent.com/63338657/187070389-dea43861-3f5c-46b2-ad11-03a85cfb7e96.png)"
   ]
  },
  {
   "cell_type": "markdown",
   "id": "a36aa524",
   "metadata": {},
   "source": [
    "![](https://user-images.githubusercontent.com/63338657/187325344-a6d2bf46-d84e-4bde-8c1c-b328c6aaddca.png)\n",
    "\n",
    "![](https://user-images.githubusercontent.com/63338657/187325529-b95c881d-e011-4c10-837d-bddfa1ee7696.png)"
   ]
  },
  {
   "cell_type": "markdown",
   "id": "c05b486b",
   "metadata": {},
   "source": [
    "Data preparation is the process of transforming raw data into a form that is appropriate for\n",
    "modeling. A naive approach to preparing data applies the transform on the entire dataset before\n",
    "evaluating the performance of the model. This results in a problem referred to as data leakage,\n",
    "where knowledge of the hold-out test set leaks into the dataset used to train the model. This\n",
    "can result in an incorrect estimate of model performance when making predictions on new data.\n",
    "A careful application of data preparation techniques is required in order to avoid data leakage."
   ]
  },
  {
   "cell_type": "markdown",
   "id": "cae848b2",
   "metadata": {},
   "source": [
    "Stratified sampling is used when:\n",
    "1. our target population of interest is significantly heterogeneous(severely imbalanced);\n",
    "2. we want to highlight specific subgroups within the population of interest;\n",
    "3. A researcher wants to observe the relationship(s) between two or more subgroups; and, \n",
    "4. A researcher’s goal is to create representative samples from even the smallest, most inaccessible subgroups of the population he or she is interested in."
   ]
  },
  {
   "cell_type": "markdown",
   "id": "13125299",
   "metadata": {},
   "source": [
    "![](https://user-images.githubusercontent.com/63338657/187327227-e0e888d0-1522-4843-9b55-589596279149.png)\n",
    "\n",
    "![](https://user-images.githubusercontent.com/63338657/187327329-30919cd5-140d-46d4-95e2-7a539b4eb85c.png)\n",
    "\n",
    "In general, it says, we should use .fit_transform() on train dataset and .transform() on the test dataset. It is possible in this case that in both  train and test data, we have 256 features and no new feature in test data. But, in other scenerios, it is possible that train data has only 250 features, and there are additional words in test data. "
   ]
  },
  {
   "cell_type": "markdown",
   "id": "2f421db2",
   "metadata": {},
   "source": [
    "![](https://user-images.githubusercontent.com/63338657/187487576-d75329d2-f0b0-439a-99df-32dd20dc25c0.png)\n",
    "\n",
    "![](https://user-images.githubusercontent.com/63338657/187488001-a5a58663-d058-496d-b308-c07c734cca7e.png)"
   ]
  },
  {
   "cell_type": "markdown",
   "id": "b28e71df",
   "metadata": {},
   "source": [
    "![](https://user-images.githubusercontent.com/63338657/188256827-5fcff2d4-44b2-4808-8a9d-2e31f7da5755.png)\n",
    "\n",
    "![](https://user-images.githubusercontent.com/63338657/188256899-4c4fd615-e8b3-4ecb-bec4-94d06d4358d2.png)\n",
    "\n",
    "![](https://user-images.githubusercontent.com/63338657/188258148-666cde2b-4bf9-4dbc-98e0-b9ca517adde9.png)"
   ]
  },
  {
   "cell_type": "code",
   "execution_count": 2,
   "id": "8d318b76",
   "metadata": {},
   "outputs": [],
   "source": [
    "v = [3, 12, 126, 44, 52, 57, 144, 61, 68, 72, 122]"
   ]
  },
  {
   "cell_type": "code",
   "execution_count": 22,
   "id": "5359c83b",
   "metadata": {},
   "outputs": [],
   "source": [
    "def min_distance(v):\n",
    "    v.sort()\n",
    "    result = dict()\n",
    "    for i in range(len(v)-1):\n",
    "        result[(v[i], v[i+1])] = abs(v[i] - v[i+1])\n",
    "    min_diff = min(result.values())\n",
    "    min_keys = [k for k, v in result.items() if v == min_diff]\n",
    "    return min_keys"
   ]
  },
  {
   "cell_type": "code",
   "execution_count": 23,
   "id": "8d12acbb",
   "metadata": {},
   "outputs": [
    {
     "data": {
      "text/plain": [
       "[(57, 61), (68, 72), (122, 126)]"
      ]
     },
     "execution_count": 23,
     "metadata": {},
     "output_type": "execute_result"
    }
   ],
   "source": [
    "min_distance(v=v)"
   ]
  },
  {
   "cell_type": "code",
   "execution_count": null,
   "id": "029a0afa",
   "metadata": {},
   "outputs": [],
   "source": []
  },
  {
   "cell_type": "code",
   "execution_count": null,
   "id": "c11c1e7c",
   "metadata": {},
   "outputs": [],
   "source": []
  }
 ],
 "metadata": {
  "kernelspec": {
   "display_name": "Python 3 (ipykernel)",
   "language": "python",
   "name": "python3"
  },
  "language_info": {
   "codemirror_mode": {
    "name": "ipython",
    "version": 3
   },
   "file_extension": ".py",
   "mimetype": "text/x-python",
   "name": "python",
   "nbconvert_exporter": "python",
   "pygments_lexer": "ipython3",
   "version": "3.10.6"
  }
 },
 "nbformat": 4,
 "nbformat_minor": 5
}
