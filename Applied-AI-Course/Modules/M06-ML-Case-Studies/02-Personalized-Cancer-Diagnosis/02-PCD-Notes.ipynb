{
 "cells": [
  {
   "cell_type": "markdown",
   "id": "b718d4e8",
   "metadata": {},
   "source": [
    "![](https://user-images.githubusercontent.com/63338657/179348144-f61271ad-f2d8-4ddb-81bb-363c44f630cd.png)"
   ]
  },
  {
   "cell_type": "markdown",
   "id": "3f066fac",
   "metadata": {},
   "source": [
    "![](https://user-images.githubusercontent.com/63338657/179348596-ee63de0c-5bf6-4fff-ab40-078b451eecb9.png)\n",
    "\n",
    "![](https://user-images.githubusercontent.com/63338657/179348667-ced29d37-9f8a-4043-8c5b-5427b34cc9f7.png)\n",
    "\n",
    "![](https://user-images.githubusercontent.com/63338657/179348730-5361b11d-03fa-48ad-9f7f-5ed584ea06b7.png)\n",
    "\n",
    "![](https://user-images.githubusercontent.com/63338657/179348879-bf16d568-f799-4e8e-9667-e40d3aae6c7f.png)\n",
    "\n",
    "![](https://user-images.githubusercontent.com/63338657/179348923-11842782-d9c4-453a-b219-5225dc1a4b11.png)\n",
    "\n",
    "![](https://user-images.githubusercontent.com/63338657/179349116-dad92947-3d75-4e57-9844-58a01e2a2d7d.png)\n",
    "\n",
    "![](https://user-images.githubusercontent.com/63338657/179349175-a1a1345b-897d-4501-a17a-4bb7a03b35c9.png)\n",
    "\n",
    "![](https://user-images.githubusercontent.com/63338657/179349248-8f1b2a33-c0a2-4477-9e11-6d19d43ee801.png)\n",
    "\n",
    "Important link: https://machinelearningmastery.com/tour-of-evaluation-metrics-for-imbalanced-classification/\n",
    "\n",
    "![](https://machinelearningmastery.com/wp-content/uploads/2019/12/How-to-Choose-a-Metric-for-Imbalanced-Classification-latest.png)"
   ]
  },
  {
   "cell_type": "markdown",
   "id": "1fd605fc",
   "metadata": {},
   "source": [
    "![](https://user-images.githubusercontent.com/63338657/179359171-ccafdd83-04d8-4e17-aeac-f808e61211b6.png)\n",
    "\n",
    "![](https://user-images.githubusercontent.com/63338657/179359230-ca672fec-535e-4121-a1a9-cd0b15e2352b.png)\n",
    "\n",
    "![](https://user-images.githubusercontent.com/63338657/179359338-cf00b2e6-5da6-4ed3-966a-9994970a8308.png)"
   ]
  },
  {
   "cell_type": "markdown",
   "id": "422129a3",
   "metadata": {},
   "source": [
    "![](https://user-images.githubusercontent.com/63338657/179395181-43dd8f40-9f92-490d-9743-25e493f77747.png)\n",
    "\n",
    "![](https://user-images.githubusercontent.com/63338657/179395429-4dc5bdeb-3e66-437e-8d27-00fd3939fa43.png)\n",
    "\n",
    "![](https://user-images.githubusercontent.com/63338657/179395611-4175cf13-f7b6-4683-973e-db9f7784118e.png)"
   ]
  },
  {
   "cell_type": "markdown",
   "id": "fdb1cc3c",
   "metadata": {},
   "source": [
    "![](https://user-images.githubusercontent.com/63338657/179538032-0b208f80-a0b5-4831-9159-2d0db48cd530.png)\n",
    "\n",
    "![](https://user-images.githubusercontent.com/63338657/179538437-844a371b-ddf4-4469-929e-d69fe6b24eeb.png)\n",
    "\n",
    "![](https://user-images.githubusercontent.com/63338657/179540085-122e7bd4-c68a-4d5a-8ea7-f9681d5c9aff.png)"
   ]
  },
  {
   "cell_type": "code",
   "execution_count": null,
   "id": "3ca94c42",
   "metadata": {},
   "outputs": [],
   "source": []
  },
  {
   "cell_type": "code",
   "execution_count": null,
   "id": "c93e3a9a",
   "metadata": {},
   "outputs": [],
   "source": []
  },
  {
   "cell_type": "code",
   "execution_count": null,
   "id": "5ab49c93",
   "metadata": {},
   "outputs": [],
   "source": []
  }
 ],
 "metadata": {
  "kernelspec": {
   "display_name": "Python 3 (ipykernel)",
   "language": "python",
   "name": "python3"
  },
  "language_info": {
   "codemirror_mode": {
    "name": "ipython",
    "version": 3
   },
   "file_extension": ".py",
   "mimetype": "text/x-python",
   "name": "python",
   "nbconvert_exporter": "python",
   "pygments_lexer": "ipython3",
   "version": "3.10.5"
  }
 },
 "nbformat": 4,
 "nbformat_minor": 5
}
