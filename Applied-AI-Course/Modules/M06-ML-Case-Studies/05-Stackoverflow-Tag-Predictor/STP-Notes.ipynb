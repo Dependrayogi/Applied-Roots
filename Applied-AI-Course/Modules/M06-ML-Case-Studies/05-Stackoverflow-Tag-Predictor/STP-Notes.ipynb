{
 "cells": [
  {
   "cell_type": "markdown",
   "id": "d59d2084",
   "metadata": {},
   "source": [
    "Link: https://youtu.be/nNDqbUhtIRg\n",
    "\n",
    "Paper: https://www.microsoft.com/en-us/research/wp-content/uploads/2016/02/tagging-1.pdf\n",
    "\n",
    "![](https://user-images.githubusercontent.com/63338657/185819867-c87a1e1e-4e52-4156-b711-84aa347945b0.png)"
   ]
  },
  {
   "cell_type": "markdown",
   "id": "c3419a7e",
   "metadata": {},
   "source": [
    "![](https://user-images.githubusercontent.com/63338657/185820535-06449d7e-7ec5-4c48-837c-cfa8eaf4619b.png)"
   ]
  },
  {
   "cell_type": "markdown",
   "id": "444dd376",
   "metadata": {},
   "source": [
    "![](https://user-images.githubusercontent.com/63338657/185820921-0547161c-86d5-4a55-83d5-4ace6c71a726.png)\n",
    "\n",
    "![](https://user-images.githubusercontent.com/63338657/185821098-00600c05-c638-4f41-b80b-0f22cef3e401.png)"
   ]
  },
  {
   "cell_type": "markdown",
   "id": "21883ffa",
   "metadata": {},
   "source": [
    "![](https://user-images.githubusercontent.com/63338657/185821557-d6aba4c0-128a-4cf5-b68c-211489bafb89.png)\n",
    "\n",
    "Important Link: https://scikit-learn.org/stable/modules/multiclass.html"
   ]
  },
  {
   "cell_type": "code",
   "execution_count": null,
   "id": "a45eefa1",
   "metadata": {},
   "outputs": [],
   "source": []
  },
  {
   "cell_type": "code",
   "execution_count": null,
   "id": "577b48b1",
   "metadata": {},
   "outputs": [],
   "source": []
  },
  {
   "cell_type": "code",
   "execution_count": null,
   "id": "e1c98d1b",
   "metadata": {},
   "outputs": [],
   "source": []
  },
  {
   "cell_type": "code",
   "execution_count": null,
   "id": "b38d59c0",
   "metadata": {},
   "outputs": [],
   "source": []
  },
  {
   "cell_type": "code",
   "execution_count": null,
   "id": "f6228ca7",
   "metadata": {},
   "outputs": [],
   "source": []
  },
  {
   "cell_type": "code",
   "execution_count": null,
   "id": "a93f8587",
   "metadata": {},
   "outputs": [],
   "source": []
  }
 ],
 "metadata": {
  "kernelspec": {
   "display_name": "Python 3 (ipykernel)",
   "language": "python",
   "name": "python3"
  },
  "language_info": {
   "codemirror_mode": {
    "name": "ipython",
    "version": 3
   },
   "file_extension": ".py",
   "mimetype": "text/x-python",
   "name": "python",
   "nbconvert_exporter": "python",
   "pygments_lexer": "ipython3",
   "version": "3.10.6"
  }
 },
 "nbformat": 4,
 "nbformat_minor": 5
}
