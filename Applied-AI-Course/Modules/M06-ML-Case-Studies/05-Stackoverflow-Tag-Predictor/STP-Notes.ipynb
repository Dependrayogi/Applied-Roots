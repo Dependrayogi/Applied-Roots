{
 "cells": [
  {
   "cell_type": "markdown",
   "id": "30ba5235",
   "metadata": {},
   "source": [
    "Link: https://youtu.be/nNDqbUhtIRg\n",
    "\n",
    "Paper: https://www.microsoft.com/en-us/research/wp-content/uploads/2016/02/tagging-1.pdf\n",
    "\n",
    "![](https://user-images.githubusercontent.com/63338657/185819867-c87a1e1e-4e52-4156-b711-84aa347945b0.png)"
   ]
  },
  {
   "cell_type": "markdown",
   "id": "f80ffc1c",
   "metadata": {},
   "source": [
    "![](https://user-images.githubusercontent.com/63338657/185820535-06449d7e-7ec5-4c48-837c-cfa8eaf4619b.png)"
   ]
  },
  {
   "cell_type": "markdown",
   "id": "735fa54b",
   "metadata": {},
   "source": [
    "![](https://user-images.githubusercontent.com/63338657/185820921-0547161c-86d5-4a55-83d5-4ace6c71a726.png)\n",
    "\n",
    "![](https://user-images.githubusercontent.com/63338657/185821098-00600c05-c638-4f41-b80b-0f22cef3e401.png)"
   ]
  },
  {
   "cell_type": "markdown",
   "id": "195540d1",
   "metadata": {},
   "source": [
    "![](https://user-images.githubusercontent.com/63338657/185821557-d6aba4c0-128a-4cf5-b68c-211489bafb89.png)\n",
    "\n",
    "Important Link: https://scikit-learn.org/stable/modules/multiclass.html"
   ]
  },
  {
   "cell_type": "markdown",
   "id": "835e946d",
   "metadata": {},
   "source": [
    "![](https://user-images.githubusercontent.com/63338657/186036806-e19f5805-4a97-4cab-a772-7714ad85f8da.png)\n",
    "\n",
    "![](https://user-images.githubusercontent.com/63338657/186037330-9ede6240-7250-48c6-ab7f-e06f52186a0b.png)\n",
    "\n",
    "![](https://user-images.githubusercontent.com/63338657/186037803-141cc3a0-0cf4-4c91-ba0f-370c5280e4e1.png)\n",
    "\n",
    "![](https://user-images.githubusercontent.com/63338657/186037968-8a92899d-fe57-472f-bd79-a1e6091ce2ad.png)\n",
    "\n",
    "![](https://user-images.githubusercontent.com/63338657/186038214-dc798301-54b4-4743-a9a2-24ab60b55fda.png)\n",
    "\n",
    "![](https://user-images.githubusercontent.com/63338657/186038331-5a60f9b5-5559-4092-83a3-ad76e8bac4de.png)\n",
    "\n",
    "![](https://user-images.githubusercontent.com/63338657/186038714-a37de6f6-1d4d-482c-8d35-03c0b5acef46.png)"
   ]
  },
  {
   "cell_type": "markdown",
   "id": "c3018861",
   "metadata": {},
   "source": [
    "![](https://user-images.githubusercontent.com/63338657/186039089-b029f983-ca11-425f-8164-fd8e9de1dbe5.png)\n",
    "\n",
    "![](https://user-images.githubusercontent.com/63338657/186039427-2a9e8f0e-765f-4d36-b3f5-b968d15250e4.png)\n",
    "\n",
    "![](https://user-images.githubusercontent.com/63338657/186039580-809181d8-4900-4b43-b5b9-a2ada6b3bd69.png)\n",
    "\n",
    "![](https://user-images.githubusercontent.com/63338657/186039729-5fb45f36-f654-4863-863c-5606cce7e4ce.png)"
   ]
  },
  {
   "cell_type": "markdown",
   "id": "66310f0d",
   "metadata": {},
   "source": [
    "![](https://user-images.githubusercontent.com/63338657/186545687-48a0c50e-4b8b-4095-a1e5-63fe3c2ab4ef.png)\n",
    "\n",
    "![](https://user-images.githubusercontent.com/63338657/186545769-8fcbcbcc-0c16-42ce-af15-f953611344cb.png)\n",
    "\n",
    "Link: https://www.analyticsvidhya.com/blog/2017/08/introduction-to-multi-label-classification/\n",
    "\n",
    "![](https://user-images.githubusercontent.com/63338657/186547358-ca33d8cf-da39-4f86-8caf-15d38c4e4122.png)\n",
    "\n",
    "Link: https://aoakintibu.medium.com/multilabel-classification-with-cnn-278702d98c5b"
   ]
  },
  {
   "cell_type": "markdown",
   "id": "02a33e3e",
   "metadata": {},
   "source": [
    "![](https://user-images.githubusercontent.com/63338657/186938954-4c1ba77a-1638-4b73-9e49-057b9966a702.png)"
   ]
  },
  {
   "cell_type": "code",
   "execution_count": 1,
   "id": "17763bc8",
   "metadata": {},
   "outputs": [],
   "source": [
    "import warnings\n",
    "warnings.filterwarnings('ignore')"
   ]
  },
  {
   "cell_type": "code",
   "execution_count": 2,
   "id": "20d3db81",
   "metadata": {},
   "outputs": [],
   "source": [
    "import numpy as np"
   ]
  },
  {
   "cell_type": "code",
   "execution_count": 3,
   "id": "9503800e",
   "metadata": {
    "scrolled": true
   },
   "outputs": [
    {
     "name": "stdout",
     "output_type": "stream",
     "text": [
      "[[1 2 3 4]\n",
      " [1 2 3 4]]\n",
      "[[2 4 6 8]]\n",
      "[[10]\n",
      " [10]]\n"
     ]
    }
   ],
   "source": [
    "arr1 = np.matrix([[1, 2, 3, 4], [1, 2, 3, 4]])\n",
    "print(arr1)\n",
    "print(arr1.sum(axis=0))\n",
    "print(arr1.sum(axis=1))"
   ]
  },
  {
   "cell_type": "code",
   "execution_count": 4,
   "id": "9de61611",
   "metadata": {},
   "outputs": [
    {
     "name": "stdout",
     "output_type": "stream",
     "text": [
      "[[1 2 3 4]\n",
      " [1 2 3 4]]\n",
      "[2 4 6 8]\n",
      "[10 10]\n"
     ]
    }
   ],
   "source": [
    "arr2 = np.array([[1, 2, 3, 4], [1, 2, 3, 4]])\n",
    "print(arr2)\n",
    "print(arr2.sum(axis=0))\n",
    "print(arr2.sum(axis=1))"
   ]
  },
  {
   "cell_type": "code",
   "execution_count": 5,
   "id": "dac5ca6d",
   "metadata": {},
   "outputs": [
    {
     "name": "stdout",
     "output_type": "stream",
     "text": [
      "['and' 'document' 'first' 'is' 'one' 'second' 'the' 'third' 'this']\n"
     ]
    }
   ],
   "source": [
    "from sklearn.feature_extraction.text import CountVectorizer\n",
    "corpus = [\n",
    "    'This is the first document.',\n",
    "    'This document is the second document.',\n",
    "    'And this is the third one.',\n",
    "    'Is this the first document?',\n",
    "]\n",
    "vectorizer = CountVectorizer()\n",
    "X = vectorizer.fit_transform(corpus)\n",
    "print(vectorizer.get_feature_names_out())"
   ]
  },
  {
   "cell_type": "code",
   "execution_count": 6,
   "id": "2c2daa04",
   "metadata": {},
   "outputs": [
    {
     "name": "stdout",
     "output_type": "stream",
     "text": [
      "<class 'scipy.sparse._csr.csr_matrix'>\n"
     ]
    }
   ],
   "source": [
    "print(type(X))"
   ]
  },
  {
   "cell_type": "code",
   "execution_count": 7,
   "id": "f6d63733",
   "metadata": {},
   "outputs": [
    {
     "name": "stdout",
     "output_type": "stream",
     "text": [
      "[[0 1 1 1 0 0 1 0 1]\n",
      " [0 2 0 1 0 1 1 0 1]\n",
      " [1 0 0 1 1 0 1 1 1]\n",
      " [0 1 1 1 0 0 1 0 1]]\n"
     ]
    }
   ],
   "source": [
    "print(X.toarray())"
   ]
  },
  {
   "cell_type": "code",
   "execution_count": 8,
   "id": "b43bf142",
   "metadata": {},
   "outputs": [],
   "source": [
    "from IPython.display import display"
   ]
  },
  {
   "cell_type": "code",
   "execution_count": 9,
   "id": "587647fc",
   "metadata": {},
   "outputs": [],
   "source": [
    "import pandas as pd"
   ]
  },
  {
   "cell_type": "code",
   "execution_count": 10,
   "id": "83c44afb",
   "metadata": {
    "scrolled": true
   },
   "outputs": [
    {
     "data": {
      "text/html": [
       "<div>\n",
       "<style scoped>\n",
       "    .dataframe tbody tr th:only-of-type {\n",
       "        vertical-align: middle;\n",
       "    }\n",
       "\n",
       "    .dataframe tbody tr th {\n",
       "        vertical-align: top;\n",
       "    }\n",
       "\n",
       "    .dataframe thead th {\n",
       "        text-align: right;\n",
       "    }\n",
       "</style>\n",
       "<table border=\"1\" class=\"dataframe\">\n",
       "  <thead>\n",
       "    <tr style=\"text-align: right;\">\n",
       "      <th></th>\n",
       "      <th>C1</th>\n",
       "      <th>C2</th>\n",
       "    </tr>\n",
       "  </thead>\n",
       "  <tbody>\n",
       "    <tr>\n",
       "      <th>0</th>\n",
       "      <td>[1]</td>\n",
       "      <td>[1]</td>\n",
       "    </tr>\n",
       "    <tr>\n",
       "      <th>1</th>\n",
       "      <td>[2]</td>\n",
       "      <td>[2]</td>\n",
       "    </tr>\n",
       "    <tr>\n",
       "      <th>2</th>\n",
       "      <td>[3]</td>\n",
       "      <td>[3]</td>\n",
       "    </tr>\n",
       "    <tr>\n",
       "      <th>3</th>\n",
       "      <td>[4]</td>\n",
       "      <td>[4]</td>\n",
       "    </tr>\n",
       "  </tbody>\n",
       "</table>\n",
       "</div>"
      ],
      "text/plain": [
       "    C1   C2\n",
       "0  [1]  [1]\n",
       "1  [2]  [2]\n",
       "2  [3]  [3]\n",
       "3  [4]  [4]"
      ]
     },
     "metadata": {},
     "output_type": "display_data"
    }
   ],
   "source": [
    "df = pd.DataFrame(data={'C1': [[1], [2], [3], [4]],\n",
    "                        'C2': [[1], [2], [3], [4]]})\n",
    "display(df)"
   ]
  },
  {
   "cell_type": "code",
   "execution_count": 11,
   "id": "71a28ba7",
   "metadata": {},
   "outputs": [
    {
     "data": {
      "text/plain": [
       "C1    [1, 2, 3, 4]\n",
       "C2    [1, 2, 3, 4]\n",
       "dtype: object"
      ]
     },
     "metadata": {},
     "output_type": "display_data"
    },
    {
     "data": {
      "text/plain": [
       "C1    [1, 2, 3, 4]\n",
       "C2    [1, 2, 3, 4]\n",
       "dtype: object"
      ]
     },
     "metadata": {},
     "output_type": "display_data"
    },
    {
     "data": {
      "text/plain": [
       "0    [1, 1]\n",
       "1    [2, 2]\n",
       "2    [3, 3]\n",
       "3    [4, 4]\n",
       "dtype: object"
      ]
     },
     "metadata": {},
     "output_type": "display_data"
    }
   ],
   "source": [
    "display(df.sum())\n",
    "display(df.sum(axis=0))\n",
    "display(df.sum(axis=1))"
   ]
  },
  {
   "cell_type": "code",
   "execution_count": 12,
   "id": "960d940c",
   "metadata": {},
   "outputs": [
    {
     "data": {
      "text/plain": [
       "[1, 2, 3, 4, 1, 2, 3, 4]"
      ]
     },
     "metadata": {},
     "output_type": "display_data"
    },
    {
     "data": {
      "text/plain": [
       "[1, 2, 3, 4, 1, 2, 3, 4]"
      ]
     },
     "metadata": {},
     "output_type": "display_data"
    },
    {
     "data": {
      "text/plain": [
       "[1, 1, 2, 2, 3, 3, 4, 4]"
      ]
     },
     "metadata": {},
     "output_type": "display_data"
    }
   ],
   "source": [
    "display(df.sum().sum())\n",
    "display(df.sum(axis=0).sum())\n",
    "display(df.sum(axis=1).sum())"
   ]
  },
  {
   "cell_type": "code",
   "execution_count": 13,
   "id": "266a9976",
   "metadata": {},
   "outputs": [],
   "source": [
    "from sklearn.metrics import confusion_matrix"
   ]
  },
  {
   "cell_type": "code",
   "execution_count": 14,
   "id": "55a9255b",
   "metadata": {},
   "outputs": [
    {
     "name": "stdout",
     "output_type": "stream",
     "text": [
      "<class 'numpy.ndarray'>\n",
      "[[1 0 0 0 0]\n",
      " [1 0 0 0 0]\n",
      " [0 0 1 0 0]\n",
      " [0 1 0 0 0]\n",
      " [0 0 0 0 1]]\n"
     ]
    }
   ],
   "source": [
    "cmat = confusion_matrix(y_true=[1, 2, 3, 4, 5], y_pred=[1, 1, 3, 2, 5])\n",
    "print(type(cmat))\n",
    "print(cmat)"
   ]
  },
  {
   "cell_type": "code",
   "execution_count": 15,
   "id": "55fcf986",
   "metadata": {
    "scrolled": true
   },
   "outputs": [
    {
     "name": "stdout",
     "output_type": "stream",
     "text": [
      "[[0.5 0.  0.  nan 0. ]\n",
      " [0.5 0.  0.  nan 0. ]\n",
      " [0.  0.  1.  nan 0. ]\n",
      " [0.  1.  0.  nan 0. ]\n",
      " [0.  0.  0.  nan 1. ]]\n",
      "[[1. 0. 0. 0. 0.]\n",
      " [1. 0. 0. 0. 0.]\n",
      " [0. 0. 1. 0. 0.]\n",
      " [0. 1. 0. 0. 0.]\n",
      " [0. 0. 0. 0. 1.]]\n"
     ]
    }
   ],
   "source": [
    "print(cmat / cmat.sum(axis=0))\n",
    "print(((cmat.T) / (cmat.sum(axis=1).T)).T)"
   ]
  },
  {
   "cell_type": "code",
   "execution_count": 16,
   "id": "b49427d4",
   "metadata": {},
   "outputs": [
    {
     "name": "stdout",
     "output_type": "stream",
     "text": [
      "[3, 2, 1, 0]\n"
     ]
    }
   ],
   "source": [
    "t = [2, 4, 6, 8]\n",
    "t_sorted = sorted(range(len(t)), key=lambda i: t[i], reverse=True)\n",
    "print(t_sorted)"
   ]
  },
  {
   "cell_type": "markdown",
   "id": "225b75e0",
   "metadata": {},
   "source": [
    "![](https://user-images.githubusercontent.com/63338657/186948276-72170d4d-c46b-45de-b462-beb84c61a487.png)"
   ]
  },
  {
   "cell_type": "markdown",
   "id": "972c0f2c",
   "metadata": {},
   "source": [
    "![](https://user-images.githubusercontent.com/63338657/186953307-7316201b-c09c-4e20-bd6b-627186d33b8f.png)"
   ]
  },
  {
   "cell_type": "markdown",
   "id": "cc007c11",
   "metadata": {},
   "source": [
    "![](https://user-images.githubusercontent.com/63338657/186956636-e3f50fef-5d41-41ec-82df-d27650e2561b.png)"
   ]
  },
  {
   "cell_type": "code",
   "execution_count": null,
   "id": "9a62de8f",
   "metadata": {},
   "outputs": [],
   "source": []
  }
 ],
 "metadata": {
  "kernelspec": {
   "display_name": "Python 3 (ipykernel)",
   "language": "python",
   "name": "python3"
  },
  "language_info": {
   "codemirror_mode": {
    "name": "ipython",
    "version": 3
   },
   "file_extension": ".py",
   "mimetype": "text/x-python",
   "name": "python",
   "nbconvert_exporter": "python",
   "pygments_lexer": "ipython3",
   "version": "3.10.6"
  }
 },
 "nbformat": 4,
 "nbformat_minor": 5
}
