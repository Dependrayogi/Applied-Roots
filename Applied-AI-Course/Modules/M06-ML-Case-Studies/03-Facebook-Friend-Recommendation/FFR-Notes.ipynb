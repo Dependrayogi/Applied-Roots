{
 "cells": [
  {
   "cell_type": "markdown",
   "id": "771c0e4a",
   "metadata": {},
   "source": [
    "![](https://user-images.githubusercontent.com/63338657/181753412-ec7db5a4-0745-400d-a5fd-d1cbe5d04db5.png)\n",
    "\n",
    "![](https://user-images.githubusercontent.com/63338657/181753831-ad0b7cd4-bf07-4101-9f8a-49534e489f05.png)\n",
    "\n",
    "![](https://user-images.githubusercontent.com/63338657/181754247-56c670c9-b4be-4d58-95a5-445db3b9300c.png)\n",
    "\n",
    "![](https://user-images.githubusercontent.com/63338657/181754639-d5ea6cee-2411-4f72-b1c7-2ada5f8521fb.png)"
   ]
  },
  {
   "cell_type": "markdown",
   "id": "519c99a1",
   "metadata": {},
   "source": [
    "![](https://user-images.githubusercontent.com/63338657/181902976-2ff7c1dd-e715-44e3-b7a3-9b0b8afc7ee6.png)\n",
    "\n",
    "![](https://user-images.githubusercontent.com/63338657/181903052-b02cf0d6-061e-4ea8-80e5-0f192fbb43fc.png)\n",
    "\n",
    "![](https://user-images.githubusercontent.com/63338657/181903393-ef5a5093-aef5-4580-a7d6-73621d6d80d2.png)"
   ]
  },
  {
   "cell_type": "markdown",
   "id": "49fe2ce3",
   "metadata": {},
   "source": [
    "![](https://user-images.githubusercontent.com/63338657/182012066-4dabebe6-84cf-4c39-a32f-aee19600f613.png)\n",
    "\n",
    "![](https://user-images.githubusercontent.com/63338657/182013396-ffb9b5f5-302e-4e2e-8119-218e1b5017e0.png)"
   ]
  },
  {
   "cell_type": "markdown",
   "id": "e0f7eaa5",
   "metadata": {},
   "source": [
    "![](https://user-images.githubusercontent.com/63338657/182189993-d0245621-7e5c-4f81-b59d-c966344c7dbc.png)\n",
    "\n",
    "![](https://user-images.githubusercontent.com/63338657/182190648-8a9e85a8-a150-423e-b4f1-38cb374facac.png)\n",
    "\n",
    "![](https://user-images.githubusercontent.com/63338657/183459653-0c1d52d9-09e6-44e0-a2f3-e869f94cb384.png)\n",
    "\n",
    "![](https://user-images.githubusercontent.com/63338657/182193461-4f55aa74-2873-4713-95ae-842f8e4ab0da.png)"
   ]
  },
  {
   "cell_type": "markdown",
   "id": "8b5eefde",
   "metadata": {},
   "source": [
    "![](https://user-images.githubusercontent.com/63338657/183462762-e6333b1f-7167-4c4c-9071-c110cb571ebf.png)\n",
    "\n",
    "The timestamp is useful when we have timestamp available for all the data points. In that case we use temporal splitting to split the data based on timestamps, or to derive new data like weekday, day time etc.\n",
    "Here, as we we are creating class 0 by ourseleves and can not add timestamp for that, we can not use that. But yeah, if we can create timestamps for class 0, we can do temporal splitting and make use of timestamp."
   ]
  },
  {
   "cell_type": "markdown",
   "id": "97626c06",
   "metadata": {},
   "source": [
    "![](https://user-images.githubusercontent.com/63338657/184041862-03ff22de-1e2d-40ab-82e4-1eb7dd4c2e48.png)\n",
    "\n",
    "![](https://user-images.githubusercontent.com/63338657/184042138-4336082d-b2d8-49ef-bde9-09f0239f4410.png)\n",
    "\n",
    "![](https://user-images.githubusercontent.com/63338657/184042367-dec4b564-c0ed-4fde-bed3-6c6da5421ab7.png)\n",
    "\n",
    "![](https://user-images.githubusercontent.com/63338657/184042690-5d20945d-8aa3-4dc1-9b19-5288a679fef6.png)"
   ]
  },
  {
   "cell_type": "markdown",
   "id": "8c47de26",
   "metadata": {},
   "source": [
    "![](https://user-images.githubusercontent.com/63338657/184047840-5626c7a0-b172-40eb-b93e-f20d50627d18.png)\n",
    "\n",
    "![](https://user-images.githubusercontent.com/63338657/184048588-9e272596-37f6-4245-b58b-0e82528f0a67.png)\n",
    "\n",
    "![](https://user-images.githubusercontent.com/63338657/184048794-d7ff99d5-b388-4dc5-9bdd-a1ac0fae8b3a.png)\n",
    "\n",
    "![](https://user-images.githubusercontent.com/63338657/184049366-a60abaa9-b2e2-48d0-a872-48aceb85bf40.png)\n",
    "\n",
    "![](https://user-images.githubusercontent.com/63338657/184049896-f41b249e-114b-4b72-b9ad-01228ccd7786.png)"
   ]
  },
  {
   "cell_type": "markdown",
   "id": "1c51b93e",
   "metadata": {},
   "source": [
    "![](https://user-images.githubusercontent.com/63338657/184473365-f5c39995-e16b-4bec-a2aa-b764d3bf1423.png)\n",
    "\n",
    "![](https://user-images.githubusercontent.com/63338657/184472668-d4c05719-9499-465e-a9b5-4015c9675e03.png)\n",
    "\n",
    "![](https://user-images.githubusercontent.com/63338657/184473242-a88e25af-f90d-4c85-8fd2-d81bb5aece60.png)\n",
    "\n",
    "![](https://user-images.githubusercontent.com/63338657/184473165-e8fb5396-789b-4d45-b70b-14a2edc94d40.png)"
   ]
  },
  {
   "cell_type": "markdown",
   "id": "0748fab0",
   "metadata": {},
   "source": [
    "![](https://user-images.githubusercontent.com/63338657/184475502-d4919e7e-99c1-4d55-ba58-fbe103517fe3.png)\n",
    "\n",
    "![](https://user-images.githubusercontent.com/63338657/184477655-672b3148-4a98-4143-a602-96c68f63831a.png)\n",
    "\n",
    "![](https://user-images.githubusercontent.com/63338657/184477748-42ab309f-4a54-417a-9820-bff991f36914.png)"
   ]
  },
  {
   "cell_type": "markdown",
   "id": "a01b3e53",
   "metadata": {},
   "source": [
    "![](https://user-images.githubusercontent.com/63338657/184478260-55a1ff67-cc38-42e5-8ead-65ed573cc330.png)\n",
    "\n",
    "![](https://user-images.githubusercontent.com/63338657/184479094-4ad92a83-2f7f-47e9-abde-c1ff89aa659c.png)"
   ]
  },
  {
   "cell_type": "markdown",
   "id": "4f54bd9b",
   "metadata": {},
   "source": [
    "![](https://user-images.githubusercontent.com/63338657/184535947-d20420f9-5e43-4bc0-9621-8bc1b1a67606.png)\n",
    "\n",
    "![](https://user-images.githubusercontent.com/63338657/184536198-af7b678d-ec99-4e5f-8af6-4adee252ede4.png)"
   ]
  },
  {
   "cell_type": "code",
   "execution_count": null,
   "id": "62bb1441",
   "metadata": {},
   "outputs": [],
   "source": []
  }
 ],
 "metadata": {
  "kernelspec": {
   "display_name": "Python 3 (ipykernel)",
   "language": "python",
   "name": "python3"
  },
  "language_info": {
   "codemirror_mode": {
    "name": "ipython",
    "version": 3
   },
   "file_extension": ".py",
   "mimetype": "text/x-python",
   "name": "python",
   "nbconvert_exporter": "python",
   "pygments_lexer": "ipython3",
   "version": "3.10.6"
  }
 },
 "nbformat": 4,
 "nbformat_minor": 5
}
