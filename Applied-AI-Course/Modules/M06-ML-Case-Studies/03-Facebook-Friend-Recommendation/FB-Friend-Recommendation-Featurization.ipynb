{
 "cells": [
  {
   "cell_type": "code",
   "execution_count": 1,
   "id": "2a7b6c63",
   "metadata": {},
   "outputs": [],
   "source": [
    "import warnings\n",
    "warnings.filterwarnings('ignore')"
   ]
  },
  {
   "cell_type": "code",
   "execution_count": 2,
   "id": "c4d91d08",
   "metadata": {},
   "outputs": [],
   "source": [
    "from collections import Counter\n",
    "\n",
    "from matplotlib import pyplot as plt\n",
    "from matplotlib import style\n",
    "\n",
    "from scipy.sparse.linalg import eigs, svds\n",
    "\n",
    "from sklearn.cluster import MiniBatchKMeans, KMeans\n",
    "from sklearn.model_selection import train_test_split\n",
    "\n",
    "from tqdm import tqdm"
   ]
  },
  {
   "cell_type": "code",
   "execution_count": 3,
   "id": "76b17368",
   "metadata": {},
   "outputs": [],
   "source": [
    "import csv\n",
    "import datetime\n",
    "import gc\n",
    "import math\n",
    "import networkx as nx\n",
    "import numpy as np\n",
    "import os\n",
    "import pandas as pd\n",
    "import pdb\n",
    "import pickle\n",
    "import random\n",
    "import seaborn as sns\n",
    "import time\n",
    "import xgboost as xgb"
   ]
  },
  {
   "cell_type": "markdown",
   "id": "281d27c3",
   "metadata": {},
   "source": [
    "__Reading data__"
   ]
  },
  {
   "cell_type": "code",
   "execution_count": 4,
   "id": "c11c3212",
   "metadata": {},
   "outputs": [
    {
     "name": "stdout",
     "output_type": "stream",
     "text": [
      "DiGraph with 1780722 nodes and 7550015 edges\n"
     ]
    }
   ],
   "source": [
    "if os.path.isfile(path='data/after_eda/train_pos_after_eda.csv'):\n",
    "    train_graph = nx.read_edgelist(path='data/after_eda/train_pos_after_eda.csv',\n",
    "                                   delimiter=',',\n",
    "                                   create_using=nx.DiGraph(),\n",
    "                                   nodetype=int)\n",
    "    print(nx.info(train_graph))\n",
    "else:\n",
    "    print(\"Please run the FB-Friend-Recommendation-EDA.ipynb file.\")"
   ]
  },
  {
   "cell_type": "markdown",
   "id": "c1e7d30b",
   "metadata": {},
   "source": [
    "__Similarity measures__"
   ]
  },
  {
   "cell_type": "markdown",
   "id": "2beb6f27",
   "metadata": {},
   "source": [
    "__Jaccard index__\n",
    "\n",
    "Link: http://www.statisticshowto.com/jaccard-index/\n",
    "\n",
    "\\begin{equation}\n",
    "j = \\frac{|X\\cap Y|}{|X \\cup Y|} \n",
    "\\end{equation}"
   ]
  },
  {
   "cell_type": "code",
   "execution_count": 5,
   "id": "fda795b8",
   "metadata": {},
   "outputs": [],
   "source": [
    "def jaccard_index_for_followees(a, b):\n",
    "    \"\"\"\n",
    "    This function calculates the jaccard index for followees.\n",
    "    \"\"\"\n",
    "    try:\n",
    "        X = set(train_graph.successors(a))\n",
    "        Y = set(train_graph.successors(b))\n",
    "        if len(X) == 0  or len(Y) == 0:\n",
    "            return 0\n",
    "        sim = len(X.intersection(Y)) / len(X.union(Y))\n",
    "        return sim\n",
    "    except:\n",
    "        return 0"
   ]
  },
  {
   "cell_type": "code",
   "execution_count": 6,
   "id": "1e373dcf",
   "metadata": {},
   "outputs": [
    {
     "name": "stdout",
     "output_type": "stream",
     "text": [
      "0.0\n"
     ]
    }
   ],
   "source": [
    "print(jaccard_index_for_followees(273084, 1505602))"
   ]
  },
  {
   "cell_type": "code",
   "execution_count": 7,
   "id": "249ef33e",
   "metadata": {},
   "outputs": [
    {
     "name": "stdout",
     "output_type": "stream",
     "text": [
      "0.0\n"
     ]
    }
   ],
   "source": [
    "print(jaccard_index_for_followees(1, 3))"
   ]
  },
  {
   "cell_type": "code",
   "execution_count": 8,
   "id": "40dad596",
   "metadata": {},
   "outputs": [],
   "source": [
    "def jaccard_index_for_followers(a, b):\n",
    "    \"\"\"\n",
    "    This function calculates the jaccard index for followers.\n",
    "    \"\"\"\n",
    "    try:\n",
    "        X = set(train_graph.predecessors(a))\n",
    "        Y = set(train_graph.predecessors(b))\n",
    "        if len(X) == 0  or len(Y) == 0:\n",
    "            return 0\n",
    "        sim = len(X.intersection(Y)) / len(X.union(Y))\n",
    "        return sim\n",
    "    except:\n",
    "        return 0"
   ]
  },
  {
   "cell_type": "code",
   "execution_count": 9,
   "id": "115b48d4",
   "metadata": {},
   "outputs": [
    {
     "name": "stdout",
     "output_type": "stream",
     "text": [
      "0.0\n"
     ]
    }
   ],
   "source": [
    "print(jaccard_index_for_followers(273084, 1505602))"
   ]
  },
  {
   "cell_type": "code",
   "execution_count": 10,
   "id": "353399e5",
   "metadata": {},
   "outputs": [
    {
     "name": "stdout",
     "output_type": "stream",
     "text": [
      "0.0\n"
     ]
    }
   ],
   "source": [
    "print(jaccard_index_for_followers(1, 3))"
   ]
  },
  {
   "cell_type": "markdown",
   "id": "b39808ed",
   "metadata": {},
   "source": [
    "__Cosine distance (Otsuka–Ochiai coefficient)__\n",
    "\n",
    "Link: https://en.wikipedia.org/wiki/Cosine_similarity#Otsuka%E2%80%93Ochiai_coefficient\n",
    "\n",
    "\\begin{equation}\n",
    "d = \\frac{|X \\cap Y|}{\\sqrt{|X| \\times |Y|}}\n",
    "\\end{equation}"
   ]
  },
  {
   "cell_type": "code",
   "execution_count": 11,
   "id": "35e5fed3",
   "metadata": {},
   "outputs": [],
   "source": [
    "def cosine_distance_for_followees(a, b):\n",
    "    \"\"\"\n",
    "    This function calculates the cosine distance for followees.\n",
    "    \"\"\"\n",
    "    try:\n",
    "        X = set(train_graph.successors(a))\n",
    "        Y = set(train_graph.successors(b))\n",
    "        if len(X) == 0  | len(Y) == 0:\n",
    "            return 0\n",
    "        sim = len(X.intersection(Y)) / math.sqrt(len(X) * len(Y))\n",
    "        return sim\n",
    "    except:\n",
    "        return 0"
   ]
  },
  {
   "cell_type": "code",
   "execution_count": 12,
   "id": "92bc5843",
   "metadata": {},
   "outputs": [
    {
     "name": "stdout",
     "output_type": "stream",
     "text": [
      "0.0\n"
     ]
    }
   ],
   "source": [
    "print(cosine_distance_for_followees(273084, 1505602))"
   ]
  },
  {
   "cell_type": "code",
   "execution_count": 13,
   "id": "2539a5b1",
   "metadata": {},
   "outputs": [
    {
     "name": "stdout",
     "output_type": "stream",
     "text": [
      "0.0\n"
     ]
    }
   ],
   "source": [
    "print(cosine_distance_for_followees(1, 2))"
   ]
  },
  {
   "cell_type": "code",
   "execution_count": 14,
   "id": "fe57c8f3",
   "metadata": {},
   "outputs": [],
   "source": [
    "def cosine_distance_for_followers(a, b):\n",
    "    \"\"\"\n",
    "    This function calculates the cosine distance for followers.\n",
    "    \"\"\"\n",
    "    try:\n",
    "        X = set(train_graph.predecessors(a))\n",
    "        Y = set(train_graph.predecessors(b))\n",
    "        if len(X) == 0  | len(Y) == 0:\n",
    "            return 0\n",
    "        sim = len(X.intersection(Y)) / math.sqrt(len(X) * len(Y))\n",
    "        return sim\n",
    "    except:\n",
    "        return 0"
   ]
  },
  {
   "cell_type": "code",
   "execution_count": 15,
   "id": "8378e82f",
   "metadata": {},
   "outputs": [
    {
     "name": "stdout",
     "output_type": "stream",
     "text": [
      "0.0\n"
     ]
    }
   ],
   "source": [
    "print(cosine_distance_for_followers(273084, 1505602))"
   ]
  },
  {
   "cell_type": "code",
   "execution_count": 16,
   "id": "a9369cca",
   "metadata": {},
   "outputs": [
    {
     "name": "stdout",
     "output_type": "stream",
     "text": [
      "0.0\n"
     ]
    }
   ],
   "source": [
    "print(cosine_distance_for_followers(1, 2))"
   ]
  },
  {
   "cell_type": "markdown",
   "id": "244407f3",
   "metadata": {},
   "source": [
    "__Ranking measures__\n",
    "\n",
    "Link: https://networkx.github.io/documentation/networkx-1.10/reference/generated/networkx.algorithms.link_analysis.pagerank_alg.pagerank.html\n",
    "\n",
    "PageRank computes a ranking of the nodes in the graph G based on the structure of the incoming links.\n",
    "\n",
    "![](https://upload.wikimedia.org/wikipedia/commons/thumb/f/fb/PageRanks-Example.svg/1024px-PageRanks-Example.svg.png)\n",
    "\n",
    "Mathematical PageRanks for a simple network, expressed as percentages. (Google uses a logarithmic scale.) Page C has a higher PageRank than Page E, even though there are fewer links to C; the one link to C comes from an important page and hence is of high value. If web surfers who start on a random page have an 85% likelihood of choosing a random link from the page they are currently visiting, and a 15% likelihood of jumping to a page chosen at random from the entire web, they will reach Page E 8.1% of the time. (The 15% likelihood of jumping to an arbitrary page corresponds to a damping factor of 85%.) Without damping, all web surfers would eventually end up on Pages A, B, or C, and all other pages would have PageRank zero. In the presence of damping, Page A effectively links to all pages in the web, even though it has no outgoing links of its own."
   ]
  },
  {
   "cell_type": "markdown",
   "id": "428ff596",
   "metadata": {},
   "source": [
    "__Page ranking__\n",
    "\n",
    "Link: https://en.wikipedia.org/wiki/PageRank"
   ]
  },
  {
   "cell_type": "code",
   "execution_count": 17,
   "id": "6f121644",
   "metadata": {},
   "outputs": [],
   "source": [
    "if not os.path.isfile(path='data/fea_sample/page_rank.p'):\n",
    "    pr = nx.pagerank(G=train_graph, alpha=0.85)\n",
    "    pickle.dump(obj=pr, file=open(file='data/fea_sample/page_rank.p', mode='wb'))\n",
    "else:\n",
    "    pr = pickle.load(file=open(file='data/fea_sample/page_rank.p', mode='rb'))"
   ]
  },
  {
   "cell_type": "code",
   "execution_count": 18,
   "id": "966b62b3",
   "metadata": {},
   "outputs": [
    {
     "name": "stdout",
     "output_type": "stream",
     "text": [
      "Min: 527014 --> 1.6556497245737814e-07\n",
      "Max: 289584 --> 2.7098251341935827e-05\n",
      "Mean: 5.615699699389075e-07\n"
     ]
    }
   ],
   "source": [
    "print(\"Min: {} --> {}\".format(min(pr, key=pr.get), pr[min(pr, key=pr.get)]))\n",
    "print(\"Max: {} --> {}\".format(max(pr, key=pr.get), pr[max(pr, key=pr.get)]))\n",
    "print(\"Mean: {}\".format(float(sum(pr.values()) / len(pr))))"
   ]
  },
  {
   "cell_type": "code",
   "execution_count": 19,
   "id": "4fb11794",
   "metadata": {},
   "outputs": [
    {
     "name": "stdout",
     "output_type": "stream",
     "text": [
      "5.615699699389075e-07\n"
     ]
    }
   ],
   "source": [
    "mean_pr = float(sum(pr.values()) / len(pr))\n",
    "print(mean_pr)"
   ]
  },
  {
   "cell_type": "markdown",
   "id": "dea18744",
   "metadata": {},
   "source": [
    "__Other graph features__"
   ]
  },
  {
   "cell_type": "markdown",
   "id": "04c29b48",
   "metadata": {},
   "source": [
    "__Shortest path__\n",
    "\n",
    "Getting Shortest path between twoo nodes, if nodes have direct path i.e directly connected then we are removing that edge and calculating path.\n",
    "\n",
    "Link: https://networkx.org/documentation/stable/reference/algorithms/shortest_paths.html"
   ]
  },
  {
   "cell_type": "code",
   "execution_count": 20,
   "id": "60a8b204",
   "metadata": {},
   "outputs": [],
   "source": [
    "def compute_shortest_path_length(a, b):\n",
    "    \"\"\"\n",
    "    This function computes the shortest path between nodes.\n",
    "    \"\"\"\n",
    "    p = -1\n",
    "    try:\n",
    "        if train_graph.has_edge(u=a, v=b):\n",
    "            train_graph.remove_edge(u=a, v=b)\n",
    "            p = nx.shortest_path_length(G=train_graph, source=a, target=b)\n",
    "            train_graph.add_edge(u_of_edge=a, v_of_edge=b)\n",
    "        else:\n",
    "            p = nx.shortest_path_length(G=train_graph, source=a, target=b)\n",
    "        return p\n",
    "    except:\n",
    "        return -1"
   ]
  },
  {
   "cell_type": "code",
   "execution_count": 21,
   "id": "5c40687e",
   "metadata": {},
   "outputs": [
    {
     "name": "stdout",
     "output_type": "stream",
     "text": [
      "10\n"
     ]
    }
   ],
   "source": [
    "print(compute_shortest_path_length(a=77697, b=826021))"
   ]
  },
  {
   "cell_type": "code",
   "execution_count": 22,
   "id": "6f2c0d3e",
   "metadata": {},
   "outputs": [
    {
     "name": "stdout",
     "output_type": "stream",
     "text": [
      "-1\n"
     ]
    }
   ],
   "source": [
    "print(compute_shortest_path_length(a=669354, b=1635354))"
   ]
  },
  {
   "cell_type": "markdown",
   "id": "ddbb4518",
   "metadata": {},
   "source": [
    "__Checking for the same community__"
   ]
  },
  {
   "cell_type": "code",
   "execution_count": 23,
   "id": "11ce4945",
   "metadata": {},
   "outputs": [],
   "source": [
    "wcc = list(nx.weakly_connected_components(G=train_graph))"
   ]
  },
  {
   "cell_type": "code",
   "execution_count": 24,
   "id": "aec8784f",
   "metadata": {},
   "outputs": [],
   "source": [
    "def belongs_to_same_wcc(a, b):\n",
    "    \"\"\"\n",
    "    This function checks the belongingness of node_a and node_b in same community.\n",
    "    \"\"\"\n",
    "    index = []\n",
    "    if train_graph.has_edge(u=b, v=a):\n",
    "        return 1\n",
    "    if train_graph.has_edge(u=a, v=b):\n",
    "        for i in wcc:\n",
    "            if a in i:\n",
    "                index = i\n",
    "                break\n",
    "        if (b in index):\n",
    "            train_graph.remove_edge(u=a, v=b)\n",
    "            if compute_shortest_path_length(a=a, b=b) == -1:\n",
    "                train_graph.add_edge(u_of_edge=a, v_of_edge=b)\n",
    "                return 0\n",
    "            else:\n",
    "                train_graph.add_edge(u_of_edge=a, v_of_edge=b)\n",
    "                return 1\n",
    "        else:\n",
    "            return 0\n",
    "    else:\n",
    "        for i in wcc:\n",
    "            if a in i:\n",
    "                index = i\n",
    "                break\n",
    "        if(b in index):\n",
    "            return 1\n",
    "        else:\n",
    "            return 0"
   ]
  },
  {
   "cell_type": "code",
   "execution_count": 25,
   "id": "e20bf299",
   "metadata": {},
   "outputs": [
    {
     "name": "stdout",
     "output_type": "stream",
     "text": [
      "0\n"
     ]
    }
   ],
   "source": [
    "print(belongs_to_same_wcc(a=861, b=1659750))"
   ]
  },
  {
   "cell_type": "code",
   "execution_count": 26,
   "id": "8cdf09d2",
   "metadata": {},
   "outputs": [
    {
     "name": "stdout",
     "output_type": "stream",
     "text": [
      "0\n"
     ]
    }
   ],
   "source": [
    "print(belongs_to_same_wcc(a=669354, b=1635354))"
   ]
  },
  {
   "cell_type": "markdown",
   "id": "0ee55843",
   "metadata": {},
   "source": [
    "__Adamic/Adar index__\n",
    "\n",
    "Adamic/Adar measures is defined as inverted sum of degrees of common neighbours for given two vertices.\n",
    "$$A(x,y)=\\sum_{u \\in N(x) \\cap N(y)}\\frac{1}{log(|N(u)|)}$$"
   ]
  },
  {
   "cell_type": "code",
   "execution_count": 29,
   "id": "3ac7aa53",
   "metadata": {},
   "outputs": [],
   "source": [
    "def compute_adar_index(a, b):\n",
    "    \"\"\"\n",
    "    This function computes Adar index.\n",
    "    \"\"\"\n",
    "    sum_ = 0\n",
    "    try:\n",
    "        n = list(set(train_graph.successors(a)).intersection(set(train_graph.successors(b))))\n",
    "        if len(n) != 0:\n",
    "            for i in n:\n",
    "                sum_ = sum_ + (1 / np.log10(len(list(set(train_graph.predecessors(i))))))\n",
    "            return sum_\n",
    "        else:\n",
    "            return 0\n",
    "    except:\n",
    "        return 0"
   ]
  },
  {
   "cell_type": "code",
   "execution_count": 30,
   "id": "b0bd53dd",
   "metadata": {},
   "outputs": [
    {
     "name": "stdout",
     "output_type": "stream",
     "text": [
      "0\n"
     ]
    }
   ],
   "source": [
    "print(compute_adar_index(a=1, b=189226))"
   ]
  },
  {
   "cell_type": "code",
   "execution_count": 31,
   "id": "42abd8f6",
   "metadata": {},
   "outputs": [
    {
     "name": "stdout",
     "output_type": "stream",
     "text": [
      "0\n"
     ]
    }
   ],
   "source": [
    "print(compute_adar_index(a=669354, b=1635354))"
   ]
  },
  {
   "cell_type": "markdown",
   "id": "d5a2565a",
   "metadata": {},
   "source": [
    "__Is person following back?__"
   ]
  },
  {
   "cell_type": "code",
   "execution_count": 32,
   "id": "6e391283",
   "metadata": {},
   "outputs": [],
   "source": [
    "def follows_back(a, b):\n",
    "    \"\"\"\n",
    "    Boolean function.\n",
    "    \"\"\"\n",
    "    if train_graph.has_edge(b,a):\n",
    "        return 1\n",
    "    else:\n",
    "        return 0"
   ]
  },
  {
   "cell_type": "code",
   "execution_count": 33,
   "id": "5307c62f",
   "metadata": {},
   "outputs": [
    {
     "name": "stdout",
     "output_type": "stream",
     "text": [
      "1\n"
     ]
    }
   ],
   "source": [
    "print(follows_back(a=1, b=189226))"
   ]
  },
  {
   "cell_type": "code",
   "execution_count": 34,
   "id": "3d355dbb",
   "metadata": {},
   "outputs": [
    {
     "name": "stdout",
     "output_type": "stream",
     "text": [
      "0\n"
     ]
    }
   ],
   "source": [
    "print(follows_back(a=669354, b=1635354))"
   ]
  },
  {
   "cell_type": "markdown",
   "id": "30da0f53",
   "metadata": {},
   "source": [
    "__Katz centrality__\n",
    "\n",
    "Katz centrality computes the centrality for a node based on the centrality of its neighbors. It is a generalization of the eigenvector centrality. The Katz centrality for node `i` is, $$x_i = \\alpha \\sum_{j} A_{ij} x_j + \\beta$$ where `A` is the adjacency matrix of the graph G with eigenvalues $\\lambda$. The parameter $\\beta$ controls the initial centrality and $\\alpha < \\frac{1}{\\lambda_{max}}$."
   ]
  },
  {
   "cell_type": "code",
   "execution_count": 35,
   "id": "15c85485",
   "metadata": {},
   "outputs": [],
   "source": [
    "if not os.path.isfile(path='data/fea_sample/katz.p'):\n",
    "    katz = nx.katz.katz_centrality(G=train_graph, alpha=0.005, beta=1)\n",
    "    pickle.dump(obj=katz, file=open(file='data/fea_sample/katz.p', mode='wb'))\n",
    "else:\n",
    "    katz = pickle.load(file=open(file='data/fea_sample/katz.p', mode='rb'))"
   ]
  },
  {
   "cell_type": "code",
   "execution_count": 36,
   "id": "27ba500f",
   "metadata": {},
   "outputs": [
    {
     "name": "stdout",
     "output_type": "stream",
     "text": [
      "Min: 0.0007313532484065916\n",
      "Max: 0.003394554981699122\n",
      "Mean: 0.0007483800935562018\n"
     ]
    }
   ],
   "source": [
    "print('Min: {}'.format(katz[min(katz, key=katz.get)]))\n",
    "print('Max: {}'.format(katz[max(katz, key=katz.get)]))\n",
    "print('Mean: {}'.format(float(sum(katz.values())) / len(katz)))"
   ]
  },
  {
   "cell_type": "code",
   "execution_count": 37,
   "id": "668a7be9",
   "metadata": {},
   "outputs": [
    {
     "name": "stdout",
     "output_type": "stream",
     "text": [
      "0.0007483800935562018\n"
     ]
    }
   ],
   "source": [
    "mean_katz = float(sum(katz.values())) / len(katz)\n",
    "print(mean_katz)"
   ]
  },
  {
   "cell_type": "markdown",
   "id": "219f563d",
   "metadata": {},
   "source": [
    "__Hits score__\n",
    "\n",
    "The HITS algorithm computes two numbers for a node. Authorities estimates the node value based on the incoming links. Hubs estimates the node value based on outgoing links.\n",
    "\n",
    "Link: https://en.wikipedia.org/wiki/HITS_algorithm"
   ]
  },
  {
   "cell_type": "code",
   "execution_count": 38,
   "id": "f0a1239e",
   "metadata": {},
   "outputs": [],
   "source": [
    "if not os.path.isfile(path='data/fea_sample/hits.p'):\n",
    "    hits = nx.hits(G=train_graph, max_iter=100, tol=1e-08, nstart=None, normalized=True)\n",
    "    pickle.dump(obj=hits, file=open(file='data/fea_sample/hits.p', mode='wb'))\n",
    "else:\n",
    "    hits = pickle.load(file=open(file='data/fea_sample/hits.p', mode='rb'))"
   ]
  },
  {
   "cell_type": "code",
   "execution_count": 39,
   "id": "d12b5840",
   "metadata": {},
   "outputs": [
    {
     "name": "stdout",
     "output_type": "stream",
     "text": [
      "Min: 0.0\n",
      "Max: 0.004868653378780953\n",
      "Mean: 5.615699699344123e-07\n"
     ]
    }
   ],
   "source": [
    "print('Min: {}'.format(hits[0][min(hits[0], key=hits[0].get)]))\n",
    "print('Max: {}'.format(hits[0][max(hits[0], key=hits[0].get)]))\n",
    "print('Mean: {}'.format(float(sum(hits[0].values())) / len(hits[0])))"
   ]
  },
  {
   "cell_type": "code",
   "execution_count": null,
   "id": "67bf088b",
   "metadata": {},
   "outputs": [],
   "source": []
  },
  {
   "cell_type": "code",
   "execution_count": null,
   "id": "17e65947",
   "metadata": {},
   "outputs": [],
   "source": []
  },
  {
   "cell_type": "code",
   "execution_count": null,
   "id": "13479409",
   "metadata": {},
   "outputs": [],
   "source": []
  }
 ],
 "metadata": {
  "kernelspec": {
   "display_name": "Python 3 (ipykernel)",
   "language": "python",
   "name": "python3"
  },
  "language_info": {
   "codemirror_mode": {
    "name": "ipython",
    "version": 3
   },
   "file_extension": ".py",
   "mimetype": "text/x-python",
   "name": "python",
   "nbconvert_exporter": "python",
   "pygments_lexer": "ipython3",
   "version": "3.10.6"
  }
 },
 "nbformat": 4,
 "nbformat_minor": 5
}
