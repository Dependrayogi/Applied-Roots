{
 "cells": [
  {
   "cell_type": "markdown",
   "id": "18652bcf",
   "metadata": {},
   "source": [
    "![](https://user-images.githubusercontent.com/63338657/185267329-aad0d637-29f4-466f-860b-7b7257142a3a.png)\n",
    "\n",
    "![](https://user-images.githubusercontent.com/63338657/185267910-6f025ae3-0106-4b9b-bf4b-19d626f2c92d.png)"
   ]
  },
  {
   "cell_type": "markdown",
   "id": "adf8d8d7",
   "metadata": {},
   "source": [
    "![](https://user-images.githubusercontent.com/63338657/185268768-cc53f066-8169-4b12-9241-ba97a3528464.png)\n",
    "\n",
    "![](https://user-images.githubusercontent.com/63338657/185269033-d4d28ea8-0836-4aad-b000-0cf967ac38e1.png)\n",
    "\n",
    "![](https://user-images.githubusercontent.com/63338657/185269312-8a26f56d-d8de-4fa3-a761-1978c7613bb9.png)"
   ]
  },
  {
   "cell_type": "markdown",
   "id": "777cd247",
   "metadata": {},
   "source": [
    "![](https://user-images.githubusercontent.com/63338657/185450097-cc7bc36d-0bdd-459b-bf85-623b389c7fbd.png)"
   ]
  },
  {
   "cell_type": "code",
   "execution_count": 1,
   "id": "ba127fbb",
   "metadata": {},
   "outputs": [],
   "source": [
    "import matplotlib\n",
    "# matplotlib.use(backend='nbagg')"
   ]
  },
  {
   "cell_type": "code",
   "execution_count": 2,
   "id": "4225d5cf",
   "metadata": {},
   "outputs": [],
   "source": [
    "from matplotlib import pyplot as plt\n",
    "from matplotlib import style"
   ]
  },
  {
   "cell_type": "code",
   "execution_count": 3,
   "id": "2cbf7b99",
   "metadata": {},
   "outputs": [],
   "source": [
    "style.use(style='seaborn-deep')"
   ]
  },
  {
   "cell_type": "code",
   "execution_count": 4,
   "id": "22947963",
   "metadata": {},
   "outputs": [
    {
     "data": {
      "image/png": "[encoded data removed]",
      "text/plain": [
       "<Figure size 432x288 with 1 Axes>"
      ]
     },
     "metadata": {
      "needs_background": "light"
     },
     "output_type": "display_data"
    }
   ],
   "source": [
    "plt.figure(figsize=(6, 4))\n",
    "plt.plot([1, 2, 3, 4, 5, 6], [1, 4, 9, 16, 25, 36])\n",
    "plt.grid()\n",
    "plt.show()"
   ]
  },
  {
   "cell_type": "markdown",
   "id": "f6dcf1f0",
   "metadata": {},
   "source": [
    "![](https://user-images.githubusercontent.com/63338657/185661034-f80154f5-adfe-4dfe-a708-b66ff80d889b.png)\n",
    "\n",
    "![](https://user-images.githubusercontent.com/63338657/185661439-b0c00618-f6d9-4be5-a3b4-fc771504b433.png)\n",
    "\n",
    "![](https://user-images.githubusercontent.com/63338657/185661865-8ddd592e-3bc4-4e5e-817e-26b4fd3724ef.png)"
   ]
  },
  {
   "cell_type": "markdown",
   "id": "8cee5802",
   "metadata": {},
   "source": [
    "![](https://user-images.githubusercontent.com/63338657/185663198-fea61a33-0c91-4724-a3de-ac5fd6408ea0.png)\n",
    "\n",
    "![](https://user-images.githubusercontent.com/63338657/185663976-3ecb4b29-cf18-4909-a03a-7320f3b7b8ed.png)\n",
    "\n"
   ]
  },
  {
   "cell_type": "markdown",
   "id": "bb8744b3",
   "metadata": {},
   "source": [
    "![](https://user-images.githubusercontent.com/63338657/185668123-bed9639a-175c-4d3b-a5d6-d38975f39c08.png)"
   ]
  },
  {
   "cell_type": "markdown",
   "id": "af4b9a9d",
   "metadata": {},
   "source": [
    "![](https://user-images.githubusercontent.com/63338657/185743100-37eaa50c-fa33-43b6-a9a0-593cd76817cb.png)\n",
    "\n",
    "![](https://user-images.githubusercontent.com/63338657/185743169-9705eb47-9ab9-4541-a7bc-5572ad9e4443.png)\n",
    "\n",
    "![](https://user-images.githubusercontent.com/63338657/185743238-4015631c-0aa2-4902-8c62-7015f4269399.png)\n",
    "\n",
    "![](https://user-images.githubusercontent.com/63338657/185743435-37c40c43-2a9e-41de-abdf-4d034aee71b6.png)"
   ]
  },
  {
   "cell_type": "markdown",
   "id": "fbf33fc6",
   "metadata": {},
   "source": [
    "![](https://user-images.githubusercontent.com/63338657/185744427-aff88108-5788-4d42-869f-10923558119b.png)\n",
    "\n",
    "![](https://user-images.githubusercontent.com/63338657/185744509-af49a980-7896-4c93-adc5-c3c66021d396.png)"
   ]
  },
  {
   "cell_type": "markdown",
   "id": "c719e746",
   "metadata": {},
   "source": [
    "![](https://user-images.githubusercontent.com/63338657/185746934-cf8391ea-d748-458e-8d73-6d084bc843dd.png)\n",
    "\n",
    "![](https://user-images.githubusercontent.com/63338657/185746979-fa69bf76-6797-45e4-877d-fd056ebaea14.png)\n",
    "\n",
    "![](https://user-images.githubusercontent.com/63338657/185747058-2b352f6a-378f-444d-92b4-9d224c9de243.png)\n",
    "\n",
    "![](https://user-images.githubusercontent.com/63338657/185747094-ccb35380-9e17-48b4-a23b-7203a0b4257d.png)\n",
    "\n",
    "Correction: At 7:39 min, we mentioned that the frequency is 1/288. It should be 1/72 and NOT 1/288. Similarly, in this video from 7:39 onwards, wherever we said 1/288, it should actually be 1/72."
   ]
  },
  {
   "cell_type": "markdown",
   "id": "c92c6b30",
   "metadata": {},
   "source": [
    "![](https://user-images.githubusercontent.com/63338657/185748764-91bcbf50-92f7-43da-af95-298b428f383f.png)\n",
    "\n",
    "![](https://user-images.githubusercontent.com/63338657/185749851-10431ab3-0538-4bc7-9429-11ba80addf6b.png)"
   ]
  },
  {
   "cell_type": "markdown",
   "id": "1a675023",
   "metadata": {},
   "source": [
    "![](https://user-images.githubusercontent.com/63338657/185750010-b56835b8-3326-4912-817b-81ef35213404.png)\n",
    "\n",
    "![](https://user-images.githubusercontent.com/63338657/185750133-a65a926f-e032-472d-82d4-721e3fe1c0ba.png)\n",
    "\n",
    "![](https://user-images.githubusercontent.com/63338657/185750886-5d295fa5-dd96-48bf-9fa2-6681fd27f1fc.png)\n",
    "\n",
    "![](https://user-images.githubusercontent.com/63338657/185750939-cfe3d930-42e7-4ced-96ad-1348668e9643.png)\n",
    "\n",
    "![](https://user-images.githubusercontent.com/63338657/185751085-da3cac98-3b61-4617-9445-89845d3a404b.png)\n",
    "\n",
    "![](https://user-images.githubusercontent.com/63338657/185752138-9907688c-d593-47ea-a9bf-40759f2d7204.png)"
   ]
  },
  {
   "cell_type": "markdown",
   "id": "b1d9b1c1",
   "metadata": {},
   "source": [
    "![](https://user-images.githubusercontent.com/63338657/185785695-edadf069-3208-4dbd-9e0d-050c7d6ab5d1.png)\n",
    "\n",
    "![](https://user-images.githubusercontent.com/63338657/185785757-acff02db-a7fe-41a3-a5e4-0d75eeb7de9c.png)\n",
    "\n",
    "![](https://user-images.githubusercontent.com/63338657/185785809-9e9c3baa-0374-49af-9f6b-ebf4b557c3dc.png)\n",
    "\n",
    "![](https://user-images.githubusercontent.com/63338657/185785860-94a26327-0e22-4306-a7c2-75e7602ab672.png)\n",
    "\n",
    "![](https://user-images.githubusercontent.com/63338657/185785965-a59fafcf-4d6f-4b01-9c12-aef871cc9b03.png)"
   ]
  },
  {
   "cell_type": "markdown",
   "id": "e7d995ec",
   "metadata": {},
   "source": [
    "![](https://user-images.githubusercontent.com/63338657/185786151-4ef4991c-3bc1-461d-b8ec-4bfd491fd787.png)\n",
    "\n",
    "![](https://user-images.githubusercontent.com/63338657/185786197-8da15476-2a8f-4ce8-9d27-d85dc345c16f.png)\n",
    "\n",
    "![](https://user-images.githubusercontent.com/63338657/185786305-a2ea764a-1c0d-4423-8c43-88675309e7f9.png)\n",
    "\n",
    "![](https://user-images.githubusercontent.com/63338657/185786372-229d5002-2a11-4e54-8fb1-cd0dfd614e10.png)\n",
    "\n",
    "Link: https://www.youtube.com/watch?v=lAq96T8FkTw\n",
    "\n",
    "Link: https://www.youtube.com/watch?v=NxTFlzBjS-4"
   ]
  },
  {
   "cell_type": "code",
   "execution_count": null,
   "id": "09fde68f",
   "metadata": {},
   "outputs": [],
   "source": []
  },
  {
   "cell_type": "code",
   "execution_count": null,
   "id": "759373ec",
   "metadata": {},
   "outputs": [],
   "source": []
  },
  {
   "cell_type": "code",
   "execution_count": null,
   "id": "5d0c940a",
   "metadata": {},
   "outputs": [],
   "source": []
  },
  {
   "cell_type": "code",
   "execution_count": null,
   "id": "30bc302e",
   "metadata": {},
   "outputs": [],
   "source": []
  },
  {
   "cell_type": "code",
   "execution_count": null,
   "id": "c74f6ef3",
   "metadata": {},
   "outputs": [],
   "source": []
  }
 ],
 "metadata": {
  "kernelspec": {
   "display_name": "Python 3 (ipykernel)",
   "language": "python",
   "name": "python3"
  },
  "language_info": {
   "codemirror_mode": {
    "name": "ipython",
    "version": 3
   },
   "file_extension": ".py",
   "mimetype": "text/x-python",
   "name": "python",
   "nbconvert_exporter": "python",
   "pygments_lexer": "ipython3",
   "version": "3.10.6"
  }
 },
 "nbformat": 4,
 "nbformat_minor": 5
}
