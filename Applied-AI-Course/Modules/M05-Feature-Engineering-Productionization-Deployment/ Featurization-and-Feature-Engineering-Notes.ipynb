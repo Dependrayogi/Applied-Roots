{
 "cells": [
  {
   "cell_type": "markdown",
   "id": "7ef62c8a",
   "metadata": {},
   "source": [
    "__Introduction__\n",
    "\n",
    "![](https://user-images.githubusercontent.com/63338657/175772071-94138f03-496b-4702-9aaf-941090b1f9c0.png)\n",
    "\n",
    "![](https://user-images.githubusercontent.com/63338657/175772183-7eed34e8-1f71-470b-b6d2-918337dfa516.png)\n",
    "\n",
    "![](https://user-images.githubusercontent.com/63338657/175772211-9306045a-6e33-4ec3-ae41-ed77838af798.png)\n",
    "\n",
    "![](https://user-images.githubusercontent.com/63338657/175772294-398729c2-673e-442b-8124-9941ef31368e.png)\n",
    "\n",
    "![](https://user-images.githubusercontent.com/63338657/175772366-de6269f9-c562-467f-82c4-3264d235178b.png)\n",
    "\n",
    "![](https://user-images.githubusercontent.com/63338657/175772436-7a4759f3-82d9-489b-af6c-290589f73e0a.png)\n",
    "\n",
    "![](https://user-images.githubusercontent.com/63338657/175772486-14432be5-268e-4630-959e-e384d6e07fbc.png)\n",
    "\n",
    "![](https://user-images.githubusercontent.com/63338657/175772543-176740b1-1970-4515-b1b8-a09316142f10.png)\n",
    "\n",
    "Missing data imputation should be done before feature engineering."
   ]
  },
  {
   "cell_type": "markdown",
   "id": "a3f77fa5",
   "metadata": {},
   "source": [
    "__Moving Window for Time Series Data__\n",
    "\n",
    "![](https://user-images.githubusercontent.com/63338657/175773169-98c09774-6426-4f8e-950a-ef3a0cec5e39.png)\n",
    "\n",
    "![](https://user-images.githubusercontent.com/63338657/175772988-335cfb3a-6d12-49b6-843d-dc3bf3dd836d.png)\n",
    "\n",
    "![](https://user-images.githubusercontent.com/63338657/175773225-451c14d7-93fa-41d6-8bd5-8cd2b7f94a8f.png)\n",
    "\n",
    "![](https://user-images.githubusercontent.com/63338657/175773375-6eff6089-1e80-4cad-94d5-c59897584d88.png)\n",
    "\n",
    "Link: https://soundcloud.com/applied-ai-course/time-series-windowing/s-o28Hp"
   ]
  },
  {
   "cell_type": "markdown",
   "id": "2ad6b970",
   "metadata": {},
   "source": [
    "__Fourier Decomposition__\n",
    "\n",
    "![](https://user-images.githubusercontent.com/63338657/175773786-7419b944-716a-4f20-9dd5-599ad7d6b24f.png)\n",
    "\n",
    "![](https://user-images.githubusercontent.com/63338657/175773883-fd0de281-1f23-4bb3-9ef0-1fe9b15c680f.png)\n",
    "\n",
    "![](https://user-images.githubusercontent.com/63338657/175773965-52eb1c25-79fe-42c7-8a18-1a58c37c9748.png)\n",
    "\n",
    "![](https://user-images.githubusercontent.com/63338657/175774044-2a9b50d1-a54d-4cf2-99be-539737667b1b.png)\n",
    "\n",
    "![](https://user-images.githubusercontent.com/63338657/175774137-7dc39329-e042-4a81-8e35-279456966471.png)\n",
    "\n",
    "![](https://user-images.githubusercontent.com/63338657/175774232-1ec538af-1f65-4644-9d79-9ec32c41af1f.png)\n",
    "\n",
    "![](https://user-images.githubusercontent.com/63338657/175774324-d58c6ae6-eb4d-4cf5-9a9c-58112b3bd7e2.png)\n",
    "\n",
    "![](https://user-images.githubusercontent.com/63338657/175774428-3a99f66a-bc7a-4de2-83bc-89460c2d08dc.png)\n",
    "\n",
    "![](https://user-images.githubusercontent.com/63338657/175774488-33b3cc57-888d-41a7-ad8c-b5cece14dd1a.png)\n",
    "\n",
    "![](https://user-images.githubusercontent.com/63338657/175774544-de1d439f-117f-4b26-98b8-2807b32b5ef2.png)\n",
    "\n",
    "![](https://user-images.githubusercontent.com/63338657/175774597-fda0e767-b9ff-4c2e-a5d9-efca5d902864.png)"
   ]
  },
  {
   "cell_type": "markdown",
   "id": "2e72816b",
   "metadata": {},
   "source": [
    "__Deep Learning Features: LSTM__\n",
    "\n",
    "![](https://user-images.githubusercontent.com/63338657/175800218-68cd5f42-cef3-4f40-8bd5-c8528396caa9.png)\n",
    "\n",
    "![](https://user-images.githubusercontent.com/63338657/175800263-c766cb8a-b68c-4fa1-98b4-8848930d4137.png)\n",
    "\n",
    "![](https://user-images.githubusercontent.com/63338657/175800321-b4165d60-9933-43ab-a63a-2413fa15b7dc.png)\n",
    "\n",
    "Link: https://stackoverflow.com/a/39183047/10003545"
   ]
  },
  {
   "cell_type": "markdown",
   "id": "f707187b",
   "metadata": {},
   "source": [
    "__Image Histogram__\n",
    "\n",
    "![](https://user-images.githubusercontent.com/63338657/175801067-ce672cf5-5c98-469a-a9f0-7d2363dc8647.png)\n",
    "\n",
    "![](https://user-images.githubusercontent.com/63338657/175801155-dd51d858-e711-45e7-b259-982068e9b622.png)\n",
    "\n",
    "![](https://user-images.githubusercontent.com/63338657/175801219-21f130be-6fbb-4a77-9cc1-9f6b3506f28f.png)\n",
    "\n",
    "Color histograms cannot detect shapes.\n",
    "\n",
    "![](https://user-images.githubusercontent.com/63338657/175801334-025ef399-ef4e-466e-aa2f-1b3628b6c541.png)\n",
    "\n",
    "![](https://user-images.githubusercontent.com/63338657/175802637-51fe1da5-daca-4ea3-9dd6-9bbc75fcb9ca.png)\n",
    "\n",
    "![](https://user-images.githubusercontent.com/63338657/175802704-24fd16f3-95ef-4515-8562-634ebe0c4d53.png)"
   ]
  },
  {
   "cell_type": "markdown",
   "id": "34584c72",
   "metadata": {},
   "source": [
    "__Keypoints: SIFT__\n",
    "\n",
    "![](https://user-images.githubusercontent.com/63338657/175803077-4db71755-b8b6-4e57-b345-bacfc8337ef2.png)\n",
    "\n",
    "![](https://user-images.githubusercontent.com/63338657/175802888-2b0cebc8-3c27-485e-8dac-8dbc5d98da57.png)\n",
    "\n",
    "![](https://user-images.githubusercontent.com/63338657/175802950-cbf8be7a-878a-46f2-94dd-f44e1dc7b18d.png)\n",
    "\n",
    "![](https://user-images.githubusercontent.com/63338657/175802999-01c3aad2-53fc-4839-8506-6d3a9a0835bc.png)\n",
    "\n",
    "![](https://user-images.githubusercontent.com/63338657/175803162-933ce11d-d18e-441c-9c52-d8491f3eccbf.png)\n",
    "\n",
    "Link: https://soundcloud.com/applied-ai-course/keypoints-and-sift"
   ]
  },
  {
   "cell_type": "markdown",
   "id": "fead9104",
   "metadata": {},
   "source": [
    "__Deep Learning Features: CNN__\n",
    "\n",
    "![](https://user-images.githubusercontent.com/63338657/175811402-023da746-80f5-49b0-a4eb-2e8a9c3f9975.png)\n",
    "\n",
    "![](https://user-images.githubusercontent.com/63338657/175811743-9c3362c3-9ad6-40a1-aabd-ee0b2503dfc9.png)\n",
    "\n",
    "Link: https://youtu.be/AYzv3QmCE7s?list=PLupD_xFct8mHiNvSNO6AuWqCV9l_W2nB4"
   ]
  },
  {
   "cell_type": "markdown",
   "id": "7445728b",
   "metadata": {},
   "source": [
    "__Relational Data__\n",
    "\n",
    "![](https://user-images.githubusercontent.com/63338657/175812265-8181f3ee-76d8-4d7e-8876-1ced6ba27245.png)\n",
    "\n",
    "![](https://user-images.githubusercontent.com/63338657/175812395-c118ee96-7d13-4d70-8bee-c78b395e2f0b.png)\n",
    "\n",
    "![](https://user-images.githubusercontent.com/63338657/175812431-528853cb-d8e9-4e18-a9d4-ff9933e21ba5.png)"
   ]
  },
  {
   "cell_type": "markdown",
   "id": "cdddabed",
   "metadata": {},
   "source": [
    "__Graph Data__\n",
    "\n",
    "![](https://user-images.githubusercontent.com/63338657/175812767-51bf3a9f-7362-4195-883a-f25b340e0307.png)\n",
    "\n",
    "![](https://user-images.githubusercontent.com/63338657/175812864-27d30179-2d3f-40f5-bd03-6a0127946815.png)\n",
    "\n",
    "![](https://user-images.githubusercontent.com/63338657/175813140-4ea72cd6-5f0a-4d61-9e25-44e5898439a4.png)\n",
    "\n",
    "![](https://user-images.githubusercontent.com/63338657/175813106-fb6a061d-f344-435d-a619-776d6f444939.png)"
   ]
  },
  {
   "cell_type": "markdown",
   "id": "0960df17",
   "metadata": {},
   "source": [
    "__Indicator Variables__\n",
    "\n",
    "![](https://user-images.githubusercontent.com/63338657/175813572-79e0599f-265b-44c9-ba93-8743eae560e3.png)\n",
    "\n",
    "![](https://user-images.githubusercontent.com/63338657/175813651-7f544680-23f4-48fd-b0f7-3990a66e321e.png)\n",
    "\n",
    "![](https://user-images.githubusercontent.com/63338657/175813748-7538cd26-d458-46a0-8f06-f19c4405884b.png)"
   ]
  },
  {
   "cell_type": "markdown",
   "id": "9ffc66ef",
   "metadata": {},
   "source": [
    "__Feature Binning__\n",
    "\n",
    "![](https://user-images.githubusercontent.com/63338657/175837510-93ac6794-8195-420f-97d5-0ec08eb9ea79.png)\n",
    "\n",
    "![](https://user-images.githubusercontent.com/63338657/175837569-cf80d5cd-4956-4a94-a012-ef05ffb8dc4b.png)\n",
    "\n",
    "![](https://user-images.githubusercontent.com/63338657/175837695-3c120d30-805d-472a-a9ce-03296ed11396.png)\n",
    "\n",
    "![](https://user-images.githubusercontent.com/63338657/175837825-f4f1c706-5df9-4ef3-a311-0c190a4509e3.png)\n",
    "\n",
    "![](https://user-images.githubusercontent.com/63338657/175837906-346e70b9-cd0c-4fa4-801e-8983cebee166.png)\n",
    "\n",
    "![](https://user-images.githubusercontent.com/63338657/175838036-e6e49150-0764-4a15-80f9-3ccd5979acef.png)\n",
    "\n",
    "![](https://user-images.githubusercontent.com/63338657/175838104-e84e471b-a2a3-4172-bdd1-41e0008c65af.png)"
   ]
  },
  {
   "cell_type": "markdown",
   "id": "fdaeb2d9",
   "metadata": {},
   "source": [
    "__Interaction Variables__\n",
    "\n",
    "![](https://user-images.githubusercontent.com/63338657/175838361-dee2e8c7-b5c5-4588-8cf7-532ebeef5b12.png)\n",
    "\n",
    "![](https://user-images.githubusercontent.com/63338657/175838433-f8cf8f36-2baf-47ca-af2b-00290a794758.png)\n",
    "\n",
    "![](https://user-images.githubusercontent.com/63338657/175838563-6dc4eed9-1713-4469-82a7-77436a3ce382.png)\n",
    "\n",
    "![](https://user-images.githubusercontent.com/63338657/175838581-2126d462-5e12-4d51-800b-8f3782ad01ea.png)\n",
    "\n",
    "![](https://user-images.githubusercontent.com/63338657/175838764-9b17e9bc-402c-48a1-8a8e-ee2c0ab43789.png)\n",
    "\n",
    "![](https://user-images.githubusercontent.com/63338657/175838974-e523b770-5788-4d1b-bc0d-12e197cb5c25.png)\n",
    "\n",
    "![](https://user-images.githubusercontent.com/63338657/175839000-1fd81637-ee0b-4c64-9973-29defe9f3c68.png)"
   ]
  },
  {
   "cell_type": "markdown",
   "id": "11aff940",
   "metadata": {},
   "source": [
    "__Mathematical Transforms__\n",
    "\n",
    "![](https://user-images.githubusercontent.com/63338657/175839219-003e6c7e-c54c-44f8-be79-bc53c0d1ed80.png)\n",
    "\n",
    "![](https://user-images.githubusercontent.com/63338657/175839325-cb7bc95b-6e2c-40f1-baa9-0ed3314621c9.png)"
   ]
  },
  {
   "cell_type": "markdown",
   "id": "5733e16f",
   "metadata": {},
   "source": [
    "__Model Specific Featurizations__\n",
    "\n",
    "![](https://user-images.githubusercontent.com/63338657/175840106-d74f0303-5dcf-4d7f-b2a4-f9bcb000aeee.png)\n",
    "\n",
    "![](https://user-images.githubusercontent.com/63338657/175839910-ff92e497-9b13-4d31-9cbc-98005b794f7a.png)\n",
    "\n",
    "![](https://user-images.githubusercontent.com/63338657/175840001-c6ad5c83-fc06-4314-b1ee-d93c7744bcaf.png)\n",
    "\n",
    "![](https://user-images.githubusercontent.com/63338657/175840316-6b1634f8-114b-471b-a734-605d44dd0890.png)"
   ]
  },
  {
   "cell_type": "markdown",
   "id": "f3d9b846",
   "metadata": {},
   "source": [
    "__Feature Orthogonality__\n",
    "\n",
    "![](https://user-images.githubusercontent.com/63338657/175941787-6bc068d7-98a3-4692-9d78-a872a9b442b6.png)\n",
    "\n",
    "F1, F2, and F3  overall impact will be less. They are not useful as the features are correlated amongst themselves.\n",
    "\n",
    "![](https://user-images.githubusercontent.com/63338657/175942018-b5e896d9-e643-4eb6-97df-ce9bd9e8a3c4.png)\n",
    "\n",
    "![](https://user-images.githubusercontent.com/63338657/175942383-8d16bb69-c467-4633-aab1-72844f12e04d.png)\n",
    "\n",
    "![](https://user-images.githubusercontent.com/63338657/175942960-e799b7de-55d5-44e9-998c-a99e6b2ff781.png)\n",
    "\n",
    "![](https://user-images.githubusercontent.com/63338657/175943284-9fbcb809-c449-4d82-8dbe-5a7f6fbc46bf.png)\n",
    "\n",
    "As f4 will be correlated to error it will mean that it will be orthogonal with other features because other features were not able to map those error hence this feature will be completely different the rest of them which resulted into the error.\n",
    "\n",
    "Link: https://soundcloud.com/applied-ai-course/feature-engineering-in-the"
   ]
  },
  {
   "cell_type": "markdown",
   "id": "b84e0c65",
   "metadata": {},
   "source": [
    "__Domain Specific Featurizations__\n",
    "\n",
    "![](https://user-images.githubusercontent.com/63338657/175948650-d9236678-96fb-4c27-aea8-318d1bb72fd1.png)"
   ]
  },
  {
   "cell_type": "markdown",
   "id": "857f5600",
   "metadata": {},
   "source": [
    "__Feature Slicing__\n",
    "\n",
    "![](https://user-images.githubusercontent.com/63338657/175949834-61271fea-1326-410d-9740-8d2c537731db.png)\n",
    "\n",
    "![](https://user-images.githubusercontent.com/63338657/175950278-e8587b84-4096-46ad-be9d-e911f9a40aa0.png)\n",
    "\n",
    "![](https://user-images.githubusercontent.com/63338657/175950519-851d30de-f637-4ace-94c2-f3f4ecd7243b.png)\n",
    "\n",
    "![](https://user-images.githubusercontent.com/63338657/175950881-8bc2a07e-7bd0-47c9-8066-1e260824461b.png)\n",
    "\n",
    "![](https://user-images.githubusercontent.com/63338657/175951362-52426610-742f-48d1-b277-0186004c5998.png)"
   ]
  },
  {
   "cell_type": "code",
   "execution_count": null,
   "id": "4041a304",
   "metadata": {},
   "outputs": [],
   "source": []
  }
 ],
 "metadata": {
  "kernelspec": {
   "display_name": "Python 3 (ipykernel)",
   "language": "python",
   "name": "python3"
  },
  "language_info": {
   "codemirror_mode": {
    "name": "ipython",
    "version": 3
   },
   "file_extension": ".py",
   "mimetype": "text/x-python",
   "name": "python",
   "nbconvert_exporter": "python",
   "pygments_lexer": "ipython3",
   "version": "3.10.5"
  }
 },
 "nbformat": 4,
 "nbformat_minor": 5
}
