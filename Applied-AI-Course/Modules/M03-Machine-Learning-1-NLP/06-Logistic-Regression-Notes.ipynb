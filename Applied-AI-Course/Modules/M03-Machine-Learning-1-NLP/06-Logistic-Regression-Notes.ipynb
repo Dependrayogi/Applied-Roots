{
 "cells": [
  {
   "cell_type": "markdown",
   "id": "c1ca0d0f",
   "metadata": {},
   "source": [
    "__Geometric Intuition of Logistic Regression__\n",
    "\n",
    "![](https://user-images.githubusercontent.com/63338657/167397593-fa238de2-279f-497f-ae75-a6d1c320ff6a.png)\n",
    "\n",
    "![](https://user-images.githubusercontent.com/63338657/167398034-8e85b4cf-40a5-44c9-888a-e67d887a7de2.png)\n",
    "\n",
    "![](https://user-images.githubusercontent.com/63338657/167398250-c2722d4f-d54d-452d-81ea-c7f6c24b722d.png)\n",
    "\n",
    "![](https://user-images.githubusercontent.com/63338657/167398703-56a25440-b966-47e8-8ae7-6f25c11b3d21.png)\n",
    "\n",
    "![](https://user-images.githubusercontent.com/63338657/167399465-06360472-7b98-4077-8ace-e72d0f45c7b2.png)\n",
    "\n",
    "![](https://user-images.githubusercontent.com/63338657/167399828-d8f3894d-e1cf-4565-bce7-643fb188334f.png)\n",
    "\n",
    "![](https://user-images.githubusercontent.com/63338657/167400257-4e8d6584-7202-4e24-b89c-4c04306e54e3.png)\n",
    "\n",
    "![](https://user-images.githubusercontent.com/63338657/167400730-9122f5db-8925-4280-ae14-95a9887e06a1.png)\n",
    "\n",
    "![](https://user-images.githubusercontent.com/63338657/167400977-83f3cdd4-b125-4cb5-a743-1e92da39d5e5.png)\n",
    "\n",
    "![](https://user-images.githubusercontent.com/63338657/167401505-56ac9dd7-be91-4fe2-9846-6e936124b480.png)\n",
    "\n",
    "![](https://user-images.githubusercontent.com/63338657/167402460-c61b3b22-5918-489f-87d8-a9e234981427.png)\n",
    "\n",
    "Link: https://soundcloud.com/applied-ai-course/linear-separability-and\n",
    "\n",
    "Link: https://www.visiondummy.com/2014/04/curse-dimensionality-affect-classification/"
   ]
  },
  {
   "cell_type": "markdown",
   "id": "0af68242",
   "metadata": {},
   "source": [
    "__Sigmoid Function: Squashing__\n",
    "\n",
    "![](https://user-images.githubusercontent.com/63338657/167405944-be078fc8-566c-451e-adc4-8ccde8f886c6.png)\n",
    "\n",
    "![](https://user-images.githubusercontent.com/63338657/167406214-fe688115-0805-46f7-99e0-065081bfedaa.png)\n",
    "\n",
    "![](https://user-images.githubusercontent.com/63338657/167406971-69a43fea-bc97-4799-ba83-d5463b4785fc.png)\n",
    "\n",
    "![](https://user-images.githubusercontent.com/63338657/167407664-995a4cf7-c7eb-41d6-882b-cfe5a81165b4.png)\n",
    "\n",
    "![](https://user-images.githubusercontent.com/63338657/167408194-056c8570-58b2-4538-8259-d433260f0c5f.png)\n",
    "\n",
    "![](https://user-images.githubusercontent.com/63338657/167408482-808e15b6-3b0b-4ba0-b6c0-3c2db469a25a.png)\n",
    "\n",
    "![](https://user-images.githubusercontent.com/63338657/167408871-f9d31792-34c3-460b-8a97-7e0dccd03473.png)\n",
    "\n",
    "![](https://user-images.githubusercontent.com/63338657/167409289-0be7d5a0-5204-4db8-b3f2-09e42e1b85b6.png)\n",
    "\n",
    "![](https://user-images.githubusercontent.com/63338657/167409682-c8ef984c-7968-4a6c-ae6e-4cd3649a4c2f.png)\n",
    "\n",
    "![](https://user-images.githubusercontent.com/63338657/167410642-f59fd8c8-f52a-414c-8a7e-5be4f9cb574c.png)\n",
    "\n",
    "![](https://user-images.githubusercontent.com/63338657/167412473-3b1315c8-231d-4e84-9165-bc8fe5e6c97d.png)\n",
    "\n",
    "When we apply sigmoid function on the top of product of $W^{T}x$, it gives a value in the interval $\\left[0, 1\\right]$ (irrespective of whether there are outliers or not). So $\\text{sigmoid}(W^{T}x)$ gives the probability value $P(y=1|x)$.\n",
    "\n",
    "![](https://user-images.githubusercontent.com/63338657/167411385-9f76dd59-8600-47e4-80b4-26dbd5fbeb99.png)\n",
    "\n",
    "![](https://user-images.githubusercontent.com/63338657/167411574-82d891b0-5c67-48aa-ae80-3cebe19e28a2.png)\n",
    "\n",
    "![](https://user-images.githubusercontent.com/63338657/167411978-1a9683f1-0214-4ff2-add3-1ffd0cf9d47d.png)"
   ]
  },
  {
   "cell_type": "markdown",
   "id": "03adb0fe",
   "metadata": {},
   "source": [
    "__Mathematical Formulation of Objective Function__\n",
    "\n",
    "![](https://user-images.githubusercontent.com/63338657/167671470-28d3c9d1-8eca-4677-b8ae-09deb3b3c23e.png)\n",
    "\n",
    "![](https://user-images.githubusercontent.com/63338657/167671841-7347c3ae-1e81-4169-a532-75a2afca5cc5.png)\n",
    "\n",
    "![](https://user-images.githubusercontent.com/63338657/167672785-118facea-1d5d-4ce4-a9fd-8dfced0edd22.png)\n",
    "\n",
    "![](https://user-images.githubusercontent.com/63338657/167673506-c9179cb3-a256-45a0-b127-1d707c7f0878.png)\n",
    "\n",
    "![](https://user-images.githubusercontent.com/63338657/167673912-72b65361-1769-4f67-8fb0-07435625dac6.png)\n",
    "\n",
    "![](https://user-images.githubusercontent.com/63338657/167674229-f50e592b-550b-4bd3-8160-08b40bf158f4.png)\n",
    "\n",
    "![](https://user-images.githubusercontent.com/63338657/167674566-fe669ea2-cb00-4530-8a34-0dec25bf1155.png)\n",
    "\n",
    "![](https://user-images.githubusercontent.com/63338657/167675874-80837733-9f05-4088-9f3c-4472bdbe68b3.png)\n",
    "\n",
    "![](https://user-images.githubusercontent.com/63338657/167677195-11f2a346-1878-4e6a-b862-8c434bbe74d3.png)"
   ]
  },
  {
   "cell_type": "markdown",
   "id": "6d5cf950",
   "metadata": {},
   "source": [
    "__Weight Vector__\n",
    "\n",
    "![](https://user-images.githubusercontent.com/63338657/167683448-a105f7d9-b258-4273-b69c-3de861a29564.png)\n",
    "\n",
    "![](https://user-images.githubusercontent.com/63338657/167683939-de430d74-8ce9-41e0-8ffb-d564e847faaf.png)\n",
    "\n",
    "![](https://user-images.githubusercontent.com/63338657/167684336-c4812530-8381-4196-9fe5-944d115a8a52.png)\n",
    "\n",
    "![](https://user-images.githubusercontent.com/63338657/167684738-2c165ce2-f88c-4586-88e8-054c701aa0ea.png)"
   ]
  },
  {
   "cell_type": "markdown",
   "id": "d2d8ed6c",
   "metadata": {},
   "source": [
    "__L2 Regularization: Overfitting and Underfitting__\n",
    "\n",
    "![](https://user-images.githubusercontent.com/63338657/167960894-7c9965b1-8409-44f3-a8b4-9c2e3c988652.png)\n",
    "\n",
    "![](https://user-images.githubusercontent.com/63338657/167961152-18a79d13-789d-4a67-8452-1919361ad0a8.png)\n",
    "\n",
    "![](https://user-images.githubusercontent.com/63338657/167961663-99ac460e-ad92-4933-a77c-8112745347cd.png)\n",
    "\n",
    "![](https://user-images.githubusercontent.com/63338657/167961464-24836b64-49d9-476a-944d-281866edd2cc.png)\n",
    "\n",
    "![](https://user-images.githubusercontent.com/63338657/167961797-49f25c12-e83f-4000-ac3c-06832cef772f.png)\n",
    "\n",
    "![](https://user-images.githubusercontent.com/63338657/167962096-f16a4df0-0026-40fc-9886-fa195c82f0bb.png)\n",
    "\n",
    "![](https://user-images.githubusercontent.com/63338657/167962513-15b9546e-0f0b-4dc6-be24-19a8edca6ab8.png)\n",
    "\n",
    "![](https://user-images.githubusercontent.com/63338657/167962657-1b55c866-ef8a-4c6f-bd69-f718ed18273b.png)\n",
    "\n",
    "![](https://user-images.githubusercontent.com/63338657/167963194-c804749d-4896-4c11-ad21-e16c0cd1a3d4.png)\n",
    "\n",
    "![](https://user-images.githubusercontent.com/63338657/167963307-faedf059-3b66-498c-8de5-589085364026.png)\n",
    "\n",
    "![](https://user-images.githubusercontent.com/63338657/167963505-a109d734-1d50-4710-b636-6e44977616ed.png)\n",
    "\n",
    "This regularization term, avoids $w_i$'s to become $+\\infty$ and $-\\infty$.\n",
    "\n",
    "![](https://user-images.githubusercontent.com/63338657/167963908-96631703-c4f2-46e4-b5db-57a1b410be4e.png)\n",
    "\n",
    "![](https://user-images.githubusercontent.com/63338657/167964084-8468399d-dcd8-4734-8072-ecbdb96e0bac.png)\n",
    "\n",
    "![](https://user-images.githubusercontent.com/63338657/167964359-e94a4ac2-ab40-4639-8010-7c53d97d0b84.png)"
   ]
  },
  {
   "cell_type": "markdown",
   "id": "27fe11f9",
   "metadata": {},
   "source": [
    "__L1 Regularization and Sparsity__\n",
    "\n",
    "![](https://user-images.githubusercontent.com/63338657/167964866-6e052802-941f-4ebc-8d14-240540a39a78.png)\n",
    "\n",
    "![](https://user-images.githubusercontent.com/63338657/167965205-dd0fd16b-bc98-4306-9cad-42fe2020ca85.png)\n",
    "\n",
    "![](https://user-images.githubusercontent.com/63338657/167965593-2ff813aa-e560-4499-9c4c-a36281b2eaa8.png)\n",
    "\n",
    "![](https://user-images.githubusercontent.com/63338657/167965772-112445f9-622f-4da0-b236-ca780e1b047b.png)\n",
    "\n",
    "![](https://user-images.githubusercontent.com/63338657/167966072-ab607a8d-4f86-4f7c-b52f-632321b7850b.png)\n",
    "\n",
    "Elastic net results in sparse solutions as it contains L1 regularization. On the other hand, L2 regularization tends to typically result in better performance but no sparsity. Now, the elastic net tries to combine the advantages of both these methods while minimizing their disadvantages. It is preferable to use ElasticNet but be warned that it takes more time to train with elastic net regularization as compared to L2 and L1.\n",
    "\n",
    "Link: https://blog.mlreview.com/l1-norm-regularization-and-sparsity-explained-for-dummies-5b0e4be3938a"
   ]
  },
  {
   "cell_type": "markdown",
   "id": "2b020b0b",
   "metadata": {},
   "source": [
    "__Probabilistic Interpretation: Gaussian Naive Bayes__\n",
    "\n",
    "Link: https://www.cs.cmu.edu/~tom/mlbook/NBayesLogReg.pdf\n",
    "\n",
    "![](https://user-images.githubusercontent.com/63338657/168268939-02bf2d33-89ca-4395-b976-82f2d16a483c.png)\n",
    "\n",
    "![](https://user-images.githubusercontent.com/63338657/168270217-e08eaf24-2346-4512-8ee7-af1f42687d23.png)\n",
    "\n",
    "![](https://user-images.githubusercontent.com/63338657/168270029-95866a9b-a4af-4b1d-b961-5994dd2720f5.png)\n",
    "\n",
    "![](https://user-images.githubusercontent.com/63338657/168270421-9536f86c-41c2-449f-836a-bf8d4d18a430.png)\n",
    "\n",
    "![](https://user-images.githubusercontent.com/63338657/168270741-276f6b82-a0b3-43b5-a5fa-a3e128efcf74.png)\n",
    "\n",
    "![](https://user-images.githubusercontent.com/63338657/168271135-be80a01e-bd71-42c3-adbb-0b71ae3bdf6a.png)\n",
    "\n",
    "![](https://user-images.githubusercontent.com/63338657/168271571-5bf1ffa1-2124-44b5-ad24-952fb5ef9858.png)\n",
    "\n",
    "![](https://user-images.githubusercontent.com/63338657/168272193-77b5f980-83df-473d-ad26-945b422ea8f1.png)\n",
    "\n",
    "![](https://user-images.githubusercontent.com/63338657/168272663-9cabfb07-d07c-4851-92b3-303485226bd9.png)"
   ]
  },
  {
   "cell_type": "markdown",
   "id": "8445ef56",
   "metadata": {},
   "source": [
    "__Loss Minimization Interpretation__\n",
    "\n",
    "![](https://user-images.githubusercontent.com/63338657/168273066-cce89498-856b-4349-9ff4-e4903fee1bf6.png)\n",
    "\n",
    "![](https://user-images.githubusercontent.com/63338657/168274367-7786ec3d-d50a-4145-a205-02a9453c8d49.png)\n",
    "\n",
    "![](https://user-images.githubusercontent.com/63338657/168274516-7e23538c-d94e-481d-90f7-fc543338f280.png)\n",
    "\n",
    "![](https://user-images.githubusercontent.com/63338657/168274702-ca28485e-ae49-403b-b647-e88c90499348.png)\n",
    "\n",
    "![](https://user-images.githubusercontent.com/63338657/168274961-c4809c66-34e1-4fa6-b46a-97a05d0c36a0.png)\n",
    "\n",
    "![](https://user-images.githubusercontent.com/63338657/168276172-8250679c-9740-4245-b649-1574637be478.png)\n",
    "\n",
    "![](https://i.stack.imgur.com/kgzmQ.png)"
   ]
  },
  {
   "cell_type": "markdown",
   "id": "79c98391",
   "metadata": {},
   "source": [
    "__Hyperparameter Search: Grid Search and Random Search__\n",
    "\n",
    "![](https://user-images.githubusercontent.com/63338657/168418761-18bbd2f7-1574-4d8a-b6d8-cfd875effbc0.png)\n",
    "\n",
    "![](https://user-images.githubusercontent.com/63338657/168418820-dd36b6af-4c69-4cd1-96f8-97b9d0b8a638.png)\n",
    "\n",
    "![](https://user-images.githubusercontent.com/63338657/168418945-076f3a48-ef5b-43f0-ae64-af97bf381261.png)\n",
    "\n",
    "![](https://user-images.githubusercontent.com/63338657/168419075-cd61bc9c-637c-4575-98c6-7e7aefdbb66f.png)\n",
    "\n",
    "![](https://user-images.githubusercontent.com/63338657/168419175-b4d5639e-a4eb-4d21-883f-69074035617a.png)\n",
    "\n",
    "![](https://user-images.githubusercontent.com/63338657/168419263-bf6198ae-a06f-4059-88a6-8bf9046b984d.png)\n",
    "\n",
    "![](https://user-images.githubusercontent.com/63338657/168419327-8ae4ef63-9594-4f18-891e-cb713a9cb3d8.png)\n",
    "\n",
    "![](https://user-images.githubusercontent.com/63338657/168419657-078aeb3b-d2b0-4698-97e6-5fcaf661bc6f.png)"
   ]
  },
  {
   "cell_type": "markdown",
   "id": "91f01e79",
   "metadata": {},
   "source": [
    "__Column Standardization__\n",
    "\n",
    "![](https://user-images.githubusercontent.com/63338657/168419965-8ba654b1-dfd3-434b-9683-3378374bcee9.png)\n",
    "\n",
    "![](https://user-images.githubusercontent.com/63338657/168420006-aff153bb-5b90-497b-a286-a94f9b47591f.png)\n",
    "\n",
    "![](https://user-images.githubusercontent.com/63338657/168420143-8fe4ad36-f0c3-46e7-bbe2-a8482b505376.png)"
   ]
  },
  {
   "cell_type": "markdown",
   "id": "38d0d900",
   "metadata": {},
   "source": [
    "__Feature Importance and Model Interpretability__\n",
    "\n",
    "![](https://user-images.githubusercontent.com/63338657/168420254-86ef10d9-5520-4672-8f5a-0eeba5b88cdc.png)\n",
    "\n",
    "![](https://user-images.githubusercontent.com/63338657/168420338-dbf9f0c8-3ccc-4d1a-9448-b82ce8a047c7.png)\n",
    "\n",
    "![](https://user-images.githubusercontent.com/63338657/168420450-96412f90-dae2-4acd-a44c-09313633a453.png)\n",
    "\n",
    "![](https://user-images.githubusercontent.com/63338657/168420546-9212f9e9-f3c2-4e32-b41b-ccbc58898217.png)\n",
    "\n",
    "![](https://user-images.githubusercontent.com/63338657/168420614-9746ac81-2f22-489c-b23a-e59e9667358e.png)\n",
    "\n",
    "![](https://user-images.githubusercontent.com/63338657/168420698-f4195b75-46f6-4e81-ae4e-c4f68e482e93.png)\n",
    "\n",
    "The weights are computed using the concept of optimization which is discussed in the later chapters. Those features with Positive values of weights contribute to the positive class and the features with negative values of weights contribute to the negative class. The more higher the positive weight components are, the more they contribute to the positive class. The more higher the negative weight components are, the more they contribute to the negative class.\n",
    "\n",
    "The algorithms like LR, SVM, etc are designed for binary classification. We need to solve multi-class classification problems using the one-vs-rest approach. We then have to compute the feature importances from each binary classifier. In this way, if there is an 'n' class classification problem, we need to compute the feature importances for all the 'n' binary classifiers and from there we get the important features associated with each class.\n",
    "\n",
    "In neural networks, we have a mechanism called 'Softmax' which is applied on top of the classification model and gives probabilistic estimates for each class, but obtaining feature importance is not possible.\n",
    "\n",
    "We cannot do softmax with logistic regression."
   ]
  },
  {
   "cell_type": "markdown",
   "id": "fc2b798f",
   "metadata": {},
   "source": [
    "__Collinearity of Features__\n",
    "\n",
    "![](https://user-images.githubusercontent.com/63338657/168421753-1432eabe-78de-4edd-a100-a68d4e72be5e.png)\n",
    "\n",
    "![](https://user-images.githubusercontent.com/63338657/168421810-60153646-e15b-4de2-86e2-b278cea527fc.png)\n",
    "\n",
    "![](https://user-images.githubusercontent.com/63338657/168421868-69883efe-d25a-419b-a633-9efbbbe07f36.png)\n",
    "\n",
    "![](https://user-images.githubusercontent.com/63338657/168421960-ba9a5e10-6ecd-4d9f-89f8-20b2e41c1c36.png)\n",
    "\n",
    "![](https://user-images.githubusercontent.com/63338657/168422003-f890288e-772d-468d-a533-a9d53d616110.png)\n",
    "\n",
    "![](https://user-images.githubusercontent.com/63338657/168422080-40793f29-c7e5-4dc4-9e43-77da93d38a78.png)\n",
    "\n",
    "![](https://user-images.githubusercontent.com/63338657/168422171-71ae94a0-42c8-4626-9cef-4a7b992e55b9.png)\n",
    "\n",
    "Logistic Regression with Imbalanced data: A Geometric View: https://youtu.be/l8Dge0z1Zks"
   ]
  },
  {
   "cell_type": "markdown",
   "id": "8c3712db",
   "metadata": {},
   "source": [
    "Check the comments."
   ]
  },
  {
   "cell_type": "markdown",
   "id": "226e60ba",
   "metadata": {},
   "source": [
    "__Train & Runtime - Space & Time Complexity__\n",
    "\n",
    "![](https://user-images.githubusercontent.com/63338657/168457753-e619f6aa-8226-49d9-b512-9d8a4f053bc4.png)\n",
    "\n",
    "![](https://user-images.githubusercontent.com/63338657/168457814-5993f61c-0d31-4977-90c9-3015024f8057.png)\n",
    "\n",
    "![](https://user-images.githubusercontent.com/63338657/168457888-651e0f2a-d6df-4f7f-9902-313b63704f97.png)\n",
    "\n",
    "![](https://user-images.githubusercontent.com/63338657/168457925-74cea0c5-00f0-45b9-9b40-afcb631b4032.png)"
   ]
  },
  {
   "cell_type": "markdown",
   "id": "9f44abe0",
   "metadata": {},
   "source": [
    "__Real World Cases__\n",
    "\n",
    "![](https://user-images.githubusercontent.com/63338657/168458164-a1e06c3d-6f5f-4b4a-9ef6-83d36fcf75b2.png)\n",
    "\n",
    "![](https://user-images.githubusercontent.com/63338657/168458224-f09d1f89-d9cc-430f-86ca-cd2ee1b26b21.png)\n",
    "\n",
    "![](https://user-images.githubusercontent.com/63338657/168458273-4cbe9ab7-7344-4d3d-91f5-b014f13f9a1a.png)\n",
    "\n",
    "![](https://user-images.githubusercontent.com/63338657/168458319-fd1f5f8f-41b9-4c63-adb8-2aad5b710288.png)"
   ]
  },
  {
   "cell_type": "markdown",
   "id": "ae09bc75",
   "metadata": {},
   "source": [
    "__Non-Linearly Separable Data & Feature Engineering__\n",
    "\n",
    "![](https://user-images.githubusercontent.com/63338657/168458435-5213bd15-8d99-49a0-a7a4-1a2368562bd2.png)\n",
    "\n",
    "![](https://user-images.githubusercontent.com/63338657/168458529-e2af34d1-1591-4747-b13f-9cebf428cad0.png)\n",
    "\n",
    "![](https://user-images.githubusercontent.com/63338657/168458575-f3298af1-adf5-4258-93de-dbc4376717b9.png)\n",
    "\n",
    "![](https://user-images.githubusercontent.com/63338657/168458626-212d1536-96d0-4bf8-ab7d-354403ca8dfe.png)\n",
    "\n",
    "![](https://user-images.githubusercontent.com/63338657/168458702-36085a10-e630-4c3a-9781-d532fa9483f9.png)\n",
    "\n",
    "![](https://user-images.githubusercontent.com/63338657/168458839-85efdb88-1dbd-4596-be86-cef505982c61.png)\n",
    "\n",
    "![](https://user-images.githubusercontent.com/63338657/168458959-56805ab9-80ec-408f-b7a2-e0e1efa94688.png)\n",
    "\n",
    "![](https://user-images.githubusercontent.com/63338657/168459066-676092d2-293b-4029-a01a-1fb94b11dba4.png)\n",
    "\n",
    "![](https://user-images.githubusercontent.com/63338657/168459096-80e7e4cf-718f-4812-9d02-423059e80f7f.png)"
   ]
  },
  {
   "cell_type": "markdown",
   "id": "79c074e4",
   "metadata": {},
   "source": [
    "Link: https://stats.stackexchange.com/questions/184019/when-will-l1-regularization-work-better-than-l2-and-vice-versa/184023#184023."
   ]
  },
  {
   "cell_type": "markdown",
   "id": "1f60705f",
   "metadata": {},
   "source": [
    "__Extensions to Logistic Regression: Generalized Linear Models(GLM)__\n",
    "\n",
    "![](https://user-images.githubusercontent.com/63338657/168461339-8b616cf4-4504-4f38-99af-46634c1a434c.png)\n",
    "\n",
    "Link: http://cs229.stanford.edu/notes2020spring/cs229-notes1.pdf"
   ]
  },
  {
   "cell_type": "markdown",
   "id": "b0a813fb",
   "metadata": {},
   "source": [
    "Logistic regression is called \"regression\" and not classification because generally it produces real values of output based on the input features(just like linear regression works) but since these real values are applied to a sigmoid or a logistic function, so any value greater than 0.5 gets labelled as positive or 1 and values less than 0.5 gets labelled as 0 or negative."
   ]
  },
  {
   "cell_type": "code",
   "execution_count": null,
   "id": "451b9ff1",
   "metadata": {},
   "outputs": [],
   "source": []
  }
 ],
 "metadata": {
  "kernelspec": {
   "display_name": "Python 3 (ipykernel)",
   "language": "python",
   "name": "python3"
  },
  "language_info": {
   "codemirror_mode": {
    "name": "ipython",
    "version": 3
   },
   "file_extension": ".py",
   "mimetype": "text/x-python",
   "name": "python",
   "nbconvert_exporter": "python",
   "pygments_lexer": "ipython3",
   "version": "3.10.4"
  }
 },
 "nbformat": 4,
 "nbformat_minor": 5
}
