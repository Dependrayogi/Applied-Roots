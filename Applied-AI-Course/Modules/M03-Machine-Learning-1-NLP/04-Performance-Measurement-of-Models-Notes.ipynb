{
 "cells": [
  {
   "cell_type": "markdown",
   "id": "0767766d",
   "metadata": {},
   "source": [
    "__Accuracy__\n",
    "\n",
    "![](https://user-images.githubusercontent.com/63338657/163961132-76ab9b05-d16c-43d0-adcc-6ffebd255fc8.png)\n",
    "\n",
    "![](https://user-images.githubusercontent.com/63338657/163961526-d69dfb63-5143-4daf-bd51-8dc7030f5e38.png)\n",
    "\n",
    "Couple of problems with accuracy:\n",
    "\n",
    "![](https://user-images.githubusercontent.com/63338657/163962092-866a4f01-0be2-431f-b3e7-a396e0c1cfc1.png)\n",
    "\n",
    "![](https://user-images.githubusercontent.com/63338657/163963466-0bea8445-76e8-4c4f-9e66-eccbfa5a5988.png)\n",
    "\n",
    "![](https://user-images.githubusercontent.com/63338657/163964852-26a5dc16-2954-4a33-8803-73974d857bed.png)\n",
    "\n",
    "Preprocessing step removes the noise from data it does not balance the dataset."
   ]
  },
  {
   "cell_type": "markdown",
   "id": "6a02af81",
   "metadata": {},
   "source": [
    "__Confusion Matrix, TPR, FPR, FNR, TNR__\n",
    "\n",
    "![](https://user-images.githubusercontent.com/63338657/163969867-9d1fd8d8-6ca5-409a-adaa-ab68cecdd677.png)\n",
    "\n",
    "![](https://user-images.githubusercontent.com/63338657/163970577-f25f4f7f-151f-4e07-be06-5439c5a1010b.png)\n",
    "\n",
    "![](https://user-images.githubusercontent.com/63338657/163971207-9f5576f2-8ada-45f7-9c92-caacd4d3604e.png)\n",
    "\n",
    "![](https://user-images.githubusercontent.com/63338657/163971567-e69faef8-248d-41ec-9b4b-0b6ba40328a5.png)\n",
    "\n",
    "![](https://user-images.githubusercontent.com/63338657/163972198-d55fcd1b-99e5-417e-a626-269c37af7106.png)\n",
    "\n",
    "![](https://user-images.githubusercontent.com/63338657/163972775-e27b22bf-bafa-49b5-ba5b-e37030bfb0c0.png)\n",
    "\n",
    "![](https://user-images.githubusercontent.com/63338657/163973504-84b2390f-3e70-4530-baf3-40b29597e147.png)\n",
    "\n",
    "Confusion matrix for multi-class problems\n",
    "\n",
    "![](https://i.imgur.com/iGLkDOL.png)\n",
    "\n",
    "Let us assume we have three classes A,B,C in our dataset. Then the formulae would become:\n",
    "\n",
    "---\n",
    "\n",
    "TPR of A = (Total number of points that are actually 'A' and also are predicted as 'A')/[(Total number of points that are actually 'A' and also are predicted as 'A')+(Total number of points that are actually 'A' but are not predicted as 'A')]\n",
    "\n",
    "TPR of B = (Total number of points that are actually 'B' and also are predicted as 'B')/[(Total number of points that are actually 'B' and also are predicted as 'B')+(Total number of points that are actually 'B' but are not predicted as 'B')]\n",
    "\n",
    "TPR of C = (Total number of points that are actually 'C' and also are predicted as 'C')/[(Total number of points that are actually 'C' and also are predicted as 'C')+(Total number of points that are actually 'C' but are not predicted as 'C')]\n",
    "\n",
    "---\n",
    "\n",
    "FPR of A = (Total number of points that are actually not 'A' but are predicted as 'A')/[(Total number of points that are actually not 'A' but are predicted as 'A')+(Total number of points that are actually not 'A' and are also not predicted as 'A')]\n",
    "\n",
    "FPR of B = (Total number of points that are actually not 'B' but are predicted as 'B')/[(Total number of points that are actually not 'B' but are predicted as 'B')+(Total number of points that are actually not 'B' and are also not predicted as 'B')]\n",
    "\n",
    "FPR of C = (Total number of points that are actually not 'C' but are predicted as 'C')/[(Total number of points that are actually not 'C' but are predicted as 'C')+(Total number of points that are actually not 'C' and are also not predicted as 'C')]\n",
    "\n",
    "---\n",
    "\n",
    "TNR of A = (Total number of points that are actually not 'A' and are not predicted as 'A')/[(Total number of points that are actually not 'A' and are not predicted as 'A')+(Total number of points that are actually not 'A' but are predicted as 'A')]\n",
    "\n",
    "TNR of B = (Total number of points that are actually not 'B' and are not predicted as 'B')/[(Total number of points that are actually not 'B' and are not predicted as 'B')+(Total number of points that are actually not 'B' but are predicted as 'B')]\n",
    "\n",
    "TNR of C = (Total number of points that are actually not 'C' and are not predicted as 'C')/[(Total number of points that are actually not 'C' and are not predicted as 'C')+(Total number of points that are actually not 'C' but are predicted as 'C')]\n",
    "\n",
    "---\n",
    "\n",
    "FNR of A = (Total number of points that are actually 'A' but are not predicted as 'A')/[(Total number of points that are actually 'A' but are not predicted as 'A')+(Total number of points that are actually 'A' and are also predicted as 'A')]\n",
    "\n",
    "FNR of B = (Total number of points that are actually 'B' but are not predicted as 'B')/[(Total number of points that are actually 'B' but are not predicted as 'B')+(Total number of points that are actually 'B' and are also predicted as 'B')]\n",
    "\n",
    "FNR of C = (Total number of points that are actually 'C' but are not predicted as 'C')/[(Total number of points that are actually 'C' but are not predicted as 'C')+(Total number of points that are actually 'C' and are also predicted as 'C')]\n",
    "\n",
    "---"
   ]
  },
  {
   "cell_type": "markdown",
   "id": "adcccd72",
   "metadata": {},
   "source": [
    "__Precision, Recall, and F1-Score__\n",
    "\n",
    "![](https://user-images.githubusercontent.com/63338657/163984269-e69d70bc-3762-443d-93e8-6d26d0b90286.png)\n",
    "\n",
    "![](https://user-images.githubusercontent.com/63338657/163985098-380cc3ce-bba5-4762-8cee-935d518b30f0.png)\n",
    "\n",
    "Link: https://soundcloud.com/applied-ai-course/f1-score-vs-product\n",
    "\n",
    "A change in the threshold value will see a change in predicted values of Y, hence the new confusion matrix will be different and more importantly TPR and FPR values will also change.\n",
    "\n",
    "Precision --> Out of all the points that are predited as POSITIVE, how many of them are actually POSITIVE\n",
    "\n",
    "Recall --> Out of all the points that are actually POSITIVE, how many of them are truly predicted as POSITIVE\n",
    "\n",
    "In this same example of Cancer diagnosis,\n",
    "\n",
    "TP --> Actually POSITIVE and Predicted POSITIVE\n",
    "\n",
    "TN --> Actually NEGATIVE and Predicted NEGATIVE\n",
    "\n",
    "FP --> Actually NEGATIVE and Predicted POSITIVE\n",
    "\n",
    "FN --> Actually POSITIVE and Predicted NEGATIVE\n",
    "\n",
    "Precision = TP/(TP+FP)\n",
    "\n",
    "Recall = TP/(TP+FN)\n",
    "\n",
    "So if our problem is mainly focussed  on the patients who were actually Positive, then Recall metric makes much more sense.\n",
    "Whereas if our problem is mainly focussed on the patients who were predicted as Positive, the Precision metrics makes much more sense."
   ]
  },
  {
   "cell_type": "markdown",
   "id": "5f45cf20",
   "metadata": {},
   "source": [
    "__Receiver Operating Characteristic Curve (ROC) and Area Under ROC Curve (AUC)__\n",
    "\n",
    "![](https://user-images.githubusercontent.com/63338657/163995375-fd1e9f17-ace2-474e-a5d7-3f013ffdab65.png)\n",
    "\n",
    "![](https://user-images.githubusercontent.com/63338657/163995529-959f7653-7067-4176-86d2-a83108f484cf.png)\n",
    "\n",
    "![](https://user-images.githubusercontent.com/63338657/163995706-c0f8a895-439f-491d-af1c-fa4e006fd704.png)\n",
    "\n",
    "![](https://user-images.githubusercontent.com/63338657/163996282-eb595401-cc32-4e8c-95ef-df07244e9393.png)\n",
    "\n",
    "![](https://user-images.githubusercontent.com/63338657/163996948-a7071fd0-cc61-4cef-9ec0-ec4a2b902fcb.png)\n",
    "\n",
    "![](https://user-images.githubusercontent.com/63338657/163997268-a29b4d89-0788-447b-8e78-3259e2cf6a1f.png)\n",
    "\n",
    "![](https://user-images.githubusercontent.com/63338657/163997703-081b9586-80d4-4707-ab26-8e919683d6ae.png)\n",
    "\n",
    "Link: https://soundcloud.com/applied-ai-course/why-auc\n",
    "\n",
    "Link: https://soundcloud.com/applied-ai-course/auc-and-thresholding\n",
    "\n",
    "Link: https://developers.google.com/machine-learning/crash-course/classification/roc-and-auc"
   ]
  },
  {
   "cell_type": "markdown",
   "id": "2db834f5",
   "metadata": {},
   "source": [
    "__Log-loss__\n",
    "\n",
    "Log-loss is indicative of how close the prediction probability is to the corresponding actual/true value (0 or 1 in case of binary classification). The more the predicted probability diverges from the actual value, the higher is the log-loss value.\n",
    "\n",
    "![](https://user-images.githubusercontent.com/63338657/164044358-eae2ee3b-f46a-46d3-a403-f307944363db.png)\n",
    "\n",
    "![](https://user-images.githubusercontent.com/63338657/164044935-361d6bca-527f-48f1-a2f6-54425a8bf5a9.png)\n",
    "\n",
    "![](https://user-images.githubusercontent.com/63338657/164046091-04f1a563-414f-4de0-9f29-0a40b201667b.png)\n",
    "\n",
    "The log loss is derived by assuming the outcomes are coming from bernoulli distribution. So, the $y$ values are taken to be 1 or 0. You can even see this in the definition of log loss $-y\\log(\\hat{y}) - (1-y)\\log(1-\\hat{y})$."
   ]
  },
  {
   "cell_type": "markdown",
   "id": "0ccdd530",
   "metadata": {},
   "source": [
    "__R-Squared or Coefficient of Determination__\n",
    "\n",
    "![](https://user-images.githubusercontent.com/63338657/164053349-22a9e539-318c-410b-8760-c43f47af4fb7.png)\n",
    "\n",
    "![](https://user-images.githubusercontent.com/63338657/164053907-27e0d2b0-5ca3-4f28-adab-437cc7763d3b.png)\n",
    "\n",
    "![](https://user-images.githubusercontent.com/63338657/164058347-acd133b6-8a41-4932-9438-9d0def47181e.png)\n",
    "\n",
    "![](https://user-images.githubusercontent.com/63338657/164058628-7f3474bf-4db2-43b6-943b-4bd2e0550100.png)\n",
    "\n",
    "![](https://user-images.githubusercontent.com/63338657/164059017-ab88a61c-4934-4fc9-87f6-95aa55b63ff9.png)\n",
    "\n",
    "![](https://user-images.githubusercontent.com/63338657/164059573-0a8afbff-9738-4d4b-aa30-ee4e1827ed11.png)"
   ]
  },
  {
   "cell_type": "markdown",
   "id": "943aadce",
   "metadata": {},
   "source": [
    "__Median Absolute Deviation (MAD)__\n",
    "\n",
    "![](https://user-images.githubusercontent.com/63338657/164062204-432215df-5568-42ea-85fd-67a7f228a9f3.png)\n",
    "\n",
    "![](https://user-images.githubusercontent.com/63338657/164062718-b0c99251-1527-4693-9a0a-ca43d3c5599c.png)\n",
    "\n",
    "![](https://user-images.githubusercontent.com/63338657/164062976-0e798f60-0e9b-42b0-9231-f0333281b79c.png)"
   ]
  },
  {
   "cell_type": "markdown",
   "id": "a99522df",
   "metadata": {},
   "source": [
    "__Distribution of Errors__\n",
    "\n",
    "![](https://user-images.githubusercontent.com/63338657/164063840-8eae12be-ad38-4dc4-a7db-b2752ab00568.png)\n",
    "\n",
    "![](https://user-images.githubusercontent.com/63338657/164064374-8859f19b-99e0-47e9-aa8e-62a712a23859.png)\n",
    "\n",
    "![](https://user-images.githubusercontent.com/63338657/164064927-5bbe31af-95fc-4fca-a6f6-e760acb5fda6.png)"
   ]
  },
  {
   "cell_type": "markdown",
   "id": "3d2c9fbb",
   "metadata": {},
   "source": [
    "__Mean Absolute Percentage Error__\n",
    "\n",
    "https://youtu.be/ly6ztgIkUxk"
   ]
  },
  {
   "cell_type": "code",
   "execution_count": null,
   "id": "d833d3bf",
   "metadata": {},
   "outputs": [],
   "source": []
  }
 ],
 "metadata": {
  "kernelspec": {
   "display_name": "Python 3 (ipykernel)",
   "language": "python",
   "name": "python3"
  },
  "language_info": {
   "codemirror_mode": {
    "name": "ipython",
    "version": 3
   },
   "file_extension": ".py",
   "mimetype": "text/x-python",
   "name": "python",
   "nbconvert_exporter": "python",
   "pygments_lexer": "ipython3",
   "version": "3.10.4"
  }
 },
 "nbformat": 4,
 "nbformat_minor": 5
}
