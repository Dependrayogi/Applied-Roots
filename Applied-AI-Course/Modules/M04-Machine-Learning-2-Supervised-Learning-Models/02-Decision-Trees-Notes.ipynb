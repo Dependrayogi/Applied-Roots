{
 "cells": [
  {
   "cell_type": "markdown",
   "id": "54dbbfc1",
   "metadata": {},
   "source": [
    "__Geometric Intuition of Decision Tree: Axis Parallel Hyperplanes__\n",
    "\n",
    "![](https://user-images.githubusercontent.com/63338657/170896037-bce0b511-e9d1-41eb-9635-c23c043fce0a.png)\n",
    "\n",
    "![](https://user-images.githubusercontent.com/63338657/170896316-a62ce44b-de30-424a-8119-8a2e9f0db4af.png)\n",
    "\n",
    "![](https://user-images.githubusercontent.com/63338657/170896363-0d86b007-763f-421d-9270-8263f6401f20.png)\n",
    "\n",
    "![](https://user-images.githubusercontent.com/63338657/170896598-d6440a7d-bb8b-4d6d-8a29-a703922cf66e.png)\n",
    "\n",
    "![](https://user-images.githubusercontent.com/63338657/170896860-2bef1c76-c2a4-4995-b483-969718eb9aa8.png)\n",
    "\n",
    "Link: http://www.r2d3.us/visual-intro-to-machine-learning-part-1/\n",
    "\n",
    "![](https://user-images.githubusercontent.com/63338657/170897494-3aefebcc-52c3-40dd-99d6-fb077e8d3571.png)\n",
    "\n",
    "Link: https://datascience.stackexchange.com/questions/6787/are-decision-tree-algorithms-linear-or-nonlinear"
   ]
  },
  {
   "cell_type": "markdown",
   "id": "344375f1",
   "metadata": {},
   "source": [
    "__Building a Decision Tree: Entropy__\n",
    "\n",
    "![](https://user-images.githubusercontent.com/63338657/171007900-73b24901-6cfc-4ca0-adf0-7e89467636e0.png)\n",
    "\n",
    "![](https://user-images.githubusercontent.com/63338657/171008550-d50782a4-8e2e-4144-b4b0-0293b1f6290c.png)\n",
    "\n",
    "![](https://user-images.githubusercontent.com/63338657/171008719-93fa9b01-dbae-4768-bc94-409441c05afe.png)\n",
    "\n",
    "![](https://user-images.githubusercontent.com/63338657/171009073-4660fe5f-cd2a-4764-8c5a-736aa661b1d1.png)\n",
    "\n",
    "![](https://user-images.githubusercontent.com/63338657/171009759-919fe9bc-472b-45b5-ab1d-4d847f0ef6ac.png)\n",
    "\n",
    "![](https://user-images.githubusercontent.com/63338657/171010339-ff7943e5-3639-4808-99e8-a3df3361e73d.png)\n",
    "\n",
    "![](https://user-images.githubusercontent.com/63338657/171011709-754c633e-c57e-4ee8-aec0-f1c7b4812840.png)\n",
    "\n",
    "![](https://user-images.githubusercontent.com/63338657/171011997-877528da-53f1-4931-b2cf-cf030246113a.png)\n",
    "\n",
    "![](https://user-images.githubusercontent.com/63338657/171013124-f1d39c45-cd10-4681-8c5e-c89c0059a72d.png)"
   ]
  },
  {
   "cell_type": "markdown",
   "id": "1d93bba8",
   "metadata": {},
   "source": [
    "__KL Divergence__\n",
    "\n",
    "![](https://user-images.githubusercontent.com/63338657/171211563-f8b526c7-7616-48d2-971c-0e1732d4c7eb.png)\n",
    "\n",
    "![](https://user-images.githubusercontent.com/63338657/171211776-bb0dab24-5a28-4216-9d7a-d502b47f7ba0.png)\n",
    "\n",
    "KS-Statistic is not differentiable and hence cannot be used as a loss function. ML algorithms purely depend on differentiable loss functions.\n",
    "\n",
    "![](https://user-images.githubusercontent.com/63338657/171213006-8651a2dd-0cd5-4b97-81c7-1e318156aa63.png)\n",
    "\n",
    "![](https://user-images.githubusercontent.com/63338657/171213789-b5887fb3-b648-451b-8c11-c678dfa31869.png)"
   ]
  },
  {
   "cell_type": "markdown",
   "id": "b0934b03",
   "metadata": {},
   "source": [
    "__Building a Decision Tree: Information Gain__\n",
    "\n",
    "Link: https://homepage.cs.uri.edu/faculty/hamel/courses/2014/spring2014/csc581/lecture-notes/31-decision-trees.pdf\n",
    "\n",
    "Link: https://homepage.cs.uri.edu/faculty/hamel/courses/2018/spring2018/csc581/lecture-notes/31a-decision-trees.pdf\n",
    "\n",
    "Link: https://web.cs.hacettepe.edu.tr/~ilyas/Courses/BIL712/lec02-DecisionTree.pdf\n",
    "\n",
    "![](https://user-images.githubusercontent.com/63338657/171218835-28c7edb1-1db0-4b9e-bb02-fd62fbf40567.png)\n",
    "\n",
    "![](https://user-images.githubusercontent.com/63338657/171221116-4d1fbd63-08fa-4379-85c9-3fd718f6ea83.png)\n",
    "\n",
    "![](https://user-images.githubusercontent.com/63338657/171221618-15d40aea-d6f0-43d1-a8fc-16f70fce6172.png)\n",
    "\n",
    "![](https://user-images.githubusercontent.com/63338657/171222625-b9d5781f-4de0-43e4-9a66-61bb7bbc7761.png)\n",
    "\n",
    "![](https://user-images.githubusercontent.com/63338657/171223272-ee79bab2-3eaa-4c41-96ee-405ac2cc8027.png)\n",
    "\n",
    "Small correction for information gain formula: __Information_Gain = (Entropy(parent)) – (Weighted Average Entropy of child nodes)__\n",
    "\n",
    "We want to determine which attribute in a given set of training feature vectors is most useful for discriminating between the classes to be learned. Information gain tells us how important a given attribute of the feature vectors is. We will use it to decide the ordering of attributes in the nodes of a decision tree.\n",
    "\n",
    "IG basically means how much information given feature holds.We want to maximize our information hold while building decision tree. So we split data with feature which has maximum \"IG\". Entropy can be considered as a measure of \"Impurity\". Ultimately we want to build decision tree with \"pure\" nodes (i.e class1 points in one leaf, class0 points in other leaf). Entropy close to 0 indicates there is no impurity (i.e class1 points in one leaf, class0 points in other leaf). Entropy close to 1 indicates highly impurity (i.e leaf contains half class1 points, half class0 points).\n",
    "\n",
    "Link: https://victorzhou.com/blog/information-gain/"
   ]
  },
  {
   "cell_type": "markdown",
   "id": "a2fe2ade",
   "metadata": {},
   "source": [
    "__Building a Decision Tree: Gini Impurity__\n",
    "\n",
    "![](https://user-images.githubusercontent.com/63338657/171299263-ec300b09-4172-4092-a26f-381cf58ca38a.png)\n",
    "\n",
    "![](https://user-images.githubusercontent.com/63338657/171299561-ebc9c9f2-3cf5-4006-bb0b-7f50025664c3.png)\n",
    "\n",
    "![](https://user-images.githubusercontent.com/63338657/171299757-776c1c6d-99c9-421b-a22d-107c59cdd798.png)\n",
    "\n",
    "If only a single class are  present in the split, then the node is called a pure node. So here we are measuring how impure the split is that is, the proportion of both the classes. If a split is pure, we are giving a value of 0. If the split impure(if it contains the values from both the classes) , we are giving a value not equal to 0."
   ]
  },
  {
   "cell_type": "markdown",
   "id": "22051cb2",
   "metadata": {},
   "source": [
    "__Building a Decision Tree: Constructing a DT__\n",
    "\n",
    "![](https://user-images.githubusercontent.com/63338657/171302897-63b66a68-d480-4752-8b46-1252a761f1cd.png)\n",
    "\n",
    "![](https://user-images.githubusercontent.com/63338657/171303107-bae29ba8-9ec8-4a03-bde0-b9c0e01f1a93.png)\n",
    "\n",
    "Pick the one which has high value of Information Gain.\n",
    "\n",
    "![](https://user-images.githubusercontent.com/63338657/171303348-f06ff115-e027-482d-ade3-314b34a8392b.png)\n",
    "\n",
    "![](https://user-images.githubusercontent.com/63338657/171303657-6ee99406-7089-4f4e-a9fe-d138f25aa5e0.png)\n",
    "\n",
    "![](https://user-images.githubusercontent.com/63338657/171304037-d2c570c9-0cc6-45eb-b3a5-a3216dad80d8.png)\n",
    "\n",
    "![](https://user-images.githubusercontent.com/63338657/171304232-bb0c7255-e24d-425d-bf36-5f4d7531a873.png)\n",
    "\n",
    "![](https://user-images.githubusercontent.com/63338657/171304354-50ae43ce-1ad9-4ea2-acb8-b40f078b7829.png)\n",
    "\n",
    "![](https://user-images.githubusercontent.com/63338657/171304497-fbb8b6ce-482b-48c4-834b-b2bc5ff1cd95.png)\n",
    "\n",
    "We generally stop growing a tree according to max_depth which is a hyper-parameter. We tune this parameter to get an optimal value. The tree generally stops growing at that particular value of depth. Here, we choose majority voting as the nodes may not be pure. The label of majority points will be assigned as the class label.\n",
    "\n",
    "Link: https://stackoverflow.com/questions/19993139/can-splitting-attribute-appear-many-times-in-decision-tree\n",
    "\n",
    "Link: https://youtu.be/_L39rN6gz7Y"
   ]
  },
  {
   "cell_type": "markdown",
   "id": "cf90146a",
   "metadata": {},
   "source": [
    "__Building a Decision Tree: Splitting Numerical Features__\n",
    "\n",
    "![](https://user-images.githubusercontent.com/63338657/171451813-a5b001a8-3f1e-4f87-8186-bf4e20f849d3.png)\n",
    "\n",
    "![](https://user-images.githubusercontent.com/63338657/171452601-e4f349f8-d794-423d-af7e-424db3e97b6d.png)\n",
    "\n",
    "![](https://user-images.githubusercontent.com/63338657/171453450-22be2d62-befc-4b36-acf9-d222ceac3f93.png)\n",
    "\n",
    "Link: https://youtu.be/g9c66TUylZ4"
   ]
  },
  {
   "cell_type": "markdown",
   "id": "ea1b5671",
   "metadata": {},
   "source": [
    "__Feature Standardization__\n",
    "\n",
    "![](https://user-images.githubusercontent.com/63338657/171519348-2affb34e-5a03-4f78-b401-6b6a7de49858.png)\n",
    "\n",
    "![](https://user-images.githubusercontent.com/63338657/171519713-dba19882-19b6-4e85-934b-7f936989fe6c.png)"
   ]
  },
  {
   "cell_type": "markdown",
   "id": "cb5c430f",
   "metadata": {},
   "source": [
    "__Building a Decision Tree: Categorical features with many possible values__\n",
    "\n",
    "![](https://user-images.githubusercontent.com/63338657/171522051-63bfb45e-3a37-40a4-99c3-b1945219b160.png)\n",
    "\n",
    "![](https://user-images.githubusercontent.com/63338657/171522271-eddaaea6-4f86-431b-a000-6f336b345a65.png)\n",
    "\n",
    "![](https://user-images.githubusercontent.com/63338657/171522414-bbbad1db-b2d4-45b1-bf16-fa7f5c15c102.png)\n",
    "\n",
    "![](https://user-images.githubusercontent.com/63338657/171522553-803235b4-222c-4c38-8cc9-1f9b712ceaff.png)\n",
    "\n",
    "![](https://user-images.githubusercontent.com/63338657/171522989-dca9860c-1276-46a0-af1d-9ada94e152c0.png)"
   ]
  },
  {
   "cell_type": "markdown",
   "id": "8f3e0a8a",
   "metadata": {},
   "source": [
    "__Overfitting and Underfitting__\n",
    "\n",
    "![](https://user-images.githubusercontent.com/63338657/171792916-dfe05991-6660-4e54-b1aa-87d3a97ae7ea.png)\n",
    "\n",
    "![](https://user-images.githubusercontent.com/63338657/171793258-872f5992-670b-4cbb-81c6-4215c14bfffd.png)\n",
    "\n",
    "![](https://user-images.githubusercontent.com/63338657/171793633-e77e834c-7d54-4550-926d-981734a87cc3.png)"
   ]
  },
  {
   "cell_type": "markdown",
   "id": "e32b79f6",
   "metadata": {},
   "source": [
    "__Overfitting and Underfitting__\n",
    "\n",
    "![](https://user-images.githubusercontent.com/63338657/171806825-0ef4d5d9-7e6f-4114-b42d-b5ab2155f169.png)\n",
    "\n",
    "![](https://user-images.githubusercontent.com/63338657/171806883-f928527f-0926-47e1-acf0-f8f0687b8009.png)\n",
    "\n",
    "![](https://user-images.githubusercontent.com/63338657/171806976-6cd3622c-8134-4fcc-bb93-d53b2d3eb9ec.png)\n",
    "\n",
    "![](https://user-images.githubusercontent.com/63338657/171807030-e086692a-731a-490d-93e8-fdb518a17a65.png)"
   ]
  },
  {
   "cell_type": "markdown",
   "id": "9c3e1ca4",
   "metadata": {},
   "source": [
    "__Train and Runtime Complexity__\n",
    "\n",
    "![](https://user-images.githubusercontent.com/63338657/171807488-14c39950-cd67-4900-b22b-e7fddb115107.png)\n",
    "\n",
    "![](https://user-images.githubusercontent.com/63338657/171807857-c31d6249-4f5f-4401-acf4-de93510768e5.png)\n",
    "\n",
    "![](https://user-images.githubusercontent.com/63338657/171808209-8bd58d7a-a7b8-42fc-93bc-0fe2529540a6.png)\n",
    "\n",
    "![](https://user-images.githubusercontent.com/63338657/171808498-5496f55d-b3ff-4213-8c77-a4851e2ba61f.png)"
   ]
  },
  {
   "cell_type": "markdown",
   "id": "27889715",
   "metadata": {},
   "source": [
    "__Regression using Decision Trees__\n",
    "\n",
    "![](https://user-images.githubusercontent.com/63338657/171837541-cef3234a-2175-4e09-8ced-de902786f29e.png)\n",
    "\n",
    "![](https://user-images.githubusercontent.com/63338657/171837950-26df9598-820b-4e03-884e-e5ead636652c.png)\n",
    "\n",
    "![](https://user-images.githubusercontent.com/63338657/171838318-78f16c88-ddb0-4036-966c-b1655123df0e.png)\n",
    "\n",
    "Link: https://youtu.be/RCkekrLIP_4\n",
    "\n",
    "Link: https://youtu.be/g9c66TUylZ4"
   ]
  },
  {
   "cell_type": "markdown",
   "id": "ea6a871b",
   "metadata": {},
   "source": [
    "__Cases__\n",
    "\n",
    "![](https://user-images.githubusercontent.com/63338657/171901547-4468b21e-5545-47e6-a407-70fd7fc53a85.png)\n",
    "\n",
    "![](https://user-images.githubusercontent.com/63338657/171902028-32bbfe1c-0058-4c9e-86c6-c05e2ecad369.png)\n",
    "\n",
    "![](https://user-images.githubusercontent.com/63338657/171902290-17ea52c7-f217-4ba9-8d6b-50cc550c9881.png)\n",
    "\n",
    "![](https://user-images.githubusercontent.com/63338657/171902554-c6f28750-df92-401d-b076-0ed32864a088.png)\n",
    "\n",
    "![](https://user-images.githubusercontent.com/63338657/171902812-85d3c70e-d7c2-4fa2-87b2-a2512a03765a.png)\n",
    "\n",
    "![](https://user-images.githubusercontent.com/63338657/171903140-b582b9c1-636b-4b46-91d1-490ab7f16a3a.png)\n",
    "\n",
    "![](https://user-images.githubusercontent.com/63338657/171903500-7bc4b62a-d0a5-4ce4-848f-1c1fdcf6f9f9.png)\n",
    "\n",
    "![](https://user-images.githubusercontent.com/63338657/171903889-a483947d-0205-4229-a37a-74ae95407e8b.png)\n",
    "\n",
    "![](https://user-images.githubusercontent.com/63338657/171904487-3596618a-bed5-48e4-98be-c65494e96951.png)"
   ]
  },
  {
   "cell_type": "code",
   "execution_count": null,
   "id": "b80006a2",
   "metadata": {},
   "outputs": [],
   "source": []
  },
  {
   "cell_type": "code",
   "execution_count": null,
   "id": "5566a50e",
   "metadata": {},
   "outputs": [],
   "source": []
  },
  {
   "cell_type": "code",
   "execution_count": null,
   "id": "0d965199",
   "metadata": {},
   "outputs": [],
   "source": []
  },
  {
   "cell_type": "code",
   "execution_count": null,
   "id": "1ff2151b",
   "metadata": {},
   "outputs": [],
   "source": []
  },
  {
   "cell_type": "code",
   "execution_count": null,
   "id": "4e103df3",
   "metadata": {},
   "outputs": [],
   "source": []
  }
 ],
 "metadata": {
  "kernelspec": {
   "display_name": "Python 3 (ipykernel)",
   "language": "python",
   "name": "python3"
  },
  "language_info": {
   "codemirror_mode": {
    "name": "ipython",
    "version": 3
   },
   "file_extension": ".py",
   "mimetype": "text/x-python",
   "name": "python",
   "nbconvert_exporter": "python",
   "pygments_lexer": "ipython3",
   "version": "3.10.4"
  }
 },
 "nbformat": 4,
 "nbformat_minor": 5
}
