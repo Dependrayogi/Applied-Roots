{
 "cells": [
  {
   "cell_type": "markdown",
   "id": "2d5ed9d5",
   "metadata": {},
   "source": [
    "Need for image segmentation. Segmentation is an important stage of the image recognition system, because it extracts the objects of our interest, for further processing such as description or recognition. Segmentation of an image is in practice for the classification of image pixel."
   ]
  },
  {
   "cell_type": "markdown",
   "id": "bef0c97c",
   "metadata": {},
   "source": [
    "![](https://user-images.githubusercontent.com/63338657/202840291-f82da399-7825-456c-bb7c-377687ae8941.png)"
   ]
  },
  {
   "cell_type": "markdown",
   "id": "511b71ea",
   "metadata": {},
   "source": [
    "![](https://user-images.githubusercontent.com/63338657/202840861-505f6885-3699-456b-b98d-847ecb2e2a37.png)\n",
    "\n",
    "![](https://user-images.githubusercontent.com/63338657/202841131-2efba703-0c45-499e-9e11-3106dc57c742.png)\n",
    "\n",
    "![](https://user-images.githubusercontent.com/63338657/202841221-12af2168-cb1e-475c-931f-e575795afb79.png)\n",
    "\n",
    "![](https://user-images.githubusercontent.com/63338657/202841302-8d3efed4-b127-44b6-9f50-6108535e20a0.png)"
   ]
  },
  {
   "cell_type": "markdown",
   "id": "347a5278",
   "metadata": {},
   "source": [
    "![](https://user-images.githubusercontent.com/63338657/202844212-4da69677-6015-41f3-bd8c-0f1bd2eec199.png)\n",
    "\n",
    "![](https://user-images.githubusercontent.com/63338657/202844273-c6849013-480a-4105-bae2-513dc8f9714f.png)"
   ]
  },
  {
   "cell_type": "code",
   "execution_count": null,
   "id": "c9001ec4",
   "metadata": {},
   "outputs": [],
   "source": []
  }
 ],
 "metadata": {
  "kernelspec": {
   "display_name": "Python 3 (ipykernel)",
   "language": "python",
   "name": "python3"
  },
  "language_info": {
   "codemirror_mode": {
    "name": "ipython",
    "version": 3
   },
   "file_extension": ".py",
   "mimetype": "text/x-python",
   "name": "python",
   "nbconvert_exporter": "python",
   "pygments_lexer": "ipython3",
   "version": "3.10.8"
  }
 },
 "nbformat": 4,
 "nbformat_minor": 5
}
