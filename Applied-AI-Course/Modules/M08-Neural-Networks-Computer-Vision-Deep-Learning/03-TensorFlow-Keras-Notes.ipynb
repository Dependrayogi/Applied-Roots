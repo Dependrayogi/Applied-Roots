{
 "cells": [
  {
   "cell_type": "markdown",
   "id": "1a01fb12",
   "metadata": {},
   "source": [
    "__TensorFlow and Keras Overview__"
   ]
  },
  {
   "cell_type": "markdown",
   "id": "b93a7211",
   "metadata": {},
   "source": [
    "![](https://user-images.githubusercontent.com/63338657/193769610-5a316860-0950-4116-ab7f-74346e59c33a.png)\n",
    "\n",
    "![](https://user-images.githubusercontent.com/63338657/193769862-4490e116-3aaf-46f3-9cd5-8d314386b614.png)\n",
    "\n",
    "![](https://user-images.githubusercontent.com/63338657/193770458-73bffd68-00ec-4adb-9a65-f57cd468e6d1.png)\n",
    "\n",
    "![](https://user-images.githubusercontent.com/63338657/193770904-7185ef38-3293-40d8-b941-f26aa391d33f.png)\n",
    "\n",
    "![](https://user-images.githubusercontent.com/63338657/193771545-ebe98106-f7eb-4454-aae0-8085f26224e4.png)\n",
    "\n",
    "![](https://user-images.githubusercontent.com/63338657/193772103-46b50d8c-4326-4ab0-a84f-ba4017ef163d.png)\n",
    "\n",
    "![](https://user-images.githubusercontent.com/63338657/193772599-28f178e7-5c79-4e5f-95a8-681fa42ed063.png)"
   ]
  },
  {
   "cell_type": "markdown",
   "id": "514de006",
   "metadata": {},
   "source": [
    "__GPU vs CPU for Deep Learning__"
   ]
  },
  {
   "cell_type": "markdown",
   "id": "5543d0a9",
   "metadata": {},
   "source": [
    "![](https://user-images.githubusercontent.com/63338657/193773451-a071c553-1b94-4e24-b93f-c3fee5e7bf1e.png)\n",
    "\n",
    "![](https://user-images.githubusercontent.com/63338657/193777837-42280303-8453-4a14-a357-4a7f7c762b23.png)\n",
    "\n",
    "![](https://user-images.githubusercontent.com/63338657/193778924-31a8522f-d41c-4194-95f8-8d4c5ab2b2e4.png)\n",
    "\n",
    "![](https://user-images.githubusercontent.com/63338657/193779602-27d4ee61-a301-409f-ba25-356236e81d80.png)\n",
    "\n",
    "![](https://user-images.githubusercontent.com/63338657/193779885-b70d6faf-c46a-418d-911c-7ac4f57776d9.png)\n",
    "\n",
    "![](https://user-images.githubusercontent.com/63338657/193780347-fd57ff5d-81ac-4b7c-8d5b-a37faa1db945.png)\n",
    "\n",
    "![](https://user-images.githubusercontent.com/63338657/193780872-20e89229-d9fe-4256-82bd-7467f6175e41.png)\n",
    "\n",
    "Link: https://www.heavy.ai/technical-glossary/cpu-vs-gpu"
   ]
  },
  {
   "cell_type": "markdown",
   "id": "00a84d26",
   "metadata": {},
   "source": [
    "Link: https://cloud.google.com/blog/products/ai-machine-learning/learn-tensorflow-and-deep-learning-without-a-phd"
   ]
  },
  {
   "cell_type": "code",
   "execution_count": null,
   "id": "b43db254",
   "metadata": {},
   "outputs": [],
   "source": []
  },
  {
   "cell_type": "code",
   "execution_count": null,
   "id": "557d69f6",
   "metadata": {},
   "outputs": [],
   "source": []
  },
  {
   "cell_type": "code",
   "execution_count": null,
   "id": "9dc65ca3",
   "metadata": {},
   "outputs": [],
   "source": []
  }
 ],
 "metadata": {
  "kernelspec": {
   "display_name": "Python 3 (ipykernel)",
   "language": "python",
   "name": "python3"
  },
  "language_info": {
   "codemirror_mode": {
    "name": "ipython",
    "version": 3
   },
   "file_extension": ".py",
   "mimetype": "text/x-python",
   "name": "python",
   "nbconvert_exporter": "python",
   "pygments_lexer": "ipython3",
   "version": "3.10.7"
  }
 },
 "nbformat": 4,
 "nbformat_minor": 5
}
