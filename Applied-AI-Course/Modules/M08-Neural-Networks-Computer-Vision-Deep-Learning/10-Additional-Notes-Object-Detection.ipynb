{
 "cells": [
  {
   "cell_type": "markdown",
   "id": "20c8402f",
   "metadata": {},
   "source": [
    "![](https://user-images.githubusercontent.com/63338657/202853815-ae87c2e2-a910-4a95-ac25-0402dcd59563.png)\n",
    "\n",
    "![](https://user-images.githubusercontent.com/63338657/202862361-7fa6dac9-6b5d-4748-ad09-2b43c01c69bb.png)\n",
    "\n",
    "![](https://user-images.githubusercontent.com/63338657/202862440-2aa0a5be-a891-4230-939a-1f29942b2273.png)\n",
    "\n",
    "![](https://user-images.githubusercontent.com/63338657/202862656-e4b55184-9560-4450-a05c-a7a02388dc50.png)"
   ]
  },
  {
   "cell_type": "markdown",
   "id": "114838e4",
   "metadata": {},
   "source": [
    "![](https://user-images.githubusercontent.com/63338657/202863082-6b35e718-2ce0-4661-aee6-5e8e3a57622c.png)\n",
    "\n",
    "![](https://user-images.githubusercontent.com/63338657/202863182-a8635b4f-fe70-4b42-85ea-d6c65992afac.png)"
   ]
  },
  {
   "cell_type": "markdown",
   "id": "239057fc",
   "metadata": {},
   "source": [
    "![](https://user-images.githubusercontent.com/63338657/202931212-b47a6ba2-f56b-4e0d-8492-a4a40ddf2502.png)"
   ]
  },
  {
   "cell_type": "markdown",
   "id": "00d2960b",
   "metadata": {},
   "source": [
    "![](https://user-images.githubusercontent.com/63338657/202931417-152ffa57-fea3-4bbf-a70a-e80c52333a39.png)\n",
    "\n"
   ]
  },
  {
   "cell_type": "markdown",
   "id": "7a42ba60",
   "metadata": {},
   "source": [
    "![](https://user-images.githubusercontent.com/63338657/202933866-f0b9a88c-7eb7-4d28-b1a5-197482bd3b27.png)"
   ]
  },
  {
   "cell_type": "markdown",
   "id": "aa34270a",
   "metadata": {},
   "source": [
    "![](https://user-images.githubusercontent.com/63338657/202935935-67609b11-4341-43d2-b095-a56c6a645206.png)\n",
    "\n",
    "![](https://user-images.githubusercontent.com/63338657/202936120-e0685dce-e690-43b0-b321-92cb8a005c15.png)"
   ]
  },
  {
   "cell_type": "markdown",
   "id": "df251c13",
   "metadata": {},
   "source": [
    "![](https://user-images.githubusercontent.com/63338657/202936251-1220356b-0caf-4220-b6d1-dd4a81c65b56.png)"
   ]
  },
  {
   "cell_type": "markdown",
   "id": "dc8c6a37",
   "metadata": {},
   "source": [
    "![](https://user-images.githubusercontent.com/63338657/202937505-43565d9e-7de9-4cfa-929f-1fad61c65986.png)"
   ]
  },
  {
   "cell_type": "markdown",
   "id": "dcf95302",
   "metadata": {},
   "source": [
    "![](https://user-images.githubusercontent.com/63338657/202936954-5484f4cf-6b5a-400c-8e2f-9d4cf070c005.png)\n",
    "\n",
    "![](https://user-images.githubusercontent.com/63338657/202937096-1c166aa9-30bb-436f-a9ae-db6f5329bf61.png)"
   ]
  },
  {
   "cell_type": "code",
   "execution_count": null,
   "id": "c412a792",
   "metadata": {},
   "outputs": [],
   "source": []
  },
  {
   "cell_type": "code",
   "execution_count": null,
   "id": "ad1130c4",
   "metadata": {},
   "outputs": [],
   "source": []
  },
  {
   "cell_type": "code",
   "execution_count": null,
   "id": "53fef53a",
   "metadata": {},
   "outputs": [],
   "source": []
  },
  {
   "cell_type": "code",
   "execution_count": null,
   "id": "1c162842",
   "metadata": {},
   "outputs": [],
   "source": []
  }
 ],
 "metadata": {
  "kernelspec": {
   "display_name": "Python 3 (ipykernel)",
   "language": "python",
   "name": "python3"
  },
  "language_info": {
   "codemirror_mode": {
    "name": "ipython",
    "version": 3
   },
   "file_extension": ".py",
   "mimetype": "text/x-python",
   "name": "python",
   "nbconvert_exporter": "python",
   "pygments_lexer": "ipython3",
   "version": "3.10.8"
  }
 },
 "nbformat": 4,
 "nbformat_minor": 5
}
