{
 "cells": [
  {
   "cell_type": "markdown",
   "id": "5a507e3e",
   "metadata": {},
   "source": [
    "__Deep Multi-Layer Perceptrons:1980s to 2010s__\n",
    "\n",
    "![](https://user-images.githubusercontent.com/63338657/193439490-6e2cf281-dc58-4859-80db-9682a2c5d5f3.png)\n",
    "\n",
    "![](https://user-images.githubusercontent.com/63338657/193439600-c07b4729-7919-40f5-a650-83babc63e6c1.png)\n",
    "\n",
    "![](https://user-images.githubusercontent.com/63338657/193439699-904b7164-b0d9-4708-8806-28dfaeb6b218.png)"
   ]
  },
  {
   "cell_type": "markdown",
   "id": "76d8fc09",
   "metadata": {},
   "source": [
    "__Dropout Layers & Regularization__"
   ]
  },
  {
   "cell_type": "markdown",
   "id": "9c6dc566",
   "metadata": {},
   "source": [
    "![](https://user-images.githubusercontent.com/63338657/193442513-6e929ca0-be71-4d8d-91d4-68607cb9eb3a.png)\n",
    "\n",
    "![](https://user-images.githubusercontent.com/63338657/193442843-49750466-9cb9-4537-b3e6-42891941da07.png)\n",
    "\n",
    "![](https://user-images.githubusercontent.com/63338657/193442993-a697a34c-be47-429a-8ea8-9aa40fc4d5c6.png)\n",
    "\n",
    "![](https://user-images.githubusercontent.com/63338657/193443256-7b65d8a8-b5c8-4fae-b92b-1d4b898160fe.png)\n",
    "\n",
    "![](https://user-images.githubusercontent.com/63338657/193443300-e0bb8d07-3deb-48d0-95f2-04a9c0817412.png)\n",
    "\n",
    "![](https://user-images.githubusercontent.com/63338657/193443368-dc05a8ec-9607-4bda-a313-bfa23dbe3aa4.png)\n",
    "\n",
    "![](https://user-images.githubusercontent.com/63338657/193443416-c23f6317-ceb7-4fd4-a62f-b129c78e8f2d.png)\n",
    "\n",
    "Link: https://youtu.be/ARq74QuavAo"
   ]
  },
  {
   "cell_type": "markdown",
   "id": "5aa8350a",
   "metadata": {},
   "source": [
    "__Rectified Linear Units (ReLU)__"
   ]
  },
  {
   "cell_type": "markdown",
   "id": "27ab6c3f",
   "metadata": {},
   "source": [
    "![](https://user-images.githubusercontent.com/63338657/193445073-a70c5c7f-cd05-45b9-a0e1-0c3c423124a6.png)\n",
    "\n",
    "![](https://user-images.githubusercontent.com/63338657/193445205-73fa122b-e71c-4753-a750-4ee930ceeb2f.png)\n",
    "\n",
    "![](https://user-images.githubusercontent.com/63338657/193445295-9b31e9c4-948a-49d9-9aae-bf49dcf988d0.png)\n",
    "\n",
    "![](https://user-images.githubusercontent.com/63338657/193445633-87826de9-1f87-45e1-a891-0e67675817b4.png)\n",
    "\n",
    "![](https://user-images.githubusercontent.com/63338657/193446481-99a6ebd2-b219-4087-98b1-1e5420f87c82.png)\n",
    "\n",
    "![](https://user-images.githubusercontent.com/63338657/193446654-5e19cbba-d876-4363-8127-7917f4d2c1ce.png)\n",
    "\n",
    "![](https://user-images.githubusercontent.com/63338657/193447012-eb488bb5-8f5f-4222-852c-ced24397a721.png)\n",
    "\n",
    "![](https://user-images.githubusercontent.com/63338657/193447272-ac706256-263d-4796-a0b2-5e5ff58ea578.png)\n",
    "\n",
    "![](https://user-images.githubusercontent.com/63338657/193447351-83ab36b5-0d10-4336-a953-4a8211b966a9.png)\n",
    "\n",
    "![](https://user-images.githubusercontent.com/63338657/193447473-36eee8a3-8430-4e10-92d7-7b7368e1a363.png)\n",
    "\n",
    "![](https://user-images.githubusercontent.com/63338657/193447435-63dc9b7e-9c60-4421-9db6-ed4d82afca68.png)\n",
    "\n",
    "![](https://user-images.githubusercontent.com/63338657/193507900-e632849b-5897-4b76-a729-c5edc7e38397.png)"
   ]
  },
  {
   "cell_type": "markdown",
   "id": "444b08ba",
   "metadata": {},
   "source": [
    "__Weight Initialization__"
   ]
  },
  {
   "cell_type": "markdown",
   "id": "3ba98e76",
   "metadata": {},
   "source": [
    "![](https://user-images.githubusercontent.com/63338657/193448968-70574c79-b12b-4034-ad3e-0d73c4844c91.png)\n",
    "\n",
    "![](https://user-images.githubusercontent.com/63338657/193449075-4e93f930-150f-4207-b737-5140a865fa41.png)\n",
    "\n",
    "![](https://user-images.githubusercontent.com/63338657/193449187-5bfdcb81-38b6-4d7f-83b7-b7459e99007f.png)\n",
    "\n",
    "![](https://user-images.githubusercontent.com/63338657/193449285-345d7006-12f6-4e5d-accf-7fc79ca6ca4e.png)\n",
    "\n",
    "![](https://user-images.githubusercontent.com/63338657/193449379-6a779a29-4214-4cfd-8889-3fce39e726ac.png)\n",
    "\n",
    "![](https://user-images.githubusercontent.com/63338657/193449515-bd28cc02-b99b-461e-843b-cca081383855.png)\n",
    "\n",
    "![](https://user-images.githubusercontent.com/63338657/193449614-f147dbca-2865-48e6-9e94-50a385d8e8a6.png)\n",
    "\n",
    "Correct at 19:15 min: $\\sigma=\\sqrt{\\frac{2}{\\text{fan_in}+\\text{fan_out}}}$ and NOT $\\sigma=\\frac{2}{\\text{fan_in}+\\text{fan_out}}$. We missed out the SQRT function in the above video.\n",
    "\n",
    "![](https://user-images.githubusercontent.com/63338657/193449685-2b1a4b5c-6d86-449e-9fd8-7473843b3628.png)\n",
    "\n",
    "![](https://user-images.githubusercontent.com/63338657/193450141-8eddc1a9-6de3-40e6-876e-048c02327947.png)"
   ]
  },
  {
   "cell_type": "markdown",
   "id": "d909fb1d",
   "metadata": {},
   "source": [
    "__Batch Normalization__"
   ]
  },
  {
   "cell_type": "markdown",
   "id": "24681108",
   "metadata": {},
   "source": [
    "![](https://user-images.githubusercontent.com/63338657/193450586-95543d99-ae7a-48c1-9e1b-cf46f0676e7b.png)\n",
    "\n",
    "![](https://user-images.githubusercontent.com/63338657/193450740-35359c5e-22aa-4089-9dda-6e2720f8e00e.png)\n",
    "\n",
    "![](https://user-images.githubusercontent.com/63338657/193450860-e17a2813-3555-4e16-bbe4-4d7993804dd2.png)\n",
    "\n",
    "![](https://user-images.githubusercontent.com/63338657/193450954-07d451ee-812d-4693-a8b6-22b98183a0f3.png)\n",
    "\n",
    "![](https://user-images.githubusercontent.com/63338657/193451086-9471c19f-ee80-42ab-8dc7-178550621350.png)\n",
    "\n",
    "![](https://user-images.githubusercontent.com/63338657/193451157-3047c26e-e2af-4476-a6b1-9a573a3da132.png)\n",
    "\n",
    "Batch normalization is a feature that we add between the layers of the neural network and it continuously takes the output from the previous layer and normalizes it before sending it to the next layer. This has the effect of stabilizing the neural network. Batch normalization is also used to maintain the distribution of the data."
   ]
  },
  {
   "cell_type": "markdown",
   "id": "0787bb79",
   "metadata": {},
   "source": [
    "__Optimizers: Hill-Descent Analogy in 2D__"
   ]
  },
  {
   "cell_type": "markdown",
   "id": "dc10e646",
   "metadata": {},
   "source": [
    "![](https://user-images.githubusercontent.com/63338657/193452810-739cac2a-db6b-4d1e-bb0b-613b40e8c761.png)\n",
    "\n",
    "![](https://user-images.githubusercontent.com/63338657/193452831-bde0d42e-f36b-4454-a9c4-4870a6e72234.png)\n",
    "\n",
    "![](https://user-images.githubusercontent.com/63338657/193452944-346c72d1-f73b-4c8d-9744-d8e5fa8452da.png)\n",
    "\n",
    "![](https://user-images.githubusercontent.com/63338657/193453105-e0c6c95d-f36c-4569-b88d-ad6e9c29bf83.png)\n",
    "\n",
    "![](https://user-images.githubusercontent.com/63338657/193453133-eb23d992-5930-467f-bf57-1bafee80a43b.png)\n",
    "\n",
    "![](https://user-images.githubusercontent.com/63338657/193453441-d5355d81-91d1-4037-875f-7d372a89ef8d.png)\n",
    "\n",
    "![](https://user-images.githubusercontent.com/63338657/193453486-e79a93f5-2602-428e-837d-3b6f30ff0adb.png)"
   ]
  },
  {
   "cell_type": "markdown",
   "id": "c3094131",
   "metadata": {},
   "source": [
    "__SGD Recap__"
   ]
  },
  {
   "cell_type": "markdown",
   "id": "3a4f51cc",
   "metadata": {},
   "source": [
    "![](https://user-images.githubusercontent.com/63338657/193459880-7ab60acc-a945-4a73-9f9f-0ecc85c60b37.png)\n",
    "\n",
    "![](https://user-images.githubusercontent.com/63338657/193460110-835defd8-f154-41fc-9c80-48e87b81eeca.png)\n",
    "\n",
    "![](https://user-images.githubusercontent.com/63338657/193460381-2487ade1-33a2-4df0-9918-edc657fc601b.png)\n",
    "\n",
    "![](https://user-images.githubusercontent.com/63338657/193460484-47c88f38-dfb2-47d0-80b9-bc818ad74c75.png)\n",
    "\n",
    "![](https://gamedevacademy.org/wp-content/uploads/2017/09/GD-v-SGD.png)\n",
    "\n",
    "![](https://user-images.githubusercontent.com/63338657/193460741-71df9488-0333-4a54-9b0b-0227acaa9437.png)"
   ]
  },
  {
   "cell_type": "markdown",
   "id": "e6783ea3",
   "metadata": {},
   "source": [
    "__Batch SGD with Momentum__"
   ]
  },
  {
   "cell_type": "markdown",
   "id": "2885fd23",
   "metadata": {},
   "source": [
    "![](https://user-images.githubusercontent.com/63338657/193461804-85779ccd-8602-4c18-b9ec-8dedbcb1ebeb.png)\n",
    "\n",
    "![](https://user-images.githubusercontent.com/63338657/193461917-ab96298f-bfb4-48b7-b8c5-6abf6b9d48b7.png)\n",
    "\n",
    "![](https://user-images.githubusercontent.com/63338657/193462028-b5978113-2aa9-4b10-8378-919301aca6e3.png)\n",
    "\n",
    "![](https://user-images.githubusercontent.com/63338657/193462164-265af6d7-6288-437d-8cc7-ddc31d345eb3.png)\n",
    "\n",
    "![](https://user-images.githubusercontent.com/63338657/193462274-e7b7b0d5-121d-45dc-85b7-69569bdded9a.png)\n",
    "\n",
    "![](https://user-images.githubusercontent.com/63338657/193462610-111b7b8a-0cd3-4975-b999-c58093a02ccd.png)\n",
    "\n",
    "![](https://user-images.githubusercontent.com/63338657/193462732-af84c96f-ce8a-489d-9702-ab4e3b0da85d.png)\n",
    "\n",
    "![](https://user-images.githubusercontent.com/63338657/193462864-169af618-5918-4004-8c8f-f4ceef977ce2.png)\n",
    "\n",
    "![](https://user-images.githubusercontent.com/63338657/193463070-4ec93f79-5764-4f71-8cab-58a20e01495b.png)\n",
    "\n",
    "![](https://www.researchgate.net/publication/333469047/figure/fig1/AS:764105438793728@1559188341202/The-compare-of-the-SGD-algorithms-with-and-without-momentum-Take-Task-1-as-example-The.png)"
   ]
  },
  {
   "cell_type": "markdown",
   "id": "6651d326",
   "metadata": {},
   "source": [
    "__Nesterov Accelerated Gradient (NAG)__"
   ]
  },
  {
   "cell_type": "markdown",
   "id": "16bf8701",
   "metadata": {},
   "source": [
    "![](https://user-images.githubusercontent.com/63338657/193464926-33d54450-d3a6-45bf-a9e0-61d9eb7d4ebf.png)\n",
    "\n",
    "![](https://user-images.githubusercontent.com/63338657/193465076-2028a953-e3c0-445c-94cf-9fe7a1ebaf1d.png)\n",
    "\n",
    "Correction: @ 6:20 we wrote, $w^{'}=w_t-\\gamma v_{t-1}$ but i should be $w^{'}=w_{t-1}-\\gamma v_{t-1}$.\n",
    "\n",
    "Link: https://youtu.be/sV9aiEsXanE"
   ]
  },
  {
   "cell_type": "markdown",
   "id": "80db4594",
   "metadata": {},
   "source": [
    "__Optimizers: AdaGrad__"
   ]
  },
  {
   "cell_type": "markdown",
   "id": "c524b76d",
   "metadata": {},
   "source": [
    "![](https://user-images.githubusercontent.com/63338657/193510733-10391420-32a7-4876-b07f-c5bd067c5a8e.png)\n",
    "\n",
    "Correction: From 4:48 min onwards, it should be $\\alpha_{t}$ in the formula and NOT $\\alpha_{t-1}$.\n",
    "\n",
    "![](https://user-images.githubusercontent.com/63338657/193511335-caf3230c-5971-4085-878f-24583a0e199c.png)\n",
    "\n",
    "![](https://user-images.githubusercontent.com/63338657/193512159-03ab51d7-1dc6-41d6-af12-09f811a6945b.png)\n",
    "\n",
    "Correct formula below.\n",
    "\n",
    "![](https://user-images.githubusercontent.com/63338657/193512234-a7c154b3-d1a8-4ed2-9007-d64618b57595.png)\n",
    "\n",
    "![](https://user-images.githubusercontent.com/63338657/193513089-5ad4171a-2b7a-4a1b-80ee-260f4dac77a6.png)\n",
    "\n",
    "![](https://user-images.githubusercontent.com/63338657/193521134-22fbb72d-0841-429c-a6ee-272e6f2873f4.png)\n",
    "\n",
    "![](https://user-images.githubusercontent.com/63338657/193521407-ea40cf99-0a7c-4ffd-917a-5d364ad3c272.png)\n",
    "\n",
    "![](https://user-images.githubusercontent.com/63338657/193526387-c3c111f8-7ab7-4d52-8fd3-4159c5d7e780.png)"
   ]
  },
  {
   "cell_type": "markdown",
   "id": "e70aa20f",
   "metadata": {},
   "source": [
    "__Optimizers: Adadelta and RMSProp__"
   ]
  },
  {
   "cell_type": "markdown",
   "id": "2fd57b2d",
   "metadata": {},
   "source": [
    "![](https://user-images.githubusercontent.com/63338657/193522273-d68ff1df-2bf5-4e45-8b5b-ba1da85d4420.png)\n",
    "\n",
    "Correction 1: At 0:35 it is $\\alpha_{t}$ in the denominator.\n",
    "\n",
    "![](https://user-images.githubusercontent.com/63338657/193524272-85395af7-9046-4391-8f4b-4fcfe16c1c6c.png)\n",
    "\n",
    "Correction 2: At 2:17 min, the denominator should contain $\\text{eda}_{t}$ and NOT $\\text{eda}_{t-1}$.\n",
    "\n",
    "Correction 3: According to correction 2, now the equation will be: $\\text{eda}_{t} = \\gamma\\text{eda}_{t-1} + (1 - \\gamma)g^{2}_{t}$.\n",
    "\n",
    "![](https://user-images.githubusercontent.com/63338657/193524525-2b3813f6-7972-4dc3-a8ee-6cef17ba6aae.png)\n",
    "\n",
    "![](https://user-images.githubusercontent.com/63338657/193524874-1e16b515-036e-442b-a8c0-9419653fe8b8.png)\n",
    "\n",
    "Correct formula below.\n",
    "\n",
    "![](https://user-images.githubusercontent.com/63338657/193581269-b5b1f02f-45e2-40de-a3e7-de189794e921.png)"
   ]
  },
  {
   "cell_type": "markdown",
   "id": "d91a0ef4",
   "metadata": {},
   "source": [
    "__Optimizers: Adam__"
   ]
  },
  {
   "cell_type": "markdown",
   "id": "2f9db947",
   "metadata": {},
   "source": [
    "![](https://user-images.githubusercontent.com/63338657/193528231-88d0bd7c-2383-4190-8cd6-cea4721870e7.png)\n",
    "\n",
    "![](https://user-images.githubusercontent.com/63338657/193530357-1d7f0c2e-e037-4be0-8344-b0d46bf334ca.png)\n",
    "\n",
    "Correction at 5:18 min: the RHS of the equation should be $m_{t}$ and NOT $\\hat m_{t}$.\n",
    "\n",
    "Correction at 06:03: $\\in$ should be outside of the square root and NOT inside it.\n",
    "\n",
    "Correct formula below.\n",
    "\n",
    "![](https://user-images.githubusercontent.com/63338657/193531243-54ee5086-ab62-4451-b2bc-c34cf12be665.png)\n",
    "\n",
    "Correction at 8:07 min: typically $\\alpha=0.001$ and NOT $1$ as stated in the video.\n",
    "\n",
    "Here, $\\hat m_{t}$ is similar to momentum and $\\hat v_{t}$ is similar to adaptive learning rate."
   ]
  },
  {
   "cell_type": "markdown",
   "id": "5ae70b6c",
   "metadata": {},
   "source": [
    "__Which algorithm to choose when?__"
   ]
  },
  {
   "cell_type": "markdown",
   "id": "5a4efd3c",
   "metadata": {},
   "source": [
    "![](https://user-images.githubusercontent.com/63338657/193533335-0b3e906c-19b4-4c99-8f31-a2b768a3753c.png)\n",
    "\n",
    "![](https://user-images.githubusercontent.com/63338657/193536664-ee076013-4e8e-4d09-a950-e838c1b1da8c.png)\n",
    "\n",
    "![](https://i.stack.imgur.com/gjDzm.gif)\n",
    "\n",
    "![](https://web.archive.org/web/20201102092828im_/https://cdn-images-1.medium.com/max/1600/1*XVFmo9NxLnwDr3SxzKy-rA.gif)"
   ]
  },
  {
   "cell_type": "markdown",
   "id": "e475bd2a",
   "metadata": {},
   "source": [
    "__Gradient Checking and Clipping__"
   ]
  },
  {
   "cell_type": "markdown",
   "id": "7d4ef399",
   "metadata": {},
   "source": [
    "![](https://user-images.githubusercontent.com/63338657/193583408-79afd15e-e5d3-401e-b61d-fbe12507cecf.png)\n",
    "\n",
    "![](https://user-images.githubusercontent.com/63338657/193583007-86e2aaa2-f6ed-484e-b6c0-50495936484b.png)\n",
    "\n",
    "![](https://user-images.githubusercontent.com/63338657/193584186-b0a36265-4be4-4d21-a352-356b14c9e5d1.png)\n",
    "\n",
    "![](https://user-images.githubusercontent.com/63338657/193588666-c1742b7c-17ac-44df-abee-32dfb95ac1e2.png)"
   ]
  },
  {
   "cell_type": "markdown",
   "id": "2339103c",
   "metadata": {},
   "source": [
    "__Softmax and Cross-Entropy for Multi-Class Classification__"
   ]
  },
  {
   "cell_type": "markdown",
   "id": "14327111",
   "metadata": {},
   "source": [
    "![](https://user-images.githubusercontent.com/63338657/193589367-7aee8b53-6cf2-4316-abc2-d21e562c4c8a.png)\n",
    "\n",
    "![](https://user-images.githubusercontent.com/63338657/193590547-7c56625a-b966-4739-8547-ce749deb73ce.png)\n",
    "\n",
    "![](https://user-images.githubusercontent.com/63338657/193590930-b07cf361-f98f-4a9c-99a8-9f574de92d0e.png)\n",
    "\n",
    "![](https://user-images.githubusercontent.com/63338657/193617342-47415ff5-757d-4137-b107-b3c7f5d611ec.png)\n",
    "\n",
    "![](https://user-images.githubusercontent.com/63338657/193618269-ebd2838b-ee2c-4c94-983c-f9cc35064290.png)\n",
    "\n",
    "![](https://user-images.githubusercontent.com/63338657/193618680-2d96ca3e-48a7-4c08-b3e9-39562f91e336.png)\n",
    "\n",
    "![](https://user-images.githubusercontent.com/63338657/193626655-8f7d1a49-92ae-4510-bdce-8feca04419a4.png)\n",
    "\n",
    "![](https://user-images.githubusercontent.com/63338657/193626849-202bc4e6-99e2-45d7-a260-8b1695debf8a.png)\n",
    "\n",
    "Link: https://youtu.be/EVbL4tWxhPM"
   ]
  },
  {
   "cell_type": "markdown",
   "id": "ee40236f",
   "metadata": {},
   "source": [
    "__How to train a Deep MLP?__"
   ]
  },
  {
   "cell_type": "markdown",
   "id": "b9b471c0",
   "metadata": {},
   "source": [
    "![](https://user-images.githubusercontent.com/63338657/193646650-9b116548-bdab-43e8-9b6a-c5c546dbf2ff.png)\n",
    "\n",
    "![](https://user-images.githubusercontent.com/63338657/193647067-f0ccfcbb-4a35-40b2-87bb-d8cb0dff1b10.png)\n",
    "\n",
    "![](https://user-images.githubusercontent.com/63338657/193647466-a7be672e-6461-4708-b237-319dee2704a3.png)"
   ]
  },
  {
   "cell_type": "markdown",
   "id": "85daca5f",
   "metadata": {},
   "source": [
    "__Auto Encoders__"
   ]
  },
  {
   "cell_type": "markdown",
   "id": "c424082a",
   "metadata": {},
   "source": [
    "![](https://upload.wikimedia.org/wikipedia/commons/3/37/Autoencoder_schema.png)\n",
    "\n",
    "![](https://user-images.githubusercontent.com/63338657/193648883-1b731f9f-7a9b-46ca-ac5d-7ffe16ba2954.png)\n",
    "\n",
    "![](https://user-images.githubusercontent.com/63338657/193650362-038c3465-ac96-4cba-b61c-7b32456f0a4b.png)\n",
    "\n",
    "![](https://user-images.githubusercontent.com/63338657/193650913-a4065bdd-9a91-4523-b011-d75ee2c73388.png)\n",
    "\n",
    "![](https://user-images.githubusercontent.com/63338657/193652620-18aebaca-efb9-484b-97d3-89b2e3141bb8.png)\n",
    "\n",
    "![](https://user-images.githubusercontent.com/63338657/193653066-0589f594-3739-48d9-9433-fbde87088fc5.png)\n",
    "\n",
    "![](https://user-images.githubusercontent.com/63338657/193656323-5299815f-c01e-4c93-abe5-35938bb3e922.png)\n",
    "\n",
    "![](https://user-images.githubusercontent.com/63338657/193657256-3ea7617a-9708-4dda-a5f9-87e1ad2f155b.png)\n",
    "\n",
    "![](https://user-images.githubusercontent.com/63338657/193657414-4dfffba9-40f1-419f-9cb6-54b754eddc3c.png)\n",
    "\n",
    "![](https://user-images.githubusercontent.com/63338657/193658919-2cad80e4-7aaa-4061-800b-ed56506db441.png)"
   ]
  },
  {
   "cell_type": "code",
   "execution_count": null,
   "id": "99a93005",
   "metadata": {},
   "outputs": [],
   "source": []
  },
  {
   "cell_type": "code",
   "execution_count": null,
   "id": "cf0fec62",
   "metadata": {},
   "outputs": [],
   "source": []
  },
  {
   "cell_type": "code",
   "execution_count": null,
   "id": "36d05070",
   "metadata": {},
   "outputs": [],
   "source": []
  },
  {
   "cell_type": "code",
   "execution_count": null,
   "id": "17062f7d",
   "metadata": {},
   "outputs": [],
   "source": []
  },
  {
   "cell_type": "code",
   "execution_count": null,
   "id": "e45db896",
   "metadata": {},
   "outputs": [],
   "source": []
  },
  {
   "cell_type": "code",
   "execution_count": null,
   "id": "8af5a756",
   "metadata": {},
   "outputs": [],
   "source": []
  }
 ],
 "metadata": {
  "kernelspec": {
   "display_name": "Python 3 (ipykernel)",
   "language": "python",
   "name": "python3"
  },
  "language_info": {
   "codemirror_mode": {
    "name": "ipython",
    "version": 3
   },
   "file_extension": ".py",
   "mimetype": "text/x-python",
   "name": "python",
   "nbconvert_exporter": "python",
   "pygments_lexer": "ipython3",
   "version": "3.10.7"
  }
 },
 "nbformat": 4,
 "nbformat_minor": 5
}
