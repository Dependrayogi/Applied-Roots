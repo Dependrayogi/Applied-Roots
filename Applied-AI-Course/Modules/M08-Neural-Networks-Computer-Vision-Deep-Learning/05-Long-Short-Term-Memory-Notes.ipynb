{
 "cells": [
  {
   "cell_type": "markdown",
   "id": "5a7c3a92",
   "metadata": {},
   "source": [
    "__Why RNNs?__"
   ]
  },
  {
   "cell_type": "markdown",
   "id": "782a27f8",
   "metadata": {},
   "source": [
    "![](https://user-images.githubusercontent.com/63338657/197978938-a515e528-3ba6-4118-a533-990e5f17d9d8.png)\n",
    "\n",
    "![](https://user-images.githubusercontent.com/63338657/197980115-6c46b803-9c03-4d6b-a29c-0bc22d72afe3.png)\n",
    "\n",
    "![](https://user-images.githubusercontent.com/63338657/197980863-a5f88db4-ad58-4060-bc12-e4aa62a4b6c3.png)\n",
    "\n",
    "![](https://user-images.githubusercontent.com/63338657/197981196-88c73e3f-d3a2-4b89-b4cb-5033df6ae316.png)\n",
    "\n",
    "![](https://user-images.githubusercontent.com/63338657/197982441-d360d5e9-de5d-4b28-9720-e2ed6e69e514.png)\n",
    "\n",
    "![](https://user-images.githubusercontent.com/63338657/197983330-cfadf99e-3ea9-4270-97b9-617633c00e34.png)\n",
    "\n",
    "![](https://user-images.githubusercontent.com/63338657/197984132-3037348d-36ee-43d2-bf21-fe1eb86bbea5.png)\n",
    "\n",
    "![](https://user-images.githubusercontent.com/63338657/197984391-109b041e-18fb-4d5d-b645-b75bbd680158.png)\n",
    "\n",
    "![](https://user-images.githubusercontent.com/63338657/197985586-8937db66-ecdf-4895-901f-b21f7c5eaba5.png)\n",
    "\n",
    "![](https://user-images.githubusercontent.com/63338657/197985994-2ff145ce-4a84-40f5-8324-5949a3ce43ec.png)"
   ]
  },
  {
   "cell_type": "markdown",
   "id": "f55d16c6",
   "metadata": {},
   "source": [
    "__Recurrent Neural Network__"
   ]
  },
  {
   "cell_type": "markdown",
   "id": "c4c27bda",
   "metadata": {},
   "source": [
    "![](https://user-images.githubusercontent.com/63338657/197990715-e9c57592-f1d8-44a6-a897-05e9d1c9bdfb.png)\n",
    "\n",
    "![](https://user-images.githubusercontent.com/63338657/197996451-efd3f912-1028-471b-9040-f7d3e98ad4f5.png)\n",
    "\n",
    "![](https://user-images.githubusercontent.com/63338657/197997087-f46cc079-e420-490d-90e4-e20cfd53a986.png)\n",
    "\n",
    "![](https://user-images.githubusercontent.com/63338657/197998299-02bb694b-5fef-4914-89a5-25edd3f569ec.png)\n",
    "\n",
    "![](https://user-images.githubusercontent.com/63338657/197999354-865c9c53-62d9-4ade-967d-3470543c3278.png)\n",
    "\n",
    "![](https://user-images.githubusercontent.com/63338657/198010171-270c56e4-71be-4726-87f9-401745701cf1.png)\n",
    "\n",
    "Link: https://youtu.be/AsNTP8Kwu80"
   ]
  },
  {
   "cell_type": "markdown",
   "id": "9ff42b53",
   "metadata": {},
   "source": [
    "__Training RNNs: Backprop Over Time__"
   ]
  },
  {
   "cell_type": "markdown",
   "id": "592109f0",
   "metadata": {},
   "source": [
    "![](https://user-images.githubusercontent.com/63338657/198011579-0cbabcc6-b336-416a-b56d-6d02f998d300.png)\n",
    "\n",
    "![](https://user-images.githubusercontent.com/63338657/198011887-b102c84d-5820-44d3-b3a6-c0f7540e28b7.png)\n",
    "\n",
    "![](https://user-images.githubusercontent.com/63338657/198013867-5f864b79-7902-40fc-b50c-7f72e66b6628.png)\n",
    "\n",
    "![](https://user-images.githubusercontent.com/63338657/198014562-79fb19f7-6aed-472a-a848-343bd29ee8e8.png)\n",
    "\n",
    "![](https://user-images.githubusercontent.com/63338657/198015020-b7484602-32f8-419f-a125-33a6bf583c72.png)\n",
    "\n",
    "![](https://user-images.githubusercontent.com/63338657/198015289-394733de-eca3-46eb-bb80-19d3e47bd714.png)\n",
    "\n",
    "![](https://user-images.githubusercontent.com/63338657/198015454-1a8cdbb4-74ce-4e5e-b925-3fe9044b850e.png)\n",
    "\n",
    "Link: https://blog.floydhub.com/a-beginners-guide-on-recurrent-neural-networks-with-pytorch/"
   ]
  },
  {
   "cell_type": "markdown",
   "id": "16b723ad",
   "metadata": {},
   "source": [
    "__Types of RNNs__"
   ]
  },
  {
   "cell_type": "markdown",
   "id": "9349c821",
   "metadata": {},
   "source": [
    "![](https://user-images.githubusercontent.com/63338657/198016778-766545ec-a342-46a7-984c-7188edaeba7f.png)\n",
    "\n",
    "![](https://user-images.githubusercontent.com/63338657/198017239-d1c15649-753a-463e-a12a-544177e2f81b.png)\n",
    "\n",
    "![](https://user-images.githubusercontent.com/63338657/198017674-c379da9b-9787-4abc-b930-73c18ba95290.png)\n",
    "\n",
    "![](https://user-images.githubusercontent.com/63338657/198019165-3424ca4a-6cc3-4911-93b4-da428a2630a8.png)\n",
    "\n",
    "For a seq2seq RNN model, we typically do not overlap the encoder and decoder units. Typically, y_i1 will start as the output of a cell/unit after x_i4 in this diagram and NOT as the output of the cell which inputs x_i4. This would clearly separate encoder and decoder units.\n",
    "\n",
    "The cells/units that take x_i's are called encoder units and the units/cells that output y_i's decoder units in seq2seq model. The decoder units and encoder are typically kept as different units in practice and not combined while we can theoretically have the last encoder and first decoder at the same unit. It is best to keep them disjoint.\n",
    "\n",
    "Link: https://www.educative.io/answers/what-are-the-types-of-rnn"
   ]
  },
  {
   "cell_type": "markdown",
   "id": "312559ab",
   "metadata": {},
   "source": [
    "__Need for LSTM/GRU__"
   ]
  },
  {
   "cell_type": "markdown",
   "id": "a36d235b",
   "metadata": {},
   "source": [
    "![](https://user-images.githubusercontent.com/63338657/198021482-e0c1f898-bdab-4ec3-98b7-5d7be9f2f012.png)\n",
    "\n",
    "![](https://user-images.githubusercontent.com/63338657/198022962-2881e15c-ec3f-4cda-b948-ace242f14f8d.png)\n",
    "\n",
    "Simple RNNs, __cannot__ work with long-term dependencies.\n",
    "\n",
    "For a seq2seq Translation RNN model, we typically do not overlap the encoder and decoder units. Typically, y_i1 will start as the output of a cell/unit after x_i4 in this diagram and NOT as the output of the cell which inputs x_i4. This would clearly separate encoder and decoder units.\n",
    "\n",
    "![](https://www.appliedaicourse.com/images/eif/72818_1638251484.jpg)\n",
    "\n",
    "![](https://user-images.githubusercontent.com/63338657/198023672-a8cc14d4-1ce5-4128-b51b-59061fb923bf.png)"
   ]
  },
  {
   "cell_type": "markdown",
   "id": "5a890bd6",
   "metadata": {},
   "source": [
    "__LSTM__"
   ]
  },
  {
   "cell_type": "markdown",
   "id": "91928ecd",
   "metadata": {},
   "source": [
    "![](https://user-images.githubusercontent.com/63338657/198073102-8250ee58-8c8b-4640-ad77-69d57e180ea9.png)\n",
    "\n",
    "![](https://user-images.githubusercontent.com/63338657/198073524-20500801-8926-4485-9a09-5d0e74a0f8b0.png)\n",
    "\n",
    "![](https://user-images.githubusercontent.com/63338657/198074408-4c07e9e9-04bf-4d73-8ee9-e73d33eaee75.png)\n",
    "\n",
    "Link: http://colah.github.io/posts/2015-08-Understanding-LSTMs/\n",
    "\n",
    "![](https://user-images.githubusercontent.com/63338657/198080418-fe4889d3-ac3c-4b07-84e0-d47c4e1dab10.png)\n",
    "\n",
    "Link: https://youtu.be/8HyCNIVRbSU\n",
    "\n",
    "![](https://user-images.githubusercontent.com/63338657/198083574-90086e7d-314b-4917-9ab8-443ce594a5c8.png)"
   ]
  },
  {
   "cell_type": "markdown",
   "id": "0d68f680",
   "metadata": {},
   "source": [
    "__GRU__"
   ]
  },
  {
   "cell_type": "markdown",
   "id": "5b7c4170",
   "metadata": {},
   "source": [
    "![](https://user-images.githubusercontent.com/63338657/198085952-b41b2916-0235-430f-9606-19fc8b7e3965.png)\n",
    "\n",
    "Reset gate is almost the same as the Forget gate of LSTM, as it sorts the irrelevant data and tells the model to forget this data and move forward without it. However, the formula is almost the same as the update gate and only differs at weights and functionality."
   ]
  },
  {
   "cell_type": "markdown",
   "id": "3ad4cc58",
   "metadata": {},
   "source": [
    "__Deep RNN__"
   ]
  },
  {
   "cell_type": "markdown",
   "id": "9890b946",
   "metadata": {},
   "source": [
    "![](https://user-images.githubusercontent.com/63338657/198348776-35d822c4-90c2-439a-bd2c-856c7e0ac8e2.png)\n",
    "\n",
    "![](https://user-images.githubusercontent.com/63338657/198349524-b5d6b2e3-62a3-4ba6-a2ea-0a150ede76ec.png)\n",
    "\n",
    "![](https://user-images.githubusercontent.com/63338657/198349824-af6faeb9-ebee-4a61-a4db-0286b868dfb0.png)\n",
    "\n",
    "![](https://user-images.githubusercontent.com/63338657/198350894-801e0821-2bd3-4714-b68c-4970e5b470ae.png)"
   ]
  },
  {
   "cell_type": "markdown",
   "id": "3245e40b",
   "metadata": {},
   "source": [
    "__Bidirectional RNN__"
   ]
  },
  {
   "cell_type": "markdown",
   "id": "ffcf4c0f",
   "metadata": {},
   "source": [
    "![](https://user-images.githubusercontent.com/63338657/198351954-4a2c4518-6caa-4ae7-adb9-e2b64708a116.png)\n",
    "\n",
    "![](https://user-images.githubusercontent.com/63338657/198352975-9fa5cd81-142e-4c16-acb9-5a149f2c2c71.png)\n",
    "\n",
    "![](https://d2l.ai/_images/birnn.svg)\n",
    "\n",
    "![](https://user-images.githubusercontent.com/63338657/198353905-2ff493a6-2c56-45ab-a963-f0a2b84f4e00.png)\n",
    "\n",
    "![](https://user-images.githubusercontent.com/63338657/198354998-53d2e07d-c519-4055-9e39-ff06249f71d6.png)"
   ]
  },
  {
   "cell_type": "markdown",
   "id": "83b02818",
   "metadata": {},
   "source": [
    "__Code example : IMDB Sentiment classification__"
   ]
  },
  {
   "cell_type": "markdown",
   "id": "15b6008c",
   "metadata": {},
   "source": [
    "![](https://user-images.githubusercontent.com/63338657/198359403-11615574-242c-460a-acaf-ae8ef68b34f4.png)\n",
    "\n",
    "![](https://user-images.githubusercontent.com/63338657/198359820-debdbc03-1b64-40e6-a913-f03723059115.png)\n",
    "\n",
    "![](https://user-images.githubusercontent.com/63338657/198360688-f6c23005-251d-4722-85d4-16af5a307a24.png)\n",
    "\n",
    "![](https://user-images.githubusercontent.com/63338657/198362561-6a53f984-d3ae-4114-b4c2-1f739c8ae1d1.png)\n",
    "\n",
    "![](https://user-images.githubusercontent.com/63338657/198363153-f01af967-23b9-4eb0-9266-b423aeebde64.png)\n",
    "\n",
    "![](https://user-images.githubusercontent.com/63338657/198365856-09d66156-874f-4c0a-95b4-aead046f3d90.png)\n",
    "\n",
    "![](https://user-images.githubusercontent.com/63338657/198367179-01eda90b-8c7a-4ea4-ad36-2d186d48d386.png)\n",
    "\n",
    "Link: https://youtu.be/l5TAISVlYM0"
   ]
  },
  {
   "cell_type": "code",
   "execution_count": null,
   "id": "212bbf36",
   "metadata": {},
   "outputs": [],
   "source": []
  }
 ],
 "metadata": {
  "kernelspec": {
   "display_name": "Python 3 (ipykernel)",
   "language": "python",
   "name": "python3"
  },
  "language_info": {
   "codemirror_mode": {
    "name": "ipython",
    "version": 3
   },
   "file_extension": ".py",
   "mimetype": "text/x-python",
   "name": "python",
   "nbconvert_exporter": "python",
   "pygments_lexer": "ipython3",
   "version": "3.10.7"
  }
 },
 "nbformat": 4,
 "nbformat_minor": 5
}
