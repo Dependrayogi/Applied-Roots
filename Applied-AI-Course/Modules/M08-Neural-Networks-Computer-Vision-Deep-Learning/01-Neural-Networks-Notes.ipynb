{
 "cells": [
  {
   "cell_type": "markdown",
   "id": "7e644ec6",
   "metadata": {},
   "source": [
    "__History of Neural Networks and Deep Learning__"
   ]
  },
  {
   "cell_type": "markdown",
   "id": "977c0906",
   "metadata": {},
   "source": [
    "![](https://user-images.githubusercontent.com/63338657/192945738-beb11007-36a8-4b0e-895a-5763a578ab9d.png)\n",
    "\n",
    "![](https://user-images.githubusercontent.com/63338657/192947361-7226476d-24e3-4fdc-9459-ab8eec6834ba.png)\n",
    "\n",
    "![](https://user-images.githubusercontent.com/63338657/192947670-89931bd8-0157-43e0-a216-8e6431755a97.png)\n",
    "\n",
    "![](https://user-images.githubusercontent.com/63338657/192948021-5f55a039-320b-4437-aa98-5973c0973564.png)\n",
    "\n",
    "![](https://user-images.githubusercontent.com/63338657/192948854-7ba5245e-6f5e-41e5-b9d7-f6cb191ba9fc.png)\n",
    "\n",
    "![](https://user-images.githubusercontent.com/63338657/192949134-e5517c5d-91f5-401d-aa12-51453bc7e341.png)\n",
    "\n",
    "![](https://user-images.githubusercontent.com/63338657/192949403-ed3e0765-1539-4efc-acfd-5ef7b3b61eed.png)\n",
    "\n",
    "![](https://user-images.githubusercontent.com/63338657/192949646-16658e3f-dc1a-4673-805e-b572130dda29.png)"
   ]
  },
  {
   "cell_type": "markdown",
   "id": "e3f23426",
   "metadata": {},
   "source": [
    "__How Biological Neurons work?__"
   ]
  },
  {
   "cell_type": "markdown",
   "id": "c3b796bc",
   "metadata": {},
   "source": [
    "![](https://user-images.githubusercontent.com/63338657/193042190-11761b06-6d4f-4856-9ee8-f76cd9b2bdd8.png)\n",
    "\n",
    "![](https://user-images.githubusercontent.com/63338657/193042579-c27954bc-6331-41b8-88d2-c1f681080611.png)\n",
    "\n",
    "![](https://user-images.githubusercontent.com/63338657/193044017-db60970e-566f-4ec3-8a87-f0761c33a96a.png)"
   ]
  },
  {
   "cell_type": "markdown",
   "id": "8bff684b",
   "metadata": {},
   "source": [
    "__Growth of Biological Neural Networks__"
   ]
  },
  {
   "cell_type": "markdown",
   "id": "69f11b6f",
   "metadata": {},
   "source": [
    "![](https://user-images.githubusercontent.com/63338657/193075779-f74bf7c8-40e8-44af-ae30-8af55e3e70a6.png)\n",
    "\n",
    "![](https://user-images.githubusercontent.com/63338657/193076237-4f56a494-6449-4bbc-bf81-1b775428302d.png)\n",
    "\n",
    "![](https://user-images.githubusercontent.com/63338657/193077583-320be13c-6e65-437d-a0bd-290ebd20c334.png)"
   ]
  },
  {
   "cell_type": "markdown",
   "id": "7530b0ad",
   "metadata": {},
   "source": [
    "__Diagrammatic representation: Logistic Regression and Perceptron__"
   ]
  },
  {
   "cell_type": "markdown",
   "id": "890e43ee",
   "metadata": {},
   "source": [
    "![](https://user-images.githubusercontent.com/63338657/193078917-7d7924af-7c6d-4598-946e-be306711a67d.png)\n",
    "\n",
    "![](https://user-images.githubusercontent.com/63338657/193079694-2e56a4d0-cb89-4070-bafb-d8723a7c57f5.png)\n",
    "\n",
    "![](https://user-images.githubusercontent.com/63338657/193080061-3ab457bb-634a-4882-a3cf-864667996418.png)\n",
    "\n",
    "![](https://user-images.githubusercontent.com/63338657/193080704-5d21e6f6-d678-4b47-8348-b1b75cdf1d0b.png)\n",
    "\n",
    "![](https://user-images.githubusercontent.com/63338657/193081040-80f4388f-256d-4e6d-8b60-f1589a211ba6.png)\n",
    "\n",
    "![](https://user-images.githubusercontent.com/63338657/193081374-93fd7cb7-b730-47ce-97bc-2db2a94bab1f.png)\n",
    "\n",
    "![](https://user-images.githubusercontent.com/63338657/193081809-4281d5b8-a601-454f-8592-3847f0597a59.png)\n",
    "\n",
    "![](https://user-images.githubusercontent.com/63338657/193082479-cc423236-f80b-46a2-9978-5abcaa1b9d9e.png)\n",
    "\n",
    "![](https://user-images.githubusercontent.com/63338657/193082825-e8463f6e-4575-4d3b-908b-1b74d0911df6.png)\n",
    "\n",
    "![](https://user-images.githubusercontent.com/63338657/193084117-fe5aaf48-405f-474c-be0b-43e2e2118754.png)\n",
    "\n",
    "Link: https://drive.google.com/file/d/1SfjdxYZ5Cut5KG-onlBQB642e-_AG4MG/view"
   ]
  },
  {
   "cell_type": "markdown",
   "id": "968b72a8",
   "metadata": {},
   "source": [
    "__Multi-Layered Perceptron (MLP)__"
   ]
  },
  {
   "cell_type": "markdown",
   "id": "6dfd1181",
   "metadata": {},
   "source": [
    "![](https://user-images.githubusercontent.com/63338657/193386487-fcb7179b-fe1e-4c5b-bc07-65edb1981de7.png)\n",
    "\n",
    "![](https://user-images.githubusercontent.com/63338657/193386518-0b433a5c-acd7-4c00-9cd0-1170c8f995b3.png)\n",
    "\n",
    "![](https://user-images.githubusercontent.com/63338657/193386678-af8c4257-780a-4890-b15c-2b0201a66a97.png)\n",
    "\n",
    "![](https://user-images.githubusercontent.com/63338657/193386802-bd5b2a87-2fcc-45db-85a9-502959cd218e.png)\n",
    "\n",
    "![](https://user-images.githubusercontent.com/63338657/193388483-43c7e676-c3d0-4c0e-94a1-ba50fe677690.png)\n",
    "\n",
    "![](https://user-images.githubusercontent.com/63338657/193389330-48c9f65f-ddd1-4444-9fcc-14b0041658a6.png)\n",
    "\n",
    "![](https://user-images.githubusercontent.com/63338657/193390128-f9fa680f-e971-41a6-be69-21754254c78b.png)\n",
    "\n",
    "![](https://user-images.githubusercontent.com/63338657/193391459-7dced542-e910-46c8-9ebc-ba2a33e61950.png)\n",
    "\n",
    "![](https://user-images.githubusercontent.com/63338657/193392150-44233ed8-4ea3-4be3-916c-add28f2cde78.png)\n",
    "\n",
    "![](https://user-images.githubusercontent.com/63338657/193392194-68edc93f-3f14-4e80-93a8-c6f864d2e3cc.png)\n",
    "\n",
    "![](https://user-images.githubusercontent.com/63338657/193392507-a57fa980-cad8-419f-a9ca-a7623f60c9d3.png)"
   ]
  },
  {
   "cell_type": "markdown",
   "id": "cb64d8f8",
   "metadata": {},
   "source": [
    "__Notation__"
   ]
  },
  {
   "cell_type": "markdown",
   "id": "8ad2ef6e",
   "metadata": {},
   "source": [
    "![](https://user-images.githubusercontent.com/63338657/193392788-126a107a-8c28-4dd3-a229-b41dc32e418f.png)\n",
    "\n",
    "![](https://user-images.githubusercontent.com/63338657/193392860-52f0ff65-8b03-41ee-9876-723a9cef7741.png)\n",
    "\n",
    "![](https://user-images.githubusercontent.com/63338657/193392948-cbb26d82-059e-47fe-aed9-12533ee7e604.png)\n",
    "\n",
    "![](https://user-images.githubusercontent.com/63338657/193393004-8b609961-2aec-4300-bab5-a8aa9d6fe049.png)\n",
    "\n",
    "![](https://www.appliedaicourse.com/images/eif/34014_1656430545.png)"
   ]
  },
  {
   "cell_type": "markdown",
   "id": "99d7bd10",
   "metadata": {},
   "source": [
    "__Training a Single-Neuron Model__"
   ]
  },
  {
   "cell_type": "markdown",
   "id": "56088f87",
   "metadata": {},
   "source": [
    "![](https://user-images.githubusercontent.com/63338657/193394721-c3170f4f-0637-4186-9b86-6f38c9de142f.png)\n",
    "\n",
    "![](https://user-images.githubusercontent.com/63338657/193394838-abb72d77-bc4d-4754-88e6-f5cbb6367060.png)\n",
    "\n",
    "![](https://user-images.githubusercontent.com/63338657/193394909-d4dd23f2-902d-45a8-bf2a-50831e33abd3.png)\n",
    "\n",
    "![](https://user-images.githubusercontent.com/63338657/193395019-e5d5d541-67b4-4138-b6b3-f03a32867e55.png)\n",
    "\n",
    "![](https://user-images.githubusercontent.com/63338657/193395142-3958ae23-c222-478d-bdac-95d77f70e9ab.png)\n",
    "\n",
    "![](https://user-images.githubusercontent.com/63338657/193395576-de09f0cf-5f82-4664-be2a-aee34b99e7f2.png)\n",
    "\n",
    "![](https://user-images.githubusercontent.com/63338657/193395705-73761baa-80be-4d06-b407-5fde06888582.png)\n",
    "\n",
    "![](https://user-images.githubusercontent.com/63338657/193395739-9852894c-6d65-4346-8b00-93b1da871791.png)\n",
    "\n",
    "![](https://user-images.githubusercontent.com/63338657/193397342-f8576480-3fa1-4f0f-929f-0c406d5fefb3.png)\n",
    "\n",
    "![](https://user-images.githubusercontent.com/63338657/193397600-4b4e0044-2c50-434b-9a83-8f876f3d02bf.png)\n",
    "\n",
    "![](https://user-images.githubusercontent.com/63338657/193398033-102ef266-d0fb-469c-b34f-e7379d039fc8.png)\n",
    "\n",
    "The correct term is $x_{i1}$ and NOT $x_{i}$ as  $w_{1}$ is multiplied with $x_{i1}$ only and not all of the values of $x_{i}$.\n",
    "\n",
    "![](https://user-images.githubusercontent.com/63338657/193398398-57a12af0-89fc-4c13-9dd1-d5a647e7741f.png)\n",
    "\n",
    "Link: https://youtu.be/QHj4XPIbAmo"
   ]
  },
  {
   "cell_type": "markdown",
   "id": "c620a670",
   "metadata": {},
   "source": [
    "__Training an MLP: Chain Rule__"
   ]
  },
  {
   "cell_type": "markdown",
   "id": "97495ab8",
   "metadata": {},
   "source": [
    "![](https://user-images.githubusercontent.com/63338657/193398828-72870857-e39b-4968-b698-dbf99782c8da.png)\n",
    "\n",
    "![](https://user-images.githubusercontent.com/63338657/193399047-97655802-2901-4896-8640-0996c15f26d5.png)\n",
    "\n",
    "![](https://user-images.githubusercontent.com/63338657/193399167-6ade9397-ad39-4823-b9d3-79b2280f3a72.png)\n",
    "\n",
    "![](https://user-images.githubusercontent.com/63338657/193399325-29b0b088-ebdd-4c1a-95de-a2dfed685489.png)\n",
    "\n",
    "![](https://user-images.githubusercontent.com/63338657/193399442-37bec88a-090d-4fbd-b993-a895d1ec760b.png)\n",
    "\n",
    "![](https://user-images.githubusercontent.com/63338657/193399499-f9ad02e2-5c2d-4823-9e36-8aa319d40235.png)\n",
    "\n",
    "![](https://user-images.githubusercontent.com/63338657/193399532-56e54712-9578-4d2e-85b1-768e46b91c09.png)\n",
    "\n",
    "![](https://user-images.githubusercontent.com/63338657/193399607-aa15437d-8c3c-4b2c-b638-9a3fecdad37c.png)\n",
    "\n",
    "![](https://user-images.githubusercontent.com/63338657/193399663-ca73fa3b-b536-4ac8-8bc6-34fa9642778f.png)\n",
    "\n",
    "![](https://user-images.githubusercontent.com/63338657/193399723-97957876-f73b-4259-b251-4f7dc75a6ef4.png)\n",
    "\n",
    "![](https://user-images.githubusercontent.com/63338657/193399917-9be27ea4-f2df-486c-a287-893c8f65f336.png)\n",
    "\n",
    "![](https://user-images.githubusercontent.com/63338657/193400058-ad4ff0fe-a9c6-4da4-bebe-22809ff18748.png)\n",
    "\n",
    "![](https://user-images.githubusercontent.com/63338657/193400165-013330d7-4992-4132-a17a-0aac73d898c4.png)\n",
    "\n",
    "![](https://user-images.githubusercontent.com/63338657/193400232-88182359-1ed3-4775-aa80-e7fe6a9d45ef.png)\n",
    "\n",
    "![](https://user-images.githubusercontent.com/63338657/193400464-238af906-83a1-48c8-ad0e-f1ec5d577443.png)\n",
    "\n",
    "![](https://user-images.githubusercontent.com/63338657/193400684-d1f2494c-a8e6-401e-b983-2162a36af233.png)\n",
    "\n",
    "![](https://user-images.githubusercontent.com/63338657/193404095-e93f01c1-8683-4fdc-976f-b953b49e5313.jpg)"
   ]
  },
  {
   "cell_type": "markdown",
   "id": "9f698d2b",
   "metadata": {},
   "source": [
    "__Training an MLP: Memoization__"
   ]
  },
  {
   "cell_type": "markdown",
   "id": "7f0de5fb",
   "metadata": {},
   "source": [
    "![](https://user-images.githubusercontent.com/63338657/193407809-c085e3fe-c590-4739-9bb6-8cb5457c152f.png)\n",
    "\n",
    "![](https://user-images.githubusercontent.com/63338657/193407837-e9e37177-9225-4d79-ab60-030c70199a5d.png)\n",
    "\n",
    "![](https://user-images.githubusercontent.com/63338657/193407885-6307f354-0681-41a6-ad03-1d699a2db53b.png)"
   ]
  },
  {
   "cell_type": "markdown",
   "id": "239819b3",
   "metadata": {},
   "source": [
    "__Backpropagation__"
   ]
  },
  {
   "cell_type": "markdown",
   "id": "b62f9dac",
   "metadata": {},
   "source": [
    "![](https://user-images.githubusercontent.com/63338657/193408174-33a53e9f-8efe-4de1-b1b2-14457431ecb7.png)\n",
    "\n",
    "![](https://user-images.githubusercontent.com/63338657/193408330-6632a7ad-5671-43ac-b1cc-1559a75061ed.png)\n",
    "\n",
    "![](https://user-images.githubusercontent.com/63338657/193408514-36a70b04-7474-4eca-a662-a34349c897bc.png)\n",
    "\n",
    "![](https://user-images.githubusercontent.com/63338657/193408601-b55c0c7d-ca5e-45f3-8333-88389039c4cf.png)\n",
    "\n",
    "![](https://user-images.githubusercontent.com/63338657/193408756-f21eab75-ef74-432f-9b47-c9217f697f8d.png)\n",
    "\n",
    "![](https://user-images.githubusercontent.com/63338657/193408848-a5199d72-5cc4-4da7-9ab2-1f3d139b9b6f.png)\n",
    "\n",
    "![](https://user-images.githubusercontent.com/63338657/193408994-2addf8d5-5aef-4b32-985c-1b760766f52f.png)\n",
    "\n",
    "![](https://user-images.githubusercontent.com/63338657/193409097-58fdeed9-8038-42c5-9ee0-58d6ef662102.png)\n",
    "\n",
    "![](https://user-images.githubusercontent.com/63338657/193409183-64e1b9bc-9abd-4df8-a3d6-304a5553e717.png)\n",
    "\n",
    "![](https://user-images.githubusercontent.com/63338657/193409452-f87a5175-599c-4c0d-b0ac-39c80f30d2d0.png)\n",
    "\n",
    "![](https://user-images.githubusercontent.com/63338657/193409485-11277f91-ed6f-48e0-89ac-e197941a37c9.png)\n",
    "\n",
    "Link: https://developers-dot-devsite-v2-prod.appspot.com/machine-learning/crash-course/backprop-scroll/"
   ]
  },
  {
   "cell_type": "markdown",
   "id": "2204e737",
   "metadata": {},
   "source": [
    "__Activation Functions__"
   ]
  },
  {
   "cell_type": "markdown",
   "id": "64802364",
   "metadata": {},
   "source": [
    "![](https://user-images.githubusercontent.com/63338657/193415025-e1dae438-03c0-4b3b-b0d6-3dcd119a8e4f.png)\n",
    "\n",
    "![](https://user-images.githubusercontent.com/63338657/193415632-827b8ede-c2b0-4074-8ae0-a84e214879f8.png)\n",
    "\n",
    "![](https://user-images.githubusercontent.com/63338657/193415604-e4f7ccbf-7770-4cd3-bdfd-d90ab24cb2e2.png)\n",
    "\n",
    "![](https://user-images.githubusercontent.com/63338657/193415836-cb4267f5-31ab-4e02-96c2-a384966ab89f.png)\n",
    "\n",
    "![](https://user-images.githubusercontent.com/63338657/193415775-cf42498e-4522-445e-885e-865daad95b59.png)\n",
    "\n",
    "Link: https://towardsdatascience.com/derivative-of-the-sigmoid-function-536880cf918e\n",
    "\n",
    "Link: http://ronny.rest/blog/post_2017_08_10_sigmoid/\n",
    "\n",
    "Link: http://ronny.rest/blog/post_2017_08_16_tanh/\n",
    "\n",
    "![](https://user-images.githubusercontent.com/63338657/193417220-0e7d43de-a09d-4576-a29b-bb4878d375b5.png)"
   ]
  },
  {
   "cell_type": "markdown",
   "id": "f2432e84",
   "metadata": {},
   "source": [
    "__Vanishing Gradient Problem__"
   ]
  },
  {
   "cell_type": "markdown",
   "id": "f6524d07",
   "metadata": {},
   "source": [
    "![](https://user-images.githubusercontent.com/63338657/193417373-8fe0275f-9ace-45b5-81f4-211c49804df9.png)\n",
    "\n",
    "![](https://user-images.githubusercontent.com/63338657/193417536-0e2bceb6-edbd-4479-9ca3-da8a11146755.png)\n",
    "\n",
    "![](https://user-images.githubusercontent.com/63338657/193417637-383383c7-2e9a-4bb5-9776-0a5887dd12d0.png)\n",
    "\n",
    "![](https://user-images.githubusercontent.com/63338657/193417727-2326d1cc-eac2-4afc-813f-7230545b6769.png)\n",
    "\n",
    "![](https://user-images.githubusercontent.com/63338657/193417862-6e9e91f2-63f8-48a9-a174-972e1c50e6c3.png)\n",
    "\n",
    "![](https://user-images.githubusercontent.com/63338657/193418006-5d0ef7aa-4c37-4e56-b5ea-b314bb00f348.png)\n",
    "\n",
    "![](https://user-images.githubusercontent.com/63338657/193418036-e4669820-33b5-4597-871d-b7998b3bc4db.png)\n",
    "\n",
    "![](https://user-images.githubusercontent.com/63338657/193418150-bcdf3a23-1494-4c1b-92c6-24b505e01c6a.png)\n",
    "\n",
    "![](https://user-images.githubusercontent.com/63338657/193418202-180c70a6-6001-451f-8226-6f26d69b0c03.png)\n",
    "\n",
    "Link: https://youtu.be/GNDh64aa-vA"
   ]
  },
  {
   "cell_type": "markdown",
   "id": "6ddf62ab",
   "metadata": {},
   "source": [
    "__Bias-Variance Tradeoff__"
   ]
  },
  {
   "cell_type": "markdown",
   "id": "1de784b6",
   "metadata": {},
   "source": [
    "![](https://user-images.githubusercontent.com/63338657/193419221-6f2023e9-8735-42a4-933a-b1ab916cf7f1.png)\n",
    "\n",
    "![](https://user-images.githubusercontent.com/63338657/193419375-bd975af2-459e-4c47-a69b-b9ef2551080a.png)\n",
    "\n",
    "![](https://user-images.githubusercontent.com/63338657/193419430-6ac77ca5-51d7-4139-9362-7abce1b2c80a.png)\n",
    "\n",
    "![](https://user-images.githubusercontent.com/63338657/193419536-18097477-aff2-4749-9013-d8168eb404c7.png)\n",
    "\n",
    "![](https://user-images.githubusercontent.com/63338657/193419726-b5a9c733-5fb4-4cb7-a618-0b7c6aa67843.png)"
   ]
  },
  {
   "cell_type": "markdown",
   "id": "9e1a3731",
   "metadata": {},
   "source": [
    "Link (interview): https://youtu.be/vwYmrKDvnlg"
   ]
  },
  {
   "cell_type": "code",
   "execution_count": null,
   "id": "be8236da",
   "metadata": {},
   "outputs": [],
   "source": []
  }
 ],
 "metadata": {
  "kernelspec": {
   "display_name": "Python 3 (ipykernel)",
   "language": "python",
   "name": "python3"
  },
  "language_info": {
   "codemirror_mode": {
    "name": "ipython",
    "version": 3
   },
   "file_extension": ".py",
   "mimetype": "text/x-python",
   "name": "python",
   "nbconvert_exporter": "python",
   "pygments_lexer": "ipython3",
   "version": "3.10.7"
  }
 },
 "nbformat": 4,
 "nbformat_minor": 5
}
