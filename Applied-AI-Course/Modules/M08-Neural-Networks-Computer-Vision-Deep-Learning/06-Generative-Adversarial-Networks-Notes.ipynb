{
 "cells": [
  {
   "cell_type": "markdown",
   "id": "4158954f",
   "metadata": {},
   "source": [
    "![](https://user-images.githubusercontent.com/63338657/199239949-2e47d67f-1d70-4b30-89c0-971ccdb8b353.png)\n",
    "\n",
    "![](https://user-images.githubusercontent.com/63338657/199240741-b5b7f167-d2a6-4e8f-9aa4-4045d7c1ee42.png)\n",
    "\n",
    "![](https://user-images.githubusercontent.com/63338657/199242243-7076810b-5b0e-4b3d-bbf5-02d73dedd7fd.png)\n",
    "\n",
    "![](https://user-images.githubusercontent.com/63338657/199243710-aee5fab7-d343-4ae6-a14d-b4d50e342c55.png)\n",
    "\n",
    "![](https://user-images.githubusercontent.com/63338657/199246553-10ae611f-f867-403f-8c07-283ab4e3540b.png)\n",
    "\n",
    "![](https://user-images.githubusercontent.com/63338657/199248393-cfa07394-cfcd-4da8-bffa-3971b4e74c1d.png)\n",
    "\n",
    "![](https://user-images.githubusercontent.com/63338657/199250144-8aaaccd0-758c-4e45-8fea-88ba1a45189f.png)"
   ]
  },
  {
   "cell_type": "markdown",
   "id": "0f3d0f54",
   "metadata": {},
   "source": [
    "![](https://user-images.githubusercontent.com/63338657/199282452-83ca17ff-e59e-43d7-b102-ac975c796fe3.png)\n",
    "\n",
    "![](https://user-images.githubusercontent.com/63338657/199287441-f26a5db0-dc03-4692-9c22-c3d8afc3c7e9.png)"
   ]
  },
  {
   "cell_type": "markdown",
   "id": "2fb3bbc4",
   "metadata": {},
   "source": [
    "1. Applications:\n",
    "https://medium.com/@jonathan_hui/gan-some-cool-applications-of-gans-4c9ecca35900\n",
    "2. GAN tricks and Hacks: https://github.com/soumith/ganhacks\n",
    "3. MNIST GAN Code example:\n",
    "https://medium.com/datadriveninvestor/generative-adversarial-network-gan-using-keras-\n",
    "ce1c05cfdfd3\n",
    "4. For the more research/theory focussed : https://deepgenerativemodels.github.io/\n",
    "5. Various GANs in Keras: https://github.com/eriklindernoren/Keras-GAN"
   ]
  },
  {
   "cell_type": "code",
   "execution_count": null,
   "id": "7f506ee8",
   "metadata": {},
   "outputs": [],
   "source": []
  }
 ],
 "metadata": {
  "kernelspec": {
   "display_name": "Python 3 (ipykernel)",
   "language": "python",
   "name": "python3"
  },
  "language_info": {
   "codemirror_mode": {
    "name": "ipython",
    "version": 3
   },
   "file_extension": ".py",
   "mimetype": "text/x-python",
   "name": "python",
   "nbconvert_exporter": "python",
   "pygments_lexer": "ipython3",
   "version": "3.10.7"
  }
 },
 "nbformat": 4,
 "nbformat_minor": 5
}
