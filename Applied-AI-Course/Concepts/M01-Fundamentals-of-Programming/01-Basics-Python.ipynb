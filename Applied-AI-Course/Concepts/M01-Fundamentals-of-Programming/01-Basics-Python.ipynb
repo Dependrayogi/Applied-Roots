{
 "cells": [
  {
   "cell_type": "code",
   "execution_count": 1,
   "metadata": {
    "executionInfo": {
     "elapsed": 52,
     "status": "ok",
     "timestamp": 1640796012457,
     "user": {
      "displayName": "mohammed saifuddin",
      "photoUrl": "https://lh3.googleusercontent.com/a-/AOh14GhP3jBQ5CC_BKRpIewdzluDlTD7Qni4QczrUhMV=s64",
      "userId": "16425402980535672052"
     },
     "user_tz": -330
    },
    "id": "KW1CdqmDS-vZ"
   },
   "outputs": [],
   "source": [
    "import keyword"
   ]
  },
  {
   "cell_type": "code",
   "execution_count": 2,
   "metadata": {
    "colab": {
     "base_uri": "https://localhost:8080/"
    },
    "executionInfo": {
     "elapsed": 49,
     "status": "ok",
     "timestamp": 1640796012458,
     "user": {
      "displayName": "mohammed saifuddin",
      "photoUrl": "https://lh3.googleusercontent.com/a-/AOh14GhP3jBQ5CC_BKRpIewdzluDlTD7Qni4QczrUhMV=s64",
      "userId": "16425402980535672052"
     },
     "user_tz": -330
    },
    "id": "IHZIWDaaTEGU",
    "outputId": "a0559f41-f4dd-417e-fbd3-1fc034ff9bc3"
   },
   "outputs": [
    {
     "data": {
      "text/plain": [
       "['False',\n",
       " 'None',\n",
       " 'True',\n",
       " 'and',\n",
       " 'as',\n",
       " 'assert',\n",
       " 'async',\n",
       " 'await',\n",
       " 'break',\n",
       " 'class',\n",
       " 'continue',\n",
       " 'def',\n",
       " 'del',\n",
       " 'elif',\n",
       " 'else',\n",
       " 'except',\n",
       " 'finally',\n",
       " 'for',\n",
       " 'from',\n",
       " 'global',\n",
       " 'if',\n",
       " 'import',\n",
       " 'in',\n",
       " 'is',\n",
       " 'lambda',\n",
       " 'nonlocal',\n",
       " 'not',\n",
       " 'or',\n",
       " 'pass',\n",
       " 'raise',\n",
       " 'return',\n",
       " 'try',\n",
       " 'while',\n",
       " 'with',\n",
       " 'yield']"
      ]
     },
     "execution_count": 2,
     "metadata": {},
     "output_type": "execute_result"
    }
   ],
   "source": [
    "keyword.kwlist"
   ]
  },
  {
   "cell_type": "code",
   "execution_count": 3,
   "metadata": {
    "colab": {
     "base_uri": "https://localhost:8080/"
    },
    "executionInfo": {
     "elapsed": 43,
     "status": "ok",
     "timestamp": 1640796012459,
     "user": {
      "displayName": "mohammed saifuddin",
      "photoUrl": "https://lh3.googleusercontent.com/a-/AOh14GhP3jBQ5CC_BKRpIewdzluDlTD7Qni4QczrUhMV=s64",
      "userId": "16425402980535672052"
     },
     "user_tz": -330
    },
    "id": "nfPa4Ri7TVCc",
    "outputId": "0d3e7763-f09f-4334-d98f-a6557b3ef088"
   },
   "outputs": [
    {
     "name": "stdout",
     "output_type": "stream",
     "text": [
      "Total number of keywords: 35\n"
     ]
    }
   ],
   "source": [
    "print(\"Total number of keywords: {}\".format(len(keyword.kwlist)))"
   ]
  },
  {
   "cell_type": "code",
   "execution_count": 4,
   "metadata": {
    "colab": {
     "base_uri": "https://localhost:8080/"
    },
    "executionInfo": {
     "elapsed": 39,
     "status": "ok",
     "timestamp": 1640796012459,
     "user": {
      "displayName": "mohammed saifuddin",
      "photoUrl": "https://lh3.googleusercontent.com/a-/AOh14GhP3jBQ5CC_BKRpIewdzluDlTD7Qni4QczrUhMV=s64",
      "userId": "16425402980535672052"
     },
     "user_tz": -330
    },
    "id": "Xn8Au-LVT6vL",
    "outputId": "b325684c-8584-43bc-f5c3-467e25beb9d0"
   },
   "outputs": [
    {
     "name": "stdout",
     "output_type": "stream",
     "text": [
      "1\n",
      "2\n",
      "3\n",
      "4\n",
      "5\n",
      "6\n",
      "7\n",
      "8\n",
      "9\n"
     ]
    }
   ],
   "source": [
    "for i in range(1, 10):\n",
    "    print(i)"
   ]
  },
  {
   "cell_type": "code",
   "execution_count": 5,
   "metadata": {
    "colab": {
     "base_uri": "https://localhost:8080/"
    },
    "executionInfo": {
     "elapsed": 36,
     "status": "ok",
     "timestamp": 1640796012459,
     "user": {
      "displayName": "mohammed saifuddin",
      "photoUrl": "https://lh3.googleusercontent.com/a-/AOh14GhP3jBQ5CC_BKRpIewdzluDlTD7Qni4QczrUhMV=s64",
      "userId": "16425402980535672052"
     },
     "user_tz": -330
    },
    "id": "6ZKIB6CnXnrG",
    "outputId": "905e4487-d53a-441c-d5ee-aa748c066227"
   },
   "outputs": [
    {
     "name": "stdout",
     "output_type": "stream",
     "text": [
      "45\n"
     ]
    }
   ],
   "source": [
    "a = (1 + 2 + 3 + \n",
    "     4 + 5 + 6 + \n",
    "     7 + 8 + 9)\n",
    "print(a)"
   ]
  },
  {
   "cell_type": "code",
   "execution_count": 6,
   "metadata": {
    "colab": {
     "base_uri": "https://localhost:8080/"
    },
    "executionInfo": {
     "elapsed": 35,
     "status": "ok",
     "timestamp": 1640796012460,
     "user": {
      "displayName": "mohammed saifuddin",
      "photoUrl": "https://lh3.googleusercontent.com/a-/AOh14GhP3jBQ5CC_BKRpIewdzluDlTD7Qni4QczrUhMV=s64",
      "userId": "16425402980535672052"
     },
     "user_tz": -330
    },
    "id": "W0P4XSrJb2pf",
    "outputId": "044a809e-1f26-4324-82ee-18d45786ba45"
   },
   "outputs": [
    {
     "name": "stdout",
     "output_type": "stream",
     "text": [
      "10\n",
      "5.5\n",
      "ML\n"
     ]
    }
   ],
   "source": [
    "a, b, c = 10, 5.5, \"ML\"\n",
    "print(a)\n",
    "print(b)\n",
    "print(c)"
   ]
  },
  {
   "cell_type": "code",
   "execution_count": 7,
   "metadata": {
    "colab": {
     "base_uri": "https://localhost:8080/"
    },
    "executionInfo": {
     "elapsed": 33,
     "status": "ok",
     "timestamp": 1640796012460,
     "user": {
      "displayName": "mohammed saifuddin",
      "photoUrl": "https://lh3.googleusercontent.com/a-/AOh14GhP3jBQ5CC_BKRpIewdzluDlTD7Qni4QczrUhMV=s64",
      "userId": "16425402980535672052"
     },
     "user_tz": -330
    },
    "id": "raWhtTTWeMNA",
    "outputId": "03e966ba-b9fd-459e-b460-079b7531b03b"
   },
   "outputs": [
    {
     "name": "stdout",
     "output_type": "stream",
     "text": [
      "3 --> 140628388200752\n",
      "3 --> 140628388200752\n"
     ]
    }
   ],
   "source": [
    "x = 3\n",
    "print(x, \"-->\", id(x))\n",
    "y = 3\n",
    "print(y, \"-->\", id(y))"
   ]
  },
  {
   "cell_type": "code",
   "execution_count": 8,
   "metadata": {
    "colab": {
     "base_uri": "https://localhost:8080/"
    },
    "executionInfo": {
     "elapsed": 33,
     "status": "ok",
     "timestamp": 1640796012461,
     "user": {
      "displayName": "mohammed saifuddin",
      "photoUrl": "https://lh3.googleusercontent.com/a-/AOh14GhP3jBQ5CC_BKRpIewdzluDlTD7Qni4QczrUhMV=s64",
      "userId": "16425402980535672052"
     },
     "user_tz": -330
    },
    "id": "o-8h5KcsfZXE",
    "outputId": "c30ff566-7b9d-4f29-d496-edea181988e9"
   },
   "outputs": [
    {
     "data": {
      "text/plain": [
       "True"
      ]
     },
     "execution_count": 8,
     "metadata": {},
     "output_type": "execute_result"
    }
   ],
   "source": [
    "id(x) == id(y)"
   ]
  },
  {
   "cell_type": "code",
   "execution_count": 9,
   "metadata": {
    "colab": {
     "base_uri": "https://localhost:8080/"
    },
    "executionInfo": {
     "elapsed": 30,
     "status": "ok",
     "timestamp": 1640796012461,
     "user": {
      "displayName": "mohammed saifuddin",
      "photoUrl": "https://lh3.googleusercontent.com/a-/AOh14GhP3jBQ5CC_BKRpIewdzluDlTD7Qni4QczrUhMV=s64",
      "userId": "16425402980535672052"
     },
     "user_tz": -330
    },
    "id": "1xJa_6YnfdHO",
    "outputId": "9a7e262d-1f0d-48c9-ffaf-22f9dcf97d64"
   },
   "outputs": [
    {
     "name": "stdout",
     "output_type": "stream",
     "text": [
      "2 --> 140628388200720\n"
     ]
    }
   ],
   "source": [
    "y = 2\n",
    "print(y, \"-->\", id(y))"
   ]
  },
  {
   "cell_type": "code",
   "execution_count": 10,
   "metadata": {
    "colab": {
     "base_uri": "https://localhost:8080/"
    },
    "executionInfo": {
     "elapsed": 31,
     "status": "ok",
     "timestamp": 1640796012463,
     "user": {
      "displayName": "mohammed saifuddin",
      "photoUrl": "https://lh3.googleusercontent.com/a-/AOh14GhP3jBQ5CC_BKRpIewdzluDlTD7Qni4QczrUhMV=s64",
      "userId": "16425402980535672052"
     },
     "user_tz": -330
    },
    "id": "TU-xkU1zfuhX",
    "outputId": "9d3b12f2-bed9-404b-9af0-6d33d3642133"
   },
   "outputs": [
    {
     "data": {
      "text/plain": [
       "False"
      ]
     },
     "execution_count": 10,
     "metadata": {},
     "output_type": "execute_result"
    }
   ],
   "source": [
    "id(x) == id(y)"
   ]
  },
  {
   "cell_type": "code",
   "execution_count": 11,
   "metadata": {
    "colab": {
     "base_uri": "https://localhost:8080/"
    },
    "executionInfo": {
     "elapsed": 29,
     "status": "ok",
     "timestamp": 1640796012463,
     "user": {
      "displayName": "mohammed saifuddin",
      "photoUrl": "https://lh3.googleusercontent.com/a-/AOh14GhP3jBQ5CC_BKRpIewdzluDlTD7Qni4QczrUhMV=s64",
      "userId": "16425402980535672052"
     },
     "user_tz": -330
    },
    "id": "Ct6im25bf10I",
    "outputId": "c2299c70-be28-4f78-d977-a3c23bfe9e2e"
   },
   "outputs": [
    {
     "name": "stdout",
     "output_type": "stream",
     "text": [
      "(1+3j)\n",
      "<class 'complex'>\n",
      "True\n"
     ]
    }
   ],
   "source": [
    "a_cap = 1+3j\n",
    "print(a_cap)\n",
    "print(type(a_cap))\n",
    "print(isinstance(a_cap, complex))"
   ]
  },
  {
   "cell_type": "code",
   "execution_count": 12,
   "metadata": {
    "colab": {
     "base_uri": "https://localhost:8080/"
    },
    "executionInfo": {
     "elapsed": 27,
     "status": "ok",
     "timestamp": 1640796012463,
     "user": {
      "displayName": "mohammed saifuddin",
      "photoUrl": "https://lh3.googleusercontent.com/a-/AOh14GhP3jBQ5CC_BKRpIewdzluDlTD7Qni4QczrUhMV=s64",
      "userId": "16425402980535672052"
     },
     "user_tz": -330
    },
    "id": "rlI-3-_6g9I6",
    "outputId": "b9d32f52-49a7-4a4b-ad84-f7c677a1cc32"
   },
   "outputs": [
    {
     "name": "stdout",
     "output_type": "stream",
     "text": [
      "This is a \n",
      "great course.\n"
     ]
    }
   ],
   "source": [
    "m_string = \"\"\"This is a \n",
    "great course.\"\"\"\n",
    "print(m_string)"
   ]
  },
  {
   "cell_type": "code",
   "execution_count": 13,
   "metadata": {
    "colab": {
     "base_uri": "https://localhost:8080/"
    },
    "executionInfo": {
     "elapsed": 26,
     "status": "ok",
     "timestamp": 1640796012464,
     "user": {
      "displayName": "mohammed saifuddin",
      "photoUrl": "https://lh3.googleusercontent.com/a-/AOh14GhP3jBQ5CC_BKRpIewdzluDlTD7Qni4QczrUhMV=s64",
      "userId": "16425402980535672052"
     },
     "user_tz": -330
    },
    "id": "cMnP_wFTikJa",
    "outputId": "32d43c21-77ee-4220-e082-c262487bf4b2"
   },
   "outputs": [
    {
     "name": "stdout",
     "output_type": "stream",
     "text": [
      "0 T\n",
      "1 h\n",
      "2 i\n",
      "3 s\n",
      "4  \n",
      "5 i\n",
      "6 s\n",
      "7  \n",
      "8 a\n",
      "9  \n",
      "10 \n",
      "\n",
      "11 g\n",
      "12 r\n",
      "13 e\n",
      "14 a\n",
      "15 t\n",
      "16  \n",
      "17 c\n",
      "18 o\n",
      "19 u\n",
      "20 r\n",
      "21 s\n",
      "22 e\n",
      "23 .\n"
     ]
    }
   ],
   "source": [
    "for (index, m_char) in enumerate(m_string):\n",
    "    print(index, m_char)"
   ]
  },
  {
   "cell_type": "code",
   "execution_count": 14,
   "metadata": {
    "colab": {
     "base_uri": "https://localhost:8080/"
    },
    "executionInfo": {
     "elapsed": 24,
     "status": "ok",
     "timestamp": 1640796012464,
     "user": {
      "displayName": "mohammed saifuddin",
      "photoUrl": "https://lh3.googleusercontent.com/a-/AOh14GhP3jBQ5CC_BKRpIewdzluDlTD7Qni4QczrUhMV=s64",
      "userId": "16425402980535672052"
     },
     "user_tz": -330
    },
    "id": "p799ofIFi44W",
    "outputId": "c31b2f66-2d6d-4f56-da28-a17553b23821"
   },
   "outputs": [
    {
     "name": "stdout",
     "output_type": "stream",
     "text": [
      "[10, 5.5, 'ML']\n",
      "[10, 10.1, 'ML']\n"
     ]
    }
   ],
   "source": [
    "list1 = [10, 5.5, \"ML\"]\n",
    "print(list1)\n",
    "\n",
    "list1[1] = 10.10\n",
    "print(list1)"
   ]
  },
  {
   "cell_type": "code",
   "execution_count": 15,
   "metadata": {
    "colab": {
     "base_uri": "https://localhost:8080/"
    },
    "executionInfo": {
     "elapsed": 21,
     "status": "ok",
     "timestamp": 1640796012464,
     "user": {
      "displayName": "mohammed saifuddin",
      "photoUrl": "https://lh3.googleusercontent.com/a-/AOh14GhP3jBQ5CC_BKRpIewdzluDlTD7Qni4QczrUhMV=s64",
      "userId": "16425402980535672052"
     },
     "user_tz": -330
    },
    "id": "1xmjO5HxmIXM",
    "outputId": "d16b972b-9460-406c-c893-cd2cf1548f0d"
   },
   "outputs": [
    {
     "name": "stdout",
     "output_type": "stream",
     "text": [
      "(10, 5.5, 'ML')\n",
      "(10, 5.5, 'ML')\n"
     ]
    }
   ],
   "source": [
    "tuple1 = (10, 5.5, \"ML\")\n",
    "print(tuple1)\n",
    "\n",
    "# tuple1[1] = 10.10\n",
    "print(tuple1)"
   ]
  },
  {
   "cell_type": "code",
   "execution_count": 16,
   "metadata": {
    "colab": {
     "base_uri": "https://localhost:8080/"
    },
    "executionInfo": {
     "elapsed": 20,
     "status": "ok",
     "timestamp": 1640796012465,
     "user": {
      "displayName": "mohammed saifuddin",
      "photoUrl": "https://lh3.googleusercontent.com/a-/AOh14GhP3jBQ5CC_BKRpIewdzluDlTD7Qni4QczrUhMV=s64",
      "userId": "16425402980535672052"
     },
     "user_tz": -330
    },
    "id": "esehdx6PmR6l",
    "outputId": "3e4d1a01-f36e-4a6f-e758-93427e85709f"
   },
   "outputs": [
    {
     "name": "stdout",
     "output_type": "stream",
     "text": [
      "{10, 5, 100, 20}\n"
     ]
    }
   ],
   "source": [
    "set1 = {10, 20, 5, 100}\n",
    "print(set1)"
   ]
  },
  {
   "cell_type": "code",
   "execution_count": 17,
   "metadata": {
    "colab": {
     "base_uri": "https://localhost:8080/"
    },
    "executionInfo": {
     "elapsed": 796,
     "status": "ok",
     "timestamp": 1640796013243,
     "user": {
      "displayName": "mohammed saifuddin",
      "photoUrl": "https://lh3.googleusercontent.com/a-/AOh14GhP3jBQ5CC_BKRpIewdzluDlTD7Qni4QczrUhMV=s64",
      "userId": "16425402980535672052"
     },
     "user_tz": -330
    },
    "id": "C9cBr2kVmx1w",
    "outputId": "7f589cba-405c-4de9-97c5-4ab815b9d0fd"
   },
   "outputs": [
    {
     "name": "stdout",
     "output_type": "stream",
     "text": [
      "{10, 20, 30}\n"
     ]
    }
   ],
   "source": [
    "set2 = {10, 20, 20, 30, 30, 30}\n",
    "print(set2)"
   ]
  },
  {
   "cell_type": "code",
   "execution_count": 18,
   "metadata": {
    "colab": {
     "base_uri": "https://localhost:8080/"
    },
    "executionInfo": {
     "elapsed": 42,
     "status": "ok",
     "timestamp": 1640796013244,
     "user": {
      "displayName": "mohammed saifuddin",
      "photoUrl": "https://lh3.googleusercontent.com/a-/AOh14GhP3jBQ5CC_BKRpIewdzluDlTD7Qni4QczrUhMV=s64",
      "userId": "16425402980535672052"
     },
     "user_tz": -330
    },
    "id": "_JYEyatCz2Bg",
    "outputId": "cc2601c3-b645-4c46-a038-478757dd06eb"
   },
   "outputs": [
    {
     "name": "stdout",
     "output_type": "stream",
     "text": [
      "140628388200496\n",
      "140628388200496\n"
     ]
    }
   ],
   "source": [
    "x = -5\n",
    "y = -5\n",
    "print(id(x))\n",
    "print(id(y))"
   ]
  },
  {
   "cell_type": "code",
   "execution_count": 19,
   "metadata": {
    "colab": {
     "base_uri": "https://localhost:8080/"
    },
    "executionInfo": {
     "elapsed": 39,
     "status": "ok",
     "timestamp": 1640796013245,
     "user": {
      "displayName": "mohammed saifuddin",
      "photoUrl": "https://lh3.googleusercontent.com/a-/AOh14GhP3jBQ5CC_BKRpIewdzluDlTD7Qni4QczrUhMV=s64",
      "userId": "16425402980535672052"
     },
     "user_tz": -330
    },
    "id": "sUtRWfSEzuQd",
    "outputId": "88c43afd-326b-41a0-ba50-17f0bafda34a"
   },
   "outputs": [
    {
     "name": "stdout",
     "output_type": "stream",
     "text": [
      "140628388208848\n",
      "140628388208848\n"
     ]
    }
   ],
   "source": [
    "x = 256\n",
    "y = 256\n",
    "print(id(x))\n",
    "print(id(y))"
   ]
  },
  {
   "cell_type": "code",
   "execution_count": 20,
   "metadata": {
    "colab": {
     "base_uri": "https://localhost:8080/"
    },
    "executionInfo": {
     "elapsed": 37,
     "status": "ok",
     "timestamp": 1640796013246,
     "user": {
      "displayName": "mohammed saifuddin",
      "photoUrl": "https://lh3.googleusercontent.com/a-/AOh14GhP3jBQ5CC_BKRpIewdzluDlTD7Qni4QczrUhMV=s64",
      "userId": "16425402980535672052"
     },
     "user_tz": -330
    },
    "id": "mGLs78R3oG9o",
    "outputId": "56198221-1120-4864-97b2-4e7d83d4f1aa"
   },
   "outputs": [
    {
     "name": "stdout",
     "output_type": "stream",
     "text": [
      "140628315050672\n",
      "140628315050352\n"
     ]
    }
   ],
   "source": [
    "x = -6\n",
    "y = -6\n",
    "print(id(x))\n",
    "print(id(y))"
   ]
  },
  {
   "cell_type": "code",
   "execution_count": 21,
   "metadata": {
    "colab": {
     "base_uri": "https://localhost:8080/"
    },
    "executionInfo": {
     "elapsed": 35,
     "status": "ok",
     "timestamp": 1640796013246,
     "user": {
      "displayName": "mohammed saifuddin",
      "photoUrl": "https://lh3.googleusercontent.com/a-/AOh14GhP3jBQ5CC_BKRpIewdzluDlTD7Qni4QczrUhMV=s64",
      "userId": "16425402980535672052"
     },
     "user_tz": -330
    },
    "id": "lYccTHI5zm7H",
    "outputId": "2dd1eee6-bf8e-4987-da6a-7f408af419a3"
   },
   "outputs": [
    {
     "name": "stdout",
     "output_type": "stream",
     "text": [
      "140628315050768\n",
      "140628315051120\n"
     ]
    }
   ],
   "source": [
    "x = 257\n",
    "y = 257\n",
    "print(id(x))\n",
    "print(id(y))"
   ]
  },
  {
   "cell_type": "code",
   "execution_count": 22,
   "metadata": {
    "colab": {
     "base_uri": "https://localhost:8080/"
    },
    "executionInfo": {
     "elapsed": 34,
     "status": "ok",
     "timestamp": 1640796013246,
     "user": {
      "displayName": "mohammed saifuddin",
      "photoUrl": "https://lh3.googleusercontent.com/a-/AOh14GhP3jBQ5CC_BKRpIewdzluDlTD7Qni4QczrUhMV=s64",
      "userId": "16425402980535672052"
     },
     "user_tz": -330
    },
    "id": "TQIl3_bEz-CJ",
    "outputId": "40080166-a62a-4113-b942-26dfe8df450f"
   },
   "outputs": [
    {
     "name": "stdout",
     "output_type": "stream",
     "text": [
      "140628237903552\n",
      "140628237903296\n"
     ]
    }
   ],
   "source": [
    "x = [1, 2, 3]\n",
    "y = [1, 2, 3]\n",
    "print(id(x))\n",
    "print(id(y))"
   ]
  },
  {
   "cell_type": "code",
   "execution_count": 23,
   "metadata": {
    "colab": {
     "base_uri": "https://localhost:8080/"
    },
    "executionInfo": {
     "elapsed": 33,
     "status": "ok",
     "timestamp": 1640796013247,
     "user": {
      "displayName": "mohammed saifuddin",
      "photoUrl": "https://lh3.googleusercontent.com/a-/AOh14GhP3jBQ5CC_BKRpIewdzluDlTD7Qni4QczrUhMV=s64",
      "userId": "16425402980535672052"
     },
     "user_tz": -330
    },
    "id": "m0yBIaWk0lZ8",
    "outputId": "7a2ee3e7-64db-43ea-dd93-9394700d30bb"
   },
   "outputs": [
    {
     "name": "stdout",
     "output_type": "stream",
     "text": [
      "140628237987888\n",
      "140628237982320\n"
     ]
    }
   ],
   "source": [
    "x = \"Hello, World!\"\n",
    "y = \"Hello, World!\"\n",
    "print(id(x))\n",
    "print(id(y))"
   ]
  },
  {
   "cell_type": "code",
   "execution_count": 24,
   "metadata": {
    "colab": {
     "base_uri": "https://localhost:8080/"
    },
    "executionInfo": {
     "elapsed": 33,
     "status": "ok",
     "timestamp": 1640796013248,
     "user": {
      "displayName": "mohammed saifuddin",
      "photoUrl": "https://lh3.googleusercontent.com/a-/AOh14GhP3jBQ5CC_BKRpIewdzluDlTD7Qni4QczrUhMV=s64",
      "userId": "16425402980535672052"
     },
     "user_tz": -330
    },
    "id": "QexHqZ_K0wXT",
    "outputId": "e1a74cd0-0d31-4206-fadd-b6ae93276bbc"
   },
   "outputs": [
    {
     "name": "stdout",
     "output_type": "stream",
     "text": [
      "140628237989680\n",
      "140628237989680\n"
     ]
    }
   ],
   "source": [
    "x = \"abcde\"\n",
    "y = \"abcde\"\n",
    "print(id(x))\n",
    "print(id(y))"
   ]
  },
  {
   "cell_type": "code",
   "execution_count": 25,
   "metadata": {
    "colab": {
     "base_uri": "https://localhost:8080/"
    },
    "executionInfo": {
     "elapsed": 31,
     "status": "ok",
     "timestamp": 1640796013248,
     "user": {
      "displayName": "mohammed saifuddin",
      "photoUrl": "https://lh3.googleusercontent.com/a-/AOh14GhP3jBQ5CC_BKRpIewdzluDlTD7Qni4QczrUhMV=s64",
      "userId": "16425402980535672052"
     },
     "user_tz": -330
    },
    "id": "5fCSerjq02in",
    "outputId": "d066167d-00b6-4c0f-c81d-b8a9a423db83"
   },
   "outputs": [
    {
     "name": "stdout",
     "output_type": "stream",
     "text": [
      "{'a': 'apple', 'b': 'bat'}\n",
      "apple\n"
     ]
    }
   ],
   "source": [
    "dict_a = {'a': \"apple\", 'b': \"bat\"}\n",
    "print(dict_a)\n",
    "print(dict_a['a'])"
   ]
  },
  {
   "cell_type": "code",
   "execution_count": 26,
   "metadata": {
    "colab": {
     "base_uri": "https://localhost:8080/"
    },
    "executionInfo": {
     "elapsed": 31,
     "status": "ok",
     "timestamp": 1640796013249,
     "user": {
      "displayName": "mohammed saifuddin",
      "photoUrl": "https://lh3.googleusercontent.com/a-/AOh14GhP3jBQ5CC_BKRpIewdzluDlTD7Qni4QczrUhMV=s64",
      "userId": "16425402980535672052"
     },
     "user_tz": -330
    },
    "id": "vU6PROd-1ExW",
    "outputId": "71b03821-3826-4798-80e9-83190288ba25"
   },
   "outputs": [
    {
     "data": {
      "text/plain": [
       "5.0"
      ]
     },
     "execution_count": 26,
     "metadata": {},
     "output_type": "execute_result"
    }
   ],
   "source": [
    "float(5)"
   ]
  },
  {
   "cell_type": "code",
   "execution_count": 27,
   "metadata": {
    "colab": {
     "base_uri": "https://localhost:8080/"
    },
    "executionInfo": {
     "elapsed": 29,
     "status": "ok",
     "timestamp": 1640796013249,
     "user": {
      "displayName": "mohammed saifuddin",
      "photoUrl": "https://lh3.googleusercontent.com/a-/AOh14GhP3jBQ5CC_BKRpIewdzluDlTD7Qni4QczrUhMV=s64",
      "userId": "16425402980535672052"
     },
     "user_tz": -330
    },
    "id": "NWHT42Gj1lgR",
    "outputId": "94164f60-61aa-4b6c-cd90-82142ac589a6"
   },
   "outputs": [
    {
     "data": {
      "text/plain": [
       "100"
      ]
     },
     "execution_count": 27,
     "metadata": {},
     "output_type": "execute_result"
    }
   ],
   "source": [
    "int(100.9)"
   ]
  },
  {
   "cell_type": "code",
   "execution_count": 28,
   "metadata": {
    "colab": {
     "base_uri": "https://localhost:8080/",
     "height": 35
    },
    "executionInfo": {
     "elapsed": 21,
     "status": "ok",
     "timestamp": 1640796013249,
     "user": {
      "displayName": "mohammed saifuddin",
      "photoUrl": "https://lh3.googleusercontent.com/a-/AOh14GhP3jBQ5CC_BKRpIewdzluDlTD7Qni4QczrUhMV=s64",
      "userId": "16425402980535672052"
     },
     "user_tz": -330
    },
    "id": "r9PDrmRE1nnn",
    "outputId": "62ffa17c-5d9d-4c92-c7e0-0d386423b7cc"
   },
   "outputs": [
    {
     "data": {
      "text/plain": [
       "'369'"
      ]
     },
     "execution_count": 28,
     "metadata": {},
     "output_type": "execute_result"
    }
   ],
   "source": [
    "str(369)"
   ]
  },
  {
   "cell_type": "code",
   "execution_count": 29,
   "metadata": {
    "executionInfo": {
     "elapsed": 21,
     "status": "ok",
     "timestamp": 1640796013250,
     "user": {
      "displayName": "mohammed saifuddin",
      "photoUrl": "https://lh3.googleusercontent.com/a-/AOh14GhP3jBQ5CC_BKRpIewdzluDlTD7Qni4QczrUhMV=s64",
      "userId": "16425402980535672052"
     },
     "user_tz": -330
    },
    "id": "J6zfGtpW1tNB"
   },
   "outputs": [],
   "source": [
    "a = 10; b = 20;"
   ]
  },
  {
   "cell_type": "code",
   "execution_count": 30,
   "metadata": {
    "colab": {
     "base_uri": "https://localhost:8080/"
    },
    "executionInfo": {
     "elapsed": 20,
     "status": "ok",
     "timestamp": 1640796013250,
     "user": {
      "displayName": "mohammed saifuddin",
      "photoUrl": "https://lh3.googleusercontent.com/a-/AOh14GhP3jBQ5CC_BKRpIewdzluDlTD7Qni4QczrUhMV=s64",
      "userId": "16425402980535672052"
     },
     "user_tz": -330
    },
    "id": "QG_zV-5ctj12",
    "outputId": "0fc79884-9819-440c-e9d0-6fb890beb668"
   },
   "outputs": [
    {
     "name": "stdout",
     "output_type": "stream",
     "text": [
      "The value of a is 10 and value of b is 20.\n"
     ]
    }
   ],
   "source": [
    "print(\"The value of a is {} and value of b is {}.\".format(a, b))"
   ]
  },
  {
   "cell_type": "code",
   "execution_count": 31,
   "metadata": {
    "colab": {
     "base_uri": "https://localhost:8080/"
    },
    "executionInfo": {
     "elapsed": 19,
     "status": "ok",
     "timestamp": 1640796013250,
     "user": {
      "displayName": "mohammed saifuddin",
      "photoUrl": "https://lh3.googleusercontent.com/a-/AOh14GhP3jBQ5CC_BKRpIewdzluDlTD7Qni4QczrUhMV=s64",
      "userId": "16425402980535672052"
     },
     "user_tz": -330
    },
    "id": "7l5RfClmtr-T",
    "outputId": "da2bab6a-ec5e-494b-a26c-30fcd1883aaa"
   },
   "outputs": [
    {
     "name": "stdout",
     "output_type": "stream",
     "text": [
      "The value of b is 20 and value of a is 10.\n",
      "The value of b is 20 and value of a is 10\n"
     ]
    }
   ],
   "source": [
    "print(\"The value of b is {} and value of a is {}.\".format(b, a))\n",
    "print(\"The value of b is {1} and value of a is {0}\".format(a, b))"
   ]
  },
  {
   "cell_type": "code",
   "execution_count": 32,
   "metadata": {
    "colab": {
     "base_uri": "https://localhost:8080/"
    },
    "executionInfo": {
     "elapsed": 18,
     "status": "ok",
     "timestamp": 1640796013251,
     "user": {
      "displayName": "mohammed saifuddin",
      "photoUrl": "https://lh3.googleusercontent.com/a-/AOh14GhP3jBQ5CC_BKRpIewdzluDlTD7Qni4QczrUhMV=s64",
      "userId": "16425402980535672052"
     },
     "user_tz": -330
    },
    "id": "E2Lk8Fget1YL",
    "outputId": "62fd614f-e305-49fa-fb0f-70f6e3b8a678"
   },
   "outputs": [
    {
     "name": "stdout",
     "output_type": "stream",
     "text": [
      "Hello Saif, Good Morning!\n"
     ]
    }
   ],
   "source": [
    "print(\"Hello {name}, {greetings}!\".format(name=\"Saif\", greetings=\"Good Morning\"))"
   ]
  },
  {
   "cell_type": "code",
   "execution_count": 33,
   "metadata": {
    "colab": {
     "base_uri": "https://localhost:8080/"
    },
    "executionInfo": {
     "elapsed": 17,
     "status": "ok",
     "timestamp": 1640796013251,
     "user": {
      "displayName": "mohammed saifuddin",
      "photoUrl": "https://lh3.googleusercontent.com/a-/AOh14GhP3jBQ5CC_BKRpIewdzluDlTD7Qni4QczrUhMV=s64",
      "userId": "16425402980535672052"
     },
     "user_tz": -330
    },
    "id": "0RRB9UeUum56",
    "outputId": "c5c99a1a-856a-4a48-c3cb-9d33aeb4e38a"
   },
   "outputs": [
    {
     "name": "stdout",
     "output_type": "stream",
     "text": [
      "The story of Universe, Shamshu, Saif and Sameer.\n"
     ]
    }
   ],
   "source": [
    "print(\"The story of {other}, {2}, {0} and {1}.\".format(\"Saif\", \"Sameer\", \"Shamshu\", other=\"Universe\"))"
   ]
  },
  {
   "cell_type": "code",
   "execution_count": 34,
   "metadata": {
    "colab": {
     "base_uri": "https://localhost:8080/"
    },
    "executionInfo": {
     "elapsed": 9222,
     "status": "ok",
     "timestamp": 1640796022458,
     "user": {
      "displayName": "mohammed saifuddin",
      "photoUrl": "https://lh3.googleusercontent.com/a-/AOh14GhP3jBQ5CC_BKRpIewdzluDlTD7Qni4QczrUhMV=s64",
      "userId": "16425402980535672052"
     },
     "user_tz": -330
    },
    "id": "MT2X0pbTu-m4",
    "outputId": "0b06cbac-0fe9-42a2-8c27-0c5795a5937e"
   },
   "outputs": [
    {
     "name": "stdout",
     "output_type": "stream",
     "text": [
      "Enter a number: 123\n",
      "123\n"
     ]
    }
   ],
   "source": [
    "num = input(\"Enter a number: \")\n",
    "print(num)"
   ]
  },
  {
   "cell_type": "code",
   "execution_count": 35,
   "metadata": {
    "executionInfo": {
     "elapsed": 50,
     "status": "ok",
     "timestamp": 1640796022460,
     "user": {
      "displayName": "mohammed saifuddin",
      "photoUrl": "https://lh3.googleusercontent.com/a-/AOh14GhP3jBQ5CC_BKRpIewdzluDlTD7Qni4QczrUhMV=s64",
      "userId": "16425402980535672052"
     },
     "user_tz": -330
    },
    "id": "r1Basy8Gvi7N"
   },
   "outputs": [],
   "source": [
    "a = 5\n",
    "b = 5"
   ]
  },
  {
   "cell_type": "code",
   "execution_count": 36,
   "metadata": {
    "colab": {
     "base_uri": "https://localhost:8080/"
    },
    "executionInfo": {
     "elapsed": 49,
     "status": "ok",
     "timestamp": 1640796022460,
     "user": {
      "displayName": "mohammed saifuddin",
      "photoUrl": "https://lh3.googleusercontent.com/a-/AOh14GhP3jBQ5CC_BKRpIewdzluDlTD7Qni4QczrUhMV=s64",
      "userId": "16425402980535672052"
     },
     "user_tz": -330
    },
    "id": "l7IFT0uyxq7R",
    "outputId": "a30043dc-bd85-4c9a-a5a2-a0485c36d2a4"
   },
   "outputs": [
    {
     "data": {
      "text/plain": [
       "True"
      ]
     },
     "execution_count": 36,
     "metadata": {},
     "output_type": "execute_result"
    }
   ],
   "source": [
    "a is b"
   ]
  },
  {
   "cell_type": "code",
   "execution_count": 37,
   "metadata": {
    "executionInfo": {
     "elapsed": 46,
     "status": "ok",
     "timestamp": 1640796022460,
     "user": {
      "displayName": "mohammed saifuddin",
      "photoUrl": "https://lh3.googleusercontent.com/a-/AOh14GhP3jBQ5CC_BKRpIewdzluDlTD7Qni4QczrUhMV=s64",
      "userId": "16425402980535672052"
     },
     "user_tz": -330
    },
    "id": "rXLfMtxy1m3T"
   },
   "outputs": [],
   "source": [
    "c = d = 10"
   ]
  },
  {
   "cell_type": "code",
   "execution_count": 38,
   "metadata": {
    "colab": {
     "base_uri": "https://localhost:8080/"
    },
    "executionInfo": {
     "elapsed": 46,
     "status": "ok",
     "timestamp": 1640796022461,
     "user": {
      "displayName": "mohammed saifuddin",
      "photoUrl": "https://lh3.googleusercontent.com/a-/AOh14GhP3jBQ5CC_BKRpIewdzluDlTD7Qni4QczrUhMV=s64",
      "userId": "16425402980535672052"
     },
     "user_tz": -330
    },
    "id": "tUNXyUgx1oxb",
    "outputId": "f6aa2fdf-b421-49fc-c652-a908a7f49d3d"
   },
   "outputs": [
    {
     "data": {
      "text/plain": [
       "True"
      ]
     },
     "execution_count": 38,
     "metadata": {},
     "output_type": "execute_result"
    }
   ],
   "source": [
    "c is d"
   ]
  },
  {
   "cell_type": "code",
   "execution_count": 39,
   "metadata": {
    "executionInfo": {
     "elapsed": 44,
     "status": "ok",
     "timestamp": 1640796022461,
     "user": {
      "displayName": "mohammed saifuddin",
      "photoUrl": "https://lh3.googleusercontent.com/a-/AOh14GhP3jBQ5CC_BKRpIewdzluDlTD7Qni4QczrUhMV=s64",
      "userId": "16425402980535672052"
     },
     "user_tz": -330
    },
    "id": "tnFkFrLm1pyJ"
   },
   "outputs": [],
   "source": [
    "l1 = [1, 2, 3]\n",
    "l2 = [1, 2, 3]"
   ]
  },
  {
   "cell_type": "code",
   "execution_count": 40,
   "metadata": {
    "colab": {
     "base_uri": "https://localhost:8080/"
    },
    "executionInfo": {
     "elapsed": 43,
     "status": "ok",
     "timestamp": 1640796022461,
     "user": {
      "displayName": "mohammed saifuddin",
      "photoUrl": "https://lh3.googleusercontent.com/a-/AOh14GhP3jBQ5CC_BKRpIewdzluDlTD7Qni4QczrUhMV=s64",
      "userId": "16425402980535672052"
     },
     "user_tz": -330
    },
    "id": "IWqzrzxP1w5t",
    "outputId": "91a8855c-953a-4eb3-a184-2738f2f6e643"
   },
   "outputs": [
    {
     "data": {
      "text/plain": [
       "False"
      ]
     },
     "execution_count": 40,
     "metadata": {},
     "output_type": "execute_result"
    }
   ],
   "source": [
    "l1 is l2"
   ]
  },
  {
   "cell_type": "code",
   "execution_count": 41,
   "metadata": {
    "executionInfo": {
     "elapsed": 42,
     "status": "ok",
     "timestamp": 1640796022462,
     "user": {
      "displayName": "mohammed saifuddin",
      "photoUrl": "https://lh3.googleusercontent.com/a-/AOh14GhP3jBQ5CC_BKRpIewdzluDlTD7Qni4QczrUhMV=s64",
      "userId": "16425402980535672052"
     },
     "user_tz": -330
    },
    "id": "YUktd5Ik2l21"
   },
   "outputs": [],
   "source": [
    "l1 = l2"
   ]
  },
  {
   "cell_type": "code",
   "execution_count": 42,
   "metadata": {
    "colab": {
     "base_uri": "https://localhost:8080/"
    },
    "executionInfo": {
     "elapsed": 42,
     "status": "ok",
     "timestamp": 1640796022463,
     "user": {
      "displayName": "mohammed saifuddin",
      "photoUrl": "https://lh3.googleusercontent.com/a-/AOh14GhP3jBQ5CC_BKRpIewdzluDlTD7Qni4QczrUhMV=s64",
      "userId": "16425402980535672052"
     },
     "user_tz": -330
    },
    "id": "BMh3Mskb2rAt",
    "outputId": "fea8f0ca-9f33-4218-a321-e60fc9a63d25"
   },
   "outputs": [
    {
     "data": {
      "text/plain": [
       "True"
      ]
     },
     "execution_count": 42,
     "metadata": {},
     "output_type": "execute_result"
    }
   ],
   "source": [
    "l1 is l2"
   ]
  },
  {
   "cell_type": "code",
   "execution_count": 43,
   "metadata": {
    "executionInfo": {
     "elapsed": 39,
     "status": "ok",
     "timestamp": 1640796022463,
     "user": {
      "displayName": "mohammed saifuddin",
      "photoUrl": "https://lh3.googleusercontent.com/a-/AOh14GhP3jBQ5CC_BKRpIewdzluDlTD7Qni4QczrUhMV=s64",
      "userId": "16425402980535672052"
     },
     "user_tz": -330
    },
    "id": "Y-x1M-DG1yW9"
   },
   "outputs": [],
   "source": [
    "l3 = l4 = [1, 2, 3, 4]"
   ]
  },
  {
   "cell_type": "code",
   "execution_count": 44,
   "metadata": {
    "colab": {
     "base_uri": "https://localhost:8080/"
    },
    "executionInfo": {
     "elapsed": 39,
     "status": "ok",
     "timestamp": 1640796022463,
     "user": {
      "displayName": "mohammed saifuddin",
      "photoUrl": "https://lh3.googleusercontent.com/a-/AOh14GhP3jBQ5CC_BKRpIewdzluDlTD7Qni4QczrUhMV=s64",
      "userId": "16425402980535672052"
     },
     "user_tz": -330
    },
    "id": "n4whpk7H11rv",
    "outputId": "ba51795c-ad28-416e-9686-08775212bf3a"
   },
   "outputs": [
    {
     "data": {
      "text/plain": [
       "True"
      ]
     },
     "execution_count": 44,
     "metadata": {},
     "output_type": "execute_result"
    }
   ],
   "source": [
    "l3 is l4"
   ]
  },
  {
   "cell_type": "code",
   "execution_count": 45,
   "metadata": {
    "colab": {
     "base_uri": "https://localhost:8080/"
    },
    "executionInfo": {
     "elapsed": 38,
     "status": "ok",
     "timestamp": 1640796022464,
     "user": {
      "displayName": "mohammed saifuddin",
      "photoUrl": "https://lh3.googleusercontent.com/a-/AOh14GhP3jBQ5CC_BKRpIewdzluDlTD7Qni4QczrUhMV=s64",
      "userId": "16425402980535672052"
     },
     "user_tz": -330
    },
    "id": "PtqWfZzj129I",
    "outputId": "003039e2-6245-4625-bbb2-fd6e2d924f4a"
   },
   "outputs": [
    {
     "name": "stdout",
     "output_type": "stream",
     "text": [
      "[5, 2, 3, 4]\n",
      "[5, 2, 3, 4]\n"
     ]
    }
   ],
   "source": [
    "l3[0] = 5\n",
    "print(l3)\n",
    "print(l4)"
   ]
  },
  {
   "cell_type": "code",
   "execution_count": 46,
   "metadata": {
    "colab": {
     "base_uri": "https://localhost:8080/"
    },
    "executionInfo": {
     "elapsed": 36,
     "status": "ok",
     "timestamp": 1640796022464,
     "user": {
      "displayName": "mohammed saifuddin",
      "photoUrl": "https://lh3.googleusercontent.com/a-/AOh14GhP3jBQ5CC_BKRpIewdzluDlTD7Qni4QczrUhMV=s64",
      "userId": "16425402980535672052"
     },
     "user_tz": -330
    },
    "id": "LjmXXWJR3e45",
    "outputId": "82ac16b8-b43d-40ab-aa6d-056bc58061f3"
   },
   "outputs": [
    {
     "data": {
      "text/plain": [
       "True"
      ]
     },
     "execution_count": 46,
     "metadata": {},
     "output_type": "execute_result"
    }
   ],
   "source": [
    "l3 is l4"
   ]
  },
  {
   "cell_type": "code",
   "execution_count": 47,
   "metadata": {
    "executionInfo": {
     "elapsed": 35,
     "status": "ok",
     "timestamp": 1640796022465,
     "user": {
      "displayName": "mohammed saifuddin",
      "photoUrl": "https://lh3.googleusercontent.com/a-/AOh14GhP3jBQ5CC_BKRpIewdzluDlTD7Qni4QczrUhMV=s64",
      "userId": "16425402980535672052"
     },
     "user_tz": -330
    },
    "id": "C4qzgKLR4Q-R"
   },
   "outputs": [],
   "source": [
    "s = 500\n",
    "a = 500"
   ]
  },
  {
   "cell_type": "code",
   "execution_count": 48,
   "metadata": {
    "colab": {
     "base_uri": "https://localhost:8080/"
    },
    "executionInfo": {
     "elapsed": 35,
     "status": "ok",
     "timestamp": 1640796022465,
     "user": {
      "displayName": "mohammed saifuddin",
      "photoUrl": "https://lh3.googleusercontent.com/a-/AOh14GhP3jBQ5CC_BKRpIewdzluDlTD7Qni4QczrUhMV=s64",
      "userId": "16425402980535672052"
     },
     "user_tz": -330
    },
    "id": "U4t-IXSU5TtC",
    "outputId": "7576c998-ab72-495d-ae27-a7b02c47b9b6"
   },
   "outputs": [
    {
     "data": {
      "text/plain": [
       "False"
      ]
     },
     "execution_count": 48,
     "metadata": {},
     "output_type": "execute_result"
    }
   ],
   "source": [
    "s is a"
   ]
  },
  {
   "cell_type": "code",
   "execution_count": 49,
   "metadata": {
    "executionInfo": {
     "elapsed": 33,
     "status": "ok",
     "timestamp": 1640796022465,
     "user": {
      "displayName": "mohammed saifuddin",
      "photoUrl": "https://lh3.googleusercontent.com/a-/AOh14GhP3jBQ5CC_BKRpIewdzluDlTD7Qni4QczrUhMV=s64",
      "userId": "16425402980535672052"
     },
     "user_tz": -330
    },
    "id": "XGF2hCWQ5Utz"
   },
   "outputs": [],
   "source": [
    "s = -5\n",
    "a = -5"
   ]
  },
  {
   "cell_type": "code",
   "execution_count": 50,
   "metadata": {
    "colab": {
     "base_uri": "https://localhost:8080/"
    },
    "executionInfo": {
     "elapsed": 33,
     "status": "ok",
     "timestamp": 1640796022465,
     "user": {
      "displayName": "mohammed saifuddin",
      "photoUrl": "https://lh3.googleusercontent.com/a-/AOh14GhP3jBQ5CC_BKRpIewdzluDlTD7Qni4QczrUhMV=s64",
      "userId": "16425402980535672052"
     },
     "user_tz": -330
    },
    "id": "t0lJ_IaS5YPF",
    "outputId": "0a7e0d60-3849-4eb4-b4a4-9e7716dd9071"
   },
   "outputs": [
    {
     "data": {
      "text/plain": [
       "True"
      ]
     },
     "execution_count": 50,
     "metadata": {},
     "output_type": "execute_result"
    }
   ],
   "source": [
    "s is a"
   ]
  },
  {
   "cell_type": "code",
   "execution_count": 51,
   "metadata": {
    "executionInfo": {
     "elapsed": 33,
     "status": "ok",
     "timestamp": 1640796022466,
     "user": {
      "displayName": "mohammed saifuddin",
      "photoUrl": "https://lh3.googleusercontent.com/a-/AOh14GhP3jBQ5CC_BKRpIewdzluDlTD7Qni4QczrUhMV=s64",
      "userId": "16425402980535672052"
     },
     "user_tz": -330
    },
    "id": "t7FhngAA5Y_r"
   },
   "outputs": [],
   "source": [
    "s = 256\n",
    "a = 256"
   ]
  },
  {
   "cell_type": "code",
   "execution_count": 52,
   "metadata": {
    "colab": {
     "base_uri": "https://localhost:8080/"
    },
    "executionInfo": {
     "elapsed": 32,
     "status": "ok",
     "timestamp": 1640796022466,
     "user": {
      "displayName": "mohammed saifuddin",
      "photoUrl": "https://lh3.googleusercontent.com/a-/AOh14GhP3jBQ5CC_BKRpIewdzluDlTD7Qni4QczrUhMV=s64",
      "userId": "16425402980535672052"
     },
     "user_tz": -330
    },
    "id": "s3Ii0-_p5mk1",
    "outputId": "a40614ef-bc9f-4a1d-ad83-72667f05629d"
   },
   "outputs": [
    {
     "data": {
      "text/plain": [
       "True"
      ]
     },
     "execution_count": 52,
     "metadata": {},
     "output_type": "execute_result"
    }
   ],
   "source": [
    "s is a"
   ]
  },
  {
   "cell_type": "code",
   "execution_count": 53,
   "metadata": {
    "executionInfo": {
     "elapsed": 30,
     "status": "ok",
     "timestamp": 1640796022466,
     "user": {
      "displayName": "mohammed saifuddin",
      "photoUrl": "https://lh3.googleusercontent.com/a-/AOh14GhP3jBQ5CC_BKRpIewdzluDlTD7Qni4QczrUhMV=s64",
      "userId": "16425402980535672052"
     },
     "user_tz": -330
    },
    "id": "obfki1R35nor"
   },
   "outputs": [],
   "source": [
    "s = -6\n",
    "a = -6"
   ]
  },
  {
   "cell_type": "code",
   "execution_count": 54,
   "metadata": {
    "colab": {
     "base_uri": "https://localhost:8080/"
    },
    "executionInfo": {
     "elapsed": 31,
     "status": "ok",
     "timestamp": 1640796022467,
     "user": {
      "displayName": "mohammed saifuddin",
      "photoUrl": "https://lh3.googleusercontent.com/a-/AOh14GhP3jBQ5CC_BKRpIewdzluDlTD7Qni4QczrUhMV=s64",
      "userId": "16425402980535672052"
     },
     "user_tz": -330
    },
    "id": "RG9D5FJk5puW",
    "outputId": "2a8abdba-f5eb-44be-b7c5-24cbd1438607"
   },
   "outputs": [
    {
     "data": {
      "text/plain": [
       "False"
      ]
     },
     "execution_count": 54,
     "metadata": {},
     "output_type": "execute_result"
    }
   ],
   "source": [
    "s is a"
   ]
  },
  {
   "cell_type": "code",
   "execution_count": 55,
   "metadata": {
    "executionInfo": {
     "elapsed": 28,
     "status": "ok",
     "timestamp": 1640796022467,
     "user": {
      "displayName": "mohammed saifuddin",
      "photoUrl": "https://lh3.googleusercontent.com/a-/AOh14GhP3jBQ5CC_BKRpIewdzluDlTD7Qni4QczrUhMV=s64",
      "userId": "16425402980535672052"
     },
     "user_tz": -330
    },
    "id": "UdbF73iw5qjK"
   },
   "outputs": [],
   "source": [
    "s = 257\n",
    "a = 257"
   ]
  },
  {
   "cell_type": "code",
   "execution_count": 56,
   "metadata": {
    "colab": {
     "base_uri": "https://localhost:8080/"
    },
    "executionInfo": {
     "elapsed": 23,
     "status": "ok",
     "timestamp": 1640796022467,
     "user": {
      "displayName": "mohammed saifuddin",
      "photoUrl": "https://lh3.googleusercontent.com/a-/AOh14GhP3jBQ5CC_BKRpIewdzluDlTD7Qni4QczrUhMV=s64",
      "userId": "16425402980535672052"
     },
     "user_tz": -330
    },
    "id": "mSaFjSuk5ua9",
    "outputId": "68de91ef-3dd7-4beb-c3d3-3c9b70916a6f"
   },
   "outputs": [
    {
     "data": {
      "text/plain": [
       "False"
      ]
     },
     "execution_count": 56,
     "metadata": {},
     "output_type": "execute_result"
    }
   ],
   "source": [
    "s is a"
   ]
  },
  {
   "cell_type": "code",
   "execution_count": 57,
   "metadata": {
    "executionInfo": {
     "elapsed": 21,
     "status": "ok",
     "timestamp": 1640796022467,
     "user": {
      "displayName": "mohammed saifuddin",
      "photoUrl": "https://lh3.googleusercontent.com/a-/AOh14GhP3jBQ5CC_BKRpIewdzluDlTD7Qni4QczrUhMV=s64",
      "userId": "16425402980535672052"
     },
     "user_tz": -330
    },
    "id": "d1OrxVZb5vZ0"
   },
   "outputs": [],
   "source": [
    "s = 100\n",
    "a = 100"
   ]
  },
  {
   "cell_type": "code",
   "execution_count": 58,
   "metadata": {
    "colab": {
     "base_uri": "https://localhost:8080/"
    },
    "executionInfo": {
     "elapsed": 23,
     "status": "ok",
     "timestamp": 1640796022469,
     "user": {
      "displayName": "mohammed saifuddin",
      "photoUrl": "https://lh3.googleusercontent.com/a-/AOh14GhP3jBQ5CC_BKRpIewdzluDlTD7Qni4QczrUhMV=s64",
      "userId": "16425402980535672052"
     },
     "user_tz": -330
    },
    "id": "ExRPyayY5y_F",
    "outputId": "a6613dfa-70ca-48c1-9f9a-91480f5c7097"
   },
   "outputs": [
    {
     "data": {
      "text/plain": [
       "True"
      ]
     },
     "execution_count": 58,
     "metadata": {},
     "output_type": "execute_result"
    }
   ],
   "source": [
    "s is a"
   ]
  },
  {
   "cell_type": "code",
   "execution_count": 59,
   "metadata": {
    "colab": {
     "base_uri": "https://localhost:8080/",
     "height": 35
    },
    "executionInfo": {
     "elapsed": 21,
     "status": "ok",
     "timestamp": 1640796022469,
     "user": {
      "displayName": "mohammed saifuddin",
      "photoUrl": "https://lh3.googleusercontent.com/a-/AOh14GhP3jBQ5CC_BKRpIewdzluDlTD7Qni4QczrUhMV=s64",
      "userId": "16425402980535672052"
     },
     "user_tz": -330
    },
    "id": "EmEolWmM5z1J",
    "outputId": "155c56ed-af1e-4c87-ec04-311f35632314"
   },
   "outputs": [
    {
     "data": {
      "text/plain": [
       "'0b1100'"
      ]
     },
     "execution_count": 59,
     "metadata": {},
     "output_type": "execute_result"
    }
   ],
   "source": [
    "bin(12)"
   ]
  },
  {
   "cell_type": "code",
   "execution_count": 60,
   "metadata": {
    "colab": {
     "base_uri": "https://localhost:8080/"
    },
    "executionInfo": {
     "elapsed": 11549,
     "status": "ok",
     "timestamp": 1640796033999,
     "user": {
      "displayName": "mohammed saifuddin",
      "photoUrl": "https://lh3.googleusercontent.com/a-/AOh14GhP3jBQ5CC_BKRpIewdzluDlTD7Qni4QczrUhMV=s64",
      "userId": "16425402980535672052"
     },
     "user_tz": -330
    },
    "id": "WP4X8Rd_FFVr",
    "outputId": "0bbdb4d9-2278-437f-8824-aa228d37999d"
   },
   "outputs": [
    {
     "name": "stdout",
     "output_type": "stream",
     "text": [
      "Enter the number: 123\n",
      "123 is divisible by 3.\n",
      "123 is divisible by 41.\n",
      "123 is NOT a Prime Number.\n"
     ]
    }
   ],
   "source": [
    "number = int(input(\"Enter the number: \"))\n",
    "\n",
    "is_divisible = False\n",
    "\n",
    "i = 2\n",
    "while i < number:\n",
    "    if number % i == 0:\n",
    "        is_divisible = True\n",
    "        print(\"{} is divisible by {}.\".format(number, i))\n",
    "    i += 1\n",
    "\n",
    "if is_divisible:\n",
    "    print(\"{} is NOT a Prime Number.\".format(number))\n",
    "else:\n",
    "    print(\"{} is a Prime Number.\".format(number))"
   ]
  },
  {
   "cell_type": "code",
   "execution_count": 61,
   "metadata": {
    "colab": {
     "base_uri": "https://localhost:8080/"
    },
    "executionInfo": {
     "elapsed": 56,
     "status": "ok",
     "timestamp": 1640796033999,
     "user": {
      "displayName": "mohammed saifuddin",
      "photoUrl": "https://lh3.googleusercontent.com/a-/AOh14GhP3jBQ5CC_BKRpIewdzluDlTD7Qni4QczrUhMV=s64",
      "userId": "16425402980535672052"
     },
     "user_tz": -330
    },
    "id": "o4gIqlX9LREz",
    "outputId": "96da0571-6c50-48c5-9728-07f15ad4d591"
   },
   "outputs": [
    {
     "name": "stdout",
     "output_type": "stream",
     "text": [
      "2\n",
      "3\n",
      "5\n",
      "7\n",
      "11\n",
      "13\n",
      "17\n",
      "19\n",
      "23\n",
      "29\n",
      "31\n",
      "37\n",
      "41\n",
      "43\n",
      "47\n",
      "53\n",
      "59\n",
      "61\n",
      "67\n",
      "71\n",
      "73\n",
      "79\n",
      "83\n",
      "89\n",
      "97\n"
     ]
    }
   ],
   "source": [
    "num1 = 1\n",
    "num2 = 100\n",
    "\n",
    "for num in range(num1, num2+1):\n",
    "    if num > 1:\n",
    "        is_divisible = False\n",
    "        for i in range(2, num):\n",
    "            if num % i == 0:\n",
    "                is_divisible = True\n",
    "        if not is_divisible:\n",
    "            print(num)"
   ]
  },
  {
   "cell_type": "code",
   "execution_count": 62,
   "metadata": {
    "colab": {
     "base_uri": "https://localhost:8080/"
    },
    "executionInfo": {
     "elapsed": 54,
     "status": "ok",
     "timestamp": 1640796033999,
     "user": {
      "displayName": "mohammed saifuddin",
      "photoUrl": "https://lh3.googleusercontent.com/a-/AOh14GhP3jBQ5CC_BKRpIewdzluDlTD7Qni4QczrUhMV=s64",
      "userId": "16425402980535672052"
     },
     "user_tz": -330
    },
    "id": "bEP9VRJMQnZ0",
    "outputId": "bd488826-7488-42fe-c0bd-1b748db4731e"
   },
   "outputs": [
    {
     "name": "stdout",
     "output_type": "stream",
     "text": [
      "[[1, 2, 3, 4], [5, 6, 7, 8], [9, 10, 11, 12]]\n"
     ]
    }
   ],
   "source": [
    "matrix = [\n",
    "           [1, 2, 3, 4],\n",
    "           [5, 6, 7, 8],\n",
    "           [9, 10, 11, 12]\n",
    "]\n",
    "print(matrix)"
   ]
  },
  {
   "cell_type": "code",
   "execution_count": 63,
   "metadata": {
    "colab": {
     "base_uri": "https://localhost:8080/"
    },
    "executionInfo": {
     "elapsed": 53,
     "status": "ok",
     "timestamp": 1640796034000,
     "user": {
      "displayName": "mohammed saifuddin",
      "photoUrl": "https://lh3.googleusercontent.com/a-/AOh14GhP3jBQ5CC_BKRpIewdzluDlTD7Qni4QczrUhMV=s64",
      "userId": "16425402980535672052"
     },
     "user_tz": -330
    },
    "id": "HafiX6CpFyCf",
    "outputId": "1d7d3975-1081-47cd-9d1c-d4028ad3b41f"
   },
   "outputs": [
    {
     "name": "stdout",
     "output_type": "stream",
     "text": [
      "[[1, 5, 9], [2, 6, 10], [3, 7, 11], [4, 8, 12]]\n"
     ]
    }
   ],
   "source": [
    "transposed = []\n",
    "rowlength = len(matrix[0])\n",
    "\n",
    "for i in range(rowlength):\n",
    "    lst = []\n",
    "    for row in matrix:\n",
    "        # print(row)\n",
    "        lst.append(row[i])\n",
    "    # print(lst)\n",
    "    transposed.append(lst)\n",
    "print(transposed)"
   ]
  },
  {
   "cell_type": "code",
   "execution_count": 64,
   "metadata": {
    "colab": {
     "base_uri": "https://localhost:8080/"
    },
    "executionInfo": {
     "elapsed": 50,
     "status": "ok",
     "timestamp": 1640796034000,
     "user": {
      "displayName": "mohammed saifuddin",
      "photoUrl": "https://lh3.googleusercontent.com/a-/AOh14GhP3jBQ5CC_BKRpIewdzluDlTD7Qni4QczrUhMV=s64",
      "userId": "16425402980535672052"
     },
     "user_tz": -330
    },
    "id": "4sBnfK2GGWft",
    "outputId": "ce909581-120a-4ae7-b030-97a08d2dfdcf"
   },
   "outputs": [
    {
     "name": "stdout",
     "output_type": "stream",
     "text": [
      "[[1, 2, 3, 4], [5, 6, 7, 8], [9, 10, 11, 12]]\n"
     ]
    }
   ],
   "source": [
    "matrix = [\n",
    "          [1, 2, 3, 4],\n",
    "          [5, 6, 7, 8],\n",
    "          [9, 10, 11, 12]\n",
    "]\n",
    "print(matrix)"
   ]
  },
  {
   "cell_type": "code",
   "execution_count": 65,
   "metadata": {
    "colab": {
     "base_uri": "https://localhost:8080/"
    },
    "executionInfo": {
     "elapsed": 48,
     "status": "ok",
     "timestamp": 1640796034000,
     "user": {
      "displayName": "mohammed saifuddin",
      "photoUrl": "https://lh3.googleusercontent.com/a-/AOh14GhP3jBQ5CC_BKRpIewdzluDlTD7Qni4QczrUhMV=s64",
      "userId": "16425402980535672052"
     },
     "user_tz": -330
    },
    "id": "WW06RSutHOt7",
    "outputId": "e9f9e55c-47ee-4be7-90ec-b75e053e37a2"
   },
   "outputs": [
    {
     "name": "stdout",
     "output_type": "stream",
     "text": [
      "[[1, 5, 9], [2, 6, 10], [3, 7, 11], [4, 8, 12]]\n"
     ]
    }
   ],
   "source": [
    "transposed = [[row[i] for row in matrix] for i in range(rowlength)]\n",
    "print(transposed)"
   ]
  },
  {
   "cell_type": "code",
   "execution_count": 66,
   "metadata": {
    "colab": {
     "base_uri": "https://localhost:8080/"
    },
    "executionInfo": {
     "elapsed": 46,
     "status": "ok",
     "timestamp": 1640796034000,
     "user": {
      "displayName": "mohammed saifuddin",
      "photoUrl": "https://lh3.googleusercontent.com/a-/AOh14GhP3jBQ5CC_BKRpIewdzluDlTD7Qni4QczrUhMV=s64",
      "userId": "16425402980535672052"
     },
     "user_tz": -330
    },
    "id": "1HCAWAw1HaIo",
    "outputId": "c93d57a0-49ad-4de7-9dab-6bd724317af9"
   },
   "outputs": [
    {
     "name": "stdout",
     "output_type": "stream",
     "text": [
      "(1, 2, 3, [1, 2, 3, 4])\n",
      "(1, 2, 3, ['Saif', 2, 3, 4])\n"
     ]
    }
   ],
   "source": [
    "tpl1 = (1, 2, 3, [1, 2, 3, 4])\n",
    "print(tpl1)\n",
    "tpl1[3][0] = \"Saif\"\n",
    "print(tpl1)"
   ]
  },
  {
   "cell_type": "code",
   "execution_count": 67,
   "metadata": {
    "colab": {
     "base_uri": "https://localhost:8080/"
    },
    "executionInfo": {
     "elapsed": 45,
     "status": "ok",
     "timestamp": 1640796034001,
     "user": {
      "displayName": "mohammed saifuddin",
      "photoUrl": "https://lh3.googleusercontent.com/a-/AOh14GhP3jBQ5CC_BKRpIewdzluDlTD7Qni4QczrUhMV=s64",
      "userId": "16425402980535672052"
     },
     "user_tz": -330
    },
    "id": "aNTm4bUSNphG",
    "outputId": "c6d4e11a-bde0-46d3-c974-d7f1b74643e1"
   },
   "outputs": [
    {
     "data": {
      "text/plain": [
       "1"
      ]
     },
     "execution_count": 67,
     "metadata": {},
     "output_type": "execute_result"
    }
   ],
   "source": [
    "(1)"
   ]
  },
  {
   "cell_type": "code",
   "execution_count": 68,
   "metadata": {
    "colab": {
     "base_uri": "https://localhost:8080/"
    },
    "executionInfo": {
     "elapsed": 43,
     "status": "ok",
     "timestamp": 1640796034001,
     "user": {
      "displayName": "mohammed saifuddin",
      "photoUrl": "https://lh3.googleusercontent.com/a-/AOh14GhP3jBQ5CC_BKRpIewdzluDlTD7Qni4QczrUhMV=s64",
      "userId": "16425402980535672052"
     },
     "user_tz": -330
    },
    "id": "r740DmQcOGyj",
    "outputId": "b42ea165-0955-4d5b-cf76-99fa60b16dbc"
   },
   "outputs": [
    {
     "data": {
      "text/plain": [
       "(1,)"
      ]
     },
     "execution_count": 68,
     "metadata": {},
     "output_type": "execute_result"
    }
   ],
   "source": [
    "(1,)"
   ]
  },
  {
   "cell_type": "code",
   "execution_count": 69,
   "metadata": {
    "colab": {
     "base_uri": "https://localhost:8080/"
    },
    "executionInfo": {
     "elapsed": 42,
     "status": "ok",
     "timestamp": 1640796034002,
     "user": {
      "displayName": "mohammed saifuddin",
      "photoUrl": "https://lh3.googleusercontent.com/a-/AOh14GhP3jBQ5CC_BKRpIewdzluDlTD7Qni4QczrUhMV=s64",
      "userId": "16425402980535672052"
     },
     "user_tz": -330
    },
    "id": "zbcoQwxjOH88",
    "outputId": "d5802d9f-33b5-4f57-f548-d755f5f0915c"
   },
   "outputs": [
    {
     "data": {
      "text/plain": [
       "4"
      ]
     },
     "execution_count": 69,
     "metadata": {},
     "output_type": "execute_result"
    }
   ],
   "source": [
    "(1) * 4"
   ]
  },
  {
   "cell_type": "code",
   "execution_count": 70,
   "metadata": {
    "colab": {
     "base_uri": "https://localhost:8080/"
    },
    "executionInfo": {
     "elapsed": 40,
     "status": "ok",
     "timestamp": 1640796034002,
     "user": {
      "displayName": "mohammed saifuddin",
      "photoUrl": "https://lh3.googleusercontent.com/a-/AOh14GhP3jBQ5CC_BKRpIewdzluDlTD7Qni4QczrUhMV=s64",
      "userId": "16425402980535672052"
     },
     "user_tz": -330
    },
    "id": "4DbOtLUJOLT_",
    "outputId": "37478d32-eae5-4e41-8cee-962a7ab654f7"
   },
   "outputs": [
    {
     "data": {
      "text/plain": [
       "(1, 1, 1, 1)"
      ]
     },
     "execution_count": 70,
     "metadata": {},
     "output_type": "execute_result"
    }
   ],
   "source": [
    "(1, ) * 4"
   ]
  },
  {
   "cell_type": "code",
   "execution_count": 71,
   "metadata": {
    "colab": {
     "base_uri": "https://localhost:8080/"
    },
    "executionInfo": {
     "elapsed": 38,
     "status": "ok",
     "timestamp": 1640796034002,
     "user": {
      "displayName": "mohammed saifuddin",
      "photoUrl": "https://lh3.googleusercontent.com/a-/AOh14GhP3jBQ5CC_BKRpIewdzluDlTD7Qni4QczrUhMV=s64",
      "userId": "16425402980535672052"
     },
     "user_tz": -330
    },
    "id": "7BOO0zIUONTu",
    "outputId": "40bf96f6-f297-44fc-9155-7fdc2cc18608"
   },
   "outputs": [
    {
     "data": {
      "text/plain": [
       "(1,\n",
       " 2,\n",
       " 3,\n",
       " 1,\n",
       " 2,\n",
       " 3,\n",
       " 1,\n",
       " 2,\n",
       " 3,\n",
       " 1,\n",
       " 2,\n",
       " 3,\n",
       " 1,\n",
       " 2,\n",
       " 3,\n",
       " 1,\n",
       " 2,\n",
       " 3,\n",
       " 1,\n",
       " 2,\n",
       " 3,\n",
       " 1,\n",
       " 2,\n",
       " 3,\n",
       " 1,\n",
       " 2,\n",
       " 3,\n",
       " 1,\n",
       " 2,\n",
       " 3)"
      ]
     },
     "execution_count": 71,
     "metadata": {},
     "output_type": "execute_result"
    }
   ],
   "source": [
    "((1, 2, 3, ) * 5) * 2"
   ]
  },
  {
   "cell_type": "code",
   "execution_count": 72,
   "metadata": {
    "executionInfo": {
     "elapsed": 36,
     "status": "ok",
     "timestamp": 1640796034002,
     "user": {
      "displayName": "mohammed saifuddin",
      "photoUrl": "https://lh3.googleusercontent.com/a-/AOh14GhP3jBQ5CC_BKRpIewdzluDlTD7Qni4QczrUhMV=s64",
      "userId": "16425402980535672052"
     },
     "user_tz": -330
    },
    "id": "7772W1heOlsk"
   },
   "outputs": [],
   "source": [
    "a = (1, 2, 3)\n",
    "b = (4, 5, 6)"
   ]
  },
  {
   "cell_type": "code",
   "execution_count": 73,
   "metadata": {
    "colab": {
     "base_uri": "https://localhost:8080/"
    },
    "executionInfo": {
     "elapsed": 37,
     "status": "ok",
     "timestamp": 1640796034003,
     "user": {
      "displayName": "mohammed saifuddin",
      "photoUrl": "https://lh3.googleusercontent.com/a-/AOh14GhP3jBQ5CC_BKRpIewdzluDlTD7Qni4QczrUhMV=s64",
      "userId": "16425402980535672052"
     },
     "user_tz": -330
    },
    "id": "Fqmah2rUPvfO",
    "outputId": "9667d5f7-9fae-4d83-907a-d636be1a6573"
   },
   "outputs": [
    {
     "data": {
      "text/plain": [
       "(1, 2, 3, 4, 5, 6)"
      ]
     },
     "execution_count": 73,
     "metadata": {},
     "output_type": "execute_result"
    }
   ],
   "source": [
    "a + b"
   ]
  },
  {
   "cell_type": "code",
   "execution_count": 74,
   "metadata": {
    "colab": {
     "base_uri": "https://localhost:8080/"
    },
    "executionInfo": {
     "elapsed": 35,
     "status": "ok",
     "timestamp": 1640796034003,
     "user": {
      "displayName": "mohammed saifuddin",
      "photoUrl": "https://lh3.googleusercontent.com/a-/AOh14GhP3jBQ5CC_BKRpIewdzluDlTD7Qni4QczrUhMV=s64",
      "userId": "16425402980535672052"
     },
     "user_tz": -330
    },
    "id": "BIJFc_PUPxS5",
    "outputId": "112ca005-0be8-49ed-8786-afc988932288"
   },
   "outputs": [
    {
     "data": {
      "text/plain": [
       "(1, 2, 3)"
      ]
     },
     "execution_count": 74,
     "metadata": {},
     "output_type": "execute_result"
    }
   ],
   "source": [
    "a"
   ]
  },
  {
   "cell_type": "code",
   "execution_count": 75,
   "metadata": {
    "colab": {
     "base_uri": "https://localhost:8080/"
    },
    "executionInfo": {
     "elapsed": 33,
     "status": "ok",
     "timestamp": 1640796034003,
     "user": {
      "displayName": "mohammed saifuddin",
      "photoUrl": "https://lh3.googleusercontent.com/a-/AOh14GhP3jBQ5CC_BKRpIewdzluDlTD7Qni4QczrUhMV=s64",
      "userId": "16425402980535672052"
     },
     "user_tz": -330
    },
    "id": "sJah-21GP0lu",
    "outputId": "7782b08f-5e3d-42b7-8207-8fc8aef01e39"
   },
   "outputs": [
    {
     "data": {
      "text/plain": [
       "(4, 5, 6)"
      ]
     },
     "execution_count": 75,
     "metadata": {},
     "output_type": "execute_result"
    }
   ],
   "source": [
    "b"
   ]
  },
  {
   "cell_type": "code",
   "execution_count": 76,
   "metadata": {
    "colab": {
     "base_uri": "https://localhost:8080/"
    },
    "executionInfo": {
     "elapsed": 31,
     "status": "ok",
     "timestamp": 1640796034003,
     "user": {
      "displayName": "mohammed saifuddin",
      "photoUrl": "https://lh3.googleusercontent.com/a-/AOh14GhP3jBQ5CC_BKRpIewdzluDlTD7Qni4QczrUhMV=s64",
      "userId": "16425402980535672052"
     },
     "user_tz": -330
    },
    "id": "IQpMu48IP1by",
    "outputId": "f782e18e-5a7f-4663-8000-92cabce433cd"
   },
   "outputs": [
    {
     "name": "stdout",
     "output_type": "stream",
     "text": [
      "[1, 2, 3]\n",
      "140628314750400\n",
      "[1, 2, 4]\n",
      "140628314750400\n"
     ]
    }
   ],
   "source": [
    "lst1 = [1, 2, 3]\n",
    "print(lst1)\n",
    "print(id(lst1))\n",
    "lst1[2] = 4\n",
    "print(lst1)\n",
    "print(id(lst1))"
   ]
  },
  {
   "cell_type": "code",
   "execution_count": 77,
   "metadata": {
    "executionInfo": {
     "elapsed": 30,
     "status": "ok",
     "timestamp": 1640796034004,
     "user": {
      "displayName": "mohammed saifuddin",
      "photoUrl": "https://lh3.googleusercontent.com/a-/AOh14GhP3jBQ5CC_BKRpIewdzluDlTD7Qni4QczrUhMV=s64",
      "userId": "16425402980535672052"
     },
     "user_tz": -330
    },
    "id": "uYtX6legTAOJ"
   },
   "outputs": [],
   "source": [
    "dum = ('1861-10-23', ['poetry', 'pretend-fight'])\n",
    "dee = ('1861-10-23', ['poetry', 'pretend-fight'])"
   ]
  },
  {
   "cell_type": "code",
   "execution_count": 78,
   "metadata": {
    "colab": {
     "base_uri": "https://localhost:8080/"
    },
    "executionInfo": {
     "elapsed": 30,
     "status": "ok",
     "timestamp": 1640796034004,
     "user": {
      "displayName": "mohammed saifuddin",
      "photoUrl": "https://lh3.googleusercontent.com/a-/AOh14GhP3jBQ5CC_BKRpIewdzluDlTD7Qni4QczrUhMV=s64",
      "userId": "16425402980535672052"
     },
     "user_tz": -330
    },
    "id": "n4Rp7UthTlbF",
    "outputId": "1c753c77-83af-4a64-92fe-def89b1931a4"
   },
   "outputs": [
    {
     "data": {
      "text/plain": [
       "True"
      ]
     },
     "execution_count": 78,
     "metadata": {},
     "output_type": "execute_result"
    }
   ],
   "source": [
    "dum == dee"
   ]
  },
  {
   "cell_type": "code",
   "execution_count": 79,
   "metadata": {
    "colab": {
     "base_uri": "https://localhost:8080/"
    },
    "executionInfo": {
     "elapsed": 28,
     "status": "ok",
     "timestamp": 1640796034004,
     "user": {
      "displayName": "mohammed saifuddin",
      "photoUrl": "https://lh3.googleusercontent.com/a-/AOh14GhP3jBQ5CC_BKRpIewdzluDlTD7Qni4QczrUhMV=s64",
      "userId": "16425402980535672052"
     },
     "user_tz": -330
    },
    "id": "TlK_3PiVTmzW",
    "outputId": "cf10d492-e792-450f-f38f-314cbcdca8aa"
   },
   "outputs": [
    {
     "data": {
      "text/plain": [
       "False"
      ]
     },
     "execution_count": 79,
     "metadata": {},
     "output_type": "execute_result"
    }
   ],
   "source": [
    "dum is dee"
   ]
  },
  {
   "cell_type": "code",
   "execution_count": 80,
   "metadata": {
    "executionInfo": {
     "elapsed": 27,
     "status": "ok",
     "timestamp": 1640796034005,
     "user": {
      "displayName": "mohammed saifuddin",
      "photoUrl": "https://lh3.googleusercontent.com/a-/AOh14GhP3jBQ5CC_BKRpIewdzluDlTD7Qni4QczrUhMV=s64",
      "userId": "16425402980535672052"
     },
     "user_tz": -330
    },
    "id": "sRTnHa1NToN9"
   },
   "outputs": [],
   "source": [
    "t_doom = dum"
   ]
  },
  {
   "cell_type": "code",
   "execution_count": 81,
   "metadata": {
    "colab": {
     "base_uri": "https://localhost:8080/"
    },
    "executionInfo": {
     "elapsed": 27,
     "status": "ok",
     "timestamp": 1640796034005,
     "user": {
      "displayName": "mohammed saifuddin",
      "photoUrl": "https://lh3.googleusercontent.com/a-/AOh14GhP3jBQ5CC_BKRpIewdzluDlTD7Qni4QczrUhMV=s64",
      "userId": "16425402980535672052"
     },
     "user_tz": -330
    },
    "id": "1ji8cmOFTrEz",
    "outputId": "39217a4c-f6a4-4beb-f986-fdb25c2d6452"
   },
   "outputs": [
    {
     "data": {
      "text/plain": [
       "True"
      ]
     },
     "execution_count": 81,
     "metadata": {},
     "output_type": "execute_result"
    }
   ],
   "source": [
    "t_doom is dum"
   ]
  },
  {
   "cell_type": "code",
   "execution_count": 82,
   "metadata": {
    "executionInfo": {
     "elapsed": 26,
     "status": "ok",
     "timestamp": 1640796034006,
     "user": {
      "displayName": "mohammed saifuddin",
      "photoUrl": "https://lh3.googleusercontent.com/a-/AOh14GhP3jBQ5CC_BKRpIewdzluDlTD7Qni4QczrUhMV=s64",
      "userId": "16425402980535672052"
     },
     "user_tz": -330
    },
    "id": "D22pSGsuTuTb"
   },
   "outputs": [],
   "source": [
    "skills = t_doom[1]"
   ]
  },
  {
   "cell_type": "code",
   "execution_count": 83,
   "metadata": {
    "executionInfo": {
     "elapsed": 26,
     "status": "ok",
     "timestamp": 1640796034006,
     "user": {
      "displayName": "mohammed saifuddin",
      "photoUrl": "https://lh3.googleusercontent.com/a-/AOh14GhP3jBQ5CC_BKRpIewdzluDlTD7Qni4QczrUhMV=s64",
      "userId": "16425402980535672052"
     },
     "user_tz": -330
    },
    "id": "ip1hBbxuT2HE"
   },
   "outputs": [],
   "source": [
    "skills.append(\"rap\")"
   ]
  },
  {
   "cell_type": "code",
   "execution_count": 84,
   "metadata": {
    "colab": {
     "base_uri": "https://localhost:8080/"
    },
    "executionInfo": {
     "elapsed": 26,
     "status": "ok",
     "timestamp": 1640796034006,
     "user": {
      "displayName": "mohammed saifuddin",
      "photoUrl": "https://lh3.googleusercontent.com/a-/AOh14GhP3jBQ5CC_BKRpIewdzluDlTD7Qni4QczrUhMV=s64",
      "userId": "16425402980535672052"
     },
     "user_tz": -330
    },
    "id": "vFd4bZbiT5IA",
    "outputId": "68bb48dc-e8a0-4388-d90a-169a1326b46d"
   },
   "outputs": [
    {
     "data": {
      "text/plain": [
       "['poetry', 'pretend-fight', 'rap']"
      ]
     },
     "execution_count": 84,
     "metadata": {},
     "output_type": "execute_result"
    }
   ],
   "source": [
    "skills"
   ]
  },
  {
   "cell_type": "code",
   "execution_count": 85,
   "metadata": {
    "colab": {
     "base_uri": "https://localhost:8080/"
    },
    "executionInfo": {
     "elapsed": 24,
     "status": "ok",
     "timestamp": 1640796034006,
     "user": {
      "displayName": "mohammed saifuddin",
      "photoUrl": "https://lh3.googleusercontent.com/a-/AOh14GhP3jBQ5CC_BKRpIewdzluDlTD7Qni4QczrUhMV=s64",
      "userId": "16425402980535672052"
     },
     "user_tz": -330
    },
    "id": "fq18k6JlT8NT",
    "outputId": "624e5c13-d882-4c6a-bc2c-cf83162936c7"
   },
   "outputs": [
    {
     "data": {
      "text/plain": [
       "('1861-10-23', ['poetry', 'pretend-fight', 'rap'])"
      ]
     },
     "execution_count": 85,
     "metadata": {},
     "output_type": "execute_result"
    }
   ],
   "source": [
    "t_doom"
   ]
  },
  {
   "cell_type": "code",
   "execution_count": 86,
   "metadata": {
    "colab": {
     "base_uri": "https://localhost:8080/"
    },
    "executionInfo": {
     "elapsed": 21,
     "status": "ok",
     "timestamp": 1640796034006,
     "user": {
      "displayName": "mohammed saifuddin",
      "photoUrl": "https://lh3.googleusercontent.com/a-/AOh14GhP3jBQ5CC_BKRpIewdzluDlTD7Qni4QczrUhMV=s64",
      "userId": "16425402980535672052"
     },
     "user_tz": -330
    },
    "id": "SZgSBEhYT9wH",
    "outputId": "3e39b2b5-981c-4a49-f3d4-160bf319b3af"
   },
   "outputs": [
    {
     "data": {
      "text/plain": [
       "('1861-10-23', ['poetry', 'pretend-fight', 'rap'])"
      ]
     },
     "execution_count": 86,
     "metadata": {},
     "output_type": "execute_result"
    }
   ],
   "source": [
    "dum"
   ]
  },
  {
   "cell_type": "code",
   "execution_count": 87,
   "metadata": {
    "colab": {
     "base_uri": "https://localhost:8080/"
    },
    "executionInfo": {
     "elapsed": 20,
     "status": "ok",
     "timestamp": 1640796034006,
     "user": {
      "displayName": "mohammed saifuddin",
      "photoUrl": "https://lh3.googleusercontent.com/a-/AOh14GhP3jBQ5CC_BKRpIewdzluDlTD7Qni4QczrUhMV=s64",
      "userId": "16425402980535672052"
     },
     "user_tz": -330
    },
    "id": "h1ZhVfyPT_PY",
    "outputId": "5d64bbc3-78a4-44f3-f4e6-09e80b0ef8d0"
   },
   "outputs": [
    {
     "data": {
      "text/plain": [
       "True"
      ]
     },
     "execution_count": 87,
     "metadata": {},
     "output_type": "execute_result"
    }
   ],
   "source": [
    "t_doom is dum"
   ]
  },
  {
   "cell_type": "code",
   "execution_count": 88,
   "metadata": {
    "colab": {
     "base_uri": "https://localhost:8080/"
    },
    "executionInfo": {
     "elapsed": 18,
     "status": "ok",
     "timestamp": 1640796034007,
     "user": {
      "displayName": "mohammed saifuddin",
      "photoUrl": "https://lh3.googleusercontent.com/a-/AOh14GhP3jBQ5CC_BKRpIewdzluDlTD7Qni4QczrUhMV=s64",
      "userId": "16425402980535672052"
     },
     "user_tz": -330
    },
    "id": "NUpSHftoUBmP",
    "outputId": "fdd5ec51-f8cc-4aca-88db-d3907138f821"
   },
   "outputs": [
    {
     "data": {
      "text/plain": [
       "140628314768704"
      ]
     },
     "execution_count": 88,
     "metadata": {},
     "output_type": "execute_result"
    }
   ],
   "source": [
    "id(t_doom[1])"
   ]
  },
  {
   "cell_type": "code",
   "execution_count": 89,
   "metadata": {
    "colab": {
     "base_uri": "https://localhost:8080/"
    },
    "executionInfo": {
     "elapsed": 1516,
     "status": "ok",
     "timestamp": 1640796035507,
     "user": {
      "displayName": "mohammed saifuddin",
      "photoUrl": "https://lh3.googleusercontent.com/a-/AOh14GhP3jBQ5CC_BKRpIewdzluDlTD7Qni4QczrUhMV=s64",
      "userId": "16425402980535672052"
     },
     "user_tz": -330
    },
    "id": "7GFeXso5VJqE",
    "outputId": "8026a166-e0cf-4ecd-f4ce-bbbc80bbf202"
   },
   "outputs": [
    {
     "data": {
      "text/plain": [
       "140628314768704"
      ]
     },
     "execution_count": 89,
     "metadata": {},
     "output_type": "execute_result"
    }
   ],
   "source": [
    "id(skills)"
   ]
  },
  {
   "cell_type": "code",
   "execution_count": 90,
   "metadata": {
    "colab": {
     "base_uri": "https://localhost:8080/"
    },
    "executionInfo": {
     "elapsed": 85,
     "status": "ok",
     "timestamp": 1640796035508,
     "user": {
      "displayName": "mohammed saifuddin",
      "photoUrl": "https://lh3.googleusercontent.com/a-/AOh14GhP3jBQ5CC_BKRpIewdzluDlTD7Qni4QczrUhMV=s64",
      "userId": "16425402980535672052"
     },
     "user_tz": -330
    },
    "id": "dbElfUkkbIf7",
    "outputId": "723a8119-0533-43d7-d84b-76e137b954fc"
   },
   "outputs": [
    {
     "name": "stdout",
     "output_type": "stream",
     "text": [
      "{1, 2, 3}\n",
      "140628316075648\n",
      "{1, 2, 3, 4}\n",
      "140628316075648\n",
      "{1, 2, 3, 4, 5, 6}\n",
      "140628316075648\n",
      "{1, 2, 3, 4, 5, 6, 7, 8, 10, 11}\n",
      "140628316075648\n"
     ]
    }
   ],
   "source": [
    "set1 = {1, 2, 3}\n",
    "print(set1)\n",
    "print(id(set1))\n",
    "\n",
    "set1.add(4)\n",
    "print(set1)\n",
    "print(id(set1))\n",
    "\n",
    "set1.update([5, 6, 4])\n",
    "print(set1)\n",
    "print(id(set1))\n",
    "\n",
    "set1.update({7, 8, 10, 11}, [1], {3, 4})\n",
    "print(set1)\n",
    "print(id(set1))"
   ]
  },
  {
   "cell_type": "code",
   "execution_count": 91,
   "metadata": {
    "colab": {
     "base_uri": "https://localhost:8080/"
    },
    "executionInfo": {
     "elapsed": 83,
     "status": "ok",
     "timestamp": 1640796035508,
     "user": {
      "displayName": "mohammed saifuddin",
      "photoUrl": "https://lh3.googleusercontent.com/a-/AOh14GhP3jBQ5CC_BKRpIewdzluDlTD7Qni4QczrUhMV=s64",
      "userId": "16425402980535672052"
     },
     "user_tz": -330
    },
    "id": "qgqLLFqGIjNF",
    "outputId": "6e40ae85-ea6f-4bd0-fa8a-2ea203c70371"
   },
   "outputs": [
    {
     "name": "stdout",
     "output_type": "stream",
     "text": [
      "{1: 1, 2: 4, 3: 9}\n",
      "140628315412352\n",
      "{1: 1, 2: 4, 3: 9}\n",
      "140628238027136\n"
     ]
    }
   ],
   "source": [
    "dict1 = {1: 1, 2: 4, 3: 9}\n",
    "print(dict1)\n",
    "print(id(dict1))\n",
    "\n",
    "dict2 = dict1.copy()\n",
    "print(dict2)\n",
    "print(id(dict2))"
   ]
  },
  {
   "cell_type": "code",
   "execution_count": 92,
   "metadata": {
    "executionInfo": {
     "elapsed": 81,
     "status": "ok",
     "timestamp": 1640796035508,
     "user": {
      "displayName": "mohammed saifuddin",
      "photoUrl": "https://lh3.googleusercontent.com/a-/AOh14GhP3jBQ5CC_BKRpIewdzluDlTD7Qni4QczrUhMV=s64",
      "userId": "16425402980535672052"
     },
     "user_tz": -330
    },
    "id": "0bgTo0ydROba"
   },
   "outputs": [],
   "source": [
    "dict3 = dict1"
   ]
  },
  {
   "cell_type": "code",
   "execution_count": 93,
   "metadata": {
    "colab": {
     "base_uri": "https://localhost:8080/"
    },
    "executionInfo": {
     "elapsed": 81,
     "status": "ok",
     "timestamp": 1640796035509,
     "user": {
      "displayName": "mohammed saifuddin",
      "photoUrl": "https://lh3.googleusercontent.com/a-/AOh14GhP3jBQ5CC_BKRpIewdzluDlTD7Qni4QczrUhMV=s64",
      "userId": "16425402980535672052"
     },
     "user_tz": -330
    },
    "id": "jUtyBOHsRZOf",
    "outputId": "fdc0be11-63c5-4e9b-9b4a-b04292c07d13"
   },
   "outputs": [
    {
     "name": "stdout",
     "output_type": "stream",
     "text": [
      "True\n"
     ]
    }
   ],
   "source": [
    "print(dict3 is dict1)"
   ]
  },
  {
   "cell_type": "code",
   "execution_count": 94,
   "metadata": {
    "executionInfo": {
     "elapsed": 79,
     "status": "ok",
     "timestamp": 1640796035509,
     "user": {
      "displayName": "mohammed saifuddin",
      "photoUrl": "https://lh3.googleusercontent.com/a-/AOh14GhP3jBQ5CC_BKRpIewdzluDlTD7Qni4QczrUhMV=s64",
      "userId": "16425402980535672052"
     },
     "user_tz": -330
    },
    "id": "O0AfPa21Reno"
   },
   "outputs": [],
   "source": [
    "dict3[4] = 16"
   ]
  },
  {
   "cell_type": "code",
   "execution_count": 95,
   "metadata": {
    "colab": {
     "base_uri": "https://localhost:8080/"
    },
    "executionInfo": {
     "elapsed": 79,
     "status": "ok",
     "timestamp": 1640796035509,
     "user": {
      "displayName": "mohammed saifuddin",
      "photoUrl": "https://lh3.googleusercontent.com/a-/AOh14GhP3jBQ5CC_BKRpIewdzluDlTD7Qni4QczrUhMV=s64",
      "userId": "16425402980535672052"
     },
     "user_tz": -330
    },
    "id": "iMt__3pxRi2z",
    "outputId": "84950230-5986-4577-da35-fc8b3f1d3da2"
   },
   "outputs": [
    {
     "name": "stdout",
     "output_type": "stream",
     "text": [
      "{1: 1, 2: 4, 3: 9, 4: 16}\n"
     ]
    }
   ],
   "source": [
    "print(dict1)"
   ]
  },
  {
   "cell_type": "code",
   "execution_count": 96,
   "metadata": {
    "colab": {
     "base_uri": "https://localhost:8080/"
    },
    "executionInfo": {
     "elapsed": 77,
     "status": "ok",
     "timestamp": 1640796035509,
     "user": {
      "displayName": "mohammed saifuddin",
      "photoUrl": "https://lh3.googleusercontent.com/a-/AOh14GhP3jBQ5CC_BKRpIewdzluDlTD7Qni4QczrUhMV=s64",
      "userId": "16425402980535672052"
     },
     "user_tz": -330
    },
    "id": "d6-3WNWyRkL7",
    "outputId": "ab656eec-7405-450a-b3ee-9c1852144706"
   },
   "outputs": [
    {
     "name": "stdout",
     "output_type": "stream",
     "text": [
      "{1: 1, 2: 4, 3: 9, 4: 16}\n"
     ]
    }
   ],
   "source": [
    "print(dict3)"
   ]
  },
  {
   "cell_type": "code",
   "execution_count": 97,
   "metadata": {
    "colab": {
     "base_uri": "https://localhost:8080/"
    },
    "executionInfo": {
     "elapsed": 76,
     "status": "ok",
     "timestamp": 1640796035510,
     "user": {
      "displayName": "mohammed saifuddin",
      "photoUrl": "https://lh3.googleusercontent.com/a-/AOh14GhP3jBQ5CC_BKRpIewdzluDlTD7Qni4QczrUhMV=s64",
      "userId": "16425402980535672052"
     },
     "user_tz": -330
    },
    "id": "Glzs_nw_Rm45",
    "outputId": "3cb4aa1d-69d4-4727-b624-86efb8aa32eb"
   },
   "outputs": [
    {
     "name": "stdout",
     "output_type": "stream",
     "text": [
      "{1: 1, 2: 4, 3: 9}\n"
     ]
    }
   ],
   "source": [
    "print(dict2)"
   ]
  },
  {
   "cell_type": "code",
   "execution_count": 98,
   "metadata": {
    "executionInfo": {
     "elapsed": 73,
     "status": "ok",
     "timestamp": 1640796035510,
     "user": {
      "displayName": "mohammed saifuddin",
      "photoUrl": "https://lh3.googleusercontent.com/a-/AOh14GhP3jBQ5CC_BKRpIewdzluDlTD7Qni4QczrUhMV=s64",
      "userId": "16425402980535672052"
     },
     "user_tz": -330
    },
    "id": "nWkKNUuRRpuP"
   },
   "outputs": [],
   "source": [
    "x = [7]"
   ]
  },
  {
   "cell_type": "code",
   "execution_count": 99,
   "metadata": {
    "executionInfo": {
     "elapsed": 73,
     "status": "ok",
     "timestamp": 1640796035510,
     "user": {
      "displayName": "mohammed saifuddin",
      "photoUrl": "https://lh3.googleusercontent.com/a-/AOh14GhP3jBQ5CC_BKRpIewdzluDlTD7Qni4QczrUhMV=s64",
      "userId": "16425402980535672052"
     },
     "user_tz": -330
    },
    "id": "I-92l2vyUgqn"
   },
   "outputs": [],
   "source": [
    "y = [x] * 4"
   ]
  },
  {
   "cell_type": "code",
   "execution_count": 100,
   "metadata": {
    "colab": {
     "base_uri": "https://localhost:8080/"
    },
    "executionInfo": {
     "elapsed": 73,
     "status": "ok",
     "timestamp": 1640796035510,
     "user": {
      "displayName": "mohammed saifuddin",
      "photoUrl": "https://lh3.googleusercontent.com/a-/AOh14GhP3jBQ5CC_BKRpIewdzluDlTD7Qni4QczrUhMV=s64",
      "userId": "16425402980535672052"
     },
     "user_tz": -330
    },
    "id": "A8ceyxDhUjEl",
    "outputId": "ed00cc93-0d2a-46c7-90c4-28535168ce54"
   },
   "outputs": [
    {
     "data": {
      "text/plain": [
       "[[7], [7], [7], [7]]"
      ]
     },
     "execution_count": 100,
     "metadata": {},
     "output_type": "execute_result"
    }
   ],
   "source": [
    "y"
   ]
  },
  {
   "cell_type": "code",
   "execution_count": 101,
   "metadata": {
    "executionInfo": {
     "elapsed": 71,
     "status": "ok",
     "timestamp": 1640796035511,
     "user": {
      "displayName": "mohammed saifuddin",
      "photoUrl": "https://lh3.googleusercontent.com/a-/AOh14GhP3jBQ5CC_BKRpIewdzluDlTD7Qni4QczrUhMV=s64",
      "userId": "16425402980535672052"
     },
     "user_tz": -330
    },
    "id": "wC3-6CTHVtHq"
   },
   "outputs": [],
   "source": [
    "y[0][0] = 8"
   ]
  },
  {
   "cell_type": "code",
   "execution_count": 102,
   "metadata": {
    "colab": {
     "base_uri": "https://localhost:8080/"
    },
    "executionInfo": {
     "elapsed": 70,
     "status": "ok",
     "timestamp": 1640796035511,
     "user": {
      "displayName": "mohammed saifuddin",
      "photoUrl": "https://lh3.googleusercontent.com/a-/AOh14GhP3jBQ5CC_BKRpIewdzluDlTD7Qni4QczrUhMV=s64",
      "userId": "16425402980535672052"
     },
     "user_tz": -330
    },
    "id": "SzcqghXFVwiz",
    "outputId": "068be9b6-f465-4f15-f050-34b9ea4afe2c"
   },
   "outputs": [
    {
     "data": {
      "text/plain": [
       "[[8], [8], [8], [8]]"
      ]
     },
     "execution_count": 102,
     "metadata": {},
     "output_type": "execute_result"
    }
   ],
   "source": [
    "y"
   ]
  },
  {
   "cell_type": "code",
   "execution_count": 103,
   "metadata": {
    "colab": {
     "base_uri": "https://localhost:8080/"
    },
    "executionInfo": {
     "elapsed": 69,
     "status": "ok",
     "timestamp": 1640796035511,
     "user": {
      "displayName": "mohammed saifuddin",
      "photoUrl": "https://lh3.googleusercontent.com/a-/AOh14GhP3jBQ5CC_BKRpIewdzluDlTD7Qni4QczrUhMV=s64",
      "userId": "16425402980535672052"
     },
     "user_tz": -330
    },
    "id": "uiWKzj62UjtN",
    "outputId": "0d7e2621-c5b1-47e7-f3fd-e18d962e5afe"
   },
   "outputs": [
    {
     "data": {
      "text/plain": [
       "True"
      ]
     },
     "execution_count": 103,
     "metadata": {},
     "output_type": "execute_result"
    }
   ],
   "source": [
    "id(y[0]) == id(y[1]) == id(y[2]) == id(y[3])"
   ]
  },
  {
   "cell_type": "code",
   "execution_count": 104,
   "metadata": {
    "colab": {
     "base_uri": "https://localhost:8080/"
    },
    "executionInfo": {
     "elapsed": 68,
     "status": "ok",
     "timestamp": 1640796035511,
     "user": {
      "displayName": "mohammed saifuddin",
      "photoUrl": "https://lh3.googleusercontent.com/a-/AOh14GhP3jBQ5CC_BKRpIewdzluDlTD7Qni4QczrUhMV=s64",
      "userId": "16425402980535672052"
     },
     "user_tz": -330
    },
    "id": "h0t-HSsGUtVr",
    "outputId": "0f001a20-b8d6-4aa2-a7c5-31f42f579a41"
   },
   "outputs": [
    {
     "data": {
      "text/plain": [
       "{1: 3}"
      ]
     },
     "execution_count": 104,
     "metadata": {},
     "output_type": "execute_result"
    }
   ],
   "source": [
    "{1: 1, 1: 2, 1: 3}"
   ]
  },
  {
   "cell_type": "code",
   "execution_count": 105,
   "metadata": {
    "colab": {
     "base_uri": "https://localhost:8080/"
    },
    "executionInfo": {
     "elapsed": 67,
     "status": "ok",
     "timestamp": 1640796035512,
     "user": {
      "displayName": "mohammed saifuddin",
      "photoUrl": "https://lh3.googleusercontent.com/a-/AOh14GhP3jBQ5CC_BKRpIewdzluDlTD7Qni4QczrUhMV=s64",
      "userId": "16425402980535672052"
     },
     "user_tz": -330
    },
    "id": "qImzGs2sU_CY",
    "outputId": "e3276b80-8c2c-4f05-dccd-acedbf15bdc6"
   },
   "outputs": [
    {
     "name": "stdout",
     "output_type": "stream",
     "text": [
      "madam\n",
      "madam\n",
      "False\n"
     ]
    }
   ],
   "source": [
    "str1 = \"madam\"\n",
    "print(str1)\n",
    "str2 = str1[::-1]\n",
    "print(str2)\n",
    "print(str2 is str1)"
   ]
  },
  {
   "cell_type": "code",
   "execution_count": 106,
   "metadata": {
    "colab": {
     "base_uri": "https://localhost:8080/"
    },
    "executionInfo": {
     "elapsed": 64,
     "status": "ok",
     "timestamp": 1640796035512,
     "user": {
      "displayName": "mohammed saifuddin",
      "photoUrl": "https://lh3.googleusercontent.com/a-/AOh14GhP3jBQ5CC_BKRpIewdzluDlTD7Qni4QczrUhMV=s64",
      "userId": "16425402980535672052"
     },
     "user_tz": -330
    },
    "id": "p1C_jcEcbL17",
    "outputId": "6397e2da-3f58-440d-9e91-65bbc390ce66"
   },
   "outputs": [
    {
     "data": {
      "text/plain": [
       "True"
      ]
     },
     "execution_count": 106,
     "metadata": {},
     "output_type": "execute_result"
    }
   ],
   "source": [
    "str1 == str2"
   ]
  },
  {
   "cell_type": "code",
   "execution_count": 107,
   "metadata": {
    "executionInfo": {
     "elapsed": 63,
     "status": "ok",
     "timestamp": 1640796035512,
     "user": {
      "displayName": "mohammed saifuddin",
      "photoUrl": "https://lh3.googleusercontent.com/a-/AOh14GhP3jBQ5CC_BKRpIewdzluDlTD7Qni4QczrUhMV=s64",
      "userId": "16425402980535672052"
     },
     "user_tz": -330
    },
    "id": "kJpw0HP6o_iC"
   },
   "outputs": [],
   "source": [
    "def print_name(name):\n",
    "    \"\"\"\n",
    "    This funtion prints the name in title case.\n",
    "    \"\"\"\n",
    "    print(\"Hello %s\" % (name.title()))"
   ]
  },
  {
   "cell_type": "code",
   "execution_count": 108,
   "metadata": {
    "colab": {
     "base_uri": "https://localhost:8080/"
    },
    "executionInfo": {
     "elapsed": 63,
     "status": "ok",
     "timestamp": 1640796035512,
     "user": {
      "displayName": "mohammed saifuddin",
      "photoUrl": "https://lh3.googleusercontent.com/a-/AOh14GhP3jBQ5CC_BKRpIewdzluDlTD7Qni4QczrUhMV=s64",
      "userId": "16425402980535672052"
     },
     "user_tz": -330
    },
    "id": "hVhSUZHnoYC7",
    "outputId": "ca8a1e5f-46bd-4d74-d186-f103fcde8da5"
   },
   "outputs": [
    {
     "name": "stdout",
     "output_type": "stream",
     "text": [
      "Hello Saif Is Batman!\n",
      "Hello Saif\n",
      "Hello Saif\n"
     ]
    }
   ],
   "source": [
    "print_name(\"saif is batman!\")\n",
    "print_name(\"SAIF\")\n",
    "print_name(\"saif\")"
   ]
  },
  {
   "cell_type": "code",
   "execution_count": 109,
   "metadata": {
    "colab": {
     "base_uri": "https://localhost:8080/"
    },
    "executionInfo": {
     "elapsed": 62,
     "status": "ok",
     "timestamp": 1640796035513,
     "user": {
      "displayName": "mohammed saifuddin",
      "photoUrl": "https://lh3.googleusercontent.com/a-/AOh14GhP3jBQ5CC_BKRpIewdzluDlTD7Qni4QczrUhMV=s64",
      "userId": "16425402980535672052"
     },
     "user_tz": -330
    },
    "id": "jrgTCvCJo3G3",
    "outputId": "39b54138-2dfc-4b7f-d01a-d3912ae13dd4"
   },
   "outputs": [
    {
     "name": "stdout",
     "output_type": "stream",
     "text": [
      "\n",
      "    This funtion prints the name in title case.\n",
      "    \n"
     ]
    }
   ],
   "source": [
    "print(print_name.__doc__)"
   ]
  },
  {
   "cell_type": "code",
   "execution_count": 110,
   "metadata": {
    "colab": {
     "base_uri": "https://localhost:8080/"
    },
    "executionInfo": {
     "elapsed": 60,
     "status": "ok",
     "timestamp": 1640796035513,
     "user": {
      "displayName": "mohammed saifuddin",
      "photoUrl": "https://lh3.googleusercontent.com/a-/AOh14GhP3jBQ5CC_BKRpIewdzluDlTD7Qni4QczrUhMV=s64",
      "userId": "16425402980535672052"
     },
     "user_tz": -330
    },
    "id": "HxMKQdsfob4s",
    "outputId": "d7d41a28-bcfd-4ae1-9333-684456d7fc8b"
   },
   "outputs": [
    {
     "data": {
      "text/plain": [
       "['__annotations__',\n",
       " '__builtins__',\n",
       " '__call__',\n",
       " '__class__',\n",
       " '__closure__',\n",
       " '__code__',\n",
       " '__defaults__',\n",
       " '__delattr__',\n",
       " '__dict__',\n",
       " '__dir__',\n",
       " '__doc__',\n",
       " '__eq__',\n",
       " '__format__',\n",
       " '__ge__',\n",
       " '__get__',\n",
       " '__getattribute__',\n",
       " '__globals__',\n",
       " '__gt__',\n",
       " '__hash__',\n",
       " '__init__',\n",
       " '__init_subclass__',\n",
       " '__kwdefaults__',\n",
       " '__le__',\n",
       " '__lt__',\n",
       " '__module__',\n",
       " '__name__',\n",
       " '__ne__',\n",
       " '__new__',\n",
       " '__qualname__',\n",
       " '__reduce__',\n",
       " '__reduce_ex__',\n",
       " '__repr__',\n",
       " '__setattr__',\n",
       " '__sizeof__',\n",
       " '__str__',\n",
       " '__subclasshook__']"
      ]
     },
     "execution_count": 110,
     "metadata": {},
     "output_type": "execute_result"
    }
   ],
   "source": [
    "dir(print_name)"
   ]
  },
  {
   "cell_type": "code",
   "execution_count": 111,
   "metadata": {
    "executionInfo": {
     "elapsed": 57,
     "status": "ok",
     "timestamp": 1640796035513,
     "user": {
      "displayName": "mohammed saifuddin",
      "photoUrl": "https://lh3.googleusercontent.com/a-/AOh14GhP3jBQ5CC_BKRpIewdzluDlTD7Qni4QczrUhMV=s64",
      "userId": "16425402980535672052"
     },
     "user_tz": -330
    },
    "id": "NDho80dzoe9k"
   },
   "outputs": [],
   "source": [
    "def computeHCF(a, b):\n",
    "    \"\"\"\n",
    "    This function computes HCF of given two numbers.\n",
    "    \"\"\"\n",
    "    smaller = b if a > b else a\n",
    "    hcf = 1\n",
    "    for i in range(1, smaller+1):\n",
    "        if (a % i == 0) and (b % i == 0):\n",
    "            hcf = i\n",
    "    return hcf"
   ]
  },
  {
   "cell_type": "code",
   "execution_count": 112,
   "metadata": {
    "colab": {
     "base_uri": "https://localhost:8080/"
    },
    "executionInfo": {
     "elapsed": 57,
     "status": "ok",
     "timestamp": 1640796035513,
     "user": {
      "displayName": "mohammed saifuddin",
      "photoUrl": "https://lh3.googleusercontent.com/a-/AOh14GhP3jBQ5CC_BKRpIewdzluDlTD7Qni4QczrUhMV=s64",
      "userId": "16425402980535672052"
     },
     "user_tz": -330
    },
    "id": "2L2MtT3mtC5u",
    "outputId": "e27acd1d-7be5-4c03-d3c3-5e44e11ee81e"
   },
   "outputs": [
    {
     "data": {
      "text/plain": [
       "45"
      ]
     },
     "execution_count": 112,
     "metadata": {},
     "output_type": "execute_result"
    }
   ],
   "source": [
    "computeHCF(45, 90)"
   ]
  },
  {
   "cell_type": "code",
   "execution_count": 113,
   "metadata": {
    "colab": {
     "base_uri": "https://localhost:8080/"
    },
    "executionInfo": {
     "elapsed": 55,
     "status": "ok",
     "timestamp": 1640796035514,
     "user": {
      "displayName": "mohammed saifuddin",
      "photoUrl": "https://lh3.googleusercontent.com/a-/AOh14GhP3jBQ5CC_BKRpIewdzluDlTD7Qni4QczrUhMV=s64",
      "userId": "16425402980535672052"
     },
     "user_tz": -330
    },
    "id": "sM-WDBSjtHdl",
    "outputId": "44bf7f8e-58e6-4192-c031-cb51e12a00a6"
   },
   "outputs": [
    {
     "name": "stdout",
     "output_type": "stream",
     "text": [
      "Help on built-in function all in module builtins:\n",
      "\n",
      "all(iterable, /)\n",
      "    Return True if bool(x) is True for all values x in the iterable.\n",
      "    \n",
      "    If the iterable is empty, return True.\n",
      "\n"
     ]
    }
   ],
   "source": [
    "help(all)"
   ]
  },
  {
   "cell_type": "code",
   "execution_count": 114,
   "metadata": {
    "colab": {
     "base_uri": "https://localhost:8080/"
    },
    "executionInfo": {
     "elapsed": 54,
     "status": "ok",
     "timestamp": 1640796035514,
     "user": {
      "displayName": "mohammed saifuddin",
      "photoUrl": "https://lh3.googleusercontent.com/a-/AOh14GhP3jBQ5CC_BKRpIewdzluDlTD7Qni4QczrUhMV=s64",
      "userId": "16425402980535672052"
     },
     "user_tz": -330
    },
    "id": "9hvqMVJwtuCa",
    "outputId": "1729fd57-57eb-4e87-988a-719a5fc45051"
   },
   "outputs": [
    {
     "data": {
      "text/plain": [
       "True"
      ]
     },
     "execution_count": 114,
     "metadata": {},
     "output_type": "execute_result"
    }
   ],
   "source": [
    "all([1, 2, 3, 4, 5, 6])"
   ]
  },
  {
   "cell_type": "code",
   "execution_count": 115,
   "metadata": {
    "colab": {
     "base_uri": "https://localhost:8080/"
    },
    "executionInfo": {
     "elapsed": 52,
     "status": "ok",
     "timestamp": 1640796035514,
     "user": {
      "displayName": "mohammed saifuddin",
      "photoUrl": "https://lh3.googleusercontent.com/a-/AOh14GhP3jBQ5CC_BKRpIewdzluDlTD7Qni4QczrUhMV=s64",
      "userId": "16425402980535672052"
     },
     "user_tz": -330
    },
    "id": "WUG7xftNt0sK",
    "outputId": "70966400-e800-4978-eed3-64229ee084d3"
   },
   "outputs": [
    {
     "data": {
      "text/plain": [
       "['__and__',\n",
       " '__class__',\n",
       " '__class_getitem__',\n",
       " '__contains__',\n",
       " '__delattr__',\n",
       " '__dir__',\n",
       " '__doc__',\n",
       " '__eq__',\n",
       " '__format__',\n",
       " '__ge__',\n",
       " '__getattribute__',\n",
       " '__gt__',\n",
       " '__hash__',\n",
       " '__iand__',\n",
       " '__init__',\n",
       " '__init_subclass__',\n",
       " '__ior__',\n",
       " '__isub__',\n",
       " '__iter__',\n",
       " '__ixor__',\n",
       " '__le__',\n",
       " '__len__',\n",
       " '__lt__',\n",
       " '__ne__',\n",
       " '__new__',\n",
       " '__or__',\n",
       " '__rand__',\n",
       " '__reduce__',\n",
       " '__reduce_ex__',\n",
       " '__repr__',\n",
       " '__ror__',\n",
       " '__rsub__',\n",
       " '__rxor__',\n",
       " '__setattr__',\n",
       " '__sizeof__',\n",
       " '__str__',\n",
       " '__sub__',\n",
       " '__subclasshook__',\n",
       " '__xor__',\n",
       " 'add',\n",
       " 'clear',\n",
       " 'copy',\n",
       " 'difference',\n",
       " 'difference_update',\n",
       " 'discard',\n",
       " 'intersection',\n",
       " 'intersection_update',\n",
       " 'isdisjoint',\n",
       " 'issubset',\n",
       " 'issuperset',\n",
       " 'pop',\n",
       " 'remove',\n",
       " 'symmetric_difference',\n",
       " 'symmetric_difference_update',\n",
       " 'union',\n",
       " 'update']"
      ]
     },
     "execution_count": 115,
     "metadata": {},
     "output_type": "execute_result"
    }
   ],
   "source": [
    "dir(set)"
   ]
  },
  {
   "cell_type": "code",
   "execution_count": 116,
   "metadata": {
    "colab": {
     "base_uri": "https://localhost:8080/"
    },
    "executionInfo": {
     "elapsed": 50,
     "status": "ok",
     "timestamp": 1640796035514,
     "user": {
      "displayName": "mohammed saifuddin",
      "photoUrl": "https://lh3.googleusercontent.com/a-/AOh14GhP3jBQ5CC_BKRpIewdzluDlTD7Qni4QczrUhMV=s64",
      "userId": "16425402980535672052"
     },
     "user_tz": -330
    },
    "id": "XD48K7fCyQvZ",
    "outputId": "08685b7b-2b3d-4338-8517-9e788343f589"
   },
   "outputs": [
    {
     "name": "stdout",
     "output_type": "stream",
     "text": [
      "1\n",
      "2\n",
      "3\n",
      "100\n"
     ]
    }
   ],
   "source": [
    "for i in {1, 2, 3, 100}:\n",
    "    print(i)"
   ]
  },
  {
   "cell_type": "code",
   "execution_count": 117,
   "metadata": {
    "colab": {
     "base_uri": "https://localhost:8080/"
    },
    "executionInfo": {
     "elapsed": 48,
     "status": "ok",
     "timestamp": 1640796035515,
     "user": {
      "displayName": "mohammed saifuddin",
      "photoUrl": "https://lh3.googleusercontent.com/a-/AOh14GhP3jBQ5CC_BKRpIewdzluDlTD7Qni4QczrUhMV=s64",
      "userId": "16425402980535672052"
     },
     "user_tz": -330
    },
    "id": "NIu8wIufyWyO",
    "outputId": "3da6af9e-b674-4c25-b467-4219847cfd23"
   },
   "outputs": [
    {
     "name": "stdout",
     "output_type": "stream",
     "text": [
      "s\n"
     ]
    }
   ],
   "source": [
    "if \"s\":\n",
    "    print(\"s\")"
   ]
  },
  {
   "cell_type": "code",
   "execution_count": 118,
   "metadata": {
    "colab": {
     "base_uri": "https://localhost:8080/"
    },
    "executionInfo": {
     "elapsed": 48,
     "status": "ok",
     "timestamp": 1640796035516,
     "user": {
      "displayName": "mohammed saifuddin",
      "photoUrl": "https://lh3.googleusercontent.com/a-/AOh14GhP3jBQ5CC_BKRpIewdzluDlTD7Qni4QczrUhMV=s64",
      "userId": "16425402980535672052"
     },
     "user_tz": -330
    },
    "id": "StddXHPuy0Ts",
    "outputId": "bd5596e2-a8c7-4a91-a38d-a7422720cf44"
   },
   "outputs": [
    {
     "data": {
      "text/plain": [
       "140628388200816"
      ]
     },
     "execution_count": 118,
     "metadata": {},
     "output_type": "execute_result"
    }
   ],
   "source": [
    "a = 5\n",
    "id(a)"
   ]
  },
  {
   "cell_type": "code",
   "execution_count": 119,
   "metadata": {
    "executionInfo": {
     "elapsed": 46,
     "status": "ok",
     "timestamp": 1640796035516,
     "user": {
      "displayName": "mohammed saifuddin",
      "photoUrl": "https://lh3.googleusercontent.com/a-/AOh14GhP3jBQ5CC_BKRpIewdzluDlTD7Qni4QczrUhMV=s64",
      "userId": "16425402980535672052"
     },
     "user_tz": -330
    },
    "id": "1h8I9YYUznft"
   },
   "outputs": [],
   "source": [
    "b = a"
   ]
  },
  {
   "cell_type": "code",
   "execution_count": 120,
   "metadata": {
    "colab": {
     "base_uri": "https://localhost:8080/"
    },
    "executionInfo": {
     "elapsed": 46,
     "status": "ok",
     "timestamp": 1640796035516,
     "user": {
      "displayName": "mohammed saifuddin",
      "photoUrl": "https://lh3.googleusercontent.com/a-/AOh14GhP3jBQ5CC_BKRpIewdzluDlTD7Qni4QczrUhMV=s64",
      "userId": "16425402980535672052"
     },
     "user_tz": -330
    },
    "id": "aidbbTbyzo6G",
    "outputId": "6503b14f-ac41-4857-fc34-9cd2d3462b4e"
   },
   "outputs": [
    {
     "data": {
      "text/plain": [
       "140628388200816"
      ]
     },
     "execution_count": 120,
     "metadata": {},
     "output_type": "execute_result"
    }
   ],
   "source": [
    "id(b)"
   ]
  },
  {
   "cell_type": "code",
   "execution_count": 121,
   "metadata": {
    "executionInfo": {
     "elapsed": 43,
     "status": "ok",
     "timestamp": 1640796035516,
     "user": {
      "displayName": "mohammed saifuddin",
      "photoUrl": "https://lh3.googleusercontent.com/a-/AOh14GhP3jBQ5CC_BKRpIewdzluDlTD7Qni4QczrUhMV=s64",
      "userId": "16425402980535672052"
     },
     "user_tz": -330
    },
    "id": "UgY1_XZXzqVJ"
   },
   "outputs": [],
   "source": [
    "b = 6"
   ]
  },
  {
   "cell_type": "code",
   "execution_count": 122,
   "metadata": {
    "colab": {
     "base_uri": "https://localhost:8080/"
    },
    "executionInfo": {
     "elapsed": 44,
     "status": "ok",
     "timestamp": 1640796035517,
     "user": {
      "displayName": "mohammed saifuddin",
      "photoUrl": "https://lh3.googleusercontent.com/a-/AOh14GhP3jBQ5CC_BKRpIewdzluDlTD7Qni4QczrUhMV=s64",
      "userId": "16425402980535672052"
     },
     "user_tz": -330
    },
    "id": "FCZYibq1zwWw",
    "outputId": "35d8fa96-ad4c-450a-df94-f50aecb37eb0"
   },
   "outputs": [
    {
     "data": {
      "text/plain": [
       "5"
      ]
     },
     "execution_count": 122,
     "metadata": {},
     "output_type": "execute_result"
    }
   ],
   "source": [
    "a"
   ]
  },
  {
   "cell_type": "code",
   "execution_count": 123,
   "metadata": {
    "colab": {
     "base_uri": "https://localhost:8080/"
    },
    "executionInfo": {
     "elapsed": 42,
     "status": "ok",
     "timestamp": 1640796035517,
     "user": {
      "displayName": "mohammed saifuddin",
      "photoUrl": "https://lh3.googleusercontent.com/a-/AOh14GhP3jBQ5CC_BKRpIewdzluDlTD7Qni4QczrUhMV=s64",
      "userId": "16425402980535672052"
     },
     "user_tz": -330
    },
    "id": "q2mvteoQzxBI",
    "outputId": "2eb6823a-c0c1-4ba2-ef9d-887ab54125ab"
   },
   "outputs": [
    {
     "name": "stdout",
     "output_type": "stream",
     "text": [
      "Help on class filter in module builtins:\n",
      "\n",
      "class filter(object)\n",
      " |  filter(function or None, iterable) --> filter object\n",
      " |  \n",
      " |  Return an iterator yielding those items of iterable for which function(item)\n",
      " |  is true. If function is None, return the items that are true.\n",
      " |  \n",
      " |  Methods defined here:\n",
      " |  \n",
      " |  __getattribute__(self, name, /)\n",
      " |      Return getattr(self, name).\n",
      " |  \n",
      " |  __iter__(self, /)\n",
      " |      Implement iter(self).\n",
      " |  \n",
      " |  __next__(self, /)\n",
      " |      Implement next(self).\n",
      " |  \n",
      " |  __reduce__(...)\n",
      " |      Return state information for pickling.\n",
      " |  \n",
      " |  ----------------------------------------------------------------------\n",
      " |  Static methods defined here:\n",
      " |  \n",
      " |  __new__(*args, **kwargs) from builtins.type\n",
      " |      Create and return a new object.  See help(type) for accurate signature.\n",
      "\n"
     ]
    }
   ],
   "source": [
    "help(filter)"
   ]
  },
  {
   "cell_type": "code",
   "execution_count": 124,
   "metadata": {
    "executionInfo": {
     "elapsed": 39,
     "status": "ok",
     "timestamp": 1640796035517,
     "user": {
      "displayName": "mohammed saifuddin",
      "photoUrl": "https://lh3.googleusercontent.com/a-/AOh14GhP3jBQ5CC_BKRpIewdzluDlTD7Qni4QczrUhMV=s64",
      "userId": "16425402980535672052"
     },
     "user_tz": -330
    },
    "id": "hXmqr5Dy1Hni"
   },
   "outputs": [],
   "source": [
    "def find_positives(num):\n",
    "    \"\"\"\n",
    "    This function returns a number if the given number is positive.\n",
    "    \"\"\"\n",
    "    if num > 0:\n",
    "        return num"
   ]
  },
  {
   "cell_type": "code",
   "execution_count": 125,
   "metadata": {
    "colab": {
     "base_uri": "https://localhost:8080/"
    },
    "executionInfo": {
     "elapsed": 39,
     "status": "ok",
     "timestamp": 1640796035518,
     "user": {
      "displayName": "mohammed saifuddin",
      "photoUrl": "https://lh3.googleusercontent.com/a-/AOh14GhP3jBQ5CC_BKRpIewdzluDlTD7Qni4QczrUhMV=s64",
      "userId": "16425402980535672052"
     },
     "user_tz": -330
    },
    "id": "6gI2Zi251tv7",
    "outputId": "04543bde-66d2-4261-f517-2227c4f52595"
   },
   "outputs": [
    {
     "data": {
      "text/plain": [
       "[-10, -9, -8, -7, -6, -5, -4, -3, -2, -1, 0, 1, 2, 3, 4, 5, 6, 7, 8, 9]"
      ]
     },
     "execution_count": 125,
     "metadata": {},
     "output_type": "execute_result"
    }
   ],
   "source": [
    "number_list = range(-10, 10)\n",
    "list(number_list)"
   ]
  },
  {
   "cell_type": "code",
   "execution_count": 126,
   "metadata": {
    "colab": {
     "base_uri": "https://localhost:8080/"
    },
    "executionInfo": {
     "elapsed": 37,
     "status": "ok",
     "timestamp": 1640796035518,
     "user": {
      "displayName": "mohammed saifuddin",
      "photoUrl": "https://lh3.googleusercontent.com/a-/AOh14GhP3jBQ5CC_BKRpIewdzluDlTD7Qni4QczrUhMV=s64",
      "userId": "16425402980535672052"
     },
     "user_tz": -330
    },
    "id": "YT2Ayncs10NL",
    "outputId": "01944d2a-d3ed-4c3f-b52d-78925016f765"
   },
   "outputs": [
    {
     "data": {
      "text/plain": [
       "[1, 2, 3, 4, 5, 6, 7, 8, 9]"
      ]
     },
     "execution_count": 126,
     "metadata": {},
     "output_type": "execute_result"
    }
   ],
   "source": [
    "positives = list(filter(find_positives, number_list))\n",
    "positives"
   ]
  },
  {
   "cell_type": "code",
   "execution_count": 127,
   "metadata": {
    "executionInfo": {
     "elapsed": 35,
     "status": "ok",
     "timestamp": 1640796035518,
     "user": {
      "displayName": "mohammed saifuddin",
      "photoUrl": "https://lh3.googleusercontent.com/a-/AOh14GhP3jBQ5CC_BKRpIewdzluDlTD7Qni4QczrUhMV=s64",
      "userId": "16425402980535672052"
     },
     "user_tz": -330
    },
    "id": "DkG7VUJr2KHg"
   },
   "outputs": [],
   "source": [
    "def power_of_two(num):\n",
    "    \"\"\"\n",
    "    This function returns a square of the given number.\n",
    "    \"\"\"\n",
    "    if num >= 2:\n",
    "        return num ** 2"
   ]
  },
  {
   "cell_type": "code",
   "execution_count": 128,
   "metadata": {
    "colab": {
     "base_uri": "https://localhost:8080/"
    },
    "executionInfo": {
     "elapsed": 35,
     "status": "ok",
     "timestamp": 1640796035518,
     "user": {
      "displayName": "mohammed saifuddin",
      "photoUrl": "https://lh3.googleusercontent.com/a-/AOh14GhP3jBQ5CC_BKRpIewdzluDlTD7Qni4QczrUhMV=s64",
      "userId": "16425402980535672052"
     },
     "user_tz": -330
    },
    "id": "XDO8mtmG8uuu",
    "outputId": "acdcc383-13e7-488b-f672-ea35b8f0ccd5"
   },
   "outputs": [
    {
     "data": {
      "text/plain": [
       "[2, 3, 4, 5, 6, 7, 8, 9]"
      ]
     },
     "execution_count": 128,
     "metadata": {},
     "output_type": "execute_result"
    }
   ],
   "source": [
    "number_list = range(-10, 10)\n",
    "squares = list(filter(power_of_two, number_list))\n",
    "squares"
   ]
  },
  {
   "cell_type": "code",
   "execution_count": 129,
   "metadata": {
    "colab": {
     "base_uri": "https://localhost:8080/"
    },
    "executionInfo": {
     "elapsed": 33,
     "status": "ok",
     "timestamp": 1640796035519,
     "user": {
      "displayName": "mohammed saifuddin",
      "photoUrl": "https://lh3.googleusercontent.com/a-/AOh14GhP3jBQ5CC_BKRpIewdzluDlTD7Qni4QczrUhMV=s64",
      "userId": "16425402980535672052"
     },
     "user_tz": -330
    },
    "id": "xCDWktu93bBU",
    "outputId": "32a07842-11a5-4250-c46a-25fd5a7e08be"
   },
   "outputs": [
    {
     "data": {
      "text/plain": [
       "[None,\n",
       " None,\n",
       " None,\n",
       " None,\n",
       " None,\n",
       " None,\n",
       " None,\n",
       " None,\n",
       " None,\n",
       " None,\n",
       " None,\n",
       " None,\n",
       " 4,\n",
       " 9,\n",
       " 16,\n",
       " 25,\n",
       " 36,\n",
       " 49,\n",
       " 64,\n",
       " 81]"
      ]
     },
     "execution_count": 129,
     "metadata": {},
     "output_type": "execute_result"
    }
   ],
   "source": [
    "number_list = range(-10, 10)\n",
    "squares = list(map(power_of_two, number_list))\n",
    "squares"
   ]
  },
  {
   "cell_type": "code",
   "execution_count": 130,
   "metadata": {
    "colab": {
     "base_uri": "https://localhost:8080/"
    },
    "executionInfo": {
     "elapsed": 32,
     "status": "ok",
     "timestamp": 1640796035519,
     "user": {
      "displayName": "mohammed saifuddin",
      "photoUrl": "https://lh3.googleusercontent.com/a-/AOh14GhP3jBQ5CC_BKRpIewdzluDlTD7Qni4QczrUhMV=s64",
      "userId": "16425402980535672052"
     },
     "user_tz": -330
    },
    "id": "_d3XwbzW3rY6",
    "outputId": "3ce5df5a-8267-4ed3-f173-96f738b733a4"
   },
   "outputs": [
    {
     "data": {
      "text/plain": [
       "(-10, -9, -8, -7, -6, -5, -4, -3, -2, -1, 0, 1, 2, 3, 4, 5, 6, 7, 8, 9)"
      ]
     },
     "execution_count": 130,
     "metadata": {},
     "output_type": "execute_result"
    }
   ],
   "source": [
    "tuple(range(-10, 10))"
   ]
  },
  {
   "cell_type": "code",
   "execution_count": 131,
   "metadata": {
    "colab": {
     "base_uri": "https://localhost:8080/"
    },
    "executionInfo": {
     "elapsed": 29,
     "status": "ok",
     "timestamp": 1640796035519,
     "user": {
      "displayName": "mohammed saifuddin",
      "photoUrl": "https://lh3.googleusercontent.com/a-/AOh14GhP3jBQ5CC_BKRpIewdzluDlTD7Qni4QczrUhMV=s64",
      "userId": "16425402980535672052"
     },
     "user_tz": -330
    },
    "id": "Nh-i1b6e4Uyj",
    "outputId": "ad83da17-130a-4580-e8f4-fbce93febbd6"
   },
   "outputs": [
    {
     "data": {
      "text/plain": [
       "[2, 3, 4, 5, 6, 7, 8, 9]"
      ]
     },
     "execution_count": 131,
     "metadata": {},
     "output_type": "execute_result"
    }
   ],
   "source": [
    "list(filter(power_of_two, number_list))"
   ]
  },
  {
   "cell_type": "code",
   "execution_count": 132,
   "metadata": {
    "colab": {
     "base_uri": "https://localhost:8080/"
    },
    "executionInfo": {
     "elapsed": 28,
     "status": "ok",
     "timestamp": 1640796035519,
     "user": {
      "displayName": "mohammed saifuddin",
      "photoUrl": "https://lh3.googleusercontent.com/a-/AOh14GhP3jBQ5CC_BKRpIewdzluDlTD7Qni4QczrUhMV=s64",
      "userId": "16425402980535672052"
     },
     "user_tz": -330
    },
    "id": "cumdKJ_j6TwK",
    "outputId": "fe36f778-2a1f-43f5-e8db-fcd07c8658fd"
   },
   "outputs": [
    {
     "data": {
      "text/plain": [
       "[4, 9, 16, 25, 36, 49, 64, 81]"
      ]
     },
     "execution_count": 132,
     "metadata": {},
     "output_type": "execute_result"
    }
   ],
   "source": [
    "list(map(power_of_two, filter(power_of_two, number_list)))"
   ]
  },
  {
   "cell_type": "code",
   "execution_count": 133,
   "metadata": {
    "executionInfo": {
     "elapsed": 6,
     "status": "ok",
     "timestamp": 1640796291519,
     "user": {
      "displayName": "mohammed saifuddin",
      "photoUrl": "https://lh3.googleusercontent.com/a-/AOh14GhP3jBQ5CC_BKRpIewdzluDlTD7Qni4QczrUhMV=s64",
      "userId": "16425402980535672052"
     },
     "user_tz": -330
    },
    "id": "WkS2EKeA68lM"
   },
   "outputs": [],
   "source": [
    "def greet(**saif):\n",
    "    if saif:\n",
    "        print(\"Hello {0}, {1}!\".format(saif['name'], saif['msg']))"
   ]
  },
  {
   "cell_type": "code",
   "execution_count": 134,
   "metadata": {
    "colab": {
     "base_uri": "https://localhost:8080/"
    },
    "executionInfo": {
     "elapsed": 2,
     "status": "ok",
     "timestamp": 1640796292232,
     "user": {
      "displayName": "mohammed saifuddin",
      "photoUrl": "https://lh3.googleusercontent.com/a-/AOh14GhP3jBQ5CC_BKRpIewdzluDlTD7Qni4QczrUhMV=s64",
      "userId": "16425402980535672052"
     },
     "user_tz": -330
    },
    "id": "76_MY7C4D6v5",
    "outputId": "d208abd6-1497-4814-c56d-b23d77da9de6"
   },
   "outputs": [
    {
     "name": "stdout",
     "output_type": "stream",
     "text": [
      "Hello Saif, die!\n"
     ]
    }
   ],
   "source": [
    "greet(name='Saif', msg='die')"
   ]
  },
  {
   "cell_type": "code",
   "execution_count": 135,
   "metadata": {
    "executionInfo": {
     "elapsed": 822,
     "status": "ok",
     "timestamp": 1640796296434,
     "user": {
      "displayName": "mohammed saifuddin",
      "photoUrl": "https://lh3.googleusercontent.com/a-/AOh14GhP3jBQ5CC_BKRpIewdzluDlTD7Qni4QczrUhMV=s64",
      "userId": "16425402980535672052"
     },
     "user_tz": -330
    },
    "id": "lfnga43uEaIR"
   },
   "outputs": [],
   "source": [
    "greet()"
   ]
  },
  {
   "cell_type": "code",
   "execution_count": 136,
   "metadata": {
    "colab": {
     "base_uri": "https://localhost:8080/"
    },
    "executionInfo": {
     "elapsed": 4,
     "status": "ok",
     "timestamp": 1640796298894,
     "user": {
      "displayName": "mohammed saifuddin",
      "photoUrl": "https://lh3.googleusercontent.com/a-/AOh14GhP3jBQ5CC_BKRpIewdzluDlTD7Qni4QczrUhMV=s64",
      "userId": "16425402980535672052"
     },
     "user_tz": -330
    },
    "id": "zZV9IhsoEzMt",
    "outputId": "77e5d186-d8d4-457d-f8de-c68c1928c1b9"
   },
   "outputs": [
    {
     "name": "stdout",
     "output_type": "stream",
     "text": [
      "Hello Saif, die!\n"
     ]
    }
   ],
   "source": [
    "greet(name='Saif', msg='die', please='please')"
   ]
  },
  {
   "cell_type": "code",
   "execution_count": 137,
   "metadata": {
    "colab": {
     "base_uri": "https://localhost:8080/"
    },
    "executionInfo": {
     "elapsed": 603,
     "status": "ok",
     "timestamp": 1640799011376,
     "user": {
      "displayName": "mohammed saifuddin",
      "photoUrl": "https://lh3.googleusercontent.com/a-/AOh14GhP3jBQ5CC_BKRpIewdzluDlTD7Qni4QczrUhMV=s64",
      "userId": "16425402980535672052"
     },
     "user_tz": -330
    },
    "id": "VPPozVoZE9V6",
    "outputId": "6eab4d56-5bd8-4973-fd45-0aff8270190f"
   },
   "outputs": [
    {
     "data": {
      "text/plain": [
       "[1, 2, 3]"
      ]
     },
     "execution_count": 137,
     "metadata": {},
     "output_type": "execute_result"
    }
   ],
   "source": [
    "list(filter(lambda x: x > 0, [1, 2, 3, -9]))"
   ]
  },
  {
   "cell_type": "code",
   "execution_count": 138,
   "metadata": {
    "colab": {
     "base_uri": "https://localhost:8080/"
    },
    "executionInfo": {
     "elapsed": 483,
     "status": "ok",
     "timestamp": 1640799138944,
     "user": {
      "displayName": "mohammed saifuddin",
      "photoUrl": "https://lh3.googleusercontent.com/a-/AOh14GhP3jBQ5CC_BKRpIewdzluDlTD7Qni4QczrUhMV=s64",
      "userId": "16425402980535672052"
     },
     "user_tz": -330
    },
    "id": "NihbmzF1PO8W",
    "outputId": "87517956-2888-4fc8-f53b-5d24710057e6"
   },
   "outputs": [
    {
     "data": {
      "text/plain": [
       "[1, 4, 9]"
      ]
     },
     "execution_count": 138,
     "metadata": {},
     "output_type": "execute_result"
    }
   ],
   "source": [
    "list(map(lambda x: x**2, [1, 2, -3]))"
   ]
  },
  {
   "cell_type": "code",
   "execution_count": 139,
   "metadata": {
    "colab": {
     "base_uri": "https://localhost:8080/"
    },
    "executionInfo": {
     "elapsed": 804,
     "status": "ok",
     "timestamp": 1640800046439,
     "user": {
      "displayName": "mohammed saifuddin",
      "photoUrl": "https://lh3.googleusercontent.com/a-/AOh14GhP3jBQ5CC_BKRpIewdzluDlTD7Qni4QczrUhMV=s64",
      "userId": "16425402980535672052"
     },
     "user_tz": -330
    },
    "id": "iCAE1OMdPmgR",
    "outputId": "733012db-f1bd-4a14-f7f5-6b04e19a21fd"
   },
   "outputs": [
    {
     "data": {
      "text/plain": [
       "[4, 5]"
      ]
     },
     "execution_count": 139,
     "metadata": {},
     "output_type": "execute_result"
    }
   ],
   "source": [
    "list(map(int, '45'))"
   ]
  },
  {
   "cell_type": "code",
   "execution_count": 140,
   "metadata": {
    "id": "tCDGTfppTtJf"
   },
   "outputs": [
    {
     "name": "stdout",
     "output_type": "stream",
     "text": [
      "Hello World!\n"
     ]
    }
   ],
   "source": [
    "print(\"Hello World!\")"
   ]
  },
  {
   "cell_type": "code",
   "execution_count": 141,
   "metadata": {},
   "outputs": [],
   "source": [
    "def seq1(n):\n",
    "    for i in range(n):\n",
    "        print(\"{} --> {}\".format(i, id(i)))\n",
    "    return None"
   ]
  },
  {
   "cell_type": "code",
   "execution_count": 142,
   "metadata": {},
   "outputs": [
    {
     "name": "stdout",
     "output_type": "stream",
     "text": [
      "0 --> 140628388200656\n",
      "1 --> 140628388200688\n",
      "2 --> 140628388200720\n",
      "3 --> 140628388200752\n",
      "4 --> 140628388200784\n"
     ]
    }
   ],
   "source": [
    "seq1(5)"
   ]
  },
  {
   "cell_type": "code",
   "execution_count": 143,
   "metadata": {},
   "outputs": [],
   "source": [
    "import pdb\n",
    "\n",
    "def seq2(n):\n",
    "    for i in range(n):\n",
    "        pdb.set_trace()\n",
    "        print(\"{} --> {}\".format(i, id(i)))\n",
    "    return None"
   ]
  },
  {
   "cell_type": "code",
   "execution_count": 144,
   "metadata": {},
   "outputs": [],
   "source": [
    "# seq2(10)"
   ]
  },
  {
   "cell_type": "code",
   "execution_count": null,
   "metadata": {},
   "outputs": [],
   "source": []
  }
 ],
 "metadata": {
  "colab": {
   "authorship_tag": "ABX9TyNxW8C8DUyG8UadEA1ANLva",
   "collapsed_sections": [],
   "name": "M1_Class.ipynb",
   "provenance": []
  },
  "kernelspec": {
   "display_name": "Python 3 (ipykernel)",
   "language": "python",
   "name": "python3"
  },
  "language_info": {
   "codemirror_mode": {
    "name": "ipython",
    "version": 3
   },
   "file_extension": ".py",
   "mimetype": "text/x-python",
   "name": "python",
   "nbconvert_exporter": "python",
   "pygments_lexer": "ipython3",
   "version": "3.10.2"
  }
 },
 "nbformat": 4,
 "nbformat_minor": 1
}
