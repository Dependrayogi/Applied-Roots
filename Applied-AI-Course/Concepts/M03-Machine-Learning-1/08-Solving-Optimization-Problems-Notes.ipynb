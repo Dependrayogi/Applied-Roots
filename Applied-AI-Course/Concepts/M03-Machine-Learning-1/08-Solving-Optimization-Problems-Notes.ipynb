{
 "cells": [
  {
   "cell_type": "markdown",
   "id": "a3ce854b",
   "metadata": {},
   "source": [
    "__Differentiation__\n",
    "\n",
    "![](https://user-images.githubusercontent.com/63338657/168795290-df4cf183-3276-4b60-add8-0c49d596d508.png)\n",
    "\n",
    "![](https://user-images.githubusercontent.com/63338657/168796056-c3292f99-b081-4471-a473-c9a84f39365d.png)\n",
    "\n",
    "![](https://user-images.githubusercontent.com/63338657/168797137-e8edb17a-cdad-4f5a-9ea9-99132fd13e71.png)\n",
    "\n",
    "![](https://user-images.githubusercontent.com/63338657/168797714-4e00e527-8ccd-42b3-b9a9-60b33164c9d0.png)\n",
    "\n",
    "![](https://user-images.githubusercontent.com/63338657/168798292-f48f4e0a-fe98-4346-bcea-059a6ba999b8.png)\n",
    "\n",
    "![](https://user-images.githubusercontent.com/63338657/168798574-b438536c-c131-483f-8520-0b46fe57476f.png)\n",
    "\n",
    "![](https://user-images.githubusercontent.com/63338657/168798776-e8d89388-9db8-497a-89ce-507d2147a057.png)\n",
    "\n",
    "![](https://user-images.githubusercontent.com/63338657/168798966-be283c91-3400-4e25-b749-ee059b1ff399.png)\n",
    "\n",
    "![](https://user-images.githubusercontent.com/63338657/168799233-bf93924a-be27-4d17-ac69-5484fedb211a.png)\n",
    "\n",
    "![](https://user-images.githubusercontent.com/63338657/168799516-eb88a12e-41f7-4a66-9821-cfcf6f155b4c.png)\n",
    "\n",
    "![](https://user-images.githubusercontent.com/63338657/168799744-d4833c59-71d9-4f20-a893-4c35bdbb2b24.png)\n",
    "\n",
    "![](https://user-images.githubusercontent.com/63338657/168800190-bb22a8e0-ef42-467f-b787-c1ba9c4d6658.png)\n",
    "\n",
    "![](https://user-images.githubusercontent.com/63338657/168800686-890bb869-ea4d-4ee3-8bad-1657b8690816.png)\n",
    "\n",
    "![](https://user-images.githubusercontent.com/63338657/168800912-47e71544-28fb-472d-8cdc-95d76ae751b9.png)\n",
    "\n",
    "![](https://upload.wikimedia.org/wikipedia/commons/thumb/b/b2/CIRCLE_LINES-en.svg/1024px-CIRCLE_LINES-en.svg.png)\n",
    "\n",
    "![](https://user-images.githubusercontent.com/63338657/168802791-272ab311-1222-4c3f-92e2-aa887564185b.png)\n",
    "\n",
    "![](https://user-images.githubusercontent.com/63338657/168803179-3122dd7b-99df-46d1-ac2a-c596de288396.png)\n",
    "\n",
    "Optimization, to put it in simple terms, is the process of minimizing the cost or the loss function through various algorithms like stochastic gradient descent."
   ]
  },
  {
   "cell_type": "markdown",
   "id": "2c2137ea",
   "metadata": {},
   "source": [
    "__Maxima and Minima__\n",
    "\n",
    "![](https://user-images.githubusercontent.com/63338657/168810402-2243b384-a4ac-4703-9644-ee4b772dfb29.png)\n",
    "\n",
    "![](https://user-images.githubusercontent.com/63338657/168810923-3d791afb-135c-4b31-9a05-ceb757d6a453.png)\n",
    "\n",
    "![](https://user-images.githubusercontent.com/63338657/168811254-9e3d30e6-db19-4fdb-a47b-d4ea412a6d3d.png)\n",
    "\n",
    "![](https://user-images.githubusercontent.com/63338657/168811478-5fc1bbd6-f472-4067-b379-fa10ecd60de5.png)\n",
    "\n",
    "![](https://user-images.githubusercontent.com/63338657/168811993-14fdc9e4-12c1-4842-ae7d-bcc9039f5b53.png)\n",
    "\n",
    "![](https://user-images.githubusercontent.com/63338657/168812633-79d4682f-edda-43c9-ab0e-4328a2645aa2.png)\n",
    "\n",
    "Link Saddle Point: https://youtu.be/8aAU4r_pUUU\n",
    "\n",
    "Link Convex and Concave Functions: https://youtu.be/2R0nN_R_A8o\n",
    "\n",
    "![](https://i.stack.imgur.com/GNBZ4.png)\n",
    "\n",
    "Algorithms whose cost/loss function is convex are known as convex algorithms. Similarly, algorithms whose cost/loss function is non-convex are known as non-convex algorithms."
   ]
  },
  {
   "cell_type": "markdown",
   "id": "5b114817",
   "metadata": {},
   "source": [
    "__Vector Calculus: Grad__\n",
    "\n",
    "![](https://user-images.githubusercontent.com/63338657/169210483-fefea3ca-97fb-4706-9e4f-4b3949dfebbc.png)\n",
    "\n",
    "![](https://user-images.githubusercontent.com/63338657/169210770-894384ca-509b-412c-a19d-ea24b22a0db5.png)\n",
    "\n",
    "![](https://user-images.githubusercontent.com/63338657/169210925-0313c4c8-5a4e-4319-ad82-bacfc681ba53.png)\n",
    "\n",
    "![](https://user-images.githubusercontent.com/63338657/169211303-5e4e145c-7406-4a2f-a577-7f4e8e8f6e6f.png)\n",
    "\n",
    "![](https://user-images.githubusercontent.com/63338657/169211716-2f42daf5-1ab8-4803-81a0-bbc18be23a0e.png)\n",
    "\n",
    "![](https://user-images.githubusercontent.com/63338657/169211887-a29d989b-a4e2-4c8b-9573-10568a7b74c3.png)"
   ]
  },
  {
   "cell_type": "markdown",
   "id": "6cb698f7",
   "metadata": {},
   "source": [
    "__Gradient Descent: Geometric Intuition__\n",
    "\n",
    "![](https://user-images.githubusercontent.com/63338657/169212257-bd37cc2b-d06e-4575-b658-c4f15b5977a2.png)\n",
    "\n",
    "![](https://user-images.githubusercontent.com/63338657/169212639-c3fec5d7-c804-4ff9-97cf-71c198bec835.png)\n",
    "\n",
    "![](https://user-images.githubusercontent.com/63338657/169213249-bdc1533b-0957-4f5f-87fd-db0d0c53f7bd.png)\n",
    "\n",
    "![](https://user-images.githubusercontent.com/63338657/169214084-0ec5b9b2-59a2-45d8-81af-d350bfdab373.png)\n",
    "\n",
    "![](https://user-images.githubusercontent.com/63338657/169214677-8e3b0ad6-f72d-4611-8e90-f89022665cf9.png)\n",
    "\n",
    "![](https://user-images.githubusercontent.com/63338657/169217102-7b5fffc4-fcc0-462a-9d5e-def842f2ab98.png)\n",
    "\n",
    "![](https://user-images.githubusercontent.com/63338657/169217192-4107766d-4c95-4491-9019-0c199900b750.png)\n",
    "\n",
    "![](https://user-images.githubusercontent.com/63338657/169217399-2cc9b5d2-6f3b-400b-b67c-33b1d82bff25.png)\n",
    "\n",
    "![](https://user-images.githubusercontent.com/63338657/169217617-9dccd179-8a71-425b-9cd5-7ed8a5d07e41.png)\n",
    "\n",
    "Link: https://github.com/Jaewan-Yun/optimizer-visualization"
   ]
  },
  {
   "cell_type": "markdown",
   "id": "ff790997",
   "metadata": {},
   "source": [
    "__Learning Rate__\n",
    "\n",
    "![](https://user-images.githubusercontent.com/63338657/169356132-e3595e83-b3c4-46d0-a1c2-b1397360d823.png)\n",
    "\n",
    "![](https://user-images.githubusercontent.com/63338657/169357022-e5590f42-8f9a-4408-aa23-912980cca1d6.png)\n",
    "\n",
    "![](https://user-images.githubusercontent.com/63338657/169357473-3856d68d-5b39-4634-96a5-a7f572123ce7.png)"
   ]
  },
  {
   "cell_type": "markdown",
   "id": "9e02a056",
   "metadata": {},
   "source": [
    "__Gradient Descent for Linear Regression__\n",
    "\n",
    "![](https://user-images.githubusercontent.com/63338657/169360082-d521eaa0-735f-4135-9cc2-a4eb8514d1e3.png)\n",
    "\n",
    "![](https://user-images.githubusercontent.com/63338657/169360740-45425787-b65e-4155-b79a-86688ddf9336.png)\n",
    "\n",
    "![](https://user-images.githubusercontent.com/63338657/169361029-9401fd03-5415-41c0-9b11-5923c757113c.png)\n",
    "\n",
    "![](https://user-images.githubusercontent.com/63338657/169361568-44872830-b592-41c1-b546-9336068a7b81.png)\n",
    "\n",
    "![](https://user-images.githubusercontent.com/63338657/169363090-6d6a230f-3f63-49e2-88e2-df0cdfb9627a.png)"
   ]
  },
  {
   "cell_type": "markdown",
   "id": "ff0bcbfb",
   "metadata": {},
   "source": [
    "__SGD Algorithm__\n",
    "\n",
    "![](https://user-images.githubusercontent.com/63338657/169640355-24a4e33a-0b65-43ab-8d45-b9b978cfd2ac.png)\n",
    "\n",
    "![](https://user-images.githubusercontent.com/63338657/169640428-b5def579-c53b-48c7-a1b3-619cb92d6886.png)\n",
    "\n",
    "![](https://user-images.githubusercontent.com/63338657/169640489-fb83d6ee-77d3-475a-a895-b04e535e4c07.png)\n",
    "\n",
    "We verbally said \"k is significantly less than n\". but by mistakenly wrote \"k >> n\" on the black board. It should be \"k < n\".\n",
    "\n",
    "Epoch, Batch, Iteration Link: https://youtu.be/QHj4XPIbAmo"
   ]
  },
  {
   "cell_type": "markdown",
   "id": "1ced8de0",
   "metadata": {},
   "source": [
    "__Constrained Optimization & PCA__\n",
    "\n",
    "![](https://user-images.githubusercontent.com/63338657/169641944-28c9aed7-7aab-4e53-87c5-7606ce0e5075.png)\n",
    "\n",
    "![](https://user-images.githubusercontent.com/63338657/169642042-529d6e93-970e-4979-8b0d-b71dda2162e0.png)\n",
    "\n",
    "![](https://user-images.githubusercontent.com/63338657/169642240-96e5d13c-ac16-4448-9ed3-8b2b1fabeb3e.png)\n",
    "\n",
    "![](https://user-images.githubusercontent.com/63338657/169642363-8b6f57cb-670f-46de-90be-90062580c0c8.png)\n",
    "\n",
    "![](https://user-images.githubusercontent.com/63338657/169642480-500fd82f-f6be-4a6b-81ad-4ba3948be4a7.png)\n",
    "\n",
    "![](https://user-images.githubusercontent.com/63338657/169642563-329f49f5-2438-48f5-866b-d8aad7cbf5c6.png)\n",
    "\n",
    "![](https://user-images.githubusercontent.com/63338657/169642709-80422982-0867-490e-8153-44090bcf97ce.png)\n",
    "\n",
    "![](https://user-images.githubusercontent.com/63338657/169642907-b65ea2fa-725f-45e0-a587-83ae8c526d17.png)\n",
    "\n",
    "Link: https://youtu.be/IdMZWFkVhGA"
   ]
  },
  {
   "cell_type": "markdown",
   "id": "1afee6e3",
   "metadata": {},
   "source": [
    "__Logistic Regression Formulation Revisited__\n",
    "\n",
    "![](https://user-images.githubusercontent.com/63338657/169644109-ab4d9b79-f485-4283-90c9-f37a8a301730.png)\n",
    "\n",
    "![](https://user-images.githubusercontent.com/63338657/169644180-e099233f-5986-4b8a-b13e-301a83e1230f.png)"
   ]
  },
  {
   "cell_type": "markdown",
   "id": "e9d0836d",
   "metadata": {},
   "source": [
    "__Why L1 regularization creates sparsity?__\n",
    "\n",
    "![](https://user-images.githubusercontent.com/63338657/169649247-b07462a4-0559-4df2-bb2a-97ce5cc546ee.png)\n",
    "\n",
    "![](https://user-images.githubusercontent.com/63338657/169649364-784937ca-c5d8-43ba-9cc5-b8ab2595ae6a.png)\n",
    "\n",
    "![](https://user-images.githubusercontent.com/63338657/169649622-18150099-dc0a-41e5-b4ea-47b4f9e116bc.png)\n",
    "\n",
    "![](https://user-images.githubusercontent.com/63338657/169649666-178aa180-4512-4eda-a602-da23a7f67bf3.png)\n",
    "\n",
    "![](https://user-images.githubusercontent.com/63338657/169649796-70b4d11f-4266-4421-96a0-fa74625682f3.png)"
   ]
  },
  {
   "cell_type": "code",
   "execution_count": null,
   "id": "c2bc1c91",
   "metadata": {},
   "outputs": [],
   "source": []
  },
  {
   "cell_type": "code",
   "execution_count": null,
   "id": "0dcb79ca",
   "metadata": {},
   "outputs": [],
   "source": []
  },
  {
   "cell_type": "code",
   "execution_count": null,
   "id": "ee36cc2e",
   "metadata": {},
   "outputs": [],
   "source": []
  }
 ],
 "metadata": {
  "kernelspec": {
   "display_name": "Python 3 (ipykernel)",
   "language": "python",
   "name": "python3"
  },
  "language_info": {
   "codemirror_mode": {
    "name": "ipython",
    "version": 3
   },
   "file_extension": ".py",
   "mimetype": "text/x-python",
   "name": "python",
   "nbconvert_exporter": "python",
   "pygments_lexer": "ipython3",
   "version": "3.10.4"
  }
 },
 "nbformat": 4,
 "nbformat_minor": 5
}
