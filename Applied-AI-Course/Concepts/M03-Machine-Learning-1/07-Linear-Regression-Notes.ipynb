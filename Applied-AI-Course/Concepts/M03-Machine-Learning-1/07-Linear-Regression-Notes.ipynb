{
 "cells": [
  {
   "cell_type": "markdown",
   "id": "6a49395a",
   "metadata": {},
   "source": [
    "__Geometric Intuition of Linear Regression__\n",
    "\n",
    "![](https://user-images.githubusercontent.com/63338657/168466942-464136d0-4032-4311-a929-f6bf8ca4dd41.png)\n",
    "\n",
    "![](https://user-images.githubusercontent.com/63338657/168467058-bc7916f3-b760-42e7-a333-eba5af498c20.png)\n",
    "\n",
    "![](https://user-images.githubusercontent.com/63338657/168467170-a638163f-7733-4437-a1e7-45377575b662.png)\n",
    "\n",
    "![](https://user-images.githubusercontent.com/63338657/168467343-52d1b745-8241-43f0-840c-fd3cc8f55a6d.png)\n",
    "\n",
    "If an independent feature can be expressed as sum of two or more independent features, then we say that collinearity exists among the features.\n",
    "\n",
    "If we have two numerical features 'x1' and 'x2'. Then if we assume 'y' to be the dependent variable that can be obtained by linear combination of these independent numerical features 'x1' and 'x2', then our job here would be to find out a hyper-plane that minimizes the sum of the square of the errors in the distances of the points on to this hyper-plane.\n",
    "\n",
    "This summation of the square of the errors in the distances is called Squared Loss.\n",
    "\n",
    "In predicting 'y', if 'x2' can be represented in terms of a function of 'x1' or vice-versa, then we can say that the two features 'x1' and 'x2' are collinear. Even if the features are collinear, we still can use them in the task of prediction, but when it comes to the task of interpretability(in classification problems), then we need to choose different feature selection techniques rather than interpreting the weight vector components."
   ]
  },
  {
   "cell_type": "markdown",
   "id": "c0137d11",
   "metadata": {},
   "source": [
    "__Mathematical Formulation__\n",
    "\n",
    "![](https://user-images.githubusercontent.com/63338657/168467744-54efb30d-49f4-4205-bac4-4a687c66a580.png)\n",
    "\n",
    "![](https://user-images.githubusercontent.com/63338657/168467871-36e3017b-d588-4389-89d5-cbe3a92777b4.png)\n",
    "\n",
    "Linear Regression --> OLS: Ordinary Least Square and LLS: Linear Least Square.\n",
    "\n",
    "![](https://user-images.githubusercontent.com/63338657/168468041-34073239-4119-4ae8-ba9c-68d3cd9570f6.png)\n",
    "\n",
    "![](https://user-images.githubusercontent.com/63338657/168468222-bbb46496-5f5f-4020-babd-ea0dd2f67412.png)\n",
    "\n",
    "![](https://user-images.githubusercontent.com/63338657/168468270-97b69ed9-67e5-4515-b22b-b2bd3f42d173.png)\n",
    "\n",
    "1. Linear regression with L2 regularization is also referred to as \"Ridge Regression\"\n",
    "2. Linear regression with L1 regularization is also referred to as \"Lasso Regression\".\n",
    "3. Linear regression with L1 + L2 regularization is also referred to as \"ElasticNet Regression\".\n",
    "\n",
    "Need for regularization in Linear Regression: https://youtu.be/iUm2Z1SKuGk"
   ]
  },
  {
   "cell_type": "markdown",
   "id": "77ab14c5",
   "metadata": {},
   "source": [
    "__Real World Cases__\n",
    "\n",
    "![](https://user-images.githubusercontent.com/63338657/168469564-c8e92045-d71c-468b-b911-e1b7f4203b22.png)\n",
    "\n",
    "Note: There is no problem of imbalanced data in linear regression as there are no class labels.\n",
    "\n",
    "![](https://user-images.githubusercontent.com/63338657/168469631-50c0c62e-17e6-4608-89e6-6d39da39c69d.png)\n",
    "\n",
    "![](https://user-images.githubusercontent.com/63338657/168469795-2c9764f2-5230-4b85-9eeb-21ea78a83c1b.png)"
   ]
  },
  {
   "cell_type": "code",
   "execution_count": null,
   "id": "c39900f2",
   "metadata": {},
   "outputs": [],
   "source": []
  }
 ],
 "metadata": {
  "kernelspec": {
   "display_name": "Python 3 (ipykernel)",
   "language": "python",
   "name": "python3"
  },
  "language_info": {
   "codemirror_mode": {
    "name": "ipython",
    "version": 3
   },
   "file_extension": ".py",
   "mimetype": "text/x-python",
   "name": "python",
   "nbconvert_exporter": "python",
   "pygments_lexer": "ipython3",
   "version": "3.10.4"
  }
 },
 "nbformat": 4,
 "nbformat_minor": 5
}
