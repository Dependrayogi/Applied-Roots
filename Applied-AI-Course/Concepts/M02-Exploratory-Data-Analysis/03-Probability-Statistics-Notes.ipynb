{
 "cells": [
  {
   "cell_type": "markdown",
   "id": "bf361825",
   "metadata": {},
   "source": [
    "__Random Variables__\n",
    "\n",
    "- A variable is a quantity whose value changes.\n",
    "- Quantifying a random process is called a random variable.\n",
    "- A discrete variable is a variable whose value is obtained by counting.\n",
    "    - Number of students present\n",
    "    - Number of red marbles in a jar\n",
    "    - Number of heads when flipping three coins\n",
    "- A continuous variable is a variable whose value is obtained by measuring.\n",
    "    - Height of students in class\n",
    "    - Weight of students in class\n",
    "    - Distance travelled between classes\n",
    "\n",
    "![](https://user-images.githubusercontent.com/63338657/156023270-570fcf9e-01b7-468a-baac-9b3396257c1f.png)\n",
    "\n",
    "Below, each die roll is an independent event.\n",
    "\n",
    "![](https://user-images.githubusercontent.com/63338657/156026436-d3950aef-73f7-4a91-afe9-163ece4edb20.png)"
   ]
  },
  {
   "cell_type": "markdown",
   "id": "f521d5dc",
   "metadata": {},
   "source": [
    "---"
   ]
  },
  {
   "cell_type": "markdown",
   "id": "8f7e385c",
   "metadata": {},
   "source": [
    "__Population and Sample__\n",
    "\n",
    "__Mean__\n",
    "\n",
    "![](https://user-images.githubusercontent.com/63338657/156027946-ea095b76-328c-4cb8-9c88-ae6c3b034116.png)\n",
    "\n",
    "As the sample size increases, sample mean $\\bar{x}$ will be equal to population mean $\\mu$ $\\rightarrow \\bar{x} = \\mu$.\n",
    "\n",
    "- $\\mu$ is a population mean which is a paramater that applies to a population.\n",
    "- $\\bar{x}$ is a sample mean which is a statistic that applies to a sample.\n",
    "\n",
    "Sample statistics helps in estimating the Population parameters.\n",
    "\n",
    "__Variance__\n",
    "\n",
    "Link: https://youtu.be/KkaU2ur3Ymw\n",
    "\n",
    "![](https://user-images.githubusercontent.com/63338657/156030949-70a1222a-06f8-418a-aea0-84174f0a6558.png)\n",
    "\n",
    "![](https://user-images.githubusercontent.com/63338657/156032304-fda0b7ea-eb61-4df3-a830-80aaf35e84be.png)\n"
   ]
  },
  {
   "cell_type": "markdown",
   "id": "d709cc0a",
   "metadata": {},
   "source": [
    "---"
   ]
  },
  {
   "cell_type": "markdown",
   "id": "f1db5127",
   "metadata": {},
   "source": [
    "__Normal Distribution or Gaussian Distribution__\n",
    "\n",
    "If $X$ is a continuous random variable and $X$ has a PDF that looks something like a bell curve, then $X$ follows a Normal Distribution.\n",
    "\n",
    "PDF looks like below. The peak of the bell curve, is always at $\\mu$.\n",
    "\n",
    "![](https://upload.wikimedia.org/wikipedia/commons/thumb/7/74/Normal_Distribution_PDF.svg/1280px-Normal_Distribution_PDF.svg.png)\n",
    "\n",
    "Here $\\mu$ and $\\sigma^2$ are parameters of the distribution. These parameters help us to plot the PDF of the distribution.\n",
    "\n",
    "Notation\n",
    "\n",
    "$$X \\sim N\\left(\\mu, \\sigma^2\\right)$$\n",
    "\n",
    "The PDF at a given point gives the probability density and not the probability at that point itself. That is why for a continuous distribution, probability is calculated for a range and not a single discrete value and the probability that $X$ takes a single discrete value is $0$. Normal distribution is continuous and hence there are infinite number of values between any two real number so the divisor is infinite, hence the probability becomes $0$ for a single number.\n",
    "\n",
    "Normal PDF\n",
    "\n",
    "$$Y = \\frac{1}{\\sigma\\sqrt{2\\pi}}\\text{exp}\\left(\\frac{-\\left(x-\\mu\\right)^2}{2\\sigma^2}\\right)$$\n",
    "\n",
    "When we plot this function $Y$ for all values of $x$ in the distribution, we get the bell curve.\n",
    "\n",
    "PS: $\\text{exp}\\left(x\\right) \\Rightarrow e^x$.\n",
    "\n",
    "Properties\n",
    "\n",
    "- When $x$ moves away from $\\mu$ on either directions, the value of $Y$ will be reduced.\n",
    "- PDF plot of Normal Distribution is symmetric.\n",
    "- As $x$ moves away from $\\mu$, $Y$ reduces by $\\text{exp}\\left(\\frac{-\\left(x-\\mu\\right)^2}{2\\sigma^2}\\right)$ times, which is extremely fast reduction. $Y$ falls exponentially quadratically.\n",
    "\n",
    "CDF\n",
    "\n",
    "The height of the CDF curve at a given value of $x$ gives the probability of the random variable $X$ being equal to $x$.\n",
    "\n",
    "![](https://upload.wikimedia.org/wikipedia/commons/thumb/c/ca/Normal_Distribution_CDF.svg/1280px-Normal_Distribution_CDF.svg.png)\n",
    "\n",
    "The CDF for a continuous random variable is found by integrating the PDF. Note that the Fundamental Theorem of Calculus implies that the PDF of a continuous random variable can be found by differentiating the CDF. This relationship between the PDF and CDF for a continuous random variable is incredibly useful.\n",
    "\n",
    "![](https://user-images.githubusercontent.com/63338657/156563366-c52beddd-484a-4942-8df0-2a5e80e05037.png)\n",
    "\n",
    "Standard Deviation and Coverage\n",
    "\n",
    "For the normal distribution, the values less than one standard deviation away from the mean account for $68.27\\%$ of the set; while two standard deviations from the mean account for $95.45\\%$ of the set; and three standard deviations account for $99.73\\%$ of the set.\n",
    "\n",
    "This fact is known as the $68-95-99.7$ (empirical) rule, or the $3-$sigma rule.\n",
    "\n",
    "![](https://upload.wikimedia.org/wikipedia/commons/thumb/8/8c/Standard_deviation_diagram.svg/1920px-Standard_deviation_diagram.svg.png)"
   ]
  },
  {
   "cell_type": "markdown",
   "id": "c9fb8d81",
   "metadata": {},
   "source": [
    "---"
   ]
  },
  {
   "cell_type": "markdown",
   "id": "66601f1c",
   "metadata": {},
   "source": [
    "__Symmetric Distribution, Skewness and Kurtosis__\n",
    "\n",
    "__Symmetric Distribution__\n",
    "\n",
    "A probability distribution is said to be symmetric if and only if there exists a value $x_0$ such that,\n",
    "\n",
    "$$f\\left(x_0 - \\delta\\right) = f\\left(x_0 + \\delta\\right)$$\n",
    "\n",
    "for all real numbers $\\delta$, where $f$ is the probability density function if the distribution is continuous or the probability mass function if the distribution is discrete.\n",
    "\n",
    "![](https://user-images.githubusercontent.com/63338657/156792798-058ccb9c-1a37-4072-b6a6-95b53611b029.png)\n",
    "\n",
    "__Skewness__\n",
    "\n",
    "In simple terms, skewness means the lack of symmetry.\n",
    "\n",
    "In probability theory and statistics, skewness is a measure of the asymmetry of the probability distribution of a random variable about its mean. The skewness value can be positive, zero, negative, or undefined.\n",
    "\n",
    "- Negative Skew: The left tail is longer; the mass of the distribution is concentrated on the right of the figure. The distribution is said to be left-skewed, left-tailed, or skewed to the left, despite the fact that the curve itself appears to be skewed or leaning to the right; left instead refers to the left tail being drawn out and, often, the mean being skewed to the left of a typical center of the data. A left-skewed distribution usually appears as a right-leaning curve.\n",
    "- Positive Skew: The right tail is longer; the mass of the distribution is concentrated on the left of the figure. The distribution is said to be right-skewed, right-tailed, or skewed to the right, despite the fact that the curve itself appears to be skewed or leaning to the left; right instead refers to the right tail being drawn out and, often, the mean being skewed to the right of a typical center of the data. A right-skewed distribution usually appears as a left-leaning curve.\n",
    "\n",
    "![](https://upload.wikimedia.org/wikipedia/commons/thumb/f/f8/Negative_and_positive_skew_diagrams_%28English%29.svg/1920px-Negative_and_positive_skew_diagrams_%28English%29.svg.png)\n",
    "\n",
    "![](https://upload.wikimedia.org/wikipedia/commons/c/cc/Relationship_between_mean_and_median_under_different_skewness.png)\n",
    "\n",
    "Sample Skewness\n",
    "\n",
    "For a sample of $n$ values, two natural method of moments estimators of the population skewness are,\n",
    "\n",
    "$$b_1 = \\frac{m_3}{s^3} = \\frac{\\frac{1}{n}\\sum_{i=1}^{n}\\left(x_i-\\bar{x}\\right)^3}{\\left[\\sqrt{\\frac{1}{n-1}\\sum_{i=1}^{n}\\left(x_i-\\bar{x}\\right)^2}\\right]^3}$$\n",
    "\n",
    "where $\\bar{x}$ is the sample mean, $s$ is the sample standard deviation (unbiased), and $m_3$ is the third central moment.\n",
    "\n",
    "Method of moments: In statistics, the method of moments is a method of estimation of population parameters.\n",
    "\n",
    "Uses of skewness\n",
    "\n",
    "Skewness gives the direction of the outliers if it is right-skewed, most of the outliers are present on the right side of the distribution while if it is left-skewed, most of the outliers are present on the left side of the distribution.\n",
    "\n",
    "__Kutosis__\n",
    "\n",
    "In probability theory and statistics, kurtosis is a measure of the tailedness of the probability distribution of a random variable.\n",
    "\n",
    "The standard measure of a distribution's kurtosis, is a scaled version of the fourth moment of the distribution. This number is related to the tails of the distribution, not its peak; hence, the sometimes-seen characterization of kurtosis as peakedness is incorrect. For this measure, higher kurtosis corresponds to greater extremity of deviations (or outliers), and not the configuration of data near the mean.\n",
    "\n",
    "Sample kurtosis (a natural but biased estimator)\n",
    "\n",
    "For a sample of $n$ values, a method of moments estimator of the population kurtosis can be defined as,\n",
    "\n",
    "$$g_2 = \\frac{m_4}{m_2^2} = \\frac{\\frac{1}{n}\\sum_{i=1}^{n}\\left(x_i-\\bar{x}\\right)^4}{\\left[\\frac{1}{n}\\sum_{i=1}^{n}\\left(x_i-\\bar{x}\\right)^2\\right]^2}$$\n",
    "\n",
    "where $m_4$ is the fourth sample moment about the mean, $m_2$ is the second sample moment about the mean (that is, the sample variance), $x_i$ is the $i^{th}$ value, and $\\bar{x}$ is the sample mean.\n",
    "\n",
    "Excess Kurtosis (below formula is for sample excess kurtosis which can be used to estimate population excess kurtosis)\n",
    "\n",
    "The excess kurtosis is defined as kurtosis minus $3$. This gives how much extra kurtosis is there for a distribution as compared to normal distribution.\n",
    "\n",
    "$$\\text{Excess Kurtosis} = \\frac{m_4}{m_2^2} - 3 = \\frac{\\frac{1}{n}\\sum_{i=1}^{n}\\left(x_i-\\bar{x}\\right)^4}{\\left[\\frac{1}{n}\\sum_{i=1}^{n}\\left(x_i-\\bar{x}\\right)^2\\right]^2} - 3$$\n",
    "\n",
    "- Kurtosis of a Normal Distribution is $3$.\n",
    "- Excess Kurtosis of a Normal Distribution is $0$.\n",
    "\n",
    "![](https://upload.wikimedia.org/wikipedia/commons/thumb/3/33/Standard_symmetric_pdfs.svg/1280px-Standard_symmetric_pdfs.svg.png)\n",
    "\n",
    "Probability density functions for selected distributions with mean $0$, variance $1$ and different excess kurtosis.\n",
    "\n",
    "Two distributions with the same variance can still have different kurtosis values. In that case, a larger kurtosis indicates that the PDF has fat tails while a small kurtosis indicates thin tails. So the first thing to do when comparing kurtosis of two PDFs is to explain any difference in variance. Then normalize them separately so they have the same variance. Then try to understand any difference in the kurtosis values of the normalized data.\n",
    "\n",
    "Normalization usually means to scale a variable to have a value between $0$ and $1$, while standardization transforms data to have a mean of $0$ and a standard deviation of $1$.\n",
    "\n",
    "Uses of kurtosis\n",
    "\n",
    "The sample kurtosis is a useful measure of whether there is a problem with outliers in a data set. Larger kurtosis indicates a more serious outlier problem, and may lead the researcher to choose alternative statistical methods."
   ]
  },
  {
   "cell_type": "markdown",
   "id": "b7d8dd6b",
   "metadata": {},
   "source": [
    "---"
   ]
  },
  {
   "cell_type": "markdown",
   "id": "f96b1bb6",
   "metadata": {},
   "source": [
    "__Standard Normal Variate__\n",
    "\n",
    "![](https://user-images.githubusercontent.com/63338657/156870122-7679253f-bb6e-4b25-bb49-7ca835ab9e27.png)\n",
    "\n",
    "Using it makes predictions and inferences much easier.\n",
    "\n",
    "If we want to analyze the data, apply the standardization, and then analyze it. The main takeaway is, distributions are no same after standardisation. It only normalized the scale, it won't change any distribution values."
   ]
  },
  {
   "cell_type": "markdown",
   "id": "b5063568",
   "metadata": {},
   "source": [
    "---"
   ]
  },
  {
   "cell_type": "markdown",
   "id": "9d2ec7c4",
   "metadata": {},
   "source": [
    "__Sampling Distribution and Central Limit Theorem__ (CLT: Sample Means are normally distributed)\n",
    "\n",
    "Link: https://youtu.be/YAlJCEDH2uY\n",
    "\n",
    "![](https://user-images.githubusercontent.com/63338657/156871936-218b6211-7d8c-4bdd-baa1-1096ed4f768a.png)\n",
    "\n",
    "![](https://user-images.githubusercontent.com/63338657/156872080-f38a5042-fb50-4860-aa37-85babdd617c7.png)\n",
    "\n",
    "![](https://user-images.githubusercontent.com/63338657/156872650-8d7e9719-4853-4704-9681-62c31f90f240.png)\n",
    "\n",
    "![](https://user-images.githubusercontent.com/63338657/156873297-9e6af145-7781-4ce6-8b18-5e909a95d027.png)\n",
    "\n",
    "CLT does not convert any distribution into normal distribution. It is just a theorem to estimate the mean of a population of any distribution. That can be done because we know that mean of samples will follow a normal distribution and hence we can estimate the mean with certain confidence."
   ]
  },
  {
   "cell_type": "markdown",
   "id": "57c4354d",
   "metadata": {},
   "source": [
    "---"
   ]
  },
  {
   "cell_type": "markdown",
   "id": "0b222d51",
   "metadata": {},
   "source": [
    "__$Q-Q \\ \\text{Plot}$__\n",
    "\n",
    "Link: https://youtu.be/okjYjClSjOg\n",
    "\n",
    "A graphical method that will answer the following questions\n",
    "\n",
    "- Does $X \\sim N\\left(\\mu, \\sigma^2\\right)$?\n",
    "- Does $X$ and $Y$ have the same the distribution?\n",
    "\n",
    "![](https://user-images.githubusercontent.com/63338657/156877324-f9b5900e-2f4d-4165-b129-be45967250f9.png)\n",
    "\n",
    "![](https://user-images.githubusercontent.com/63338657/156877437-72193383-e92f-47ed-842a-c572983b4719.png)\n",
    "\n",
    "![](https://user-images.githubusercontent.com/63338657/156878038-8bf786d2-8168-4c95-9b81-6799701e8939.png)\n",
    "\n",
    "Limitation of $Q-Q \\ \\text{Plot}$: If the number of observations is small, its hard to interpret the $Q-Q \\ \\text{Plot}$."
   ]
  },
  {
   "cell_type": "code",
   "execution_count": 1,
   "id": "72d2cc8d",
   "metadata": {},
   "outputs": [],
   "source": [
    "from matplotlib import pyplot as plt\n",
    "from matplotlib import style\n",
    "from scipy import stats\n",
    "import numpy as np"
   ]
  },
  {
   "cell_type": "code",
   "execution_count": 2,
   "id": "5abe7d21",
   "metadata": {},
   "outputs": [
    {
     "data": {
      "text/plain": [
       "array([ 5.3838368 ,  5.99940406,  6.31079487,  6.55742055,  6.75574603,\n",
       "        6.9162723 ,  7.0825734 ,  7.2142379 ,  7.334084  ,  7.43831691,\n",
       "        7.56037168,  7.64252875,  7.72955386,  7.83162696,  7.91470169,\n",
       "        8.00623063,  8.08647779,  8.15359314,  8.22857496,  8.30919349,\n",
       "        8.37913562,  8.43475708,  8.49898062,  8.57325384,  8.63967631,\n",
       "        8.69644165,  8.76605248,  8.83358891,  8.89697356,  8.94984734,\n",
       "        9.00421366,  9.06651925,  9.12258943,  9.17667786,  9.23271325,\n",
       "        9.28926428,  9.34529333,  9.39812721,  9.44886494,  9.50099981,\n",
       "        9.55206707,  9.601367  ,  9.64681573,  9.69962583,  9.75698828,\n",
       "        9.80301078,  9.85372947,  9.89985245,  9.95408657, 10.00070158,\n",
       "       10.04572563, 10.09534956, 10.14121237, 10.19082898, 10.24053888,\n",
       "       10.29496073, 10.35641462, 10.40340722, 10.46230552, 10.51352238,\n",
       "       10.56922091, 10.62729754, 10.6768444 , 10.73739933, 10.78614005,\n",
       "       10.83657541, 10.89003922, 10.95511914, 11.0086208 , 11.0674159 ,\n",
       "       11.12343667, 11.18544303, 11.24946224, 11.31621036, 11.37399723,\n",
       "       11.43032059, 11.49384357, 11.55242034, 11.62845517, 11.70699561,\n",
       "       11.77792237, 11.84944607, 11.91202358, 11.99476861, 12.08023506,\n",
       "       12.17313525, 12.27823254, 12.36206793, 12.49352592, 12.61011158,\n",
       "       12.7272254 , 12.87533266, 12.99601536, 13.17739135, 13.35254091,\n",
       "       13.54731478, 13.80556754, 14.12114178, 14.70481423, 17.87147194])"
      ]
     },
     "metadata": {},
     "output_type": "display_data"
    }
   ],
   "source": [
    "size = 10000\n",
    "\n",
    "X = np.random.normal(loc=10, scale=2, size=size)\n",
    "Y = np.random.normal(loc=0, scale=1, size=size)\n",
    "\n",
    "X_p = np.array([np.percentile(a=X, q=i) for i in range(1, 101)])\n",
    "display(X_p)"
   ]
  },
  {
   "cell_type": "code",
   "execution_count": 3,
   "id": "b875adcd",
   "metadata": {},
   "outputs": [
    {
     "data": {
      "image/png": "[encoded data removed]",
      "text/plain": [
       "<Figure size 1080x432 with 1 Axes>"
      ]
     },
     "metadata": {
      "needs_background": "light"
     },
     "output_type": "display_data"
    }
   ],
   "source": [
    "plt.figure(figsize=(15, 6))\n",
    "stats.probplot(x=X_p, dist='norm', plot=plt)\n",
    "plt.show()"
   ]
  },
  {
   "cell_type": "code",
   "execution_count": 4,
   "id": "0e424667",
   "metadata": {},
   "outputs": [
    {
     "data": {
      "text/plain": [
       "array([-9.80192545, -9.63881844, -9.39731629, -9.18934405, -8.97107774,\n",
       "       -8.73785414, -8.5205224 , -8.30512559, -8.12008107, -7.93146784,\n",
       "       -7.72925097, -7.5622596 , -7.37841151, -7.16342969, -6.95881517,\n",
       "       -6.77162607, -6.57075693, -6.37180311, -6.16070306, -5.96126756,\n",
       "       -5.77828635, -5.57057106, -5.38506512, -5.18995335, -5.03192576,\n",
       "       -4.82761328, -4.63300612, -4.42643389, -4.23764984, -4.07159244,\n",
       "       -3.86081546, -3.64494412, -3.43919345, -3.22116787, -3.01877512,\n",
       "       -2.80400249, -2.60514475, -2.41848877, -2.26034707, -2.05914891,\n",
       "       -1.85450393, -1.69124035, -1.5024778 , -1.26716412, -1.06531901,\n",
       "       -0.85257577, -0.64909548, -0.47829955, -0.26499466, -0.04779369,\n",
       "        0.14241445,  0.34868254,  0.53981123,  0.78555065,  0.96825935,\n",
       "        1.14844867,  1.31889367,  1.49161547,  1.71382901,  1.91969959,\n",
       "        2.13525599,  2.35116248,  2.54575556,  2.73208991,  2.92225033,\n",
       "        3.13229238,  3.37626973,  3.5909253 ,  3.80390682,  4.03273439,\n",
       "        4.23758265,  4.41888682,  4.62522436,  4.81311979,  5.05993763,\n",
       "        5.25497768,  5.4225881 ,  5.62183579,  5.83760536,  6.06830288,\n",
       "        6.25262514,  6.42660299,  6.64335357,  6.84111971,  7.04422242,\n",
       "        7.23039607,  7.43714029,  7.65267544,  7.8514394 ,  8.05086835,\n",
       "        8.25736236,  8.43970894,  8.64841107,  8.8344278 ,  9.00047124,\n",
       "        9.15759377,  9.38482616,  9.5938276 ,  9.77670771,  9.99901287])"
      ]
     },
     "metadata": {},
     "output_type": "display_data"
    }
   ],
   "source": [
    "size = 10000\n",
    "\n",
    "X = np.random.uniform(low=-10, high=10, size=size)\n",
    "Y = np.random.normal(loc=0, scale=1, size=size)\n",
    "\n",
    "X_p = np.array([np.percentile(a=X, q=i) for i in range(1, 101)])\n",
    "display(X_p)"
   ]
  },
  {
   "cell_type": "code",
   "execution_count": 5,
   "id": "69700137",
   "metadata": {},
   "outputs": [
    {
     "data": {
      "image/png": "[encoded data removed]",
      "text/plain": [
       "<Figure size 1080x432 with 1 Axes>"
      ]
     },
     "metadata": {
      "needs_background": "light"
     },
     "output_type": "display_data"
    }
   ],
   "source": [
    "plt.figure(figsize=(15, 6))\n",
    "stats.probplot(x=X_p, dist='norm', plot=plt)\n",
    "plt.show()"
   ]
  },
  {
   "cell_type": "markdown",
   "id": "9371d364",
   "metadata": {},
   "source": [
    "---"
   ]
  },
  {
   "cell_type": "markdown",
   "id": "fa46b134",
   "metadata": {},
   "source": [
    "__How distributions are used?__\n",
    "\n",
    "![](https://user-images.githubusercontent.com/63338657/156887493-3c0c262b-46bf-4679-ab5b-f9960a7f09d1.png)\n",
    "\n",
    "![](https://user-images.githubusercontent.com/63338657/156887682-2a71e36d-4141-49d9-9ac0-d15097e6fd23.png)\n",
    "\n",
    "![](https://user-images.githubusercontent.com/63338657/156887850-0521051c-dfd8-4345-a71f-76bff733d36d.png)\n",
    "\n",
    "![](https://user-images.githubusercontent.com/63338657/156887944-59fbabb3-6b89-4cfc-b839-cdf3a865a291.png)\n",
    "\n",
    "![](https://user-images.githubusercontent.com/63338657/156888023-3108833c-ac5f-436e-8101-30e9fa6e7b4e.png)\n",
    "\n",
    "![](https://user-images.githubusercontent.com/63338657/156888392-484d4406-8efa-44c9-afc4-ca7c20226c22.png)\n",
    "\n",
    "The margin of error is a statistic expressing the amount of random sampling error in the results of a survey. The larger the margin of error, the less confidence one should have that a poll result would reflect the result of a survey of the entire population."
   ]
  },
  {
   "cell_type": "markdown",
   "id": "357b9944",
   "metadata": {},
   "source": [
    "---"
   ]
  },
  {
   "cell_type": "markdown",
   "id": "a2f1a69c",
   "metadata": {},
   "source": [
    "__Chebyshev's Inequality__\n",
    "\n",
    "![](https://user-images.githubusercontent.com/63338657/156889627-4fcc8b8d-cb7e-4532-8c06-193b247881ce.png)\n",
    "\n",
    "![](https://user-images.githubusercontent.com/63338657/156889765-ebb07901-1c3d-44ed-80fc-8d41de989540.png)\n",
    "\n",
    "![](https://user-images.githubusercontent.com/63338657/156889942-be213075-f98f-4f1f-9d01-68f66864eada.png)\n",
    "\n",
    "To solve the above problem in the screenshot, Chebyshev's Inequality is used.\n",
    "\n",
    "![](https://user-images.githubusercontent.com/63338657/156890255-50f454fb-2d42-4975-b00b-5ce575c4668f.png)\n",
    "\n",
    "If $X$ (the distribution of $X$ is unknown) is a random variable with mean (finite) $\\mu$ and standard deviation (non-zero & finite) $\\sigma$ then -\n",
    "\n",
    "$$\n",
    "\\begin{align*}\n",
    "P\\left(\\left|X - \\mu\\right| \\ge k\\sigma\\right) \\le \\frac{1}{k^2} \\\\\n",
    "\\Rightarrow P\\left[\\left(X \\ge \\mu + k\\sigma\\right) \\ \\text{or} \\ \\left(X \\le \\mu - k\\sigma\\right)\\right] \\le \\frac{1}{k^2} \\\\\n",
    "\\Rightarrow P\\left[\\left(\\mu - k\\sigma\\right) < X < \\left(\\mu + k\\sigma\\right)\\right] \\ge \\left(1 - \\frac{1}{k^2}\\right)\n",
    "\\end{align*}\n",
    "$$\n",
    "\n",
    "When the distribution is asymmetric or is unknown,\n",
    "\n",
    "$$P\\left(k_1 < X < k_2\\right) \\ge \\frac{4\\left[\\left(\\mu - k_1\\right)\\left(k_2 - \\mu\\right) - \\sigma^2\\right]}{\\left(k_2 - k_1\\right)^2}$$\n",
    "\n",
    "where $\\sigma^2$ is the variance and $\\mu$ is the mean."
   ]
  },
  {
   "cell_type": "markdown",
   "id": "0ddf2fa0",
   "metadata": {},
   "source": [
    "---"
   ]
  },
  {
   "cell_type": "markdown",
   "id": "f13c66cf",
   "metadata": {},
   "source": [
    "__Uniform Distributions__\n",
    "\n",
    "A probability distribution in which all outcomes are equally likely. In other words, all the values are equi-probable.\n",
    "\n",
    "__Discrete Uniform Distribution__\n",
    "\n",
    "If random variable is discrete and follows Uniform Distribution then it is called Discrete Uniform Distribution.\n",
    "\n",
    "A simple example of the discrete uniform distribution is throwing a fair dice. The possible values are $1$, $2$, $3$, $4$, $5$, $6$, and each time the die is thrown the probability of a given score is $\\frac{1}{6}$. If two dice are thrown and their values added, the resulting distribution is no longer uniform because not all sums have equal probability.\n",
    "\n",
    "PMF\n",
    "\n",
    "![](https://upload.wikimedia.org/wikipedia/commons/thumb/1/1f/Uniform_discrete_pmf_svg.svg/1280px-Uniform_discrete_pmf_svg.svg.png)\n",
    "\n",
    "CDF\n",
    "\n",
    "![](https://upload.wikimedia.org/wikipedia/commons/thumb/7/77/Dis_Uniform_distribution_CDF.svg/1280px-Dis_Uniform_distribution_CDF.svg.png)\n",
    "\n",
    "![](https://user-images.githubusercontent.com/63338657/156910022-4a85f32a-12bd-4d94-a40f-22fc32d49fd5.png)\n",
    "\n",
    "__Continuous Uniform Distribution__\n",
    "\n",
    "If a random variable is continuous and follows Uniform Distribution then it is called Continuous Uniform Distribution.\n",
    "\n",
    "A simple example is `random.random()` in Python. This follows a continuous uniform distribution between $0$ and $1$.\n",
    "\n",
    "PDF\n",
    "\n",
    "![](https://upload.wikimedia.org/wikipedia/commons/thumb/9/96/Uniform_Distribution_PDF_SVG.svg/1280px-Uniform_Distribution_PDF_SVG.svg.png)\n",
    "\n",
    "CDF\n",
    "\n",
    "![](https://upload.wikimedia.org/wikipedia/commons/thumb/6/63/Uniform_cdf.svg/1280px-Uniform_cdf.svg.png)\n",
    "\n",
    "![](https://user-images.githubusercontent.com/63338657/156910213-f1c75dc2-b65f-4b93-ac1a-e9b056aa1a1a.png)\n",
    "\n",
    "![](https://user-images.githubusercontent.com/63338657/156910422-bc29794f-499c-48fe-9831-7bb375f99fb6.png)"
   ]
  },
  {
   "cell_type": "markdown",
   "id": "da6443a5",
   "metadata": {},
   "source": [
    "---"
   ]
  },
  {
   "cell_type": "markdown",
   "id": "fb081bd2",
   "metadata": {},
   "source": [
    "__Bernoulli Distribution__\n",
    "\n",
    "In probability theory and statistics, the Bernoulli distribution is the discrete probability distribution of a random variable which takes the value $1$ with probability $p$ and the value $0$ with probability $q=1-p$.\n",
    "\n",
    "It can be used to represent a (possibly biased) coin toss where $1$ and $0$ would represent \"heads\" and \"tails\" (or vice versa), respectively, and $p$ would be the probability of the coin landing on heads or tails, respectively. In particular, unfair coins would have $p \\ne \\frac{1}{2}$.\n",
    "\n",
    "PMF\n",
    "\n",
    "![](https://upload.wikimedia.org/wikipedia/commons/7/74/Bernoulli_Distribution.PNG)\n",
    "\n",
    "![](https://user-images.githubusercontent.com/63338657/156911379-481fc276-679f-4315-98b9-1f2abe519851.png)\n",
    "\n",
    "![](https://user-images.githubusercontent.com/63338657/156911418-60f2222d-78e7-4cdc-a6f1-ceb91a7d194a.png)"
   ]
  },
  {
   "cell_type": "markdown",
   "id": "16615318",
   "metadata": {},
   "source": [
    "---"
   ]
  },
  {
   "cell_type": "markdown",
   "id": "0bddb0a4",
   "metadata": {},
   "source": [
    "__Binomial Distribution__\n",
    "\n",
    "In probability theory and statistics, the binomial distribution with parameters $n$ and $p$ is the discrete probability distribution of the number of successes in a sequence of $n$ independent experiments, each asking a yes-no question, and each with its own Boolean-valued outcome: success (with probability $p$) or failure (with probability $q = 1 − p$). A single success/failure experiment is also called a Bernoulli trial or Bernoulli experiment, and a sequence of outcomes is called a Bernoulli process; for a single trial, i.e., $n = 1$, the binomial distribution is a Bernoulli distribution.\n",
    "\n",
    "PMF\n",
    "\n",
    "![](https://upload.wikimedia.org/wikipedia/commons/thumb/7/75/Binomial_distribution_pmf.svg/1280px-Binomial_distribution_pmf.svg.png)\n",
    "\n",
    "CDF\n",
    "\n",
    "![](https://upload.wikimedia.org/wikipedia/commons/thumb/5/55/Binomial_distribution_cdf.svg/1280px-Binomial_distribution_cdf.svg.png)\n",
    "\n",
    "![](https://user-images.githubusercontent.com/63338657/156911793-f371bdb9-c7c7-46f6-a844-44b4f1d51c77.png)"
   ]
  },
  {
   "cell_type": "markdown",
   "id": "5c2e9586",
   "metadata": {},
   "source": [
    "---"
   ]
  },
  {
   "cell_type": "markdown",
   "id": "fdb7e460",
   "metadata": {},
   "source": [
    "__Log-Normal Distribution__\n",
    "\n",
    "In probability theory, a log-normal (or lognormal) distribution is a continuous probability distribution of a random variable whose logarithm is normally distributed. Thus, if the random variable $X$ is log-normally distributed, then $Y = \\log(X)$ has a normal distribution. Equivalently, if $Y$ has a normal distribution, then the exponential function of $Y$, $X = \\text{exp}\\left(Y\\right)$, has a log-normal distribution. A random variable which is log-normally distributed takes only positive real values.\n",
    "\n",
    "The distribution is occasionally referred to as the Galton distribution or Galton's distribution, after Francis Galton.\n",
    "\n",
    "PDF\n",
    "\n",
    "Identical parameter $\\mu$  but differing parameters $\\sigma$.\n",
    "\n",
    "![](https://upload.wikimedia.org/wikipedia/commons/thumb/8/89/Log-normal-pdfs.png/1024px-Log-normal-pdfs.png)\n",
    "\n",
    "CDF\n",
    "\n",
    "$\\mu = 0$.\n",
    "\n",
    "![](https://upload.wikimedia.org/wikipedia/commons/thumb/d/dc/Log-normal-cdfs.png/1024px-Log-normal-cdfs.png)\n",
    "\n",
    "![](https://user-images.githubusercontent.com/63338657/156912334-5f5c21fc-3073-48f1-8d12-176a36695808.png)\n",
    "\n",
    "![](https://user-images.githubusercontent.com/63338657/156912368-2d2b6901-5a0b-4134-bfc0-49b7ee089df9.png)\n",
    "\n",
    "Occurrence and applications\n",
    "\n",
    "- The length of chess games tends to follow a log-normal distribution.\n",
    "- Users' dwell time on online articles (jokes, news etc.) follows a log-normal distribution.\n",
    "- The length of comments posted in Internet discussion forums follows a log-normal distribution.\n",
    "\n",
    "![](https://user-images.githubusercontent.com/63338657/156913154-279ab9a4-9e60-46f5-9299-d096f619de6a.png)"
   ]
  },
  {
   "cell_type": "markdown",
   "id": "e6777a49",
   "metadata": {},
   "source": [
    "---"
   ]
  },
  {
   "cell_type": "markdown",
   "id": "a805687a",
   "metadata": {},
   "source": [
    "__Power Transform__ (__Box-Cox Transform__ - one of the popular power transform)\n",
    "\n",
    "Transforms Pareto Distribution to Normal Distribution.\n",
    "\n",
    "Box-Cox Transform is not guaranteed to work on all Pareto or Power-Law distributed data. It works only on some of them and we need to perform the box-cox transform and observe the QQ-Plot to be certain of it working well on our data.\n",
    "\n",
    "![](https://user-images.githubusercontent.com/63338657/156918589-30f089e3-30dd-4589-86d6-348c68d3470e.png)\n",
    "\n",
    "![](https://user-images.githubusercontent.com/63338657/156918777-8d6da26a-0b87-4e01-8582-59814dab9b8a.png)"
   ]
  },
  {
   "cell_type": "markdown",
   "id": "3fd3d928",
   "metadata": {},
   "source": [
    "---"
   ]
  },
  {
   "cell_type": "markdown",
   "id": "b390c70c",
   "metadata": {},
   "source": [
    "__How do we find (quantify) the relationship between two variables?__\n",
    "\n",
    "1. Co-Variance\n",
    "2. Pearson Correlation Coefficient\n",
    "3. Spearman Rank Correlation Coefficient\n",
    "\n",
    "![](https://user-images.githubusercontent.com/63338657/157020020-59dd6288-8c2d-4586-84ba-fa080c877c22.png)\n",
    "\n",
    "__Co-Variance__\n",
    "\n",
    "In probability theory and statistics, covariance is a measure of the joint variability of two random variables. If the greater values of one variable mainly correspond with the greater values of the other variable, and the same holds for the lesser values (that is, the variables tend to show similar behavior), the covariance is positive. In the opposite case, when the greater values of one variable mainly correspond to the lesser values of the other, (that is, the variables tend to show opposite behavior), the covariance is negative. The sign of the covariance therefore shows the tendency in the linear relationship between the variables.\n",
    "\n",
    "![](https://upload.wikimedia.org/wikipedia/commons/thumb/a/a0/Covariance_trends.svg/320px-Covariance_trends.svg.png)\n",
    "\n",
    "Equation of Co-Variance for two random variables $X$ and $Y$:\n",
    "\n",
    "$$\\text{Cov}\\left(X, Y\\right) = \\frac{1}{n}\\sum_{i=1}^{n}\\left(x_i-\\mu_X\\right)\\left(y_i-\\mu_Y\\right)$$\n",
    "\n",
    "Co-Variance of $X$ with itself:\n",
    "\n",
    "$$\\text{Cov}\\left(X, X\\right) = \\text{Var}(X) = \\sigma^2_X$$\n",
    "\n",
    "Drawbacks of Co-Variance: Here the sign will not be changed but the magnitude will definitely change. Co-Variance magnitude is unbounded hence it is difficult to interpret result of Co-Variance.\n",
    "\n",
    "![](https://user-images.githubusercontent.com/63338657/157023850-0f73ea94-1628-4947-916c-216c4d64983f.png)\n",
    "\n",
    "__Pearson Correlation Coefficient__\n",
    "\n",
    "In statistics, the Pearson correlation coefficient - also known as Pearson's r, the Pearson product-moment correlation coefficient (PPMCC), the bivariate correlation, or colloquially simply as the correlation coefficient - is a measure of linear correlation between two sets of data. It is the ratio between the covariance of two variables and the product of their standard deviations; thus it is essentially a normalized measurement of the covariance, such that the result always has a value between $−1$ and $1$.\n",
    "\n",
    "![](https://upload.wikimedia.org/wikipedia/commons/3/34/Correlation_coefficient.png)\n",
    "\n",
    "Examples of scatter diagrams with different values of correlation coefficient $\\rho$.\n",
    "\n",
    "![](https://upload.wikimedia.org/wikipedia/commons/thumb/d/d4/Correlation_examples2.svg/1920px-Correlation_examples2.svg.png)\n",
    "\n",
    "Several sets of $\\left(x, y\\right)$ points, with the correlation coefficient of $x$ and $y$ for each set. Note that the correlation reflects the strength and direction of a linear relationship (top row), but not the slope of that relationship (middle), nor many aspects of nonlinear relationships (bottom). N.B.: the figure in the center has a slope of 0 but in that case the correlation coefficient is undefined because the variance of Y is zero.\n",
    "\n",
    "Equation of Pearson Correlation Coefficient for two random variables $X$ and $Y$:\n",
    "\n",
    "$$\\rho_{X,Y} = \\frac{\\text{Cov}\\left(X, Y\\right)}{\\sigma_X\\sigma_Y} = \\frac{\\frac{1}{n}\\sum_{i=1}^{n}\\left(x_i-\\mu_X\\right)\\left(y_i-\\mu_Y\\right)}{\\sqrt{\\frac{1}{n}\\sum_{i=1}^{n}\\left(x_i-\\mu_X\\right)^2}\\sqrt{\\frac{1}{n}\\sum_{i=1}^{n}\\left(y_i-\\mu_Y\\right)^2}} = \\frac{\\sum_{i=1}^{n}\\left(x_i-\\mu_X\\right)\\left(y_i-\\mu_Y\\right)}{\\sqrt{\\sum_{i=1}^{n}\\left(x_i-\\mu_X\\right)^2}\\sqrt{\\sum_{i=1}^{n}\\left(y_i-\\mu_Y\\right)^2}}$$\n",
    "\n",
    "Drawbacks of Pearson Correlation Coefficient: For non-linear relationship, this is not suitable.\n",
    "\n",
    "__Spearman's Rank Correlation Coefficient__\n",
    "\n",
    "The Spearman correlation between two variables is equal to the Pearson correlation between the rank values of those two variables; while Pearson's correlation assesses linear relationships, Spearman's correlation assesses monotonic relationships (whether linear or not).\n",
    "\n",
    "A monotonic relationship is a relationship that does one of the following:\n",
    "- as the value of one variable increases, so does the value of the other variable. Or,\n",
    "- as the value of one variable increases, the other variable value decreases.\n",
    "\n",
    "But, not exactly at a constant rate whereas in a linear relationship the rate of increase/decrease is constant.\n",
    "\n",
    "![](https://user-images.githubusercontent.com/63338657/157090596-6a8ebe97-91e2-4255-96c1-0ca7a9f08bbd.png)\n",
    "\n",
    "Spearman's Rank Correlation Coefficient is more robust to outliers.\n",
    "\n",
    "![](https://user-images.githubusercontent.com/63338657/157092984-02ceffd8-0445-4621-9cd1-9ee667218f21.png)"
   ]
  },
  {
   "cell_type": "markdown",
   "id": "c428c3c1",
   "metadata": {},
   "source": [
    "---"
   ]
  },
  {
   "cell_type": "markdown",
   "id": "78f86b78",
   "metadata": {},
   "source": [
    "__Confidence Interval__\n",
    "\n",
    "Link: https://youtu.be/TqOeMYtOc1w\n",
    "\n",
    "In statistics, a confidence interval (C.I) is a type of estimate computed from the statistics of the observed data. This gives a range of values for an unknown parameter (for example, a population mean).\n",
    "\n",
    "![](https://user-images.githubusercontent.com/63338657/157283859-d83258e2-3222-4f53-bd17-103947bb5441.png)\n",
    "\n",
    "![](https://user-images.githubusercontent.com/63338657/157285649-d1e4e578-b894-497d-a9d7-ccffbd641314.png)\n",
    "\n",
    "Let $\\bar{x}$ represent the sample mean and $\\mu$ represent the population mean. Now, if we repeat the sampling multiple times, each time, we get a different value of sample mean, $\\bar{x}$. In $95\\%$ of the sampling experiments, $\\mu$ will be between the endpoints of the C.I calculated using $\\bar{x}$, but in $5\\%$ of the cases, it will not be. The $95\\%$ C.I does NOT mean that $\\mu$ lies in the interval with a probability of $95\\%$.\n",
    "\n",
    "![](https://user-images.githubusercontent.com/63338657/158045758-691d39a7-3026-4790-b470-223fc880f369.png)\n",
    "\n",
    "![](https://user-images.githubusercontent.com/63338657/158045814-25ae7f9b-87fd-4d5a-873e-23cafea31dd5.png)\n",
    "\n",
    "![](https://user-images.githubusercontent.com/63338657/158046803-186515e4-ca36-42aa-8fa5-840b0a07621f.png)\n",
    "\n",
    "![](https://user-images.githubusercontent.com/63338657/158046933-e3a70360-85c2-476d-ac8a-da7bf0a9dcfa.png)\n",
    "\n",
    "![](https://user-images.githubusercontent.com/63338657/158047083-561e8eaf-722c-43bb-82cc-6b07f6471efe.png)\n",
    "\n",
    "![](https://user-images.githubusercontent.com/63338657/158047336-1424d8c9-c84f-4fef-8871-23333c56296b.png)\n",
    "\n",
    "__Confidence Interval using bootstrapping__\n",
    "\n",
    "![](https://user-images.githubusercontent.com/63338657/158047701-04cb4184-8a9b-4a0a-bdf3-c7c03d239c6d.png)\n",
    "\n",
    "![](https://user-images.githubusercontent.com/63338657/158047864-29bb8850-7bc1-4e53-8742-d64548648e21.png)\n",
    "\n",
    "![](https://user-images.githubusercontent.com/63338657/158048000-15eca2fd-a86c-4628-80e8-2ee6f9c398ef.png)\n",
    "\n",
    "![](https://user-images.githubusercontent.com/63338657/158048238-e0312c73-90a6-4802-97f3-4889e61c3a25.png)\n",
    "\n",
    "![](https://user-images.githubusercontent.com/63338657/158048317-3a14c734-7773-4ec7-8958-b15574f64368.png)\n",
    "\n",
    "Since the sample is the only information we have about the population, we take our sample itself as a model of population. In this case, resampling is not done to provide an estimate of the population distribution. Rather, resampling is done to provide an estimate of the sampling distribution of the sample statistic in question."
   ]
  },
  {
   "cell_type": "markdown",
   "id": "e431bc9c",
   "metadata": {},
   "source": [
    "---"
   ]
  },
  {
   "cell_type": "markdown",
   "id": "6c6edb8b",
   "metadata": {},
   "source": [
    "__Hypothesis Testing__\n",
    "\n",
    "Link: https://youtu.be/2VE6AZPS6bI\n",
    "\n",
    "![](https://user-images.githubusercontent.com/63338657/158049221-1cc29e16-8f65-4404-8fc6-242f44b3314e.png)\n",
    "\n",
    "![](https://user-images.githubusercontent.com/63338657/158049386-fb9e5dc4-aff3-41d7-bbc4-e76cfec0df71.png)\n",
    "\n",
    "![](https://user-images.githubusercontent.com/63338657/158049674-b6bc8ac4-3b37-4577-8ca3-dd363f85ce34.png)\n",
    "\n",
    "The p-value tells level of statistical significance. Smaller the p-value stronger the evidence that we should reject our null hypothesis.\n",
    "\n",
    "__Hypothesis Testing Intuition__\n",
    "\n",
    "![](https://user-images.githubusercontent.com/63338657/158053534-1a91b95c-642a-464e-a225-3dfe9c5a53a0.png)\n",
    "\n",
    "![](https://user-images.githubusercontent.com/63338657/158053675-5cafba6f-0638-4544-9b09-dcc83ad8005c.png)\n",
    "\n",
    "![](https://user-images.githubusercontent.com/63338657/158053786-da235038-2b53-4b59-b70f-0788e3c3f56e.png)\n",
    "\n",
    "![](https://user-images.githubusercontent.com/63338657/158053905-4a5aa466-f109-4ba8-a1af-2857d155dad4.png)\n",
    "\n",
    "![](https://user-images.githubusercontent.com/63338657/158054061-1ea7b9e8-7d89-4ae5-aea7-16ecad00e603.png)\n",
    "\n",
    "![](https://user-images.githubusercontent.com/63338657/158054146-eaaa8829-a305-4a46-9df3-2a29c06a64b4.png)\n",
    "\n",
    "![](https://user-images.githubusercontent.com/63338657/158054229-5ebf7bf6-b091-41a5-81b3-e079ec582a34.png)\n",
    "\n",
    "![](https://user-images.githubusercontent.com/63338657/158054355-4453ff79-d651-45f6-93a2-f348fddab13f.png)\n",
    "\n",
    "![](https://user-images.githubusercontent.com/63338657/158054544-f2162e62-9743-4a45-b2fb-99ddd3730039.png)\n",
    "\n",
    "![](https://user-images.githubusercontent.com/63338657/158054598-60f0af59-1117-44d1-bbfd-e6599f6846a3.png)\n",
    "\n",
    "__Resampling and Permutation Test__\n",
    "\n",
    "![](https://user-images.githubusercontent.com/63338657/158054906-b845f780-2e9d-454d-8174-88bf24252496.png)\n",
    "\n",
    "![](https://user-images.githubusercontent.com/63338657/158055133-13c8eb3c-44d2-44ab-8dd3-c0004d4ab5f0.png)\n",
    "\n",
    "![](https://user-images.githubusercontent.com/63338657/158055274-dfe26c87-3068-4236-92b7-dad60d3459ab.png)"
   ]
  },
  {
   "cell_type": "markdown",
   "id": "184853df",
   "metadata": {},
   "source": [
    "---"
   ]
  },
  {
   "cell_type": "markdown",
   "id": "1ce2d575",
   "metadata": {},
   "source": [
    "__Kolmogorov–Smirnov Test (K-S Test or KS Test)__\n",
    "\n",
    "In statistics, the Kolmogorov–Smirnov test (K-S test or KS test) is a nonparametric test of the equality of continuous (or discontinuous), one-dimensional probability distributions that can be used to compare a sample with a reference probability distribution (one-sample K-S test), or to compare two samples (two-sample K-S test). In essence, the test answers the question \"What is the probability that this collection of samples could have been drawn from that probability distribution?\" or, in the second case, \"What is the probability that these two sets of samples were drawn from the same (but unknown) probability distribution?\". It is named after Andrey Kolmogorov and Nikolai Smirnov.\n",
    "\n",
    "Link: https://youtu.be/C04oZK6I5k4\n",
    "\n",
    "![](https://user-images.githubusercontent.com/63338657/158070180-e4e93994-d99b-48c8-b0c5-e99d9f2189db.png)\n",
    "\n",
    "KS Test is a weak test as it is not designed for testing normality alone. It is a very general purpose test for comparing two distributions. There are more powerful tests that are designed for normality like Anderson-Darling test which is present in Scipy."
   ]
  },
  {
   "cell_type": "markdown",
   "id": "7c9fe17f",
   "metadata": {},
   "source": [
    "---"
   ]
  },
  {
   "cell_type": "markdown",
   "id": "2241035a",
   "metadata": {},
   "source": [
    "__How to use Hypothesis Testing?__\n",
    "\n",
    "![](https://user-images.githubusercontent.com/63338657/158217074-c1d35625-d71e-4de5-86f1-f775569a5be7.png)\n",
    "\n",
    "![](https://user-images.githubusercontent.com/63338657/158217596-7371ba5c-15bf-4fbf-895d-918e6c4041d6.png)\n",
    "\n",
    "![](https://user-images.githubusercontent.com/63338657/158221208-66ecb905-fe08-467f-bdbe-de062da079aa.png)\n",
    "\n",
    "![](https://user-images.githubusercontent.com/63338657/158222348-96fddd96-4dc7-4caa-9466-137b6d923593.png)\n",
    "\n",
    "![](https://user-images.githubusercontent.com/63338657/158223096-1eac4568-1e38-4315-914e-20d7ae848167.png)\n",
    "\n",
    "![](https://user-images.githubusercontent.com/63338657/158223844-14a1cfb5-b90d-4dbd-a7c4-bf4adf6d9a30.png)\n",
    "\n",
    "![](https://user-images.githubusercontent.com/63338657/158224438-a87df18f-f507-4e7a-952d-861337115063.png)\n",
    "\n",
    "Resampling and Permutation are performed so that our $H_0$ holds true i.e., we perform experiment under the condition that $H_0$ is true."
   ]
  },
  {
   "cell_type": "markdown",
   "id": "4304e434",
   "metadata": {},
   "source": [
    "---"
   ]
  },
  {
   "cell_type": "markdown",
   "id": "0452e434",
   "metadata": {},
   "source": [
    "__Proportional Sampling__\n",
    "\n",
    "![](https://user-images.githubusercontent.com/63338657/158227294-5707a72d-2901-43ca-8112-12cfbe4bbf78.png)\n",
    "\n",
    "![](https://user-images.githubusercontent.com/63338657/158227885-86bce795-0e17-4a81-8b46-9bf87681fbad.png)\n",
    "\n",
    "![](https://user-images.githubusercontent.com/63338657/158228598-eb0b0a8b-44f0-4737-ab56-bb573e1e3370.png)\n",
    "\n",
    "![](https://user-images.githubusercontent.com/63338657/158229006-15d0a5c2-8859-48f3-bdfd-0b4d23a9db51.png)\n",
    "\n",
    "![](https://user-images.githubusercontent.com/63338657/158229598-72d0bdc6-5406-4016-b705-bf747010d3b0.png)\n",
    "\n",
    "![](https://user-images.githubusercontent.com/63338657/158230124-5c1a8863-8120-4233-954a-e26ab6fa7c74.png)\n",
    "\n",
    "![](https://user-images.githubusercontent.com/63338657/158231103-574031fd-6029-4713-9c8a-bd9325a60555.png)"
   ]
  },
  {
   "cell_type": "code",
   "execution_count": null,
   "id": "1aa93fe2",
   "metadata": {},
   "outputs": [],
   "source": []
  }
 ],
 "metadata": {
  "kernelspec": {
   "display_name": "Python 3 (ipykernel)",
   "language": "python",
   "name": "python3"
  },
  "language_info": {
   "codemirror_mode": {
    "name": "ipython",
    "version": 3
   },
   "file_extension": ".py",
   "mimetype": "text/x-python",
   "name": "python",
   "nbconvert_exporter": "python",
   "pygments_lexer": "ipython3",
   "version": "3.10.2"
  }
 },
 "nbformat": 4,
 "nbformat_minor": 5
}
