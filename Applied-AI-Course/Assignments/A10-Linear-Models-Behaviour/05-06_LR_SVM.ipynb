{
 "cells": [
  {
   "cell_type": "markdown",
   "id": "6d1ce6b8",
   "metadata": {},
   "source": [
    "Let's import useful packages."
   ]
  },
  {
   "cell_type": "code",
   "execution_count": 1,
   "id": "063c9e15",
   "metadata": {},
   "outputs": [],
   "source": [
    "import warnings\n",
    "warnings.filterwarnings('ignore')"
   ]
  },
  {
   "cell_type": "code",
   "execution_count": 2,
   "id": "6a197881",
   "metadata": {},
   "outputs": [],
   "source": [
    "from matplotlib import pyplot as plt\n",
    "from matplotlib import style\n",
    "style.use(style='seaborn-whitegrid')"
   ]
  },
  {
   "cell_type": "code",
   "execution_count": 3,
   "id": "63f2b9f8",
   "metadata": {},
   "outputs": [],
   "source": [
    "from sklearn.datasets import make_classification\n",
    "from sklearn.model_selection import train_test_split\n",
    "from sklearn.svm import SVC"
   ]
  },
  {
   "cell_type": "code",
   "execution_count": 4,
   "id": "063a02b6",
   "metadata": {},
   "outputs": [],
   "source": [
    "from tqdm import tqdm"
   ]
  },
  {
   "cell_type": "code",
   "execution_count": 5,
   "id": "2d993c23",
   "metadata": {},
   "outputs": [],
   "source": [
    "import numpy as np\n",
    "import pandas as pd"
   ]
  },
  {
   "cell_type": "markdown",
   "id": "42cc28c7",
   "metadata": {},
   "source": [
    "Data preparation."
   ]
  },
  {
   "cell_type": "code",
   "execution_count": 6,
   "id": "5cb5425b",
   "metadata": {},
   "outputs": [
    {
     "name": "stdout",
     "output_type": "stream",
     "text": [
      "(5000, 5) (5000,)\n"
     ]
    }
   ],
   "source": [
    "X, y = make_classification(n_samples=5000,\n",
    "                           n_features=5,\n",
    "                           n_redundant=2,\n",
    "                           n_classes=2,\n",
    "                           weights=[0.7],\n",
    "                           class_sep=0.7,\n",
    "                           random_state=15)\n",
    "print(X.shape, y.shape)"
   ]
  },
  {
   "cell_type": "markdown",
   "id": "6721a419",
   "metadata": {},
   "source": [
    "Data splitting."
   ]
  },
  {
   "cell_type": "code",
   "execution_count": 7,
   "id": "0ff227cc",
   "metadata": {},
   "outputs": [
    {
     "name": "stdout",
     "output_type": "stream",
     "text": [
      "(3200, 5) (3200,)\n",
      "(800, 5) (800,)\n",
      "(1000, 5) (1000,)\n"
     ]
    }
   ],
   "source": [
    "X_train, X_test, y_train, y_test = train_test_split(X, y, test_size=0.20, stratify=y)\n",
    "X_train, X_cv, y_train, y_cv = train_test_split(X_train, y_train, test_size=0.20, stratify=y_train)\n",
    "print(X_train.shape, y_train.shape)\n",
    "print(X_cv.shape, y_cv.shape)\n",
    "print(X_test.shape, y_test.shape)"
   ]
  },
  {
   "cell_type": "markdown",
   "id": "964cc855",
   "metadata": {},
   "source": [
    "`SVC` model."
   ]
  },
  {
   "cell_type": "code",
   "execution_count": 8,
   "id": "f8cb1f76",
   "metadata": {},
   "outputs": [
    {
     "data": {
      "text/html": [
       "<style>#sk-container-id-1 {color: black;background-color: white;}#sk-container-id-1 pre{padding: 0;}#sk-container-id-1 div.sk-toggleable {background-color: white;}#sk-container-id-1 label.sk-toggleable__label {cursor: pointer;display: block;width: 100%;margin-bottom: 0;padding: 0.3em;box-sizing: border-box;text-align: center;}#sk-container-id-1 label.sk-toggleable__label-arrow:before {content: \"▸\";float: left;margin-right: 0.25em;color: #696969;}#sk-container-id-1 label.sk-toggleable__label-arrow:hover:before {color: black;}#sk-container-id-1 div.sk-estimator:hover label.sk-toggleable__label-arrow:before {color: black;}#sk-container-id-1 div.sk-toggleable__content {max-height: 0;max-width: 0;overflow: hidden;text-align: left;background-color: #f0f8ff;}#sk-container-id-1 div.sk-toggleable__content pre {margin: 0.2em;color: black;border-radius: 0.25em;background-color: #f0f8ff;}#sk-container-id-1 input.sk-toggleable__control:checked~div.sk-toggleable__content {max-height: 200px;max-width: 100%;overflow: auto;}#sk-container-id-1 input.sk-toggleable__control:checked~label.sk-toggleable__label-arrow:before {content: \"▾\";}#sk-container-id-1 div.sk-estimator input.sk-toggleable__control:checked~label.sk-toggleable__label {background-color: #d4ebff;}#sk-container-id-1 div.sk-label input.sk-toggleable__control:checked~label.sk-toggleable__label {background-color: #d4ebff;}#sk-container-id-1 input.sk-hidden--visually {border: 0;clip: rect(1px 1px 1px 1px);clip: rect(1px, 1px, 1px, 1px);height: 1px;margin: -1px;overflow: hidden;padding: 0;position: absolute;width: 1px;}#sk-container-id-1 div.sk-estimator {font-family: monospace;background-color: #f0f8ff;border: 1px dotted black;border-radius: 0.25em;box-sizing: border-box;margin-bottom: 0.5em;}#sk-container-id-1 div.sk-estimator:hover {background-color: #d4ebff;}#sk-container-id-1 div.sk-parallel-item::after {content: \"\";width: 100%;border-bottom: 1px solid gray;flex-grow: 1;}#sk-container-id-1 div.sk-label:hover label.sk-toggleable__label {background-color: #d4ebff;}#sk-container-id-1 div.sk-serial::before {content: \"\";position: absolute;border-left: 1px solid gray;box-sizing: border-box;top: 0;bottom: 0;left: 50%;z-index: 0;}#sk-container-id-1 div.sk-serial {display: flex;flex-direction: column;align-items: center;background-color: white;padding-right: 0.2em;padding-left: 0.2em;position: relative;}#sk-container-id-1 div.sk-item {position: relative;z-index: 1;}#sk-container-id-1 div.sk-parallel {display: flex;align-items: stretch;justify-content: center;background-color: white;position: relative;}#sk-container-id-1 div.sk-item::before, #sk-container-id-1 div.sk-parallel-item::before {content: \"\";position: absolute;border-left: 1px solid gray;box-sizing: border-box;top: 0;bottom: 0;left: 50%;z-index: -1;}#sk-container-id-1 div.sk-parallel-item {display: flex;flex-direction: column;z-index: 1;position: relative;background-color: white;}#sk-container-id-1 div.sk-parallel-item:first-child::after {align-self: flex-end;width: 50%;}#sk-container-id-1 div.sk-parallel-item:last-child::after {align-self: flex-start;width: 50%;}#sk-container-id-1 div.sk-parallel-item:only-child::after {width: 0;}#sk-container-id-1 div.sk-dashed-wrapped {border: 1px dashed gray;margin: 0 0.4em 0.5em 0.4em;box-sizing: border-box;padding-bottom: 0.4em;background-color: white;}#sk-container-id-1 div.sk-label label {font-family: monospace;font-weight: bold;display: inline-block;line-height: 1.2em;}#sk-container-id-1 div.sk-label-container {text-align: center;}#sk-container-id-1 div.sk-container {/* jupyter's `normalize.less` sets `[hidden] { display: none; }` but bootstrap.min.css set `[hidden] { display: none !important; }` so we also need the `!important` here to be able to override the default hidden behavior on the sphinx rendered scikit-learn.org. See: https://github.com/scikit-learn/scikit-learn/issues/21755 */display: inline-block !important;position: relative;}#sk-container-id-1 div.sk-text-repr-fallback {display: none;}</style><div id=\"sk-container-id-1\" class=\"sk-top-container\"><div class=\"sk-text-repr-fallback\"><pre>SVC(C=100.0, gamma=0.001)</pre><b>In a Jupyter environment, please rerun this cell to show the HTML representation or trust the notebook. <br />On GitHub, the HTML representation is unable to render, please try loading this page with nbviewer.org.</b></div><div class=\"sk-container\" hidden><div class=\"sk-item\"><div class=\"sk-estimator sk-toggleable\"><input class=\"sk-toggleable__control sk-hidden--visually\" id=\"sk-estimator-id-1\" type=\"checkbox\" checked><label for=\"sk-estimator-id-1\" class=\"sk-toggleable__label sk-toggleable__label-arrow\">SVC</label><div class=\"sk-toggleable__content\"><pre>SVC(C=100.0, gamma=0.001)</pre></div></div></div></div></div>"
      ],
      "text/plain": [
       "SVC(C=100.0, gamma=0.001)"
      ]
     },
     "execution_count": 8,
     "metadata": {},
     "output_type": "execute_result"
    }
   ],
   "source": [
    "clf = SVC(gamma=0.001, C=100.)\n",
    "clf.fit(X=X_train, y=y_train)"
   ]
  },
  {
   "cell_type": "code",
   "execution_count": 9,
   "id": "8f0e4e0a",
   "metadata": {},
   "outputs": [
    {
     "name": "stdout",
     "output_type": "stream",
     "text": [
      "(585,)\n"
     ]
    }
   ],
   "source": [
    "y_alpha = clf.dual_coef_[0]\n",
    "print(y_alpha.shape)"
   ]
  },
  {
   "cell_type": "code",
   "execution_count": 10,
   "id": "7c930d7b",
   "metadata": {},
   "outputs": [
    {
     "name": "stdout",
     "output_type": "stream",
     "text": [
      "(585, 5)\n"
     ]
    }
   ],
   "source": [
    "sup_vecs = clf.support_vectors_\n",
    "print(sup_vecs.shape)"
   ]
  },
  {
   "cell_type": "code",
   "execution_count": 11,
   "id": "4ca2e573",
   "metadata": {},
   "outputs": [
    {
     "name": "stdout",
     "output_type": "stream",
     "text": [
      "0.9307897393282303\n"
     ]
    }
   ],
   "source": [
    "intercept = clf.intercept_[0]\n",
    "print(intercept)"
   ]
  },
  {
   "cell_type": "markdown",
   "id": "1b73c75c",
   "metadata": {},
   "source": [
    "Kernel trick.\n",
    "\n",
    "Norm: https://numpy.org/doc/stable/reference/generated/numpy.linalg.norm.html"
   ]
  },
  {
   "cell_type": "code",
   "execution_count": 12,
   "id": "e3d12913",
   "metadata": {},
   "outputs": [],
   "source": [
    "def compute_kernel_trick(xq, vector, gamma):\n",
    "    \"\"\"\n",
    "    This function computes the kernel trick.\n",
    "    \"\"\"\n",
    "    k = np.exp(-gamma * np.linalg.norm(x=(xq-vector)) ** 2)\n",
    "    return k"
   ]
  },
  {
   "cell_type": "markdown",
   "id": "c0cdf686",
   "metadata": {},
   "source": [
    "Decision function."
   ]
  },
  {
   "cell_type": "code",
   "execution_count": 13,
   "id": "36c59e00",
   "metadata": {},
   "outputs": [],
   "source": [
    "def decision_function(Xq, y_alpha, sup_vecs, intercept, gamma):\n",
    "    \"\"\"\n",
    "    This method computes the decision function.\n",
    "    \"\"\"\n",
    "    total = sup_vecs.shape[0]\n",
    "    deci_vals = list()\n",
    "    for xq in Xq:\n",
    "        vals = np.sum([y_alpha[i] * \n",
    "                       compute_kernel_trick(xq=xq,\n",
    "                                            vector=sup_vecs[i],\n",
    "                                            gamma=gamma) \n",
    "                       for i in range(total)])\n",
    "        d_sum = vals + intercept\n",
    "        deci_vals.append(d_sum)\n",
    "    deci_vals = np.array(deci_vals)\n",
    "    return deci_vals"
   ]
  },
  {
   "cell_type": "code",
   "execution_count": 14,
   "id": "411c41ef",
   "metadata": {},
   "outputs": [],
   "source": [
    "actual_cv = clf.decision_function(X=X_cv)"
   ]
  },
  {
   "cell_type": "code",
   "execution_count": 15,
   "id": "99056e55",
   "metadata": {},
   "outputs": [],
   "source": [
    "f_cv = decision_function(Xq=X_cv, y_alpha=y_alpha, sup_vecs=sup_vecs, intercept=intercept, gamma=0.001)"
   ]
  },
  {
   "cell_type": "code",
   "execution_count": 16,
   "id": "b6fce23a",
   "metadata": {
    "scrolled": true
   },
   "outputs": [
    {
     "name": "stdout",
     "output_type": "stream",
     "text": [
      "True\n"
     ]
    }
   ],
   "source": [
    "print(actual_cv.shape == f_cv.shape)"
   ]
  },
  {
   "cell_type": "code",
   "execution_count": 17,
   "id": "15ea44ce",
   "metadata": {},
   "outputs": [
    {
     "name": "stdout",
     "output_type": "stream",
     "text": [
      "[ 0.11678463  2.10419471  0.79927688 -3.15387783 -1.54749615 -3.34018573\n",
      "  1.39803127 -0.20547436 -1.81747348 -3.36782139 -2.39057524  2.45882518\n",
      " -2.51024249  2.4216617  -2.1334898   2.09460278 -1.62149912 -3.12519872\n",
      " -3.37911696  1.47961468]\n",
      "[ 0.11678463  2.10419471  0.79927688 -3.15387783 -1.54749615 -3.34018573\n",
      "  1.39803127 -0.20547436 -1.81747348 -3.36782139 -2.39057524  2.45882518\n",
      " -2.51024249  2.4216617  -2.1334898   2.09460278 -1.62149912 -3.12519872\n",
      " -3.37911696  1.47961468]\n"
     ]
    }
   ],
   "source": [
    "print(actual_cv[:20])\n",
    "print(f_cv[:20])"
   ]
  },
  {
   "cell_type": "code",
   "execution_count": 18,
   "id": "099e000d",
   "metadata": {
    "scrolled": true
   },
   "outputs": [
    {
     "name": "stdout",
     "output_type": "stream",
     "text": [
      "True\n"
     ]
    }
   ],
   "source": [
    "print(np.allclose(a=actual_cv, b=f_cv))"
   ]
  },
  {
   "cell_type": "markdown",
   "id": "50b668de",
   "metadata": {},
   "source": [
    "---"
   ]
  },
  {
   "cell_type": "markdown",
   "id": "38713a66",
   "metadata": {},
   "source": [
    "Data calibration."
   ]
  },
  {
   "cell_type": "code",
   "execution_count": 19,
   "id": "076f9ca0",
   "metadata": {},
   "outputs": [],
   "source": [
    "class DataCalibration(object):\n",
    "    \"\"\"\n",
    "    Implements the data calibration.\n",
    "    \"\"\"\n",
    "    \n",
    "    def __init__(self, f_cv, y_cv, chunks=50):\n",
    "        self.f_cv = f_cv\n",
    "        self.y_cv = y_cv\n",
    "        self.chunks = chunks\n",
    "        self.calib_table = self.construct_calibration_table()\n",
    "        self.avg_df = self.make_chunks()\n",
    "        self.x = self.avg_df.values[:, 0]\n",
    "        self.y = self.avg_df.values[:, 1]\n",
    "        self.p = self.prediction()\n",
    "    \n",
    "    def construct_calibration_table(self):\n",
    "        \"\"\"\n",
    "        This method constructs the calibration table.\n",
    "        \"\"\"\n",
    "        df = pd.DataFrame()\n",
    "        df['y_cap'] = self.f_cv\n",
    "        df['y_act'] = self.y_cv\n",
    "        df = df.sort_values(by=['y_cap'])\n",
    "        return df\n",
    "    \n",
    "    def make_chunks(self):\n",
    "        \"\"\"\n",
    "        This method divides the data into chucks.\n",
    "        \"\"\"\n",
    "        avgs = list()\n",
    "        all_chunks = np.array_split(ary=self.calib_table, indices_or_sections=self.chunks)\n",
    "        for each_chunk_df in all_chunks:\n",
    "            avg_val = each_chunk_df.mean().values\n",
    "            avgs.append(avg_val)\n",
    "        avg_matrix = np.matrix(avgs)\n",
    "        cols = list(self.calib_table.columns)\n",
    "        avg_df = pd.DataFrame(data=avg_matrix, columns=cols)\n",
    "        return avg_df\n",
    "    \n",
    "    def prediction(self):\n",
    "        \"\"\"\n",
    "        This method computes the polyfit of `y_cap` and `y_act` from average dataframe.\n",
    "        \"\"\"\n",
    "        w, b = np.polyfit(x=self.x, y=self.y, deg=1)\n",
    "        p = (w * self.x) + b\n",
    "        return p\n",
    "    \n",
    "    def plot_calibration(self):\n",
    "        \"\"\"\n",
    "        This method plots the calibration plot.\n",
    "        \"\"\"\n",
    "        plt.figure(figsize=(10, 6))\n",
    "        plt.title(label='Calibration Plot')\n",
    "        plt.plot(self.x, self.y, 'o--', color='b', label='$(\\hat{y}, y)$')\n",
    "        plt.plot(self.x, self.p, '--', color='g', label='Predicition')\n",
    "        plt.xlabel(xlabel='Average $\\hat{y}$')\n",
    "        plt.ylabel(ylabel='Average $y$')\n",
    "        plt.legend()\n",
    "        plt.show()"
   ]
  },
  {
   "cell_type": "code",
   "execution_count": 20,
   "id": "94222551",
   "metadata": {
    "scrolled": false
   },
   "outputs": [
    {
     "data": {
      "image/png": "[encoded data removed]",
      "text/plain": [
       "<Figure size 720x432 with 1 Axes>"
      ]
     },
     "metadata": {
      "needs_background": "light"
     },
     "output_type": "display_data"
    }
   ],
   "source": [
    "dc = DataCalibration(f_cv=f_cv, y_cv=y_cv, chunks=20)\n",
    "dc.plot_calibration()"
   ]
  },
  {
   "cell_type": "markdown",
   "id": "2628bd2d",
   "metadata": {},
   "source": [
    "Modify the targets for Platt Scaling."
   ]
  },
  {
   "cell_type": "code",
   "execution_count": 21,
   "id": "a7b7f154",
   "metadata": {},
   "outputs": [],
   "source": [
    "def modify_targets(y_train, ys):\n",
    "    \"\"\"\n",
    "    This function modifies the targets for Platt Scaling.\n",
    "    \"\"\"\n",
    "    N_plus = np.count_nonzero(a=y_train)\n",
    "    N_minus = len(y_train) - N_plus\n",
    "    y_plus = (N_plus + 1) / (N_plus + 2)\n",
    "    y_minus = 1 / (N_minus + 2)\n",
    "    ys_m = np.where((ys == 1), y_plus, y_minus)\n",
    "    return ys_m"
   ]
  },
  {
   "cell_type": "code",
   "execution_count": 22,
   "id": "d226aefc",
   "metadata": {},
   "outputs": [
    {
     "name": "stdout",
     "output_type": "stream",
     "text": [
      "[9.98970134e-01 9.98970134e-01 9.98970134e-01 4.47828034e-04\n",
      " 4.47828034e-04 4.47828034e-04 9.98970134e-01 9.98970134e-01\n",
      " 4.47828034e-04 4.47828034e-04]\n"
     ]
    }
   ],
   "source": [
    "y_cv_m = modify_targets(y_train=y_train, ys=y_cv)\n",
    "print(y_cv_m[:10])"
   ]
  },
  {
   "cell_type": "code",
   "execution_count": 23,
   "id": "7be5e43b",
   "metadata": {},
   "outputs": [
    {
     "name": "stdout",
     "output_type": "stream",
     "text": [
      "[4.47828034e-04 4.47828034e-04 4.47828034e-04 9.98970134e-01\n",
      " 4.47828034e-04 4.47828034e-04 4.47828034e-04 9.98970134e-01\n",
      " 4.47828034e-04 4.47828034e-04]\n"
     ]
    }
   ],
   "source": [
    "y_test_m = modify_targets(y_train=y_train, ys=y_test)\n",
    "print(y_test_m[:10])"
   ]
  },
  {
   "cell_type": "code",
   "execution_count": 24,
   "id": "86f8f7cc",
   "metadata": {},
   "outputs": [],
   "source": [
    "f_test = decision_function(Xq=X_test, y_alpha=y_alpha, sup_vecs=sup_vecs, intercept=intercept, gamma=0.001)"
   ]
  },
  {
   "cell_type": "code",
   "execution_count": 25,
   "id": "cceb0b6d",
   "metadata": {},
   "outputs": [],
   "source": [
    "f_cv_m = f_cv.reshape(-1, 1)\n",
    "f_test_m = f_test.reshape(-1, 1)"
   ]
  },
  {
   "cell_type": "markdown",
   "id": "7bedca4a",
   "metadata": {},
   "source": [
    "SGD Classifier."
   ]
  },
  {
   "cell_type": "code",
   "execution_count": 26,
   "id": "0e16ce37",
   "metadata": {},
   "outputs": [],
   "source": [
    "class CustomSGDClassifier(object):\n",
    "    \"\"\"\n",
    "    This class executes the Custom SGD Classifier.\n",
    "    \"\"\"\n",
    "    \n",
    "    def __init__(self, f_cv, y_cv, f_test, y_test, alpha, eta0, epochs):\n",
    "        self.f_cv = f_cv\n",
    "        self.y_cv = y_cv\n",
    "        self.f_test = f_test\n",
    "        self.y_test = y_test\n",
    "        self.alpha = alpha\n",
    "        self.eta0 = eta0\n",
    "        self.epochs = epochs\n",
    "        self.N = len(self.f_cv)\n",
    "    \n",
    "    def initialize_weights(self, dim):\n",
    "        \"\"\"\n",
    "        This method initializes weights.\n",
    "        \"\"\"\n",
    "        w = np.zeros_like(a=dim)\n",
    "        b = 0\n",
    "        return w, b\n",
    "    \n",
    "    def sigmoid(self, z):\n",
    "        \"\"\"\n",
    "        This method computes sigmoid function of z.\n",
    "        \"\"\"\n",
    "        sigval = 1 / (1 + np.exp(-z))\n",
    "        return sigval\n",
    "    \n",
    "    def logloss(self, y_true, y_pred):\n",
    "        \"\"\"\n",
    "        This method computes the log loss.\n",
    "        \"\"\"\n",
    "        l = 0\n",
    "        n = len(y_true)\n",
    "        for y_t, y_p in zip(y_true, y_pred):\n",
    "            l += (y_t * np.log10(y_p)) + ((1 - y_t) * np.log10(1 - y_p))\n",
    "        loss = (-1 / n) * l\n",
    "        return loss\n",
    "    \n",
    "    def gradient_dw(self, x, y, w, b):\n",
    "        \"\"\"\n",
    "        This method computes the gradient w.r.t `w`.\n",
    "        \"\"\"\n",
    "        z = np.dot(a=w.T, b=x) + b\n",
    "        dw = x * (y - self.sigmoid(z=z)) - ((self.alpha / self.N) * w)\n",
    "        return dw\n",
    "    \n",
    "    def gradient_db(self, x, y, w, b):\n",
    "        \"\"\"\n",
    "        This method computes the gradient w.r.t `b`.\n",
    "        \"\"\"\n",
    "        z = np.dot(a=w.T, b=x) + b\n",
    "        db = y - self.sigmoid(z=z)\n",
    "        return db\n",
    "    \n",
    "    def predict(self, w, b, X):\n",
    "        \"\"\"\n",
    "        This method predicts.\n",
    "        \"\"\"\n",
    "        N = len(X)\n",
    "        pred = list()\n",
    "        for i in range(N):\n",
    "            z = np.dot(w, X[i]) + b\n",
    "            pred.append(self.sigmoid(z=z))\n",
    "        return np.array(pred)\n",
    "    \n",
    "    def train(self):\n",
    "        \"\"\"\n",
    "        This method fits the data.\n",
    "        \"\"\"\n",
    "        cv_loss = list()\n",
    "        test_loss = list()\n",
    "        e_list = list()\n",
    "        w, b = self.initialize_weights(dim=self.f_cv[0])\n",
    "        for e in tqdm(range(self.epochs)):\n",
    "            for xi, yi in zip(self.f_cv, self.y_cv):\n",
    "                dw = self.gradient_dw(x=xi, y=yi, w=w, b=b)\n",
    "                db = self.gradient_db(x=xi, y=yi, w=w, b=b)\n",
    "                w = w + self.eta0 * dw\n",
    "                b = b + self.eta0 * db\n",
    "            cv_pred = self.predict(w=w, b=b, X=self.f_cv)\n",
    "            cv_l = self.logloss(y_true=self.y_cv, y_pred=cv_pred)\n",
    "            cv_loss.append(cv_l)\n",
    "            test_pred = self.predict(w=w, b=b, X=self.f_test)\n",
    "            test_l = self.logloss(y_true=self.y_test, y_pred=test_pred)\n",
    "            test_loss.append(test_l)\n",
    "            e_list.append(e)\n",
    "        print(\"\\nWeight: {}\".format(w[0]))\n",
    "        print(\"Bias: {}\".format(b))\n",
    "        plt.figure(figsize=(10, 6))\n",
    "        plt.plot(e_list, cv_loss, color='r', label='CV Loss')\n",
    "        plt.plot(e_list, test_loss, color='b', label='Test Loss')\n",
    "        plt.xlabel(xlabel='Epochs')\n",
    "        plt.ylabel(ylabel='Loss')\n",
    "        plt.title(label='Epochs Vs Loss')\n",
    "        plt.legend()\n",
    "        plt.show()\n",
    "        return w[0], b"
   ]
  },
  {
   "cell_type": "code",
   "execution_count": 27,
   "id": "f9a670db",
   "metadata": {},
   "outputs": [],
   "source": [
    "clf_sgd = CustomSGDClassifier(f_cv=f_cv_m,\n",
    "                              y_cv=y_cv_m,\n",
    "                              f_test=f_test_m,\n",
    "                              y_test=y_test_m, \n",
    "                              alpha=0.0001,\n",
    "                              eta0=0.0001,\n",
    "                              epochs=1000)"
   ]
  },
  {
   "cell_type": "code",
   "execution_count": 28,
   "id": "042fa945",
   "metadata": {
    "scrolled": false
   },
   "outputs": [
    {
     "name": "stderr",
     "output_type": "stream",
     "text": [
      "100%|███████████████████████████████████████████████████████████████| 1000/1000 [00:12<00:00, 77.04it/s]\n"
     ]
    },
    {
     "name": "stdout",
     "output_type": "stream",
     "text": [
      "\n",
      "Weight: 1.7584310796229727\n",
      "Bias: 0.16394466838611874\n"
     ]
    },
    {
     "data": {
      "image/png": "[encoded data removed]",
      "text/plain": [
       "<Figure size 720x432 with 1 Axes>"
      ]
     },
     "metadata": {
      "needs_background": "light"
     },
     "output_type": "display_data"
    }
   ],
   "source": [
    "w, b = clf_sgd.train()"
   ]
  },
  {
   "cell_type": "markdown",
   "id": "a73d9547",
   "metadata": {},
   "source": [
    "$P(y=1|X_{test})$"
   ]
  },
  {
   "cell_type": "code",
   "execution_count": 29,
   "id": "71b9d695",
   "metadata": {
    "scrolled": true
   },
   "outputs": [
    {
     "name": "stdout",
     "output_type": "stream",
     "text": [
      "[2.38405602e-02 3.20720577e-02 5.49068383e-04 6.02580902e-01\n",
      " 1.81939437e-02 3.47579781e-02 3.21813463e-03 1.19767630e-01\n",
      " 3.84434322e-03 2.81554937e-03]\n",
      "True\n"
     ]
    }
   ],
   "source": [
    "prob_given_X_test = (1 / (1 + np.exp(-((w * f_test_m) + b)))).reshape(1, -1)[0]\n",
    "print(prob_given_X_test[:10])\n",
    "print(len(prob_given_X_test) == X_test.shape[0])"
   ]
  },
  {
   "cell_type": "markdown",
   "id": "b0556430",
   "metadata": {},
   "source": [
    "---"
   ]
  },
  {
   "cell_type": "markdown",
   "id": "da1cdd50",
   "metadata": {},
   "source": [
    "End of the file."
   ]
  }
 ],
 "metadata": {
  "kernelspec": {
   "display_name": "Python 3 (ipykernel)",
   "language": "python",
   "name": "python3"
  },
  "language_info": {
   "codemirror_mode": {
    "name": "ipython",
    "version": 3
   },
   "file_extension": ".py",
   "mimetype": "text/x-python",
   "name": "python",
   "nbconvert_exporter": "python",
   "pygments_lexer": "ipython3",
   "version": "3.10.5"
  }
 },
 "nbformat": 4,
 "nbformat_minor": 5
}
