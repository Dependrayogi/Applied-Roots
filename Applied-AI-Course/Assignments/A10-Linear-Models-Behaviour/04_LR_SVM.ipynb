{
 "cells": [
  {
   "cell_type": "markdown",
   "id": "6d1ce6b8",
   "metadata": {},
   "source": [
    "Let's import useful packages."
   ]
  },
  {
   "cell_type": "code",
   "execution_count": 1,
   "id": "063c9e15",
   "metadata": {},
   "outputs": [],
   "source": [
    "import warnings\n",
    "warnings.filterwarnings('ignore')"
   ]
  },
  {
   "cell_type": "code",
   "execution_count": 2,
   "id": "2f784e94",
   "metadata": {},
   "outputs": [],
   "source": [
    "from matplotlib import pyplot as plt\n",
    "from matplotlib import style\n",
    "style.use(style='seaborn-whitegrid')"
   ]
  },
  {
   "cell_type": "code",
   "execution_count": 3,
   "id": "0f2286e4",
   "metadata": {},
   "outputs": [],
   "source": [
    "from sklearn.linear_model import SGDClassifier\n",
    "from sklearn.model_selection import GridSearchCV\n",
    "from sklearn.preprocessing import StandardScaler"
   ]
  },
  {
   "cell_type": "code",
   "execution_count": 4,
   "id": "5a68488e",
   "metadata": {},
   "outputs": [],
   "source": [
    "import numpy as np\n",
    "import pandas as pd\n",
    "import seaborn as sns"
   ]
  },
  {
   "cell_type": "markdown",
   "id": "daceeda7",
   "metadata": {},
   "source": [
    "Load the data."
   ]
  },
  {
   "cell_type": "code",
   "execution_count": 5,
   "id": "3ecce60f",
   "metadata": {},
   "outputs": [
    {
     "data": {
      "text/html": [
       "<div>\n",
       "<style scoped>\n",
       "    .dataframe tbody tr th:only-of-type {\n",
       "        vertical-align: middle;\n",
       "    }\n",
       "\n",
       "    .dataframe tbody tr th {\n",
       "        vertical-align: top;\n",
       "    }\n",
       "\n",
       "    .dataframe thead th {\n",
       "        text-align: right;\n",
       "    }\n",
       "</style>\n",
       "<table border=\"1\" class=\"dataframe\">\n",
       "  <thead>\n",
       "    <tr style=\"text-align: right;\">\n",
       "      <th></th>\n",
       "      <th>x</th>\n",
       "      <th>y</th>\n",
       "      <th>z</th>\n",
       "      <th>x*x</th>\n",
       "      <th>2*y</th>\n",
       "      <th>2*z+3*x*x</th>\n",
       "      <th>w</th>\n",
       "      <th>target</th>\n",
       "    </tr>\n",
       "  </thead>\n",
       "  <tbody>\n",
       "    <tr>\n",
       "      <th>0</th>\n",
       "      <td>-0.581066</td>\n",
       "      <td>0.841837</td>\n",
       "      <td>-1.012978</td>\n",
       "      <td>-0.604025</td>\n",
       "      <td>0.841837</td>\n",
       "      <td>-0.665927</td>\n",
       "      <td>-0.536277</td>\n",
       "      <td>0</td>\n",
       "    </tr>\n",
       "    <tr>\n",
       "      <th>1</th>\n",
       "      <td>-0.894309</td>\n",
       "      <td>-0.207835</td>\n",
       "      <td>-1.012978</td>\n",
       "      <td>-0.883052</td>\n",
       "      <td>-0.207835</td>\n",
       "      <td>-0.917054</td>\n",
       "      <td>-0.522364</td>\n",
       "      <td>0</td>\n",
       "    </tr>\n",
       "    <tr>\n",
       "      <th>2</th>\n",
       "      <td>-1.207552</td>\n",
       "      <td>0.212034</td>\n",
       "      <td>-1.082312</td>\n",
       "      <td>-1.150918</td>\n",
       "      <td>0.212034</td>\n",
       "      <td>-1.166507</td>\n",
       "      <td>0.205738</td>\n",
       "      <td>0</td>\n",
       "    </tr>\n",
       "    <tr>\n",
       "      <th>3</th>\n",
       "      <td>-1.364174</td>\n",
       "      <td>0.002099</td>\n",
       "      <td>-0.943643</td>\n",
       "      <td>-1.280666</td>\n",
       "      <td>0.002099</td>\n",
       "      <td>-1.266540</td>\n",
       "      <td>-0.665720</td>\n",
       "      <td>0</td>\n",
       "    </tr>\n",
       "    <tr>\n",
       "      <th>4</th>\n",
       "      <td>-0.737687</td>\n",
       "      <td>1.051772</td>\n",
       "      <td>-1.012978</td>\n",
       "      <td>-0.744934</td>\n",
       "      <td>1.051772</td>\n",
       "      <td>-0.792746</td>\n",
       "      <td>-0.735054</td>\n",
       "      <td>0</td>\n",
       "    </tr>\n",
       "  </tbody>\n",
       "</table>\n",
       "</div>"
      ],
      "text/plain": [
       "          x         y         z       x*x       2*y  2*z+3*x*x         w  \\\n",
       "0 -0.581066  0.841837 -1.012978 -0.604025  0.841837  -0.665927 -0.536277   \n",
       "1 -0.894309 -0.207835 -1.012978 -0.883052 -0.207835  -0.917054 -0.522364   \n",
       "2 -1.207552  0.212034 -1.082312 -1.150918  0.212034  -1.166507  0.205738   \n",
       "3 -1.364174  0.002099 -0.943643 -1.280666  0.002099  -1.266540 -0.665720   \n",
       "4 -0.737687  1.051772 -1.012978 -0.744934  1.051772  -0.792746 -0.735054   \n",
       "\n",
       "   target  \n",
       "0       0  \n",
       "1       0  \n",
       "2       0  \n",
       "3       0  \n",
       "4       0  "
      ]
     },
     "metadata": {},
     "output_type": "display_data"
    }
   ],
   "source": [
    "df = pd.read_csv(filepath_or_buffer='task_d.csv')\n",
    "display(df.head())"
   ]
  },
  {
   "cell_type": "code",
   "execution_count": 6,
   "id": "2a9b3471",
   "metadata": {},
   "outputs": [
    {
     "data": {
      "image/png": "[encoded data removed]",
      "text/plain": [
       "<Figure size 720x144 with 1 Axes>"
      ]
     },
     "metadata": {
      "needs_background": "light"
     },
     "output_type": "display_data"
    }
   ],
   "source": [
    "plt.figure(figsize=(10, 2))\n",
    "df['target'].value_counts().plot(kind='barh')\n",
    "plt.show()"
   ]
  },
  {
   "cell_type": "markdown",
   "id": "570afb1d",
   "metadata": {},
   "source": [
    "This data is a balanced data and has two classes $0$ and $1$."
   ]
  },
  {
   "cell_type": "code",
   "execution_count": 7,
   "id": "578ec387",
   "metadata": {},
   "outputs": [
    {
     "data": {
      "text/html": [
       "<div>\n",
       "<style scoped>\n",
       "    .dataframe tbody tr th:only-of-type {\n",
       "        vertical-align: middle;\n",
       "    }\n",
       "\n",
       "    .dataframe tbody tr th {\n",
       "        vertical-align: top;\n",
       "    }\n",
       "\n",
       "    .dataframe thead th {\n",
       "        text-align: right;\n",
       "    }\n",
       "</style>\n",
       "<table border=\"1\" class=\"dataframe\">\n",
       "  <thead>\n",
       "    <tr style=\"text-align: right;\">\n",
       "      <th></th>\n",
       "      <th>x</th>\n",
       "      <th>y</th>\n",
       "      <th>z</th>\n",
       "      <th>x*x</th>\n",
       "      <th>2*y</th>\n",
       "      <th>2*z+3*x*x</th>\n",
       "      <th>w</th>\n",
       "    </tr>\n",
       "  </thead>\n",
       "  <tbody>\n",
       "    <tr>\n",
       "      <th>0</th>\n",
       "      <td>-0.581066</td>\n",
       "      <td>0.841837</td>\n",
       "      <td>-1.012978</td>\n",
       "      <td>-0.604025</td>\n",
       "      <td>0.841837</td>\n",
       "      <td>-0.665927</td>\n",
       "      <td>-0.536277</td>\n",
       "    </tr>\n",
       "    <tr>\n",
       "      <th>1</th>\n",
       "      <td>-0.894309</td>\n",
       "      <td>-0.207835</td>\n",
       "      <td>-1.012978</td>\n",
       "      <td>-0.883052</td>\n",
       "      <td>-0.207835</td>\n",
       "      <td>-0.917054</td>\n",
       "      <td>-0.522364</td>\n",
       "    </tr>\n",
       "    <tr>\n",
       "      <th>2</th>\n",
       "      <td>-1.207552</td>\n",
       "      <td>0.212034</td>\n",
       "      <td>-1.082312</td>\n",
       "      <td>-1.150918</td>\n",
       "      <td>0.212034</td>\n",
       "      <td>-1.166507</td>\n",
       "      <td>0.205738</td>\n",
       "    </tr>\n",
       "    <tr>\n",
       "      <th>3</th>\n",
       "      <td>-1.364174</td>\n",
       "      <td>0.002099</td>\n",
       "      <td>-0.943643</td>\n",
       "      <td>-1.280666</td>\n",
       "      <td>0.002099</td>\n",
       "      <td>-1.266540</td>\n",
       "      <td>-0.665720</td>\n",
       "    </tr>\n",
       "    <tr>\n",
       "      <th>4</th>\n",
       "      <td>-0.737687</td>\n",
       "      <td>1.051772</td>\n",
       "      <td>-1.012978</td>\n",
       "      <td>-0.744934</td>\n",
       "      <td>1.051772</td>\n",
       "      <td>-0.792746</td>\n",
       "      <td>-0.735054</td>\n",
       "    </tr>\n",
       "  </tbody>\n",
       "</table>\n",
       "</div>"
      ],
      "text/plain": [
       "          x         y         z       x*x       2*y  2*z+3*x*x         w\n",
       "0 -0.581066  0.841837 -1.012978 -0.604025  0.841837  -0.665927 -0.536277\n",
       "1 -0.894309 -0.207835 -1.012978 -0.883052 -0.207835  -0.917054 -0.522364\n",
       "2 -1.207552  0.212034 -1.082312 -1.150918  0.212034  -1.166507  0.205738\n",
       "3 -1.364174  0.002099 -0.943643 -1.280666  0.002099  -1.266540 -0.665720\n",
       "4 -0.737687  1.051772 -1.012978 -0.744934  1.051772  -0.792746 -0.735054"
      ]
     },
     "metadata": {},
     "output_type": "display_data"
    },
    {
     "data": {
      "text/plain": [
       "0    0\n",
       "1    0\n",
       "2    0\n",
       "3    0\n",
       "4    0\n",
       "Name: target, dtype: int64"
      ]
     },
     "metadata": {},
     "output_type": "display_data"
    }
   ],
   "source": [
    "X = df.drop(labels=['target'], axis=1)\n",
    "display(X.head())\n",
    "y = df['target']\n",
    "display(y.head())"
   ]
  },
  {
   "cell_type": "markdown",
   "id": "488b113f",
   "metadata": {},
   "source": [
    "---"
   ]
  },
  {
   "cell_type": "markdown",
   "id": "5e8e416d",
   "metadata": {},
   "source": [
    "Heat Map"
   ]
  },
  {
   "cell_type": "code",
   "execution_count": 8,
   "id": "27686879",
   "metadata": {},
   "outputs": [
    {
     "data": {
      "image/png": "[encoded data removed]",
      "text/plain": [
       "<Figure size 864x576 with 2 Axes>"
      ]
     },
     "metadata": {
      "needs_background": "light"
     },
     "output_type": "display_data"
    }
   ],
   "source": [
    "plt.figure(figsize=(12, 8))\n",
    "sns.heatmap(data=X)\n",
    "plt.show()"
   ]
  },
  {
   "cell_type": "markdown",
   "id": "d01679e5",
   "metadata": {},
   "source": [
    "Perturbation Test"
   ]
  },
  {
   "cell_type": "code",
   "execution_count": 9,
   "id": "76caa0f2",
   "metadata": {},
   "outputs": [],
   "source": [
    "class PerturbationTest(object):\n",
    "    \"\"\"\n",
    "    This class performs Perturbation Test on the data.\n",
    "    Perturbation Test is used to check whether the features are collinear or not.\n",
    "    \"\"\"\n",
    "    \n",
    "    def __init__(self, X, y, model):\n",
    "        self.features = list(X.columns)\n",
    "        self.X = self.standardization(X=X.values)\n",
    "        self.nX = self.make_features_noisy()\n",
    "        self.y = y\n",
    "        self.all_models = ['lr', 'svc']\n",
    "        self.model = 'lr' if model not in self.all_models else model\n",
    "        self.loss = 'log_loss' if model == 'lr' else 'hinge'\n",
    "        self.params = {'alpha': [0.0001, 0.001, 0.01, 0.1, 1, 10, 100], 'loss': [self.loss]}\n",
    "        self.best_alpha = self.compute_best_alpha()\n",
    "    \n",
    "    def standardization(self, X):\n",
    "        \"\"\"\n",
    "        This method performs standardization on each column.\n",
    "        \"\"\"\n",
    "        std = StandardScaler()\n",
    "        X = std.fit_transform(X=X)\n",
    "        return X\n",
    "    \n",
    "    def compute_best_alpha(self):\n",
    "        \"\"\"\n",
    "        This method computes the best alpha using GridSearchCV.\n",
    "        \"\"\"\n",
    "        a_clf = SGDClassifier()\n",
    "        grid_model = GridSearchCV(estimator=a_clf,\n",
    "                                  param_grid=self.params,\n",
    "                                  n_jobs=-1,\n",
    "                                  scoring='roc_auc')\n",
    "        grid_model.fit(X=self.X, y=self.y)\n",
    "        best_params = grid_model.best_params_['alpha']\n",
    "        return best_params\n",
    "    \n",
    "    def make_features_noisy(self):\n",
    "        \"\"\"\n",
    "        This method adds some noise 'e' to each feature vector.\n",
    "        \"\"\"\n",
    "        noise = 10 ** (-2)\n",
    "        nX = self.X + noise\n",
    "        return nX\n",
    "    \n",
    "    def fit_model(self, noise_flag=False):\n",
    "        \"\"\"\n",
    "        This method fits the model to the data.\n",
    "        \"\"\"\n",
    "        clf = SGDClassifier(alpha=self.best_alpha, loss=self.loss)\n",
    "        if noise_flag:\n",
    "            clf.fit(X=self.nX, y=self.y)\n",
    "            w = clf.coef_[0]\n",
    "            c = clf.intercept_[0]\n",
    "            a = clf.score(X=self.nX, y=self.y)\n",
    "        else:\n",
    "            clf.fit(X=self.X, y=self.y)\n",
    "            w = clf.coef_[0]\n",
    "            c = clf.intercept_[0]\n",
    "            a = clf.score(X=self.X, y=self.y)\n",
    "        return w, c, a\n",
    "    \n",
    "    def compute_weight_difference(self, w1, w2, n=4):\n",
    "        \"\"\"\n",
    "        This method computes the weight difference.\n",
    "        \"\"\"\n",
    "        w_ = np.abs(w1 - w2)\n",
    "        fw = {f: w for (f, w) in zip(self.features, w_)}\n",
    "        print(\"Weights difference:\\n{}\".format(fw))\n",
    "        fw = dict(sorted(fw.items(), key=lambda x:x[1], reverse=True)[:n])\n",
    "        return fw\n",
    "    \n",
    "    def compute_accuracy_difference(self, a1, a2):\n",
    "        \"\"\"\n",
    "        This method computes the accuracy difference.\n",
    "        \"\"\"\n",
    "        a_ = abs(a1 - a2)\n",
    "        return a_\n",
    "    \n",
    "    def print_results(self):\n",
    "        \"\"\"\n",
    "        This method prints the results.\n",
    "        \"\"\"\n",
    "        mname = 'Logistic Regression' if (self.model == 'lr') else 'Support Vector Classifier'\n",
    "        print(\"{}\".format(mname))\n",
    "        \n",
    "        print(\"\\n2.\")\n",
    "        print(\"Best alpha: {}\\nLoss: {}\".format(self.best_alpha, self.loss))\n",
    "        \n",
    "        print(\"\\n3.\")\n",
    "        print(\"Best model\")\n",
    "        w1, b1, a1 = self.fit_model(noise_flag=False)\n",
    "        print(\"Weights:\\n{}\".format(w1))\n",
    "        print(\"Intercept: {}\".format(b1))\n",
    "        print(\"Accuracy: {}\".format(a1))\n",
    "        \n",
    "        print(\"\\n4.\")\n",
    "        print(\"Best model (noisy)\")\n",
    "        w2, b2, a2 = self.fit_model(noise_flag=True)\n",
    "        print(\"Weights:\\n{}\".format(w2))\n",
    "        print(\"Intercept: {}\".format(b2))\n",
    "        print(\"Accuracy: {}\".format(a2))\n",
    "        \n",
    "        print(\"\\n5.\")\n",
    "        da = self.compute_accuracy_difference(a1=a1, a2=a2)\n",
    "        print(\"Accuracy difference: {}\".format(da))\n",
    "        tf = self.compute_weight_difference(w1=w1, w2=w2)\n",
    "        print(\"Top 4 features (with highest % change):\\n{}\".format(tf))\n",
    "        \n",
    "        return None"
   ]
  },
  {
   "cell_type": "code",
   "execution_count": 10,
   "id": "2b4ef940",
   "metadata": {
    "scrolled": false
   },
   "outputs": [
    {
     "name": "stdout",
     "output_type": "stream",
     "text": [
      "Logistic Regression\n",
      "\n",
      "2.\n",
      "Best alpha: 0.0001\n",
      "Loss: log_loss\n",
      "\n",
      "3.\n",
      "Best model\n",
      "Weights:\n",
      "[ 2.14585287 -3.45897522  5.28020703  2.0226366  -3.45897522  2.45788252\n",
      "  1.01263436]\n",
      "Intercept: -1.480268236954756\n",
      "Accuracy: 1.0\n",
      "\n",
      "4.\n",
      "Best model (noisy)\n",
      "Weights:\n",
      "[ 1.90178222 -4.28972311  7.90760272  1.96152382 -4.28972311  2.72051414\n",
      "  2.66064561]\n",
      "Intercept: -3.569633796682649\n",
      "Accuracy: 1.0\n",
      "\n",
      "5.\n",
      "Accuracy difference: 0.0\n",
      "Weights difference:\n",
      "{'x': 0.24407064827911396, 'y': 0.830747892015407, 'z': 2.6273956881204006, 'x*x': 0.061112783947426585, '2*y': 0.830747892015407, '2*z+3*x*x': 0.26263162333665635, 'w': 1.6480112552202246}\n",
      "Top 4 features (with highest % change):\n",
      "{'z': 2.6273956881204006, 'w': 1.6480112552202246, 'y': 0.830747892015407, '2*y': 0.830747892015407}\n"
     ]
    }
   ],
   "source": [
    "pt = PerturbationTest(X=X, y=y, model='lr')\n",
    "pt.print_results()"
   ]
  },
  {
   "cell_type": "code",
   "execution_count": 11,
   "id": "062fbece",
   "metadata": {},
   "outputs": [
    {
     "name": "stdout",
     "output_type": "stream",
     "text": [
      "Support Vector Classifier\n",
      "\n",
      "2.\n",
      "Best alpha: 0.0001\n",
      "Loss: hinge\n",
      "\n",
      "3.\n",
      "Best model\n",
      "Weights:\n",
      "[10.69971481 -8.15698609 20.57682688  9.79504231 -8.15698609 11.29991369\n",
      "  3.40189249]\n",
      "Intercept: 10.025744971708717\n",
      "Accuracy: 1.0\n",
      "\n",
      "4.\n",
      "Best model (noisy)\n",
      "Weights:\n",
      "[10.46649298 -9.81386843 22.66297962  9.60105502 -9.81386843 11.37596829\n",
      " 14.91496135]\n",
      "Intercept: 10.096357088208572\n",
      "Accuracy: 1.0\n",
      "\n",
      "5.\n",
      "Accuracy difference: 0.0\n",
      "Weights difference:\n",
      "{'x': 0.23322183208158265, 'y': 1.6568823402674067, 'z': 2.0861527438310254, 'x*x': 0.19398728533632337, '2*y': 1.6568823402674067, '2*z+3*x*x': 0.07605459363395717, 'w': 11.51306886632698}\n",
      "Top 4 features (with highest % change):\n",
      "{'w': 11.51306886632698, 'z': 2.0861527438310254, 'y': 1.6568823402674067, '2*y': 1.6568823402674067}\n"
     ]
    }
   ],
   "source": [
    "pt = PerturbationTest(X=X, y=y, model='svc')\n",
    "pt.print_results()"
   ]
  },
  {
   "cell_type": "markdown",
   "id": "1feebab9",
   "metadata": {},
   "source": [
    "---"
   ]
  },
  {
   "cell_type": "markdown",
   "id": "56cfad53",
   "metadata": {},
   "source": [
    "__Conclusion__:\n",
    "\n",
    "1. From the weights difference, we can say that features are multi-collinear, because we see a drastic change in the weights after introducing a small noise.\n",
    "2. No difference in accuracy is observed even after noise.\n",
    "3. For both logistic regression and support vector classifier, best alpha turned out to be $0.0001$.\n",
    "4. Dataset size is very small."
   ]
  },
  {
   "cell_type": "markdown",
   "id": "8bea3733",
   "metadata": {},
   "source": [
    "---"
   ]
  },
  {
   "cell_type": "markdown",
   "id": "eb9ae6fb",
   "metadata": {},
   "source": [
    "End of the file."
   ]
  }
 ],
 "metadata": {
  "kernelspec": {
   "display_name": "Python 3 (ipykernel)",
   "language": "python",
   "name": "python3"
  },
  "language_info": {
   "codemirror_mode": {
    "name": "ipython",
    "version": 3
   },
   "file_extension": ".py",
   "mimetype": "text/x-python",
   "name": "python",
   "nbconvert_exporter": "python",
   "pygments_lexer": "ipython3",
   "version": "3.10.5"
  }
 },
 "nbformat": 4,
 "nbformat_minor": 5
}
