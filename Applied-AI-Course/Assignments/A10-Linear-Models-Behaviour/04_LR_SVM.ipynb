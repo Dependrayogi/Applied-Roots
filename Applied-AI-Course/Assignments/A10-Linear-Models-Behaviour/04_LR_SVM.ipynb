{
 "cells": [
  {
   "cell_type": "markdown",
   "id": "6d1ce6b8",
   "metadata": {},
   "source": [
    "Let's import useful packages."
   ]
  },
  {
   "cell_type": "code",
   "execution_count": 1,
   "id": "063c9e15",
   "metadata": {},
   "outputs": [],
   "source": [
    "import warnings\n",
    "warnings.filterwarnings('ignore')"
   ]
  },
  {
   "cell_type": "code",
   "execution_count": 2,
   "id": "2f784e94",
   "metadata": {},
   "outputs": [],
   "source": [
    "from matplotlib import pyplot as plt\n",
    "from matplotlib import style\n",
    "style.use(style='seaborn-whitegrid')"
   ]
  },
  {
   "cell_type": "code",
   "execution_count": 3,
   "id": "0f2286e4",
   "metadata": {},
   "outputs": [],
   "source": [
    "from sklearn.linear_model import SGDClassifier\n",
    "from sklearn.model_selection import GridSearchCV\n",
    "from sklearn.preprocessing import StandardScaler"
   ]
  },
  {
   "cell_type": "code",
   "execution_count": 4,
   "id": "5a68488e",
   "metadata": {},
   "outputs": [],
   "source": [
    "import numpy as np\n",
    "import pandas as pd\n",
    "import seaborn as sns"
   ]
  },
  {
   "cell_type": "markdown",
   "id": "daceeda7",
   "metadata": {},
   "source": [
    "Load the data."
   ]
  },
  {
   "cell_type": "code",
   "execution_count": 5,
   "id": "3ecce60f",
   "metadata": {},
   "outputs": [
    {
     "data": {
      "text/html": [
       "<div>\n",
       "<style scoped>\n",
       "    .dataframe tbody tr th:only-of-type {\n",
       "        vertical-align: middle;\n",
       "    }\n",
       "\n",
       "    .dataframe tbody tr th {\n",
       "        vertical-align: top;\n",
       "    }\n",
       "\n",
       "    .dataframe thead th {\n",
       "        text-align: right;\n",
       "    }\n",
       "</style>\n",
       "<table border=\"1\" class=\"dataframe\">\n",
       "  <thead>\n",
       "    <tr style=\"text-align: right;\">\n",
       "      <th></th>\n",
       "      <th>x</th>\n",
       "      <th>y</th>\n",
       "      <th>z</th>\n",
       "      <th>x*x</th>\n",
       "      <th>2*y</th>\n",
       "      <th>2*z+3*x*x</th>\n",
       "      <th>w</th>\n",
       "      <th>target</th>\n",
       "    </tr>\n",
       "  </thead>\n",
       "  <tbody>\n",
       "    <tr>\n",
       "      <th>0</th>\n",
       "      <td>-0.581066</td>\n",
       "      <td>0.841837</td>\n",
       "      <td>-1.012978</td>\n",
       "      <td>-0.604025</td>\n",
       "      <td>0.841837</td>\n",
       "      <td>-0.665927</td>\n",
       "      <td>-0.536277</td>\n",
       "      <td>0</td>\n",
       "    </tr>\n",
       "    <tr>\n",
       "      <th>1</th>\n",
       "      <td>-0.894309</td>\n",
       "      <td>-0.207835</td>\n",
       "      <td>-1.012978</td>\n",
       "      <td>-0.883052</td>\n",
       "      <td>-0.207835</td>\n",
       "      <td>-0.917054</td>\n",
       "      <td>-0.522364</td>\n",
       "      <td>0</td>\n",
       "    </tr>\n",
       "    <tr>\n",
       "      <th>2</th>\n",
       "      <td>-1.207552</td>\n",
       "      <td>0.212034</td>\n",
       "      <td>-1.082312</td>\n",
       "      <td>-1.150918</td>\n",
       "      <td>0.212034</td>\n",
       "      <td>-1.166507</td>\n",
       "      <td>0.205738</td>\n",
       "      <td>0</td>\n",
       "    </tr>\n",
       "    <tr>\n",
       "      <th>3</th>\n",
       "      <td>-1.364174</td>\n",
       "      <td>0.002099</td>\n",
       "      <td>-0.943643</td>\n",
       "      <td>-1.280666</td>\n",
       "      <td>0.002099</td>\n",
       "      <td>-1.266540</td>\n",
       "      <td>-0.665720</td>\n",
       "      <td>0</td>\n",
       "    </tr>\n",
       "    <tr>\n",
       "      <th>4</th>\n",
       "      <td>-0.737687</td>\n",
       "      <td>1.051772</td>\n",
       "      <td>-1.012978</td>\n",
       "      <td>-0.744934</td>\n",
       "      <td>1.051772</td>\n",
       "      <td>-0.792746</td>\n",
       "      <td>-0.735054</td>\n",
       "      <td>0</td>\n",
       "    </tr>\n",
       "  </tbody>\n",
       "</table>\n",
       "</div>"
      ],
      "text/plain": [
       "          x         y         z       x*x       2*y  2*z+3*x*x         w  \\\n",
       "0 -0.581066  0.841837 -1.012978 -0.604025  0.841837  -0.665927 -0.536277   \n",
       "1 -0.894309 -0.207835 -1.012978 -0.883052 -0.207835  -0.917054 -0.522364   \n",
       "2 -1.207552  0.212034 -1.082312 -1.150918  0.212034  -1.166507  0.205738   \n",
       "3 -1.364174  0.002099 -0.943643 -1.280666  0.002099  -1.266540 -0.665720   \n",
       "4 -0.737687  1.051772 -1.012978 -0.744934  1.051772  -0.792746 -0.735054   \n",
       "\n",
       "   target  \n",
       "0       0  \n",
       "1       0  \n",
       "2       0  \n",
       "3       0  \n",
       "4       0  "
      ]
     },
     "metadata": {},
     "output_type": "display_data"
    }
   ],
   "source": [
    "df = pd.read_csv(filepath_or_buffer='task_d.csv')\n",
    "display(df.head())"
   ]
  },
  {
   "cell_type": "code",
   "execution_count": 6,
   "id": "2a9b3471",
   "metadata": {},
   "outputs": [
    {
     "data": {
      "image/png": "[encoded data removed]",
      "text/plain": [
       "<Figure size 720x144 with 1 Axes>"
      ]
     },
     "metadata": {
      "needs_background": "light"
     },
     "output_type": "display_data"
    }
   ],
   "source": [
    "plt.figure(figsize=(10, 2))\n",
    "df['target'].value_counts().plot(kind='barh')\n",
    "plt.show()"
   ]
  },
  {
   "cell_type": "markdown",
   "id": "570afb1d",
   "metadata": {},
   "source": [
    "This data is a balanced data and has two classes $0$ and $1$."
   ]
  },
  {
   "cell_type": "code",
   "execution_count": 7,
   "id": "578ec387",
   "metadata": {},
   "outputs": [
    {
     "data": {
      "text/html": [
       "<div>\n",
       "<style scoped>\n",
       "    .dataframe tbody tr th:only-of-type {\n",
       "        vertical-align: middle;\n",
       "    }\n",
       "\n",
       "    .dataframe tbody tr th {\n",
       "        vertical-align: top;\n",
       "    }\n",
       "\n",
       "    .dataframe thead th {\n",
       "        text-align: right;\n",
       "    }\n",
       "</style>\n",
       "<table border=\"1\" class=\"dataframe\">\n",
       "  <thead>\n",
       "    <tr style=\"text-align: right;\">\n",
       "      <th></th>\n",
       "      <th>x</th>\n",
       "      <th>y</th>\n",
       "      <th>z</th>\n",
       "      <th>x*x</th>\n",
       "      <th>2*y</th>\n",
       "      <th>2*z+3*x*x</th>\n",
       "      <th>w</th>\n",
       "    </tr>\n",
       "  </thead>\n",
       "  <tbody>\n",
       "    <tr>\n",
       "      <th>0</th>\n",
       "      <td>-0.581066</td>\n",
       "      <td>0.841837</td>\n",
       "      <td>-1.012978</td>\n",
       "      <td>-0.604025</td>\n",
       "      <td>0.841837</td>\n",
       "      <td>-0.665927</td>\n",
       "      <td>-0.536277</td>\n",
       "    </tr>\n",
       "    <tr>\n",
       "      <th>1</th>\n",
       "      <td>-0.894309</td>\n",
       "      <td>-0.207835</td>\n",
       "      <td>-1.012978</td>\n",
       "      <td>-0.883052</td>\n",
       "      <td>-0.207835</td>\n",
       "      <td>-0.917054</td>\n",
       "      <td>-0.522364</td>\n",
       "    </tr>\n",
       "    <tr>\n",
       "      <th>2</th>\n",
       "      <td>-1.207552</td>\n",
       "      <td>0.212034</td>\n",
       "      <td>-1.082312</td>\n",
       "      <td>-1.150918</td>\n",
       "      <td>0.212034</td>\n",
       "      <td>-1.166507</td>\n",
       "      <td>0.205738</td>\n",
       "    </tr>\n",
       "    <tr>\n",
       "      <th>3</th>\n",
       "      <td>-1.364174</td>\n",
       "      <td>0.002099</td>\n",
       "      <td>-0.943643</td>\n",
       "      <td>-1.280666</td>\n",
       "      <td>0.002099</td>\n",
       "      <td>-1.266540</td>\n",
       "      <td>-0.665720</td>\n",
       "    </tr>\n",
       "    <tr>\n",
       "      <th>4</th>\n",
       "      <td>-0.737687</td>\n",
       "      <td>1.051772</td>\n",
       "      <td>-1.012978</td>\n",
       "      <td>-0.744934</td>\n",
       "      <td>1.051772</td>\n",
       "      <td>-0.792746</td>\n",
       "      <td>-0.735054</td>\n",
       "    </tr>\n",
       "  </tbody>\n",
       "</table>\n",
       "</div>"
      ],
      "text/plain": [
       "          x         y         z       x*x       2*y  2*z+3*x*x         w\n",
       "0 -0.581066  0.841837 -1.012978 -0.604025  0.841837  -0.665927 -0.536277\n",
       "1 -0.894309 -0.207835 -1.012978 -0.883052 -0.207835  -0.917054 -0.522364\n",
       "2 -1.207552  0.212034 -1.082312 -1.150918  0.212034  -1.166507  0.205738\n",
       "3 -1.364174  0.002099 -0.943643 -1.280666  0.002099  -1.266540 -0.665720\n",
       "4 -0.737687  1.051772 -1.012978 -0.744934  1.051772  -0.792746 -0.735054"
      ]
     },
     "metadata": {},
     "output_type": "display_data"
    },
    {
     "data": {
      "text/plain": [
       "0    0\n",
       "1    0\n",
       "2    0\n",
       "3    0\n",
       "4    0\n",
       "Name: target, dtype: int64"
      ]
     },
     "metadata": {},
     "output_type": "display_data"
    }
   ],
   "source": [
    "X = df.drop(labels=['target'], axis=1)\n",
    "display(X.head())\n",
    "y = df['target']\n",
    "display(y.head())"
   ]
  },
  {
   "cell_type": "markdown",
   "id": "488b113f",
   "metadata": {},
   "source": [
    "---"
   ]
  },
  {
   "cell_type": "markdown",
   "id": "5e8e416d",
   "metadata": {},
   "source": [
    "Heatmap"
   ]
  },
  {
   "cell_type": "code",
   "execution_count": 8,
   "id": "84564336",
   "metadata": {
    "scrolled": false
   },
   "outputs": [
    {
     "data": {
      "text/html": [
       "<style type=\"text/css\">\n",
       "#T_3c603_row0_col0, #T_3c603_row0_col3, #T_3c603_row0_col5, #T_3c603_row1_col1, #T_3c603_row1_col4, #T_3c603_row2_col2, #T_3c603_row3_col0, #T_3c603_row3_col3, #T_3c603_row3_col5, #T_3c603_row4_col1, #T_3c603_row4_col4, #T_3c603_row5_col0, #T_3c603_row5_col3, #T_3c603_row5_col5, #T_3c603_row6_col6 {\n",
       "  background-color: #00441b;\n",
       "  color: #f1f1f1;\n",
       "}\n",
       "#T_3c603_row0_col1, #T_3c603_row0_col4 {\n",
       "  background-color: #c8e9c1;\n",
       "  color: #000000;\n",
       "}\n",
       "#T_3c603_row0_col2 {\n",
       "  background-color: #00692a;\n",
       "  color: #f1f1f1;\n",
       "}\n",
       "#T_3c603_row0_col6, #T_3c603_row3_col6 {\n",
       "  background-color: #2f974e;\n",
       "  color: #f1f1f1;\n",
       "}\n",
       "#T_3c603_row1_col0, #T_3c603_row1_col2, #T_3c603_row1_col3, #T_3c603_row1_col5, #T_3c603_row1_col6, #T_3c603_row2_col1, #T_3c603_row2_col4, #T_3c603_row4_col0, #T_3c603_row4_col2, #T_3c603_row4_col3, #T_3c603_row4_col5, #T_3c603_row4_col6 {\n",
       "  background-color: #f7fcf5;\n",
       "  color: #000000;\n",
       "}\n",
       "#T_3c603_row2_col0 {\n",
       "  background-color: #087432;\n",
       "  color: #f1f1f1;\n",
       "}\n",
       "#T_3c603_row2_col3 {\n",
       "  background-color: #097532;\n",
       "  color: #f1f1f1;\n",
       "}\n",
       "#T_3c603_row2_col5 {\n",
       "  background-color: #006c2c;\n",
       "  color: #f1f1f1;\n",
       "}\n",
       "#T_3c603_row2_col6 {\n",
       "  background-color: #1e8741;\n",
       "  color: #f1f1f1;\n",
       "}\n",
       "#T_3c603_row3_col1, #T_3c603_row3_col4 {\n",
       "  background-color: #c9eac2;\n",
       "  color: #000000;\n",
       "}\n",
       "#T_3c603_row3_col2 {\n",
       "  background-color: #006b2b;\n",
       "  color: #f1f1f1;\n",
       "}\n",
       "#T_3c603_row5_col1, #T_3c603_row5_col4 {\n",
       "  background-color: #d0edca;\n",
       "  color: #000000;\n",
       "}\n",
       "#T_3c603_row5_col2 {\n",
       "  background-color: #006328;\n",
       "  color: #f1f1f1;\n",
       "}\n",
       "#T_3c603_row5_col6 {\n",
       "  background-color: #2a924a;\n",
       "  color: #f1f1f1;\n",
       "}\n",
       "#T_3c603_row6_col0, #T_3c603_row6_col3 {\n",
       "  background-color: #3aa357;\n",
       "  color: #f1f1f1;\n",
       "}\n",
       "#T_3c603_row6_col1, #T_3c603_row6_col4 {\n",
       "  background-color: #e5f5e0;\n",
       "  color: #000000;\n",
       "}\n",
       "#T_3c603_row6_col2 {\n",
       "  background-color: #157f3b;\n",
       "  color: #f1f1f1;\n",
       "}\n",
       "#T_3c603_row6_col5 {\n",
       "  background-color: #319a50;\n",
       "  color: #f1f1f1;\n",
       "}\n",
       "</style>\n",
       "<table id=\"T_3c603\">\n",
       "  <thead>\n",
       "    <tr>\n",
       "      <th class=\"blank level0\" >&nbsp;</th>\n",
       "      <th id=\"T_3c603_level0_col0\" class=\"col_heading level0 col0\" >x</th>\n",
       "      <th id=\"T_3c603_level0_col1\" class=\"col_heading level0 col1\" >y</th>\n",
       "      <th id=\"T_3c603_level0_col2\" class=\"col_heading level0 col2\" >z</th>\n",
       "      <th id=\"T_3c603_level0_col3\" class=\"col_heading level0 col3\" >x*x</th>\n",
       "      <th id=\"T_3c603_level0_col4\" class=\"col_heading level0 col4\" >2*y</th>\n",
       "      <th id=\"T_3c603_level0_col5\" class=\"col_heading level0 col5\" >2*z+3*x*x</th>\n",
       "      <th id=\"T_3c603_level0_col6\" class=\"col_heading level0 col6\" >w</th>\n",
       "    </tr>\n",
       "  </thead>\n",
       "  <tbody>\n",
       "    <tr>\n",
       "      <th id=\"T_3c603_level0_row0\" class=\"row_heading level0 row0\" >x</th>\n",
       "      <td id=\"T_3c603_row0_col0\" class=\"data row0 col0\" >1.000000</td>\n",
       "      <td id=\"T_3c603_row0_col1\" class=\"data row0 col1\" >-0.205926</td>\n",
       "      <td id=\"T_3c603_row0_col2\" class=\"data row0 col2\" >0.812458</td>\n",
       "      <td id=\"T_3c603_row0_col3\" class=\"data row0 col3\" >0.997947</td>\n",
       "      <td id=\"T_3c603_row0_col4\" class=\"data row0 col4\" >-0.205926</td>\n",
       "      <td id=\"T_3c603_row0_col5\" class=\"data row0 col5\" >0.996252</td>\n",
       "      <td id=\"T_3c603_row0_col6\" class=\"data row0 col6\" >0.583277</td>\n",
       "    </tr>\n",
       "    <tr>\n",
       "      <th id=\"T_3c603_level0_row1\" class=\"row_heading level0 row1\" >y</th>\n",
       "      <td id=\"T_3c603_row1_col0\" class=\"data row1 col0\" >-0.205926</td>\n",
       "      <td id=\"T_3c603_row1_col1\" class=\"data row1 col1\" >1.000000</td>\n",
       "      <td id=\"T_3c603_row1_col2\" class=\"data row1 col2\" >-0.602663</td>\n",
       "      <td id=\"T_3c603_row1_col3\" class=\"data row1 col3\" >-0.209289</td>\n",
       "      <td id=\"T_3c603_row1_col4\" class=\"data row1 col4\" >1.000000</td>\n",
       "      <td id=\"T_3c603_row1_col5\" class=\"data row1 col5\" >-0.261123</td>\n",
       "      <td id=\"T_3c603_row1_col6\" class=\"data row1 col6\" >-0.401790</td>\n",
       "    </tr>\n",
       "    <tr>\n",
       "      <th id=\"T_3c603_level0_row2\" class=\"row_heading level0 row2\" >z</th>\n",
       "      <td id=\"T_3c603_row2_col0\" class=\"data row2 col0\" >0.812458</td>\n",
       "      <td id=\"T_3c603_row2_col1\" class=\"data row2 col1\" >-0.602663</td>\n",
       "      <td id=\"T_3c603_row2_col2\" class=\"data row2 col2\" >1.000000</td>\n",
       "      <td id=\"T_3c603_row2_col3\" class=\"data row2 col3\" >0.807137</td>\n",
       "      <td id=\"T_3c603_row2_col4\" class=\"data row2 col4\" >-0.602663</td>\n",
       "      <td id=\"T_3c603_row2_col5\" class=\"data row2 col5\" >0.847163</td>\n",
       "      <td id=\"T_3c603_row2_col6\" class=\"data row2 col6\" >0.674486</td>\n",
       "    </tr>\n",
       "    <tr>\n",
       "      <th id=\"T_3c603_level0_row3\" class=\"row_heading level0 row3\" >x*x</th>\n",
       "      <td id=\"T_3c603_row3_col0\" class=\"data row3 col0\" >0.997947</td>\n",
       "      <td id=\"T_3c603_row3_col1\" class=\"data row3 col1\" >-0.209289</td>\n",
       "      <td id=\"T_3c603_row3_col2\" class=\"data row3 col2\" >0.807137</td>\n",
       "      <td id=\"T_3c603_row3_col3\" class=\"data row3 col3\" >1.000000</td>\n",
       "      <td id=\"T_3c603_row3_col4\" class=\"data row3 col4\" >-0.209289</td>\n",
       "      <td id=\"T_3c603_row3_col5\" class=\"data row3 col5\" >0.997457</td>\n",
       "      <td id=\"T_3c603_row3_col6\" class=\"data row3 col6\" >0.583803</td>\n",
       "    </tr>\n",
       "    <tr>\n",
       "      <th id=\"T_3c603_level0_row4\" class=\"row_heading level0 row4\" >2*y</th>\n",
       "      <td id=\"T_3c603_row4_col0\" class=\"data row4 col0\" >-0.205926</td>\n",
       "      <td id=\"T_3c603_row4_col1\" class=\"data row4 col1\" >1.000000</td>\n",
       "      <td id=\"T_3c603_row4_col2\" class=\"data row4 col2\" >-0.602663</td>\n",
       "      <td id=\"T_3c603_row4_col3\" class=\"data row4 col3\" >-0.209289</td>\n",
       "      <td id=\"T_3c603_row4_col4\" class=\"data row4 col4\" >1.000000</td>\n",
       "      <td id=\"T_3c603_row4_col5\" class=\"data row4 col5\" >-0.261123</td>\n",
       "      <td id=\"T_3c603_row4_col6\" class=\"data row4 col6\" >-0.401790</td>\n",
       "    </tr>\n",
       "    <tr>\n",
       "      <th id=\"T_3c603_level0_row5\" class=\"row_heading level0 row5\" >2*z+3*x*x</th>\n",
       "      <td id=\"T_3c603_row5_col0\" class=\"data row5 col0\" >0.996252</td>\n",
       "      <td id=\"T_3c603_row5_col1\" class=\"data row5 col1\" >-0.261123</td>\n",
       "      <td id=\"T_3c603_row5_col2\" class=\"data row5 col2\" >0.847163</td>\n",
       "      <td id=\"T_3c603_row5_col3\" class=\"data row5 col3\" >0.997457</td>\n",
       "      <td id=\"T_3c603_row5_col4\" class=\"data row5 col4\" >-0.261123</td>\n",
       "      <td id=\"T_3c603_row5_col5\" class=\"data row5 col5\" >1.000000</td>\n",
       "      <td id=\"T_3c603_row5_col6\" class=\"data row5 col6\" >0.606860</td>\n",
       "    </tr>\n",
       "    <tr>\n",
       "      <th id=\"T_3c603_level0_row6\" class=\"row_heading level0 row6\" >w</th>\n",
       "      <td id=\"T_3c603_row6_col0\" class=\"data row6 col0\" >0.583277</td>\n",
       "      <td id=\"T_3c603_row6_col1\" class=\"data row6 col1\" >-0.401790</td>\n",
       "      <td id=\"T_3c603_row6_col2\" class=\"data row6 col2\" >0.674486</td>\n",
       "      <td id=\"T_3c603_row6_col3\" class=\"data row6 col3\" >0.583803</td>\n",
       "      <td id=\"T_3c603_row6_col4\" class=\"data row6 col4\" >-0.401790</td>\n",
       "      <td id=\"T_3c603_row6_col5\" class=\"data row6 col5\" >0.606860</td>\n",
       "      <td id=\"T_3c603_row6_col6\" class=\"data row6 col6\" >1.000000</td>\n",
       "    </tr>\n",
       "  </tbody>\n",
       "</table>\n"
      ],
      "text/plain": [
       "<pandas.io.formats.style.Styler at 0x7fe9f1b1d8a0>"
      ]
     },
     "metadata": {},
     "output_type": "display_data"
    }
   ],
   "source": [
    "relation = X.corr()\n",
    "display(relation.style.background_gradient(cmap='Greens'))"
   ]
  },
  {
   "cell_type": "code",
   "execution_count": 9,
   "id": "49adada9",
   "metadata": {},
   "outputs": [
    {
     "data": {
      "image/png": "[encoded data removed]",
      "text/plain": [
       "<Figure size 720x360 with 2 Axes>"
      ]
     },
     "metadata": {
      "needs_background": "light"
     },
     "output_type": "display_data"
    }
   ],
   "source": [
    "plt.figure(figsize=(10, 5))\n",
    "sns.heatmap(data=relation, annot=True, linewidths=.1, center=0)\n",
    "plt.show()"
   ]
  },
  {
   "cell_type": "markdown",
   "id": "d01679e5",
   "metadata": {},
   "source": [
    "Perturbation Test"
   ]
  },
  {
   "cell_type": "code",
   "execution_count": 10,
   "id": "76caa0f2",
   "metadata": {},
   "outputs": [],
   "source": [
    "class PerturbationTest(object):\n",
    "    \"\"\"\n",
    "    This class performs Perturbation Test on the data.\n",
    "    Perturbation Test is used to check whether the features are collinear or not.\n",
    "    \"\"\"\n",
    "    \n",
    "    def __init__(self, X, y, model):\n",
    "        self.features = list(X.columns)\n",
    "        self.X = self.standardization(X=X.values)\n",
    "        self.nX = self.make_features_noisy()\n",
    "        self.y = y\n",
    "        self.all_models = ['lr', 'svc']\n",
    "        self.model = 'lr' if model not in self.all_models else model\n",
    "        self.loss = 'log_loss' if model == 'lr' else 'hinge'\n",
    "        self.params = {'alpha': [0.0001, 0.001, 0.01, 0.1, 1, 10, 100], 'loss': [self.loss]}\n",
    "        self.best_alpha = self.compute_best_alpha()\n",
    "    \n",
    "    def standardization(self, X):\n",
    "        \"\"\"\n",
    "        This method performs standardization on each column.\n",
    "        \"\"\"\n",
    "        std = StandardScaler()\n",
    "        X = std.fit_transform(X=X)\n",
    "        return X\n",
    "    \n",
    "    def compute_best_alpha(self):\n",
    "        \"\"\"\n",
    "        This method computes the best alpha using GridSearchCV.\n",
    "        \"\"\"\n",
    "        a_clf = SGDClassifier()\n",
    "        grid_model = GridSearchCV(estimator=a_clf,\n",
    "                                  param_grid=self.params,\n",
    "                                  n_jobs=-1,\n",
    "                                  scoring='roc_auc')\n",
    "        grid_model.fit(X=self.X, y=self.y)\n",
    "        best_params = grid_model.best_params_['alpha']\n",
    "        return best_params\n",
    "    \n",
    "    def make_features_noisy(self):\n",
    "        \"\"\"\n",
    "        This method adds some noise 'e' to each feature vector.\n",
    "        \"\"\"\n",
    "        noise = 10 ** (-2)\n",
    "        nX = self.X + noise\n",
    "        return nX\n",
    "    \n",
    "    def fit_model(self, noise_flag=False):\n",
    "        \"\"\"\n",
    "        This method fits the model to the data.\n",
    "        \"\"\"\n",
    "        clf = SGDClassifier(alpha=self.best_alpha, loss=self.loss)\n",
    "        if noise_flag:\n",
    "            clf.fit(X=self.nX, y=self.y)\n",
    "            w = clf.coef_[0]\n",
    "            c = clf.intercept_[0]\n",
    "            a = clf.score(X=self.nX, y=self.y)\n",
    "        else:\n",
    "            clf.fit(X=self.X, y=self.y)\n",
    "            w = clf.coef_[0]\n",
    "            c = clf.intercept_[0]\n",
    "            a = clf.score(X=self.X, y=self.y)\n",
    "        return w, c, a\n",
    "    \n",
    "    def compute_weight_difference(self, w1, w2, n=4):\n",
    "        \"\"\"\n",
    "        This method computes the weight difference.\n",
    "        \"\"\"\n",
    "        w_ = np.abs(w1 - w2)\n",
    "        fw = {f: w for (f, w) in zip(self.features, w_)}\n",
    "        print(\"Weights difference:\\n{}\".format(fw))\n",
    "        fw = dict(sorted(fw.items(), key=lambda x:x[1], reverse=True)[:n])\n",
    "        return fw\n",
    "    \n",
    "    def compute_accuracy_difference(self, a1, a2):\n",
    "        \"\"\"\n",
    "        This method computes the accuracy difference.\n",
    "        \"\"\"\n",
    "        a_ = abs(a1 - a2)\n",
    "        return a_\n",
    "    \n",
    "    def print_results(self):\n",
    "        \"\"\"\n",
    "        This method prints the results.\n",
    "        \"\"\"\n",
    "        mname = 'Logistic Regression' if (self.model == 'lr') else 'Support Vector Classifier'\n",
    "        print(\"{}\".format(mname))\n",
    "        \n",
    "        print(\"\\n2.\")\n",
    "        print(\"Best alpha: {}\\nLoss: {}\".format(self.best_alpha, self.loss))\n",
    "        \n",
    "        print(\"\\n3. Best model\")\n",
    "        w1, b1, a1 = self.fit_model(noise_flag=False)\n",
    "        print(\"Weights:\\n{}\".format(w1))\n",
    "        print(\"Intercept: {}\".format(b1))\n",
    "        print(\"Accuracy: {}\".format(a1))\n",
    "        \n",
    "        print(\"\\n4. Best model (noisy)\")\n",
    "        w2, b2, a2 = self.fit_model(noise_flag=True)\n",
    "        print(\"Weights:\\n{}\".format(w2))\n",
    "        print(\"Intercept: {}\".format(b2))\n",
    "        print(\"Accuracy: {}\".format(a2))\n",
    "        \n",
    "        print(\"\\n5.\")\n",
    "        da = self.compute_accuracy_difference(a1=a1, a2=a2)\n",
    "        print(\"Accuracy difference: {}\".format(da))\n",
    "        tf = self.compute_weight_difference(w1=w1, w2=w2)\n",
    "        print(\"Top 4 features (with highest % change):\\n{}\".format(tf))\n",
    "        \n",
    "        return None"
   ]
  },
  {
   "cell_type": "code",
   "execution_count": 11,
   "id": "2b4ef940",
   "metadata": {
    "scrolled": false
   },
   "outputs": [
    {
     "name": "stdout",
     "output_type": "stream",
     "text": [
      "Logistic Regression\n",
      "\n",
      "2.\n",
      "Best alpha: 0.0001\n",
      "Loss: log_loss\n",
      "\n",
      "3. Best model\n",
      "Weights:\n",
      "[ 1.83635003 -3.12711273  5.43544647  1.96015859 -3.12711273  2.42039412\n",
      "  0.11969925]\n",
      "Intercept: -0.13266652726356365\n",
      "Accuracy: 1.0\n",
      "\n",
      "4. Best model (noisy)\n",
      "Weights:\n",
      "[  7.95062893 -10.67361915  21.73867133   7.02413187 -10.67361915\n",
      "   8.94792921   3.73609961]\n",
      "Intercept: -13.862516483750857\n",
      "Accuracy: 1.0\n",
      "\n",
      "5.\n",
      "Accuracy difference: 0.0\n",
      "Weights difference:\n",
      "{'x': 6.114278904194029, 'y': 7.54650641623068, 'z': 16.30322485824817, 'x*x': 5.063973283410196, '2*y': 7.54650641623068, '2*z+3*x*x': 6.5275350893018675, 'w': 3.6164003648120673}\n",
      "Top 4 features (with highest % change):\n",
      "{'z': 16.30322485824817, 'y': 7.54650641623068, '2*y': 7.54650641623068, '2*z+3*x*x': 6.5275350893018675}\n"
     ]
    }
   ],
   "source": [
    "pt = PerturbationTest(X=X, y=y, model='lr')\n",
    "pt.print_results()"
   ]
  },
  {
   "cell_type": "code",
   "execution_count": 12,
   "id": "062fbece",
   "metadata": {},
   "outputs": [
    {
     "name": "stdout",
     "output_type": "stream",
     "text": [
      "Support Vector Classifier\n",
      "\n",
      "2.\n",
      "Best alpha: 0.0001\n",
      "Loss: hinge\n",
      "\n",
      "3. Best model\n",
      "Weights:\n",
      "[ 13.17317109 -11.10836194  22.19603117  10.96278984 -11.10836194\n",
      "  12.54638733   6.50840273]\n",
      "Intercept: 9.01405456255665\n",
      "Accuracy: 1.0\n",
      "\n",
      "4. Best model (noisy)\n",
      "Weights:\n",
      "[ 11.3883384  -13.52077453  23.47916021  10.21691903 -13.52077453\n",
      "  12.02879085   3.87479817]\n",
      "Intercept: 9.077375225772895\n",
      "Accuracy: 1.0\n",
      "\n",
      "5.\n",
      "Accuracy difference: 0.0\n",
      "Weights difference:\n",
      "{'x': 1.7848326941115378, 'y': 2.4124125809934114, 'z': 1.28312903838194, 'x*x': 0.7458708127907769, '2*y': 2.4124125809934114, '2*z+3*x*x': 0.5175964834642368, 'w': 2.633604552448418}\n",
      "Top 4 features (with highest % change):\n",
      "{'w': 2.633604552448418, 'y': 2.4124125809934114, '2*y': 2.4124125809934114, 'x': 1.7848326941115378}\n"
     ]
    }
   ],
   "source": [
    "pt = PerturbationTest(X=X, y=y, model='svc')\n",
    "pt.print_results()"
   ]
  },
  {
   "cell_type": "markdown",
   "id": "1feebab9",
   "metadata": {},
   "source": [
    "---"
   ]
  },
  {
   "cell_type": "markdown",
   "id": "56cfad53",
   "metadata": {},
   "source": [
    "__Conclusion__:\n",
    "\n",
    "1. From the weights difference, we can say that features are multi-collinear, because we see a drastic change in the weights after introducing a small noise.\n",
    "2. No difference in accuracy is observed even after noise.\n",
    "3. For both logistic regression and support vector classifier, best alpha turned out to be $0.0001$.\n",
    "4. Dataset size is very small."
   ]
  },
  {
   "cell_type": "markdown",
   "id": "8bea3733",
   "metadata": {},
   "source": [
    "---"
   ]
  },
  {
   "cell_type": "markdown",
   "id": "eb9ae6fb",
   "metadata": {},
   "source": [
    "End of the file."
   ]
  }
 ],
 "metadata": {
  "kernelspec": {
   "display_name": "Python 3 (ipykernel)",
   "language": "python",
   "name": "python3"
  },
  "language_info": {
   "codemirror_mode": {
    "name": "ipython",
    "version": 3
   },
   "file_extension": ".py",
   "mimetype": "text/x-python",
   "name": "python",
   "nbconvert_exporter": "python",
   "pygments_lexer": "ipython3",
   "version": "3.10.5"
  }
 },
 "nbformat": 4,
 "nbformat_minor": 5
}
