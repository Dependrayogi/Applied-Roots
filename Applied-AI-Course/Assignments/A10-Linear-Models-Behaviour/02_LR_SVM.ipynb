{
 "cells": [
  {
   "cell_type": "markdown",
   "id": "2d7ffeef",
   "metadata": {},
   "source": [
    "Let's import useful packages."
   ]
  },
  {
   "cell_type": "code",
   "execution_count": 1,
   "id": "50802c2f",
   "metadata": {},
   "outputs": [],
   "source": [
    "import warnings\n",
    "warnings.filterwarnings('ignore')"
   ]
  },
  {
   "cell_type": "code",
   "execution_count": 2,
   "id": "d6859f77",
   "metadata": {},
   "outputs": [],
   "source": [
    "from matplotlib import pyplot as plt\n",
    "from matplotlib import style\n",
    "style.use(style='seaborn-whitegrid')"
   ]
  },
  {
   "cell_type": "code",
   "execution_count": 3,
   "id": "6ece50ca",
   "metadata": {},
   "outputs": [],
   "source": [
    "from sklearn.linear_model import SGDClassifier\n",
    "from sklearn.linear_model import LogisticRegression\n",
    "from sklearn.preprocessing import Normalizer\n",
    "from sklearn.preprocessing import StandardScaler\n",
    "from sklearn.svm import SVC"
   ]
  },
  {
   "cell_type": "code",
   "execution_count": 4,
   "id": "8313c4f1",
   "metadata": {},
   "outputs": [],
   "source": [
    "import numpy as np\n",
    "import pandas as pd\n",
    "import seaborn as sns"
   ]
  },
  {
   "cell_type": "markdown",
   "id": "9f601f01",
   "metadata": {},
   "source": [
    "Load the data."
   ]
  },
  {
   "cell_type": "code",
   "execution_count": 5,
   "id": "29aa9465",
   "metadata": {},
   "outputs": [
    {
     "data": {
      "text/html": [
       "<div>\n",
       "<style scoped>\n",
       "    .dataframe tbody tr th:only-of-type {\n",
       "        vertical-align: middle;\n",
       "    }\n",
       "\n",
       "    .dataframe tbody tr th {\n",
       "        vertical-align: top;\n",
       "    }\n",
       "\n",
       "    .dataframe thead th {\n",
       "        text-align: right;\n",
       "    }\n",
       "</style>\n",
       "<table border=\"1\" class=\"dataframe\">\n",
       "  <thead>\n",
       "    <tr style=\"text-align: right;\">\n",
       "      <th></th>\n",
       "      <th>index</th>\n",
       "      <th>f1</th>\n",
       "      <th>f2</th>\n",
       "      <th>f3</th>\n",
       "      <th>y</th>\n",
       "    </tr>\n",
       "  </thead>\n",
       "  <tbody>\n",
       "    <tr>\n",
       "      <th>0</th>\n",
       "      <td>0</td>\n",
       "      <td>-195.871045</td>\n",
       "      <td>-14843.084171</td>\n",
       "      <td>5.532140</td>\n",
       "      <td>1.0</td>\n",
       "    </tr>\n",
       "    <tr>\n",
       "      <th>1</th>\n",
       "      <td>1</td>\n",
       "      <td>-1217.183964</td>\n",
       "      <td>-4068.124621</td>\n",
       "      <td>4.416082</td>\n",
       "      <td>1.0</td>\n",
       "    </tr>\n",
       "    <tr>\n",
       "      <th>2</th>\n",
       "      <td>2</td>\n",
       "      <td>9.138451</td>\n",
       "      <td>4413.412028</td>\n",
       "      <td>0.425317</td>\n",
       "      <td>0.0</td>\n",
       "    </tr>\n",
       "    <tr>\n",
       "      <th>3</th>\n",
       "      <td>3</td>\n",
       "      <td>363.824242</td>\n",
       "      <td>15474.760647</td>\n",
       "      <td>1.094119</td>\n",
       "      <td>0.0</td>\n",
       "    </tr>\n",
       "    <tr>\n",
       "      <th>4</th>\n",
       "      <td>4</td>\n",
       "      <td>-768.812047</td>\n",
       "      <td>-7963.932192</td>\n",
       "      <td>1.870536</td>\n",
       "      <td>0.0</td>\n",
       "    </tr>\n",
       "  </tbody>\n",
       "</table>\n",
       "</div>"
      ],
      "text/plain": [
       "   index           f1            f2        f3    y\n",
       "0      0  -195.871045 -14843.084171  5.532140  1.0\n",
       "1      1 -1217.183964  -4068.124621  4.416082  1.0\n",
       "2      2     9.138451   4413.412028  0.425317  0.0\n",
       "3      3   363.824242  15474.760647  1.094119  0.0\n",
       "4      4  -768.812047  -7963.932192  1.870536  0.0"
      ]
     },
     "metadata": {},
     "output_type": "display_data"
    }
   ],
   "source": [
    "data = pd.read_csv(filepath_or_buffer='task_b.csv')\n",
    "display(data.head())"
   ]
  },
  {
   "cell_type": "code",
   "execution_count": 6,
   "id": "bc79bafa",
   "metadata": {},
   "outputs": [
    {
     "data": {
      "text/html": [
       "<div>\n",
       "<style scoped>\n",
       "    .dataframe tbody tr th:only-of-type {\n",
       "        vertical-align: middle;\n",
       "    }\n",
       "\n",
       "    .dataframe tbody tr th {\n",
       "        vertical-align: top;\n",
       "    }\n",
       "\n",
       "    .dataframe thead th {\n",
       "        text-align: right;\n",
       "    }\n",
       "</style>\n",
       "<table border=\"1\" class=\"dataframe\">\n",
       "  <thead>\n",
       "    <tr style=\"text-align: right;\">\n",
       "      <th></th>\n",
       "      <th>f1</th>\n",
       "      <th>f2</th>\n",
       "      <th>f3</th>\n",
       "      <th>y</th>\n",
       "    </tr>\n",
       "  </thead>\n",
       "  <tbody>\n",
       "    <tr>\n",
       "      <th>0</th>\n",
       "      <td>-195.871045</td>\n",
       "      <td>-14843.084171</td>\n",
       "      <td>5.532140</td>\n",
       "      <td>1.0</td>\n",
       "    </tr>\n",
       "    <tr>\n",
       "      <th>1</th>\n",
       "      <td>-1217.183964</td>\n",
       "      <td>-4068.124621</td>\n",
       "      <td>4.416082</td>\n",
       "      <td>1.0</td>\n",
       "    </tr>\n",
       "    <tr>\n",
       "      <th>2</th>\n",
       "      <td>9.138451</td>\n",
       "      <td>4413.412028</td>\n",
       "      <td>0.425317</td>\n",
       "      <td>0.0</td>\n",
       "    </tr>\n",
       "    <tr>\n",
       "      <th>3</th>\n",
       "      <td>363.824242</td>\n",
       "      <td>15474.760647</td>\n",
       "      <td>1.094119</td>\n",
       "      <td>0.0</td>\n",
       "    </tr>\n",
       "    <tr>\n",
       "      <th>4</th>\n",
       "      <td>-768.812047</td>\n",
       "      <td>-7963.932192</td>\n",
       "      <td>1.870536</td>\n",
       "      <td>0.0</td>\n",
       "    </tr>\n",
       "  </tbody>\n",
       "</table>\n",
       "</div>"
      ],
      "text/plain": [
       "            f1            f2        f3    y\n",
       "0  -195.871045 -14843.084171  5.532140  1.0\n",
       "1 -1217.183964  -4068.124621  4.416082  1.0\n",
       "2     9.138451   4413.412028  0.425317  0.0\n",
       "3   363.824242  15474.760647  1.094119  0.0\n",
       "4  -768.812047  -7963.932192  1.870536  0.0"
      ]
     },
     "metadata": {},
     "output_type": "display_data"
    }
   ],
   "source": [
    "data = data.iloc[:, 1:]\n",
    "display(data.head())"
   ]
  },
  {
   "cell_type": "code",
   "execution_count": 7,
   "id": "0a4aae63",
   "metadata": {},
   "outputs": [
    {
     "data": {
      "image/png": "[encoded data removed]",
      "text/plain": [
       "<Figure size 720x144 with 1 Axes>"
      ]
     },
     "metadata": {
      "needs_background": "light"
     },
     "output_type": "display_data"
    }
   ],
   "source": [
    "plt.figure(figsize=(10, 2))\n",
    "data['y'].value_counts().plot(kind='barh')\n",
    "plt.show()"
   ]
  },
  {
   "cell_type": "markdown",
   "id": "75d158b1",
   "metadata": {},
   "source": [
    "This data is a balanced data and has two classes $0$ and $1$."
   ]
  },
  {
   "cell_type": "code",
   "execution_count": 8,
   "id": "0585c611",
   "metadata": {},
   "outputs": [
    {
     "data": {
      "text/html": [
       "<style type=\"text/css\">\n",
       "#T_9905d_row0_col0, #T_9905d_row1_col1, #T_9905d_row2_col2, #T_9905d_row3_col3 {\n",
       "  background-color: #00441b;\n",
       "  color: #f1f1f1;\n",
       "}\n",
       "#T_9905d_row0_col1 {\n",
       "  background-color: #e7f6e2;\n",
       "  color: #000000;\n",
       "}\n",
       "#T_9905d_row0_col2 {\n",
       "  background-color: #dbf1d5;\n",
       "  color: #000000;\n",
       "}\n",
       "#T_9905d_row0_col3 {\n",
       "  background-color: #ebf7e7;\n",
       "  color: #000000;\n",
       "}\n",
       "#T_9905d_row1_col0, #T_9905d_row1_col2, #T_9905d_row1_col3, #T_9905d_row2_col1, #T_9905d_row3_col0 {\n",
       "  background-color: #f7fcf5;\n",
       "  color: #000000;\n",
       "}\n",
       "#T_9905d_row2_col0 {\n",
       "  background-color: #eff9eb;\n",
       "  color: #000000;\n",
       "}\n",
       "#T_9905d_row2_col3 {\n",
       "  background-color: #097532;\n",
       "  color: #f1f1f1;\n",
       "}\n",
       "#T_9905d_row3_col1 {\n",
       "  background-color: #f2faef;\n",
       "  color: #000000;\n",
       "}\n",
       "#T_9905d_row3_col2 {\n",
       "  background-color: #087432;\n",
       "  color: #f1f1f1;\n",
       "}\n",
       "</style>\n",
       "<table id=\"T_9905d\">\n",
       "  <thead>\n",
       "    <tr>\n",
       "      <th class=\"blank level0\" >&nbsp;</th>\n",
       "      <th id=\"T_9905d_level0_col0\" class=\"col_heading level0 col0\" >f1</th>\n",
       "      <th id=\"T_9905d_level0_col1\" class=\"col_heading level0 col1\" >f2</th>\n",
       "      <th id=\"T_9905d_level0_col2\" class=\"col_heading level0 col2\" >f3</th>\n",
       "      <th id=\"T_9905d_level0_col3\" class=\"col_heading level0 col3\" >y</th>\n",
       "    </tr>\n",
       "  </thead>\n",
       "  <tbody>\n",
       "    <tr>\n",
       "      <th id=\"T_9905d_level0_row0\" class=\"row_heading level0 row0\" >f1</th>\n",
       "      <td id=\"T_9905d_row0_col0\" class=\"data row0 col0\" >1.000000</td>\n",
       "      <td id=\"T_9905d_row0_col1\" class=\"data row0 col1\" >0.065468</td>\n",
       "      <td id=\"T_9905d_row0_col2\" class=\"data row0 col2\" >0.123589</td>\n",
       "      <td id=\"T_9905d_row0_col3\" class=\"data row0 col3\" >0.067172</td>\n",
       "    </tr>\n",
       "    <tr>\n",
       "      <th id=\"T_9905d_level0_row1\" class=\"row_heading level0 row1\" >f2</th>\n",
       "      <td id=\"T_9905d_row1_col0\" class=\"data row1 col0\" >0.065468</td>\n",
       "      <td id=\"T_9905d_row1_col1\" class=\"data row1 col1\" >1.000000</td>\n",
       "      <td id=\"T_9905d_row1_col2\" class=\"data row1 col2\" >-0.055561</td>\n",
       "      <td id=\"T_9905d_row1_col3\" class=\"data row1 col3\" >-0.017944</td>\n",
       "    </tr>\n",
       "    <tr>\n",
       "      <th id=\"T_9905d_level0_row2\" class=\"row_heading level0 row2\" >f3</th>\n",
       "      <td id=\"T_9905d_row2_col0\" class=\"data row2 col0\" >0.123589</td>\n",
       "      <td id=\"T_9905d_row2_col1\" class=\"data row2 col1\" >-0.055561</td>\n",
       "      <td id=\"T_9905d_row2_col2\" class=\"data row2 col2\" >1.000000</td>\n",
       "      <td id=\"T_9905d_row2_col3\" class=\"data row2 col3\" >0.839060</td>\n",
       "    </tr>\n",
       "    <tr>\n",
       "      <th id=\"T_9905d_level0_row3\" class=\"row_heading level0 row3\" >y</th>\n",
       "      <td id=\"T_9905d_row3_col0\" class=\"data row3 col0\" >0.067172</td>\n",
       "      <td id=\"T_9905d_row3_col1\" class=\"data row3 col1\" >-0.017944</td>\n",
       "      <td id=\"T_9905d_row3_col2\" class=\"data row3 col2\" >0.839060</td>\n",
       "      <td id=\"T_9905d_row3_col3\" class=\"data row3 col3\" >1.000000</td>\n",
       "    </tr>\n",
       "  </tbody>\n",
       "</table>\n"
      ],
      "text/plain": [
       "<pandas.io.formats.style.Styler at 0x7f69f9329000>"
      ]
     },
     "metadata": {},
     "output_type": "display_data"
    }
   ],
   "source": [
    "relation = data.corr()\n",
    "display(relation.style.background_gradient(cmap='Greens'))"
   ]
  },
  {
   "cell_type": "markdown",
   "id": "85b9a638",
   "metadata": {},
   "source": [
    "From this above correlation table, I have below conclusions:\n",
    "\n",
    "1. We can see that feature __f3__ is highly positively correlated with target __y__ followed by feature __f1__.\n",
    "2. We can also see that feature __f2__ is negatively correlated with target __y__."
   ]
  },
  {
   "cell_type": "code",
   "execution_count": 9,
   "id": "439d533c",
   "metadata": {},
   "outputs": [
    {
     "data": {
      "text/plain": [
       "f1      488.195035\n",
       "f2    10403.417325\n",
       "f3        2.926662\n",
       "y         0.501255\n",
       "dtype: float64"
      ]
     },
     "metadata": {},
     "output_type": "display_data"
    }
   ],
   "source": [
    "display(data.std())"
   ]
  },
  {
   "cell_type": "markdown",
   "id": "6306294f",
   "metadata": {},
   "source": [
    "Feature importance."
   ]
  },
  {
   "cell_type": "code",
   "execution_count": 10,
   "id": "98108e02",
   "metadata": {},
   "outputs": [],
   "source": [
    "def get_important_features(data, label, standardize=True, model='lr'):\n",
    "    \"\"\"\n",
    "    This function returns the feature coefficients.\n",
    "    \"\"\"\n",
    "    features = list(data.columns)\n",
    "    features.remove(label)\n",
    "    \n",
    "    X = data.drop(labels=[label], axis=1).values\n",
    "    y = data[label].values\n",
    "    \n",
    "    if standardize:\n",
    "        std = StandardScaler()\n",
    "        X = std.fit_transform(X=X)\n",
    "    \n",
    "    loss = 'log_loss' if model == 'lr' else 'hinge'\n",
    "    clf = SGDClassifier(loss=loss)\n",
    "    clf.fit(X=X, y=y)\n",
    "    coefs = [abs(w) for w in clf.coef_[0]]\n",
    "    fimp_dict = {f: w for (f, w) in zip(features, coefs)}\n",
    "    return fimp_dict"
   ]
  },
  {
   "cell_type": "markdown",
   "id": "f0017c1f",
   "metadata": {},
   "source": [
    "---"
   ]
  },
  {
   "cell_type": "markdown",
   "id": "327116e5",
   "metadata": {},
   "source": [
    "__Task 1: SVC__"
   ]
  },
  {
   "cell_type": "code",
   "execution_count": 11,
   "id": "4bb2b421",
   "metadata": {
    "scrolled": true
   },
   "outputs": [
    {
     "data": {
      "text/plain": [
       "{'f1': 3209.840691857735, 'f2': 356.9958946762686, 'f3': 11007.269523523752}"
      ]
     },
     "metadata": {},
     "output_type": "display_data"
    }
   ],
   "source": [
    "fi_1_svc = get_important_features(data=data, label='y', standardize=False, model='svc')\n",
    "display(fi_1_svc)"
   ]
  },
  {
   "cell_type": "markdown",
   "id": "29ea3abe",
   "metadata": {},
   "source": [
    "__Task 1: LR__"
   ]
  },
  {
   "cell_type": "code",
   "execution_count": 12,
   "id": "a3435888",
   "metadata": {},
   "outputs": [
    {
     "data": {
      "text/plain": [
       "{'f1': 6658.760522000005, 'f2': 2166.91824046244, 'f3': 10734.034208055762}"
      ]
     },
     "metadata": {},
     "output_type": "display_data"
    }
   ],
   "source": [
    "fi_1_lr = get_important_features(data=data, label='y', standardize=False, model='lr')\n",
    "display(fi_1_lr)"
   ]
  },
  {
   "cell_type": "markdown",
   "id": "98239ce8",
   "metadata": {},
   "source": [
    "__Conclusion:__\n",
    "\n",
    "- In `sklearn`, we can obtain the important feature by using an attribute called `coef_`.\n",
    "- The feature(s) whose variance/standard deviation is less, turn out to be important feature(s) and gain big weightage.\n",
    "- As the features are not standardized, their weights are very huge. Usually this is not the case when features are standardized.\n",
    "- Important features:\n",
    "    1. __SVC__: The __f3__ is the most important feature followed by __f1__ and the least important feature is __f2__.\n",
    "        - In SVC, the best way to select important features is by forward feature selection.\n",
    "    2. __LR__: The __f3__ is the most important feature followed by __f1__ and the least important feature is __f2__.\n",
    "        - In LR, the weights whose value is more irrespective of the sign, is considered to be important feaure."
   ]
  },
  {
   "cell_type": "markdown",
   "id": "b87937d8",
   "metadata": {},
   "source": [
    "---"
   ]
  },
  {
   "cell_type": "markdown",
   "id": "a0dab74e",
   "metadata": {},
   "source": [
    "__Task 2: SVC__"
   ]
  },
  {
   "cell_type": "code",
   "execution_count": 13,
   "id": "e3a80fae",
   "metadata": {},
   "outputs": [
    {
     "data": {
      "text/plain": [
       "{'f1': 4.44318225333298, 'f2': 1.3744710016791615, 'f3': 26.892231018845628}"
      ]
     },
     "metadata": {},
     "output_type": "display_data"
    }
   ],
   "source": [
    "fi_2_svc = get_important_features(data=data, label='y', standardize=True, model='svc')\n",
    "display(fi_2_svc)"
   ]
  },
  {
   "cell_type": "markdown",
   "id": "b3761fcf",
   "metadata": {},
   "source": [
    "__Task 2: LR__"
   ]
  },
  {
   "cell_type": "code",
   "execution_count": 14,
   "id": "6e3fd5cb",
   "metadata": {},
   "outputs": [
    {
     "data": {
      "text/plain": [
       "{'f1': 0.0853279882523907, 'f2': 1.3305145748380753, 'f3': 9.45856346956877}"
      ]
     },
     "metadata": {},
     "output_type": "display_data"
    }
   ],
   "source": [
    "fi_2_lr = get_important_features(data=data, label='y', standardize=True, model='lr')\n",
    "display(fi_2_lr)"
   ]
  },
  {
   "cell_type": "markdown",
   "id": "1c0f2580",
   "metadata": {},
   "source": [
    "__Conclusion:__\n",
    "\n",
    "- In `sklearn`, we can obtain the important feature by using an attribute called `coef_`.\n",
    "- The features whose variance/standard deviation is less, turn out to be important features and gain more weightage.\n",
    "- As the features in this task are standardized, the data becomes more stable from a feature standpoint.\n",
    "- Important features:\n",
    "    1. __SVC__: The __f3__ is the most important feature followed by __f1__ and the least important feature is __f2__.\n",
    "        - In SVC, the best way to select important features is by forward feature selection.\n",
    "    2. __LR__: The __f3__ is the most important feature followed by __f2__ and the least important feature is __f1__.\n",
    "        - In LR, the weights whose value is more irrespective of the sign, is considered to be important feaure."
   ]
  },
  {
   "cell_type": "markdown",
   "id": "1df5cc59",
   "metadata": {},
   "source": [
    "---"
   ]
  },
  {
   "cell_type": "markdown",
   "id": "768a875a",
   "metadata": {},
   "source": [
    "End of the file."
   ]
  }
 ],
 "metadata": {
  "kernelspec": {
   "display_name": "Python 3 (ipykernel)",
   "language": "python",
   "name": "python3"
  },
  "language_info": {
   "codemirror_mode": {
    "name": "ipython",
    "version": 3
   },
   "file_extension": ".py",
   "mimetype": "text/x-python",
   "name": "python",
   "nbconvert_exporter": "python",
   "pygments_lexer": "ipython3",
   "version": "3.10.5"
  }
 },
 "nbformat": 4,
 "nbformat_minor": 5
}
