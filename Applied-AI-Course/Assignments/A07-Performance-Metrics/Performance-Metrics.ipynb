{
 "cells": [
  {
   "cell_type": "markdown",
   "metadata": {
    "id": "s0Ej_bXyQvnV"
   },
   "source": [
    "Compute performance metrics for the given Y and Y_score without `sklearn`."
   ]
  },
  {
   "cell_type": "code",
   "execution_count": 1,
   "metadata": {
    "id": "4CHb6NE7Qvnc"
   },
   "outputs": [],
   "source": [
    "import numpy as np\n",
    "import pandas as pd"
   ]
  },
  {
   "cell_type": "code",
   "execution_count": 8,
   "metadata": {},
   "outputs": [],
   "source": [
    "class PerformanceMetricsABC(object):\n",
    "    \"\"\"\n",
    "    This class is a solution for problem A, B and C.\n",
    "    \"\"\"\n",
    "    \n",
    "    def __init__(self, datafile, T):\n",
    "        self.datafile = datafile\n",
    "        self.T = T\n",
    "        self.df = pd.read_csv(filepath_or_buffer=datafile)\n",
    "        self.df_dup = self.df.copy()\n",
    "        self.df_dup['y_p'] = np.where(self.df_dup['proba'] < self.T, 0.0, 1.0)\n",
    "    \n",
    "    def compute_cm_values(self, data, c1, c2) -> tuple:\n",
    "        \"\"\"\n",
    "        This method computes confusion matrix values.\n",
    "        \"\"\"\n",
    "        TN = len(data[(data[c1] == 0.0) & (data[c2] == 0.0)])\n",
    "        FP = len(data[(data[c1] == 0.0) & (data[c2] == 1.0)])\n",
    "        FN = len(data[(data[c1] == 1.0) & (data[c2] == 0.0)])\n",
    "        TP = len(data[(data[c1] == 1.0) & (data[c2] == 1.0)])\n",
    "        return TN, FP, FN, TP\n",
    "    \n",
    "    def compute_cm_rates(self) -> tuple:\n",
    "        \"\"\"\n",
    "        This method computes confusion matrix rates.\n",
    "        \"\"\"\n",
    "        TN, FP, FN, TP = self.compute_cm_values(\n",
    "            data=self.df_dup, c1='y', c2='y_p')\n",
    "        N = TN + FP; P = FN + TP;\n",
    "        TNR = TN / N; FPR = FP / N; FNR = FN / P; TPR = TP / P;\n",
    "        return TNR, FPR, FNR, TPR\n",
    "    \n",
    "    def compute_recall(self) -> float:\n",
    "        \"\"\"\n",
    "        This method computes recall.\n",
    "        \"\"\"\n",
    "        TN, FP, FN, TP = self.compute_cm_values(\n",
    "            data=self.df_dup, c1='y', c2='y_p')\n",
    "        N = TN + FP; P = FN + TP;\n",
    "        return TP / P\n",
    "    \n",
    "    def compute_precision(self) -> float:\n",
    "        \"\"\"\n",
    "        This method computes precision.\n",
    "        \"\"\"\n",
    "        TN, FP, FN, TP = self.compute_cm_values(\n",
    "            data=self.df_dup, c1='y', c2='y_p')\n",
    "        return TP / (TP + FP)\n",
    "    \n",
    "    def compute_f1_score(self) -> float:\n",
    "        \"\"\"\n",
    "        This method computes F1 score.\n",
    "        \"\"\"\n",
    "        r = self.compute_recall()\n",
    "        p = self.compute_precision()\n",
    "        return 2 * ((r * p) / (r + p))\n",
    "    \n",
    "    def compute_accuracy(self) -> float:\n",
    "        \"\"\"\n",
    "        This method computes accuracy.\n",
    "        \"\"\"\n",
    "        TN, FP, FN, TP = self.compute_cm_values(\n",
    "            data=self.df_dup, c1='y', c2='y_p')\n",
    "        return (TN + TP) / (TN + FP + FN + TP)\n",
    "    \n",
    "    def compute_auc(self) -> tuple:\n",
    "        \"\"\"\n",
    "        This method computes Area Under ROC Curve score.\n",
    "        \"\"\"\n",
    "        FPR_arr = list()\n",
    "        TPR_arr = list()\n",
    "        A = list()\n",
    "        \n",
    "        sorted_df_dup = self.df_dup.sort_values(by='proba')\n",
    "        \n",
    "        for tau in sorted_df_dup['proba'].tolist():\n",
    "            y_actual = np.array(sorted_df_dup['y'].to_list())\n",
    "            y_pred = np.where((sorted_df_dup['proba'] < tau), 0, 1)\n",
    "            \n",
    "            tau_df = pd.DataFrame()\n",
    "            tau_df['y'] = y_actual\n",
    "            tau_df['y_p'] = y_pred\n",
    "            \n",
    "            TN, FP, FN, TP = self.compute_cm_values(\n",
    "                data=tau_df, c1='y', c2='y_p')\n",
    "            N = TN + FP; P = FN + TP;\n",
    "            FPR = FP / N; TPR = TP / P;\n",
    "            \n",
    "            FPR_arr.append(FPR)\n",
    "            TPR_arr.append(TPR)\n",
    "            A.append((500 * FN) + (100 * FP))\n",
    "            \n",
    "        FPR_arr = np.array(FPR_arr)\n",
    "        TPR_arr = np.array(TPR_arr)\n",
    "        A = np.array(A)\n",
    "        \n",
    "        optimum_t = np.min(a=A)\n",
    "        auc = np.abs(np.trapz(y=TPR_arr, x=FPR_arr))\n",
    "        return FPR_arr, TPR_arr, optimum_t, round(auc, 5)\n",
    "    \n",
    "    def report(self) -> None:\n",
    "        \"\"\"\n",
    "        This method prints the performance metrics.\n",
    "        \"\"\"\n",
    "        from matplotlib import pyplot as plt\n",
    "        from matplotlib import style\n",
    "        style.use(style='seaborn-whitegrid')\n",
    "        \n",
    "        TN, FP, FN, TP = self.compute_cm_values(\n",
    "            data=self.df_dup, c1='y', c2='y_p')\n",
    "        conf_mat = np.matrix(data=[[TN, FP], [FN, TP]])\n",
    "        f1_score = round(self.compute_f1_score(), 5)\n",
    "        FPR_arr, TPR_arr, optimum_t, auc = self.compute_auc()\n",
    "        acc_score = round(self.compute_accuracy(), 5)\n",
    "        \n",
    "        print(\"Confusion Matrix:\\n{}\\n\".format(conf_mat))\n",
    "        \n",
    "        print(\"F1 Score: {}\\n\".format(f1_score))\n",
    "        \n",
    "        plt.figure(figsize=(10, 6))\n",
    "        plt.plot(FPR_arr, TPR_arr)\n",
    "        title = 'Receiver Operating Characteristic Curve (AUC = {})'.format(auc)\n",
    "        plt.title(label=title)\n",
    "        plt.xlabel(xlabel='FPRs')\n",
    "        plt.ylabel(ylabel='TPRs')\n",
    "        plt.show()\n",
    "        \n",
    "        print(\"\\nOptimum Threshold: {}\\n\".format(optimum_t))\n",
    "        \n",
    "        print(\"Accuracy: {}\".format(acc_score))\n",
    "        return None"
   ]
  },
  {
   "cell_type": "markdown",
   "metadata": {},
   "source": [
    "---"
   ]
  },
  {
   "cell_type": "markdown",
   "metadata": {},
   "source": [
    "A. Compute performance metrics for the given data '5_a.csv'"
   ]
  },
  {
   "cell_type": "code",
   "execution_count": 3,
   "metadata": {
    "id": "yg8uUJvGAfCM"
   },
   "outputs": [
    {
     "name": "stdout",
     "output_type": "stream",
     "text": [
      "Confusion Matrix:\n",
      "[[    0   100]\n",
      " [    0 10000]]\n",
      "\n",
      "F1 Score: 0.99502\n",
      "\n"
     ]
    },
    {
     "data": {
      "image/png": "[encoded data removed]",
      "text/plain": [
       "<Figure size 720x432 with 1 Axes>"
      ]
     },
     "metadata": {},
     "output_type": "display_data"
    },
    {
     "name": "stdout",
     "output_type": "stream",
     "text": [
      "\n",
      "Optimum Threshold: 10000\n",
      "\n",
      "Accuracy: 0.9901\n"
     ]
    }
   ],
   "source": [
    "prob_A = PerformanceMetricsABC(datafile='5_a.csv', T=0.5)\n",
    "prob_A.report()"
   ]
  },
  {
   "cell_type": "markdown",
   "metadata": {},
   "source": [
    "---"
   ]
  },
  {
   "cell_type": "markdown",
   "metadata": {
    "id": "V5KZem1BQvn2"
   },
   "source": [
    "B. Compute performance metrics for the given data '5_b.csv'"
   ]
  },
  {
   "cell_type": "code",
   "execution_count": 4,
   "metadata": {},
   "outputs": [
    {
     "name": "stdout",
     "output_type": "stream",
     "text": [
      "Confusion Matrix:\n",
      "[[9761  239]\n",
      " [  45   55]]\n",
      "\n",
      "F1 Score: 0.27919\n",
      "\n"
     ]
    },
    {
     "data": {
      "image/png": "[encoded data removed]",
      "text/plain": [
       "<Figure size 720x432 with 1 Axes>"
      ]
     },
     "metadata": {},
     "output_type": "display_data"
    },
    {
     "name": "stdout",
     "output_type": "stream",
     "text": [
      "\n",
      "Optimum Threshold: 25000\n",
      "\n",
      "Accuracy: 0.97188\n"
     ]
    }
   ],
   "source": [
    "prob_B = PerformanceMetricsABC(datafile='5_b.csv', T=0.5)\n",
    "prob_B.report()"
   ]
  },
  {
   "cell_type": "markdown",
   "metadata": {},
   "source": [
    "---"
   ]
  },
  {
   "cell_type": "markdown",
   "metadata": {
    "id": "GiPGonTzQvoB"
   },
   "source": [
    "C. Compute the best threshold for the given data '5_c.csv'"
   ]
  },
  {
   "cell_type": "code",
   "execution_count": 5,
   "metadata": {
    "id": "x5HIJzq1QvoE"
   },
   "outputs": [
    {
     "name": "stdout",
     "output_type": "stream",
     "text": [
      "Confusion Matrix:\n",
      "[[1637  168]\n",
      " [ 462  585]]\n",
      "\n",
      "F1 Score: 0.65\n",
      "\n"
     ]
    },
    {
     "data": {
      "image/png": "[encoded data removed]",
      "text/plain": [
       "<Figure size 720x432 with 1 Axes>"
      ]
     },
     "metadata": {},
     "output_type": "display_data"
    },
    {
     "name": "stdout",
     "output_type": "stream",
     "text": [
      "\n",
      "Optimum Threshold: 141000\n",
      "\n",
      "Accuracy: 0.7791\n"
     ]
    }
   ],
   "source": [
    "prob_C = PerformanceMetricsABC(datafile='5_c.csv', T=0.5)\n",
    "prob_C.report()"
   ]
  },
  {
   "cell_type": "markdown",
   "metadata": {},
   "source": [
    "---"
   ]
  },
  {
   "cell_type": "code",
   "execution_count": 6,
   "metadata": {},
   "outputs": [],
   "source": [
    "class PerformanceMetricsD(object):\n",
    "    \"\"\"\n",
    "    This class is a solution for problem D.\n",
    "    \"\"\"\n",
    "    \n",
    "    def __init__(self, datafile):\n",
    "        self.datafile = datafile\n",
    "        self.df = pd.read_csv(filepath_or_buffer=self.datafile)\n",
    "        self.ai = self.df['y'].to_numpy()\n",
    "        self.pi = self.df['pred'].to_numpy()\n",
    "        self.ei = np.abs(self.ai - self.pi)\n",
    "        self.ai_m = np.mean(a=self.ai)\n",
    "        self.n = len(self.df)\n",
    "    \n",
    "    def compute_mse(self) -> float:\n",
    "        \"\"\"\n",
    "        This method computes MSE.\n",
    "        \"\"\"\n",
    "        return (1 / self.n) * (self.compute_ssr())\n",
    "    \n",
    "    def compute_mape(self) -> float:\n",
    "        \"\"\"\n",
    "        This method computes MAPE.\n",
    "        \"\"\"\n",
    "        return np.sum(self.ei) / np.sum(self.ai)\n",
    "    \n",
    "    def compute_sst(self) -> float:\n",
    "        \"\"\"\n",
    "        This method computes SST.\n",
    "        \"\"\"\n",
    "        return np.sum((self.ai - self.ai_m) ** 2)\n",
    "    \n",
    "    def compute_ssr(self) -> float:\n",
    "        \"\"\"\n",
    "        This method computes SSR.\n",
    "        \"\"\"\n",
    "        return np.sum(self.ei ** 2)\n",
    "    \n",
    "    def compute_R2(self) -> float:\n",
    "        \"\"\"\n",
    "        This method computes R^2.\n",
    "        \"\"\"\n",
    "        return (1 - (self.compute_ssr() / self.compute_sst()))\n",
    "    \n",
    "    def report(self) -> None:\n",
    "        \"\"\"\n",
    "        This method prints the performance metrics.\n",
    "        \"\"\"\n",
    "        mse = round(self.compute_mse(), 5)\n",
    "        mape = round(self.compute_mape(), 5)\n",
    "        r2 = round(self.compute_R2(), 5)\n",
    "        \n",
    "        print(\"MSE: {}\\n\".format(mse))\n",
    "        print(\"MAPE: {}\\n\".format(mape))\n",
    "        print(\"R^2: {}\".format(r2))"
   ]
  },
  {
   "cell_type": "markdown",
   "metadata": {},
   "source": [
    "---"
   ]
  },
  {
   "cell_type": "markdown",
   "metadata": {
    "id": "sD4CcgjXQvoL"
   },
   "source": [
    "D. Compute performance metrics (for regression) for the given data '5_d.csv'"
   ]
  },
  {
   "cell_type": "code",
   "execution_count": 7,
   "metadata": {
    "id": "sVOj-bF9AfCd"
   },
   "outputs": [
    {
     "name": "stdout",
     "output_type": "stream",
     "text": [
      "MSE: 177.1657\n",
      "\n",
      "MAPE: 0.12912\n",
      "\n",
      "R^2: 0.95636\n"
     ]
    }
   ],
   "source": [
    "prob_D = PerformanceMetricsD(datafile='5_d.csv')\n",
    "prob_D.report()"
   ]
  },
  {
   "cell_type": "markdown",
   "metadata": {},
   "source": [
    "---"
   ]
  },
  {
   "cell_type": "markdown",
   "metadata": {},
   "source": [
    "End of the file."
   ]
  }
 ],
 "metadata": {
  "colab": {
   "collapsed_sections": [],
   "name": "5_Performance_metrics_Instructions.ipynb",
   "provenance": []
  },
  "kernelspec": {
   "display_name": "Python 3 (ipykernel)",
   "language": "python",
   "name": "python3"
  },
  "language_info": {
   "codemirror_mode": {
    "name": "ipython",
    "version": 3
   },
   "file_extension": ".py",
   "mimetype": "text/x-python",
   "name": "python",
   "nbconvert_exporter": "python",
   "pygments_lexer": "ipython3",
   "version": "3.10.4"
  }
 },
 "nbformat": 4,
 "nbformat_minor": 1
}
