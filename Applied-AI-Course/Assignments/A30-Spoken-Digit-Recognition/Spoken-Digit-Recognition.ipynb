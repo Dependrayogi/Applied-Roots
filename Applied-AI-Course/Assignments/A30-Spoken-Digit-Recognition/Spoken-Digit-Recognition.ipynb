{
 "cells": [
  {
   "cell_type": "markdown",
   "metadata": {
    "id": "ZwoTWIysaNmc"
   },
   "source": [
    "Spoken Digit Recognition"
   ]
  },
  {
   "cell_type": "markdown",
   "metadata": {
    "id": "rPO3mjDDaNmf"
   },
   "source": [
    "In this notebook, You will do Spoken Digit Recognition. \n",
    "\n",
    "Input - speech signal, output - digit number\n",
    "\n",
    "It contains  \n",
    "\n",
    "1. Reading the dataset. and Preprocess the data set. Detailed instrctions are given below. You have to write the code in the same cell which contains the instrction. \n",
    "2. Training the LSTM with RAW data\n",
    "3. Converting to spectrogram and Training the LSTM network\n",
    "4. Creating the augmented data and doing step 2 and 3 again.  \n",
    "\n",
    "Instructions:\n",
    "\n",
    "1. Don't change any Grader Functions. Don't manipulate any Grader functions. If you manipulate any, it will be considered as plagiarised. \n",
    "2. Please read the instructions on the code cells and markdown cells. We will explain what to write. \n",
    "3. Please return outputs in the same format what we asked. Eg. Don't return List of we are asking for a numpy array.\n",
    "4. Please read the external links that we are given so that you will learn the concept behind the code that you are writing.\n",
    "5. We are giving instructions at each section if necessary, please follow them."
   ]
  },
  {
   "cell_type": "code",
   "execution_count": 1,
   "metadata": {
    "colab": {
     "base_uri": "https://localhost:8080/"
    },
    "executionInfo": {
     "elapsed": 3317,
     "status": "ok",
     "timestamp": 1668531399156,
     "user": {
      "displayName": "Mohammed Saifuddin",
      "userId": "00132744978255071993"
     },
     "user_tz": -330
    },
    "id": "xbZKalKAY2vN",
    "outputId": "8fbadd95-e034-4d91-90be-24c65a9e03b7"
   },
   "outputs": [
    {
     "name": "stdout",
     "output_type": "stream",
     "text": [
      "\u001b[?25l\r",
      "\u001b[K     |████▎                           | 10 kB 26.0 MB/s eta 0:00:01\r",
      "\u001b[K     |████████▌                       | 20 kB 6.3 MB/s eta 0:00:01\r",
      "\u001b[K     |████████████▊                   | 30 kB 9.1 MB/s eta 0:00:01\r",
      "\u001b[K     |█████████████████               | 40 kB 4.1 MB/s eta 0:00:01\r",
      "\u001b[K     |█████████████████████▏          | 51 kB 4.1 MB/s eta 0:00:01\r",
      "\u001b[K     |█████████████████████████▍      | 61 kB 4.9 MB/s eta 0:00:01\r",
      "\u001b[K     |█████████████████████████████▋  | 71 kB 5.3 MB/s eta 0:00:01\r",
      "\u001b[K     |████████████████████████████████| 77 kB 3.3 MB/s \n",
      "\u001b[?25h"
     ]
    }
   ],
   "source": [
    "!pip install patool --quiet"
   ]
  },
  {
   "cell_type": "code",
   "execution_count": 2,
   "metadata": {
    "colab": {
     "base_uri": "https://localhost:8080/"
    },
    "executionInfo": {
     "elapsed": 3376,
     "status": "ok",
     "timestamp": 1668531402528,
     "user": {
      "displayName": "Mohammed Saifuddin",
      "userId": "00132744978255071993"
     },
     "user_tz": -330
    },
    "id": "YxOb8cAmY4iG",
    "outputId": "8cd1f403-fdd2-459e-bbb4-420dc09223fa"
   },
   "outputs": [
    {
     "name": "stdout",
     "output_type": "stream",
     "text": [
      "\u001b[?25l\r",
      "\u001b[K     |▎                               | 10 kB 27.5 MB/s eta 0:00:01\r",
      "\u001b[K     |▋                               | 20 kB 7.8 MB/s eta 0:00:01\r",
      "\u001b[K     |█                               | 30 kB 10.6 MB/s eta 0:00:01\r",
      "\u001b[K     |█▏                              | 40 kB 2.4 MB/s eta 0:00:01\r",
      "\u001b[K     |█▌                              | 51 kB 3.0 MB/s eta 0:00:01\r",
      "\u001b[K     |█▉                              | 61 kB 3.5 MB/s eta 0:00:01\r",
      "\u001b[K     |██                              | 71 kB 4.1 MB/s eta 0:00:01\r",
      "\u001b[K     |██▍                             | 81 kB 4.6 MB/s eta 0:00:01\r",
      "\u001b[K     |██▊                             | 92 kB 5.1 MB/s eta 0:00:01\r",
      "\u001b[K     |███                             | 102 kB 4.4 MB/s eta 0:00:01\r",
      "\u001b[K     |███▎                            | 112 kB 4.4 MB/s eta 0:00:01\r",
      "\u001b[K     |███▋                            | 122 kB 4.4 MB/s eta 0:00:01\r",
      "\u001b[K     |███▉                            | 133 kB 4.4 MB/s eta 0:00:01\r",
      "\u001b[K     |████▏                           | 143 kB 4.4 MB/s eta 0:00:01\r",
      "\u001b[K     |████▌                           | 153 kB 4.4 MB/s eta 0:00:01\r",
      "\u001b[K     |████▊                           | 163 kB 4.4 MB/s eta 0:00:01\r",
      "\u001b[K     |█████                           | 174 kB 4.4 MB/s eta 0:00:01\r",
      "\u001b[K     |█████▍                          | 184 kB 4.4 MB/s eta 0:00:01\r",
      "\u001b[K     |█████▋                          | 194 kB 4.4 MB/s eta 0:00:01\r",
      "\u001b[K     |██████                          | 204 kB 4.4 MB/s eta 0:00:01\r",
      "\u001b[K     |██████▎                         | 215 kB 4.4 MB/s eta 0:00:01\r",
      "\u001b[K     |██████▌                         | 225 kB 4.4 MB/s eta 0:00:01\r",
      "\u001b[K     |██████▉                         | 235 kB 4.4 MB/s eta 0:00:01\r",
      "\u001b[K     |███████▏                        | 245 kB 4.4 MB/s eta 0:00:01\r",
      "\u001b[K     |███████▍                        | 256 kB 4.4 MB/s eta 0:00:01\r",
      "\u001b[K     |███████▊                        | 266 kB 4.4 MB/s eta 0:00:01\r",
      "\u001b[K     |████████                        | 276 kB 4.4 MB/s eta 0:00:01\r",
      "\u001b[K     |████████▎                       | 286 kB 4.4 MB/s eta 0:00:01\r",
      "\u001b[K     |████████▋                       | 296 kB 4.4 MB/s eta 0:00:01\r",
      "\u001b[K     |█████████                       | 307 kB 4.4 MB/s eta 0:00:01\r",
      "\u001b[K     |█████████▏                      | 317 kB 4.4 MB/s eta 0:00:01\r",
      "\u001b[K     |█████████▌                      | 327 kB 4.4 MB/s eta 0:00:01\r",
      "\u001b[K     |█████████▉                      | 337 kB 4.4 MB/s eta 0:00:01\r",
      "\u001b[K     |██████████                      | 348 kB 4.4 MB/s eta 0:00:01\r",
      "\u001b[K     |██████████▍                     | 358 kB 4.4 MB/s eta 0:00:01\r",
      "\u001b[K     |██████████▊                     | 368 kB 4.4 MB/s eta 0:00:01\r",
      "\u001b[K     |███████████                     | 378 kB 4.4 MB/s eta 0:00:01\r",
      "\u001b[K     |███████████▎                    | 389 kB 4.4 MB/s eta 0:00:01\r",
      "\u001b[K     |███████████▋                    | 399 kB 4.4 MB/s eta 0:00:01\r",
      "\u001b[K     |███████████▉                    | 409 kB 4.4 MB/s eta 0:00:01\r",
      "\u001b[K     |████████████▏                   | 419 kB 4.4 MB/s eta 0:00:01\r",
      "\u001b[K     |████████████▌                   | 430 kB 4.4 MB/s eta 0:00:01\r",
      "\u001b[K     |████████████▊                   | 440 kB 4.4 MB/s eta 0:00:01\r",
      "\u001b[K     |█████████████                   | 450 kB 4.4 MB/s eta 0:00:01\r",
      "\u001b[K     |█████████████▍                  | 460 kB 4.4 MB/s eta 0:00:01\r",
      "\u001b[K     |█████████████▋                  | 471 kB 4.4 MB/s eta 0:00:01\r",
      "\u001b[K     |██████████████                  | 481 kB 4.4 MB/s eta 0:00:01\r",
      "\u001b[K     |██████████████▎                 | 491 kB 4.4 MB/s eta 0:00:01\r",
      "\u001b[K     |██████████████▌                 | 501 kB 4.4 MB/s eta 0:00:01\r",
      "\u001b[K     |██████████████▉                 | 512 kB 4.4 MB/s eta 0:00:01\r",
      "\u001b[K     |███████████████▏                | 522 kB 4.4 MB/s eta 0:00:01\r",
      "\u001b[K     |███████████████▍                | 532 kB 4.4 MB/s eta 0:00:01\r",
      "\u001b[K     |███████████████▊                | 542 kB 4.4 MB/s eta 0:00:01\r",
      "\u001b[K     |████████████████                | 552 kB 4.4 MB/s eta 0:00:01\r",
      "\u001b[K     |████████████████▎               | 563 kB 4.4 MB/s eta 0:00:01\r",
      "\u001b[K     |████████████████▋               | 573 kB 4.4 MB/s eta 0:00:01\r",
      "\u001b[K     |█████████████████               | 583 kB 4.4 MB/s eta 0:00:01\r",
      "\u001b[K     |█████████████████▏              | 593 kB 4.4 MB/s eta 0:00:01\r",
      "\u001b[K     |█████████████████▌              | 604 kB 4.4 MB/s eta 0:00:01\r",
      "\u001b[K     |█████████████████▉              | 614 kB 4.4 MB/s eta 0:00:01\r",
      "\u001b[K     |██████████████████              | 624 kB 4.4 MB/s eta 0:00:01\r",
      "\u001b[K     |██████████████████▍             | 634 kB 4.4 MB/s eta 0:00:01\r",
      "\u001b[K     |██████████████████▊             | 645 kB 4.4 MB/s eta 0:00:01\r",
      "\u001b[K     |███████████████████             | 655 kB 4.4 MB/s eta 0:00:01\r",
      "\u001b[K     |███████████████████▎            | 665 kB 4.4 MB/s eta 0:00:01\r",
      "\u001b[K     |███████████████████▋            | 675 kB 4.4 MB/s eta 0:00:01\r",
      "\u001b[K     |███████████████████▉            | 686 kB 4.4 MB/s eta 0:00:01\r",
      "\u001b[K     |████████████████████▏           | 696 kB 4.4 MB/s eta 0:00:01\r",
      "\u001b[K     |████████████████████▌           | 706 kB 4.4 MB/s eta 0:00:01\r",
      "\u001b[K     |████████████████████▊           | 716 kB 4.4 MB/s eta 0:00:01\r",
      "\u001b[K     |█████████████████████           | 727 kB 4.4 MB/s eta 0:00:01\r",
      "\u001b[K     |█████████████████████▍          | 737 kB 4.4 MB/s eta 0:00:01\r",
      "\u001b[K     |█████████████████████▋          | 747 kB 4.4 MB/s eta 0:00:01\r",
      "\u001b[K     |██████████████████████          | 757 kB 4.4 MB/s eta 0:00:01\r",
      "\u001b[K     |██████████████████████▎         | 768 kB 4.4 MB/s eta 0:00:01\r",
      "\u001b[K     |██████████████████████▌         | 778 kB 4.4 MB/s eta 0:00:01\r",
      "\u001b[K     |██████████████████████▉         | 788 kB 4.4 MB/s eta 0:00:01\r",
      "\u001b[K     |███████████████████████▏        | 798 kB 4.4 MB/s eta 0:00:01\r",
      "\u001b[K     |███████████████████████▍        | 808 kB 4.4 MB/s eta 0:00:01\r",
      "\u001b[K     |███████████████████████▊        | 819 kB 4.4 MB/s eta 0:00:01\r",
      "\u001b[K     |████████████████████████        | 829 kB 4.4 MB/s eta 0:00:01\r",
      "\u001b[K     |████████████████████████▎       | 839 kB 4.4 MB/s eta 0:00:01\r",
      "\u001b[K     |████████████████████████▋       | 849 kB 4.4 MB/s eta 0:00:01\r",
      "\u001b[K     |█████████████████████████       | 860 kB 4.4 MB/s eta 0:00:01\r",
      "\u001b[K     |█████████████████████████▎      | 870 kB 4.4 MB/s eta 0:00:01\r",
      "\u001b[K     |█████████████████████████▌      | 880 kB 4.4 MB/s eta 0:00:01\r",
      "\u001b[K     |█████████████████████████▉      | 890 kB 4.4 MB/s eta 0:00:01\r",
      "\u001b[K     |██████████████████████████▏     | 901 kB 4.4 MB/s eta 0:00:01\r",
      "\u001b[K     |██████████████████████████▍     | 911 kB 4.4 MB/s eta 0:00:01\r",
      "\u001b[K     |██████████████████████████▊     | 921 kB 4.4 MB/s eta 0:00:01\r",
      "\u001b[K     |███████████████████████████     | 931 kB 4.4 MB/s eta 0:00:01\r",
      "\u001b[K     |███████████████████████████▎    | 942 kB 4.4 MB/s eta 0:00:01\r",
      "\u001b[K     |███████████████████████████▋    | 952 kB 4.4 MB/s eta 0:00:01\r",
      "\u001b[K     |████████████████████████████    | 962 kB 4.4 MB/s eta 0:00:01\r",
      "\u001b[K     |████████████████████████████▏   | 972 kB 4.4 MB/s eta 0:00:01\r",
      "\u001b[K     |████████████████████████████▌   | 983 kB 4.4 MB/s eta 0:00:01\r",
      "\u001b[K     |████████████████████████████▉   | 993 kB 4.4 MB/s eta 0:00:01\r",
      "\u001b[K     |█████████████████████████████   | 1.0 MB 4.4 MB/s eta 0:00:01\r",
      "\u001b[K     |█████████████████████████████▍  | 1.0 MB 4.4 MB/s eta 0:00:01\r",
      "\u001b[K     |█████████████████████████████▊  | 1.0 MB 4.4 MB/s eta 0:00:01\r",
      "\u001b[K     |██████████████████████████████  | 1.0 MB 4.4 MB/s eta 0:00:01\r",
      "\u001b[K     |██████████████████████████████▎ | 1.0 MB 4.4 MB/s eta 0:00:01\r",
      "\u001b[K     |██████████████████████████████▋ | 1.1 MB 4.4 MB/s eta 0:00:01\r",
      "\u001b[K     |██████████████████████████████▉ | 1.1 MB 4.4 MB/s eta 0:00:01\r",
      "\u001b[K     |███████████████████████████████▏| 1.1 MB 4.4 MB/s eta 0:00:01\r",
      "\u001b[K     |███████████████████████████████▌| 1.1 MB 4.4 MB/s eta 0:00:01\r",
      "\u001b[K     |███████████████████████████████▊| 1.1 MB 4.4 MB/s eta 0:00:01\r",
      "\u001b[K     |████████████████████████████████| 1.1 MB 4.4 MB/s \n",
      "\u001b[?25h"
     ]
    }
   ],
   "source": [
    "!pip install tensorflow-addons --quiet"
   ]
  },
  {
   "cell_type": "code",
   "execution_count": 3,
   "metadata": {
    "executionInfo": {
     "elapsed": 4,
     "status": "ok",
     "timestamp": 1668531407400,
     "user": {
      "displayName": "Mohammed Saifuddin",
      "userId": "00132744978255071993"
     },
     "user_tz": -330
    },
    "id": "9TyhYlI5ZZVQ"
   },
   "outputs": [],
   "source": [
    "from matplotlib import pyplot as plt\n",
    "from matplotlib import style\n",
    "style.use(style='seaborn-deep')"
   ]
  },
  {
   "cell_type": "code",
   "execution_count": 4,
   "metadata": {
    "executionInfo": {
     "elapsed": 688,
     "status": "ok",
     "timestamp": 1668531408085,
     "user": {
      "displayName": "Mohammed Saifuddin",
      "userId": "00132744978255071993"
     },
     "user_tz": -330
    },
    "id": "EH9FSFbVZqyT"
   },
   "outputs": [],
   "source": [
    "from sklearn.utils import shuffle\n",
    "from sklearn.model_selection import train_test_split\n",
    "from sklearn.metrics import f1_score"
   ]
  },
  {
   "cell_type": "code",
   "execution_count": 5,
   "metadata": {
    "executionInfo": {
     "elapsed": 2,
     "status": "ok",
     "timestamp": 1668531408085,
     "user": {
      "displayName": "Mohammed Saifuddin",
      "userId": "00132744978255071993"
     },
     "user_tz": -330
    },
    "id": "ogzZQWQgZ556"
   },
   "outputs": [],
   "source": [
    "from tqdm import tqdm"
   ]
  },
  {
   "cell_type": "code",
   "execution_count": 82,
   "metadata": {
    "executionInfo": {
     "elapsed": 616,
     "status": "ok",
     "timestamp": 1668534384012,
     "user": {
      "displayName": "Mohammed Saifuddin",
      "userId": "00132744978255071993"
     },
     "user_tz": -330
    },
    "id": "_qGuPcj-aNmh"
   },
   "outputs": [],
   "source": [
    "import numpy as np\n",
    "import pandas as pd\n",
    "import tensorflow as tf\n",
    "import tensorflow_addons as tfa\n",
    "import patoolib\n",
    "import seaborn as sns\n",
    "\n",
    "import librosa\n",
    "import os\n",
    "import time"
   ]
  },
  {
   "cell_type": "code",
   "execution_count": 7,
   "metadata": {
    "executionInfo": {
     "elapsed": 3,
     "status": "ok",
     "timestamp": 1668531412697,
     "user": {
      "displayName": "Mohammed Saifuddin",
      "userId": "00132744978255071993"
     },
     "user_tz": -330
    },
    "id": "ZMxXFAyoaD3D"
   },
   "outputs": [],
   "source": [
    "from tensorflow.keras.layers import (\n",
    "    Input,\n",
    "    LSTM,\n",
    "    Dense,\n",
    "    concatenate,\n",
    "    GlobalAveragePooling1D,\n",
    "    Dropout\n",
    ")\n",
    "from tensorflow.keras.models import Model\n",
    "from tensorflow.keras.preprocessing.sequence import pad_sequences\n",
    "from tensorflow.keras.utils import to_categorical"
   ]
  },
  {
   "cell_type": "markdown",
   "metadata": {
    "id": "PdhFzGK1aNmo"
   },
   "source": [
    "We shared recordings.zip, please unzip those. "
   ]
  },
  {
   "cell_type": "code",
   "execution_count": 9,
   "metadata": {
    "executionInfo": {
     "elapsed": 640,
     "status": "ok",
     "timestamp": 1668531431663,
     "user": {
      "displayName": "Mohammed Saifuddin",
      "userId": "00132744978255071993"
     },
     "user_tz": -330
    },
    "id": "HDBcl_PUaNmp"
   },
   "outputs": [],
   "source": [
    "# !gdown --id 1dpHrz4ldoPHAxkRXvQhqg72Mr1Gq1PSy"
   ]
  },
  {
   "cell_type": "code",
   "execution_count": 11,
   "metadata": {
    "executionInfo": {
     "elapsed": 1,
     "status": "ok",
     "timestamp": 1668531442237,
     "user": {
      "displayName": "Mohammed Saifuddin",
      "userId": "00132744978255071993"
     },
     "user_tz": -330
    },
    "id": "CUfDq2eibNkS"
   },
   "outputs": [],
   "source": [
    "# patoolib.extract_archive(archive='/content/recordings.zip', outdir='/content/recordings')"
   ]
  },
  {
   "cell_type": "code",
   "execution_count": 12,
   "metadata": {
    "colab": {
     "base_uri": "https://localhost:8080/"
    },
    "executionInfo": {
     "elapsed": 375,
     "status": "ok",
     "timestamp": 1668531444877,
     "user": {
      "displayName": "Mohammed Saifuddin",
      "userId": "00132744978255071993"
     },
     "user_tz": -330
    },
    "id": "Y64rLFxxbYBP",
    "outputId": "b1da1dc1-8778-4362-d3df-dbf0615da745"
   },
   "outputs": [
    {
     "name": "stdout",
     "output_type": "stream",
     "text": [
      "['0_jackson_0.wav', '0_jackson_1.wav', '0_jackson_10.wav', '0_jackson_11.wav', '0_jackson_12.wav']\n"
     ]
    }
   ],
   "source": [
    "recordings_path = '/content/recordings/recordings'\n",
    "all_files = sorted(os.listdir(path=recordings_path))\n",
    "print(all_files[:5])"
   ]
  },
  {
   "cell_type": "markdown",
   "metadata": {
    "id": "8NYYpfqoaNmv"
   },
   "source": [
    "Grader function 1"
   ]
  },
  {
   "cell_type": "code",
   "execution_count": 13,
   "metadata": {
    "colab": {
     "base_uri": "https://localhost:8080/"
    },
    "executionInfo": {
     "elapsed": 2,
     "status": "ok",
     "timestamp": 1668531447487,
     "user": {
      "displayName": "Mohammed Saifuddin",
      "userId": "00132744978255071993"
     },
     "user_tz": -330
    },
    "id": "2oJSOmYBaNmx",
    "outputId": "35a282f8-09bc-4971-880f-9d1e33df54d4"
   },
   "outputs": [
    {
     "data": {
      "text/plain": [
       "True"
      ]
     },
     "execution_count": 13,
     "metadata": {},
     "output_type": "execute_result"
    }
   ],
   "source": [
    "def grader_files():\n",
    "    temp = len(all_files) == 2000\n",
    "    temp1 = all([x[-3:]==\"wav\" for x in all_files])\n",
    "    temp = temp and temp1\n",
    "    return temp\n",
    "\n",
    "grader_files()"
   ]
  },
  {
   "cell_type": "markdown",
   "metadata": {
    "id": "MhvSIN6raNm3"
   },
   "source": [
    "Create a dataframe (name=df_audio) with two columns(path, label). You can get the label from the first letter of name.\n",
    "\n",
    "Example:\n",
    "\n",
    "    0_jackson_0 --> 0  \n",
    "    0_jackson_43 --> 0"
   ]
  },
  {
   "cell_type": "code",
   "execution_count": 14,
   "metadata": {
    "executionInfo": {
     "elapsed": 367,
     "status": "ok",
     "timestamp": 1668531452749,
     "user": {
      "displayName": "Mohammed Saifuddin",
      "userId": "00132744978255071993"
     },
     "user_tz": -330
    },
    "id": "Gf8eaFXZcDGw"
   },
   "outputs": [],
   "source": [
    "def create_audio_dataframe(dir_path, files):\n",
    "    \"\"\"\n",
    "    Creates the audio dataframe.\n",
    "    \"\"\"\n",
    "    labels = [file.split('_')[0] for file in files]\n",
    "    paths = [os.path.join(dir_path, file) for file in files]\n",
    "\n",
    "    df = pd.DataFrame()\n",
    "    df['path'] = paths\n",
    "    df['label'] = labels\n",
    "    return df"
   ]
  },
  {
   "cell_type": "code",
   "execution_count": 15,
   "metadata": {
    "executionInfo": {
     "elapsed": 569,
     "status": "ok",
     "timestamp": 1668531458321,
     "user": {
      "displayName": "Mohammed Saifuddin",
      "userId": "00132744978255071993"
     },
     "user_tz": -330
    },
    "id": "OPvF_IGvc77C"
   },
   "outputs": [],
   "source": [
    "df_audio = create_audio_dataframe(dir_path=recordings_path, files=all_files)"
   ]
  },
  {
   "cell_type": "code",
   "execution_count": 16,
   "metadata": {
    "colab": {
     "base_uri": "https://localhost:8080/"
    },
    "executionInfo": {
     "elapsed": 3,
     "status": "ok",
     "timestamp": 1668531458720,
     "user": {
      "displayName": "Mohammed Saifuddin",
      "userId": "00132744978255071993"
     },
     "user_tz": -330
    },
    "id": "KUSqda9YdPo3",
    "outputId": "dcd4f75b-c436-49e7-880b-ba89b97edf0f"
   },
   "outputs": [
    {
     "data": {
      "text/plain": [
       "(2000, 2)"
      ]
     },
     "execution_count": 16,
     "metadata": {},
     "output_type": "execute_result"
    }
   ],
   "source": [
    "df_audio.shape"
   ]
  },
  {
   "cell_type": "code",
   "execution_count": 17,
   "metadata": {
    "colab": {
     "base_uri": "https://localhost:8080/",
     "height": 206
    },
    "executionInfo": {
     "elapsed": 8,
     "status": "ok",
     "timestamp": 1668531459657,
     "user": {
      "displayName": "Mohammed Saifuddin",
      "userId": "00132744978255071993"
     },
     "user_tz": -330
    },
    "id": "tLL5nFHFdKkL",
    "outputId": "e0dfc2b1-740b-44f7-f1a9-792661eba650"
   },
   "outputs": [
    {
     "data": {
      "text/html": [
       "\n",
       "  <div id=\"df-f06a90ef-f088-44ba-839f-10e18380a601\">\n",
       "    <div class=\"colab-df-container\">\n",
       "      <div>\n",
       "<style scoped>\n",
       "    .dataframe tbody tr th:only-of-type {\n",
       "        vertical-align: middle;\n",
       "    }\n",
       "\n",
       "    .dataframe tbody tr th {\n",
       "        vertical-align: top;\n",
       "    }\n",
       "\n",
       "    .dataframe thead th {\n",
       "        text-align: right;\n",
       "    }\n",
       "</style>\n",
       "<table border=\"1\" class=\"dataframe\">\n",
       "  <thead>\n",
       "    <tr style=\"text-align: right;\">\n",
       "      <th></th>\n",
       "      <th>path</th>\n",
       "      <th>label</th>\n",
       "    </tr>\n",
       "  </thead>\n",
       "  <tbody>\n",
       "    <tr>\n",
       "      <th>0</th>\n",
       "      <td>/content/recordings/recordings/0_jackson_0.wav</td>\n",
       "      <td>0</td>\n",
       "    </tr>\n",
       "    <tr>\n",
       "      <th>1</th>\n",
       "      <td>/content/recordings/recordings/0_jackson_1.wav</td>\n",
       "      <td>0</td>\n",
       "    </tr>\n",
       "    <tr>\n",
       "      <th>2</th>\n",
       "      <td>/content/recordings/recordings/0_jackson_10.wav</td>\n",
       "      <td>0</td>\n",
       "    </tr>\n",
       "    <tr>\n",
       "      <th>3</th>\n",
       "      <td>/content/recordings/recordings/0_jackson_11.wav</td>\n",
       "      <td>0</td>\n",
       "    </tr>\n",
       "    <tr>\n",
       "      <th>4</th>\n",
       "      <td>/content/recordings/recordings/0_jackson_12.wav</td>\n",
       "      <td>0</td>\n",
       "    </tr>\n",
       "  </tbody>\n",
       "</table>\n",
       "</div>\n",
       "      <button class=\"colab-df-convert\" onclick=\"convertToInteractive('df-f06a90ef-f088-44ba-839f-10e18380a601')\"\n",
       "              title=\"Convert this dataframe to an interactive table.\"\n",
       "              style=\"display:none;\">\n",
       "        \n",
       "  <svg xmlns=\"http://www.w3.org/2000/svg\" height=\"24px\"viewBox=\"0 0 24 24\"\n",
       "       width=\"24px\">\n",
       "    <path d=\"M0 0h24v24H0V0z\" fill=\"none\"/>\n",
       "    <path d=\"M18.56 5.44l.94 2.06.94-2.06 2.06-.94-2.06-.94-.94-2.06-.94 2.06-2.06.94zm-11 1L8.5 8.5l.94-2.06 2.06-.94-2.06-.94L8.5 2.5l-.94 2.06-2.06.94zm10 10l.94 2.06.94-2.06 2.06-.94-2.06-.94-.94-2.06-.94 2.06-2.06.94z\"/><path d=\"M17.41 7.96l-1.37-1.37c-.4-.4-.92-.59-1.43-.59-.52 0-1.04.2-1.43.59L10.3 9.45l-7.72 7.72c-.78.78-.78 2.05 0 2.83L4 21.41c.39.39.9.59 1.41.59.51 0 1.02-.2 1.41-.59l7.78-7.78 2.81-2.81c.8-.78.8-2.07 0-2.86zM5.41 20L4 18.59l7.72-7.72 1.47 1.35L5.41 20z\"/>\n",
       "  </svg>\n",
       "      </button>\n",
       "      \n",
       "  <style>\n",
       "    .colab-df-container {\n",
       "      display:flex;\n",
       "      flex-wrap:wrap;\n",
       "      gap: 12px;\n",
       "    }\n",
       "\n",
       "    .colab-df-convert {\n",
       "      background-color: #E8F0FE;\n",
       "      border: none;\n",
       "      border-radius: 50%;\n",
       "      cursor: pointer;\n",
       "      display: none;\n",
       "      fill: #1967D2;\n",
       "      height: 32px;\n",
       "      padding: 0 0 0 0;\n",
       "      width: 32px;\n",
       "    }\n",
       "\n",
       "    .colab-df-convert:hover {\n",
       "      background-color: #E2EBFA;\n",
       "      box-shadow: 0px 1px 2px rgba(60, 64, 67, 0.3), 0px 1px 3px 1px rgba(60, 64, 67, 0.15);\n",
       "      fill: #174EA6;\n",
       "    }\n",
       "\n",
       "    [theme=dark] .colab-df-convert {\n",
       "      background-color: #3B4455;\n",
       "      fill: #D2E3FC;\n",
       "    }\n",
       "\n",
       "    [theme=dark] .colab-df-convert:hover {\n",
       "      background-color: #434B5C;\n",
       "      box-shadow: 0px 1px 3px 1px rgba(0, 0, 0, 0.15);\n",
       "      filter: drop-shadow(0px 1px 2px rgba(0, 0, 0, 0.3));\n",
       "      fill: #FFFFFF;\n",
       "    }\n",
       "  </style>\n",
       "\n",
       "      <script>\n",
       "        const buttonEl =\n",
       "          document.querySelector('#df-f06a90ef-f088-44ba-839f-10e18380a601 button.colab-df-convert');\n",
       "        buttonEl.style.display =\n",
       "          google.colab.kernel.accessAllowed ? 'block' : 'none';\n",
       "\n",
       "        async function convertToInteractive(key) {\n",
       "          const element = document.querySelector('#df-f06a90ef-f088-44ba-839f-10e18380a601');\n",
       "          const dataTable =\n",
       "            await google.colab.kernel.invokeFunction('convertToInteractive',\n",
       "                                                     [key], {});\n",
       "          if (!dataTable) return;\n",
       "\n",
       "          const docLinkHtml = 'Like what you see? Visit the ' +\n",
       "            '<a target=\"_blank\" href=https://colab.research.google.com/notebooks/data_table.ipynb>data table notebook</a>'\n",
       "            + ' to learn more about interactive tables.';\n",
       "          element.innerHTML = '';\n",
       "          dataTable['output_type'] = 'display_data';\n",
       "          await google.colab.output.renderOutput(dataTable, element);\n",
       "          const docLink = document.createElement('div');\n",
       "          docLink.innerHTML = docLinkHtml;\n",
       "          element.appendChild(docLink);\n",
       "        }\n",
       "      </script>\n",
       "    </div>\n",
       "  </div>\n",
       "  "
      ],
      "text/plain": [
       "                                              path label\n",
       "0   /content/recordings/recordings/0_jackson_0.wav     0\n",
       "1   /content/recordings/recordings/0_jackson_1.wav     0\n",
       "2  /content/recordings/recordings/0_jackson_10.wav     0\n",
       "3  /content/recordings/recordings/0_jackson_11.wav     0\n",
       "4  /content/recordings/recordings/0_jackson_12.wav     0"
      ]
     },
     "execution_count": 17,
     "metadata": {},
     "output_type": "execute_result"
    }
   ],
   "source": [
    "df_audio.head()"
   ]
  },
  {
   "cell_type": "code",
   "execution_count": 18,
   "metadata": {
    "colab": {
     "base_uri": "https://localhost:8080/"
    },
    "executionInfo": {
     "elapsed": 3,
     "status": "ok",
     "timestamp": 1668531460189,
     "user": {
      "displayName": "Mohammed Saifuddin",
      "userId": "00132744978255071993"
     },
     "user_tz": -330
    },
    "id": "TZz0F5JpdU9P",
    "outputId": "cbd53370-6eca-420d-b4c6-e7ece78b8035"
   },
   "outputs": [
    {
     "name": "stdout",
     "output_type": "stream",
     "text": [
      "<class 'pandas.core.frame.DataFrame'>\n",
      "RangeIndex: 2000 entries, 0 to 1999\n",
      "Data columns (total 2 columns):\n",
      " #   Column  Non-Null Count  Dtype \n",
      "---  ------  --------------  ----- \n",
      " 0   path    2000 non-null   object\n",
      " 1   label   2000 non-null   object\n",
      "dtypes: object(2)\n",
      "memory usage: 31.4+ KB\n"
     ]
    }
   ],
   "source": [
    "df_audio.info()"
   ]
  },
  {
   "cell_type": "markdown",
   "metadata": {
    "id": "LZbhCvvRPPMw"
   },
   "source": [
    "Exploring the sound dataset"
   ]
  },
  {
   "cell_type": "code",
   "execution_count": 19,
   "metadata": {
    "executionInfo": {
     "elapsed": 490,
     "status": "ok",
     "timestamp": 1668531464751,
     "user": {
      "displayName": "Mohammed Saifuddin",
      "userId": "00132744978255071993"
     },
     "user_tz": -330
    },
    "id": "ilJsqdhhPMed"
   },
   "outputs": [],
   "source": [
    "import IPython\n",
    "\n",
    "def play_audio(df, f_index):\n",
    "    print(df['path'][df.index.to_list()[f_index]])\n",
    "    return IPython.display.Audio(df['path'][df.index.to_list()[f_index]])"
   ]
  },
  {
   "cell_type": "code",
   "execution_count": 20,
   "metadata": {
    "colab": {
     "base_uri": "https://localhost:8080/",
     "height": 92
    },
    "executionInfo": {
     "elapsed": 9,
     "status": "ok",
     "timestamp": 1668531465181,
     "user": {
      "displayName": "Mohammed Saifuddin",
      "userId": "00132744978255071993"
     },
     "user_tz": -330
    },
    "id": "bX_umjikPy5Y",
    "outputId": "e2c55069-bf70-41b1-b8f7-e9521e26d32d"
   },
   "outputs": [
    {
     "name": "stdout",
     "output_type": "stream",
     "text": [
      "/content/recordings/recordings/2_theo_0.wav\n"
     ]
    },
    {
     "data": {
      "text/html": [
       "\n",
       "                <audio  controls=\"controls\" >\n",
       "                    <source src=\"data:audio/x-wav;base64,UklGRmYPAABXQVZFZm10IBAAAAABAAEAQB8AAIA+AAACABAAZGF0YUIPAAAJAAMACQAIAAoAAwADAAIABQD6//3/AQAGAP//CQAEAAgA9v8FAAYABAAKAPz/CQD7/wkA+P8HAOj/BwDu/wMA6/8JAOL/FADp/xAA8P8TAOb/EADu/xcA8P8SAO3/dAD2AQ392AFW/xH/mQH2/awB4v7y/4QAT/+oAIj/KQBUAJb/2wA4/yAAWADVAlv/m/4sAd/8SAQu/W0A+QGi+84D7PsUA9n/+v9iAfb9ggLr/LoBMP7IAG//nv87AC0AZQCl/u0Axf9ZAGQAdv9UAKD/AABi/+v/EgEN/zUAff/SABb/UAHB/VECxv71/6oA0/7oAVL/RAEz//oAwP7v/8f/GADFAG0ADP76Adb9YQCtAIz+AAKl/ggBQf8LAIcA5f2QAbH/8f4sAtr9GAEu/5AAVP/A/4YB6/1kAeX/BP8qAcL///75AB0Ak/4IAnP+OAD0ALT+BAGq/ukBz/2pAWL/fv+vASX+fgEN/80ALf+4ALD/4//8ALT+dgEf/jwCs/2oAIYBivyFBJ77jAMQ/vX//gG0+0QFVvsGA0D+3v+OAXT9tAIa/ScDBv6CAP4Akf8RAYL+9AEJ/ooB9/6p//8ALP6uAUj+wgGG/pIAlQBV/noCqv0eAab/LgD9/tIAlwBj/xQBev+/ABr/GgEq/i8B1v9A/pQC6/0wAYkA7f7aAbn+ngHU/ccBR/+n/isCa/3hAZ/+rQA///cAv/80/9UBlP5MAAAB4f6YAD0Alv9bAHj/jQAa/j0CIv4wANUA/P61AGz/9ADf/j4BUf+6/6wAe/8EABkAt//DAAn/dwDR/9r/yQAA/wIBIf8tARn/NABBAMD/nQAD/7MAyv8tAE3/iwDt/5f/XgDC/y0Azv9hAGf/PgCxADj/pQDl/xcAwP/4/xEArv9pACr/wQCe/wkALADt/ygANADn/7z/sAD//tgAL/9+AIL/AgBzABj/QQHN/g8Btv9DANT//f9UAIL/zQAn/3wAwf9EAJH/YQAxAGD/xwA8/50Ao/+NAJz/uP8CAaL+EQGf/+//XQABAMz/5v/nAOP+mgD5/5P/rQDZ/37/LAC0AAL/TgBiAMP/x/85ADYAxv+3AFn/7P+NALP/j/9iABgAhP+oAMH/qv/IAID/2/9FAAoAu/8NAD0ANv+8ALv/nP+RAOz/6f+r/38Avv/k/0sAtP9TALv/CAAWAEIAwP/4/1cAxf89AH7/WQD9/8T/EgDR/18Akf/t/2IAz/8hAOj/GwAzAMX/LgDJ/00Auf8GAC0Avf8tAM7/MgDQ/x4AFgDp/xYAIwD6/ywA8P/G/yMA5f8EANn/9P8BABcAyv8iAO3/DwDq//r/8P/3/0AAgf8XAEIA2v/D/yYA8P/Q/xUA7f/b/0gA+f/i/ysAOwDG/zAAKQDS/yQA+/8VAOr/UADf/8n/dQD6/9H/JAAYAOn/5v9FAOH/CAAqAMD/GwAmABIA0v8nADoA1/8IAPn/7//2/+z/3f/E/yMAqP/f/+n/3v++/4//7P/U/43/3f+3/8v/DADf//7/3P9nAAAAMQB1AEEAdgBFAHcAMwBQACAA4v8xAP7/JwAQAFYAhwBnAIwArQDaAG8AmwB7AF8A+P/a/6j/aP89/8H+Cf/Z/rP+dP7//ln/nv4V/0D/a/8v/xH/uP9Z/+j/yf/S/4YAmgDVAEoASwGiAeIAowG+AZMBXQHAAZgBAwF8AUEBqQCrAKkAXgDg/xgAzP+i/4b/YP9G/w3/7v6e/tH+cf5D/lD+S/4q/vr9Qf4O/i/+bP4s/tj+Pf/k/yAAwwEoAloBngNHA1EDTwJcAwgDugBHAVoADgCC/vL+6v5F/iz/3P6B/7D/ZABzAGgAlgH9AAoB8wAcAb0A6P9EAHX/Pv+l/ov+gv4U/mz+6P16/mj+Lv5Q/jj+pf4E/t3+SP9E/zcAcAE3ARoB/wIWA0cCFAJgA3ECwgAtAfwAKAAt/8//lv8l/47/cv/Z//r/WgAnAEcA1wCHAFEAUwCLABcAsf/S/4T/Mf/X/tL+jf6R/tD+JP55/q7+nf4y/jf+5f6Y/qX+jP/j/18AuQFIAawBoAIrA1MCuAEBAxcC5QBRALwADwAI/3T/mv+g/1r/yv/2/yoAggBkAHgAlADDAEEAHQBQABEAxP9p/5b/UP/Y/rz+l/7r/rT+g/5I/vP+5v4y/jH+8P4B/43+Kf+9/2EAGAFWATABWQLzAowCuwE0ApYCPAFkAEcAiwCW/zb/ev+c/6r/sv8AAAcArQDCAIcAlwDbAN8AOQAjADQA8/99/0H/Hv/G/pT+hf6Q/nr+bv6M/qD+vv6M/q3+t/7u/vr+7/7V/+T/nAByARUB0AE7At8CLQLgAX4CyQFEAW0AigADAJj/mv9C/6j/mv8wANT/HgCvAI8AxwB8ANwAjgBYACwAvP+7/2f/Qf+//n7+m/5//n7+SP5//sb+5/6m/sj+CP8l/wP/A/9x/9n/HQCtAFkBCQHEAS0ChQLoAc8BQAJwASIBaABwAK3/qP+e/0T/hP/J/ygAuv9MALMAxQCvAMcA3ACdAJ4AOgDO/7H/qP9R/93+/f7V/nv+tf7d/q7+ff4P/wb/9P7p/vn+/f7f/jP/IP9s/7v/ggAXAbgAKwHhAU0C1gGhAfwBmgFWAc8AhAD1/8L/vv9P/1r/XP8GANj/6f9TAJwA1AC3AAUByADDALoAgwAYANf/0/+K/1//Lv8K/9P+rf7h/rH+pf65/uD+r/6g/un+t/6U/sP+Df82/0r/AwDpAK8AFQGJAUgCKALzATkCxAHEASsBDwEqANr/vv9n/yP/4f52/07/iP/D/zUAawCVAAcB+wAZASoBKAHcAJsAiwAmAOD/pf+L/zz/Cv/i/rX+uf6P/pb+Zv6A/on+hv5c/mv+jf6q/uX+Tf+b/zMADQEzAX4BzgGPAloCPQI0Av4BrgEqAfwAGQCz/17/Sf/L/o7+3/4I/0//j//6/0YA6gBFAWUBZQGcAaIBdQEtAdAAhAAoAOH/ff8A/8L+lv5J/iv+Mv4S/jj+WP5j/lH+mv7P/tP+Bf9H/4f/0P8pAL4ANQFeAZoB1wEzAi4CCwLeAZkBTgHlAIMA5v+D/zv/+P7X/sn+5v7w/jv/r/8dAGQAwgBFAXgBzwHUAbcBiAFJAR4BkwA1AKj/b/8K/8/+l/5L/jv+Lf5t/k3+Yf6f/sb+5f7c/g//Cv8o/0r/g/+z/9L/NgB5ABkBOQF4AZcBzwHyAdEBtwFRAQoBmQBcAPn/f/85/xn/EP8F/yT/Nf9s/8P/MgCQAMUAAgEyAWoBeQFsAUgBCQHeAKIARQD7/7T/eP9C/yD/+f7C/qr+tf6p/rH+uP7E/qf+tP7S/tP+3P7q/in/NP9l/7r/DABIAJsAOwFVAYEBnwHOAZ8BiAF2AQIBtQBMAC4Asf92/0n/Lv8e/yL/VP9g/4T/yP8fAHcA2QD7ABkBQAFvAW4BUAE6AQIB2gCwAIAALQDX/5z/bP9J/yb/3P6Z/mv+a/55/mP+ZP5X/lf+kv7A/v7+Cv9F/5D/w//z/zEAfgCbAO4AOQFlAV8BZwFvAT0BJwHxAMgAXgAlAPr/vv+J/2b/cP9q/4r/rP+4/93/FQBRAIgAtgATAVMBRAFhAV8BaQE7AT0B7wCWAF8AMQDm/4T/W//z/sr+ov6Q/kX+G/4a/jL+aP6O/qv+sv7d/iT/Yv+R/8P/2v8DABoATABbAGEAiwCgAM8A+QAEAfAA3QDvAOwA4gC5AJAAXQBFADsADwDy/8D/z//S/+f/+/8IABoAQgB5AKQAvQDcAAQB+gALAfkA3wCiAIIAUwANAMr/l/93/zL/Hf/5/uD+0v7R/tP+xv6+/s7+3f7v/hP/H/8l/0D/a/+N/7b/5v8HABoAPQBmAHoAggCFAI8AnQCuAKUAugCnAKwArgCnAKgAnACUAIcAcwBmAEgARwAvACIAFAAPAP///v/+/+z/+f8CABEAFgAfACoAWABlAF4AWgBBADsAMgAsAPX/2P+q/4//af9d/0D/JP8a/xj/F/8b/xz/LP9G/03/av+Q/6j/xv/a////CgAkADAAPQBRAFMATQBTAFEAWQBbAEUAVgBUAFYAUgB8AHUAZgBvAHsAcwBoAG4AVAA3ACsAGgARAPb/6v/e/9T/0f/Z/83/0P/H/8b/0//j//b/DQAuAEYATwBEAFYATABWAFMARwAuAAwA9f/f/9z/uf+i/4v/e/95/3H/bf9u/2f/b/+A/4v/nf+b/7r/xv/Y//3/EgAkACwAOQBFAE4AWABfAFQAVABJAEwAMAAcAAUA+P/4//z/AADu/+j/+f/q//3/BgAaABEAGgAXABkAHgAVACsAKQApADMAOQBLAE8AWQBTAFgAbgBuAIEAYQBQADcAHwALAPv/6f/Z/7//oP+Q/5j/lP+O/5D/kP+Y/6n/sv/G/83/3v/R/+T/6f/q//v/AgAAAPT/7v/k/+f/2f/f/8//yP/Q/8r/yv/U/+D/5v/z//j//v8HAAwADwAUAA0AIQAoAEEARABMAGAAWgBuAGkAdQBhAGYAUgBJADkAJgAeABkACwD+//v/GgAXADEAMQBAADEAMwA8AC8ANgAkABIA/f/e/9f/zf+2/6//pP+c/53/oP+L/53/qv+p/7n/vP/C/8D/x//J/8H/wv+7/7//xP/I/9v/4f/z/wQADQAcADsAQABFAEsATgBNAD4AQwA4ADMALgAmABsADwAMAPv/+/8BAAIA+/8CABAAFwAeACgAMAAvADMAVgBFAEsASQA+ACgAIQAoABgAJQAYABMACgDz/9v/yv/N/8D/u/+r/6v/of+W/5f/qP+h/7r/xv/N/+T/7v///xIAIwAZABsAGAAhABMAEAAIAPL/3//a/9f/4//j//L/8f/1/+z/8P/5//f/BwD8//3/8v8AAAUAFwAUABQAHwAeACcAJQArACEAHgAWABUAIQAMABEADQAYABoAHwAlABoAIQAYACMAJQAsACgAKgAmACsAIgAaABkABQD9////9//t/+n/5//i/+T/1f/h/9z/6f/o/+7/9v/4/+T/4f/q/97/4v/n//D/2//a/9//2P/W/+D/4v/c/+3/8f/r/+z/8v8CAAUACQANAPj/BgAJAAcACQAiABcAFwANABAACgALACIAKAAzACgAGQALAAwAEwAZABgAFwASAA8A+f8FAPr/AQD6//7/EQA=\" type=\"audio/x-wav\" />\n",
       "                    Your browser does not support the audio element.\n",
       "                </audio>\n",
       "              "
      ],
      "text/plain": [
       "<IPython.lib.display.Audio object>"
      ]
     },
     "execution_count": 20,
     "metadata": {},
     "output_type": "execute_result"
    }
   ],
   "source": [
    "play_audio(df=df_audio, f_index=500)"
   ]
  },
  {
   "cell_type": "code",
   "execution_count": 21,
   "metadata": {
    "colab": {
     "base_uri": "https://localhost:8080/",
     "height": 92
    },
    "executionInfo": {
     "elapsed": 10,
     "status": "ok",
     "timestamp": 1668531466767,
     "user": {
      "displayName": "Mohammed Saifuddin",
      "userId": "00132744978255071993"
     },
     "user_tz": -330
    },
    "id": "7Wx5tOjSPX2Y",
    "outputId": "b360b257-8b1a-48f5-f1a0-ef284c728ed0"
   },
   "outputs": [
    {
     "name": "stdout",
     "output_type": "stream",
     "text": [
      "/content/recordings/recordings/5_jackson_0.wav\n"
     ]
    },
    {
     "data": {
      "text/html": [
       "\n",
       "                <audio  controls=\"controls\" >\n",
       "                    <source src=\"data:audio/x-wav;base64,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\" type=\"audio/x-wav\" />\n",
       "                    Your browser does not support the audio element.\n",
       "                </audio>\n",
       "              "
      ],
      "text/plain": [
       "<IPython.lib.display.Audio object>"
      ]
     },
     "execution_count": 21,
     "metadata": {},
     "output_type": "execute_result"
    }
   ],
   "source": [
    "play_audio(df=df_audio, f_index=1000)"
   ]
  },
  {
   "cell_type": "markdown",
   "metadata": {
    "id": "VOKpYJ_LaNnD"
   },
   "source": [
    "Grader function 2"
   ]
  },
  {
   "cell_type": "code",
   "execution_count": 22,
   "metadata": {
    "colab": {
     "base_uri": "https://localhost:8080/"
    },
    "executionInfo": {
     "elapsed": 665,
     "status": "ok",
     "timestamp": 1668531475367,
     "user": {
      "displayName": "Mohammed Saifuddin",
      "userId": "00132744978255071993"
     },
     "user_tz": -330
    },
    "id": "7Q8r_T8-aNnE",
    "outputId": "faeb8ab0-090e-4c9c-f01a-171e3f23d47a"
   },
   "outputs": [
    {
     "data": {
      "text/plain": [
       "True"
      ]
     },
     "execution_count": 22,
     "metadata": {},
     "output_type": "execute_result"
    }
   ],
   "source": [
    "def grader_df():\n",
    "    flag_shape = df_audio.shape == (2000, 2)\n",
    "    flag_columns = all(df_audio.columns == ['path', 'label'])\n",
    "    list_values = list(df_audio.label.value_counts())\n",
    "    flag_label = len(list_values) == 10\n",
    "    flag_label2 = all([i == 200 for i in list_values])\n",
    "    final_flag = flag_shape and flag_columns and flag_label and flag_label2\n",
    "    return final_flag\n",
    "\n",
    "grader_df()"
   ]
  },
  {
   "cell_type": "code",
   "execution_count": 23,
   "metadata": {
    "executionInfo": {
     "elapsed": 359,
     "status": "ok",
     "timestamp": 1668531523604,
     "user": {
      "displayName": "Mohammed Saifuddin",
      "userId": "00132744978255071993"
     },
     "user_tz": -330
    },
    "id": "PlfssCc3aNnL"
   },
   "outputs": [],
   "source": [
    "df_audio = shuffle(df_audio, random_state=33)"
   ]
  },
  {
   "cell_type": "markdown",
   "metadata": {
    "id": "PZ448aENaNnR"
   },
   "source": [
    "Train and Validation split"
   ]
  },
  {
   "cell_type": "code",
   "execution_count": 24,
   "metadata": {
    "executionInfo": {
     "elapsed": 374,
     "status": "ok",
     "timestamp": 1668531526299,
     "user": {
      "displayName": "Mohammed Saifuddin",
      "userId": "00132744978255071993"
     },
     "user_tz": -330
    },
    "id": "vSPy-Ln6aNnS"
   },
   "outputs": [],
   "source": [
    "X = df_audio['path']\n",
    "y = df_audio['label']"
   ]
  },
  {
   "cell_type": "code",
   "execution_count": 25,
   "metadata": {
    "executionInfo": {
     "elapsed": 4,
     "status": "ok",
     "timestamp": 1668531529644,
     "user": {
      "displayName": "Mohammed Saifuddin",
      "userId": "00132744978255071993"
     },
     "user_tz": -330
    },
    "id": "sFzRozjNhsze"
   },
   "outputs": [],
   "source": [
    "X_train, X_test, y_train, y_test = train_test_split(X, y, test_size=0.3, random_state=45, stratify=y)"
   ]
  },
  {
   "cell_type": "code",
   "execution_count": 26,
   "metadata": {
    "colab": {
     "base_uri": "https://localhost:8080/"
    },
    "executionInfo": {
     "elapsed": 6,
     "status": "ok",
     "timestamp": 1668531531285,
     "user": {
      "displayName": "Mohammed Saifuddin",
      "userId": "00132744978255071993"
     },
     "user_tz": -330
    },
    "id": "sD18tCcNhvnb",
    "outputId": "6eae22f0-7154-4108-ed70-ac04a5aacf13"
   },
   "outputs": [
    {
     "name": "stdout",
     "output_type": "stream",
     "text": [
      "(1400,) (1400,)\n",
      "(600,) (600,)\n"
     ]
    }
   ],
   "source": [
    "print(X_train.shape, y_train.shape)\n",
    "print(X_test.shape, y_test.shape)"
   ]
  },
  {
   "cell_type": "markdown",
   "metadata": {
    "id": "YPK3sbzUaNnW"
   },
   "source": [
    "Grader function 3"
   ]
  },
  {
   "cell_type": "code",
   "execution_count": 27,
   "metadata": {
    "colab": {
     "base_uri": "https://localhost:8080/"
    },
    "executionInfo": {
     "elapsed": 551,
     "status": "ok",
     "timestamp": 1668531541845,
     "user": {
      "displayName": "Mohammed Saifuddin",
      "userId": "00132744978255071993"
     },
     "user_tz": -330
    },
    "id": "chZzntKUaNnX",
    "outputId": "244b3438-64b2-4060-d112-a7cd524c7100"
   },
   "outputs": [
    {
     "data": {
      "text/plain": [
       "True"
      ]
     },
     "execution_count": 27,
     "metadata": {},
     "output_type": "execute_result"
    }
   ],
   "source": [
    "def grader_split():\n",
    "    flag_len = ((len(X_train) == 1400) and \n",
    "                (len(X_test) == 600) and \n",
    "                (len(y_train) == 1400) and \n",
    "                (len(y_test) == 600))\n",
    "    values_ytrain = list(y_train.value_counts())\n",
    "    flag_ytrain = (len(values_ytrain) == 10) and (all([i == 140 for i in values_ytrain]))\n",
    "    values_ytest = list(y_test.value_counts())\n",
    "    flag_ytest = (len(values_ytest) == 10) and (all([i == 60 for i in values_ytest]))\n",
    "    final_flag = flag_len and flag_ytrain and flag_ytest\n",
    "    return final_flag\n",
    "\n",
    "grader_split()"
   ]
  },
  {
   "cell_type": "markdown",
   "metadata": {
    "id": "LGhh-39vaNnb"
   },
   "source": [
    "Preprocessing"
   ]
  },
  {
   "cell_type": "markdown",
   "metadata": {
    "id": "MYWtEMZGX0S6"
   },
   "source": [
    "All files are in the \"WAV\" format. We will read those raw data files using the librosa."
   ]
  },
  {
   "cell_type": "code",
   "execution_count": 28,
   "metadata": {
    "executionInfo": {
     "elapsed": 368,
     "status": "ok",
     "timestamp": 1668531596621,
     "user": {
      "displayName": "Mohammed Saifuddin",
      "userId": "00132744978255071993"
     },
     "user_tz": -330
    },
    "id": "i99JacQSaNnc"
   },
   "outputs": [],
   "source": [
    "def load_wav(x, get_duration=True):\n",
    "    '''\n",
    "    This return the array values of audio with sampling rate of 22050 and Duration\n",
    "    '''\n",
    "    # loading the wav file with sampling rate of 22050\n",
    "    samples, sample_rate = librosa.load(x, sr=22050)\n",
    "    if get_duration:\n",
    "        duration = librosa.get_duration(samples, sr=sample_rate)\n",
    "        return [samples, duration]\n",
    "    else:\n",
    "        return samples"
   ]
  },
  {
   "cell_type": "code",
   "execution_count": 43,
   "metadata": {
    "colab": {
     "base_uri": "https://localhost:8080/"
    },
    "executionInfo": {
     "elapsed": 3,
     "status": "ok",
     "timestamp": 1668531751648,
     "user": {
      "displayName": "Mohammed Saifuddin",
      "userId": "00132744978255071993"
     },
     "user_tz": -330
    },
    "id": "Rx97f8GGaNnh",
    "outputId": "7a8a9ebc-9daf-4bc9-a744-b5388ed7334a"
   },
   "outputs": [
    {
     "name": "stdout",
     "output_type": "stream",
     "text": [
      "(6103,)\n",
      "0.27678004535147394\n"
     ]
    }
   ],
   "source": [
    "samples, duration = load_wav(x=X_train[1394])\n",
    "print(samples.shape)\n",
    "print(duration)"
   ]
  },
  {
   "cell_type": "code",
   "execution_count": 44,
   "metadata": {
    "executionInfo": {
     "elapsed": 377,
     "status": "ok",
     "timestamp": 1668531761376,
     "user": {
      "displayName": "Mohammed Saifuddin",
      "userId": "00132744978255071993"
     },
     "user_tz": -330
    },
    "id": "GVT_CAc5m6Wz"
   },
   "outputs": [],
   "source": [
    "def create_preprocessed_audio_df(df):\n",
    "    \"\"\"\n",
    "    Preprocesses the dataframe.\n",
    "    \"\"\"\n",
    "    all_samples = []\n",
    "    all_durations = []\n",
    "\n",
    "    for i in tqdm(df.values):\n",
    "        s, d = load_wav(x=i)\n",
    "        all_samples.append(s)\n",
    "        all_durations.append(d)\n",
    "    \n",
    "    df_preprocessed = pd.DataFrame()\n",
    "    df_preprocessed['raw_data'] = all_samples\n",
    "    df_preprocessed['duration'] = all_durations\n",
    "    return df_preprocessed"
   ]
  },
  {
   "cell_type": "code",
   "execution_count": 45,
   "metadata": {
    "colab": {
     "base_uri": "https://localhost:8080/"
    },
    "executionInfo": {
     "elapsed": 19501,
     "status": "ok",
     "timestamp": 1668531784125,
     "user": {
      "displayName": "Mohammed Saifuddin",
      "userId": "00132744978255071993"
     },
     "user_tz": -330
    },
    "id": "QwflKuvJoGGy",
    "outputId": "a466cc72-28cf-4779-a24d-f619c77a6897"
   },
   "outputs": [
    {
     "name": "stderr",
     "output_type": "stream",
     "text": [
      "100%|██████████| 1400/1400 [00:12<00:00, 108.93it/s]\n",
      "100%|██████████| 600/600 [00:06<00:00, 95.37it/s]\n"
     ]
    }
   ],
   "source": [
    "X_train_processed = create_preprocessed_audio_df(df=X_train)\n",
    "X_test_processed = create_preprocessed_audio_df(df=X_test)"
   ]
  },
  {
   "cell_type": "code",
   "execution_count": 46,
   "metadata": {
    "colab": {
     "base_uri": "https://localhost:8080/",
     "height": 206
    },
    "executionInfo": {
     "elapsed": 20,
     "status": "ok",
     "timestamp": 1668531784126,
     "user": {
      "displayName": "Mohammed Saifuddin",
      "userId": "00132744978255071993"
     },
     "user_tz": -330
    },
    "id": "dNL_V58woZxw",
    "outputId": "751cd658-1cc2-4cc7-b47b-cd12c3a51e43"
   },
   "outputs": [
    {
     "data": {
      "text/html": [
       "\n",
       "  <div id=\"df-06f197e4-38fc-4871-8b7d-3ff8d3524836\">\n",
       "    <div class=\"colab-df-container\">\n",
       "      <div>\n",
       "<style scoped>\n",
       "    .dataframe tbody tr th:only-of-type {\n",
       "        vertical-align: middle;\n",
       "    }\n",
       "\n",
       "    .dataframe tbody tr th {\n",
       "        vertical-align: top;\n",
       "    }\n",
       "\n",
       "    .dataframe thead th {\n",
       "        text-align: right;\n",
       "    }\n",
       "</style>\n",
       "<table border=\"1\" class=\"dataframe\">\n",
       "  <thead>\n",
       "    <tr style=\"text-align: right;\">\n",
       "      <th></th>\n",
       "      <th>raw_data</th>\n",
       "      <th>duration</th>\n",
       "    </tr>\n",
       "  </thead>\n",
       "  <tbody>\n",
       "    <tr>\n",
       "      <th>0</th>\n",
       "      <td>[0.00011394074, 0.00012640332, 0.00012745972, ...</td>\n",
       "      <td>0.276780</td>\n",
       "    </tr>\n",
       "    <tr>\n",
       "      <th>1</th>\n",
       "      <td>[0.015462314, 0.018172165, 0.01750962, 0.01515...</td>\n",
       "      <td>0.331519</td>\n",
       "    </tr>\n",
       "    <tr>\n",
       "      <th>2</th>\n",
       "      <td>[0.0004158457, 0.00041390766, 7.270637e-05, -0...</td>\n",
       "      <td>0.292789</td>\n",
       "    </tr>\n",
       "    <tr>\n",
       "      <th>3</th>\n",
       "      <td>[-0.00891809, -0.009839113, -0.009143287, -0.0...</td>\n",
       "      <td>0.344127</td>\n",
       "    </tr>\n",
       "    <tr>\n",
       "      <th>4</th>\n",
       "      <td>[-0.009553918, -0.011437664, -0.011789859, -0....</td>\n",
       "      <td>0.659637</td>\n",
       "    </tr>\n",
       "  </tbody>\n",
       "</table>\n",
       "</div>\n",
       "      <button class=\"colab-df-convert\" onclick=\"convertToInteractive('df-06f197e4-38fc-4871-8b7d-3ff8d3524836')\"\n",
       "              title=\"Convert this dataframe to an interactive table.\"\n",
       "              style=\"display:none;\">\n",
       "        \n",
       "  <svg xmlns=\"http://www.w3.org/2000/svg\" height=\"24px\"viewBox=\"0 0 24 24\"\n",
       "       width=\"24px\">\n",
       "    <path d=\"M0 0h24v24H0V0z\" fill=\"none\"/>\n",
       "    <path d=\"M18.56 5.44l.94 2.06.94-2.06 2.06-.94-2.06-.94-.94-2.06-.94 2.06-2.06.94zm-11 1L8.5 8.5l.94-2.06 2.06-.94-2.06-.94L8.5 2.5l-.94 2.06-2.06.94zm10 10l.94 2.06.94-2.06 2.06-.94-2.06-.94-.94-2.06-.94 2.06-2.06.94z\"/><path d=\"M17.41 7.96l-1.37-1.37c-.4-.4-.92-.59-1.43-.59-.52 0-1.04.2-1.43.59L10.3 9.45l-7.72 7.72c-.78.78-.78 2.05 0 2.83L4 21.41c.39.39.9.59 1.41.59.51 0 1.02-.2 1.41-.59l7.78-7.78 2.81-2.81c.8-.78.8-2.07 0-2.86zM5.41 20L4 18.59l7.72-7.72 1.47 1.35L5.41 20z\"/>\n",
       "  </svg>\n",
       "      </button>\n",
       "      \n",
       "  <style>\n",
       "    .colab-df-container {\n",
       "      display:flex;\n",
       "      flex-wrap:wrap;\n",
       "      gap: 12px;\n",
       "    }\n",
       "\n",
       "    .colab-df-convert {\n",
       "      background-color: #E8F0FE;\n",
       "      border: none;\n",
       "      border-radius: 50%;\n",
       "      cursor: pointer;\n",
       "      display: none;\n",
       "      fill: #1967D2;\n",
       "      height: 32px;\n",
       "      padding: 0 0 0 0;\n",
       "      width: 32px;\n",
       "    }\n",
       "\n",
       "    .colab-df-convert:hover {\n",
       "      background-color: #E2EBFA;\n",
       "      box-shadow: 0px 1px 2px rgba(60, 64, 67, 0.3), 0px 1px 3px 1px rgba(60, 64, 67, 0.15);\n",
       "      fill: #174EA6;\n",
       "    }\n",
       "\n",
       "    [theme=dark] .colab-df-convert {\n",
       "      background-color: #3B4455;\n",
       "      fill: #D2E3FC;\n",
       "    }\n",
       "\n",
       "    [theme=dark] .colab-df-convert:hover {\n",
       "      background-color: #434B5C;\n",
       "      box-shadow: 0px 1px 3px 1px rgba(0, 0, 0, 0.15);\n",
       "      filter: drop-shadow(0px 1px 2px rgba(0, 0, 0, 0.3));\n",
       "      fill: #FFFFFF;\n",
       "    }\n",
       "  </style>\n",
       "\n",
       "      <script>\n",
       "        const buttonEl =\n",
       "          document.querySelector('#df-06f197e4-38fc-4871-8b7d-3ff8d3524836 button.colab-df-convert');\n",
       "        buttonEl.style.display =\n",
       "          google.colab.kernel.accessAllowed ? 'block' : 'none';\n",
       "\n",
       "        async function convertToInteractive(key) {\n",
       "          const element = document.querySelector('#df-06f197e4-38fc-4871-8b7d-3ff8d3524836');\n",
       "          const dataTable =\n",
       "            await google.colab.kernel.invokeFunction('convertToInteractive',\n",
       "                                                     [key], {});\n",
       "          if (!dataTable) return;\n",
       "\n",
       "          const docLinkHtml = 'Like what you see? Visit the ' +\n",
       "            '<a target=\"_blank\" href=https://colab.research.google.com/notebooks/data_table.ipynb>data table notebook</a>'\n",
       "            + ' to learn more about interactive tables.';\n",
       "          element.innerHTML = '';\n",
       "          dataTable['output_type'] = 'display_data';\n",
       "          await google.colab.output.renderOutput(dataTable, element);\n",
       "          const docLink = document.createElement('div');\n",
       "          docLink.innerHTML = docLinkHtml;\n",
       "          element.appendChild(docLink);\n",
       "        }\n",
       "      </script>\n",
       "    </div>\n",
       "  </div>\n",
       "  "
      ],
      "text/plain": [
       "                                            raw_data  duration\n",
       "0  [0.00011394074, 0.00012640332, 0.00012745972, ...  0.276780\n",
       "1  [0.015462314, 0.018172165, 0.01750962, 0.01515...  0.331519\n",
       "2  [0.0004158457, 0.00041390766, 7.270637e-05, -0...  0.292789\n",
       "3  [-0.00891809, -0.009839113, -0.009143287, -0.0...  0.344127\n",
       "4  [-0.009553918, -0.011437664, -0.011789859, -0....  0.659637"
      ]
     },
     "execution_count": 46,
     "metadata": {},
     "output_type": "execute_result"
    }
   ],
   "source": [
    "X_train_processed.head()"
   ]
  },
  {
   "cell_type": "code",
   "execution_count": 47,
   "metadata": {
    "colab": {
     "base_uri": "https://localhost:8080/",
     "height": 206
    },
    "executionInfo": {
     "elapsed": 18,
     "status": "ok",
     "timestamp": 1668531784126,
     "user": {
      "displayName": "Mohammed Saifuddin",
      "userId": "00132744978255071993"
     },
     "user_tz": -330
    },
    "id": "_EH1QdYEo4ON",
    "outputId": "74263eb6-c505-45fa-8b86-068cd2260c59"
   },
   "outputs": [
    {
     "data": {
      "text/html": [
       "\n",
       "  <div id=\"df-0347f6d2-6d44-4dd2-8e97-2a4f1bd91f7b\">\n",
       "    <div class=\"colab-df-container\">\n",
       "      <div>\n",
       "<style scoped>\n",
       "    .dataframe tbody tr th:only-of-type {\n",
       "        vertical-align: middle;\n",
       "    }\n",
       "\n",
       "    .dataframe tbody tr th {\n",
       "        vertical-align: top;\n",
       "    }\n",
       "\n",
       "    .dataframe thead th {\n",
       "        text-align: right;\n",
       "    }\n",
       "</style>\n",
       "<table border=\"1\" class=\"dataframe\">\n",
       "  <thead>\n",
       "    <tr style=\"text-align: right;\">\n",
       "      <th></th>\n",
       "      <th>raw_data</th>\n",
       "      <th>duration</th>\n",
       "    </tr>\n",
       "  </thead>\n",
       "  <tbody>\n",
       "    <tr>\n",
       "      <th>0</th>\n",
       "      <td>[0.00026219303, -3.563086e-05, -0.00013999043,...</td>\n",
       "      <td>0.314875</td>\n",
       "    </tr>\n",
       "    <tr>\n",
       "      <th>1</th>\n",
       "      <td>[0.00032088827, -0.00014278508, -0.000590515, ...</td>\n",
       "      <td>0.515420</td>\n",
       "    </tr>\n",
       "    <tr>\n",
       "      <th>2</th>\n",
       "      <td>[-0.00024847803, -0.00021077276, -0.0001466390...</td>\n",
       "      <td>0.269161</td>\n",
       "    </tr>\n",
       "    <tr>\n",
       "      <th>3</th>\n",
       "      <td>[-0.004263563, -0.0033240004, -0.001765571, -0...</td>\n",
       "      <td>0.759274</td>\n",
       "    </tr>\n",
       "    <tr>\n",
       "      <th>4</th>\n",
       "      <td>[0.00068556523, 0.0009813531, 0.0011631872, 0....</td>\n",
       "      <td>0.495646</td>\n",
       "    </tr>\n",
       "  </tbody>\n",
       "</table>\n",
       "</div>\n",
       "      <button class=\"colab-df-convert\" onclick=\"convertToInteractive('df-0347f6d2-6d44-4dd2-8e97-2a4f1bd91f7b')\"\n",
       "              title=\"Convert this dataframe to an interactive table.\"\n",
       "              style=\"display:none;\">\n",
       "        \n",
       "  <svg xmlns=\"http://www.w3.org/2000/svg\" height=\"24px\"viewBox=\"0 0 24 24\"\n",
       "       width=\"24px\">\n",
       "    <path d=\"M0 0h24v24H0V0z\" fill=\"none\"/>\n",
       "    <path d=\"M18.56 5.44l.94 2.06.94-2.06 2.06-.94-2.06-.94-.94-2.06-.94 2.06-2.06.94zm-11 1L8.5 8.5l.94-2.06 2.06-.94-2.06-.94L8.5 2.5l-.94 2.06-2.06.94zm10 10l.94 2.06.94-2.06 2.06-.94-2.06-.94-.94-2.06-.94 2.06-2.06.94z\"/><path d=\"M17.41 7.96l-1.37-1.37c-.4-.4-.92-.59-1.43-.59-.52 0-1.04.2-1.43.59L10.3 9.45l-7.72 7.72c-.78.78-.78 2.05 0 2.83L4 21.41c.39.39.9.59 1.41.59.51 0 1.02-.2 1.41-.59l7.78-7.78 2.81-2.81c.8-.78.8-2.07 0-2.86zM5.41 20L4 18.59l7.72-7.72 1.47 1.35L5.41 20z\"/>\n",
       "  </svg>\n",
       "      </button>\n",
       "      \n",
       "  <style>\n",
       "    .colab-df-container {\n",
       "      display:flex;\n",
       "      flex-wrap:wrap;\n",
       "      gap: 12px;\n",
       "    }\n",
       "\n",
       "    .colab-df-convert {\n",
       "      background-color: #E8F0FE;\n",
       "      border: none;\n",
       "      border-radius: 50%;\n",
       "      cursor: pointer;\n",
       "      display: none;\n",
       "      fill: #1967D2;\n",
       "      height: 32px;\n",
       "      padding: 0 0 0 0;\n",
       "      width: 32px;\n",
       "    }\n",
       "\n",
       "    .colab-df-convert:hover {\n",
       "      background-color: #E2EBFA;\n",
       "      box-shadow: 0px 1px 2px rgba(60, 64, 67, 0.3), 0px 1px 3px 1px rgba(60, 64, 67, 0.15);\n",
       "      fill: #174EA6;\n",
       "    }\n",
       "\n",
       "    [theme=dark] .colab-df-convert {\n",
       "      background-color: #3B4455;\n",
       "      fill: #D2E3FC;\n",
       "    }\n",
       "\n",
       "    [theme=dark] .colab-df-convert:hover {\n",
       "      background-color: #434B5C;\n",
       "      box-shadow: 0px 1px 3px 1px rgba(0, 0, 0, 0.15);\n",
       "      filter: drop-shadow(0px 1px 2px rgba(0, 0, 0, 0.3));\n",
       "      fill: #FFFFFF;\n",
       "    }\n",
       "  </style>\n",
       "\n",
       "      <script>\n",
       "        const buttonEl =\n",
       "          document.querySelector('#df-0347f6d2-6d44-4dd2-8e97-2a4f1bd91f7b button.colab-df-convert');\n",
       "        buttonEl.style.display =\n",
       "          google.colab.kernel.accessAllowed ? 'block' : 'none';\n",
       "\n",
       "        async function convertToInteractive(key) {\n",
       "          const element = document.querySelector('#df-0347f6d2-6d44-4dd2-8e97-2a4f1bd91f7b');\n",
       "          const dataTable =\n",
       "            await google.colab.kernel.invokeFunction('convertToInteractive',\n",
       "                                                     [key], {});\n",
       "          if (!dataTable) return;\n",
       "\n",
       "          const docLinkHtml = 'Like what you see? Visit the ' +\n",
       "            '<a target=\"_blank\" href=https://colab.research.google.com/notebooks/data_table.ipynb>data table notebook</a>'\n",
       "            + ' to learn more about interactive tables.';\n",
       "          element.innerHTML = '';\n",
       "          dataTable['output_type'] = 'display_data';\n",
       "          await google.colab.output.renderOutput(dataTable, element);\n",
       "          const docLink = document.createElement('div');\n",
       "          docLink.innerHTML = docLinkHtml;\n",
       "          element.appendChild(docLink);\n",
       "        }\n",
       "      </script>\n",
       "    </div>\n",
       "  </div>\n",
       "  "
      ],
      "text/plain": [
       "                                            raw_data  duration\n",
       "0  [0.00026219303, -3.563086e-05, -0.00013999043,...  0.314875\n",
       "1  [0.00032088827, -0.00014278508, -0.000590515, ...  0.515420\n",
       "2  [-0.00024847803, -0.00021077276, -0.0001466390...  0.269161\n",
       "3  [-0.004263563, -0.0033240004, -0.001765571, -0...  0.759274\n",
       "4  [0.00068556523, 0.0009813531, 0.0011631872, 0....  0.495646"
      ]
     },
     "execution_count": 47,
     "metadata": {},
     "output_type": "execute_result"
    }
   ],
   "source": [
    "X_test_processed.head()"
   ]
  },
  {
   "cell_type": "code",
   "execution_count": 48,
   "metadata": {
    "colab": {
     "base_uri": "https://localhost:8080/",
     "height": 375
    },
    "executionInfo": {
     "elapsed": 695,
     "status": "ok",
     "timestamp": 1668531897341,
     "user": {
      "displayName": "Mohammed Saifuddin",
      "userId": "00132744978255071993"
     },
     "user_tz": -330
    },
    "id": "duQZPQevaNno",
    "outputId": "57b63d2b-facd-4486-9071-2bdb4f751f81"
   },
   "outputs": [
    {
     "data": {
      "image/png": "[encoded data removed]",
      "text/plain": [
       "<Figure size 720x432 with 1 Axes>"
      ]
     },
     "metadata": {
      "needs_background": "light"
     },
     "output_type": "display_data"
    }
   ],
   "source": [
    "plt.figure(figsize=(10, 6))\n",
    "plt.hist(X_train_processed['duration'])\n",
    "plt.show()"
   ]
  },
  {
   "cell_type": "code",
   "execution_count": 49,
   "metadata": {
    "colab": {
     "base_uri": "https://localhost:8080/",
     "height": 374
    },
    "executionInfo": {
     "elapsed": 9,
     "status": "ok",
     "timestamp": 1668531897341,
     "user": {
      "displayName": "Mohammed Saifuddin",
      "userId": "00132744978255071993"
     },
     "user_tz": -330
    },
    "id": "wE5SDRzSaNns",
    "outputId": "f16a9f22-49e5-4370-c151-2aa1f1df2c5f"
   },
   "outputs": [
    {
     "data": {
      "image/png": "[encoded data removed]",
      "text/plain": [
       "<Figure size 720x432 with 1 Axes>"
      ]
     },
     "metadata": {
      "needs_background": "light"
     },
     "output_type": "display_data"
    }
   ],
   "source": [
    "plt.figure(figsize=(10, 6))\n",
    "plt.hist(X_test_processed['duration'])\n",
    "plt.show()"
   ]
  },
  {
   "cell_type": "markdown",
   "metadata": {
    "id": "tylz0bTkpktu"
   },
   "source": [
    "Perceptile values from 0 to 100 with step size of 10 of duration from `X_train_processed data`."
   ]
  },
  {
   "cell_type": "code",
   "execution_count": 50,
   "metadata": {
    "colab": {
     "base_uri": "https://localhost:8080/"
    },
    "executionInfo": {
     "elapsed": 5,
     "status": "ok",
     "timestamp": 1668531900589,
     "user": {
      "displayName": "Mohammed Saifuddin",
      "userId": "00132744978255071993"
     },
     "user_tz": -330
    },
    "id": "vvLhm1AqaNny",
    "outputId": "a6840414-b55d-4774-efa8-3a5a699d5cec"
   },
   "outputs": [
    {
     "name": "stdout",
     "output_type": "stream",
     "text": [
      "0th percentile is : 0.16104308390022676\n",
      "10th percentile is : 0.25848072562358276\n",
      "20th percentile is : 0.2974331065759637\n",
      "30th percentile is : 0.3297777777777778\n",
      "40th percentile is : 0.3569160997732426\n",
      "50th percentile is : 0.38945578231292516\n",
      "60th percentile is : 0.41328798185941046\n",
      "70th percentile is : 0.4444671201814059\n",
      "80th percentile is : 0.48268480725623586\n",
      "90th percentile is : 0.5531655328798186\n",
      "100th percentile is : 2.195918367346939\n"
     ]
    }
   ],
   "source": [
    "for i in range(0, 101, 10):\n",
    "    pt = np.percentile(a=X_train_processed['duration'], q=i)\n",
    "    print('{}th percentile is : {}'.format(i, pt))"
   ]
  },
  {
   "cell_type": "markdown",
   "metadata": {
    "id": "CLIs4LVop272"
   },
   "source": [
    "Perceptile values from 90 to 100 with step size of 1 of duration from `X_test_processed data`."
   ]
  },
  {
   "cell_type": "code",
   "execution_count": 51,
   "metadata": {
    "colab": {
     "base_uri": "https://localhost:8080/"
    },
    "executionInfo": {
     "elapsed": 4,
     "status": "ok",
     "timestamp": 1668531902757,
     "user": {
      "displayName": "Mohammed Saifuddin",
      "userId": "00132744978255071993"
     },
     "user_tz": -330
    },
    "id": "rSlVQh4CaNn2",
    "outputId": "6d1e75ac-2e33-4e27-b7e8-76d59bea8116"
   },
   "outputs": [
    {
     "name": "stdout",
     "output_type": "stream",
     "text": [
      "90th percentile is : 0.5531655328798186\n",
      "91th percentile is : 0.5669832199546486\n",
      "92th percentile is : 0.5790349206349207\n",
      "93th percentile is : 0.5995106575963719\n",
      "94th percentile is : 0.611208163265306\n",
      "95th percentile is : 0.6316009070294784\n",
      "96th percentile is : 0.6431455782312925\n",
      "97th percentile is : 0.6635741496598639\n",
      "98th percentile is : 0.6957514739229022\n",
      "99th percentile is : 0.79601179138322\n",
      "100th percentile is : 2.195918367346939\n"
     ]
    }
   ],
   "source": [
    "for i in range(90, 101, 1):\n",
    "    pt = np.percentile(a=X_train_processed['duration'], q=i)\n",
    "    print('{}th percentile is : {}'.format(i, pt))"
   ]
  },
  {
   "cell_type": "markdown",
   "metadata": {
    "id": "JbMb4Y0RaNoA"
   },
   "source": [
    "Grader function 4"
   ]
  },
  {
   "cell_type": "code",
   "execution_count": 52,
   "metadata": {
    "colab": {
     "base_uri": "https://localhost:8080/"
    },
    "executionInfo": {
     "elapsed": 4,
     "status": "ok",
     "timestamp": 1668531904946,
     "user": {
      "displayName": "Mohammed Saifuddin",
      "userId": "00132744978255071993"
     },
     "user_tz": -330
    },
    "id": "UMoyLLSAaNoF",
    "outputId": "072dcd97-2a7a-4458-ff4d-776280feb49c"
   },
   "outputs": [
    {
     "data": {
      "text/plain": [
       "True"
      ]
     },
     "execution_count": 52,
     "metadata": {},
     "output_type": "execute_result"
    }
   ],
   "source": [
    "def grader_processed():\n",
    "    flag_columns = ((all(X_train_processed.columns == ['raw_data', 'duration'])) and \n",
    "                    (all(X_test_processed.columns == ['raw_data', 'duration'])))\n",
    "    flag_shape = (X_train_processed.shape == (1400, 2)) and (X_test_processed.shape == (600,2))\n",
    "    return flag_columns and flag_shape\n",
    "\n",
    "grader_processed()"
   ]
  },
  {
   "cell_type": "markdown",
   "metadata": {
    "id": "Cux3_jfcaNoM"
   },
   "source": [
    "- Based on our analysis 99 percentile values are less than 0.8sec so we will limit maximum length of `X_train_processed` and `X_test_processed` to 0.8 sec. It is similar to pad_sequence for a text dataset.\n",
    "- While loading the audio files, we are using sampling rate of 22050 so one sec will give array of length 22050. so, our maximum length is 0.8*22050 = 17640.\n",
    "- Pad with Zero if length of sequence is less than 17640 else Truncate the number.\n",
    "- Also create a masking vector for train and test.\n",
    "- Masking vector value = 1 if it is real value, 0 if it is pad value. Masking vector data type must be bool."
   ]
  },
  {
   "cell_type": "code",
   "execution_count": 53,
   "metadata": {
    "executionInfo": {
     "elapsed": 563,
     "status": "ok",
     "timestamp": 1668532006215,
     "user": {
      "displayName": "Mohammed Saifuddin",
      "userId": "00132744978255071993"
     },
     "user_tz": -330
    },
    "id": "voqSEyvcaNoO"
   },
   "outputs": [],
   "source": [
    "max_length  = 17640"
   ]
  },
  {
   "cell_type": "code",
   "execution_count": 54,
   "metadata": {
    "executionInfo": {
     "elapsed": 2,
     "status": "ok",
     "timestamp": 1668532006628,
     "user": {
      "displayName": "Mohammed Saifuddin",
      "userId": "00132744978255071993"
     },
     "user_tz": -330
    },
    "id": "B1-_r20BaNoW"
   },
   "outputs": [],
   "source": [
    "X_train_pad_seq = pad_sequences(sequences=X_train_processed['raw_data'].values, \n",
    "                                maxlen=max_length, \n",
    "                                padding='post', \n",
    "                                dtype='float32')\n",
    "X_test_pad_seq = pad_sequences(sequences=X_test_processed['raw_data'].values, \n",
    "                               maxlen=max_length, \n",
    "                               padding='post', \n",
    "                               dtype='float32')"
   ]
  },
  {
   "cell_type": "code",
   "execution_count": 55,
   "metadata": {
    "executionInfo": {
     "elapsed": 602,
     "status": "ok",
     "timestamp": 1668532009898,
     "user": {
      "displayName": "Mohammed Saifuddin",
      "userId": "00132744978255071993"
     },
     "user_tz": -330
    },
    "id": "3GtlhLzxrC0I"
   },
   "outputs": [],
   "source": [
    "X_train_mask = np.where((X_train_pad_seq != 0), True, False)\n",
    "X_test_mask = np.where((X_test_pad_seq != 0), True, False)"
   ]
  },
  {
   "cell_type": "code",
   "execution_count": 56,
   "metadata": {
    "colab": {
     "base_uri": "https://localhost:8080/"
    },
    "executionInfo": {
     "elapsed": 487,
     "status": "ok",
     "timestamp": 1668532032405,
     "user": {
      "displayName": "Mohammed Saifuddin",
      "userId": "00132744978255071993"
     },
     "user_tz": -330
    },
    "id": "FpoG1lxFrIIT",
    "outputId": "f7184314-8ed7-47f7-a27a-f0ec69e8d26b"
   },
   "outputs": [
    {
     "name": "stdout",
     "output_type": "stream",
     "text": [
      "(1400, 17640) (600, 17640)\n",
      "(1400, 17640) (600, 17640)\n"
     ]
    }
   ],
   "source": [
    "print(X_train_pad_seq.shape, X_test_pad_seq.shape)\n",
    "print(X_train_mask.shape, X_test_mask.shape)"
   ]
  },
  {
   "cell_type": "markdown",
   "metadata": {
    "id": "zEHMgm4DaNoe"
   },
   "source": [
    "Grader function 5"
   ]
  },
  {
   "cell_type": "code",
   "execution_count": 59,
   "metadata": {
    "colab": {
     "base_uri": "https://localhost:8080/"
    },
    "executionInfo": {
     "elapsed": 409,
     "status": "ok",
     "timestamp": 1668532076768,
     "user": {
      "displayName": "Mohammed Saifuddin",
      "userId": "00132744978255071993"
     },
     "user_tz": -330
    },
    "id": "Th3KhplGaNof",
    "outputId": "bfe6c438-f70e-4b77-bdeb-a37524dd9067"
   },
   "outputs": [
    {
     "data": {
      "text/plain": [
       "True"
      ]
     },
     "execution_count": 59,
     "metadata": {},
     "output_type": "execute_result"
    }
   ],
   "source": [
    "def grader_padoutput():\n",
    "    flag_padshape = ((X_train_pad_seq.shape == (1400, 17640)) and \n",
    "                     (X_test_pad_seq.shape == (600, 17640)) and \n",
    "                     (y_train.shape == (1400,)))\n",
    "    flag_maskshape = ((X_train_mask.shape == (1400, 17640)) and \n",
    "                      (X_test_mask.shape == (600, 17640)) and \n",
    "                      (y_test.shape == (600,)))\n",
    "    flag_dtype = (X_train_mask.dtype == bool) and (X_test_mask.dtype == bool)\n",
    "    return flag_padshape and flag_maskshape and flag_dtype\n",
    "\n",
    "grader_padoutput()"
   ]
  },
  {
   "cell_type": "markdown",
   "metadata": {
    "id": "S4UoDfySSBF4"
   },
   "source": [
    "Performance plot"
   ]
  },
  {
   "cell_type": "code",
   "execution_count": 60,
   "metadata": {
    "executionInfo": {
     "elapsed": 410,
     "status": "ok",
     "timestamp": 1668532486171,
     "user": {
      "displayName": "Mohammed Saifuddin",
      "userId": "00132744978255071993"
     },
     "user_tz": -330
    },
    "id": "qmQX-iHRSAFh"
   },
   "outputs": [],
   "source": [
    "def plot_model_performance(tracker, epochs):\n",
    "    plt.figure(figsize=(18, 6))\n",
    "\n",
    "    plt.subplot(131)\n",
    "    plt.plot(range(1, epochs+1), tracker.history['accuracy'], 'r--', label='train')\n",
    "    plt.plot(range(1, epochs+1), tracker.history['val_accuracy'], 'g--', label='validation')\n",
    "    plt.title('Accuracy Plot')\n",
    "    plt.xlabel(xlabel='Epochs')\n",
    "    plt.ylabel(ylabel='Accuracy')\n",
    "    plt.legend()\n",
    "    plt.grid()\n",
    "\n",
    "    plt.subplot(132)\n",
    "    plt.plot(range(1, epochs+1), tracker.history['loss'], 'r--', label='train')\n",
    "    plt.plot(range(1, epochs+1), tracker.history['val_loss'], 'g--', label='validation')\n",
    "    plt.title('Loss Plot')\n",
    "    plt.xlabel(xlabel='Epochs')\n",
    "    plt.ylabel(ylabel='Loss')\n",
    "    plt.legend()\n",
    "    plt.grid()\n",
    "\n",
    "    plt.subplot(133)\n",
    "    plt.plot(range(1, epochs+1), tracker.history['f1_score'], 'r--', label='train')\n",
    "    plt.plot(range(1, epochs+1), tracker.history['val_f1_score'], 'g--', label='validation')\n",
    "    plt.title('F1 Score Plot')\n",
    "    plt.xlabel(xlabel='Epochs')\n",
    "    plt.ylabel(ylabel='F1 Score')\n",
    "    plt.legend()\n",
    "    plt.grid()\n",
    "\n",
    "    plt.show()"
   ]
  },
  {
   "cell_type": "code",
   "execution_count": 63,
   "metadata": {
    "executionInfo": {
     "elapsed": 410,
     "status": "ok",
     "timestamp": 1668532920346,
     "user": {
      "displayName": "Mohammed Saifuddin",
      "userId": "00132744978255071993"
     },
     "user_tz": -330
    },
    "id": "D4PK-XlASURV"
   },
   "outputs": [],
   "source": [
    "y_train = y_train.astype(int)\n",
    "y_test = y_test.astype(int)\n",
    "\n",
    "y_train_onehot = to_categorical(y=y_train, num_classes=10)\n",
    "y_test_onehot = to_categorical(y=y_test, num_classes=10)"
   ]
  },
  {
   "cell_type": "code",
   "execution_count": 64,
   "metadata": {
    "executionInfo": {
     "elapsed": 365,
     "status": "ok",
     "timestamp": 1668532976005,
     "user": {
      "displayName": "Mohammed Saifuddin",
      "userId": "00132744978255071993"
     },
     "user_tz": -330
    },
    "id": "LEz-oGt5T-0f"
   },
   "outputs": [],
   "source": [
    "X_train_all = [X_train_pad_seq, X_train_mask]\n",
    "X_test_all = [X_test_pad_seq, X_test_mask]"
   ]
  },
  {
   "cell_type": "markdown",
   "metadata": {
    "id": "K0kaYQ1jaNop"
   },
   "source": [
    "Model1: Giving Raw data directly."
   ]
  },
  {
   "cell_type": "markdown",
   "metadata": {
    "id": "xGHxh3jTaNoq"
   },
   "source": [
    "\n",
    "Now we have\n",
    "\n",
    "Train data: X_train_pad_seq, X_train_mask and y_train  \n",
    "Test data: X_test_pad_seq, X_test_mask and y_test   \n",
    "\n",
    "We will create a LSTM model which takes this input. \n",
    "\n",
    "Task:\n",
    "\n",
    "1. Create an LSTM network which takes `X_train_pad_seq` as input, `X_train_mask` as mask input. You can use any number of LSTM cells. Please read LSTM documentation(https://www.tensorflow.org/api_docs/python/tf/keras/layers/LSTM) in tensorflow to know more about mask and also https://www.tensorflow.org/guide/keras/masking_and_padding \n",
    "2. Get the final output of the LSTM and give it to Dense layer of any size and then give it to Dense layer of size 10(because we have 10 outputs) and then compile with the sparse categorical cross entropy( because we are not converting it to one hot vectors). Also check the datatype of class labels(y_values) and make sure that you convert your class labels  to integer datatype before fitting in the model.\n",
    "3. While defining your model make sure that you pass both the input layer and mask input layer as input to lstm layer as follows\n",
    "<img src='https://i.imgur.com/FvcgvbY.jpg'>\n",
    "4. Use tensorboard to plot the graphs of loss and metric(use custom micro F1 score as metric) and histograms of gradients. You can write your code for computing F1 score using this <a  href='https://i.imgur.com/8YULUcu.jpg'>link</a>.\n",
    "5. make sure that it won't overfit. \n",
    "6. You are free to include any regularization.\n"
   ]
  },
  {
   "cell_type": "code",
   "execution_count": 71,
   "metadata": {
    "executionInfo": {
     "elapsed": 949,
     "status": "ok",
     "timestamp": 1668533827210,
     "user": {
      "displayName": "Mohammed Saifuddin",
      "userId": "00132744978255071993"
     },
     "user_tz": -330
    },
    "id": "BZO4szvvO_r9"
   },
   "outputs": [],
   "source": [
    "tf.keras.backend.clear_session()\n",
    "\n",
    "input_pad = Input(shape=(max_length, 1), name='pad')\n",
    "input_mask = Input(shape=(max_length, 1), name='mask')\n",
    "\n",
    "concat = concatenate(inputs=[input_pad, input_mask], name='concat')\n",
    "\n",
    "input_layer = [input_pad, input_mask]\n",
    "\n",
    "lstm_layer = LSTM(units=32, name='lstm')(concat)\n",
    "dense = Dense(units=50, activation='relu', name='dense')(lstm_layer)\n",
    "output_layer = Dense(units=10, activation='softmax', name='output')(dense)\n",
    "\n",
    "model_1 = Model(inputs=input_layer, outputs=output_layer, name='model_1')"
   ]
  },
  {
   "cell_type": "code",
   "execution_count": 72,
   "metadata": {
    "colab": {
     "base_uri": "https://localhost:8080/",
     "height": 533
    },
    "executionInfo": {
     "elapsed": 9,
     "status": "ok",
     "timestamp": 1668533829360,
     "user": {
      "displayName": "Mohammed Saifuddin",
      "userId": "00132744978255071993"
     },
     "user_tz": -330
    },
    "id": "d8y1sgeVaNoy",
    "outputId": "b557cd74-14d1-4533-9dc3-a0ef95257ac7"
   },
   "outputs": [
    {
     "data": {
      "image/png": "[encoded data removed]",
      "text/plain": [
       "<IPython.core.display.Image object>"
      ]
     },
     "execution_count": 72,
     "metadata": {},
     "output_type": "execute_result"
    }
   ],
   "source": [
    "tf.keras.utils.plot_model(model=model_1,\n",
    "                          to_file=os.path.join('/content/model_1.png'),\n",
    "                          show_shapes=True, \n",
    "                          show_layer_names=True,\n",
    "                          expand_nested=False,\n",
    "                          dpi=96)"
   ]
  },
  {
   "cell_type": "code",
   "execution_count": 73,
   "metadata": {
    "colab": {
     "base_uri": "https://localhost:8080/"
    },
    "executionInfo": {
     "elapsed": 16,
     "status": "ok",
     "timestamp": 1668533846778,
     "user": {
      "displayName": "Mohammed Saifuddin",
      "userId": "00132744978255071993"
     },
     "user_tz": -330
    },
    "id": "RPj_DGW2aNo9",
    "outputId": "fe3c9c89-154c-4106-aab8-137aabf4dfff"
   },
   "outputs": [
    {
     "name": "stdout",
     "output_type": "stream",
     "text": [
      "Model: \"model_1\"\n",
      "__________________________________________________________________________________________________\n",
      " Layer (type)                   Output Shape         Param #     Connected to                     \n",
      "==================================================================================================\n",
      " pad (InputLayer)               [(None, 17640, 1)]   0           []                               \n",
      "                                                                                                  \n",
      " mask (InputLayer)              [(None, 17640, 1)]   0           []                               \n",
      "                                                                                                  \n",
      " concat (Concatenate)           (None, 17640, 2)     0           ['pad[0][0]',                    \n",
      "                                                                  'mask[0][0]']                   \n",
      "                                                                                                  \n",
      " lstm (LSTM)                    (None, 32)           4480        ['concat[0][0]']                 \n",
      "                                                                                                  \n",
      " dense (Dense)                  (None, 50)           1650        ['lstm[0][0]']                   \n",
      "                                                                                                  \n",
      " output (Dense)                 (None, 10)           510         ['dense[0][0]']                  \n",
      "                                                                                                  \n",
      "==================================================================================================\n",
      "Total params: 6,640\n",
      "Trainable params: 6,640\n",
      "Non-trainable params: 0\n",
      "__________________________________________________________________________________________________\n"
     ]
    }
   ],
   "source": [
    "model_1.summary()"
   ]
  },
  {
   "cell_type": "code",
   "execution_count": 74,
   "metadata": {
    "executionInfo": {
     "elapsed": 3,
     "status": "ok",
     "timestamp": 1668533952769,
     "user": {
      "displayName": "Mohammed Saifuddin",
      "userId": "00132744978255071993"
     },
     "user_tz": -330
    },
    "id": "MzpPjxvHaNpJ"
   },
   "outputs": [],
   "source": [
    "optimizer = tf.keras.optimizers.Adam(learning_rate=0.01)\n",
    "\n",
    "model_1.compile(optimizer=optimizer, \n",
    "                loss=tf.keras.losses.CategoricalCrossentropy(), \n",
    "                metrics=['accuracy', tfa.metrics.F1Score(num_classes=10, average='micro')])"
   ]
  },
  {
   "cell_type": "code",
   "execution_count": 75,
   "metadata": {
    "colab": {
     "base_uri": "https://localhost:8080/"
    },
    "executionInfo": {
     "elapsed": 55555,
     "status": "ok",
     "timestamp": 1668534013729,
     "user": {
      "displayName": "Mohammed Saifuddin",
      "userId": "00132744978255071993"
     },
     "user_tz": -330
    },
    "id": "GwuEwPPDX6WP",
    "outputId": "4c2fa489-49aa-461e-9ae7-4c3c2e892782"
   },
   "outputs": [
    {
     "name": "stdout",
     "output_type": "stream",
     "text": [
      "Epoch 1/5\n",
      "14/14 [==============================] - 17s 716ms/step - loss: 2.3081 - accuracy: 0.0986 - f1_score: 0.1214 - val_loss: 2.2961 - val_accuracy: 0.1083 - val_f1_score: 0.1083\n",
      "Epoch 2/5\n",
      "14/14 [==============================] - 8s 585ms/step - loss: 2.2993 - accuracy: 0.0921 - f1_score: 0.0921 - val_loss: 2.2861 - val_accuracy: 0.1083 - val_f1_score: 0.1083\n",
      "Epoch 3/5\n",
      "14/14 [==============================] - 9s 668ms/step - loss: 2.2952 - accuracy: 0.1007 - f1_score: 0.1007 - val_loss: 2.2878 - val_accuracy: 0.1083 - val_f1_score: 0.1083\n",
      "Epoch 4/5\n",
      "14/14 [==============================] - 9s 618ms/step - loss: 2.2937 - accuracy: 0.0943 - f1_score: 0.0943 - val_loss: 2.2865 - val_accuracy: 0.1083 - val_f1_score: 0.1083\n",
      "Epoch 5/5\n",
      "14/14 [==============================] - 13s 980ms/step - loss: 2.2942 - accuracy: 0.0893 - f1_score: 0.0893 - val_loss: 2.2853 - val_accuracy: 0.1083 - val_f1_score: 0.1083\n"
     ]
    }
   ],
   "source": [
    "epochs = 5\n",
    "tracker_1 = model_1.fit(x=X_train_all, \n",
    "                        y=y_train_onehot, \n",
    "                        validation_data=(X_test_all, y_test_onehot), \n",
    "                        epochs=epochs, \n",
    "                        batch_size=100)"
   ]
  },
  {
   "cell_type": "code",
   "execution_count": 76,
   "metadata": {
    "colab": {
     "base_uri": "https://localhost:8080/",
     "height": 404
    },
    "executionInfo": {
     "elapsed": 936,
     "status": "ok",
     "timestamp": 1668534024341,
     "user": {
      "displayName": "Mohammed Saifuddin",
      "userId": "00132744978255071993"
     },
     "user_tz": -330
    },
    "id": "wuLKVlvuYB-A",
    "outputId": "9ebf22a6-bfa7-457d-94aa-2928c058298a"
   },
   "outputs": [
    {
     "data": {
      "image/png": "[encoded data removed]",
      "text/plain": [
       "<Figure size 1296x432 with 3 Axes>"
      ]
     },
     "metadata": {
      "needs_background": "light"
     },
     "output_type": "display_data"
    }
   ],
   "source": [
    "plot_model_performance(tracker=tracker_1, epochs=epochs)"
   ]
  },
  {
   "cell_type": "markdown",
   "metadata": {
    "id": "2Fwk0X4zaNpR"
   },
   "source": [
    "Model2: Converting into spectrogram and giving spectrogram data as input"
   ]
  },
  {
   "cell_type": "markdown",
   "metadata": {
    "id": "fc2vbNiHlPDk"
   },
   "source": [
    "We can use librosa to convert raw data into spectrogram. A spectrogram shows the features in a two-dimensional representation with the\n",
    "intensity of a frequency at a point in time i.e we are converting Time domain to frequency domain. you can read more about this in https://pnsn.org/spectrograms/what-is-a-spectrogram."
   ]
  },
  {
   "cell_type": "code",
   "execution_count": 77,
   "metadata": {
    "executionInfo": {
     "elapsed": 5,
     "status": "ok",
     "timestamp": 1668534087818,
     "user": {
      "displayName": "Mohammed Saifuddin",
      "userId": "00132744978255071993"
     },
     "user_tz": -330
    },
    "id": "nb5AGzTjaNpS"
   },
   "outputs": [],
   "source": [
    "def convert_to_spectrogram(raw_data):\n",
    "    '''converting to spectrogram'''\n",
    "    spectrum = librosa.feature.melspectrogram(y=raw_data, n_mels=64)\n",
    "    logmel_spectrum = librosa.power_to_db(S=spectrum, ref=np.max)\n",
    "    return logmel_spectrum"
   ]
  },
  {
   "cell_type": "code",
   "execution_count": 78,
   "metadata": {
    "executionInfo": {
     "elapsed": 406,
     "status": "ok",
     "timestamp": 1668534164099,
     "user": {
      "displayName": "Mohammed Saifuddin",
      "userId": "00132744978255071993"
     },
     "user_tz": -330
    },
    "id": "B__rN4RjaNpc"
   },
   "outputs": [],
   "source": [
    "def make_spectrogram_matrix(pad_seq):\n",
    "    spec = [convert_to_spectrogram(raw_data=i) for i in tqdm(pad_seq)]\n",
    "    return np.array(spec)"
   ]
  },
  {
   "cell_type": "code",
   "execution_count": 80,
   "metadata": {
    "colab": {
     "base_uri": "https://localhost:8080/"
    },
    "executionInfo": {
     "elapsed": 9952,
     "status": "ok",
     "timestamp": 1668534309634,
     "user": {
      "displayName": "Mohammed Saifuddin",
      "userId": "00132744978255071993"
     },
     "user_tz": -330
    },
    "id": "4s5FZvnYYuI1",
    "outputId": "e1e87869-4cb1-4faa-e0f7-80769b1ce6e7"
   },
   "outputs": [
    {
     "name": "stderr",
     "output_type": "stream",
     "text": [
      "100%|██████████| 1400/1400 [00:07<00:00, 197.49it/s]\n",
      "100%|██████████| 600/600 [00:02<00:00, 238.22it/s]\n"
     ]
    }
   ],
   "source": [
    "X_train_spectrogram = make_spectrogram_matrix(pad_seq=X_train_pad_seq)\n",
    "X_test_spectrogram = make_spectrogram_matrix(pad_seq=X_test_pad_seq)"
   ]
  },
  {
   "cell_type": "code",
   "execution_count": 81,
   "metadata": {
    "colab": {
     "base_uri": "https://localhost:8080/"
    },
    "executionInfo": {
     "elapsed": 362,
     "status": "ok",
     "timestamp": 1668534343150,
     "user": {
      "displayName": "Mohammed Saifuddin",
      "userId": "00132744978255071993"
     },
     "user_tz": -330
    },
    "id": "jLl1Sz-FZTDp",
    "outputId": "4248b2e5-d9f6-414d-f609-289d6754b006"
   },
   "outputs": [
    {
     "name": "stdout",
     "output_type": "stream",
     "text": [
      "(1400, 64, 35) (600, 64, 35)\n"
     ]
    }
   ],
   "source": [
    "print(X_train_spectrogram.shape, X_test_spectrogram.shape)"
   ]
  },
  {
   "cell_type": "code",
   "execution_count": 87,
   "metadata": {
    "colab": {
     "base_uri": "https://localhost:8080/",
     "height": 596
    },
    "executionInfo": {
     "elapsed": 1974,
     "status": "ok",
     "timestamp": 1668534655388,
     "user": {
      "displayName": "Mohammed Saifuddin",
      "userId": "00132744978255071993"
     },
     "user_tz": -330
    },
    "id": "vJ6Rsg4MZaZN",
    "outputId": "58c04ed4-233d-463e-e0b7-d958a81d13b9"
   },
   "outputs": [
    {
     "data": {
      "image/png": "[encoded data removed]",
      "text/plain": [
       "<Figure size 1080x720 with 8 Axes>"
      ]
     },
     "metadata": {
      "needs_background": "light"
     },
     "output_type": "display_data"
    }
   ],
   "source": [
    "plt.figure(figsize=(15, 10))\n",
    "plt.subplot(221)\n",
    "sns.heatmap(data=X_train_spectrogram[0])\n",
    "plt.subplot(222)\n",
    "sns.heatmap(data=X_train_spectrogram[100])\n",
    "plt.subplot(223)\n",
    "sns.heatmap(data=X_train_spectrogram[500])\n",
    "plt.subplot(224)\n",
    "sns.heatmap(data=X_train_spectrogram[1000])\n",
    "plt.show()"
   ]
  },
  {
   "cell_type": "markdown",
   "metadata": {
    "id": "zr1ynYZnaNpj"
   },
   "source": [
    "Grader function 6"
   ]
  },
  {
   "cell_type": "code",
   "execution_count": 88,
   "metadata": {
    "colab": {
     "base_uri": "https://localhost:8080/"
    },
    "executionInfo": {
     "elapsed": 412,
     "status": "ok",
     "timestamp": 1668534674367,
     "user": {
      "displayName": "Mohammed Saifuddin",
      "userId": "00132744978255071993"
     },
     "user_tz": -330
    },
    "id": "oniXBXcsaNpk",
    "outputId": "cead36da-275a-4ec7-f5c1-97526fbae74d"
   },
   "outputs": [
    {
     "data": {
      "text/plain": [
       "True"
      ]
     },
     "execution_count": 88,
     "metadata": {},
     "output_type": "execute_result"
    }
   ],
   "source": [
    "def grader_spectrogram():\n",
    "    flag_shape = ((X_train_spectrogram.shape == (1400,64, 35)) and \n",
    "                  (X_test_spectrogram.shape == (600, 64, 35)))\n",
    "    return flag_shape\n",
    "\n",
    "grader_spectrogram()"
   ]
  },
  {
   "cell_type": "markdown",
   "metadata": {
    "id": "xxlEVyIYaNpt"
   },
   "source": [
    "\n",
    "Now we have\n",
    "\n",
    "Train data: X_train_spectrogram and y_train  \n",
    "Test data: X_test_spectrogram and y_test   \n",
    "\n",
    "We will create a LSTM model which takes this input. \n",
    "\n",
    "Task:\n",
    "\n",
    "1. Create an LSTM network which takes \"X_train_spectrogram\" as input and has to return output at every time step. \n",
    "2. Average the output of every time step and give this to the Dense layer of any size. \n",
    "(ex: Output from LSTM will be  (None, time_steps, features) average the output of every time step i.e, you should get (None,time_steps) \n",
    "and then pass to dense layer )\n",
    "3. give the above output to Dense layer of size 10( output layer) and train the network with sparse categorical cross entropy.  \n",
    "4. Use tensorboard to plot the graphs of loss and metric(use custom micro F1 score as metric) and histograms of gradients. You can write your code for computing F1 score using this <a  href='https://i.imgur.com/8YULUcu.jpg'>link</a> \n",
    "5. make sure that it won't overfit. \n",
    "6. You are free to include any regularization\n"
   ]
  },
  {
   "cell_type": "code",
   "execution_count": 89,
   "metadata": {
    "executionInfo": {
     "elapsed": 368,
     "status": "ok",
     "timestamp": 1668534864721,
     "user": {
      "displayName": "Mohammed Saifuddin",
      "userId": "00132744978255071993"
     },
     "user_tz": -330
    },
    "id": "IaQjaiiGaNpv"
   },
   "outputs": [],
   "source": [
    "tf.keras.backend.clear_session()\n",
    "\n",
    "input_spec = Input(shape=X_train_spectrogram.shape[-2:], name='spec')\n",
    "lstm_layer = LSTM(units=128, return_sequences=True, name='lstm')(input_spec)\n",
    "lstm_layer = Dropout(rate=0.2, name='dropout')(lstm_layer)\n",
    "avgpool = GlobalAveragePooling1D(name='avgpool')(lstm_layer)\n",
    "dense = Dense(units=50, activation='relu', name='dense')(avgpool)\n",
    "output_layer = Dense(units=10, activation='softmax', name='output')(dense)\n",
    "\n",
    "model_2 = Model(inputs=input_spec, outputs=output_layer)"
   ]
  },
  {
   "cell_type": "code",
   "execution_count": 90,
   "metadata": {
    "colab": {
     "base_uri": "https://localhost:8080/",
     "height": 644
    },
    "executionInfo": {
     "elapsed": 1017,
     "status": "ok",
     "timestamp": 1668534898349,
     "user": {
      "displayName": "Mohammed Saifuddin",
      "userId": "00132744978255071993"
     },
     "user_tz": -330
    },
    "id": "862fP2e-aNp3",
    "outputId": "86e61e57-88fc-4300-fe74-6fe596edfd29"
   },
   "outputs": [
    {
     "data": {
      "image/png": "[encoded data removed]",
      "text/plain": [
       "<IPython.core.display.Image object>"
      ]
     },
     "execution_count": 90,
     "metadata": {},
     "output_type": "execute_result"
    }
   ],
   "source": [
    "tf.keras.utils.plot_model(model=model_2,\n",
    "                          to_file=os.path.join('/content/model_2.png'),\n",
    "                          show_shapes=True, \n",
    "                          show_layer_names=True,\n",
    "                          expand_nested=False,\n",
    "                          dpi=96)"
   ]
  },
  {
   "cell_type": "code",
   "execution_count": 91,
   "metadata": {
    "colab": {
     "base_uri": "https://localhost:8080/"
    },
    "executionInfo": {
     "elapsed": 424,
     "status": "ok",
     "timestamp": 1668534909592,
     "user": {
      "displayName": "Mohammed Saifuddin",
      "userId": "00132744978255071993"
     },
     "user_tz": -330
    },
    "id": "VtMsbGs3aNp_",
    "outputId": "0e4d3c92-76c6-43f3-db92-25d8bd09d177"
   },
   "outputs": [
    {
     "name": "stdout",
     "output_type": "stream",
     "text": [
      "Model: \"model\"\n",
      "_________________________________________________________________\n",
      " Layer (type)                Output Shape              Param #   \n",
      "=================================================================\n",
      " spec (InputLayer)           [(None, 64, 35)]          0         \n",
      "                                                                 \n",
      " lstm (LSTM)                 (None, 64, 128)           83968     \n",
      "                                                                 \n",
      " dropout (Dropout)           (None, 64, 128)           0         \n",
      "                                                                 \n",
      " avgpool (GlobalAveragePooli  (None, 128)              0         \n",
      " ng1D)                                                           \n",
      "                                                                 \n",
      " dense (Dense)               (None, 50)                6450      \n",
      "                                                                 \n",
      " output (Dense)              (None, 10)                510       \n",
      "                                                                 \n",
      "=================================================================\n",
      "Total params: 90,928\n",
      "Trainable params: 90,928\n",
      "Non-trainable params: 0\n",
      "_________________________________________________________________\n"
     ]
    }
   ],
   "source": [
    "model_2.summary()"
   ]
  },
  {
   "cell_type": "code",
   "execution_count": 92,
   "metadata": {
    "executionInfo": {
     "elapsed": 386,
     "status": "ok",
     "timestamp": 1668534950412,
     "user": {
      "displayName": "Mohammed Saifuddin",
      "userId": "00132744978255071993"
     },
     "user_tz": -330
    },
    "id": "3NyhTctCbku8"
   },
   "outputs": [],
   "source": [
    "optimizer = tf.keras.optimizers.Adam(learning_rate=0.001)\n",
    "\n",
    "model_2.compile(optimizer=optimizer, \n",
    "                loss=tf.keras.losses.CategoricalCrossentropy(), \n",
    "                metrics=['accuracy', tfa.metrics.F1Score(num_classes=10, average='micro')])"
   ]
  },
  {
   "cell_type": "code",
   "execution_count": 93,
   "metadata": {
    "colab": {
     "base_uri": "https://localhost:8080/"
    },
    "executionInfo": {
     "elapsed": 12588,
     "status": "ok",
     "timestamp": 1668535013959,
     "user": {
      "displayName": "Mohammed Saifuddin",
      "userId": "00132744978255071993"
     },
     "user_tz": -330
    },
    "id": "i10KD6iobksM",
    "outputId": "702a70c1-c9d7-4a47-e13d-61425eca6324"
   },
   "outputs": [
    {
     "name": "stdout",
     "output_type": "stream",
     "text": [
      "Epoch 1/60\n",
      "14/14 [==============================] - 2s 51ms/step - loss: 2.2203 - accuracy: 0.1829 - f1_score: 0.1829 - val_loss: 2.1528 - val_accuracy: 0.2383 - val_f1_score: 0.2383\n",
      "Epoch 2/60\n",
      "14/14 [==============================] - 0s 16ms/step - loss: 2.0894 - accuracy: 0.3029 - f1_score: 0.3029 - val_loss: 2.0415 - val_accuracy: 0.3133 - val_f1_score: 0.3133\n",
      "Epoch 3/60\n",
      "14/14 [==============================] - 0s 12ms/step - loss: 1.9818 - accuracy: 0.3386 - f1_score: 0.3386 - val_loss: 1.9685 - val_accuracy: 0.3567 - val_f1_score: 0.3567\n",
      "Epoch 4/60\n",
      "14/14 [==============================] - 0s 11ms/step - loss: 1.8795 - accuracy: 0.3750 - f1_score: 0.3750 - val_loss: 1.8427 - val_accuracy: 0.4333 - val_f1_score: 0.4333\n",
      "Epoch 5/60\n",
      "14/14 [==============================] - 0s 14ms/step - loss: 1.7760 - accuracy: 0.4357 - f1_score: 0.4357 - val_loss: 1.7361 - val_accuracy: 0.4267 - val_f1_score: 0.4267\n",
      "Epoch 6/60\n",
      "14/14 [==============================] - 0s 11ms/step - loss: 1.6638 - accuracy: 0.4564 - f1_score: 0.4564 - val_loss: 1.6352 - val_accuracy: 0.4967 - val_f1_score: 0.4967\n",
      "Epoch 7/60\n",
      "14/14 [==============================] - 0s 13ms/step - loss: 1.6030 - accuracy: 0.4529 - f1_score: 0.4529 - val_loss: 1.6068 - val_accuracy: 0.4517 - val_f1_score: 0.4517\n",
      "Epoch 8/60\n",
      "14/14 [==============================] - 0s 11ms/step - loss: 1.5516 - accuracy: 0.4750 - f1_score: 0.4750 - val_loss: 1.5032 - val_accuracy: 0.5200 - val_f1_score: 0.5200\n",
      "Epoch 9/60\n",
      "14/14 [==============================] - 0s 13ms/step - loss: 1.4589 - accuracy: 0.5150 - f1_score: 0.5150 - val_loss: 1.4511 - val_accuracy: 0.5050 - val_f1_score: 0.5050\n",
      "Epoch 10/60\n",
      "14/14 [==============================] - 0s 12ms/step - loss: 1.4242 - accuracy: 0.5150 - f1_score: 0.5150 - val_loss: 1.4140 - val_accuracy: 0.5517 - val_f1_score: 0.5517\n",
      "Epoch 11/60\n",
      "14/14 [==============================] - 0s 11ms/step - loss: 1.3734 - accuracy: 0.5479 - f1_score: 0.5479 - val_loss: 1.3585 - val_accuracy: 0.5667 - val_f1_score: 0.5667\n",
      "Epoch 12/60\n",
      "14/14 [==============================] - 0s 10ms/step - loss: 1.3553 - accuracy: 0.5500 - f1_score: 0.5500 - val_loss: 1.3597 - val_accuracy: 0.5550 - val_f1_score: 0.5550\n",
      "Epoch 13/60\n",
      "14/14 [==============================] - 0s 15ms/step - loss: 1.3126 - accuracy: 0.5493 - f1_score: 0.5493 - val_loss: 1.3219 - val_accuracy: 0.5733 - val_f1_score: 0.5733\n",
      "Epoch 14/60\n",
      "14/14 [==============================] - 0s 17ms/step - loss: 1.2672 - accuracy: 0.5750 - f1_score: 0.5750 - val_loss: 1.2550 - val_accuracy: 0.6000 - val_f1_score: 0.6000\n",
      "Epoch 15/60\n",
      "14/14 [==============================] - 0s 16ms/step - loss: 1.2179 - accuracy: 0.5943 - f1_score: 0.5943 - val_loss: 1.2540 - val_accuracy: 0.5917 - val_f1_score: 0.5917\n",
      "Epoch 16/60\n",
      "14/14 [==============================] - 0s 18ms/step - loss: 1.1932 - accuracy: 0.5929 - f1_score: 0.5929 - val_loss: 1.1885 - val_accuracy: 0.6017 - val_f1_score: 0.6017\n",
      "Epoch 17/60\n",
      "14/14 [==============================] - 0s 17ms/step - loss: 1.1559 - accuracy: 0.6071 - f1_score: 0.6071 - val_loss: 1.1484 - val_accuracy: 0.6200 - val_f1_score: 0.6200\n",
      "Epoch 18/60\n",
      "14/14 [==============================] - 0s 17ms/step - loss: 1.1398 - accuracy: 0.6107 - f1_score: 0.6107 - val_loss: 1.1684 - val_accuracy: 0.6350 - val_f1_score: 0.6350\n",
      "Epoch 19/60\n",
      "14/14 [==============================] - 0s 15ms/step - loss: 1.1204 - accuracy: 0.6243 - f1_score: 0.6243 - val_loss: 1.1158 - val_accuracy: 0.6417 - val_f1_score: 0.6417\n",
      "Epoch 20/60\n",
      "14/14 [==============================] - 0s 15ms/step - loss: 1.0856 - accuracy: 0.6200 - f1_score: 0.6200 - val_loss: 1.1205 - val_accuracy: 0.5950 - val_f1_score: 0.5950\n",
      "Epoch 21/60\n",
      "14/14 [==============================] - 0s 16ms/step - loss: 1.0454 - accuracy: 0.6457 - f1_score: 0.6457 - val_loss: 1.0298 - val_accuracy: 0.6617 - val_f1_score: 0.6617\n",
      "Epoch 22/60\n",
      "14/14 [==============================] - 0s 15ms/step - loss: 1.0132 - accuracy: 0.6593 - f1_score: 0.6593 - val_loss: 1.0245 - val_accuracy: 0.6883 - val_f1_score: 0.6883\n",
      "Epoch 23/60\n",
      "14/14 [==============================] - 0s 12ms/step - loss: 0.9941 - accuracy: 0.6664 - f1_score: 0.6664 - val_loss: 1.0084 - val_accuracy: 0.6717 - val_f1_score: 0.6717\n",
      "Epoch 24/60\n",
      "14/14 [==============================] - 0s 11ms/step - loss: 0.9688 - accuracy: 0.6771 - f1_score: 0.6771 - val_loss: 0.9767 - val_accuracy: 0.6950 - val_f1_score: 0.6950\n",
      "Epoch 25/60\n",
      "14/14 [==============================] - 0s 10ms/step - loss: 0.9350 - accuracy: 0.6864 - f1_score: 0.6864 - val_loss: 0.9741 - val_accuracy: 0.6983 - val_f1_score: 0.6983\n",
      "Epoch 26/60\n",
      "14/14 [==============================] - 0s 11ms/step - loss: 0.9469 - accuracy: 0.6871 - f1_score: 0.6871 - val_loss: 0.9203 - val_accuracy: 0.7117 - val_f1_score: 0.7117\n",
      "Epoch 27/60\n",
      "14/14 [==============================] - 0s 10ms/step - loss: 0.9212 - accuracy: 0.6900 - f1_score: 0.6900 - val_loss: 0.8955 - val_accuracy: 0.7300 - val_f1_score: 0.7300\n",
      "Epoch 28/60\n",
      "14/14 [==============================] - 0s 11ms/step - loss: 0.9001 - accuracy: 0.7150 - f1_score: 0.7150 - val_loss: 0.9564 - val_accuracy: 0.6633 - val_f1_score: 0.6633\n",
      "Epoch 29/60\n",
      "14/14 [==============================] - 0s 10ms/step - loss: 0.8898 - accuracy: 0.6986 - f1_score: 0.6986 - val_loss: 0.8692 - val_accuracy: 0.7350 - val_f1_score: 0.7350\n",
      "Epoch 30/60\n",
      "14/14 [==============================] - 0s 13ms/step - loss: 0.8341 - accuracy: 0.7271 - f1_score: 0.7271 - val_loss: 0.8703 - val_accuracy: 0.7150 - val_f1_score: 0.7150\n",
      "Epoch 31/60\n",
      "14/14 [==============================] - 0s 13ms/step - loss: 0.8180 - accuracy: 0.7350 - f1_score: 0.7350 - val_loss: 0.8304 - val_accuracy: 0.7550 - val_f1_score: 0.7550\n",
      "Epoch 32/60\n",
      "14/14 [==============================] - 0s 11ms/step - loss: 0.7999 - accuracy: 0.7479 - f1_score: 0.7479 - val_loss: 0.8374 - val_accuracy: 0.7283 - val_f1_score: 0.7283\n",
      "Epoch 33/60\n",
      "14/14 [==============================] - 0s 11ms/step - loss: 0.7812 - accuracy: 0.7536 - f1_score: 0.7536 - val_loss: 0.8069 - val_accuracy: 0.7350 - val_f1_score: 0.7350\n",
      "Epoch 34/60\n",
      "14/14 [==============================] - 0s 10ms/step - loss: 0.7733 - accuracy: 0.7571 - f1_score: 0.7571 - val_loss: 0.8227 - val_accuracy: 0.7367 - val_f1_score: 0.7367\n",
      "Epoch 35/60\n",
      "14/14 [==============================] - 0s 10ms/step - loss: 0.7625 - accuracy: 0.7493 - f1_score: 0.7493 - val_loss: 0.7836 - val_accuracy: 0.7567 - val_f1_score: 0.7567\n",
      "Epoch 36/60\n",
      "14/14 [==============================] - 0s 13ms/step - loss: 0.7353 - accuracy: 0.7536 - f1_score: 0.7536 - val_loss: 0.7633 - val_accuracy: 0.7683 - val_f1_score: 0.7683\n",
      "Epoch 37/60\n",
      "14/14 [==============================] - 0s 10ms/step - loss: 0.7402 - accuracy: 0.7543 - f1_score: 0.7543 - val_loss: 0.8063 - val_accuracy: 0.7400 - val_f1_score: 0.7400\n",
      "Epoch 38/60\n",
      "14/14 [==============================] - 0s 10ms/step - loss: 0.7476 - accuracy: 0.7593 - f1_score: 0.7593 - val_loss: 0.7719 - val_accuracy: 0.7350 - val_f1_score: 0.7350\n",
      "Epoch 39/60\n",
      "14/14 [==============================] - 0s 10ms/step - loss: 0.7182 - accuracy: 0.7629 - f1_score: 0.7629 - val_loss: 0.7867 - val_accuracy: 0.7250 - val_f1_score: 0.7250\n",
      "Epoch 40/60\n",
      "14/14 [==============================] - 0s 10ms/step - loss: 0.7283 - accuracy: 0.7514 - f1_score: 0.7514 - val_loss: 0.7738 - val_accuracy: 0.7400 - val_f1_score: 0.7400\n",
      "Epoch 41/60\n",
      "14/14 [==============================] - 0s 10ms/step - loss: 0.7190 - accuracy: 0.7743 - f1_score: 0.7743 - val_loss: 0.8051 - val_accuracy: 0.7117 - val_f1_score: 0.7117\n",
      "Epoch 42/60\n",
      "14/14 [==============================] - 0s 13ms/step - loss: 0.7025 - accuracy: 0.7664 - f1_score: 0.7664 - val_loss: 0.7181 - val_accuracy: 0.7767 - val_f1_score: 0.7767\n",
      "Epoch 43/60\n",
      "14/14 [==============================] - 0s 10ms/step - loss: 0.6767 - accuracy: 0.7793 - f1_score: 0.7793 - val_loss: 0.7454 - val_accuracy: 0.7633 - val_f1_score: 0.7633\n",
      "Epoch 44/60\n",
      "14/14 [==============================] - 0s 13ms/step - loss: 0.6822 - accuracy: 0.7793 - f1_score: 0.7793 - val_loss: 0.6960 - val_accuracy: 0.7800 - val_f1_score: 0.7800\n",
      "Epoch 45/60\n",
      "14/14 [==============================] - 0s 11ms/step - loss: 0.6717 - accuracy: 0.7750 - f1_score: 0.7750 - val_loss: 0.7501 - val_accuracy: 0.7550 - val_f1_score: 0.7550\n",
      "Epoch 46/60\n",
      "14/14 [==============================] - 0s 10ms/step - loss: 0.6565 - accuracy: 0.7907 - f1_score: 0.7907 - val_loss: 0.7272 - val_accuracy: 0.7667 - val_f1_score: 0.7667\n",
      "Epoch 47/60\n",
      "14/14 [==============================] - 0s 10ms/step - loss: 0.6320 - accuracy: 0.8000 - f1_score: 0.8000 - val_loss: 0.6899 - val_accuracy: 0.7900 - val_f1_score: 0.7900\n",
      "Epoch 48/60\n",
      "14/14 [==============================] - 0s 10ms/step - loss: 0.6421 - accuracy: 0.7993 - f1_score: 0.7993 - val_loss: 0.6973 - val_accuracy: 0.7717 - val_f1_score: 0.7717\n",
      "Epoch 49/60\n",
      "14/14 [==============================] - 0s 10ms/step - loss: 0.6714 - accuracy: 0.7771 - f1_score: 0.7771 - val_loss: 0.7304 - val_accuracy: 0.7633 - val_f1_score: 0.7633\n",
      "Epoch 50/60\n",
      "14/14 [==============================] - 0s 10ms/step - loss: 0.6267 - accuracy: 0.7929 - f1_score: 0.7929 - val_loss: 0.6790 - val_accuracy: 0.7883 - val_f1_score: 0.7883\n",
      "Epoch 51/60\n",
      "14/14 [==============================] - 0s 10ms/step - loss: 0.5876 - accuracy: 0.8107 - f1_score: 0.8107 - val_loss: 0.6666 - val_accuracy: 0.7750 - val_f1_score: 0.7750\n",
      "Epoch 52/60\n",
      "14/14 [==============================] - 0s 10ms/step - loss: 0.5567 - accuracy: 0.8279 - f1_score: 0.8279 - val_loss: 0.6655 - val_accuracy: 0.7850 - val_f1_score: 0.7850\n",
      "Epoch 53/60\n",
      "14/14 [==============================] - 0s 13ms/step - loss: 0.5407 - accuracy: 0.8379 - f1_score: 0.8379 - val_loss: 0.6163 - val_accuracy: 0.8067 - val_f1_score: 0.8067\n",
      "Epoch 54/60\n",
      "14/14 [==============================] - 0s 13ms/step - loss: 0.5484 - accuracy: 0.8293 - f1_score: 0.8293 - val_loss: 0.6462 - val_accuracy: 0.7917 - val_f1_score: 0.7917\n",
      "Epoch 55/60\n",
      "14/14 [==============================] - 0s 10ms/step - loss: 0.5595 - accuracy: 0.8300 - f1_score: 0.8300 - val_loss: 0.6461 - val_accuracy: 0.7983 - val_f1_score: 0.7983\n",
      "Epoch 56/60\n",
      "14/14 [==============================] - 0s 10ms/step - loss: 0.5308 - accuracy: 0.8436 - f1_score: 0.8436 - val_loss: 0.5999 - val_accuracy: 0.8217 - val_f1_score: 0.8217\n",
      "Epoch 57/60\n",
      "14/14 [==============================] - 0s 11ms/step - loss: 0.5076 - accuracy: 0.8407 - f1_score: 0.8407 - val_loss: 0.6178 - val_accuracy: 0.8100 - val_f1_score: 0.8100\n",
      "Epoch 58/60\n",
      "14/14 [==============================] - 0s 10ms/step - loss: 0.5022 - accuracy: 0.8429 - f1_score: 0.8429 - val_loss: 0.5798 - val_accuracy: 0.8267 - val_f1_score: 0.8267\n",
      "Epoch 59/60\n",
      "14/14 [==============================] - 0s 10ms/step - loss: 0.5147 - accuracy: 0.8286 - f1_score: 0.8286 - val_loss: 0.6240 - val_accuracy: 0.7967 - val_f1_score: 0.7967\n",
      "Epoch 60/60\n",
      "14/14 [==============================] - 0s 11ms/step - loss: 0.5488 - accuracy: 0.8157 - f1_score: 0.8157 - val_loss: 0.6187 - val_accuracy: 0.8050 - val_f1_score: 0.8050\n"
     ]
    }
   ],
   "source": [
    "epochs = 60\n",
    "tracker_2 = model_2.fit(x=X_train_spectrogram, \n",
    "                        y=y_train_onehot, \n",
    "                        validation_data=(X_test_spectrogram, y_test_onehot), \n",
    "                        epochs=epochs, \n",
    "                        batch_size=100)"
   ]
  },
  {
   "cell_type": "code",
   "execution_count": 94,
   "metadata": {
    "colab": {
     "base_uri": "https://localhost:8080/",
     "height": 404
    },
    "executionInfo": {
     "elapsed": 1255,
     "status": "ok",
     "timestamp": 1668535046925,
     "user": {
      "displayName": "Mohammed Saifuddin",
      "userId": "00132744978255071993"
     },
     "user_tz": -330
    },
    "id": "lcPTMZ1CbkYB",
    "outputId": "eb2b8182-13bb-4be2-9c2a-21c7751cef24"
   },
   "outputs": [
    {
     "data": {
      "image/png": "[encoded data removed]",
      "text/plain": [
       "<Figure size 1296x432 with 3 Axes>"
      ]
     },
     "metadata": {
      "needs_background": "light"
     },
     "output_type": "display_data"
    }
   ],
   "source": [
    "plot_model_performance(tracker=tracker_2, epochs=epochs)"
   ]
  },
  {
   "cell_type": "markdown",
   "metadata": {
    "id": "aSl8ZOXjaNqJ"
   },
   "source": [
    "Model3: Data augmentation with raw features"
   ]
  },
  {
   "cell_type": "markdown",
   "metadata": {
    "id": "59gA5g0IlG7T"
   },
   "source": [
    "Till now we have done with 2000 samples only. It is very less data. We are giving the process of generating augmented data below.\n",
    "\n",
    "There are two types of augmentation:\n",
    "1. time stretching - Time stretching either increases or decreases the length of the file. For time stretching we move the file 30% faster or slower.\n",
    "2. pitch shifting - pitch shifting moves the frequencies higher or lower. For pitch shifting we shift up or down one half-step."
   ]
  },
  {
   "cell_type": "code",
   "execution_count": 95,
   "metadata": {
    "executionInfo": {
     "elapsed": 356,
     "status": "ok",
     "timestamp": 1668535123941,
     "user": {
      "displayName": "Mohammed Saifuddin",
      "userId": "00132744978255071993"
     },
     "user_tz": -330
    },
    "id": "jR4JSEDgaNqK"
   },
   "outputs": [],
   "source": [
    "def generate_augmented_data(file_path, sr=22050):\n",
    "    augmented_data = []\n",
    "    samples = load_wav(file_path, get_duration=False)\n",
    "\n",
    "    for time_value in [0.7, 1, 1.3]:\n",
    "    \n",
    "        for pitch_value in [-1, 0, 1]:\n",
    "            time_stretch_data = librosa.effects.time_stretch(samples, rate=time_value)\n",
    "            final_data = librosa.effects.pitch_shift(time_stretch_data, sr=sr, n_steps=pitch_value)\n",
    "            augmented_data.append(final_data)\n",
    "    \n",
    "    return augmented_data"
   ]
  },
  {
   "cell_type": "code",
   "execution_count": 96,
   "metadata": {
    "executionInfo": {
     "elapsed": 593,
     "status": "ok",
     "timestamp": 1668535126415,
     "user": {
      "displayName": "Mohammed Saifuddin",
      "userId": "00132744978255071993"
     },
     "user_tz": -330
    },
    "id": "QRdefb-SaNqS"
   },
   "outputs": [],
   "source": [
    "temp_path = df_audio.iloc[0].path\n",
    "aug_temp = generate_augmented_data(temp_path)"
   ]
  },
  {
   "cell_type": "code",
   "execution_count": 100,
   "metadata": {
    "colab": {
     "base_uri": "https://localhost:8080/"
    },
    "executionInfo": {
     "elapsed": 5,
     "status": "ok",
     "timestamp": 1668535601914,
     "user": {
      "displayName": "Mohammed Saifuddin",
      "userId": "00132744978255071993"
     },
     "user_tz": -330
    },
    "id": "kzdG3iS-aNqc",
    "outputId": "b90a2f17-a3fd-4102-f4b8-3ff75e33a312"
   },
   "outputs": [
    {
     "name": "stdout",
     "output_type": "stream",
     "text": [
      "9\n",
      "10734\n"
     ]
    }
   ],
   "source": [
    "print(len(aug_temp))\n",
    "print(len(aug_temp[0]))"
   ]
  },
  {
   "cell_type": "code",
   "execution_count": 101,
   "metadata": {
    "executionInfo": {
     "elapsed": 335,
     "status": "ok",
     "timestamp": 1668535768032,
     "user": {
      "displayName": "Mohammed Saifuddin",
      "userId": "00132744978255071993"
     },
     "user_tz": -330
    },
    "id": "wBwzbjOzO_sD"
   },
   "outputs": [],
   "source": [
    "def perform_augmentation_on_train(X_train, y_train):\n",
    "    x_aug = []\n",
    "    y_aug = []\n",
    "\n",
    "    for x_, y_ in zip(X_train.values, y_train.values):\n",
    "        aug = generate_augmented_data(file_path=x_)\n",
    "\n",
    "        for i in range(len(aug)):\n",
    "            x_aug.append(aug[i])\n",
    "            y_aug.append(y_)\n",
    "    \n",
    "    x_aug = np.array(x_aug)\n",
    "    y_aug = np.array(y_aug)\n",
    "\n",
    "    return x_aug, y_aug"
   ]
  },
  {
   "cell_type": "code",
   "execution_count": 102,
   "metadata": {
    "colab": {
     "base_uri": "https://localhost:8080/"
    },
    "executionInfo": {
     "elapsed": 248621,
     "status": "ok",
     "timestamp": 1668536052567,
     "user": {
      "displayName": "Mohammed Saifuddin",
      "userId": "00132744978255071993"
     },
     "user_tz": -330
    },
    "id": "41vU8M1gO_sD",
    "outputId": "730d3c26-1c63-4548-b967-6b1a45849bcd"
   },
   "outputs": [
    {
     "name": "stderr",
     "output_type": "stream",
     "text": [
      "/usr/local/lib/python3.7/dist-packages/ipykernel_launcher.py:12: VisibleDeprecationWarning: Creating an ndarray from ragged nested sequences (which is a list-or-tuple of lists-or-tuples-or ndarrays with different lengths or shapes) is deprecated. If you meant to do this, you must specify 'dtype=object' when creating the ndarray.\n",
      "  if sys.path[0] == '':\n"
     ]
    }
   ],
   "source": [
    "X_train_augmented, y_train_augmented = perform_augmentation_on_train(X_train=X_train, y_train=y_train)"
   ]
  },
  {
   "cell_type": "code",
   "execution_count": 103,
   "metadata": {
    "colab": {
     "base_uri": "https://localhost:8080/"
    },
    "executionInfo": {
     "elapsed": 3,
     "status": "ok",
     "timestamp": 1668536163165,
     "user": {
      "displayName": "Mohammed Saifuddin",
      "userId": "00132744978255071993"
     },
     "user_tz": -330
    },
    "id": "jD-32rode-hm",
    "outputId": "c50bcbbf-bd2b-4113-bd25-d8d2f19dfa79"
   },
   "outputs": [
    {
     "name": "stdout",
     "output_type": "stream",
     "text": [
      "(12600,) (12600,)\n"
     ]
    }
   ],
   "source": [
    "print(X_train_augmented.shape, y_train_augmented.shape)"
   ]
  },
  {
   "cell_type": "code",
   "execution_count": 104,
   "metadata": {
    "executionInfo": {
     "elapsed": 1018,
     "status": "ok",
     "timestamp": 1668536213542,
     "user": {
      "displayName": "Mohammed Saifuddin",
      "userId": "00132744978255071993"
     },
     "user_tz": -330
    },
    "id": "q6zkHGP6e-eu"
   },
   "outputs": [],
   "source": [
    "max_length = 17640\n",
    "X_train_aug_pad_seq = pad_sequences(sequences=X_train_augmented, maxlen=max_length, padding='post', dtype='float32')\n",
    "X_train_aug_mask = np.where((X_train_aug_pad_seq != 0), True, False)"
   ]
  },
  {
   "cell_type": "code",
   "execution_count": 105,
   "metadata": {
    "executionInfo": {
     "elapsed": 366,
     "status": "ok",
     "timestamp": 1668536273741,
     "user": {
      "displayName": "Mohammed Saifuddin",
      "userId": "00132744978255071993"
     },
     "user_tz": -330
    },
    "id": "Afm0FYrNe-cm"
   },
   "outputs": [],
   "source": [
    "y_train_aug_onehot = to_categorical(y=y_train_augmented, num_classes=10)"
   ]
  },
  {
   "cell_type": "code",
   "execution_count": 106,
   "metadata": {
    "executionInfo": {
     "elapsed": 411,
     "status": "ok",
     "timestamp": 1668536295777,
     "user": {
      "displayName": "Mohammed Saifuddin",
      "userId": "00132744978255071993"
     },
     "user_tz": -330
    },
    "id": "UJS-BotHgyb3"
   },
   "outputs": [],
   "source": [
    "X_train_aug_all = [X_train_aug_pad_seq, X_train_aug_mask]"
   ]
  },
  {
   "cell_type": "code",
   "execution_count": 107,
   "metadata": {
    "executionInfo": {
     "elapsed": 691,
     "status": "ok",
     "timestamp": 1668536412590,
     "user": {
      "displayName": "Mohammed Saifuddin",
      "userId": "00132744978255071993"
     },
     "user_tz": -330
    },
    "id": "5nE2O7Mve-Z6"
   },
   "outputs": [],
   "source": [
    "tf.keras.backend.clear_session()\n",
    "\n",
    "input_pad = Input(shape=(max_length, 1), name='pad')\n",
    "input_mask = Input(shape=(max_length, 1), name='mask')\n",
    "\n",
    "concat = concatenate(inputs=[input_pad, input_mask], name='concat')\n",
    "\n",
    "input_layer = [input_pad, input_mask]\n",
    "\n",
    "lstm_layer = LSTM(units=32, name='lstm')(concat)\n",
    "dense = Dense(units=50, activation='relu', name='dense')(lstm_layer)\n",
    "output_layer = Dense(units=10, activation='softmax', name='output')(dense)\n",
    "\n",
    "model_3 = Model(inputs=input_layer, outputs=output_layer, name='model_3')"
   ]
  },
  {
   "cell_type": "code",
   "execution_count": 110,
   "metadata": {
    "colab": {
     "base_uri": "https://localhost:8080/",
     "height": 533
    },
    "executionInfo": {
     "elapsed": 1102,
     "status": "ok",
     "timestamp": 1668537157991,
     "user": {
      "displayName": "Mohammed Saifuddin",
      "userId": "00132744978255071993"
     },
     "user_tz": -330
    },
    "id": "Y36kAiKciCDe",
    "outputId": "41ba9562-4836-4303-a2ca-22d1d3714cfd"
   },
   "outputs": [
    {
     "data": {
      "image/png": "[encoded data removed]",
      "text/plain": [
       "<IPython.core.display.Image object>"
      ]
     },
     "execution_count": 110,
     "metadata": {},
     "output_type": "execute_result"
    }
   ],
   "source": [
    "tf.keras.utils.plot_model(model=model_3,\n",
    "                          to_file=os.path.join('/content/model_3.png'),\n",
    "                          show_shapes=True, \n",
    "                          show_layer_names=True,\n",
    "                          expand_nested=False,\n",
    "                          dpi=96)"
   ]
  },
  {
   "cell_type": "code",
   "execution_count": 111,
   "metadata": {
    "colab": {
     "base_uri": "https://localhost:8080/"
    },
    "executionInfo": {
     "elapsed": 15,
     "status": "ok",
     "timestamp": 1668537157991,
     "user": {
      "displayName": "Mohammed Saifuddin",
      "userId": "00132744978255071993"
     },
     "user_tz": -330
    },
    "id": "laYN4QZ4iCDf",
    "outputId": "af80ced2-e541-4869-d7a3-0f36e51f72d3"
   },
   "outputs": [
    {
     "name": "stdout",
     "output_type": "stream",
     "text": [
      "Model: \"model_3\"\n",
      "__________________________________________________________________________________________________\n",
      " Layer (type)                   Output Shape         Param #     Connected to                     \n",
      "==================================================================================================\n",
      " pad (InputLayer)               [(None, 17640, 1)]   0           []                               \n",
      "                                                                                                  \n",
      " mask (InputLayer)              [(None, 17640, 1)]   0           []                               \n",
      "                                                                                                  \n",
      " concat (Concatenate)           (None, 17640, 2)     0           ['pad[0][0]',                    \n",
      "                                                                  'mask[0][0]']                   \n",
      "                                                                                                  \n",
      " lstm (LSTM)                    (None, 32)           4480        ['concat[0][0]']                 \n",
      "                                                                                                  \n",
      " dense (Dense)                  (None, 50)           1650        ['lstm[0][0]']                   \n",
      "                                                                                                  \n",
      " output (Dense)                 (None, 10)           510         ['dense[0][0]']                  \n",
      "                                                                                                  \n",
      "==================================================================================================\n",
      "Total params: 6,640\n",
      "Trainable params: 6,640\n",
      "Non-trainable params: 0\n",
      "__________________________________________________________________________________________________\n"
     ]
    }
   ],
   "source": [
    "model_3.summary()"
   ]
  },
  {
   "cell_type": "code",
   "execution_count": 108,
   "metadata": {
    "executionInfo": {
     "elapsed": 350,
     "status": "ok",
     "timestamp": 1668536442727,
     "user": {
      "displayName": "Mohammed Saifuddin",
      "userId": "00132744978255071993"
     },
     "user_tz": -330
    },
    "id": "59I7PcCmhTSS"
   },
   "outputs": [],
   "source": [
    "optimizer = tf.keras.optimizers.Adam(learning_rate=0.01)\n",
    "\n",
    "model_3.compile(optimizer=optimizer, \n",
    "                loss=tf.keras.losses.CategoricalCrossentropy(), \n",
    "                metrics=['accuracy', tfa.metrics.F1Score(num_classes=10, average='micro')])"
   ]
  },
  {
   "cell_type": "code",
   "execution_count": 109,
   "metadata": {
    "colab": {
     "base_uri": "https://localhost:8080/"
    },
    "executionInfo": {
     "elapsed": 637754,
     "status": "ok",
     "timestamp": 1668537155533,
     "user": {
      "displayName": "Mohammed Saifuddin",
      "userId": "00132744978255071993"
     },
     "user_tz": -330
    },
    "id": "ca_clyf_hTPy",
    "outputId": "53a96c4a-37c6-470b-f58c-2f534c53785d"
   },
   "outputs": [
    {
     "name": "stdout",
     "output_type": "stream",
     "text": [
      "Epoch 1/10\n",
      "126/126 [==============================] - 72s 560ms/step - loss: 2.3033 - accuracy: 0.1044 - f1_score: 0.1076 - val_loss: 2.2948 - val_accuracy: 0.1000 - val_f1_score: 0.1000\n",
      "Epoch 2/10\n",
      "126/126 [==============================] - 66s 524ms/step - loss: 2.2886 - accuracy: 0.1019 - f1_score: 0.1019 - val_loss: 2.2921 - val_accuracy: 0.1083 - val_f1_score: 0.1083\n",
      "Epoch 3/10\n",
      "126/126 [==============================] - 62s 493ms/step - loss: 2.2885 - accuracy: 0.1051 - f1_score: 0.1051 - val_loss: 2.2956 - val_accuracy: 0.1083 - val_f1_score: 0.1083\n",
      "Epoch 4/10\n",
      "126/126 [==============================] - 62s 493ms/step - loss: 2.2885 - accuracy: 0.1071 - f1_score: 0.1071 - val_loss: 2.2933 - val_accuracy: 0.1083 - val_f1_score: 0.1083\n",
      "Epoch 5/10\n",
      "126/126 [==============================] - 63s 497ms/step - loss: 2.2885 - accuracy: 0.1103 - f1_score: 0.1103 - val_loss: 2.2935 - val_accuracy: 0.1083 - val_f1_score: 0.1083\n",
      "Epoch 6/10\n",
      "126/126 [==============================] - 62s 491ms/step - loss: 2.2884 - accuracy: 0.1077 - f1_score: 0.1077 - val_loss: 2.2935 - val_accuracy: 0.1017 - val_f1_score: 0.1017\n",
      "Epoch 7/10\n",
      "126/126 [==============================] - 62s 488ms/step - loss: 2.2884 - accuracy: 0.1063 - f1_score: 0.1063 - val_loss: 2.2927 - val_accuracy: 0.1083 - val_f1_score: 0.1083\n",
      "Epoch 8/10\n",
      "126/126 [==============================] - 63s 497ms/step - loss: 2.2883 - accuracy: 0.1080 - f1_score: 0.1080 - val_loss: 2.2922 - val_accuracy: 0.1083 - val_f1_score: 0.1083\n",
      "Epoch 9/10\n",
      "126/126 [==============================] - 62s 495ms/step - loss: 2.2883 - accuracy: 0.1093 - f1_score: 0.1093 - val_loss: 2.2917 - val_accuracy: 0.1083 - val_f1_score: 0.1083\n",
      "Epoch 10/10\n",
      "126/126 [==============================] - 64s 505ms/step - loss: 2.2885 - accuracy: 0.1059 - f1_score: 0.1059 - val_loss: 2.2927 - val_accuracy: 0.1083 - val_f1_score: 0.1083\n"
     ]
    }
   ],
   "source": [
    "epochs = 10\n",
    "tracker_3 = model_3.fit(x=X_train_aug_all, \n",
    "                        y=y_train_aug_onehot, \n",
    "                        validation_data=(X_test_all, y_test_onehot), \n",
    "                        epochs=epochs, \n",
    "                        batch_size=100)"
   ]
  },
  {
   "cell_type": "code",
   "execution_count": 112,
   "metadata": {
    "colab": {
     "base_uri": "https://localhost:8080/",
     "height": 404
    },
    "executionInfo": {
     "elapsed": 1202,
     "status": "ok",
     "timestamp": 1668537234558,
     "user": {
      "displayName": "Mohammed Saifuddin",
      "userId": "00132744978255071993"
     },
     "user_tz": -330
    },
    "id": "3YXHSYxKhTNt",
    "outputId": "fa237e30-2506-49cd-ea04-9fe137173461"
   },
   "outputs": [
    {
     "data": {
      "image/png": "[encoded data removed]",
      "text/plain": [
       "<Figure size 1296x432 with 3 Axes>"
      ]
     },
     "metadata": {
      "needs_background": "light"
     },
     "output_type": "display_data"
    }
   ],
   "source": [
    "plot_model_performance(tracker=tracker_3, epochs=epochs)"
   ]
  },
  {
   "cell_type": "markdown",
   "metadata": {
    "id": "vXY9uP7cO_sE"
   },
   "source": [
    "Model4: Data augmentation with spectogram data"
   ]
  },
  {
   "cell_type": "markdown",
   "metadata": {
    "id": "EShBfiERO_sE"
   },
   "source": [
    "1. Use convert_to_spectrogram and convert the padded data from train and test data to spectogram data.\n",
    "2. The shape of train data will be 14400 x 64 x 35 and shape of test_data will be 400 x 64 x35\n",
    "3. Define the model similar to model 2 and fit the data."
   ]
  },
  {
   "cell_type": "code",
   "execution_count": 114,
   "metadata": {
    "colab": {
     "base_uri": "https://localhost:8080/"
    },
    "executionInfo": {
     "elapsed": 59085,
     "status": "ok",
     "timestamp": 1668537603869,
     "user": {
      "displayName": "Mohammed Saifuddin",
      "userId": "00132744978255071993"
     },
     "user_tz": -330
    },
    "id": "QpVMCEW3O_sE",
    "outputId": "a660e416-3199-4e1d-c153-af1a14524a1f"
   },
   "outputs": [
    {
     "name": "stderr",
     "output_type": "stream",
     "text": [
      "100%|██████████| 12600/12600 [00:58<00:00, 215.22it/s]\n"
     ]
    }
   ],
   "source": [
    "X_train_aug_spectrogram = make_spectrogram_matrix(pad_seq=X_train_aug_pad_seq)"
   ]
  },
  {
   "cell_type": "code",
   "execution_count": 115,
   "metadata": {
    "colab": {
     "base_uri": "https://localhost:8080/"
    },
    "executionInfo": {
     "elapsed": 4,
     "status": "ok",
     "timestamp": 1668537605062,
     "user": {
      "displayName": "Mohammed Saifuddin",
      "userId": "00132744978255071993"
     },
     "user_tz": -330
    },
    "id": "40RMwgJ6O_sE",
    "outputId": "ccca7d4b-529c-4c08-a070-b714cfa2200f"
   },
   "outputs": [
    {
     "name": "stdout",
     "output_type": "stream",
     "text": [
      "(12600, 64, 35)\n"
     ]
    }
   ],
   "source": [
    "print(X_train_aug_spectrogram.shape)"
   ]
  },
  {
   "cell_type": "code",
   "execution_count": 116,
   "metadata": {
    "executionInfo": {
     "elapsed": 606,
     "status": "ok",
     "timestamp": 1668537640914,
     "user": {
      "displayName": "Mohammed Saifuddin",
      "userId": "00132744978255071993"
     },
     "user_tz": -330
    },
    "id": "X78XneM3l4AE"
   },
   "outputs": [],
   "source": [
    "tf.keras.backend.clear_session()\n",
    "\n",
    "input_spec = Input(shape=X_train_spectrogram.shape[-2:], name='spec')\n",
    "lstm_layer = LSTM(units=128, return_sequences=True, name='lstm')(input_spec)\n",
    "lstm_layer = Dropout(rate=0.2, name='dropout')(lstm_layer)\n",
    "avgpool = GlobalAveragePooling1D(name='avgpool')(lstm_layer)\n",
    "dense = Dense(units=50, activation='relu', name='dense')(avgpool)\n",
    "output_layer = Dense(units=10, activation='softmax', name='output')(dense)\n",
    "\n",
    "model_4 = Model(inputs=input_spec, outputs=output_layer)"
   ]
  },
  {
   "cell_type": "code",
   "execution_count": 117,
   "metadata": {
    "colab": {
     "base_uri": "https://localhost:8080/",
     "height": 644
    },
    "executionInfo": {
     "elapsed": 727,
     "status": "ok",
     "timestamp": 1668537649829,
     "user": {
      "displayName": "Mohammed Saifuddin",
      "userId": "00132744978255071993"
     },
     "user_tz": -330
    },
    "id": "i0q7H3NCl4AG",
    "outputId": "4d614bd2-c4c2-4112-b832-c7b26f43845b"
   },
   "outputs": [
    {
     "data": {
      "image/png": "[encoded data removed]",
      "text/plain": [
       "<IPython.core.display.Image object>"
      ]
     },
     "execution_count": 117,
     "metadata": {},
     "output_type": "execute_result"
    }
   ],
   "source": [
    "tf.keras.utils.plot_model(model=model_4,\n",
    "                          to_file=os.path.join('/content/model_4.png'),\n",
    "                          show_shapes=True, \n",
    "                          show_layer_names=True,\n",
    "                          expand_nested=False,\n",
    "                          dpi=96)"
   ]
  },
  {
   "cell_type": "code",
   "execution_count": 118,
   "metadata": {
    "colab": {
     "base_uri": "https://localhost:8080/"
    },
    "executionInfo": {
     "elapsed": 25,
     "status": "ok",
     "timestamp": 1668537662505,
     "user": {
      "displayName": "Mohammed Saifuddin",
      "userId": "00132744978255071993"
     },
     "user_tz": -330
    },
    "id": "vpnn6Hxil4AG",
    "outputId": "c6d490a2-0cec-4342-b9ea-0cad3a874676"
   },
   "outputs": [
    {
     "name": "stdout",
     "output_type": "stream",
     "text": [
      "Model: \"model\"\n",
      "_________________________________________________________________\n",
      " Layer (type)                Output Shape              Param #   \n",
      "=================================================================\n",
      " spec (InputLayer)           [(None, 64, 35)]          0         \n",
      "                                                                 \n",
      " lstm (LSTM)                 (None, 64, 128)           83968     \n",
      "                                                                 \n",
      " dropout (Dropout)           (None, 64, 128)           0         \n",
      "                                                                 \n",
      " avgpool (GlobalAveragePooli  (None, 128)              0         \n",
      " ng1D)                                                           \n",
      "                                                                 \n",
      " dense (Dense)               (None, 50)                6450      \n",
      "                                                                 \n",
      " output (Dense)              (None, 10)                510       \n",
      "                                                                 \n",
      "=================================================================\n",
      "Total params: 90,928\n",
      "Trainable params: 90,928\n",
      "Non-trainable params: 0\n",
      "_________________________________________________________________\n"
     ]
    }
   ],
   "source": [
    "model_4.summary()"
   ]
  },
  {
   "cell_type": "code",
   "execution_count": 119,
   "metadata": {
    "executionInfo": {
     "elapsed": 512,
     "status": "ok",
     "timestamp": 1668537673269,
     "user": {
      "displayName": "Mohammed Saifuddin",
      "userId": "00132744978255071993"
     },
     "user_tz": -330
    },
    "id": "lPvP1YP3l4AH"
   },
   "outputs": [],
   "source": [
    "optimizer = tf.keras.optimizers.Adam(learning_rate=0.001)\n",
    "\n",
    "model_4.compile(optimizer=optimizer, \n",
    "                loss=tf.keras.losses.CategoricalCrossentropy(), \n",
    "                metrics=['accuracy', tfa.metrics.F1Score(num_classes=10, average='micro')])"
   ]
  },
  {
   "cell_type": "code",
   "execution_count": 121,
   "metadata": {
    "colab": {
     "base_uri": "https://localhost:8080/"
    },
    "executionInfo": {
     "elapsed": 81065,
     "status": "ok",
     "timestamp": 1668537871480,
     "user": {
      "displayName": "Mohammed Saifuddin",
      "userId": "00132744978255071993"
     },
     "user_tz": -330
    },
    "id": "mK0HAsqpl4AH",
    "outputId": "1785f468-f56c-4368-bc42-daf47d870c07"
   },
   "outputs": [
    {
     "name": "stdout",
     "output_type": "stream",
     "text": [
      "Epoch 1/60\n",
      "126/126 [==============================] - 3s 14ms/step - loss: 2.0925 - accuracy: 0.2490 - f1_score: 0.2490 - val_loss: 1.8343 - val_accuracy: 0.4317 - val_f1_score: 0.4317\n",
      "Epoch 2/60\n",
      "126/126 [==============================] - 1s 9ms/step - loss: 1.7254 - accuracy: 0.3998 - f1_score: 0.3998 - val_loss: 1.4662 - val_accuracy: 0.5200 - val_f1_score: 0.5200\n",
      "Epoch 3/60\n",
      "126/126 [==============================] - 1s 9ms/step - loss: 1.4539 - accuracy: 0.5010 - f1_score: 0.5010 - val_loss: 1.3338 - val_accuracy: 0.5150 - val_f1_score: 0.5150\n",
      "Epoch 4/60\n",
      "126/126 [==============================] - 1s 9ms/step - loss: 1.3037 - accuracy: 0.5579 - f1_score: 0.5579 - val_loss: 1.1266 - val_accuracy: 0.6083 - val_f1_score: 0.6083\n",
      "Epoch 5/60\n",
      "126/126 [==============================] - 1s 9ms/step - loss: 1.1924 - accuracy: 0.5923 - f1_score: 0.5923 - val_loss: 1.0630 - val_accuracy: 0.6700 - val_f1_score: 0.6700\n",
      "Epoch 6/60\n",
      "126/126 [==============================] - 1s 9ms/step - loss: 1.0977 - accuracy: 0.6303 - f1_score: 0.6303 - val_loss: 0.9455 - val_accuracy: 0.6933 - val_f1_score: 0.6933\n",
      "Epoch 7/60\n",
      "126/126 [==============================] - 1s 9ms/step - loss: 1.0214 - accuracy: 0.6498 - f1_score: 0.6498 - val_loss: 0.8918 - val_accuracy: 0.7150 - val_f1_score: 0.7150\n",
      "Epoch 8/60\n",
      "126/126 [==============================] - 1s 9ms/step - loss: 0.9528 - accuracy: 0.6694 - f1_score: 0.6694 - val_loss: 0.8753 - val_accuracy: 0.6950 - val_f1_score: 0.6950\n",
      "Epoch 9/60\n",
      "126/126 [==============================] - 1s 9ms/step - loss: 0.9277 - accuracy: 0.6771 - f1_score: 0.6771 - val_loss: 0.7771 - val_accuracy: 0.7483 - val_f1_score: 0.7483\n",
      "Epoch 10/60\n",
      "126/126 [==============================] - 1s 9ms/step - loss: 0.8810 - accuracy: 0.6947 - f1_score: 0.6947 - val_loss: 0.7619 - val_accuracy: 0.7717 - val_f1_score: 0.7717\n",
      "Epoch 11/60\n",
      "126/126 [==============================] - 1s 9ms/step - loss: 0.8386 - accuracy: 0.7101 - f1_score: 0.7101 - val_loss: 0.7649 - val_accuracy: 0.7333 - val_f1_score: 0.7333\n",
      "Epoch 12/60\n",
      "126/126 [==============================] - 1s 9ms/step - loss: 0.8259 - accuracy: 0.7115 - f1_score: 0.7115 - val_loss: 0.7337 - val_accuracy: 0.7467 - val_f1_score: 0.7467\n",
      "Epoch 13/60\n",
      "126/126 [==============================] - 1s 9ms/step - loss: 0.7873 - accuracy: 0.7232 - f1_score: 0.7232 - val_loss: 0.7008 - val_accuracy: 0.7600 - val_f1_score: 0.7600\n",
      "Epoch 14/60\n",
      "126/126 [==============================] - 1s 9ms/step - loss: 0.7490 - accuracy: 0.7401 - f1_score: 0.7401 - val_loss: 0.7090 - val_accuracy: 0.7617 - val_f1_score: 0.7617\n",
      "Epoch 15/60\n",
      "126/126 [==============================] - 1s 9ms/step - loss: 0.7588 - accuracy: 0.7299 - f1_score: 0.7299 - val_loss: 0.6584 - val_accuracy: 0.7833 - val_f1_score: 0.7833\n",
      "Epoch 16/60\n",
      "126/126 [==============================] - 1s 9ms/step - loss: 0.7197 - accuracy: 0.7485 - f1_score: 0.7485 - val_loss: 0.6197 - val_accuracy: 0.8100 - val_f1_score: 0.8100\n",
      "Epoch 17/60\n",
      "126/126 [==============================] - 1s 9ms/step - loss: 0.6956 - accuracy: 0.7597 - f1_score: 0.7597 - val_loss: 0.6403 - val_accuracy: 0.7733 - val_f1_score: 0.7733\n",
      "Epoch 18/60\n",
      "126/126 [==============================] - 2s 13ms/step - loss: 0.6650 - accuracy: 0.7691 - f1_score: 0.7691 - val_loss: 0.5963 - val_accuracy: 0.7983 - val_f1_score: 0.7983\n",
      "Epoch 19/60\n",
      "126/126 [==============================] - 1s 12ms/step - loss: 0.6512 - accuracy: 0.7705 - f1_score: 0.7705 - val_loss: 0.5621 - val_accuracy: 0.8217 - val_f1_score: 0.8217\n",
      "Epoch 20/60\n",
      "126/126 [==============================] - 1s 9ms/step - loss: 0.6250 - accuracy: 0.7821 - f1_score: 0.7821 - val_loss: 0.6080 - val_accuracy: 0.8150 - val_f1_score: 0.8150\n",
      "Epoch 21/60\n",
      "126/126 [==============================] - 1s 9ms/step - loss: 0.6171 - accuracy: 0.7865 - f1_score: 0.7865 - val_loss: 0.5651 - val_accuracy: 0.7900 - val_f1_score: 0.7900\n",
      "Epoch 22/60\n",
      "126/126 [==============================] - 1s 9ms/step - loss: 0.5979 - accuracy: 0.7933 - f1_score: 0.7933 - val_loss: 0.5528 - val_accuracy: 0.7950 - val_f1_score: 0.7950\n",
      "Epoch 23/60\n",
      "126/126 [==============================] - 1s 9ms/step - loss: 0.5772 - accuracy: 0.7992 - f1_score: 0.7992 - val_loss: 0.5104 - val_accuracy: 0.8333 - val_f1_score: 0.8333\n",
      "Epoch 24/60\n",
      "126/126 [==============================] - 1s 10ms/step - loss: 0.5674 - accuracy: 0.8019 - f1_score: 0.8019 - val_loss: 0.5290 - val_accuracy: 0.8383 - val_f1_score: 0.8383\n",
      "Epoch 25/60\n",
      "126/126 [==============================] - 1s 9ms/step - loss: 0.5543 - accuracy: 0.8110 - f1_score: 0.8110 - val_loss: 0.5246 - val_accuracy: 0.8067 - val_f1_score: 0.8067\n",
      "Epoch 26/60\n",
      "126/126 [==============================] - 1s 9ms/step - loss: 0.5292 - accuracy: 0.8129 - f1_score: 0.8129 - val_loss: 0.4844 - val_accuracy: 0.8367 - val_f1_score: 0.8367\n",
      "Epoch 27/60\n",
      "126/126 [==============================] - 1s 9ms/step - loss: 0.5336 - accuracy: 0.8116 - f1_score: 0.8116 - val_loss: 0.5493 - val_accuracy: 0.7983 - val_f1_score: 0.7983\n",
      "Epoch 28/60\n",
      "126/126 [==============================] - 1s 9ms/step - loss: 0.5093 - accuracy: 0.8266 - f1_score: 0.8266 - val_loss: 0.4539 - val_accuracy: 0.8500 - val_f1_score: 0.8500\n",
      "Epoch 29/60\n",
      "126/126 [==============================] - 1s 9ms/step - loss: 0.5025 - accuracy: 0.8282 - f1_score: 0.8282 - val_loss: 0.4548 - val_accuracy: 0.8367 - val_f1_score: 0.8367\n",
      "Epoch 30/60\n",
      "126/126 [==============================] - 1s 9ms/step - loss: 0.5072 - accuracy: 0.8237 - f1_score: 0.8237 - val_loss: 0.4369 - val_accuracy: 0.8617 - val_f1_score: 0.8617\n",
      "Epoch 31/60\n",
      "126/126 [==============================] - 1s 9ms/step - loss: 0.4807 - accuracy: 0.8321 - f1_score: 0.8321 - val_loss: 0.4667 - val_accuracy: 0.8400 - val_f1_score: 0.8400\n",
      "Epoch 32/60\n",
      "126/126 [==============================] - 1s 9ms/step - loss: 0.4796 - accuracy: 0.8333 - f1_score: 0.8333 - val_loss: 0.4419 - val_accuracy: 0.8450 - val_f1_score: 0.8450\n",
      "Epoch 33/60\n",
      "126/126 [==============================] - 1s 9ms/step - loss: 0.4637 - accuracy: 0.8411 - f1_score: 0.8411 - val_loss: 0.4454 - val_accuracy: 0.8533 - val_f1_score: 0.8533\n",
      "Epoch 34/60\n",
      "126/126 [==============================] - 1s 9ms/step - loss: 0.4531 - accuracy: 0.8402 - f1_score: 0.8402 - val_loss: 0.4449 - val_accuracy: 0.8550 - val_f1_score: 0.8550\n",
      "Epoch 35/60\n",
      "126/126 [==============================] - 1s 9ms/step - loss: 0.4529 - accuracy: 0.8429 - f1_score: 0.8429 - val_loss: 0.3919 - val_accuracy: 0.8683 - val_f1_score: 0.8683\n",
      "Epoch 36/60\n",
      "126/126 [==============================] - 1s 9ms/step - loss: 0.4430 - accuracy: 0.8491 - f1_score: 0.8491 - val_loss: 0.4240 - val_accuracy: 0.8550 - val_f1_score: 0.8550\n",
      "Epoch 37/60\n",
      "126/126 [==============================] - 1s 9ms/step - loss: 0.4323 - accuracy: 0.8528 - f1_score: 0.8528 - val_loss: 0.4069 - val_accuracy: 0.8550 - val_f1_score: 0.8550\n",
      "Epoch 38/60\n",
      "126/126 [==============================] - 1s 9ms/step - loss: 0.4246 - accuracy: 0.8554 - f1_score: 0.8554 - val_loss: 0.4292 - val_accuracy: 0.8650 - val_f1_score: 0.8650\n",
      "Epoch 39/60\n",
      "126/126 [==============================] - 1s 9ms/step - loss: 0.4280 - accuracy: 0.8507 - f1_score: 0.8507 - val_loss: 0.4184 - val_accuracy: 0.8617 - val_f1_score: 0.8617\n",
      "Epoch 40/60\n",
      "126/126 [==============================] - 1s 9ms/step - loss: 0.4256 - accuracy: 0.8541 - f1_score: 0.8541 - val_loss: 0.4053 - val_accuracy: 0.8633 - val_f1_score: 0.8633\n",
      "Epoch 41/60\n",
      "126/126 [==============================] - 1s 9ms/step - loss: 0.4303 - accuracy: 0.8476 - f1_score: 0.8476 - val_loss: 0.4676 - val_accuracy: 0.8600 - val_f1_score: 0.8600\n",
      "Epoch 42/60\n",
      "126/126 [==============================] - 1s 9ms/step - loss: 0.4113 - accuracy: 0.8580 - f1_score: 0.8580 - val_loss: 0.3650 - val_accuracy: 0.8717 - val_f1_score: 0.8717\n",
      "Epoch 43/60\n",
      "126/126 [==============================] - 1s 9ms/step - loss: 0.3993 - accuracy: 0.8629 - f1_score: 0.8629 - val_loss: 0.4059 - val_accuracy: 0.8783 - val_f1_score: 0.8783\n",
      "Epoch 44/60\n",
      "126/126 [==============================] - 1s 9ms/step - loss: 0.3879 - accuracy: 0.8682 - f1_score: 0.8682 - val_loss: 0.3804 - val_accuracy: 0.8733 - val_f1_score: 0.8733\n",
      "Epoch 45/60\n",
      "126/126 [==============================] - 1s 9ms/step - loss: 0.3648 - accuracy: 0.8773 - f1_score: 0.8773 - val_loss: 0.3773 - val_accuracy: 0.8833 - val_f1_score: 0.8833\n",
      "Epoch 46/60\n",
      "126/126 [==============================] - 1s 10ms/step - loss: 0.3810 - accuracy: 0.8663 - f1_score: 0.8663 - val_loss: 0.3883 - val_accuracy: 0.8717 - val_f1_score: 0.8717\n",
      "Epoch 47/60\n",
      "126/126 [==============================] - 1s 9ms/step - loss: 0.3960 - accuracy: 0.8637 - f1_score: 0.8637 - val_loss: 0.3759 - val_accuracy: 0.8817 - val_f1_score: 0.8817\n",
      "Epoch 48/60\n",
      "126/126 [==============================] - 1s 9ms/step - loss: 0.3682 - accuracy: 0.8737 - f1_score: 0.8737 - val_loss: 0.3888 - val_accuracy: 0.8817 - val_f1_score: 0.8817\n",
      "Epoch 49/60\n",
      "126/126 [==============================] - 1s 9ms/step - loss: 0.3789 - accuracy: 0.8698 - f1_score: 0.8698 - val_loss: 0.3855 - val_accuracy: 0.8633 - val_f1_score: 0.8633\n",
      "Epoch 50/60\n",
      "126/126 [==============================] - 1s 9ms/step - loss: 0.3897 - accuracy: 0.8677 - f1_score: 0.8677 - val_loss: 0.3514 - val_accuracy: 0.8833 - val_f1_score: 0.8833\n",
      "Epoch 51/60\n",
      "126/126 [==============================] - 1s 9ms/step - loss: 0.3592 - accuracy: 0.8767 - f1_score: 0.8767 - val_loss: 0.3640 - val_accuracy: 0.8867 - val_f1_score: 0.8867\n",
      "Epoch 52/60\n",
      "126/126 [==============================] - 2s 14ms/step - loss: 0.3379 - accuracy: 0.8861 - f1_score: 0.8861 - val_loss: 0.3432 - val_accuracy: 0.8867 - val_f1_score: 0.8867\n",
      "Epoch 53/60\n",
      "126/126 [==============================] - 1s 12ms/step - loss: 0.3500 - accuracy: 0.8800 - f1_score: 0.8800 - val_loss: 0.3812 - val_accuracy: 0.8800 - val_f1_score: 0.8800\n",
      "Epoch 54/60\n",
      "126/126 [==============================] - 2s 19ms/step - loss: 0.3540 - accuracy: 0.8787 - f1_score: 0.8787 - val_loss: 0.3385 - val_accuracy: 0.8850 - val_f1_score: 0.8850\n",
      "Epoch 55/60\n",
      "126/126 [==============================] - 3s 23ms/step - loss: 0.3403 - accuracy: 0.8829 - f1_score: 0.8829 - val_loss: 0.3522 - val_accuracy: 0.8900 - val_f1_score: 0.8900\n",
      "Epoch 56/60\n",
      "126/126 [==============================] - 2s 18ms/step - loss: 0.3300 - accuracy: 0.8854 - f1_score: 0.8854 - val_loss: 0.3741 - val_accuracy: 0.8700 - val_f1_score: 0.8700\n",
      "Epoch 57/60\n",
      "126/126 [==============================] - 2s 19ms/step - loss: 0.3345 - accuracy: 0.8831 - f1_score: 0.8831 - val_loss: 0.3535 - val_accuracy: 0.8883 - val_f1_score: 0.8883\n",
      "Epoch 58/60\n",
      "126/126 [==============================] - 2s 16ms/step - loss: 0.3350 - accuracy: 0.8818 - f1_score: 0.8818 - val_loss: 0.3523 - val_accuracy: 0.8933 - val_f1_score: 0.8933\n",
      "Epoch 59/60\n",
      "126/126 [==============================] - 2s 15ms/step - loss: 0.3205 - accuracy: 0.8913 - f1_score: 0.8913 - val_loss: 0.3886 - val_accuracy: 0.8633 - val_f1_score: 0.8633\n",
      "Epoch 60/60\n",
      "126/126 [==============================] - 1s 11ms/step - loss: 0.3181 - accuracy: 0.8847 - f1_score: 0.8847 - val_loss: 0.3775 - val_accuracy: 0.8850 - val_f1_score: 0.8850\n"
     ]
    }
   ],
   "source": [
    "epochs = 60\n",
    "tracker_4 = model_4.fit(x=X_train_aug_spectrogram, \n",
    "                        y=y_train_aug_onehot, \n",
    "                        validation_data=(X_test_spectrogram, y_test_onehot), \n",
    "                        epochs=epochs, \n",
    "                        batch_size=100)"
   ]
  },
  {
   "cell_type": "code",
   "execution_count": 122,
   "metadata": {
    "colab": {
     "base_uri": "https://localhost:8080/",
     "height": 404
    },
    "executionInfo": {
     "elapsed": 1152,
     "status": "ok",
     "timestamp": 1668537882639,
     "user": {
      "displayName": "Mohammed Saifuddin",
      "userId": "00132744978255071993"
     },
     "user_tz": -330
    },
    "id": "LpOIsH54lsF-",
    "outputId": "ec7711f5-d49e-4fc0-c828-7a5d520ff5ef"
   },
   "outputs": [
    {
     "data": {
      "image/png": "[encoded data removed]",
      "text/plain": [
       "<Figure size 1296x432 with 3 Axes>"
      ]
     },
     "metadata": {
      "needs_background": "light"
     },
     "output_type": "display_data"
    }
   ],
   "source": [
    "plot_model_performance(tracker=tracker_4, epochs=epochs)"
   ]
  },
  {
   "cell_type": "markdown",
   "metadata": {
    "id": "XIyCr7X7nHgJ"
   },
   "source": [
    "Conclusion:\n",
    "\n",
    "![](https://i.imgur.com/6bbLyjE.jpeg)\n",
    "\n",
    "Model1, Model3 have poor `f1_score` but Model2, Model4 have good `f1_score`."
   ]
  },
  {
   "cell_type": "code",
   "execution_count": null,
   "metadata": {
    "id": "Jaz4gu7Jnfnz"
   },
   "outputs": [],
   "source": []
  }
 ],
 "metadata": {
  "accelerator": "GPU",
  "colab": {
   "collapsed_sections": [],
   "provenance": []
  },
  "gpuClass": "standard",
  "kernelspec": {
   "display_name": "Python 3 (ipykernel)",
   "language": "python",
   "name": "python3"
  },
  "language_info": {
   "codemirror_mode": {
    "name": "ipython",
    "version": 3
   },
   "file_extension": ".py",
   "mimetype": "text/x-python",
   "name": "python",
   "nbconvert_exporter": "python",
   "pygments_lexer": "ipython3",
   "version": "3.10.8"
  }
 },
 "nbformat": 4,
 "nbformat_minor": 1
}
