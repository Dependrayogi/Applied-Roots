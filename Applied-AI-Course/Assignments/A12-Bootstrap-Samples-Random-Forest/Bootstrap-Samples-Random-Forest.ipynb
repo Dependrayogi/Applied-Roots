{
 "cells": [
  {
   "cell_type": "markdown",
   "metadata": {
    "id": "3sNKZq4XrXQh"
   },
   "source": [
    "# <font color='red'><b>Bootstrap assignment</b> </font>"
   ]
  },
  {
   "cell_type": "markdown",
   "metadata": {
    "id": "RAHap1Z3FZC-"
   },
   "source": [
    "<b>There will be some functions that start with the word \"grader\" ex: grader_sampples(), grader_30().. etc, you should not change those function definition.\n",
    "\n",
    "Every Grader function has to return True.</b>"
   ]
  },
  {
   "cell_type": "markdown",
   "metadata": {
    "id": "cuxBq_bvrwh2"
   },
   "source": [
    "<font color='blue'> <b>Importing packages</b> </font>"
   ]
  },
  {
   "cell_type": "code",
   "execution_count": 1,
   "metadata": {},
   "outputs": [],
   "source": [
    "import warnings\n",
    "warnings.filterwarnings('ignore')"
   ]
  },
  {
   "cell_type": "code",
   "execution_count": 2,
   "metadata": {
    "id": "m6ag91ijrQOs"
   },
   "outputs": [],
   "source": [
    "import numpy as np # importing numpy for numerical computation\n",
    "import random\n",
    "from sklearn.datasets import load_boston # here we are using sklearn's boston dataset\n",
    "from sklearn.metrics import mean_squared_error # importing mean_squared_error metric\n",
    "from sklearn.tree import DecisionTreeRegressor\n",
    "from tqdm import tqdm"
   ]
  },
  {
   "cell_type": "code",
   "execution_count": 3,
   "metadata": {
    "id": "CcHOsONTt1K_"
   },
   "outputs": [],
   "source": [
    "boston = load_boston()\n",
    "x = boston.data #independent variables\n",
    "y = boston.target #target variable"
   ]
  },
  {
   "cell_type": "code",
   "execution_count": 4,
   "metadata": {
    "colab": {
     "base_uri": "https://localhost:8080/",
     "height": 34
    },
    "id": "pc1htEFYuLRj",
    "outputId": "f5b60712-98b3-4cdc-b629-3546c1e3859c"
   },
   "outputs": [
    {
     "name": "stdout",
     "output_type": "stream",
     "text": [
      "(506, 13)\n"
     ]
    }
   ],
   "source": [
    "print(x.shape)"
   ]
  },
  {
   "cell_type": "code",
   "execution_count": 5,
   "metadata": {
    "colab": {
     "base_uri": "https://localhost:8080/",
     "height": 269
    },
    "id": "kQle3T_wuOa3",
    "outputId": "521c7bdd-5316-48d5-c534-b61d170d2c28",
    "scrolled": true
   },
   "outputs": [
    {
     "name": "stdout",
     "output_type": "stream",
     "text": [
      "[[6.3200e-03 1.8000e+01 2.3100e+00 0.0000e+00 5.3800e-01 6.5750e+00\n",
      "  6.5200e+01 4.0900e+00 1.0000e+00 2.9600e+02 1.5300e+01 3.9690e+02\n",
      "  4.9800e+00]\n",
      " [2.7310e-02 0.0000e+00 7.0700e+00 0.0000e+00 4.6900e-01 6.4210e+00\n",
      "  7.8900e+01 4.9671e+00 2.0000e+00 2.4200e+02 1.7800e+01 3.9690e+02\n",
      "  9.1400e+00]\n",
      " [2.7290e-02 0.0000e+00 7.0700e+00 0.0000e+00 4.6900e-01 7.1850e+00\n",
      "  6.1100e+01 4.9671e+00 2.0000e+00 2.4200e+02 1.7800e+01 3.9283e+02\n",
      "  4.0300e+00]\n",
      " [3.2370e-02 0.0000e+00 2.1800e+00 0.0000e+00 4.5800e-01 6.9980e+00\n",
      "  4.5800e+01 6.0622e+00 3.0000e+00 2.2200e+02 1.8700e+01 3.9463e+02\n",
      "  2.9400e+00]\n",
      " [6.9050e-02 0.0000e+00 2.1800e+00 0.0000e+00 4.5800e-01 7.1470e+00\n",
      "  5.4200e+01 6.0622e+00 3.0000e+00 2.2200e+02 1.8700e+01 3.9690e+02\n",
      "  5.3300e+00]]\n"
     ]
    }
   ],
   "source": [
    "print(x[:5])"
   ]
  },
  {
   "cell_type": "markdown",
   "metadata": {
    "id": "AEa_HqRZloH4"
   },
   "source": [
    "## <font color='red'><b>Task 1</b></font>"
   ]
  },
  {
   "cell_type": "markdown",
   "metadata": {
    "id": "YQ5q8IxHNRk3"
   },
   "source": [
    "<font color='red'> <b>Step - 1</b></font>"
   ]
  },
  {
   "cell_type": "markdown",
   "metadata": {
    "id": "GJCFCaOzl7Mr"
   },
   "source": [
    "*  <font color='blue'><b>Creating samples</b></font><br>\n",
    "    <b> Randomly create 30 samples from the whole boston data points</b>\n",
    "    *  Creating each sample: Consider any random 303(60% of 506) data points from whole data set and then replicate any 203 points from the sampled points\n",
    "    \n",
    "     For better understanding of this procedure lets check this examples, assume we have 10 data points [1,2,3,4,5,6,7,8,9,10], first we take 6 data points randomly , consider we have selected [4, 5, 7, 8, 9, 3] now we will replicate 4 points from [4, 5, 7, 8, 9, 3], consder they are [5, 8, 3,7] so our final sample will be [4, 5, 7, 8, 9, 3, 5, 8, 3,7]\n",
    "* <font color='blue'><b> Create 30 samples </b></font>\n",
    "    *  Note that as a part of the Bagging when you are taking the random samples <b>make sure each of the sample will have different set of columns</b><br>\n",
    "Ex: Assume we have 10 columns[1 ,2 ,3 ,4 ,5 ,6 ,7 ,8 ,9 ,10] for the first sample we will select [3, 4, 5, 9, 1, 2] and for the second sample  [7, 9, 1, 4, 5, 6, 2] and so on...\n",
    "Make sure each sample will have atleast 3 feautres/columns/attributes\n",
    "\n",
    "* <font color='red'><b> Note - While selecting the random 60% datapoints from the whole data, make sure that the selected datapoints are all exclusive, repetition is not allowed. </b></font>"
   ]
  },
  {
   "cell_type": "markdown",
   "metadata": {
    "id": "zUqFEBSvNjCa"
   },
   "source": [
    "<font color='red'><b>Step - 2 </b></font>"
   ]
  },
  {
   "cell_type": "markdown",
   "metadata": {
    "id": "uqi9AhCYNq3Z"
   },
   "source": [
    "* <font color='blue'><b>Building High Variance Models on each of the sample and finding train MSE value</b></font>\n",
    "    *  Build a regression trees on each of 30 samples.\n",
    "    *  Computed the predicted values of each data point(506 data points) in your corpus.\n",
    "    *  Predicted house price of $i^{th}$ data point $y^{i}_{pred} =  \\frac{1}{30}\\sum_{k=1}^{30}(\\text{predicted value of } x^{i} \\text{ with } k^{th} \\text{ model})$\n",
    "    *  Now calculate the $MSE =  \\frac{1}{506}\\sum_{i=1}^{506}(y^{i} - y^{i}_{pred})^{2}$"
   ]
  },
  {
   "cell_type": "markdown",
   "metadata": {
    "id": "Kls23JLnSN23"
   },
   "source": [
    "<font color='red'> <b>Step - 3 </b></font>"
   ]
  },
  {
   "cell_type": "markdown",
   "metadata": {
    "id": "rz2GchkGSWnh"
   },
   "source": [
    "*  <font color='blue'><b>Calculating the OOB score </b></font>\n",
    "    *  Predicted house price of $i^{th}$ data point $y^{i}_{pred} =  \\frac{1}{k}\\sum_{\\text{k= model which was buit on samples not included } x^{i}}(\\text{predicted value of } x^{i} \\text{ with } k^{th} \\text{ model})$.\n",
    "    *  Now calculate the $OOB Score =  \\frac{1}{506}\\sum_{i=1}^{506}(y^{i} - y^{i}_{pred})^{2}$."
   ]
  },
  {
   "cell_type": "markdown",
   "metadata": {
    "id": "RK860ocxTyoz"
   },
   "source": [
    "# <font color='red'><b>Task 2</b></font>"
   ]
  },
  {
   "cell_type": "markdown",
   "metadata": {
    "id": "1dme-N6TUCrY"
   },
   "source": [
    "*  <font color='blue'><b>Computing CI of OOB Score and Train MSE</b></font>\n",
    "  *   Repeat Task 1 for 35 times, and for each iteration store the Train MSE and OOB score </li>\n",
    "<li> After this we will have 35 Train MSE values and 35 OOB scores </li>\n",
    "<li> using these 35 values (assume like a sample) find the confidence intravels of MSE and OOB Score </li>\n",
    "<li> you need to report CI of MSE and CI of OOB Score </li>\n",
    "<li> Note: Refer the Central_Limit_theorem.ipynb to check how to find the confidence intravel</li>\n",
    "</ol>"
   ]
  },
  {
   "cell_type": "markdown",
   "metadata": {
    "id": "O6UcH1x9Uwrj"
   },
   "source": [
    "# <font color='red'><b>Task 3</b></font>"
   ]
  },
  {
   "cell_type": "markdown",
   "metadata": {
    "id": "bOC_AgsLU7OH"
   },
   "source": [
    "*  <font color='blue'><b>Given a single query point predict the price of house.</b></font>\n",
    "\n",
    "    * Consider xq= [0.18,20.0,5.00,0.0,0.421,5.60,72.2,7.95,7.0,30.0,19.1,372.13,18.60] \n",
    "    * Predict the house price for this point as mentioned in the step 2 of Task 1."
   ]
  },
  {
   "cell_type": "markdown",
   "metadata": {
    "id": "u6rShd89t552"
   },
   "source": [
    "## <font color='red'><b>A few key points</b></font>"
   ]
  },
  {
   "cell_type": "markdown",
   "metadata": {
    "id": "XdgTUXTouHEd"
   },
   "source": [
    "* Remember that the datapoints used for calculating MSE score contain some datapoints that were initially used while training the base learners (the 60% sampling). This makes these datapoints partially seen (i.e. the datapoints used for calculating the MSE score are a mixture of seen and unseen data).\n",
    "Whereas, the datapoints used for calculating OOB score have only the unseen data. This makes these datapoints completely unseen and therefore appropriate for testing the model's performance on unseen data.\n",
    "\n",
    "* Given the information above, if your logic is correct, the calculated MSE score should be less than the OOB score.\n",
    "\n",
    "* The MSE score must lie between 0 and 10.\n",
    "* The OOB score must lie between 10 and 35.\n",
    "\n",
    "* The difference between the left nad right confidence-interval values must not be more than 10. Make sure this is true for both MSE and OOB confidence-interval values."
   ]
  },
  {
   "cell_type": "markdown",
   "metadata": {
    "id": "V2fHTdS_zpgG"
   },
   "source": [
    "# <font color='blue'> <b>Task - 1</b></font>"
   ]
  },
  {
   "cell_type": "markdown",
   "metadata": {
    "id": "e0yGBuryOwHz"
   },
   "source": [
    "<font color='blue'><b>Step - 1</b></font>"
   ]
  },
  {
   "cell_type": "markdown",
   "metadata": {
    "id": "lJXX8vf3z073"
   },
   "source": [
    "*  <font color='blue'> <b>Creating samples</b></font>"
   ]
  },
  {
   "cell_type": "markdown",
   "metadata": {
    "id": "CSVaWG1F4uCZ"
   },
   "source": [
    "<font color='Orange'><b>Algorithm</b></font>\n",
    "\n",
    "![alt text](https://i.imgur.com/OfcFrUP.jpg/)"
   ]
  },
  {
   "cell_type": "markdown",
   "metadata": {
    "id": "f_oWoN97BhDY"
   },
   "source": [
    "*  <font color='blue'><b> Write code for generating samples</b></font>"
   ]
  },
  {
   "cell_type": "code",
   "execution_count": 6,
   "metadata": {
    "id": "Ph_6D2SDzz7F"
   },
   "outputs": [],
   "source": [
    "def generating_samples(input_data, target_data):\n",
    "    \"\"\"\n",
    "    In this function, we will write code for generating 30 samples.\n",
    "    \"\"\"\n",
    "    # you can use random.choice to generate random indices without replacement\n",
    "    # Please have a look at this link \n",
    "    # https://docs.scipy.org/doc/numpy-1.16.0/reference/generated/numpy.random.choice.html for more details\n",
    "    # Please follow above pseudo code for generating samples \n",
    "    # return sampled_input_data , sampled_target_data,selected_rows,selected_columns\n",
    "    # note please return as lists\n",
    "    \n",
    "    total_rows, total_cols = input_data.shape[0], input_data.shape[1]\n",
    "    selected_row_size = int(total_rows * 0.6)\n",
    "    replaced_row_size = total_rows - selected_row_size\n",
    "    random_col_size = random.randint(3, 13)\n",
    "    \n",
    "    selecting_rows = np.random.choice(a=total_rows, size=selected_row_size, replace=False)\n",
    "    replacing_rows = np.random.choice(a=selecting_rows, size=replaced_row_size, replace=True)\n",
    "    \n",
    "    selecting_columns = np.random.choice(a=total_cols, size=random_col_size, replace=False)\n",
    "    \n",
    "    sample_data = input_data[selecting_rows[:, None], selecting_columns]\n",
    "    target_sample_data = target_data[selecting_rows]\n",
    "    \n",
    "    replicated_sample_data = input_data[replacing_rows[:, None], selecting_columns]\n",
    "    target_replicated_sample_data = target_data[replacing_rows]\n",
    "    \n",
    "    final_sample_data = np.vstack(tup=(sample_data, replicated_sample_data))\n",
    "    final_target_data = np.vstack(tup=(target_sample_data.reshape(-1, 1),\n",
    "                                       target_replicated_sample_data.reshape(-1, 1)))\n",
    "    return final_sample_data, final_target_data, selecting_rows, selecting_columns"
   ]
  },
  {
   "cell_type": "markdown",
   "metadata": {
    "id": "MivEQFlm7iOg"
   },
   "source": [
    "<font color='cyan'> <b> Grader function - 1 </b> </fongt>"
   ]
  },
  {
   "cell_type": "code",
   "execution_count": 7,
   "metadata": {
    "id": "AVvuhNzm7uld"
   },
   "outputs": [
    {
     "data": {
      "text/plain": [
       "True"
      ]
     },
     "execution_count": 7,
     "metadata": {},
     "output_type": "execute_result"
    }
   ],
   "source": [
    "def grader_samples(a, b, c, d):\n",
    "    length = (len(a) == 506  and len(b) == 506)\n",
    "    sampled = (len(a) - len(set([str(i) for i in a])) == 203)\n",
    "    rows_length = (len(c) == 303)\n",
    "    column_length = (len(d) >= 3)\n",
    "    assert(length and sampled and rows_length and column_length)\n",
    "    return True\n",
    "a, b, c, d = generating_samples(input_data=x, target_data=y)\n",
    "grader_samples(a=a, b=b, c=c, d=d)"
   ]
  },
  {
   "cell_type": "markdown",
   "metadata": {
    "id": "b4LSsmn4Jn2_"
   },
   "source": [
    "*  <font color='blue'> <b>Create 30 samples </b>"
   ]
  },
  {
   "cell_type": "markdown",
   "metadata": {
    "id": "3ec7MN6sL2BZ"
   },
   "source": [
    "![alt text](https://i.imgur.com/p8eZaWL.jpg)"
   ]
  },
  {
   "cell_type": "code",
   "execution_count": 8,
   "metadata": {
    "id": "XXlKWjCcBvTk"
   },
   "outputs": [],
   "source": [
    "# Use generating_samples function to create 30 samples \n",
    "# store these created samples in a list\n",
    "\n",
    "def create_the_samples(input_data, target_data, samples=30):\n",
    "    \"\"\"\n",
    "    This function creates the samples.\n",
    "    \"\"\"\n",
    "    list_input_data = list()\n",
    "    list_output_data = list()\n",
    "    list_selected_row = list()\n",
    "    list_selected_columns = list()\n",
    "    for i in range(0, samples):\n",
    "        a, b, c, d = generating_samples(input_data=input_data, target_data=target_data)\n",
    "        list_input_data.append(a)\n",
    "        list_output_data.append(b)\n",
    "        list_selected_row.append(c)\n",
    "        list_selected_columns.append(d)\n",
    "    return (list_input_data,\n",
    "            list_output_data,\n",
    "            list_selected_row,\n",
    "            list_selected_columns)"
   ]
  },
  {
   "cell_type": "code",
   "execution_count": 9,
   "metadata": {},
   "outputs": [],
   "source": [
    "(list_input_data,\n",
    " list_output_data,\n",
    " list_selected_row,\n",
    " list_selected_columns) = create_the_samples(input_data=x, target_data=y)"
   ]
  },
  {
   "cell_type": "markdown",
   "metadata": {
    "id": "MXUz9VFiMQkh"
   },
   "source": [
    "<font color='cyan'> <b>Grader function - 2 </b></font>"
   ]
  },
  {
   "cell_type": "code",
   "execution_count": 10,
   "metadata": {
    "id": "hCvIq8NuMWOC"
   },
   "outputs": [
    {
     "data": {
      "text/plain": [
       "True"
      ]
     },
     "execution_count": 10,
     "metadata": {},
     "output_type": "execute_result"
    }
   ],
   "source": [
    "def grader_30(a):\n",
    "    assert(len(a) == 30 and len(a[0]) == 506)\n",
    "    return True\n",
    "grader_30(a=list_input_data)"
   ]
  },
  {
   "cell_type": "markdown",
   "metadata": {
    "id": "whaHCPB0O8qF"
   },
   "source": [
    "<font color='red'><b>Step - 2 </b></font>"
   ]
  },
  {
   "cell_type": "markdown",
   "metadata": {
    "id": "XBy4zXSWPtU8"
   },
   "source": [
    "<font color='orange'><b>Flowchart for building tree</b></font>"
   ]
  },
  {
   "cell_type": "markdown",
   "metadata": {
    "id": "5xvH06HPQBdP"
   },
   "source": [
    "![alt text](https://i.imgur.com/pcXfSmp.png)"
   ]
  },
  {
   "cell_type": "markdown",
   "metadata": {
    "id": "WRwPO_uHQjul"
   },
   "source": [
    "*  <font color='blue'><b> Write code for building regression trees</b></font>"
   ]
  },
  {
   "cell_type": "code",
   "execution_count": 11,
   "metadata": {
    "id": "YWQp6tRwMthq"
   },
   "outputs": [],
   "source": [
    "def fit_decision_regressor(list_input_data, list_output_data):\n",
    "    \"\"\"\n",
    "    This functions fits the decision regressors.\n",
    "    \"\"\"\n",
    "    list_of_all_models = list()\n",
    "    for input_x, target_y in zip(list_input_data, list_output_data):\n",
    "        model_i = DecisionTreeRegressor(max_depth=None)\n",
    "        model_i.fit(X=input_x, y=target_y)\n",
    "        list_of_all_models.append(model_i)\n",
    "    return list_of_all_models"
   ]
  },
  {
   "cell_type": "code",
   "execution_count": 12,
   "metadata": {},
   "outputs": [],
   "source": [
    "list_of_all_models = fit_decision_regressor(list_input_data=list_input_data,\n",
    "                                            list_output_data=list_output_data)"
   ]
  },
  {
   "cell_type": "markdown",
   "metadata": {
    "id": "21j8BKfAQ1U8"
   },
   "source": [
    "<font color='orange'><b>Flowchart for calculating MSE </b></font>"
   ]
  },
  {
   "cell_type": "markdown",
   "metadata": {
    "id": "8Q0mTBD2RBx_"
   },
   "source": [
    "![alt text](https://i.imgur.com/sPEE618.png)"
   ]
  },
  {
   "cell_type": "markdown",
   "metadata": {
    "id": "6e-UamlHRjPy"
   },
   "source": [
    "After getting predicted_y for each data point, we can use sklearns mean_squared_error to calculate the MSE between predicted_y and actual_y."
   ]
  },
  {
   "cell_type": "markdown",
   "metadata": {
    "id": "TnIMT7_oR312"
   },
   "source": [
    "*  <font color='blue'><b> Write code for calculating MSE</b></font>"
   ]
  },
  {
   "cell_type": "code",
   "execution_count": 13,
   "metadata": {
    "id": "qWhcvMRWRA9b"
   },
   "outputs": [],
   "source": [
    "def compute_mse(input_data, target_data, list_input_data, list_selected_columns, list_of_all_models):\n",
    "    \"\"\"\n",
    "    This function computes mean squared error for each data point using all the model_i.\n",
    "    \"\"\"\n",
    "    y_pred = list()\n",
    "    for data_point in input_data:\n",
    "        data_point_pred = list()\n",
    "        for i, model_i in enumerate(list_of_all_models):\n",
    "            Xi = data_point[list_selected_columns[i]]\n",
    "            y_cap = model_i.predict(X=Xi.reshape(1, -1))\n",
    "            data_point_pred.append(y_cap)\n",
    "        y_pred.append(np.mean(data_point_pred))\n",
    "    y_pred = np.array(y_pred)\n",
    "    mse = mean_squared_error(y_true=target_data, y_pred=y_pred)\n",
    "    return y_pred, mse"
   ]
  },
  {
   "cell_type": "code",
   "execution_count": 14,
   "metadata": {},
   "outputs": [
    {
     "name": "stdout",
     "output_type": "stream",
     "text": [
      "2.3213951877836325\n"
     ]
    }
   ],
   "source": [
    "_, mse = compute_mse(input_data=x,\n",
    "                     target_data=y,\n",
    "                     list_input_data=list_input_data,\n",
    "                     list_selected_columns=list_selected_columns,\n",
    "                     list_of_all_models=list_of_all_models)\n",
    "print(mse)"
   ]
  },
  {
   "cell_type": "markdown",
   "metadata": {
    "id": "RuclPDMnSz8F"
   },
   "source": [
    "<font color='blue'><b>Step - 3 </b></font>"
   ]
  },
  {
   "cell_type": "markdown",
   "metadata": {
    "id": "ESb9FSIDTM5V"
   },
   "source": [
    "<font color='orange'><b>Flowchart for calculating OOB score</b></font>"
   ]
  },
  {
   "cell_type": "markdown",
   "metadata": {
    "id": "HB-d6NMETbd9"
   },
   "source": [
    "![alt text](https://i.imgur.com/95S5Mtm.png)"
   ]
  },
  {
   "cell_type": "markdown",
   "metadata": {
    "id": "WW3GOcFzTqbt"
   },
   "source": [
    "Now calculate the $\\text{OOB Score} =  \\frac{1}{506}\\sum_{i=1}^{506}(y^{i} - y^{i}_{pred})^{2}$."
   ]
  },
  {
   "cell_type": "markdown",
   "metadata": {
    "id": "zBqcS03pUYSZ"
   },
   "source": [
    "*  <font color='blue'><b> Write code for calculating OOB score </b></font>"
   ]
  },
  {
   "cell_type": "code",
   "execution_count": 15,
   "metadata": {},
   "outputs": [],
   "source": [
    "def compute_oob(input_data, target_data, list_input_data, list_selected_columns, list_of_all_models):\n",
    "    \"\"\"\n",
    "    This function computes mean squared error for each data point using all the model_i.\n",
    "    \"\"\"\n",
    "    y_pred = list()\n",
    "    for data_point in input_data:\n",
    "        data_point_pred = list()\n",
    "        for i, model_i in enumerate(list_of_all_models):\n",
    "            Xi = data_point[list_selected_columns[i]]\n",
    "            if not any(np.equal(Xi, list_input_data[i]).all(1)):\n",
    "                y_cap = model_i.predict(X=Xi.reshape(1, -1))\n",
    "                data_point_pred.append(y_cap)\n",
    "        y_pred.append(np.mean(data_point_pred))\n",
    "    y_pred = np.array(y_pred)\n",
    "    mse = mean_squared_error(y_true=target_data, y_pred=y_pred)\n",
    "    return y_pred, mse"
   ]
  },
  {
   "cell_type": "code",
   "execution_count": 16,
   "metadata": {},
   "outputs": [
    {
     "name": "stdout",
     "output_type": "stream",
     "text": [
      "14.793952404025633\n"
     ]
    }
   ],
   "source": [
    "_, oob = compute_oob(input_data=x,\n",
    "                     target_data=y,\n",
    "                     list_input_data=list_input_data,\n",
    "                     list_selected_columns=list_selected_columns,\n",
    "                     list_of_all_models=list_of_all_models)\n",
    "print(oob)"
   ]
  },
  {
   "cell_type": "markdown",
   "metadata": {
    "id": "sbuiwX3OUjUI"
   },
   "source": [
    "# <font color='blue'><b>Task 2</b></font>"
   ]
  },
  {
   "cell_type": "code",
   "execution_count": 17,
   "metadata": {},
   "outputs": [],
   "source": [
    "def get_mse_oob_scores(input_data, target_data, times=35):\n",
    "    \"\"\"\n",
    "    This function gets the mse and oob scores.\n",
    "    \"\"\"\n",
    "    mse_scores = list()\n",
    "    oob_scores = list()\n",
    "    for t in tqdm(range(times)):\n",
    "        (list_input_data,\n",
    "         list_output_data,\n",
    "         list_selected_row,\n",
    "         list_selected_columns) = create_the_samples(input_data=x, target_data=y)\n",
    "        list_of_all_models = fit_decision_regressor(list_input_data=list_input_data,\n",
    "                                                    list_output_data=list_output_data)\n",
    "        _, mse = compute_mse(input_data=input_data,\n",
    "                             target_data=target_data,\n",
    "                             list_input_data=list_input_data,\n",
    "                             list_selected_columns=list_selected_columns,\n",
    "                             list_of_all_models=list_of_all_models)\n",
    "        _, oob = compute_oob(input_data=input_data,\n",
    "                             target_data=target_data,\n",
    "                             list_input_data=list_input_data,\n",
    "                             list_selected_columns=list_selected_columns,\n",
    "                             list_of_all_models=list_of_all_models)\n",
    "        mse_scores.append(mse)\n",
    "        oob_scores.append(oob)\n",
    "    return mse_scores, oob_scores"
   ]
  },
  {
   "cell_type": "code",
   "execution_count": 18,
   "metadata": {},
   "outputs": [
    {
     "name": "stderr",
     "output_type": "stream",
     "text": [
      "100%|███████████████████████████████████████████████████████████████████| 35/35 [00:33<00:00,  1.05it/s]\n"
     ]
    }
   ],
   "source": [
    "mse_scores, oob_scores = get_mse_oob_scores(input_data=x, target_data=y)"
   ]
  },
  {
   "cell_type": "code",
   "execution_count": 19,
   "metadata": {},
   "outputs": [],
   "source": [
    "def compute_ci(scores):\n",
    "    \"\"\"\n",
    "    This function computes the Confidence Interval.\n",
    "    \"\"\"\n",
    "    scores = np.array(scores)\n",
    "    n = len(scores)\n",
    "    sample_mean = np.mean(a=scores)\n",
    "    sample_std = np.sqrt(np.sum((scores - sample_mean) ** 2) / (n - 1))\n",
    "    std_error = sample_std / np.sqrt(n)\n",
    "    lower = sample_mean - (2 * std_error)\n",
    "    upper = sample_mean + (2 * std_error)\n",
    "    return [lower, upper]"
   ]
  },
  {
   "cell_type": "code",
   "execution_count": 20,
   "metadata": {},
   "outputs": [
    {
     "name": "stdout",
     "output_type": "stream",
     "text": [
      "Confidence Interval for MSE Scores → [2.2787120038900204, 2.47229466684713]\n"
     ]
    }
   ],
   "source": [
    "mse_ci = compute_ci(scores=mse_scores)\n",
    "print(\"Confidence Interval for MSE Scores → {}\".format(mse_ci))"
   ]
  },
  {
   "cell_type": "code",
   "execution_count": 21,
   "metadata": {},
   "outputs": [
    {
     "name": "stdout",
     "output_type": "stream",
     "text": [
      "Confidence Interval for OOB Scores → [13.151759318491756, 14.088865314856918]\n"
     ]
    }
   ],
   "source": [
    "oob_ci = compute_ci(scores=oob_scores)\n",
    "print(\"Confidence Interval for OOB Scores → {}\".format(oob_ci))"
   ]
  },
  {
   "cell_type": "markdown",
   "metadata": {
    "id": "jKTnJdiBVS_e"
   },
   "source": [
    "# <font color='blue'><b>Task 3</b></font>"
   ]
  },
  {
   "cell_type": "markdown",
   "metadata": {
    "id": "eXxrvZqHV1Fr"
   },
   "source": [
    "<font color='orange'><b>Flowchart for Task 3</b></font>"
   ]
  },
  {
   "cell_type": "markdown",
   "metadata": {
    "id": "NyjwEJ62V6a6"
   },
   "source": [
    "<b>Hint: </b> We created 30 models by using 30 samples in TASK-1. Here, we need send query point \"xq\"  to 30 models and perform the regression on the output generated by 30 models."
   ]
  },
  {
   "cell_type": "markdown",
   "metadata": {
    "id": "0emSwLL7VurD"
   },
   "source": [
    "![alt text](https://i.imgur.com/Y5cNhQk.png)"
   ]
  },
  {
   "cell_type": "markdown",
   "metadata": {
    "id": "29hjwKlWWDfo"
   },
   "source": [
    "*  <font color='blue'><b> Write code for TASK 3 </b></font>"
   ]
  },
  {
   "cell_type": "code",
   "execution_count": 22,
   "metadata": {
    "id": "i_pUlSD-VYD1"
   },
   "outputs": [],
   "source": [
    "def predict_xq(X_q, list_input_data, list_selected_columns, list_of_all_models):\n",
    "    \"\"\"\n",
    "    This function predicts the query point.\n",
    "    \"\"\"\n",
    "    X_q = np.array(X_q)\n",
    "    preds = list()\n",
    "    for i, model_i in enumerate(list_of_all_models):\n",
    "        X_q_by_feature = X_q[list_selected_columns[i]]\n",
    "        p = model_i.predict(X=X_q_by_feature.reshape(1, -1))\n",
    "        preds.append(p)\n",
    "    preds = np.array(preds)\n",
    "    prediction = np.mean(preds)\n",
    "    return prediction"
   ]
  },
  {
   "cell_type": "code",
   "execution_count": 23,
   "metadata": {},
   "outputs": [
    {
     "name": "stdout",
     "output_type": "stream",
     "text": [
      "19.863333333333333\n"
     ]
    }
   ],
   "source": [
    "X_q = [0.18, 20.0, 5.00, 0.0, 0.421, 5.60, 72.2, 7.95, 7.0, 30.0, 19.1, 372.13, 18.60]\n",
    "prediction = predict_xq(X_q=X_q,\n",
    "                        list_input_data=list_input_data,\n",
    "                        list_selected_columns=list_selected_columns,\n",
    "                        list_of_all_models=list_of_all_models)\n",
    "print(prediction)"
   ]
  },
  {
   "cell_type": "markdown",
   "metadata": {
    "id": "IOdUi-0xWOJ9"
   },
   "source": [
    "<font color='red'><b>Write observations for task 1, task 2, task 3 in detail.</b></font>"
   ]
  },
  {
   "cell_type": "markdown",
   "metadata": {
    "id": "AIcax45hWKT-"
   },
   "source": [
    "In this assignment, I have learned how bagging is implemented. I am clear with the concept. The flow charts and pseudo codes are really of great help.\n",
    "\n",
    "The size of the data is very small. Hence, the training was very faster.\n",
    "\n",
    "- In task 1, I learned the process of sampling with replacement and constructing the Random Forest with dense regressors.\n",
    "\n",
    "- In task 2, I learned computing the CI. The MSE for training data is 2.321 and is within the confidence interval → [2.278, 2.472].\n",
    "\n",
    "- In task 3, I learned how to predict a new query point. And this is very useful lesson."
   ]
  },
  {
   "cell_type": "markdown",
   "metadata": {},
   "source": [
    "End of the file."
   ]
  }
 ],
 "metadata": {
  "colab": {
   "collapsed_sections": [],
   "name": "Bootstrap_assignment.ipynb",
   "provenance": []
  },
  "kernelspec": {
   "display_name": "Python 3 (ipykernel)",
   "language": "python",
   "name": "python3"
  },
  "language_info": {
   "codemirror_mode": {
    "name": "ipython",
    "version": 3
   },
   "file_extension": ".py",
   "mimetype": "text/x-python",
   "name": "python",
   "nbconvert_exporter": "python",
   "pygments_lexer": "ipython3",
   "version": "3.10.4"
  }
 },
 "nbformat": 4,
 "nbformat_minor": 1
}
