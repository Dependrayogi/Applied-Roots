{
 "cells": [
  {
   "cell_type": "markdown",
   "id": "6018ee63",
   "metadata": {},
   "source": [
    "#### Add bi-grams and n-gram features on byte files and improve the log-loss."
   ]
  },
  {
   "cell_type": "code",
   "execution_count": 1,
   "id": "12510dc8",
   "metadata": {},
   "outputs": [],
   "source": [
    "import warnings\n",
    "warnings.filterwarnings('ignore')"
   ]
  },
  {
   "cell_type": "code",
   "execution_count": 2,
   "id": "89d417e4",
   "metadata": {},
   "outputs": [],
   "source": [
    "import glob\n",
    "import numpy as np\n",
    "import os\n",
    "import pandas as pd\n",
    "import pickle\n",
    "import shutil\n",
    "import random as r"
   ]
  },
  {
   "cell_type": "code",
   "execution_count": 3,
   "id": "e8fdb018",
   "metadata": {},
   "outputs": [],
   "source": [
    "from scipy import sparse\n",
    "from scipy.sparse import csr_matrix"
   ]
  },
  {
   "cell_type": "code",
   "execution_count": 4,
   "id": "b07a883a",
   "metadata": {},
   "outputs": [],
   "source": [
    "from sklearn.feature_extraction.text import CountVectorizer"
   ]
  },
  {
   "cell_type": "code",
   "execution_count": 5,
   "id": "d5c8a425",
   "metadata": {},
   "outputs": [],
   "source": [
    "from tqdm import tqdm"
   ]
  },
  {
   "cell_type": "code",
   "execution_count": 6,
   "id": "02e2e012",
   "metadata": {},
   "outputs": [],
   "source": [
    "features_string = \"\"\"\n",
    "00,01,02,03,04,05,06,07,08,09,0a,0b,0c,0d,0e,0f,\n",
    "10,11,12,13,14,15,16,17,18,19,1a,1b,1c,1d,1e,1f,\n",
    "20,21,22,23,24,25,26,27,28,29,2a,2b,2c,2d,2e,2f,\n",
    "30,31,32,33,34,35,36,37,38,39,3a,3b,3c,3d,3e,3f,\n",
    "40,41,42,43,44,45,46,47,48,49,4a,4b,4c,4d,4e,4f,\n",
    "50,51,52,53,54,55,56,57,58,59,5a,5b,5c,5d,5e,5f,\n",
    "60,61,62,63,64,65,66,67,68,69,6a,6b,6c,6d,6e,6f,\n",
    "70,71,72,73,74,75,76,77,78,79,7a,7b,7c,7d,7e,7f,\n",
    "80,81,82,83,84,85,86,87,88,89,8a,8b,8c,8d,8e,8f,\n",
    "90,91,92,93,94,95,96,97,98,99,9a,9b,9c,9d,9e,9f,\n",
    "a0,a1,a2,a3,a4,a5,a6,a7,a8,a9,aa,ab,ac,ad,ae,af,\n",
    "b0,b1,b2,b3,b4,b5,b6,b7,b8,b9,ba,bb,bc,bd,be,bf,\n",
    "c0,c1,c2,c3,c4,c5,c6,c7,c8,c9,ca,cb,cc,cd,ce,cf,\n",
    "d0,d1,d2,d3,d4,d5,d6,d7,d8,d9,da,db,dc,dd,de,df,\n",
    "e0,e1,e2,e3,e4,e5,e6,e7,e8,e9,ea,eb,ec,ed,ee,ef,\n",
    "f0,f1,f2,f3,f4,f5,f6,f7,f8,f9,fa,fb,fc,fd,fe,ff,\n",
    "??\n",
    "\"\"\"\n",
    "features_string = features_string.replace('\\n', '')"
   ]
  },
  {
   "cell_type": "code",
   "execution_count": 7,
   "id": "2b0f83f8",
   "metadata": {},
   "outputs": [],
   "source": [
    "unigram_list = features_string.split(',')"
   ]
  },
  {
   "cell_type": "code",
   "execution_count": 8,
   "id": "23a7f3ae",
   "metadata": {},
   "outputs": [],
   "source": [
    "bigram_list = ['{} {}'.format(i, j)\n",
    "               for i in unigram_list\n",
    "               for j in unigram_list]"
   ]
  },
  {
   "cell_type": "code",
   "execution_count": 9,
   "id": "0e171e7d",
   "metadata": {},
   "outputs": [],
   "source": [
    "bigram_vect = CountVectorizer(ngram_range=(2, 2), vocabulary=bigram_list, lowercase=False)"
   ]
  },
  {
   "cell_type": "code",
   "execution_count": 10,
   "id": "0531d47f",
   "metadata": {},
   "outputs": [],
   "source": [
    "src_path = '../../Modules/M06-ML-Case-Studies/06-Microsoft-Malware-Detection/data/train/train_bytes_files/'\n",
    "dest_path = os.path.join(os.getcwd(), 'data/npz_bytes/')"
   ]
  },
  {
   "cell_type": "code",
   "execution_count": 11,
   "id": "2fedc61d",
   "metadata": {},
   "outputs": [],
   "source": [
    "total_features = len(bigram_list)"
   ]
  },
  {
   "cell_type": "code",
   "execution_count": 12,
   "id": "1af8c25b",
   "metadata": {},
   "outputs": [],
   "source": [
    "file_ids = pd.read_csv(filepath_or_buffer='data/trainLabels.csv')['Id'].to_list()"
   ]
  },
  {
   "cell_type": "markdown",
   "id": "c63288b0",
   "metadata": {},
   "source": [
    "Save / load scipy sparse csr_matrix in portable data format.\n",
    "\n",
    "Reference: https://stackoverflow.com/a/8980156/7579443"
   ]
  },
  {
   "cell_type": "code",
   "execution_count": 13,
   "id": "4075a38c",
   "metadata": {},
   "outputs": [],
   "source": [
    "def bag_of_words(src_path, dest_path, file_ids, total_features, vect, final_file_name):\n",
    "    \"\"\"\n",
    "    This function fetches the bag of word representation.\n",
    "    \"\"\"\n",
    "    feature_matrix = csr_matrix((len(file_ids), total_features))\n",
    "    k = 0\n",
    "    for f_id in tqdm(file_ids):\n",
    "        with open(file=os.path.join(src_path, f_id+'.txt'), mode='r') as b_t_f:\n",
    "            feature_matrix[k, :] = csr_matrix(vect.transform(raw_documents=[b_t_f.read().replace('\\n', ' ').lower()]))\n",
    "        k += 1\n",
    "    sparse.save_npz(file=os.path.join(dest_path, final_file_name), matrix=feature_matrix)\n",
    "    print(\"Done!\")"
   ]
  },
  {
   "cell_type": "markdown",
   "id": "50de3a36",
   "metadata": {},
   "source": [
    "The below code ran for __11+__ hours to create a unified csr_matrix for bi-gram features."
   ]
  },
  {
   "cell_type": "code",
   "execution_count": 14,
   "id": "1dc8312b",
   "metadata": {},
   "outputs": [
    {
     "name": "stdout",
     "output_type": "stream",
     "text": [
      "Data already exists!\n"
     ]
    }
   ],
   "source": [
    "final_file_name = 'all_bytes_bigram.npz'\n",
    "if not os.path.isfile(path=os.path.join(dest_path, final_file_name)):\n",
    "    bag_of_words(src_path=src_path,\n",
    "                 dest_path=dest_path,\n",
    "                 file_ids=file_ids,\n",
    "                 total_features=total_features,\n",
    "                 vect=bigram_vect,\n",
    "                 final_file_name=final_file_name)\n",
    "else:\n",
    "    print(\"Data already exists!\")"
   ]
  },
  {
   "cell_type": "code",
   "execution_count": null,
   "id": "fdad0d98",
   "metadata": {},
   "outputs": [],
   "source": []
  }
 ],
 "metadata": {
  "kernelspec": {
   "display_name": "Python 3 (ipykernel)",
   "language": "python",
   "name": "python3"
  },
  "language_info": {
   "codemirror_mode": {
    "name": "ipython",
    "version": 3
   },
   "file_extension": ".py",
   "mimetype": "text/x-python",
   "name": "python",
   "nbconvert_exporter": "python",
   "pygments_lexer": "ipython3",
   "version": "3.10.6"
  }
 },
 "nbformat": 4,
 "nbformat_minor": 5
}
