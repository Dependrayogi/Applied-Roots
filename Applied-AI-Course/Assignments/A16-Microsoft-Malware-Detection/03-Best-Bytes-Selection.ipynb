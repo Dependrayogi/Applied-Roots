{
 "cells": [
  {
   "cell_type": "markdown",
   "metadata": {},
   "source": [
    "Selecting best `k` features from bigram bytes."
   ]
  },
  {
   "cell_type": "code",
   "execution_count": 1,
   "metadata": {
    "id": "3fRjCIBeT7sb"
   },
   "outputs": [],
   "source": [
    "import warnings\n",
    "warnings.filterwarnings('ignore')"
   ]
  },
  {
   "cell_type": "code",
   "execution_count": 2,
   "metadata": {
    "colab": {
     "base_uri": "https://localhost:8080/"
    },
    "id": "uo9efSHqVleh",
    "outputId": "f9da9f68-e8ac-42e0-8301-6889b17f6c69"
   },
   "outputs": [
    {
     "name": "stdout",
     "output_type": "stream",
     "text": [
      "Drive already mounted at /content/drive; to attempt to forcibly remount, call drive.mount(\"/content/drive\", force_remount=True).\n"
     ]
    }
   ],
   "source": [
    "from google.colab import drive\n",
    "drive.mount('/content/drive')"
   ]
  },
  {
   "cell_type": "code",
   "execution_count": 3,
   "metadata": {
    "id": "372lUvpPUds2"
   },
   "outputs": [],
   "source": [
    "from sklearn.feature_selection import SelectKBest"
   ]
  },
  {
   "cell_type": "code",
   "execution_count": 4,
   "metadata": {
    "id": "N74wR7J-Uy5V"
   },
   "outputs": [],
   "source": [
    "from scipy import sparse"
   ]
  },
  {
   "cell_type": "code",
   "execution_count": 5,
   "metadata": {
    "id": "3uQ_1X6vVGzt"
   },
   "outputs": [],
   "source": [
    "from matplotlib import pyplot as plt\n",
    "from matplotlib import style\n",
    "style.use(style='seaborn-deep')"
   ]
  },
  {
   "cell_type": "code",
   "execution_count": 6,
   "metadata": {
    "id": "_UfQGQVhVO-S"
   },
   "outputs": [],
   "source": [
    "import numpy as np\n",
    "import os\n",
    "import pandas as pd"
   ]
  },
  {
   "cell_type": "code",
   "execution_count": 7,
   "metadata": {
    "colab": {
     "base_uri": "https://localhost:8080/"
    },
    "id": "3W6KmzgjVUW7",
    "outputId": "f6427758-c4d5-440b-ba40-32a6c5e1e84a"
   },
   "outputs": [
    {
     "name": "stdout",
     "output_type": "stream",
     "text": [
      "/content/drive/MyDrive/Applied-AI/Assignment-16/data/all_bytes_bigram.npz\n"
     ]
    }
   ],
   "source": [
    "src_path = '/content/drive/MyDrive/Applied-AI/Assignment-16/data'\n",
    "npz_file = os.path.join(src_path, 'all_bytes_bigram.npz')\n",
    "print(npz_file)"
   ]
  },
  {
   "cell_type": "code",
   "execution_count": 8,
   "metadata": {
    "colab": {
     "base_uri": "https://localhost:8080/"
    },
    "id": "FiIN7WxucWRc",
    "outputId": "6e9d83e0-99e6-49e2-d81f-207cd265c864"
   },
   "outputs": [
    {
     "name": "stdout",
     "output_type": "stream",
     "text": [
      "File size: 1042.47 MB.\n"
     ]
    }
   ],
   "source": [
    "file_size = round((os.path.getsize(filename=os.path.join(src_path, npz_file)) / (1024**2)), 2)\n",
    "print(\"File size: {} MB.\".format(file_size))"
   ]
  },
  {
   "cell_type": "markdown",
   "metadata": {
    "id": "Zy-6Y5t_ZFZu"
   },
   "source": [
    "Note: When I was creating `all_bytes_bigram.npz` file, I picked files from the disk in the same order provided by `trainLabels.csv` file. Hence, we need not worry about class labels appropriately mapping to our bigram byte features."
   ]
  },
  {
   "cell_type": "code",
   "execution_count": 9,
   "metadata": {
    "colab": {
     "base_uri": "https://localhost:8080/"
    },
    "id": "L7vPVR-FVUUD",
    "outputId": "13a23298-e53f-4e30-9e4c-56263d8f2eab"
   },
   "outputs": [
    {
     "name": "stdout",
     "output_type": "stream",
     "text": [
      "(10868, 66049)\n"
     ]
    }
   ],
   "source": [
    "X = sparse.load_npz(file=npz_file)\n",
    "print(X.shape)"
   ]
  },
  {
   "cell_type": "code",
   "execution_count": 10,
   "metadata": {
    "id": "0w1he5XpYJWY"
   },
   "outputs": [],
   "source": [
    "label_df = pd.read_csv(filepath_or_buffer=os.path.join(src_path, 'trainLabels.csv'))"
   ]
  },
  {
   "cell_type": "code",
   "execution_count": 11,
   "metadata": {
    "colab": {
     "base_uri": "https://localhost:8080/"
    },
    "id": "_kDhSavhYISr",
    "outputId": "ea15219f-60c4-43ee-f6cc-72fa3b9d43a7"
   },
   "outputs": [
    {
     "name": "stdout",
     "output_type": "stream",
     "text": [
      "(10868,)\n"
     ]
    }
   ],
   "source": [
    "y = label_df['Class'].values\n",
    "print(y.shape)"
   ]
  },
  {
   "cell_type": "code",
   "execution_count": 12,
   "metadata": {
    "id": "V6pZow55VUSN"
   },
   "outputs": [],
   "source": [
    "k = 2000"
   ]
  },
  {
   "cell_type": "code",
   "execution_count": 13,
   "metadata": {
    "id": "3cgCmp4QVUQK"
   },
   "outputs": [],
   "source": [
    "X_new = SelectKBest(k=k).fit_transform(X=X, y=y)"
   ]
  },
  {
   "cell_type": "code",
   "execution_count": 14,
   "metadata": {
    "colab": {
     "base_uri": "https://localhost:8080/"
    },
    "id": "WrDOCDA4VSDK",
    "outputId": "623703c4-ac9e-423a-856b-4d79f5414dec"
   },
   "outputs": [
    {
     "name": "stdout",
     "output_type": "stream",
     "text": [
      "(10868, 2000)\n"
     ]
    }
   ],
   "source": [
    "print(X_new.shape)"
   ]
  },
  {
   "cell_type": "code",
   "execution_count": 15,
   "metadata": {
    "colab": {
     "base_uri": "https://localhost:8080/"
    },
    "id": "_3jrt92eVSAX",
    "outputId": "770284eb-6f40-4487-e396-25403b885a37",
    "scrolled": true
   },
   "outputs": [
    {
     "name": "stdout",
     "output_type": "stream",
     "text": [
      "<class 'scipy.sparse.csr.csr_matrix'>\n"
     ]
    }
   ],
   "source": [
    "print(type(X_new))"
   ]
  },
  {
   "cell_type": "code",
   "execution_count": 16,
   "metadata": {
    "id": "zTdMqQBsVR-I"
   },
   "outputs": [],
   "source": [
    "final_file_name = 'best_k_bytes_bigram.npz'\n",
    "sparse.save_npz(file=os.path.join(src_path, final_file_name), matrix=X_new)"
   ]
  },
  {
   "cell_type": "code",
   "execution_count": 17,
   "metadata": {
    "colab": {
     "base_uri": "https://localhost:8080/"
    },
    "id": "7PCRHlBSVR71",
    "outputId": "11e8b300-e29d-49cf-981a-99032e4e1dc1"
   },
   "outputs": [
    {
     "name": "stdout",
     "output_type": "stream",
     "text": [
      "File size after selecting best 2000 features: 14.9 MB.\n"
     ]
    }
   ],
   "source": [
    "file_size = round((os.path.getsize(filename=os.path.join(src_path, final_file_name)) / (1024**2)), 2)\n",
    "print(\"File size after selecting best {} features: {} MB.\".format(k, file_size))"
   ]
  },
  {
   "cell_type": "markdown",
   "metadata": {
    "id": "Z2awC-dfcR18"
   },
   "source": [
    "End of the file."
   ]
  }
 ],
 "metadata": {
  "colab": {
   "collapsed_sections": [],
   "machine_shape": "hm",
   "provenance": []
  },
  "gpuClass": "standard",
  "kernelspec": {
   "display_name": "Python 3 (ipykernel)",
   "language": "python",
   "name": "python3"
  },
  "language_info": {
   "codemirror_mode": {
    "name": "ipython",
    "version": 3
   },
   "file_extension": ".py",
   "mimetype": "text/x-python",
   "name": "python",
   "nbconvert_exporter": "python",
   "pygments_lexer": "ipython3",
   "version": "3.10.6"
  }
 },
 "nbformat": 4,
 "nbformat_minor": 1
}
