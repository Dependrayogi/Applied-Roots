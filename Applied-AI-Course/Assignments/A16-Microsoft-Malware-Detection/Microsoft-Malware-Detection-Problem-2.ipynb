{
 "cells": [
  {
   "cell_type": "markdown",
   "id": "b81d375a",
   "metadata": {},
   "source": [
    "#### Watch this [video](https://www.youtube.com/watch?v=VLQTRlLGz5Y#t=13m11s) and include pixel intensity features to improve the log-loss."
   ]
  },
  {
   "cell_type": "code",
   "execution_count": 1,
   "id": "ba3c76b7",
   "metadata": {},
   "outputs": [],
   "source": [
    "import warnings\n",
    "warnings.filterwarnings('ignore')"
   ]
  },
  {
   "cell_type": "code",
   "execution_count": 2,
   "id": "a30d2d74",
   "metadata": {},
   "outputs": [],
   "source": [
    "import array\n",
    "import codecs\n",
    "import glob\n",
    "import numpy as np\n",
    "import os\n",
    "import pandas as pd\n",
    "import pickle\n",
    "import shutil\n",
    "import random as r"
   ]
  },
  {
   "cell_type": "code",
   "execution_count": 3,
   "id": "4ae8cf0c",
   "metadata": {},
   "outputs": [],
   "source": [
    "from tqdm import tqdm"
   ]
  },
  {
   "cell_type": "markdown",
   "id": "e6a30a4d",
   "metadata": {},
   "source": [
    "Below is the code snippet, winners used.\n",
    "\n",
    "```python\n",
    "with codecs.open(filename=os.path.join(src_path, 'xx.asm'), mode='rb') as asm_f:\n",
    "    ln = os.path.getsize(os.path.join(src_path, 'xx.asm'))\n",
    "    width = int(ln ** 0.5)\n",
    "    rem = ln % width\n",
    "    a = array.array(\"B\")\n",
    "    a.fromfile(asm_f, ln-rem)\n",
    "g = np.reshape(a, new_shape=(len(a)//width, width))\n",
    "g = np.uint8(g)\n",
    "```\n",
    "\n",
    "But I have slightly modified from my end. I will be using `array.frombytes(s)` method instead of `array.fromfile(f, n)` method."
   ]
  },
  {
   "cell_type": "code",
   "execution_count": 4,
   "id": "992f3b11",
   "metadata": {},
   "outputs": [],
   "source": [
    "src_path = '../../Modules/M06-ML-Case-Studies/06-Microsoft-Malware-Detection/data/train/train_asm_files/'\n",
    "dest_path = os.path.join(os.getcwd(), 'data/csv_asms/')"
   ]
  },
  {
   "cell_type": "code",
   "execution_count": 5,
   "id": "0f59d661",
   "metadata": {},
   "outputs": [
    {
     "name": "stdout",
     "output_type": "stream",
     "text": [
      "10868\n"
     ]
    }
   ],
   "source": [
    "no_of_files = len(os.listdir(path=src_path))\n",
    "print(no_of_files)"
   ]
  },
  {
   "cell_type": "code",
   "execution_count": 6,
   "id": "da15ed09",
   "metadata": {},
   "outputs": [],
   "source": [
    "def get_segments_and_filenames(no_of_files, step=500):\n",
    "    \"\"\"\n",
    "    This function returns segments and filenames based on segments.\n",
    "    \"\"\"\n",
    "    segments = list()\n",
    "    filenames = list()\n",
    "    range_list = list(range(0, no_of_files, step))\n",
    "    for i in range(len(range_list) - 1):\n",
    "        segment = [range_list[i], range_list[i + 1]]\n",
    "        segments.append(segment)\n",
    "        segment_file = '{:06d}_{:06d}.csv'.format(segment[0], segment[1])\n",
    "        filenames.append(segment_file)\n",
    "    segments.append([range_list[-1], no_of_files])\n",
    "    filenames.append('{:06d}_{:06d}.csv'.format(range_list[-1], no_of_files))\n",
    "    return segments, filenames"
   ]
  },
  {
   "cell_type": "code",
   "execution_count": 7,
   "id": "ed102a9b",
   "metadata": {},
   "outputs": [],
   "source": [
    "segments, seg_filenames = get_segments_and_filenames(no_of_files=no_of_files)"
   ]
  },
  {
   "cell_type": "code",
   "execution_count": 8,
   "id": "04c78b8e",
   "metadata": {},
   "outputs": [],
   "source": [
    "file_ids = pd.read_csv(filepath_or_buffer='data/trainLabels.csv')['Id'].to_list()"
   ]
  },
  {
   "cell_type": "code",
   "execution_count": 9,
   "id": "4504372d",
   "metadata": {},
   "outputs": [],
   "source": [
    "def asm_to_pixel_flatten(filename, how_many_pixels=800):\n",
    "    \"\"\"\n",
    "    This function fetches the pixel values from asm files.\n",
    "    Winners used 800 pixles based on cross validation.\n",
    "    \"\"\"\n",
    "    with codecs.open(filename=filename, mode='rb') as asm_f:\n",
    "        a = array.array(\"B\")\n",
    "        a.frombytes(asm_f.read())\n",
    "    p_arr = np.uint8(a[:how_many_pixels])\n",
    "    return p_arr"
   ]
  },
  {
   "cell_type": "code",
   "execution_count": 10,
   "id": "e13cd4db",
   "metadata": {},
   "outputs": [],
   "source": [
    "def asm_image_featurization(src_path, dest_path, file_ids, segments, seg_filenames):\n",
    "    \"\"\"\n",
    "    This function does asm image featurization.\n",
    "    \"\"\"\n",
    "    for (segment, seg_filename) in zip(segments, seg_filenames):\n",
    "        if os.path.isfile(path=os.path.join(dest_path, seg_filename)):\n",
    "            print(\"This file '{}' already exists in the destination, hence skipping.\".format(seg_filename))\n",
    "        else:\n",
    "            print(\"The script is working on the segment: {}.\".format(segment))\n",
    "            seg_p_list = list()\n",
    "            for asm_f_id in tqdm(file_ids[segment[0]:segment[1]]):\n",
    "                asm_filename = os.path.join(src_path, asm_f_id+'.asm')\n",
    "                asm_p_arr = asm_to_pixel_flatten(filename=asm_filename)\n",
    "                seg_p_list.append(asm_p_arr)\n",
    "            seg_p_matrix = np.matrix(data=seg_p_list)\n",
    "            seg_df = pd.DataFrame(data=seg_p_matrix.astype(float))\n",
    "            seg_df.to_csv(path_or_buf=os.path.join(dest_path, seg_filename),\n",
    "                          sep=',',\n",
    "                          header=False,\n",
    "                          float_format='%.2f',\n",
    "                          index=False)\n",
    "            print(\"This segment file: '{}' is completed.\\n\".format(seg_filename))\n",
    "    print(\"All segments are now done successfully.\")"
   ]
  },
  {
   "cell_type": "code",
   "execution_count": 11,
   "id": "d019efa1",
   "metadata": {
    "scrolled": false
   },
   "outputs": [
    {
     "name": "stdout",
     "output_type": "stream",
     "text": [
      "The script is working on the segment: [0, 500].\n"
     ]
    },
    {
     "name": "stderr",
     "output_type": "stream",
     "text": [
      "100%|████████████████████████████████████████████████████████| 500/500 [00:01<00:00, 282.58it/s]\n"
     ]
    },
    {
     "name": "stdout",
     "output_type": "stream",
     "text": [
      "This segment file: '000000_000500.csv' is completed.\n",
      "\n",
      "The script is working on the segment: [500, 1000].\n"
     ]
    },
    {
     "name": "stderr",
     "output_type": "stream",
     "text": [
      "100%|████████████████████████████████████████████████████████| 500/500 [00:01<00:00, 291.40it/s]\n"
     ]
    },
    {
     "name": "stdout",
     "output_type": "stream",
     "text": [
      "This segment file: '000500_001000.csv' is completed.\n",
      "\n",
      "The script is working on the segment: [1000, 1500].\n"
     ]
    },
    {
     "name": "stderr",
     "output_type": "stream",
     "text": [
      "100%|████████████████████████████████████████████████████████| 500/500 [00:01<00:00, 278.95it/s]\n"
     ]
    },
    {
     "name": "stdout",
     "output_type": "stream",
     "text": [
      "This segment file: '001000_001500.csv' is completed.\n",
      "\n",
      "The script is working on the segment: [1500, 2000].\n"
     ]
    },
    {
     "name": "stderr",
     "output_type": "stream",
     "text": [
      "100%|█████████████████████████████████████████████████████████| 500/500 [00:14<00:00, 34.12it/s]\n"
     ]
    },
    {
     "name": "stdout",
     "output_type": "stream",
     "text": [
      "This segment file: '001500_002000.csv' is completed.\n",
      "\n",
      "The script is working on the segment: [2000, 2500].\n"
     ]
    },
    {
     "name": "stderr",
     "output_type": "stream",
     "text": [
      "100%|█████████████████████████████████████████████████████████| 500/500 [00:15<00:00, 31.37it/s]\n"
     ]
    },
    {
     "name": "stdout",
     "output_type": "stream",
     "text": [
      "This segment file: '002000_002500.csv' is completed.\n",
      "\n",
      "The script is working on the segment: [2500, 3000].\n"
     ]
    },
    {
     "name": "stderr",
     "output_type": "stream",
     "text": [
      "100%|█████████████████████████████████████████████████████████| 500/500 [00:16<00:00, 30.51it/s]\n"
     ]
    },
    {
     "name": "stdout",
     "output_type": "stream",
     "text": [
      "This segment file: '002500_003000.csv' is completed.\n",
      "\n",
      "The script is working on the segment: [3000, 3500].\n"
     ]
    },
    {
     "name": "stderr",
     "output_type": "stream",
     "text": [
      "100%|█████████████████████████████████████████████████████████| 500/500 [00:17<00:00, 29.14it/s]\n"
     ]
    },
    {
     "name": "stdout",
     "output_type": "stream",
     "text": [
      "This segment file: '003000_003500.csv' is completed.\n",
      "\n",
      "The script is working on the segment: [3500, 4000].\n"
     ]
    },
    {
     "name": "stderr",
     "output_type": "stream",
     "text": [
      "100%|█████████████████████████████████████████████████████████| 500/500 [00:14<00:00, 34.87it/s]\n"
     ]
    },
    {
     "name": "stdout",
     "output_type": "stream",
     "text": [
      "This segment file: '003500_004000.csv' is completed.\n",
      "\n",
      "The script is working on the segment: [4000, 4500].\n"
     ]
    },
    {
     "name": "stderr",
     "output_type": "stream",
     "text": [
      "100%|████████████████████████████████████████████████████████| 500/500 [00:02<00:00, 179.93it/s]\n"
     ]
    },
    {
     "name": "stdout",
     "output_type": "stream",
     "text": [
      "This segment file: '004000_004500.csv' is completed.\n",
      "\n",
      "The script is working on the segment: [4500, 5000].\n"
     ]
    },
    {
     "name": "stderr",
     "output_type": "stream",
     "text": [
      "100%|████████████████████████████████████████████████████████| 500/500 [00:01<00:00, 258.06it/s]\n"
     ]
    },
    {
     "name": "stdout",
     "output_type": "stream",
     "text": [
      "This segment file: '004500_005000.csv' is completed.\n",
      "\n",
      "The script is working on the segment: [5000, 5500].\n"
     ]
    },
    {
     "name": "stderr",
     "output_type": "stream",
     "text": [
      "100%|████████████████████████████████████████████████████████| 500/500 [00:02<00:00, 208.59it/s]\n"
     ]
    },
    {
     "name": "stdout",
     "output_type": "stream",
     "text": [
      "This segment file: '005000_005500.csv' is completed.\n",
      "\n",
      "The script is working on the segment: [5500, 6000].\n"
     ]
    },
    {
     "name": "stderr",
     "output_type": "stream",
     "text": [
      "100%|████████████████████████████████████████████████████████| 500/500 [00:01<00:00, 279.59it/s]\n"
     ]
    },
    {
     "name": "stdout",
     "output_type": "stream",
     "text": [
      "This segment file: '005500_006000.csv' is completed.\n",
      "\n",
      "The script is working on the segment: [6000, 6500].\n"
     ]
    },
    {
     "name": "stderr",
     "output_type": "stream",
     "text": [
      "100%|████████████████████████████████████████████████████████| 500/500 [00:02<00:00, 234.71it/s]\n"
     ]
    },
    {
     "name": "stdout",
     "output_type": "stream",
     "text": [
      "This segment file: '006000_006500.csv' is completed.\n",
      "\n",
      "The script is working on the segment: [6500, 7000].\n"
     ]
    },
    {
     "name": "stderr",
     "output_type": "stream",
     "text": [
      "100%|████████████████████████████████████████████████████████| 500/500 [00:01<00:00, 272.83it/s]\n"
     ]
    },
    {
     "name": "stdout",
     "output_type": "stream",
     "text": [
      "This segment file: '006500_007000.csv' is completed.\n",
      "\n",
      "The script is working on the segment: [7000, 7500].\n"
     ]
    },
    {
     "name": "stderr",
     "output_type": "stream",
     "text": [
      "100%|████████████████████████████████████████████████████████| 500/500 [00:01<00:00, 286.01it/s]\n"
     ]
    },
    {
     "name": "stdout",
     "output_type": "stream",
     "text": [
      "This segment file: '007000_007500.csv' is completed.\n",
      "\n",
      "The script is working on the segment: [7500, 8000].\n"
     ]
    },
    {
     "name": "stderr",
     "output_type": "stream",
     "text": [
      "100%|████████████████████████████████████████████████████████| 500/500 [00:02<00:00, 195.63it/s]\n"
     ]
    },
    {
     "name": "stdout",
     "output_type": "stream",
     "text": [
      "This segment file: '007500_008000.csv' is completed.\n",
      "\n",
      "The script is working on the segment: [8000, 8500].\n"
     ]
    },
    {
     "name": "stderr",
     "output_type": "stream",
     "text": [
      "100%|████████████████████████████████████████████████████████| 500/500 [00:01<00:00, 276.37it/s]\n"
     ]
    },
    {
     "name": "stdout",
     "output_type": "stream",
     "text": [
      "This segment file: '008000_008500.csv' is completed.\n",
      "\n",
      "The script is working on the segment: [8500, 9000].\n"
     ]
    },
    {
     "name": "stderr",
     "output_type": "stream",
     "text": [
      "100%|████████████████████████████████████████████████████████| 500/500 [00:00<00:00, 569.51it/s]\n"
     ]
    },
    {
     "name": "stdout",
     "output_type": "stream",
     "text": [
      "This segment file: '008500_009000.csv' is completed.\n",
      "\n",
      "The script is working on the segment: [9000, 9500].\n"
     ]
    },
    {
     "name": "stderr",
     "output_type": "stream",
     "text": [
      "100%|████████████████████████████████████████████████████████| 500/500 [00:00<00:00, 685.32it/s]\n"
     ]
    },
    {
     "name": "stdout",
     "output_type": "stream",
     "text": [
      "This segment file: '009000_009500.csv' is completed.\n",
      "\n",
      "The script is working on the segment: [9500, 10000].\n"
     ]
    },
    {
     "name": "stderr",
     "output_type": "stream",
     "text": [
      "100%|████████████████████████████████████████████████████████| 500/500 [00:02<00:00, 195.43it/s]\n"
     ]
    },
    {
     "name": "stdout",
     "output_type": "stream",
     "text": [
      "This segment file: '009500_010000.csv' is completed.\n",
      "\n",
      "The script is working on the segment: [10000, 10500].\n"
     ]
    },
    {
     "name": "stderr",
     "output_type": "stream",
     "text": [
      "100%|█████████████████████████████████████████████████████████| 500/500 [00:05<00:00, 92.30it/s]\n"
     ]
    },
    {
     "name": "stdout",
     "output_type": "stream",
     "text": [
      "This segment file: '010000_010500.csv' is completed.\n",
      "\n",
      "The script is working on the segment: [10500, 10868].\n"
     ]
    },
    {
     "name": "stderr",
     "output_type": "stream",
     "text": [
      "100%|█████████████████████████████████████████████████████████| 368/368 [00:03<00:00, 96.65it/s]\n"
     ]
    },
    {
     "name": "stdout",
     "output_type": "stream",
     "text": [
      "This segment file: '010500_010868.csv' is completed.\n",
      "\n",
      "All segments are now done successfully.\n"
     ]
    }
   ],
   "source": [
    "asm_image_featurization(src_path=src_path,\n",
    "                        dest_path=dest_path,\n",
    "                        file_ids=file_ids,\n",
    "                        segments=segments,\n",
    "                        seg_filenames=seg_filenames)"
   ]
  },
  {
   "cell_type": "code",
   "execution_count": 12,
   "id": "20ce3fb5",
   "metadata": {},
   "outputs": [],
   "source": [
    "csv_segments = glob.glob(pathname=os.path.join(dest_path, '*.csv'))"
   ]
  },
  {
   "cell_type": "code",
   "execution_count": 13,
   "id": "b8d8a268",
   "metadata": {},
   "outputs": [
    {
     "name": "stderr",
     "output_type": "stream",
     "text": [
      "100%|███████████████████████████████████████████████████████████| 22/22 [00:00<00:00, 33.11it/s]\n"
     ]
    }
   ],
   "source": [
    "all_asm_pixels = pd.concat(objs=[pd.read_csv(filepath_or_buffer=seg_csv, header=None)\n",
    "                                 for seg_csv in tqdm(csv_segments)], ignore_index=True)"
   ]
  },
  {
   "cell_type": "code",
   "execution_count": 14,
   "id": "421e9c3a",
   "metadata": {},
   "outputs": [],
   "source": [
    "final_file_name = 'all_asm_pixels.csv'\n",
    "if not os.path.isfile(path=os.path.join(dest_path, final_file_name)):\n",
    "    all_asm_pixels.to_csv(path_or_buf=os.path.join(dest_path, final_file_name))\n",
    "else:\n",
    "    print(\"Data already exists!\")"
   ]
  },
  {
   "cell_type": "code",
   "execution_count": 15,
   "id": "0327115c",
   "metadata": {
    "scrolled": false
   },
   "outputs": [
    {
     "data": {
      "text/html": [
       "<div>\n",
       "<style scoped>\n",
       "    .dataframe tbody tr th:only-of-type {\n",
       "        vertical-align: middle;\n",
       "    }\n",
       "\n",
       "    .dataframe tbody tr th {\n",
       "        vertical-align: top;\n",
       "    }\n",
       "\n",
       "    .dataframe thead th {\n",
       "        text-align: right;\n",
       "    }\n",
       "</style>\n",
       "<table border=\"1\" class=\"dataframe\">\n",
       "  <thead>\n",
       "    <tr style=\"text-align: right;\">\n",
       "      <th></th>\n",
       "      <th>0</th>\n",
       "      <th>1</th>\n",
       "      <th>2</th>\n",
       "      <th>3</th>\n",
       "      <th>4</th>\n",
       "      <th>5</th>\n",
       "      <th>6</th>\n",
       "      <th>7</th>\n",
       "      <th>8</th>\n",
       "      <th>9</th>\n",
       "      <th>...</th>\n",
       "      <th>790</th>\n",
       "      <th>791</th>\n",
       "      <th>792</th>\n",
       "      <th>793</th>\n",
       "      <th>794</th>\n",
       "      <th>795</th>\n",
       "      <th>796</th>\n",
       "      <th>797</th>\n",
       "      <th>798</th>\n",
       "      <th>799</th>\n",
       "    </tr>\n",
       "  </thead>\n",
       "  <tbody>\n",
       "    <tr>\n",
       "      <th>0</th>\n",
       "      <td>72.0</td>\n",
       "      <td>69.0</td>\n",
       "      <td>65.0</td>\n",
       "      <td>68.0</td>\n",
       "      <td>69.0</td>\n",
       "      <td>82.0</td>\n",
       "      <td>58.0</td>\n",
       "      <td>49.0</td>\n",
       "      <td>48.0</td>\n",
       "      <td>48.0</td>\n",
       "      <td>...</td>\n",
       "      <td>109.0</td>\n",
       "      <td>111.0</td>\n",
       "      <td>100.0</td>\n",
       "      <td>101.0</td>\n",
       "      <td>108.0</td>\n",
       "      <td>32.0</td>\n",
       "      <td>102.0</td>\n",
       "      <td>108.0</td>\n",
       "      <td>97.0</td>\n",
       "      <td>116.0</td>\n",
       "    </tr>\n",
       "    <tr>\n",
       "      <th>1</th>\n",
       "      <td>72.0</td>\n",
       "      <td>69.0</td>\n",
       "      <td>65.0</td>\n",
       "      <td>68.0</td>\n",
       "      <td>69.0</td>\n",
       "      <td>82.0</td>\n",
       "      <td>58.0</td>\n",
       "      <td>52.0</td>\n",
       "      <td>68.0</td>\n",
       "      <td>70.0</td>\n",
       "      <td>...</td>\n",
       "      <td>109.0</td>\n",
       "      <td>111.0</td>\n",
       "      <td>100.0</td>\n",
       "      <td>101.0</td>\n",
       "      <td>108.0</td>\n",
       "      <td>32.0</td>\n",
       "      <td>102.0</td>\n",
       "      <td>108.0</td>\n",
       "      <td>97.0</td>\n",
       "      <td>116.0</td>\n",
       "    </tr>\n",
       "    <tr>\n",
       "      <th>2</th>\n",
       "      <td>72.0</td>\n",
       "      <td>69.0</td>\n",
       "      <td>65.0</td>\n",
       "      <td>68.0</td>\n",
       "      <td>69.0</td>\n",
       "      <td>82.0</td>\n",
       "      <td>58.0</td>\n",
       "      <td>49.0</td>\n",
       "      <td>48.0</td>\n",
       "      <td>48.0</td>\n",
       "      <td>...</td>\n",
       "      <td>61.0</td>\n",
       "      <td>61.0</td>\n",
       "      <td>61.0</td>\n",
       "      <td>61.0</td>\n",
       "      <td>61.0</td>\n",
       "      <td>61.0</td>\n",
       "      <td>61.0</td>\n",
       "      <td>61.0</td>\n",
       "      <td>61.0</td>\n",
       "      <td>61.0</td>\n",
       "    </tr>\n",
       "    <tr>\n",
       "      <th>3</th>\n",
       "      <td>72.0</td>\n",
       "      <td>69.0</td>\n",
       "      <td>65.0</td>\n",
       "      <td>68.0</td>\n",
       "      <td>69.0</td>\n",
       "      <td>82.0</td>\n",
       "      <td>58.0</td>\n",
       "      <td>55.0</td>\n",
       "      <td>68.0</td>\n",
       "      <td>70.0</td>\n",
       "      <td>...</td>\n",
       "      <td>109.0</td>\n",
       "      <td>111.0</td>\n",
       "      <td>100.0</td>\n",
       "      <td>101.0</td>\n",
       "      <td>108.0</td>\n",
       "      <td>32.0</td>\n",
       "      <td>102.0</td>\n",
       "      <td>108.0</td>\n",
       "      <td>97.0</td>\n",
       "      <td>116.0</td>\n",
       "    </tr>\n",
       "    <tr>\n",
       "      <th>4</th>\n",
       "      <td>72.0</td>\n",
       "      <td>69.0</td>\n",
       "      <td>65.0</td>\n",
       "      <td>68.0</td>\n",
       "      <td>69.0</td>\n",
       "      <td>82.0</td>\n",
       "      <td>58.0</td>\n",
       "      <td>49.0</td>\n",
       "      <td>48.0</td>\n",
       "      <td>48.0</td>\n",
       "      <td>...</td>\n",
       "      <td>109.0</td>\n",
       "      <td>111.0</td>\n",
       "      <td>100.0</td>\n",
       "      <td>101.0</td>\n",
       "      <td>108.0</td>\n",
       "      <td>32.0</td>\n",
       "      <td>102.0</td>\n",
       "      <td>108.0</td>\n",
       "      <td>97.0</td>\n",
       "      <td>116.0</td>\n",
       "    </tr>\n",
       "  </tbody>\n",
       "</table>\n",
       "<p>5 rows × 800 columns</p>\n",
       "</div>"
      ],
      "text/plain": [
       "      0     1     2     3     4     5     6     7     8     9  ...    790  \\\n",
       "0  72.0  69.0  65.0  68.0  69.0  82.0  58.0  49.0  48.0  48.0  ...  109.0   \n",
       "1  72.0  69.0  65.0  68.0  69.0  82.0  58.0  52.0  68.0  70.0  ...  109.0   \n",
       "2  72.0  69.0  65.0  68.0  69.0  82.0  58.0  49.0  48.0  48.0  ...   61.0   \n",
       "3  72.0  69.0  65.0  68.0  69.0  82.0  58.0  55.0  68.0  70.0  ...  109.0   \n",
       "4  72.0  69.0  65.0  68.0  69.0  82.0  58.0  49.0  48.0  48.0  ...  109.0   \n",
       "\n",
       "     791    792    793    794   795    796    797   798    799  \n",
       "0  111.0  100.0  101.0  108.0  32.0  102.0  108.0  97.0  116.0  \n",
       "1  111.0  100.0  101.0  108.0  32.0  102.0  108.0  97.0  116.0  \n",
       "2   61.0   61.0   61.0   61.0  61.0   61.0   61.0  61.0   61.0  \n",
       "3  111.0  100.0  101.0  108.0  32.0  102.0  108.0  97.0  116.0  \n",
       "4  111.0  100.0  101.0  108.0  32.0  102.0  108.0  97.0  116.0  \n",
       "\n",
       "[5 rows x 800 columns]"
      ]
     },
     "metadata": {},
     "output_type": "display_data"
    },
    {
     "data": {
      "text/html": [
       "<div>\n",
       "<style scoped>\n",
       "    .dataframe tbody tr th:only-of-type {\n",
       "        vertical-align: middle;\n",
       "    }\n",
       "\n",
       "    .dataframe tbody tr th {\n",
       "        vertical-align: top;\n",
       "    }\n",
       "\n",
       "    .dataframe thead th {\n",
       "        text-align: right;\n",
       "    }\n",
       "</style>\n",
       "<table border=\"1\" class=\"dataframe\">\n",
       "  <thead>\n",
       "    <tr style=\"text-align: right;\">\n",
       "      <th></th>\n",
       "      <th>0</th>\n",
       "      <th>1</th>\n",
       "      <th>2</th>\n",
       "      <th>3</th>\n",
       "      <th>4</th>\n",
       "      <th>5</th>\n",
       "      <th>6</th>\n",
       "      <th>7</th>\n",
       "      <th>8</th>\n",
       "      <th>9</th>\n",
       "      <th>...</th>\n",
       "      <th>790</th>\n",
       "      <th>791</th>\n",
       "      <th>792</th>\n",
       "      <th>793</th>\n",
       "      <th>794</th>\n",
       "      <th>795</th>\n",
       "      <th>796</th>\n",
       "      <th>797</th>\n",
       "      <th>798</th>\n",
       "      <th>799</th>\n",
       "    </tr>\n",
       "  </thead>\n",
       "  <tbody>\n",
       "    <tr>\n",
       "      <th>10863</th>\n",
       "      <td>72.0</td>\n",
       "      <td>69.0</td>\n",
       "      <td>65.0</td>\n",
       "      <td>68.0</td>\n",
       "      <td>69.0</td>\n",
       "      <td>82.0</td>\n",
       "      <td>58.0</td>\n",
       "      <td>48.0</td>\n",
       "      <td>48.0</td>\n",
       "      <td>52.0</td>\n",
       "      <td>...</td>\n",
       "      <td>61.0</td>\n",
       "      <td>61.0</td>\n",
       "      <td>61.0</td>\n",
       "      <td>61.0</td>\n",
       "      <td>61.0</td>\n",
       "      <td>61.0</td>\n",
       "      <td>61.0</td>\n",
       "      <td>61.0</td>\n",
       "      <td>61.0</td>\n",
       "      <td>61.0</td>\n",
       "    </tr>\n",
       "    <tr>\n",
       "      <th>10864</th>\n",
       "      <td>72.0</td>\n",
       "      <td>69.0</td>\n",
       "      <td>65.0</td>\n",
       "      <td>68.0</td>\n",
       "      <td>69.0</td>\n",
       "      <td>82.0</td>\n",
       "      <td>58.0</td>\n",
       "      <td>48.0</td>\n",
       "      <td>48.0</td>\n",
       "      <td>52.0</td>\n",
       "      <td>...</td>\n",
       "      <td>61.0</td>\n",
       "      <td>61.0</td>\n",
       "      <td>61.0</td>\n",
       "      <td>61.0</td>\n",
       "      <td>61.0</td>\n",
       "      <td>61.0</td>\n",
       "      <td>61.0</td>\n",
       "      <td>61.0</td>\n",
       "      <td>61.0</td>\n",
       "      <td>61.0</td>\n",
       "    </tr>\n",
       "    <tr>\n",
       "      <th>10865</th>\n",
       "      <td>72.0</td>\n",
       "      <td>69.0</td>\n",
       "      <td>65.0</td>\n",
       "      <td>68.0</td>\n",
       "      <td>69.0</td>\n",
       "      <td>82.0</td>\n",
       "      <td>58.0</td>\n",
       "      <td>48.0</td>\n",
       "      <td>48.0</td>\n",
       "      <td>52.0</td>\n",
       "      <td>...</td>\n",
       "      <td>61.0</td>\n",
       "      <td>61.0</td>\n",
       "      <td>61.0</td>\n",
       "      <td>61.0</td>\n",
       "      <td>61.0</td>\n",
       "      <td>61.0</td>\n",
       "      <td>61.0</td>\n",
       "      <td>61.0</td>\n",
       "      <td>61.0</td>\n",
       "      <td>61.0</td>\n",
       "    </tr>\n",
       "    <tr>\n",
       "      <th>10866</th>\n",
       "      <td>72.0</td>\n",
       "      <td>69.0</td>\n",
       "      <td>65.0</td>\n",
       "      <td>68.0</td>\n",
       "      <td>69.0</td>\n",
       "      <td>82.0</td>\n",
       "      <td>58.0</td>\n",
       "      <td>48.0</td>\n",
       "      <td>48.0</td>\n",
       "      <td>52.0</td>\n",
       "      <td>...</td>\n",
       "      <td>10.0</td>\n",
       "      <td>72.0</td>\n",
       "      <td>69.0</td>\n",
       "      <td>65.0</td>\n",
       "      <td>68.0</td>\n",
       "      <td>69.0</td>\n",
       "      <td>82.0</td>\n",
       "      <td>58.0</td>\n",
       "      <td>48.0</td>\n",
       "      <td>48.0</td>\n",
       "    </tr>\n",
       "    <tr>\n",
       "      <th>10867</th>\n",
       "      <td>72.0</td>\n",
       "      <td>69.0</td>\n",
       "      <td>65.0</td>\n",
       "      <td>68.0</td>\n",
       "      <td>69.0</td>\n",
       "      <td>82.0</td>\n",
       "      <td>58.0</td>\n",
       "      <td>48.0</td>\n",
       "      <td>48.0</td>\n",
       "      <td>52.0</td>\n",
       "      <td>...</td>\n",
       "      <td>61.0</td>\n",
       "      <td>61.0</td>\n",
       "      <td>61.0</td>\n",
       "      <td>61.0</td>\n",
       "      <td>61.0</td>\n",
       "      <td>61.0</td>\n",
       "      <td>61.0</td>\n",
       "      <td>61.0</td>\n",
       "      <td>61.0</td>\n",
       "      <td>61.0</td>\n",
       "    </tr>\n",
       "  </tbody>\n",
       "</table>\n",
       "<p>5 rows × 800 columns</p>\n",
       "</div>"
      ],
      "text/plain": [
       "          0     1     2     3     4     5     6     7     8     9  ...   790  \\\n",
       "10863  72.0  69.0  65.0  68.0  69.0  82.0  58.0  48.0  48.0  52.0  ...  61.0   \n",
       "10864  72.0  69.0  65.0  68.0  69.0  82.0  58.0  48.0  48.0  52.0  ...  61.0   \n",
       "10865  72.0  69.0  65.0  68.0  69.0  82.0  58.0  48.0  48.0  52.0  ...  61.0   \n",
       "10866  72.0  69.0  65.0  68.0  69.0  82.0  58.0  48.0  48.0  52.0  ...  10.0   \n",
       "10867  72.0  69.0  65.0  68.0  69.0  82.0  58.0  48.0  48.0  52.0  ...  61.0   \n",
       "\n",
       "        791   792   793   794   795   796   797   798   799  \n",
       "10863  61.0  61.0  61.0  61.0  61.0  61.0  61.0  61.0  61.0  \n",
       "10864  61.0  61.0  61.0  61.0  61.0  61.0  61.0  61.0  61.0  \n",
       "10865  61.0  61.0  61.0  61.0  61.0  61.0  61.0  61.0  61.0  \n",
       "10866  72.0  69.0  65.0  68.0  69.0  82.0  58.0  48.0  48.0  \n",
       "10867  61.0  61.0  61.0  61.0  61.0  61.0  61.0  61.0  61.0  \n",
       "\n",
       "[5 rows x 800 columns]"
      ]
     },
     "metadata": {},
     "output_type": "display_data"
    }
   ],
   "source": [
    "display(pd.read_csv(filepath_or_buffer='data/csv_asms/all_asm_pixels.csv', index_col=0).head())\n",
    "display(pd.read_csv(filepath_or_buffer='data/csv_asms/all_asm_pixels.csv', index_col=0).tail())"
   ]
  },
  {
   "cell_type": "code",
   "execution_count": null,
   "id": "fe8a9b69",
   "metadata": {},
   "outputs": [],
   "source": []
  }
 ],
 "metadata": {
  "kernelspec": {
   "display_name": "Python 3 (ipykernel)",
   "language": "python",
   "name": "python3"
  },
  "language_info": {
   "codemirror_mode": {
    "name": "ipython",
    "version": 3
   },
   "file_extension": ".py",
   "mimetype": "text/x-python",
   "name": "python",
   "nbconvert_exporter": "python",
   "pygments_lexer": "ipython3",
   "version": "3.10.6"
  }
 },
 "nbformat": 4,
 "nbformat_minor": 5
}
