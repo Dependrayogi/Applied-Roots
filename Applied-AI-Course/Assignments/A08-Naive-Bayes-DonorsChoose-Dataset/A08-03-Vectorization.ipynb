{
 "cells": [
  {
   "cell_type": "markdown",
   "metadata": {
    "id": "zPPyJGbHab5T"
   },
   "source": [
    "### Vectorization"
   ]
  },
  {
   "cell_type": "code",
   "execution_count": 1,
   "metadata": {
    "executionInfo": {
     "elapsed": 7,
     "status": "ok",
     "timestamp": 1651559599110,
     "user": {
      "displayName": "mohammed saifuddin",
      "userId": "16425402980535672052"
     },
     "user_tz": -330
    },
    "id": "dAJG-1ORaLif"
   },
   "outputs": [],
   "source": [
    "import warnings\n",
    "warnings.filterwarnings('ignore')"
   ]
  },
  {
   "cell_type": "code",
   "execution_count": 2,
   "metadata": {
    "executionInfo": {
     "elapsed": 4,
     "status": "ok",
     "timestamp": 1651559621946,
     "user": {
      "displayName": "mohammed saifuddin",
      "userId": "16425402980535672052"
     },
     "user_tz": -330
    },
    "id": "30bRP5p-a5WZ"
   },
   "outputs": [],
   "source": [
    "from tqdm import tqdm\n",
    "import numpy as np\n",
    "import pandas as pd\n",
    "import pickle"
   ]
  },
  {
   "cell_type": "code",
   "execution_count": 3,
   "metadata": {
    "executionInfo": {
     "elapsed": 3482,
     "status": "ok",
     "timestamp": 1651559625425,
     "user": {
      "displayName": "mohammed saifuddin",
      "userId": "16425402980535672052"
     },
     "user_tz": -330
    },
    "id": "J9JOcESEa5Rf"
   },
   "outputs": [],
   "source": [
    "processed_df = pd.read_csv(filepath_or_buffer='preprocessed_data.csv')\n",
    "processed_essay = processed_df['essay'].values"
   ]
  },
  {
   "cell_type": "markdown",
   "metadata": {
    "id": "9Cba-0TTcA7m"
   },
   "source": [
    "#### Bag of Words (BoW) on `essay` feature"
   ]
  },
  {
   "cell_type": "code",
   "execution_count": 4,
   "metadata": {
    "executionInfo": {
     "elapsed": 461,
     "status": "ok",
     "timestamp": 1651559625881,
     "user": {
      "displayName": "mohammed saifuddin",
      "userId": "16425402980535672052"
     },
     "user_tz": -330
    },
    "id": "3OqTotCHa5PT"
   },
   "outputs": [],
   "source": [
    "from sklearn.feature_extraction.text import CountVectorizer"
   ]
  },
  {
   "cell_type": "code",
   "execution_count": 5,
   "metadata": {
    "colab": {
     "base_uri": "https://localhost:8080/"
    },
    "executionInfo": {
     "elapsed": 24135,
     "status": "ok",
     "timestamp": 1651559650011,
     "user": {
      "displayName": "mohammed saifuddin",
      "userId": "16425402980535672052"
     },
     "user_tz": -330
    },
    "id": "D8lROv6Da5NQ",
    "outputId": "2f61077d-63cb-42ab-de2a-fab9c63ccaf4"
   },
   "outputs": [
    {
     "name": "stdout",
     "output_type": "stream",
     "text": [
      "Shape of matrix after one hot encodig: (109248, 16623)\n"
     ]
    }
   ],
   "source": [
    "count_vect = CountVectorizer(min_df=10)\n",
    "text_vect_bow = count_vect.fit_transform(raw_documents=processed_essay)\n",
    "print(\"Shape of matrix after one hot encodig: {}\".format(text_vect_bow.shape))"
   ]
  },
  {
   "cell_type": "markdown",
   "metadata": {
    "id": "iY2sVQine2nJ"
   },
   "source": [
    "#### TFIDF on `essay` feature"
   ]
  },
  {
   "cell_type": "code",
   "execution_count": 6,
   "metadata": {
    "executionInfo": {
     "elapsed": 5,
     "status": "ok",
     "timestamp": 1651559650012,
     "user": {
      "displayName": "mohammed saifuddin",
      "userId": "16425402980535672052"
     },
     "user_tz": -330
    },
    "id": "JMFkc_Ewa5LI"
   },
   "outputs": [],
   "source": [
    "from sklearn.feature_extraction.text import TfidfVectorizer"
   ]
  },
  {
   "cell_type": "code",
   "execution_count": 7,
   "metadata": {
    "colab": {
     "base_uri": "https://localhost:8080/"
    },
    "executionInfo": {
     "elapsed": 11680,
     "status": "ok",
     "timestamp": 1651559661689,
     "user": {
      "displayName": "mohammed saifuddin",
      "userId": "16425402980535672052"
     },
     "user_tz": -330
    },
    "id": "pnHIoQzHa5I3",
    "outputId": "57d2c9d3-95ed-440b-d94f-7a3984284ee9"
   },
   "outputs": [
    {
     "name": "stdout",
     "output_type": "stream",
     "text": [
      "Shape of matrix after one hot encodig: (109248, 16623)\n"
     ]
    }
   ],
   "source": [
    "tfidf_vect = TfidfVectorizer(min_df=10)\n",
    "text_vect_tfidf = tfidf_vect.fit_transform(raw_documents=processed_essay)\n",
    "print(\"Shape of matrix after one hot encodig: {}\".format(text_vect_tfidf.shape))"
   ]
  },
  {
   "cell_type": "markdown",
   "metadata": {
    "id": "peuDZww8cRY_"
   },
   "source": [
    "#### Average Word2Vec"
   ]
  },
  {
   "cell_type": "code",
   "execution_count": 8,
   "metadata": {
    "executionInfo": {
     "elapsed": 2883,
     "status": "ok",
     "timestamp": 1651559664554,
     "user": {
      "displayName": "mohammed saifuddin",
      "userId": "16425402980535672052"
     },
     "user_tz": -330
    },
    "id": "Ylr27Ivxa5Gl"
   },
   "outputs": [],
   "source": [
    "with open(file='glove_vectors', mode='rb') as pkl:\n",
    "    model = pickle.load(pkl)\n",
    "    glove_words = set(model.keys())"
   ]
  },
  {
   "cell_type": "code",
   "execution_count": 9,
   "metadata": {
    "colab": {
     "base_uri": "https://localhost:8080/"
    },
    "executionInfo": {
     "elapsed": 15,
     "status": "ok",
     "timestamp": 1651559664555,
     "user": {
      "displayName": "mohammed saifuddin",
      "userId": "16425402980535672052"
     },
     "user_tz": -330
    },
    "id": "70jGUemFa5Ej",
    "outputId": "b34e362a-2efa-4c08-fad8-8f53124e7479"
   },
   "outputs": [
    {
     "name": "stdout",
     "output_type": "stream",
     "text": [
      "nationwide\n"
     ]
    }
   ],
   "source": [
    "word = list(glove_words)[0]\n",
    "print(word)"
   ]
  },
  {
   "cell_type": "code",
   "execution_count": 10,
   "metadata": {
    "colab": {
     "base_uri": "https://localhost:8080/"
    },
    "executionInfo": {
     "elapsed": 13,
     "status": "ok",
     "timestamp": 1651559664555,
     "user": {
      "displayName": "mohammed saifuddin",
      "userId": "16425402980535672052"
     },
     "user_tz": -330
    },
    "id": "Xp4qZWIua4-L",
    "outputId": "edb35971-9a81-4039-8e9a-6b053c02be76"
   },
   "outputs": [
    {
     "name": "stdout",
     "output_type": "stream",
     "text": [
      "[-2.7446e-01 -1.8566e-01  1.5203e-01 -3.3871e-01 -4.4707e-01  9.5133e-02\n",
      " -1.9979e+00 -1.4693e-01  1.4631e-01  6.7298e-01 -7.2874e-01  8.8087e-02\n",
      " -3.1008e-02  2.7573e-01 -1.9594e-01  1.3383e-01  1.4157e-01  1.9674e-01\n",
      " -3.6788e-02  3.5562e-01 -4.4018e-01  9.4682e-01  3.9898e-02 -2.9970e-01\n",
      " -2.0159e-01  1.5255e-01 -3.6492e-01 -5.4108e-01 -1.6126e-01 -3.4537e-01\n",
      " -5.1565e-01  1.7598e-01  3.2276e-01 -2.6215e-01 -2.5877e-01 -1.0866e-01\n",
      "  2.0171e-01 -1.4057e-01  5.8433e-03 -5.2362e-02 -2.3051e-01 -5.8283e-01\n",
      "  4.8124e-01 -1.9952e-01  1.4162e-01 -5.2693e-02  2.8681e-02 -1.4770e-01\n",
      " -3.2344e-01  1.8428e-01  3.2626e-01  3.5183e-01 -6.2851e-01 -4.8115e-01\n",
      " -3.1891e-01 -3.4583e-02 -5.2945e-01  1.4181e-01 -3.5899e-01  3.7177e-01\n",
      " -1.4452e-01  1.5200e-01 -4.7772e-01 -9.7155e-02 -2.5967e-01  2.3286e-02\n",
      " -5.4634e-03 -2.4719e-01  5.9037e-01  1.9936e-01 -3.5937e-01  2.2459e-01\n",
      " -1.4346e-01  1.2081e-01 -7.6962e-02  7.1359e-02  2.1582e-01  1.6143e-01\n",
      " -6.9987e-01  3.0448e-01  2.8214e-01 -6.8564e-01 -4.4431e-01  2.0080e-01\n",
      " -3.5069e-01  3.0243e-02 -1.1312e-02  1.3183e-01 -2.1549e-01  4.8693e-01\n",
      " -9.2542e-02 -3.0691e-01  3.2404e-02  3.4941e-01 -8.1354e-02 -7.2045e-01\n",
      " -1.7061e+00  3.0831e-01  5.0486e-01  4.1282e-02  4.4202e-01  1.6787e-01\n",
      " -3.2975e-02 -2.5919e-02  2.7948e-01  3.8666e-01  1.3878e-01  2.6572e-01\n",
      "  7.9853e-02 -3.9677e-01  4.0939e-01  3.2604e-01 -1.6536e-01 -4.8361e-01\n",
      "  7.4279e-01 -2.5492e-01 -4.0238e-01 -2.5240e-01  1.6582e-01 -5.3898e-02\n",
      "  3.8309e-01 -1.0832e-01 -2.0854e-01 -3.3000e-01 -1.2032e-01  4.8878e-01\n",
      "  2.2053e-01 -1.7585e-01 -7.5647e-02 -2.0407e-01  1.1207e-02  1.7099e-01\n",
      "  1.9361e-01  2.2584e-01  5.9796e-01 -1.6589e-01 -1.4450e-01 -2.1038e-01\n",
      " -9.6707e-02 -3.5646e-01 -1.3180e-01 -2.2153e-01 -5.7577e-02 -2.0644e-01\n",
      "  1.4779e-01  2.6986e-01 -2.6299e-01  2.5887e-01 -5.8241e-01 -5.2146e-01\n",
      "  2.2481e-02  1.4216e-01  4.6221e-01  1.2230e-01 -3.1541e-01 -2.5400e-01\n",
      "  2.6055e-01  1.0016e-01 -7.2321e-01  7.5363e-02  3.0638e-01 -2.5268e-01\n",
      "  1.3058e-01 -5.1232e-02 -5.7180e-01 -9.2430e-01 -1.9831e-01 -4.4139e-01\n",
      " -1.7141e-01 -5.1494e-02 -1.9776e-01 -4.0062e-01 -5.5691e-01 -2.3601e-02\n",
      "  1.8446e-01  6.6578e-02 -1.7612e-01  4.1719e-01 -1.2349e-01  9.4063e-01\n",
      "  1.1502e-01  3.6104e-01 -1.0109e-01  1.5166e-01 -3.5091e-02 -6.2292e-01\n",
      " -2.5867e-02 -7.8379e-02  7.4167e-02  6.0370e-01 -2.5247e-01 -2.2831e-01\n",
      " -1.5726e-01 -5.5051e-01  2.9384e-02 -3.7195e-02 -8.6262e-01 -1.1736e-01\n",
      "  4.7387e-01  4.5798e-01  9.6821e-02 -3.1323e-01  2.6350e-01 -2.2184e-01\n",
      "  2.4564e-01  8.3936e-02 -1.6104e-01 -1.4974e-01 -5.1035e-01 -8.9657e-02\n",
      " -1.5202e-01  7.2841e-02  2.6495e-01  2.3310e-01  1.4367e-01 -4.8945e-01\n",
      "  7.7547e-02  2.7793e-01  3.9732e-01  1.9921e-01 -3.8996e-01  4.5578e-02\n",
      "  3.1169e-02  1.0802e-01 -2.2556e+00  8.7011e-01 -4.5692e-01  3.5579e-01\n",
      " -3.7976e-01  1.6737e-01  3.5967e-01 -2.6984e-01 -4.3081e-01  6.3786e-03\n",
      " -3.8691e-01  2.0017e-01 -1.7035e-01  5.0692e-02  3.4765e-01  7.5343e-02\n",
      " -5.7598e-01 -5.0381e-01  2.1507e-01  1.0930e-01  1.0258e-01 -4.4534e-01\n",
      "  8.8285e-02  4.5196e-01  2.9462e-01 -1.1387e-01 -2.4119e-01 -2.3264e-01\n",
      "  4.2436e-01 -2.8340e-01  3.4297e-02 -5.3168e-01 -2.8034e-01 -6.1573e-01\n",
      "  1.0764e-01 -2.0122e-01 -1.8774e-01 -5.1939e-01  4.2123e-02 -1.6503e-02\n",
      "  1.8869e-01  6.2813e-01 -3.2368e-01  1.3849e-01 -1.4000e-01 -8.4302e-01\n",
      " -9.7887e-02 -1.8752e-01  8.4700e-01 -4.2432e-02  1.4452e-02  3.5458e-02\n",
      "  7.1442e-03  1.7208e-03  1.2817e-01  2.4659e-01 -1.2502e+00 -5.7804e-02\n",
      " -2.9320e-01 -6.2849e-01  6.9573e-01  3.3030e-01 -1.1714e-01 -1.5970e-01\n",
      "  2.0060e-01  5.5508e-01  1.3668e-01 -1.1722e-01  2.0396e-01 -6.9470e-01\n",
      " -3.0243e-01 -3.6931e-01  1.1213e-01 -3.2972e-01 -2.8427e-01 -3.7955e-02]\n"
     ]
    }
   ],
   "source": [
    "print(model[word])"
   ]
  },
  {
   "cell_type": "code",
   "execution_count": 11,
   "metadata": {
    "colab": {
     "base_uri": "https://localhost:8080/"
    },
    "executionInfo": {
     "elapsed": 11,
     "status": "ok",
     "timestamp": 1651559664555,
     "user": {
      "displayName": "mohammed saifuddin",
      "userId": "16425402980535672052"
     },
     "user_tz": -330
    },
    "id": "nfr9Ofvvda2o",
    "outputId": "b7ca968e-28d0-45c7-fbc0-a8e9e0895e73"
   },
   "outputs": [
    {
     "name": "stdout",
     "output_type": "stream",
     "text": [
      "300\n"
     ]
    }
   ],
   "source": [
    "dim = len(model[word])\n",
    "print(dim)"
   ]
  },
  {
   "cell_type": "code",
   "execution_count": 12,
   "metadata": {
    "colab": {
     "base_uri": "https://localhost:8080/"
    },
    "executionInfo": {
     "elapsed": 9,
     "status": "ok",
     "timestamp": 1651559664555,
     "user": {
      "displayName": "mohammed saifuddin",
      "userId": "16425402980535672052"
     },
     "user_tz": -330
    },
    "id": "rQyduE4Wdazy",
    "outputId": "f93ec6db-3491-46db-a376-2af751566a27"
   },
   "outputs": [
    {
     "name": "stdout",
     "output_type": "stream",
     "text": [
      "i fortunate enough use fairy tale stem kits classroom well stem journals students really enjoyed i would love implement lakeshore stem kits classroom next school year provide excellent engaging stem lessons my students come variety backgrounds including language socioeconomic status many not lot experience science engineering kits give materials provide exciting opportunities students each month i try several science stem steam projects i would use kits robot help guide science instruction engaging meaningful ways i adapt kits current language arts pacing guide already teach material kits like tall tales paul bunyan johnny appleseed the following units taught next school year i implement kits magnets motion sink vs float robots i often get units not know if i teaching right way using right materials the kits give additional ideas strategies lessons prepare students science it challenging develop high quality science activities these kits give materials i need provide students science activities go along curriculum classroom although i things like magnets classroom i not know use effectively the kits provide right amount materials show use appropriate way\n"
     ]
    }
   ],
   "source": [
    "print(processed_essay[0])"
   ]
  },
  {
   "cell_type": "code",
   "execution_count": 13,
   "metadata": {
    "colab": {
     "base_uri": "https://localhost:8080/"
    },
    "executionInfo": {
     "elapsed": 35956,
     "status": "ok",
     "timestamp": 1651559700505,
     "user": {
      "displayName": "mohammed saifuddin",
      "userId": "16425402980535672052"
     },
     "user_tz": -330
    },
    "id": "sDUUFgJ4daxL",
    "outputId": "dc76e299-a85b-451a-e5e6-b61c3e08af6d"
   },
   "outputs": [
    {
     "name": "stderr",
     "output_type": "stream",
     "text": [
      "100%|█████████████████████████████████████████████████████████| 109248/109248 [00:20<00:00, 5303.98it/s]\n"
     ]
    }
   ],
   "source": [
    "avg_w2v = list()\n",
    "for essay in tqdm(processed_essay):\n",
    "    vect = np.zeros(dim)\n",
    "    count_ = 0\n",
    "    for word in essay.split():\n",
    "        if word in glove_words:\n",
    "            vect += model[word]\n",
    "            count_ += 1\n",
    "    if count_ > 0:\n",
    "        vect /= count_\n",
    "    avg_w2v.append(vect)"
   ]
  },
  {
   "cell_type": "code",
   "execution_count": 14,
   "metadata": {
    "colab": {
     "base_uri": "https://localhost:8080/"
    },
    "executionInfo": {
     "elapsed": 22,
     "status": "ok",
     "timestamp": 1651559700506,
     "user": {
      "displayName": "mohammed saifuddin",
      "userId": "16425402980535672052"
     },
     "user_tz": -330
    },
    "id": "I34PFwBYdauU",
    "outputId": "4dfdcb3c-74b4-4ed1-f3d8-8cc25a402a40"
   },
   "outputs": [
    {
     "name": "stdout",
     "output_type": "stream",
     "text": [
      "[-3.02569554e-02 -1.10436543e-02 -9.57953829e-03 -1.24331475e-01\n",
      "  6.95682857e-02  1.55257491e-03 -3.10046897e+00  1.08841991e-01\n",
      "  7.31905737e-02 -4.22935769e-02  8.34145869e-02 -4.59943806e-02\n",
      " -8.24955429e-03 -1.09009263e-01 -3.78188223e-02 -5.98767874e-02\n",
      " -2.19672749e-02 -2.65038063e-02  9.17395194e-02  3.04386632e-02\n",
      "  4.75971257e-02  2.24326669e-02  5.81032211e-02  6.03694229e-03\n",
      " -1.20540210e-02 -1.02676334e-01  5.04888880e-02 -8.93170017e-02\n",
      " -6.95778834e-03 -1.14556890e-01 -1.95253943e-01 -1.60493758e-01\n",
      "  4.03892183e-02  5.31978626e-02 -2.19084577e-02 -5.49225829e-02\n",
      " -5.40355103e-02 -7.00488914e-02  1.25479417e-02  3.41972669e-02\n",
      " -1.20129844e-01  1.37990537e-01 -7.49831257e-03 -1.02170287e-01\n",
      " -3.05570554e-02 -5.52082017e-02 -1.42282040e-02 -7.11897981e-02\n",
      " -1.48825160e-02 -1.04964546e-01 -2.25689954e-03 -6.81841623e-02\n",
      "  8.46106806e-02 -3.10060206e-02  6.22965817e-02 -4.42394486e-02\n",
      "  1.30125634e-02 -5.15549143e-03 -3.56335257e-02  1.28285659e-01\n",
      " -1.80263629e-02 -1.00323589e-01  4.12897141e-02 -2.03306005e-02\n",
      " -1.12486542e-01  1.72939426e-01  6.19991800e-02 -9.34933183e-02\n",
      "  1.16360562e-01 -1.30085800e-01 -1.52953956e-01 -5.69467817e-02\n",
      "  9.91581987e-02 -1.52186697e-01 -6.65066960e-02 -2.20047472e-01\n",
      "  6.77697257e-03 -4.71968137e-02  2.95970120e-02  1.14479812e-02\n",
      "  1.10255301e-01 -3.32152343e-01  2.01245302e-02  6.12554407e-02\n",
      " -1.21768259e-01 -1.79412611e-02  5.55635223e-02 -3.88820160e-02\n",
      "  1.15692266e-01 -4.78733938e-02  4.78957413e-02 -1.93206760e-02\n",
      " -7.63933566e-02 -3.89975954e-02 -4.54952331e-02 -2.33831357e-01\n",
      " -2.29042400e+00 -2.16576872e-02  8.20793869e-02  1.31747598e-01\n",
      " -4.82276543e-02 -9.07244800e-03  1.48960444e-01 -1.02188957e-01\n",
      "  1.05510386e-01 -3.54117737e-02  2.82088806e-02 -1.41545183e-01\n",
      "  2.64111091e-02  3.78746589e-02 -7.63413874e-02  2.29378358e-02\n",
      " -8.82747429e-04  2.34226113e-01 -8.35099131e-02  1.25468783e-01\n",
      " -5.54850457e-02 -1.70871103e-02 -6.92883200e-03  6.97940217e-02\n",
      "  1.18799961e-02  2.99295663e-02  5.15116660e-02 -1.18882926e-01\n",
      "  9.53082446e-02 -8.77070880e-02  4.52052648e-02 -3.85002720e-02\n",
      " -3.37632465e-02  9.81608143e-02  3.24567514e-02 -2.43014966e-02\n",
      " -1.81731257e-02 -1.30464906e-01  7.13357943e-03 -5.88653027e-02\n",
      "  1.40142777e-01 -1.07148949e-01  1.14009702e-01  3.80718726e-01\n",
      "  1.35371703e-01  7.06018474e-02  5.96916545e-02 -2.24718154e-02\n",
      "  1.87933614e-02 -1.11123640e-02  3.27684571e-02 -9.00422846e-02\n",
      "  2.24576507e-01 -7.03485429e-03 -4.14606338e-02 -9.66706857e-03\n",
      " -1.31018743e-02 -1.07250903e-01 -2.15336126e-02  6.70102543e-02\n",
      "  3.40009223e-02 -5.83332811e-02 -4.27643925e-02  2.24793486e-02\n",
      "  1.14087429e-04  3.21258954e-02  2.11575863e-02 -4.04739897e-02\n",
      " -6.75352377e-02  3.44093371e-02 -5.83080314e-02  1.01794519e-01\n",
      "  9.22460343e-02 -4.22497943e-02 -7.87369491e-02  7.57471086e-03\n",
      " -4.76714080e-02 -6.63053194e-02  1.09807829e-03  7.27259217e-02\n",
      " -9.30356834e-02  4.07419503e-02 -1.67229609e-01 -1.05585267e-01\n",
      "  2.19824269e-02  2.77661636e-01 -5.16270457e-02  2.16096019e-02\n",
      " -2.61654971e-02 -5.63781537e-02 -7.38983945e-02 -1.04926108e-01\n",
      "  1.42095006e-01  1.10811246e-02 -1.88057969e-02 -7.81225909e-02\n",
      " -1.25431561e-01 -5.81700891e-02 -5.62998286e-03 -1.50177137e-02\n",
      " -1.18646327e-02  5.64381349e-02  5.41978800e-02  5.05847257e-03\n",
      "  3.25796143e-01 -9.26167623e-02 -8.82300000e-02  1.62668863e-01\n",
      " -9.20501434e-02  8.62779143e-03  1.82366909e-02 -1.10163729e-01\n",
      "  1.43305052e-01  6.51854971e-03 -2.94614405e-02 -2.84231989e-02\n",
      " -2.60181303e-02 -1.97912523e-01 -3.82972085e-02  1.11253115e-01\n",
      " -2.32157891e-02 -1.19804909e-01 -5.72450646e-02 -4.79084154e-02\n",
      " -9.73414977e-02 -9.42154846e-02 -9.95822057e-02 -8.06624451e-02\n",
      " -2.10776221e+00  1.02663104e-01  6.06685681e-02 -9.92496400e-03\n",
      "  7.02453629e-02 -4.50802571e-02 -1.62804343e-02 -5.17454577e-02\n",
      "  7.15058171e-03 -1.77369429e-03 -8.77249663e-02  7.42304130e-02\n",
      "  4.85184229e-02 -1.42372731e-02 -9.61662343e-02  8.29208063e-02\n",
      " -2.05122520e-02 -2.25413981e-02 -1.72024879e-01 -3.90814800e-02\n",
      " -7.09553240e-02  6.31269960e-02  6.89646800e-03 -7.98918753e-02\n",
      " -3.71341646e-02 -2.20531789e-02  2.12391314e-02  1.05583287e-01\n",
      "  4.75019931e-02  3.51372766e-02  1.74712919e-01 -1.43211817e-02\n",
      "  1.38327117e-01 -3.13114286e-04  1.22171365e-01 -3.14891126e-02\n",
      " -5.53742424e-02  2.17997897e-02 -1.98603154e-02  3.22737371e-02\n",
      "  1.04642477e-01 -1.86369322e-01 -5.56962956e-02  1.99034331e-02\n",
      "  6.06026486e-02  1.72844926e-02 -1.82408988e-02 -5.71795114e-02\n",
      " -9.14020406e-02  7.81569189e-02  2.23044610e-02  4.58716280e-02\n",
      "  9.10054686e-02  6.04671149e-02 -4.75722571e-02  5.66455754e-02\n",
      "  1.95109342e-01 -7.83327417e-02 -1.82290549e-02  9.13530606e-02\n",
      "  2.71324880e-02  7.84019737e-02  5.75657303e-02 -8.59742280e-03\n",
      "  5.80968171e-02  9.09022000e-03 -1.35323154e-02  1.12169805e-02\n",
      " -8.81835034e-02 -9.94687709e-02  2.43431408e-02 -1.63511134e-02\n",
      " -2.05654349e-03  1.34916216e-01  1.04104615e-01  1.10627503e-01]\n"
     ]
    }
   ],
   "source": [
    "print(avg_w2v[0])"
   ]
  },
  {
   "cell_type": "code",
   "execution_count": 15,
   "metadata": {
    "colab": {
     "base_uri": "https://localhost:8080/"
    },
    "executionInfo": {
     "elapsed": 17,
     "status": "ok",
     "timestamp": 1651559700506,
     "user": {
      "displayName": "mohammed saifuddin",
      "userId": "16425402980535672052"
     },
     "user_tz": -330
    },
    "id": "XbrDG0rPa48D",
    "outputId": "61494a77-8076-4768-9f32-678cc4633147"
   },
   "outputs": [
    {
     "name": "stdout",
     "output_type": "stream",
     "text": [
      "109248\n"
     ]
    }
   ],
   "source": [
    "print(len(avg_w2v))"
   ]
  },
  {
   "cell_type": "code",
   "execution_count": 16,
   "metadata": {
    "colab": {
     "base_uri": "https://localhost:8080/"
    },
    "executionInfo": {
     "elapsed": 12,
     "status": "ok",
     "timestamp": 1651559700506,
     "user": {
      "displayName": "mohammed saifuddin",
      "userId": "16425402980535672052"
     },
     "user_tz": -330
    },
    "id": "-88lKXFYa45_",
    "outputId": "95baf746-7013-4031-9588-f647bbf04739"
   },
   "outputs": [
    {
     "name": "stdout",
     "output_type": "stream",
     "text": [
      "300\n"
     ]
    }
   ],
   "source": [
    "print(len(avg_w2v[0]))"
   ]
  },
  {
   "cell_type": "code",
   "execution_count": 17,
   "metadata": {
    "colab": {
     "base_uri": "https://localhost:8080/"
    },
    "executionInfo": {
     "elapsed": 11890,
     "status": "ok",
     "timestamp": 1651559713093,
     "user": {
      "displayName": "mohammed saifuddin",
      "userId": "16425402980535672052"
     },
     "user_tz": -330
    },
    "id": "CZIkGJOPkDjy",
    "outputId": "d16ecf6a-ff50-4f4a-ca92-1da1771f7a4f"
   },
   "outputs": [
    {
     "data": {
      "text/plain": [
       "TfidfVectorizer()"
      ]
     },
     "execution_count": 17,
     "metadata": {},
     "output_type": "execute_result"
    }
   ],
   "source": [
    "tfidf_model = TfidfVectorizer()\n",
    "tfidf_model.fit(raw_documents=processed_essay)"
   ]
  },
  {
   "cell_type": "code",
   "execution_count": 18,
   "metadata": {
    "colab": {
     "base_uri": "https://localhost:8080/"
    },
    "executionInfo": {
     "elapsed": 16,
     "status": "ok",
     "timestamp": 1651559713094,
     "user": {
      "displayName": "mohammed saifuddin",
      "userId": "16425402980535672052"
     },
     "user_tz": -330
    },
    "id": "DcWCfV3ikDg8",
    "outputId": "c0a648f3-5c21-4e38-b75d-aaa8e1121cc8"
   },
   "outputs": [
    {
     "name": "stdout",
     "output_type": "stream",
     "text": [
      "['00' '000' '000s' ... 'zynergy' 'zz' 'zzzzzzz']\n"
     ]
    }
   ],
   "source": [
    "print(tfidf_model.get_feature_names_out())"
   ]
  },
  {
   "cell_type": "code",
   "execution_count": 19,
   "metadata": {
    "colab": {
     "base_uri": "https://localhost:8080/"
    },
    "executionInfo": {
     "elapsed": 13,
     "status": "ok",
     "timestamp": 1651559713094,
     "user": {
      "displayName": "mohammed saifuddin",
      "userId": "16425402980535672052"
     },
     "user_tz": -330
    },
    "id": "vzqTI0WqkWHP",
    "outputId": "92b9737f-c749-4ba3-dd04-7d2b5023a419"
   },
   "outputs": [
    {
     "name": "stdout",
     "output_type": "stream",
     "text": [
      "[ 7.18528456  5.91178569 11.90823778 ... 11.50277267 11.50277267\n",
      " 11.90823778]\n"
     ]
    }
   ],
   "source": [
    "print(tfidf_model.idf_)"
   ]
  },
  {
   "cell_type": "code",
   "execution_count": 20,
   "metadata": {
    "executionInfo": {
     "elapsed": 674,
     "status": "ok",
     "timestamp": 1651559713757,
     "user": {
      "displayName": "mohammed saifuddin",
      "userId": "16425402980535672052"
     },
     "user_tz": -330
    },
    "id": "BUTe_XqJkWEU"
   },
   "outputs": [],
   "source": [
    "dictionary = dict(zip(tfidf_model.get_feature_names_out(), tfidf_model.idf_))"
   ]
  },
  {
   "cell_type": "code",
   "execution_count": 21,
   "metadata": {
    "executionInfo": {
     "elapsed": 6,
     "status": "ok",
     "timestamp": 1651559713757,
     "user": {
      "displayName": "mohammed saifuddin",
      "userId": "16425402980535672052"
     },
     "user_tz": -330
    },
    "id": "Ol78KuVbkWCP"
   },
   "outputs": [],
   "source": [
    "tfidf_words = set(tfidf_model.get_feature_names_out())"
   ]
  },
  {
   "cell_type": "code",
   "execution_count": 22,
   "metadata": {
    "colab": {
     "base_uri": "https://localhost:8080/"
    },
    "executionInfo": {
     "elapsed": 303108,
     "status": "ok",
     "timestamp": 1651560016860,
     "user": {
      "displayName": "mohammed saifuddin",
      "userId": "16425402980535672052"
     },
     "user_tz": -330
    },
    "id": "fH_qipz2iNbE",
    "outputId": "e77c0963-4a98-4dbe-83e4-55b81069ac59"
   },
   "outputs": [
    {
     "name": "stderr",
     "output_type": "stream",
     "text": [
      "100%|██████████████████████████████████████████████████████████| 109248/109248 [02:39<00:00, 684.57it/s]\n"
     ]
    }
   ],
   "source": [
    "tfidf_w2v = list()\n",
    "for essay in tqdm(processed_essay):\n",
    "    vect = np.zeros(dim)\n",
    "    tfidf_weight = 0\n",
    "    for word in essay.split():\n",
    "        if (word in glove_words) and (word in tfidf_words):\n",
    "            tfidf_vec = model[word]\n",
    "            idf = dictionary[word]\n",
    "            tf = essay.count(word) / len(essay.split())\n",
    "            vect += (tfidf_vec * tf * idf)\n",
    "            tfidf_weight += (tf * idf)\n",
    "    if tfidf_weight > 0:\n",
    "        vect /= tfidf_weight\n",
    "    tfidf_w2v.append(vect)"
   ]
  },
  {
   "cell_type": "code",
   "execution_count": 23,
   "metadata": {
    "colab": {
     "base_uri": "https://localhost:8080/"
    },
    "executionInfo": {
     "elapsed": 4,
     "status": "ok",
     "timestamp": 1651560018845,
     "user": {
      "displayName": "mohammed saifuddin",
      "userId": "16425402980535672052"
     },
     "user_tz": -330
    },
    "id": "YlHFopC1ohaB",
    "outputId": "c9d73d6d-5901-4027-c276-49c4dff7b82a"
   },
   "outputs": [
    {
     "name": "stdout",
     "output_type": "stream",
     "text": [
      "[-2.27924638e-02 -8.69357138e-03  8.65564093e-02 -1.65780617e-01\n",
      "  2.32385195e-01  7.82539979e-02 -2.57652443e+00  7.35099876e-02\n",
      "  1.43973216e-01  4.43961921e-02  5.08972257e-02 -1.53119302e-01\n",
      " -1.93082123e-01 -6.47660110e-02 -4.87920257e-02 -2.81929431e-02\n",
      " -7.76188781e-02 -1.86635906e-02  1.42132297e-01  1.45003574e-01\n",
      " -2.64582574e-03  1.50895593e-01  2.40953732e-01  5.38177960e-02\n",
      " -3.14382959e-02 -1.50967760e-01 -7.39392300e-03 -1.46922200e-01\n",
      "  7.66973365e-02 -2.75086000e-01 -6.60259435e-02 -4.67757588e-01\n",
      " -3.07433643e-02  3.52752287e-02 -2.68578053e-02 -1.05321659e-01\n",
      " -7.07048364e-02 -1.43525362e-01  1.33038214e-01  1.37083250e-01\n",
      " -3.09181358e-01  5.29982466e-02  4.73578161e-02  3.56331974e-02\n",
      " -8.83575899e-02 -5.22576207e-02 -1.98690783e-01 -2.04844445e-01\n",
      " -2.25694214e-02 -8.26605657e-02  8.41722533e-02 -1.24063331e-01\n",
      "  1.46529801e-01  1.31369888e-02  1.03181216e-01  1.06695794e-01\n",
      "  2.30884721e-02  1.09845335e-01  5.02774457e-02  2.12857030e-01\n",
      " -1.11785480e-01 -2.31516964e-01 -4.23853900e-02  2.23301859e-02\n",
      " -1.61283274e-01  3.40865195e-01  1.32323950e-01 -1.10820702e-01\n",
      "  1.10035547e-01  1.09673293e-01 -2.27885087e-01 -1.53398949e-01\n",
      "  1.46500457e-01 -1.08597562e-01 -1.42415746e-01 -2.20771540e-01\n",
      " -5.33793370e-02 -2.24078853e-02 -1.28328329e-01  8.21727614e-02\n",
      "  2.84616345e-01 -9.85835941e-02  1.15198797e-01  3.66843746e-01\n",
      " -1.20076301e-01  6.17913788e-02  3.15682772e-02  4.99288122e-02\n",
      "  1.40780614e-01 -1.19681452e-01  6.77650123e-02  2.02265453e-02\n",
      " -1.88912513e-01 -6.10194034e-02  1.40146669e-01 -3.25412739e-01\n",
      " -2.15199576e+00 -1.63682803e-01  1.38022107e-02  1.00922877e-01\n",
      "  5.37424761e-02 -5.75061969e-02  2.61185914e-01 -2.42402890e-01\n",
      "  2.89493250e-01 -2.40063264e-02 -9.50849888e-02  1.20644301e-01\n",
      "  3.13342330e-02  1.30316456e-01 -1.28087344e-01  1.48429198e-01\n",
      " -8.70434167e-02  1.75715224e-01 -3.30642549e-02  3.04532475e-02\n",
      "  1.08219426e-01 -1.07890758e-02 -1.79955728e-01  2.38894494e-01\n",
      "  1.65538174e-02 -1.30322921e-02  9.70245024e-02 -1.91018170e-01\n",
      "  6.98584382e-02 -5.36842408e-02  5.85332465e-02 -1.25126020e-01\n",
      " -7.96571594e-02 -1.24899009e-02  9.37356139e-02  1.45632274e-02\n",
      " -1.42880436e-02 -2.23179980e-01 -1.57337549e-01  5.83890293e-02\n",
      " -6.60369205e-02 -1.92504153e-01  1.97162555e-01  4.07169022e-01\n",
      "  1.40137678e-01  1.03782574e-01  1.43824254e-01 -1.64458761e-01\n",
      "  2.27336862e-03  1.67697398e-01 -5.01198314e-02 -1.88413398e-01\n",
      "  2.80341255e-01 -8.23059046e-02 -1.93199664e-01 -1.08192161e-01\n",
      " -1.43857108e-01 -2.28343845e-01 -1.21947937e-01  1.23128461e-01\n",
      "  7.63849697e-02 -2.06829327e-01 -4.68741691e-02  6.58215377e-02\n",
      " -2.12895754e-01 -2.36027323e-02  9.47573401e-02  8.95648828e-03\n",
      " -1.59411428e-01 -5.75873177e-02 -1.82911375e-02  1.37088518e-01\n",
      "  8.70162851e-02  2.51524493e-02 -6.64062756e-02  1.64638938e-01\n",
      " -1.56011725e-01  3.07059704e-03 -2.07088991e-02  5.36785735e-02\n",
      " -1.01666307e-01  2.35179873e-01 -1.79593507e-01 -1.43169353e-01\n",
      "  1.22475564e-01  2.61163320e-01 -1.50342283e-01  2.08892740e-01\n",
      "  1.35006529e-01  1.00746490e-02 -1.94997140e-01 -1.51646012e-01\n",
      "  2.60956890e-01  1.16431162e-01 -2.59818625e-02  7.45442372e-03\n",
      " -3.07306351e-01 -1.31272234e-01 -3.33266992e-02 -6.92198517e-02\n",
      " -4.29758547e-02  1.38618466e-02  2.08254382e-02  3.60837122e-02\n",
      "  4.97249917e-01 -1.24794961e-01 -1.62465594e-01  1.97774164e-01\n",
      " -4.72921389e-02 -1.12233604e-01 -4.98613221e-03 -1.42236640e-01\n",
      " -6.64515881e-03 -3.32544625e-02 -3.29642555e-01 -1.45533884e-01\n",
      " -1.18569992e-01 -1.59402847e-01  1.21718029e-01  2.29467273e-01\n",
      "  1.01452573e-01 -2.32776622e-01 -8.81518622e-02 -1.28943148e-01\n",
      " -1.62040441e-01 -1.62039672e-02 -2.98713399e-02 -7.95882988e-02\n",
      " -2.02712747e+00 -4.33727631e-03  1.57953941e-01 -2.66813620e-03\n",
      "  2.27674921e-01  1.59162642e-01  9.42577075e-02 -4.25343876e-02\n",
      "  5.90050948e-02 -5.95891288e-02  6.06722763e-02  1.97812387e-01\n",
      "  1.27643785e-01 -1.57160322e-01 -1.07222116e-01 -2.39974318e-02\n",
      "  4.47842260e-02 -2.05073067e-01  1.19239400e-01 -2.60092001e-01\n",
      " -2.37682047e-01  6.38580570e-02  1.32882194e-01 -1.37989267e-01\n",
      " -1.09303897e-01 -1.67812732e-01  1.51073908e-01  1.60883979e-01\n",
      "  6.34066982e-02  1.05582961e-01  2.82248168e-01 -2.60365619e-02\n",
      "  1.78237251e-01  6.52115894e-02  1.52871873e-01  8.21390058e-02\n",
      " -1.18209907e-01  2.01856244e-01 -1.15866979e-01  3.57428197e-02\n",
      "  1.10851529e-01 -3.10690811e-01  1.47347846e-01  1.45210590e-01\n",
      "  6.72465277e-02  1.56838042e-01 -6.41684658e-02 -1.34203835e-01\n",
      "  1.25999791e-01  2.21555197e-01  1.06208748e-01  2.84204851e-02\n",
      "  4.65715486e-02  1.48755949e-01 -1.30675120e-02  2.84841178e-02\n",
      "  3.26934454e-02 -1.30349251e-01 -9.72245445e-03  4.21799507e-02\n",
      " -3.31274034e-02 -7.92763346e-02  1.60090508e-01 -3.47486130e-02\n",
      "  8.68975450e-02 -3.31982909e-02 -1.15119312e-01  8.69131379e-02\n",
      " -9.27929037e-02 -2.23367444e-01 -1.36303537e-01 -2.16254593e-01\n",
      "  7.59438537e-02  2.03145160e-01  1.81878025e-02  9.37906975e-02]\n"
     ]
    }
   ],
   "source": [
    "print(tfidf_w2v[0])"
   ]
  },
  {
   "cell_type": "code",
   "execution_count": 24,
   "metadata": {
    "colab": {
     "base_uri": "https://localhost:8080/"
    },
    "executionInfo": {
     "elapsed": 660,
     "status": "ok",
     "timestamp": 1651560032612,
     "user": {
      "displayName": "mohammed saifuddin",
      "userId": "16425402980535672052"
     },
     "user_tz": -330
    },
    "id": "3evS8fV1jaPf",
    "outputId": "3af1d1ee-3540-4220-8d93-4a470159d63c"
   },
   "outputs": [
    {
     "name": "stdout",
     "output_type": "stream",
     "text": [
      "109248\n"
     ]
    }
   ],
   "source": [
    "print(len(tfidf_w2v))"
   ]
  },
  {
   "cell_type": "code",
   "execution_count": 25,
   "metadata": {
    "colab": {
     "base_uri": "https://localhost:8080/"
    },
    "executionInfo": {
     "elapsed": 5,
     "status": "ok",
     "timestamp": 1651560032612,
     "user": {
      "displayName": "mohammed saifuddin",
      "userId": "16425402980535672052"
     },
     "user_tz": -330
    },
    "id": "Cut9CKM5jaMs",
    "outputId": "d4597b75-3cd3-4f86-e9b2-89daf939ce40"
   },
   "outputs": [
    {
     "name": "stdout",
     "output_type": "stream",
     "text": [
      "300\n"
     ]
    }
   ],
   "source": [
    "print(len(tfidf_w2v[0]))"
   ]
  },
  {
   "cell_type": "markdown",
   "metadata": {
    "id": "HwfcKee6oqHv"
   },
   "source": [
    "#### `school_state` binary vectorizer"
   ]
  },
  {
   "cell_type": "code",
   "execution_count": 26,
   "metadata": {
    "colab": {
     "base_uri": "https://localhost:8080/"
    },
    "executionInfo": {
     "elapsed": 401,
     "status": "ok",
     "timestamp": 1651560036732,
     "user": {
      "displayName": "mohammed saifuddin",
      "userId": "16425402980535672052"
     },
     "user_tz": -330
    },
    "id": "muZeRoBUjaJ_",
    "outputId": "0d7b0575-c4f1-4fdf-e341-4e5186813e72"
   },
   "outputs": [
    {
     "name": "stdout",
     "output_type": "stream",
     "text": [
      "Shape of matrix after one hot encodig: (109248, 51)\n"
     ]
    }
   ],
   "source": [
    "vect = CountVectorizer(binary=True)\n",
    "school_state_ohe = vect.fit_transform(raw_documents=processed_df['school_state'].values)\n",
    "print(\"Shape of matrix after one hot encodig: {}\".format(school_state_ohe.shape))"
   ]
  },
  {
   "cell_type": "markdown",
   "metadata": {
    "id": "fefDhSSOpWVS"
   },
   "source": [
    "End of the file."
   ]
  }
 ],
 "metadata": {
  "colab": {
   "authorship_tag": "ABX9TyOFpahKIJ+xMJ/e6Hd3tj0X",
   "collapsed_sections": [],
   "name": "A08-03-Vectorization.ipynb",
   "provenance": []
  },
  "kernelspec": {
   "display_name": "Python 3 (ipykernel)",
   "language": "python",
   "name": "python3"
  },
  "language_info": {
   "codemirror_mode": {
    "name": "ipython",
    "version": 3
   },
   "file_extension": ".py",
   "mimetype": "text/x-python",
   "name": "python",
   "nbconvert_exporter": "python",
   "pygments_lexer": "ipython3",
   "version": "3.10.4"
  }
 },
 "nbformat": 4,
 "nbformat_minor": 1
}
