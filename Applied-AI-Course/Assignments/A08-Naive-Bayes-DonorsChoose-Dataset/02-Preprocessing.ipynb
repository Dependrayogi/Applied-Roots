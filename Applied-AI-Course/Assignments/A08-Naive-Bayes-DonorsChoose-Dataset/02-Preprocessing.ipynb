{
 "cells": [
  {
   "cell_type": "markdown",
   "metadata": {
    "id": "TnzJ7Nkqoc2_"
   },
   "source": [
    "### DonorsChoose\n",
    "\n",
    "<p>\n",
    "DonorsChoose.org receives hundreds of thousands of project proposals each year for classroom projects in need of funding. Right now, a large number of volunteers is needed to manually screen each submission before it's approved to be posted on the DonorsChoose.org website.\n",
    "</p>\n",
    "<p>\n",
    "    Next year, DonorsChoose.org expects to receive close to 500,000 project proposals. As a result, there are three main problems they need to solve:\n",
    "<ul>\n",
    "<li>\n",
    "    How to scale current manual processes and resources to screen 500,000 projects so that they can be posted as quickly and as efficiently as possible</li>\n",
    "    <li>How to increase the consistency of project vetting across different volunteers to improve the experience for teachers</li>\n",
    "    <li>How to focus volunteer time on the applications that need the most assistance</li>\n",
    "    </ul>\n",
    "</p>    \n",
    "<p>\n",
    "The goal of the competition is to predict whether or not a DonorsChoose.org project proposal submitted by a teacher will be approved, using the text of project descriptions as well as additional metadata about the project, teacher, and school. DonorsChoose.org can then use this information to identify projects most likely to need further review before approval.\n",
    "</p>"
   ]
  },
  {
   "cell_type": "markdown",
   "metadata": {
    "id": "0LUPgFS9oc3A"
   },
   "source": [
    "### About the DonorsChoose Data Set\n",
    "\n",
    "The `train.csv` data set provided by DonorsChoose contains the following features:\n",
    "\n",
    "Feature | Description \n",
    "----------|---------------\n",
    "**`project_id`** | A unique identifier for the proposed project. **Example:** `p036502`   \n",
    "**`project_title`**    | Title of the project. **Examples:**<br><ul><li><code>Art Will Make You Happy!</code></li><li><code>First Grade Fun</code></li></ul> \n",
    "**`project_grade_category`** | Grade level of students for which the project is targeted. One of the following enumerated values: <br/><ul><li><code>Grades PreK-2</code></li><li><code>Grades 3-5</code></li><li><code>Grades 6-8</code></li><li><code>Grades 9-12</code></li></ul>  \n",
    " **`project_subject_categories`** | One or more (comma-separated) subject categories for the project from the following enumerated list of values:  <br/><ul><li><code>Applied Learning</code></li><li><code>Care &amp; Hunger</code></li><li><code>Health &amp; Sports</code></li><li><code>History &amp; Civics</code></li><li><code>Literacy &amp; Language</code></li><li><code>Math &amp; Science</code></li><li><code>Music &amp; The Arts</code></li><li><code>Special Needs</code></li><li><code>Warmth</code></li></ul><br/> **Examples:** <br/><ul><li><code>Music &amp; The Arts</code></li><li><code>Literacy &amp; Language, Math &amp; Science</code></li>  \n",
    "  **`school_state`** | State where school is located ([Two-letter U.S. postal code](https://en.wikipedia.org/wiki/List_of_U.S._state_abbreviations#Postal_codes)). **Example:** `WY`\n",
    "**`project_subject_subcategories`** | One or more (comma-separated) subject subcategories for the project. **Examples:** <br/><ul><li><code>Literacy</code></li><li><code>Literature &amp; Writing, Social Sciences</code></li></ul> \n",
    "**`project_resource_summary`** | An explanation of the resources needed for the project. **Example:** <br/><ul><li><code>My students need hands on literacy materials to manage sensory needs!</code</li></ul> \n",
    "**`project_essay_1`**    | First application essay<sup>*</sup>  \n",
    "**`project_essay_2`**    | Second application essay<sup>*</sup> \n",
    "**`project_essay_3`**    | Third application essay<sup>*</sup> \n",
    "**`project_essay_4`**    | Fourth application essay<sup>*</sup> \n",
    "**`project_submitted_datetime`** | Datetime when project application was submitted. **Example:** `2016-04-28 12:43:56.245`   \n",
    "**`teacher_id`** | A unique identifier for the teacher of the proposed project. **Example:** `bdf8baa8fedef6bfeec7ae4ff1c15c56`  \n",
    "**`teacher_prefix`** | Teacher's title. One of the following enumerated values: <br/><ul><li><code>nan</code></li><li><code>Dr.</code></li><li><code>Mr.</code></li><li><code>Mrs.</code></li><li><code>Ms.</code></li><li><code>Teacher.</code></li></ul>  \n",
    "**`teacher_number_of_previously_posted_projects`** | Number of project applications previously submitted by the same teacher. **Example:** `2` \n",
    "\n",
    "See the section <b>Notes on the Essay Data</b> for more details about these features.\n",
    "\n",
    "Additionally, the `resources.csv` data set provides more data about the resources required for each project. Each line in this file represents a resource required by a project:\n",
    "\n",
    "Feature | Description \n",
    "----------|---------------\n",
    "**`id`** | A `project_id` value from the `train.csv` file.  **Example:** `p036502`   \n",
    "**`description`** | Desciption of the resource. **Example:** `Tenor Saxophone Reeds, Box of 25`   \n",
    "**`quantity`** | Quantity of the resource required. **Example:** `3`   \n",
    "**`price`** | Price of the resource required. **Example:** `9.95`   \n",
    "\n",
    "**Note:** Many projects require multiple resources. The `id` value corresponds to a `project_id` in train.csv, so you use it as a key to retrieve all resources needed for a project:\n",
    "\n",
    "The data set contains the following label (the value you will attempt to predict):\n",
    "\n",
    "Label | Description\n",
    "----------|---------------\n",
    "`project_is_approved` | A binary flag indicating whether DonorsChoose approved the project. A value of `0` indicates the project was not approved, and a value of `1` indicates the project was approved."
   ]
  },
  {
   "cell_type": "markdown",
   "metadata": {
    "id": "4nXezp54oc3B"
   },
   "source": [
    "### Notes on the Essay Data\n",
    "\n",
    "<ul>\n",
    "Prior to May 17, 2016, the prompts for the essays were as follows:\n",
    "<li>project_essay_1: \"Introduce us to your classroom\"</li>\n",
    "<li>project_essay_2: \"Tell us more about your students\"</li>\n",
    "<li>project_essay_3: \"Describe how your students will use the materials you're requesting\"</li>\n",
    "<li>project_essay_3: \"Close by sharing why your project will make a difference\"</li>\n",
    "</ul>\n",
    "\n",
    "\n",
    "<ul>\n",
    "Starting on May 17, 2016, the number of essays was reduced from 4 to 2, and the prompts for the first 2 essays were changed to the following:<br>\n",
    "<li>project_essay_1: \"Describe your students: What makes your students special? Specific details about their background, your neighborhood, and your school are all helpful.\"</li>\n",
    "<li>project_essay_2: \"About your project: How will these materials make a difference in your students' learning and improve their school lives?\"</li>\n",
    "<br>For all projects with project_submitted_datetime of 2016-05-17 and later, the values of project_essay_3 and project_essay_4 will be NaN.\n",
    "</ul>\n"
   ]
  },
  {
   "cell_type": "code",
   "execution_count": 1,
   "metadata": {
    "executionInfo": {
     "elapsed": 9,
     "status": "ok",
     "timestamp": 1651492966071,
     "user": {
      "displayName": "mohammed saifuddin",
      "userId": "16425402980535672052"
     },
     "user_tz": -330
    },
    "id": "yjj0yEbXHZIB"
   },
   "outputs": [],
   "source": [
    "import warnings\n",
    "warnings.filterwarnings('ignore')"
   ]
  },
  {
   "cell_type": "markdown",
   "metadata": {
    "id": "oLfQPu_cjcWk"
   },
   "source": [
    "### Reading the data"
   ]
  },
  {
   "cell_type": "code",
   "execution_count": 2,
   "metadata": {
    "executionInfo": {
     "elapsed": 716,
     "status": "ok",
     "timestamp": 1651492986223,
     "user": {
      "displayName": "mohammed saifuddin",
      "userId": "16425402980535672052"
     },
     "user_tz": -330
    },
    "id": "PqVrMIamgchE"
   },
   "outputs": [],
   "source": [
    "from tqdm import tqdm\n",
    "import numpy as np\n",
    "import pandas as pd\n",
    "import re"
   ]
  },
  {
   "cell_type": "code",
   "execution_count": 3,
   "metadata": {
    "executionInfo": {
     "elapsed": 5273,
     "status": "ok",
     "timestamp": 1651492991492,
     "user": {
      "displayName": "mohammed saifuddin",
      "userId": "16425402980535672052"
     },
     "user_tz": -330
    },
    "id": "mhRxkm0ZgV-M"
   },
   "outputs": [],
   "source": [
    "project_df = pd.read_csv(filepath_or_buffer='train_data.csv')"
   ]
  },
  {
   "cell_type": "code",
   "execution_count": 4,
   "metadata": {
    "colab": {
     "base_uri": "https://localhost:8080/"
    },
    "executionInfo": {
     "elapsed": 9,
     "status": "ok",
     "timestamp": 1651492991493,
     "user": {
      "displayName": "mohammed saifuddin",
      "userId": "16425402980535672052"
     },
     "user_tz": -330
    },
    "id": "lcxYQ-olgz9l",
    "outputId": "f64df5a0-7549-485e-a987-e1005e444c5a"
   },
   "outputs": [
    {
     "name": "stdout",
     "output_type": "stream",
     "text": [
      "The total number of data points in train data: (109248, 17)\n"
     ]
    }
   ],
   "source": [
    "print(\"The total number of data points in train data: {}\".format(project_df.shape))"
   ]
  },
  {
   "cell_type": "code",
   "execution_count": 5,
   "metadata": {
    "executionInfo": {
     "elapsed": 5905,
     "status": "ok",
     "timestamp": 1651492997392,
     "user": {
      "displayName": "mohammed saifuddin",
      "userId": "16425402980535672052"
     },
     "user_tz": -330
    },
    "id": "4BlisarWg7V1"
   },
   "outputs": [],
   "source": [
    "resource_df = pd.read_csv(filepath_or_buffer='resources.csv')"
   ]
  },
  {
   "cell_type": "code",
   "execution_count": 6,
   "metadata": {
    "colab": {
     "base_uri": "https://localhost:8080/"
    },
    "executionInfo": {
     "elapsed": 17,
     "status": "ok",
     "timestamp": 1651492997392,
     "user": {
      "displayName": "mohammed saifuddin",
      "userId": "16425402980535672052"
     },
     "user_tz": -330
    },
    "id": "GEglGbKHih0u",
    "outputId": "8d08ef8d-c613-4f94-8bdb-5e7d55a4b1c0"
   },
   "outputs": [
    {
     "name": "stdout",
     "output_type": "stream",
     "text": [
      "The total number of data points in resources data: (1541272, 4)\n"
     ]
    }
   ],
   "source": [
    "print(\"The total number of data points in resources data: {}\".format(resource_df.shape))"
   ]
  },
  {
   "cell_type": "markdown",
   "metadata": {
    "id": "kj2MsyQKbDmE"
   },
   "source": [
    "### Preprocessing helping functions"
   ]
  },
  {
   "cell_type": "code",
   "execution_count": 7,
   "metadata": {
    "executionInfo": {
     "elapsed": 14,
     "status": "ok",
     "timestamp": 1651492997392,
     "user": {
      "displayName": "mohammed saifuddin",
      "userId": "16425402980535672052"
     },
     "user_tz": -330
    },
    "id": "tn8r_T5aaSeF"
   },
   "outputs": [],
   "source": [
    "def helper1(string):\n",
    "    \"\"\"\n",
    "    This function helps in preprocessing.\n",
    "    \"\"\"\n",
    "    string = string.lower()\n",
    "    string = string.replace(' ', '_').replace('-', '_').replace('.', '')\n",
    "    return string"
   ]
  },
  {
   "cell_type": "code",
   "execution_count": 8,
   "metadata": {
    "executionInfo": {
     "elapsed": 14,
     "status": "ok",
     "timestamp": 1651492997393,
     "user": {
      "displayName": "mohammed saifuddin",
      "userId": "16425402980535672052"
     },
     "user_tz": -330
    },
    "id": "kYqyw48-aSbS"
   },
   "outputs": [],
   "source": [
    "def helper2(string):\n",
    "    \"\"\"\n",
    "    This function helps in preprocessing.\n",
    "    \"\"\"\n",
    "    string = string.lower()\n",
    "    string = string.replace(' the ', '').replace(' ', '').replace('&', '_').replace(',', '_')\n",
    "    return string"
   ]
  },
  {
   "cell_type": "markdown",
   "metadata": {
    "id": "vCbSGFq2dwIM"
   },
   "source": [
    "Reference: https://stackoverflow.com/a/47091490/4084039"
   ]
  },
  {
   "cell_type": "code",
   "execution_count": 9,
   "metadata": {
    "executionInfo": {
     "elapsed": 14,
     "status": "ok",
     "timestamp": 1651492997393,
     "user": {
      "displayName": "mohammed saifuddin",
      "userId": "16425402980535672052"
     },
     "user_tz": -330
    },
    "id": "h2O1tRXjaSY5"
   },
   "outputs": [],
   "source": [
    "def decontracted(string):\n",
    "    \"\"\"\n",
    "    This function is used to handle contractions.\n",
    "    \"\"\"\n",
    "    # specific\n",
    "    string = re.sub(r\"won\\'t\", \"will not\", string)\n",
    "    string = re.sub(r\"can\\'t\", \"can not\", string)\n",
    "    # general\n",
    "    string = re.sub(r\"n\\'t\", \" not\", string)\n",
    "    string = re.sub(r\"\\'re\", \" are\", string)\n",
    "    string = re.sub(r\"\\'s\", \" is\", string)\n",
    "    string = re.sub(r\"\\'d\", \" would\", string)\n",
    "    string = re.sub(r\"\\'ll\", \" will\", string)\n",
    "    string = re.sub(r\"\\'t\", \" not\", string)\n",
    "    string = re.sub(r\"\\'ve\", \" have\", string)\n",
    "    string = re.sub(r\"\\'m\", \" am\", string)\n",
    "    return string"
   ]
  },
  {
   "cell_type": "markdown",
   "metadata": {
    "id": "aeSSKX-og3ju"
   },
   "source": [
    "Reference: https://gist.github.com/sebleier/554280"
   ]
  },
  {
   "cell_type": "code",
   "execution_count": 10,
   "metadata": {
    "executionInfo": {
     "elapsed": 13,
     "status": "ok",
     "timestamp": 1651492997393,
     "user": {
      "displayName": "mohammed saifuddin",
      "userId": "16425402980535672052"
     },
     "user_tz": -330
    },
    "id": "0UUPn10faSW9"
   },
   "outputs": [],
   "source": [
    "stopwords= ['i', 'me', 'my', 'myself', 'we', 'our', 'ours', 'ourselves', 'you',\n",
    "            \"you're\", \"you've\", \"you'll\", \"you'd\", 'your', 'yours', 'yourself',\n",
    "            'yourselves', 'he', 'him', 'his', 'himself', 'she', \"she's\", 'her',\n",
    "            'hers', 'herself', 'it', \"it's\", 'its', 'itself', 'they', 'them',\n",
    "            'their', 'theirs', 'themselves', 'what', 'which', 'who', 'whom',\n",
    "            'this', 'that', \"that'll\", 'these', 'those', 'am', 'is', 'are',\n",
    "            'was', 'were', 'be', 'been', 'being', 'have', 'has', 'had', 'having',\n",
    "            'do', 'does', 'did', 'doing', 'a', 'an', 'the', 'and', 'but', 'if',\n",
    "            'or', 'because', 'as', 'until', 'while', 'of', 'at', 'by', 'for',\n",
    "            'with', 'about', 'against', 'between', 'into', 'through', 'during',\n",
    "            'before', 'after', 'above', 'below', 'to', 'from', 'up', 'down',\n",
    "            'in', 'out', 'on', 'off', 'over', 'under', 'again', 'further', 'then',\n",
    "            'once', 'here', 'there', 'when', 'where', 'why', 'how', 'all', 'any',\n",
    "            'both', 'each', 'few', 'more', 'most', 'other', 'some', 'such', 'only',\n",
    "            'own', 'same', 'so', 'than', 'too', 'very', 's', 't', 'can', 'will',\n",
    "            'just', 'don', \"don't\", 'should', \"should've\", 'now', 'd', 'll', 'm',\n",
    "            'o', 're', 've', 'y', 'ain', 'aren', \"aren't\", 'couldn', \"couldn't\",\n",
    "            'didn', \"didn't\", 'doesn', \"doesn't\", 'hadn', \"hadn't\", 'hasn',\n",
    "            \"hasn't\", 'haven', \"haven't\", 'isn', \"isn't\", 'ma', 'mightn',\n",
    "            \"mightn't\", 'mustn', \"mustn't\", 'needn', \"needn't\", 'shan', \"shan't\",\n",
    "            'shouldn', \"shouldn't\", 'wasn', \"wasn't\", 'weren', \"weren't\", 'won',\n",
    "            \"won't\", 'wouldn', \"wouldn't\"]"
   ]
  },
  {
   "cell_type": "code",
   "execution_count": 11,
   "metadata": {
    "executionInfo": {
     "elapsed": 14,
     "status": "ok",
     "timestamp": 1651492997394,
     "user": {
      "displayName": "mohammed saifuddin",
      "userId": "16425402980535672052"
     },
     "user_tz": -330
    },
    "id": "bB0UV-0caSUj"
   },
   "outputs": [],
   "source": [
    "def preprocess_text(string):\n",
    "    string = decontracted(string=string)\n",
    "    string = string.replace('\\\\r', ' ').replace('\\\\n', ' ').replace('\\\\\"', ' ')\n",
    "    string = re.sub('[^A-Za-z0-9]+', ' ', string)\n",
    "    string = ' '.join(e for e in string.split() if e.lower() not in stopwords)\n",
    "    string = string.lower().strip()\n",
    "    return string"
   ]
  },
  {
   "cell_type": "markdown",
   "metadata": {
    "id": "9w4H_fFClG3b"
   },
   "source": [
    "### Preprocessing the columns"
   ]
  },
  {
   "cell_type": "markdown",
   "metadata": {
    "id": "TrghccZIlLWO"
   },
   "source": [
    "#### `project_grade_category`\n",
    "\n",
    "- Remove the spaces ' '\n",
    "- Replace the - with the _\n",
    "- Convert all the letters to small"
   ]
  },
  {
   "cell_type": "code",
   "execution_count": 12,
   "metadata": {
    "executionInfo": {
     "elapsed": 13,
     "status": "ok",
     "timestamp": 1651492997394,
     "user": {
      "displayName": "mohammed saifuddin",
      "userId": "16425402980535672052"
     },
     "user_tz": -330
    },
    "id": "immQ9DvIaSST"
   },
   "outputs": [],
   "source": [
    "project_df['project_grade_category'] = project_df['project_grade_category'].apply(func=helper1)"
   ]
  },
  {
   "cell_type": "code",
   "execution_count": 13,
   "metadata": {
    "colab": {
     "base_uri": "https://localhost:8080/",
     "height": 175
    },
    "executionInfo": {
     "elapsed": 846,
     "status": "ok",
     "timestamp": 1651492998227,
     "user": {
      "displayName": "mohammed saifuddin",
      "userId": "16425402980535672052"
     },
     "user_tz": -330
    },
    "id": "3FFDSb8baSP7",
    "outputId": "69abbcff-ef54-454a-b3fe-4b46f740db7d"
   },
   "outputs": [
    {
     "data": {
      "text/html": [
       "<div>\n",
       "<style scoped>\n",
       "    .dataframe tbody tr th:only-of-type {\n",
       "        vertical-align: middle;\n",
       "    }\n",
       "\n",
       "    .dataframe tbody tr th {\n",
       "        vertical-align: top;\n",
       "    }\n",
       "\n",
       "    .dataframe thead th {\n",
       "        text-align: right;\n",
       "    }\n",
       "</style>\n",
       "<table border=\"1\" class=\"dataframe\">\n",
       "  <thead>\n",
       "    <tr style=\"text-align: right;\">\n",
       "      <th></th>\n",
       "      <th>project_grade_category</th>\n",
       "    </tr>\n",
       "  </thead>\n",
       "  <tbody>\n",
       "    <tr>\n",
       "      <th>grades_prek_2</th>\n",
       "      <td>44225</td>\n",
       "    </tr>\n",
       "    <tr>\n",
       "      <th>grades_3_5</th>\n",
       "      <td>37137</td>\n",
       "    </tr>\n",
       "    <tr>\n",
       "      <th>grades_6_8</th>\n",
       "      <td>16923</td>\n",
       "    </tr>\n",
       "    <tr>\n",
       "      <th>grades_9_12</th>\n",
       "      <td>10963</td>\n",
       "    </tr>\n",
       "  </tbody>\n",
       "</table>\n",
       "</div>"
      ],
      "text/plain": [
       "               project_grade_category\n",
       "grades_prek_2                   44225\n",
       "grades_3_5                      37137\n",
       "grades_6_8                      16923\n",
       "grades_9_12                     10963"
      ]
     },
     "metadata": {},
     "output_type": "display_data"
    }
   ],
   "source": [
    "display(project_df['project_grade_category'].value_counts().to_frame())"
   ]
  },
  {
   "cell_type": "markdown",
   "metadata": {
    "id": "OtIL6PKgmLY8"
   },
   "source": [
    "#### `project_subject_categories`\n",
    "\n",
    "- Remove the spaces ' ' and 'the'\n",
    "- Replace the &, the , with the _\n",
    "- Convert all the letters to small"
   ]
  },
  {
   "cell_type": "code",
   "execution_count": 14,
   "metadata": {
    "executionInfo": {
     "elapsed": 31,
     "status": "ok",
     "timestamp": 1651492998227,
     "user": {
      "displayName": "mohammed saifuddin",
      "userId": "16425402980535672052"
     },
     "user_tz": -330
    },
    "id": "OlVrHCVlaSNx"
   },
   "outputs": [],
   "source": [
    "project_df['project_subject_categories'] = project_df['project_subject_categories'].apply(func=helper2)"
   ]
  },
  {
   "cell_type": "code",
   "execution_count": 15,
   "metadata": {
    "colab": {
     "base_uri": "https://localhost:8080/",
     "height": 206
    },
    "executionInfo": {
     "elapsed": 31,
     "status": "ok",
     "timestamp": 1651492998228,
     "user": {
      "displayName": "mohammed saifuddin",
      "userId": "16425402980535672052"
     },
     "user_tz": -330
    },
    "id": "TTdhLG1haSLh",
    "outputId": "a69d0372-8979-420a-aa41-54e8b2849d55"
   },
   "outputs": [
    {
     "data": {
      "text/html": [
       "<div>\n",
       "<style scoped>\n",
       "    .dataframe tbody tr th:only-of-type {\n",
       "        vertical-align: middle;\n",
       "    }\n",
       "\n",
       "    .dataframe tbody tr th {\n",
       "        vertical-align: top;\n",
       "    }\n",
       "\n",
       "    .dataframe thead th {\n",
       "        text-align: right;\n",
       "    }\n",
       "</style>\n",
       "<table border=\"1\" class=\"dataframe\">\n",
       "  <thead>\n",
       "    <tr style=\"text-align: right;\">\n",
       "      <th></th>\n",
       "      <th>project_subject_categories</th>\n",
       "    </tr>\n",
       "  </thead>\n",
       "  <tbody>\n",
       "    <tr>\n",
       "      <th>literacy_language</th>\n",
       "      <td>23655</td>\n",
       "    </tr>\n",
       "    <tr>\n",
       "      <th>math_science</th>\n",
       "      <td>17072</td>\n",
       "    </tr>\n",
       "    <tr>\n",
       "      <th>literacy_language_math_science</th>\n",
       "      <td>14636</td>\n",
       "    </tr>\n",
       "    <tr>\n",
       "      <th>health_sports</th>\n",
       "      <td>10177</td>\n",
       "    </tr>\n",
       "    <tr>\n",
       "      <th>music_arts</th>\n",
       "      <td>5180</td>\n",
       "    </tr>\n",
       "  </tbody>\n",
       "</table>\n",
       "</div>"
      ],
      "text/plain": [
       "                                project_subject_categories\n",
       "literacy_language                                    23655\n",
       "math_science                                         17072\n",
       "literacy_language_math_science                       14636\n",
       "health_sports                                        10177\n",
       "music_arts                                            5180"
      ]
     },
     "metadata": {},
     "output_type": "display_data"
    }
   ],
   "source": [
    "display(project_df['project_subject_categories'].value_counts().to_frame().head())"
   ]
  },
  {
   "cell_type": "markdown",
   "metadata": {
    "id": "MwYyWtganUYS"
   },
   "source": [
    "#### `teacher_prefix`\n",
    "\n",
    "- Remove the dots .\n",
    "- Convert all the letters to small"
   ]
  },
  {
   "cell_type": "code",
   "execution_count": 16,
   "metadata": {
    "colab": {
     "base_uri": "https://localhost:8080/",
     "height": 206
    },
    "executionInfo": {
     "elapsed": 29,
     "status": "ok",
     "timestamp": 1651492998228,
     "user": {
      "displayName": "mohammed saifuddin",
      "userId": "16425402980535672052"
     },
     "user_tz": -330
    },
    "id": "IW9jPSnvnnTW",
    "outputId": "bcc36363-55b8-4e8b-f62d-8c69bac5787f"
   },
   "outputs": [
    {
     "data": {
      "text/html": [
       "<div>\n",
       "<style scoped>\n",
       "    .dataframe tbody tr th:only-of-type {\n",
       "        vertical-align: middle;\n",
       "    }\n",
       "\n",
       "    .dataframe tbody tr th {\n",
       "        vertical-align: top;\n",
       "    }\n",
       "\n",
       "    .dataframe thead th {\n",
       "        text-align: right;\n",
       "    }\n",
       "</style>\n",
       "<table border=\"1\" class=\"dataframe\">\n",
       "  <thead>\n",
       "    <tr style=\"text-align: right;\">\n",
       "      <th></th>\n",
       "      <th>teacher_prefix</th>\n",
       "    </tr>\n",
       "  </thead>\n",
       "  <tbody>\n",
       "    <tr>\n",
       "      <th>Mrs.</th>\n",
       "      <td>57269</td>\n",
       "    </tr>\n",
       "    <tr>\n",
       "      <th>Ms.</th>\n",
       "      <td>38955</td>\n",
       "    </tr>\n",
       "    <tr>\n",
       "      <th>Mr.</th>\n",
       "      <td>10648</td>\n",
       "    </tr>\n",
       "    <tr>\n",
       "      <th>Teacher</th>\n",
       "      <td>2360</td>\n",
       "    </tr>\n",
       "    <tr>\n",
       "      <th>Dr.</th>\n",
       "      <td>13</td>\n",
       "    </tr>\n",
       "  </tbody>\n",
       "</table>\n",
       "</div>"
      ],
      "text/plain": [
       "         teacher_prefix\n",
       "Mrs.              57269\n",
       "Ms.               38955\n",
       "Mr.               10648\n",
       "Teacher            2360\n",
       "Dr.                  13"
      ]
     },
     "metadata": {},
     "output_type": "display_data"
    }
   ],
   "source": [
    "display(project_df['teacher_prefix'].value_counts().to_frame())"
   ]
  },
  {
   "cell_type": "code",
   "execution_count": 17,
   "metadata": {
    "executionInfo": {
     "elapsed": 27,
     "status": "ok",
     "timestamp": 1651492998228,
     "user": {
      "displayName": "mohammed saifuddin",
      "userId": "16425402980535672052"
     },
     "user_tz": -330
    },
    "id": "HTaaun4MaSJI"
   },
   "outputs": [],
   "source": [
    "project_df['teacher_prefix'] = project_df['teacher_prefix'].fillna(value='Mrs.')"
   ]
  },
  {
   "cell_type": "code",
   "execution_count": 18,
   "metadata": {
    "colab": {
     "base_uri": "https://localhost:8080/",
     "height": 206
    },
    "executionInfo": {
     "elapsed": 28,
     "status": "ok",
     "timestamp": 1651492998230,
     "user": {
      "displayName": "mohammed saifuddin",
      "userId": "16425402980535672052"
     },
     "user_tz": -330
    },
    "id": "nHwc4KkraSGx",
    "outputId": "469db831-50f2-4918-c86c-212c967bdca5"
   },
   "outputs": [
    {
     "data": {
      "text/html": [
       "<div>\n",
       "<style scoped>\n",
       "    .dataframe tbody tr th:only-of-type {\n",
       "        vertical-align: middle;\n",
       "    }\n",
       "\n",
       "    .dataframe tbody tr th {\n",
       "        vertical-align: top;\n",
       "    }\n",
       "\n",
       "    .dataframe thead th {\n",
       "        text-align: right;\n",
       "    }\n",
       "</style>\n",
       "<table border=\"1\" class=\"dataframe\">\n",
       "  <thead>\n",
       "    <tr style=\"text-align: right;\">\n",
       "      <th></th>\n",
       "      <th>teacher_prefix</th>\n",
       "    </tr>\n",
       "  </thead>\n",
       "  <tbody>\n",
       "    <tr>\n",
       "      <th>Mrs.</th>\n",
       "      <td>57272</td>\n",
       "    </tr>\n",
       "    <tr>\n",
       "      <th>Ms.</th>\n",
       "      <td>38955</td>\n",
       "    </tr>\n",
       "    <tr>\n",
       "      <th>Mr.</th>\n",
       "      <td>10648</td>\n",
       "    </tr>\n",
       "    <tr>\n",
       "      <th>Teacher</th>\n",
       "      <td>2360</td>\n",
       "    </tr>\n",
       "    <tr>\n",
       "      <th>Dr.</th>\n",
       "      <td>13</td>\n",
       "    </tr>\n",
       "  </tbody>\n",
       "</table>\n",
       "</div>"
      ],
      "text/plain": [
       "         teacher_prefix\n",
       "Mrs.              57272\n",
       "Ms.               38955\n",
       "Mr.               10648\n",
       "Teacher            2360\n",
       "Dr.                  13"
      ]
     },
     "metadata": {},
     "output_type": "display_data"
    }
   ],
   "source": [
    "display(project_df['teacher_prefix'].value_counts().to_frame())"
   ]
  },
  {
   "cell_type": "code",
   "execution_count": 19,
   "metadata": {
    "executionInfo": {
     "elapsed": 25,
     "status": "ok",
     "timestamp": 1651492998230,
     "user": {
      "displayName": "mohammed saifuddin",
      "userId": "16425402980535672052"
     },
     "user_tz": -330
    },
    "id": "fprM5f_EaSEE"
   },
   "outputs": [],
   "source": [
    "project_df['teacher_prefix'] = project_df['teacher_prefix'].apply(func=helper1)"
   ]
  },
  {
   "cell_type": "code",
   "execution_count": 20,
   "metadata": {
    "colab": {
     "base_uri": "https://localhost:8080/",
     "height": 206
    },
    "executionInfo": {
     "elapsed": 24,
     "status": "ok",
     "timestamp": 1651492998230,
     "user": {
      "displayName": "mohammed saifuddin",
      "userId": "16425402980535672052"
     },
     "user_tz": -330
    },
    "id": "yhWogXivaSBZ",
    "outputId": "b73e3b03-8919-497b-bd1d-4bac3c6e9375"
   },
   "outputs": [
    {
     "data": {
      "text/html": [
       "<div>\n",
       "<style scoped>\n",
       "    .dataframe tbody tr th:only-of-type {\n",
       "        vertical-align: middle;\n",
       "    }\n",
       "\n",
       "    .dataframe tbody tr th {\n",
       "        vertical-align: top;\n",
       "    }\n",
       "\n",
       "    .dataframe thead th {\n",
       "        text-align: right;\n",
       "    }\n",
       "</style>\n",
       "<table border=\"1\" class=\"dataframe\">\n",
       "  <thead>\n",
       "    <tr style=\"text-align: right;\">\n",
       "      <th></th>\n",
       "      <th>teacher_prefix</th>\n",
       "    </tr>\n",
       "  </thead>\n",
       "  <tbody>\n",
       "    <tr>\n",
       "      <th>mrs</th>\n",
       "      <td>57272</td>\n",
       "    </tr>\n",
       "    <tr>\n",
       "      <th>ms</th>\n",
       "      <td>38955</td>\n",
       "    </tr>\n",
       "    <tr>\n",
       "      <th>mr</th>\n",
       "      <td>10648</td>\n",
       "    </tr>\n",
       "    <tr>\n",
       "      <th>teacher</th>\n",
       "      <td>2360</td>\n",
       "    </tr>\n",
       "    <tr>\n",
       "      <th>dr</th>\n",
       "      <td>13</td>\n",
       "    </tr>\n",
       "  </tbody>\n",
       "</table>\n",
       "</div>"
      ],
      "text/plain": [
       "         teacher_prefix\n",
       "mrs               57272\n",
       "ms                38955\n",
       "mr                10648\n",
       "teacher            2360\n",
       "dr                   13"
      ]
     },
     "metadata": {},
     "output_type": "display_data"
    }
   ],
   "source": [
    "display(project_df['teacher_prefix'].value_counts().to_frame())"
   ]
  },
  {
   "cell_type": "markdown",
   "metadata": {
    "id": "etoQzcqhoPBY"
   },
   "source": [
    "#### `project_subject_subcategories`\n",
    "\n",
    "- Remove the spaces ' ' and 'the'\n",
    "- Replace the &, the , with the _\n",
    "- Convert all the letters to small"
   ]
  },
  {
   "cell_type": "code",
   "execution_count": 21,
   "metadata": {
    "executionInfo": {
     "elapsed": 23,
     "status": "ok",
     "timestamp": 1651492998231,
     "user": {
      "displayName": "mohammed saifuddin",
      "userId": "16425402980535672052"
     },
     "user_tz": -330
    },
    "id": "boQIoyxnaR7s"
   },
   "outputs": [],
   "source": [
    "project_df['project_subject_subcategories'] = project_df['project_subject_subcategories'].apply(func=helper2)"
   ]
  },
  {
   "cell_type": "code",
   "execution_count": 22,
   "metadata": {
    "colab": {
     "base_uri": "https://localhost:8080/",
     "height": 206
    },
    "executionInfo": {
     "elapsed": 23,
     "status": "ok",
     "timestamp": 1651492998231,
     "user": {
      "displayName": "mohammed saifuddin",
      "userId": "16425402980535672052"
     },
     "user_tz": -330
    },
    "id": "3MXLz9kWoJTD",
    "outputId": "f1c79f75-216f-423b-9140-be91dcd20700"
   },
   "outputs": [
    {
     "data": {
      "text/html": [
       "<div>\n",
       "<style scoped>\n",
       "    .dataframe tbody tr th:only-of-type {\n",
       "        vertical-align: middle;\n",
       "    }\n",
       "\n",
       "    .dataframe tbody tr th {\n",
       "        vertical-align: top;\n",
       "    }\n",
       "\n",
       "    .dataframe thead th {\n",
       "        text-align: right;\n",
       "    }\n",
       "</style>\n",
       "<table border=\"1\" class=\"dataframe\">\n",
       "  <thead>\n",
       "    <tr style=\"text-align: right;\">\n",
       "      <th></th>\n",
       "      <th>project_subject_subcategories</th>\n",
       "    </tr>\n",
       "  </thead>\n",
       "  <tbody>\n",
       "    <tr>\n",
       "      <th>literacy</th>\n",
       "      <td>9486</td>\n",
       "    </tr>\n",
       "    <tr>\n",
       "      <th>literacy_mathematics</th>\n",
       "      <td>8325</td>\n",
       "    </tr>\n",
       "    <tr>\n",
       "      <th>literature_writing_mathematics</th>\n",
       "      <td>5923</td>\n",
       "    </tr>\n",
       "    <tr>\n",
       "      <th>literacy_literature_writing</th>\n",
       "      <td>5571</td>\n",
       "    </tr>\n",
       "    <tr>\n",
       "      <th>mathematics</th>\n",
       "      <td>5379</td>\n",
       "    </tr>\n",
       "  </tbody>\n",
       "</table>\n",
       "</div>"
      ],
      "text/plain": [
       "                                project_subject_subcategories\n",
       "literacy                                                 9486\n",
       "literacy_mathematics                                     8325\n",
       "literature_writing_mathematics                           5923\n",
       "literacy_literature_writing                              5571\n",
       "mathematics                                              5379"
      ]
     },
     "metadata": {},
     "output_type": "display_data"
    }
   ],
   "source": [
    "display(project_df['project_subject_subcategories'].value_counts().to_frame().head())"
   ]
  },
  {
   "cell_type": "markdown",
   "metadata": {
    "id": "9oHazxKRqCEl"
   },
   "source": [
    "#### `school_state`"
   ]
  },
  {
   "cell_type": "code",
   "execution_count": 23,
   "metadata": {
    "executionInfo": {
     "elapsed": 410,
     "status": "ok",
     "timestamp": 1651493103564,
     "user": {
      "displayName": "mohammed saifuddin",
      "userId": "16425402980535672052"
     },
     "user_tz": -330
    },
    "id": "SlRLp6LmoJQP"
   },
   "outputs": [],
   "source": [
    "project_df['school_state'] = project_df['school_state'].str.lower()"
   ]
  },
  {
   "cell_type": "code",
   "execution_count": 24,
   "metadata": {
    "colab": {
     "base_uri": "https://localhost:8080/",
     "height": 206
    },
    "executionInfo": {
     "elapsed": 3,
     "status": "ok",
     "timestamp": 1651493132198,
     "user": {
      "displayName": "mohammed saifuddin",
      "userId": "16425402980535672052"
     },
     "user_tz": -330
    },
    "id": "XR1h0wnDoJN-",
    "outputId": "e5655ba6-62d9-43db-fcbe-bb44bca3fc8f"
   },
   "outputs": [
    {
     "data": {
      "text/html": [
       "<div>\n",
       "<style scoped>\n",
       "    .dataframe tbody tr th:only-of-type {\n",
       "        vertical-align: middle;\n",
       "    }\n",
       "\n",
       "    .dataframe tbody tr th {\n",
       "        vertical-align: top;\n",
       "    }\n",
       "\n",
       "    .dataframe thead th {\n",
       "        text-align: right;\n",
       "    }\n",
       "</style>\n",
       "<table border=\"1\" class=\"dataframe\">\n",
       "  <thead>\n",
       "    <tr style=\"text-align: right;\">\n",
       "      <th></th>\n",
       "      <th>school_state</th>\n",
       "    </tr>\n",
       "  </thead>\n",
       "  <tbody>\n",
       "    <tr>\n",
       "      <th>ca</th>\n",
       "      <td>15388</td>\n",
       "    </tr>\n",
       "    <tr>\n",
       "      <th>tx</th>\n",
       "      <td>7396</td>\n",
       "    </tr>\n",
       "    <tr>\n",
       "      <th>ny</th>\n",
       "      <td>7318</td>\n",
       "    </tr>\n",
       "    <tr>\n",
       "      <th>fl</th>\n",
       "      <td>6185</td>\n",
       "    </tr>\n",
       "    <tr>\n",
       "      <th>nc</th>\n",
       "      <td>5091</td>\n",
       "    </tr>\n",
       "  </tbody>\n",
       "</table>\n",
       "</div>"
      ],
      "text/plain": [
       "    school_state\n",
       "ca         15388\n",
       "tx          7396\n",
       "ny          7318\n",
       "fl          6185\n",
       "nc          5091"
      ]
     },
     "metadata": {},
     "output_type": "display_data"
    }
   ],
   "source": [
    "display(project_df['school_state'].value_counts().to_frame().head())"
   ]
  },
  {
   "cell_type": "markdown",
   "metadata": {
    "id": "tkn0lzKVrvBc"
   },
   "source": [
    "#### `project_title`\n",
    "\n",
    "- Remove the stopwords\n",
    "- Clean the text"
   ]
  },
  {
   "cell_type": "code",
   "execution_count": 25,
   "metadata": {
    "executionInfo": {
     "elapsed": 4435,
     "status": "ok",
     "timestamp": 1651493619706,
     "user": {
      "displayName": "mohammed saifuddin",
      "userId": "16425402980535672052"
     },
     "user_tz": -330
    },
    "id": "g2gNEg_8oJL8"
   },
   "outputs": [],
   "source": [
    "project_df['project_title'] = project_df['project_title'].apply(func=preprocess_text)"
   ]
  },
  {
   "cell_type": "code",
   "execution_count": 26,
   "metadata": {
    "colab": {
     "base_uri": "https://localhost:8080/",
     "height": 206
    },
    "executionInfo": {
     "elapsed": 601,
     "status": "ok",
     "timestamp": 1651493721591,
     "user": {
      "displayName": "mohammed saifuddin",
      "userId": "16425402980535672052"
     },
     "user_tz": -330
    },
    "id": "YSjaNa9moJJ4",
    "outputId": "d88af8a8-4ec7-4970-a59a-8d7c35f22450"
   },
   "outputs": [
    {
     "data": {
      "text/html": [
       "<div>\n",
       "<style scoped>\n",
       "    .dataframe tbody tr th:only-of-type {\n",
       "        vertical-align: middle;\n",
       "    }\n",
       "\n",
       "    .dataframe tbody tr th {\n",
       "        vertical-align: top;\n",
       "    }\n",
       "\n",
       "    .dataframe thead th {\n",
       "        text-align: right;\n",
       "    }\n",
       "</style>\n",
       "<table border=\"1\" class=\"dataframe\">\n",
       "  <thead>\n",
       "    <tr style=\"text-align: right;\">\n",
       "      <th></th>\n",
       "      <th>project_title</th>\n",
       "    </tr>\n",
       "  </thead>\n",
       "  <tbody>\n",
       "    <tr>\n",
       "      <th>0</th>\n",
       "      <td>educational support english learners home</td>\n",
       "    </tr>\n",
       "    <tr>\n",
       "      <th>1</th>\n",
       "      <td>wanted projector hungry learners</td>\n",
       "    </tr>\n",
       "    <tr>\n",
       "      <th>2</th>\n",
       "      <td>soccer equipment awesome middle school students</td>\n",
       "    </tr>\n",
       "    <tr>\n",
       "      <th>3</th>\n",
       "      <td>techie kindergarteners</td>\n",
       "    </tr>\n",
       "    <tr>\n",
       "      <th>4</th>\n",
       "      <td>interactive math tools</td>\n",
       "    </tr>\n",
       "  </tbody>\n",
       "</table>\n",
       "</div>"
      ],
      "text/plain": [
       "                                     project_title\n",
       "0        educational support english learners home\n",
       "1                 wanted projector hungry learners\n",
       "2  soccer equipment awesome middle school students\n",
       "3                           techie kindergarteners\n",
       "4                           interactive math tools"
      ]
     },
     "metadata": {},
     "output_type": "display_data"
    }
   ],
   "source": [
    "display(project_df['project_title'].to_frame().head())"
   ]
  },
  {
   "cell_type": "markdown",
   "metadata": {
    "id": "EAx4SbGVsuwk"
   },
   "source": [
    "#### `essay`\n",
    "\n",
    "- Remove the stopwords\n",
    "- Clean the text"
   ]
  },
  {
   "cell_type": "code",
   "execution_count": 27,
   "metadata": {
    "executionInfo": {
     "elapsed": 1205,
     "status": "ok",
     "timestamp": 1651493852686,
     "user": {
      "displayName": "mohammed saifuddin",
      "userId": "16425402980535672052"
     },
     "user_tz": -330
    },
    "id": "MsDqKFtaoJHw"
   },
   "outputs": [],
   "source": [
    "project_df['essay'] = (project_df['project_essay_1'].map(str) + \n",
    "                       project_df['project_essay_2'].map(str) + \n",
    "                       project_df['project_essay_3'].map(str) + \n",
    "                       project_df['project_essay_4'].map(str))"
   ]
  },
  {
   "cell_type": "code",
   "execution_count": 28,
   "metadata": {
    "executionInfo": {
     "elapsed": 81545,
     "status": "ok",
     "timestamp": 1651493993131,
     "user": {
      "displayName": "mohammed saifuddin",
      "userId": "16425402980535672052"
     },
     "user_tz": -330
    },
    "id": "IEAdnOghoJFi"
   },
   "outputs": [],
   "source": [
    "project_df['essay'] = project_df['essay'].apply(func=preprocess_text)"
   ]
  },
  {
   "cell_type": "code",
   "execution_count": 29,
   "metadata": {
    "colab": {
     "base_uri": "https://localhost:8080/",
     "height": 206
    },
    "executionInfo": {
     "elapsed": 432,
     "status": "ok",
     "timestamp": 1651494060388,
     "user": {
      "displayName": "mohammed saifuddin",
      "userId": "16425402980535672052"
     },
     "user_tz": -330
    },
    "id": "dvHn_XpfoJDK",
    "outputId": "d5c62f66-a99b-4a8a-fb9f-181b72a4a478"
   },
   "outputs": [
    {
     "data": {
      "text/html": [
       "<div>\n",
       "<style scoped>\n",
       "    .dataframe tbody tr th:only-of-type {\n",
       "        vertical-align: middle;\n",
       "    }\n",
       "\n",
       "    .dataframe tbody tr th {\n",
       "        vertical-align: top;\n",
       "    }\n",
       "\n",
       "    .dataframe thead th {\n",
       "        text-align: right;\n",
       "    }\n",
       "</style>\n",
       "<table border=\"1\" class=\"dataframe\">\n",
       "  <thead>\n",
       "    <tr style=\"text-align: right;\">\n",
       "      <th></th>\n",
       "      <th>essay</th>\n",
       "    </tr>\n",
       "  </thead>\n",
       "  <tbody>\n",
       "    <tr>\n",
       "      <th>0</th>\n",
       "      <td>students english learners working english seco...</td>\n",
       "    </tr>\n",
       "    <tr>\n",
       "      <th>1</th>\n",
       "      <td>students arrive school eager learn polite gene...</td>\n",
       "    </tr>\n",
       "    <tr>\n",
       "      <th>2</th>\n",
       "      <td>true champions not always ones win guts mia ha...</td>\n",
       "    </tr>\n",
       "    <tr>\n",
       "      <th>3</th>\n",
       "      <td>work unique school filled esl english second l...</td>\n",
       "    </tr>\n",
       "    <tr>\n",
       "      <th>4</th>\n",
       "      <td>second grade classroom next year made around 2...</td>\n",
       "    </tr>\n",
       "  </tbody>\n",
       "</table>\n",
       "</div>"
      ],
      "text/plain": [
       "                                               essay\n",
       "0  students english learners working english seco...\n",
       "1  students arrive school eager learn polite gene...\n",
       "2  true champions not always ones win guts mia ha...\n",
       "3  work unique school filled esl english second l...\n",
       "4  second grade classroom next year made around 2..."
      ]
     },
     "metadata": {},
     "output_type": "display_data"
    }
   ],
   "source": [
    "display(project_df['essay'].to_frame().head())"
   ]
  },
  {
   "cell_type": "markdown",
   "metadata": {
    "id": "E--bSxIwu-FY"
   },
   "source": [
    "#### `price`"
   ]
  },
  {
   "cell_type": "code",
   "execution_count": 30,
   "metadata": {
    "colab": {
     "base_uri": "https://localhost:8080/",
     "height": 206
    },
    "executionInfo": {
     "elapsed": 2255,
     "status": "ok",
     "timestamp": 1651494476332,
     "user": {
      "displayName": "mohammed saifuddin",
      "userId": "16425402980535672052"
     },
     "user_tz": -330
    },
    "id": "lTY2pyQCoJAs",
    "outputId": "4444febf-d3ed-49c6-a10f-96fbcc64dcbd"
   },
   "outputs": [
    {
     "data": {
      "text/html": [
       "<div>\n",
       "<style scoped>\n",
       "    .dataframe tbody tr th:only-of-type {\n",
       "        vertical-align: middle;\n",
       "    }\n",
       "\n",
       "    .dataframe tbody tr th {\n",
       "        vertical-align: top;\n",
       "    }\n",
       "\n",
       "    .dataframe thead th {\n",
       "        text-align: right;\n",
       "    }\n",
       "</style>\n",
       "<table border=\"1\" class=\"dataframe\">\n",
       "  <thead>\n",
       "    <tr style=\"text-align: right;\">\n",
       "      <th></th>\n",
       "      <th>id</th>\n",
       "      <th>price</th>\n",
       "      <th>quantity</th>\n",
       "    </tr>\n",
       "  </thead>\n",
       "  <tbody>\n",
       "    <tr>\n",
       "      <th>0</th>\n",
       "      <td>p000001</td>\n",
       "      <td>459.56</td>\n",
       "      <td>7</td>\n",
       "    </tr>\n",
       "    <tr>\n",
       "      <th>1</th>\n",
       "      <td>p000002</td>\n",
       "      <td>515.89</td>\n",
       "      <td>21</td>\n",
       "    </tr>\n",
       "    <tr>\n",
       "      <th>2</th>\n",
       "      <td>p000003</td>\n",
       "      <td>298.97</td>\n",
       "      <td>4</td>\n",
       "    </tr>\n",
       "    <tr>\n",
       "      <th>3</th>\n",
       "      <td>p000004</td>\n",
       "      <td>1113.69</td>\n",
       "      <td>98</td>\n",
       "    </tr>\n",
       "    <tr>\n",
       "      <th>4</th>\n",
       "      <td>p000005</td>\n",
       "      <td>485.99</td>\n",
       "      <td>8</td>\n",
       "    </tr>\n",
       "  </tbody>\n",
       "</table>\n",
       "</div>"
      ],
      "text/plain": [
       "        id    price  quantity\n",
       "0  p000001   459.56         7\n",
       "1  p000002   515.89        21\n",
       "2  p000003   298.97         4\n",
       "3  p000004  1113.69        98\n",
       "4  p000005   485.99         8"
      ]
     },
     "metadata": {},
     "output_type": "display_data"
    }
   ],
   "source": [
    "price_df = resource_df.groupby(by='id').agg(dict(price='sum', quantity='sum')).reset_index()\n",
    "display(price_df.head())"
   ]
  },
  {
   "cell_type": "code",
   "execution_count": 31,
   "metadata": {
    "executionInfo": {
     "elapsed": 721,
     "status": "ok",
     "timestamp": 1651494537156,
     "user": {
      "displayName": "mohammed saifuddin",
      "userId": "16425402980535672052"
     },
     "user_tz": -330
    },
    "id": "TOokvenBoI-N"
   },
   "outputs": [],
   "source": [
    "project_df = pd.merge(left=project_df, right=price_df, on='id', how='left')"
   ]
  },
  {
   "cell_type": "code",
   "execution_count": 32,
   "metadata": {
    "colab": {
     "base_uri": "https://localhost:8080/",
     "height": 206
    },
    "executionInfo": {
     "elapsed": 615,
     "status": "ok",
     "timestamp": 1651494562143,
     "user": {
      "displayName": "mohammed saifuddin",
      "userId": "16425402980535672052"
     },
     "user_tz": -330
    },
    "id": "pFamzSu3u4SW",
    "outputId": "c46e1a7d-98fc-48ce-9a69-27765e1eed9f"
   },
   "outputs": [
    {
     "data": {
      "text/html": [
       "<div>\n",
       "<style scoped>\n",
       "    .dataframe tbody tr th:only-of-type {\n",
       "        vertical-align: middle;\n",
       "    }\n",
       "\n",
       "    .dataframe tbody tr th {\n",
       "        vertical-align: top;\n",
       "    }\n",
       "\n",
       "    .dataframe thead th {\n",
       "        text-align: right;\n",
       "    }\n",
       "</style>\n",
       "<table border=\"1\" class=\"dataframe\">\n",
       "  <thead>\n",
       "    <tr style=\"text-align: right;\">\n",
       "      <th></th>\n",
       "      <th>price</th>\n",
       "    </tr>\n",
       "  </thead>\n",
       "  <tbody>\n",
       "    <tr>\n",
       "      <th>0</th>\n",
       "      <td>154.60</td>\n",
       "    </tr>\n",
       "    <tr>\n",
       "      <th>1</th>\n",
       "      <td>299.00</td>\n",
       "    </tr>\n",
       "    <tr>\n",
       "      <th>2</th>\n",
       "      <td>516.85</td>\n",
       "    </tr>\n",
       "    <tr>\n",
       "      <th>3</th>\n",
       "      <td>232.90</td>\n",
       "    </tr>\n",
       "    <tr>\n",
       "      <th>4</th>\n",
       "      <td>67.98</td>\n",
       "    </tr>\n",
       "  </tbody>\n",
       "</table>\n",
       "</div>"
      ],
      "text/plain": [
       "    price\n",
       "0  154.60\n",
       "1  299.00\n",
       "2  516.85\n",
       "3  232.90\n",
       "4   67.98"
      ]
     },
     "metadata": {},
     "output_type": "display_data"
    }
   ],
   "source": [
    "display(project_df['price'].to_frame().head())"
   ]
  },
  {
   "cell_type": "markdown",
   "metadata": {
    "id": "Rw3ErS6kwGsF"
   },
   "source": [
    "### Column standardization"
   ]
  },
  {
   "cell_type": "code",
   "execution_count": 33,
   "metadata": {
    "executionInfo": {
     "elapsed": 1280,
     "status": "ok",
     "timestamp": 1651494736223,
     "user": {
      "displayName": "mohammed saifuddin",
      "userId": "16425402980535672052"
     },
     "user_tz": -330
    },
    "id": "U46cP4I3u5Rs"
   },
   "outputs": [],
   "source": [
    "from sklearn.preprocessing import StandardScaler"
   ]
  },
  {
   "cell_type": "code",
   "execution_count": 34,
   "metadata": {
    "executionInfo": {
     "elapsed": 344,
     "status": "ok",
     "timestamp": 1651494750695,
     "user": {
      "displayName": "mohammed saifuddin",
      "userId": "16425402980535672052"
     },
     "user_tz": -330
    },
    "id": "8pD2kRmRu5O3"
   },
   "outputs": [],
   "source": [
    "scaler = StandardScaler()"
   ]
  },
  {
   "cell_type": "code",
   "execution_count": 35,
   "metadata": {
    "executionInfo": {
     "elapsed": 822,
     "status": "ok",
     "timestamp": 1651494860741,
     "user": {
      "displayName": "mohammed saifuddin",
      "userId": "16425402980535672052"
     },
     "user_tz": -330
    },
    "id": "i5m_zgqku5Mt"
   },
   "outputs": [],
   "source": [
    "project_df['std_price'] = scaler.fit_transform(X=project_df['price'].values.reshape(-1, 1))"
   ]
  },
  {
   "cell_type": "code",
   "execution_count": 36,
   "metadata": {
    "colab": {
     "base_uri": "https://localhost:8080/",
     "height": 206
    },
    "executionInfo": {
     "elapsed": 396,
     "status": "ok",
     "timestamp": 1651494883867,
     "user": {
      "displayName": "mohammed saifuddin",
      "userId": "16425402980535672052"
     },
     "user_tz": -330
    },
    "id": "V3YsbyWuu4Pi",
    "outputId": "abddbc33-a1d8-434a-9ca8-eccbfa7a2e0b"
   },
   "outputs": [
    {
     "data": {
      "text/html": [
       "<div>\n",
       "<style scoped>\n",
       "    .dataframe tbody tr th:only-of-type {\n",
       "        vertical-align: middle;\n",
       "    }\n",
       "\n",
       "    .dataframe tbody tr th {\n",
       "        vertical-align: top;\n",
       "    }\n",
       "\n",
       "    .dataframe thead th {\n",
       "        text-align: right;\n",
       "    }\n",
       "</style>\n",
       "<table border=\"1\" class=\"dataframe\">\n",
       "  <thead>\n",
       "    <tr style=\"text-align: right;\">\n",
       "      <th></th>\n",
       "      <th>std_price</th>\n",
       "    </tr>\n",
       "  </thead>\n",
       "  <tbody>\n",
       "    <tr>\n",
       "      <th>0</th>\n",
       "      <td>-0.390533</td>\n",
       "    </tr>\n",
       "    <tr>\n",
       "      <th>1</th>\n",
       "      <td>0.002396</td>\n",
       "    </tr>\n",
       "    <tr>\n",
       "      <th>2</th>\n",
       "      <td>0.595191</td>\n",
       "    </tr>\n",
       "    <tr>\n",
       "      <th>3</th>\n",
       "      <td>-0.177469</td>\n",
       "    </tr>\n",
       "    <tr>\n",
       "      <th>4</th>\n",
       "      <td>-0.626236</td>\n",
       "    </tr>\n",
       "  </tbody>\n",
       "</table>\n",
       "</div>"
      ],
      "text/plain": [
       "   std_price\n",
       "0  -0.390533\n",
       "1   0.002396\n",
       "2   0.595191\n",
       "3  -0.177469\n",
       "4  -0.626236"
      ]
     },
     "metadata": {},
     "output_type": "display_data"
    }
   ],
   "source": [
    "display(project_df['std_price'].to_frame().head())"
   ]
  },
  {
   "cell_type": "markdown",
   "metadata": {
    "id": "qzakHp2sxFPF"
   },
   "source": [
    "### Column MinMaxScaler"
   ]
  },
  {
   "cell_type": "code",
   "execution_count": 37,
   "metadata": {
    "executionInfo": {
     "elapsed": 336,
     "status": "ok",
     "timestamp": 1651494933980,
     "user": {
      "displayName": "mohammed saifuddin",
      "userId": "16425402980535672052"
     },
     "user_tz": -330
    },
    "id": "MlBP7ZbNu4NS"
   },
   "outputs": [],
   "source": [
    "from sklearn.preprocessing import MinMaxScaler"
   ]
  },
  {
   "cell_type": "code",
   "execution_count": 38,
   "metadata": {
    "executionInfo": {
     "elapsed": 658,
     "status": "ok",
     "timestamp": 1651494972299,
     "user": {
      "displayName": "mohammed saifuddin",
      "userId": "16425402980535672052"
     },
     "user_tz": -330
    },
    "id": "UfhM7q-Du4LU"
   },
   "outputs": [],
   "source": [
    "scaler = MinMaxScaler()"
   ]
  },
  {
   "cell_type": "code",
   "execution_count": 39,
   "metadata": {
    "executionInfo": {
     "elapsed": 503,
     "status": "ok",
     "timestamp": 1651495020471,
     "user": {
      "displayName": "mohammed saifuddin",
      "userId": "16425402980535672052"
     },
     "user_tz": -330
    },
    "id": "m9BOnCF-u4JU"
   },
   "outputs": [],
   "source": [
    "project_df['nrm_price'] = scaler.fit_transform(X=project_df['price'].values.reshape(-1, 1))"
   ]
  },
  {
   "cell_type": "code",
   "execution_count": 40,
   "metadata": {
    "colab": {
     "base_uri": "https://localhost:8080/",
     "height": 206
    },
    "executionInfo": {
     "elapsed": 753,
     "status": "ok",
     "timestamp": 1651495032582,
     "user": {
      "displayName": "mohammed saifuddin",
      "userId": "16425402980535672052"
     },
     "user_tz": -330
    },
    "id": "vV58W_DMu4HZ",
    "outputId": "92767aae-a006-4248-ff82-f6c8c1731814"
   },
   "outputs": [
    {
     "data": {
      "text/html": [
       "<div>\n",
       "<style scoped>\n",
       "    .dataframe tbody tr th:only-of-type {\n",
       "        vertical-align: middle;\n",
       "    }\n",
       "\n",
       "    .dataframe tbody tr th {\n",
       "        vertical-align: top;\n",
       "    }\n",
       "\n",
       "    .dataframe thead th {\n",
       "        text-align: right;\n",
       "    }\n",
       "</style>\n",
       "<table border=\"1\" class=\"dataframe\">\n",
       "  <thead>\n",
       "    <tr style=\"text-align: right;\">\n",
       "      <th></th>\n",
       "      <th>nrm_price</th>\n",
       "    </tr>\n",
       "  </thead>\n",
       "  <tbody>\n",
       "    <tr>\n",
       "      <th>0</th>\n",
       "      <td>0.015397</td>\n",
       "    </tr>\n",
       "    <tr>\n",
       "      <th>1</th>\n",
       "      <td>0.029839</td>\n",
       "    </tr>\n",
       "    <tr>\n",
       "      <th>2</th>\n",
       "      <td>0.051628</td>\n",
       "    </tr>\n",
       "    <tr>\n",
       "      <th>3</th>\n",
       "      <td>0.023228</td>\n",
       "    </tr>\n",
       "    <tr>\n",
       "      <th>4</th>\n",
       "      <td>0.006733</td>\n",
       "    </tr>\n",
       "  </tbody>\n",
       "</table>\n",
       "</div>"
      ],
      "text/plain": [
       "   nrm_price\n",
       "0   0.015397\n",
       "1   0.029839\n",
       "2   0.051628\n",
       "3   0.023228\n",
       "4   0.006733"
      ]
     },
     "metadata": {},
     "output_type": "display_data"
    }
   ],
   "source": [
    "display(project_df['nrm_price'].to_frame().head())"
   ]
  },
  {
   "cell_type": "markdown",
   "metadata": {
    "id": "djv1BQNGxmRN"
   },
   "source": [
    "End of the file."
   ]
  }
 ],
 "metadata": {
  "colab": {
   "authorship_tag": "ABX9TyPTph5msEty84nND3aLZHgk",
   "collapsed_sections": [],
   "name": "A08-02-Preprocessing.ipynb",
   "provenance": []
  },
  "kernelspec": {
   "display_name": "Python 3 (ipykernel)",
   "language": "python",
   "name": "python3"
  },
  "language_info": {
   "codemirror_mode": {
    "name": "ipython",
    "version": 3
   },
   "file_extension": ".py",
   "mimetype": "text/x-python",
   "name": "python",
   "nbconvert_exporter": "python",
   "pygments_lexer": "ipython3",
   "version": "3.10.4"
  }
 },
 "nbformat": 4,
 "nbformat_minor": 1
}
