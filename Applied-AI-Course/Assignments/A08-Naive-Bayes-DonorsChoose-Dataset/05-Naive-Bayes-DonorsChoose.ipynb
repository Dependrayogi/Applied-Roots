{
 "cells": [
  {
   "cell_type": "code",
   "execution_count": 1,
   "id": "f8a73da8",
   "metadata": {},
   "outputs": [],
   "source": [
    "from matplotlib import pyplot as plt\n",
    "from matplotlib import style\n",
    "from tabulate import tabulate\n",
    "from tqdm import tqdm\n",
    "import numpy as np\n",
    "import pandas as pd"
   ]
  },
  {
   "cell_type": "code",
   "execution_count": 2,
   "id": "d79c8028",
   "metadata": {},
   "outputs": [],
   "source": [
    "from scipy.sparse import hstack\n",
    "from sklearn.feature_extraction.text import CountVectorizer\n",
    "from sklearn.feature_extraction.text import TfidfVectorizer\n",
    "from sklearn.metrics import auc, confusion_matrix, roc_auc_score, roc_curve\n",
    "from sklearn.model_selection import train_test_split\n",
    "from sklearn.model_selection import GridSearchCV\n",
    "from sklearn.naive_bayes import MultinomialNB\n",
    "from sklearn.preprocessing import Normalizer"
   ]
  },
  {
   "cell_type": "code",
   "execution_count": 3,
   "id": "a8f30414",
   "metadata": {},
   "outputs": [],
   "source": [
    "style.use(style='seaborn-whitegrid')"
   ]
  },
  {
   "cell_type": "markdown",
   "id": "b782dbbc",
   "metadata": {},
   "source": [
    "---"
   ]
  },
  {
   "cell_type": "markdown",
   "id": "7bf2978a",
   "metadata": {},
   "source": [
    "Load the data"
   ]
  },
  {
   "cell_type": "code",
   "execution_count": 4,
   "id": "080d6f7e",
   "metadata": {},
   "outputs": [],
   "source": [
    "nrows = 50000\n",
    "data = pd.read_csv(filepath_or_buffer='preprocessed_data.csv', nrows=nrows)"
   ]
  },
  {
   "cell_type": "code",
   "execution_count": 5,
   "id": "6a6f67d1",
   "metadata": {
    "scrolled": true
   },
   "outputs": [
    {
     "data": {
      "text/plain": [
       "Index(['school_state', 'teacher_prefix', 'project_grade_category',\n",
       "       'teacher_number_of_previously_posted_projects', 'project_is_approved',\n",
       "       'clean_categories', 'clean_subcategories', 'essay', 'price'],\n",
       "      dtype='object')"
      ]
     },
     "metadata": {},
     "output_type": "display_data"
    }
   ],
   "source": [
    "display(data.columns)"
   ]
  },
  {
   "cell_type": "code",
   "execution_count": 6,
   "id": "d0c65b3f",
   "metadata": {},
   "outputs": [],
   "source": [
    "y = data['project_is_approved'].values\n",
    "X = data.drop(labels=['project_is_approved'], axis=1)"
   ]
  },
  {
   "cell_type": "code",
   "execution_count": 7,
   "id": "f4e05a2f",
   "metadata": {},
   "outputs": [
    {
     "name": "stdout",
     "output_type": "stream",
     "text": [
      "The shape of X: (50000, 8)\n",
      "The shape of y: (50000,)\n"
     ]
    }
   ],
   "source": [
    "print(\"The shape of X: {}\".format(X.shape))\n",
    "print(\"The shape of y: {}\".format(y.shape))"
   ]
  },
  {
   "cell_type": "markdown",
   "id": "6485c443",
   "metadata": {},
   "source": [
    "Reference on numerical and categorical columns: https://stackoverflow.com/a/62273776/7579443"
   ]
  },
  {
   "cell_type": "code",
   "execution_count": 8,
   "id": "3dd6f373",
   "metadata": {},
   "outputs": [
    {
     "name": "stdout",
     "output_type": "stream",
     "text": [
      "['teacher_number_of_previously_posted_projects', 'price']\n",
      "['clean_subcategories', 'project_grade_category', 'school_state', 'essay', 'teacher_prefix', 'clean_categories']\n"
     ]
    }
   ],
   "source": [
    "numcols = X.select_dtypes('number').columns\n",
    "catcols = X.select_dtypes('object').columns\n",
    "numcols= list(set(numcols))\n",
    "catcols= list(set(catcols))\n",
    "print(numcols)\n",
    "print(catcols)"
   ]
  },
  {
   "cell_type": "code",
   "execution_count": 9,
   "id": "2053c82e",
   "metadata": {},
   "outputs": [],
   "source": [
    "X_train, X_test, y_train, y_test = train_test_split(X, y, test_size=0.33, stratify=y)"
   ]
  },
  {
   "cell_type": "code",
   "execution_count": 10,
   "id": "012b06aa",
   "metadata": {},
   "outputs": [
    {
     "name": "stdout",
     "output_type": "stream",
     "text": [
      "(33500, 8) (33500,)\n",
      "(16500, 8) (16500,)\n"
     ]
    }
   ],
   "source": [
    "print(X_train.shape, y_train.shape)\n",
    "print(X_test.shape, y_test.shape)"
   ]
  },
  {
   "cell_type": "markdown",
   "id": "14a2dd1a",
   "metadata": {},
   "source": [
    "---"
   ]
  },
  {
   "cell_type": "markdown",
   "id": "34409a3b",
   "metadata": {},
   "source": [
    "Encode categorical column"
   ]
  },
  {
   "cell_type": "code",
   "execution_count": 11,
   "id": "7380d720",
   "metadata": {},
   "outputs": [],
   "source": [
    "def encode_categorical_column(train_data, test_data, column, tfidf_flag=False):\n",
    "    \"\"\"\n",
    "    This function encodes the categorical column.\n",
    "    \"\"\"\n",
    "    if column == 'essay':\n",
    "        if tfidf_flag:\n",
    "            encoded_vect = TfidfVectorizer(min_df=10, ngram_range=(1, 4), max_features=5000)\n",
    "        else:\n",
    "            encoded_vect = CountVectorizer(min_df=10, ngram_range=(1, 4), max_features=5000)\n",
    "    else:\n",
    "        if tfidf_flag:\n",
    "            encoded_vect = TfidfVectorizer()\n",
    "        else:\n",
    "            encoded_vect = CountVectorizer()\n",
    "    encoded_vect.fit(raw_documents=train_data[column].values)\n",
    "    train_vect = encoded_vect.transform(raw_documents=train_data[column].values)\n",
    "    test_vect = encoded_vect.transform(raw_documents=test_data[column].values)\n",
    "    return (train_vect, test_vect)"
   ]
  },
  {
   "cell_type": "markdown",
   "id": "9a0af8e4",
   "metadata": {},
   "source": [
    "---"
   ]
  },
  {
   "cell_type": "markdown",
   "id": "c2e43640",
   "metadata": {},
   "source": [
    "Normalize numerical column"
   ]
  },
  {
   "cell_type": "code",
   "execution_count": 12,
   "id": "96a285e7",
   "metadata": {},
   "outputs": [],
   "source": [
    "def normalize_numerical_column(train_data, test_data, column):\n",
    "    \"\"\"\n",
    "    This function normalizes the numerical column.\n",
    "    \"\"\"\n",
    "    norm = Normalizer()\n",
    "    try:\n",
    "        norm.fit(X=train_data[column].values.reshape(1, 1))\n",
    "    except:\n",
    "        pass\n",
    "    train_norm = norm.transform(X=train_data[column].values.reshape(1, -1)).reshape(-1, 1)\n",
    "    test_norm = norm.transform(X=test_data[column].values.reshape(1, -1)).reshape(-1, 1)\n",
    "    return (train_norm, test_norm)"
   ]
  },
  {
   "cell_type": "markdown",
   "id": "20d573f4",
   "metadata": {},
   "source": [
    "---"
   ]
  },
  {
   "cell_type": "markdown",
   "id": "1e879d2f",
   "metadata": {},
   "source": [
    "Combine all columns"
   ]
  },
  {
   "cell_type": "code",
   "execution_count": 13,
   "id": "071fee77",
   "metadata": {},
   "outputs": [],
   "source": [
    "def combine_all_columns(train_data, test_data, catcols, numcols, tfidf_flag):\n",
    "    \"\"\"\n",
    "    This function combines all categorical and numerical features.\n",
    "    \"\"\"\n",
    "    train_all_columns = list()\n",
    "    test_all_columns = list()\n",
    "    print(\"Combining categorical features.\")\n",
    "    for catcol in tqdm(catcols):\n",
    "        train_column_bow, test_colum_bow = encode_categorical_column(train_data=train_data,\n",
    "                                                                     test_data=test_data,\n",
    "                                                                     column=catcol,\n",
    "                                                                     tfidf_flag=tfidf_flag)\n",
    "        train_all_columns.append(train_column_bow)\n",
    "        test_all_columns.append(test_colum_bow)\n",
    "    print(\"Combining numerical features.\")\n",
    "    for numcol in tqdm(numcols):\n",
    "        train_column_norm, test_column_norm = normalize_numerical_column(train_data=train_data,\n",
    "                                                                         test_data=test_data,\n",
    "                                                                         column=numcol)\n",
    "        train_all_columns.append(train_column_norm)\n",
    "        test_all_columns.append(test_column_norm)\n",
    "    print(\"Preparing model-ready data.\")\n",
    "    train_combined_data = hstack(blocks=train_all_columns).tocsr()\n",
    "    test_combined_data = hstack(blocks=test_all_columns).tocsr()\n",
    "    print(\"Done!\")\n",
    "    return train_combined_data, test_combined_data"
   ]
  },
  {
   "cell_type": "markdown",
   "id": "b51a7bea",
   "metadata": {},
   "source": [
    "---"
   ]
  },
  {
   "cell_type": "markdown",
   "id": "3f250faf",
   "metadata": {},
   "source": [
    "Batch-wise prediction"
   ]
  },
  {
   "cell_type": "code",
   "execution_count": 14,
   "id": "837b92bd",
   "metadata": {},
   "outputs": [],
   "source": [
    "def batch_predict_proba(clf, data, batch_size=1000):\n",
    "    \"\"\"\n",
    "    This function takes the input in batches and predicts the probability scores for positive class.\n",
    "    \"\"\"\n",
    "    y_pred_proba = list()\n",
    "    tr_loop = (data.shape[0] - (data.shape[0] % batch_size))\n",
    "    for i in range(0, tr_loop, batch_size):\n",
    "        y_pred_proba.extend(clf.predict_proba(X=data[i:i+batch_size])[:, 1])\n",
    "    if data.shape[0] % batch_size != 0:\n",
    "        y_pred_proba.extend(clf.predict_proba(X=data[tr_loop:])[:, 1])\n",
    "    return y_pred_proba"
   ]
  },
  {
   "cell_type": "markdown",
   "id": "d3b76f8d",
   "metadata": {},
   "source": [
    "---"
   ]
  },
  {
   "cell_type": "markdown",
   "id": "45738737",
   "metadata": {},
   "source": [
    "Draw the AUC plot"
   ]
  },
  {
   "cell_type": "code",
   "execution_count": 15,
   "id": "f26b4e5e",
   "metadata": {},
   "outputs": [],
   "source": [
    "def draw_auc(best_alpha, X_train_data, X_test_data, y_train, y_test, plot_it=True):\n",
    "    \"\"\"\n",
    "    Draws AUC plot.\n",
    "    \"\"\"\n",
    "    clf = MultinomialNB(alpha=best_alpha)\n",
    "    clf.fit(X=X_train_data, y=y_train)\n",
    "    \n",
    "    y_train_pred_proba = batch_predict_proba(clf=clf, data=X_train_data)\n",
    "    y_test_pred_proba = batch_predict_proba(clf=clf, data=X_test_data)\n",
    "    \n",
    "    train_fpr, train_tpr, train_taus = roc_curve(y_true=y_train, y_score=y_train_pred_proba)\n",
    "    test_fpr, test_tpr, test_taus = roc_curve(y_true=y_test, y_score=y_test_pred_proba)\n",
    "    \n",
    "    tr_auc = round(auc(x=train_fpr, y=train_tpr), 3)\n",
    "    te_auc = round(auc(x=test_fpr, y=test_tpr), 3)\n",
    "    \n",
    "    if plot_it:\n",
    "        plt.figure(figsize=(12, 6))\n",
    "\n",
    "        plt.plot(train_fpr, train_tpr, label='Train AUC = {}'.format(tr_auc))\n",
    "        plt.plot(test_fpr, test_tpr, label='Test AUC = {}'.format(te_auc))\n",
    "\n",
    "        plt.title(label='AUC')\n",
    "        plt.xlabel(xlabel='FPR')\n",
    "        plt.ylabel(ylabel='TPR')\n",
    "        plt.legend()\n",
    "        plt.show()\n",
    "    else:\n",
    "        return (y_train_pred_proba, y_test_pred_proba, train_taus, train_fpr, train_tpr, tr_auc, te_auc, clf)"
   ]
  },
  {
   "cell_type": "markdown",
   "id": "fc8e91dc",
   "metadata": {},
   "source": [
    "---"
   ]
  },
  {
   "cell_type": "markdown",
   "id": "b5e8d0c5",
   "metadata": {},
   "source": [
    "Best tau and confusion matrix"
   ]
  },
  {
   "cell_type": "code",
   "execution_count": 16,
   "id": "ca306bdf",
   "metadata": {},
   "outputs": [],
   "source": [
    "def find_best_tau(taus, fpr, tpr):\n",
    "    \"\"\"\n",
    "    The (tpr*(1-fpr)) will be maximum if fpr is very low and tpr is very high.\n",
    "    \"\"\"\n",
    "    tau = round(taus[np.argmax(a=tpr*(1-fpr))], 3)\n",
    "    tpr_1_fpr = round(max(tpr*(1-fpr)), 3)\n",
    "    print(\"The maximum value of tpr*(1-fpr) is {} for tau {}.\".format(tpr_1_fpr, tau))\n",
    "    return tau\n",
    "\n",
    "def predict_using_best_tau(proba, best_tau):\n",
    "    \"\"\"\n",
    "    This function predicts using best tau.\n",
    "    \"\"\"\n",
    "    predictions = list()\n",
    "    for i in proba:\n",
    "        if i >= best_tau:\n",
    "            predictions.append(1)\n",
    "        else:\n",
    "            predictions.append(0)\n",
    "    return predictions"
   ]
  },
  {
   "cell_type": "markdown",
   "id": "c244535d",
   "metadata": {},
   "source": [
    "---"
   ]
  },
  {
   "cell_type": "markdown",
   "id": "b8fa8ba2",
   "metadata": {},
   "source": [
    "Set 1"
   ]
  },
  {
   "cell_type": "code",
   "execution_count": 17,
   "id": "23fe0035",
   "metadata": {
    "scrolled": true
   },
   "outputs": [
    {
     "name": "stdout",
     "output_type": "stream",
     "text": [
      "Combining categorical features.\n"
     ]
    },
    {
     "name": "stderr",
     "output_type": "stream",
     "text": [
      "100%|█████████████████████████████████████████████████████████████████████| 6/6 [00:53<00:00,  8.92s/it]\n"
     ]
    },
    {
     "name": "stdout",
     "output_type": "stream",
     "text": [
      "Combining numerical features.\n"
     ]
    },
    {
     "name": "stderr",
     "output_type": "stream",
     "text": [
      "100%|███████████████████████████████████████████████████████████████████| 2/2 [00:00<00:00, 1309.49it/s]\n"
     ]
    },
    {
     "name": "stdout",
     "output_type": "stream",
     "text": [
      "Preparing model-ready data.\n",
      "Done!\n"
     ]
    }
   ],
   "source": [
    "X_train_data_bow, X_test_data_bow = combine_all_columns(train_data=X_train,\n",
    "                                                        test_data=X_test,\n",
    "                                                        catcols=catcols,\n",
    "                                                        numcols=numcols,\n",
    "                                                        tfidf_flag=False)"
   ]
  },
  {
   "cell_type": "code",
   "execution_count": 18,
   "id": "fcc289a7",
   "metadata": {},
   "outputs": [
    {
     "name": "stdout",
     "output_type": "stream",
     "text": [
      "(33500, 5101) (33500,)\n",
      "(16500, 5101) (16500,)\n"
     ]
    }
   ],
   "source": [
    "print(X_train_data_bow.shape, y_train.shape)\n",
    "print(X_test_data_bow.shape, y_test.shape)"
   ]
  },
  {
   "cell_type": "markdown",
   "id": "3a35b53a",
   "metadata": {},
   "source": [
    "`MultinomialNB` and `GridSearchCV` on Set 1"
   ]
  },
  {
   "cell_type": "code",
   "execution_count": 19,
   "id": "bafc56c5",
   "metadata": {
    "scrolled": false
   },
   "outputs": [
    {
     "data": {
      "text/html": [
       "<div>\n",
       "<style scoped>\n",
       "    .dataframe tbody tr th:only-of-type {\n",
       "        vertical-align: middle;\n",
       "    }\n",
       "\n",
       "    .dataframe tbody tr th {\n",
       "        vertical-align: top;\n",
       "    }\n",
       "\n",
       "    .dataframe thead th {\n",
       "        text-align: right;\n",
       "    }\n",
       "</style>\n",
       "<table border=\"1\" class=\"dataframe\">\n",
       "  <thead>\n",
       "    <tr style=\"text-align: right;\">\n",
       "      <th></th>\n",
       "      <th>mean_fit_time</th>\n",
       "      <th>std_fit_time</th>\n",
       "      <th>mean_score_time</th>\n",
       "      <th>std_score_time</th>\n",
       "      <th>param_alpha</th>\n",
       "      <th>params</th>\n",
       "      <th>split0_test_score</th>\n",
       "      <th>split1_test_score</th>\n",
       "      <th>split2_test_score</th>\n",
       "      <th>mean_test_score</th>\n",
       "      <th>std_test_score</th>\n",
       "      <th>rank_test_score</th>\n",
       "      <th>split0_train_score</th>\n",
       "      <th>split1_train_score</th>\n",
       "      <th>split2_train_score</th>\n",
       "      <th>mean_train_score</th>\n",
       "      <th>std_train_score</th>\n",
       "    </tr>\n",
       "  </thead>\n",
       "  <tbody>\n",
       "    <tr>\n",
       "      <th>0</th>\n",
       "      <td>0.017578</td>\n",
       "      <td>0.001621</td>\n",
       "      <td>0.007747</td>\n",
       "      <td>0.000545</td>\n",
       "      <td>0.00001</td>\n",
       "      <td>{'alpha': 1e-05}</td>\n",
       "      <td>0.680368</td>\n",
       "      <td>0.693137</td>\n",
       "      <td>0.691547</td>\n",
       "      <td>0.688351</td>\n",
       "      <td>0.005682</td>\n",
       "      <td>8</td>\n",
       "      <td>0.754456</td>\n",
       "      <td>0.750606</td>\n",
       "      <td>0.754852</td>\n",
       "      <td>0.753304</td>\n",
       "      <td>0.001915</td>\n",
       "    </tr>\n",
       "    <tr>\n",
       "      <th>2</th>\n",
       "      <td>0.016247</td>\n",
       "      <td>0.000106</td>\n",
       "      <td>0.007391</td>\n",
       "      <td>0.000036</td>\n",
       "      <td>0.0001</td>\n",
       "      <td>{'alpha': 0.0001}</td>\n",
       "      <td>0.680368</td>\n",
       "      <td>0.693137</td>\n",
       "      <td>0.691599</td>\n",
       "      <td>0.688368</td>\n",
       "      <td>0.005692</td>\n",
       "      <td>6</td>\n",
       "      <td>0.754455</td>\n",
       "      <td>0.750606</td>\n",
       "      <td>0.754851</td>\n",
       "      <td>0.753304</td>\n",
       "      <td>0.001915</td>\n",
       "    </tr>\n",
       "    <tr>\n",
       "      <th>1</th>\n",
       "      <td>0.016516</td>\n",
       "      <td>0.000538</td>\n",
       "      <td>0.007649</td>\n",
       "      <td>0.000444</td>\n",
       "      <td>0.0005</td>\n",
       "      <td>{'alpha': 0.0005}</td>\n",
       "      <td>0.680368</td>\n",
       "      <td>0.693137</td>\n",
       "      <td>0.691638</td>\n",
       "      <td>0.688381</td>\n",
       "      <td>0.005699</td>\n",
       "      <td>5</td>\n",
       "      <td>0.754455</td>\n",
       "      <td>0.750605</td>\n",
       "      <td>0.754850</td>\n",
       "      <td>0.753303</td>\n",
       "      <td>0.001915</td>\n",
       "    </tr>\n",
       "    <tr>\n",
       "      <th>4</th>\n",
       "      <td>0.016183</td>\n",
       "      <td>0.000039</td>\n",
       "      <td>0.007357</td>\n",
       "      <td>0.000068</td>\n",
       "      <td>0.001</td>\n",
       "      <td>{'alpha': 0.001}</td>\n",
       "      <td>0.680367</td>\n",
       "      <td>0.693136</td>\n",
       "      <td>0.691655</td>\n",
       "      <td>0.688386</td>\n",
       "      <td>0.005702</td>\n",
       "      <td>3</td>\n",
       "      <td>0.754455</td>\n",
       "      <td>0.750604</td>\n",
       "      <td>0.754849</td>\n",
       "      <td>0.753303</td>\n",
       "      <td>0.001915</td>\n",
       "    </tr>\n",
       "    <tr>\n",
       "      <th>3</th>\n",
       "      <td>0.016786</td>\n",
       "      <td>0.000616</td>\n",
       "      <td>0.007536</td>\n",
       "      <td>0.000055</td>\n",
       "      <td>0.005</td>\n",
       "      <td>{'alpha': 0.005}</td>\n",
       "      <td>0.680361</td>\n",
       "      <td>0.693135</td>\n",
       "      <td>0.691694</td>\n",
       "      <td>0.688397</td>\n",
       "      <td>0.005712</td>\n",
       "      <td>2</td>\n",
       "      <td>0.754449</td>\n",
       "      <td>0.750598</td>\n",
       "      <td>0.754842</td>\n",
       "      <td>0.753296</td>\n",
       "      <td>0.001915</td>\n",
       "    </tr>\n",
       "    <tr>\n",
       "      <th>6</th>\n",
       "      <td>0.016164</td>\n",
       "      <td>0.000049</td>\n",
       "      <td>0.007356</td>\n",
       "      <td>0.000037</td>\n",
       "      <td>0.01</td>\n",
       "      <td>{'alpha': 0.01}</td>\n",
       "      <td>0.680357</td>\n",
       "      <td>0.693134</td>\n",
       "      <td>0.691705</td>\n",
       "      <td>0.688399</td>\n",
       "      <td>0.005716</td>\n",
       "      <td>1</td>\n",
       "      <td>0.754442</td>\n",
       "      <td>0.750592</td>\n",
       "      <td>0.754834</td>\n",
       "      <td>0.753290</td>\n",
       "      <td>0.001914</td>\n",
       "    </tr>\n",
       "    <tr>\n",
       "      <th>5</th>\n",
       "      <td>0.016272</td>\n",
       "      <td>0.000148</td>\n",
       "      <td>0.007472</td>\n",
       "      <td>0.000081</td>\n",
       "      <td>0.05</td>\n",
       "      <td>{'alpha': 0.05}</td>\n",
       "      <td>0.680321</td>\n",
       "      <td>0.693118</td>\n",
       "      <td>0.691715</td>\n",
       "      <td>0.688385</td>\n",
       "      <td>0.005731</td>\n",
       "      <td>4</td>\n",
       "      <td>0.754386</td>\n",
       "      <td>0.750540</td>\n",
       "      <td>0.754777</td>\n",
       "      <td>0.753234</td>\n",
       "      <td>0.001912</td>\n",
       "    </tr>\n",
       "    <tr>\n",
       "      <th>7</th>\n",
       "      <td>0.016271</td>\n",
       "      <td>0.000165</td>\n",
       "      <td>0.007404</td>\n",
       "      <td>0.000010</td>\n",
       "      <td>0.1</td>\n",
       "      <td>{'alpha': 0.1}</td>\n",
       "      <td>0.680281</td>\n",
       "      <td>0.693088</td>\n",
       "      <td>0.691688</td>\n",
       "      <td>0.688352</td>\n",
       "      <td>0.005736</td>\n",
       "      <td>7</td>\n",
       "      <td>0.754310</td>\n",
       "      <td>0.750471</td>\n",
       "      <td>0.754708</td>\n",
       "      <td>0.753163</td>\n",
       "      <td>0.001911</td>\n",
       "    </tr>\n",
       "    <tr>\n",
       "      <th>8</th>\n",
       "      <td>0.016936</td>\n",
       "      <td>0.000899</td>\n",
       "      <td>0.007416</td>\n",
       "      <td>0.000101</td>\n",
       "      <td>0.5</td>\n",
       "      <td>{'alpha': 0.5}</td>\n",
       "      <td>0.679918</td>\n",
       "      <td>0.692908</td>\n",
       "      <td>0.691388</td>\n",
       "      <td>0.688071</td>\n",
       "      <td>0.005799</td>\n",
       "      <td>9</td>\n",
       "      <td>0.753725</td>\n",
       "      <td>0.749914</td>\n",
       "      <td>0.754177</td>\n",
       "      <td>0.752605</td>\n",
       "      <td>0.001912</td>\n",
       "    </tr>\n",
       "    <tr>\n",
       "      <th>9</th>\n",
       "      <td>0.016259</td>\n",
       "      <td>0.000126</td>\n",
       "      <td>0.007397</td>\n",
       "      <td>0.000021</td>\n",
       "      <td>1</td>\n",
       "      <td>{'alpha': 1}</td>\n",
       "      <td>0.679457</td>\n",
       "      <td>0.692658</td>\n",
       "      <td>0.690980</td>\n",
       "      <td>0.687699</td>\n",
       "      <td>0.005868</td>\n",
       "      <td>10</td>\n",
       "      <td>0.752997</td>\n",
       "      <td>0.749224</td>\n",
       "      <td>0.753508</td>\n",
       "      <td>0.751910</td>\n",
       "      <td>0.001911</td>\n",
       "    </tr>\n",
       "    <tr>\n",
       "      <th>10</th>\n",
       "      <td>0.016624</td>\n",
       "      <td>0.000405</td>\n",
       "      <td>0.007693</td>\n",
       "      <td>0.000369</td>\n",
       "      <td>5</td>\n",
       "      <td>{'alpha': 5}</td>\n",
       "      <td>0.675964</td>\n",
       "      <td>0.690528</td>\n",
       "      <td>0.687532</td>\n",
       "      <td>0.684675</td>\n",
       "      <td>0.006280</td>\n",
       "      <td>11</td>\n",
       "      <td>0.747420</td>\n",
       "      <td>0.743656</td>\n",
       "      <td>0.748258</td>\n",
       "      <td>0.746445</td>\n",
       "      <td>0.002002</td>\n",
       "    </tr>\n",
       "    <tr>\n",
       "      <th>11</th>\n",
       "      <td>0.016182</td>\n",
       "      <td>0.000077</td>\n",
       "      <td>0.007357</td>\n",
       "      <td>0.000048</td>\n",
       "      <td>10</td>\n",
       "      <td>{'alpha': 10}</td>\n",
       "      <td>0.671748</td>\n",
       "      <td>0.687434</td>\n",
       "      <td>0.682963</td>\n",
       "      <td>0.680715</td>\n",
       "      <td>0.006598</td>\n",
       "      <td>12</td>\n",
       "      <td>0.740801</td>\n",
       "      <td>0.736746</td>\n",
       "      <td>0.741729</td>\n",
       "      <td>0.739759</td>\n",
       "      <td>0.002164</td>\n",
       "    </tr>\n",
       "    <tr>\n",
       "      <th>12</th>\n",
       "      <td>0.016180</td>\n",
       "      <td>0.000129</td>\n",
       "      <td>0.007374</td>\n",
       "      <td>0.000070</td>\n",
       "      <td>50</td>\n",
       "      <td>{'alpha': 50}</td>\n",
       "      <td>0.645085</td>\n",
       "      <td>0.660635</td>\n",
       "      <td>0.647447</td>\n",
       "      <td>0.651056</td>\n",
       "      <td>0.006842</td>\n",
       "      <td>13</td>\n",
       "      <td>0.695213</td>\n",
       "      <td>0.687277</td>\n",
       "      <td>0.694236</td>\n",
       "      <td>0.692242</td>\n",
       "      <td>0.003533</td>\n",
       "    </tr>\n",
       "    <tr>\n",
       "      <th>13</th>\n",
       "      <td>0.016134</td>\n",
       "      <td>0.000058</td>\n",
       "      <td>0.007202</td>\n",
       "      <td>0.000040</td>\n",
       "      <td>100</td>\n",
       "      <td>{'alpha': 100}</td>\n",
       "      <td>0.620635</td>\n",
       "      <td>0.631844</td>\n",
       "      <td>0.613720</td>\n",
       "      <td>0.622066</td>\n",
       "      <td>0.007468</td>\n",
       "      <td>14</td>\n",
       "      <td>0.651136</td>\n",
       "      <td>0.642882</td>\n",
       "      <td>0.650786</td>\n",
       "      <td>0.648268</td>\n",
       "      <td>0.003811</td>\n",
       "    </tr>\n",
       "  </tbody>\n",
       "</table>\n",
       "</div>"
      ],
      "text/plain": [
       "    mean_fit_time  std_fit_time  mean_score_time  std_score_time param_alpha  \\\n",
       "0        0.017578      0.001621         0.007747        0.000545     0.00001   \n",
       "2        0.016247      0.000106         0.007391        0.000036      0.0001   \n",
       "1        0.016516      0.000538         0.007649        0.000444      0.0005   \n",
       "4        0.016183      0.000039         0.007357        0.000068       0.001   \n",
       "3        0.016786      0.000616         0.007536        0.000055       0.005   \n",
       "6        0.016164      0.000049         0.007356        0.000037        0.01   \n",
       "5        0.016272      0.000148         0.007472        0.000081        0.05   \n",
       "7        0.016271      0.000165         0.007404        0.000010         0.1   \n",
       "8        0.016936      0.000899         0.007416        0.000101         0.5   \n",
       "9        0.016259      0.000126         0.007397        0.000021           1   \n",
       "10       0.016624      0.000405         0.007693        0.000369           5   \n",
       "11       0.016182      0.000077         0.007357        0.000048          10   \n",
       "12       0.016180      0.000129         0.007374        0.000070          50   \n",
       "13       0.016134      0.000058         0.007202        0.000040         100   \n",
       "\n",
       "               params  split0_test_score  split1_test_score  \\\n",
       "0    {'alpha': 1e-05}           0.680368           0.693137   \n",
       "2   {'alpha': 0.0001}           0.680368           0.693137   \n",
       "1   {'alpha': 0.0005}           0.680368           0.693137   \n",
       "4    {'alpha': 0.001}           0.680367           0.693136   \n",
       "3    {'alpha': 0.005}           0.680361           0.693135   \n",
       "6     {'alpha': 0.01}           0.680357           0.693134   \n",
       "5     {'alpha': 0.05}           0.680321           0.693118   \n",
       "7      {'alpha': 0.1}           0.680281           0.693088   \n",
       "8      {'alpha': 0.5}           0.679918           0.692908   \n",
       "9        {'alpha': 1}           0.679457           0.692658   \n",
       "10       {'alpha': 5}           0.675964           0.690528   \n",
       "11      {'alpha': 10}           0.671748           0.687434   \n",
       "12      {'alpha': 50}           0.645085           0.660635   \n",
       "13     {'alpha': 100}           0.620635           0.631844   \n",
       "\n",
       "    split2_test_score  mean_test_score  std_test_score  rank_test_score  \\\n",
       "0            0.691547         0.688351        0.005682                8   \n",
       "2            0.691599         0.688368        0.005692                6   \n",
       "1            0.691638         0.688381        0.005699                5   \n",
       "4            0.691655         0.688386        0.005702                3   \n",
       "3            0.691694         0.688397        0.005712                2   \n",
       "6            0.691705         0.688399        0.005716                1   \n",
       "5            0.691715         0.688385        0.005731                4   \n",
       "7            0.691688         0.688352        0.005736                7   \n",
       "8            0.691388         0.688071        0.005799                9   \n",
       "9            0.690980         0.687699        0.005868               10   \n",
       "10           0.687532         0.684675        0.006280               11   \n",
       "11           0.682963         0.680715        0.006598               12   \n",
       "12           0.647447         0.651056        0.006842               13   \n",
       "13           0.613720         0.622066        0.007468               14   \n",
       "\n",
       "    split0_train_score  split1_train_score  split2_train_score  \\\n",
       "0             0.754456            0.750606            0.754852   \n",
       "2             0.754455            0.750606            0.754851   \n",
       "1             0.754455            0.750605            0.754850   \n",
       "4             0.754455            0.750604            0.754849   \n",
       "3             0.754449            0.750598            0.754842   \n",
       "6             0.754442            0.750592            0.754834   \n",
       "5             0.754386            0.750540            0.754777   \n",
       "7             0.754310            0.750471            0.754708   \n",
       "8             0.753725            0.749914            0.754177   \n",
       "9             0.752997            0.749224            0.753508   \n",
       "10            0.747420            0.743656            0.748258   \n",
       "11            0.740801            0.736746            0.741729   \n",
       "12            0.695213            0.687277            0.694236   \n",
       "13            0.651136            0.642882            0.650786   \n",
       "\n",
       "    mean_train_score  std_train_score  \n",
       "0           0.753304         0.001915  \n",
       "2           0.753304         0.001915  \n",
       "1           0.753303         0.001915  \n",
       "4           0.753303         0.001915  \n",
       "3           0.753296         0.001915  \n",
       "6           0.753290         0.001914  \n",
       "5           0.753234         0.001912  \n",
       "7           0.753163         0.001911  \n",
       "8           0.752605         0.001912  \n",
       "9           0.751910         0.001911  \n",
       "10          0.746445         0.002002  \n",
       "11          0.739759         0.002164  \n",
       "12          0.692242         0.003533  \n",
       "13          0.648268         0.003811  "
      ]
     },
     "metadata": {},
     "output_type": "display_data"
    },
    {
     "data": {
      "image/png": "[encoded data removed]",
      "text/plain": [
       "<Figure size 864x432 with 1 Axes>"
      ]
     },
     "metadata": {},
     "output_type": "display_data"
    }
   ],
   "source": [
    "parameters = {'alpha': [0.00001, 0.0005, 0.0001, 0.005, 0.001, 0.05, 0.01, 0.1, 0.5, 1, 5, 10, 50, 100]}\n",
    "\n",
    "nb_mul_clf = MultinomialNB(fit_prior=False, class_prior=[0.5, 0.5])\n",
    "\n",
    "grid_cv_clf = GridSearchCV(estimator=nb_mul_clf, param_grid=parameters, cv=3, scoring='roc_auc', return_train_score=True)\n",
    "grid_cv_clf.fit(X=X_train_data_bow, y=y_train)\n",
    "\n",
    "results = pd.DataFrame.from_dict(data=grid_cv_clf.cv_results_).sort_values(['param_alpha'])\n",
    "display(results)\n",
    "\n",
    "train_auc = results['mean_train_score'].values\n",
    "train_auc_std = results['std_train_score'].values\n",
    "cv_auc = results['mean_test_score'].values\n",
    "cv_auc_std = results['std_test_score'].values\n",
    "alphas = results['param_alpha'].values.astype(float)\n",
    "log_alphas = np.log(alphas)\n",
    "\n",
    "plt.figure(figsize=(12, 6))\n",
    "\n",
    "plt.plot(log_alphas, train_auc, label='Train AUC')\n",
    "plt.plot(log_alphas, cv_auc, label='CV AUC')\n",
    "\n",
    "plt.scatter(x=log_alphas, y=train_auc, label='Train AUC Points')\n",
    "plt.scatter(x=log_alphas, y=cv_auc, label='CV AUC Points')\n",
    "\n",
    "plt.title(label='Hyperparameter vs AUC Plot')\n",
    "plt.xlabel(xlabel='log(alpha): Hyperparameter')\n",
    "plt.ylabel(ylabel='AUC')\n",
    "plt.legend()\n",
    "plt.show()"
   ]
  },
  {
   "cell_type": "markdown",
   "id": "6e5dccef",
   "metadata": {},
   "source": [
    "Best aplha on Set 1"
   ]
  },
  {
   "cell_type": "code",
   "execution_count": 20,
   "id": "7e1d803e",
   "metadata": {},
   "outputs": [
    {
     "name": "stdout",
     "output_type": "stream",
     "text": [
      "{'alpha': 0.01, 'class_prior': [0.5, 0.5], 'fit_prior': False}\n",
      "0.01\n"
     ]
    }
   ],
   "source": [
    "best_params_1 = grid_cv_clf.best_estimator_.get_params()\n",
    "print(best_params_1)\n",
    "best_alpha_1 = best_params_1['alpha']\n",
    "print(best_alpha_1)"
   ]
  },
  {
   "cell_type": "markdown",
   "id": "7201a809",
   "metadata": {},
   "source": [
    "AUC plot on Set 1"
   ]
  },
  {
   "cell_type": "code",
   "execution_count": 21,
   "id": "dd76524a",
   "metadata": {},
   "outputs": [
    {
     "data": {
      "image/png": "[encoded data removed]",
      "text/plain": [
       "<Figure size 864x432 with 1 Axes>"
      ]
     },
     "metadata": {},
     "output_type": "display_data"
    }
   ],
   "source": [
    "draw_auc(best_alpha=best_alpha_1,\n",
    "         X_train_data=X_train_data_bow,\n",
    "         X_test_data=X_test_data_bow,\n",
    "         y_train=y_train,\n",
    "         y_test=y_test)"
   ]
  },
  {
   "cell_type": "markdown",
   "id": "55149083",
   "metadata": {},
   "source": [
    "Best tau and confusion matrix on Set 1"
   ]
  },
  {
   "cell_type": "code",
   "execution_count": 22,
   "id": "3131c3b5",
   "metadata": {},
   "outputs": [
    {
     "name": "stdout",
     "output_type": "stream",
     "text": [
      "The maximum value of tpr*(1-fpr) is 0.462 for tau 0.808.\n",
      "\n",
      "Train Confusion Matrix\n",
      "[[ 3592  1773]\n",
      " [ 8726 19409]]\n",
      "\n",
      "Test Confusion Matrix\n",
      "[[1548 1094]\n",
      " [4321 9537]]\n"
     ]
    }
   ],
   "source": [
    "(y_train_pred_proba,\n",
    " y_test_pred_proba,\n",
    " train_taus,\n",
    " train_fpr,\n",
    " train_tpr,\n",
    " tr_auc_1,\n",
    " te_auc_1,\n",
    " nb_clf_1) = draw_auc(best_alpha=best_alpha_1,\n",
    "                      X_train_data=X_train_data_bow,\n",
    "                      X_test_data=X_test_data_bow,\n",
    "                      y_train=y_train,\n",
    "                      y_test=y_test,\n",
    "                      plot_it=False)\n",
    "\n",
    "best_tau = find_best_tau(taus=train_taus, fpr=train_fpr, tpr=train_tpr)\n",
    "print(\"\\nTrain Confusion Matrix\")\n",
    "print(confusion_matrix(y_true=y_train,\n",
    "                       y_pred=predict_using_best_tau(proba=y_train_pred_proba,\n",
    "                                                     best_tau=best_tau)))\n",
    "print(\"\\nTest Confusion Matrix\")\n",
    "print(confusion_matrix(y_true=y_test,\n",
    "                       y_pred=predict_using_best_tau(proba=y_test_pred_proba,\n",
    "                                                     best_tau=best_tau)))"
   ]
  },
  {
   "cell_type": "markdown",
   "id": "5b1f616d",
   "metadata": {},
   "source": [
    "---"
   ]
  },
  {
   "cell_type": "markdown",
   "id": "c7577216",
   "metadata": {},
   "source": [
    "Set 2"
   ]
  },
  {
   "cell_type": "code",
   "execution_count": 23,
   "id": "2306e4c6",
   "metadata": {},
   "outputs": [
    {
     "name": "stdout",
     "output_type": "stream",
     "text": [
      "Combining categorical features.\n"
     ]
    },
    {
     "name": "stderr",
     "output_type": "stream",
     "text": [
      "100%|█████████████████████████████████████████████████████████████████████| 6/6 [00:52<00:00,  8.79s/it]\n"
     ]
    },
    {
     "name": "stdout",
     "output_type": "stream",
     "text": [
      "Combining numerical features.\n"
     ]
    },
    {
     "name": "stderr",
     "output_type": "stream",
     "text": [
      "100%|███████████████████████████████████████████████████████████████████| 2/2 [00:00<00:00, 1384.26it/s]\n"
     ]
    },
    {
     "name": "stdout",
     "output_type": "stream",
     "text": [
      "Preparing model-ready data.\n",
      "Done!\n"
     ]
    }
   ],
   "source": [
    "X_train_data_tfidf, X_test_data_tfidf = combine_all_columns(train_data=X_train,\n",
    "                                                            test_data=X_test,\n",
    "                                                            catcols=catcols,\n",
    "                                                            numcols=numcols,\n",
    "                                                            tfidf_flag=True)"
   ]
  },
  {
   "cell_type": "code",
   "execution_count": 24,
   "id": "1012b36b",
   "metadata": {},
   "outputs": [
    {
     "name": "stdout",
     "output_type": "stream",
     "text": [
      "(33500, 5101) (33500,)\n",
      "(16500, 5101) (16500,)\n"
     ]
    }
   ],
   "source": [
    "print(X_train_data_tfidf.shape, y_train.shape)\n",
    "print(X_test_data_tfidf.shape, y_test.shape)"
   ]
  },
  {
   "cell_type": "markdown",
   "id": "b0a4d2eb",
   "metadata": {},
   "source": [
    "`MultinomialNB` and `GridSearchCV` on Set 2"
   ]
  },
  {
   "cell_type": "code",
   "execution_count": 25,
   "id": "ec25a5e8",
   "metadata": {
    "scrolled": false
   },
   "outputs": [
    {
     "data": {
      "text/html": [
       "<div>\n",
       "<style scoped>\n",
       "    .dataframe tbody tr th:only-of-type {\n",
       "        vertical-align: middle;\n",
       "    }\n",
       "\n",
       "    .dataframe tbody tr th {\n",
       "        vertical-align: top;\n",
       "    }\n",
       "\n",
       "    .dataframe thead th {\n",
       "        text-align: right;\n",
       "    }\n",
       "</style>\n",
       "<table border=\"1\" class=\"dataframe\">\n",
       "  <thead>\n",
       "    <tr style=\"text-align: right;\">\n",
       "      <th></th>\n",
       "      <th>mean_fit_time</th>\n",
       "      <th>std_fit_time</th>\n",
       "      <th>mean_score_time</th>\n",
       "      <th>std_score_time</th>\n",
       "      <th>param_alpha</th>\n",
       "      <th>params</th>\n",
       "      <th>split0_test_score</th>\n",
       "      <th>split1_test_score</th>\n",
       "      <th>split2_test_score</th>\n",
       "      <th>mean_test_score</th>\n",
       "      <th>std_test_score</th>\n",
       "      <th>rank_test_score</th>\n",
       "      <th>split0_train_score</th>\n",
       "      <th>split1_train_score</th>\n",
       "      <th>split2_train_score</th>\n",
       "      <th>mean_train_score</th>\n",
       "      <th>std_train_score</th>\n",
       "    </tr>\n",
       "  </thead>\n",
       "  <tbody>\n",
       "    <tr>\n",
       "      <th>0</th>\n",
       "      <td>0.017816</td>\n",
       "      <td>0.001622</td>\n",
       "      <td>0.007688</td>\n",
       "      <td>0.000412</td>\n",
       "      <td>0.00001</td>\n",
       "      <td>{'alpha': 1e-05}</td>\n",
       "      <td>0.667609</td>\n",
       "      <td>0.675532</td>\n",
       "      <td>0.674528</td>\n",
       "      <td>0.672556</td>\n",
       "      <td>0.003522</td>\n",
       "      <td>1</td>\n",
       "      <td>0.745581</td>\n",
       "      <td>0.741508</td>\n",
       "      <td>0.743831</td>\n",
       "      <td>0.743640</td>\n",
       "      <td>0.001669</td>\n",
       "    </tr>\n",
       "    <tr>\n",
       "      <th>2</th>\n",
       "      <td>0.016301</td>\n",
       "      <td>0.000031</td>\n",
       "      <td>0.007430</td>\n",
       "      <td>0.000101</td>\n",
       "      <td>0.0001</td>\n",
       "      <td>{'alpha': 0.0001}</td>\n",
       "      <td>0.667607</td>\n",
       "      <td>0.675531</td>\n",
       "      <td>0.674525</td>\n",
       "      <td>0.672554</td>\n",
       "      <td>0.003522</td>\n",
       "      <td>2</td>\n",
       "      <td>0.745579</td>\n",
       "      <td>0.741506</td>\n",
       "      <td>0.743830</td>\n",
       "      <td>0.743638</td>\n",
       "      <td>0.001668</td>\n",
       "    </tr>\n",
       "    <tr>\n",
       "      <th>1</th>\n",
       "      <td>0.016951</td>\n",
       "      <td>0.000914</td>\n",
       "      <td>0.007412</td>\n",
       "      <td>0.000144</td>\n",
       "      <td>0.0005</td>\n",
       "      <td>{'alpha': 0.0005}</td>\n",
       "      <td>0.667603</td>\n",
       "      <td>0.675526</td>\n",
       "      <td>0.674518</td>\n",
       "      <td>0.672549</td>\n",
       "      <td>0.003522</td>\n",
       "      <td>3</td>\n",
       "      <td>0.745570</td>\n",
       "      <td>0.741499</td>\n",
       "      <td>0.743823</td>\n",
       "      <td>0.743631</td>\n",
       "      <td>0.001668</td>\n",
       "    </tr>\n",
       "    <tr>\n",
       "      <th>4</th>\n",
       "      <td>0.016215</td>\n",
       "      <td>0.000058</td>\n",
       "      <td>0.007392</td>\n",
       "      <td>0.000131</td>\n",
       "      <td>0.001</td>\n",
       "      <td>{'alpha': 0.001}</td>\n",
       "      <td>0.667596</td>\n",
       "      <td>0.675522</td>\n",
       "      <td>0.674513</td>\n",
       "      <td>0.672544</td>\n",
       "      <td>0.003523</td>\n",
       "      <td>4</td>\n",
       "      <td>0.745559</td>\n",
       "      <td>0.741490</td>\n",
       "      <td>0.743814</td>\n",
       "      <td>0.743621</td>\n",
       "      <td>0.001667</td>\n",
       "    </tr>\n",
       "    <tr>\n",
       "      <th>3</th>\n",
       "      <td>0.016430</td>\n",
       "      <td>0.000124</td>\n",
       "      <td>0.007336</td>\n",
       "      <td>0.000033</td>\n",
       "      <td>0.005</td>\n",
       "      <td>{'alpha': 0.005}</td>\n",
       "      <td>0.667552</td>\n",
       "      <td>0.675478</td>\n",
       "      <td>0.674461</td>\n",
       "      <td>0.672497</td>\n",
       "      <td>0.003521</td>\n",
       "      <td>5</td>\n",
       "      <td>0.745472</td>\n",
       "      <td>0.741417</td>\n",
       "      <td>0.743745</td>\n",
       "      <td>0.743545</td>\n",
       "      <td>0.001661</td>\n",
       "    </tr>\n",
       "    <tr>\n",
       "      <th>6</th>\n",
       "      <td>0.016290</td>\n",
       "      <td>0.000067</td>\n",
       "      <td>0.007316</td>\n",
       "      <td>0.000032</td>\n",
       "      <td>0.01</td>\n",
       "      <td>{'alpha': 0.01}</td>\n",
       "      <td>0.667497</td>\n",
       "      <td>0.675424</td>\n",
       "      <td>0.674403</td>\n",
       "      <td>0.672441</td>\n",
       "      <td>0.003521</td>\n",
       "      <td>6</td>\n",
       "      <td>0.745367</td>\n",
       "      <td>0.741328</td>\n",
       "      <td>0.743655</td>\n",
       "      <td>0.743450</td>\n",
       "      <td>0.001655</td>\n",
       "    </tr>\n",
       "    <tr>\n",
       "      <th>5</th>\n",
       "      <td>0.016254</td>\n",
       "      <td>0.000068</td>\n",
       "      <td>0.007364</td>\n",
       "      <td>0.000034</td>\n",
       "      <td>0.05</td>\n",
       "      <td>{'alpha': 0.05}</td>\n",
       "      <td>0.666978</td>\n",
       "      <td>0.675023</td>\n",
       "      <td>0.674009</td>\n",
       "      <td>0.672004</td>\n",
       "      <td>0.003578</td>\n",
       "      <td>7</td>\n",
       "      <td>0.744522</td>\n",
       "      <td>0.740587</td>\n",
       "      <td>0.742938</td>\n",
       "      <td>0.742682</td>\n",
       "      <td>0.001617</td>\n",
       "    </tr>\n",
       "    <tr>\n",
       "      <th>7</th>\n",
       "      <td>0.016576</td>\n",
       "      <td>0.000530</td>\n",
       "      <td>0.007371</td>\n",
       "      <td>0.000061</td>\n",
       "      <td>0.1</td>\n",
       "      <td>{'alpha': 0.1}</td>\n",
       "      <td>0.666332</td>\n",
       "      <td>0.674520</td>\n",
       "      <td>0.673547</td>\n",
       "      <td>0.671467</td>\n",
       "      <td>0.003652</td>\n",
       "      <td>8</td>\n",
       "      <td>0.743471</td>\n",
       "      <td>0.739669</td>\n",
       "      <td>0.742047</td>\n",
       "      <td>0.741729</td>\n",
       "      <td>0.001568</td>\n",
       "    </tr>\n",
       "    <tr>\n",
       "      <th>8</th>\n",
       "      <td>0.016312</td>\n",
       "      <td>0.000094</td>\n",
       "      <td>0.007357</td>\n",
       "      <td>0.000044</td>\n",
       "      <td>0.5</td>\n",
       "      <td>{'alpha': 0.5}</td>\n",
       "      <td>0.661303</td>\n",
       "      <td>0.670231</td>\n",
       "      <td>0.668684</td>\n",
       "      <td>0.666740</td>\n",
       "      <td>0.003896</td>\n",
       "      <td>9</td>\n",
       "      <td>0.735630</td>\n",
       "      <td>0.732453</td>\n",
       "      <td>0.734940</td>\n",
       "      <td>0.734341</td>\n",
       "      <td>0.001365</td>\n",
       "    </tr>\n",
       "    <tr>\n",
       "      <th>9</th>\n",
       "      <td>0.016559</td>\n",
       "      <td>0.000336</td>\n",
       "      <td>0.007360</td>\n",
       "      <td>0.000078</td>\n",
       "      <td>1</td>\n",
       "      <td>{'alpha': 1}</td>\n",
       "      <td>0.655174</td>\n",
       "      <td>0.664751</td>\n",
       "      <td>0.662589</td>\n",
       "      <td>0.660838</td>\n",
       "      <td>0.004101</td>\n",
       "      <td>10</td>\n",
       "      <td>0.726689</td>\n",
       "      <td>0.723771</td>\n",
       "      <td>0.726335</td>\n",
       "      <td>0.725598</td>\n",
       "      <td>0.001300</td>\n",
       "    </tr>\n",
       "    <tr>\n",
       "      <th>10</th>\n",
       "      <td>0.016716</td>\n",
       "      <td>0.000425</td>\n",
       "      <td>0.007608</td>\n",
       "      <td>0.000320</td>\n",
       "      <td>5</td>\n",
       "      <td>{'alpha': 5}</td>\n",
       "      <td>0.618388</td>\n",
       "      <td>0.627989</td>\n",
       "      <td>0.625488</td>\n",
       "      <td>0.623955</td>\n",
       "      <td>0.004067</td>\n",
       "      <td>11</td>\n",
       "      <td>0.674246</td>\n",
       "      <td>0.671105</td>\n",
       "      <td>0.673809</td>\n",
       "      <td>0.673053</td>\n",
       "      <td>0.001389</td>\n",
       "    </tr>\n",
       "    <tr>\n",
       "      <th>11</th>\n",
       "      <td>0.016394</td>\n",
       "      <td>0.000062</td>\n",
       "      <td>0.007374</td>\n",
       "      <td>0.000094</td>\n",
       "      <td>10</td>\n",
       "      <td>{'alpha': 10}</td>\n",
       "      <td>0.593911</td>\n",
       "      <td>0.602439</td>\n",
       "      <td>0.601178</td>\n",
       "      <td>0.599176</td>\n",
       "      <td>0.003758</td>\n",
       "      <td>12</td>\n",
       "      <td>0.638749</td>\n",
       "      <td>0.635298</td>\n",
       "      <td>0.637615</td>\n",
       "      <td>0.637221</td>\n",
       "      <td>0.001436</td>\n",
       "    </tr>\n",
       "    <tr>\n",
       "      <th>12</th>\n",
       "      <td>0.016267</td>\n",
       "      <td>0.000028</td>\n",
       "      <td>0.007464</td>\n",
       "      <td>0.000057</td>\n",
       "      <td>50</td>\n",
       "      <td>{'alpha': 50}</td>\n",
       "      <td>0.548528</td>\n",
       "      <td>0.557481</td>\n",
       "      <td>0.558217</td>\n",
       "      <td>0.554742</td>\n",
       "      <td>0.004404</td>\n",
       "      <td>13</td>\n",
       "      <td>0.572055</td>\n",
       "      <td>0.567764</td>\n",
       "      <td>0.568096</td>\n",
       "      <td>0.569305</td>\n",
       "      <td>0.001949</td>\n",
       "    </tr>\n",
       "    <tr>\n",
       "      <th>13</th>\n",
       "      <td>0.016273</td>\n",
       "      <td>0.000041</td>\n",
       "      <td>0.007396</td>\n",
       "      <td>0.000048</td>\n",
       "      <td>100</td>\n",
       "      <td>{'alpha': 100}</td>\n",
       "      <td>0.538070</td>\n",
       "      <td>0.547410</td>\n",
       "      <td>0.548934</td>\n",
       "      <td>0.544805</td>\n",
       "      <td>0.004802</td>\n",
       "      <td>14</td>\n",
       "      <td>0.556438</td>\n",
       "      <td>0.552298</td>\n",
       "      <td>0.551635</td>\n",
       "      <td>0.553457</td>\n",
       "      <td>0.002125</td>\n",
       "    </tr>\n",
       "  </tbody>\n",
       "</table>\n",
       "</div>"
      ],
      "text/plain": [
       "    mean_fit_time  std_fit_time  mean_score_time  std_score_time param_alpha  \\\n",
       "0        0.017816      0.001622         0.007688        0.000412     0.00001   \n",
       "2        0.016301      0.000031         0.007430        0.000101      0.0001   \n",
       "1        0.016951      0.000914         0.007412        0.000144      0.0005   \n",
       "4        0.016215      0.000058         0.007392        0.000131       0.001   \n",
       "3        0.016430      0.000124         0.007336        0.000033       0.005   \n",
       "6        0.016290      0.000067         0.007316        0.000032        0.01   \n",
       "5        0.016254      0.000068         0.007364        0.000034        0.05   \n",
       "7        0.016576      0.000530         0.007371        0.000061         0.1   \n",
       "8        0.016312      0.000094         0.007357        0.000044         0.5   \n",
       "9        0.016559      0.000336         0.007360        0.000078           1   \n",
       "10       0.016716      0.000425         0.007608        0.000320           5   \n",
       "11       0.016394      0.000062         0.007374        0.000094          10   \n",
       "12       0.016267      0.000028         0.007464        0.000057          50   \n",
       "13       0.016273      0.000041         0.007396        0.000048         100   \n",
       "\n",
       "               params  split0_test_score  split1_test_score  \\\n",
       "0    {'alpha': 1e-05}           0.667609           0.675532   \n",
       "2   {'alpha': 0.0001}           0.667607           0.675531   \n",
       "1   {'alpha': 0.0005}           0.667603           0.675526   \n",
       "4    {'alpha': 0.001}           0.667596           0.675522   \n",
       "3    {'alpha': 0.005}           0.667552           0.675478   \n",
       "6     {'alpha': 0.01}           0.667497           0.675424   \n",
       "5     {'alpha': 0.05}           0.666978           0.675023   \n",
       "7      {'alpha': 0.1}           0.666332           0.674520   \n",
       "8      {'alpha': 0.5}           0.661303           0.670231   \n",
       "9        {'alpha': 1}           0.655174           0.664751   \n",
       "10       {'alpha': 5}           0.618388           0.627989   \n",
       "11      {'alpha': 10}           0.593911           0.602439   \n",
       "12      {'alpha': 50}           0.548528           0.557481   \n",
       "13     {'alpha': 100}           0.538070           0.547410   \n",
       "\n",
       "    split2_test_score  mean_test_score  std_test_score  rank_test_score  \\\n",
       "0            0.674528         0.672556        0.003522                1   \n",
       "2            0.674525         0.672554        0.003522                2   \n",
       "1            0.674518         0.672549        0.003522                3   \n",
       "4            0.674513         0.672544        0.003523                4   \n",
       "3            0.674461         0.672497        0.003521                5   \n",
       "6            0.674403         0.672441        0.003521                6   \n",
       "5            0.674009         0.672004        0.003578                7   \n",
       "7            0.673547         0.671467        0.003652                8   \n",
       "8            0.668684         0.666740        0.003896                9   \n",
       "9            0.662589         0.660838        0.004101               10   \n",
       "10           0.625488         0.623955        0.004067               11   \n",
       "11           0.601178         0.599176        0.003758               12   \n",
       "12           0.558217         0.554742        0.004404               13   \n",
       "13           0.548934         0.544805        0.004802               14   \n",
       "\n",
       "    split0_train_score  split1_train_score  split2_train_score  \\\n",
       "0             0.745581            0.741508            0.743831   \n",
       "2             0.745579            0.741506            0.743830   \n",
       "1             0.745570            0.741499            0.743823   \n",
       "4             0.745559            0.741490            0.743814   \n",
       "3             0.745472            0.741417            0.743745   \n",
       "6             0.745367            0.741328            0.743655   \n",
       "5             0.744522            0.740587            0.742938   \n",
       "7             0.743471            0.739669            0.742047   \n",
       "8             0.735630            0.732453            0.734940   \n",
       "9             0.726689            0.723771            0.726335   \n",
       "10            0.674246            0.671105            0.673809   \n",
       "11            0.638749            0.635298            0.637615   \n",
       "12            0.572055            0.567764            0.568096   \n",
       "13            0.556438            0.552298            0.551635   \n",
       "\n",
       "    mean_train_score  std_train_score  \n",
       "0           0.743640         0.001669  \n",
       "2           0.743638         0.001668  \n",
       "1           0.743631         0.001668  \n",
       "4           0.743621         0.001667  \n",
       "3           0.743545         0.001661  \n",
       "6           0.743450         0.001655  \n",
       "5           0.742682         0.001617  \n",
       "7           0.741729         0.001568  \n",
       "8           0.734341         0.001365  \n",
       "9           0.725598         0.001300  \n",
       "10          0.673053         0.001389  \n",
       "11          0.637221         0.001436  \n",
       "12          0.569305         0.001949  \n",
       "13          0.553457         0.002125  "
      ]
     },
     "metadata": {},
     "output_type": "display_data"
    },
    {
     "data": {
      "image/png": "[encoded data removed]",
      "text/plain": [
       "<Figure size 864x432 with 1 Axes>"
      ]
     },
     "metadata": {},
     "output_type": "display_data"
    }
   ],
   "source": [
    "parameters = {'alpha': [0.00001, 0.0005, 0.0001, 0.005, 0.001, 0.05, 0.01, 0.1, 0.5, 1, 5, 10, 50, 100]}\n",
    "\n",
    "nb_mul_clf = MultinomialNB(fit_prior=False, class_prior=[0.5, 0.5])\n",
    "\n",
    "grid_cv_clf = GridSearchCV(estimator=nb_mul_clf, param_grid=parameters, cv=3, scoring='roc_auc', return_train_score=True)\n",
    "grid_cv_clf.fit(X=X_train_data_tfidf, y=y_train)\n",
    "\n",
    "results = pd.DataFrame.from_dict(data=grid_cv_clf.cv_results_).sort_values(['param_alpha'])\n",
    "display(results)\n",
    "\n",
    "train_auc = results['mean_train_score'].values\n",
    "train_auc_std = results['std_train_score'].values\n",
    "cv_auc = results['mean_test_score'].values\n",
    "cv_auc_std = results['std_test_score'].values\n",
    "alphas = results['param_alpha'].values.astype(float)\n",
    "log_alphas = np.log(alphas)\n",
    "\n",
    "plt.figure(figsize=(12, 6))\n",
    "\n",
    "plt.plot(log_alphas, train_auc, label='Train AUC')\n",
    "plt.plot(log_alphas, cv_auc, label='CV AUC')\n",
    "\n",
    "plt.scatter(x=log_alphas, y=train_auc, label='Train AUC Points')\n",
    "plt.scatter(x=log_alphas, y=cv_auc, label='CV AUC Points')\n",
    "\n",
    "plt.title(label='Hyperparameter vs AUC Plot')\n",
    "plt.xlabel(xlabel='log(alpha): Hyperparameter')\n",
    "plt.ylabel(ylabel='AUC')\n",
    "plt.legend()\n",
    "plt.show()"
   ]
  },
  {
   "cell_type": "markdown",
   "id": "f9dae4d4",
   "metadata": {},
   "source": [
    "Best aplha on Set 2"
   ]
  },
  {
   "cell_type": "code",
   "execution_count": 26,
   "id": "300b8f26",
   "metadata": {},
   "outputs": [
    {
     "name": "stdout",
     "output_type": "stream",
     "text": [
      "{'alpha': 1e-05, 'class_prior': [0.5, 0.5], 'fit_prior': False}\n",
      "1e-05\n"
     ]
    }
   ],
   "source": [
    "best_params_2 = grid_cv_clf.best_estimator_.get_params()\n",
    "print(best_params_2)\n",
    "best_alpha_2 = best_params_2['alpha']\n",
    "print(best_alpha_2)"
   ]
  },
  {
   "cell_type": "markdown",
   "id": "fe3f2c87",
   "metadata": {},
   "source": [
    "AUC plot on Set 2"
   ]
  },
  {
   "cell_type": "code",
   "execution_count": 27,
   "id": "07f4c79b",
   "metadata": {
    "scrolled": false
   },
   "outputs": [
    {
     "data": {
      "image/png": "[encoded data removed]",
      "text/plain": [
       "<Figure size 864x432 with 1 Axes>"
      ]
     },
     "metadata": {},
     "output_type": "display_data"
    }
   ],
   "source": [
    "draw_auc(best_alpha=best_alpha_2,\n",
    "         X_train_data=X_train_data_tfidf,\n",
    "         X_test_data=X_test_data_tfidf,\n",
    "         y_train=y_train,\n",
    "         y_test=y_test)"
   ]
  },
  {
   "cell_type": "markdown",
   "id": "9c494a8e",
   "metadata": {},
   "source": [
    "Best tau and confusion matrix on Set 2"
   ]
  },
  {
   "cell_type": "code",
   "execution_count": 28,
   "id": "770d7cf0",
   "metadata": {},
   "outputs": [
    {
     "name": "stdout",
     "output_type": "stream",
     "text": [
      "The maximum value of tpr*(1-fpr) is 0.446 for tau 0.845.\n",
      "\n",
      "Train Confusion Matrix\n",
      "[[ 3677  1688]\n",
      " [ 9848 18287]]\n",
      "\n",
      "Test Confusion Matrix\n",
      "[[1571 1071]\n",
      " [4907 8951]]\n"
     ]
    }
   ],
   "source": [
    "(y_train_pred_proba,\n",
    " y_test_pred_proba,\n",
    " train_taus,\n",
    " train_fpr,\n",
    " train_tpr,\n",
    " tr_auc_2,\n",
    " te_auc_2,\n",
    " nb_clf_2) = draw_auc(best_alpha=best_alpha_2,\n",
    "                      X_train_data=X_train_data_tfidf,\n",
    "                      X_test_data=X_test_data_tfidf,\n",
    "                      y_train=y_train,\n",
    "                      y_test=y_test,\n",
    "                      plot_it=False)\n",
    "\n",
    "best_tau = find_best_tau(taus=train_taus, fpr=train_fpr, tpr=train_tpr)\n",
    "print(\"\\nTrain Confusion Matrix\")\n",
    "print(confusion_matrix(y_true=y_train,\n",
    "                       y_pred=predict_using_best_tau(proba=y_train_pred_proba,\n",
    "                                                     best_tau=best_tau)))\n",
    "print(\"\\nTest Confusion Matrix\")\n",
    "print(confusion_matrix(y_true=y_test,\n",
    "                       y_pred=predict_using_best_tau(proba=y_test_pred_proba,\n",
    "                                                     best_tau=best_tau)))"
   ]
  },
  {
   "cell_type": "markdown",
   "id": "386491ea",
   "metadata": {},
   "source": [
    "---"
   ]
  },
  {
   "cell_type": "markdown",
   "id": "f06a9c98",
   "metadata": {},
   "source": [
    "Finding the top n features"
   ]
  },
  {
   "cell_type": "code",
   "execution_count": 29,
   "id": "a4ed15e0",
   "metadata": {},
   "outputs": [],
   "source": [
    "def get_categorical_features_names(train_data, column, tfidf_flag=False):\n",
    "    \"\"\"\n",
    "    This function gets the categorical feature names.\n",
    "    \"\"\"\n",
    "    if (column == 'essay'):\n",
    "        if tfidf_flag:\n",
    "            vect = TfidfVectorizer(min_df=10, ngram_range=(1, 4), max_features=5000)\n",
    "        else:\n",
    "            vect = CountVectorizer(min_df=10, ngram_range=(1, 4), max_features=5000)\n",
    "    else:\n",
    "        if tfidf_flag:\n",
    "            vect = TfidfVectorizer()\n",
    "        else:\n",
    "            vect = CountVectorizer()\n",
    "    vect.fit(raw_documents=X_train[column].values)\n",
    "    return vect.get_feature_names_out()"
   ]
  },
  {
   "cell_type": "code",
   "execution_count": 30,
   "id": "16ab352a",
   "metadata": {},
   "outputs": [],
   "source": [
    "def list_top_n_features(clf, train_data, catcols, numcols, tfidf_flag=False, top_n=20):\n",
    "    \"\"\"\n",
    "    This function lists the top n features.\n",
    "    \"\"\"\n",
    "    data_log_probs = clf.feature_log_prob_\n",
    "    data_log_probs = np.argsort(a=data_log_probs)\n",
    "    neg_probs = data_log_probs[0][::-1][:top_n]\n",
    "    pos_probs = data_log_probs[1][::-1][:top_n]\n",
    "    \n",
    "    feature_list = []\n",
    "    for catcol in tqdm(catcols):\n",
    "        features = get_categorical_features_names(train_data=train_data, column=catcol, tfidf_flag=tfidf_flag)\n",
    "        feature_list.extend(features)\n",
    "    feature_list.extend(numcols)\n",
    "    \n",
    "    top_n_neg_features = [feature_list[ind] for ind in neg_probs]\n",
    "    top_n_pos_features = [feature_list[ind] for ind in pos_probs]\n",
    "    return (top_n_neg_features, top_n_pos_features)"
   ]
  },
  {
   "cell_type": "markdown",
   "id": "7542064d",
   "metadata": {},
   "source": [
    "---"
   ]
  },
  {
   "cell_type": "markdown",
   "id": "f4ebf245",
   "metadata": {},
   "source": [
    "Top n features on Set 1"
   ]
  },
  {
   "cell_type": "code",
   "execution_count": 31,
   "id": "4a9bcac0",
   "metadata": {},
   "outputs": [
    {
     "name": "stderr",
     "output_type": "stream",
     "text": [
      "100%|█████████████████████████████████████████████████████████████████████| 6/6 [00:39<00:00,  6.53s/it]\n"
     ]
    }
   ],
   "source": [
    "top_n_neg_features, top_n_pos_features = list_top_n_features(clf=nb_clf_1,\n",
    "                                                             train_data=X_train,\n",
    "                                                             catcols=catcols,\n",
    "                                                             numcols=numcols)"
   ]
  },
  {
   "cell_type": "code",
   "execution_count": 32,
   "id": "35f64729",
   "metadata": {
    "scrolled": true
   },
   "outputs": [
    {
     "name": "stdout",
     "output_type": "stream",
     "text": [
      "['students', 'school', 'learning', 'my', 'classroom', 'not', 'learn', 'help', 'they', 'the', 'my students', 'nannan', 'many', 'we', 'need', 'work', 'year', 'come', 'able', 'love']\n",
      "['students', 'school', 'my', 'learning', 'classroom', 'the', 'not', 'they', 'learn', 'my students', 'help', 'many', 'nannan', 'reading', 'we', 'work', 'need', 'use', 'day', 'able']\n"
     ]
    }
   ],
   "source": [
    "print(top_n_neg_features)\n",
    "print(top_n_pos_features)"
   ]
  },
  {
   "cell_type": "markdown",
   "id": "51de0c3d",
   "metadata": {},
   "source": [
    "---"
   ]
  },
  {
   "cell_type": "markdown",
   "id": "7e193bfc",
   "metadata": {},
   "source": [
    "Top n features on Set 2"
   ]
  },
  {
   "cell_type": "code",
   "execution_count": 33,
   "id": "30c30555",
   "metadata": {},
   "outputs": [
    {
     "name": "stderr",
     "output_type": "stream",
     "text": [
      "100%|█████████████████████████████████████████████████████████████████████| 6/6 [00:38<00:00,  6.38s/it]\n"
     ]
    }
   ],
   "source": [
    "top_n_neg_features, top_n_pos_features = list_top_n_features(clf=nb_clf_2,\n",
    "                                                             train_data=X_train,\n",
    "                                                             catcols=catcols,\n",
    "                                                             numcols=numcols,\n",
    "                                                             tfidf_flag=True)"
   ]
  },
  {
   "cell_type": "code",
   "execution_count": 34,
   "id": "9aa4a7c9",
   "metadata": {},
   "outputs": [
    {
     "name": "stdout",
     "output_type": "stream",
     "text": [
      "['mrs', 'grades_prek_2', 'ms', 'grades_3_5', 'literacy_language', 'math_science', 'mathematics', 'literacy', 'grades_6_8', 'health_sports', 'literature_writing', 'ca', 'students', 'specialneeds', 'specialneeds', 'appliedlearning', 'grades_9_12', 'tx', 'mr', 'health_wellness']\n",
      "['mrs', 'grades_prek_2', 'literacy_language', 'ms', 'grades_3_5', 'math_science', 'literacy', 'mathematics', 'health_sports', 'literature_writing', 'grades_6_8', 'ca', 'students', 'health_wellness', 'specialneeds', 'grades_9_12', 'mr', 'appliedlearning', 'specialneeds', 'music_arts']\n"
     ]
    }
   ],
   "source": [
    "print(top_n_neg_features)\n",
    "print(top_n_pos_features)"
   ]
  },
  {
   "cell_type": "markdown",
   "id": "46f597a8",
   "metadata": {},
   "source": [
    "---"
   ]
  },
  {
   "cell_type": "markdown",
   "id": "0e26e964",
   "metadata": {},
   "source": [
    "Summary"
   ]
  },
  {
   "cell_type": "code",
   "execution_count": 35,
   "id": "8aa6c928",
   "metadata": {},
   "outputs": [],
   "source": [
    "summary_dict = {\n",
    "    'Vectorizer': ['BoW', 'TFIDF'],\n",
    "    'Model': ['MultinomialNB', 'MultinomialNB'],\n",
    "    'Hyperparameter': [best_alpha_1, best_alpha_2],\n",
    "    'Train-AUC': [tr_auc_1, tr_auc_2],\n",
    "    'Test-AUC': [te_auc_1, te_auc_2]\n",
    "}"
   ]
  },
  {
   "cell_type": "code",
   "execution_count": 36,
   "id": "27f528df",
   "metadata": {},
   "outputs": [
    {
     "name": "stdout",
     "output_type": "stream",
     "text": [
      "+---+------------+---------------+----------------+-----------+----------+\n",
      "|   | Vectorizer |     Model     | Hyperparameter | Train-AUC | Test-AUC |\n",
      "+---+------------+---------------+----------------+-----------+----------+\n",
      "| 0 |    BoW     | MultinomialNB |      0.01      |   0.735   |  0.684   |\n",
      "| 1 |   TFIDF    | MultinomialNB |     1e-05      |   0.725   |  0.668   |\n",
      "+---+------------+---------------+----------------+-----------+----------+\n"
     ]
    }
   ],
   "source": [
    "summary_df = pd.DataFrame(data=summary_dict)\n",
    "summary_table = tabulate(tabular_data=summary_df, headers='keys', tablefmt='pretty')\n",
    "print(summary_table)"
   ]
  },
  {
   "cell_type": "markdown",
   "id": "6af2fe52",
   "metadata": {},
   "source": [
    "End of the file."
   ]
  }
 ],
 "metadata": {
  "kernelspec": {
   "display_name": "Python 3 (ipykernel)",
   "language": "python",
   "name": "python3"
  },
  "language_info": {
   "codemirror_mode": {
    "name": "ipython",
    "version": 3
   },
   "file_extension": ".py",
   "mimetype": "text/x-python",
   "name": "python",
   "nbconvert_exporter": "python",
   "pygments_lexer": "ipython3",
   "version": "3.10.4"
  }
 },
 "nbformat": 4,
 "nbformat_minor": 5
}
