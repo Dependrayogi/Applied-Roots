{
 "cells": [
  {
   "cell_type": "code",
   "execution_count": 1,
   "id": "f8a73da8",
   "metadata": {},
   "outputs": [],
   "source": [
    "from matplotlib import pyplot as plt\n",
    "from matplotlib import style\n",
    "from tabulate import tabulate\n",
    "from tqdm import tqdm\n",
    "import numpy as np\n",
    "import pandas as pd"
   ]
  },
  {
   "cell_type": "code",
   "execution_count": 2,
   "id": "d79c8028",
   "metadata": {},
   "outputs": [],
   "source": [
    "from scipy.sparse import hstack\n",
    "from sklearn.feature_extraction.text import CountVectorizer\n",
    "from sklearn.feature_extraction.text import TfidfVectorizer\n",
    "from sklearn.metrics import auc, confusion_matrix, roc_auc_score, roc_curve\n",
    "from sklearn.model_selection import train_test_split\n",
    "from sklearn.model_selection import GridSearchCV\n",
    "from sklearn.naive_bayes import MultinomialNB\n",
    "from sklearn.preprocessing import Normalizer"
   ]
  },
  {
   "cell_type": "code",
   "execution_count": 3,
   "id": "a8f30414",
   "metadata": {},
   "outputs": [],
   "source": [
    "style.use(style='seaborn-whitegrid')"
   ]
  },
  {
   "cell_type": "markdown",
   "id": "b782dbbc",
   "metadata": {},
   "source": [
    "---"
   ]
  },
  {
   "cell_type": "markdown",
   "id": "7bf2978a",
   "metadata": {},
   "source": [
    "Load the data"
   ]
  },
  {
   "cell_type": "code",
   "execution_count": 4,
   "id": "080d6f7e",
   "metadata": {},
   "outputs": [],
   "source": [
    "nrows = 50000\n",
    "data = pd.read_csv(filepath_or_buffer='preprocessed_data.csv', nrows=nrows)"
   ]
  },
  {
   "cell_type": "code",
   "execution_count": 5,
   "id": "6a6f67d1",
   "metadata": {},
   "outputs": [
    {
     "data": {
      "text/plain": [
       "Index(['school_state', 'teacher_prefix', 'project_grade_category',\n",
       "       'teacher_number_of_previously_posted_projects', 'project_is_approved',\n",
       "       'clean_categories', 'clean_subcategories', 'essay', 'price'],\n",
       "      dtype='object')"
      ]
     },
     "metadata": {},
     "output_type": "display_data"
    }
   ],
   "source": [
    "display(data.columns)"
   ]
  },
  {
   "cell_type": "code",
   "execution_count": 6,
   "id": "d0c65b3f",
   "metadata": {},
   "outputs": [],
   "source": [
    "y = data['project_is_approved'].values\n",
    "X = data.drop(labels=['project_is_approved'], axis=1)"
   ]
  },
  {
   "cell_type": "code",
   "execution_count": 7,
   "id": "f4e05a2f",
   "metadata": {},
   "outputs": [
    {
     "name": "stdout",
     "output_type": "stream",
     "text": [
      "The shape of X: (50000, 8)\n",
      "The shape of y: (50000,)\n"
     ]
    }
   ],
   "source": [
    "print(\"The shape of X: {}\".format(X.shape))\n",
    "print(\"The shape of y: {}\".format(y.shape))"
   ]
  },
  {
   "cell_type": "markdown",
   "id": "6485c443",
   "metadata": {},
   "source": [
    "Reference on numerical and categorical columns: https://stackoverflow.com/a/62273776/7579443"
   ]
  },
  {
   "cell_type": "code",
   "execution_count": 8,
   "id": "3dd6f373",
   "metadata": {},
   "outputs": [
    {
     "name": "stdout",
     "output_type": "stream",
     "text": [
      "['price', 'teacher_number_of_previously_posted_projects']\n",
      "['project_grade_category', 'teacher_prefix', 'clean_categories', 'essay', 'school_state', 'clean_subcategories']\n"
     ]
    }
   ],
   "source": [
    "numcols = X.select_dtypes('number').columns\n",
    "catcols = X.select_dtypes('object').columns\n",
    "numcols= list(set(numcols))\n",
    "catcols= list(set(catcols))\n",
    "print(numcols)\n",
    "print(catcols)"
   ]
  },
  {
   "cell_type": "code",
   "execution_count": 9,
   "id": "2053c82e",
   "metadata": {},
   "outputs": [],
   "source": [
    "X_train, X_test, y_train, y_test = train_test_split(X, y, test_size=0.33, stratify=y)"
   ]
  },
  {
   "cell_type": "code",
   "execution_count": 10,
   "id": "012b06aa",
   "metadata": {},
   "outputs": [
    {
     "name": "stdout",
     "output_type": "stream",
     "text": [
      "(33500, 8) (33500,)\n",
      "(16500, 8) (16500,)\n"
     ]
    }
   ],
   "source": [
    "print(X_train.shape, y_train.shape)\n",
    "print(X_test.shape, y_test.shape)"
   ]
  },
  {
   "cell_type": "markdown",
   "id": "14a2dd1a",
   "metadata": {},
   "source": [
    "---"
   ]
  },
  {
   "cell_type": "markdown",
   "id": "34409a3b",
   "metadata": {},
   "source": [
    "Encode categorical column"
   ]
  },
  {
   "cell_type": "code",
   "execution_count": 11,
   "id": "7380d720",
   "metadata": {},
   "outputs": [],
   "source": [
    "def encode_categorical_column(train_data, test_data, column, tfidf_flag=False):\n",
    "    \"\"\"\n",
    "    This function encodes the categorical column.\n",
    "    \"\"\"\n",
    "    if column == 'essay':\n",
    "        if tfidf_flag:\n",
    "            encoded_vect = TfidfVectorizer(min_df=10, ngram_range=(1, 4), max_features=5000)\n",
    "        else:\n",
    "            encoded_vect = CountVectorizer(min_df=10, ngram_range=(1, 4), max_features=5000)\n",
    "    else:\n",
    "        if tfidf_flag:\n",
    "            encoded_vect = TfidfVectorizer()\n",
    "        else:\n",
    "            encoded_vect = CountVectorizer()\n",
    "    encoded_vect.fit(raw_documents=train_data[column].values)\n",
    "    train_vect = encoded_vect.transform(raw_documents=train_data[column].values)\n",
    "    test_vect = encoded_vect.transform(raw_documents=test_data[column].values)\n",
    "    return (train_vect, test_vect)"
   ]
  },
  {
   "cell_type": "markdown",
   "id": "9a0af8e4",
   "metadata": {},
   "source": [
    "---"
   ]
  },
  {
   "cell_type": "markdown",
   "id": "c2e43640",
   "metadata": {},
   "source": [
    "Normalize numerical column"
   ]
  },
  {
   "cell_type": "code",
   "execution_count": 12,
   "id": "96a285e7",
   "metadata": {},
   "outputs": [],
   "source": [
    "def normalize_numerical_column(train_data, test_data, column):\n",
    "    \"\"\"\n",
    "    This function normalizes the numerical column.\n",
    "    \"\"\"\n",
    "    norm = Normalizer()\n",
    "    try:\n",
    "        norm.fit(X=train_data[column].values.reshape(1, 1))\n",
    "    except:\n",
    "        pass\n",
    "    train_norm = norm.transform(X=train_data[column].values.reshape(1, -1)).reshape(-1, 1)\n",
    "    test_norm = norm.transform(X=test_data[column].values.reshape(1, -1)).reshape(-1, 1)\n",
    "    return (train_norm, test_norm)"
   ]
  },
  {
   "cell_type": "markdown",
   "id": "20d573f4",
   "metadata": {},
   "source": [
    "---"
   ]
  },
  {
   "cell_type": "markdown",
   "id": "1e879d2f",
   "metadata": {},
   "source": [
    "Combine all columns"
   ]
  },
  {
   "cell_type": "code",
   "execution_count": 13,
   "id": "071fee77",
   "metadata": {},
   "outputs": [],
   "source": [
    "def combine_all_columns(train_data, test_data, catcols, numcols, tfidf_flag):\n",
    "    \"\"\"\n",
    "    This function combines all categorical and numerical features.\n",
    "    \"\"\"\n",
    "    train_all_columns = list()\n",
    "    test_all_columns = list()\n",
    "    print(\"Combining categorical features.\")\n",
    "    for catcol in tqdm(catcols):\n",
    "        train_column_bow, test_colum_bow = encode_categorical_column(train_data=train_data,\n",
    "                                                                     test_data=test_data,\n",
    "                                                                     column=catcol,\n",
    "                                                                     tfidf_flag=tfidf_flag)\n",
    "        train_all_columns.append(train_column_bow)\n",
    "        test_all_columns.append(test_colum_bow)\n",
    "    print(\"Combining numerical features.\")\n",
    "    for numcol in tqdm(numcols):\n",
    "        train_column_norm, test_column_norm = normalize_numerical_column(train_data=train_data,\n",
    "                                                                         test_data=test_data,\n",
    "                                                                         column=numcol)\n",
    "        train_all_columns.append(train_column_norm)\n",
    "        test_all_columns.append(test_column_norm)\n",
    "    print(\"Preparing model-ready data.\")\n",
    "    train_combined_data = hstack(blocks=train_all_columns).tocsr()\n",
    "    test_combined_data = hstack(blocks=test_all_columns).tocsr()\n",
    "    print(\"Done!\")\n",
    "    return train_combined_data, test_combined_data"
   ]
  },
  {
   "cell_type": "markdown",
   "id": "b51a7bea",
   "metadata": {},
   "source": [
    "---"
   ]
  },
  {
   "cell_type": "markdown",
   "id": "3f250faf",
   "metadata": {},
   "source": [
    "Batch-wise prediction"
   ]
  },
  {
   "cell_type": "code",
   "execution_count": 14,
   "id": "837b92bd",
   "metadata": {},
   "outputs": [],
   "source": [
    "def batch_predict_proba(clf, data, batch_size=1000):\n",
    "    \"\"\"\n",
    "    This function takes the input in batches and predicts the probability scores for positive class.\n",
    "    \"\"\"\n",
    "    y_pred_proba = list()\n",
    "    tr_loop = (data.shape[0] - (data.shape[0] % batch_size))\n",
    "    for i in range(0, tr_loop, batch_size):\n",
    "        y_pred_proba.extend(clf.predict_proba(X=data[i:i+batch_size])[:, 1])\n",
    "    if data.shape[0] % batch_size != 0:\n",
    "        y_pred_proba.extend(clf.predict_proba(X=data[tr_loop:])[:, 1])\n",
    "    return y_pred_proba"
   ]
  },
  {
   "cell_type": "markdown",
   "id": "d3b76f8d",
   "metadata": {},
   "source": [
    "---"
   ]
  },
  {
   "cell_type": "markdown",
   "id": "45738737",
   "metadata": {},
   "source": [
    "Draw the AUC plot"
   ]
  },
  {
   "cell_type": "code",
   "execution_count": 15,
   "id": "f26b4e5e",
   "metadata": {},
   "outputs": [],
   "source": [
    "def draw_auc(best_alpha, X_train_data, X_test_data, y_train, y_test, plot_it=True):\n",
    "    \"\"\"\n",
    "    Draws AUC plot.\n",
    "    \"\"\"\n",
    "    clf = MultinomialNB(alpha=best_alpha)\n",
    "    clf.fit(X=X_train_data, y=y_train)\n",
    "    \n",
    "    y_train_pred_proba = batch_predict_proba(clf=clf, data=X_train_data)\n",
    "    y_test_pred_proba = batch_predict_proba(clf=clf, data=X_test_data)\n",
    "    \n",
    "    train_fpr, train_tpr, train_taus = roc_curve(y_true=y_train, y_score=y_train_pred_proba)\n",
    "    test_fpr, test_tpr, test_taus = roc_curve(y_true=y_test, y_score=y_test_pred_proba)\n",
    "    \n",
    "    tr_auc = round(auc(x=train_fpr, y=train_tpr), 3)\n",
    "    te_auc = round(auc(x=test_fpr, y=test_tpr), 3)\n",
    "    \n",
    "    if plot_it:\n",
    "        plt.figure(figsize=(12, 6))\n",
    "\n",
    "        plt.plot(train_fpr, train_tpr, label='Train AUC = {}'.format(tr_auc))\n",
    "        plt.plot(test_fpr, test_tpr, label='Test AUC = {}'.format(te_auc))\n",
    "\n",
    "        plt.title(label='AUC')\n",
    "        plt.xlabel(xlabel='FPR')\n",
    "        plt.ylabel(ylabel='TPR')\n",
    "        plt.legend()\n",
    "        plt.show()\n",
    "    else:\n",
    "        return (y_train_pred_proba, y_test_pred_proba, train_taus, train_fpr, train_tpr, tr_auc, te_auc, clf)"
   ]
  },
  {
   "cell_type": "markdown",
   "id": "fc8e91dc",
   "metadata": {},
   "source": [
    "---"
   ]
  },
  {
   "cell_type": "markdown",
   "id": "b5e8d0c5",
   "metadata": {},
   "source": [
    "Best tau and confusion matrix"
   ]
  },
  {
   "cell_type": "code",
   "execution_count": 16,
   "id": "ca306bdf",
   "metadata": {},
   "outputs": [],
   "source": [
    "def find_best_tau(taus, fpr, tpr):\n",
    "    \"\"\"\n",
    "    The (tpr*(1-fpr)) will be maximum if fpr is very low and tpr is very high.\n",
    "    \"\"\"\n",
    "    tau = round(taus[np.argmax(a=tpr*(1-fpr))], 3)\n",
    "    tpr_1_fpr = round(max(tpr*(1-fpr)), 3)\n",
    "    print(\"The maximum value of tpr*(1-fpr) is {} for tau {}.\".format(tpr_1_fpr, tau))\n",
    "    return tau\n",
    "\n",
    "def predict_using_best_tau(proba, best_tau):\n",
    "    \"\"\"\n",
    "    This function predicts using best tau.\n",
    "    \"\"\"\n",
    "    predictions = list()\n",
    "    for i in proba:\n",
    "        if i >= best_tau:\n",
    "            predictions.append(1)\n",
    "        else:\n",
    "            predictions.append(0)\n",
    "    return predictions"
   ]
  },
  {
   "cell_type": "markdown",
   "id": "c244535d",
   "metadata": {},
   "source": [
    "---"
   ]
  },
  {
   "cell_type": "markdown",
   "id": "b8fa8ba2",
   "metadata": {},
   "source": [
    "Set 1"
   ]
  },
  {
   "cell_type": "code",
   "execution_count": 17,
   "id": "23fe0035",
   "metadata": {
    "scrolled": true
   },
   "outputs": [
    {
     "name": "stdout",
     "output_type": "stream",
     "text": [
      "Combining categorical features.\n"
     ]
    },
    {
     "name": "stderr",
     "output_type": "stream",
     "text": [
      "100%|█████████████████████████████████████████████████████████████████████| 6/6 [00:55<00:00,  9.30s/it]\n"
     ]
    },
    {
     "name": "stdout",
     "output_type": "stream",
     "text": [
      "Combining numerical features.\n"
     ]
    },
    {
     "name": "stderr",
     "output_type": "stream",
     "text": [
      "100%|███████████████████████████████████████████████████████████████████| 2/2 [00:00<00:00, 1724.99it/s]\n"
     ]
    },
    {
     "name": "stdout",
     "output_type": "stream",
     "text": [
      "Preparing model-ready data.\n",
      "Done!\n"
     ]
    }
   ],
   "source": [
    "X_train_data_bow, X_test_data_bow = combine_all_columns(train_data=X_train,\n",
    "                                                        test_data=X_test,\n",
    "                                                        catcols=catcols,\n",
    "                                                        numcols=numcols,\n",
    "                                                        tfidf_flag=False)"
   ]
  },
  {
   "cell_type": "code",
   "execution_count": 18,
   "id": "fcc289a7",
   "metadata": {},
   "outputs": [
    {
     "name": "stdout",
     "output_type": "stream",
     "text": [
      "(33500, 5101) (33500,)\n",
      "(16500, 5101) (16500,)\n"
     ]
    }
   ],
   "source": [
    "print(X_train_data_bow.shape, y_train.shape)\n",
    "print(X_test_data_bow.shape, y_test.shape)"
   ]
  },
  {
   "cell_type": "markdown",
   "id": "3a35b53a",
   "metadata": {},
   "source": [
    "`MultinomialNB` and `GridSearchCV` on Set 1"
   ]
  },
  {
   "cell_type": "code",
   "execution_count": 19,
   "id": "bafc56c5",
   "metadata": {
    "scrolled": false
   },
   "outputs": [
    {
     "data": {
      "text/html": [
       "<div>\n",
       "<style scoped>\n",
       "    .dataframe tbody tr th:only-of-type {\n",
       "        vertical-align: middle;\n",
       "    }\n",
       "\n",
       "    .dataframe tbody tr th {\n",
       "        vertical-align: top;\n",
       "    }\n",
       "\n",
       "    .dataframe thead th {\n",
       "        text-align: right;\n",
       "    }\n",
       "</style>\n",
       "<table border=\"1\" class=\"dataframe\">\n",
       "  <thead>\n",
       "    <tr style=\"text-align: right;\">\n",
       "      <th></th>\n",
       "      <th>mean_fit_time</th>\n",
       "      <th>std_fit_time</th>\n",
       "      <th>mean_score_time</th>\n",
       "      <th>std_score_time</th>\n",
       "      <th>param_alpha</th>\n",
       "      <th>params</th>\n",
       "      <th>split0_test_score</th>\n",
       "      <th>split1_test_score</th>\n",
       "      <th>split2_test_score</th>\n",
       "      <th>mean_test_score</th>\n",
       "      <th>std_test_score</th>\n",
       "      <th>rank_test_score</th>\n",
       "      <th>split0_train_score</th>\n",
       "      <th>split1_train_score</th>\n",
       "      <th>split2_train_score</th>\n",
       "      <th>mean_train_score</th>\n",
       "      <th>std_train_score</th>\n",
       "    </tr>\n",
       "  </thead>\n",
       "  <tbody>\n",
       "    <tr>\n",
       "      <th>0</th>\n",
       "      <td>0.018149</td>\n",
       "      <td>0.002066</td>\n",
       "      <td>0.007820</td>\n",
       "      <td>0.000358</td>\n",
       "      <td>0.00001</td>\n",
       "      <td>{'alpha': 1e-05}</td>\n",
       "      <td>0.689688</td>\n",
       "      <td>0.679008</td>\n",
       "      <td>0.687380</td>\n",
       "      <td>0.685359</td>\n",
       "      <td>0.004588</td>\n",
       "      <td>8</td>\n",
       "      <td>0.750035</td>\n",
       "      <td>0.759915</td>\n",
       "      <td>0.752450</td>\n",
       "      <td>0.754133</td>\n",
       "      <td>0.004205</td>\n",
       "    </tr>\n",
       "    <tr>\n",
       "      <th>2</th>\n",
       "      <td>0.016372</td>\n",
       "      <td>0.000079</td>\n",
       "      <td>0.007494</td>\n",
       "      <td>0.000020</td>\n",
       "      <td>0.0001</td>\n",
       "      <td>{'alpha': 0.0001}</td>\n",
       "      <td>0.689759</td>\n",
       "      <td>0.679008</td>\n",
       "      <td>0.687610</td>\n",
       "      <td>0.685459</td>\n",
       "      <td>0.004645</td>\n",
       "      <td>7</td>\n",
       "      <td>0.750031</td>\n",
       "      <td>0.759914</td>\n",
       "      <td>0.752450</td>\n",
       "      <td>0.754132</td>\n",
       "      <td>0.004207</td>\n",
       "    </tr>\n",
       "    <tr>\n",
       "      <th>1</th>\n",
       "      <td>0.016856</td>\n",
       "      <td>0.000809</td>\n",
       "      <td>0.007668</td>\n",
       "      <td>0.000264</td>\n",
       "      <td>0.0005</td>\n",
       "      <td>{'alpha': 0.0005}</td>\n",
       "      <td>0.689813</td>\n",
       "      <td>0.679008</td>\n",
       "      <td>0.687777</td>\n",
       "      <td>0.685533</td>\n",
       "      <td>0.004688</td>\n",
       "      <td>5</td>\n",
       "      <td>0.750026</td>\n",
       "      <td>0.759914</td>\n",
       "      <td>0.752450</td>\n",
       "      <td>0.754130</td>\n",
       "      <td>0.004208</td>\n",
       "    </tr>\n",
       "    <tr>\n",
       "      <th>4</th>\n",
       "      <td>0.016358</td>\n",
       "      <td>0.000064</td>\n",
       "      <td>0.007536</td>\n",
       "      <td>0.000029</td>\n",
       "      <td>0.001</td>\n",
       "      <td>{'alpha': 0.001}</td>\n",
       "      <td>0.689832</td>\n",
       "      <td>0.679008</td>\n",
       "      <td>0.687815</td>\n",
       "      <td>0.685552</td>\n",
       "      <td>0.004700</td>\n",
       "      <td>4</td>\n",
       "      <td>0.750024</td>\n",
       "      <td>0.759913</td>\n",
       "      <td>0.752448</td>\n",
       "      <td>0.754128</td>\n",
       "      <td>0.004208</td>\n",
       "    </tr>\n",
       "    <tr>\n",
       "      <th>3</th>\n",
       "      <td>0.016436</td>\n",
       "      <td>0.000271</td>\n",
       "      <td>0.007518</td>\n",
       "      <td>0.000020</td>\n",
       "      <td>0.005</td>\n",
       "      <td>{'alpha': 0.005}</td>\n",
       "      <td>0.689875</td>\n",
       "      <td>0.679002</td>\n",
       "      <td>0.687840</td>\n",
       "      <td>0.685573</td>\n",
       "      <td>0.004720</td>\n",
       "      <td>2</td>\n",
       "      <td>0.750013</td>\n",
       "      <td>0.759907</td>\n",
       "      <td>0.752442</td>\n",
       "      <td>0.754121</td>\n",
       "      <td>0.004210</td>\n",
       "    </tr>\n",
       "    <tr>\n",
       "      <th>6</th>\n",
       "      <td>0.016352</td>\n",
       "      <td>0.000160</td>\n",
       "      <td>0.007554</td>\n",
       "      <td>0.000045</td>\n",
       "      <td>0.01</td>\n",
       "      <td>{'alpha': 0.01}</td>\n",
       "      <td>0.689891</td>\n",
       "      <td>0.678999</td>\n",
       "      <td>0.687836</td>\n",
       "      <td>0.685575</td>\n",
       "      <td>0.004725</td>\n",
       "      <td>1</td>\n",
       "      <td>0.750002</td>\n",
       "      <td>0.759899</td>\n",
       "      <td>0.752433</td>\n",
       "      <td>0.754111</td>\n",
       "      <td>0.004211</td>\n",
       "    </tr>\n",
       "    <tr>\n",
       "      <th>5</th>\n",
       "      <td>0.016296</td>\n",
       "      <td>0.000078</td>\n",
       "      <td>0.007594</td>\n",
       "      <td>0.000117</td>\n",
       "      <td>0.05</td>\n",
       "      <td>{'alpha': 0.05}</td>\n",
       "      <td>0.689905</td>\n",
       "      <td>0.678971</td>\n",
       "      <td>0.687809</td>\n",
       "      <td>0.685562</td>\n",
       "      <td>0.004738</td>\n",
       "      <td>3</td>\n",
       "      <td>0.749941</td>\n",
       "      <td>0.759835</td>\n",
       "      <td>0.752369</td>\n",
       "      <td>0.754048</td>\n",
       "      <td>0.004210</td>\n",
       "    </tr>\n",
       "    <tr>\n",
       "      <th>7</th>\n",
       "      <td>0.016478</td>\n",
       "      <td>0.000110</td>\n",
       "      <td>0.007500</td>\n",
       "      <td>0.000015</td>\n",
       "      <td>0.1</td>\n",
       "      <td>{'alpha': 0.1}</td>\n",
       "      <td>0.689892</td>\n",
       "      <td>0.678930</td>\n",
       "      <td>0.687760</td>\n",
       "      <td>0.685527</td>\n",
       "      <td>0.004746</td>\n",
       "      <td>6</td>\n",
       "      <td>0.749872</td>\n",
       "      <td>0.759759</td>\n",
       "      <td>0.752296</td>\n",
       "      <td>0.753975</td>\n",
       "      <td>0.004208</td>\n",
       "    </tr>\n",
       "    <tr>\n",
       "      <th>8</th>\n",
       "      <td>0.016785</td>\n",
       "      <td>0.000654</td>\n",
       "      <td>0.007699</td>\n",
       "      <td>0.000124</td>\n",
       "      <td>0.5</td>\n",
       "      <td>{'alpha': 0.5}</td>\n",
       "      <td>0.689671</td>\n",
       "      <td>0.678620</td>\n",
       "      <td>0.687424</td>\n",
       "      <td>0.685238</td>\n",
       "      <td>0.004769</td>\n",
       "      <td>9</td>\n",
       "      <td>0.749339</td>\n",
       "      <td>0.759139</td>\n",
       "      <td>0.751741</td>\n",
       "      <td>0.753406</td>\n",
       "      <td>0.004171</td>\n",
       "    </tr>\n",
       "    <tr>\n",
       "      <th>9</th>\n",
       "      <td>0.016329</td>\n",
       "      <td>0.000067</td>\n",
       "      <td>0.007619</td>\n",
       "      <td>0.000023</td>\n",
       "      <td>1</td>\n",
       "      <td>{'alpha': 1}</td>\n",
       "      <td>0.689343</td>\n",
       "      <td>0.678228</td>\n",
       "      <td>0.686982</td>\n",
       "      <td>0.684851</td>\n",
       "      <td>0.004781</td>\n",
       "      <td>10</td>\n",
       "      <td>0.748654</td>\n",
       "      <td>0.758375</td>\n",
       "      <td>0.751081</td>\n",
       "      <td>0.752703</td>\n",
       "      <td>0.004131</td>\n",
       "    </tr>\n",
       "    <tr>\n",
       "      <th>10</th>\n",
       "      <td>0.016812</td>\n",
       "      <td>0.000710</td>\n",
       "      <td>0.007743</td>\n",
       "      <td>0.000342</td>\n",
       "      <td>5</td>\n",
       "      <td>{'alpha': 5}</td>\n",
       "      <td>0.686531</td>\n",
       "      <td>0.675272</td>\n",
       "      <td>0.683401</td>\n",
       "      <td>0.681735</td>\n",
       "      <td>0.004745</td>\n",
       "      <td>11</td>\n",
       "      <td>0.743244</td>\n",
       "      <td>0.752426</td>\n",
       "      <td>0.745811</td>\n",
       "      <td>0.747161</td>\n",
       "      <td>0.003868</td>\n",
       "    </tr>\n",
       "    <tr>\n",
       "      <th>11</th>\n",
       "      <td>0.016480</td>\n",
       "      <td>0.000107</td>\n",
       "      <td>0.007505</td>\n",
       "      <td>0.000014</td>\n",
       "      <td>10</td>\n",
       "      <td>{'alpha': 10}</td>\n",
       "      <td>0.682692</td>\n",
       "      <td>0.671599</td>\n",
       "      <td>0.678634</td>\n",
       "      <td>0.677642</td>\n",
       "      <td>0.004583</td>\n",
       "      <td>12</td>\n",
       "      <td>0.736354</td>\n",
       "      <td>0.745254</td>\n",
       "      <td>0.739290</td>\n",
       "      <td>0.740299</td>\n",
       "      <td>0.003703</td>\n",
       "    </tr>\n",
       "    <tr>\n",
       "      <th>12</th>\n",
       "      <td>0.016345</td>\n",
       "      <td>0.000107</td>\n",
       "      <td>0.007503</td>\n",
       "      <td>0.000039</td>\n",
       "      <td>50</td>\n",
       "      <td>{'alpha': 50}</td>\n",
       "      <td>0.653699</td>\n",
       "      <td>0.645448</td>\n",
       "      <td>0.641396</td>\n",
       "      <td>0.646848</td>\n",
       "      <td>0.005119</td>\n",
       "      <td>13</td>\n",
       "      <td>0.685843</td>\n",
       "      <td>0.694229</td>\n",
       "      <td>0.691589</td>\n",
       "      <td>0.690554</td>\n",
       "      <td>0.003501</td>\n",
       "    </tr>\n",
       "    <tr>\n",
       "      <th>13</th>\n",
       "      <td>0.016796</td>\n",
       "      <td>0.000227</td>\n",
       "      <td>0.007840</td>\n",
       "      <td>0.000568</td>\n",
       "      <td>100</td>\n",
       "      <td>{'alpha': 100}</td>\n",
       "      <td>0.627086</td>\n",
       "      <td>0.616298</td>\n",
       "      <td>0.608692</td>\n",
       "      <td>0.617359</td>\n",
       "      <td>0.007547</td>\n",
       "      <td>14</td>\n",
       "      <td>0.640141</td>\n",
       "      <td>0.648603</td>\n",
       "      <td>0.647938</td>\n",
       "      <td>0.645561</td>\n",
       "      <td>0.003842</td>\n",
       "    </tr>\n",
       "  </tbody>\n",
       "</table>\n",
       "</div>"
      ],
      "text/plain": [
       "    mean_fit_time  std_fit_time  mean_score_time  std_score_time param_alpha  \\\n",
       "0        0.018149      0.002066         0.007820        0.000358     0.00001   \n",
       "2        0.016372      0.000079         0.007494        0.000020      0.0001   \n",
       "1        0.016856      0.000809         0.007668        0.000264      0.0005   \n",
       "4        0.016358      0.000064         0.007536        0.000029       0.001   \n",
       "3        0.016436      0.000271         0.007518        0.000020       0.005   \n",
       "6        0.016352      0.000160         0.007554        0.000045        0.01   \n",
       "5        0.016296      0.000078         0.007594        0.000117        0.05   \n",
       "7        0.016478      0.000110         0.007500        0.000015         0.1   \n",
       "8        0.016785      0.000654         0.007699        0.000124         0.5   \n",
       "9        0.016329      0.000067         0.007619        0.000023           1   \n",
       "10       0.016812      0.000710         0.007743        0.000342           5   \n",
       "11       0.016480      0.000107         0.007505        0.000014          10   \n",
       "12       0.016345      0.000107         0.007503        0.000039          50   \n",
       "13       0.016796      0.000227         0.007840        0.000568         100   \n",
       "\n",
       "               params  split0_test_score  split1_test_score  \\\n",
       "0    {'alpha': 1e-05}           0.689688           0.679008   \n",
       "2   {'alpha': 0.0001}           0.689759           0.679008   \n",
       "1   {'alpha': 0.0005}           0.689813           0.679008   \n",
       "4    {'alpha': 0.001}           0.689832           0.679008   \n",
       "3    {'alpha': 0.005}           0.689875           0.679002   \n",
       "6     {'alpha': 0.01}           0.689891           0.678999   \n",
       "5     {'alpha': 0.05}           0.689905           0.678971   \n",
       "7      {'alpha': 0.1}           0.689892           0.678930   \n",
       "8      {'alpha': 0.5}           0.689671           0.678620   \n",
       "9        {'alpha': 1}           0.689343           0.678228   \n",
       "10       {'alpha': 5}           0.686531           0.675272   \n",
       "11      {'alpha': 10}           0.682692           0.671599   \n",
       "12      {'alpha': 50}           0.653699           0.645448   \n",
       "13     {'alpha': 100}           0.627086           0.616298   \n",
       "\n",
       "    split2_test_score  mean_test_score  std_test_score  rank_test_score  \\\n",
       "0            0.687380         0.685359        0.004588                8   \n",
       "2            0.687610         0.685459        0.004645                7   \n",
       "1            0.687777         0.685533        0.004688                5   \n",
       "4            0.687815         0.685552        0.004700                4   \n",
       "3            0.687840         0.685573        0.004720                2   \n",
       "6            0.687836         0.685575        0.004725                1   \n",
       "5            0.687809         0.685562        0.004738                3   \n",
       "7            0.687760         0.685527        0.004746                6   \n",
       "8            0.687424         0.685238        0.004769                9   \n",
       "9            0.686982         0.684851        0.004781               10   \n",
       "10           0.683401         0.681735        0.004745               11   \n",
       "11           0.678634         0.677642        0.004583               12   \n",
       "12           0.641396         0.646848        0.005119               13   \n",
       "13           0.608692         0.617359        0.007547               14   \n",
       "\n",
       "    split0_train_score  split1_train_score  split2_train_score  \\\n",
       "0             0.750035            0.759915            0.752450   \n",
       "2             0.750031            0.759914            0.752450   \n",
       "1             0.750026            0.759914            0.752450   \n",
       "4             0.750024            0.759913            0.752448   \n",
       "3             0.750013            0.759907            0.752442   \n",
       "6             0.750002            0.759899            0.752433   \n",
       "5             0.749941            0.759835            0.752369   \n",
       "7             0.749872            0.759759            0.752296   \n",
       "8             0.749339            0.759139            0.751741   \n",
       "9             0.748654            0.758375            0.751081   \n",
       "10            0.743244            0.752426            0.745811   \n",
       "11            0.736354            0.745254            0.739290   \n",
       "12            0.685843            0.694229            0.691589   \n",
       "13            0.640141            0.648603            0.647938   \n",
       "\n",
       "    mean_train_score  std_train_score  \n",
       "0           0.754133         0.004205  \n",
       "2           0.754132         0.004207  \n",
       "1           0.754130         0.004208  \n",
       "4           0.754128         0.004208  \n",
       "3           0.754121         0.004210  \n",
       "6           0.754111         0.004211  \n",
       "5           0.754048         0.004210  \n",
       "7           0.753975         0.004208  \n",
       "8           0.753406         0.004171  \n",
       "9           0.752703         0.004131  \n",
       "10          0.747161         0.003868  \n",
       "11          0.740299         0.003703  \n",
       "12          0.690554         0.003501  \n",
       "13          0.645561         0.003842  "
      ]
     },
     "metadata": {},
     "output_type": "display_data"
    },
    {
     "data": {
      "image/png": "[encoded data removed]",
      "text/plain": [
       "<Figure size 864x432 with 1 Axes>"
      ]
     },
     "metadata": {},
     "output_type": "display_data"
    }
   ],
   "source": [
    "parameters = {'alpha': [0.00001, 0.0005, 0.0001, 0.005, 0.001, 0.05, 0.01, 0.1, 0.5, 1, 5, 10, 50, 100]}\n",
    "\n",
    "nb_mul_clf = MultinomialNB(class_prior=[0.5, 0.5])\n",
    "\n",
    "grid_cv_clf = GridSearchCV(estimator=nb_mul_clf, param_grid=parameters, cv=3, scoring='roc_auc', return_train_score=True)\n",
    "grid_cv_clf.fit(X=X_train_data_bow, y=y_train)\n",
    "\n",
    "results = pd.DataFrame.from_dict(data=grid_cv_clf.cv_results_).sort_values(['param_alpha'])\n",
    "display(results)\n",
    "\n",
    "train_auc = results['mean_train_score'].values\n",
    "train_auc_std = results['std_train_score'].values\n",
    "cv_auc = results['mean_test_score'].values\n",
    "cv_auc_std = results['std_test_score'].values\n",
    "alphas = results['param_alpha'].values.astype(float)\n",
    "log_alphas = np.log(alphas)\n",
    "\n",
    "plt.figure(figsize=(12, 6))\n",
    "\n",
    "plt.plot(log_alphas, train_auc, label='Train AUC')\n",
    "plt.plot(log_alphas, cv_auc, label='CV AUC')\n",
    "\n",
    "plt.scatter(x=log_alphas, y=train_auc, label='Train AUC Points')\n",
    "plt.scatter(x=log_alphas, y=cv_auc, label='CV AUC Points')\n",
    "\n",
    "plt.title(label='Hyperparameter vs AUC Plot')\n",
    "plt.xlabel(xlabel='log(alpha): Hyperparameter')\n",
    "plt.ylabel(ylabel='AUC')\n",
    "plt.legend()\n",
    "plt.show()"
   ]
  },
  {
   "cell_type": "markdown",
   "id": "6e5dccef",
   "metadata": {},
   "source": [
    "Best aplha on Set 1"
   ]
  },
  {
   "cell_type": "code",
   "execution_count": 20,
   "id": "7e1d803e",
   "metadata": {},
   "outputs": [
    {
     "name": "stdout",
     "output_type": "stream",
     "text": [
      "{'alpha': 0.01, 'class_prior': [0.5, 0.5], 'fit_prior': True}\n",
      "0.01\n"
     ]
    }
   ],
   "source": [
    "best_params_1 = grid_cv_clf.best_estimator_.get_params()\n",
    "print(best_params_1)\n",
    "best_alpha_1 = best_params_1['alpha']\n",
    "print(best_alpha_1)"
   ]
  },
  {
   "cell_type": "markdown",
   "id": "7201a809",
   "metadata": {},
   "source": [
    "AUC plot on Set 1"
   ]
  },
  {
   "cell_type": "code",
   "execution_count": 21,
   "id": "dd76524a",
   "metadata": {},
   "outputs": [
    {
     "data": {
      "image/png": "[encoded data removed]",
      "text/plain": [
       "<Figure size 864x432 with 1 Axes>"
      ]
     },
     "metadata": {},
     "output_type": "display_data"
    }
   ],
   "source": [
    "draw_auc(best_alpha=best_alpha_1,\n",
    "         X_train_data=X_train_data_bow,\n",
    "         X_test_data=X_test_data_bow,\n",
    "         y_train=y_train,\n",
    "         y_test=y_test)"
   ]
  },
  {
   "cell_type": "markdown",
   "id": "55149083",
   "metadata": {},
   "source": [
    "Best tau and confusion matrix on Set 1"
   ]
  },
  {
   "cell_type": "code",
   "execution_count": 22,
   "id": "3131c3b5",
   "metadata": {},
   "outputs": [
    {
     "name": "stdout",
     "output_type": "stream",
     "text": [
      "The maximum value of tpr*(1-fpr) is 0.463 for tau 0.837.\n",
      "\n",
      "Train Confusion Matrix\n",
      "[[ 3683  1682]\n",
      " [ 9147 18988]]\n",
      "\n",
      "Test Confusion Matrix\n",
      "[[1646  996]\n",
      " [4697 9161]]\n"
     ]
    }
   ],
   "source": [
    "(y_train_pred_proba,\n",
    " y_test_pred_proba,\n",
    " train_taus,\n",
    " train_fpr,\n",
    " train_tpr,\n",
    " tr_auc_1,\n",
    " te_auc_1,\n",
    " nb_clf_1) = draw_auc(best_alpha=best_alpha_1,\n",
    "                      X_train_data=X_train_data_bow,\n",
    "                      X_test_data=X_test_data_bow,\n",
    "                      y_train=y_train,\n",
    "                      y_test=y_test,\n",
    "                      plot_it=False)\n",
    "\n",
    "best_tau = find_best_tau(taus=train_taus, fpr=train_fpr, tpr=train_tpr)\n",
    "print(\"\\nTrain Confusion Matrix\")\n",
    "print(confusion_matrix(y_true=y_train,\n",
    "                       y_pred=predict_using_best_tau(proba=y_train_pred_proba,\n",
    "                                                     best_tau=best_tau)))\n",
    "print(\"\\nTest Confusion Matrix\")\n",
    "print(confusion_matrix(y_true=y_test,\n",
    "                       y_pred=predict_using_best_tau(proba=y_test_pred_proba,\n",
    "                                                     best_tau=best_tau)))"
   ]
  },
  {
   "cell_type": "markdown",
   "id": "5b1f616d",
   "metadata": {},
   "source": [
    "---"
   ]
  },
  {
   "cell_type": "markdown",
   "id": "c7577216",
   "metadata": {},
   "source": [
    "Set 2"
   ]
  },
  {
   "cell_type": "code",
   "execution_count": 23,
   "id": "2306e4c6",
   "metadata": {},
   "outputs": [
    {
     "name": "stdout",
     "output_type": "stream",
     "text": [
      "Combining categorical features.\n"
     ]
    },
    {
     "name": "stderr",
     "output_type": "stream",
     "text": [
      "100%|█████████████████████████████████████████████████████████████████████| 6/6 [00:55<00:00,  9.24s/it]\n"
     ]
    },
    {
     "name": "stdout",
     "output_type": "stream",
     "text": [
      "Combining numerical features.\n"
     ]
    },
    {
     "name": "stderr",
     "output_type": "stream",
     "text": [
      "100%|███████████████████████████████████████████████████████████████████| 2/2 [00:00<00:00, 1170.94it/s]\n"
     ]
    },
    {
     "name": "stdout",
     "output_type": "stream",
     "text": [
      "Preparing model-ready data.\n",
      "Done!\n"
     ]
    }
   ],
   "source": [
    "X_train_data_tfidf, X_test_data_tfidf = combine_all_columns(train_data=X_train,\n",
    "                                                            test_data=X_test,\n",
    "                                                            catcols=catcols,\n",
    "                                                            numcols=numcols,\n",
    "                                                            tfidf_flag=True)"
   ]
  },
  {
   "cell_type": "code",
   "execution_count": 24,
   "id": "1012b36b",
   "metadata": {},
   "outputs": [
    {
     "name": "stdout",
     "output_type": "stream",
     "text": [
      "(33500, 5101) (33500,)\n",
      "(16500, 5101) (16500,)\n"
     ]
    }
   ],
   "source": [
    "print(X_train_data_tfidf.shape, y_train.shape)\n",
    "print(X_test_data_tfidf.shape, y_test.shape)"
   ]
  },
  {
   "cell_type": "markdown",
   "id": "b0a4d2eb",
   "metadata": {},
   "source": [
    "`MultinomialNB` and `GridSearchCV` on Set 2"
   ]
  },
  {
   "cell_type": "code",
   "execution_count": 25,
   "id": "ec25a5e8",
   "metadata": {
    "scrolled": false
   },
   "outputs": [
    {
     "data": {
      "text/html": [
       "<div>\n",
       "<style scoped>\n",
       "    .dataframe tbody tr th:only-of-type {\n",
       "        vertical-align: middle;\n",
       "    }\n",
       "\n",
       "    .dataframe tbody tr th {\n",
       "        vertical-align: top;\n",
       "    }\n",
       "\n",
       "    .dataframe thead th {\n",
       "        text-align: right;\n",
       "    }\n",
       "</style>\n",
       "<table border=\"1\" class=\"dataframe\">\n",
       "  <thead>\n",
       "    <tr style=\"text-align: right;\">\n",
       "      <th></th>\n",
       "      <th>mean_fit_time</th>\n",
       "      <th>std_fit_time</th>\n",
       "      <th>mean_score_time</th>\n",
       "      <th>std_score_time</th>\n",
       "      <th>param_alpha</th>\n",
       "      <th>params</th>\n",
       "      <th>split0_test_score</th>\n",
       "      <th>split1_test_score</th>\n",
       "      <th>split2_test_score</th>\n",
       "      <th>mean_test_score</th>\n",
       "      <th>std_test_score</th>\n",
       "      <th>rank_test_score</th>\n",
       "      <th>split0_train_score</th>\n",
       "      <th>split1_train_score</th>\n",
       "      <th>split2_train_score</th>\n",
       "      <th>mean_train_score</th>\n",
       "      <th>std_train_score</th>\n",
       "    </tr>\n",
       "  </thead>\n",
       "  <tbody>\n",
       "    <tr>\n",
       "      <th>0</th>\n",
       "      <td>0.018393</td>\n",
       "      <td>0.001641</td>\n",
       "      <td>0.007891</td>\n",
       "      <td>0.000205</td>\n",
       "      <td>0.00001</td>\n",
       "      <td>{'alpha': 1e-05}</td>\n",
       "      <td>0.666289</td>\n",
       "      <td>0.658293</td>\n",
       "      <td>0.674963</td>\n",
       "      <td>0.666515</td>\n",
       "      <td>0.006807</td>\n",
       "      <td>1</td>\n",
       "      <td>0.739608</td>\n",
       "      <td>0.746749</td>\n",
       "      <td>0.741411</td>\n",
       "      <td>0.742589</td>\n",
       "      <td>0.003032</td>\n",
       "    </tr>\n",
       "    <tr>\n",
       "      <th>2</th>\n",
       "      <td>0.017883</td>\n",
       "      <td>0.000751</td>\n",
       "      <td>0.008664</td>\n",
       "      <td>0.000262</td>\n",
       "      <td>0.0001</td>\n",
       "      <td>{'alpha': 0.0001}</td>\n",
       "      <td>0.666288</td>\n",
       "      <td>0.658292</td>\n",
       "      <td>0.674963</td>\n",
       "      <td>0.666514</td>\n",
       "      <td>0.006808</td>\n",
       "      <td>2</td>\n",
       "      <td>0.739606</td>\n",
       "      <td>0.746747</td>\n",
       "      <td>0.741409</td>\n",
       "      <td>0.742588</td>\n",
       "      <td>0.003032</td>\n",
       "    </tr>\n",
       "    <tr>\n",
       "      <th>1</th>\n",
       "      <td>0.016539</td>\n",
       "      <td>0.000517</td>\n",
       "      <td>0.007683</td>\n",
       "      <td>0.000042</td>\n",
       "      <td>0.0005</td>\n",
       "      <td>{'alpha': 0.0005}</td>\n",
       "      <td>0.666283</td>\n",
       "      <td>0.658286</td>\n",
       "      <td>0.674958</td>\n",
       "      <td>0.666509</td>\n",
       "      <td>0.006808</td>\n",
       "      <td>3</td>\n",
       "      <td>0.739599</td>\n",
       "      <td>0.746739</td>\n",
       "      <td>0.741403</td>\n",
       "      <td>0.742580</td>\n",
       "      <td>0.003031</td>\n",
       "    </tr>\n",
       "    <tr>\n",
       "      <th>4</th>\n",
       "      <td>0.017902</td>\n",
       "      <td>0.000032</td>\n",
       "      <td>0.008379</td>\n",
       "      <td>0.000025</td>\n",
       "      <td>0.001</td>\n",
       "      <td>{'alpha': 0.001}</td>\n",
       "      <td>0.666277</td>\n",
       "      <td>0.658283</td>\n",
       "      <td>0.674955</td>\n",
       "      <td>0.666505</td>\n",
       "      <td>0.006808</td>\n",
       "      <td>4</td>\n",
       "      <td>0.739591</td>\n",
       "      <td>0.746726</td>\n",
       "      <td>0.741393</td>\n",
       "      <td>0.742570</td>\n",
       "      <td>0.003030</td>\n",
       "    </tr>\n",
       "    <tr>\n",
       "      <th>3</th>\n",
       "      <td>0.018382</td>\n",
       "      <td>0.000150</td>\n",
       "      <td>0.008767</td>\n",
       "      <td>0.000179</td>\n",
       "      <td>0.005</td>\n",
       "      <td>{'alpha': 0.005}</td>\n",
       "      <td>0.666218</td>\n",
       "      <td>0.658232</td>\n",
       "      <td>0.674916</td>\n",
       "      <td>0.666455</td>\n",
       "      <td>0.006813</td>\n",
       "      <td>5</td>\n",
       "      <td>0.739520</td>\n",
       "      <td>0.746640</td>\n",
       "      <td>0.741319</td>\n",
       "      <td>0.742493</td>\n",
       "      <td>0.003023</td>\n",
       "    </tr>\n",
       "    <tr>\n",
       "      <th>6</th>\n",
       "      <td>0.015943</td>\n",
       "      <td>0.000025</td>\n",
       "      <td>0.007740</td>\n",
       "      <td>0.000047</td>\n",
       "      <td>0.01</td>\n",
       "      <td>{'alpha': 0.01}</td>\n",
       "      <td>0.666159</td>\n",
       "      <td>0.658169</td>\n",
       "      <td>0.674870</td>\n",
       "      <td>0.666400</td>\n",
       "      <td>0.006820</td>\n",
       "      <td>6</td>\n",
       "      <td>0.739429</td>\n",
       "      <td>0.746529</td>\n",
       "      <td>0.741226</td>\n",
       "      <td>0.742395</td>\n",
       "      <td>0.003014</td>\n",
       "    </tr>\n",
       "    <tr>\n",
       "      <th>5</th>\n",
       "      <td>0.017173</td>\n",
       "      <td>0.000783</td>\n",
       "      <td>0.008172</td>\n",
       "      <td>0.000421</td>\n",
       "      <td>0.05</td>\n",
       "      <td>{'alpha': 0.05}</td>\n",
       "      <td>0.665658</td>\n",
       "      <td>0.657621</td>\n",
       "      <td>0.674446</td>\n",
       "      <td>0.665908</td>\n",
       "      <td>0.006871</td>\n",
       "      <td>7</td>\n",
       "      <td>0.738702</td>\n",
       "      <td>0.745660</td>\n",
       "      <td>0.740495</td>\n",
       "      <td>0.741619</td>\n",
       "      <td>0.002950</td>\n",
       "    </tr>\n",
       "    <tr>\n",
       "      <th>7</th>\n",
       "      <td>0.016147</td>\n",
       "      <td>0.000357</td>\n",
       "      <td>0.007665</td>\n",
       "      <td>0.000061</td>\n",
       "      <td>0.1</td>\n",
       "      <td>{'alpha': 0.1}</td>\n",
       "      <td>0.665104</td>\n",
       "      <td>0.656910</td>\n",
       "      <td>0.674172</td>\n",
       "      <td>0.665396</td>\n",
       "      <td>0.007050</td>\n",
       "      <td>8</td>\n",
       "      <td>0.737782</td>\n",
       "      <td>0.744584</td>\n",
       "      <td>0.739587</td>\n",
       "      <td>0.740651</td>\n",
       "      <td>0.002877</td>\n",
       "    </tr>\n",
       "    <tr>\n",
       "      <th>8</th>\n",
       "      <td>0.016485</td>\n",
       "      <td>0.000606</td>\n",
       "      <td>0.008445</td>\n",
       "      <td>0.000872</td>\n",
       "      <td>0.5</td>\n",
       "      <td>{'alpha': 0.5}</td>\n",
       "      <td>0.660124</td>\n",
       "      <td>0.651788</td>\n",
       "      <td>0.669926</td>\n",
       "      <td>0.660613</td>\n",
       "      <td>0.007413</td>\n",
       "      <td>9</td>\n",
       "      <td>0.730621</td>\n",
       "      <td>0.736386</td>\n",
       "      <td>0.732342</td>\n",
       "      <td>0.733117</td>\n",
       "      <td>0.002417</td>\n",
       "    </tr>\n",
       "    <tr>\n",
       "      <th>9</th>\n",
       "      <td>0.016071</td>\n",
       "      <td>0.000117</td>\n",
       "      <td>0.007731</td>\n",
       "      <td>0.000154</td>\n",
       "      <td>1</td>\n",
       "      <td>{'alpha': 1}</td>\n",
       "      <td>0.653659</td>\n",
       "      <td>0.645864</td>\n",
       "      <td>0.663898</td>\n",
       "      <td>0.654474</td>\n",
       "      <td>0.007385</td>\n",
       "      <td>10</td>\n",
       "      <td>0.721965</td>\n",
       "      <td>0.726997</td>\n",
       "      <td>0.723587</td>\n",
       "      <td>0.724183</td>\n",
       "      <td>0.002097</td>\n",
       "    </tr>\n",
       "    <tr>\n",
       "      <th>10</th>\n",
       "      <td>0.016347</td>\n",
       "      <td>0.000480</td>\n",
       "      <td>0.007686</td>\n",
       "      <td>0.000086</td>\n",
       "      <td>5</td>\n",
       "      <td>{'alpha': 5}</td>\n",
       "      <td>0.615917</td>\n",
       "      <td>0.610113</td>\n",
       "      <td>0.623110</td>\n",
       "      <td>0.616380</td>\n",
       "      <td>0.005316</td>\n",
       "      <td>11</td>\n",
       "      <td>0.668662</td>\n",
       "      <td>0.672736</td>\n",
       "      <td>0.669978</td>\n",
       "      <td>0.670459</td>\n",
       "      <td>0.001698</td>\n",
       "    </tr>\n",
       "    <tr>\n",
       "      <th>11</th>\n",
       "      <td>0.016266</td>\n",
       "      <td>0.000154</td>\n",
       "      <td>0.007677</td>\n",
       "      <td>0.000070</td>\n",
       "      <td>10</td>\n",
       "      <td>{'alpha': 10}</td>\n",
       "      <td>0.593562</td>\n",
       "      <td>0.586797</td>\n",
       "      <td>0.594292</td>\n",
       "      <td>0.591550</td>\n",
       "      <td>0.003374</td>\n",
       "      <td>12</td>\n",
       "      <td>0.631850</td>\n",
       "      <td>0.636732</td>\n",
       "      <td>0.633873</td>\n",
       "      <td>0.634152</td>\n",
       "      <td>0.002003</td>\n",
       "    </tr>\n",
       "    <tr>\n",
       "      <th>12</th>\n",
       "      <td>0.017735</td>\n",
       "      <td>0.000812</td>\n",
       "      <td>0.008752</td>\n",
       "      <td>0.000511</td>\n",
       "      <td>50</td>\n",
       "      <td>{'alpha': 50}</td>\n",
       "      <td>0.558323</td>\n",
       "      <td>0.544335</td>\n",
       "      <td>0.543413</td>\n",
       "      <td>0.548690</td>\n",
       "      <td>0.006822</td>\n",
       "      <td>13</td>\n",
       "      <td>0.560891</td>\n",
       "      <td>0.568797</td>\n",
       "      <td>0.567772</td>\n",
       "      <td>0.565820</td>\n",
       "      <td>0.003510</td>\n",
       "    </tr>\n",
       "    <tr>\n",
       "      <th>13</th>\n",
       "      <td>0.018363</td>\n",
       "      <td>0.000238</td>\n",
       "      <td>0.008597</td>\n",
       "      <td>0.000229</td>\n",
       "      <td>100</td>\n",
       "      <td>{'alpha': 100}</td>\n",
       "      <td>0.550920</td>\n",
       "      <td>0.533260</td>\n",
       "      <td>0.534493</td>\n",
       "      <td>0.539557</td>\n",
       "      <td>0.008050</td>\n",
       "      <td>14</td>\n",
       "      <td>0.544405</td>\n",
       "      <td>0.553448</td>\n",
       "      <td>0.552221</td>\n",
       "      <td>0.550025</td>\n",
       "      <td>0.004005</td>\n",
       "    </tr>\n",
       "  </tbody>\n",
       "</table>\n",
       "</div>"
      ],
      "text/plain": [
       "    mean_fit_time  std_fit_time  mean_score_time  std_score_time param_alpha  \\\n",
       "0        0.018393      0.001641         0.007891        0.000205     0.00001   \n",
       "2        0.017883      0.000751         0.008664        0.000262      0.0001   \n",
       "1        0.016539      0.000517         0.007683        0.000042      0.0005   \n",
       "4        0.017902      0.000032         0.008379        0.000025       0.001   \n",
       "3        0.018382      0.000150         0.008767        0.000179       0.005   \n",
       "6        0.015943      0.000025         0.007740        0.000047        0.01   \n",
       "5        0.017173      0.000783         0.008172        0.000421        0.05   \n",
       "7        0.016147      0.000357         0.007665        0.000061         0.1   \n",
       "8        0.016485      0.000606         0.008445        0.000872         0.5   \n",
       "9        0.016071      0.000117         0.007731        0.000154           1   \n",
       "10       0.016347      0.000480         0.007686        0.000086           5   \n",
       "11       0.016266      0.000154         0.007677        0.000070          10   \n",
       "12       0.017735      0.000812         0.008752        0.000511          50   \n",
       "13       0.018363      0.000238         0.008597        0.000229         100   \n",
       "\n",
       "               params  split0_test_score  split1_test_score  \\\n",
       "0    {'alpha': 1e-05}           0.666289           0.658293   \n",
       "2   {'alpha': 0.0001}           0.666288           0.658292   \n",
       "1   {'alpha': 0.0005}           0.666283           0.658286   \n",
       "4    {'alpha': 0.001}           0.666277           0.658283   \n",
       "3    {'alpha': 0.005}           0.666218           0.658232   \n",
       "6     {'alpha': 0.01}           0.666159           0.658169   \n",
       "5     {'alpha': 0.05}           0.665658           0.657621   \n",
       "7      {'alpha': 0.1}           0.665104           0.656910   \n",
       "8      {'alpha': 0.5}           0.660124           0.651788   \n",
       "9        {'alpha': 1}           0.653659           0.645864   \n",
       "10       {'alpha': 5}           0.615917           0.610113   \n",
       "11      {'alpha': 10}           0.593562           0.586797   \n",
       "12      {'alpha': 50}           0.558323           0.544335   \n",
       "13     {'alpha': 100}           0.550920           0.533260   \n",
       "\n",
       "    split2_test_score  mean_test_score  std_test_score  rank_test_score  \\\n",
       "0            0.674963         0.666515        0.006807                1   \n",
       "2            0.674963         0.666514        0.006808                2   \n",
       "1            0.674958         0.666509        0.006808                3   \n",
       "4            0.674955         0.666505        0.006808                4   \n",
       "3            0.674916         0.666455        0.006813                5   \n",
       "6            0.674870         0.666400        0.006820                6   \n",
       "5            0.674446         0.665908        0.006871                7   \n",
       "7            0.674172         0.665396        0.007050                8   \n",
       "8            0.669926         0.660613        0.007413                9   \n",
       "9            0.663898         0.654474        0.007385               10   \n",
       "10           0.623110         0.616380        0.005316               11   \n",
       "11           0.594292         0.591550        0.003374               12   \n",
       "12           0.543413         0.548690        0.006822               13   \n",
       "13           0.534493         0.539557        0.008050               14   \n",
       "\n",
       "    split0_train_score  split1_train_score  split2_train_score  \\\n",
       "0             0.739608            0.746749            0.741411   \n",
       "2             0.739606            0.746747            0.741409   \n",
       "1             0.739599            0.746739            0.741403   \n",
       "4             0.739591            0.746726            0.741393   \n",
       "3             0.739520            0.746640            0.741319   \n",
       "6             0.739429            0.746529            0.741226   \n",
       "5             0.738702            0.745660            0.740495   \n",
       "7             0.737782            0.744584            0.739587   \n",
       "8             0.730621            0.736386            0.732342   \n",
       "9             0.721965            0.726997            0.723587   \n",
       "10            0.668662            0.672736            0.669978   \n",
       "11            0.631850            0.636732            0.633873   \n",
       "12            0.560891            0.568797            0.567772   \n",
       "13            0.544405            0.553448            0.552221   \n",
       "\n",
       "    mean_train_score  std_train_score  \n",
       "0           0.742589         0.003032  \n",
       "2           0.742588         0.003032  \n",
       "1           0.742580         0.003031  \n",
       "4           0.742570         0.003030  \n",
       "3           0.742493         0.003023  \n",
       "6           0.742395         0.003014  \n",
       "5           0.741619         0.002950  \n",
       "7           0.740651         0.002877  \n",
       "8           0.733117         0.002417  \n",
       "9           0.724183         0.002097  \n",
       "10          0.670459         0.001698  \n",
       "11          0.634152         0.002003  \n",
       "12          0.565820         0.003510  \n",
       "13          0.550025         0.004005  "
      ]
     },
     "metadata": {},
     "output_type": "display_data"
    },
    {
     "data": {
      "image/png": "[encoded data removed]",
      "text/plain": [
       "<Figure size 864x432 with 1 Axes>"
      ]
     },
     "metadata": {},
     "output_type": "display_data"
    }
   ],
   "source": [
    "parameters = {'alpha': [0.00001, 0.0005, 0.0001, 0.005, 0.001, 0.05, 0.01, 0.1, 0.5, 1, 5, 10, 50, 100]}\n",
    "\n",
    "nb_mul_clf = MultinomialNB(class_prior=[0.5, 0.5])\n",
    "\n",
    "grid_cv_clf = GridSearchCV(estimator=nb_mul_clf, param_grid=parameters, cv=3, scoring='roc_auc', return_train_score=True)\n",
    "grid_cv_clf.fit(X=X_train_data_tfidf, y=y_train)\n",
    "\n",
    "results = pd.DataFrame.from_dict(data=grid_cv_clf.cv_results_).sort_values(['param_alpha'])\n",
    "display(results)\n",
    "\n",
    "train_auc = results['mean_train_score'].values\n",
    "train_auc_std = results['std_train_score'].values\n",
    "cv_auc = results['mean_test_score'].values\n",
    "cv_auc_std = results['std_test_score'].values\n",
    "alphas = results['param_alpha'].values.astype(float)\n",
    "log_alphas = np.log(alphas)\n",
    "\n",
    "plt.figure(figsize=(12, 6))\n",
    "\n",
    "plt.plot(log_alphas, train_auc, label='Train AUC')\n",
    "plt.plot(log_alphas, cv_auc, label='CV AUC')\n",
    "\n",
    "plt.scatter(x=log_alphas, y=train_auc, label='Train AUC Points')\n",
    "plt.scatter(x=log_alphas, y=cv_auc, label='CV AUC Points')\n",
    "\n",
    "plt.title(label='Hyperparameter vs AUC Plot')\n",
    "plt.xlabel(xlabel='log(alpha): Hyperparameter')\n",
    "plt.ylabel(ylabel='AUC')\n",
    "plt.legend()\n",
    "plt.show()"
   ]
  },
  {
   "cell_type": "markdown",
   "id": "f9dae4d4",
   "metadata": {},
   "source": [
    "Best aplha on Set 2"
   ]
  },
  {
   "cell_type": "code",
   "execution_count": 26,
   "id": "300b8f26",
   "metadata": {},
   "outputs": [
    {
     "name": "stdout",
     "output_type": "stream",
     "text": [
      "{'alpha': 1e-05, 'class_prior': [0.5, 0.5], 'fit_prior': True}\n",
      "1e-05\n"
     ]
    }
   ],
   "source": [
    "best_params_2 = grid_cv_clf.best_estimator_.get_params()\n",
    "print(best_params_2)\n",
    "best_alpha_2 = best_params_2['alpha']\n",
    "print(best_alpha_2)"
   ]
  },
  {
   "cell_type": "markdown",
   "id": "fe3f2c87",
   "metadata": {},
   "source": [
    "AUC plot on Set 2"
   ]
  },
  {
   "cell_type": "code",
   "execution_count": 27,
   "id": "07f4c79b",
   "metadata": {
    "scrolled": false
   },
   "outputs": [
    {
     "data": {
      "image/png": "[encoded data removed]",
      "text/plain": [
       "<Figure size 864x432 with 1 Axes>"
      ]
     },
     "metadata": {},
     "output_type": "display_data"
    }
   ],
   "source": [
    "draw_auc(best_alpha=best_alpha_2,\n",
    "         X_train_data=X_train_data_tfidf,\n",
    "         X_test_data=X_test_data_tfidf,\n",
    "         y_train=y_train,\n",
    "         y_test=y_test)"
   ]
  },
  {
   "cell_type": "markdown",
   "id": "9c494a8e",
   "metadata": {},
   "source": [
    "Best tau and confusion matrix on Set 2"
   ]
  },
  {
   "cell_type": "code",
   "execution_count": 28,
   "id": "770d7cf0",
   "metadata": {},
   "outputs": [
    {
     "name": "stdout",
     "output_type": "stream",
     "text": [
      "The maximum value of tpr*(1-fpr) is 0.441 for tau 0.837.\n",
      "\n",
      "Train Confusion Matrix\n",
      "[[ 3506  1859]\n",
      " [ 9181 18954]]\n",
      "\n",
      "Test Confusion Matrix\n",
      "[[1599 1043]\n",
      " [4628 9230]]\n"
     ]
    }
   ],
   "source": [
    "(y_train_pred_proba,\n",
    " y_test_pred_proba,\n",
    " train_taus,\n",
    " train_fpr,\n",
    " train_tpr,\n",
    " tr_auc_2,\n",
    " te_auc_2,\n",
    " nb_clf_2) = draw_auc(best_alpha=best_alpha_2,\n",
    "                      X_train_data=X_train_data_tfidf,\n",
    "                      X_test_data=X_test_data_tfidf,\n",
    "                      y_train=y_train,\n",
    "                      y_test=y_test,\n",
    "                      plot_it=False)\n",
    "\n",
    "best_tau = find_best_tau(taus=train_taus, fpr=train_fpr, tpr=train_tpr)\n",
    "print(\"\\nTrain Confusion Matrix\")\n",
    "print(confusion_matrix(y_true=y_train,\n",
    "                       y_pred=predict_using_best_tau(proba=y_train_pred_proba,\n",
    "                                                     best_tau=best_tau)))\n",
    "print(\"\\nTest Confusion Matrix\")\n",
    "print(confusion_matrix(y_true=y_test,\n",
    "                       y_pred=predict_using_best_tau(proba=y_test_pred_proba,\n",
    "                                                     best_tau=best_tau)))"
   ]
  },
  {
   "cell_type": "markdown",
   "id": "386491ea",
   "metadata": {},
   "source": [
    "---"
   ]
  },
  {
   "cell_type": "markdown",
   "id": "f06a9c98",
   "metadata": {},
   "source": [
    "Finding the top n features"
   ]
  },
  {
   "cell_type": "code",
   "execution_count": 29,
   "id": "a4ed15e0",
   "metadata": {},
   "outputs": [],
   "source": [
    "def get_categorical_features_names(train_data, column, tfidf_flag=False):\n",
    "    \"\"\"\n",
    "    This function gets the categorical feature names.\n",
    "    \"\"\"\n",
    "    if (column == 'essay'):\n",
    "        if tfidf_flag:\n",
    "            vect = TfidfVectorizer(min_df=10, ngram_range=(1, 4), max_features=5000)\n",
    "        else:\n",
    "            vect = CountVectorizer(min_df=10, ngram_range=(1, 4), max_features=5000)\n",
    "    else:\n",
    "        if tfidf_flag:\n",
    "            vect = TfidfVectorizer()\n",
    "        else:\n",
    "            vect = CountVectorizer()\n",
    "    vect.fit(raw_documents=X_train[column].values)\n",
    "    return vect.get_feature_names_out()"
   ]
  },
  {
   "cell_type": "code",
   "execution_count": 32,
   "id": "16ab352a",
   "metadata": {},
   "outputs": [],
   "source": [
    "def list_top_n_features(clf, train_data, catcols, numcols, tfidf_flag=False, top_n=20):\n",
    "    \"\"\"\n",
    "    This function lists the top n features.\n",
    "    \"\"\"\n",
    "    data_log_probs = clf.feature_log_prob_\n",
    "    data_log_probs = np.argsort(a=data_log_probs)\n",
    "    neg_probs = data_log_probs[0][::-1][:top_n]\n",
    "    pos_probs = data_log_probs[1][::-1][:top_n]\n",
    "    \n",
    "    feature_list = []\n",
    "    for catcol in tqdm(catcols):\n",
    "        features = get_categorical_features_names(train_data=train_data, column=catcol, tfidf_flag=tfidf_flag)\n",
    "        feature_list.extend(features)\n",
    "    feature_list.extend(numcols)\n",
    "    \n",
    "    top_n_neg_features = [feature_list[ind] for ind in neg_probs]\n",
    "    top_n_pos_features = [feature_list[ind] for ind in pos_probs]\n",
    "    return (top_n_neg_features, top_n_pos_features)"
   ]
  },
  {
   "cell_type": "markdown",
   "id": "7542064d",
   "metadata": {},
   "source": [
    "---"
   ]
  },
  {
   "cell_type": "markdown",
   "id": "f4ebf245",
   "metadata": {},
   "source": [
    "Top n features on Set 1"
   ]
  },
  {
   "cell_type": "code",
   "execution_count": 33,
   "id": "4a9bcac0",
   "metadata": {},
   "outputs": [
    {
     "name": "stderr",
     "output_type": "stream",
     "text": [
      "100%|█████████████████████████████████████████████████████████████████████| 6/6 [00:39<00:00,  6.66s/it]\n"
     ]
    }
   ],
   "source": [
    "top_n_neg_features, top_n_pos_features = list_top_n_features(clf=nb_clf_1,\n",
    "                                                             train_data=X_train,\n",
    "                                                             catcols=catcols,\n",
    "                                                             numcols=numcols)"
   ]
  },
  {
   "cell_type": "code",
   "execution_count": 34,
   "id": "35f64729",
   "metadata": {
    "scrolled": true
   },
   "outputs": [
    {
     "name": "stdout",
     "output_type": "stream",
     "text": [
      "['students', 'school', 'learning', 'my', 'classroom', 'not', 'learn', 'help', 'they', 'the', 'my students', 'many', 'nannan', 'we', 'need', 'work', 'come', 'year', 'reading', 'able']\n",
      "['students', 'school', 'my', 'learning', 'classroom', 'the', 'not', 'they', 'learn', 'my students', 'help', 'many', 'nannan', 'work', 'we', 'reading', 'need', 'use', 'day', 'able']\n"
     ]
    }
   ],
   "source": [
    "print(top_n_neg_features)\n",
    "print(top_n_pos_features)"
   ]
  },
  {
   "cell_type": "markdown",
   "id": "51de0c3d",
   "metadata": {},
   "source": [
    "---"
   ]
  },
  {
   "cell_type": "markdown",
   "id": "7e193bfc",
   "metadata": {},
   "source": [
    "Top n features on Set 2"
   ]
  },
  {
   "cell_type": "code",
   "execution_count": 35,
   "id": "30c30555",
   "metadata": {},
   "outputs": [
    {
     "name": "stderr",
     "output_type": "stream",
     "text": [
      "100%|█████████████████████████████████████████████████████████████████████| 6/6 [00:38<00:00,  6.47s/it]\n"
     ]
    }
   ],
   "source": [
    "top_n_neg_features, top_n_pos_features = list_top_n_features(clf=nb_clf_2,\n",
    "                                                             train_data=X_train,\n",
    "                                                             catcols=catcols,\n",
    "                                                             numcols=numcols,\n",
    "                                                             tfidf_flag=True)"
   ]
  },
  {
   "cell_type": "code",
   "execution_count": 36,
   "id": "9aa4a7c9",
   "metadata": {},
   "outputs": [
    {
     "name": "stdout",
     "output_type": "stream",
     "text": [
      "['mrs', 'grades_prek_2', 'ms', 'literacy_language', 'grades_3_5', 'math_science', 'literacy', 'mathematics', 'grades_6_8', 'health_sports', 'literature_writing', 'ca', 'students', 'specialneeds', 'specialneeds', 'appliedlearning', 'grades_9_12', 'mr', 'tx', 'health_wellness']\n",
      "['mrs', 'grades_prek_2', 'literacy_language', 'ms', 'grades_3_5', 'math_science', 'literacy', 'mathematics', 'health_sports', 'literature_writing', 'grades_6_8', 'ca', 'students', 'health_wellness', 'specialneeds', 'grades_9_12', 'appliedlearning', 'mr', 'specialneeds', 'music_arts']\n"
     ]
    }
   ],
   "source": [
    "print(top_n_neg_features)\n",
    "print(top_n_pos_features)"
   ]
  },
  {
   "cell_type": "markdown",
   "id": "46f597a8",
   "metadata": {},
   "source": [
    "---"
   ]
  },
  {
   "cell_type": "markdown",
   "id": "0e26e964",
   "metadata": {},
   "source": [
    "Summary"
   ]
  },
  {
   "cell_type": "code",
   "execution_count": 37,
   "id": "8aa6c928",
   "metadata": {},
   "outputs": [],
   "source": [
    "summary_dict = {\n",
    "    'Vectorizer': ['BoW', 'TFIDF'],\n",
    "    'Model': ['MultinomialNB', 'MultinomialNB'],\n",
    "    'Hyperparameter': [best_alpha_1, best_alpha_2],\n",
    "    'Train-AUC': [tr_auc_1, tr_auc_2],\n",
    "    'Test-AUC': [te_auc_1, te_auc_2]\n",
    "}"
   ]
  },
  {
   "cell_type": "code",
   "execution_count": 38,
   "id": "27f528df",
   "metadata": {},
   "outputs": [
    {
     "name": "stdout",
     "output_type": "stream",
     "text": [
      "+---+------------+---------------+----------------+-----------+----------+\n",
      "|   | Vectorizer |     Model     | Hyperparameter | Train-AUC | Test-AUC |\n",
      "+---+------------+---------------+----------------+-----------+----------+\n",
      "| 0 |    BoW     | MultinomialNB |      0.01      |   0.735   |  0.694   |\n",
      "| 1 |   TFIDF    | MultinomialNB |     1e-05      |   0.723   |  0.683   |\n",
      "+---+------------+---------------+----------------+-----------+----------+\n"
     ]
    }
   ],
   "source": [
    "summary_df = pd.DataFrame(data=summary_dict)\n",
    "summary_table = tabulate(tabular_data=summary_df, headers='keys', tablefmt='pretty')\n",
    "print(summary_table)"
   ]
  },
  {
   "cell_type": "markdown",
   "id": "6af2fe52",
   "metadata": {},
   "source": [
    "End of the file."
   ]
  }
 ],
 "metadata": {
  "kernelspec": {
   "display_name": "Python 3 (ipykernel)",
   "language": "python",
   "name": "python3"
  },
  "language_info": {
   "codemirror_mode": {
    "name": "ipython",
    "version": 3
   },
   "file_extension": ".py",
   "mimetype": "text/x-python",
   "name": "python",
   "nbconvert_exporter": "python",
   "pygments_lexer": "ipython3",
   "version": "3.10.4"
  }
 },
 "nbformat": 4,
 "nbformat_minor": 5
}
