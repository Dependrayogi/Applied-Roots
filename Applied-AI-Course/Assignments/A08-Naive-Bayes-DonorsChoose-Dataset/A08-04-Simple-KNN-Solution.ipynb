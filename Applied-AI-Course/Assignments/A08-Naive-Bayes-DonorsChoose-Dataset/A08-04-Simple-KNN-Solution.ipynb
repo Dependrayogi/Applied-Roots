{
 "cells": [
  {
   "cell_type": "markdown",
   "id": "991174b0",
   "metadata": {},
   "source": [
    "### K - Nearest Neighbor Solution"
   ]
  },
  {
   "cell_type": "code",
   "execution_count": 1,
   "id": "88b0b4dc",
   "metadata": {},
   "outputs": [],
   "source": [
    "import warnings\n",
    "warnings.filterwarnings('ignore')"
   ]
  },
  {
   "cell_type": "markdown",
   "id": "930f027f",
   "metadata": {},
   "source": [
    "#### Reading the data"
   ]
  },
  {
   "cell_type": "code",
   "execution_count": 2,
   "id": "d6f147d3",
   "metadata": {},
   "outputs": [],
   "source": [
    "from matplotlib import pyplot as plt\n",
    "from matplotlib import style\n",
    "from tqdm import tqdm\n",
    "import numpy as np\n",
    "import pandas as pd"
   ]
  },
  {
   "cell_type": "code",
   "execution_count": 3,
   "id": "1b3cb458",
   "metadata": {},
   "outputs": [],
   "source": [
    "style.use(style='seaborn-whitegrid')"
   ]
  },
  {
   "cell_type": "code",
   "execution_count": 4,
   "id": "decdd3bb",
   "metadata": {},
   "outputs": [],
   "source": [
    "processed_df = pd.read_csv(filepath_or_buffer='preprocessed_data.csv', nrows=5000)"
   ]
  },
  {
   "cell_type": "code",
   "execution_count": 5,
   "id": "9ed6f75d",
   "metadata": {},
   "outputs": [],
   "source": [
    "y = processed_df['project_is_approved'].values\n",
    "X = processed_df.drop(labels=['project_is_approved'], axis=1)"
   ]
  },
  {
   "cell_type": "markdown",
   "id": "443c3da3",
   "metadata": {},
   "source": [
    "#### Train, Test → Split"
   ]
  },
  {
   "cell_type": "code",
   "execution_count": 6,
   "id": "64afeb16",
   "metadata": {},
   "outputs": [],
   "source": [
    "from sklearn.model_selection import train_test_split"
   ]
  },
  {
   "cell_type": "code",
   "execution_count": 7,
   "id": "6bc44cb2",
   "metadata": {},
   "outputs": [],
   "source": [
    "X_train, X_test, y_train, y_test = train_test_split(X, y, test_size=0.33, stratify=y)"
   ]
  },
  {
   "cell_type": "code",
   "execution_count": 8,
   "id": "73f6e67a",
   "metadata": {},
   "outputs": [],
   "source": [
    "X_train, X_cv, y_train, y_cv = train_test_split(X_train, y_train, test_size=0.33, stratify=y_train)"
   ]
  },
  {
   "cell_type": "code",
   "execution_count": 9,
   "id": "67e4af24",
   "metadata": {},
   "outputs": [
    {
     "name": "stdout",
     "output_type": "stream",
     "text": [
      "(2244, 8) (2244,)\n",
      "(1106, 8) (1106,)\n",
      "(1650, 8) (1650,)\n"
     ]
    }
   ],
   "source": [
    "print(X_train.shape, y_train.shape)\n",
    "print(X_cv.shape, y_cv.shape)\n",
    "print(X_test.shape, y_test.shape)"
   ]
  },
  {
   "cell_type": "markdown",
   "id": "2a7c86dd",
   "metadata": {},
   "source": [
    "#### BoW - `CountVectorizer`"
   ]
  },
  {
   "cell_type": "code",
   "execution_count": 10,
   "id": "00c5a85b",
   "metadata": {},
   "outputs": [],
   "source": [
    "from sklearn.feature_extraction.text import CountVectorizer"
   ]
  },
  {
   "cell_type": "markdown",
   "id": "3da623d7",
   "metadata": {},
   "source": [
    "Toy example"
   ]
  },
  {
   "cell_type": "code",
   "execution_count": 11,
   "id": "97492f4b",
   "metadata": {},
   "outputs": [],
   "source": [
    "ex = [\n",
    "    \"classroom students should take break\",\n",
    "    \"low income homes students receive free breakfast\",\n",
    "    \"students will receive low grades\"\n",
    "]"
   ]
  },
  {
   "cell_type": "code",
   "execution_count": 12,
   "id": "5e8f1435",
   "metadata": {},
   "outputs": [
    {
     "data": {
      "text/plain": [
       "CountVectorizer()"
      ]
     },
     "execution_count": 12,
     "metadata": {},
     "output_type": "execute_result"
    }
   ],
   "source": [
    "vect = CountVectorizer()\n",
    "vect.fit(raw_documents=ex)"
   ]
  },
  {
   "cell_type": "code",
   "execution_count": 13,
   "id": "ef9d3ec0",
   "metadata": {},
   "outputs": [
    {
     "name": "stdout",
     "output_type": "stream",
     "text": [
      "['break' 'breakfast' 'classroom' 'free' 'grades' 'homes' 'income' 'low'\n",
      " 'receive' 'should' 'students' 'take' 'will']\n"
     ]
    }
   ],
   "source": [
    "print(vect.get_feature_names_out())"
   ]
  },
  {
   "cell_type": "code",
   "execution_count": 14,
   "id": "5393fe1b",
   "metadata": {},
   "outputs": [
    {
     "name": "stdout",
     "output_type": "stream",
     "text": [
      "[[1 0 1 0 0 0 0 0 0 1 1 1 0]\n",
      " [0 1 0 1 0 1 1 1 1 0 1 0 0]\n",
      " [0 0 0 0 1 0 0 1 1 0 1 0 1]]\n"
     ]
    }
   ],
   "source": [
    "print(vect.transform(raw_documents=ex).toarray())"
   ]
  },
  {
   "cell_type": "markdown",
   "id": "40955579",
   "metadata": {},
   "source": [
    "Vectorizing `essay`"
   ]
  },
  {
   "cell_type": "code",
   "execution_count": 15,
   "id": "c3e0f3ea",
   "metadata": {},
   "outputs": [
    {
     "data": {
      "text/plain": [
       "CountVectorizer(max_features=5000, min_df=10, ngram_range=(1, 4))"
      ]
     },
     "execution_count": 15,
     "metadata": {},
     "output_type": "execute_result"
    }
   ],
   "source": [
    "vect = CountVectorizer(min_df=10, ngram_range=(1, 4), max_features=5000)\n",
    "vect.fit(raw_documents=X_train['essay'].values)"
   ]
  },
  {
   "cell_type": "code",
   "execution_count": 16,
   "id": "68697d81",
   "metadata": {},
   "outputs": [],
   "source": [
    "X_train_essay_bow = vect.transform(raw_documents=X_train['essay'].values)\n",
    "X_cv_essay_bow = vect.transform(raw_documents=X_cv['essay'].values)\n",
    "X_test_essay_bow = vect.transform(raw_documents=X_test['essay'].values)"
   ]
  },
  {
   "cell_type": "code",
   "execution_count": 17,
   "id": "33104f7d",
   "metadata": {},
   "outputs": [
    {
     "name": "stdout",
     "output_type": "stream",
     "text": [
      "(2244, 5000) (2244,)\n",
      "(1106, 5000) (1106,)\n",
      "(1650, 5000) (1650,)\n"
     ]
    }
   ],
   "source": [
    "print(X_train_essay_bow.shape, y_train.shape)\n",
    "print(X_cv_essay_bow.shape, y_cv.shape)\n",
    "print(X_test_essay_bow.shape, y_test.shape)"
   ]
  },
  {
   "cell_type": "markdown",
   "id": "7553bcd9",
   "metadata": {},
   "source": [
    "Vectorizing `school_state`"
   ]
  },
  {
   "cell_type": "code",
   "execution_count": 18,
   "id": "29279d2d",
   "metadata": {},
   "outputs": [
    {
     "data": {
      "text/plain": [
       "CountVectorizer()"
      ]
     },
     "execution_count": 18,
     "metadata": {},
     "output_type": "execute_result"
    }
   ],
   "source": [
    "vect = CountVectorizer()\n",
    "vect.fit(raw_documents=X_train['school_state'].values)"
   ]
  },
  {
   "cell_type": "code",
   "execution_count": 19,
   "id": "75ff5995",
   "metadata": {},
   "outputs": [],
   "source": [
    "X_train_state_bow = vect.transform(raw_documents=X_train['school_state'].values)\n",
    "X_cv_state_bow = vect.transform(raw_documents=X_cv['school_state'].values)\n",
    "X_test_state_bow = vect.transform(raw_documents=X_test['school_state'].values)"
   ]
  },
  {
   "cell_type": "code",
   "execution_count": 20,
   "id": "509e20ce",
   "metadata": {},
   "outputs": [
    {
     "name": "stdout",
     "output_type": "stream",
     "text": [
      "(2244, 50) (2244,)\n",
      "(1106, 50) (1106,)\n",
      "(1650, 50) (1650,)\n"
     ]
    }
   ],
   "source": [
    "print(X_train_state_bow.shape, y_train.shape)\n",
    "print(X_cv_state_bow.shape, y_cv.shape)\n",
    "print(X_test_state_bow.shape, y_test.shape)"
   ]
  },
  {
   "cell_type": "code",
   "execution_count": 21,
   "id": "6a227ca9",
   "metadata": {
    "scrolled": true
   },
   "outputs": [
    {
     "name": "stdout",
     "output_type": "stream",
     "text": [
      "['ak' 'al' 'ar' 'az' 'ca' 'co' 'ct' 'dc' 'de' 'fl' 'ga' 'hi' 'ia' 'id'\n",
      " 'il' 'in' 'ks' 'ky' 'la' 'ma' 'md' 'me' 'mi' 'mn' 'mo' 'ms' 'mt' 'nc'\n",
      " 'nd' 'ne' 'nh' 'nj' 'nm' 'nv' 'ny' 'oh' 'ok' 'or' 'pa' 'ri' 'sc' 'sd'\n",
      " 'tn' 'tx' 'ut' 'va' 'vt' 'wa' 'wi' 'wv']\n"
     ]
    }
   ],
   "source": [
    "print(vect.get_feature_names_out())"
   ]
  },
  {
   "cell_type": "markdown",
   "id": "21a891da",
   "metadata": {},
   "source": [
    "Vectorizing `teacher_prefix`"
   ]
  },
  {
   "cell_type": "code",
   "execution_count": 22,
   "id": "cd4e4bb0",
   "metadata": {},
   "outputs": [
    {
     "data": {
      "text/plain": [
       "CountVectorizer()"
      ]
     },
     "execution_count": 22,
     "metadata": {},
     "output_type": "execute_result"
    }
   ],
   "source": [
    "vect = CountVectorizer()\n",
    "vect.fit(raw_documents=X_train['teacher_prefix'].values)"
   ]
  },
  {
   "cell_type": "code",
   "execution_count": 23,
   "id": "9bc500e5",
   "metadata": {},
   "outputs": [],
   "source": [
    "X_train_teacher_bow = vect.transform(raw_documents=X_train['teacher_prefix'].values)\n",
    "X_cv_teacher_bow = vect.transform(raw_documents=X_cv['teacher_prefix'].values)\n",
    "X_test_teacher_bow = vect.transform(raw_documents=X_test['teacher_prefix'].values)"
   ]
  },
  {
   "cell_type": "code",
   "execution_count": 24,
   "id": "fb9857dd",
   "metadata": {},
   "outputs": [
    {
     "name": "stdout",
     "output_type": "stream",
     "text": [
      "(2244, 4) (2244,)\n",
      "(1106, 4) (1106,)\n",
      "(1650, 4) (1650,)\n"
     ]
    }
   ],
   "source": [
    "print(X_train_teacher_bow.shape, y_train.shape)\n",
    "print(X_cv_teacher_bow.shape, y_cv.shape)\n",
    "print(X_test_teacher_bow.shape, y_test.shape)"
   ]
  },
  {
   "cell_type": "code",
   "execution_count": 25,
   "id": "17875baa",
   "metadata": {},
   "outputs": [
    {
     "name": "stdout",
     "output_type": "stream",
     "text": [
      "['mr' 'mrs' 'ms' 'teacher']\n"
     ]
    }
   ],
   "source": [
    "print(vect.get_feature_names_out())"
   ]
  },
  {
   "cell_type": "markdown",
   "id": "d4dbb5b1",
   "metadata": {},
   "source": [
    "Vectorizing `project_grade_category`"
   ]
  },
  {
   "cell_type": "code",
   "execution_count": 26,
   "id": "b29ffa64",
   "metadata": {},
   "outputs": [
    {
     "data": {
      "text/plain": [
       "CountVectorizer()"
      ]
     },
     "execution_count": 26,
     "metadata": {},
     "output_type": "execute_result"
    }
   ],
   "source": [
    "vect = CountVectorizer()\n",
    "vect.fit(raw_documents=X_train['project_grade_category'].values)"
   ]
  },
  {
   "cell_type": "code",
   "execution_count": 27,
   "id": "cfc23f0f",
   "metadata": {},
   "outputs": [],
   "source": [
    "X_train_grade_bow = vect.transform(raw_documents=X_train['project_grade_category'].values)\n",
    "X_cv_grade_bow = vect.transform(raw_documents=X_cv['project_grade_category'].values)\n",
    "X_test_grade_bow = vect.transform(raw_documents=X_test['project_grade_category'].values)"
   ]
  },
  {
   "cell_type": "code",
   "execution_count": 28,
   "id": "067d5d0c",
   "metadata": {},
   "outputs": [
    {
     "name": "stdout",
     "output_type": "stream",
     "text": [
      "(2244, 4) (2244,)\n",
      "(1106, 4) (1106,)\n",
      "(1650, 4) (1650,)\n"
     ]
    }
   ],
   "source": [
    "print(X_train_grade_bow.shape, y_train.shape)\n",
    "print(X_cv_grade_bow.shape, y_cv.shape)\n",
    "print(X_test_grade_bow.shape, y_test.shape)"
   ]
  },
  {
   "cell_type": "code",
   "execution_count": 29,
   "id": "8d108e8b",
   "metadata": {
    "scrolled": true
   },
   "outputs": [
    {
     "name": "stdout",
     "output_type": "stream",
     "text": [
      "['grades_3_5' 'grades_6_8' 'grades_9_12' 'grades_prek_2']\n"
     ]
    }
   ],
   "source": [
    "print(vect.get_feature_names_out())"
   ]
  },
  {
   "cell_type": "markdown",
   "id": "2357dd73",
   "metadata": {},
   "source": [
    "Vectorizing `price`"
   ]
  },
  {
   "cell_type": "code",
   "execution_count": 30,
   "id": "77539aa1",
   "metadata": {},
   "outputs": [
    {
     "name": "stdout",
     "output_type": "stream",
     "text": [
      "[ 232.98 1098.98   83.97 ...  145.95  246.38  106.49]\n"
     ]
    }
   ],
   "source": [
    "print(X_train['price'].values)"
   ]
  },
  {
   "cell_type": "code",
   "execution_count": 31,
   "id": "2d3395cd",
   "metadata": {},
   "outputs": [
    {
     "name": "stdout",
     "output_type": "stream",
     "text": [
      "[[ 232.98]\n",
      " [1098.98]\n",
      " [  83.97]\n",
      " ...\n",
      " [ 145.95]\n",
      " [ 246.38]\n",
      " [ 106.49]]\n"
     ]
    }
   ],
   "source": [
    "print(X_train['price'].values.reshape(-1, 1))"
   ]
  },
  {
   "cell_type": "code",
   "execution_count": 32,
   "id": "475a9454",
   "metadata": {
    "scrolled": true
   },
   "outputs": [
    {
     "name": "stdout",
     "output_type": "stream",
     "text": [
      "[[ 232.98 1098.98   83.97 ...  145.95  246.38  106.49]]\n"
     ]
    }
   ],
   "source": [
    "print(X_train['price'].values.reshape(1, -1))"
   ]
  },
  {
   "cell_type": "code",
   "execution_count": 33,
   "id": "1281275d",
   "metadata": {},
   "outputs": [],
   "source": [
    "from sklearn.preprocessing import Normalizer"
   ]
  },
  {
   "cell_type": "code",
   "execution_count": 34,
   "id": "2325de41",
   "metadata": {},
   "outputs": [],
   "source": [
    "norm = Normalizer()\n",
    "try:\n",
    "    norm.fit(X=X_train['price'].values.reshape(1, 1))\n",
    "except:\n",
    "    pass"
   ]
  },
  {
   "cell_type": "code",
   "execution_count": 35,
   "id": "936d32d6",
   "metadata": {},
   "outputs": [],
   "source": [
    "X_train_price_norm = norm.transform(X=X_train['price'].values.reshape(1, -1)).reshape(-1, 1)\n",
    "X_cv_price_norm = norm.transform(X=X_cv['price'].values.reshape(1, -1)).reshape(-1, 1)\n",
    "X_test_price_norm = norm.transform(X=X_test['price'].values.reshape(1, -1)).reshape(-1, 1)"
   ]
  },
  {
   "cell_type": "code",
   "execution_count": 36,
   "id": "18ff6f26",
   "metadata": {},
   "outputs": [
    {
     "name": "stdout",
     "output_type": "stream",
     "text": [
      "[[0.01020572]\n",
      " [0.04814097]\n",
      " [0.00367832]\n",
      " ...\n",
      " [0.00639336]\n",
      " [0.01079271]\n",
      " [0.00466481]]\n",
      "[[0.01758651]\n",
      " [0.01308892]\n",
      " [0.00791715]\n",
      " ...\n",
      " [0.02119353]\n",
      " [0.03122004]\n",
      " [0.01314878]]\n",
      "[[0.00287438]\n",
      " [0.00536718]\n",
      " [0.02021175]\n",
      " ...\n",
      " [0.01337452]\n",
      " [0.05684231]\n",
      " [0.0180217 ]]\n"
     ]
    }
   ],
   "source": [
    "print(X_train_price_norm)\n",
    "print(X_cv_price_norm)\n",
    "print(X_test_price_norm)"
   ]
  },
  {
   "cell_type": "code",
   "execution_count": 37,
   "id": "6575a0a2",
   "metadata": {
    "scrolled": true
   },
   "outputs": [
    {
     "name": "stdout",
     "output_type": "stream",
     "text": [
      "(2244, 1) (2244,)\n",
      "(1106, 1) (1106,)\n",
      "(1650, 1) (1650,)\n"
     ]
    }
   ],
   "source": [
    "print(X_train_price_norm.shape, y_train.shape)\n",
    "print(X_cv_price_norm.shape, y_cv.shape)\n",
    "print(X_test_price_norm.shape, y_test.shape)"
   ]
  },
  {
   "cell_type": "markdown",
   "id": "4ba2dbce",
   "metadata": {},
   "source": [
    "#### Combine all the features"
   ]
  },
  {
   "cell_type": "code",
   "execution_count": 38,
   "id": "2468e90e",
   "metadata": {},
   "outputs": [],
   "source": [
    "from scipy.sparse import hstack"
   ]
  },
  {
   "cell_type": "code",
   "execution_count": 39,
   "id": "9e0dc3d3",
   "metadata": {},
   "outputs": [],
   "source": [
    "X_train_data = hstack(\n",
    "    blocks=(X_train_essay_bow,\n",
    "            X_train_state_bow,\n",
    "            X_train_teacher_bow,\n",
    "            X_train_grade_bow,\n",
    "            X_train_price_norm)).tocsr()\n",
    "X_cv_data = hstack(\n",
    "    blocks=(X_cv_essay_bow,\n",
    "            X_cv_state_bow,\n",
    "            X_cv_teacher_bow,\n",
    "            X_cv_grade_bow,\n",
    "            X_cv_price_norm)).tocsr()\n",
    "X_test_data = hstack(\n",
    "    blocks=(X_test_essay_bow,\n",
    "            X_test_state_bow,\n",
    "            X_test_teacher_bow,\n",
    "            X_test_grade_bow,\n",
    "            X_test_price_norm)).tocsr()"
   ]
  },
  {
   "cell_type": "code",
   "execution_count": 40,
   "id": "21256769",
   "metadata": {
    "scrolled": true
   },
   "outputs": [
    {
     "name": "stdout",
     "output_type": "stream",
     "text": [
      "(2244, 5059) (2244,)\n",
      "(1106, 5059) (1106,)\n",
      "(1650, 5059) (1650,)\n"
     ]
    }
   ],
   "source": [
    "print(X_train_data.shape, y_train.shape)\n",
    "print(X_cv_data.shape, y_cv.shape)\n",
    "print(X_test_data.shape, y_test.shape)"
   ]
  },
  {
   "cell_type": "markdown",
   "id": "c0bca486",
   "metadata": {},
   "source": [
    "#### Classification Solutions"
   ]
  },
  {
   "cell_type": "code",
   "execution_count": 41,
   "id": "2de3d5ec",
   "metadata": {},
   "outputs": [],
   "source": [
    "from sklearn.metrics import roc_curve, roc_auc_score, auc, confusion_matrix\n",
    "from sklearn.model_selection import GridSearchCV\n",
    "from sklearn.model_selection import RandomizedSearchCV\n",
    "from sklearn.neighbors import KNeighborsClassifier"
   ]
  },
  {
   "cell_type": "code",
   "execution_count": 42,
   "id": "bc6bb553",
   "metadata": {},
   "outputs": [],
   "source": [
    "def batch_proba_predict(clf, data, batch_size=1000):\n",
    "    \"\"\"\n",
    "    This function takes the input in batches and predicts the probability scores for positive class.\n",
    "    \"\"\"\n",
    "    y_data_pred_prob = list()\n",
    "    tr_loop = (data.shape[0] - (data.shape[0] % batch_size))\n",
    "    for i in range(0, tr_loop, batch_size):\n",
    "        y_data_pred_prob.extend(clf.predict_proba(X=data[i:i+batch_size])[:, 1])\n",
    "    if data.shape[0] % batch_size != 0:\n",
    "        y_data_pred_prob.extend(clf.predict_proba(X=data[tr_loop:])[:, 1])\n",
    "    return y_data_pred_prob"
   ]
  },
  {
   "cell_type": "markdown",
   "id": "f7bc1b40",
   "metadata": {},
   "source": [
    "#### Simple KNN"
   ]
  },
  {
   "cell_type": "code",
   "execution_count": 43,
   "id": "c5d46809",
   "metadata": {},
   "outputs": [],
   "source": [
    "def simple_knn(Ks, X_train_data, X_cv_data, y_train, y_cv):\n",
    "    \"\"\"\n",
    "    Implements KNN.\n",
    "    \"\"\"\n",
    "    train_auc = list()\n",
    "    cv_auc = list()\n",
    "\n",
    "    for k in tqdm(Ks):\n",
    "        clf = KNeighborsClassifier(n_neighbors=k, n_jobs=-1)\n",
    "        clf.fit(X=X_train_data, y=y_train)\n",
    "\n",
    "        y_train_pred_proba = batch_proba_predict(clf=clf, data=X_train_data)\n",
    "        y_cv_pred_proba = batch_proba_predict(clf=clf, data=X_cv_data)\n",
    "\n",
    "        train_auc.append(roc_auc_score(y_true=y_train, y_score=y_train_pred_proba))\n",
    "        cv_auc.append(roc_auc_score(y_true=y_cv, y_score=y_cv_pred_proba))\n",
    "\n",
    "    plt.figure(figsize=(12, 6))\n",
    "\n",
    "    plt.plot(Ks, train_auc, label='Train AUC')\n",
    "    plt.plot(Ks, cv_auc, label='CV AUC')\n",
    "\n",
    "    plt.scatter(Ks, train_auc, label='Train AUC Points')\n",
    "    plt.scatter(Ks, cv_auc, label='CV AUC Points')\n",
    "\n",
    "    plt.title(label='Hyperparameter vs AUC Plot')\n",
    "    plt.xlabel(xlabel='K: Hyperparameter')\n",
    "    plt.ylabel(ylabel='AUC')\n",
    "    plt.legend()\n",
    "    plt.show()"
   ]
  },
  {
   "cell_type": "code",
   "execution_count": 44,
   "id": "ab9bfa8e",
   "metadata": {},
   "outputs": [
    {
     "name": "stderr",
     "output_type": "stream",
     "text": [
      "100%|█████████████████████████████████████████████████████████████████████| 5/5 [00:01<00:00,  4.00it/s]\n"
     ]
    },
    {
     "data": {
      "image/png": "[encoded data removed]",
      "text/plain": [
       "<Figure size 864x432 with 1 Axes>"
      ]
     },
     "metadata": {},
     "output_type": "display_data"
    }
   ],
   "source": [
    "simple_knn(Ks=[3, 15, 25, 51, 101], X_train_data=X_train_data, X_cv_data=X_cv_data, y_train=y_train, y_cv=y_cv)"
   ]
  },
  {
   "cell_type": "markdown",
   "id": "a07d0be9",
   "metadata": {},
   "source": [
    "#### KNN GridSearchCV"
   ]
  },
  {
   "cell_type": "code",
   "execution_count": 45,
   "id": "8a5a329b",
   "metadata": {},
   "outputs": [
    {
     "data": {
      "image/png": "[encoded data removed]",
      "text/plain": [
       "<Figure size 864x432 with 1 Axes>"
      ]
     },
     "metadata": {},
     "output_type": "display_data"
    },
    {
     "data": {
      "text/html": [
       "<div>\n",
       "<style scoped>\n",
       "    .dataframe tbody tr th:only-of-type {\n",
       "        vertical-align: middle;\n",
       "    }\n",
       "\n",
       "    .dataframe tbody tr th {\n",
       "        vertical-align: top;\n",
       "    }\n",
       "\n",
       "    .dataframe thead th {\n",
       "        text-align: right;\n",
       "    }\n",
       "</style>\n",
       "<table border=\"1\" class=\"dataframe\">\n",
       "  <thead>\n",
       "    <tr style=\"text-align: right;\">\n",
       "      <th></th>\n",
       "      <th>mean_fit_time</th>\n",
       "      <th>std_fit_time</th>\n",
       "      <th>mean_score_time</th>\n",
       "      <th>std_score_time</th>\n",
       "      <th>param_n_neighbors</th>\n",
       "      <th>params</th>\n",
       "      <th>split0_test_score</th>\n",
       "      <th>split1_test_score</th>\n",
       "      <th>split2_test_score</th>\n",
       "      <th>mean_test_score</th>\n",
       "      <th>std_test_score</th>\n",
       "      <th>rank_test_score</th>\n",
       "      <th>split0_train_score</th>\n",
       "      <th>split1_train_score</th>\n",
       "      <th>split2_train_score</th>\n",
       "      <th>mean_train_score</th>\n",
       "      <th>std_train_score</th>\n",
       "    </tr>\n",
       "  </thead>\n",
       "  <tbody>\n",
       "    <tr>\n",
       "      <th>0</th>\n",
       "      <td>0.001828</td>\n",
       "      <td>0.000147</td>\n",
       "      <td>0.045274</td>\n",
       "      <td>0.000765</td>\n",
       "      <td>3</td>\n",
       "      <td>{'n_neighbors': 3}</td>\n",
       "      <td>0.522160</td>\n",
       "      <td>0.473256</td>\n",
       "      <td>0.495310</td>\n",
       "      <td>0.496909</td>\n",
       "      <td>0.019997</td>\n",
       "      <td>5</td>\n",
       "      <td>0.878278</td>\n",
       "      <td>0.899084</td>\n",
       "      <td>0.875469</td>\n",
       "      <td>0.884277</td>\n",
       "      <td>0.010533</td>\n",
       "    </tr>\n",
       "    <tr>\n",
       "      <th>1</th>\n",
       "      <td>0.001424</td>\n",
       "      <td>0.000076</td>\n",
       "      <td>0.048020</td>\n",
       "      <td>0.002139</td>\n",
       "      <td>15</td>\n",
       "      <td>{'n_neighbors': 15}</td>\n",
       "      <td>0.533912</td>\n",
       "      <td>0.531960</td>\n",
       "      <td>0.570539</td>\n",
       "      <td>0.545470</td>\n",
       "      <td>0.017744</td>\n",
       "      <td>2</td>\n",
       "      <td>0.736779</td>\n",
       "      <td>0.718692</td>\n",
       "      <td>0.738881</td>\n",
       "      <td>0.731451</td>\n",
       "      <td>0.009062</td>\n",
       "    </tr>\n",
       "    <tr>\n",
       "      <th>2</th>\n",
       "      <td>0.001363</td>\n",
       "      <td>0.000076</td>\n",
       "      <td>0.046603</td>\n",
       "      <td>0.002512</td>\n",
       "      <td>25</td>\n",
       "      <td>{'n_neighbors': 25}</td>\n",
       "      <td>0.549259</td>\n",
       "      <td>0.535177</td>\n",
       "      <td>0.555435</td>\n",
       "      <td>0.546624</td>\n",
       "      <td>0.008477</td>\n",
       "      <td>1</td>\n",
       "      <td>0.694408</td>\n",
       "      <td>0.679483</td>\n",
       "      <td>0.681817</td>\n",
       "      <td>0.685236</td>\n",
       "      <td>0.006555</td>\n",
       "    </tr>\n",
       "    <tr>\n",
       "      <th>3</th>\n",
       "      <td>0.001527</td>\n",
       "      <td>0.000211</td>\n",
       "      <td>0.048872</td>\n",
       "      <td>0.004651</td>\n",
       "      <td>51</td>\n",
       "      <td>{'n_neighbors': 51}</td>\n",
       "      <td>0.535610</td>\n",
       "      <td>0.509190</td>\n",
       "      <td>0.578389</td>\n",
       "      <td>0.541063</td>\n",
       "      <td>0.028512</td>\n",
       "      <td>3</td>\n",
       "      <td>0.645516</td>\n",
       "      <td>0.636230</td>\n",
       "      <td>0.660851</td>\n",
       "      <td>0.647532</td>\n",
       "      <td>0.010152</td>\n",
       "    </tr>\n",
       "    <tr>\n",
       "      <th>4</th>\n",
       "      <td>0.001406</td>\n",
       "      <td>0.000128</td>\n",
       "      <td>0.049933</td>\n",
       "      <td>0.004713</td>\n",
       "      <td>101</td>\n",
       "      <td>{'n_neighbors': 101}</td>\n",
       "      <td>0.535494</td>\n",
       "      <td>0.541026</td>\n",
       "      <td>0.539612</td>\n",
       "      <td>0.538711</td>\n",
       "      <td>0.002347</td>\n",
       "      <td>4</td>\n",
       "      <td>0.583192</td>\n",
       "      <td>0.588115</td>\n",
       "      <td>0.596923</td>\n",
       "      <td>0.589410</td>\n",
       "      <td>0.005680</td>\n",
       "    </tr>\n",
       "  </tbody>\n",
       "</table>\n",
       "</div>"
      ],
      "text/plain": [
       "   mean_fit_time  std_fit_time  mean_score_time  std_score_time  \\\n",
       "0       0.001828      0.000147         0.045274        0.000765   \n",
       "1       0.001424      0.000076         0.048020        0.002139   \n",
       "2       0.001363      0.000076         0.046603        0.002512   \n",
       "3       0.001527      0.000211         0.048872        0.004651   \n",
       "4       0.001406      0.000128         0.049933        0.004713   \n",
       "\n",
       "  param_n_neighbors                params  split0_test_score  \\\n",
       "0                 3    {'n_neighbors': 3}           0.522160   \n",
       "1                15   {'n_neighbors': 15}           0.533912   \n",
       "2                25   {'n_neighbors': 25}           0.549259   \n",
       "3                51   {'n_neighbors': 51}           0.535610   \n",
       "4               101  {'n_neighbors': 101}           0.535494   \n",
       "\n",
       "   split1_test_score  split2_test_score  mean_test_score  std_test_score  \\\n",
       "0           0.473256           0.495310         0.496909        0.019997   \n",
       "1           0.531960           0.570539         0.545470        0.017744   \n",
       "2           0.535177           0.555435         0.546624        0.008477   \n",
       "3           0.509190           0.578389         0.541063        0.028512   \n",
       "4           0.541026           0.539612         0.538711        0.002347   \n",
       "\n",
       "   rank_test_score  split0_train_score  split1_train_score  \\\n",
       "0                5            0.878278            0.899084   \n",
       "1                2            0.736779            0.718692   \n",
       "2                1            0.694408            0.679483   \n",
       "3                3            0.645516            0.636230   \n",
       "4                4            0.583192            0.588115   \n",
       "\n",
       "   split2_train_score  mean_train_score  std_train_score  \n",
       "0            0.875469          0.884277         0.010533  \n",
       "1            0.738881          0.731451         0.009062  \n",
       "2            0.681817          0.685236         0.006555  \n",
       "3            0.660851          0.647532         0.010152  \n",
       "4            0.596923          0.589410         0.005680  "
      ]
     },
     "metadata": {},
     "output_type": "display_data"
    }
   ],
   "source": [
    "knn_clf = KNeighborsClassifier(n_jobs=-1)\n",
    "parameters = {'n_neighbors' : [3, 15, 25, 51, 101]}\n",
    "\n",
    "clf = GridSearchCV(estimator=knn_clf, param_grid=parameters, cv=3, scoring='roc_auc', return_train_score=True)\n",
    "clf.fit(X=X_train_data, y=y_train)\n",
    "\n",
    "results = pd.DataFrame.from_dict(data=clf.cv_results_)\n",
    "results = results.sort_values(['param_n_neighbors'])\n",
    "\n",
    "train_auc = results['mean_train_score']\n",
    "train_auc_std = results['std_train_score']\n",
    "cv_auc = results['mean_test_score']\n",
    "cv_auc_std = results['std_test_score']\n",
    "Ks = results['param_n_neighbors']\n",
    "\n",
    "plt.figure(figsize=(12, 6))\n",
    "\n",
    "plt.plot(Ks, train_auc, label='Train AUC')\n",
    "plt.plot(Ks, cv_auc, label='CV AUC')\n",
    "\n",
    "plt.scatter(Ks, train_auc, label='Train AUC Points')\n",
    "plt.scatter(Ks, cv_auc, label='CV AUC Points')\n",
    "\n",
    "plt.title(label='Hyperparameter vs AUC Plot')\n",
    "plt.xlabel(xlabel='K: Hyperparameter')\n",
    "plt.ylabel(ylabel='AUC')\n",
    "plt.legend()\n",
    "plt.show()\n",
    "\n",
    "display(results)"
   ]
  },
  {
   "cell_type": "code",
   "execution_count": 46,
   "id": "e14d0b18",
   "metadata": {},
   "outputs": [],
   "source": [
    "def draw_auc(best_k, X_train_data, X_test_data, y_train, y_test, plot_it=True):\n",
    "    \"\"\"\n",
    "    Draws AUC.\n",
    "    \"\"\"    \n",
    "    knn_clf = KNeighborsClassifier(n_neighbors=best_k, n_jobs=-1)\n",
    "    knn_clf.fit(X=X_train_data, y=y_train)\n",
    "\n",
    "    y_train_pred_proba = batch_proba_predict(clf=knn_clf, data=X_train_data)\n",
    "    y_test_pred_proba = batch_proba_predict(clf=knn_clf, data=X_test_data)\n",
    "\n",
    "    train_fpr, train_tpr, train_taus = roc_curve(y_true=y_train, y_score=y_train_pred_proba)\n",
    "    test_fpr, test_tpr, test_taus = roc_curve(y_true=y_test, y_score=y_test_pred_proba)\n",
    "    \n",
    "    if plot_it:\n",
    "        tr_auc = round(auc(x=train_fpr, y=train_tpr), 3)\n",
    "        te_auc = round(auc(x=test_fpr, y=test_tpr), 3)\n",
    "        \n",
    "        plt.figure(figsize=(12, 6))\n",
    "\n",
    "        plt.plot(train_fpr, train_tpr, label='Train AUC = {}'.format(tr_auc))\n",
    "        plt.plot(test_fpr, test_tpr, label='Test AUC = {}'.format(te_auc))\n",
    "\n",
    "        plt.title(label='AUC')\n",
    "        plt.xlabel(xlabel='FPR')\n",
    "        plt.ylabel(ylabel='TPR')\n",
    "        plt.legend()\n",
    "        plt.show()\n",
    "    else:\n",
    "        return (y_train_pred_proba, y_test_pred_proba, train_taus, train_fpr, train_tpr)"
   ]
  },
  {
   "cell_type": "code",
   "execution_count": 47,
   "id": "e0f5bf48",
   "metadata": {},
   "outputs": [
    {
     "data": {
      "image/png": "[encoded data removed]",
      "text/plain": [
       "<Figure size 864x432 with 1 Axes>"
      ]
     },
     "metadata": {},
     "output_type": "display_data"
    }
   ],
   "source": [
    "draw_auc(best_k=101, X_train_data=X_train_data, X_test_data=X_test_data, y_train=y_train, y_test=y_test)"
   ]
  },
  {
   "cell_type": "code",
   "execution_count": 48,
   "id": "1a2891d0",
   "metadata": {},
   "outputs": [],
   "source": [
    "def find_best_tau(taus, fpr, tpr):\n",
    "    \"\"\"\n",
    "    The (tpr*(1-fpr)) will be maximum if fpr is very low and tpr is very high.\n",
    "    \"\"\"\n",
    "    tau = round(taus[np.argmax(a=tpr*(1-fpr))], 3)\n",
    "    tpr_1_fpr = round(max(tpr*(1-fpr)), 3)\n",
    "    print(\"The maximum value of tpr*(1-fpr) is {} for tau {}.\".format(tpr_1_fpr, tau))\n",
    "    return tau\n",
    "\n",
    "def predict_using_best_tau(proba, best_tau):\n",
    "    \"\"\"\n",
    "    This function predicts using best tau.\n",
    "    \"\"\"\n",
    "    predictions = list()\n",
    "    for i in proba:\n",
    "        if i >= best_tau:\n",
    "            predictions.append(1)\n",
    "        else:\n",
    "            predictions.append(0)\n",
    "    return predictions"
   ]
  },
  {
   "cell_type": "code",
   "execution_count": 49,
   "id": "fe8f9a33",
   "metadata": {},
   "outputs": [
    {
     "name": "stdout",
     "output_type": "stream",
     "text": [
      "The maximum value of tpr*(1-fpr) is 0.363 for tau 0.822.\n",
      "\n",
      "Train Confusion Matrix\n",
      "[[ 211   90]\n",
      " [1000  943]]\n",
      "\n",
      "Test Confusion Matrix\n",
      "[[143  78]\n",
      " [782 647]]\n"
     ]
    }
   ],
   "source": [
    "(y_train_pred_proba,\n",
    " y_test_pred_proba,\n",
    " train_taus,\n",
    " train_fpr,\n",
    " train_tpr) = draw_auc(best_k=101,\n",
    "                       X_train_data=X_train_data,\n",
    "                       X_test_data=X_test_data,\n",
    "                       y_train=y_train,\n",
    "                       y_test=y_test,\n",
    "                       plot_it=False)\n",
    "\n",
    "best_tau = find_best_tau(taus=train_taus, fpr=train_fpr, tpr=train_tpr)\n",
    "print(\"\\nTrain Confusion Matrix\")\n",
    "print(confusion_matrix(y_true=y_train,\n",
    "                       y_pred=predict_using_best_tau(proba=y_train_pred_proba,\n",
    "                                                     best_tau=best_tau)))\n",
    "print(\"\\nTest Confusion Matrix\")\n",
    "print(confusion_matrix(y_true=y_test,\n",
    "                       y_pred=predict_using_best_tau(proba=y_test_pred_proba,\n",
    "                                                     best_tau=best_tau)))"
   ]
  },
  {
   "cell_type": "markdown",
   "id": "0099bc0d",
   "metadata": {},
   "source": [
    "#### Applying W2V model for `essay`"
   ]
  },
  {
   "cell_type": "code",
   "execution_count": 50,
   "id": "3ff5334d",
   "metadata": {},
   "outputs": [],
   "source": [
    "import pickle"
   ]
  },
  {
   "cell_type": "code",
   "execution_count": 51,
   "id": "741cb72a",
   "metadata": {},
   "outputs": [],
   "source": [
    "with open(file='glove_vectors', mode='rb') as pkl:\n",
    "    model = pickle.load(pkl)\n",
    "    glove_words = set(model.keys())"
   ]
  },
  {
   "cell_type": "code",
   "execution_count": 52,
   "id": "5a1c8289",
   "metadata": {},
   "outputs": [],
   "source": [
    "def get_avg_w2v(data, dim=300):\n",
    "    \"\"\"\n",
    "    This function gets the average w2v of the given data.\n",
    "    \"\"\"\n",
    "    avg_w2v = list()\n",
    "    for sentence in tqdm(data):\n",
    "        vect = np.zeros(300)\n",
    "        count_ = 0\n",
    "        for word in sentence.split():\n",
    "            if word in glove_words:\n",
    "                vect += model[word]\n",
    "                count_ += 1\n",
    "        if count_ > 0:\n",
    "            vect /= count_\n",
    "        avg_w2v.append(vect)\n",
    "    return avg_w2v"
   ]
  },
  {
   "cell_type": "code",
   "execution_count": 53,
   "id": "412c3c7d",
   "metadata": {
    "scrolled": true
   },
   "outputs": [
    {
     "name": "stderr",
     "output_type": "stream",
     "text": [
      "100%|█████████████████████████████████████████████████████████████| 2244/2244 [00:00<00:00, 4597.32it/s]\n"
     ]
    }
   ],
   "source": [
    "avg_w2v_train = get_avg_w2v(data=X_train['essay'].values)"
   ]
  },
  {
   "cell_type": "code",
   "execution_count": 54,
   "id": "e126e462",
   "metadata": {},
   "outputs": [
    {
     "name": "stdout",
     "output_type": "stream",
     "text": [
      "2244\n",
      "300\n"
     ]
    }
   ],
   "source": [
    "print(len(avg_w2v_train))\n",
    "print(len(avg_w2v_train[0]))"
   ]
  },
  {
   "cell_type": "code",
   "execution_count": 55,
   "id": "23c86e29",
   "metadata": {},
   "outputs": [
    {
     "name": "stderr",
     "output_type": "stream",
     "text": [
      "100%|█████████████████████████████████████████████████████████████| 1106/1106 [00:00<00:00, 5763.36it/s]\n"
     ]
    }
   ],
   "source": [
    "avg_w2v_cv = get_avg_w2v(data=X_cv['essay'].values)"
   ]
  },
  {
   "cell_type": "code",
   "execution_count": 56,
   "id": "4d372870",
   "metadata": {},
   "outputs": [
    {
     "name": "stdout",
     "output_type": "stream",
     "text": [
      "1106\n",
      "300\n"
     ]
    }
   ],
   "source": [
    "print(len(avg_w2v_cv))\n",
    "print(len(avg_w2v_cv[0]))"
   ]
  },
  {
   "cell_type": "code",
   "execution_count": 57,
   "id": "87d0e69a",
   "metadata": {},
   "outputs": [
    {
     "name": "stderr",
     "output_type": "stream",
     "text": [
      "100%|█████████████████████████████████████████████████████████████| 1650/1650 [00:00<00:00, 5612.10it/s]\n"
     ]
    }
   ],
   "source": [
    "avg_w2v_test = get_avg_w2v(data=X_test['essay'].values)"
   ]
  },
  {
   "cell_type": "code",
   "execution_count": 58,
   "id": "f839f2eb",
   "metadata": {},
   "outputs": [
    {
     "name": "stdout",
     "output_type": "stream",
     "text": [
      "1650\n",
      "300\n"
     ]
    }
   ],
   "source": [
    "print(len(avg_w2v_test))\n",
    "print(len(avg_w2v_test[0]))"
   ]
  },
  {
   "cell_type": "code",
   "execution_count": 59,
   "id": "2f1eca32",
   "metadata": {},
   "outputs": [],
   "source": [
    "X_train_data = hstack(\n",
    "    blocks=(avg_w2v_train,\n",
    "            X_train_state_bow,\n",
    "            X_train_teacher_bow,\n",
    "            X_train_grade_bow,\n",
    "            X_train_price_norm)).tocsr()\n",
    "X_cv_data = hstack(\n",
    "    blocks=(avg_w2v_cv,\n",
    "            X_cv_state_bow,\n",
    "            X_cv_teacher_bow,\n",
    "            X_cv_grade_bow,\n",
    "            X_cv_price_norm)).tocsr()\n",
    "X_test_data = hstack(\n",
    "    blocks=(avg_w2v_test,\n",
    "            X_test_state_bow,\n",
    "            X_test_teacher_bow,\n",
    "            X_test_grade_bow,\n",
    "            X_test_price_norm)).tocsr()"
   ]
  },
  {
   "cell_type": "code",
   "execution_count": 60,
   "id": "edb8515a",
   "metadata": {},
   "outputs": [
    {
     "name": "stderr",
     "output_type": "stream",
     "text": [
      "100%|█████████████████████████████████████████████████████████████████████| 5/5 [00:05<00:00,  1.13s/it]\n"
     ]
    },
    {
     "data": {
      "image/png": "[encoded data removed]",
      "text/plain": [
       "<Figure size 864x432 with 1 Axes>"
      ]
     },
     "metadata": {},
     "output_type": "display_data"
    }
   ],
   "source": [
    "simple_knn(Ks=[3, 15, 25, 51, 101], X_train_data=X_train_data, X_cv_data=X_cv_data, y_train=y_train,y_cv=y_cv)"
   ]
  },
  {
   "cell_type": "code",
   "execution_count": 61,
   "id": "d40e97b5",
   "metadata": {},
   "outputs": [
    {
     "data": {
      "image/png": "[encoded data removed]",
      "text/plain": [
       "<Figure size 864x432 with 1 Axes>"
      ]
     },
     "metadata": {},
     "output_type": "display_data"
    }
   ],
   "source": [
    "draw_auc(best_k=101, X_train_data=X_train_data, X_test_data=X_test_data, y_train=y_train, y_test=y_test)"
   ]
  },
  {
   "cell_type": "code",
   "execution_count": 62,
   "id": "90388da8",
   "metadata": {},
   "outputs": [
    {
     "name": "stdout",
     "output_type": "stream",
     "text": [
      "The maximum value of tpr*(1-fpr) is 0.333 for tau 0.871.\n",
      "\n",
      "Train Confusion Matrix\n",
      "[[ 194  107]\n",
      " [ 938 1005]]\n",
      "\n",
      "Test Confusion Matrix\n",
      "[[128  93]\n",
      " [711 718]]\n"
     ]
    }
   ],
   "source": [
    "(y_train_pred_proba,\n",
    " y_test_pred_proba,\n",
    " train_taus,\n",
    " train_fpr,\n",
    " train_tpr) = draw_auc(best_k=101,\n",
    "                       X_train_data=X_train_data,\n",
    "                       X_test_data=X_test_data,\n",
    "                       y_train=y_train,\n",
    "                       y_test=y_test,\n",
    "                       plot_it=False)\n",
    "\n",
    "best_tau = find_best_tau(taus=train_taus, fpr=train_fpr, tpr=train_tpr)\n",
    "print(\"\\nTrain Confusion Matrix\")\n",
    "print(confusion_matrix(y_true=y_train,\n",
    "                       y_pred=predict_using_best_tau(proba=y_train_pred_proba,\n",
    "                                                     best_tau=best_tau)))\n",
    "print(\"\\nTest Confusion Matrix\")\n",
    "print(confusion_matrix(y_true=y_test,\n",
    "                       y_pred=predict_using_best_tau(proba=y_test_pred_proba,\n",
    "                                                     best_tau=best_tau)))"
   ]
  },
  {
   "cell_type": "markdown",
   "id": "d9dc75f0",
   "metadata": {},
   "source": [
    "End of the file."
   ]
  }
 ],
 "metadata": {
  "kernelspec": {
   "display_name": "Python 3 (ipykernel)",
   "language": "python",
   "name": "python3"
  },
  "language_info": {
   "codemirror_mode": {
    "name": "ipython",
    "version": 3
   },
   "file_extension": ".py",
   "mimetype": "text/x-python",
   "name": "python",
   "nbconvert_exporter": "python",
   "pygments_lexer": "ipython3",
   "version": "3.10.4"
  }
 },
 "nbformat": 4,
 "nbformat_minor": 5
}
