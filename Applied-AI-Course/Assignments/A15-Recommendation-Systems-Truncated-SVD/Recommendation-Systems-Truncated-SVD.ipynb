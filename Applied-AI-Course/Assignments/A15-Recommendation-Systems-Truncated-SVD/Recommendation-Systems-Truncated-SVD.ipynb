{
 "cells": [
  {
   "cell_type": "markdown",
   "metadata": {
    "id": "YeM0ZBWUVtXR"
   },
   "source": [
    "# <font color='red'>SGD Algorithm to predict movie ratings</font>"
   ]
  },
  {
   "cell_type": "markdown",
   "metadata": {
    "id": "M2vyJqSlmmjM"
   },
   "source": [
    "**There will be some functions that start with the word \"grader\" ex: grader_matrix(), grader_mean(), grader_dim() etc, you should not change those function definition.<br><br>Every Grader function has to return True.**"
   ]
  },
  {
   "cell_type": "markdown",
   "metadata": {
    "id": "AL6njTf8WBO0"
   },
   "source": [
    "<pre>\n",
    "1. Download the data from <a href='https://drive.google.com/open?id=1-1z7iDB52cB6_JpO7Dqa-eOYSs-mivpq'>here</a>.\n",
    "2. The data will be of this format, each data point is represented as a triplet of user_id, movie_id and rating.\n",
    "<table>\n",
    "<tr><th>user_id</th><th>movie_id</th><th>rating</th></tr>\n",
    "<tr><td>77</td><td>236</td><td>3</td></tr>\n",
    "<tr><td>471</td><td>208</td><td>5</td></tr>\n",
    "<tr><td>641</td><td>401</td><td>4</td></tr>\n",
    "<tr><td>31</td><td>298</td><td>4</td></tr>\n",
    "<tr><td>58</td><td>504</td><td>5</td></tr>\n",
    "<tr><td>235</td><td>727</td><td>5</td></tr>\n",
    "</table>"
   ]
  },
  {
   "cell_type": "markdown",
   "metadata": {
    "id": "73dhFsT0WSSB"
   },
   "source": [
    "## <font color='red'>Task 1</font>"
   ]
  },
  {
   "cell_type": "markdown",
   "metadata": {
    "id": "HY0frS6EWaEV"
   },
   "source": [
    "<font color='red'><b>Predict the rating for a given (user_id, movie_id) pair </b> </font>\n"
   ]
  },
  {
   "cell_type": "markdown",
   "metadata": {
    "id": "R-ISYxaVbT8L"
   },
   "source": [
    "Predicted rating $\\hat{y}_{ij}$ for user i, movied j pair is calcuated as $\\hat{y}_{ij} = \\mu + b_i + c_j + u_i^T v_j$ , here we will be finding the best values of $b_{i}$ and $c_{j}$ using SGD algorithm with the optimization problem for N users and M movies is defined as"
   ]
  },
  {
   "cell_type": "markdown",
   "metadata": {
    "id": "8Aj8SXeQWlZd"
   },
   "source": [
    "$$\n",
    "L = \\min_{ b, c, \\{ u_i \\}_{i=1}^N, \\{ v_j \\}_{j=1}^M}\n",
    "\\quad\n",
    "\\alpha \\Big(\n",
    "    \\sum_{j} \\sum_{k} v_{jk}^2 \n",
    "    + \\sum_{i} \\sum_{k} u_{ik}^2 \n",
    "    + \\sum_{i} b_i^2\n",
    "    + \\sum_{j} c_i^2\n",
    "    \\Big)\n",
    "+ \\sum_{i,j \\in \\mathcal{I}^{\\text{train}}}\n",
    "    (y_{ij} - \\mu - b_i - c_j - u_i^T v_j)^2\n",
    "$$"
   ]
  },
  {
   "cell_type": "markdown",
   "metadata": {
    "id": "2Q5bnWyZXrM7"
   },
   "source": [
    "<ul>\n",
    "<li><span class=\"math\">\\(\\mu\\)</span> : scalar mean rating</li>\n",
    "<li><span class=\"math\">\\(b_i\\)</span> : scalar bias term for user <span class=\"math\">\\(i\\)</span></li>\n",
    "<li><span class=\"math\">\\(c_j\\)</span> : scalar bias term for movie <span class=\"math\">\\(j\\)</span></li>\n",
    "<li><span class=\"math\">\\(u_i\\)</span> : K-dimensional vector for user <span class=\"math\">\\(i\\)</span></li>\n",
    "<li><span class=\"math\">\\(v_j\\)</span> : K-dimensional vector for movie <span class=\"math\">\\(j\\)</span></li>\n",
    "</ul>"
   ]
  },
  {
   "cell_type": "markdown",
   "metadata": {
    "id": "q1cf4CunbEr4"
   },
   "source": [
    "* We will be giving you some functions, please write code in that functions only.\n",
    "* After every function, we will be giving you expected output, please make sure that you get that output. "
   ]
  },
  {
   "cell_type": "markdown",
   "metadata": {
    "id": "ZWQyB5hfy3u7"
   },
   "source": [
    "1. Construct adjacency matrix with the given data, assuming its graph and the weight of each edge is the rating given by user to the movie.\n",
    "\n",
    "<img src='https://i.imgur.com/rmUCGMb.jpg' width=200>\n",
    "\n",
    "You can construct this matrix like $A[i][j]=r_{ij}$ here $i$ is user_id, $j$ is movie_id and $r_{ij}$ is rating given by user $i$ to the movie $j$.\n",
    "\n",
    "Hint : you can create adjacency matrix using <a href='https://docs.scipy.org/doc/scipy/reference/generated/scipy.sparse.csr_matrix.html'> csr_matrix</a>\n",
    "\n",
    "2. We will Apply SVD decomposition on the Adjaceny matrix <a href='https://stackoverflow.com/a/31528944/4084039'>link1</a>, <a href='https://machinelearningmastery.com/singular-value-decomposition-for-machine-learning/'> link2</a> and get three matrices $U, \\sum, V$ such that $U \\times \\sum \\times V^T = A$, <br> \n",
    "if $A$ is of dimensions $N \\times M$ then <br>\n",
    "$U$ is of $N \\times k$, <br>\n",
    "$\\sum$ is of $k \\times k$ and <br>\n",
    "$V$ is $M \\times k$ dimensions. <br>\n",
    "\n",
    "    * So the matrix $U$ can be represented as matrix representation of users, where each row $u_{i}$ represents a k-dimensional vector for a user\n",
    "\n",
    "    * So the matrix $V$ can be represented as matrix representation of movies, where each row $v_{j}$ represents a k-dimensional vector for a movie.\n",
    "3. Compute $\\mu$ , $\\mu$  represents the mean of all the rating given in the dataset.(write your code in <font color='blue'>def m_u()</font>)\n",
    "4. For each unique user initilize a bias value $B_{i}$ to zero, so if we have $N$ users $B$ will be a $N$ dimensional vector, the $i^{th}$ value of the $B$ will corresponds to the bias term for $i^{th}$ user (write your code in <font color='blue'>def initialize()</font>)\n",
    "\n",
    "5. For each unique movie initilize a bias value $C_{j}$ zero, so if we have $M$ movies $C$ will be a $M$ dimensional vector, the $j^{th}$ value of the $C$ will corresponds to the bias term for $j^{th}$ movie (write your code in <font color='blue'>def initialize()</font>)\n",
    "\n",
    "6. Compute dL/db_i (Write you code in <font color='blue'> def derivative_db()</font>)\n",
    "7. Compute dL/dc_j(write your code in <font color='blue'> def derivative_dc()</font>\n",
    "\n",
    "8. Print the mean squared error with predicted ratings.\n",
    "\n",
    "9. You can choose any learning rate and regularization term in the range $10^{-3}  \\text{ to } 10^2$.\n",
    "10. __Bonus__: Instead of using SVD decomposition you can learn the vectors $u_i$, $v_j$ with the help of SGD algo similar to $b_i$ and $c_j$."
   ]
  },
  {
   "cell_type": "code",
   "execution_count": 1,
   "metadata": {
    "id": "VlPVJoZ8JN4P"
   },
   "outputs": [],
   "source": [
    "import warnings\n",
    "warnings.filterwarnings('ignore')"
   ]
  },
  {
   "cell_type": "code",
   "execution_count": 2,
   "metadata": {},
   "outputs": [],
   "source": [
    "from IPython.display import display"
   ]
  },
  {
   "cell_type": "code",
   "execution_count": 3,
   "metadata": {},
   "outputs": [],
   "source": [
    "from matplotlib import pyplot as plt\n",
    "from matplotlib import style\n",
    "style.use(style='seaborn-deep')"
   ]
  },
  {
   "cell_type": "code",
   "execution_count": 4,
   "metadata": {
    "id": "Q2XrlYeuJOFq"
   },
   "outputs": [],
   "source": [
    "from sklearn.linear_model import SGDClassifier\n",
    "from sklearn.metrics import accuracy_score, auc, mean_squared_error, plot_confusion_matrix, roc_curve\n",
    "from sklearn.preprocessing import StandardScaler\n",
    "from sklearn.utils.extmath import randomized_svd"
   ]
  },
  {
   "cell_type": "code",
   "execution_count": 5,
   "metadata": {},
   "outputs": [],
   "source": [
    "from scipy.sparse import csr_matrix"
   ]
  },
  {
   "cell_type": "code",
   "execution_count": 6,
   "metadata": {},
   "outputs": [],
   "source": [
    "from tqdm import tqdm"
   ]
  },
  {
   "cell_type": "code",
   "execution_count": 7,
   "metadata": {},
   "outputs": [],
   "source": [
    "import numpy as np\n",
    "import pandas as pd"
   ]
  },
  {
   "cell_type": "markdown",
   "metadata": {
    "id": "iVJo-3njBQLf"
   },
   "source": [
    "<font color='red'> Reading the csv file </font>"
   ]
  },
  {
   "cell_type": "code",
   "execution_count": 8,
   "metadata": {
    "colab": {
     "base_uri": "https://localhost:8080/",
     "height": 195
    },
    "id": "hEhmfRD637EW",
    "outputId": "07189bd2-eb44-43c7-f225-022cc41d0ee6"
   },
   "outputs": [
    {
     "data": {
      "text/html": [
       "<div>\n",
       "<style scoped>\n",
       "    .dataframe tbody tr th:only-of-type {\n",
       "        vertical-align: middle;\n",
       "    }\n",
       "\n",
       "    .dataframe tbody tr th {\n",
       "        vertical-align: top;\n",
       "    }\n",
       "\n",
       "    .dataframe thead th {\n",
       "        text-align: right;\n",
       "    }\n",
       "</style>\n",
       "<table border=\"1\" class=\"dataframe\">\n",
       "  <thead>\n",
       "    <tr style=\"text-align: right;\">\n",
       "      <th></th>\n",
       "      <th>user_id</th>\n",
       "      <th>item_id</th>\n",
       "      <th>rating</th>\n",
       "    </tr>\n",
       "  </thead>\n",
       "  <tbody>\n",
       "    <tr>\n",
       "      <th>0</th>\n",
       "      <td>772</td>\n",
       "      <td>36</td>\n",
       "      <td>3</td>\n",
       "    </tr>\n",
       "    <tr>\n",
       "      <th>1</th>\n",
       "      <td>471</td>\n",
       "      <td>228</td>\n",
       "      <td>5</td>\n",
       "    </tr>\n",
       "    <tr>\n",
       "      <th>2</th>\n",
       "      <td>641</td>\n",
       "      <td>401</td>\n",
       "      <td>4</td>\n",
       "    </tr>\n",
       "    <tr>\n",
       "      <th>3</th>\n",
       "      <td>312</td>\n",
       "      <td>98</td>\n",
       "      <td>4</td>\n",
       "    </tr>\n",
       "    <tr>\n",
       "      <th>4</th>\n",
       "      <td>58</td>\n",
       "      <td>504</td>\n",
       "      <td>5</td>\n",
       "    </tr>\n",
       "  </tbody>\n",
       "</table>\n",
       "</div>"
      ],
      "text/plain": [
       "   user_id  item_id  rating\n",
       "0      772       36       3\n",
       "1      471      228       5\n",
       "2      641      401       4\n",
       "3      312       98       4\n",
       "4       58      504       5"
      ]
     },
     "metadata": {},
     "output_type": "display_data"
    },
    {
     "data": {
      "text/plain": [
       "(89992, 3)"
      ]
     },
     "metadata": {},
     "output_type": "display_data"
    },
    {
     "data": {
      "text/html": [
       "<div>\n",
       "<style scoped>\n",
       "    .dataframe tbody tr th:only-of-type {\n",
       "        vertical-align: middle;\n",
       "    }\n",
       "\n",
       "    .dataframe tbody tr th {\n",
       "        vertical-align: top;\n",
       "    }\n",
       "\n",
       "    .dataframe thead th {\n",
       "        text-align: right;\n",
       "    }\n",
       "</style>\n",
       "<table border=\"1\" class=\"dataframe\">\n",
       "  <thead>\n",
       "    <tr style=\"text-align: right;\">\n",
       "      <th></th>\n",
       "      <th>user_id</th>\n",
       "      <th>item_id</th>\n",
       "      <th>rating</th>\n",
       "    </tr>\n",
       "  </thead>\n",
       "  <tbody>\n",
       "    <tr>\n",
       "      <th>count</th>\n",
       "      <td>89992.000000</td>\n",
       "      <td>89992.000000</td>\n",
       "      <td>89992.000000</td>\n",
       "    </tr>\n",
       "    <tr>\n",
       "      <th>mean</th>\n",
       "      <td>461.579151</td>\n",
       "      <td>423.584663</td>\n",
       "      <td>3.529480</td>\n",
       "    </tr>\n",
       "    <tr>\n",
       "      <th>std</th>\n",
       "      <td>266.720677</td>\n",
       "      <td>330.264625</td>\n",
       "      <td>1.125686</td>\n",
       "    </tr>\n",
       "    <tr>\n",
       "      <th>min</th>\n",
       "      <td>0.000000</td>\n",
       "      <td>0.000000</td>\n",
       "      <td>1.000000</td>\n",
       "    </tr>\n",
       "    <tr>\n",
       "      <th>25%</th>\n",
       "      <td>253.000000</td>\n",
       "      <td>173.000000</td>\n",
       "      <td>3.000000</td>\n",
       "    </tr>\n",
       "    <tr>\n",
       "      <th>50%</th>\n",
       "      <td>446.000000</td>\n",
       "      <td>319.000000</td>\n",
       "      <td>4.000000</td>\n",
       "    </tr>\n",
       "    <tr>\n",
       "      <th>75%</th>\n",
       "      <td>681.000000</td>\n",
       "      <td>629.000000</td>\n",
       "      <td>4.000000</td>\n",
       "    </tr>\n",
       "    <tr>\n",
       "      <th>max</th>\n",
       "      <td>942.000000</td>\n",
       "      <td>1680.000000</td>\n",
       "      <td>5.000000</td>\n",
       "    </tr>\n",
       "  </tbody>\n",
       "</table>\n",
       "</div>"
      ],
      "text/plain": [
       "            user_id       item_id        rating\n",
       "count  89992.000000  89992.000000  89992.000000\n",
       "mean     461.579151    423.584663      3.529480\n",
       "std      266.720677    330.264625      1.125686\n",
       "min        0.000000      0.000000      1.000000\n",
       "25%      253.000000    173.000000      3.000000\n",
       "50%      446.000000    319.000000      4.000000\n",
       "75%      681.000000    629.000000      4.000000\n",
       "max      942.000000   1680.000000      5.000000"
      ]
     },
     "metadata": {},
     "output_type": "display_data"
    }
   ],
   "source": [
    "data = pd.read_csv(filepath_or_buffer='ratings_train.csv')\n",
    "display(data.head())\n",
    "display(data.shape)\n",
    "display(data.describe())"
   ]
  },
  {
   "cell_type": "markdown",
   "metadata": {
    "id": "mvB8SDS_hW03"
   },
   "source": [
    "<font color='red'>Create your adjacency matrix </font>"
   ]
  },
  {
   "cell_type": "code",
   "execution_count": 9,
   "metadata": {},
   "outputs": [],
   "source": [
    "rows = data['user_id'].values\n",
    "cols = data['item_id'].values\n",
    "rates = data['rating'].values"
   ]
  },
  {
   "cell_type": "code",
   "execution_count": 10,
   "metadata": {
    "id": "t44MNT40hZQW"
   },
   "outputs": [],
   "source": [
    "adjacency_matrix = csr_matrix(arg1=(rates, (rows, cols)))"
   ]
  },
  {
   "cell_type": "code",
   "execution_count": 11,
   "metadata": {
    "id": "-mCgC0WbhZTO"
   },
   "outputs": [
    {
     "data": {
      "text/plain": [
       "(943, 1681)"
      ]
     },
     "metadata": {},
     "output_type": "display_data"
    }
   ],
   "source": [
    "display(adjacency_matrix.shape)"
   ]
  },
  {
   "cell_type": "markdown",
   "metadata": {
    "id": "4acJD4ujEtD6"
   },
   "source": [
    "<font color='cyan'>Grader function - 1</font>"
   ]
  },
  {
   "cell_type": "code",
   "execution_count": 12,
   "metadata": {
    "id": "2QuTzFBREsDV"
   },
   "outputs": [
    {
     "data": {
      "text/plain": [
       "True"
      ]
     },
     "execution_count": 12,
     "metadata": {},
     "output_type": "execute_result"
    }
   ],
   "source": [
    "def grader_matrix(matrix):\n",
    "    assert(matrix.shape == (943, 1681))\n",
    "    return True\n",
    "\n",
    "grader_matrix(matrix=adjacency_matrix)"
   ]
  },
  {
   "cell_type": "markdown",
   "metadata": {
    "id": "U7VwkRNeHpWE"
   },
   "source": [
    "The unique items in the given csv file are 1662 only . But the id's vary from 0-1681 but they are not continuous and hence \n",
    "you'll get matrix of size 943x1681."
   ]
  },
  {
   "cell_type": "markdown",
   "metadata": {
    "id": "gXDf1RCUBsYN"
   },
   "source": [
    "<font color='red'> SVD decompostion</font>"
   ]
  },
  {
   "cell_type": "markdown",
   "metadata": {
    "id": "OJPWI9VwD_ih"
   },
   "source": [
    "Sample code for SVD decompostion"
   ]
  },
  {
   "cell_type": "code",
   "execution_count": 13,
   "metadata": {
    "colab": {
     "base_uri": "https://localhost:8080/",
     "height": 67
    },
    "id": "GATD35bmBszc",
    "outputId": "b3f57c71-7ce6-4796-ab6c-e7af570a864c"
   },
   "outputs": [
    {
     "name": "stdout",
     "output_type": "stream",
     "text": [
      "(20, 5)\n",
      "(5,)\n",
      "(10, 5)\n"
     ]
    }
   ],
   "source": [
    "matrix = np.random.random(size=(20, 10))\n",
    "U, Sigma, VT = randomized_svd(M=matrix, n_components=5, n_iter=5, random_state=None)\n",
    "print(U.shape)\n",
    "print(Sigma.shape)\n",
    "print(VT.T.shape)"
   ]
  },
  {
   "cell_type": "markdown",
   "metadata": {
    "id": "ePDgwALQEJoB"
   },
   "source": [
    "<font color='red'>Write your code for SVD decompostion</font>"
   ]
  },
  {
   "cell_type": "code",
   "execution_count": 14,
   "metadata": {
    "id": "ZYnsKBmFEIg3"
   },
   "outputs": [
    {
     "name": "stdout",
     "output_type": "stream",
     "text": [
      "(943, 10)\n",
      "(10,)\n",
      "(1681, 10)\n"
     ]
    }
   ],
   "source": [
    "# Please use adjacency_matrix as matrix for SVD decompostion.\n",
    "# You can choose n_components as your choice.\n",
    "\n",
    "U, Sigma, VT = randomized_svd(M=adjacency_matrix, n_components=10, n_iter=10, random_state=None)\n",
    "print(U.shape)\n",
    "print(Sigma.shape)\n",
    "print(VT.T.shape)"
   ]
  },
  {
   "cell_type": "markdown",
   "metadata": {
    "id": "83Vh4NoO_JyU"
   },
   "source": [
    "<font color='red'>Compute mean of ratings</font>"
   ]
  },
  {
   "cell_type": "code",
   "execution_count": 15,
   "metadata": {
    "id": "cBHuCn2QSEnl"
   },
   "outputs": [],
   "source": [
    "def m_u(ratings):\n",
    "    \"\"\"\n",
    "    In this function, we will compute mean for all the ratings.\n",
    "    \"\"\"\n",
    "    return ratings.mean()"
   ]
  },
  {
   "cell_type": "code",
   "execution_count": 16,
   "metadata": {
    "id": "iu1nn-1x3ebp"
   },
   "outputs": [
    {
     "name": "stdout",
     "output_type": "stream",
     "text": [
      "3.529480398257623\n"
     ]
    }
   ],
   "source": [
    "mu = m_u(ratings=data['rating'])\n",
    "print(mu)"
   ]
  },
  {
   "cell_type": "markdown",
   "metadata": {
    "id": "76ooYQIdG_tf"
   },
   "source": [
    "<font color='cyan'>Grader function - 2</font>"
   ]
  },
  {
   "cell_type": "code",
   "execution_count": 17,
   "metadata": {
    "id": "TZy1m67oG9r9"
   },
   "outputs": [
    {
     "data": {
      "text/plain": [
       "True"
      ]
     },
     "execution_count": 17,
     "metadata": {},
     "output_type": "execute_result"
    }
   ],
   "source": [
    "def grader_mean(mu):\n",
    "    assert(np.round(mu, 3) == 3.529)\n",
    "    return True\n",
    "mu = m_u(ratings=data['rating'])\n",
    "grader_mean(mu)"
   ]
  },
  {
   "cell_type": "markdown",
   "metadata": {
    "id": "qSvAW1X94g3G"
   },
   "source": [
    "<font color='red'>Initialize $B_{i}$ and $C_{j}$"
   ]
  },
  {
   "cell_type": "markdown",
   "metadata": {
    "id": "qsOl-4xq5aUG"
   },
   "source": [
    "Hint : Number of rows of adjacent matrix corresponds to user dimensions($B_{i}$), number of columns of adjacent matrix corresponds to movie dimensions ($C_{j}$)"
   ]
  },
  {
   "cell_type": "code",
   "execution_count": 18,
   "metadata": {
    "id": "AyEJqPka4lBW"
   },
   "outputs": [],
   "source": [
    "def initialize(dim):\n",
    "    \"\"\"\n",
    "    In this function, we will initialize bias value 'B' and 'C'.\n",
    "    \"\"\"\n",
    "    return np.zeros(shape=dim)"
   ]
  },
  {
   "cell_type": "code",
   "execution_count": 19,
   "metadata": {
    "id": "Nlae9QAQ43Xz"
   },
   "outputs": [],
   "source": [
    "b = initialize(dim=adjacency_matrix.shape[0])"
   ]
  },
  {
   "cell_type": "code",
   "execution_count": 20,
   "metadata": {
    "id": "rwuopn4HoEbP"
   },
   "outputs": [],
   "source": [
    "c = initialize(dim=adjacency_matrix.shape[1])"
   ]
  },
  {
   "cell_type": "markdown",
   "metadata": {
    "id": "nfPJ3_h6JIkI"
   },
   "source": [
    "<font color='cyan'>Grader function - 3</font>"
   ]
  },
  {
   "cell_type": "code",
   "execution_count": 21,
   "metadata": {
    "id": "dQhiNjw0Hz4m"
   },
   "outputs": [
    {
     "data": {
      "text/plain": [
       "True"
      ]
     },
     "execution_count": 21,
     "metadata": {},
     "output_type": "execute_result"
    }
   ],
   "source": [
    "def grader_dim(b, c):\n",
    "    assert(len(b) == 943 and np.sum(b) == 0)\n",
    "    assert(len(c) == 1681 and np.sum(c) == 0)\n",
    "    return True\n",
    "grader_dim(b=b, c=c)"
   ]
  },
  {
   "cell_type": "markdown",
   "metadata": {},
   "source": [
    "__My solution for derivative of optimization function__\n",
    "\n",
    "![](https://user-images.githubusercontent.com/63338657/192339507-c6d6b03f-cf64-4386-a50e-338d0541da32.jpg)"
   ]
  },
  {
   "cell_type": "markdown",
   "metadata": {
    "id": "DTDK4ZR18MrZ"
   },
   "source": [
    "<font color='red'>Compute dL/db_i</font>"
   ]
  },
  {
   "cell_type": "code",
   "execution_count": 22,
   "metadata": {
    "id": "3NFzVC1N8S4L"
   },
   "outputs": [],
   "source": [
    "def derivative_db(i, j, y, b, c, U, V, mu, alpha):\n",
    "    \"\"\"\n",
    "    In this function, we will compute dL/db_i.\n",
    "    \"\"\"\n",
    "    dLdb = (alpha * (2 * b[i])) - (2 * (y - mu - b[i] - c[j] - np.dot(a=U[i], b=V.T[j])))\n",
    "    return dLdb"
   ]
  },
  {
   "cell_type": "markdown",
   "metadata": {
    "id": "ilISrTeQ0f0v"
   },
   "source": [
    "<font color='cyan'>Grader function - 4 </font>"
   ]
  },
  {
   "cell_type": "code",
   "execution_count": 23,
   "metadata": {
    "id": "Wt5ixEVZ043U"
   },
   "outputs": [
    {
     "data": {
      "text/plain": [
       "True"
      ]
     },
     "execution_count": 23,
     "metadata": {},
     "output_type": "execute_result"
    }
   ],
   "source": [
    "def grader_db(value):\n",
    "    assert(np.round(value, 3) == -0.931)\n",
    "    return True\n",
    "\n",
    "U1, Sigma, V1 = randomized_svd(M=adjacency_matrix, n_components=2, n_iter=5, random_state=24)\n",
    "# Please don't change random state.\n",
    "# Here we are considering n_componets = 2 for our convinence.\n",
    "\n",
    "alpha = 0.01 \n",
    "value = derivative_db(i=312, j=98, y=4, b=b, c=c, U=U1, V=V1, mu=mu, alpha=alpha)\n",
    "grader_db(value=value)"
   ]
  },
  {
   "cell_type": "markdown",
   "metadata": {
    "id": "1Kp0hC_b9v60"
   },
   "source": [
    "<font color='red'>Compute dL/dc_j</font>"
   ]
  },
  {
   "cell_type": "code",
   "execution_count": 24,
   "metadata": {
    "id": "FAtSYMrc9UqJ"
   },
   "outputs": [],
   "source": [
    "def derivative_dc(i, j, y, b, c, U, V, mu, alpha):\n",
    "    \"\"\"\n",
    "    In this function, we will compute dL/dc_j.\n",
    "    \"\"\"\n",
    "    dLdc = (alpha * (2 * c[j])) - (2 * (y - mu - b[i] - c[j] - np.dot(a=U[i], b=V.T[j])))\n",
    "    return dLdc"
   ]
  },
  {
   "cell_type": "markdown",
   "metadata": {
    "id": "lxkAm8aH1SBF"
   },
   "source": [
    "<font color='cyan'>Grader function - 5</font>"
   ]
  },
  {
   "cell_type": "code",
   "execution_count": 25,
   "metadata": {
    "id": "RaIN9yie1US8"
   },
   "outputs": [
    {
     "data": {
      "text/plain": [
       "True"
      ]
     },
     "execution_count": 25,
     "metadata": {},
     "output_type": "execute_result"
    }
   ],
   "source": [
    "def grader_dc(value):\n",
    "    assert(np.round(value, 3) == -2.929)\n",
    "    return True\n",
    "\n",
    "U1, Sigma, V1 = randomized_svd(adjacency_matrix, n_components=2,n_iter=5, random_state=24)\n",
    "# Please don't change random state.\n",
    "# Here we are considering n_componets = 2 for our convinence.\n",
    "\n",
    "alpha = 0.01 \n",
    "value = derivative_dc(i=58, j=504, y=5, b=b, c=c, U=U1, V=V1, mu=mu, alpha=alpha)\n",
    "grader_dc(value=value)"
   ]
  },
  {
   "cell_type": "markdown",
   "metadata": {
    "id": "lg5XNbDWCIKI"
   },
   "source": [
    "<font color='red'>Compute MSE (mean squared error) for predicted ratings</font>\n"
   ]
  },
  {
   "cell_type": "markdown",
   "metadata": {
    "id": "7WUjNy0TDQX6"
   },
   "source": [
    "For each epoch, print the MSE value."
   ]
  },
  {
   "cell_type": "markdown",
   "metadata": {
    "id": "D2pCy1AKCafw"
   },
   "source": [
    "<pre>\n",
    "for each epoch:\n",
    "    for each pair of (user, movie):\n",
    "        b_i =  b_i - learning_rate * dL/db_i\n",
    "        c_j =  c_j - learning_rate * dL/dc_j\n",
    "predict the ratings with formula\n",
    "</pre>"
   ]
  },
  {
   "cell_type": "markdown",
   "metadata": {},
   "source": [
    "$\\hat{y}_{ij} = \\mu + b_i + c_j + \\text{dot_product}(u_i, v_j)$"
   ]
  },
  {
   "cell_type": "code",
   "execution_count": 26,
   "metadata": {},
   "outputs": [],
   "source": [
    "def compute_MSE(adj_mat, user_ids, item_ids, ratings, U, V, mu, learning_rate, alpha, epochs):\n",
    "    \"\"\"\n",
    "    This function computes the MSE.\n",
    "    \"\"\"\n",
    "    dim_b, dim_c = adj_mat.shape\n",
    "    b = initialize(dim=dim_b)\n",
    "    c = initialize(dim=dim_c)\n",
    "    \n",
    "    mse_list = list()\n",
    "    epoch_list = list(range(1, epochs+1))\n",
    "    \n",
    "    for epoch in epoch_list:\n",
    "        for (i, j, y) in zip(user_ids, item_ids, ratings):\n",
    "            dLdb = derivative_db(i=i, j=j, y=y, b=b, c=c, U=U, V=V, mu=mu, alpha=alpha)\n",
    "            dLdc = derivative_dc(i=i, j=j, y=y, b=b, c=c, U=U, V=V, mu=mu, alpha=alpha)\n",
    "            b[i] = b[i] - learning_rate * dLdb # Updating the user biases.\n",
    "            c[j] = c[j] - learning_rate * dLdc # Updating the item biases.\n",
    "        \n",
    "        ratings_hat = list()\n",
    "        for (i, j) in zip(user_ids, item_ids):\n",
    "            y_hat = mu + b[i] + c[j] + np.dot(a=U[i], b=V.T[j])\n",
    "            ratings_hat.append(y_hat)\n",
    "        \n",
    "        mse = mean_squared_error(y_true=ratings, y_pred=ratings_hat)\n",
    "        mse_list.append(mse)\n",
    "        print(\"Epoch: {} and MSE: {}.\".format(epoch, mse))\n",
    "    \n",
    "    return epoch_list, mse_list"
   ]
  },
  {
   "cell_type": "code",
   "execution_count": 27,
   "metadata": {
    "id": "igkkO3EvVRt6"
   },
   "outputs": [
    {
     "name": "stdout",
     "output_type": "stream",
     "text": [
      "Epoch: 1 and MSE: 1.0777083774495166.\n",
      "Epoch: 2 and MSE: 1.0038592524986305.\n",
      "Epoch: 3 and MSE: 0.964667655650658.\n",
      "Epoch: 4 and MSE: 0.9402173804898271.\n",
      "Epoch: 5 and MSE: 0.9233459478657735.\n",
      "Epoch: 6 and MSE: 0.9108891797191738.\n",
      "Epoch: 7 and MSE: 0.9012456508199451.\n",
      "Epoch: 8 and MSE: 0.8935200937095401.\n",
      "Epoch: 9 and MSE: 0.887171768335053.\n",
      "Epoch: 10 and MSE: 0.8818531407126377.\n",
      "Epoch: 11 and MSE: 0.877329231286404.\n",
      "Epoch: 12 and MSE: 0.8734343866680405.\n",
      "Epoch: 13 and MSE: 0.8700477190052865.\n",
      "Epoch: 14 and MSE: 0.8670784375174175.\n",
      "Epoch: 15 and MSE: 0.8644567002240754.\n",
      "Epoch: 16 and MSE: 0.8621276880717818.\n",
      "Epoch: 17 and MSE: 0.8600476362829805.\n",
      "Epoch: 18 and MSE: 0.858181097125644.\n",
      "Epoch: 19 and MSE: 0.8564990022236691.\n",
      "Epoch: 20 and MSE: 0.8549772588607925.\n",
      "Epoch: 21 and MSE: 0.8535957121061695.\n",
      "Epoch: 22 and MSE: 0.8523373633678522.\n",
      "Epoch: 23 and MSE: 0.8511877724592224.\n",
      "Epoch: 24 and MSE: 0.8501345934832705.\n",
      "Epoch: 25 and MSE: 0.8491672099665996.\n",
      "Epoch: 26 and MSE: 0.84827644474255.\n",
      "Epoch: 27 and MSE: 0.8474543269167688.\n",
      "Epoch: 28 and MSE: 0.8466939029732978.\n",
      "Epoch: 29 and MSE: 0.8459890824018711.\n",
      "Epoch: 30 and MSE: 0.8453345106010314.\n",
      "Epoch: 31 and MSE: 0.8447254635329215.\n",
      "Epoch: 32 and MSE: 0.8441577598708201.\n",
      "Epoch: 33 and MSE: 0.8436276873223736.\n",
      "Epoch: 34 and MSE: 0.8431319405209111.\n",
      "Epoch: 35 and MSE: 0.8426675684174503.\n",
      "Epoch: 36 and MSE: 0.8422319295214705.\n",
      "Epoch: 37 and MSE: 0.8418226536610467.\n",
      "Epoch: 38 and MSE: 0.8414376091854235.\n",
      "Epoch: 39 and MSE: 0.8410748747323351.\n",
      "Epoch: 40 and MSE: 0.8407327148407141.\n",
      "Epoch: 41 and MSE: 0.8404095588161303.\n",
      "Epoch: 42 and MSE: 0.840103982358286.\n",
      "Epoch: 43 and MSE: 0.8398146915425002.\n",
      "Epoch: 44 and MSE: 0.8395405088143442.\n",
      "Epoch: 45 and MSE: 0.8392803607116004.\n",
      "Epoch: 46 and MSE: 0.8390332670729443.\n",
      "Epoch: 47 and MSE: 0.8387983315300765.\n",
      "Epoch: 48 and MSE: 0.8385747331109885.\n",
      "Epoch: 49 and MSE: 0.8383617188078071.\n",
      "Epoch: 50 and MSE: 0.83815859698419.\n"
     ]
    }
   ],
   "source": [
    "epoch_list, mse_list = compute_MSE(adj_mat=adjacency_matrix,\n",
    "                                   user_ids=rows,\n",
    "                                   item_ids=cols,\n",
    "                                   ratings=rates,\n",
    "                                   U=U,\n",
    "                                   V=VT,\n",
    "                                   mu=mu,\n",
    "                                   learning_rate=0.001,\n",
    "                                   alpha=0.01,\n",
    "                                   epochs=50)"
   ]
  },
  {
   "cell_type": "markdown",
   "metadata": {
    "id": "hTXYZFFUVSg5"
   },
   "source": [
    "<font color='red'>Plot epoch number vs MSE </font>\n",
    "* Epoch number on X-axis\n",
    "* MSE on Y-axis"
   ]
  },
  {
   "cell_type": "code",
   "execution_count": 28,
   "metadata": {},
   "outputs": [
    {
     "data": {
      "image/png": "[encoded data removed]",
      "text/plain": [
       "<Figure size 1080x720 with 1 Axes>"
      ]
     },
     "metadata": {
      "needs_background": "light"
     },
     "output_type": "display_data"
    }
   ],
   "source": [
    "plt.figure(figsize=(15, 10))\n",
    "plt.plot(epoch_list, mse_list, 'o--')\n",
    "plt.title(label='Epoch Vs MSE')\n",
    "plt.xlabel(xlabel='Epochs')\n",
    "plt.ylabel(ylabel='MSE')\n",
    "plt.grid()\n",
    "plt.show()"
   ]
  },
  {
   "cell_type": "markdown",
   "metadata": {
    "id": "NeWAGkT6C9kq"
   },
   "source": [
    "<br>"
   ]
  },
  {
   "cell_type": "markdown",
   "metadata": {
    "id": "lkIQOOo1C9o7"
   },
   "source": [
    "## <font color='red'> Task 2</font>"
   ]
  },
  {
   "cell_type": "markdown",
   "metadata": {
    "id": "9kl4Ryi_7E_T"
   },
   "source": [
    "- For this task you have to consider the user_matrix U and the user_info.csv file.\n",
    "- You have to consider is_male columns as  output features and rest as input features. Now you have to fit a model by posing this problem as binary classification task.\n",
    "- You can apply any model like Logistic regression or Decision tree and check the performance of the model. \n",
    "- Do plot confusion matrix after fitting your model and write your observations how your model is performing in this task.\n",
    "- Optional work- You can try scaling your U matrix. Scaling means changing the values of n_components while performing svd\n",
    "  and then check your results."
   ]
  },
  {
   "cell_type": "code",
   "execution_count": 29,
   "metadata": {
    "id": "c1FTc39gDdti"
   },
   "outputs": [
    {
     "data": {
      "text/plain": [
       "(943, 4)"
      ]
     },
     "metadata": {},
     "output_type": "display_data"
    },
    {
     "data": {
      "text/html": [
       "<div>\n",
       "<style scoped>\n",
       "    .dataframe tbody tr th:only-of-type {\n",
       "        vertical-align: middle;\n",
       "    }\n",
       "\n",
       "    .dataframe tbody tr th {\n",
       "        vertical-align: top;\n",
       "    }\n",
       "\n",
       "    .dataframe thead th {\n",
       "        text-align: right;\n",
       "    }\n",
       "</style>\n",
       "<table border=\"1\" class=\"dataframe\">\n",
       "  <thead>\n",
       "    <tr style=\"text-align: right;\">\n",
       "      <th></th>\n",
       "      <th>user_id</th>\n",
       "      <th>age</th>\n",
       "      <th>is_male</th>\n",
       "      <th>orig_user_id</th>\n",
       "    </tr>\n",
       "  </thead>\n",
       "  <tbody>\n",
       "    <tr>\n",
       "      <th>0</th>\n",
       "      <td>0</td>\n",
       "      <td>24</td>\n",
       "      <td>1</td>\n",
       "      <td>1</td>\n",
       "    </tr>\n",
       "    <tr>\n",
       "      <th>1</th>\n",
       "      <td>1</td>\n",
       "      <td>53</td>\n",
       "      <td>0</td>\n",
       "      <td>2</td>\n",
       "    </tr>\n",
       "    <tr>\n",
       "      <th>2</th>\n",
       "      <td>2</td>\n",
       "      <td>23</td>\n",
       "      <td>1</td>\n",
       "      <td>3</td>\n",
       "    </tr>\n",
       "    <tr>\n",
       "      <th>3</th>\n",
       "      <td>3</td>\n",
       "      <td>24</td>\n",
       "      <td>1</td>\n",
       "      <td>4</td>\n",
       "    </tr>\n",
       "    <tr>\n",
       "      <th>4</th>\n",
       "      <td>4</td>\n",
       "      <td>33</td>\n",
       "      <td>0</td>\n",
       "      <td>5</td>\n",
       "    </tr>\n",
       "  </tbody>\n",
       "</table>\n",
       "</div>"
      ],
      "text/plain": [
       "   user_id  age  is_male  orig_user_id\n",
       "0        0   24        1             1\n",
       "1        1   53        0             2\n",
       "2        2   23        1             3\n",
       "3        3   24        1             4\n",
       "4        4   33        0             5"
      ]
     },
     "metadata": {},
     "output_type": "display_data"
    }
   ],
   "source": [
    "user_info_df = pd.read_csv(filepath_or_buffer='user_info.csv.txt')\n",
    "display(user_info_df.shape)\n",
    "display(user_info_df.head())"
   ]
  },
  {
   "cell_type": "code",
   "execution_count": 30,
   "metadata": {
    "id": "s7e_3BBsHpWO"
   },
   "outputs": [
    {
     "data": {
      "text/html": [
       "<div>\n",
       "<style scoped>\n",
       "    .dataframe tbody tr th:only-of-type {\n",
       "        vertical-align: middle;\n",
       "    }\n",
       "\n",
       "    .dataframe tbody tr th {\n",
       "        vertical-align: top;\n",
       "    }\n",
       "\n",
       "    .dataframe thead th {\n",
       "        text-align: right;\n",
       "    }\n",
       "</style>\n",
       "<table border=\"1\" class=\"dataframe\">\n",
       "  <thead>\n",
       "    <tr style=\"text-align: right;\">\n",
       "      <th></th>\n",
       "      <th>is_male</th>\n",
       "    </tr>\n",
       "  </thead>\n",
       "  <tbody>\n",
       "    <tr>\n",
       "      <th>1</th>\n",
       "      <td>670</td>\n",
       "    </tr>\n",
       "    <tr>\n",
       "      <th>0</th>\n",
       "      <td>273</td>\n",
       "    </tr>\n",
       "  </tbody>\n",
       "</table>\n",
       "</div>"
      ],
      "text/plain": [
       "   is_male\n",
       "1      670\n",
       "0      273"
      ]
     },
     "metadata": {},
     "output_type": "display_data"
    }
   ],
   "source": [
    "display(user_info_df['is_male'].value_counts().to_frame())"
   ]
  },
  {
   "cell_type": "code",
   "execution_count": 31,
   "metadata": {
    "id": "M3K5ZHmSHpWO"
   },
   "outputs": [],
   "source": [
    "y = user_info_df['is_male'].values"
   ]
  },
  {
   "cell_type": "code",
   "execution_count": 32,
   "metadata": {},
   "outputs": [
    {
     "data": {
      "text/plain": [
       "(943, 10)"
      ]
     },
     "metadata": {},
     "output_type": "display_data"
    }
   ],
   "source": [
    "display(U.shape)"
   ]
  },
  {
   "cell_type": "code",
   "execution_count": 33,
   "metadata": {},
   "outputs": [],
   "source": [
    "U_df = pd.DataFrame(data=U)\n",
    "U_df['y'] = y"
   ]
  },
  {
   "cell_type": "code",
   "execution_count": 34,
   "metadata": {},
   "outputs": [
    {
     "data": {
      "text/plain": [
       "(943, 11)"
      ]
     },
     "metadata": {},
     "output_type": "display_data"
    },
    {
     "data": {
      "text/html": [
       "<div>\n",
       "<style scoped>\n",
       "    .dataframe tbody tr th:only-of-type {\n",
       "        vertical-align: middle;\n",
       "    }\n",
       "\n",
       "    .dataframe tbody tr th {\n",
       "        vertical-align: top;\n",
       "    }\n",
       "\n",
       "    .dataframe thead th {\n",
       "        text-align: right;\n",
       "    }\n",
       "</style>\n",
       "<table border=\"1\" class=\"dataframe\">\n",
       "  <thead>\n",
       "    <tr style=\"text-align: right;\">\n",
       "      <th></th>\n",
       "      <th>0</th>\n",
       "      <th>1</th>\n",
       "      <th>2</th>\n",
       "      <th>3</th>\n",
       "      <th>4</th>\n",
       "      <th>5</th>\n",
       "      <th>6</th>\n",
       "      <th>7</th>\n",
       "      <th>8</th>\n",
       "      <th>9</th>\n",
       "      <th>y</th>\n",
       "    </tr>\n",
       "  </thead>\n",
       "  <tbody>\n",
       "    <tr>\n",
       "      <th>0</th>\n",
       "      <td>0.066226</td>\n",
       "      <td>0.007889</td>\n",
       "      <td>-0.012531</td>\n",
       "      <td>-0.086164</td>\n",
       "      <td>0.024870</td>\n",
       "      <td>0.006661</td>\n",
       "      <td>0.080050</td>\n",
       "      <td>-0.027577</td>\n",
       "      <td>0.067478</td>\n",
       "      <td>0.019588</td>\n",
       "      <td>1</td>\n",
       "    </tr>\n",
       "    <tr>\n",
       "      <th>1</th>\n",
       "      <td>0.013644</td>\n",
       "      <td>-0.048895</td>\n",
       "      <td>0.056554</td>\n",
       "      <td>0.015809</td>\n",
       "      <td>-0.012036</td>\n",
       "      <td>0.017731</td>\n",
       "      <td>0.010708</td>\n",
       "      <td>-0.010218</td>\n",
       "      <td>0.028463</td>\n",
       "      <td>-0.009315</td>\n",
       "      <td>0</td>\n",
       "    </tr>\n",
       "    <tr>\n",
       "      <th>2</th>\n",
       "      <td>0.005438</td>\n",
       "      <td>-0.025128</td>\n",
       "      <td>0.020028</td>\n",
       "      <td>0.032832</td>\n",
       "      <td>0.035080</td>\n",
       "      <td>0.001919</td>\n",
       "      <td>0.007690</td>\n",
       "      <td>-0.001000</td>\n",
       "      <td>-0.021176</td>\n",
       "      <td>-0.003429</td>\n",
       "      <td>1</td>\n",
       "    </tr>\n",
       "    <tr>\n",
       "      <th>3</th>\n",
       "      <td>0.005704</td>\n",
       "      <td>-0.018211</td>\n",
       "      <td>0.010898</td>\n",
       "      <td>0.021867</td>\n",
       "      <td>0.013920</td>\n",
       "      <td>-0.014180</td>\n",
       "      <td>0.012246</td>\n",
       "      <td>-0.009110</td>\n",
       "      <td>-0.012789</td>\n",
       "      <td>0.006124</td>\n",
       "      <td>1</td>\n",
       "    </tr>\n",
       "    <tr>\n",
       "      <th>4</th>\n",
       "      <td>0.034122</td>\n",
       "      <td>0.009005</td>\n",
       "      <td>-0.044054</td>\n",
       "      <td>-0.016049</td>\n",
       "      <td>0.004326</td>\n",
       "      <td>-0.021502</td>\n",
       "      <td>0.095573</td>\n",
       "      <td>0.079497</td>\n",
       "      <td>-0.017122</td>\n",
       "      <td>0.029123</td>\n",
       "      <td>0</td>\n",
       "    </tr>\n",
       "  </tbody>\n",
       "</table>\n",
       "</div>"
      ],
      "text/plain": [
       "          0         1         2         3         4         5         6  \\\n",
       "0  0.066226  0.007889 -0.012531 -0.086164  0.024870  0.006661  0.080050   \n",
       "1  0.013644 -0.048895  0.056554  0.015809 -0.012036  0.017731  0.010708   \n",
       "2  0.005438 -0.025128  0.020028  0.032832  0.035080  0.001919  0.007690   \n",
       "3  0.005704 -0.018211  0.010898  0.021867  0.013920 -0.014180  0.012246   \n",
       "4  0.034122  0.009005 -0.044054 -0.016049  0.004326 -0.021502  0.095573   \n",
       "\n",
       "          7         8         9  y  \n",
       "0 -0.027577  0.067478  0.019588  1  \n",
       "1 -0.010218  0.028463 -0.009315  0  \n",
       "2 -0.001000 -0.021176 -0.003429  1  \n",
       "3 -0.009110 -0.012789  0.006124  1  \n",
       "4  0.079497 -0.017122  0.029123  0  "
      ]
     },
     "metadata": {},
     "output_type": "display_data"
    }
   ],
   "source": [
    "display(U_df.shape)\n",
    "display(U_df.head())"
   ]
  },
  {
   "cell_type": "code",
   "execution_count": 35,
   "metadata": {},
   "outputs": [],
   "source": [
    "def get_gender_predictions(data_df, label, scaling=False):\n",
    "    \"\"\"\n",
    "    This function predicts the gender.\n",
    "    \"\"\"\n",
    "    X = data_df.drop(labels=[label], axis=1).values\n",
    "    y = data_df[label].values\n",
    "    \n",
    "    if scaling:\n",
    "        std_scaler = StandardScaler()\n",
    "        std_scaler.fit(X=X)\n",
    "        X = std_scaler.transform(X=X)\n",
    "    \n",
    "    clf = SGDClassifier(loss='log_loss')\n",
    "    clf.fit(X=X, y=y)\n",
    "    \n",
    "    plot_confusion_matrix(estimator=clf, X=X, y_true=y)\n",
    "    \n",
    "    y_pred = clf.predict(X=X)\n",
    "    \n",
    "    fpr, tpr, thresholds = roc_curve(y_true=y, y_score=y_pred)\n",
    "    print(\"AUC: {}.\".format(auc(x=fpr, y=tpr)))\n",
    "    print(\"Accuracy: {}\".format(accuracy_score(y_true=y, y_pred=y_pred)))"
   ]
  },
  {
   "cell_type": "code",
   "execution_count": 36,
   "metadata": {},
   "outputs": [
    {
     "name": "stdout",
     "output_type": "stream",
     "text": [
      "AUC: 0.5876387294297742.\n",
      "Accuracy: 0.7486744432661718\n"
     ]
    },
    {
     "data": {
      "image/png": "[encoded data removed]",
      "text/plain": [
       "<Figure size 432x288 with 2 Axes>"
      ]
     },
     "metadata": {
      "needs_background": "light"
     },
     "output_type": "display_data"
    }
   ],
   "source": [
    "get_gender_predictions(data_df=U_df, label='y')"
   ]
  },
  {
   "cell_type": "code",
   "execution_count": 37,
   "metadata": {},
   "outputs": [
    {
     "name": "stdout",
     "output_type": "stream",
     "text": [
      "AUC: 0.6374173090591001.\n",
      "Accuracy: 0.7083775185577943\n"
     ]
    },
    {
     "data": {
      "image/png": "[encoded data removed]",
      "text/plain": [
       "<Figure size 432x288 with 2 Axes>"
      ]
     },
     "metadata": {
      "needs_background": "light"
     },
     "output_type": "display_data"
    }
   ],
   "source": [
    "get_gender_predictions(data_df=U_df, label='y', scaling=True)"
   ]
  },
  {
   "cell_type": "markdown",
   "metadata": {},
   "source": [
    "After scaling is set to `True`, the model performance has improved."
   ]
  },
  {
   "cell_type": "markdown",
   "metadata": {},
   "source": [
    "End of the file."
   ]
  }
 ],
 "metadata": {
  "colab": {
   "collapsed_sections": [],
   "provenance": []
  },
  "kernelspec": {
   "display_name": "Python 3 (ipykernel)",
   "language": "python",
   "name": "python3"
  },
  "language_info": {
   "codemirror_mode": {
    "name": "ipython",
    "version": 3
   },
   "file_extension": ".py",
   "mimetype": "text/x-python",
   "name": "python",
   "nbconvert_exporter": "python",
   "pygments_lexer": "ipython3",
   "version": "3.10.7"
  }
 },
 "nbformat": 4,
 "nbformat_minor": 1
}
