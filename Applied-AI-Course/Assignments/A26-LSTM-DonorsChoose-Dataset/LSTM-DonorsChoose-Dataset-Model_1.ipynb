{
 "cells": [
  {
   "cell_type": "markdown",
   "metadata": {
    "id": "HmHjD_5JnDU9"
   },
   "source": [
    "1. You can work with `preprocessed_data.csv` for the assignment. You can get the data from - <a href='https://drive.google.com/drive/u/0/folders/1CJnItndeSSJu7aragQoXWZS9-0apN6pp'>data folder</a>.\n",
    "2. Load the data in your notebook.\n",
    "3. After step 2 you have to train 3 types of models as discussed below. \n",
    "4. For all the model use <a href='https://scikit-learn.org/stable/modules/model_evaluation.html#roc-metrics'>'auc'</a> as a metric. Check <a  href='https://stackoverflow.com/a/46844409'>this</a> and <a  href='https://www.kaggle.com/c/santander-customer-transaction-prediction/discussion/80807'>this</a> for using auc as a metric.\n",
    "5. You are free to choose any number of layers/hiddden units but you have to use same type of architectures shown below.\n",
    "6. You can use any one of the optimizers and choice of Learning rate and momentum.\n",
    "7. For all the model's use <a href='https://www.youtube.com/watch?v=2U6Jl7oqRkM'>TensorBoard</a> and plot the Metric value and Loss with epoch. While submitting, take a screenshot of plots and include those images in a separate pad and write your observations about them.\n",
    "8. Make sure that you are using GPU to train the given models."
   ]
  },
  {
   "cell_type": "code",
   "execution_count": 1,
   "metadata": {
    "executionInfo": {
     "elapsed": 1559,
     "status": "ok",
     "timestamp": 1667107353560,
     "user": {
      "displayName": "Mohammed Saifuddin",
      "userId": "00132744978255071993"
     },
     "user_tz": -330
    },
    "id": "7gZemh9bnDU-"
   },
   "outputs": [],
   "source": [
    "import warnings\n",
    "warnings.filterwarnings('ignore')"
   ]
  },
  {
   "cell_type": "code",
   "execution_count": 2,
   "metadata": {
    "colab": {
     "base_uri": "https://localhost:8080/"
    },
    "executionInfo": {
     "elapsed": 28105,
     "status": "ok",
     "timestamp": 1667107382337,
     "user": {
      "displayName": "Mohammed Saifuddin",
      "userId": "00132744978255071993"
     },
     "user_tz": -330
    },
    "id": "l0P37DmznDU_",
    "outputId": "44825013-e9b0-4aa0-ca56-898ff53046a5"
   },
   "outputs": [
    {
     "name": "stdout",
     "output_type": "stream",
     "text": [
      "Mounted at /content/drive\n"
     ]
    }
   ],
   "source": [
    "from google.colab import drive\n",
    "drive.mount(mountpoint='/content/drive')"
   ]
  },
  {
   "cell_type": "code",
   "execution_count": 3,
   "metadata": {
    "executionInfo": {
     "elapsed": 5,
     "status": "ok",
     "timestamp": 1667107382338,
     "user": {
      "displayName": "Mohammed Saifuddin",
      "userId": "00132744978255071993"
     },
     "user_tz": -330
    },
    "id": "A5Prqw-tpXj-"
   },
   "outputs": [],
   "source": [
    "from IPython.display import display"
   ]
  },
  {
   "cell_type": "code",
   "execution_count": 4,
   "metadata": {
    "executionInfo": {
     "elapsed": 4,
     "status": "ok",
     "timestamp": 1667107382338,
     "user": {
      "displayName": "Mohammed Saifuddin",
      "userId": "00132744978255071993"
     },
     "user_tz": -330
    },
    "id": "bsmiQIPPpXhS"
   },
   "outputs": [],
   "source": [
    "from matplotlib import pyplot as plt\n",
    "from matplotlib import style\n",
    "style.use(style='seaborn-deep')"
   ]
  },
  {
   "cell_type": "code",
   "execution_count": 5,
   "metadata": {
    "executionInfo": {
     "elapsed": 4,
     "status": "ok",
     "timestamp": 1667107382338,
     "user": {
      "displayName": "Mohammed Saifuddin",
      "userId": "00132744978255071993"
     },
     "user_tz": -330
    },
    "id": "rzlD9z3OpXes"
   },
   "outputs": [],
   "source": [
    "from sklearn.model_selection import train_test_split\n",
    "from sklearn.preprocessing import LabelEncoder\n",
    "from sklearn.preprocessing import OrdinalEncoder\n",
    "from sklearn.feature_extraction.text import (\n",
    "    TfidfVectorizer,\n",
    "    CountVectorizer\n",
    ")\n",
    "from sklearn import metrics"
   ]
  },
  {
   "cell_type": "code",
   "execution_count": 6,
   "metadata": {
    "executionInfo": {
     "elapsed": 3,
     "status": "ok",
     "timestamp": 1667107382338,
     "user": {
      "displayName": "Mohammed Saifuddin",
      "userId": "00132744978255071993"
     },
     "user_tz": -330
    },
    "id": "snJKnuYupXYW"
   },
   "outputs": [],
   "source": [
    "from scipy.sparse import hstack"
   ]
  },
  {
   "cell_type": "code",
   "execution_count": 7,
   "metadata": {
    "executionInfo": {
     "elapsed": 3,
     "status": "ok",
     "timestamp": 1667107382338,
     "user": {
      "displayName": "Mohammed Saifuddin",
      "userId": "00132744978255071993"
     },
     "user_tz": -330
    },
    "id": "-kGd90tFpXWM"
   },
   "outputs": [],
   "source": [
    "from tqdm import tqdm"
   ]
  },
  {
   "cell_type": "code",
   "execution_count": 8,
   "metadata": {
    "executionInfo": {
     "elapsed": 3521,
     "status": "ok",
     "timestamp": 1667107385856,
     "user": {
      "displayName": "Mohammed Saifuddin",
      "userId": "00132744978255071993"
     },
     "user_tz": -330
    },
    "id": "iyOtYaYgpXUJ"
   },
   "outputs": [],
   "source": [
    "from tensorflow.keras.preprocessing.text import Tokenizer\n",
    "from tensorflow.keras.preprocessing.sequence import pad_sequences\n",
    "from tensorflow.keras.utils import to_categorical"
   ]
  },
  {
   "cell_type": "code",
   "execution_count": 9,
   "metadata": {
    "executionInfo": {
     "elapsed": 15,
     "status": "ok",
     "timestamp": 1667107385856,
     "user": {
      "displayName": "Mohammed Saifuddin",
      "userId": "00132744978255071993"
     },
     "user_tz": -330
    },
    "id": "HOwU0qWlpXRq"
   },
   "outputs": [],
   "source": [
    "from tensorflow.keras.layers import (\n",
    "    Flatten, \n",
    "    Dense, \n",
    "    Dropout, \n",
    "    concatenate, \n",
    "    Embedding, \n",
    "    Conv1D, \n",
    "    Input, \n",
    "    LSTM, \n",
    "    BatchNormalization, \n",
    "    LeakyReLU\n",
    ")"
   ]
  },
  {
   "cell_type": "code",
   "execution_count": 10,
   "metadata": {
    "executionInfo": {
     "elapsed": 14,
     "status": "ok",
     "timestamp": 1667107385857,
     "user": {
      "displayName": "Mohammed Saifuddin",
      "userId": "00132744978255071993"
     },
     "user_tz": -330
    },
    "id": "WOnw5Lz3pXPl"
   },
   "outputs": [],
   "source": [
    "from tensorflow.keras.callbacks import (\n",
    "    EarlyStopping, \n",
    "    TensorBoard, \n",
    "    ModelCheckpoint, \n",
    "    Callback\n",
    ")"
   ]
  },
  {
   "cell_type": "code",
   "execution_count": 11,
   "metadata": {
    "executionInfo": {
     "elapsed": 13,
     "status": "ok",
     "timestamp": 1667107385857,
     "user": {
      "displayName": "Mohammed Saifuddin",
      "userId": "00132744978255071993"
     },
     "user_tz": -330
    },
    "id": "TmqkeSyOpXM-"
   },
   "outputs": [],
   "source": [
    "from tensorflow.keras.models import (\n",
    "    Sequential,\n",
    "    Model\n",
    ")"
   ]
  },
  {
   "cell_type": "code",
   "execution_count": 12,
   "metadata": {
    "executionInfo": {
     "elapsed": 12,
     "status": "ok",
     "timestamp": 1667107385857,
     "user": {
      "displayName": "Mohammed Saifuddin",
      "userId": "00132744978255071993"
     },
     "user_tz": -330
    },
    "id": "X1URKAwfpXKt"
   },
   "outputs": [],
   "source": [
    "import tensorflow as tf\n",
    "import pandas as pd\n",
    "import numpy as np\n",
    "import seaborn as sns\n",
    "import pickle\n",
    "import os\n",
    "import datetime"
   ]
  },
  {
   "cell_type": "code",
   "execution_count": 13,
   "metadata": {
    "executionInfo": {
     "elapsed": 12,
     "status": "ok",
     "timestamp": 1667107385857,
     "user": {
      "displayName": "Mohammed Saifuddin",
      "userId": "00132744978255071993"
     },
     "user_tz": -330
    },
    "id": "Ga98IZBapXHs"
   },
   "outputs": [],
   "source": [
    "base_path = '/content/drive/MyDrive/Applied-AI/Assignment-26/'"
   ]
  },
  {
   "cell_type": "code",
   "execution_count": 14,
   "metadata": {
    "colab": {
     "base_uri": "https://localhost:8080/"
    },
    "executionInfo": {
     "elapsed": 12,
     "status": "ok",
     "timestamp": 1667107385858,
     "user": {
      "displayName": "Mohammed Saifuddin",
      "userId": "00132744978255071993"
     },
     "user_tz": -330
    },
    "id": "RRLA4FMgpXE_",
    "outputId": "a19036b6-dea6-4663-e5bb-288ca4a4e863"
   },
   "outputs": [
    {
     "name": "stdout",
     "output_type": "stream",
     "text": [
      "/content/drive/MyDrive/Applied-AI/Assignment-26/preprocessed_data.csv\n"
     ]
    }
   ],
   "source": [
    "data_file = os.path.join(base_path, 'preprocessed_data.csv')\n",
    "print(data_file)"
   ]
  },
  {
   "cell_type": "code",
   "execution_count": 15,
   "metadata": {
    "colab": {
     "base_uri": "https://localhost:8080/",
     "height": 704
    },
    "executionInfo": {
     "elapsed": 2746,
     "status": "ok",
     "timestamp": 1667107388595,
     "user": {
      "displayName": "Mohammed Saifuddin",
      "userId": "00132744978255071993"
     },
     "user_tz": -330
    },
    "id": "OlvowD4Tut-J",
    "outputId": "3a28ff2e-41e4-4064-d5d0-959c280f9587"
   },
   "outputs": [
    {
     "data": {
      "text/html": [
       "\n",
       "  <div id=\"df-8cb0bd76-e83a-4382-92c6-c4081ce0ee9a\">\n",
       "    <div class=\"colab-df-container\">\n",
       "      <div>\n",
       "<style scoped>\n",
       "    .dataframe tbody tr th:only-of-type {\n",
       "        vertical-align: middle;\n",
       "    }\n",
       "\n",
       "    .dataframe tbody tr th {\n",
       "        vertical-align: top;\n",
       "    }\n",
       "\n",
       "    .dataframe thead th {\n",
       "        text-align: right;\n",
       "    }\n",
       "</style>\n",
       "<table border=\"1\" class=\"dataframe\">\n",
       "  <thead>\n",
       "    <tr style=\"text-align: right;\">\n",
       "      <th></th>\n",
       "      <th>school_state</th>\n",
       "      <th>teacher_prefix</th>\n",
       "      <th>project_grade_category</th>\n",
       "      <th>teacher_number_of_previously_posted_projects</th>\n",
       "      <th>project_is_approved</th>\n",
       "      <th>clean_categories</th>\n",
       "      <th>clean_subcategories</th>\n",
       "      <th>essay</th>\n",
       "      <th>price</th>\n",
       "    </tr>\n",
       "  </thead>\n",
       "  <tbody>\n",
       "    <tr>\n",
       "      <th>0</th>\n",
       "      <td>ca</td>\n",
       "      <td>mrs</td>\n",
       "      <td>grades_prek_2</td>\n",
       "      <td>53</td>\n",
       "      <td>1</td>\n",
       "      <td>math_science</td>\n",
       "      <td>appliedsciences health_lifescience</td>\n",
       "      <td>i fortunate enough use fairy tale stem kits cl...</td>\n",
       "      <td>725.05</td>\n",
       "    </tr>\n",
       "    <tr>\n",
       "      <th>1</th>\n",
       "      <td>ut</td>\n",
       "      <td>ms</td>\n",
       "      <td>grades_3_5</td>\n",
       "      <td>4</td>\n",
       "      <td>1</td>\n",
       "      <td>specialneeds</td>\n",
       "      <td>specialneeds</td>\n",
       "      <td>imagine 8 9 years old you third grade classroo...</td>\n",
       "      <td>213.03</td>\n",
       "    </tr>\n",
       "    <tr>\n",
       "      <th>2</th>\n",
       "      <td>ca</td>\n",
       "      <td>mrs</td>\n",
       "      <td>grades_prek_2</td>\n",
       "      <td>10</td>\n",
       "      <td>1</td>\n",
       "      <td>literacy_language</td>\n",
       "      <td>literacy</td>\n",
       "      <td>having class 24 students comes diverse learner...</td>\n",
       "      <td>329.00</td>\n",
       "    </tr>\n",
       "    <tr>\n",
       "      <th>3</th>\n",
       "      <td>ga</td>\n",
       "      <td>mrs</td>\n",
       "      <td>grades_prek_2</td>\n",
       "      <td>2</td>\n",
       "      <td>1</td>\n",
       "      <td>appliedlearning</td>\n",
       "      <td>earlydevelopment</td>\n",
       "      <td>i recently read article giving students choice...</td>\n",
       "      <td>481.04</td>\n",
       "    </tr>\n",
       "    <tr>\n",
       "      <th>4</th>\n",
       "      <td>wa</td>\n",
       "      <td>mrs</td>\n",
       "      <td>grades_3_5</td>\n",
       "      <td>2</td>\n",
       "      <td>1</td>\n",
       "      <td>literacy_language</td>\n",
       "      <td>literacy</td>\n",
       "      <td>my students crave challenge eat obstacles brea...</td>\n",
       "      <td>17.74</td>\n",
       "    </tr>\n",
       "  </tbody>\n",
       "</table>\n",
       "</div>\n",
       "      <button class=\"colab-df-convert\" onclick=\"convertToInteractive('df-8cb0bd76-e83a-4382-92c6-c4081ce0ee9a')\"\n",
       "              title=\"Convert this dataframe to an interactive table.\"\n",
       "              style=\"display:none;\">\n",
       "        \n",
       "  <svg xmlns=\"http://www.w3.org/2000/svg\" height=\"24px\"viewBox=\"0 0 24 24\"\n",
       "       width=\"24px\">\n",
       "    <path d=\"M0 0h24v24H0V0z\" fill=\"none\"/>\n",
       "    <path d=\"M18.56 5.44l.94 2.06.94-2.06 2.06-.94-2.06-.94-.94-2.06-.94 2.06-2.06.94zm-11 1L8.5 8.5l.94-2.06 2.06-.94-2.06-.94L8.5 2.5l-.94 2.06-2.06.94zm10 10l.94 2.06.94-2.06 2.06-.94-2.06-.94-.94-2.06-.94 2.06-2.06.94z\"/><path d=\"M17.41 7.96l-1.37-1.37c-.4-.4-.92-.59-1.43-.59-.52 0-1.04.2-1.43.59L10.3 9.45l-7.72 7.72c-.78.78-.78 2.05 0 2.83L4 21.41c.39.39.9.59 1.41.59.51 0 1.02-.2 1.41-.59l7.78-7.78 2.81-2.81c.8-.78.8-2.07 0-2.86zM5.41 20L4 18.59l7.72-7.72 1.47 1.35L5.41 20z\"/>\n",
       "  </svg>\n",
       "      </button>\n",
       "      \n",
       "  <style>\n",
       "    .colab-df-container {\n",
       "      display:flex;\n",
       "      flex-wrap:wrap;\n",
       "      gap: 12px;\n",
       "    }\n",
       "\n",
       "    .colab-df-convert {\n",
       "      background-color: #E8F0FE;\n",
       "      border: none;\n",
       "      border-radius: 50%;\n",
       "      cursor: pointer;\n",
       "      display: none;\n",
       "      fill: #1967D2;\n",
       "      height: 32px;\n",
       "      padding: 0 0 0 0;\n",
       "      width: 32px;\n",
       "    }\n",
       "\n",
       "    .colab-df-convert:hover {\n",
       "      background-color: #E2EBFA;\n",
       "      box-shadow: 0px 1px 2px rgba(60, 64, 67, 0.3), 0px 1px 3px 1px rgba(60, 64, 67, 0.15);\n",
       "      fill: #174EA6;\n",
       "    }\n",
       "\n",
       "    [theme=dark] .colab-df-convert {\n",
       "      background-color: #3B4455;\n",
       "      fill: #D2E3FC;\n",
       "    }\n",
       "\n",
       "    [theme=dark] .colab-df-convert:hover {\n",
       "      background-color: #434B5C;\n",
       "      box-shadow: 0px 1px 3px 1px rgba(0, 0, 0, 0.15);\n",
       "      filter: drop-shadow(0px 1px 2px rgba(0, 0, 0, 0.3));\n",
       "      fill: #FFFFFF;\n",
       "    }\n",
       "  </style>\n",
       "\n",
       "      <script>\n",
       "        const buttonEl =\n",
       "          document.querySelector('#df-8cb0bd76-e83a-4382-92c6-c4081ce0ee9a button.colab-df-convert');\n",
       "        buttonEl.style.display =\n",
       "          google.colab.kernel.accessAllowed ? 'block' : 'none';\n",
       "\n",
       "        async function convertToInteractive(key) {\n",
       "          const element = document.querySelector('#df-8cb0bd76-e83a-4382-92c6-c4081ce0ee9a');\n",
       "          const dataTable =\n",
       "            await google.colab.kernel.invokeFunction('convertToInteractive',\n",
       "                                                     [key], {});\n",
       "          if (!dataTable) return;\n",
       "\n",
       "          const docLinkHtml = 'Like what you see? Visit the ' +\n",
       "            '<a target=\"_blank\" href=https://colab.research.google.com/notebooks/data_table.ipynb>data table notebook</a>'\n",
       "            + ' to learn more about interactive tables.';\n",
       "          element.innerHTML = '';\n",
       "          dataTable['output_type'] = 'display_data';\n",
       "          await google.colab.output.renderOutput(dataTable, element);\n",
       "          const docLink = document.createElement('div');\n",
       "          docLink.innerHTML = docLinkHtml;\n",
       "          element.appendChild(docLink);\n",
       "        }\n",
       "      </script>\n",
       "    </div>\n",
       "  </div>\n",
       "  "
      ],
      "text/plain": [
       "  school_state teacher_prefix project_grade_category  \\\n",
       "0           ca            mrs          grades_prek_2   \n",
       "1           ut             ms             grades_3_5   \n",
       "2           ca            mrs          grades_prek_2   \n",
       "3           ga            mrs          grades_prek_2   \n",
       "4           wa            mrs             grades_3_5   \n",
       "\n",
       "   teacher_number_of_previously_posted_projects  project_is_approved  \\\n",
       "0                                            53                    1   \n",
       "1                                             4                    1   \n",
       "2                                            10                    1   \n",
       "3                                             2                    1   \n",
       "4                                             2                    1   \n",
       "\n",
       "    clean_categories                 clean_subcategories  \\\n",
       "0       math_science  appliedsciences health_lifescience   \n",
       "1       specialneeds                        specialneeds   \n",
       "2  literacy_language                            literacy   \n",
       "3    appliedlearning                    earlydevelopment   \n",
       "4  literacy_language                            literacy   \n",
       "\n",
       "                                               essay   price  \n",
       "0  i fortunate enough use fairy tale stem kits cl...  725.05  \n",
       "1  imagine 8 9 years old you third grade classroo...  213.03  \n",
       "2  having class 24 students comes diverse learner...  329.00  \n",
       "3  i recently read article giving students choice...  481.04  \n",
       "4  my students crave challenge eat obstacles brea...   17.74  "
      ]
     },
     "metadata": {},
     "output_type": "display_data"
    }
   ],
   "source": [
    "data_df = pd.read_csv(filepath_or_buffer=data_file)\n",
    "display(data_df.head())"
   ]
  },
  {
   "cell_type": "code",
   "execution_count": 16,
   "metadata": {
    "executionInfo": {
     "elapsed": 26,
     "status": "ok",
     "timestamp": 1667107388595,
     "user": {
      "displayName": "Mohammed Saifuddin",
      "userId": "00132744978255071993"
     },
     "user_tz": -330
    },
    "id": "YL3eiiq0ut7O"
   },
   "outputs": [],
   "source": [
    "X = data_df.drop(columns=['project_is_approved'])\n",
    "y = data_df['project_is_approved'].values"
   ]
  },
  {
   "cell_type": "code",
   "execution_count": 17,
   "metadata": {
    "colab": {
     "base_uri": "https://localhost:8080/"
    },
    "executionInfo": {
     "elapsed": 25,
     "status": "ok",
     "timestamp": 1667107388595,
     "user": {
      "displayName": "Mohammed Saifuddin",
      "userId": "00132744978255071993"
     },
     "user_tz": -330
    },
    "id": "Nn8dbO6SnDVD",
    "outputId": "159983cb-c9a9-4ffd-c8b2-bf56b0675180"
   },
   "outputs": [
    {
     "name": "stdout",
     "output_type": "stream",
     "text": [
      "['price', 'teacher_number_of_previously_posted_projects']\n",
      "['school_state', 'clean_subcategories', 'project_grade_category', 'clean_categories', 'teacher_prefix']\n"
     ]
    }
   ],
   "source": [
    "numcols = X.select_dtypes('number').columns\n",
    "catcols = X.select_dtypes('object').columns\n",
    "numcols = list(set(numcols))\n",
    "catcols = list(set(catcols))\n",
    "catcols.remove('essay')\n",
    "print(numcols)\n",
    "print(catcols)"
   ]
  },
  {
   "cell_type": "code",
   "execution_count": 18,
   "metadata": {
    "colab": {
     "base_uri": "https://localhost:8080/"
    },
    "executionInfo": {
     "elapsed": 18,
     "status": "ok",
     "timestamp": 1667107388596,
     "user": {
      "displayName": "Mohammed Saifuddin",
      "userId": "00132744978255071993"
     },
     "user_tz": -330
    },
    "id": "rFuitCWxut5a",
    "outputId": "ec877b41-1022-46c3-bc4f-fde87e1d73d4"
   },
   "outputs": [
    {
     "name": "stdout",
     "output_type": "stream",
     "text": [
      "(109248, 8) (109248,)\n"
     ]
    }
   ],
   "source": [
    "print(X.shape, y.shape)"
   ]
  },
  {
   "cell_type": "code",
   "execution_count": 19,
   "metadata": {
    "executionInfo": {
     "elapsed": 14,
     "status": "ok",
     "timestamp": 1667107388596,
     "user": {
      "displayName": "Mohammed Saifuddin",
      "userId": "00132744978255071993"
     },
     "user_tz": -330
    },
    "id": "wt8T8TdRut3I"
   },
   "outputs": [],
   "source": [
    "X_train, X_test, y_train, y_test = train_test_split(X, y, test_size=0.2, stratify=y, random_state=0)\n",
    "X_train, X_cv, y_train, y_cv = train_test_split(X_train, y_train, test_size=0.2, stratify=y_train, random_state=0)"
   ]
  },
  {
   "cell_type": "code",
   "execution_count": 20,
   "metadata": {
    "colab": {
     "base_uri": "https://localhost:8080/"
    },
    "executionInfo": {
     "elapsed": 14,
     "status": "ok",
     "timestamp": 1667107388596,
     "user": {
      "displayName": "Mohammed Saifuddin",
      "userId": "00132744978255071993"
     },
     "user_tz": -330
    },
    "id": "XUjRypr9ut0o",
    "outputId": "042cddfd-54d2-4e94-886a-327323fc8335"
   },
   "outputs": [
    {
     "name": "stdout",
     "output_type": "stream",
     "text": [
      "(69918, 8) (69918,)\n",
      "(17480, 8) (17480,)\n",
      "(21850, 8) (21850,)\n"
     ]
    }
   ],
   "source": [
    "print(X_train.shape, y_train.shape)\n",
    "print(X_cv.shape, y_cv.shape)\n",
    "print(X_test.shape, y_test.shape)"
   ]
  },
  {
   "cell_type": "code",
   "execution_count": 21,
   "metadata": {
    "colab": {
     "base_uri": "https://localhost:8080/"
    },
    "executionInfo": {
     "elapsed": 11,
     "status": "ok",
     "timestamp": 1667107388596,
     "user": {
      "displayName": "Mohammed Saifuddin",
      "userId": "00132744978255071993"
     },
     "user_tz": -330
    },
    "id": "uFqzGvm6xA3S",
    "outputId": "a1265f4b-ab66-4dc5-ecd9-27c92c8dc5e0"
   },
   "outputs": [
    {
     "name": "stdout",
     "output_type": "stream",
     "text": [
      "2\n"
     ]
    }
   ],
   "source": [
    "num_classes = len(data_df['project_is_approved'].value_counts())\n",
    "print(num_classes)"
   ]
  },
  {
   "cell_type": "code",
   "execution_count": 22,
   "metadata": {
    "executionInfo": {
     "elapsed": 10,
     "status": "ok",
     "timestamp": 1667107388597,
     "user": {
      "displayName": "Mohammed Saifuddin",
      "userId": "00132744978255071993"
     },
     "user_tz": -330
    },
    "id": "CjkFbAgRutyA"
   },
   "outputs": [],
   "source": [
    "y_train_ohe = to_categorical(y=y_train, num_classes=num_classes)\n",
    "y_cv_ohe = to_categorical(y=y_cv, num_classes=num_classes)\n",
    "y_test_ohe = to_categorical(y=y_test, num_classes=num_classes)"
   ]
  },
  {
   "cell_type": "markdown",
   "metadata": {
    "id": "aM7esLrZnDU_"
   },
   "source": [
    "<font color='red'> Model-1 </font>\n",
    "\n",
    "Build and Train deep neural network as shown below."
   ]
  },
  {
   "cell_type": "markdown",
   "metadata": {
    "id": "1IBkCQxZnDVA"
   },
   "source": [
    "<img src='https://i.imgur.com/w395Yk9.png'>\n",
    "\n",
    "ref: https://i.imgur.com/w395Yk9.png"
   ]
  },
  {
   "cell_type": "markdown",
   "metadata": {
    "id": "x-hHV0ctnDVA"
   },
   "source": [
    "- __Input_seq_total_text_data__\n",
    "    - You have to give total text data columns. After this use the Embedding layer to get word vectors. Use given predefined glove word vectors, don't train any word vectors. After this use LSTM and get the LSTM output and flatten that output. \n",
    "- __Input_school_state__\n",
    "    - Give `school_state` column as input to embedding layer and train the Keras embedding layer. \n",
    "- __Project_grade_category__\n",
    "    - Give `project_grade_category` column as input to embedding layer and train the Keras embedding layer.\n",
    "- __Input_clean_categories__\n",
    "    - Give `input_clean_categories` column as input to embedding layer and train the Keras embedding layer.\n",
    "- __Input_clean_subcategories__\n",
    "    - Give `input_clean_subcategories` column as input to embedding layer and train the Keras embedding layer.\n",
    "- __Input_clean_subcategories__\n",
    "     - Give `input_teacher_prefix` column as input to embedding layer and train the Keras embedding layer.\n",
    "- __Input_remaining_teacher_number_of_previously_posted_projects._resource_summary_contains_numerical_digits._price._quantity__\n",
    "    - Concatenate remaining columns and add a dense layer after that. \n",
    "\n"
   ]
  },
  {
   "cell_type": "markdown",
   "metadata": {
    "id": "US1fwCLDnDVA"
   },
   "source": [
    "Below is an example of embedding layer for a categorical columns. In below code all are dummy values, we gave only for referance. "
   ]
  },
  {
   "cell_type": "markdown",
   "metadata": {
    "id": "oCwpEGh_nDVB"
   },
   "source": [
    "1. Go through this blog, if you have any doubt on using predefined Embedding values in Embedding layer - https://machinelearningmastery.com/use-word-embedding-layers-deep-learning-keras/\n",
    "2. Please go through this link https://keras.io/getting-started/functional-api-guide/ and check the 'Multi-input and multi-output models' then you will get to know how to give multiple inputs. "
   ]
  },
  {
   "cell_type": "markdown",
   "metadata": {
    "id": "kTVheaCEnDVC"
   },
   "source": [
    "1.1 Text vectorization"
   ]
  },
  {
   "cell_type": "code",
   "execution_count": 23,
   "metadata": {
    "executionInfo": {
     "elapsed": 10,
     "status": "ok",
     "timestamp": 1667107388597,
     "user": {
      "displayName": "Mohammed Saifuddin",
      "userId": "00132744978255071993"
     },
     "user_tz": -330
    },
    "id": "LHU4tdBGnDVD"
   },
   "outputs": [],
   "source": [
    "X_train_essay = X_train['essay']\n",
    "X_cv_essay = X_cv['essay']\n",
    "X_test_essay = X_test['essay']"
   ]
  },
  {
   "cell_type": "code",
   "execution_count": 24,
   "metadata": {
    "executionInfo": {
     "elapsed": 6781,
     "status": "ok",
     "timestamp": 1667107395369,
     "user": {
      "displayName": "Mohammed Saifuddin",
      "userId": "00132744978255071993"
     },
     "user_tz": -330
    },
    "id": "DvtI2w7QnDVD"
   },
   "outputs": [],
   "source": [
    "token = Tokenizer()\n",
    "token.fit_on_texts(texts=X_train_essay)"
   ]
  },
  {
   "cell_type": "code",
   "execution_count": 25,
   "metadata": {
    "colab": {
     "base_uri": "https://localhost:8080/"
    },
    "executionInfo": {
     "elapsed": 8,
     "status": "ok",
     "timestamp": 1667107395370,
     "user": {
      "displayName": "Mohammed Saifuddin",
      "userId": "00132744978255071993"
     },
     "user_tz": -330
    },
    "id": "8Vr0R9z81VDl",
    "outputId": "44418d76-d713-4722-e414-6904ac483f04"
   },
   "outputs": [
    {
     "name": "stdout",
     "output_type": "stream",
     "text": [
      "47528\n"
     ]
    }
   ],
   "source": [
    "vocab_size = len(token.word_index) + 1\n",
    "print(vocab_size)"
   ]
  },
  {
   "cell_type": "code",
   "execution_count": 26,
   "metadata": {
    "executionInfo": {
     "elapsed": 7897,
     "status": "ok",
     "timestamp": 1667107403261,
     "user": {
      "displayName": "Mohammed Saifuddin",
      "userId": "00132744978255071993"
     },
     "user_tz": -330
    },
    "id": "EUE4r0vk1VA4"
   },
   "outputs": [],
   "source": [
    "X_train_essay_seq = token.texts_to_sequences(texts=X_train_essay)\n",
    "X_cv_essay_seq = token.texts_to_sequences(texts=X_cv_essay)\n",
    "X_test_essay_seq = token.texts_to_sequences(texts=X_test_essay)"
   ]
  },
  {
   "cell_type": "code",
   "execution_count": 27,
   "metadata": {
    "executionInfo": {
     "elapsed": 16,
     "status": "ok",
     "timestamp": 1667107403262,
     "user": {
      "displayName": "Mohammed Saifuddin",
      "userId": "00132744978255071993"
     },
     "user_tz": -330
    },
    "id": "5CoqrXZB1U64"
   },
   "outputs": [],
   "source": [
    "max_len = 500"
   ]
  },
  {
   "cell_type": "code",
   "execution_count": 28,
   "metadata": {
    "executionInfo": {
     "elapsed": 1302,
     "status": "ok",
     "timestamp": 1667107404548,
     "user": {
      "displayName": "Mohammed Saifuddin",
      "userId": "00132744978255071993"
     },
     "user_tz": -330
    },
    "id": "RFc3Em2u3KxT"
   },
   "outputs": [],
   "source": [
    "X_train_essay_padded = pad_sequences(sequences=X_train_essay_seq, maxlen=max_len, padding='post')\n",
    "X_cv_essay_padded = pad_sequences(sequences=X_cv_essay_seq, maxlen=max_len, padding='post')\n",
    "X_test_essay_padded = pad_sequences(sequences=X_test_essay_seq, maxlen=max_len, padding='post')"
   ]
  },
  {
   "cell_type": "code",
   "execution_count": 29,
   "metadata": {
    "colab": {
     "base_uri": "https://localhost:8080/"
    },
    "executionInfo": {
     "elapsed": 7,
     "status": "ok",
     "timestamp": 1667107404549,
     "user": {
      "displayName": "Mohammed Saifuddin",
      "userId": "00132744978255071993"
     },
     "user_tz": -330
    },
    "id": "lzt0vrgP34GU",
    "outputId": "dd49b2e2-6c00-4a9e-fb64-c628c77df0ca"
   },
   "outputs": [
    {
     "name": "stdout",
     "output_type": "stream",
     "text": [
      "/content/drive/MyDrive/Applied-AI/Assignment-26/glove_vectors\n"
     ]
    }
   ],
   "source": [
    "glove_vectors_file = os.path.join(base_path, 'glove_vectors')\n",
    "print(glove_vectors_file)"
   ]
  },
  {
   "cell_type": "code",
   "execution_count": 30,
   "metadata": {
    "executionInfo": {
     "elapsed": 1693,
     "status": "ok",
     "timestamp": 1667107406238,
     "user": {
      "displayName": "Mohammed Saifuddin",
      "userId": "00132744978255071993"
     },
     "user_tz": -330
    },
    "id": "mRJe2BFt34DR"
   },
   "outputs": [],
   "source": [
    "with open(file=glove_vectors_file, mode='rb') as gvf:\n",
    "    gmodel = pickle.load(gvf)"
   ]
  },
  {
   "cell_type": "code",
   "execution_count": 31,
   "metadata": {
    "executionInfo": {
     "elapsed": 9,
     "status": "ok",
     "timestamp": 1667107406238,
     "user": {
      "displayName": "Mohammed Saifuddin",
      "userId": "00132744978255071993"
     },
     "user_tz": -330
    },
    "id": "X3kALDca34BB"
   },
   "outputs": [],
   "source": [
    "vocab_words = list(token.word_index.keys())"
   ]
  },
  {
   "cell_type": "code",
   "execution_count": 32,
   "metadata": {
    "executionInfo": {
     "elapsed": 9,
     "status": "ok",
     "timestamp": 1667107406239,
     "user": {
      "displayName": "Mohammed Saifuddin",
      "userId": "00132744978255071993"
     },
     "user_tz": -330
    },
    "id": "5k0wjqbT33-4"
   },
   "outputs": [],
   "source": [
    "embedding_matrix = np.zeros(shape=(vocab_size, 300))\n",
    "for (i, word) in enumerate(vocab_words):\n",
    "    e_vector = gmodel.get(word, None)\n",
    "    if e_vector is not None:\n",
    "        embedding_matrix[i] = e_vector"
   ]
  },
  {
   "cell_type": "code",
   "execution_count": 33,
   "metadata": {
    "colab": {
     "base_uri": "https://localhost:8080/"
    },
    "executionInfo": {
     "elapsed": 9,
     "status": "ok",
     "timestamp": 1667107406239,
     "user": {
      "displayName": "Mohammed Saifuddin",
      "userId": "00132744978255071993"
     },
     "user_tz": -330
    },
    "id": "Qy0KSXnr338g",
    "outputId": "c7b5b786-aa3c-4dcf-be97-b6d6267628cf"
   },
   "outputs": [
    {
     "name": "stdout",
     "output_type": "stream",
     "text": [
      "(47528, 300)\n"
     ]
    }
   ],
   "source": [
    "print(embedding_matrix.shape)"
   ]
  },
  {
   "cell_type": "markdown",
   "metadata": {
    "id": "fwhn4JwknDVD"
   },
   "source": [
    "1.2 Categorical feature vectorization\n",
    "\n",
    "Reference: https://stackoverflow.com/a/65538195/7579443"
   ]
  },
  {
   "cell_type": "code",
   "execution_count": 34,
   "metadata": {
    "executionInfo": {
     "elapsed": 5,
     "status": "ok",
     "timestamp": 1667107406239,
     "user": {
      "displayName": "Mohammed Saifuddin",
      "userId": "00132744978255071993"
     },
     "user_tz": -330
    },
    "id": "mOG9t2ZpnDVE"
   },
   "outputs": [],
   "source": [
    "def data_column_ordinal_encoder(X_train, X_cv, X_test, col):\n",
    "    \"\"\"\n",
    "    This function encodes the categorical column.\n",
    "    \"\"\"\n",
    "    X_train_col = X_train[col].values.reshape(-1, 1)\n",
    "    X_cv_col = X_cv[col].values.reshape(-1, 1)\n",
    "    X_test_col = X_test[col].values.reshape(-1, 1)\n",
    "\n",
    "    ord_encoder = OrdinalEncoder(handle_unknown='use_encoded_value', unknown_value=-1)\n",
    "    ord_encoder.fit(X=X_train_col)\n",
    "\n",
    "    X_train_col_vect = ord_encoder.transform(X=X_train_col)\n",
    "    X_cv_col_vect = ord_encoder.transform(X=X_cv_col)\n",
    "    X_test_col_vect = ord_encoder.transform(X=X_test_col)\n",
    "    \n",
    "    return X_train_col_vect, X_cv_col_vect, X_test_col_vect"
   ]
  },
  {
   "cell_type": "markdown",
   "metadata": {
    "id": "QUhVmMeS_cwU"
   },
   "source": [
    "school_state"
   ]
  },
  {
   "cell_type": "code",
   "execution_count": 35,
   "metadata": {
    "executionInfo": {
     "elapsed": 6,
     "status": "ok",
     "timestamp": 1667107406240,
     "user": {
      "displayName": "Mohammed Saifuddin",
      "userId": "00132744978255071993"
     },
     "user_tz": -330
    },
    "id": "r_0InQhD-rR3"
   },
   "outputs": [],
   "source": [
    "(X_train_school_state_vect, \n",
    " X_cv_school_state_vect, \n",
    " X_test_school_state_vect) = data_column_ordinal_encoder(X_train=X_train,\n",
    "                                                         X_cv=X_cv,\n",
    "                                                         X_test=X_test,\n",
    "                                                         col='school_state')"
   ]
  },
  {
   "cell_type": "markdown",
   "metadata": {
    "id": "uasDiV-dAhpA"
   },
   "source": [
    "clean_categories"
   ]
  },
  {
   "cell_type": "code",
   "execution_count": 36,
   "metadata": {
    "executionInfo": {
     "elapsed": 837,
     "status": "ok",
     "timestamp": 1667107407071,
     "user": {
      "displayName": "Mohammed Saifuddin",
      "userId": "00132744978255071993"
     },
     "user_tz": -330
    },
    "id": "wvtty17_-rK2"
   },
   "outputs": [],
   "source": [
    "(X_train_clean_categories_vect,\n",
    " X_cv_clean_categories_vect,\n",
    " X_test_clean_categories_vect) = data_column_ordinal_encoder(X_train=X_train,\n",
    "                                                                   X_cv=X_cv,\n",
    "                                                                   X_test=X_test,\n",
    "                                                                   col='clean_categories')"
   ]
  },
  {
   "cell_type": "markdown",
   "metadata": {
    "id": "duC_thAhA3yK"
   },
   "source": [
    "clean_subcategories"
   ]
  },
  {
   "cell_type": "code",
   "execution_count": 37,
   "metadata": {
    "executionInfo": {
     "elapsed": 22,
     "status": "ok",
     "timestamp": 1667107407071,
     "user": {
      "displayName": "Mohammed Saifuddin",
      "userId": "00132744978255071993"
     },
     "user_tz": -330
    },
    "id": "C1ILHCyd-rIg"
   },
   "outputs": [],
   "source": [
    "(X_train_clean_subcategories_vect,\n",
    " X_cv_clean_subcategories_vect,\n",
    " X_test_clean_subcategories_vect) = data_column_ordinal_encoder(X_train=X_train,\n",
    "                                                                X_cv=X_cv,\n",
    "                                                                X_test=X_test,\n",
    "                                                                col='clean_subcategories')"
   ]
  },
  {
   "cell_type": "markdown",
   "metadata": {
    "id": "GNn7i3uUAF64"
   },
   "source": [
    "project_grade_category"
   ]
  },
  {
   "cell_type": "code",
   "execution_count": 38,
   "metadata": {
    "executionInfo": {
     "elapsed": 22,
     "status": "ok",
     "timestamp": 1667107407072,
     "user": {
      "displayName": "Mohammed Saifuddin",
      "userId": "00132744978255071993"
     },
     "user_tz": -330
    },
    "id": "tFCmVUxF-rNV"
   },
   "outputs": [],
   "source": [
    "(X_train_project_grade_category_vect,\n",
    " X_cv_project_grade_category_vect,\n",
    " X_test_project_grade_category_vect) = data_column_ordinal_encoder(X_train=X_train,\n",
    "                                                                   X_cv=X_cv,\n",
    "                                                                   X_test=X_test,\n",
    "                                                                   col='project_grade_category')"
   ]
  },
  {
   "cell_type": "markdown",
   "metadata": {
    "id": "hoIWt2MB_x0H"
   },
   "source": [
    "teacher_prefix"
   ]
  },
  {
   "cell_type": "code",
   "execution_count": 39,
   "metadata": {
    "executionInfo": {
     "elapsed": 22,
     "status": "ok",
     "timestamp": 1667107407072,
     "user": {
      "displayName": "Mohammed Saifuddin",
      "userId": "00132744978255071993"
     },
     "user_tz": -330
    },
    "id": "qkHYjCbh-rPF"
   },
   "outputs": [],
   "source": [
    "(X_train_teacher_prefix_vect,\n",
    " X_cv_teacher_prefix_vect,\n",
    " X_test_teacher_prefix_vect) = data_column_ordinal_encoder(X_train=X_train,\n",
    "                                                           X_cv=X_cv,\n",
    "                                                           X_test=X_test,\n",
    "                                                           col='teacher_prefix')"
   ]
  },
  {
   "cell_type": "markdown",
   "metadata": {
    "id": "wMkatYimnDVE"
   },
   "source": [
    "1.3 Numerical feature vectorization"
   ]
  },
  {
   "cell_type": "code",
   "execution_count": 40,
   "metadata": {
    "executionInfo": {
     "elapsed": 21,
     "status": "ok",
     "timestamp": 1667107407072,
     "user": {
      "displayName": "Mohammed Saifuddin",
      "userId": "00132744978255071993"
     },
     "user_tz": -330
    },
    "id": "g5gx7UrwnDVE"
   },
   "outputs": [],
   "source": [
    "def stack_values(df, col_name_1, col_name_2):\n",
    "    \"\"\"\n",
    "    Stacks the standardized columns.\n",
    "    \"\"\"\n",
    "    col_list_1 = ((df[col_name_1] - df[col_name_1].mean()) / df[col_name_1].std()).to_list()\n",
    "    col_list_2 = ((df[col_name_2] - df[col_name_2].mean()) / df[col_name_2].std()).to_list()\n",
    "    return np.matrix(list(zip(col_list_1, col_list_2)))"
   ]
  },
  {
   "cell_type": "code",
   "execution_count": 41,
   "metadata": {
    "executionInfo": {
     "elapsed": 22,
     "status": "ok",
     "timestamp": 1667107407073,
     "user": {
      "displayName": "Mohammed Saifuddin",
      "userId": "00132744978255071993"
     },
     "user_tz": -330
    },
    "id": "MiNjaYV6nDVE"
   },
   "outputs": [],
   "source": [
    "X_train_numerical_vect = stack_values(df=X_train, col_name_1='teacher_number_of_previously_posted_projects', col_name_2='price')\n",
    "X_cv_numerical_vect = stack_values(df=X_cv, col_name_1='teacher_number_of_previously_posted_projects', col_name_2='price')\n",
    "X_test_numerical_vect = stack_values(df=X_test, col_name_1='teacher_number_of_previously_posted_projects', col_name_2='price')"
   ]
  },
  {
   "cell_type": "code",
   "execution_count": 42,
   "metadata": {
    "colab": {
     "base_uri": "https://localhost:8080/"
    },
    "executionInfo": {
     "elapsed": 22,
     "status": "ok",
     "timestamp": 1667107407073,
     "user": {
      "displayName": "Mohammed Saifuddin",
      "userId": "00132744978255071993"
     },
     "user_tz": -330
    },
    "id": "2kdFPqIMQt6x",
    "outputId": "b82ed24c-e0ac-4c7e-c611-316ab7fc31c9"
   },
   "outputs": [
    {
     "name": "stdout",
     "output_type": "stream",
     "text": [
      "(69918, 500)\n",
      "(69918, 1)\n",
      "(69918, 1)\n",
      "(69918, 1)\n",
      "(69918, 1)\n",
      "(69918, 1)\n",
      "(69918, 2)\n"
     ]
    }
   ],
   "source": [
    "print(X_train_essay_padded.shape)\n",
    "print(X_train_school_state_vect.shape)\n",
    "print(X_train_teacher_prefix_vect.shape)\n",
    "print(X_train_project_grade_category_vect.shape)\n",
    "print(X_train_clean_categories_vect.shape)\n",
    "print(X_train_clean_subcategories_vect.shape)\n",
    "print(X_train_numerical_vect.shape)"
   ]
  },
  {
   "cell_type": "code",
   "execution_count": 43,
   "metadata": {
    "colab": {
     "base_uri": "https://localhost:8080/"
    },
    "executionInfo": {
     "elapsed": 18,
     "status": "ok",
     "timestamp": 1667107407073,
     "user": {
      "displayName": "Mohammed Saifuddin",
      "userId": "00132744978255071993"
     },
     "user_tz": -330
    },
    "id": "DjSMw5gSQ7F2",
    "outputId": "39917be8-7722-4483-ca77-63397931454d"
   },
   "outputs": [
    {
     "name": "stdout",
     "output_type": "stream",
     "text": [
      "(17480, 500)\n",
      "(17480, 1)\n",
      "(17480, 1)\n",
      "(17480, 1)\n",
      "(17480, 1)\n",
      "(17480, 1)\n",
      "(17480, 2)\n"
     ]
    }
   ],
   "source": [
    "print(X_cv_essay_padded.shape)\n",
    "print(X_cv_school_state_vect.shape)\n",
    "print(X_cv_teacher_prefix_vect.shape)\n",
    "print(X_cv_project_grade_category_vect.shape)\n",
    "print(X_cv_clean_categories_vect.shape)\n",
    "print(X_cv_clean_subcategories_vect.shape)\n",
    "print(X_cv_numerical_vect.shape)"
   ]
  },
  {
   "cell_type": "code",
   "execution_count": 44,
   "metadata": {
    "colab": {
     "base_uri": "https://localhost:8080/"
    },
    "executionInfo": {
     "elapsed": 17,
     "status": "ok",
     "timestamp": 1667107407074,
     "user": {
      "displayName": "Mohammed Saifuddin",
      "userId": "00132744978255071993"
     },
     "user_tz": -330
    },
    "id": "cfEYHn3AQ64c",
    "outputId": "115f2a04-a13d-4a61-db3c-c463f6dbe096"
   },
   "outputs": [
    {
     "name": "stdout",
     "output_type": "stream",
     "text": [
      "(21850, 500)\n",
      "(21850, 1)\n",
      "(21850, 1)\n",
      "(21850, 1)\n",
      "(21850, 1)\n",
      "(21850, 1)\n",
      "(21850, 2)\n"
     ]
    }
   ],
   "source": [
    "print(X_test_essay_padded.shape)\n",
    "print(X_test_school_state_vect.shape)\n",
    "print(X_test_teacher_prefix_vect.shape)\n",
    "print(X_test_project_grade_category_vect.shape)\n",
    "print(X_test_clean_categories_vect.shape)\n",
    "print(X_test_clean_subcategories_vect.shape)\n",
    "print(X_test_numerical_vect.shape)"
   ]
  },
  {
   "cell_type": "markdown",
   "metadata": {
    "id": "F6bQoUvqTMoj"
   },
   "source": [
    "Consolidating the data"
   ]
  },
  {
   "cell_type": "code",
   "execution_count": 45,
   "metadata": {
    "executionInfo": {
     "elapsed": 14,
     "status": "ok",
     "timestamp": 1667107407074,
     "user": {
      "displayName": "Mohammed Saifuddin",
      "userId": "00132744978255071993"
     },
     "user_tz": -330
    },
    "id": "P5oN39d4TMG0"
   },
   "outputs": [],
   "source": [
    "X_train_all = [\n",
    "    X_train_essay_padded, \n",
    "    X_train_school_state_vect, \n",
    "    X_train_teacher_prefix_vect, \n",
    "    X_train_project_grade_category_vect, \n",
    "    X_train_clean_categories_vect, \n",
    "    X_train_clean_subcategories_vect, \n",
    "    X_train_numerical_vect\n",
    "]\n",
    "\n",
    "X_cv_all = [\n",
    "    X_cv_essay_padded, \n",
    "    X_cv_school_state_vect, \n",
    "    X_cv_teacher_prefix_vect, \n",
    "    X_cv_project_grade_category_vect, \n",
    "    X_cv_clean_categories_vect, \n",
    "    X_cv_clean_subcategories_vect, \n",
    "    X_cv_numerical_vect\n",
    "]\n",
    "\n",
    "X_test_all = [\n",
    "    X_test_essay_padded, \n",
    "    X_test_school_state_vect, \n",
    "    X_test_teacher_prefix_vect, \n",
    "    X_test_project_grade_category_vect, \n",
    "    X_test_clean_categories_vect, \n",
    "    X_test_clean_subcategories_vect, \n",
    "    X_test_numerical_vect\n",
    "]"
   ]
  },
  {
   "cell_type": "code",
   "execution_count": 46,
   "metadata": {
    "colab": {
     "base_uri": "https://localhost:8080/"
    },
    "executionInfo": {
     "elapsed": 14,
     "status": "ok",
     "timestamp": 1667107407074,
     "user": {
      "displayName": "Mohammed Saifuddin",
      "userId": "00132744978255071993"
     },
     "user_tz": -330
    },
    "id": "Tac9tXBtTKeU",
    "outputId": "4fd12267-a1c3-45f9-ec24-0eb938c33e96"
   },
   "outputs": [
    {
     "name": "stdout",
     "output_type": "stream",
     "text": [
      "{'school_state': 51, 'clean_subcategories': 387, 'project_grade_category': 4, 'clean_categories': 51, 'teacher_prefix': 5}\n"
     ]
    }
   ],
   "source": [
    "catsize_dict = {col : X_train[col].nunique() for col in catcols}\n",
    "print(catsize_dict)"
   ]
  },
  {
   "cell_type": "markdown",
   "metadata": {
    "id": "m2KIA0uWnDVE"
   },
   "source": [
    "1.4 Defining the model"
   ]
  },
  {
   "cell_type": "code",
   "execution_count": 47,
   "metadata": {
    "executionInfo": {
     "elapsed": 12,
     "status": "ok",
     "timestamp": 1667107407075,
     "user": {
      "displayName": "Mohammed Saifuddin",
      "userId": "00132744978255071993"
     },
     "user_tz": -330
    },
    "id": "rpOvdh7gkEug"
   },
   "outputs": [],
   "source": [
    "%load_ext tensorboard\n",
    "\n",
    "# Clear any logs from previous runs\n",
    "!rm -rf ./logs/"
   ]
  },
  {
   "cell_type": "code",
   "execution_count": 48,
   "metadata": {
    "executionInfo": {
     "elapsed": 11,
     "status": "ok",
     "timestamp": 1667107407075,
     "user": {
      "displayName": "Mohammed Saifuddin",
      "userId": "00132744978255071993"
     },
     "user_tz": -330
    },
    "id": "Wjf6njDinDVE"
   },
   "outputs": [],
   "source": [
    "tf.keras.backend.clear_session()"
   ]
  },
  {
   "cell_type": "code",
   "execution_count": 49,
   "metadata": {
    "executionInfo": {
     "elapsed": 2929,
     "status": "ok",
     "timestamp": 1667107409993,
     "user": {
      "displayName": "Mohammed Saifuddin",
      "userId": "00132744978255071993"
     },
     "user_tz": -330
    },
    "id": "7T1NWOF-nDVE"
   },
   "outputs": [],
   "source": [
    "# essay\n",
    "input_text_seq = Input(shape=(max_len, ), name='Input_Text_Sequences')\n",
    "embedding_text_seq = Embedding(input_dim=embedding_matrix.shape[0],\n",
    "                               output_dim=embedding_matrix.shape[1],\n",
    "                               weights=[embedding_matrix],\n",
    "                               input_length=max_len,\n",
    "                               trainable=False,\n",
    "                               name='Embedding_Text_Sequences')(input_text_seq)\n",
    "lstm_text_seq = LSTM(units=100, return_sequences=True, name='LSTM')(embedding_text_seq)\n",
    "flatten_text_seq = Flatten(name='Flatten_Text_Sequences')(lstm_text_seq)\n",
    "\n",
    "# school_state\n",
    "input_school_state = Input(shape=(1, ), name='Input_School_State')\n",
    "embedding_school_state = Embedding(input_dim=catsize_dict['school_state'],\n",
    "                                   output_dim=10,\n",
    "                                   input_length=1,\n",
    "                                   name='Embedding_School_State')(input_school_state)\n",
    "flatten_school_state = Flatten(name='Flatten_School_State')(embedding_school_state)\n",
    "\n",
    "# project_grade_category\n",
    "input_project_grade_category = Input(shape=(1, ), name='Input_Project_Grade_Category')\n",
    "embedding_project_grade_category = Embedding(input_dim=catsize_dict['project_grade_category'],\n",
    "                                             output_dim=10,\n",
    "                                             input_length=1,\n",
    "                                             name='Embedding_Project_Grade_Category')(input_project_grade_category)\n",
    "flatten_project_grade_category = Flatten(name='Flatten_Project_Grade_Category')(embedding_project_grade_category)\n",
    "\n",
    "# clean_categories\n",
    "input_clean_categories = Input(shape=(1, ), name='Input_Clean_Categories')\n",
    "embedding_clean_categories = Embedding(input_dim=catsize_dict['clean_categories'],\n",
    "                                       output_dim=10,\n",
    "                                       input_length=1,\n",
    "                                       name='Embedding_Clean_Categories')(input_clean_categories)\n",
    "flatten_clean_categories = Flatten(name='Flatten_Clean_Categories')(embedding_clean_categories)\n",
    "\n",
    "# clean_subcategories\n",
    "input_clean_subcategories = Input(shape=(1, ), name='Input_Clean_SubCategories')\n",
    "embedding_clean_subcategories = Embedding(input_dim=catsize_dict['clean_subcategories'],\n",
    "                                          output_dim=10,\n",
    "                                          input_length=1,\n",
    "                                          name='Embedding_Clean_SubCategories')(input_clean_subcategories)\n",
    "flatten_clean_subcategories = Flatten(name='Flatten_Clean_SubCategories')(embedding_clean_subcategories)\n",
    "\n",
    "# teacher_prefix\n",
    "input_teacher_prefix = Input(shape=(1, ), name='Input_Teacher_Prefix')\n",
    "embedding_teacher_prefix = Embedding(input_dim=catsize_dict['teacher_prefix'],\n",
    "                                     output_dim=10,\n",
    "                                     input_length=1,\n",
    "                                     name='Embedding_Teacher_Prefix')(input_teacher_prefix)\n",
    "flatten_teacher_prefix = Flatten(name='Flatten_Teacher_Prefix')(embedding_teacher_prefix)\n",
    "\n",
    "# numericals\n",
    "input_numericals = Input(shape=(2, ), name='Input_Numericals')\n",
    "dense_numericals = Dense(units=16,\n",
    "                         kernel_initializer=tf.keras.initializers.GlorotNormal(),\n",
    "                         kernel_regularizer=tf.keras.regularizers.L2(0.0001))(input_numericals)\n",
    "dense_numericals = LeakyReLU(name='Dense_Numericals')(dense_numericals)\n",
    "\n",
    "# concatenate\n",
    "inputs = [flatten_text_seq, flatten_school_state, flatten_project_grade_category, \n",
    "          flatten_clean_categories, flatten_clean_subcategories, \n",
    "          flatten_teacher_prefix, dense_numericals]\n",
    "concatenate_layer = concatenate(inputs=inputs, name='Concatenation')\n",
    "\n",
    "# dense\n",
    "dense_1 = Dense(units=32,\n",
    "                kernel_initializer=tf.keras.initializers.GlorotNormal(),\n",
    "                kernel_regularizer=tf.keras.regularizers.L2(0.001),\n",
    "                name='Dense_1_1')(concatenate_layer)\n",
    "dense_1 = LeakyReLU(name='Dense_1_2')(dense_1)\n",
    "drop_1 = Dropout(rate=0.3, name='Dropout_1')(dense_1)\n",
    "\n",
    "# dense\n",
    "dense_2 = Dense(units=32,\n",
    "                kernel_initializer=tf.keras.initializers.GlorotNormal(),\n",
    "                kernel_regularizer=tf.keras.regularizers.L2(0.001),\n",
    "                name='Dense_2_1')(drop_1)\n",
    "dense_2 = LeakyReLU(name='Dense_2_2')(dense_2)\n",
    "drop_2 = Dropout(rate=0.2, name='Dropout_2')(dense_2)\n",
    "\n",
    "# dense\n",
    "dense_3 = Dense(units=16,\n",
    "                kernel_initializer=tf.keras.initializers.GlorotNormal(),\n",
    "                kernel_regularizer=tf.keras.regularizers.L2(0.001),\n",
    "                name='Dense_3_1')(drop_2)\n",
    "dense_3 = LeakyReLU(name='Dense_3_2')(dense_3)\n",
    "\n",
    "output_layer = Dense(units=2, activation='softmax', name='Output')(dense_3)"
   ]
  },
  {
   "cell_type": "code",
   "execution_count": 50,
   "metadata": {
    "executionInfo": {
     "elapsed": 75,
     "status": "ok",
     "timestamp": 1667107409993,
     "user": {
      "displayName": "Mohammed Saifuddin",
      "userId": "00132744978255071993"
     },
     "user_tz": -330
    },
    "id": "PXtlCFUqfC0I"
   },
   "outputs": [],
   "source": [
    "inputs_layers = [input_text_seq, input_school_state, input_teacher_prefix, input_project_grade_category, \n",
    "                 input_clean_categories, input_clean_subcategories, input_numericals]"
   ]
  },
  {
   "cell_type": "code",
   "execution_count": 51,
   "metadata": {
    "executionInfo": {
     "elapsed": 73,
     "status": "ok",
     "timestamp": 1667107409993,
     "user": {
      "displayName": "Mohammed Saifuddin",
      "userId": "00132744978255071993"
     },
     "user_tz": -330
    },
    "id": "BjOTT-1tg90R"
   },
   "outputs": [],
   "source": [
    "model_1 = Model(inputs=inputs_layers, outputs=output_layer)"
   ]
  },
  {
   "cell_type": "markdown",
   "metadata": {
    "id": "lnZm23q1hUaK"
   },
   "source": [
    "Reference: https://www.tensorflow.org/api_docs/python/tf/numpy_function"
   ]
  },
  {
   "cell_type": "code",
   "execution_count": 52,
   "metadata": {
    "executionInfo": {
     "elapsed": 73,
     "status": "ok",
     "timestamp": 1667107409994,
     "user": {
      "displayName": "Mohammed Saifuddin",
      "userId": "00132744978255071993"
     },
     "user_tz": -330
    },
    "id": "TpYjhU56hQE7"
   },
   "outputs": [],
   "source": [
    "def tf_auc(y_true, y_pred):\n",
    "    \"\"\"\n",
    "    AUC function for tf.\n",
    "    \"\"\"\n",
    "    func = lambda y_true, y_pred : metrics.roc_auc_score(y_true=y_true, y_score=y_pred)\n",
    "    score = tf.numpy_function(func=func, inp=[y_true, y_pred], Tout=tf.double, name='custom_auc')\n",
    "    return score"
   ]
  },
  {
   "cell_type": "code",
   "execution_count": 53,
   "metadata": {
    "executionInfo": {
     "elapsed": 72,
     "status": "ok",
     "timestamp": 1667107409994,
     "user": {
      "displayName": "Mohammed Saifuddin",
      "userId": "00132744978255071993"
     },
     "user_tz": -330
    },
    "id": "lNrUNR0og9xa"
   },
   "outputs": [],
   "source": [
    "optimizer = tf.keras.optimizers.Adam(learning_rate=0.01)\n",
    "model_1.compile(optimizer=optimizer, loss='binary_crossentropy', metrics=['accuracy', tf_auc])"
   ]
  },
  {
   "cell_type": "code",
   "execution_count": 54,
   "metadata": {
    "colab": {
     "base_uri": "https://localhost:8080/"
    },
    "executionInfo": {
     "elapsed": 861,
     "status": "ok",
     "timestamp": 1667107410783,
     "user": {
      "displayName": "Mohammed Saifuddin",
      "userId": "00132744978255071993"
     },
     "user_tz": -330
    },
    "id": "ZDhiKU1Jg9ua",
    "outputId": "ea225048-8cec-4b20-c234-8090ca93e77e"
   },
   "outputs": [
    {
     "name": "stdout",
     "output_type": "stream",
     "text": [
      "Model: \"model\"\n",
      "__________________________________________________________________________________________________\n",
      " Layer (type)                   Output Shape         Param #     Connected to                     \n",
      "==================================================================================================\n",
      " Input_Text_Sequences (InputLay  [(None, 500)]       0           []                               \n",
      " er)                                                                                              \n",
      "                                                                                                  \n",
      " Embedding_Text_Sequences (Embe  (None, 500, 300)    14258400    ['Input_Text_Sequences[0][0]']   \n",
      " dding)                                                                                           \n",
      "                                                                                                  \n",
      " Input_School_State (InputLayer  [(None, 1)]         0           []                               \n",
      " )                                                                                                \n",
      "                                                                                                  \n",
      " Input_Project_Grade_Category (  [(None, 1)]         0           []                               \n",
      " InputLayer)                                                                                      \n",
      "                                                                                                  \n",
      " Input_Clean_Categories (InputL  [(None, 1)]         0           []                               \n",
      " ayer)                                                                                            \n",
      "                                                                                                  \n",
      " Input_Clean_SubCategories (Inp  [(None, 1)]         0           []                               \n",
      " utLayer)                                                                                         \n",
      "                                                                                                  \n",
      " Input_Teacher_Prefix (InputLay  [(None, 1)]         0           []                               \n",
      " er)                                                                                              \n",
      "                                                                                                  \n",
      " Input_Numericals (InputLayer)  [(None, 2)]          0           []                               \n",
      "                                                                                                  \n",
      " LSTM (LSTM)                    (None, 500, 100)     160400      ['Embedding_Text_Sequences[0][0]'\n",
      "                                                                 ]                                \n",
      "                                                                                                  \n",
      " Embedding_School_State (Embedd  (None, 1, 10)       510         ['Input_School_State[0][0]']     \n",
      " ing)                                                                                             \n",
      "                                                                                                  \n",
      " Embedding_Project_Grade_Catego  (None, 1, 10)       40          ['Input_Project_Grade_Category[0]\n",
      " ry (Embedding)                                                  [0]']                            \n",
      "                                                                                                  \n",
      " Embedding_Clean_Categories (Em  (None, 1, 10)       510         ['Input_Clean_Categories[0][0]'] \n",
      " bedding)                                                                                         \n",
      "                                                                                                  \n",
      " Embedding_Clean_SubCategories   (None, 1, 10)       3870        ['Input_Clean_SubCategories[0][0]\n",
      " (Embedding)                                                     ']                               \n",
      "                                                                                                  \n",
      " Embedding_Teacher_Prefix (Embe  (None, 1, 10)       50          ['Input_Teacher_Prefix[0][0]']   \n",
      " dding)                                                                                           \n",
      "                                                                                                  \n",
      " dense (Dense)                  (None, 16)           48          ['Input_Numericals[0][0]']       \n",
      "                                                                                                  \n",
      " Flatten_Text_Sequences (Flatte  (None, 50000)       0           ['LSTM[0][0]']                   \n",
      " n)                                                                                               \n",
      "                                                                                                  \n",
      " Flatten_School_State (Flatten)  (None, 10)          0           ['Embedding_School_State[0][0]'] \n",
      "                                                                                                  \n",
      " Flatten_Project_Grade_Category  (None, 10)          0           ['Embedding_Project_Grade_Categor\n",
      "  (Flatten)                                                      y[0][0]']                        \n",
      "                                                                                                  \n",
      " Flatten_Clean_Categories (Flat  (None, 10)          0           ['Embedding_Clean_Categories[0][0\n",
      " ten)                                                            ]']                              \n",
      "                                                                                                  \n",
      " Flatten_Clean_SubCategories (F  (None, 10)          0           ['Embedding_Clean_SubCategories[0\n",
      " latten)                                                         ][0]']                           \n",
      "                                                                                                  \n",
      " Flatten_Teacher_Prefix (Flatte  (None, 10)          0           ['Embedding_Teacher_Prefix[0][0]'\n",
      " n)                                                              ]                                \n",
      "                                                                                                  \n",
      " Dense_Numericals (LeakyReLU)   (None, 16)           0           ['dense[0][0]']                  \n",
      "                                                                                                  \n",
      " Concatenation (Concatenate)    (None, 50066)        0           ['Flatten_Text_Sequences[0][0]', \n",
      "                                                                  'Flatten_School_State[0][0]',   \n",
      "                                                                  'Flatten_Project_Grade_Category[\n",
      "                                                                 0][0]',                          \n",
      "                                                                  'Flatten_Clean_Categories[0][0]'\n",
      "                                                                 , 'Flatten_Clean_SubCategories[0]\n",
      "                                                                 [0]',                            \n",
      "                                                                  'Flatten_Teacher_Prefix[0][0]', \n",
      "                                                                  'Dense_Numericals[0][0]']       \n",
      "                                                                                                  \n",
      " Dense_1_1 (Dense)              (None, 32)           1602144     ['Concatenation[0][0]']          \n",
      "                                                                                                  \n",
      " Dense_1_2 (LeakyReLU)          (None, 32)           0           ['Dense_1_1[0][0]']              \n",
      "                                                                                                  \n",
      " Dropout_1 (Dropout)            (None, 32)           0           ['Dense_1_2[0][0]']              \n",
      "                                                                                                  \n",
      " Dense_2_1 (Dense)              (None, 32)           1056        ['Dropout_1[0][0]']              \n",
      "                                                                                                  \n",
      " Dense_2_2 (LeakyReLU)          (None, 32)           0           ['Dense_2_1[0][0]']              \n",
      "                                                                                                  \n",
      " Dropout_2 (Dropout)            (None, 32)           0           ['Dense_2_2[0][0]']              \n",
      "                                                                                                  \n",
      " Dense_3_1 (Dense)              (None, 16)           528         ['Dropout_2[0][0]']              \n",
      "                                                                                                  \n",
      " Dense_3_2 (LeakyReLU)          (None, 16)           0           ['Dense_3_1[0][0]']              \n",
      "                                                                                                  \n",
      " Output (Dense)                 (None, 2)            34          ['Dense_3_2[0][0]']              \n",
      "                                                                                                  \n",
      "==================================================================================================\n",
      "Total params: 16,027,590\n",
      "Trainable params: 1,769,190\n",
      "Non-trainable params: 14,258,400\n",
      "__________________________________________________________________________________________________\n"
     ]
    }
   ],
   "source": [
    "model_1.summary()"
   ]
  },
  {
   "cell_type": "code",
   "execution_count": 55,
   "metadata": {
    "executionInfo": {
     "elapsed": 8,
     "status": "ok",
     "timestamp": 1667107410783,
     "user": {
      "displayName": "Mohammed Saifuddin",
      "userId": "00132744978255071993"
     },
     "user_tz": -330
    },
    "id": "WuqdPBBEi6C3"
   },
   "outputs": [],
   "source": [
    "filepath_1 = \"model_save/best_model_1.h5\"\n",
    "model_save_callback_1 = ModelCheckpoint(filepath=filepath_1, monitor='val_tf_auc', verbose=1, save_best_only=True, mode='max')\n",
    "\n",
    "early_stop_callback_1 = EarlyStopping(monitor='val_loss', min_delta=0.01, patience=5, verbose=1)\n",
    "\n",
    "log_dir_1 = os.path.join('logs', 'fits', datetime.datetime.now().strftime(\"%Y%m%d-%H%M%S\"))\n",
    "tensorboard_callback_1 = TensorBoard(log_dir=log_dir_1, histogram_freq=1)\n",
    "\n",
    "callbacks_1 = [model_save_callback_1, early_stop_callback_1, tensorboard_callback_1]"
   ]
  },
  {
   "cell_type": "markdown",
   "metadata": {
    "id": "9DmgBLP1nDVE"
   },
   "source": [
    "1.5 Fitting your model"
   ]
  },
  {
   "cell_type": "code",
   "execution_count": 56,
   "metadata": {
    "colab": {
     "base_uri": "https://localhost:8080/"
    },
    "executionInfo": {
     "elapsed": 315360,
     "status": "ok",
     "timestamp": 1667107726136,
     "user": {
      "displayName": "Mohammed Saifuddin",
      "userId": "00132744978255071993"
     },
     "user_tz": -330
    },
    "id": "wK98FUjfnDVF",
    "outputId": "07bd4340-b963-4cb7-f60d-7fb82afca246"
   },
   "outputs": [
    {
     "name": "stdout",
     "output_type": "stream",
     "text": [
      "Epoch 1/50\n",
      "175/175 [==============================] - ETA: 0s - loss: 1.9458 - accuracy: 0.8328 - tf_auc: 0.5532\n",
      "Epoch 1: val_tf_auc improved from -inf to 0.62818, saving model to model_save/best_model_1.h5\n",
      "175/175 [==============================] - 32s 140ms/step - loss: 1.9458 - accuracy: 0.8328 - tf_auc: 0.5532 - val_loss: 0.5734 - val_accuracy: 0.8486 - val_tf_auc: 0.6282\n",
      "Epoch 2/50\n",
      "175/175 [==============================] - ETA: 0s - loss: 0.5067 - accuracy: 0.8485 - tf_auc: 0.6117\n",
      "Epoch 2: val_tf_auc improved from 0.62818 to 0.63751, saving model to model_save/best_model_1.h5\n",
      "175/175 [==============================] - 23s 129ms/step - loss: 0.5067 - accuracy: 0.8485 - tf_auc: 0.6117 - val_loss: 0.4738 - val_accuracy: 0.8485 - val_tf_auc: 0.6375\n",
      "Epoch 3/50\n",
      "175/175 [==============================] - ETA: 0s - loss: 0.4732 - accuracy: 0.8485 - tf_auc: 0.6423\n",
      "Epoch 3: val_tf_auc improved from 0.63751 to 0.66111, saving model to model_save/best_model_1.h5\n",
      "175/175 [==============================] - 23s 129ms/step - loss: 0.4732 - accuracy: 0.8485 - tf_auc: 0.6423 - val_loss: 0.4714 - val_accuracy: 0.8485 - val_tf_auc: 0.6611\n",
      "Epoch 4/50\n",
      "175/175 [==============================] - ETA: 0s - loss: 0.4644 - accuracy: 0.8485 - tf_auc: 0.6764\n",
      "Epoch 4: val_tf_auc improved from 0.66111 to 0.69374, saving model to model_save/best_model_1.h5\n",
      "175/175 [==============================] - 24s 137ms/step - loss: 0.4644 - accuracy: 0.8485 - tf_auc: 0.6764 - val_loss: 0.4573 - val_accuracy: 0.8486 - val_tf_auc: 0.6937\n",
      "Epoch 5/50\n",
      "175/175 [==============================] - ETA: 0s - loss: 0.4580 - accuracy: 0.8485 - tf_auc: 0.6993\n",
      "Epoch 5: val_tf_auc improved from 0.69374 to 0.71091, saving model to model_save/best_model_1.h5\n",
      "175/175 [==============================] - 24s 135ms/step - loss: 0.4580 - accuracy: 0.8485 - tf_auc: 0.6993 - val_loss: 0.4511 - val_accuracy: 0.8483 - val_tf_auc: 0.7109\n",
      "Epoch 6/50\n",
      "175/175 [==============================] - ETA: 0s - loss: 0.4502 - accuracy: 0.8489 - tf_auc: 0.7197\n",
      "Epoch 6: val_tf_auc improved from 0.71091 to 0.71849, saving model to model_save/best_model_1.h5\n",
      "175/175 [==============================] - 24s 135ms/step - loss: 0.4502 - accuracy: 0.8489 - tf_auc: 0.7197 - val_loss: 0.4512 - val_accuracy: 0.8488 - val_tf_auc: 0.7185\n",
      "Epoch 7/50\n",
      "175/175 [==============================] - ETA: 0s - loss: 0.4446 - accuracy: 0.8490 - tf_auc: 0.7345\n",
      "Epoch 7: val_tf_auc improved from 0.71849 to 0.71911, saving model to model_save/best_model_1.h5\n",
      "175/175 [==============================] - 24s 140ms/step - loss: 0.4446 - accuracy: 0.8490 - tf_auc: 0.7345 - val_loss: 0.4480 - val_accuracy: 0.8494 - val_tf_auc: 0.7191\n",
      "Epoch 8/50\n",
      "175/175 [==============================] - ETA: 0s - loss: 0.4373 - accuracy: 0.8509 - tf_auc: 0.7469\n",
      "Epoch 8: val_tf_auc improved from 0.71911 to 0.72509, saving model to model_save/best_model_1.h5\n",
      "175/175 [==============================] - 23s 133ms/step - loss: 0.4373 - accuracy: 0.8509 - tf_auc: 0.7469 - val_loss: 0.4470 - val_accuracy: 0.8497 - val_tf_auc: 0.7251\n",
      "Epoch 9/50\n",
      "175/175 [==============================] - ETA: 0s - loss: 0.4353 - accuracy: 0.8523 - tf_auc: 0.7604\n",
      "Epoch 9: val_tf_auc improved from 0.72509 to 0.73015, saving model to model_save/best_model_1.h5\n",
      "175/175 [==============================] - 24s 135ms/step - loss: 0.4353 - accuracy: 0.8523 - tf_auc: 0.7604 - val_loss: 0.4461 - val_accuracy: 0.8491 - val_tf_auc: 0.7301\n",
      "Epoch 10/50\n",
      "175/175 [==============================] - ETA: 0s - loss: 0.4338 - accuracy: 0.8530 - tf_auc: 0.7702\n",
      "Epoch 10: val_tf_auc did not improve from 0.73015\n",
      "175/175 [==============================] - 23s 132ms/step - loss: 0.4338 - accuracy: 0.8530 - tf_auc: 0.7702 - val_loss: 0.4499 - val_accuracy: 0.8471 - val_tf_auc: 0.7273\n",
      "Epoch 11/50\n",
      "175/175 [==============================] - ETA: 0s - loss: 0.4296 - accuracy: 0.8564 - tf_auc: 0.7817\n",
      "Epoch 11: val_tf_auc did not improve from 0.73015\n",
      "175/175 [==============================] - 24s 136ms/step - loss: 0.4296 - accuracy: 0.8564 - tf_auc: 0.7817 - val_loss: 0.4629 - val_accuracy: 0.8462 - val_tf_auc: 0.7269\n",
      "Epoch 12/50\n",
      "175/175 [==============================] - ETA: 0s - loss: 0.4285 - accuracy: 0.8588 - tf_auc: 0.7917\n",
      "Epoch 12: val_tf_auc did not improve from 0.73015\n",
      "175/175 [==============================] - 24s 137ms/step - loss: 0.4285 - accuracy: 0.8588 - tf_auc: 0.7917 - val_loss: 0.4728 - val_accuracy: 0.8448 - val_tf_auc: 0.7225\n",
      "Epoch 13/50\n",
      "175/175 [==============================] - ETA: 0s - loss: 0.4226 - accuracy: 0.8621 - tf_auc: 0.8017\n",
      "Epoch 13: val_tf_auc did not improve from 0.73015\n",
      "175/175 [==============================] - 24s 138ms/step - loss: 0.4226 - accuracy: 0.8621 - tf_auc: 0.8017 - val_loss: 0.4677 - val_accuracy: 0.8438 - val_tf_auc: 0.7208\n",
      "Epoch 13: early stopping\n"
     ]
    },
    {
     "data": {
      "text/plain": [
       "<keras.callbacks.History at 0x7f8a3777e4d0>"
      ]
     },
     "execution_count": 56,
     "metadata": {},
     "output_type": "execute_result"
    }
   ],
   "source": [
    "model_1.fit(x=X_train_all,\n",
    "            y=y_train_ohe,\n",
    "            validation_data=(X_cv_all, y_cv_ohe),\n",
    "            epochs=50,\n",
    "            batch_size=400,\n",
    "            callbacks=callbacks_1)"
   ]
  },
  {
   "cell_type": "code",
   "execution_count": 61,
   "metadata": {
    "executionInfo": {
     "elapsed": 2,
     "status": "ok",
     "timestamp": 1667108045699,
     "user": {
      "displayName": "Mohammed Saifuddin",
      "userId": "00132744978255071993"
     },
     "user_tz": -330
    },
    "id": "so7dwhHgnDVF"
   },
   "outputs": [],
   "source": [
    "%tensorboard --logdir logs/fits"
   ]
  },
  {
   "cell_type": "markdown",
   "metadata": {
    "id": "mu2046wtoXLE"
   },
   "source": [
    "TensorBoard images\n",
    "\n",
    "![](https://user-images.githubusercontent.com/63338657/198864076-d2f8e8d7-7093-40bd-947f-26b2bad0af83.png)\n",
    "\n",
    "![](https://user-images.githubusercontent.com/63338657/198864113-9e7bdde4-2393-499a-bb0a-4a40f49fd2aa.png)\n",
    "\n",
    "![](https://user-images.githubusercontent.com/63338657/198864135-f98129c8-ccbc-46ef-8ef7-0022751a46fe.png)"
   ]
  },
  {
   "cell_type": "code",
   "execution_count": 58,
   "metadata": {
    "executionInfo": {
     "elapsed": 5,
     "status": "ok",
     "timestamp": 1667107731071,
     "user": {
      "displayName": "Mohammed Saifuddin",
      "userId": "00132744978255071993"
     },
     "user_tz": -330
    },
    "id": "ZJlTytG9nDVF"
   },
   "outputs": [],
   "source": [
    "model_1.load_weights(filepath=filepath_1)"
   ]
  },
  {
   "cell_type": "code",
   "execution_count": 59,
   "metadata": {
    "colab": {
     "base_uri": "https://localhost:8080/"
    },
    "executionInfo": {
     "elapsed": 6250,
     "status": "ok",
     "timestamp": 1667107737317,
     "user": {
      "displayName": "Mohammed Saifuddin",
      "userId": "00132744978255071993"
     },
     "user_tz": -330
    },
    "id": "PeDHGpXppFCC",
    "outputId": "c08e919c-3c52-4ee7-bef5-89398355755a"
   },
   "outputs": [
    {
     "name": "stdout",
     "output_type": "stream",
     "text": [
      "365/365 [==============================] - 6s 17ms/step - loss: 0.4474 - accuracy: 0.8508 - tf_auc: 0.7310\n"
     ]
    }
   ],
   "source": [
    "test_loss_1, test_accuracy_1, test_auc_1 = model_1.evaluate(x=X_test_all, y=y_test_ohe, batch_size=60)"
   ]
  },
  {
   "cell_type": "code",
   "execution_count": 60,
   "metadata": {
    "colab": {
     "base_uri": "https://localhost:8080/"
    },
    "executionInfo": {
     "elapsed": 17,
     "status": "ok",
     "timestamp": 1667107737318,
     "user": {
      "displayName": "Mohammed Saifuddin",
      "userId": "00132744978255071993"
     },
     "user_tz": -330
    },
    "id": "SQx4-fnapE_O",
    "outputId": "2e7fd915-4ace-48eb-cb35-e4c7316d867b"
   },
   "outputs": [
    {
     "name": "stdout",
     "output_type": "stream",
     "text": [
      "Test Loss: 0.4474007487297058.\n",
      "Test Accuracy: 85.08467078208923.\n",
      "Test AUC: 73.10256958007812.\n"
     ]
    }
   ],
   "source": [
    "print(\"Test Loss: {}.\".format(test_loss_1))\n",
    "print(\"Test Accuracy: {}.\".format(test_accuracy_1 * 100))\n",
    "print(\"Test AUC: {}.\".format(test_auc_1 * 100))"
   ]
  },
  {
   "cell_type": "markdown",
   "metadata": {
    "id": "lzfEYZWFYbQc"
   },
   "source": [
    "End of the file."
   ]
  }
 ],
 "metadata": {
  "accelerator": "GPU",
  "colab": {
   "collapsed_sections": [],
   "provenance": []
  },
  "gpuClass": "standard",
  "kernelspec": {
   "display_name": "Python 3 (ipykernel)",
   "language": "python",
   "name": "python3"
  },
  "language_info": {
   "codemirror_mode": {
    "name": "ipython",
    "version": 3
   },
   "file_extension": ".py",
   "mimetype": "text/x-python",
   "name": "python",
   "nbconvert_exporter": "python",
   "pygments_lexer": "ipython3",
   "version": "3.10.7"
  }
 },
 "nbformat": 4,
 "nbformat_minor": 1
}
