{
 "cells": [
  {
   "cell_type": "markdown",
   "metadata": {
    "id": "5el_8SqFqVAT"
   },
   "source": [
    "\n",
    "In this notebook, You will do amazon review classification with BERT [Download data from [this](https://www.kaggle.com/snap/amazon-fine-food-reviews/data) link].\n",
    "\n",
    "It contains 5 parts as below.  Detailed instrctions are given in the each cell. please read every comment we have written. \n",
    "1. Preprocessing \n",
    "2. Creating a BERT model from the Tensorflow HUB.\n",
    "3. Tokenization\n",
    "4. getting the pretrained embedding Vector for a given review from the BERT.\n",
    "5. Using the embedding data apply NN and classify the reviews.\n",
    "6. Creating a Data pipeline for BERT Model. \n",
    "\n",
    "Instructions:\n",
    "\n",
    "1. Don't change any Grader Functions. Don't manipulate any Grader functions. \n",
    "    - If you manipulate any, it will be considered as plagiarised. \n",
    "2. Please read the instructions on the code cells and markdown cells. We will explain what to write. \n",
    "3. please return outputs in the same format what we asked. Eg. Don't return List if we are asking for a numpy array.\n",
    "4. Please read the external links that we are given so that you will learn the concept behind the code that you are writing.\n",
    "5. We are giving instructions at each section if necessary, please follow them. \n",
    "\n",
    "Every Grader function has to return True."
   ]
  },
  {
   "cell_type": "code",
   "execution_count": 1,
   "metadata": {
    "id": "xhRemh5nYj04"
   },
   "outputs": [],
   "source": [
    "import warnings\n",
    "warnings.filterwarnings('ignore')"
   ]
  },
  {
   "cell_type": "code",
   "execution_count": 2,
   "metadata": {
    "colab": {
     "base_uri": "https://localhost:8080/"
    },
    "id": "EIiUDkoLY1V-",
    "outputId": "18b7a02e-1582-40a4-c92e-5ff2fbc0970f"
   },
   "outputs": [
    {
     "name": "stdout",
     "output_type": "stream",
     "text": [
      "Drive already mounted at /content/drive/; to attempt to forcibly remount, call drive.mount(\"/content/drive/\", force_remount=True).\n"
     ]
    }
   ],
   "source": [
    "from google.colab import drive\n",
    "drive.mount(mountpoint='/content/drive/')"
   ]
  },
  {
   "cell_type": "code",
   "execution_count": 3,
   "metadata": {
    "id": "5qI5Fu5HYrz9"
   },
   "outputs": [],
   "source": [
    "from matplotlib import pyplot as plt\n",
    "from matplotlib import style\n",
    "style.use(style='seaborn-deep')"
   ]
  },
  {
   "cell_type": "code",
   "execution_count": 4,
   "metadata": {
    "id": "Cmzt8jeRZhdB"
   },
   "outputs": [],
   "source": [
    "from sklearn.model_selection import train_test_split\n",
    "from sklearn import metrics\n",
    "from tqdm import tqdm\n",
    "from collections import Counter\n",
    "from IPython.display import display"
   ]
  },
  {
   "cell_type": "code",
   "execution_count": 5,
   "metadata": {
    "id": "wV79jahzYnGr"
   },
   "outputs": [],
   "source": [
    "import numpy as np\n",
    "import pandas as pd\n",
    "import tensorflow as tf\n",
    "import tensorflow_hub as hub\n",
    "\n",
    "import os\n",
    "import time\n",
    "import re\n",
    "import pickle\n",
    "import datetime\n",
    "import sys"
   ]
  },
  {
   "cell_type": "code",
   "execution_count": 6,
   "metadata": {
    "id": "wOtG4cf0qVAZ"
   },
   "outputs": [],
   "source": [
    "from tensorflow.keras.models import Model\n",
    "from tensorflow.keras.layers import (\n",
    "    Input, \n",
    "    Dense, \n",
    "    Activation, \n",
    "    Dropout, \n",
    "    LSTM, \n",
    "    Conv1D, \n",
    "    Embedding, \n",
    "    Flatten\n",
    ")\n",
    "from tensorflow.keras.callbacks import (\n",
    "    ModelCheckpoint, \n",
    "    TensorBoard\n",
    ")"
   ]
  },
  {
   "cell_type": "code",
   "execution_count": 7,
   "metadata": {
    "colab": {
     "base_uri": "https://localhost:8080/",
     "height": 35
    },
    "id": "OcmiHdAJqVAi",
    "outputId": "a8e45aa9-e2fb-47a6-c1b9-9c6273c5b0e8"
   },
   "outputs": [
    {
     "data": {
      "application/vnd.google.colaboratory.intrinsic+json": {
       "type": "string"
      },
      "text/plain": [
       "'/device:GPU:0'"
      ]
     },
     "execution_count": 7,
     "metadata": {},
     "output_type": "execute_result"
    }
   ],
   "source": [
    "tf.test.gpu_device_name()"
   ]
  },
  {
   "cell_type": "markdown",
   "metadata": {
    "id": "LBsay58AqVAo"
   },
   "source": [
    "Grader function 1"
   ]
  },
  {
   "cell_type": "code",
   "execution_count": 8,
   "metadata": {
    "colab": {
     "base_uri": "https://localhost:8080/"
    },
    "id": "aTBvOKFeqVAq",
    "outputId": "dcdce1e8-6f15-4d96-877b-7072a19e2e8e"
   },
   "outputs": [
    {
     "data": {
      "text/plain": [
       "True"
      ]
     },
     "execution_count": 8,
     "metadata": {},
     "output_type": "execute_result"
    }
   ],
   "source": [
    "def grader_tf_version():\n",
    "    assert((tf.__version__) > '2')\n",
    "    return True\n",
    "\n",
    "grader_tf_version()"
   ]
  },
  {
   "cell_type": "code",
   "execution_count": 9,
   "metadata": {
    "id": "it1GpIO3Z1u4"
   },
   "outputs": [],
   "source": [
    "project_path = '/content/drive/MyDrive/Applied-AI/Assignment-28'"
   ]
  },
  {
   "cell_type": "code",
   "execution_count": 10,
   "metadata": {
    "id": "sAZNJtclaCcR"
   },
   "outputs": [],
   "source": [
    "sys.path.append(project_path)"
   ]
  },
  {
   "cell_type": "code",
   "execution_count": 11,
   "metadata": {
    "id": "dyjMNzVaa-hx"
   },
   "outputs": [],
   "source": [
    "!pip install sentencepiece --quiet"
   ]
  },
  {
   "cell_type": "code",
   "execution_count": 12,
   "metadata": {
    "id": "z7lMOYrmadl2"
   },
   "outputs": [],
   "source": [
    "import tokenization as tkn"
   ]
  },
  {
   "cell_type": "markdown",
   "metadata": {
    "id": "ZTWRqbrBqVAu"
   },
   "source": [
    "Part-1: Preprocessing"
   ]
  },
  {
   "cell_type": "code",
   "execution_count": 13,
   "metadata": {
    "colab": {
     "base_uri": "https://localhost:8080/"
    },
    "id": "B3csZKDrqVAv",
    "outputId": "d0de04b4-d8e0-47d8-a5ee-f152b4e17345"
   },
   "outputs": [
    {
     "name": "stdout",
     "output_type": "stream",
     "text": [
      "(568454, 10)\n",
      "<class 'pandas.core.frame.DataFrame'>\n",
      "RangeIndex: 568454 entries, 0 to 568453\n",
      "Data columns (total 10 columns):\n",
      " #   Column                  Non-Null Count   Dtype \n",
      "---  ------                  --------------   ----- \n",
      " 0   Id                      568454 non-null  int64 \n",
      " 1   ProductId               568454 non-null  object\n",
      " 2   UserId                  568454 non-null  object\n",
      " 3   ProfileName             568438 non-null  object\n",
      " 4   HelpfulnessNumerator    568454 non-null  int64 \n",
      " 5   HelpfulnessDenominator  568454 non-null  int64 \n",
      " 6   Score                   568454 non-null  int64 \n",
      " 7   Time                    568454 non-null  int64 \n",
      " 8   Summary                 568427 non-null  object\n",
      " 9   Text                    568454 non-null  object\n",
      "dtypes: int64(5), object(5)\n",
      "memory usage: 43.4+ MB\n"
     ]
    }
   ],
   "source": [
    "# Read the dataset - Amazon fine food reviews\n",
    "reviews = pd.read_csv(filepath_or_buffer=os.path.join(project_path, 'Reviews.csv'))\n",
    "print(reviews.shape)\n",
    "\n",
    "# Check the info of the dataset\n",
    "reviews.info()"
   ]
  },
  {
   "cell_type": "code",
   "execution_count": 14,
   "metadata": {
    "colab": {
     "base_uri": "https://localhost:8080/"
    },
    "id": "xokNn7qZqVAz",
    "outputId": "b56e90d4-4f52-4321-af23-38387a21d7f0"
   },
   "outputs": [
    {
     "name": "stdout",
     "output_type": "stream",
     "text": [
      "(568454, 2)\n",
      "(568454, 2)\n",
      "Text     0\n",
      "Score    0\n",
      "dtype: int64\n"
     ]
    }
   ],
   "source": [
    "# Get only 2 columns - Text, Score\n",
    "reviews = reviews[['Text', 'Score']]\n",
    "print(reviews.shape)\n",
    "\n",
    "# Drop the NAN values\n",
    "reviews = reviews.dropna()\n",
    "print(reviews.shape)\n",
    "print(reviews.isnull().sum())"
   ]
  },
  {
   "cell_type": "markdown",
   "metadata": {
    "id": "-0OHnqvKdxcn"
   },
   "source": [
    "- If score > 3, set score = 1\n",
    "- If score <= 2, set score = 0\n",
    "- If score == 3, remove the rows. "
   ]
  },
  {
   "cell_type": "code",
   "execution_count": 15,
   "metadata": {
    "colab": {
     "base_uri": "https://localhost:8080/"
    },
    "id": "5GZt7pVkqVA4",
    "outputId": "83786580-371d-4a79-ebfd-758cc8104c0f"
   },
   "outputs": [
    {
     "name": "stdout",
     "output_type": "stream",
     "text": [
      "(525814, 2)\n",
      "1    443777\n",
      "0     82037\n",
      "Name: Score, dtype: int64\n"
     ]
    }
   ],
   "source": [
    "reviews = reviews[reviews['Score'] != 3]\n",
    "print(reviews.shape)\n",
    "\n",
    "def binarize_scores(score):\n",
    "    return 1 if score > 3 else 0\n",
    "\n",
    "reviews['Score'] = reviews['Score'].apply(func=binarize_scores)\n",
    "print(reviews['Score'].value_counts())"
   ]
  },
  {
   "cell_type": "markdown",
   "metadata": {
    "id": "oVe8LlkrqVA6"
   },
   "source": [
    "Grader function 2"
   ]
  },
  {
   "cell_type": "code",
   "execution_count": 16,
   "metadata": {
    "colab": {
     "base_uri": "https://localhost:8080/"
    },
    "id": "7mDXSiJpqVA7",
    "outputId": "b08ab7fa-a458-41c6-b32d-46565f162132"
   },
   "outputs": [
    {
     "data": {
      "text/plain": [
       "True"
      ]
     },
     "execution_count": 16,
     "metadata": {},
     "output_type": "execute_result"
    }
   ],
   "source": [
    "def grader_reviews():\n",
    "    temp_shape = (reviews.shape == (525814, 2)) and (reviews.Score.value_counts()[1] == 443777)\n",
    "    assert(temp_shape == True)\n",
    "    return True\n",
    "\n",
    "grader_reviews()"
   ]
  },
  {
   "cell_type": "code",
   "execution_count": 17,
   "metadata": {
    "id": "NsYDd3okqVBF"
   },
   "outputs": [],
   "source": [
    "if not os.path.isfile(path=os.path.join(project_path, 'preprocessed.csv')):\n",
    "    def get_wordlen(x):\n",
    "        return len(x.split())\n",
    "\n",
    "    reviews['len'] = reviews['Text'].apply(func=get_wordlen)\n",
    "    reviews = reviews[reviews['len'] < 50]\n",
    "    reviews = reviews.sample(n=100000, random_state=0)\n",
    "    reviews = reviews[['Text', 'Score']]\n",
    "    \n",
    "    def clean_html(text):\n",
    "        cleaner = re.compile('<.*>')\n",
    "        text = re.sub(pattern=cleaner, repl='', string=text)\n",
    "        return text\n",
    "\n",
    "    reviews['Text'] = reviews['Text'].apply(func=clean_html)\n",
    "    reviews.to_csv(path_or_buf=os.path.join(project_path, 'preprocessed.csv'), index=None)\n",
    "    reviews = pd.read_csv(filepath_or_buffer=os.path.join(project_path, 'preprocessed.csv'))\n",
    "else:\n",
    "    print(\"File already exists.\")\n",
    "    reviews = pd.read_csv(filepath_or_buffer=os.path.join(project_path, 'preprocessed.csv'))"
   ]
  },
  {
   "cell_type": "code",
   "execution_count": 18,
   "metadata": {
    "colab": {
     "base_uri": "https://localhost:8080/",
     "height": 206
    },
    "id": "-Q6OAcrOqVBI",
    "outputId": "c64d34b2-5a06-4e02-df7e-3c89383d3424"
   },
   "outputs": [
    {
     "data": {
      "text/html": [
       "\n",
       "  <div id=\"df-1c27e0da-ec27-4919-8a8b-b0bc254d93ca\">\n",
       "    <div class=\"colab-df-container\">\n",
       "      <div>\n",
       "<style scoped>\n",
       "    .dataframe tbody tr th:only-of-type {\n",
       "        vertical-align: middle;\n",
       "    }\n",
       "\n",
       "    .dataframe tbody tr th {\n",
       "        vertical-align: top;\n",
       "    }\n",
       "\n",
       "    .dataframe thead th {\n",
       "        text-align: right;\n",
       "    }\n",
       "</style>\n",
       "<table border=\"1\" class=\"dataframe\">\n",
       "  <thead>\n",
       "    <tr style=\"text-align: right;\">\n",
       "      <th></th>\n",
       "      <th>Text</th>\n",
       "      <th>Score</th>\n",
       "    </tr>\n",
       "  </thead>\n",
       "  <tbody>\n",
       "    <tr>\n",
       "      <th>0</th>\n",
       "      <td>I currently deployed and coffee is life blood....</td>\n",
       "      <td>1</td>\n",
       "    </tr>\n",
       "    <tr>\n",
       "      <th>1</th>\n",
       "      <td>discovered petit cuisine at winn-dixie-bought ...</td>\n",
       "      <td>1</td>\n",
       "    </tr>\n",
       "    <tr>\n",
       "      <th>2</th>\n",
       "      <td>These beans are for use with intensive exercis...</td>\n",
       "      <td>1</td>\n",
       "    </tr>\n",
       "    <tr>\n",
       "      <th>3</th>\n",
       "      <td>These almonds just have a great flavor.  Just ...</td>\n",
       "      <td>1</td>\n",
       "    </tr>\n",
       "    <tr>\n",
       "      <th>4</th>\n",
       "      <td>Popchips is a new product for me--ordered afte...</td>\n",
       "      <td>1</td>\n",
       "    </tr>\n",
       "  </tbody>\n",
       "</table>\n",
       "</div>\n",
       "      <button class=\"colab-df-convert\" onclick=\"convertToInteractive('df-1c27e0da-ec27-4919-8a8b-b0bc254d93ca')\"\n",
       "              title=\"Convert this dataframe to an interactive table.\"\n",
       "              style=\"display:none;\">\n",
       "        \n",
       "  <svg xmlns=\"http://www.w3.org/2000/svg\" height=\"24px\"viewBox=\"0 0 24 24\"\n",
       "       width=\"24px\">\n",
       "    <path d=\"M0 0h24v24H0V0z\" fill=\"none\"/>\n",
       "    <path d=\"M18.56 5.44l.94 2.06.94-2.06 2.06-.94-2.06-.94-.94-2.06-.94 2.06-2.06.94zm-11 1L8.5 8.5l.94-2.06 2.06-.94-2.06-.94L8.5 2.5l-.94 2.06-2.06.94zm10 10l.94 2.06.94-2.06 2.06-.94-2.06-.94-.94-2.06-.94 2.06-2.06.94z\"/><path d=\"M17.41 7.96l-1.37-1.37c-.4-.4-.92-.59-1.43-.59-.52 0-1.04.2-1.43.59L10.3 9.45l-7.72 7.72c-.78.78-.78 2.05 0 2.83L4 21.41c.39.39.9.59 1.41.59.51 0 1.02-.2 1.41-.59l7.78-7.78 2.81-2.81c.8-.78.8-2.07 0-2.86zM5.41 20L4 18.59l7.72-7.72 1.47 1.35L5.41 20z\"/>\n",
       "  </svg>\n",
       "      </button>\n",
       "      \n",
       "  <style>\n",
       "    .colab-df-container {\n",
       "      display:flex;\n",
       "      flex-wrap:wrap;\n",
       "      gap: 12px;\n",
       "    }\n",
       "\n",
       "    .colab-df-convert {\n",
       "      background-color: #E8F0FE;\n",
       "      border: none;\n",
       "      border-radius: 50%;\n",
       "      cursor: pointer;\n",
       "      display: none;\n",
       "      fill: #1967D2;\n",
       "      height: 32px;\n",
       "      padding: 0 0 0 0;\n",
       "      width: 32px;\n",
       "    }\n",
       "\n",
       "    .colab-df-convert:hover {\n",
       "      background-color: #E2EBFA;\n",
       "      box-shadow: 0px 1px 2px rgba(60, 64, 67, 0.3), 0px 1px 3px 1px rgba(60, 64, 67, 0.15);\n",
       "      fill: #174EA6;\n",
       "    }\n",
       "\n",
       "    [theme=dark] .colab-df-convert {\n",
       "      background-color: #3B4455;\n",
       "      fill: #D2E3FC;\n",
       "    }\n",
       "\n",
       "    [theme=dark] .colab-df-convert:hover {\n",
       "      background-color: #434B5C;\n",
       "      box-shadow: 0px 1px 3px 1px rgba(0, 0, 0, 0.15);\n",
       "      filter: drop-shadow(0px 1px 2px rgba(0, 0, 0, 0.3));\n",
       "      fill: #FFFFFF;\n",
       "    }\n",
       "  </style>\n",
       "\n",
       "      <script>\n",
       "        const buttonEl =\n",
       "          document.querySelector('#df-1c27e0da-ec27-4919-8a8b-b0bc254d93ca button.colab-df-convert');\n",
       "        buttonEl.style.display =\n",
       "          google.colab.kernel.accessAllowed ? 'block' : 'none';\n",
       "\n",
       "        async function convertToInteractive(key) {\n",
       "          const element = document.querySelector('#df-1c27e0da-ec27-4919-8a8b-b0bc254d93ca');\n",
       "          const dataTable =\n",
       "            await google.colab.kernel.invokeFunction('convertToInteractive',\n",
       "                                                     [key], {});\n",
       "          if (!dataTable) return;\n",
       "\n",
       "          const docLinkHtml = 'Like what you see? Visit the ' +\n",
       "            '<a target=\"_blank\" href=https://colab.research.google.com/notebooks/data_table.ipynb>data table notebook</a>'\n",
       "            + ' to learn more about interactive tables.';\n",
       "          element.innerHTML = '';\n",
       "          dataTable['output_type'] = 'display_data';\n",
       "          await google.colab.output.renderOutput(dataTable, element);\n",
       "          const docLink = document.createElement('div');\n",
       "          docLink.innerHTML = docLinkHtml;\n",
       "          element.appendChild(docLink);\n",
       "        }\n",
       "      </script>\n",
       "    </div>\n",
       "  </div>\n",
       "  "
      ],
      "text/plain": [
       "                                                Text  Score\n",
       "0  I currently deployed and coffee is life blood....      1\n",
       "1  discovered petit cuisine at winn-dixie-bought ...      1\n",
       "2  These beans are for use with intensive exercis...      1\n",
       "3  These almonds just have a great flavor.  Just ...      1\n",
       "4  Popchips is a new product for me--ordered afte...      1"
      ]
     },
     "metadata": {},
     "output_type": "display_data"
    }
   ],
   "source": [
    "display(reviews.head())"
   ]
  },
  {
   "cell_type": "code",
   "execution_count": 19,
   "metadata": {
    "id": "mrYcbCHOzV-P"
   },
   "outputs": [],
   "source": [
    "X = reviews['Text']\n",
    "y = reviews['Score']"
   ]
  },
  {
   "cell_type": "code",
   "execution_count": 20,
   "metadata": {
    "id": "Up-z5boWqVBK"
   },
   "outputs": [],
   "source": [
    "X_train, X_test, y_train, y_test = train_test_split(X, y, test_size=0.2, stratify=y, random_state=33)\n",
    "# X_train = X_train.dropna()\n",
    "# y_train = y_train.dropna()\n",
    "# X_test = X_test.dropna()\n",
    "# y_test = y_test.dropna()"
   ]
  },
  {
   "cell_type": "code",
   "execution_count": 21,
   "metadata": {
    "colab": {
     "base_uri": "https://localhost:8080/"
    },
    "id": "r55JhIrIjN0N",
    "outputId": "f4587546-d3d3-46ef-e0eb-12af18584930"
   },
   "outputs": [
    {
     "name": "stdout",
     "output_type": "stream",
     "text": [
      "(80000,) (80000,)\n",
      "(20000,) (20000,)\n"
     ]
    }
   ],
   "source": [
    "print(X_train.shape, y_train.shape)\n",
    "print(X_test.shape, y_test.shape)"
   ]
  },
  {
   "cell_type": "code",
   "execution_count": 22,
   "metadata": {
    "id": "Zo1A9NnF81gT"
   },
   "outputs": [],
   "source": [
    "train_df = pd.DataFrame()\n",
    "train_df['Text'] = X_train.values\n",
    "train_df['Score'] = y_train"
   ]
  },
  {
   "cell_type": "code",
   "execution_count": 23,
   "metadata": {
    "colab": {
     "base_uri": "https://localhost:8080/"
    },
    "id": "SfKwsIb69ILJ",
    "outputId": "fb1a56c2-202a-4894-8716-f6db0e7fd5eb"
   },
   "outputs": [
    {
     "name": "stdout",
     "output_type": "stream",
     "text": [
      "(63974, 2)\n"
     ]
    }
   ],
   "source": [
    "train_df = train_df.dropna()\n",
    "print(train_df.shape)"
   ]
  },
  {
   "cell_type": "code",
   "execution_count": 24,
   "metadata": {
    "id": "LxEbTHoh-ivM"
   },
   "outputs": [],
   "source": [
    "test_df = pd.DataFrame()\n",
    "test_df['Text'] = X_test.values\n",
    "test_df['Score'] = y_test"
   ]
  },
  {
   "cell_type": "code",
   "execution_count": 25,
   "metadata": {
    "colab": {
     "base_uri": "https://localhost:8080/"
    },
    "id": "woyEjYJe-tbu",
    "outputId": "14e90d7d-658c-4364-b46b-df0c297ccfbb"
   },
   "outputs": [
    {
     "name": "stdout",
     "output_type": "stream",
     "text": [
      "(3911, 2)\n"
     ]
    }
   ],
   "source": [
    "test_df = test_df.dropna()\n",
    "print(test_df.shape)"
   ]
  },
  {
   "cell_type": "code",
   "execution_count": 26,
   "metadata": {
    "colab": {
     "base_uri": "https://localhost:8080/",
     "height": 271
    },
    "id": "NFudHbt4jWq9",
    "outputId": "8ca03e8e-0812-4764-e84a-79e8e5692dca"
   },
   "outputs": [
    {
     "data": {
      "image/png": "[encoded data removed]",
      "text/plain": [
       "<Figure size 432x288 with 1 Axes>"
      ]
     },
     "metadata": {
      "needs_background": "light"
     },
     "output_type": "display_data"
    }
   ],
   "source": [
    "train_df['Score'].value_counts().plot(kind='bar')\n",
    "plt.show()"
   ]
  },
  {
   "cell_type": "code",
   "execution_count": 27,
   "metadata": {
    "colab": {
     "base_uri": "https://localhost:8080/",
     "height": 271
    },
    "id": "EtaCUPDijWoL",
    "outputId": "90c53cf4-fe8e-4252-e075-69e88f76ecc8"
   },
   "outputs": [
    {
     "data": {
      "image/png": "[encoded data removed]",
      "text/plain": [
       "<Figure size 432x288 with 1 Axes>"
      ]
     },
     "metadata": {
      "needs_background": "light"
     },
     "output_type": "display_data"
    }
   ],
   "source": [
    "test_df['Score'].value_counts().plot(kind='bar')\n",
    "plt.show()"
   ]
  },
  {
   "cell_type": "markdown",
   "metadata": {
    "id": "bBtqNGN9qVBM"
   },
   "source": [
    "Part-2: Creating BERT Model"
   ]
  },
  {
   "cell_type": "markdown",
   "metadata": {
    "id": "RUnALohQeHUJ"
   },
   "source": [
    "If you want to know more about BERT, You can watch live sessions on Transformers and BERt. \n",
    "we will strongly recommend you to read <a href=\"https://jalammar.github.io/illustrated-transformer/\">Transformers</a>, <a href=\"https://arxiv.org/abs/1810.04805\">BERT Paper</a> and, <a href=\"https://jalammar.github.io/a-visual-guide-to-using-bert-for-the-first-time/\">This blog</a>.\n",
    "\n",
    "\n",
    "For this assignment, we are using <a href=\"https://tfhub.dev/tensorflow/bert_en_uncased_L-12_H-768_A-12/1\">BERT uncased Base model</a>. \n",
    "It uses L=12 hidden layers (i.e., Transformer blocks), a hidden size of H=768, and A=12 attention heads."
   ]
  },
  {
   "cell_type": "code",
   "execution_count": 28,
   "metadata": {
    "id": "i8xd2HejqVBN"
   },
   "outputs": [],
   "source": [
    "# Loading the Pretrained Model from tensorflow HUB\n",
    "tf.keras.backend.clear_session()\n",
    "\n",
    "# Maximum length of a seq in the data we have, for now i am making it as 55. You can change this.\n",
    "max_seq_length = 55\n",
    "\n",
    "# BERT takes 3 inputs\n",
    "\n",
    "# This is input words. Sequence of words represented as integers.\n",
    "input_word_ids = Input(shape=(max_seq_length,), dtype=tf.int32, name=\"input_word_ids\")\n",
    "\n",
    "# Mask vector if you are padding anything.\n",
    "input_mask = Input(shape=(max_seq_length,), dtype=tf.int32, name=\"input_mask\")\n",
    "\n",
    "# Segment vectors. If you are giving only one sentence for the classification, total seg vector is 0. \n",
    "# If you are giving two sentenced with [sep] token separated, first seq segment vectors are zeros and second seq segment vector are 1's.\n",
    "segment_ids = Input(shape=(max_seq_length,), dtype=tf.int32, name=\"segment_ids\")\n",
    "\n",
    "# Bert layer \n",
    "bert_layer = hub.KerasLayer(\"https://tfhub.dev/tensorflow/bert_en_uncased_L-12_H-768_A-12/1\", trainable=False)\n",
    "pooled_output, sequence_output = bert_layer([input_word_ids, input_mask, segment_ids])\n",
    "\n",
    "# Bert model\n",
    "# We are using only pooled output not sequence out. \n",
    "# If you want to know about those, please read https://www.kaggle.com/questions-and-answers/86510.\n",
    "bert_model = Model(inputs=[input_word_ids, input_mask, segment_ids], outputs=pooled_output)"
   ]
  },
  {
   "cell_type": "code",
   "execution_count": 29,
   "metadata": {
    "colab": {
     "base_uri": "https://localhost:8080/"
    },
    "id": "lQJsjg6fqVBQ",
    "outputId": "5ac1a272-d4b1-4574-b7b3-9ff833b3e836"
   },
   "outputs": [
    {
     "name": "stdout",
     "output_type": "stream",
     "text": [
      "Model: \"model\"\n",
      "__________________________________________________________________________________________________\n",
      " Layer (type)                   Output Shape         Param #     Connected to                     \n",
      "==================================================================================================\n",
      " input_word_ids (InputLayer)    [(None, 55)]         0           []                               \n",
      "                                                                                                  \n",
      " input_mask (InputLayer)        [(None, 55)]         0           []                               \n",
      "                                                                                                  \n",
      " segment_ids (InputLayer)       [(None, 55)]         0           []                               \n",
      "                                                                                                  \n",
      " keras_layer (KerasLayer)       [(None, 768),        109482241   ['input_word_ids[0][0]',         \n",
      "                                 (None, 55, 768)]                 'input_mask[0][0]',             \n",
      "                                                                  'segment_ids[0][0]']            \n",
      "                                                                                                  \n",
      "==================================================================================================\n",
      "Total params: 109,482,241\n",
      "Trainable params: 0\n",
      "Non-trainable params: 109,482,241\n",
      "__________________________________________________________________________________________________\n"
     ]
    }
   ],
   "source": [
    "bert_model.summary()"
   ]
  },
  {
   "cell_type": "code",
   "execution_count": 30,
   "metadata": {
    "colab": {
     "base_uri": "https://localhost:8080/"
    },
    "id": "w3z0OMA5qVBS",
    "outputId": "427df18a-dce8-4f00-e62d-8f6ce649bd0a"
   },
   "outputs": [
    {
     "data": {
      "text/plain": [
       "TensorShape([None, 768])"
      ]
     },
     "execution_count": 30,
     "metadata": {},
     "output_type": "execute_result"
    }
   ],
   "source": [
    "bert_model.output.shape"
   ]
  },
  {
   "cell_type": "markdown",
   "metadata": {
    "id": "Ewv4hFCsqVBU"
   },
   "source": [
    "Part-3: Tokenization"
   ]
  },
  {
   "cell_type": "code",
   "execution_count": 31,
   "metadata": {
    "id": "tX3VEFjiqVBU"
   },
   "outputs": [],
   "source": [
    "# Getting vocab file\n",
    "vocab_file = bert_layer.resolved_object.vocab_file.asset_path.numpy()\n",
    "do_lower_case = bert_layer.resolved_object.do_lower_case.numpy()"
   ]
  },
  {
   "cell_type": "code",
   "execution_count": 32,
   "metadata": {
    "colab": {
     "base_uri": "https://localhost:8080/"
    },
    "id": "Y_iPwa99qVBW",
    "outputId": "5aaa6f8e-7990-44fe-bf9a-57dccee9117f"
   },
   "outputs": [
    {
     "name": "stdout",
     "output_type": "stream",
     "text": [
      "b'/tmp/tfhub_modules/03d6fb3ce1605ad9e5e9ed5346b2fb9623ef4d3d/assets/vocab.txt'\n"
     ]
    }
   ],
   "source": [
    "print(vocab_file)"
   ]
  },
  {
   "cell_type": "code",
   "execution_count": 33,
   "metadata": {
    "colab": {
     "base_uri": "https://localhost:8080/"
    },
    "id": "ndgFnJ4ilTKt",
    "outputId": "40a5c95f-9aff-40e3-d486-88c2e76d4831"
   },
   "outputs": [
    {
     "name": "stdout",
     "output_type": "stream",
     "text": [
      "True\n"
     ]
    }
   ],
   "source": [
    "print(do_lower_case)"
   ]
  },
  {
   "cell_type": "code",
   "execution_count": 34,
   "metadata": {
    "id": "guJMLJ8bqVBY"
   },
   "outputs": [],
   "source": [
    "tokenizer = tkn.FullTokenizer(vocab_file=vocab_file, do_lower_case=do_lower_case)"
   ]
  },
  {
   "cell_type": "markdown",
   "metadata": {
    "id": "KKkGLhR-qVBd"
   },
   "source": [
    "<font size=4>Grader function 3 </font>"
   ]
  },
  {
   "cell_type": "code",
   "execution_count": 35,
   "metadata": {
    "colab": {
     "base_uri": "https://localhost:8080/"
    },
    "id": "2CPu850xqVBe",
    "outputId": "1789ec4d-45ff-4e75-aba3-cf5907bbfa27"
   },
   "outputs": [
    {
     "data": {
      "text/plain": [
       "True"
      ]
     },
     "execution_count": 35,
     "metadata": {},
     "output_type": "execute_result"
    }
   ],
   "source": [
    "def grader_tokenize(tokenizer):\n",
    "    out = False\n",
    "    try:\n",
    "        out = ('[CLS]' in tokenizer.vocab) and ('[SEP]' in tokenizer.vocab)\n",
    "    except:\n",
    "        out = False\n",
    "    assert( out == True)\n",
    "    return out\n",
    "\n",
    "grader_tokenize(tokenizer)"
   ]
  },
  {
   "cell_type": "markdown",
   "metadata": {
    "id": "UNrQ-WCEn_LO"
   },
   "source": [
    "1. Create train and test tokens `(X_train_tokens, X_test_tokens)` from `(X_train, X_test)` using `tokenizer`.\n",
    "2. Add `'[CLS]'` at start of the Tokens and `'[SEP]'` at the end of the tokens.\n",
    "3. Maximum number of tokens is 55 (we already given this to BERT layer above) so shape is `(None, 55)`.\n",
    "4. If it is less than 55, add `'[PAD]'` token else truncate the tokens length (similar to padding).\n",
    "5. Based on padding, create the mask for Train and Test (1 for real token, 0 for `'[PAD]'`).\n",
    "6. It will be same shape as input tokens `(None, 55)` save those in `X_train_mask`, `X_test_mask`.\n",
    "7. Create a segment input for train and test. We are using only one sentence so all zeros. This shape will also `(None, 55)`.\n",
    "8. Type of all the above arrays should be numpy arrays.\n",
    "9. After execution of this cell, you have to get - \n",
    "    - `(X_train_tokens, X_train_mask, X_train_segment)`\n",
    "    - `(X_test_tokens, X_test_mask, X_test_segment)`\n",
    "\n",
    "Example\n",
    "\n",
    "<img src='https://i.imgur.com/5AhhmgU.png'>"
   ]
  },
  {
   "cell_type": "code",
   "execution_count": 36,
   "metadata": {
    "id": "_W-plX16pPRk"
   },
   "outputs": [],
   "source": [
    "def get_tokens_mask_segment_from_text(text, tokenizer=tokenizer, max_len=max_seq_length):\n",
    "    tokens = tokenizer.tokenize(text=text)\n",
    "\n",
    "    if len(tokens) > (max_len - 2):\n",
    "        # To make sure after adding '[CLS]' and '[SEP]', the length remains same as max_len.\n",
    "        tokens = tokens[0 : (max_len - 2)]\n",
    "    \n",
    "    tokens = ['[CLS]', *tokens, '[SEP]']\n",
    "    tokens_ids = tokenizer.convert_tokens_to_ids(tokens=tokens)\n",
    "    \n",
    "    # Post padding the tokens.\n",
    "    if (len(tokens) < max_len):\n",
    "        tokens_ids = tokens_ids + ([0] * (max_len - len(tokens_ids)))\n",
    "    \n",
    "    mask = ([1] * len(tokens)) + ([0] * (max_len - len(tokens)))\n",
    "    segment = ([0] * max_len)\n",
    "   \n",
    "    return np.array(tokens_ids), np.array(mask), np.array(segment)"
   ]
  },
  {
   "cell_type": "code",
   "execution_count": 37,
   "metadata": {
    "id": "GuarVGretTSG"
   },
   "outputs": [],
   "source": [
    "def get_tokens_mask_segment_for_corpus(documents):\n",
    "    documents_token_ids = []\n",
    "    documents_masks = []\n",
    "    documents_segments = []\n",
    "\n",
    "    for text in tqdm(documents):\n",
    "        t_id, m, s = get_tokens_mask_segment_from_text(text=text)\n",
    "        documents_token_ids.append(t_id)\n",
    "        documents_masks.append(m)\n",
    "        documents_segments.append(s)\n",
    "    \n",
    "    documents_token_ids = np.array(documents_token_ids)\n",
    "    documents_masks = np.array(documents_masks)\n",
    "    documents_segments = np.array(documents_segments)\n",
    "    \n",
    "    return documents_token_ids, documents_masks, documents_segments"
   ]
  },
  {
   "cell_type": "code",
   "execution_count": 40,
   "metadata": {
    "colab": {
     "base_uri": "https://localhost:8080/"
    },
    "id": "GLMa_QNJt8c0",
    "outputId": "a7b761a5-7016-4be4-c42e-2153e86a5f41"
   },
   "outputs": [
    {
     "name": "stdout",
     "output_type": "stream",
     "text": [
      "File already exists.\n"
     ]
    }
   ],
   "source": [
    "if not os.path.isfile(path=os.path.join(project_path, 'train_data.pkl')):\n",
    "    with open(file=os.path.join(project_path, 'train_data.pkl'), mode='wb') as tr_data:\n",
    "        X_train_tokens, X_train_masks, X_train_segments = get_tokens_mask_segment_for_corpus(documents=train_df['Text'])\n",
    "        pickle.dump(obj=(train_df['Text'], X_train_tokens, X_train_masks, X_train_segments, train_df['Score']), file=tr_data)\n",
    "else:\n",
    "    print('File already exists.')\n",
    "    with open(file=os.path.join(project_path, 'train_data.pkl'), mode='rb') as tr_data:\n",
    "        X_train, X_train_tokens, X_train_masks, X_train_segments, y_train = pickle.load(file=tr_data)"
   ]
  },
  {
   "cell_type": "code",
   "execution_count": 41,
   "metadata": {
    "colab": {
     "base_uri": "https://localhost:8080/"
    },
    "id": "TroVcGeqvEBz",
    "outputId": "5fa67117-925b-4692-fc29-b20ac954a656"
   },
   "outputs": [
    {
     "name": "stdout",
     "output_type": "stream",
     "text": [
      "File already exists.\n"
     ]
    }
   ],
   "source": [
    "if not os.path.isfile(path=os.path.join(project_path, 'test_data.pkl')):\n",
    "    with open(file=os.path.join(project_path, 'test_data.pkl'), mode='wb') as te_data:\n",
    "        X_test_tokens, X_test_masks, X_test_segments = get_tokens_mask_segment_for_corpus(documents=test_df['Text'])\n",
    "        pickle.dump(obj=(test_df['Text'], X_test_tokens, X_test_masks, X_test_segments, test_df['Score']), file=te_data)\n",
    "else:\n",
    "    print('File already exists.')\n",
    "    with open(file=os.path.join(project_path, 'test_data.pkl'), mode='rb') as te_data:\n",
    "        X_test, X_test_tokens, X_test_masks, X_test_segments, y_test = pickle.load(file=te_data)"
   ]
  },
  {
   "cell_type": "markdown",
   "metadata": {
    "id": "sjPv8VkJqVBr"
   },
   "source": [
    "<font size=4>Grader function 4 </font>"
   ]
  },
  {
   "cell_type": "code",
   "execution_count": 42,
   "metadata": {
    "colab": {
     "base_uri": "https://localhost:8080/"
    },
    "id": "qekHJgmdqVBs",
    "outputId": "4a54afec-d405-4081-a0ad-0951409cbedf"
   },
   "outputs": [
    {
     "data": {
      "text/plain": [
       "True"
      ]
     },
     "execution_count": 42,
     "metadata": {},
     "output_type": "execute_result"
    }
   ],
   "source": [
    "def grader_alltokens_train():\n",
    "    out = False\n",
    "    \n",
    "    if type(X_train_tokens) == np.ndarray:\n",
    "        \n",
    "        temp_shapes = ((X_train_tokens.shape[1] == max_seq_length) and \n",
    "                       (X_train_masks.shape[1] == max_seq_length) and \n",
    "                       (X_train_segments.shape[1] == max_seq_length))\n",
    "        \n",
    "        segment_temp = not np.any(X_train_segments)\n",
    "        \n",
    "        mask_temp = np.sum(X_train_masks==0) == np.sum(X_train_tokens==0)\n",
    "        \n",
    "        no_cls = np.sum(X_train_tokens==tokenizer.vocab['[CLS]']) == X_train_tokens.shape[0]\n",
    "        \n",
    "        no_sep = np.sum(X_train_tokens==tokenizer.vocab['[SEP]']) == X_train_tokens.shape[0]\n",
    "        \n",
    "        out = temp_shapes and segment_temp and mask_temp and no_cls and no_sep\n",
    "      \n",
    "    else:\n",
    "        print('Type of all above token arrays should be numpy array not list')\n",
    "        out = False\n",
    "\n",
    "    assert(out == True)\n",
    "    return out\n",
    "\n",
    "grader_alltokens_train()"
   ]
  },
  {
   "cell_type": "markdown",
   "metadata": {
    "id": "KnvC6X_wqVBu"
   },
   "source": [
    "<font size=4>Grader function 5 </font>"
   ]
  },
  {
   "cell_type": "code",
   "execution_count": 43,
   "metadata": {
    "colab": {
     "base_uri": "https://localhost:8080/"
    },
    "id": "Av4SRMPSqVBv",
    "outputId": "20bbf43d-08da-4965-89d4-ac34c32e76e2"
   },
   "outputs": [
    {
     "data": {
      "text/plain": [
       "True"
      ]
     },
     "execution_count": 43,
     "metadata": {},
     "output_type": "execute_result"
    }
   ],
   "source": [
    "def grader_alltokens_test():\n",
    "    out = False\n",
    "    if type(X_test_tokens) == np.ndarray:\n",
    "        \n",
    "        temp_shapes = ((X_test_tokens.shape[1] == max_seq_length) and \n",
    "                       (X_test_masks.shape[1] == max_seq_length) and \n",
    "                       (X_test_segments.shape[1] == max_seq_length))\n",
    "        \n",
    "        segment_temp = not np.any(X_test_segments)\n",
    "        \n",
    "        mask_temp = np.sum(X_test_masks == 0) == np.sum(X_test_tokens == 0)\n",
    "        \n",
    "        no_cls = np.sum(X_test_tokens == tokenizer.vocab['[CLS]']) == X_test_tokens.shape[0]\n",
    "        \n",
    "        no_sep = np.sum(X_test_tokens == tokenizer.vocab['[SEP]']) == X_test_tokens.shape[0]\n",
    "        \n",
    "        out = temp_shapes and segment_temp and mask_temp and no_cls and no_sep\n",
    "      \n",
    "    else:\n",
    "        print('Type of all above token arrays should be numpy array not list')\n",
    "        out = False\n",
    "\n",
    "    assert(out == True)\n",
    "    return out\n",
    "\n",
    "grader_alltokens_test()"
   ]
  },
  {
   "cell_type": "markdown",
   "metadata": {
    "id": "SEj-Eua5qVBx"
   },
   "source": [
    "Part-4: Getting Embeddings from BERT Model"
   ]
  },
  {
   "cell_type": "markdown",
   "metadata": {
    "id": "wbF3Pa7zAkN2"
   },
   "source": [
    "We already created the BERT model in the part-2 and input data in the part-3. \n",
    "We will utlize those two and will get the embeddings for each sentence in the \n",
    "Train and test data."
   ]
  },
  {
   "cell_type": "code",
   "execution_count": 47,
   "metadata": {
    "colab": {
     "base_uri": "https://localhost:8080/"
    },
    "id": "QwOVgQFDqVBy",
    "outputId": "8d9685f0-dc46-47d3-9498-bb5def795a7b"
   },
   "outputs": [
    {
     "data": {
      "text/plain": [
       "[<KerasTensor: shape=(None, 55) dtype=int32 (created by layer 'input_word_ids')>,\n",
       " <KerasTensor: shape=(None, 55) dtype=int32 (created by layer 'input_mask')>,\n",
       " <KerasTensor: shape=(None, 55) dtype=int32 (created by layer 'segment_ids')>]"
      ]
     },
     "execution_count": 47,
     "metadata": {},
     "output_type": "execute_result"
    }
   ],
   "source": [
    "bert_model.input"
   ]
  },
  {
   "cell_type": "code",
   "execution_count": 48,
   "metadata": {
    "colab": {
     "base_uri": "https://localhost:8080/"
    },
    "id": "ZcpkQq1OqVB0",
    "outputId": "8ba8dfcf-5a09-460e-a595-aebfb7285c5c"
   },
   "outputs": [
    {
     "data": {
      "text/plain": [
       "<KerasTensor: shape=(None, 768) dtype=float32 (created by layer 'keras_layer')>"
      ]
     },
     "execution_count": 48,
     "metadata": {},
     "output_type": "execute_result"
    }
   ],
   "source": [
    "bert_model.output"
   ]
  },
  {
   "cell_type": "code",
   "execution_count": 50,
   "metadata": {
    "colab": {
     "base_uri": "https://localhost:8080/"
    },
    "id": "jj9iYnt1Bw9I",
    "outputId": "e9f6f2f0-a21e-4537-ca60-17916c113eea"
   },
   "outputs": [
    {
     "name": "stdout",
     "output_type": "stream",
     "text": [
      "2000/2000 [==============================] - 236s 118ms/step\n"
     ]
    }
   ],
   "source": [
    "if not os.path.isfile(path=os.path.join(project_path, 'train_final_output.pkl')):\n",
    "    X_train_pooled_output = bert_model.predict(x=[X_train_tokens, X_train_masks, X_train_segments])\n",
    "    pickle.dump(obj=X_train_pooled_output, file=open(os.path.join(project_path, 'train_final_output.pkl'), 'wb'))\n",
    "else:\n",
    "    print('File already exists.')\n",
    "    X_train_pooled_output = pickle.load(file=open(os.path.join(project_path, 'train_final_output.pkl'), mode='rb'))"
   ]
  },
  {
   "cell_type": "code",
   "execution_count": 51,
   "metadata": {
    "colab": {
     "base_uri": "https://localhost:8080/"
    },
    "id": "3cEXloLbCJWY",
    "outputId": "df789b40-8f23-4a5f-9df0-25c5cd51ed92"
   },
   "outputs": [
    {
     "name": "stdout",
     "output_type": "stream",
     "text": [
      "123/123 [==============================] - 14s 119ms/step\n"
     ]
    }
   ],
   "source": [
    "if not os.path.isfile(path=os.path.join(project_path, 'test_final_output.pkl')):\n",
    "    X_test_pooled_output = bert_model.predict(x=[X_test_tokens, X_test_masks, X_test_segments])\n",
    "    pickle.dump(obj=X_test_pooled_output, file=open(os.path.join(project_path, 'test_final_output.pkl'), 'wb'))\n",
    "else:\n",
    "    print('File already exists.')\n",
    "    X_test_pooled_output = pickle.load(file=open(os.path.join(project_path, 'test_final_output.pkl'), mode='rb'))"
   ]
  },
  {
   "cell_type": "markdown",
   "metadata": {
    "id": "ulEXFE7aqVCA"
   },
   "source": [
    "<font size=4>Grader function 6 </font>"
   ]
  },
  {
   "cell_type": "code",
   "execution_count": 52,
   "metadata": {
    "colab": {
     "base_uri": "https://localhost:8080/"
    },
    "id": "oHCsW0IvqVCB",
    "outputId": "db9355f4-477c-4a72-9c6b-610e637e1652"
   },
   "outputs": [
    {
     "data": {
      "text/plain": [
       "True"
      ]
     },
     "execution_count": 52,
     "metadata": {},
     "output_type": "execute_result"
    }
   ],
   "source": [
    "def greader_output():\n",
    "    assert(X_train_pooled_output.shape[1] == 768)\n",
    "    assert(len(y_train) == len(X_train_pooled_output))\n",
    "    assert(X_test_pooled_output.shape[1] == 768)\n",
    "    assert(len(y_test) == len(X_test_pooled_output))\n",
    "    assert(len(y_train.shape) == 1)\n",
    "    assert(len(X_train_pooled_output.shape) == 2)\n",
    "    assert(len(y_test.shape) == 1)\n",
    "    assert(len(X_test_pooled_output.shape) == 2)\n",
    "    return True\n",
    "\n",
    "greader_output()"
   ]
  },
  {
   "cell_type": "markdown",
   "metadata": {
    "id": "oYwS1QbAqVCD"
   },
   "source": [
    "Part-5: Training a NN with 768 features"
   ]
  },
  {
   "cell_type": "markdown",
   "metadata": {
    "id": "OwZhUXIeFImg"
   },
   "source": [
    "1. Create a NN and train the NN. \n",
    "2. You have to use AUC as metric. Do not use tf.keras.metrics.AUC. You have to write custom code for AUC and print it at the end of each epoch. \n",
    "3. You can use any architecture you want. \n",
    "4. You have to use tensorboard to log all your metrics and Losses. You have to send those logs. \n",
    "5. Print the loss and metric at every epoch. \n",
    "6. You have to submit without overfitting and underfitting. "
   ]
  },
  {
   "cell_type": "code",
   "execution_count": 53,
   "metadata": {
    "id": "DSnmX3WnqVCG"
   },
   "outputs": [],
   "source": [
    "def auc(y_true, y_pred):\n",
    "    func = lambda y_true, y_pred : metrics.roc_auc_score(y_true, y_pred)\n",
    "    score = tf.numpy_function(func=func, inp=[y_true, y_pred], Tout=tf.double, name='custom_auc')\n",
    "    return score"
   ]
  },
  {
   "cell_type": "code",
   "execution_count": 54,
   "metadata": {
    "id": "IQhWdIxxFBWi"
   },
   "outputs": [],
   "source": [
    "tf.keras.backend.clear_session()\n",
    "\n",
    "input_layer = Input(shape=(X_train_pooled_output.shape[1],))\n",
    "\n",
    "flat_1 = Flatten()(input_layer)\n",
    "\n",
    "dense_1 = Dense(units=64, activation='relu')(flat_1)\n",
    "dense_2 = Dense(units=32, activation='relu')(dense_1)\n",
    "\n",
    "output_layer = Dense(units=2, activation='softmax')(dense_2)\n",
    "\n",
    "model = Model(inputs=input_layer, outputs=output_layer)\n",
    "filepath = \"model_save/best_model_nlp_tl.h5\"\n",
    "\n",
    "optimizer = tf.keras.optimizers.Adam(0.01)\n",
    "model.compile(optimizer=optimizer, loss='binary_crossentropy', metrics=['accuracy', auc])\n",
    "\n",
    "model_save_callback = ModelCheckpoint(filepath=filepath, monitor='val_auc', verbose=1, save_best_only=True, mode='max')"
   ]
  },
  {
   "cell_type": "code",
   "execution_count": 55,
   "metadata": {
    "colab": {
     "base_uri": "https://localhost:8080/"
    },
    "id": "B71uvV3xFbs_",
    "outputId": "7761e450-f7ca-4a99-d11d-7c87cb86836a"
   },
   "outputs": [
    {
     "name": "stdout",
     "output_type": "stream",
     "text": [
      "Model: \"model\"\n",
      "_________________________________________________________________\n",
      " Layer (type)                Output Shape              Param #   \n",
      "=================================================================\n",
      " input_1 (InputLayer)        [(None, 768)]             0         \n",
      "                                                                 \n",
      " flatten (Flatten)           (None, 768)               0         \n",
      "                                                                 \n",
      " dense (Dense)               (None, 64)                49216     \n",
      "                                                                 \n",
      " dense_1 (Dense)             (None, 32)                2080      \n",
      "                                                                 \n",
      " dense_2 (Dense)             (None, 2)                 66        \n",
      "                                                                 \n",
      "=================================================================\n",
      "Total params: 51,362\n",
      "Trainable params: 51,362\n",
      "Non-trainable params: 0\n",
      "_________________________________________________________________\n"
     ]
    }
   ],
   "source": [
    "model.summary()"
   ]
  },
  {
   "cell_type": "code",
   "execution_count": 56,
   "metadata": {
    "id": "foIEyXBCFbqK"
   },
   "outputs": [],
   "source": [
    "y_train_categorical = tf.keras.utils.to_categorical(y=y_train, num_classes=2)\n",
    "y_test_categorical = tf.keras.utils.to_categorical(y=y_test, num_classes=2)"
   ]
  },
  {
   "cell_type": "code",
   "execution_count": 57,
   "metadata": {
    "colab": {
     "base_uri": "https://localhost:8080/"
    },
    "id": "s1_FrmHiFbnd",
    "outputId": "2f6c1291-5073-4ab7-8921-b88cc3e69809"
   },
   "outputs": [
    {
     "name": "stdout",
     "output_type": "stream",
     "text": [
      "Epoch 1/30\n",
      "240/250 [===========================>..] - ETA: 0s - loss: 0.4110 - accuracy: 0.8660 - auc: 0.5011\n",
      "Epoch 1: val_auc improved from -inf to 0.51644, saving model to model_save/best_model_nlp_tl.h5\n",
      "250/250 [==============================] - 2s 5ms/step - loss: 0.4108 - accuracy: 0.8658 - auc: 0.5014 - val_loss: 0.3906 - val_accuracy: 0.8719 - val_auc: 0.5164\n",
      "Epoch 2/30\n",
      "241/250 [===========================>..] - ETA: 0s - loss: 0.3871 - accuracy: 0.8709 - auc: 0.5040\n",
      "Epoch 2: val_auc did not improve from 0.51644\n",
      "250/250 [==============================] - 1s 5ms/step - loss: 0.3860 - accuracy: 0.8714 - auc: 0.5040 - val_loss: 0.3964 - val_accuracy: 0.8719 - val_auc: 0.4990\n",
      "Epoch 3/30\n",
      "245/250 [============================>.] - ETA: 0s - loss: 0.3857 - accuracy: 0.8717 - auc: 0.5109\n",
      "Epoch 3: val_auc did not improve from 0.51644\n",
      "250/250 [==============================] - 1s 5ms/step - loss: 0.3862 - accuracy: 0.8714 - auc: 0.5108 - val_loss: 0.3850 - val_accuracy: 0.8719 - val_auc: 0.5094\n",
      "Epoch 4/30\n",
      "239/250 [===========================>..] - ETA: 0s - loss: 0.3857 - accuracy: 0.8714 - auc: 0.5097\n",
      "Epoch 4: val_auc did not improve from 0.51644\n",
      "250/250 [==============================] - 1s 5ms/step - loss: 0.3857 - accuracy: 0.8714 - auc: 0.5094 - val_loss: 0.3880 - val_accuracy: 0.8719 - val_auc: 0.5014\n",
      "Epoch 5/30\n",
      "250/250 [==============================] - ETA: 0s - loss: 0.3854 - accuracy: 0.8714 - auc: 0.5103\n",
      "Epoch 5: val_auc did not improve from 0.51644\n",
      "250/250 [==============================] - 1s 5ms/step - loss: 0.3854 - accuracy: 0.8714 - auc: 0.5103 - val_loss: 0.3835 - val_accuracy: 0.8719 - val_auc: 0.5073\n",
      "Epoch 6/30\n",
      "241/250 [===========================>..] - ETA: 0s - loss: 0.3850 - accuracy: 0.8714 - auc: 0.5128\n",
      "Epoch 6: val_auc did not improve from 0.51644\n",
      "250/250 [==============================] - 1s 5ms/step - loss: 0.3851 - accuracy: 0.8714 - auc: 0.5126 - val_loss: 0.3832 - val_accuracy: 0.8719 - val_auc: 0.5126\n",
      "Epoch 7/30\n",
      "243/250 [============================>.] - ETA: 0s - loss: 0.3844 - accuracy: 0.8715 - auc: 0.5143\n",
      "Epoch 7: val_auc did not improve from 0.51644\n",
      "250/250 [==============================] - 1s 5ms/step - loss: 0.3846 - accuracy: 0.8714 - auc: 0.5139 - val_loss: 0.3829 - val_accuracy: 0.8719 - val_auc: 0.5012\n",
      "Epoch 8/30\n",
      "241/250 [===========================>..] - ETA: 0s - loss: 0.3842 - accuracy: 0.8715 - auc: 0.5148\n",
      "Epoch 8: val_auc did not improve from 0.51644\n",
      "250/250 [==============================] - 1s 5ms/step - loss: 0.3843 - accuracy: 0.8714 - auc: 0.5146 - val_loss: 0.3828 - val_accuracy: 0.8719 - val_auc: 0.4970\n",
      "Epoch 9/30\n",
      "249/250 [============================>.] - ETA: 0s - loss: 0.3856 - accuracy: 0.8713 - auc: 0.5141\n",
      "Epoch 9: val_auc did not improve from 0.51644\n",
      "250/250 [==============================] - 1s 5ms/step - loss: 0.3855 - accuracy: 0.8714 - auc: 0.5144 - val_loss: 0.3831 - val_accuracy: 0.8719 - val_auc: 0.4979\n",
      "Epoch 10/30\n",
      "243/250 [============================>.] - ETA: 0s - loss: 0.3842 - accuracy: 0.8715 - auc: 0.5121\n",
      "Epoch 10: val_auc did not improve from 0.51644\n",
      "250/250 [==============================] - 1s 5ms/step - loss: 0.3845 - accuracy: 0.8714 - auc: 0.5125 - val_loss: 0.3829 - val_accuracy: 0.8719 - val_auc: 0.5013\n",
      "Epoch 11/30\n",
      "240/250 [===========================>..] - ETA: 0s - loss: 0.3837 - accuracy: 0.8719 - auc: 0.5146\n",
      "Epoch 11: val_auc did not improve from 0.51644\n",
      "250/250 [==============================] - 1s 5ms/step - loss: 0.3846 - accuracy: 0.8714 - auc: 0.5148 - val_loss: 0.3844 - val_accuracy: 0.8719 - val_auc: 0.5037\n",
      "Epoch 12/30\n",
      "239/250 [===========================>..] - ETA: 0s - loss: 0.3839 - accuracy: 0.8718 - auc: 0.5150\n",
      "Epoch 12: val_auc did not improve from 0.51644\n",
      "250/250 [==============================] - 1s 5ms/step - loss: 0.3845 - accuracy: 0.8714 - auc: 0.5156 - val_loss: 0.3830 - val_accuracy: 0.8719 - val_auc: 0.5109\n",
      "Epoch 13/30\n",
      "241/250 [===========================>..] - ETA: 0s - loss: 0.3836 - accuracy: 0.8716 - auc: 0.5161\n",
      "Epoch 13: val_auc did not improve from 0.51644\n",
      "250/250 [==============================] - 1s 5ms/step - loss: 0.3841 - accuracy: 0.8714 - auc: 0.5153 - val_loss: 0.3829 - val_accuracy: 0.8719 - val_auc: 0.4993\n",
      "Epoch 14/30\n",
      "242/250 [============================>.] - ETA: 0s - loss: 0.3849 - accuracy: 0.8712 - auc: 0.5144\n",
      "Epoch 14: val_auc did not improve from 0.51644\n",
      "250/250 [==============================] - 1s 5ms/step - loss: 0.3845 - accuracy: 0.8714 - auc: 0.5145 - val_loss: 0.3829 - val_accuracy: 0.8719 - val_auc: 0.5014\n",
      "Epoch 15/30\n",
      "243/250 [============================>.] - ETA: 0s - loss: 0.3839 - accuracy: 0.8715 - auc: 0.5164\n",
      "Epoch 15: val_auc did not improve from 0.51644\n",
      "250/250 [==============================] - 1s 5ms/step - loss: 0.3840 - accuracy: 0.8714 - auc: 0.5167 - val_loss: 0.3833 - val_accuracy: 0.8719 - val_auc: 0.5093\n",
      "Epoch 16/30\n",
      "249/250 [============================>.] - ETA: 0s - loss: 0.3843 - accuracy: 0.8713 - auc: 0.5156\n",
      "Epoch 16: val_auc did not improve from 0.51644\n",
      "250/250 [==============================] - 1s 5ms/step - loss: 0.3842 - accuracy: 0.8714 - auc: 0.5154 - val_loss: 0.3830 - val_accuracy: 0.8719 - val_auc: 0.5063\n",
      "Epoch 17/30\n",
      "240/250 [===========================>..] - ETA: 0s - loss: 0.3841 - accuracy: 0.8713 - auc: 0.5157\n",
      "Epoch 17: val_auc did not improve from 0.51644\n",
      "250/250 [==============================] - 1s 5ms/step - loss: 0.3840 - accuracy: 0.8714 - auc: 0.5157 - val_loss: 0.3832 - val_accuracy: 0.8719 - val_auc: 0.5042\n",
      "Epoch 18/30\n",
      "241/250 [===========================>..] - ETA: 0s - loss: 0.3855 - accuracy: 0.8708 - auc: 0.5158\n",
      "Epoch 18: val_auc did not improve from 0.51644\n",
      "250/250 [==============================] - 1s 5ms/step - loss: 0.3842 - accuracy: 0.8714 - auc: 0.5158 - val_loss: 0.3848 - val_accuracy: 0.8719 - val_auc: 0.5027\n",
      "Epoch 19/30\n",
      "239/250 [===========================>..] - ETA: 0s - loss: 0.3849 - accuracy: 0.8709 - auc: 0.5147\n",
      "Epoch 19: val_auc did not improve from 0.51644\n",
      "250/250 [==============================] - 1s 5ms/step - loss: 0.3840 - accuracy: 0.8714 - auc: 0.5153 - val_loss: 0.3854 - val_accuracy: 0.8719 - val_auc: 0.5017\n",
      "Epoch 20/30\n",
      "241/250 [===========================>..] - ETA: 0s - loss: 0.3845 - accuracy: 0.8715 - auc: 0.5154\n",
      "Epoch 20: val_auc did not improve from 0.51644\n",
      "250/250 [==============================] - 1s 5ms/step - loss: 0.3845 - accuracy: 0.8714 - auc: 0.5155 - val_loss: 0.3829 - val_accuracy: 0.8719 - val_auc: 0.5077\n",
      "Epoch 21/30\n",
      "244/250 [============================>.] - ETA: 0s - loss: 0.3840 - accuracy: 0.8713 - auc: 0.5147\n",
      "Epoch 21: val_auc did not improve from 0.51644\n",
      "250/250 [==============================] - 1s 5ms/step - loss: 0.3838 - accuracy: 0.8714 - auc: 0.5144 - val_loss: 0.3828 - val_accuracy: 0.8719 - val_auc: 0.5064\n",
      "Epoch 22/30\n",
      "249/250 [============================>.] - ETA: 0s - loss: 0.3838 - accuracy: 0.8714 - auc: 0.5054\n",
      "Epoch 22: val_auc did not improve from 0.51644\n",
      "250/250 [==============================] - 1s 5ms/step - loss: 0.3838 - accuracy: 0.8714 - auc: 0.5052 - val_loss: 0.3828 - val_accuracy: 0.8719 - val_auc: 0.5018\n",
      "Epoch 23/30\n",
      "247/250 [============================>.] - ETA: 0s - loss: 0.3840 - accuracy: 0.8713 - auc: 0.5053\n",
      "Epoch 23: val_auc did not improve from 0.51644\n",
      "250/250 [==============================] - 1s 5ms/step - loss: 0.3838 - accuracy: 0.8714 - auc: 0.5053 - val_loss: 0.3830 - val_accuracy: 0.8719 - val_auc: 0.5099\n",
      "Epoch 24/30\n",
      "239/250 [===========================>..] - ETA: 0s - loss: 0.3839 - accuracy: 0.8714 - auc: 0.5022\n",
      "Epoch 24: val_auc did not improve from 0.51644\n",
      "250/250 [==============================] - 1s 4ms/step - loss: 0.3838 - accuracy: 0.8714 - auc: 0.5022 - val_loss: 0.3828 - val_accuracy: 0.8719 - val_auc: 0.5002\n",
      "Epoch 25/30\n",
      "249/250 [============================>.] - ETA: 0s - loss: 0.3838 - accuracy: 0.8714 - auc: 0.5032\n",
      "Epoch 25: val_auc did not improve from 0.51644\n",
      "250/250 [==============================] - 1s 4ms/step - loss: 0.3837 - accuracy: 0.8714 - auc: 0.5032 - val_loss: 0.3829 - val_accuracy: 0.8719 - val_auc: 0.5069\n",
      "Epoch 26/30\n",
      "240/250 [===========================>..] - ETA: 0s - loss: 0.3846 - accuracy: 0.8710 - auc: 0.4990\n",
      "Epoch 26: val_auc did not improve from 0.51644\n",
      "250/250 [==============================] - 1s 4ms/step - loss: 0.3838 - accuracy: 0.8714 - auc: 0.4991 - val_loss: 0.3828 - val_accuracy: 0.8719 - val_auc: 0.5008\n",
      "Epoch 27/30\n",
      "242/250 [============================>.] - ETA: 0s - loss: 0.3845 - accuracy: 0.8711 - auc: 0.5041\n",
      "Epoch 27: val_auc did not improve from 0.51644\n",
      "250/250 [==============================] - 1s 4ms/step - loss: 0.3839 - accuracy: 0.8714 - auc: 0.5044 - val_loss: 0.3829 - val_accuracy: 0.8719 - val_auc: 0.5009\n",
      "Epoch 28/30\n",
      "244/250 [============================>.] - ETA: 0s - loss: 0.3834 - accuracy: 0.8716 - auc: 0.5103\n",
      "Epoch 28: val_auc did not improve from 0.51644\n",
      "250/250 [==============================] - 1s 5ms/step - loss: 0.3838 - accuracy: 0.8714 - auc: 0.5106 - val_loss: 0.3830 - val_accuracy: 0.8719 - val_auc: 0.5011\n",
      "Epoch 29/30\n",
      "239/250 [===========================>..] - ETA: 0s - loss: 0.3829 - accuracy: 0.8718 - auc: 0.5028\n",
      "Epoch 29: val_auc did not improve from 0.51644\n",
      "250/250 [==============================] - 1s 5ms/step - loss: 0.3838 - accuracy: 0.8714 - auc: 0.5038 - val_loss: 0.3828 - val_accuracy: 0.8719 - val_auc: 0.4977\n",
      "Epoch 30/30\n",
      "245/250 [============================>.] - ETA: 0s - loss: 0.3837 - accuracy: 0.8714 - auc: 0.5080\n",
      "Epoch 30: val_auc did not improve from 0.51644\n",
      "250/250 [==============================] - 1s 5ms/step - loss: 0.3838 - accuracy: 0.8714 - auc: 0.5083 - val_loss: 0.3830 - val_accuracy: 0.8719 - val_auc: 0.4972\n"
     ]
    }
   ],
   "source": [
    "callbacks = [model_save_callback]\n",
    "\n",
    "tracker = model.fit(x=X_train_pooled_output, \n",
    "                    y=y_train_categorical, \n",
    "                    epochs=30, \n",
    "                    validation_data=(X_test_pooled_output, y_test_categorical), \n",
    "                    batch_size=256, \n",
    "                    callbacks=callbacks)"
   ]
  },
  {
   "cell_type": "code",
   "execution_count": 58,
   "metadata": {
    "colab": {
     "base_uri": "https://localhost:8080/"
    },
    "id": "xhz2P8BdFbfT",
    "outputId": "96f79599-8c7d-4c3d-8c1c-c8d328a01bf7"
   },
   "outputs": [
    {
     "data": {
      "text/plain": [
       "dict_keys(['loss', 'accuracy', 'auc', 'val_loss', 'val_accuracy', 'val_auc'])"
      ]
     },
     "execution_count": 58,
     "metadata": {},
     "output_type": "execute_result"
    }
   ],
   "source": [
    "tracker.history.keys()"
   ]
  },
  {
   "cell_type": "code",
   "execution_count": 63,
   "metadata": {
    "id": "Xueu1bfHFxbg"
   },
   "outputs": [],
   "source": [
    "def plot_model_performance(tracker):\n",
    "    x = list(range(1, 31))\n",
    "\n",
    "    plt.figure(figsize=(18, 6))\n",
    "    \n",
    "    plt.subplot(131)\n",
    "    plt.plot(x, tracker.history['accuracy'], 'r--', label='train')\n",
    "    plt.plot(x, tracker.history['val_accuracy'], 'g--', label='validation')\n",
    "    plt.title('Accuracy Plot')\n",
    "    plt.xlabel(xlabel='Epochs')\n",
    "    plt.ylabel(ylabel='Accuracy')\n",
    "    plt.legend()\n",
    "    plt.grid()\n",
    "\n",
    "    plt.subplot(132)\n",
    "    plt.plot(x, tracker.history['loss'], 'r--', label='train')\n",
    "    plt.plot(x, tracker.history['val_loss'], 'g--', label='validation')\n",
    "    plt.title('Loss Plot')\n",
    "    plt.xlabel(xlabel='Epochs')\n",
    "    plt.ylabel(ylabel='Loss')\n",
    "    plt.legend()\n",
    "    plt.grid()\n",
    "\n",
    "    plt.subplot(133)\n",
    "    plt.plot(x, tracker.history['auc'], 'r--', label='train')\n",
    "    plt.plot(x, tracker.history['val_auc'], 'g--', label='validation')\n",
    "    plt.title('AUC Plot')\n",
    "    plt.xlabel(xlabel='Epochs')\n",
    "    plt.ylabel(ylabel='Loss')\n",
    "    plt.legend()\n",
    "    plt.grid()\n",
    "\n",
    "    plt.show()"
   ]
  },
  {
   "cell_type": "code",
   "execution_count": 64,
   "metadata": {
    "colab": {
     "base_uri": "https://localhost:8080/",
     "height": 404
    },
    "id": "uS388efTGaTp",
    "outputId": "28ec47c6-1f78-47fb-bfcc-11483868870c"
   },
   "outputs": [
    {
     "data": {
      "image/png": "[encoded data removed]",
      "text/plain": [
       "<Figure size 1296x432 with 3 Axes>"
      ]
     },
     "metadata": {
      "needs_background": "light"
     },
     "output_type": "display_data"
    }
   ],
   "source": [
    "plot_model_performance(tracker=tracker)"
   ]
  },
  {
   "cell_type": "code",
   "execution_count": 65,
   "metadata": {
    "id": "MRdRP-TaG4ff"
   },
   "outputs": [],
   "source": [
    "model.load_weights(filepath=filepath)"
   ]
  },
  {
   "cell_type": "markdown",
   "metadata": {
    "id": "kcILeYZI9pxm"
   },
   "source": [
    "Part-6: Creating a Data pipeline for BERT Model\n"
   ]
  },
  {
   "cell_type": "markdown",
   "metadata": {
    "id": "rvwDB7aXHC_W"
   },
   "source": [
    "1. Pipeline is a way to codify and automate the workflow.\n",
    "2. Download the test.csv file from here <a href=\"https://drive.google.com/file/d/1QwjqTsqTX2vdy7fTmeXjxP3dq8IAVLpo/view?usp=sharing\">here</a>"
   ]
  },
  {
   "cell_type": "code",
   "execution_count": 66,
   "metadata": {
    "id": "jbKJf4fXHCuQ"
   },
   "outputs": [],
   "source": [
    "test_df = pd.read_csv(filepath_or_buffer=os.path.join(project_path, 'test.csv'))"
   ]
  },
  {
   "cell_type": "code",
   "execution_count": 67,
   "metadata": {
    "colab": {
     "base_uri": "https://localhost:8080/",
     "height": 206
    },
    "id": "kwv_BIV9xWt7",
    "outputId": "27635e9f-d630-4231-aafc-aa962d46d8d2"
   },
   "outputs": [
    {
     "data": {
      "text/html": [
       "\n",
       "  <div id=\"df-3d0b21f2-2687-4272-974d-6bc3f897db38\">\n",
       "    <div class=\"colab-df-container\">\n",
       "      <div>\n",
       "<style scoped>\n",
       "    .dataframe tbody tr th:only-of-type {\n",
       "        vertical-align: middle;\n",
       "    }\n",
       "\n",
       "    .dataframe tbody tr th {\n",
       "        vertical-align: top;\n",
       "    }\n",
       "\n",
       "    .dataframe thead th {\n",
       "        text-align: right;\n",
       "    }\n",
       "</style>\n",
       "<table border=\"1\" class=\"dataframe\">\n",
       "  <thead>\n",
       "    <tr style=\"text-align: right;\">\n",
       "      <th></th>\n",
       "      <th>Text</th>\n",
       "    </tr>\n",
       "  </thead>\n",
       "  <tbody>\n",
       "    <tr>\n",
       "      <th>0</th>\n",
       "      <td>Just opened Greenies Joint Care (individually ...</td>\n",
       "    </tr>\n",
       "    <tr>\n",
       "      <th>1</th>\n",
       "      <td>This product rocks :) My mom was very happy w/...</td>\n",
       "    </tr>\n",
       "    <tr>\n",
       "      <th>2</th>\n",
       "      <td>The product was fine, but the cost of shipping...</td>\n",
       "    </tr>\n",
       "    <tr>\n",
       "      <th>3</th>\n",
       "      <td>I love this soup. It's great as part of a meal...</td>\n",
       "    </tr>\n",
       "    <tr>\n",
       "      <th>4</th>\n",
       "      <td>Getting ready to order again. These are great ...</td>\n",
       "    </tr>\n",
       "  </tbody>\n",
       "</table>\n",
       "</div>\n",
       "      <button class=\"colab-df-convert\" onclick=\"convertToInteractive('df-3d0b21f2-2687-4272-974d-6bc3f897db38')\"\n",
       "              title=\"Convert this dataframe to an interactive table.\"\n",
       "              style=\"display:none;\">\n",
       "        \n",
       "  <svg xmlns=\"http://www.w3.org/2000/svg\" height=\"24px\"viewBox=\"0 0 24 24\"\n",
       "       width=\"24px\">\n",
       "    <path d=\"M0 0h24v24H0V0z\" fill=\"none\"/>\n",
       "    <path d=\"M18.56 5.44l.94 2.06.94-2.06 2.06-.94-2.06-.94-.94-2.06-.94 2.06-2.06.94zm-11 1L8.5 8.5l.94-2.06 2.06-.94-2.06-.94L8.5 2.5l-.94 2.06-2.06.94zm10 10l.94 2.06.94-2.06 2.06-.94-2.06-.94-.94-2.06-.94 2.06-2.06.94z\"/><path d=\"M17.41 7.96l-1.37-1.37c-.4-.4-.92-.59-1.43-.59-.52 0-1.04.2-1.43.59L10.3 9.45l-7.72 7.72c-.78.78-.78 2.05 0 2.83L4 21.41c.39.39.9.59 1.41.59.51 0 1.02-.2 1.41-.59l7.78-7.78 2.81-2.81c.8-.78.8-2.07 0-2.86zM5.41 20L4 18.59l7.72-7.72 1.47 1.35L5.41 20z\"/>\n",
       "  </svg>\n",
       "      </button>\n",
       "      \n",
       "  <style>\n",
       "    .colab-df-container {\n",
       "      display:flex;\n",
       "      flex-wrap:wrap;\n",
       "      gap: 12px;\n",
       "    }\n",
       "\n",
       "    .colab-df-convert {\n",
       "      background-color: #E8F0FE;\n",
       "      border: none;\n",
       "      border-radius: 50%;\n",
       "      cursor: pointer;\n",
       "      display: none;\n",
       "      fill: #1967D2;\n",
       "      height: 32px;\n",
       "      padding: 0 0 0 0;\n",
       "      width: 32px;\n",
       "    }\n",
       "\n",
       "    .colab-df-convert:hover {\n",
       "      background-color: #E2EBFA;\n",
       "      box-shadow: 0px 1px 2px rgba(60, 64, 67, 0.3), 0px 1px 3px 1px rgba(60, 64, 67, 0.15);\n",
       "      fill: #174EA6;\n",
       "    }\n",
       "\n",
       "    [theme=dark] .colab-df-convert {\n",
       "      background-color: #3B4455;\n",
       "      fill: #D2E3FC;\n",
       "    }\n",
       "\n",
       "    [theme=dark] .colab-df-convert:hover {\n",
       "      background-color: #434B5C;\n",
       "      box-shadow: 0px 1px 3px 1px rgba(0, 0, 0, 0.15);\n",
       "      filter: drop-shadow(0px 1px 2px rgba(0, 0, 0, 0.3));\n",
       "      fill: #FFFFFF;\n",
       "    }\n",
       "  </style>\n",
       "\n",
       "      <script>\n",
       "        const buttonEl =\n",
       "          document.querySelector('#df-3d0b21f2-2687-4272-974d-6bc3f897db38 button.colab-df-convert');\n",
       "        buttonEl.style.display =\n",
       "          google.colab.kernel.accessAllowed ? 'block' : 'none';\n",
       "\n",
       "        async function convertToInteractive(key) {\n",
       "          const element = document.querySelector('#df-3d0b21f2-2687-4272-974d-6bc3f897db38');\n",
       "          const dataTable =\n",
       "            await google.colab.kernel.invokeFunction('convertToInteractive',\n",
       "                                                     [key], {});\n",
       "          if (!dataTable) return;\n",
       "\n",
       "          const docLinkHtml = 'Like what you see? Visit the ' +\n",
       "            '<a target=\"_blank\" href=https://colab.research.google.com/notebooks/data_table.ipynb>data table notebook</a>'\n",
       "            + ' to learn more about interactive tables.';\n",
       "          element.innerHTML = '';\n",
       "          dataTable['output_type'] = 'display_data';\n",
       "          await google.colab.output.renderOutput(dataTable, element);\n",
       "          const docLink = document.createElement('div');\n",
       "          docLink.innerHTML = docLinkHtml;\n",
       "          element.appendChild(docLink);\n",
       "        }\n",
       "      </script>\n",
       "    </div>\n",
       "  </div>\n",
       "  "
      ],
      "text/plain": [
       "                                                Text\n",
       "0  Just opened Greenies Joint Care (individually ...\n",
       "1  This product rocks :) My mom was very happy w/...\n",
       "2  The product was fine, but the cost of shipping...\n",
       "3  I love this soup. It's great as part of a meal...\n",
       "4  Getting ready to order again. These are great ..."
      ]
     },
     "execution_count": 67,
     "metadata": {},
     "output_type": "execute_result"
    }
   ],
   "source": [
    "test_df.head()"
   ]
  },
  {
   "cell_type": "markdown",
   "metadata": {
    "id": "-zii6hgejdhQ"
   },
   "source": [
    "1. You have to write a function that takes the test_df,trained model and the required parameters as input. \n",
    "2. Perform all the preproceesing steps inside the function.\n",
    "    - Remove all the html tags\n",
    "    - Now do tokenization [Part 3 as mentioned above]\n",
    "    - Create tokens,mask array and segment array\n",
    "    - Get Embeddings from BERT Model [Part 4 as mentioned above] , let it be X_test\n",
    "    - Print the shape of output(X_test.shape).You should get (352,768)\n",
    "3. Predit the output of X_test with the neural network model which we trained earlier.\n",
    "4. Return the occurences of class labels from the function.\n",
    "The output should be the count of datapoints classified as 1 or 0."
   ]
  },
  {
   "cell_type": "code",
   "execution_count": 68,
   "metadata": {
    "id": "g9g6C_kgjcan"
   },
   "outputs": [],
   "source": [
    "def pipeline(df, model):\n",
    "    cleaner = re.compile('<.*?>') \n",
    "\n",
    "    def clean_html(text):\n",
    "        text = re.sub(pattern=cleaner, repl='', string=text)\n",
    "        return text\n",
    "    \n",
    "    # removing html tags\n",
    "    df['Text'] = df['Text'].apply(func=clean_html)\n",
    "    # creating tokens, masks, and segments\n",
    "    df_tokens, df_masks, df_segments = get_tokens_mask_segment_for_corpus(documents=df['Text'])\n",
    "    # getting the embeddings\n",
    "    df_pooled_output = bert_model.predict(x=[df_tokens, df_masks, df_segments])\n",
    "    print(df_pooled_output.shape)\n",
    "    # predictions\n",
    "    probas = model.predict(x=df_pooled_output)\n",
    "    preds = probas.argmax(axis=-1)\n",
    "    return preds"
   ]
  },
  {
   "cell_type": "code",
   "execution_count": 69,
   "metadata": {
    "colab": {
     "base_uri": "https://localhost:8080/"
    },
    "id": "quo4GTLjH8-A",
    "outputId": "7356cd2d-13a4-48f0-c0d2-9153613c128e"
   },
   "outputs": [
    {
     "name": "stderr",
     "output_type": "stream",
     "text": [
      "100%|██████████| 352/352 [00:00<00:00, 1959.46it/s]\n"
     ]
    },
    {
     "name": "stdout",
     "output_type": "stream",
     "text": [
      "11/11 [==============================] - 2s 117ms/step\n",
      "(352, 768)\n",
      "11/11 [==============================] - 0s 1ms/step\n"
     ]
    }
   ],
   "source": [
    "predictions = pipeline(df=test_df, model=model)"
   ]
  },
  {
   "cell_type": "code",
   "execution_count": 70,
   "metadata": {
    "id": "9M-ajKTfH87H"
   },
   "outputs": [],
   "source": [
    "test_df['labels'] = predictions"
   ]
  },
  {
   "cell_type": "code",
   "execution_count": 71,
   "metadata": {
    "colab": {
     "base_uri": "https://localhost:8080/",
     "height": 279
    },
    "id": "N8ixV6njH85G",
    "outputId": "23c9fb66-980c-414f-e51a-d4324f0e2e60"
   },
   "outputs": [
    {
     "data": {
      "text/plain": [
       "<matplotlib.axes._subplots.AxesSubplot at 0x7f27918bafd0>"
      ]
     },
     "execution_count": 71,
     "metadata": {},
     "output_type": "execute_result"
    },
    {
     "data": {
      "image/png": "[encoded data removed]",
      "text/plain": [
       "<Figure size 432x288 with 1 Axes>"
      ]
     },
     "metadata": {
      "needs_background": "light"
     },
     "output_type": "display_data"
    }
   ],
   "source": [
    "test_df['labels'].value_counts().plot(kind='bar')"
   ]
  },
  {
   "cell_type": "markdown",
   "metadata": {
    "id": "pZc7XTQOxcIO"
   },
   "source": [
    "Please write your observations at the end of notebook and  explain each and every step you followed in solving this assignment."
   ]
  },
  {
   "cell_type": "markdown",
   "metadata": {
    "id": "yU0whvASINTX"
   },
   "source": [
    "1. This is binary classification problem.\n",
    "2. Basic preprocessing techniques were applied such as html cleaner and lower case and removing nan values.\n",
    "3. One pointer, though we removed nan values from the dataset, when we split the dataset, we were able to see nan values again. Hence, I removed nan values again, which reduced the dataset size. If we don't remove, the tokenizer would raise an exception.\n",
    "4. Using BERT model, we obtained positional embeddings, masks and segments. All these are adjusted during training.\n",
    "7. Final output of BERT model is fed FFNN to get final predicitions.\n",
    "8. We used auc as a metric in order to check the model performance."
   ]
  }
 ],
 "metadata": {
  "accelerator": "GPU",
  "colab": {
   "collapsed_sections": [],
   "machine_shape": "hm",
   "provenance": []
  },
  "gpuClass": "standard",
  "kernelspec": {
   "display_name": "Python 3 (ipykernel)",
   "language": "python",
   "name": "python3"
  },
  "language_info": {
   "codemirror_mode": {
    "name": "ipython",
    "version": 3
   },
   "file_extension": ".py",
   "mimetype": "text/x-python",
   "name": "python",
   "nbconvert_exporter": "python",
   "pygments_lexer": "ipython3",
   "version": "3.10.7"
  }
 },
 "nbformat": 4,
 "nbformat_minor": 1
}
