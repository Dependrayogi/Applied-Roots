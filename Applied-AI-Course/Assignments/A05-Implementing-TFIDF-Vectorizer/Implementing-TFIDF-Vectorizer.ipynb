{
 "cells": [
  {
   "cell_type": "markdown",
   "metadata": {
    "id": "IvLvmewlxLix"
   },
   "source": [
    "__What does TF-IDF mean?__\n",
    "\n",
    "TF-IDF stands for _term frequency-inverse document frequency_, and the TF-IDF weight is a weight often used in information retrieval and text mining. This weight is a statistical measure used to evaluate how important a word is to a document in a collection or corpus. The importance increases proportionally to the number of times a word appears in the document but is offset by the frequency of the word in the corpus. Variations of the TF-IDF weighting scheme are often used by search engines as a central tool in scoring and ranking a document's relevance given a user query.\n",
    "\n",
    "One of the simplest ranking functions is computed by summing the TF-IDF for each query term; many more sophisticated ranking functions are variants of this simple model.\n",
    "\n",
    "TF-IDF can be successfully used for stop-words filtering in various subject fields including text summarization and classification."
   ]
  },
  {
   "cell_type": "markdown",
   "metadata": {
    "id": "4XLaGFUMxLiy"
   },
   "source": [
    "__How to Compute__:\n",
    "\n",
    "Typically, the TF-IDF weight is composed by two terms: the first computes the normalized Term Frequency (TF), aka. the number of times a word appears in a document, divided by the total number of words in that document; the second term is the Inverse Document Frequency (IDF), computed as the logarithm of the number of the documents in the corpus divided by the number of documents where the specific term appears.\n",
    "\n",
    "__TF__: Term Frequency, which measures how frequently a term occurs in a document. Since every document is different in length, it is possible that a term would appear much more times in long documents than shorter ones. Thus, the term frequency is often divided by the document length (aka. the total number of terms in the document) as a way of normalization: <br>\n",
    "\n",
    "$\\text{TF}(t) = \\frac{\\text{Number of times term t appears in a document}}{\\text{Total number of terms in the document}}$\n",
    "\n",
    "__IDF__: Inverse Document Frequency, which measures how important a term is. While computing TF, all terms are considered equally important. However it is known that certain terms, such as \"is\", \"of\", and \"that\", may appear a lot of times but have little importance. Thus we need to weigh down the frequent terms while scale up the rare ones, by computing the following: <br>\n",
    "\n",
    "$\\text{IDF}(t) = \\log_{e}\\frac{\\text{Total  number of documents}} {\\text{Number of documents with term t in it}}$\n",
    "for numerical stabiltiy we will be changing this formula little bit\n",
    "\n",
    "$\\text{IDF}(t) = \\log_{e}\\frac{\\text{Total  number of documents}} {\\text{Number of documents with term t in it}+1}$\n",
    "\n",
    "__Example__\n",
    "\n",
    "Consider a document containing $100$ words wherein the word cat appears $3$ times. The term frequency (i.e., TF) for cat is then $\\frac{3}{100} = 0.03$. Now, assume we have $10$ million documents and the word cat appears in one thousand of these. Then, the inverse document frequency (i.e., IDF) is calculated as $\\log\\left(\\frac{10000000}{1000}\\right) = 4$. Thus, the TF-IDF weight is the product of these quantities: $0.03 \\times 4 = 0.12$."
   ]
  },
  {
   "cell_type": "markdown",
   "metadata": {},
   "source": [
    "---"
   ]
  },
  {
   "cell_type": "markdown",
   "metadata": {
    "id": "dg2ooa4DxLiz"
   },
   "source": [
    "__Task-1__"
   ]
  },
  {
   "cell_type": "markdown",
   "metadata": {
    "id": "TAcTjhO8xLiz"
   },
   "source": [
    "1. Build a TF-IDF Vectorizer & compare its results with Sklearn.\n",
    "\n",
    "    - As a part of this task you will be implementing TF-IDF vectorizer on a collection of text documents.\n",
    "    - You should compare the results of your own implementation of TF-IDF vectorizer with that of sklearn's implemenation TF-IDF vectorizer.\n",
    "    - Sklearn does few more tweaks in the implementation of its version of TF-IDF vectorizer, so to replicate the exact results you would need to add following things to your custom implementation of TF-IDF vectorizer:\n",
    "        1. Sklearn has its vocabulary generated from IDF sorted in alphabetical order\n",
    "        2. Sklearn formula of IDF is different from the standard textbook formula. Here the constant __\"1\"__ is added to the numerator and denominator of the IDF as if an extra document was seen containing every term in the collection exactly once, which prevents zero divisions. $\\text{IDF}(t) = 1+\\log_{e}\\frac{1\\text{ }+\\text{ Total number of documents in collection}} {1+\\text{Number of documents with term t in it}}$\n",
    "        3. Sklearn applies L2-normalization on its output matrix.\n",
    "        4. The final output of sklearn TF-IDF vectorizer is a sparse matrix.\n",
    "    - Steps to approach this task:\n",
    "        1. You would have to write both fit and transform methods for your custom implementation of TF-IDF vectorizer.\n",
    "        2. Print out the alphabetically sorted vocab after you fit your data and check if its the same as that of the feature names from sklearn TF-IDF vectorizer.\n",
    "        3. Print out the IDF values from your implementation and check if its the same as that of sklearn's TF-IDF vectorizer IDF values.\n",
    "        4. Once you get your vocab and IDF values to be same as that of sklearn's implementation of TF-IDF vectorizer, proceed to the below steps.\n",
    "        5. Make sure the output of your implementation is a sparse matrix. Before generating the final output, you need to normalize your sparse matrix using L2 normalization. You can refer to this link [here](https://scikit-learn.org/stable/modules/generated/sklearn.preprocessing.normalize.html).\n",
    "        6. After completing the above steps, print the output of your custom implementation and compare it with sklearn's implementation of TF-IDF vectorizer.\n",
    "        7. To check the output of a single document in your collection of documents,  you can convert the sparse matrix related only to that document into dense matrix and print it.\n",
    "\n",
    "__Note-1__: All the necessary outputs of sklearn's TF-IDF vectorizer have been provided as reference in this notebook, you can compare your outputs as mentioned in the above steps, with these outputs.\n",
    "\n",
    "__Note-2__: The output of your custom implementation and that of sklearn's implementation would match only with the collection of document strings provided to you as reference in this notebook. It would not match for strings that contain capital letters or punctuations, etc, because sklearn version of TF-IDF vectorizer deals with such strings in a different way. To know further details about how sklearn TF-IDF vectorizer works with such string, you can always refer to its official documentation.\n",
    "\n",
    "__Note-3__: During this task, it would be helpful for you to debug the code you write with print statements wherever necessary. But when you are finally submitting the assignment, make sure your code is readable and try not to print things which are not part of this task."
   ]
  },
  {
   "cell_type": "code",
   "execution_count": 1,
   "metadata": {},
   "outputs": [],
   "source": [
    "import warnings\n",
    "warnings.filterwarnings('ignore')"
   ]
  },
  {
   "cell_type": "markdown",
   "metadata": {
    "id": "OnV82tg1xLi0"
   },
   "source": [
    "__Corpus__"
   ]
  },
  {
   "cell_type": "code",
   "execution_count": 2,
   "metadata": {
    "id": "bUsYm9wjxLi1"
   },
   "outputs": [],
   "source": [
    "corpus = [\n",
    "     'this is the first document',\n",
    "     'this document is the second document',\n",
    "     'and this is the third one',\n",
    "     'is this the first document',\n",
    "]"
   ]
  },
  {
   "cell_type": "markdown",
   "metadata": {
    "id": "eLwmFZfKxLi4"
   },
   "source": [
    "__Sklearn Implementation__"
   ]
  },
  {
   "cell_type": "code",
   "execution_count": 3,
   "metadata": {
    "id": "Np4dfQOkxLi4"
   },
   "outputs": [],
   "source": [
    "from sklearn.feature_extraction.text import TfidfVectorizer"
   ]
  },
  {
   "cell_type": "code",
   "execution_count": 4,
   "metadata": {},
   "outputs": [],
   "source": [
    "vectorizer = TfidfVectorizer()\n",
    "vectorizer.fit(corpus);"
   ]
  },
  {
   "cell_type": "code",
   "execution_count": 5,
   "metadata": {},
   "outputs": [],
   "source": [
    "skl_output = vectorizer.transform(corpus)"
   ]
  },
  {
   "cell_type": "markdown",
   "metadata": {},
   "source": [
    "The sklearn feature names, they are sorted in alphabetic order by default."
   ]
  },
  {
   "cell_type": "code",
   "execution_count": 6,
   "metadata": {
    "id": "-7Om8YpYxLi6",
    "outputId": "0a3bd0f5-4424-4400-944f-4482a80bd799"
   },
   "outputs": [
    {
     "name": "stdout",
     "output_type": "stream",
     "text": [
      "['and' 'document' 'first' 'is' 'one' 'second' 'the' 'third' 'this']\n"
     ]
    }
   ],
   "source": [
    "print(vectorizer.get_feature_names_out())"
   ]
  },
  {
   "cell_type": "markdown",
   "metadata": {},
   "source": [
    "Here we will print the sklearn tfidf vectorizer idf values after applying the fit method. After using the fit method on the corpus the vocab has $9$ words in it, and each has its idf value."
   ]
  },
  {
   "cell_type": "code",
   "execution_count": 7,
   "metadata": {
    "id": "dTKplK96xLi-",
    "outputId": "53722fa2-6756-4aa0-f179-37b578bb6890"
   },
   "outputs": [
    {
     "name": "stdout",
     "output_type": "stream",
     "text": [
      "[1.91629073 1.22314355 1.51082562 1.         1.91629073 1.91629073\n",
      " 1.         1.91629073 1.        ]\n"
     ]
    }
   ],
   "source": [
    "print(vectorizer.idf_)"
   ]
  },
  {
   "cell_type": "markdown",
   "metadata": {},
   "source": [
    "The shape of sklearn tfidf vectorizer output after applying transform method."
   ]
  },
  {
   "cell_type": "code",
   "execution_count": 8,
   "metadata": {
    "id": "-CTiWHygxLjA",
    "outputId": "8d5a9cde-2c29-4afe-f7b4-1547e88dba4f"
   },
   "outputs": [
    {
     "name": "stdout",
     "output_type": "stream",
     "text": [
      "(4, 9)\n"
     ]
    }
   ],
   "source": [
    "print(skl_output.shape)"
   ]
  },
  {
   "cell_type": "markdown",
   "metadata": {},
   "source": [
    "The sklearn tfidf values for first line of the above corpus. Here the output is a sparse matrix."
   ]
  },
  {
   "cell_type": "code",
   "execution_count": 9,
   "metadata": {
    "id": "bDKEpbA-xLjD",
    "outputId": "87dafd65-5313-443f-8c6e-1b05cc8c2543"
   },
   "outputs": [
    {
     "name": "stdout",
     "output_type": "stream",
     "text": [
      "  (0, 8)\t0.38408524091481483\n",
      "  (0, 6)\t0.38408524091481483\n",
      "  (0, 3)\t0.38408524091481483\n",
      "  (0, 2)\t0.5802858236844359\n",
      "  (0, 1)\t0.46979138557992045\n"
     ]
    }
   ],
   "source": [
    "print(skl_output[0])"
   ]
  },
  {
   "cell_type": "markdown",
   "metadata": {},
   "source": [
    "The sklearn tfidf values for first line of the above corpus. To understand the output better, here we are converting the sparse output matrix to dense matrix and printing it. Notice that this output is normalized using L2 normalization. sklearn does this by default."
   ]
  },
  {
   "cell_type": "code",
   "execution_count": 10,
   "metadata": {
    "id": "HjuCcJwXxLjJ"
   },
   "outputs": [],
   "source": [
    "from collections import Counter\n",
    "from scipy.sparse import csr_matrix\n",
    "from sklearn.preprocessing import normalize\n",
    "from tqdm import tqdm\n",
    "\n",
    "import math\n",
    "import operator\n",
    "import numpy as np"
   ]
  },
  {
   "cell_type": "code",
   "execution_count": 11,
   "metadata": {},
   "outputs": [],
   "source": [
    "class TFIDFCustom(object):\n",
    "    \"\"\"\n",
    "    This is a custom implementation of TF-IDF Vectorizer.\n",
    "    \"\"\"\n",
    "    \n",
    "    def __init__(self, data):\n",
    "        self.data = data\n",
    "    \n",
    "    def get_unique_words(self):\n",
    "        \"\"\"\n",
    "        This method uniquely identifies the words.\n",
    "        \"\"\"\n",
    "        if isinstance(self.data, list):\n",
    "            u_words = set()\n",
    "            for doc in self.data:\n",
    "                for word in doc.split():\n",
    "                    if len(word) >= 2:\n",
    "                        u_words.add(word)\n",
    "            return sorted(list(u_words))\n",
    "        else:\n",
    "            print(\"Please ensure the data is of list type!\")\n",
    "            return []\n",
    "    \n",
    "    def fit(self):\n",
    "        \"\"\"\n",
    "        This method fits the corpus.\n",
    "        \"\"\"\n",
    "        u_words = self.get_unique_words()\n",
    "        vocab = {w: i for i, w in enumerate(u_words)}\n",
    "        return vocab\n",
    "    \n",
    "    def get_tf(self, word, document):\n",
    "        \"\"\"\n",
    "        This method computes term frequency.\n",
    "        \"\"\"\n",
    "        doclist = document.split()\n",
    "        tf = doclist.count(word) / len(doclist)\n",
    "        return tf\n",
    "    \n",
    "    def get_idf(self):\n",
    "        \"\"\"\n",
    "        This method computes inverse document frequency.\n",
    "        \"\"\"\n",
    "        idfs = list()\n",
    "        words = self.get_unique_words()\n",
    "        N = len(self.data)\n",
    "        for word in words:\n",
    "            n = 0\n",
    "            for doc in self.data:\n",
    "                if word in doc.split():\n",
    "                    n += 1\n",
    "            idf = 1 + np.log((1 + N) / (1 + n))\n",
    "            idfs.append(idf)\n",
    "        return np.array(idfs)\n",
    "    \n",
    "    def idf_dict(self):\n",
    "        \"\"\"\n",
    "        This method stores each word and its idf value in a dict.\n",
    "        \"\"\"\n",
    "        words = self.get_unique_words()\n",
    "        idfs = self.get_idf()\n",
    "        idf_d = {w: idf for w, idf in zip(words, idfs)}\n",
    "        return idf_d\n",
    "   \n",
    "    def transform(self, sparse=True):\n",
    "        \"\"\"\n",
    "        This method writes a feature matrix using sparse matrix.\n",
    "        \"\"\"\n",
    "        if isinstance(self.data, list):\n",
    "            vocab = self.fit()\n",
    "            idf_d = self.idf_dict()\n",
    "            sparse_vect = csr_matrix((len(self.data), len(vocab)), dtype=float)\n",
    "            r = []; c = []; v = [];\n",
    "            for ri, doc in enumerate(self.data):\n",
    "                split_doc = doc.split()\n",
    "                for word in split_doc:\n",
    "                    if len(word) < 2:\n",
    "                        continue\n",
    "                    else:\n",
    "                        tf = self.get_tf(word=word, document=doc)\n",
    "                        idf = idf_d.get(word)\n",
    "                        ci = vocab.get(word, -1)\n",
    "                        if ci != -1:\n",
    "                            sparse_vect[ri, ci] = tf * idf\n",
    "            sparse_vect = normalize(X=sparse_vect)\n",
    "            if sparse:\n",
    "                return sparse_vect\n",
    "            else:\n",
    "                return sparse_vect.toarray()\n",
    "        else:\n",
    "            print(\"Please ensure the data is of list type!\")"
   ]
  },
  {
   "cell_type": "code",
   "execution_count": 12,
   "metadata": {},
   "outputs": [],
   "source": [
    "tfidf_cus = TFIDFCustom(data=corpus)"
   ]
  },
  {
   "cell_type": "code",
   "execution_count": 13,
   "metadata": {},
   "outputs": [
    {
     "data": {
      "text/plain": [
       "{'and': 0,\n",
       " 'document': 1,\n",
       " 'first': 2,\n",
       " 'is': 3,\n",
       " 'one': 4,\n",
       " 'second': 5,\n",
       " 'the': 6,\n",
       " 'third': 7,\n",
       " 'this': 8}"
      ]
     },
     "metadata": {},
     "output_type": "display_data"
    }
   ],
   "source": [
    "display(tfidf_cus.fit())"
   ]
  },
  {
   "cell_type": "code",
   "execution_count": 14,
   "metadata": {},
   "outputs": [
    {
     "name": "stdout",
     "output_type": "stream",
     "text": [
      "[1.91629073 1.22314355 1.51082562 1.         1.91629073 1.91629073\n",
      " 1.         1.91629073 1.        ]\n"
     ]
    }
   ],
   "source": [
    "print(tfidf_cus.get_idf())"
   ]
  },
  {
   "cell_type": "code",
   "execution_count": 15,
   "metadata": {},
   "outputs": [
    {
     "data": {
      "text/plain": [
       "{'and': 1.916290731874155,\n",
       " 'document': 1.2231435513142097,\n",
       " 'first': 1.5108256237659907,\n",
       " 'is': 1.0,\n",
       " 'one': 1.916290731874155,\n",
       " 'second': 1.916290731874155,\n",
       " 'the': 1.0,\n",
       " 'third': 1.916290731874155,\n",
       " 'this': 1.0}"
      ]
     },
     "metadata": {},
     "output_type": "display_data"
    }
   ],
   "source": [
    "display(tfidf_cus.idf_dict())"
   ]
  },
  {
   "cell_type": "code",
   "execution_count": 16,
   "metadata": {
    "scrolled": false
   },
   "outputs": [
    {
     "name": "stdout",
     "output_type": "stream",
     "text": [
      "  (0, 1)\t0.4697913855799205\n",
      "  (0, 2)\t0.580285823684436\n",
      "  (0, 3)\t0.3840852409148149\n",
      "  (0, 6)\t0.3840852409148149\n",
      "  (0, 8)\t0.3840852409148149\n",
      "  (1, 1)\t0.6876235979836937\n",
      "  (1, 3)\t0.2810886740337529\n",
      "  (1, 5)\t0.5386476208856762\n",
      "  (1, 6)\t0.2810886740337529\n",
      "  (1, 8)\t0.2810886740337529\n",
      "  (2, 0)\t0.511848512707169\n",
      "  (2, 3)\t0.267103787642168\n",
      "  (2, 4)\t0.511848512707169\n",
      "  (2, 6)\t0.267103787642168\n",
      "  (2, 7)\t0.511848512707169\n",
      "  (2, 8)\t0.267103787642168\n",
      "  (3, 1)\t0.4697913855799205\n",
      "  (3, 2)\t0.580285823684436\n",
      "  (3, 3)\t0.3840852409148149\n",
      "  (3, 6)\t0.3840852409148149\n",
      "  (3, 8)\t0.3840852409148149\n"
     ]
    }
   ],
   "source": [
    "print(tfidf_cus.transform(sparse=True))"
   ]
  },
  {
   "cell_type": "markdown",
   "metadata": {},
   "source": [
    "Below is `sklearn` sparse matrix."
   ]
  },
  {
   "cell_type": "code",
   "execution_count": 17,
   "metadata": {
    "id": "3QWo34hexLjF",
    "outputId": "cdc04e08-989f-4bdc-dd7f-f1c82a9f90be"
   },
   "outputs": [
    {
     "name": "stdout",
     "output_type": "stream",
     "text": [
      "  (0, 8)\t0.38408524091481483\n",
      "  (0, 6)\t0.38408524091481483\n",
      "  (0, 3)\t0.38408524091481483\n",
      "  (0, 2)\t0.5802858236844359\n",
      "  (0, 1)\t0.46979138557992045\n",
      "  (1, 8)\t0.281088674033753\n",
      "  (1, 6)\t0.281088674033753\n",
      "  (1, 5)\t0.5386476208856763\n",
      "  (1, 3)\t0.281088674033753\n",
      "  (1, 1)\t0.6876235979836938\n",
      "  (2, 8)\t0.267103787642168\n",
      "  (2, 7)\t0.511848512707169\n",
      "  (2, 6)\t0.267103787642168\n",
      "  (2, 4)\t0.511848512707169\n",
      "  (2, 3)\t0.267103787642168\n",
      "  (2, 0)\t0.511848512707169\n",
      "  (3, 8)\t0.38408524091481483\n",
      "  (3, 6)\t0.38408524091481483\n",
      "  (3, 3)\t0.38408524091481483\n",
      "  (3, 2)\t0.5802858236844359\n",
      "  (3, 1)\t0.46979138557992045\n"
     ]
    }
   ],
   "source": [
    "print(skl_output)"
   ]
  },
  {
   "cell_type": "markdown",
   "metadata": {},
   "source": [
    "---"
   ]
  },
  {
   "cell_type": "markdown",
   "metadata": {
    "id": "MMxBmVZExLjK"
   },
   "source": [
    "__Task-2__"
   ]
  },
  {
   "cell_type": "markdown",
   "metadata": {
    "id": "51j_OtqAxLjL"
   },
   "source": [
    "2. Implement max features functionality.\n",
    "\n",
    "    - As a part of this task you have to modify your fit and transform functions so that your vocab will contain only 50 terms with top idf scores.\n",
    "    - This task is similar to your previous task, just that here your vocabulary is limited to only top 50 features names based on their idf values. Basically your output will have exactly 50 columns and the number of rows will depend on the number of documents you have in your corpus.\n",
    "    - Here you will be give a pickle file, with file name __cleaned_strings__. You would have to load the corpus from this file and use it as input to your TF-IDF vectorizer.\n",
    "    - Steps to approach this task:\n",
    "        1. You would have to write both fit and transform methods for your custom implementation of TF-IDF vectorizer, just like in the previous task. Additionally, here you have to limit the number of features generated to 50 as described above.\n",
    "        2. Now sort your vocab based in descending order of idf values and print out the words in the sorted vocab after you fit your data. Here you should be getting only 50 terms in your vocab. And make sure to print idf values for each term in your vocab.\n",
    "        3. Make sure the output of your implementation is a sparse matrix. Before generating the final output, you need to normalize your sparse matrix using L2 normalization. You can refer to this link [here](https://scikit-learn.org/stable/modules/generated/sklearn.preprocessing.normalize.html).\n",
    "        4. Now check the output of a single document in your collection of documents,  you can convert the sparse matrix related only to that document into dense matrix and print it. And this dense matrix should contain 1 row and 50 columns."
   ]
  },
  {
   "cell_type": "markdown",
   "metadata": {},
   "source": [
    "Below is the code to load the cleaned_strings pickle file provided. Here corpus is of list type."
   ]
  },
  {
   "cell_type": "code",
   "execution_count": 18,
   "metadata": {
    "id": "NHxPLlwNxLjL",
    "outputId": "9abd8e08-0e24-4975-9a13-4d3636d60323"
   },
   "outputs": [],
   "source": [
    "import pickle"
   ]
  },
  {
   "cell_type": "code",
   "execution_count": 19,
   "metadata": {},
   "outputs": [
    {
     "name": "stdout",
     "output_type": "stream",
     "text": [
      "Number of documents in corpus =  746\n"
     ]
    }
   ],
   "source": [
    "with open('cleaned_strings', 'rb') as f:\n",
    "    corpus = pickle.load(f)\n",
    "\n",
    "print(\"Number of documents in corpus = \", len(corpus))"
   ]
  },
  {
   "cell_type": "code",
   "execution_count": 20,
   "metadata": {
    "id": "ZULfoOIdxLjQ"
   },
   "outputs": [],
   "source": [
    "class TFIDFMaxFeatures(object):\n",
    "    \"\"\"\n",
    "    This is a custom implementation of TF-IDF Vectorizer with max features.\n",
    "    \"\"\"\n",
    "    \n",
    "    def __init__(self, data, max_features):\n",
    "        self.data = data\n",
    "        self.max_features = max_features\n",
    "    \n",
    "    def get_unique_words(self):\n",
    "        \"\"\"\n",
    "        This method uniquely identifies the words.\n",
    "        \"\"\"\n",
    "        if isinstance(self.data, list):\n",
    "            u_words = set()\n",
    "            for doc in self.data:\n",
    "                for word in doc.split():\n",
    "                    if len(word) >= 2:\n",
    "                        u_words.add(word)\n",
    "            return sorted(list(u_words))\n",
    "        else:\n",
    "            print(\"Please ensure the data is of list type!\")\n",
    "            return []\n",
    "    \n",
    "    def fit(self):\n",
    "        \"\"\"\n",
    "        This method fits the corpus.\n",
    "        \"\"\"\n",
    "        u_words = self.get_unique_words()\n",
    "        if len(u_words) > 0:\n",
    "            idfs = self.get_idf(u_words=u_words)\n",
    "            vocab = {w: i for w, i in zip(u_words, idfs)}\n",
    "            vocab = dict(sorted(vocab.items(),\n",
    "                                key=lambda x:x[1],\n",
    "                                reverse=True))\n",
    "            return vocab\n",
    "    \n",
    "    def get_top(self):\n",
    "        vocab = self.fit()\n",
    "        top = dict(list(vocab.items())[:self.max_features])\n",
    "        features = np.array(list(top.keys()))\n",
    "        return features, list(top.items())\n",
    "    \n",
    "    def get_tf(self, word, document):\n",
    "        \"\"\"\n",
    "        This method computes term frequency.\n",
    "        \"\"\"\n",
    "        doclist = document.split()\n",
    "        tf = doclist.count(word) / len(doclist)\n",
    "        return tf\n",
    "    \n",
    "    def get_idf(self, u_words):\n",
    "        \"\"\"\n",
    "        This method computes inverse document frequency.\n",
    "        \"\"\"\n",
    "        idfs = list()\n",
    "        N = len(self.data)\n",
    "        for word in u_words:\n",
    "            n = 0\n",
    "            for doc in self.data:\n",
    "                if word in doc.split():\n",
    "                    n += 1\n",
    "            idf = 1 + math.log((1 + N) / (1 + n))\n",
    "            idfs.append(idf)\n",
    "        return np.array(idfs)\n",
    "    \n",
    "    def transform(self, sparse=True):\n",
    "        \"\"\"\n",
    "        This method writes a feature matrix using sparse matrix.\n",
    "        \"\"\"\n",
    "        if isinstance(self.data, list):\n",
    "            r = []; c = []; v = [];\n",
    "            vocab = self.fit()\n",
    "            features, _ = self.get_top()\n",
    "            cols = {w: i for i, w in enumerate(features)}\n",
    "            for ri, doc in enumerate(self.data):\n",
    "                split_doc = doc.split()\n",
    "                for word in split_doc:\n",
    "                    tf = self.get_tf(word=word, document=doc)\n",
    "                    idf = vocab.get(word)\n",
    "                    ci = cols.get(word, -1)\n",
    "                    if ci != -1:\n",
    "                        r.append(ri)\n",
    "                        c.append(ci)\n",
    "                        v.append(tf * idf)\n",
    "            sparse_vect = csr_matrix(arg1=(v, (r, c)),\n",
    "                                     shape=(len(self.data), self.max_features))\n",
    "            sparse_vect = normalize(sparse_vect)\n",
    "            if sparse:\n",
    "                return sparse_vect\n",
    "            else:\n",
    "                return sparse_vect.toarray()\n",
    "        else:\n",
    "            print(\"Please ensure the data is of list type!\")"
   ]
  },
  {
   "cell_type": "code",
   "execution_count": 21,
   "metadata": {
    "id": "1_DJnnR3xLjR"
   },
   "outputs": [],
   "source": [
    "tfidf_cus_max = TFIDFMaxFeatures(data=corpus, max_features=50)"
   ]
  },
  {
   "cell_type": "code",
   "execution_count": 22,
   "metadata": {
    "scrolled": false
   },
   "outputs": [
    {
     "data": {
      "text/plain": [
       "[('aailiyah', 6.922918004572872),\n",
       " ('abandoned', 6.922918004572872),\n",
       " ('abroad', 6.922918004572872),\n",
       " ('abstruse', 6.922918004572872),\n",
       " ('academy', 6.922918004572872),\n",
       " ('accents', 6.922918004572872),\n",
       " ('accessible', 6.922918004572872),\n",
       " ('acclaimed', 6.922918004572872),\n",
       " ('accolades', 6.922918004572872),\n",
       " ('accurate', 6.922918004572872),\n",
       " ('accurately', 6.922918004572872),\n",
       " ('achille', 6.922918004572872),\n",
       " ('ackerman', 6.922918004572872),\n",
       " ('actions', 6.922918004572872),\n",
       " ('adams', 6.922918004572872),\n",
       " ('add', 6.922918004572872),\n",
       " ('added', 6.922918004572872),\n",
       " ('admins', 6.922918004572872),\n",
       " ('admiration', 6.922918004572872),\n",
       " ('admitted', 6.922918004572872),\n",
       " ('adrift', 6.922918004572872),\n",
       " ('adventure', 6.922918004572872),\n",
       " ('aesthetically', 6.922918004572872),\n",
       " ('affected', 6.922918004572872),\n",
       " ('affleck', 6.922918004572872),\n",
       " ('afternoon', 6.922918004572872),\n",
       " ('aged', 6.922918004572872),\n",
       " ('ages', 6.922918004572872),\n",
       " ('agree', 6.922918004572872),\n",
       " ('agreed', 6.922918004572872),\n",
       " ('aimless', 6.922918004572872),\n",
       " ('aired', 6.922918004572872),\n",
       " ('akasha', 6.922918004572872),\n",
       " ('akin', 6.922918004572872),\n",
       " ('alert', 6.922918004572872),\n",
       " ('alike', 6.922918004572872),\n",
       " ('allison', 6.922918004572872),\n",
       " ('allow', 6.922918004572872),\n",
       " ('allowing', 6.922918004572872),\n",
       " ('alongside', 6.922918004572872),\n",
       " ('amateurish', 6.922918004572872),\n",
       " ('amaze', 6.922918004572872),\n",
       " ('amazed', 6.922918004572872),\n",
       " ('amazingly', 6.922918004572872),\n",
       " ('amusing', 6.922918004572872),\n",
       " ('amust', 6.922918004572872),\n",
       " ('anatomist', 6.922918004572872),\n",
       " ('angel', 6.922918004572872),\n",
       " ('angela', 6.922918004572872),\n",
       " ('angelina', 6.922918004572872)]"
      ]
     },
     "metadata": {},
     "output_type": "display_data"
    }
   ],
   "source": [
    "_, top = tfidf_cus_max.get_top()\n",
    "display(top)"
   ]
  },
  {
   "cell_type": "code",
   "execution_count": 23,
   "metadata": {},
   "outputs": [
    {
     "name": "stdout",
     "output_type": "stream",
     "text": [
      "  (0, 30)\t1.0\n",
      "  (68, 24)\t1.0\n",
      "  (72, 29)\t1.0\n",
      "  (74, 31)\t1.0\n",
      "  (119, 33)\t1.0\n",
      "  (135, 3)\t0.37796447300922725\n",
      "  (135, 10)\t0.37796447300922725\n",
      "  (135, 18)\t0.37796447300922725\n",
      "  (135, 20)\t0.37796447300922725\n",
      "  (135, 36)\t0.37796447300922725\n",
      "  (135, 40)\t0.37796447300922725\n",
      "  (135, 41)\t0.37796447300922725\n",
      "  (176, 49)\t1.0\n",
      "  (181, 13)\t1.0\n",
      "  (192, 21)\t1.0\n",
      "  (193, 23)\t1.0\n",
      "  (216, 2)\t1.0\n",
      "  (222, 47)\t1.0\n",
      "  (225, 19)\t1.0\n",
      "  (227, 17)\t1.0\n",
      "  (241, 44)\t1.0\n",
      "  (270, 1)\t1.0\n",
      "  (290, 25)\t1.0\n",
      "  (333, 26)\t1.0\n",
      "  (334, 15)\t1.0\n",
      "  (341, 43)\t1.0\n",
      "  (344, 42)\t1.0\n",
      "  (348, 8)\t1.0\n",
      "  (377, 37)\t1.0\n",
      "  (409, 5)\t1.0\n",
      "  (430, 39)\t1.0\n",
      "  (457, 45)\t1.0\n",
      "  (461, 4)\t1.0\n",
      "  (465, 38)\t1.0\n",
      "  (475, 35)\t1.0\n",
      "  (493, 6)\t1.0\n",
      "  (500, 48)\t1.0\n",
      "  (548, 0)\t0.7071067811865475\n",
      "  (548, 32)\t0.7071067811865475\n",
      "  (608, 14)\t1.0\n",
      "  (612, 11)\t1.0\n",
      "  (620, 46)\t1.0\n",
      "  (632, 7)\t1.0\n",
      "  (644, 12)\t0.7071067811865475\n",
      "  (644, 27)\t0.7071067811865475\n",
      "  (664, 28)\t1.0\n",
      "  (667, 22)\t1.0\n",
      "  (691, 34)\t1.0\n",
      "  (697, 9)\t1.0\n",
      "  (722, 16)\t1.0\n"
     ]
    }
   ],
   "source": [
    "print(tfidf_cus_max.transform(sparse=True))"
   ]
  },
  {
   "cell_type": "markdown",
   "metadata": {},
   "source": [
    "---"
   ]
  },
  {
   "cell_type": "markdown",
   "metadata": {},
   "source": [
    "End of the file."
   ]
  }
 ],
 "metadata": {
  "colab": {
   "collapsed_sections": [],
   "name": "Assignment_3_Instructions.ipynb",
   "provenance": []
  },
  "kernelspec": {
   "display_name": "Python 3 (ipykernel)",
   "language": "python",
   "name": "python3"
  },
  "language_info": {
   "codemirror_mode": {
    "name": "ipython",
    "version": 3
   },
   "file_extension": ".py",
   "mimetype": "text/x-python",
   "name": "python",
   "nbconvert_exporter": "python",
   "pygments_lexer": "ipython3",
   "version": "3.10.3"
  }
 },
 "nbformat": 4,
 "nbformat_minor": 1
}
