{
  "nbformat": 4,
  "nbformat_minor": 0,
  "metadata": {
    "colab": {
      "provenance": [],
      "collapsed_sections": [],
      "machine_shape": "hm"
    },
    "kernelspec": {
      "display_name": "Python 3",
      "language": "python",
      "name": "python3"
    },
    "language_info": {
      "codemirror_mode": {
        "name": "ipython",
        "version": 3
      },
      "file_extension": ".py",
      "mimetype": "text/x-python",
      "name": "python",
      "nbconvert_exporter": "python",
      "pygments_lexer": "ipython3",
      "version": "3.7.4"
    },
    "accelerator": "GPU",
    "gpuClass": "standard"
  },
  "cells": [
    {
      "cell_type": "markdown",
      "metadata": {
        "id": "fwPL0hIlGKoA"
      },
      "source": [
        "# Sequence to sequence implementation"
      ]
    },
    {
      "cell_type": "markdown",
      "metadata": {
        "id": "-nYHE_1ck2az"
      },
      "source": [
        "**There will be some functions that start with the word \"grader\" ex: grader_check_encoder(), grader_check_attention(), grader_onestepdecoder() etc, you should not change those function definition.<br><br>Every Grader function has to return True.**\n",
        "\n",
        "**Note 1:**  There are many blogs on the attention mechanisum which might be misleading you,\n",
        " so do read the references completly and after that only please check the internet.\n",
        " The best things is to read the research papers and try to implement it on your own. \n",
        "\n",
        "**Note 2:** To complete this assignment, the reference that are mentioned will be enough.\n",
        "\n",
        "**Note 3:** If you are starting this assignment, you might have completed minimum of 20 assignment.\n",
        " If  you are still not able to implement this algorithm you might have rushed in the previous assignments \n",
        "with out learning much and didn't spend your time productively."
      ]
    },
    {
      "cell_type": "code",
      "source": [
        "import warnings\n",
        "warnings.filterwarnings('ignore')"
      ],
      "metadata": {
        "id": "wGBWrfRKjRaq"
      },
      "execution_count": 1,
      "outputs": []
    },
    {
      "cell_type": "code",
      "source": [
        "from google.colab import drive\n",
        "drive.mount(mountpoint='/content/drive/')"
      ],
      "metadata": {
        "colab": {
          "base_uri": "https://localhost:8080/"
        },
        "id": "bN04RwI0NNAj",
        "outputId": "b6968bb8-4c81-4809-9a52-77b46cdeb1e3"
      },
      "execution_count": 2,
      "outputs": [
        {
          "output_type": "stream",
          "name": "stdout",
          "text": [
            "Mounted at /content/drive/\n"
          ]
        }
      ]
    },
    {
      "cell_type": "markdown",
      "metadata": {
        "id": "QyfZo8fmLOec"
      },
      "source": [
        "## Task -1: Simple Encoder and Decoder\n",
        "Implement simple Encoder-Decoder model"
      ]
    },
    {
      "cell_type": "markdown",
      "metadata": {
        "id": "IvNSZXNkkOkO"
      },
      "source": [
        "1. Download the **Italian** to **English** translation dataset from <a href=\"http://www.manythings.org/anki/ita-eng.zip\">here</a>\n",
        "\n",
        "2. You will find **ita.txt** file in that ZIP, \n",
        "you can read that data using python and preprocess that data this way only: \n",
        "<img src='https://i.imgur.com/z0j79Jf.png'>    \n",
        "    \n",
        "3. You have to implement a simple Encoder and Decoder architecture  \n",
        "\n",
        "4. Use BLEU score as metric to evaluate your model. You can use any loss function you need.\n",
        "\n",
        "5. You have to use Tensorboard to plot the Graph, Scores and histograms of gradients. \n",
        "\n",
        "6.  a. Check the reference notebook <br>\n",
        "    b. <a href=\"https://medium.com/analytics-vidhya/understand-sequence-to-sequence-models-in-a-more-intuitive-way-1d517d8795bb\">Resource 2</a>\n",
        "    \n",
        "\n"
      ]
    },
    {
      "cell_type": "markdown",
      "source": [
        "**Download the data**"
      ],
      "metadata": {
        "id": "K7Wc92Emu2Wn"
      }
    },
    {
      "cell_type": "code",
      "source": [
        "!wget http://www.manythings.org/anki/ita-eng.zip\n",
        "!unzip ita-eng.zip"
      ],
      "metadata": {
        "colab": {
          "base_uri": "https://localhost:8080/"
        },
        "id": "s-YezvuNu4vn",
        "outputId": "29637f9d-1419-422b-9722-03ccb64f594f"
      },
      "execution_count": 3,
      "outputs": [
        {
          "output_type": "stream",
          "name": "stdout",
          "text": [
            "--2022-11-10 09:25:08--  http://www.manythings.org/anki/ita-eng.zip\n",
            "Resolving www.manythings.org (www.manythings.org)... 173.254.30.110\n",
            "Connecting to www.manythings.org (www.manythings.org)|173.254.30.110|:80... connected.\n",
            "HTTP request sent, awaiting response... 200 OK\n",
            "Length: 7882203 (7.5M) [application/zip]\n",
            "Saving to: ‘ita-eng.zip’\n",
            "\n",
            "ita-eng.zip         100%[===================>]   7.52M  3.79MB/s    in 2.0s    \n",
            "\n",
            "2022-11-10 09:25:10 (3.79 MB/s) - ‘ita-eng.zip’ saved [7882203/7882203]\n",
            "\n",
            "Archive:  ita-eng.zip\n",
            "  inflating: ita.txt                 \n",
            "  inflating: _about.txt              \n"
          ]
        }
      ]
    },
    {
      "cell_type": "code",
      "source": [
        "!wget https://www.dropbox.com/s/ddkmtqz01jc024u/glove.6B.100d.txt"
      ],
      "metadata": {
        "id": "p7JjuENtu8ac",
        "colab": {
          "base_uri": "https://localhost:8080/"
        },
        "outputId": "4e69779b-c68b-4e86-f013-0e5d3afe97c7"
      },
      "execution_count": 4,
      "outputs": [
        {
          "output_type": "stream",
          "name": "stdout",
          "text": [
            "--2022-11-10 09:25:11--  https://www.dropbox.com/s/ddkmtqz01jc024u/glove.6B.100d.txt\n",
            "Resolving www.dropbox.com (www.dropbox.com)... 162.125.81.18, 2620:100:6030:18::a27d:5012\n",
            "Connecting to www.dropbox.com (www.dropbox.com)|162.125.81.18|:443... connected.\n",
            "HTTP request sent, awaiting response... 302 Found\n",
            "Location: /s/raw/ddkmtqz01jc024u/glove.6B.100d.txt [following]\n",
            "--2022-11-10 09:25:11--  https://www.dropbox.com/s/raw/ddkmtqz01jc024u/glove.6B.100d.txt\n",
            "Reusing existing connection to www.dropbox.com:443.\n",
            "HTTP request sent, awaiting response... 302 Found\n",
            "Location: https://uc326a502332daadb897c8119f1e.dl.dropboxusercontent.com/cd/0/inline/BweQw5utN7v7mQleKV5EtTHk1bttQLeNCX-CBxPAMcB66erLygW7nADpHt4uALVULHWjgzx97Rtg1XejzX8PFEDf55KdJdYMIpWYhGUEKrGWJvd2lh4b8_6R1d6AiHxJAh0d7GoKARq1QueOwKCLR4ref0z6P4612Xht-GyEqQwDtw/file# [following]\n",
            "--2022-11-10 09:25:11--  https://uc326a502332daadb897c8119f1e.dl.dropboxusercontent.com/cd/0/inline/BweQw5utN7v7mQleKV5EtTHk1bttQLeNCX-CBxPAMcB66erLygW7nADpHt4uALVULHWjgzx97Rtg1XejzX8PFEDf55KdJdYMIpWYhGUEKrGWJvd2lh4b8_6R1d6AiHxJAh0d7GoKARq1QueOwKCLR4ref0z6P4612Xht-GyEqQwDtw/file\n",
            "Resolving uc326a502332daadb897c8119f1e.dl.dropboxusercontent.com (uc326a502332daadb897c8119f1e.dl.dropboxusercontent.com)... 162.125.81.15, 2620:100:6022:15::a27d:420f\n",
            "Connecting to uc326a502332daadb897c8119f1e.dl.dropboxusercontent.com (uc326a502332daadb897c8119f1e.dl.dropboxusercontent.com)|162.125.81.15|:443... connected.\n",
            "HTTP request sent, awaiting response... 200 OK\n",
            "Length: 347116733 (331M) [text/plain]\n",
            "Saving to: ‘glove.6B.100d.txt’\n",
            "\n",
            "glove.6B.100d.txt   100%[===================>] 331.04M  16.8MB/s    in 22s     \n",
            "\n",
            "2022-11-10 09:25:34 (15.3 MB/s) - ‘glove.6B.100d.txt’ saved [347116733/347116733]\n",
            "\n"
          ]
        }
      ]
    },
    {
      "cell_type": "code",
      "source": [
        "from matplotlib import pyplot as plt\n",
        "from matplotlib import style\n",
        "style.use(style='seaborn-notebook')"
      ],
      "metadata": {
        "id": "gZ5qXPlUvonb"
      },
      "execution_count": 5,
      "outputs": []
    },
    {
      "cell_type": "code",
      "source": [
        "from sklearn.model_selection import train_test_split"
      ],
      "metadata": {
        "id": "lyQy8hhu2CTs"
      },
      "execution_count": 6,
      "outputs": []
    },
    {
      "cell_type": "code",
      "metadata": {
        "id": "fU80Ao-AGaob"
      },
      "source": [
        "import pandas as pd\n",
        "import re\n",
        "import numpy as np\n",
        "import seaborn as sns\n",
        "import tensorflow as tf"
      ],
      "execution_count": 7,
      "outputs": []
    },
    {
      "cell_type": "code",
      "source": [
        "from tensorflow.keras.preprocessing.text import Tokenizer\n",
        "from tensorflow.keras.preprocessing.sequence import pad_sequences"
      ],
      "metadata": {
        "id": "LVqjgdta6Nwy"
      },
      "execution_count": 8,
      "outputs": []
    },
    {
      "cell_type": "code",
      "source": [
        "from tensorflow.keras.layers import Embedding, LSTM, Dense\n",
        "from tensorflow.keras.models import Model"
      ],
      "metadata": {
        "id": "DET4y4Kc6n2k"
      },
      "execution_count": 9,
      "outputs": []
    },
    {
      "cell_type": "markdown",
      "metadata": {
        "id": "3k_AlAuKJqVA"
      },
      "source": [
        "**Load the data**"
      ]
    },
    {
      "cell_type": "code",
      "metadata": {
        "id": "9QqElB_nKZos"
      },
      "source": [
        "with open(file='ita.txt', mode='r', encoding=\"utf8\") as f:\n",
        "    eng = []\n",
        "    ita = []\n",
        "    for line in f.readlines():\n",
        "        line_split = line.split(\"\\t\")\n",
        "        eng.append(line_split[0])\n",
        "        ita.append(line_split[1])"
      ],
      "execution_count": 10,
      "outputs": []
    },
    {
      "cell_type": "code",
      "source": [
        "data = pd.DataFrame(data=list(zip(eng, ita)), columns=['english','italian'])\n",
        "print(data.shape)\n",
        "data.head()"
      ],
      "metadata": {
        "id": "oQ3EQdxKwr8Y",
        "colab": {
          "base_uri": "https://localhost:8080/",
          "height": 223
        },
        "outputId": "24e72287-dae5-4ead-fa2a-0ddb59d061b5"
      },
      "execution_count": 11,
      "outputs": [
        {
          "output_type": "stream",
          "name": "stdout",
          "text": [
            "(358373, 2)\n"
          ]
        },
        {
          "output_type": "execute_result",
          "data": {
            "text/plain": [
              "  english   italian\n",
              "0     Hi.     Ciao!\n",
              "1     Hi.     Ciao.\n",
              "2    Run!    Corri!\n",
              "3    Run!    Corra!\n",
              "4    Run!  Correte!"
            ],
            "text/html": [
              "\n",
              "  <div id=\"df-c5c26f2b-8a95-451a-9d53-12c1e8385163\">\n",
              "    <div class=\"colab-df-container\">\n",
              "      <div>\n",
              "<style scoped>\n",
              "    .dataframe tbody tr th:only-of-type {\n",
              "        vertical-align: middle;\n",
              "    }\n",
              "\n",
              "    .dataframe tbody tr th {\n",
              "        vertical-align: top;\n",
              "    }\n",
              "\n",
              "    .dataframe thead th {\n",
              "        text-align: right;\n",
              "    }\n",
              "</style>\n",
              "<table border=\"1\" class=\"dataframe\">\n",
              "  <thead>\n",
              "    <tr style=\"text-align: right;\">\n",
              "      <th></th>\n",
              "      <th>english</th>\n",
              "      <th>italian</th>\n",
              "    </tr>\n",
              "  </thead>\n",
              "  <tbody>\n",
              "    <tr>\n",
              "      <th>0</th>\n",
              "      <td>Hi.</td>\n",
              "      <td>Ciao!</td>\n",
              "    </tr>\n",
              "    <tr>\n",
              "      <th>1</th>\n",
              "      <td>Hi.</td>\n",
              "      <td>Ciao.</td>\n",
              "    </tr>\n",
              "    <tr>\n",
              "      <th>2</th>\n",
              "      <td>Run!</td>\n",
              "      <td>Corri!</td>\n",
              "    </tr>\n",
              "    <tr>\n",
              "      <th>3</th>\n",
              "      <td>Run!</td>\n",
              "      <td>Corra!</td>\n",
              "    </tr>\n",
              "    <tr>\n",
              "      <th>4</th>\n",
              "      <td>Run!</td>\n",
              "      <td>Correte!</td>\n",
              "    </tr>\n",
              "  </tbody>\n",
              "</table>\n",
              "</div>\n",
              "      <button class=\"colab-df-convert\" onclick=\"convertToInteractive('df-c5c26f2b-8a95-451a-9d53-12c1e8385163')\"\n",
              "              title=\"Convert this dataframe to an interactive table.\"\n",
              "              style=\"display:none;\">\n",
              "        \n",
              "  <svg xmlns=\"http://www.w3.org/2000/svg\" height=\"24px\"viewBox=\"0 0 24 24\"\n",
              "       width=\"24px\">\n",
              "    <path d=\"M0 0h24v24H0V0z\" fill=\"none\"/>\n",
              "    <path d=\"M18.56 5.44l.94 2.06.94-2.06 2.06-.94-2.06-.94-.94-2.06-.94 2.06-2.06.94zm-11 1L8.5 8.5l.94-2.06 2.06-.94-2.06-.94L8.5 2.5l-.94 2.06-2.06.94zm10 10l.94 2.06.94-2.06 2.06-.94-2.06-.94-.94-2.06-.94 2.06-2.06.94z\"/><path d=\"M17.41 7.96l-1.37-1.37c-.4-.4-.92-.59-1.43-.59-.52 0-1.04.2-1.43.59L10.3 9.45l-7.72 7.72c-.78.78-.78 2.05 0 2.83L4 21.41c.39.39.9.59 1.41.59.51 0 1.02-.2 1.41-.59l7.78-7.78 2.81-2.81c.8-.78.8-2.07 0-2.86zM5.41 20L4 18.59l7.72-7.72 1.47 1.35L5.41 20z\"/>\n",
              "  </svg>\n",
              "      </button>\n",
              "      \n",
              "  <style>\n",
              "    .colab-df-container {\n",
              "      display:flex;\n",
              "      flex-wrap:wrap;\n",
              "      gap: 12px;\n",
              "    }\n",
              "\n",
              "    .colab-df-convert {\n",
              "      background-color: #E8F0FE;\n",
              "      border: none;\n",
              "      border-radius: 50%;\n",
              "      cursor: pointer;\n",
              "      display: none;\n",
              "      fill: #1967D2;\n",
              "      height: 32px;\n",
              "      padding: 0 0 0 0;\n",
              "      width: 32px;\n",
              "    }\n",
              "\n",
              "    .colab-df-convert:hover {\n",
              "      background-color: #E2EBFA;\n",
              "      box-shadow: 0px 1px 2px rgba(60, 64, 67, 0.3), 0px 1px 3px 1px rgba(60, 64, 67, 0.15);\n",
              "      fill: #174EA6;\n",
              "    }\n",
              "\n",
              "    [theme=dark] .colab-df-convert {\n",
              "      background-color: #3B4455;\n",
              "      fill: #D2E3FC;\n",
              "    }\n",
              "\n",
              "    [theme=dark] .colab-df-convert:hover {\n",
              "      background-color: #434B5C;\n",
              "      box-shadow: 0px 1px 3px 1px rgba(0, 0, 0, 0.15);\n",
              "      filter: drop-shadow(0px 1px 2px rgba(0, 0, 0, 0.3));\n",
              "      fill: #FFFFFF;\n",
              "    }\n",
              "  </style>\n",
              "\n",
              "      <script>\n",
              "        const buttonEl =\n",
              "          document.querySelector('#df-c5c26f2b-8a95-451a-9d53-12c1e8385163 button.colab-df-convert');\n",
              "        buttonEl.style.display =\n",
              "          google.colab.kernel.accessAllowed ? 'block' : 'none';\n",
              "\n",
              "        async function convertToInteractive(key) {\n",
              "          const element = document.querySelector('#df-c5c26f2b-8a95-451a-9d53-12c1e8385163');\n",
              "          const dataTable =\n",
              "            await google.colab.kernel.invokeFunction('convertToInteractive',\n",
              "                                                     [key], {});\n",
              "          if (!dataTable) return;\n",
              "\n",
              "          const docLinkHtml = 'Like what you see? Visit the ' +\n",
              "            '<a target=\"_blank\" href=https://colab.research.google.com/notebooks/data_table.ipynb>data table notebook</a>'\n",
              "            + ' to learn more about interactive tables.';\n",
              "          element.innerHTML = '';\n",
              "          dataTable['output_type'] = 'display_data';\n",
              "          await google.colab.output.renderOutput(dataTable, element);\n",
              "          const docLink = document.createElement('div');\n",
              "          docLink.innerHTML = docLinkHtml;\n",
              "          element.appendChild(docLink);\n",
              "        }\n",
              "      </script>\n",
              "    </div>\n",
              "  </div>\n",
              "  "
            ]
          },
          "metadata": {},
          "execution_count": 11
        }
      ]
    },
    {
      "cell_type": "markdown",
      "metadata": {
        "id": "vmGWTdRmKRph"
      },
      "source": [
        "**Preprocess data**"
      ]
    },
    {
      "cell_type": "markdown",
      "source": [
        "Reference: https://stackoverflow.com/a/47091490/7579443"
      ],
      "metadata": {
        "id": "CBqkMUrmxRZI"
      }
    },
    {
      "cell_type": "code",
      "source": [
        "def decontractions(phrase):\n",
        "    \"\"\"\n",
        "    Decontracted takes text and convert contractions into natural form.\n",
        "    \"\"\"\n",
        "    # specific\n",
        "    phrase = re.sub(r\"won\\'t\", \"will not\", phrase)\n",
        "    phrase = re.sub(r\"can\\'t\", \"can not\", phrase)\n",
        "    phrase = re.sub(r\"won\\’t\", \"will not\", phrase)\n",
        "    phrase = re.sub(r\"can\\’t\", \"can not\", phrase)\n",
        "    # general\n",
        "    phrase = re.sub(r\"n\\'t\", \" not\", phrase)\n",
        "    phrase = re.sub(r\"\\'re\", \" are\", phrase)\n",
        "    phrase = re.sub(r\"\\'s\", \" is\", phrase)\n",
        "    phrase = re.sub(r\"\\'d\", \" would\", phrase)\n",
        "    phrase = re.sub(r\"\\'ll\", \" will\", phrase)\n",
        "    phrase = re.sub(r\"\\'t\", \" not\", phrase)\n",
        "    phrase = re.sub(r\"\\'ve\", \" have\", phrase)\n",
        "    phrase = re.sub(r\"\\'m\", \" am\", phrase)\n",
        "    phrase = re.sub(r\"n\\’t\", \" not\", phrase)\n",
        "    phrase = re.sub(r\"\\’re\", \" are\", phrase)\n",
        "    phrase = re.sub(r\"\\’s\", \" is\", phrase)\n",
        "    phrase = re.sub(r\"\\’d\", \" would\", phrase)\n",
        "    phrase = re.sub(r\"\\’ll\", \" will\", phrase)\n",
        "    phrase = re.sub(r\"\\’t\", \" not\", phrase)\n",
        "    phrase = re.sub(r\"\\’ve\", \" have\", phrase)\n",
        "    phrase = re.sub(r\"\\’m\", \" am\", phrase)\n",
        "    return phrase"
      ],
      "metadata": {
        "id": "Q42clFgoxA2N"
      },
      "execution_count": 12,
      "outputs": []
    },
    {
      "cell_type": "code",
      "source": [
        "def preprocess(text):\n",
        "    # convert all the text into lower letters\n",
        "    # use this function to remove the contractions: https://gist.github.com/anandborad/d410a49a493b56dace4f814ab5325bbd\n",
        "    # remove all the spacial characters: except space ' '\n",
        "    text = text.lower()\n",
        "    text = decontractions(phrase=text)\n",
        "    text = re.sub(pattern='[^A-Za-z0-9 ]+', repl='', string=text)\n",
        "    return text"
      ],
      "metadata": {
        "id": "CQFORL-gxknE"
      },
      "execution_count": 13,
      "outputs": []
    },
    {
      "cell_type": "code",
      "source": [
        "def preprocess_ita(text):\n",
        "    # convert all the text into lower letters\n",
        "    # remove the words betweent brakets ()\n",
        "    # remove these characters: {'$', ')', '?', '\"', '’', '.',  '°', '!', ';', '/', \"'\", '€', '%', ':', ',', '('}\n",
        "    # replace these spl characters with space: '\\u200b', '\\xa0', '-', '/'\n",
        "    # we have found these characters after observing the data points, feel free to explore more and see if you can do find more\n",
        "    # you are free to do more proprocessing\n",
        "    # note that the model will learn better with better preprocessed data \n",
        "    text = text.lower()\n",
        "    text = decontractions(phrase=text)\n",
        "    text = re.sub(pattern='[$)\\?\"’.°!;\\'€%:,(/]', repl='', string=text)\n",
        "    text = re.sub(pattern='\\u200b', repl=' ', string=text)\n",
        "    text = re.sub(pattern='\\xa0', repl=' ', string=text)\n",
        "    text = re.sub(pattern='-', repl=' ', string=text)\n",
        "    return text"
      ],
      "metadata": {
        "id": "C7JbhKX9xAzQ"
      },
      "execution_count": 14,
      "outputs": []
    },
    {
      "cell_type": "code",
      "source": [
        "data['english'] = data['english'].apply(preprocess)\n",
        "data['italian'] = data['italian'].apply(preprocess_ita)\n",
        "data.head()"
      ],
      "metadata": {
        "id": "ex2MoQCZxAxX",
        "colab": {
          "base_uri": "https://localhost:8080/",
          "height": 206
        },
        "outputId": "9aaa39bc-0d05-4f68-e86b-c62e9ea0b33e"
      },
      "execution_count": 15,
      "outputs": [
        {
          "output_type": "execute_result",
          "data": {
            "text/plain": [
              "  english  italian\n",
              "0      hi     ciao\n",
              "1      hi     ciao\n",
              "2     run    corri\n",
              "3     run    corra\n",
              "4     run  correte"
            ],
            "text/html": [
              "\n",
              "  <div id=\"df-ecfd87ba-8214-4db0-b315-31b1bcf29f15\">\n",
              "    <div class=\"colab-df-container\">\n",
              "      <div>\n",
              "<style scoped>\n",
              "    .dataframe tbody tr th:only-of-type {\n",
              "        vertical-align: middle;\n",
              "    }\n",
              "\n",
              "    .dataframe tbody tr th {\n",
              "        vertical-align: top;\n",
              "    }\n",
              "\n",
              "    .dataframe thead th {\n",
              "        text-align: right;\n",
              "    }\n",
              "</style>\n",
              "<table border=\"1\" class=\"dataframe\">\n",
              "  <thead>\n",
              "    <tr style=\"text-align: right;\">\n",
              "      <th></th>\n",
              "      <th>english</th>\n",
              "      <th>italian</th>\n",
              "    </tr>\n",
              "  </thead>\n",
              "  <tbody>\n",
              "    <tr>\n",
              "      <th>0</th>\n",
              "      <td>hi</td>\n",
              "      <td>ciao</td>\n",
              "    </tr>\n",
              "    <tr>\n",
              "      <th>1</th>\n",
              "      <td>hi</td>\n",
              "      <td>ciao</td>\n",
              "    </tr>\n",
              "    <tr>\n",
              "      <th>2</th>\n",
              "      <td>run</td>\n",
              "      <td>corri</td>\n",
              "    </tr>\n",
              "    <tr>\n",
              "      <th>3</th>\n",
              "      <td>run</td>\n",
              "      <td>corra</td>\n",
              "    </tr>\n",
              "    <tr>\n",
              "      <th>4</th>\n",
              "      <td>run</td>\n",
              "      <td>correte</td>\n",
              "    </tr>\n",
              "  </tbody>\n",
              "</table>\n",
              "</div>\n",
              "      <button class=\"colab-df-convert\" onclick=\"convertToInteractive('df-ecfd87ba-8214-4db0-b315-31b1bcf29f15')\"\n",
              "              title=\"Convert this dataframe to an interactive table.\"\n",
              "              style=\"display:none;\">\n",
              "        \n",
              "  <svg xmlns=\"http://www.w3.org/2000/svg\" height=\"24px\"viewBox=\"0 0 24 24\"\n",
              "       width=\"24px\">\n",
              "    <path d=\"M0 0h24v24H0V0z\" fill=\"none\"/>\n",
              "    <path d=\"M18.56 5.44l.94 2.06.94-2.06 2.06-.94-2.06-.94-.94-2.06-.94 2.06-2.06.94zm-11 1L8.5 8.5l.94-2.06 2.06-.94-2.06-.94L8.5 2.5l-.94 2.06-2.06.94zm10 10l.94 2.06.94-2.06 2.06-.94-2.06-.94-.94-2.06-.94 2.06-2.06.94z\"/><path d=\"M17.41 7.96l-1.37-1.37c-.4-.4-.92-.59-1.43-.59-.52 0-1.04.2-1.43.59L10.3 9.45l-7.72 7.72c-.78.78-.78 2.05 0 2.83L4 21.41c.39.39.9.59 1.41.59.51 0 1.02-.2 1.41-.59l7.78-7.78 2.81-2.81c.8-.78.8-2.07 0-2.86zM5.41 20L4 18.59l7.72-7.72 1.47 1.35L5.41 20z\"/>\n",
              "  </svg>\n",
              "      </button>\n",
              "      \n",
              "  <style>\n",
              "    .colab-df-container {\n",
              "      display:flex;\n",
              "      flex-wrap:wrap;\n",
              "      gap: 12px;\n",
              "    }\n",
              "\n",
              "    .colab-df-convert {\n",
              "      background-color: #E8F0FE;\n",
              "      border: none;\n",
              "      border-radius: 50%;\n",
              "      cursor: pointer;\n",
              "      display: none;\n",
              "      fill: #1967D2;\n",
              "      height: 32px;\n",
              "      padding: 0 0 0 0;\n",
              "      width: 32px;\n",
              "    }\n",
              "\n",
              "    .colab-df-convert:hover {\n",
              "      background-color: #E2EBFA;\n",
              "      box-shadow: 0px 1px 2px rgba(60, 64, 67, 0.3), 0px 1px 3px 1px rgba(60, 64, 67, 0.15);\n",
              "      fill: #174EA6;\n",
              "    }\n",
              "\n",
              "    [theme=dark] .colab-df-convert {\n",
              "      background-color: #3B4455;\n",
              "      fill: #D2E3FC;\n",
              "    }\n",
              "\n",
              "    [theme=dark] .colab-df-convert:hover {\n",
              "      background-color: #434B5C;\n",
              "      box-shadow: 0px 1px 3px 1px rgba(0, 0, 0, 0.15);\n",
              "      filter: drop-shadow(0px 1px 2px rgba(0, 0, 0, 0.3));\n",
              "      fill: #FFFFFF;\n",
              "    }\n",
              "  </style>\n",
              "\n",
              "      <script>\n",
              "        const buttonEl =\n",
              "          document.querySelector('#df-ecfd87ba-8214-4db0-b315-31b1bcf29f15 button.colab-df-convert');\n",
              "        buttonEl.style.display =\n",
              "          google.colab.kernel.accessAllowed ? 'block' : 'none';\n",
              "\n",
              "        async function convertToInteractive(key) {\n",
              "          const element = document.querySelector('#df-ecfd87ba-8214-4db0-b315-31b1bcf29f15');\n",
              "          const dataTable =\n",
              "            await google.colab.kernel.invokeFunction('convertToInteractive',\n",
              "                                                     [key], {});\n",
              "          if (!dataTable) return;\n",
              "\n",
              "          const docLinkHtml = 'Like what you see? Visit the ' +\n",
              "            '<a target=\"_blank\" href=https://colab.research.google.com/notebooks/data_table.ipynb>data table notebook</a>'\n",
              "            + ' to learn more about interactive tables.';\n",
              "          element.innerHTML = '';\n",
              "          dataTable['output_type'] = 'display_data';\n",
              "          await google.colab.output.renderOutput(dataTable, element);\n",
              "          const docLink = document.createElement('div');\n",
              "          docLink.innerHTML = docLinkHtml;\n",
              "          element.appendChild(docLink);\n",
              "        }\n",
              "      </script>\n",
              "    </div>\n",
              "  </div>\n",
              "  "
            ]
          },
          "metadata": {},
          "execution_count": 15
        }
      ]
    },
    {
      "cell_type": "code",
      "source": [
        "ita_lengths = data['italian'].str.split().apply(len)\n",
        "eng_lengths = data['english'].str.split().apply(len)"
      ],
      "metadata": {
        "id": "gBDPmZv6xAvg"
      },
      "execution_count": 16,
      "outputs": []
    },
    {
      "cell_type": "code",
      "source": [
        "for i in range(0, 101, 10):\n",
        "    print(i, np.percentile(a=ita_lengths, q=i))\n",
        "print()\n",
        "for i in range(90, 101):\n",
        "    print(i, np.percentile(a=ita_lengths, q=i))\n",
        "print()\n",
        "for i in np.round(a=np.linspace(start=99.1, stop=100, num=10), decimals=1):\n",
        "    print(i, np.percentile(a=ita_lengths, q=i))"
      ],
      "metadata": {
        "id": "H6VbB7IlxAtC",
        "colab": {
          "base_uri": "https://localhost:8080/"
        },
        "outputId": "fcbc8e85-f736-48d3-e266-6c4afb3ae077"
      },
      "execution_count": 17,
      "outputs": [
        {
          "output_type": "stream",
          "name": "stdout",
          "text": [
            "0 1.0\n",
            "10 3.0\n",
            "20 4.0\n",
            "30 4.0\n",
            "40 5.0\n",
            "50 5.0\n",
            "60 6.0\n",
            "70 6.0\n",
            "80 7.0\n",
            "90 8.0\n",
            "100 92.0\n",
            "\n",
            "90 8.0\n",
            "91 8.0\n",
            "92 8.0\n",
            "93 9.0\n",
            "94 9.0\n",
            "95 9.0\n",
            "96 9.0\n",
            "97 10.0\n",
            "98 11.0\n",
            "99 12.0\n",
            "100 92.0\n",
            "\n",
            "99.1 12.0\n",
            "99.2 12.0\n",
            "99.3 13.0\n",
            "99.4 13.0\n",
            "99.5 13.0\n",
            "99.6 14.0\n",
            "99.7 15.0\n",
            "99.8 16.0\n",
            "99.9 22.0\n",
            "100.0 92.0\n"
          ]
        }
      ]
    },
    {
      "cell_type": "markdown",
      "source": [
        "If you observe the values, 99.9% of the data points are having length < 20, so select the sentences that have words < 20.\n",
        "\n",
        "In order to do the teacher forcing while training of seq-seq models, lets create two new columns, one with  < start > token at begining of the sentence and other column with < end > token at the end of the sequence."
      ],
      "metadata": {
        "id": "i-hMw5__0j7_"
      }
    },
    {
      "cell_type": "code",
      "source": [
        "data['italian_len'] = data['italian'].str.split().apply(len)\n",
        "data = data[data['italian_len'] < 20]\n",
        "\n",
        "data['english_len'] = data['english'].str.split().apply(len)\n",
        "data = data[data['english_len'] < 20]\n",
        "\n",
        "data['english_inp'] = '<start> ' + data['english'].astype(str)\n",
        "data['english_out'] = data['english'].astype(str) + ' <end>'\n",
        "\n",
        "data = data.drop(['english', 'italian_len', 'english_len'], axis=1)\n",
        "data.head()"
      ],
      "metadata": {
        "id": "v_GUKxl_00mv",
        "colab": {
          "base_uri": "https://localhost:8080/",
          "height": 206
        },
        "outputId": "5b43603b-b7a4-4cbc-a00b-79e9ab1edb97"
      },
      "execution_count": 18,
      "outputs": [
        {
          "output_type": "execute_result",
          "data": {
            "text/plain": [
              "   italian  english_inp english_out\n",
              "0     ciao   <start> hi    hi <end>\n",
              "1     ciao   <start> hi    hi <end>\n",
              "2    corri  <start> run   run <end>\n",
              "3    corra  <start> run   run <end>\n",
              "4  correte  <start> run   run <end>"
            ],
            "text/html": [
              "\n",
              "  <div id=\"df-5c6b8c97-f521-4337-81f4-2dd8dd1a0ebb\">\n",
              "    <div class=\"colab-df-container\">\n",
              "      <div>\n",
              "<style scoped>\n",
              "    .dataframe tbody tr th:only-of-type {\n",
              "        vertical-align: middle;\n",
              "    }\n",
              "\n",
              "    .dataframe tbody tr th {\n",
              "        vertical-align: top;\n",
              "    }\n",
              "\n",
              "    .dataframe thead th {\n",
              "        text-align: right;\n",
              "    }\n",
              "</style>\n",
              "<table border=\"1\" class=\"dataframe\">\n",
              "  <thead>\n",
              "    <tr style=\"text-align: right;\">\n",
              "      <th></th>\n",
              "      <th>italian</th>\n",
              "      <th>english_inp</th>\n",
              "      <th>english_out</th>\n",
              "    </tr>\n",
              "  </thead>\n",
              "  <tbody>\n",
              "    <tr>\n",
              "      <th>0</th>\n",
              "      <td>ciao</td>\n",
              "      <td>&lt;start&gt; hi</td>\n",
              "      <td>hi &lt;end&gt;</td>\n",
              "    </tr>\n",
              "    <tr>\n",
              "      <th>1</th>\n",
              "      <td>ciao</td>\n",
              "      <td>&lt;start&gt; hi</td>\n",
              "      <td>hi &lt;end&gt;</td>\n",
              "    </tr>\n",
              "    <tr>\n",
              "      <th>2</th>\n",
              "      <td>corri</td>\n",
              "      <td>&lt;start&gt; run</td>\n",
              "      <td>run &lt;end&gt;</td>\n",
              "    </tr>\n",
              "    <tr>\n",
              "      <th>3</th>\n",
              "      <td>corra</td>\n",
              "      <td>&lt;start&gt; run</td>\n",
              "      <td>run &lt;end&gt;</td>\n",
              "    </tr>\n",
              "    <tr>\n",
              "      <th>4</th>\n",
              "      <td>correte</td>\n",
              "      <td>&lt;start&gt; run</td>\n",
              "      <td>run &lt;end&gt;</td>\n",
              "    </tr>\n",
              "  </tbody>\n",
              "</table>\n",
              "</div>\n",
              "      <button class=\"colab-df-convert\" onclick=\"convertToInteractive('df-5c6b8c97-f521-4337-81f4-2dd8dd1a0ebb')\"\n",
              "              title=\"Convert this dataframe to an interactive table.\"\n",
              "              style=\"display:none;\">\n",
              "        \n",
              "  <svg xmlns=\"http://www.w3.org/2000/svg\" height=\"24px\"viewBox=\"0 0 24 24\"\n",
              "       width=\"24px\">\n",
              "    <path d=\"M0 0h24v24H0V0z\" fill=\"none\"/>\n",
              "    <path d=\"M18.56 5.44l.94 2.06.94-2.06 2.06-.94-2.06-.94-.94-2.06-.94 2.06-2.06.94zm-11 1L8.5 8.5l.94-2.06 2.06-.94-2.06-.94L8.5 2.5l-.94 2.06-2.06.94zm10 10l.94 2.06.94-2.06 2.06-.94-2.06-.94-.94-2.06-.94 2.06-2.06.94z\"/><path d=\"M17.41 7.96l-1.37-1.37c-.4-.4-.92-.59-1.43-.59-.52 0-1.04.2-1.43.59L10.3 9.45l-7.72 7.72c-.78.78-.78 2.05 0 2.83L4 21.41c.39.39.9.59 1.41.59.51 0 1.02-.2 1.41-.59l7.78-7.78 2.81-2.81c.8-.78.8-2.07 0-2.86zM5.41 20L4 18.59l7.72-7.72 1.47 1.35L5.41 20z\"/>\n",
              "  </svg>\n",
              "      </button>\n",
              "      \n",
              "  <style>\n",
              "    .colab-df-container {\n",
              "      display:flex;\n",
              "      flex-wrap:wrap;\n",
              "      gap: 12px;\n",
              "    }\n",
              "\n",
              "    .colab-df-convert {\n",
              "      background-color: #E8F0FE;\n",
              "      border: none;\n",
              "      border-radius: 50%;\n",
              "      cursor: pointer;\n",
              "      display: none;\n",
              "      fill: #1967D2;\n",
              "      height: 32px;\n",
              "      padding: 0 0 0 0;\n",
              "      width: 32px;\n",
              "    }\n",
              "\n",
              "    .colab-df-convert:hover {\n",
              "      background-color: #E2EBFA;\n",
              "      box-shadow: 0px 1px 2px rgba(60, 64, 67, 0.3), 0px 1px 3px 1px rgba(60, 64, 67, 0.15);\n",
              "      fill: #174EA6;\n",
              "    }\n",
              "\n",
              "    [theme=dark] .colab-df-convert {\n",
              "      background-color: #3B4455;\n",
              "      fill: #D2E3FC;\n",
              "    }\n",
              "\n",
              "    [theme=dark] .colab-df-convert:hover {\n",
              "      background-color: #434B5C;\n",
              "      box-shadow: 0px 1px 3px 1px rgba(0, 0, 0, 0.15);\n",
              "      filter: drop-shadow(0px 1px 2px rgba(0, 0, 0, 0.3));\n",
              "      fill: #FFFFFF;\n",
              "    }\n",
              "  </style>\n",
              "\n",
              "      <script>\n",
              "        const buttonEl =\n",
              "          document.querySelector('#df-5c6b8c97-f521-4337-81f4-2dd8dd1a0ebb button.colab-df-convert');\n",
              "        buttonEl.style.display =\n",
              "          google.colab.kernel.accessAllowed ? 'block' : 'none';\n",
              "\n",
              "        async function convertToInteractive(key) {\n",
              "          const element = document.querySelector('#df-5c6b8c97-f521-4337-81f4-2dd8dd1a0ebb');\n",
              "          const dataTable =\n",
              "            await google.colab.kernel.invokeFunction('convertToInteractive',\n",
              "                                                     [key], {});\n",
              "          if (!dataTable) return;\n",
              "\n",
              "          const docLinkHtml = 'Like what you see? Visit the ' +\n",
              "            '<a target=\"_blank\" href=https://colab.research.google.com/notebooks/data_table.ipynb>data table notebook</a>'\n",
              "            + ' to learn more about interactive tables.';\n",
              "          element.innerHTML = '';\n",
              "          dataTable['output_type'] = 'display_data';\n",
              "          await google.colab.output.renderOutput(dataTable, element);\n",
              "          const docLink = document.createElement('div');\n",
              "          docLink.innerHTML = docLinkHtml;\n",
              "          element.appendChild(docLink);\n",
              "        }\n",
              "      </script>\n",
              "    </div>\n",
              "  </div>\n",
              "  "
            ]
          },
          "metadata": {},
          "execution_count": 18
        }
      ]
    },
    {
      "cell_type": "code",
      "source": [
        "data.sample(10)"
      ],
      "metadata": {
        "id": "1CgiXJzT2A7i",
        "colab": {
          "base_uri": "https://localhost:8080/",
          "height": 363
        },
        "outputId": "b1c4708a-76a6-4135-a398-f5d2168a4fa6"
      },
      "execution_count": 19,
      "outputs": [
        {
          "output_type": "execute_result",
          "data": {
            "text/plain": [
              "                                          italian  \\\n",
              "42138                             tom è il nemico   \n",
              "266649              tom guarda troppa televisione   \n",
              "100031                    qual è il suo indirizzo   \n",
              "118402            vieni a visitarci qualche volta   \n",
              "348196        ho già lavorato qui per diverse ore   \n",
              "1310                               sentite questo   \n",
              "124237            sto andando a comprare del pane   \n",
              "262793         è una questione di vita e di morte   \n",
              "309999  tom ha chiesto a mary di spegnere la luce   \n",
              "158553          la nostra famiglia è molto felice   \n",
              "\n",
              "                                              english_inp  \\\n",
              "42138                            <start> tom is the enemy   \n",
              "266649            <start> tom watches too much television   \n",
              "100031                       <start> what is your address   \n",
              "118402                     <start> come visit us sometime   \n",
              "348196  <start> i have already been working here for s...   \n",
              "1310                                    <start> feel this   \n",
              "124237                    <start> i am going to buy bread   \n",
              "262793           <start> it is a matter of life and death   \n",
              "309999       <start> tom asked mary to turn off the light   \n",
              "158553                   <start> our family is very happy   \n",
              "\n",
              "                                              english_out  \n",
              "42138                              tom is the enemy <end>  \n",
              "266649              tom watches too much television <end>  \n",
              "100031                         what is your address <end>  \n",
              "118402                       come visit us sometime <end>  \n",
              "348196  i have already been working here for several h...  \n",
              "1310                                      feel this <end>  \n",
              "124237                      i am going to buy bread <end>  \n",
              "262793             it is a matter of life and death <end>  \n",
              "309999         tom asked mary to turn off the light <end>  \n",
              "158553                     our family is very happy <end>  "
            ],
            "text/html": [
              "\n",
              "  <div id=\"df-87a9a354-ff2f-41b4-bfa6-4cf19bca5166\">\n",
              "    <div class=\"colab-df-container\">\n",
              "      <div>\n",
              "<style scoped>\n",
              "    .dataframe tbody tr th:only-of-type {\n",
              "        vertical-align: middle;\n",
              "    }\n",
              "\n",
              "    .dataframe tbody tr th {\n",
              "        vertical-align: top;\n",
              "    }\n",
              "\n",
              "    .dataframe thead th {\n",
              "        text-align: right;\n",
              "    }\n",
              "</style>\n",
              "<table border=\"1\" class=\"dataframe\">\n",
              "  <thead>\n",
              "    <tr style=\"text-align: right;\">\n",
              "      <th></th>\n",
              "      <th>italian</th>\n",
              "      <th>english_inp</th>\n",
              "      <th>english_out</th>\n",
              "    </tr>\n",
              "  </thead>\n",
              "  <tbody>\n",
              "    <tr>\n",
              "      <th>42138</th>\n",
              "      <td>tom è il nemico</td>\n",
              "      <td>&lt;start&gt; tom is the enemy</td>\n",
              "      <td>tom is the enemy &lt;end&gt;</td>\n",
              "    </tr>\n",
              "    <tr>\n",
              "      <th>266649</th>\n",
              "      <td>tom guarda troppa televisione</td>\n",
              "      <td>&lt;start&gt; tom watches too much television</td>\n",
              "      <td>tom watches too much television &lt;end&gt;</td>\n",
              "    </tr>\n",
              "    <tr>\n",
              "      <th>100031</th>\n",
              "      <td>qual è il suo indirizzo</td>\n",
              "      <td>&lt;start&gt; what is your address</td>\n",
              "      <td>what is your address &lt;end&gt;</td>\n",
              "    </tr>\n",
              "    <tr>\n",
              "      <th>118402</th>\n",
              "      <td>vieni a visitarci qualche volta</td>\n",
              "      <td>&lt;start&gt; come visit us sometime</td>\n",
              "      <td>come visit us sometime &lt;end&gt;</td>\n",
              "    </tr>\n",
              "    <tr>\n",
              "      <th>348196</th>\n",
              "      <td>ho già lavorato qui per diverse ore</td>\n",
              "      <td>&lt;start&gt; i have already been working here for s...</td>\n",
              "      <td>i have already been working here for several h...</td>\n",
              "    </tr>\n",
              "    <tr>\n",
              "      <th>1310</th>\n",
              "      <td>sentite questo</td>\n",
              "      <td>&lt;start&gt; feel this</td>\n",
              "      <td>feel this &lt;end&gt;</td>\n",
              "    </tr>\n",
              "    <tr>\n",
              "      <th>124237</th>\n",
              "      <td>sto andando a comprare del pane</td>\n",
              "      <td>&lt;start&gt; i am going to buy bread</td>\n",
              "      <td>i am going to buy bread &lt;end&gt;</td>\n",
              "    </tr>\n",
              "    <tr>\n",
              "      <th>262793</th>\n",
              "      <td>è una questione di vita e di morte</td>\n",
              "      <td>&lt;start&gt; it is a matter of life and death</td>\n",
              "      <td>it is a matter of life and death &lt;end&gt;</td>\n",
              "    </tr>\n",
              "    <tr>\n",
              "      <th>309999</th>\n",
              "      <td>tom ha chiesto a mary di spegnere la luce</td>\n",
              "      <td>&lt;start&gt; tom asked mary to turn off the light</td>\n",
              "      <td>tom asked mary to turn off the light &lt;end&gt;</td>\n",
              "    </tr>\n",
              "    <tr>\n",
              "      <th>158553</th>\n",
              "      <td>la nostra famiglia è molto felice</td>\n",
              "      <td>&lt;start&gt; our family is very happy</td>\n",
              "      <td>our family is very happy &lt;end&gt;</td>\n",
              "    </tr>\n",
              "  </tbody>\n",
              "</table>\n",
              "</div>\n",
              "      <button class=\"colab-df-convert\" onclick=\"convertToInteractive('df-87a9a354-ff2f-41b4-bfa6-4cf19bca5166')\"\n",
              "              title=\"Convert this dataframe to an interactive table.\"\n",
              "              style=\"display:none;\">\n",
              "        \n",
              "  <svg xmlns=\"http://www.w3.org/2000/svg\" height=\"24px\"viewBox=\"0 0 24 24\"\n",
              "       width=\"24px\">\n",
              "    <path d=\"M0 0h24v24H0V0z\" fill=\"none\"/>\n",
              "    <path d=\"M18.56 5.44l.94 2.06.94-2.06 2.06-.94-2.06-.94-.94-2.06-.94 2.06-2.06.94zm-11 1L8.5 8.5l.94-2.06 2.06-.94-2.06-.94L8.5 2.5l-.94 2.06-2.06.94zm10 10l.94 2.06.94-2.06 2.06-.94-2.06-.94-.94-2.06-.94 2.06-2.06.94z\"/><path d=\"M17.41 7.96l-1.37-1.37c-.4-.4-.92-.59-1.43-.59-.52 0-1.04.2-1.43.59L10.3 9.45l-7.72 7.72c-.78.78-.78 2.05 0 2.83L4 21.41c.39.39.9.59 1.41.59.51 0 1.02-.2 1.41-.59l7.78-7.78 2.81-2.81c.8-.78.8-2.07 0-2.86zM5.41 20L4 18.59l7.72-7.72 1.47 1.35L5.41 20z\"/>\n",
              "  </svg>\n",
              "      </button>\n",
              "      \n",
              "  <style>\n",
              "    .colab-df-container {\n",
              "      display:flex;\n",
              "      flex-wrap:wrap;\n",
              "      gap: 12px;\n",
              "    }\n",
              "\n",
              "    .colab-df-convert {\n",
              "      background-color: #E8F0FE;\n",
              "      border: none;\n",
              "      border-radius: 50%;\n",
              "      cursor: pointer;\n",
              "      display: none;\n",
              "      fill: #1967D2;\n",
              "      height: 32px;\n",
              "      padding: 0 0 0 0;\n",
              "      width: 32px;\n",
              "    }\n",
              "\n",
              "    .colab-df-convert:hover {\n",
              "      background-color: #E2EBFA;\n",
              "      box-shadow: 0px 1px 2px rgba(60, 64, 67, 0.3), 0px 1px 3px 1px rgba(60, 64, 67, 0.15);\n",
              "      fill: #174EA6;\n",
              "    }\n",
              "\n",
              "    [theme=dark] .colab-df-convert {\n",
              "      background-color: #3B4455;\n",
              "      fill: #D2E3FC;\n",
              "    }\n",
              "\n",
              "    [theme=dark] .colab-df-convert:hover {\n",
              "      background-color: #434B5C;\n",
              "      box-shadow: 0px 1px 3px 1px rgba(0, 0, 0, 0.15);\n",
              "      filter: drop-shadow(0px 1px 2px rgba(0, 0, 0, 0.3));\n",
              "      fill: #FFFFFF;\n",
              "    }\n",
              "  </style>\n",
              "\n",
              "      <script>\n",
              "        const buttonEl =\n",
              "          document.querySelector('#df-87a9a354-ff2f-41b4-bfa6-4cf19bca5166 button.colab-df-convert');\n",
              "        buttonEl.style.display =\n",
              "          google.colab.kernel.accessAllowed ? 'block' : 'none';\n",
              "\n",
              "        async function convertToInteractive(key) {\n",
              "          const element = document.querySelector('#df-87a9a354-ff2f-41b4-bfa6-4cf19bca5166');\n",
              "          const dataTable =\n",
              "            await google.colab.kernel.invokeFunction('convertToInteractive',\n",
              "                                                     [key], {});\n",
              "          if (!dataTable) return;\n",
              "\n",
              "          const docLinkHtml = 'Like what you see? Visit the ' +\n",
              "            '<a target=\"_blank\" href=https://colab.research.google.com/notebooks/data_table.ipynb>data table notebook</a>'\n",
              "            + ' to learn more about interactive tables.';\n",
              "          element.innerHTML = '';\n",
              "          dataTable['output_type'] = 'display_data';\n",
              "          await google.colab.output.renderOutput(dataTable, element);\n",
              "          const docLink = document.createElement('div');\n",
              "          docLink.innerHTML = docLinkHtml;\n",
              "          element.appendChild(docLink);\n",
              "        }\n",
              "      </script>\n",
              "    </div>\n",
              "  </div>\n",
              "  "
            ]
          },
          "metadata": {},
          "execution_count": 19
        }
      ]
    },
    {
      "cell_type": "markdown",
      "source": [
        "**Data splitting**"
      ],
      "metadata": {
        "id": "l8G--IJf2TSD"
      }
    },
    {
      "cell_type": "code",
      "source": [
        "train, validation = train_test_split(data, test_size=0.2)"
      ],
      "metadata": {
        "id": "hbjbogHP2CQ6"
      },
      "execution_count": 20,
      "outputs": []
    },
    {
      "cell_type": "code",
      "source": [
        "print(train.shape, validation.shape)"
      ],
      "metadata": {
        "id": "ouJgnVl42CPE",
        "colab": {
          "base_uri": "https://localhost:8080/"
        },
        "outputId": "a71c1eab-d928-4635-d825-0480749f1f9a"
      },
      "execution_count": 21,
      "outputs": [
        {
          "output_type": "stream",
          "name": "stdout",
          "text": [
            "(286292, 3) (71574, 3)\n"
          ]
        }
      ]
    },
    {
      "cell_type": "code",
      "source": [
        "# For one sentence we will be adding <end> token so that the tokanizer learns the word <end>.\n",
        "# With this we can use only one tokenizer for both encoder output and decoder output.\n",
        "train.iloc[0]['english_inp'] = str(train.iloc[0]['english_inp']) + ' <end>'\n",
        "train.iloc[0]['english_out'] = str(train.iloc[0]['english_out']) + ' <end>'"
      ],
      "metadata": {
        "id": "AELkJzwl2CMz"
      },
      "execution_count": 22,
      "outputs": []
    },
    {
      "cell_type": "code",
      "source": [
        "train.head()"
      ],
      "metadata": {
        "id": "SgbWlgtF2CKo",
        "colab": {
          "base_uri": "https://localhost:8080/",
          "height": 206
        },
        "outputId": "11674216-bd0f-4b37-ba88-2dad1cc5da92"
      },
      "execution_count": 23,
      "outputs": [
        {
          "output_type": "execute_result",
          "data": {
            "text/plain": [
              "                                                  italian  \\\n",
              "22901                                  tom perse il conto   \n",
              "312872            lei ha mai mangiato le uova col ketchup   \n",
              "276247                  a tom non piaceva vivere a boston   \n",
              "89744                      ho acconsentito ad aiutare tom   \n",
              "348576  questo è il libro più difficile che io abbia m...   \n",
              "\n",
              "                                              english_inp  \\\n",
              "22901                        <start> tom lost count <end>   \n",
              "312872      <start> have you ever eaten eggs with ketchup   \n",
              "276247          <start> tom did not like living in boston   \n",
              "89744                        <start> i agreed to help tom   \n",
              "348576  <start> this is the most difficult book i have...   \n",
              "\n",
              "                                              english_out  \n",
              "22901                          tom lost count <end> <end>  \n",
              "312872        have you ever eaten eggs with ketchup <end>  \n",
              "276247            tom did not like living in boston <end>  \n",
              "89744                          i agreed to help tom <end>  \n",
              "348576  this is the most difficult book i have ever re...  "
            ],
            "text/html": [
              "\n",
              "  <div id=\"df-0c143795-d022-4f2f-b675-31dc873f9a4e\">\n",
              "    <div class=\"colab-df-container\">\n",
              "      <div>\n",
              "<style scoped>\n",
              "    .dataframe tbody tr th:only-of-type {\n",
              "        vertical-align: middle;\n",
              "    }\n",
              "\n",
              "    .dataframe tbody tr th {\n",
              "        vertical-align: top;\n",
              "    }\n",
              "\n",
              "    .dataframe thead th {\n",
              "        text-align: right;\n",
              "    }\n",
              "</style>\n",
              "<table border=\"1\" class=\"dataframe\">\n",
              "  <thead>\n",
              "    <tr style=\"text-align: right;\">\n",
              "      <th></th>\n",
              "      <th>italian</th>\n",
              "      <th>english_inp</th>\n",
              "      <th>english_out</th>\n",
              "    </tr>\n",
              "  </thead>\n",
              "  <tbody>\n",
              "    <tr>\n",
              "      <th>22901</th>\n",
              "      <td>tom perse il conto</td>\n",
              "      <td>&lt;start&gt; tom lost count &lt;end&gt;</td>\n",
              "      <td>tom lost count &lt;end&gt; &lt;end&gt;</td>\n",
              "    </tr>\n",
              "    <tr>\n",
              "      <th>312872</th>\n",
              "      <td>lei ha mai mangiato le uova col ketchup</td>\n",
              "      <td>&lt;start&gt; have you ever eaten eggs with ketchup</td>\n",
              "      <td>have you ever eaten eggs with ketchup &lt;end&gt;</td>\n",
              "    </tr>\n",
              "    <tr>\n",
              "      <th>276247</th>\n",
              "      <td>a tom non piaceva vivere a boston</td>\n",
              "      <td>&lt;start&gt; tom did not like living in boston</td>\n",
              "      <td>tom did not like living in boston &lt;end&gt;</td>\n",
              "    </tr>\n",
              "    <tr>\n",
              "      <th>89744</th>\n",
              "      <td>ho acconsentito ad aiutare tom</td>\n",
              "      <td>&lt;start&gt; i agreed to help tom</td>\n",
              "      <td>i agreed to help tom &lt;end&gt;</td>\n",
              "    </tr>\n",
              "    <tr>\n",
              "      <th>348576</th>\n",
              "      <td>questo è il libro più difficile che io abbia m...</td>\n",
              "      <td>&lt;start&gt; this is the most difficult book i have...</td>\n",
              "      <td>this is the most difficult book i have ever re...</td>\n",
              "    </tr>\n",
              "  </tbody>\n",
              "</table>\n",
              "</div>\n",
              "      <button class=\"colab-df-convert\" onclick=\"convertToInteractive('df-0c143795-d022-4f2f-b675-31dc873f9a4e')\"\n",
              "              title=\"Convert this dataframe to an interactive table.\"\n",
              "              style=\"display:none;\">\n",
              "        \n",
              "  <svg xmlns=\"http://www.w3.org/2000/svg\" height=\"24px\"viewBox=\"0 0 24 24\"\n",
              "       width=\"24px\">\n",
              "    <path d=\"M0 0h24v24H0V0z\" fill=\"none\"/>\n",
              "    <path d=\"M18.56 5.44l.94 2.06.94-2.06 2.06-.94-2.06-.94-.94-2.06-.94 2.06-2.06.94zm-11 1L8.5 8.5l.94-2.06 2.06-.94-2.06-.94L8.5 2.5l-.94 2.06-2.06.94zm10 10l.94 2.06.94-2.06 2.06-.94-2.06-.94-.94-2.06-.94 2.06-2.06.94z\"/><path d=\"M17.41 7.96l-1.37-1.37c-.4-.4-.92-.59-1.43-.59-.52 0-1.04.2-1.43.59L10.3 9.45l-7.72 7.72c-.78.78-.78 2.05 0 2.83L4 21.41c.39.39.9.59 1.41.59.51 0 1.02-.2 1.41-.59l7.78-7.78 2.81-2.81c.8-.78.8-2.07 0-2.86zM5.41 20L4 18.59l7.72-7.72 1.47 1.35L5.41 20z\"/>\n",
              "  </svg>\n",
              "      </button>\n",
              "      \n",
              "  <style>\n",
              "    .colab-df-container {\n",
              "      display:flex;\n",
              "      flex-wrap:wrap;\n",
              "      gap: 12px;\n",
              "    }\n",
              "\n",
              "    .colab-df-convert {\n",
              "      background-color: #E8F0FE;\n",
              "      border: none;\n",
              "      border-radius: 50%;\n",
              "      cursor: pointer;\n",
              "      display: none;\n",
              "      fill: #1967D2;\n",
              "      height: 32px;\n",
              "      padding: 0 0 0 0;\n",
              "      width: 32px;\n",
              "    }\n",
              "\n",
              "    .colab-df-convert:hover {\n",
              "      background-color: #E2EBFA;\n",
              "      box-shadow: 0px 1px 2px rgba(60, 64, 67, 0.3), 0px 1px 3px 1px rgba(60, 64, 67, 0.15);\n",
              "      fill: #174EA6;\n",
              "    }\n",
              "\n",
              "    [theme=dark] .colab-df-convert {\n",
              "      background-color: #3B4455;\n",
              "      fill: #D2E3FC;\n",
              "    }\n",
              "\n",
              "    [theme=dark] .colab-df-convert:hover {\n",
              "      background-color: #434B5C;\n",
              "      box-shadow: 0px 1px 3px 1px rgba(0, 0, 0, 0.15);\n",
              "      filter: drop-shadow(0px 1px 2px rgba(0, 0, 0, 0.3));\n",
              "      fill: #FFFFFF;\n",
              "    }\n",
              "  </style>\n",
              "\n",
              "      <script>\n",
              "        const buttonEl =\n",
              "          document.querySelector('#df-0c143795-d022-4f2f-b675-31dc873f9a4e button.colab-df-convert');\n",
              "        buttonEl.style.display =\n",
              "          google.colab.kernel.accessAllowed ? 'block' : 'none';\n",
              "\n",
              "        async function convertToInteractive(key) {\n",
              "          const element = document.querySelector('#df-0c143795-d022-4f2f-b675-31dc873f9a4e');\n",
              "          const dataTable =\n",
              "            await google.colab.kernel.invokeFunction('convertToInteractive',\n",
              "                                                     [key], {});\n",
              "          if (!dataTable) return;\n",
              "\n",
              "          const docLinkHtml = 'Like what you see? Visit the ' +\n",
              "            '<a target=\"_blank\" href=https://colab.research.google.com/notebooks/data_table.ipynb>data table notebook</a>'\n",
              "            + ' to learn more about interactive tables.';\n",
              "          element.innerHTML = '';\n",
              "          dataTable['output_type'] = 'display_data';\n",
              "          await google.colab.output.renderOutput(dataTable, element);\n",
              "          const docLink = document.createElement('div');\n",
              "          docLink.innerHTML = docLinkHtml;\n",
              "          element.appendChild(docLink);\n",
              "        }\n",
              "      </script>\n",
              "    </div>\n",
              "  </div>\n",
              "  "
            ]
          },
          "metadata": {},
          "execution_count": 23
        }
      ]
    },
    {
      "cell_type": "code",
      "source": [
        "validation.head()"
      ],
      "metadata": {
        "id": "aWAG-dox20jZ",
        "colab": {
          "base_uri": "https://localhost:8080/",
          "height": 206
        },
        "outputId": "0c289304-c63e-41dc-ad51-4dfe0ee3906c"
      },
      "execution_count": 24,
      "outputs": [
        {
          "output_type": "execute_result",
          "data": {
            "text/plain": [
              "                                              italian  \\\n",
              "283694  vorrei una camera che si affacci sul giardino   \n",
              "274662                   sembra che abbia molti amici   \n",
              "352277  tom era nel club di kyudo quando era al liceo   \n",
              "151787                     dammi un caffè per piacere   \n",
              "22843                                tom non è saggio   \n",
              "\n",
              "                                              english_inp  \\\n",
              "283694      <start> i would like a room facing the garden   \n",
              "274662           <start> she appears to have many friends   \n",
              "352277  <start> tom was in the kyudo club when he was ...   \n",
              "151787                    <start> give me a coffee please   \n",
              "22843                             <start> tom is not wise   \n",
              "\n",
              "                                              english_out  \n",
              "283694        i would like a room facing the garden <end>  \n",
              "274662             she appears to have many friends <end>  \n",
              "352277  tom was in the kyudo club when he was in high ...  \n",
              "151787                      give me a coffee please <end>  \n",
              "22843                               tom is not wise <end>  "
            ],
            "text/html": [
              "\n",
              "  <div id=\"df-3ce7db4e-69a9-4537-b84f-3cd6e92e5d1e\">\n",
              "    <div class=\"colab-df-container\">\n",
              "      <div>\n",
              "<style scoped>\n",
              "    .dataframe tbody tr th:only-of-type {\n",
              "        vertical-align: middle;\n",
              "    }\n",
              "\n",
              "    .dataframe tbody tr th {\n",
              "        vertical-align: top;\n",
              "    }\n",
              "\n",
              "    .dataframe thead th {\n",
              "        text-align: right;\n",
              "    }\n",
              "</style>\n",
              "<table border=\"1\" class=\"dataframe\">\n",
              "  <thead>\n",
              "    <tr style=\"text-align: right;\">\n",
              "      <th></th>\n",
              "      <th>italian</th>\n",
              "      <th>english_inp</th>\n",
              "      <th>english_out</th>\n",
              "    </tr>\n",
              "  </thead>\n",
              "  <tbody>\n",
              "    <tr>\n",
              "      <th>283694</th>\n",
              "      <td>vorrei una camera che si affacci sul giardino</td>\n",
              "      <td>&lt;start&gt; i would like a room facing the garden</td>\n",
              "      <td>i would like a room facing the garden &lt;end&gt;</td>\n",
              "    </tr>\n",
              "    <tr>\n",
              "      <th>274662</th>\n",
              "      <td>sembra che abbia molti amici</td>\n",
              "      <td>&lt;start&gt; she appears to have many friends</td>\n",
              "      <td>she appears to have many friends &lt;end&gt;</td>\n",
              "    </tr>\n",
              "    <tr>\n",
              "      <th>352277</th>\n",
              "      <td>tom era nel club di kyudo quando era al liceo</td>\n",
              "      <td>&lt;start&gt; tom was in the kyudo club when he was ...</td>\n",
              "      <td>tom was in the kyudo club when he was in high ...</td>\n",
              "    </tr>\n",
              "    <tr>\n",
              "      <th>151787</th>\n",
              "      <td>dammi un caffè per piacere</td>\n",
              "      <td>&lt;start&gt; give me a coffee please</td>\n",
              "      <td>give me a coffee please &lt;end&gt;</td>\n",
              "    </tr>\n",
              "    <tr>\n",
              "      <th>22843</th>\n",
              "      <td>tom non è saggio</td>\n",
              "      <td>&lt;start&gt; tom is not wise</td>\n",
              "      <td>tom is not wise &lt;end&gt;</td>\n",
              "    </tr>\n",
              "  </tbody>\n",
              "</table>\n",
              "</div>\n",
              "      <button class=\"colab-df-convert\" onclick=\"convertToInteractive('df-3ce7db4e-69a9-4537-b84f-3cd6e92e5d1e')\"\n",
              "              title=\"Convert this dataframe to an interactive table.\"\n",
              "              style=\"display:none;\">\n",
              "        \n",
              "  <svg xmlns=\"http://www.w3.org/2000/svg\" height=\"24px\"viewBox=\"0 0 24 24\"\n",
              "       width=\"24px\">\n",
              "    <path d=\"M0 0h24v24H0V0z\" fill=\"none\"/>\n",
              "    <path d=\"M18.56 5.44l.94 2.06.94-2.06 2.06-.94-2.06-.94-.94-2.06-.94 2.06-2.06.94zm-11 1L8.5 8.5l.94-2.06 2.06-.94-2.06-.94L8.5 2.5l-.94 2.06-2.06.94zm10 10l.94 2.06.94-2.06 2.06-.94-2.06-.94-.94-2.06-.94 2.06-2.06.94z\"/><path d=\"M17.41 7.96l-1.37-1.37c-.4-.4-.92-.59-1.43-.59-.52 0-1.04.2-1.43.59L10.3 9.45l-7.72 7.72c-.78.78-.78 2.05 0 2.83L4 21.41c.39.39.9.59 1.41.59.51 0 1.02-.2 1.41-.59l7.78-7.78 2.81-2.81c.8-.78.8-2.07 0-2.86zM5.41 20L4 18.59l7.72-7.72 1.47 1.35L5.41 20z\"/>\n",
              "  </svg>\n",
              "      </button>\n",
              "      \n",
              "  <style>\n",
              "    .colab-df-container {\n",
              "      display:flex;\n",
              "      flex-wrap:wrap;\n",
              "      gap: 12px;\n",
              "    }\n",
              "\n",
              "    .colab-df-convert {\n",
              "      background-color: #E8F0FE;\n",
              "      border: none;\n",
              "      border-radius: 50%;\n",
              "      cursor: pointer;\n",
              "      display: none;\n",
              "      fill: #1967D2;\n",
              "      height: 32px;\n",
              "      padding: 0 0 0 0;\n",
              "      width: 32px;\n",
              "    }\n",
              "\n",
              "    .colab-df-convert:hover {\n",
              "      background-color: #E2EBFA;\n",
              "      box-shadow: 0px 1px 2px rgba(60, 64, 67, 0.3), 0px 1px 3px 1px rgba(60, 64, 67, 0.15);\n",
              "      fill: #174EA6;\n",
              "    }\n",
              "\n",
              "    [theme=dark] .colab-df-convert {\n",
              "      background-color: #3B4455;\n",
              "      fill: #D2E3FC;\n",
              "    }\n",
              "\n",
              "    [theme=dark] .colab-df-convert:hover {\n",
              "      background-color: #434B5C;\n",
              "      box-shadow: 0px 1px 3px 1px rgba(0, 0, 0, 0.15);\n",
              "      filter: drop-shadow(0px 1px 2px rgba(0, 0, 0, 0.3));\n",
              "      fill: #FFFFFF;\n",
              "    }\n",
              "  </style>\n",
              "\n",
              "      <script>\n",
              "        const buttonEl =\n",
              "          document.querySelector('#df-3ce7db4e-69a9-4537-b84f-3cd6e92e5d1e button.colab-df-convert');\n",
              "        buttonEl.style.display =\n",
              "          google.colab.kernel.accessAllowed ? 'block' : 'none';\n",
              "\n",
              "        async function convertToInteractive(key) {\n",
              "          const element = document.querySelector('#df-3ce7db4e-69a9-4537-b84f-3cd6e92e5d1e');\n",
              "          const dataTable =\n",
              "            await google.colab.kernel.invokeFunction('convertToInteractive',\n",
              "                                                     [key], {});\n",
              "          if (!dataTable) return;\n",
              "\n",
              "          const docLinkHtml = 'Like what you see? Visit the ' +\n",
              "            '<a target=\"_blank\" href=https://colab.research.google.com/notebooks/data_table.ipynb>data table notebook</a>'\n",
              "            + ' to learn more about interactive tables.';\n",
              "          element.innerHTML = '';\n",
              "          dataTable['output_type'] = 'display_data';\n",
              "          await google.colab.output.renderOutput(dataTable, element);\n",
              "          const docLink = document.createElement('div');\n",
              "          docLink.innerHTML = docLinkHtml;\n",
              "          element.appendChild(docLink);\n",
              "        }\n",
              "      </script>\n",
              "    </div>\n",
              "  </div>\n",
              "  "
            ]
          },
          "metadata": {},
          "execution_count": 24
        }
      ]
    },
    {
      "cell_type": "code",
      "source": [
        "ita_lengths = train['italian'].str.split().apply(len)\n",
        "eng_lengths = train['english_inp'].str.split().apply(len)"
      ],
      "metadata": {
        "id": "l_aXYEXb20gk"
      },
      "execution_count": 25,
      "outputs": []
    },
    {
      "cell_type": "code",
      "source": [
        "plt.figure(figsize=(10, 6))\n",
        "sns.kdeplot(ita_lengths)\n",
        "plt.grid()\n",
        "plt.show()"
      ],
      "metadata": {
        "id": "cqmFy4ts20eN",
        "colab": {
          "base_uri": "https://localhost:8080/",
          "height": 392
        },
        "outputId": "6e067027-974b-4032-f139-bf35f301f894"
      },
      "execution_count": 26,
      "outputs": [
        {
          "output_type": "display_data",
          "data": {
            "text/plain": [
              "<Figure size 720x432 with 1 Axes>"
            ],
            "image/png": "[encoded data removed]"
          },
          "metadata": {
            "needs_background": "light"
          }
        }
      ]
    },
    {
      "cell_type": "code",
      "source": [
        "plt.figure(figsize=(10, 6))\n",
        "sns.kdeplot(eng_lengths)\n",
        "plt.grid()\n",
        "plt.show()"
      ],
      "metadata": {
        "id": "CzH_J9w520bU",
        "colab": {
          "base_uri": "https://localhost:8080/",
          "height": 392
        },
        "outputId": "526d9752-96c8-4544-f05a-28b57f317532"
      },
      "execution_count": 27,
      "outputs": [
        {
          "output_type": "display_data",
          "data": {
            "text/plain": [
              "<Figure size 720x432 with 1 Axes>"
            ],
            "image/png": "[encoded data removed]"
          },
          "metadata": {
            "needs_background": "light"
          }
        }
      ]
    },
    {
      "cell_type": "markdown",
      "source": [
        "**Tokenizer on the train data and learning vocabulary**"
      ],
      "metadata": {
        "id": "oARyHJw449bv"
      }
    },
    {
      "cell_type": "code",
      "source": [
        "tokenize_ita = Tokenizer()\n",
        "tokenize_ita.fit_on_texts(texts=train['italian'].values)"
      ],
      "metadata": {
        "id": "jf26sWF020Y4"
      },
      "execution_count": 28,
      "outputs": []
    },
    {
      "cell_type": "code",
      "source": [
        "tokenize_eng = Tokenizer(filters='!\"#$%&()*+,-./:;=?@[\\\\]^_`{|}~\\t\\n')\n",
        "tokenize_eng.fit_on_texts(texts=train['english_inp'].values)"
      ],
      "metadata": {
        "id": "OM0Bc7f15B63"
      },
      "execution_count": 29,
      "outputs": []
    },
    {
      "cell_type": "code",
      "source": [
        "vocab_size_ita = len(tokenize_ita.word_index.keys())\n",
        "print(vocab_size_ita)"
      ],
      "metadata": {
        "id": "TMJ5mLDP8KZQ",
        "colab": {
          "base_uri": "https://localhost:8080/"
        },
        "outputId": "c1e29bb0-38b8-4b3d-ad95-93b60ccbe482"
      },
      "execution_count": 30,
      "outputs": [
        {
          "output_type": "stream",
          "name": "stdout",
          "text": [
            "26834\n"
          ]
        }
      ]
    },
    {
      "cell_type": "code",
      "source": [
        "vocab_size_eng = len(tokenize_eng.word_index.keys())\n",
        "print(vocab_size_eng)"
      ],
      "metadata": {
        "id": "4ka4KUyr5B39",
        "colab": {
          "base_uri": "https://localhost:8080/"
        },
        "outputId": "8ea30761-2d12-41d6-e54b-4d1191dddcec"
      },
      "execution_count": 31,
      "outputs": [
        {
          "output_type": "stream",
          "name": "stdout",
          "text": [
            "13174\n"
          ]
        }
      ]
    },
    {
      "cell_type": "code",
      "source": [
        "(tokenize_eng.word_index['<start>'], tokenize_eng.word_index['<end>'])"
      ],
      "metadata": {
        "id": "pee1ZjpN5B1f",
        "colab": {
          "base_uri": "https://localhost:8080/"
        },
        "outputId": "f3ec6fa0-9636-4c09-81d5-d96ba13cec29"
      },
      "execution_count": 32,
      "outputs": [
        {
          "output_type": "execute_result",
          "data": {
            "text/plain": [
              "(1, 10399)"
            ]
          },
          "metadata": {},
          "execution_count": 32
        }
      ]
    },
    {
      "cell_type": "markdown",
      "source": [
        "**Embeddings**"
      ],
      "metadata": {
        "id": "SXKbVN9q-lIr"
      }
    },
    {
      "cell_type": "code",
      "source": [
        "embeddings_index = dict()"
      ],
      "metadata": {
        "id": "nJbgOI6a_1pf"
      },
      "execution_count": 33,
      "outputs": []
    },
    {
      "cell_type": "code",
      "source": [
        "with open(file='glove.6B.100d.txt', mode='r', encoding='UTF-8') as gf:\n",
        "    for line in gf:\n",
        "        split_values = line.split()\n",
        "        word = split_values[0]\n",
        "        emb_vec = np.asarray(a=split_values[1:], dtype='float32')\n",
        "        embeddings_index[word] = emb_vec"
      ],
      "metadata": {
        "id": "GqwneiD55By8"
      },
      "execution_count": 34,
      "outputs": []
    },
    {
      "cell_type": "code",
      "source": [
        "embedding_matrix = np.zeros(shape=(vocab_size_eng+1, 100))"
      ],
      "metadata": {
        "id": "d8K_O8Tj-nEq"
      },
      "execution_count": 35,
      "outputs": []
    },
    {
      "cell_type": "code",
      "source": [
        "for word, i in tokenize_eng.word_index.items():\n",
        "    emb_vec = embeddings_index.get(word)\n",
        "    if emb_vec is not None:\n",
        "        embedding_matrix[i] = emb_vec"
      ],
      "metadata": {
        "id": "_FW5z8IL-nB2"
      },
      "execution_count": 36,
      "outputs": []
    },
    {
      "cell_type": "code",
      "source": [
        "embedding_matrix.shape"
      ],
      "metadata": {
        "id": "u9q4XTwz-m_1",
        "colab": {
          "base_uri": "https://localhost:8080/"
        },
        "outputId": "4d3cd246-22fe-4ed5-eee6-b5a971971e2a"
      },
      "execution_count": 37,
      "outputs": [
        {
          "output_type": "execute_result",
          "data": {
            "text/plain": [
              "(13175, 100)"
            ]
          },
          "metadata": {},
          "execution_count": 37
        }
      ]
    },
    {
      "cell_type": "markdown",
      "metadata": {
        "id": "S8RDrP4xKabR"
      },
      "source": [
        "### Implement custom encoder decoder"
      ]
    },
    {
      "cell_type": "markdown",
      "metadata": {
        "id": "A45uc0JILMlV"
      },
      "source": [
        "**Encoder**"
      ]
    },
    {
      "cell_type": "code",
      "metadata": {
        "id": "9cex2XfCLOew"
      },
      "source": [
        "class Encoder(tf.keras.Model):\n",
        "    '''\n",
        "    Encoder model -- Takes a input sequence and returns encoder-outputs, encoder_final_state_h, encoder_final_state_c\n",
        "    '''\n",
        "\n",
        "    def __init__(self, inp_vocab_size, embedding_size, lstm_size, input_length):\n",
        "        super().__init__()\n",
        "        self.inp_vocab_size = inp_vocab_size\n",
        "        self.embedding_size = embedding_size\n",
        "        self.lstm_size = lstm_size\n",
        "        self.input_length = input_length\n",
        "        self.lstm_output = 0\n",
        "        self.lstm_state_h = 0\n",
        "        self.lstm_state_c = 0\n",
        "\n",
        "        # Initialize Embedding layer\n",
        "        self.embedding = Embedding(input_dim=inp_vocab_size,\n",
        "                                   output_dim=self.embedding_size,\n",
        "                                   input_length=self.input_length,\n",
        "                                   mask_zero=True,\n",
        "                                   name='Embedding_Layer_Encoder')\n",
        "        \n",
        "        # Intialize encoder LSTM layer\n",
        "        self.lstm = LSTM(units=self.lstm_size, return_state=True, return_sequences=True, name='Encoder_LSTM')\n",
        "\n",
        "    def call(self, input_sequence, states):\n",
        "        '''\n",
        "        This function takes a sequence input and the initial states of the encoder.\n",
        "        Pass the input_sequence input to the Embedding layer, Pass the embedding layer ouput to encoder_lstm\n",
        "        returns -- encoder_output, last time step's hidden and cell state\n",
        "        '''\n",
        "        input_embedded = self.embedding(input_sequence)\n",
        "        self.lstm_output, self.lstm_state_h, self.lstm_state_c = self.lstm(input_embedded)\n",
        "        return self.lstm_output, self.lstm_state_h, self.lstm_state_c\n",
        "\n",
        "    def initialize_states(self, batch_size):\n",
        "      '''\n",
        "      Given a batch size it will return intial hidden state and intial cell state.\n",
        "      If batch size is 32- Hidden state is zeros of size [32, lstm_units], cell state zeros is of size [32, lstm_units]\n",
        "      '''\n",
        "      state_h = tf.zeros(shape=(batch_size, self.lstm_size))\n",
        "      state_c = tf.zeros(shape=(batch_size, self.lstm_size))\n",
        "      return state_h, state_c"
      ],
      "execution_count": 38,
      "outputs": []
    },
    {
      "cell_type": "markdown",
      "metadata": {
        "id": "EtbOI3VwLOe0"
      },
      "source": [
        "**Grader function - 1**"
      ]
    },
    {
      "cell_type": "code",
      "metadata": {
        "id": "ziSqOgmhLOe1"
      },
      "source": [
        "def grader_check_encoder():\n",
        "    '''\n",
        "    vocab-size: Unique words of the input language,\n",
        "    embedding_size: output embedding dimension for each word after embedding layer,\n",
        "    lstm_size: Number of lstm units,\n",
        "    input_length: Length of the input sentence,\n",
        "    batch_size\n",
        "    '''\n",
        "    vocab_size = 10\n",
        "    embedding_size = 20\n",
        "    lstm_size = 32\n",
        "    input_length = 10\n",
        "    batch_size = 16\n",
        "\n",
        "    # Intialzing encoder\n",
        "    encoder = Encoder(inp_vocab_size=vocab_size, embedding_size=embedding_size, lstm_size=lstm_size, input_length=input_length)\n",
        "    input_sequence = tf.random.uniform(shape=[batch_size, input_length], maxval=vocab_size, minval=0, dtype=tf.int32)\n",
        "\n",
        "    # Intializing encoder initial states\n",
        "    initial_state = encoder.initialize_states(batch_size=batch_size)\n",
        "    encoder_output, state_h, state_c = encoder(input_sequence=input_sequence, states=initial_state)\n",
        "    \n",
        "    assert(encoder_output.shape == (batch_size, input_length, lstm_size) and \n",
        "           state_h.shape == (batch_size, lstm_size) and \n",
        "           state_c.shape == (batch_size, lstm_size))\n",
        "    return True"
      ],
      "execution_count": 39,
      "outputs": []
    },
    {
      "cell_type": "code",
      "source": [
        "print(grader_check_encoder())"
      ],
      "metadata": {
        "id": "VDSfVRHbHPWA",
        "colab": {
          "base_uri": "https://localhost:8080/"
        },
        "outputId": "1d959650-8acd-41eb-bcac-d45917ad25f5"
      },
      "execution_count": 40,
      "outputs": [
        {
          "output_type": "stream",
          "name": "stdout",
          "text": [
            "True\n"
          ]
        }
      ]
    },
    {
      "cell_type": "markdown",
      "source": [
        "**Decoder**"
      ],
      "metadata": {
        "id": "ZvPKIA02HbKt"
      }
    },
    {
      "cell_type": "code",
      "metadata": {
        "id": "x1ES1-sJLOe4"
      },
      "source": [
        "class Decoder(tf.keras.Model):\n",
        "    '''\n",
        "    Encoder model -- That takes a input sequence and returns output sequence\n",
        "    '''\n",
        "    \n",
        "    def __init__(self, out_vocab_size, embedding_size, lstm_size, input_length):\n",
        "        super().__init__()\n",
        "        self.out_vocab_size = out_vocab_size\n",
        "        self.embedding_size = embedding_size\n",
        "        self.lstm_size = lstm_size\n",
        "        self.input_length = input_length\n",
        "\n",
        "        # Initialize Embedding layer\n",
        "        self.embedding = Embedding(input_dim=self.out_vocab_size,\n",
        "                                   output_dim=self.embedding_size,\n",
        "                                   input_length=self.input_length,\n",
        "                                   mask_zero=True,\n",
        "                                   name='Embedding_Layer_Decoder')\n",
        "        \n",
        "        # Intialize decoder LSTM layer\n",
        "        self.lstm = LSTM(units=self.lstm_size, return_state=True, return_sequences=True, name='Decoder_LSTM')\n",
        "\n",
        "    def call(self, input_sequence, initial_states):\n",
        "        '''\n",
        "        This function takes a sequence input and the initial states of the encoder.\n",
        "        Pass the input_sequence input to the Embedding layer, Pass the embedding layer ouput to decoder_lstm\n",
        "        returns -- decoder_output, decoder_final_state_h, decoder_final_state_c\n",
        "        '''\n",
        "        target_embedded = self.embedding(input_sequence)\n",
        "        lstm_output, lstm_state_h, lstm_state_c = self.lstm(target_embedded, initial_state=initial_states)\n",
        "        return lstm_output, lstm_state_h, lstm_state_c"
      ],
      "execution_count": 41,
      "outputs": []
    },
    {
      "cell_type": "markdown",
      "metadata": {
        "id": "Hq-I0SUbLOe8"
      },
      "source": [
        "**Grader function - 2**"
      ]
    },
    {
      "cell_type": "code",
      "metadata": {
        "id": "0B0gokgKLOe8"
      },
      "source": [
        "def grader_decoder():\n",
        "    '''\n",
        "    out_vocab_size: Unique words of the target language,\n",
        "    embedding_size: output embedding dimension for each word after embedding layer,\n",
        "    dec_units: Number of lstm units in decoder,\n",
        "    input_length: Length of the input sentence,\n",
        "    batch_size\n",
        "    '''\n",
        "    out_vocab_size = 13 \n",
        "    embedding_dim = 12 \n",
        "    input_length = 10\n",
        "    dec_units = 16 \n",
        "    batch_size = 32\n",
        "    \n",
        "    target_sentences = tf.random.uniform(shape=(batch_size, input_length), maxval=10, minval=0, dtype=tf.int32)\n",
        "    encoder_output = tf.random.uniform(shape=[batch_size, input_length, dec_units])\n",
        "    state_h = tf.random.uniform(shape=[batch_size, dec_units])\n",
        "    state_c = tf.random.uniform(shape=[batch_size, dec_units])\n",
        "    states = [state_h, state_c]\n",
        "\n",
        "    # Intialzing encoder\n",
        "    decoder = Decoder(out_vocab_size=out_vocab_size, embedding_size=embedding_dim, lstm_size=dec_units, input_length=input_length)\n",
        "    output, _, _ = decoder(input_sequence=target_sentences, initial_states=states)\n",
        "\n",
        "    assert(output.shape == (batch_size, input_length, dec_units))\n",
        "    return True"
      ],
      "execution_count": 42,
      "outputs": []
    },
    {
      "cell_type": "code",
      "source": [
        "print(grader_decoder())"
      ],
      "metadata": {
        "id": "EmpDVkX_LkTy",
        "colab": {
          "base_uri": "https://localhost:8080/"
        },
        "outputId": "ce2c6f22-2b9c-46bd-99cb-006fb99f458c"
      },
      "execution_count": 43,
      "outputs": [
        {
          "output_type": "stream",
          "name": "stdout",
          "text": [
            "True\n"
          ]
        }
      ]
    },
    {
      "cell_type": "code",
      "metadata": {
        "id": "BXrIj4scLOe_"
      },
      "source": [
        "class EncoderDecoderModel(tf.keras.Model):\n",
        "    \n",
        "    def __init__(self, inp_vocab_size, out_vocab_size, encoder_input_length, decoder_input_length):\n",
        "        super().__init__()\n",
        "        \n",
        "        # Create encoder object\n",
        "        self.encoder = Encoder(inp_vocab_size=inp_vocab_size,\n",
        "                               embedding_size=50,\n",
        "                               lstm_size=128,\n",
        "                               input_length=encoder_input_length)\n",
        "        \n",
        "        # Create decoder object\n",
        "        self.decoder = Decoder(out_vocab_size=out_vocab_size,\n",
        "                               embedding_size=100,\n",
        "                               lstm_size=128,\n",
        "                               input_length=decoder_input_length)\n",
        "        \n",
        "        # Intialize Dense layer(out_vocab_size) with activation='softmax'\n",
        "        self.dense = Dense(units=out_vocab_size, activation='softmax')\n",
        "    \n",
        "    def call(self, data):\n",
        "        '''\n",
        "        A. Pass the input sequence to Encoder layer -- Return encoder_output, encoder_final_state_h, encoder_final_state_c\n",
        "        B. Pass the target sequence to Decoder layer with intial states as encoder_final_state_h, encoder_final_state_C\n",
        "        C. Pass the decoder_outputs into Dense layer \n",
        "        Return decoder_outputs\n",
        "        '''\n",
        "        input_sequence, target_sequence = data[0], data[1]\n",
        "\n",
        "        states = self.encoder.initialize_states(batch_size=1)\n",
        "        (encoder_output,\n",
        "         encoder_state_h,\n",
        "         encoder_state_c) = self.encoder(input_sequence=input_sequence, states=states)\n",
        "        \n",
        "        decoder_output, _, _ = self.decoder(input_sequence=target_sequence,\n",
        "                                            initial_states=[encoder_state_h, encoder_state_c])\n",
        "        output = self.dense(decoder_output)\n",
        "        return output"
      ],
      "execution_count": 44,
      "outputs": []
    },
    {
      "cell_type": "markdown",
      "source": [
        "**Creating data pipeline**"
      ],
      "metadata": {
        "id": "3-DvjG7Hfe2E"
      }
    },
    {
      "cell_type": "code",
      "source": [
        "class Dataset(object):\n",
        "\n",
        "    def __init__(self, data, tokenize_ita, tokenize_eng, max_len):\n",
        "        self.encoder_inps = data['italian'].values\n",
        "        self.decoder_inps = data['english_inp'].values\n",
        "        self.decoder_outs = data['english_out'].values\n",
        "        self.tokenize_ita = tokenize_ita\n",
        "        self.tokenize_eng = tokenize_eng\n",
        "        self.max_len = max_len\n",
        "    \n",
        "    def __getitem__(self, i):\n",
        "        self.encoder_inp_seq = self.tokenize_ita.texts_to_sequences(texts=[self.encoder_inps[i]])\n",
        "        self.decoder_inp_seq = self.tokenize_eng.texts_to_sequences(texts=[self.decoder_inps[i]])\n",
        "        self.decoder_out_seq = self.tokenize_eng.texts_to_sequences(texts=[self.decoder_outs[i]])\n",
        "        self.encoder_inp_seq_padded = pad_sequences(sequences=self.encoder_inp_seq, maxlen=self.max_len, padding='post')\n",
        "        self.decoder_inp_seq_padded = pad_sequences(sequences=self.decoder_inp_seq, maxlen=self.max_len, padding='post')\n",
        "        self.decoder_out_seq_padded = pad_sequences(sequences=self.decoder_out_seq, maxlen=self.max_len, padding='post')\n",
        "        return self.encoder_inp_seq_padded, self.decoder_inp_seq_padded, self.decoder_out_seq_padded\n",
        "    \n",
        "    def __len__(self):\n",
        "        return len(self.encoder_inps)"
      ],
      "metadata": {
        "id": "rODU-ogGfj0V"
      },
      "execution_count": 45,
      "outputs": []
    },
    {
      "cell_type": "code",
      "source": [
        "class DataLoader(tf.keras.utils.Sequence):\n",
        "\n",
        "    def __init__(self, dataset, batch_size=1):\n",
        "        self.dataset = dataset\n",
        "        self.batch_size = batch_size\n",
        "        self.indexes = np.arange(len(self.dataset.encoder_inps))\n",
        "    \n",
        "    def __getitem__(self, i):\n",
        "        start = i * self.batch_size\n",
        "        stop = (i + 1) * self.batch_size\n",
        "        data = []\n",
        "        for j in range(start, stop):\n",
        "            data.append(self.dataset[j])\n",
        "        \n",
        "        batch = [np.squeeze(a=np.stack(arrays=samples, axis=1), axis=0) for samples in zip(*data)]\n",
        "        # We are creating data like ([italian, english_inp], english_out) these are already converted into seq.\n",
        "        return tuple([[batch[0], batch[1]], batch[2]])\n",
        "    \n",
        "    def __len__(self):\n",
        "        return len(self.indexes) // self.batch_size\n",
        "    \n",
        "    def on_epoch_end(self):\n",
        "        self.indexes = np.random.permutation(self.indexes)"
      ],
      "metadata": {
        "id": "mCZYs6_Ufjxk"
      },
      "execution_count": 46,
      "outputs": []
    },
    {
      "cell_type": "code",
      "source": [
        "train_dataset = Dataset(data=train, tokenize_ita=tokenize_ita, tokenize_eng=tokenize_eng, max_len=20)\n",
        "validation_dataset = Dataset(data=validation, tokenize_ita=tokenize_ita, tokenize_eng=tokenize_eng, max_len=20)"
      ],
      "metadata": {
        "id": "J536qhnyfjve"
      },
      "execution_count": 47,
      "outputs": []
    },
    {
      "cell_type": "code",
      "source": [
        "batch_size = 1024"
      ],
      "metadata": {
        "id": "fac1Oq24x6zT"
      },
      "execution_count": 48,
      "outputs": []
    },
    {
      "cell_type": "code",
      "source": [
        "train_dataloader = DataLoader(dataset=train_dataset, batch_size=batch_size)\n",
        "validation_dataloader = DataLoader(dataset=validation_dataset, batch_size=batch_size)"
      ],
      "metadata": {
        "id": "q2gLVNDsfjtc"
      },
      "execution_count": 49,
      "outputs": []
    },
    {
      "cell_type": "code",
      "source": [
        "print(train_dataloader[0][0][0].shape, train_dataloader[0][0][1].shape, train_dataloader[0][1].shape)\n",
        "print(validation_dataloader[0][0][0].shape, validation_dataloader[0][0][1].shape, validation_dataloader[0][1].shape)"
      ],
      "metadata": {
        "id": "c3P0R7jIfjrW",
        "colab": {
          "base_uri": "https://localhost:8080/"
        },
        "outputId": "be6ec039-8425-4580-e4b5-b7a8c325a0de"
      },
      "execution_count": 50,
      "outputs": [
        {
          "output_type": "stream",
          "name": "stdout",
          "text": [
            "(1024, 20) (1024, 20) (1024, 20)\n",
            "(1024, 20) (1024, 20) (1024, 20)\n"
          ]
        }
      ]
    },
    {
      "cell_type": "code",
      "metadata": {
        "id": "kcL61dJXLOfB"
      },
      "source": [
        "# Create an object of EncoderDecoderModel class\n",
        "# Compile the model and fit the model\n",
        "\n",
        "model = EncoderDecoderModel(inp_vocab_size=vocab_size_ita+1,\n",
        "                            out_vocab_size=vocab_size_eng+1,\n",
        "                            encoder_input_length=20,\n",
        "                            decoder_input_length=20)"
      ],
      "execution_count": 51,
      "outputs": []
    },
    {
      "cell_type": "code",
      "source": [
        "optimizer = tf.keras.optimizers.Adam()\n",
        "model.compile(optimizer=optimizer, loss='sparse_categorical_crossentropy', metrics=['accuracy'])"
      ],
      "metadata": {
        "id": "9E5DJuxa0BHj"
      },
      "execution_count": 52,
      "outputs": []
    },
    {
      "cell_type": "code",
      "source": [
        "epochs = 32\n",
        "steps_per_epoch = train.shape[0] // batch_size\n",
        "validation_steps = validation.shape[0] // batch_size\n",
        "\n",
        "tracker = model.fit(x=train_dataloader,\n",
        "                    steps_per_epoch=steps_per_epoch,\n",
        "                    epochs=epochs,\n",
        "                    validation_data=validation_dataloader,\n",
        "                    validation_steps=validation_steps)"
      ],
      "metadata": {
        "id": "sLSjvgifz1eq",
        "colab": {
          "base_uri": "https://localhost:8080/"
        },
        "outputId": "67783935-330a-43c0-de92-11754102c02e"
      },
      "execution_count": 53,
      "outputs": [
        {
          "output_type": "stream",
          "name": "stdout",
          "text": [
            "Epoch 1/32\n",
            "279/279 [==============================] - 65s 202ms/step - loss: 1.9337 - accuracy: 0.1731 - val_loss: 1.6739 - val_accuracy: 0.2041\n",
            "Epoch 2/32\n",
            "279/279 [==============================] - 57s 203ms/step - loss: 1.5790 - accuracy: 0.2348 - val_loss: 1.4829 - val_accuracy: 0.2724\n",
            "Epoch 3/32\n",
            "279/279 [==============================] - 57s 203ms/step - loss: 1.4010 - accuracy: 0.3112 - val_loss: 1.3155 - val_accuracy: 0.3411\n",
            "Epoch 4/32\n",
            "279/279 [==============================] - 57s 204ms/step - loss: 1.2463 - accuracy: 0.3692 - val_loss: 1.1819 - val_accuracy: 0.3938\n",
            "Epoch 5/32\n",
            "279/279 [==============================] - 57s 203ms/step - loss: 1.1236 - accuracy: 0.4200 - val_loss: 1.0754 - val_accuracy: 0.4386\n",
            "Epoch 6/32\n",
            "279/279 [==============================] - 57s 203ms/step - loss: 1.0228 - accuracy: 0.4647 - val_loss: 0.9880 - val_accuracy: 0.4797\n",
            "Epoch 7/32\n",
            "279/279 [==============================] - 57s 203ms/step - loss: 0.9359 - accuracy: 0.5042 - val_loss: 0.9100 - val_accuracy: 0.5150\n",
            "Epoch 8/32\n",
            "279/279 [==============================] - 57s 204ms/step - loss: 0.8580 - accuracy: 0.5379 - val_loss: 0.8413 - val_accuracy: 0.5451\n",
            "Epoch 9/32\n",
            "279/279 [==============================] - 57s 203ms/step - loss: 0.7912 - accuracy: 0.5659 - val_loss: 0.7840 - val_accuracy: 0.5696\n",
            "Epoch 10/32\n",
            "279/279 [==============================] - 57s 204ms/step - loss: 0.7331 - accuracy: 0.5905 - val_loss: 0.7362 - val_accuracy: 0.5905\n",
            "Epoch 11/32\n",
            "279/279 [==============================] - 57s 203ms/step - loss: 0.6811 - accuracy: 0.6127 - val_loss: 0.6906 - val_accuracy: 0.6104\n",
            "Epoch 12/32\n",
            "279/279 [==============================] - 57s 203ms/step - loss: 0.6340 - accuracy: 0.6331 - val_loss: 0.6498 - val_accuracy: 0.6282\n",
            "Epoch 13/32\n",
            "279/279 [==============================] - 57s 204ms/step - loss: 0.5907 - accuracy: 0.6529 - val_loss: 0.6140 - val_accuracy: 0.6451\n",
            "Epoch 14/32\n",
            "279/279 [==============================] - 57s 203ms/step - loss: 0.5508 - accuracy: 0.6715 - val_loss: 0.5805 - val_accuracy: 0.6610\n",
            "Epoch 15/32\n",
            "279/279 [==============================] - 57s 203ms/step - loss: 0.5140 - accuracy: 0.6892 - val_loss: 0.5496 - val_accuracy: 0.6755\n",
            "Epoch 16/32\n",
            "279/279 [==============================] - 57s 204ms/step - loss: 0.4805 - accuracy: 0.7059 - val_loss: 0.5211 - val_accuracy: 0.6919\n",
            "Epoch 17/32\n",
            "279/279 [==============================] - 57s 204ms/step - loss: 0.4490 - accuracy: 0.7220 - val_loss: 0.4957 - val_accuracy: 0.7044\n",
            "Epoch 18/32\n",
            "279/279 [==============================] - 57s 204ms/step - loss: 0.4208 - accuracy: 0.7368 - val_loss: 0.4737 - val_accuracy: 0.7160\n",
            "Epoch 19/32\n",
            "279/279 [==============================] - 57s 204ms/step - loss: 0.3952 - accuracy: 0.7506 - val_loss: 0.4540 - val_accuracy: 0.7266\n",
            "Epoch 20/32\n",
            "279/279 [==============================] - 57s 204ms/step - loss: 0.3722 - accuracy: 0.7632 - val_loss: 0.4361 - val_accuracy: 0.7356\n",
            "Epoch 21/32\n",
            "279/279 [==============================] - 57s 204ms/step - loss: 0.3509 - accuracy: 0.7750 - val_loss: 0.4187 - val_accuracy: 0.7455\n",
            "Epoch 22/32\n",
            "279/279 [==============================] - 57s 204ms/step - loss: 0.3316 - accuracy: 0.7861 - val_loss: 0.4043 - val_accuracy: 0.7540\n",
            "Epoch 23/32\n",
            "279/279 [==============================] - 57s 204ms/step - loss: 0.3142 - accuracy: 0.7960 - val_loss: 0.3918 - val_accuracy: 0.7605\n",
            "Epoch 24/32\n",
            "279/279 [==============================] - 57s 204ms/step - loss: 0.2978 - accuracy: 0.8057 - val_loss: 0.3792 - val_accuracy: 0.7686\n",
            "Epoch 25/32\n",
            "279/279 [==============================] - 57s 203ms/step - loss: 0.2832 - accuracy: 0.8141 - val_loss: 0.3685 - val_accuracy: 0.7755\n",
            "Epoch 26/32\n",
            "279/279 [==============================] - 57s 203ms/step - loss: 0.2695 - accuracy: 0.8223 - val_loss: 0.3597 - val_accuracy: 0.7798\n",
            "Epoch 27/32\n",
            "279/279 [==============================] - 57s 204ms/step - loss: 0.2570 - accuracy: 0.8295 - val_loss: 0.3492 - val_accuracy: 0.7869\n",
            "Epoch 28/32\n",
            "279/279 [==============================] - 57s 204ms/step - loss: 0.2451 - accuracy: 0.8368 - val_loss: 0.3419 - val_accuracy: 0.7905\n",
            "Epoch 29/32\n",
            "279/279 [==============================] - 57s 204ms/step - loss: 0.2344 - accuracy: 0.8433 - val_loss: 0.3346 - val_accuracy: 0.7948\n",
            "Epoch 30/32\n",
            "279/279 [==============================] - 57s 204ms/step - loss: 0.2244 - accuracy: 0.8492 - val_loss: 0.3272 - val_accuracy: 0.7999\n",
            "Epoch 31/32\n",
            "279/279 [==============================] - 57s 204ms/step - loss: 0.2152 - accuracy: 0.8550 - val_loss: 0.3209 - val_accuracy: 0.8038\n",
            "Epoch 32/32\n",
            "279/279 [==============================] - 57s 204ms/step - loss: 0.2067 - accuracy: 0.8600 - val_loss: 0.3157 - val_accuracy: 0.8074\n"
          ]
        }
      ]
    },
    {
      "cell_type": "code",
      "source": [
        "model.summary()"
      ],
      "metadata": {
        "id": "ITePfodwz2pL",
        "colab": {
          "base_uri": "https://localhost:8080/"
        },
        "outputId": "775e0a16-fce6-47d5-a629-85dddfb63e00"
      },
      "execution_count": 54,
      "outputs": [
        {
          "output_type": "stream",
          "name": "stdout",
          "text": [
            "Model: \"encoder_decoder_model\"\n",
            "_________________________________________________________________\n",
            " Layer (type)                Output Shape              Param #   \n",
            "=================================================================\n",
            " encoder_1 (Encoder)         multiple                  1433398   \n",
            "                                                                 \n",
            " decoder_1 (Decoder)         multiple                  1434748   \n",
            "                                                                 \n",
            " dense (Dense)               multiple                  1699575   \n",
            "                                                                 \n",
            "=================================================================\n",
            "Total params: 4,567,721\n",
            "Trainable params: 4,567,721\n",
            "Non-trainable params: 0\n",
            "_________________________________________________________________\n"
          ]
        }
      ]
    },
    {
      "cell_type": "code",
      "source": [
        "tf.keras.utils.plot_model(model=model,\n",
        "                          to_file='model_1.png',\n",
        "                          show_shapes=True,\n",
        "                          show_layer_names=True,\n",
        "                          expand_nested=False)"
      ],
      "metadata": {
        "id": "mpiFJjBPTKYK",
        "colab": {
          "base_uri": "https://localhost:8080/",
          "height": 77
        },
        "outputId": "741f383f-9666-4d5a-ee56-fb66349acd95"
      },
      "execution_count": 55,
      "outputs": [
        {
          "output_type": "execute_result",
          "data": {
            "image/png": "[encoded data removed]",
            "text/plain": [
              "<IPython.core.display.Image object>"
            ]
          },
          "metadata": {},
          "execution_count": 55
        }
      ]
    },
    {
      "cell_type": "code",
      "source": [
        "model.save_weights('/content/drive/MyDrive/Applied-AI/Assignment-31/seq2seq_encoder_decoder_model_1.h5')"
      ],
      "metadata": {
        "id": "eLR78mqWNCpw"
      },
      "execution_count": 56,
      "outputs": []
    },
    {
      "cell_type": "code",
      "source": [
        "tracker.history.keys()"
      ],
      "metadata": {
        "id": "Qtzn3-mhQKi1",
        "colab": {
          "base_uri": "https://localhost:8080/"
        },
        "outputId": "f95c7e10-b4ca-4fbc-9ed9-44d25e240f6d"
      },
      "execution_count": 57,
      "outputs": [
        {
          "output_type": "execute_result",
          "data": {
            "text/plain": [
              "dict_keys(['loss', 'accuracy', 'val_loss', 'val_accuracy'])"
            ]
          },
          "metadata": {},
          "execution_count": 57
        }
      ]
    },
    {
      "cell_type": "code",
      "source": [
        "def plot_model_performance(tracker, epochs):\n",
        "    plt.figure(figsize=(18, 6))\n",
        "\n",
        "    plt.subplot(121)\n",
        "    plt.plot(range(1, epochs+1), tracker.history['accuracy'], 'r--', label='train')\n",
        "    plt.plot(range(1, epochs+1), tracker.history['val_accuracy'], 'g--', label='validation')\n",
        "    plt.title('Accuracy Plot')\n",
        "    plt.xlabel(xlabel='Epochs')\n",
        "    plt.ylabel(ylabel='Accuracy')\n",
        "    plt.legend()\n",
        "    plt.grid()\n",
        "\n",
        "    plt.subplot(122)\n",
        "    plt.plot(range(1, epochs+1), tracker.history['loss'], 'r--', label='train')\n",
        "    plt.plot(range(1, epochs+1), tracker.history['val_loss'], 'g--', label='validation')\n",
        "    plt.title('Loss Plot')\n",
        "    plt.xlabel(xlabel='Epochs')\n",
        "    plt.ylabel(ylabel='Loss')\n",
        "    plt.legend()\n",
        "    plt.grid()\n",
        "\n",
        "    plt.show()"
      ],
      "metadata": {
        "id": "YTVse3h1b1lM"
      },
      "execution_count": 58,
      "outputs": []
    },
    {
      "cell_type": "code",
      "source": [
        "plot_model_performance(tracker=tracker, epochs=epochs)"
      ],
      "metadata": {
        "id": "6N41FIcCQXwZ",
        "colab": {
          "base_uri": "https://localhost:8080/",
          "height": 408
        },
        "outputId": "7df0952f-2c9a-4239-cfda-c9c1f6a6c378"
      },
      "execution_count": 59,
      "outputs": [
        {
          "output_type": "display_data",
          "data": {
            "text/plain": [
              "<Figure size 1296x432 with 2 Axes>"
            ],
            "image/png": "[encoded data removed]"
          },
          "metadata": {
            "needs_background": "light"
          }
        }
      ]
    },
    {
      "cell_type": "code",
      "source": [
        "ita_index_to_words = {v : k for k, v in tokenize_ita.word_index.items()}\n",
        "eng_index_to_words = {v : k for k, v in tokenize_eng.word_index.items()}"
      ],
      "metadata": {
        "id": "k4JrjstodulM"
      },
      "execution_count": 60,
      "outputs": []
    },
    {
      "cell_type": "code",
      "metadata": {
        "id": "SkARSlZgLOfE"
      },
      "source": [
        "def predict(input_sentence):\n",
        "    '''\n",
        "    A. Given input sentence, convert the sentence into integers using tokenizer used earlier\n",
        "    B. Pass the input_sequence to encoder, we get encoder_outputs, last time step hidden and cell state\n",
        "    C. Initialize index of <start> as input to decoder. and encoder final states as input_states to decoder\n",
        "    D. Till we reach max_length of decoder or till the model predicted word <end>:\n",
        "        predicted_out, state_h, state_c = model.layers[1](dec_input, states)\n",
        "        pass the predicted_out to the dense layer\n",
        "        update the states = [state_h, state_c]\n",
        "        And get the index of the word with maximum probability of the dense layer output, \n",
        "            using the tokenizer(word index) get the word and then store it in a string.\n",
        "        Update the input_to_decoder with current predictions\n",
        "    F. Return the predicted sentence\n",
        "    '''\n",
        "    input_sentence = '<start> ' + input_sentence + ' <end>'\n",
        "    input_sequence = tokenize_ita.texts_to_sequences(texts=[input_sentence])\n",
        "    input_sequence_padded = pad_sequences(sequences=input_sequence, maxlen=20, padding='post')\n",
        "\n",
        "    input_vocab_size = vocab_size_ita + 1\n",
        "    \n",
        "    # initializing the encoder\n",
        "    encoder = Encoder(inp_vocab_size=input_vocab_size, embedding_size=50, lstm_size=128, input_length=20)\n",
        "    # initializing the dummy states\n",
        "    initial_states = encoder.initialize_states(batch_size=32)\n",
        "    # getting the outputs and states from the learned model's encoder layer\n",
        "    encoder_output, encoder_state_h, encoder_state_c = model.layers[0](input_sequence=input_sequence_padded,\n",
        "                                                                       states=initial_states)\n",
        "    \n",
        "    # decoder start index\n",
        "    decoder_start_index = np.array([[tokenize_eng.word_index['<start>']]])\n",
        "    # decoder's initial states which are encoder's final states\n",
        "    decoder_initial_states = [encoder_state_h, encoder_state_c]\n",
        "    \n",
        "    predicted_words = []\n",
        "    while True:\n",
        "        # passing the <start> index to the learned model's decoder embedding layer\n",
        "        target_embedded = model.layers[1].embedding(decoder_start_index)\n",
        "        # getting the outputs and states\n",
        "        decoder_output, decoder_state_h, decoder_state_c = model.layers[1].lstm(target_embedded, decoder_initial_states)\n",
        "        \n",
        "        # getting the inference output from the learned model's dense layer by passing the decoder output\n",
        "        inference_output = model.layers[2](decoder_output)\n",
        "        # updating the states\n",
        "        decoder_initial_states = [decoder_state_h, decoder_state_c]\n",
        "\n",
        "        # predicting the vector\n",
        "        predicted_vec = np.reshape(a=np.argmax(inference_output), newshape=(1, 1))\n",
        "        # updating the start index\n",
        "        decoder_start_index = predicted_vec\n",
        "\n",
        "        predicted_words.append(eng_index_to_words[predicted_vec[0][0]])\n",
        "\n",
        "        if predicted_words[-1] == '<end>' or len(predicted_words) >= 20:\n",
        "            break\n",
        "    \n",
        "    return \" \".join(predicted_words[:-1])"
      ],
      "execution_count": 61,
      "outputs": []
    },
    {
      "cell_type": "code",
      "source": [
        "input_sentence = 'ogni giorno ha il suo amore e dolore'\n",
        "print(\"Original: {}\".format(input_sentence))\n",
        "\n",
        "output_sentence = predict(input_sentence)\n",
        "print(\"Translated: {}\".format(output_sentence))"
      ],
      "metadata": {
        "id": "vKBrCakbc3FQ",
        "colab": {
          "base_uri": "https://localhost:8080/"
        },
        "outputId": "83b0bc05-f597-4dce-a41e-9311e1cf401e"
      },
      "execution_count": 62,
      "outputs": [
        {
          "output_type": "stream",
          "name": "stdout",
          "text": [
            "Original: ogni giorno ha il suo amore e dolore\n",
            "Translated: every day is your birthday and\n"
          ]
        }
      ]
    },
    {
      "cell_type": "code",
      "source": [
        "import nltk.translate.bleu_score as bleu"
      ],
      "metadata": {
        "id": "keWSpQuYgPZV"
      },
      "execution_count": 63,
      "outputs": []
    },
    {
      "cell_type": "code",
      "metadata": {
        "id": "996pFO8BLOfG"
      },
      "source": [
        "# Predict on 1000 random sentences on test data and calculate the average BLEU score of these sentences.\n",
        "# https://www.nltk.org/_modules/nltk/translate/bleu_score.html\n",
        "\n",
        "def calculate_bleu(y_true, y_pred):\n",
        "    y_true = y_true.strip().split()\n",
        "    y_pred = y_pred.strip().split()\n",
        "    return bleu.sentence_bleu(references=[y_true], hypothesis=y_pred)"
      ],
      "execution_count": 64,
      "outputs": []
    },
    {
      "cell_type": "code",
      "source": [
        "def compute_score_on_data(data, n=100):\n",
        "    data = data.sample(n=n)\n",
        "    predictions = [predict(input_sentence=i) for i in data['italian'].values]\n",
        "    # print(predictions)\n",
        "    actuals = data['english_out'].apply(func=lambda x : x.replace('<end>', '')).values\n",
        "    # print(actuals)\n",
        "    score = np.mean(a=[calculate_bleu(y_true=y_true, y_pred=y_pred) for (y_true, y_pred) in zip(actuals, predictions)])\n",
        "    return score"
      ],
      "metadata": {
        "id": "2dlBDjvIfwN_"
      },
      "execution_count": 65,
      "outputs": []
    },
    {
      "cell_type": "code",
      "source": [
        "compute_score_on_data(data=validation)"
      ],
      "metadata": {
        "id": "jAlhNMSGiovT",
        "colab": {
          "base_uri": "https://localhost:8080/"
        },
        "outputId": "5689210f-c522-4bba-be16-4b775e21c62f"
      },
      "execution_count": 66,
      "outputs": [
        {
          "output_type": "execute_result",
          "data": {
            "text/plain": [
              "0.3927572875999505"
            ]
          },
          "metadata": {},
          "execution_count": 66
        }
      ]
    },
    {
      "cell_type": "markdown",
      "metadata": {
        "id": "CxWFDxZXLOfJ"
      },
      "source": [
        "--- "
      ]
    },
    {
      "cell_type": "markdown",
      "metadata": {
        "id": "yZhX3K9GLOfJ"
      },
      "source": [
        "## Task -2: Including Attention mechanisum"
      ]
    },
    {
      "cell_type": "markdown",
      "metadata": {
        "id": "Q3d7GeBMGbsJ"
      },
      "source": [
        "1. Use the preprocessed data from Task-1\n",
        "\n",
        "2. You have to implement an Encoder and Decoder architecture with  \n",
        "attention as discussed in the reference notebook.\n",
        "\n",
        "    * Encoder   - with 1 layer LSTM <br>\n",
        "    * Decoder   - with 1 layer LSTM<br>\n",
        "    * attention -  (Please refer the <a href= 'https://drive.google.com/file/d/1z_bnc-3aubKawbR6q8wyI6Mh5ho2R1aZ/view?usp=sharing'>**reference notebook**</a> to know more about the attention mechanism.)\n",
        "3. In Global attention, we have 3 types of scoring functions(as discussed in the reference notebook).\n",
        " As a part of this assignment **you need to create 3 models for each scoring function**\n",
        "<img src='https://i.imgur.com/iD2jZo3.png'>\n",
        "\n",
        "    * In model 1 you need to implemnt \"dot\" score function\n",
        "    * In model 2 you need to implemnt \"general\" score function\n",
        "    * In model 3 you need to implemnt \"concat\" score function.<br>\n",
        "    \n",
        " **Please do add the markdown titles for each model so that we can have a better look at the code and verify.**\n",
        "4. It is mandatory to train the model with simple model.fit() only, Donot train the model with custom GradientTape()\n",
        "\n",
        "5. Using attention weights, you can plot the attention plots, \n",
        "please plot those for 2-3 examples. You can check about those in <a href=\"https://www.tensorflow.org/tutorials/text/nmt_with_attention#translate\">this</a>\n",
        "\n",
        "6. The attention layer has to be written by yourself only. \n",
        "The main objective of this assignment is to read and implement a paper on yourself so please do it yourself.  \n",
        "\n",
        "7. Please implement the class **onestepdecoder** as mentioned in the assignment instructions.\n",
        "\n",
        "8. You can use any tf.Keras highlevel API's to build and train the models. \n",
        " Check the reference notebook for better understanding.\n",
        "\n",
        "9. Use BLEU score as metric to evaluate your model. You can use any loss function you need.\n",
        "\n",
        "10. You have to use Tensorboard to plot the Graph, Scores and histograms of gradients. \n",
        "\n",
        "11. Resources:\n",
        "    a. Check the reference notebook\n",
        "    b. <a href=\"https://jalammar.github.io/visualizing-neural-machine-translation-mechanics-of-seq2seq-models-with-attention/\">Resource 1</a>\n",
        "    c. <a href=\"https://www.tensorflow.org/tutorials/text/nmt_with_attention\">Resource 2</a>\n",
        "    d. <a href=\"https://stackoverflow.com/questions/44238154/what-is-the-difference-between-luong-attention-and-bahdanau-attention#:~:text=Luong%20attention%20used%20top%20hidden,hidden%20state%20at%20time%20t.\">Resource 3</a>\n",
        "    "
      ]
    },
    {
      "cell_type": "markdown",
      "metadata": {
        "id": "PU4KIsGxLOfK"
      },
      "source": [
        "### Implement custom encoder decoder and attention layers"
      ]
    },
    {
      "cell_type": "markdown",
      "metadata": {
        "id": "TMm3ADQDLOfK"
      },
      "source": [
        "**Encoder**"
      ]
    },
    {
      "cell_type": "code",
      "metadata": {
        "id": "Lx_5NA24KzRp"
      },
      "source": [
        "class Encoder(tf.keras.Model):\n",
        "    '''\n",
        "    Encoder model -- Takes a input sequence and returns encoder-outputs, encoder_final_state_h, encoder_final_state_c\n",
        "    '''\n",
        "\n",
        "    def __init__(self, inp_vocab_size, embedding_size, lstm_size, input_length):\n",
        "        super().__init__()\n",
        "        self.inp_vocab_size = inp_vocab_size\n",
        "        self.embedding_size = embedding_size\n",
        "        self.lstm_size = lstm_size\n",
        "        self.input_length = input_length\n",
        "        self.lstm_output = 0\n",
        "        self.lstm_state_h = 0\n",
        "        self.lstm_state_c = 0\n",
        "\n",
        "        # Initialize Embedding layer\n",
        "        self.embedding = Embedding(input_dim=inp_vocab_size,\n",
        "                                   output_dim=self.embedding_size,\n",
        "                                   input_length=self.input_length,\n",
        "                                   mask_zero=True,\n",
        "                                   name='Embedding_Layer_Encoder')\n",
        "        \n",
        "        # Intialize encoder LSTM layer\n",
        "        self.lstm = LSTM(units=self.lstm_size, return_state=True, return_sequences=True, name='Encoder_LSTM')\n",
        "\n",
        "    def call(self, input_sequence, states):\n",
        "        '''\n",
        "        This function takes a sequence input and the initial states of the encoder.\n",
        "        Pass the input_sequence input to the Embedding layer, Pass the embedding layer ouput to encoder_lstm\n",
        "        returns -- encoder_output, last time step's hidden and cell state\n",
        "        '''\n",
        "        input_embedded = self.embedding(input_sequence)\n",
        "        self.lstm_output, self.lstm_state_h, self.lstm_state_c = self.lstm(input_embedded)\n",
        "        return self.lstm_output, self.lstm_state_h, self.lstm_state_c\n",
        "\n",
        "    def initialize_states(self, batch_size):\n",
        "      '''\n",
        "      Given a batch size it will return intial hidden state and intial cell state.\n",
        "      If batch size is 32- Hidden state is zeros of size [32, lstm_units], cell state zeros is of size [32, lstm_units]\n",
        "      '''\n",
        "      state_h = tf.zeros(shape=(batch_size, self.lstm_size))\n",
        "      state_c = tf.zeros(shape=(batch_size, self.lstm_size))\n",
        "      return state_h, state_c"
      ],
      "execution_count": 67,
      "outputs": []
    },
    {
      "cell_type": "markdown",
      "metadata": {
        "id": "4ub9aN-hK244"
      },
      "source": [
        "**Grader function - 1**"
      ]
    },
    {
      "cell_type": "code",
      "metadata": {
        "id": "wRoe65b9LB0D"
      },
      "source": [
        "def grader_check_encoder():\n",
        "    '''\n",
        "    vocab-size: Unique words of the input language,\n",
        "    embedding_size: output embedding dimension for each word after embedding layer,\n",
        "    lstm_size: Number of lstm units,\n",
        "    input_length: Length of the input sentence,\n",
        "    batch_size\n",
        "    '''\n",
        "    vocab_size = 10\n",
        "    embedding_size = 20\n",
        "    lstm_size = 32\n",
        "    input_length = 10\n",
        "    batch_size = 16\n",
        "\n",
        "    # Intialzing encoder\n",
        "    encoder = Encoder(inp_vocab_size=vocab_size, embedding_size=embedding_size, lstm_size=lstm_size, input_length=input_length)\n",
        "    input_sequence = tf.random.uniform(shape=[batch_size, input_length], maxval=vocab_size, minval=0, dtype=tf.int32)\n",
        "\n",
        "    # Intializing encoder initial states\n",
        "    initial_state = encoder.initialize_states(batch_size=batch_size)\n",
        "    encoder_output, state_h, state_c = encoder(input_sequence=input_sequence, states=initial_state)\n",
        "    \n",
        "    assert(encoder_output.shape == (batch_size, input_length, lstm_size) and \n",
        "           state_h.shape == (batch_size, lstm_size) and \n",
        "           state_c.shape == (batch_size, lstm_size))\n",
        "    return True"
      ],
      "execution_count": 68,
      "outputs": []
    },
    {
      "cell_type": "code",
      "source": [
        "print(grader_check_encoder())"
      ],
      "metadata": {
        "id": "KbaHuMgACzcx",
        "colab": {
          "base_uri": "https://localhost:8080/"
        },
        "outputId": "93ff4fb5-8c39-4289-b2b7-36765ad7f15f"
      },
      "execution_count": 69,
      "outputs": [
        {
          "output_type": "stream",
          "name": "stdout",
          "text": [
            "True\n"
          ]
        }
      ]
    },
    {
      "cell_type": "markdown",
      "metadata": {
        "id": "lXn278lhLYRM"
      },
      "source": [
        "**Attention**"
      ]
    },
    {
      "cell_type": "code",
      "metadata": {
        "id": "ab5SNdPZLlur"
      },
      "source": [
        "class Attention(tf.keras.layers.Layer):\n",
        "    '''\n",
        "    Class the calculates score based on the scoring_function using Bahdanu attention mechanism.\n",
        "    '''\n",
        "    def __init__(self, scoring_function, att_units):\n",
        "        super().__init__()\n",
        "\n",
        "        # Please go through the reference notebook and research paper to complete the scoring functions\n",
        "        self.scoring_function = scoring_function\n",
        "        self.att_units = att_units\n",
        "\n",
        "        if self.scoring_function == 'dot':\n",
        "            # Intialize variables needed for Dot score function here\n",
        "            pass\n",
        "        \n",
        "        if scoring_function == 'general':\n",
        "            # Intialize variables needed for General score function here\n",
        "            self.W = Dense(units=att_units)\n",
        "\n",
        "        elif scoring_function == 'concat':\n",
        "            # Intialize variables needed for Concat score function here\n",
        "            self.W_1 = Dense(units=self.att_units)\n",
        "            self.W_2 = Dense(units=self.att_units)\n",
        "            self.v = Dense(units=1)\n",
        "\n",
        "\n",
        "    def call(self, decoder_hidden_state, encoder_output):\n",
        "        '''\n",
        "        Attention mechanism takes two inputs current step -- decoder_hidden_state and all the encoder_outputs.\n",
        "        * Based on the scoring function we will find the score or similarity between decoder_hidden_state and encoder_output.\n",
        "        Multiply the score function with your encoder_outputs to get the context vector.\n",
        "        Function returns context vector and attention weights(softmax - scores)\n",
        "        '''\n",
        "        \n",
        "        # decder_hidden_state → h_s; encode_output → h_t\n",
        "        # the shape of decoder_hidden_state is [batch_size, att_units]\n",
        "        # the shape of encoder_output is [batch_size, input_length, att_units]\n",
        "\n",
        "        if (self.scoring_function == 'dot'):\n",
        "            # Implement Dot score function here\n",
        "            score  = tf.keras.layers.Dot(axes=(1, 2))([decoder_hidden_state, encoder_output])\n",
        "            \n",
        "            attention_weights = tf.nn.softmax(score)\n",
        "            attention_weights =  tf.expand_dims(attention_weights, -1)\n",
        "            \n",
        "            context_vector = tf.multiply(attention_weights, encoder_output)\n",
        "            context_vector = tf.reduce_sum(context_vector, axis=1)\n",
        "            \n",
        "            return context_vector, attention_weights\n",
        "        \n",
        "        elif (self.scoring_function == 'general'):\n",
        "            # Implement General score function here\n",
        "            decoder_hidden_state = tf.keras.layers.Reshape((decoder_hidden_state.shape[1], 1))(decoder_hidden_state)\n",
        "            score = tf.keras.layers.dot([self.W(encoder_output), decoder_hidden_state], axes=[2, 1])\n",
        "\n",
        "            attention_weights  = tf.keras.activations.softmax(score)\n",
        "            \n",
        "            context_vector = tf.multiply(attention_weights, encoder_output)\n",
        "            context_vector = tf.reduce_sum(context_vector, axis=1)\n",
        "\n",
        "            return context_vector, attention_weights\n",
        "        \n",
        "        elif (self.scoring_function == 'concat'):\n",
        "            # Implement General score function here\n",
        "\n",
        "            # expand the dimensions of decoder_hidden_state on axis 1\n",
        "            decoder_hidden_state_with_time = tf.expand_dims(decoder_hidden_state, 1)\n",
        "            score = self.v(tf.nn.tanh(self.W_1(decoder_hidden_state_with_time) + self.W_2(encoder_output)))\n",
        "        \n",
        "            attention_weights = tf.keras.activations.softmax(score)\n",
        "            context_vector = attention_weights * encoder_output\n",
        "            context_vector = tf.reduce_sum(context_vector, axis=1)\n",
        "\n",
        "            return context_vector, attention_weights\n",
        "        \n",
        "        return None, None"
      ],
      "execution_count": 70,
      "outputs": []
    },
    {
      "cell_type": "markdown",
      "metadata": {
        "id": "ExQDlxI9LuqK"
      },
      "source": [
        "**Grader function - 2**"
      ]
    },
    {
      "cell_type": "code",
      "metadata": {
        "id": "51x50h_TLrl9"
      },
      "source": [
        "def grader_check_attention(scoring_fun):\n",
        "    \n",
        "    ''' \n",
        "    att_units: Used in matrix multiplications for scoring functions,\n",
        "    input_length: Length of the input sentence,\n",
        "    batch_size\n",
        "    '''\n",
        "    \n",
        "    input_length = 10\n",
        "    batch_size = 16\n",
        "    att_units = 32\n",
        "    \n",
        "    state_h = tf.random.uniform(shape=[batch_size, att_units])\n",
        "    encoder_output = tf.random.uniform(shape=[batch_size, input_length, att_units])\n",
        "    attention = Attention(scoring_fun, att_units)\n",
        "    context_vector, attention_weights = attention(state_h, encoder_output)\n",
        "    assert(context_vector.shape == (batch_size, att_units) and attention_weights.shape == (batch_size, input_length, 1))\n",
        "    return True"
      ],
      "execution_count": 71,
      "outputs": []
    },
    {
      "cell_type": "code",
      "source": [
        "print(grader_check_attention('dot'))\n",
        "print(grader_check_attention('general'))\n",
        "print(grader_check_attention('concat'))"
      ],
      "metadata": {
        "id": "8GKdlvQ66Zuz",
        "colab": {
          "base_uri": "https://localhost:8080/"
        },
        "outputId": "9322fc4c-eb1d-4a5f-f92f-32d75bd69a57"
      },
      "execution_count": 72,
      "outputs": [
        {
          "output_type": "stream",
          "name": "stdout",
          "text": [
            "True\n",
            "True\n",
            "True\n"
          ]
        }
      ]
    },
    {
      "cell_type": "markdown",
      "metadata": {
        "id": "ic-FNEbfL2DN"
      },
      "source": [
        "**OneStepDecoder**"
      ]
    },
    {
      "cell_type": "code",
      "metadata": {
        "id": "Kc8m7lmOL097"
      },
      "source": [
        "class OneStepDecoder(tf.keras.Model):\n",
        "    def __init__(self, tar_vocab_size, embedding_dim, input_length, dec_units, score_fun, att_units):\n",
        "        super().__init__()\n",
        "\n",
        "        self.tar_vocab_size = tar_vocab_size\n",
        "        self.embedding_dim = embedding_dim\n",
        "        self.input_length = input_length\n",
        "        self.dec_units = dec_units\n",
        "        self.score_fun = score_fun\n",
        "        self.att_units = att_units\n",
        "\n",
        "        # Initialize decoder embedding layer, LSTM and any other objects needed\n",
        "        self.embedding = Embedding(\n",
        "            input_dim=self.tar_vocab_size,\n",
        "            output_dim=self.embedding_dim,\n",
        "            input_length=self.input_length,\n",
        "            name=\"Embedding_Layer_OneStepDecoder\"\n",
        "        )\n",
        "\n",
        "        # Intialize Decoder LSTM layer\n",
        "        self.lstm = LSTM(\n",
        "            units=self.dec_units,\n",
        "            return_state=True,\n",
        "            return_sequences=True,\n",
        "            name=\"OneStepDecoder_LSTM\"\n",
        "        )\n",
        "\n",
        "        # Intialize dense layer\n",
        "        self.dense = Dense(self.tar_vocab_size, activation='softmax')\n",
        "\n",
        "        # Attention\n",
        "        self.attention = Attention(scoring_function=self.score_fun, att_units=self.att_units)\n",
        " \n",
        "    def call(self, input_to_decoder, encoder_output, state_h, state_c):\n",
        "        '''\n",
        "        One step decoder mechanisim step by step:\n",
        "        A. Pass the input_to_decoder to the embedding layer and then get the output(batch_size,1,embedding_dim)\n",
        "        B. Using the encoder_output and decoder hidden state, compute the context vector.\n",
        "        C. Concat the context vector with the step A output\n",
        "        D. Pass the Step-C output to LSTM/GRU and get the decoder output and states(hidden and cell state)\n",
        "        E. Pass the decoder output to dense layer(vocab size) and store the result into output.\n",
        "        F. Return the states from step D, output from Step E, attention weights from Step -B\n",
        "        '''\n",
        "        # A\n",
        "        target_embedd = self.embedding(input_to_decoder)\n",
        "        # B\n",
        "        context_vector, attention_weights = self.attention(state_h, encoder_output)\n",
        "        # C\n",
        "        target_context_concat = tf.concat([tf.expand_dims(context_vector, 1), target_embedd], axis=-1)\n",
        "        # D\n",
        "        initial_states = [state_h, state_c]\n",
        "        decoder_output, decoder_hidden_state, decoder_cell_state = self.lstm(target_context_concat, initial_state=initial_states)\n",
        "        # E\n",
        "        output = self.dense(decoder_output)\n",
        "        output = tf.squeeze(output, 1)\n",
        "\n",
        "        # F\n",
        "        return output, decoder_hidden_state, decoder_cell_state, attention_weights, context_vector"
      ],
      "execution_count": 73,
      "outputs": []
    },
    {
      "cell_type": "markdown",
      "metadata": {
        "id": "R_I8I4EIMAXq"
      },
      "source": [
        "**Grader function - 3**"
      ]
    },
    {
      "cell_type": "code",
      "metadata": {
        "id": "uLEXhChnMC1k"
      },
      "source": [
        "def grader_onestepdecoder(score_fun):\n",
        "    '''\n",
        "    tar_vocab_size: Unique words of the target language,\n",
        "    embedding_dim: output embedding dimension for each word after embedding layer,\n",
        "    dec_units: Number of lstm units in decoder,\n",
        "    att_units: Used in matrix multiplications for scoring functions in attention class,\n",
        "    input_length: Length of the target sentence, \n",
        "    batch_size\n",
        "    '''\n",
        "    tar_vocab_size = 13 \n",
        "    embedding_dim = 12 \n",
        "    input_length = 10\n",
        "    dec_units = 16 \n",
        "    att_units = 16\n",
        "    batch_size = 32\n",
        "    \n",
        "    onestepdecoder = OneStepDecoder(tar_vocab_size, embedding_dim, input_length, dec_units, score_fun, att_units)\n",
        "    \n",
        "    input_to_decoder = tf.random.uniform(shape=(batch_size, 1), maxval=10, minval=0, dtype=tf.int32)\n",
        "    encoder_output = tf.random.uniform(shape=[batch_size, input_length, dec_units])\n",
        "    state_h = tf.random.uniform(shape=[batch_size, dec_units])\n",
        "    state_c = tf.random.uniform(shape=[batch_size, dec_units])\n",
        "    (output,\n",
        "     state_h,\n",
        "     state_c,\n",
        "     attention_weights,\n",
        "     context_vector) = onestepdecoder(input_to_decoder, encoder_output, state_h, state_c)\n",
        "    \n",
        "    assert(output.shape == (batch_size, tar_vocab_size))\n",
        "    assert(state_h.shape == (batch_size, dec_units))\n",
        "    assert(state_c.shape == (batch_size, dec_units))\n",
        "    assert(attention_weights.shape == (batch_size, input_length, 1))\n",
        "    assert(context_vector.shape == (batch_size, dec_units))\n",
        "    \n",
        "    return True    "
      ],
      "execution_count": 74,
      "outputs": []
    },
    {
      "cell_type": "code",
      "source": [
        "print(grader_onestepdecoder('dot'))\n",
        "print(grader_onestepdecoder('general'))\n",
        "print(grader_onestepdecoder('concat'))"
      ],
      "metadata": {
        "id": "7hDO4LcK7gBe",
        "colab": {
          "base_uri": "https://localhost:8080/"
        },
        "outputId": "10073745-5d08-4661-dd7d-ce265f23e15f"
      },
      "execution_count": 75,
      "outputs": [
        {
          "output_type": "stream",
          "name": "stdout",
          "text": [
            "True\n",
            "True\n",
            "True\n"
          ]
        }
      ]
    },
    {
      "cell_type": "markdown",
      "metadata": {
        "id": "6FHrurjUMGAi"
      },
      "source": [
        "**Decoder**"
      ]
    },
    {
      "cell_type": "code",
      "metadata": {
        "id": "NV-x31rj6Hc4"
      },
      "source": [
        "class Decoder(tf.keras.Model):\n",
        "    def __init__(self, out_vocab_size, embedding_dim, input_length, dec_units, score_fun, att_units):\n",
        "        super().__init__()\n",
        "\n",
        "        # Intialize necessary variables\n",
        "        # Create an object from the class onestepdecoder\n",
        "        self.onestepdecoder = OneStepDecoder(out_vocab_size, embedding_dim, input_length, dec_units, score_fun, att_units)\n",
        "    \n",
        "    def call(self, input_to_decoder, encoder_output, decoder_hidden_state, decoder_cell_state):\n",
        "\n",
        "        # Initialize an empty Tensor array, that will store the outputs at each and every time step\n",
        "        # Create a tensor array as shown in the reference notebook\n",
        "        all_outputs = tf.TensorArray(dtype=tf.float32, size=tf.shape(input_to_decoder)[1], name=\"output_arrays\")\n",
        "        \n",
        "        # Iterate till the length of the decoder input\n",
        "        for timestep in range(tf.shape(input_to_decoder)[1]):\n",
        "            # Call onestepdecoder for each token in decoder_input\n",
        "            output, decoder_hidden_state, decoder_cell_state, attention_weights, context_vector = self.onestepdecoder(\n",
        "                input_to_decoder[:, timestep:timestep+1], encoder_output, decoder_hidden_state, decoder_cell_state\n",
        "            )\n",
        "            \n",
        "            # Store the output in tensorarray\n",
        "            all_outputs = all_outputs.write(timestep, output)\n",
        "        \n",
        "        all_outputs = tf.transpose(all_outputs.stack(), [1, 0, 2])\n",
        "        # Return the tensor array\n",
        "        return all_outputs"
      ],
      "execution_count": 76,
      "outputs": []
    },
    {
      "cell_type": "markdown",
      "metadata": {
        "id": "FxrL-P8bMJH6"
      },
      "source": [
        "**Grader function - 4**"
      ]
    },
    {
      "cell_type": "code",
      "metadata": {
        "id": "rtbx6onFMJXb"
      },
      "source": [
        "def grader_decoder(score_fun):\n",
        "    '''\n",
        "    out_vocab_size: Unique words of the target language,\n",
        "    embedding_dim: output embedding dimension for each word after embedding layer,\n",
        "    dec_units: Number of lstm units in decoder,\n",
        "    att_units: Used in matrix multiplications for scoring functions in attention class,\n",
        "    input_length: Length of the target sentence,\n",
        "    batch_size\n",
        "    '''\n",
        "    out_vocab_size = 13\n",
        "    embedding_dim = 12\n",
        "    input_length = 11\n",
        "    dec_units = 16\n",
        "    att_units = 16\n",
        "    batch_size = 32\n",
        "    \n",
        "    target_sentences = tf.random.uniform(shape=(batch_size, input_length), maxval=10, minval=0, dtype=tf.int32)\n",
        "    encoder_output = tf.random.uniform(shape=[batch_size, input_length, dec_units])\n",
        "    state_h = tf.random.uniform(shape=[batch_size, dec_units])\n",
        "    state_c = tf.random.uniform(shape=[batch_size, dec_units])\n",
        "    \n",
        "    decoder = Decoder(out_vocab_size, embedding_dim, input_length, dec_units ,score_fun ,att_units)\n",
        "    output = decoder(target_sentences, encoder_output, state_h, state_c)\n",
        "    \n",
        "    assert(output.shape == (batch_size, input_length, out_vocab_size))\n",
        "    return True"
      ],
      "execution_count": 77,
      "outputs": []
    },
    {
      "cell_type": "code",
      "source": [
        "print(grader_decoder('dot'))\n",
        "print(grader_decoder('general'))\n",
        "print(grader_decoder('concat'))"
      ],
      "metadata": {
        "id": "ktgGimLC79wP",
        "colab": {
          "base_uri": "https://localhost:8080/"
        },
        "outputId": "7ed08bfd-19c5-4c79-f76b-d7709fec41c7"
      },
      "execution_count": 78,
      "outputs": [
        {
          "output_type": "stream",
          "name": "stdout",
          "text": [
            "True\n",
            "True\n",
            "True\n"
          ]
        }
      ]
    },
    {
      "cell_type": "markdown",
      "metadata": {
        "id": "fC1T1EOoMTqC"
      },
      "source": [
        "**Encoder Decoder model**"
      ]
    },
    {
      "cell_type": "code",
      "metadata": {
        "id": "FfqBIe20MT3D"
      },
      "source": [
        "class EncoderDecoderModel_Attention(tf.keras.Model):\n",
        "    def __init__(self, input_vocab_size, output_vocab_size, encoder_inputs_length, decoder_inputs_length, score_fun, att_units):\n",
        "        # Intialize objects from encoder decoder\n",
        "        super().__init__()\n",
        "        \n",
        "        # Create encoder object\n",
        "        self.encoder = Encoder(inp_vocab_size=input_vocab_size, \n",
        "                               embedding_size=300, \n",
        "                               input_length=encoder_inputs_length, \n",
        "                               lstm_size=100)\n",
        "        \n",
        "        # Create decoder object\n",
        "        self.decoder = Decoder(out_vocab_size=output_vocab_size, \n",
        "                               embedding_dim=300, \n",
        "                               input_length=decoder_inputs_length, \n",
        "                               dec_units=100, \n",
        "                               score_fun=score_fun, \n",
        "                               att_units=att_units)\n",
        "        \n",
        "        # Intialize Dense layer(out_vocab_size) with activation='softmax'\n",
        "        self.dense = Dense(output_vocab_size, activation='softmax')\n",
        "    \n",
        "    def call(self, data):\n",
        "        input_sequence, target_sequence = data[0], data[1]\n",
        "\n",
        "        # Intialize encoder states, Pass the encoder_sequence to the embedding layer\n",
        "        self.states = self.encoder.initialize_states(1024)\n",
        "        encoder_output, encoder_h, encoder_c = self.encoder(input_sequence, self.states)\n",
        "        \n",
        "        # Decoder initial states are encoder final states, Initialize it accordingly\n",
        "        decoder_hidden_state, decoder_cell_state = encoder_h, encoder_c\n",
        "        \n",
        "        # Pass the decoder sequence, encoder_output, decoder states to Decoder\n",
        "        decoder_output = self.decoder(target_sequence, encoder_output, decoder_hidden_state, decoder_cell_state)\n",
        "        \n",
        "        # return the decoder output\n",
        "        return decoder_output"
      ],
      "execution_count": 79,
      "outputs": []
    },
    {
      "cell_type": "markdown",
      "metadata": {
        "id": "WVRxB-FDMJWL"
      },
      "source": [
        "**Custom loss function**"
      ]
    },
    {
      "cell_type": "code",
      "metadata": {
        "id": "QY_3izrXMs8y"
      },
      "source": [
        "#https://www.tensorflow.org/tutorials/text/image_captioning#model\n",
        "loss_object = tf.keras.losses.SparseCategoricalCrossentropy(from_logits=True, reduction='none')\n",
        "\n",
        "\n",
        "def loss_function(real, pred):\n",
        "    \"\"\" \n",
        "    Custom loss function that will not consider the loss for padded zeros.\n",
        "    why are we using this, can't we use simple sparse categorical crossentropy?\n",
        "    Yes, you can use simple sparse categorical crossentropy as loss like we did in task-1. But in this loss function we are ignoring the loss\n",
        "    for the padded zeros. i.e when the input is zero then we donot need to worry what the output is. This padded zeros are added from our end\n",
        "    during preprocessing to make equal length for all the sentences.\n",
        "    \"\"\"\n",
        "    mask = tf.math.logical_not(tf.math.equal(real, 0))\n",
        "    loss_ = loss_object(real, pred)\n",
        "\n",
        "    mask = tf.cast(mask, dtype=loss_.dtype)\n",
        "    loss_ *= mask\n",
        "\n",
        "    return tf.reduce_mean(loss_)"
      ],
      "execution_count": 80,
      "outputs": []
    },
    {
      "cell_type": "markdown",
      "metadata": {
        "id": "2QlbWAqNNlqe"
      },
      "source": [
        "**Training**"
      ]
    },
    {
      "cell_type": "code",
      "metadata": {
        "id": "fgyWwZWeMxGQ"
      },
      "source": [
        "def train_attention_models(score_fun, epochs):\n",
        "    model = EncoderDecoderModel_Attention(input_vocab_size=vocab_size_ita + 1, \n",
        "                                          output_vocab_size=vocab_size_eng + 1, \n",
        "                                          encoder_inputs_length=20, \n",
        "                                          decoder_inputs_length=20, \n",
        "                                          score_fun=score_fun, \n",
        "                                          att_units=100)\n",
        "\n",
        "    optimizer = tf.keras.optimizers.Adam()\n",
        "    model.compile(optimizer=optimizer, loss='sparse_categorical_crossentropy', metrics=['accuracy'])\n",
        "\n",
        "    steps_per_epoch = train.shape[0] // 1024\n",
        "    validation_steps = validation.shape[0] // 1024\n",
        "\n",
        "    tracker = model.fit(x=train_dataloader,\n",
        "                        steps_per_epoch=steps_per_epoch,\n",
        "                        epochs=epochs, \n",
        "                        validation_data=validation_dataloader,\n",
        "                        validation_steps=validation_steps)\n",
        "    model.summary()\n",
        "\n",
        "    #########\n",
        "    model.save_weights('/content/drive/MyDrive/Applied-AI/Assignment-31/seq2seq_encoder_decoder_model_2{}.h5'.format(score_fun))\n",
        "\n",
        "    return tracker, model"
      ],
      "execution_count": 81,
      "outputs": []
    },
    {
      "cell_type": "markdown",
      "metadata": {
        "id": "e1IhdBrgQYJr"
      },
      "source": [
        "**Predict the sentence translation**"
      ]
    },
    {
      "cell_type": "code",
      "metadata": {
        "id": "MP3kLZoPMvSu"
      },
      "source": [
        "def prediction_by_attention(input_sentence, model):\n",
        "    '''\n",
        "    A. Given input sentence, convert the sentence into integers using tokenizer used earlier\n",
        "    B. Pass the input_sequence to encoder. we get encoder_outputs, last time step hidden and cell state\n",
        "    C. Initialize index of  as input to decoder. and encoder final states as input_states to onestepdecoder.\n",
        "    D. till we reach max_length of decoder or till the model predicted word :\n",
        "            predictions, input_states, attention_weights = model.layers[1].onestepdecoder(input_to_decoder, encoder_output, input_states)\n",
        "            Save the attention weights\n",
        "            And get the word using the tokenizer(word index) and then store it in a string.\n",
        "    E. Call plot_attention(#params)\n",
        "    F. Return the predicted sentence\n",
        "    '''\n",
        "    # input_sentence = '<start>' + input_sentence + '<end>'\n",
        "    input_seq = tokenize_ita.texts_to_sequences([input_sentence])\n",
        "    input_seq = pad_sequences(input_seq, maxlen=20, dtype='int32', padding='post')\n",
        "\n",
        "    input_vocab_size = vocab_size_ita + 1\n",
        "    output_vocab_size = vocab_size_eng + 1\n",
        "\n",
        "    # Intializing encoder initial states\n",
        "    encoder = Encoder(inp_vocab_size=input_vocab_size, embedding_size=100, input_length=20, lstm_size=256)\n",
        "    initial_state = encoder.initialize_states(batch_size=1)\n",
        "    encoder_output, enc_state_h, enc_state_c = model.layers[0](input_seq, initial_state)\n",
        "\n",
        "    dec_state_h = enc_state_h\n",
        "    dec_state_c = enc_state_c\n",
        "\n",
        "    # start index\n",
        "    dec_start_index = np.reshape(tokenize_eng.word_index['<start>'], (1, 1))\n",
        "\n",
        "    pred_words = []\n",
        "    attention_obtained = np.zeros([20, 20])\n",
        "    \n",
        "\n",
        "    i = 0\n",
        "    while True:        \n",
        "        (output,\n",
        "         dec_state_h,\n",
        "         dec_state_c,\n",
        "         attention_weights,\n",
        "         context_vector) = model.layers[1].onestepdecoder(dec_start_index, encoder_output, dec_state_h, dec_state_c)\n",
        "        \n",
        "        dec_state_h = dec_state_h\n",
        "        dec_state_c = dec_state_c\n",
        "        \n",
        "        attention_weights = tf.squeeze(attention_weights)\n",
        "        attention_obtained[i] = attention_weights\n",
        "        \n",
        "        cur_vec = np.reshape(np.argmax(output), (1, 1))\n",
        "        dec_start_index = cur_vec\n",
        "\n",
        "        # print(eng_index_to_words.get(cur_vec[0][0]))\n",
        "        # print(cur_vec)\n",
        "        pred_words.append(eng_index_to_words.get(cur_vec[0][0], ''))\n",
        "        \n",
        "        # finish when `end` token is found or the max length is reached\n",
        "        if pred_words[-1] == '<end>' or len(pred_words) >= 20:\n",
        "            break\n",
        "        \n",
        "        i += 1\n",
        "    \n",
        "    return ' '.join(pred_words[:-1]), attention_obtained"
      ],
      "execution_count": 82,
      "outputs": []
    },
    {
      "cell_type": "markdown",
      "metadata": {
        "id": "6DpC9zlzMcXp"
      },
      "source": [
        "## Inference"
      ]
    },
    {
      "cell_type": "markdown",
      "metadata": {
        "id": "Z5NhESYyMW_t"
      },
      "source": [
        "**Plot attention weights**"
      ]
    },
    {
      "cell_type": "code",
      "metadata": {
        "id": "pkEY7SsBMtrC"
      },
      "source": [
        "def plot_attention(input_sentence, output_sentence, attention):\n",
        "    #Refer: https://www.tensorflow.org/tutorials/text/nmt_with_attention#translate\n",
        "    from matplotlib import ticker\n",
        "    \n",
        "    fig = plt.figure(figsize=(10, 10))\n",
        "    ax = fig.add_subplot(111)\n",
        "    cax = ax.matshow(attention)\n",
        "    fig.colorbar(cax)\n",
        "    fontdict = {'fontsize': 14}\n",
        "    ax.set_xticklabels([''] + input_sentence.split(' '), fontdict=fontdict, rotation=90)\n",
        "    ax.set_yticklabels([''] + output_sentence.split(' '), fontdict=fontdict)\n",
        "    ax.xaxis.set_major_locator(ticker.MultipleLocator(1))\n",
        "    ax.yaxis.set_major_locator(ticker.MultipleLocator(1))\n",
        "    plt.show()\n",
        "    return None"
      ],
      "execution_count": 83,
      "outputs": []
    },
    {
      "cell_type": "markdown",
      "metadata": {
        "id": "jmxIVOOQPWMu"
      },
      "source": [
        "**Calculate BLEU score**"
      ]
    },
    {
      "cell_type": "code",
      "metadata": {
        "id": "pCdGn9ORePP_"
      },
      "source": [
        "# Predict on 1000 random sentences on test data and calculate the average BLEU score of these sentences.\n",
        "# https://www.nltk.org/_modules/nltk/translate/bleu_score.html\n",
        "\n",
        "def calculate_bleu(y_true, y_pred):\n",
        "    y_true = y_true.strip().split()\n",
        "    y_pred = y_pred.strip().split()\n",
        "    return bleu.sentence_bleu(references=[y_true], hypothesis=y_pred)"
      ],
      "execution_count": 84,
      "outputs": []
    },
    {
      "cell_type": "code",
      "source": [
        "def compute_score_on_data(data, model, n=100):\n",
        "    data = data.sample(n=n)\n",
        "    predictions = [prediction_by_attention(input_sentence=i, model=model)[0] for i in data['italian'].values]\n",
        "    # print(predictions)\n",
        "    actuals = data['english_out'].apply(func=lambda x : x.replace('<end>', '')).values\n",
        "    # print(actuals)\n",
        "    score = np.mean(a=[calculate_bleu(y_true=y_true, y_pred=y_pred) for (y_true, y_pred) in zip(actuals, predictions)])\n",
        "    return score"
      ],
      "metadata": {
        "id": "wKR344IJePQA"
      },
      "execution_count": 85,
      "outputs": []
    },
    {
      "cell_type": "markdown",
      "metadata": {
        "id": "wqtZUQF2NuZE"
      },
      "source": [
        "Implement dot function here."
      ]
    },
    {
      "cell_type": "code",
      "source": [
        "epochs = 32\n",
        "tracker_dot, model_dot = train_attention_models(score_fun='dot', epochs=epochs)"
      ],
      "metadata": {
        "id": "8sY90GDNbXFV",
        "colab": {
          "base_uri": "https://localhost:8080/"
        },
        "outputId": "6d406eaa-cf94-4b21-e3ff-b6865a5b1ae3"
      },
      "execution_count": 86,
      "outputs": [
        {
          "output_type": "stream",
          "name": "stdout",
          "text": [
            "Epoch 1/32\n",
            "279/279 [==============================] - 146s 500ms/step - loss: 2.7406 - accuracy: 0.6672 - val_loss: 1.7707 - val_accuracy: 0.7169\n",
            "Epoch 2/32\n",
            "279/279 [==============================] - 138s 494ms/step - loss: 1.6460 - accuracy: 0.7345 - val_loss: 1.5243 - val_accuracy: 0.7500\n",
            "Epoch 3/32\n",
            "279/279 [==============================] - 138s 493ms/step - loss: 1.4213 - accuracy: 0.7650 - val_loss: 1.3130 - val_accuracy: 0.7800\n",
            "Epoch 4/32\n",
            "279/279 [==============================] - 138s 493ms/step - loss: 1.2303 - accuracy: 0.7900 - val_loss: 1.1536 - val_accuracy: 0.8004\n",
            "Epoch 5/32\n",
            "279/279 [==============================] - 139s 497ms/step - loss: 1.0803 - accuracy: 0.8120 - val_loss: 1.0207 - val_accuracy: 0.8208\n",
            "Epoch 6/32\n",
            "279/279 [==============================] - 138s 495ms/step - loss: 0.9532 - accuracy: 0.8306 - val_loss: 0.9096 - val_accuracy: 0.8370\n",
            "Epoch 7/32\n",
            "279/279 [==============================] - 138s 495ms/step - loss: 0.8453 - accuracy: 0.8464 - val_loss: 0.8150 - val_accuracy: 0.8511\n",
            "Epoch 8/32\n",
            "279/279 [==============================] - 138s 495ms/step - loss: 0.7502 - accuracy: 0.8609 - val_loss: 0.7339 - val_accuracy: 0.8635\n",
            "Epoch 9/32\n",
            "279/279 [==============================] - 139s 497ms/step - loss: 0.6675 - accuracy: 0.8739 - val_loss: 0.6645 - val_accuracy: 0.8745\n",
            "Epoch 10/32\n",
            "279/279 [==============================] - 138s 496ms/step - loss: 0.5946 - accuracy: 0.8859 - val_loss: 0.6028 - val_accuracy: 0.8851\n",
            "Epoch 11/32\n",
            "279/279 [==============================] - 138s 495ms/step - loss: 0.5316 - accuracy: 0.8966 - val_loss: 0.5521 - val_accuracy: 0.8932\n",
            "Epoch 12/32\n",
            "279/279 [==============================] - 138s 496ms/step - loss: 0.4770 - accuracy: 0.9061 - val_loss: 0.5084 - val_accuracy: 0.9005\n",
            "Epoch 13/32\n",
            "279/279 [==============================] - 138s 496ms/step - loss: 0.4293 - accuracy: 0.9145 - val_loss: 0.4705 - val_accuracy: 0.9072\n",
            "Epoch 14/32\n",
            "279/279 [==============================] - 138s 495ms/step - loss: 0.3880 - accuracy: 0.9219 - val_loss: 0.4387 - val_accuracy: 0.9131\n",
            "Epoch 15/32\n",
            "279/279 [==============================] - 138s 495ms/step - loss: 0.3522 - accuracy: 0.9284 - val_loss: 0.4116 - val_accuracy: 0.9177\n",
            "Epoch 16/32\n",
            "279/279 [==============================] - 138s 495ms/step - loss: 0.3210 - accuracy: 0.9341 - val_loss: 0.3882 - val_accuracy: 0.9223\n",
            "Epoch 17/32\n",
            "279/279 [==============================] - 138s 495ms/step - loss: 0.2937 - accuracy: 0.9391 - val_loss: 0.3690 - val_accuracy: 0.9253\n",
            "Epoch 18/32\n",
            "279/279 [==============================] - 138s 495ms/step - loss: 0.2697 - accuracy: 0.9437 - val_loss: 0.3518 - val_accuracy: 0.9285\n",
            "Epoch 19/32\n",
            "279/279 [==============================] - 138s 494ms/step - loss: 0.2486 - accuracy: 0.9476 - val_loss: 0.3373 - val_accuracy: 0.9311\n",
            "Epoch 20/32\n",
            "279/279 [==============================] - 138s 494ms/step - loss: 0.2301 - accuracy: 0.9511 - val_loss: 0.3246 - val_accuracy: 0.9335\n",
            "Epoch 21/32\n",
            "279/279 [==============================] - 138s 494ms/step - loss: 0.2136 - accuracy: 0.9543 - val_loss: 0.3146 - val_accuracy: 0.9353\n",
            "Epoch 22/32\n",
            "279/279 [==============================] - 138s 494ms/step - loss: 0.1988 - accuracy: 0.9572 - val_loss: 0.3044 - val_accuracy: 0.9377\n",
            "Epoch 23/32\n",
            "279/279 [==============================] - 138s 494ms/step - loss: 0.1857 - accuracy: 0.9598 - val_loss: 0.2970 - val_accuracy: 0.9389\n",
            "Epoch 24/32\n",
            "279/279 [==============================] - 138s 495ms/step - loss: 0.1736 - accuracy: 0.9622 - val_loss: 0.2903 - val_accuracy: 0.9401\n",
            "Epoch 25/32\n",
            "279/279 [==============================] - 138s 494ms/step - loss: 0.1629 - accuracy: 0.9643 - val_loss: 0.2830 - val_accuracy: 0.9417\n",
            "Epoch 26/32\n",
            "279/279 [==============================] - 138s 495ms/step - loss: 0.1529 - accuracy: 0.9663 - val_loss: 0.2774 - val_accuracy: 0.9428\n",
            "Epoch 27/32\n",
            "279/279 [==============================] - 138s 494ms/step - loss: 0.1443 - accuracy: 0.9680 - val_loss: 0.2737 - val_accuracy: 0.9435\n",
            "Epoch 28/32\n",
            "279/279 [==============================] - 138s 495ms/step - loss: 0.1361 - accuracy: 0.9696 - val_loss: 0.2710 - val_accuracy: 0.9441\n",
            "Epoch 29/32\n",
            "279/279 [==============================] - 138s 493ms/step - loss: 0.1286 - accuracy: 0.9711 - val_loss: 0.2672 - val_accuracy: 0.9451\n",
            "Epoch 30/32\n",
            "279/279 [==============================] - 138s 496ms/step - loss: 0.1218 - accuracy: 0.9726 - val_loss: 0.2649 - val_accuracy: 0.9456\n",
            "Epoch 31/32\n",
            "279/279 [==============================] - 138s 495ms/step - loss: 0.1157 - accuracy: 0.9738 - val_loss: 0.2613 - val_accuracy: 0.9462\n",
            "Epoch 32/32\n",
            "279/279 [==============================] - 138s 496ms/step - loss: 0.1099 - accuracy: 0.9751 - val_loss: 0.2585 - val_accuracy: 0.9472\n",
            "Model: \"encoder_decoder_model__attention\"\n",
            "_________________________________________________________________\n",
            " Layer (type)                Output Shape              Param #   \n",
            "=================================================================\n",
            " encoder_104 (Encoder)       multiple                  8210900   \n",
            "                                                                 \n",
            " decoder_5 (Decoder)         multiple                  5483575   \n",
            "                                                                 \n",
            " dense_20 (Dense)            multiple                  0 (unused)\n",
            "                                                                 \n",
            "=================================================================\n",
            "Total params: 13,694,475\n",
            "Trainable params: 13,694,475\n",
            "Non-trainable params: 0\n",
            "_________________________________________________________________\n"
          ]
        }
      ]
    },
    {
      "cell_type": "code",
      "source": [
        "plot_model_performance(tracker=tracker_dot, epochs=epochs)"
      ],
      "metadata": {
        "id": "kB4Nh6PHbfY9",
        "colab": {
          "base_uri": "https://localhost:8080/",
          "height": 408
        },
        "outputId": "70c5b6c5-d73f-470d-bdb3-cd74610c44f8"
      },
      "execution_count": 87,
      "outputs": [
        {
          "output_type": "display_data",
          "data": {
            "text/plain": [
              "<Figure size 1296x432 with 2 Axes>"
            ],
            "image/png": "[encoded data removed]"
          },
          "metadata": {
            "needs_background": "light"
          }
        }
      ]
    },
    {
      "cell_type": "code",
      "source": [
        "input_sentence = 'sembri veramente preoccupata'\n",
        "print(\"Original: {}\".format(input_sentence))\n",
        "\n",
        "output_sentence, attention = prediction_by_attention(input_sentence, model_dot)\n",
        "print(\"Translated: {}\".format(output_sentence))"
      ],
      "metadata": {
        "id": "5YR1KTUzcuJL",
        "colab": {
          "base_uri": "https://localhost:8080/"
        },
        "outputId": "e01bbd3d-9609-4cd1-c248-d072d9fafc75"
      },
      "execution_count": 88,
      "outputs": [
        {
          "output_type": "stream",
          "name": "stdout",
          "text": [
            "Original: sembri veramente preoccupata\n",
            "Translated: you look really worried\n"
          ]
        }
      ]
    },
    {
      "cell_type": "code",
      "source": [
        "plot_attention(input_sentence=input_sentence, output_sentence=output_sentence, attention=attention)"
      ],
      "metadata": {
        "id": "mYBqkCcRc12M",
        "colab": {
          "base_uri": "https://localhost:8080/",
          "height": 630
        },
        "outputId": "c928c75a-3f66-491e-ed51-cb18d0be4a86"
      },
      "execution_count": 89,
      "outputs": [
        {
          "output_type": "display_data",
          "data": {
            "text/plain": [
              "<Figure size 720x720 with 2 Axes>"
            ],
            "image/png": "[encoded data removed]"
          },
          "metadata": {
            "needs_background": "light"
          }
        }
      ]
    },
    {
      "cell_type": "code",
      "source": [
        "compute_score_on_data(data=validation, model=model_dot)"
      ],
      "metadata": {
        "id": "WC0ATz-TddX-",
        "colab": {
          "base_uri": "https://localhost:8080/"
        },
        "outputId": "a734d0f7-2942-46da-afcc-f319c60c7980"
      },
      "execution_count": 90,
      "outputs": [
        {
          "output_type": "execute_result",
          "data": {
            "text/plain": [
              "0.4545791324481602"
            ]
          },
          "metadata": {},
          "execution_count": 90
        }
      ]
    },
    {
      "cell_type": "markdown",
      "metadata": {
        "id": "YAyIrUUMdt4_"
      },
      "source": [
        "Implement general function here."
      ]
    },
    {
      "cell_type": "code",
      "source": [
        "epochs = 32\n",
        "tracker_general, model_general = train_attention_models(score_fun='general', epochs=epochs)"
      ],
      "metadata": {
        "id": "L7pXO-Rgdt5A",
        "colab": {
          "base_uri": "https://localhost:8080/"
        },
        "outputId": "23b3dc57-847f-4751-b0b2-aa948c47ccf0"
      },
      "execution_count": 91,
      "outputs": [
        {
          "output_type": "stream",
          "name": "stdout",
          "text": [
            "Epoch 1/32\n",
            "279/279 [==============================] - 147s 503ms/step - loss: 2.7944 - accuracy: 0.6597 - val_loss: 1.9013 - val_accuracy: 0.6730\n",
            "Epoch 2/32\n",
            "279/279 [==============================] - 138s 496ms/step - loss: 1.8156 - accuracy: 0.6863 - val_loss: 1.7480 - val_accuracy: 0.7261\n",
            "Epoch 3/32\n",
            "279/279 [==============================] - 139s 497ms/step - loss: 1.6599 - accuracy: 0.7376 - val_loss: 1.6170 - val_accuracy: 0.7472\n",
            "Epoch 4/32\n",
            "279/279 [==============================] - 139s 497ms/step - loss: 1.4793 - accuracy: 0.7644 - val_loss: 1.4349 - val_accuracy: 0.7704\n",
            "Epoch 5/32\n",
            "279/279 [==============================] - 139s 498ms/step - loss: 1.2842 - accuracy: 0.7890 - val_loss: 1.2973 - val_accuracy: 0.7849\n",
            "Epoch 6/32\n",
            "279/279 [==============================] - 139s 498ms/step - loss: 1.1174 - accuracy: 0.8111 - val_loss: 1.1843 - val_accuracy: 0.7982\n",
            "Epoch 7/32\n",
            "279/279 [==============================] - 139s 499ms/step - loss: 0.9668 - accuracy: 0.8332 - val_loss: 1.0806 - val_accuracy: 0.8122\n",
            "Epoch 8/32\n",
            "279/279 [==============================] - 139s 499ms/step - loss: 0.8358 - accuracy: 0.8523 - val_loss: 1.0046 - val_accuracy: 0.8225\n",
            "Epoch 9/32\n",
            "279/279 [==============================] - 139s 499ms/step - loss: 0.7262 - accuracy: 0.8685 - val_loss: 0.9384 - val_accuracy: 0.8320\n",
            "Epoch 10/32\n",
            "279/279 [==============================] - 139s 499ms/step - loss: 0.6345 - accuracy: 0.8826 - val_loss: 0.8858 - val_accuracy: 0.8396\n",
            "Epoch 11/32\n",
            "279/279 [==============================] - 139s 499ms/step - loss: 0.5580 - accuracy: 0.8946 - val_loss: 0.8506 - val_accuracy: 0.8460\n",
            "Epoch 12/32\n",
            "279/279 [==============================] - 139s 500ms/step - loss: 0.4937 - accuracy: 0.9048 - val_loss: 0.8172 - val_accuracy: 0.8506\n",
            "Epoch 13/32\n",
            "279/279 [==============================] - 139s 499ms/step - loss: 0.4383 - accuracy: 0.9139 - val_loss: 0.7939 - val_accuracy: 0.8546\n",
            "Epoch 14/32\n",
            "279/279 [==============================] - 139s 500ms/step - loss: 0.3925 - accuracy: 0.9216 - val_loss: 0.7873 - val_accuracy: 0.8574\n",
            "Epoch 15/32\n",
            "279/279 [==============================] - 139s 499ms/step - loss: 0.3535 - accuracy: 0.9283 - val_loss: 0.7722 - val_accuracy: 0.8605\n",
            "Epoch 16/32\n",
            "279/279 [==============================] - 139s 499ms/step - loss: 0.3196 - accuracy: 0.9342 - val_loss: 0.7456 - val_accuracy: 0.8640\n",
            "Epoch 17/32\n",
            "279/279 [==============================] - 141s 504ms/step - loss: 0.2908 - accuracy: 0.9395 - val_loss: 0.7450 - val_accuracy: 0.8654\n",
            "Epoch 18/32\n",
            "279/279 [==============================] - 140s 501ms/step - loss: 0.2656 - accuracy: 0.9441 - val_loss: 0.7390 - val_accuracy: 0.8670\n",
            "Epoch 19/32\n",
            "279/279 [==============================] - 139s 499ms/step - loss: 0.2443 - accuracy: 0.9480 - val_loss: 0.7385 - val_accuracy: 0.8681\n",
            "Epoch 20/32\n",
            "279/279 [==============================] - 139s 499ms/step - loss: 0.2256 - accuracy: 0.9515 - val_loss: 0.7252 - val_accuracy: 0.8704\n",
            "Epoch 21/32\n",
            "279/279 [==============================] - 140s 501ms/step - loss: 0.2093 - accuracy: 0.9546 - val_loss: 0.7378 - val_accuracy: 0.8704\n",
            "Epoch 22/32\n",
            "279/279 [==============================] - 139s 500ms/step - loss: 0.1944 - accuracy: 0.9576 - val_loss: 0.7289 - val_accuracy: 0.8716\n",
            "Epoch 23/32\n",
            "279/279 [==============================] - 140s 500ms/step - loss: 0.1814 - accuracy: 0.9600 - val_loss: 0.7228 - val_accuracy: 0.8732\n",
            "Epoch 24/32\n",
            "279/279 [==============================] - 139s 500ms/step - loss: 0.1699 - accuracy: 0.9624 - val_loss: 0.7228 - val_accuracy: 0.8740\n",
            "Epoch 25/32\n",
            "279/279 [==============================] - 140s 500ms/step - loss: 0.1595 - accuracy: 0.9644 - val_loss: 0.7136 - val_accuracy: 0.8753\n",
            "Epoch 26/32\n",
            "279/279 [==============================] - 139s 500ms/step - loss: 0.1497 - accuracy: 0.9664 - val_loss: 0.7019 - val_accuracy: 0.8770\n",
            "Epoch 27/32\n",
            "279/279 [==============================] - 140s 500ms/step - loss: 0.1412 - accuracy: 0.9681 - val_loss: 0.7187 - val_accuracy: 0.8768\n",
            "Epoch 28/32\n",
            "279/279 [==============================] - 139s 500ms/step - loss: 0.1335 - accuracy: 0.9698 - val_loss: 0.7173 - val_accuracy: 0.8774\n",
            "Epoch 29/32\n",
            "279/279 [==============================] - 139s 499ms/step - loss: 0.1262 - accuracy: 0.9713 - val_loss: 0.7144 - val_accuracy: 0.8788\n",
            "Epoch 30/32\n",
            "279/279 [==============================] - 140s 500ms/step - loss: 0.1198 - accuracy: 0.9726 - val_loss: 0.7108 - val_accuracy: 0.8795\n",
            "Epoch 31/32\n",
            "279/279 [==============================] - 140s 500ms/step - loss: 0.1136 - accuracy: 0.9739 - val_loss: 0.7071 - val_accuracy: 0.8807\n",
            "Epoch 32/32\n",
            "279/279 [==============================] - 140s 500ms/step - loss: 0.1085 - accuracy: 0.9750 - val_loss: 0.7005 - val_accuracy: 0.8816\n",
            "Model: \"encoder_decoder_model__attention_1\"\n",
            "_________________________________________________________________\n",
            " Layer (type)                Output Shape              Param #   \n",
            "=================================================================\n",
            " encoder_206 (Encoder)       multiple                  8210900   \n",
            "                                                                 \n",
            " decoder_6 (Decoder)         multiple                  5493675   \n",
            "                                                                 \n",
            " dense_23 (Dense)            multiple                  0 (unused)\n",
            "                                                                 \n",
            "=================================================================\n",
            "Total params: 13,704,575\n",
            "Trainable params: 13,704,575\n",
            "Non-trainable params: 0\n",
            "_________________________________________________________________\n"
          ]
        }
      ]
    },
    {
      "cell_type": "code",
      "source": [
        "plot_model_performance(tracker=tracker_general, epochs=epochs)"
      ],
      "metadata": {
        "id": "dVO2DOPodt5A",
        "colab": {
          "base_uri": "https://localhost:8080/",
          "height": 408
        },
        "outputId": "2b3584cd-f3e9-46b2-99bb-e94d37ed8354"
      },
      "execution_count": 92,
      "outputs": [
        {
          "output_type": "display_data",
          "data": {
            "text/plain": [
              "<Figure size 1296x432 with 2 Axes>"
            ],
            "image/png": "[encoded data removed]"
          },
          "metadata": {
            "needs_background": "light"
          }
        }
      ]
    },
    {
      "cell_type": "code",
      "source": [
        "input_sentence = 'sembri veramente preoccupata'\n",
        "print(\"Original: {}\".format(input_sentence))\n",
        "\n",
        "output_sentence, attention = prediction_by_attention(input_sentence, model_general)\n",
        "print(\"Translated: {}\".format(output_sentence))"
      ],
      "metadata": {
        "id": "rK11mVy8dt5A",
        "colab": {
          "base_uri": "https://localhost:8080/"
        },
        "outputId": "ece34976-c6ee-47fd-d6d8-8d0e53ad615a"
      },
      "execution_count": 93,
      "outputs": [
        {
          "output_type": "stream",
          "name": "stdout",
          "text": [
            "Original: sembri veramente preoccupata\n",
            "Translated: you are you seem a worried about you\n"
          ]
        }
      ]
    },
    {
      "cell_type": "code",
      "source": [
        "plot_attention(input_sentence=input_sentence, output_sentence=output_sentence, attention=attention)"
      ],
      "metadata": {
        "id": "auI8DMz2dt5A",
        "colab": {
          "base_uri": "https://localhost:8080/",
          "height": 630
        },
        "outputId": "a991416f-714b-433e-af8f-2a45b778e1d5"
      },
      "execution_count": 94,
      "outputs": [
        {
          "output_type": "display_data",
          "data": {
            "text/plain": [
              "<Figure size 720x720 with 2 Axes>"
            ],
            "image/png": "[encoded data removed]"
          },
          "metadata": {
            "needs_background": "light"
          }
        }
      ]
    },
    {
      "cell_type": "code",
      "source": [
        "compute_score_on_data(data=validation, model=model_general)"
      ],
      "metadata": {
        "id": "JsP-7C6ndt5A",
        "colab": {
          "base_uri": "https://localhost:8080/"
        },
        "outputId": "4ff3152d-e331-43f3-c5a9-8b9fdab1d9c2"
      },
      "execution_count": 95,
      "outputs": [
        {
          "output_type": "execute_result",
          "data": {
            "text/plain": [
              "0.006888955203016989"
            ]
          },
          "metadata": {},
          "execution_count": 95
        }
      ]
    },
    {
      "cell_type": "markdown",
      "metadata": {
        "id": "OpN9Cfpjemot"
      },
      "source": [
        "Implement concat function here."
      ]
    },
    {
      "cell_type": "code",
      "source": [
        "epochs = 32\n",
        "tracker_concat, model_concat = train_attention_models(score_fun='concat', epochs=epochs)"
      ],
      "metadata": {
        "id": "rmA1ejabemou",
        "colab": {
          "base_uri": "https://localhost:8080/"
        },
        "outputId": "cc542c93-b00b-45d5-88e0-2c0a4beb0b11"
      },
      "execution_count": 96,
      "outputs": [
        {
          "output_type": "stream",
          "name": "stdout",
          "text": [
            "Epoch 1/32\n",
            "279/279 [==============================] - 159s 545ms/step - loss: 2.8146 - accuracy: 0.6595 - val_loss: 1.9533 - val_accuracy: 0.6731\n",
            "Epoch 2/32\n",
            "279/279 [==============================] - 151s 540ms/step - loss: 1.8441 - accuracy: 0.6822 - val_loss: 1.7721 - val_accuracy: 0.6951\n",
            "Epoch 3/32\n",
            "279/279 [==============================] - 151s 540ms/step - loss: 1.6412 - accuracy: 0.7306 - val_loss: 1.5673 - val_accuracy: 0.7492\n",
            "Epoch 4/32\n",
            "279/279 [==============================] - 151s 541ms/step - loss: 1.4153 - accuracy: 0.7701 - val_loss: 1.3783 - val_accuracy: 0.7724\n",
            "Epoch 5/32\n",
            "279/279 [==============================] - 152s 543ms/step - loss: 1.2163 - accuracy: 0.7964 - val_loss: 1.2254 - val_accuracy: 0.7964\n",
            "Epoch 6/32\n",
            "279/279 [==============================] - 151s 542ms/step - loss: 1.0389 - accuracy: 0.8227 - val_loss: 1.1060 - val_accuracy: 0.8114\n",
            "Epoch 7/32\n",
            "279/279 [==============================] - 151s 542ms/step - loss: 0.8882 - accuracy: 0.8443 - val_loss: 1.0060 - val_accuracy: 0.8235\n",
            "Epoch 8/32\n",
            "279/279 [==============================] - 152s 544ms/step - loss: 0.7624 - accuracy: 0.8625 - val_loss: 0.9322 - val_accuracy: 0.8327\n",
            "Epoch 9/32\n",
            "279/279 [==============================] - 152s 543ms/step - loss: 0.6588 - accuracy: 0.8782 - val_loss: 0.8823 - val_accuracy: 0.8399\n",
            "Epoch 10/32\n",
            "279/279 [==============================] - 152s 544ms/step - loss: 0.5747 - accuracy: 0.8913 - val_loss: 0.8521 - val_accuracy: 0.8446\n",
            "Epoch 11/32\n",
            "279/279 [==============================] - 151s 543ms/step - loss: 0.5054 - accuracy: 0.9023 - val_loss: 0.8163 - val_accuracy: 0.8496\n",
            "Epoch 12/32\n",
            "279/279 [==============================] - 152s 544ms/step - loss: 0.4479 - accuracy: 0.9119 - val_loss: 0.7962 - val_accuracy: 0.8531\n",
            "Epoch 13/32\n",
            "279/279 [==============================] - 152s 543ms/step - loss: 0.3997 - accuracy: 0.9199 - val_loss: 0.7664 - val_accuracy: 0.8580\n",
            "Epoch 14/32\n",
            "279/279 [==============================] - 152s 543ms/step - loss: 0.3598 - accuracy: 0.9268 - val_loss: 0.7530 - val_accuracy: 0.8595\n",
            "Epoch 15/32\n",
            "279/279 [==============================] - 152s 543ms/step - loss: 0.3253 - accuracy: 0.9329 - val_loss: 0.7268 - val_accuracy: 0.8640\n",
            "Epoch 16/32\n",
            "279/279 [==============================] - 152s 543ms/step - loss: 0.2966 - accuracy: 0.9379 - val_loss: 0.7211 - val_accuracy: 0.8647\n",
            "Epoch 17/32\n",
            "279/279 [==============================] - 152s 543ms/step - loss: 0.2711 - accuracy: 0.9426 - val_loss: 0.7163 - val_accuracy: 0.8671\n",
            "Epoch 18/32\n",
            "279/279 [==============================] - 152s 543ms/step - loss: 0.2488 - accuracy: 0.9468 - val_loss: 0.7063 - val_accuracy: 0.8687\n",
            "Epoch 19/32\n",
            "279/279 [==============================] - 152s 543ms/step - loss: 0.2293 - accuracy: 0.9504 - val_loss: 0.7012 - val_accuracy: 0.8708\n",
            "Epoch 20/32\n",
            "279/279 [==============================] - 152s 543ms/step - loss: 0.2118 - accuracy: 0.9538 - val_loss: 0.6887 - val_accuracy: 0.8718\n",
            "Epoch 21/32\n",
            "279/279 [==============================] - 151s 542ms/step - loss: 0.1969 - accuracy: 0.9568 - val_loss: 0.6900 - val_accuracy: 0.8733\n",
            "Epoch 22/32\n",
            "279/279 [==============================] - 151s 543ms/step - loss: 0.1829 - accuracy: 0.9595 - val_loss: 0.6832 - val_accuracy: 0.8744\n",
            "Epoch 23/32\n",
            "279/279 [==============================] - 151s 542ms/step - loss: 0.1713 - accuracy: 0.9618 - val_loss: 0.6867 - val_accuracy: 0.8749\n",
            "Epoch 24/32\n",
            "279/279 [==============================] - 151s 542ms/step - loss: 0.1602 - accuracy: 0.9640 - val_loss: 0.6645 - val_accuracy: 0.8776\n",
            "Epoch 25/32\n",
            "279/279 [==============================] - 152s 543ms/step - loss: 0.1504 - accuracy: 0.9660 - val_loss: 0.6682 - val_accuracy: 0.8774\n",
            "Epoch 26/32\n",
            "279/279 [==============================] - 151s 543ms/step - loss: 0.1421 - accuracy: 0.9677 - val_loss: 0.6621 - val_accuracy: 0.8788\n",
            "Epoch 27/32\n",
            "279/279 [==============================] - 151s 542ms/step - loss: 0.1339 - accuracy: 0.9694 - val_loss: 0.6630 - val_accuracy: 0.8796\n",
            "Epoch 28/32\n",
            "279/279 [==============================] - 152s 545ms/step - loss: 0.1267 - accuracy: 0.9709 - val_loss: 0.6649 - val_accuracy: 0.8798\n",
            "Epoch 29/32\n",
            "279/279 [==============================] - 152s 544ms/step - loss: 0.1200 - accuracy: 0.9724 - val_loss: 0.6593 - val_accuracy: 0.8808\n",
            "Epoch 30/32\n",
            "279/279 [==============================] - 152s 544ms/step - loss: 0.1139 - accuracy: 0.9736 - val_loss: 0.6593 - val_accuracy: 0.8816\n",
            "Epoch 31/32\n",
            "279/279 [==============================] - 152s 545ms/step - loss: 0.1085 - accuracy: 0.9748 - val_loss: 0.6663 - val_accuracy: 0.8815\n",
            "Epoch 32/32\n",
            "279/279 [==============================] - 152s 545ms/step - loss: 0.1031 - accuracy: 0.9760 - val_loss: 0.6587 - val_accuracy: 0.8824\n",
            "Model: \"encoder_decoder_model__attention_2\"\n",
            "_________________________________________________________________\n",
            " Layer (type)                Output Shape              Param #   \n",
            "=================================================================\n",
            " encoder_308 (Encoder)       multiple                  8210900   \n",
            "                                                                 \n",
            " decoder_7 (Decoder)         multiple                  5503876   \n",
            "                                                                 \n",
            " dense_28 (Dense)            multiple                  0 (unused)\n",
            "                                                                 \n",
            "=================================================================\n",
            "Total params: 13,714,776\n",
            "Trainable params: 13,714,776\n",
            "Non-trainable params: 0\n",
            "_________________________________________________________________\n"
          ]
        }
      ]
    },
    {
      "cell_type": "code",
      "source": [
        "plot_model_performance(tracker=tracker_concat, epochs=epochs)"
      ],
      "metadata": {
        "colab": {
          "base_uri": "https://localhost:8080/",
          "height": 408
        },
        "id": "tpoNoFCpzx8Q",
        "outputId": "c55673bd-cf7b-40fa-c3d7-f4a61e6a4064"
      },
      "execution_count": 101,
      "outputs": [
        {
          "output_type": "display_data",
          "data": {
            "text/plain": [
              "<Figure size 1296x432 with 2 Axes>"
            ],
            "image/png": "[encoded data removed]"
          },
          "metadata": {
            "needs_background": "light"
          }
        }
      ]
    },
    {
      "cell_type": "code",
      "source": [
        "input_sentence = 'sembri veramente preoccupata'\n",
        "print(\"Original: {}\".format(input_sentence))\n",
        "\n",
        "output_sentence, attention = prediction_by_attention(input_sentence, model_concat)\n",
        "print(\"Translated: {}\".format(output_sentence))"
      ],
      "metadata": {
        "colab": {
          "base_uri": "https://localhost:8080/"
        },
        "id": "4r4mVzbmzx8R",
        "outputId": "c6c21477-dedd-4a15-b1a2-83d6d224c6f1"
      },
      "execution_count": 102,
      "outputs": [
        {
          "output_type": "stream",
          "name": "stdout",
          "text": [
            "Original: sembri veramente preoccupata\n",
            "Translated: you do not look at me about that\n"
          ]
        }
      ]
    },
    {
      "cell_type": "code",
      "source": [
        "plot_attention(input_sentence=input_sentence, output_sentence=output_sentence, attention=attention)"
      ],
      "metadata": {
        "colab": {
          "base_uri": "https://localhost:8080/",
          "height": 630
        },
        "id": "YdU5jvgTzx8R",
        "outputId": "7e7061c2-16e0-4ac5-8e6c-6696560535a9"
      },
      "execution_count": 103,
      "outputs": [
        {
          "output_type": "display_data",
          "data": {
            "text/plain": [
              "<Figure size 720x720 with 2 Axes>"
            ],
            "image/png": "[encoded data removed]"
          },
          "metadata": {
            "needs_background": "light"
          }
        }
      ]
    },
    {
      "cell_type": "code",
      "source": [
        "compute_score_on_data(data=validation, model=model_concat)"
      ],
      "metadata": {
        "colab": {
          "base_uri": "https://localhost:8080/"
        },
        "id": "0AJ2HrFxzx8R",
        "outputId": "341d6c65-6a65-4fe0-830d-0c1fa4bbb2ec"
      },
      "execution_count": 104,
      "outputs": [
        {
          "output_type": "execute_result",
          "data": {
            "text/plain": [
              "0.017841753058495557"
            ]
          },
          "metadata": {},
          "execution_count": 104
        }
      ]
    },
    {
      "cell_type": "markdown",
      "source": [
        "This is implementation of both seq2seq modelling and seq2seq with attention mechanism.\n",
        "\n",
        "Task 1 is to implement seq2seq (Encoder Decoder) from scratch. This technique is limited to smaller sentences whenever we want to language translation.\n",
        "\n",
        "Task 2 is to implement seq2seq (Attention Mechanism) from scratch. This technique is good and we can use this for larger sentences to perform language translation.\n",
        "- Dot\n",
        "- General\n",
        "- Concat\n",
        "\n",
        "These are the three attention techniques applied to get the similarity scores between encoder and decoder.\n",
        "\n",
        "Dot attention score function (technique) has a hight bleu score."
      ],
      "metadata": {
        "id": "PRZB1HsYJakJ"
      }
    },
    {
      "cell_type": "code",
      "source": [],
      "metadata": {
        "id": "dWsJF6CTJ08s"
      },
      "execution_count": null,
      "outputs": []
    }
  ]
}