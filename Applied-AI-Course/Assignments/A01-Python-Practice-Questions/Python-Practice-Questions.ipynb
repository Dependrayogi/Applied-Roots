{
 "cells": [
  {
   "cell_type": "markdown",
   "id": "c8011b03",
   "metadata": {},
   "source": [
    "Let's `import` useful packages for this assignment."
   ]
  },
  {
   "cell_type": "code",
   "execution_count": 1,
   "id": "0e9363fc",
   "metadata": {},
   "outputs": [],
   "source": [
    "import functools"
   ]
  },
  {
   "cell_type": "markdown",
   "id": "5299a9b5",
   "metadata": {},
   "source": [
    "---"
   ]
  },
  {
   "cell_type": "markdown",
   "id": "160636b5",
   "metadata": {},
   "source": [
    "1Q) Write a function that inputs a number and prints the multiplication table of that number."
   ]
  },
  {
   "cell_type": "code",
   "execution_count": 2,
   "id": "5d2ead62",
   "metadata": {},
   "outputs": [],
   "source": [
    "def multiplication_table(n=1, l=10) -> None:\n",
    "    \"\"\"\n",
    "    This function prints the multiplication table of the given number.\n",
    "    \"\"\"\n",
    "    if isinstance(n, int) and isinstance(l, int):\n",
    "        if l <= 0: print('The limit should always be greater than 0.')\n",
    "        else:\n",
    "            for i in range(1, l+1):\n",
    "                print(\"{}\\t* {}\\t= {}\".format(n, i, n*i))\n",
    "    else: print(\"Please input an integer.\")\n",
    "    return None"
   ]
  },
  {
   "cell_type": "code",
   "execution_count": 3,
   "id": "09072e8c",
   "metadata": {
    "scrolled": true
   },
   "outputs": [
    {
     "name": "stdout",
     "output_type": "stream",
     "text": [
      "563\t* 1\t= 563\n",
      "563\t* 2\t= 1126\n",
      "563\t* 3\t= 1689\n",
      "563\t* 4\t= 2252\n",
      "563\t* 5\t= 2815\n",
      "563\t* 6\t= 3378\n",
      "563\t* 7\t= 3941\n",
      "563\t* 8\t= 4504\n",
      "563\t* 9\t= 5067\n",
      "563\t* 10\t= 5630\n"
     ]
    }
   ],
   "source": [
    "multiplication_table(n=563)"
   ]
  },
  {
   "cell_type": "code",
   "execution_count": 4,
   "id": "854b1d9b",
   "metadata": {},
   "outputs": [
    {
     "name": "stdout",
     "output_type": "stream",
     "text": [
      "-3\t* 1\t= -3\n",
      "-3\t* 2\t= -6\n",
      "-3\t* 3\t= -9\n",
      "-3\t* 4\t= -12\n",
      "-3\t* 5\t= -15\n",
      "-3\t* 6\t= -18\n",
      "-3\t* 7\t= -21\n",
      "-3\t* 8\t= -24\n",
      "-3\t* 9\t= -27\n",
      "-3\t* 10\t= -30\n"
     ]
    }
   ],
   "source": [
    "multiplication_table(n=-3)"
   ]
  },
  {
   "cell_type": "code",
   "execution_count": 5,
   "id": "4b8c8616",
   "metadata": {},
   "outputs": [
    {
     "name": "stdout",
     "output_type": "stream",
     "text": [
      "Please input an integer.\n"
     ]
    }
   ],
   "source": [
    "multiplication_table(n=5.5)"
   ]
  },
  {
   "cell_type": "code",
   "execution_count": 6,
   "id": "a361dcd5",
   "metadata": {},
   "outputs": [
    {
     "name": "stdout",
     "output_type": "stream",
     "text": [
      "The limit should always be greater than 0.\n"
     ]
    }
   ],
   "source": [
    "multiplication_table(n=25, l=0)"
   ]
  },
  {
   "cell_type": "code",
   "execution_count": 7,
   "id": "98855a32",
   "metadata": {},
   "outputs": [
    {
     "name": "stdout",
     "output_type": "stream",
     "text": [
      "Please input an integer.\n"
     ]
    }
   ],
   "source": [
    "multiplication_table(n='3')"
   ]
  },
  {
   "cell_type": "markdown",
   "id": "d4f539b4",
   "metadata": {},
   "source": [
    "---"
   ]
  },
  {
   "cell_type": "markdown",
   "id": "c5ca8148",
   "metadata": {},
   "source": [
    "2Q) Write a program to print twin primes less than $1000$. If two consecutive odd numbers are both prime then they are known as twin primes."
   ]
  },
  {
   "cell_type": "code",
   "execution_count": 8,
   "id": "7dd1781b",
   "metadata": {},
   "outputs": [],
   "source": [
    "def primality_test(n, d=2) -> bool:\n",
    "    \"\"\"\n",
    "    This is a boolean function to know if the number is prime or not.\n",
    "    \"\"\"\n",
    "    if isinstance(n, int):\n",
    "        if n == d: return True\n",
    "        elif n % d == 0: return False\n",
    "        elif n <= 1: return False\n",
    "        else: return primality_test(n, d=d+1)\n",
    "    else: return None"
   ]
  },
  {
   "cell_type": "code",
   "execution_count": 9,
   "id": "482cd346",
   "metadata": {},
   "outputs": [
    {
     "name": "stdout",
     "output_type": "stream",
     "text": [
      "False\n"
     ]
    }
   ],
   "source": [
    "print(primality_test(n=1))"
   ]
  },
  {
   "cell_type": "code",
   "execution_count": 10,
   "id": "e6470337",
   "metadata": {},
   "outputs": [
    {
     "name": "stdout",
     "output_type": "stream",
     "text": [
      "True\n"
     ]
    }
   ],
   "source": [
    "print(primality_test(n=11))"
   ]
  },
  {
   "cell_type": "code",
   "execution_count": 11,
   "id": "86c81b02",
   "metadata": {},
   "outputs": [
    {
     "name": "stdout",
     "output_type": "stream",
     "text": [
      "False\n"
     ]
    }
   ],
   "source": [
    "print(primality_test(n=-2))"
   ]
  },
  {
   "cell_type": "code",
   "execution_count": 12,
   "id": "a291487f",
   "metadata": {},
   "outputs": [],
   "source": [
    "def find_all_primes(n=1000) -> list:\n",
    "    \"\"\"\n",
    "    This function gets all the prime numbers till n in a list.\n",
    "    \"\"\"\n",
    "    return [i for i in range(2, n+1) if primality_test(n=i)]"
   ]
  },
  {
   "cell_type": "code",
   "execution_count": 13,
   "id": "68ea1c10",
   "metadata": {},
   "outputs": [
    {
     "name": "stdout",
     "output_type": "stream",
     "text": [
      "[2, 3, 5, 7, 11, 13, 17, 19, 23, 29, 31, 37, 41, 43, 47, 53, 59, 61, 67, 71, 73, 79, 83, 89, 97, 101, 103, 107, 109, 113, 127, 131, 137, 139, 149, 151, 157, 163, 167, 173, 179, 181, 191, 193, 197, 199, 211, 223, 227, 229, 233, 239, 241, 251, 257, 263, 269, 271, 277, 281, 283, 293, 307, 311, 313, 317, 331, 337, 347, 349, 353, 359, 367, 373, 379, 383, 389, 397, 401, 409, 419, 421, 431, 433, 439, 443, 449, 457, 461, 463, 467, 479, 487, 491, 499, 503, 509, 521, 523, 541, 547, 557, 563, 569, 571, 577, 587, 593, 599, 601, 607, 613, 617, 619, 631, 641, 643, 647, 653, 659, 661, 673, 677, 683, 691, 701, 709, 719, 727, 733, 739, 743, 751, 757, 761, 769, 773, 787, 797, 809, 811, 821, 823, 827, 829, 839, 853, 857, 859, 863, 877, 881, 883, 887, 907, 911, 919, 929, 937, 941, 947, 953, 967, 971, 977, 983, 991, 997]\n"
     ]
    }
   ],
   "source": [
    "print(find_all_primes())"
   ]
  },
  {
   "cell_type": "code",
   "execution_count": 14,
   "id": "3759ebfd",
   "metadata": {},
   "outputs": [],
   "source": [
    "def get_twin_primes_1(n=1000, diff=2) -> list:\n",
    "    \"\"\"\n",
    "    This function gets all the twin primes from 0 to n.\n",
    "    \"\"\"\n",
    "    primes = find_all_primes(n=n)\n",
    "    twin_primes = list()\n",
    "    i = 1\n",
    "    while i < len(primes):\n",
    "        if abs(primes[i-1] - primes[i]) == diff:\n",
    "            twin_primes.append((primes[i-1], primes[i]))\n",
    "        i += 1\n",
    "    return twin_primes"
   ]
  },
  {
   "cell_type": "code",
   "execution_count": 15,
   "id": "752db330",
   "metadata": {},
   "outputs": [
    {
     "name": "stdout",
     "output_type": "stream",
     "text": [
      "[(3, 5), (5, 7), (11, 13), (17, 19), (29, 31), (41, 43), (59, 61), (71, 73), (101, 103), (107, 109), (137, 139), (149, 151), (179, 181), (191, 193), (197, 199), (227, 229), (239, 241), (269, 271), (281, 283), (311, 313), (347, 349), (419, 421), (431, 433), (461, 463), (521, 523), (569, 571), (599, 601), (617, 619), (641, 643), (659, 661), (809, 811), (821, 823), (827, 829), (857, 859), (881, 883)]\n"
     ]
    }
   ],
   "source": [
    "print(get_twin_primes_1())"
   ]
  },
  {
   "cell_type": "markdown",
   "id": "4ab21dcf",
   "metadata": {},
   "source": [
    "Another approach, just by understanding the question $\\rightarrow$ our sample space is only limited to odd numbers."
   ]
  },
  {
   "cell_type": "code",
   "execution_count": 16,
   "id": "27fbd64c",
   "metadata": {},
   "outputs": [],
   "source": [
    "def get_twin_primes_2(n=1000, diff=2):\n",
    "    \"\"\"\n",
    "    This function gets all the twin primes from 0 to n.\n",
    "    \"\"\"\n",
    "    odds = list(range(1, n, 2))\n",
    "    twin_primes = list()\n",
    "    i = 1\n",
    "    while i < len(odds):\n",
    "        if (abs(odds[i-1] - odds[i]) == diff and \n",
    "            primality_test(n=odds[i-1]) and \n",
    "            primality_test(n=odds[i])):\n",
    "            twin_primes.append((odds[i-1], odds[i]))\n",
    "        i += 1\n",
    "    return twin_primes"
   ]
  },
  {
   "cell_type": "code",
   "execution_count": 17,
   "id": "c0e45308",
   "metadata": {},
   "outputs": [
    {
     "name": "stdout",
     "output_type": "stream",
     "text": [
      "[(3, 5), (5, 7), (11, 13), (17, 19), (29, 31), (41, 43), (59, 61), (71, 73), (101, 103), (107, 109), (137, 139), (149, 151), (179, 181), (191, 193), (197, 199), (227, 229), (239, 241), (269, 271), (281, 283), (311, 313), (347, 349), (419, 421), (431, 433), (461, 463), (521, 523), (569, 571), (599, 601), (617, 619), (641, 643), (659, 661), (809, 811), (821, 823), (827, 829), (857, 859), (881, 883)]\n"
     ]
    }
   ],
   "source": [
    "print(get_twin_primes_2())"
   ]
  },
  {
   "cell_type": "markdown",
   "id": "527d3d5c",
   "metadata": {},
   "source": [
    "---"
   ]
  },
  {
   "cell_type": "markdown",
   "id": "81d1be84",
   "metadata": {},
   "source": [
    "3Q) Write a program to find out the prime factors of a number, for example: prime factors of $56 \\rightarrow 2, 2, 2, 7$."
   ]
  },
  {
   "cell_type": "code",
   "execution_count": 18,
   "id": "f8e6aefe",
   "metadata": {},
   "outputs": [],
   "source": [
    "def get_prime_factors(n) -> list:\n",
    "    \"\"\"\n",
    "    This function computes the prime factors for the given number.\n",
    "    \"\"\"\n",
    "    if isinstance(n, int):\n",
    "        pf = list()\n",
    "        while n % 2 == 0:\n",
    "            pf.append(2)\n",
    "            n //= 2\n",
    "        for m in range(3, n+1, 2):\n",
    "            while n % m == 0:\n",
    "                pf.append(m)\n",
    "                n //= m\n",
    "        return pf\n",
    "    else: return None"
   ]
  },
  {
   "cell_type": "code",
   "execution_count": 19,
   "id": "4c31ce29",
   "metadata": {},
   "outputs": [
    {
     "name": "stdout",
     "output_type": "stream",
     "text": [
      "[2, 2, 2, 2, 2, 2, 2, 2, 2, 2]\n"
     ]
    }
   ],
   "source": [
    "print(get_prime_factors(n=1024))"
   ]
  },
  {
   "cell_type": "code",
   "execution_count": 20,
   "id": "464d2775",
   "metadata": {},
   "outputs": [
    {
     "name": "stdout",
     "output_type": "stream",
     "text": [
      "[3, 3, 1151]\n"
     ]
    }
   ],
   "source": [
    "print(get_prime_factors(n=10359))"
   ]
  },
  {
   "cell_type": "code",
   "execution_count": 21,
   "id": "0253a6c7",
   "metadata": {},
   "outputs": [
    {
     "name": "stdout",
     "output_type": "stream",
     "text": [
      "[3, 3, 3, 7, 11, 13, 37]\n"
     ]
    }
   ],
   "source": [
    "print(get_prime_factors(n=999999))"
   ]
  },
  {
   "cell_type": "code",
   "execution_count": 22,
   "id": "128eaf27",
   "metadata": {},
   "outputs": [
    {
     "name": "stdout",
     "output_type": "stream",
     "text": [
      "[3, 3, 41]\n"
     ]
    }
   ],
   "source": [
    "print(get_prime_factors(n=369))"
   ]
  },
  {
   "cell_type": "code",
   "execution_count": 23,
   "id": "65b01ab4",
   "metadata": {},
   "outputs": [
    {
     "name": "stdout",
     "output_type": "stream",
     "text": [
      "[2, 2, 2, 7]\n"
     ]
    }
   ],
   "source": [
    "print(get_prime_factors(n=56))"
   ]
  },
  {
   "cell_type": "markdown",
   "id": "3a50794e",
   "metadata": {},
   "source": [
    "---"
   ]
  },
  {
   "cell_type": "markdown",
   "id": "c6e40a3b",
   "metadata": {},
   "source": [
    "4Q) Write a program to implement these formulae of permutations and combinations.\n",
    "\n",
    "- Number of permutations of $n$ objects taken $r$ at a time: $$p(n, r) = \\frac{n!}{(n-r)!}$$\n",
    "- Number of combinations of $n$ objects taken $r$ at a time: $$c(n, r) = \\frac{n!}{r!(n-r)!} = \\frac{p(n, r)}{r!}$$"
   ]
  },
  {
   "cell_type": "code",
   "execution_count": 24,
   "id": "885ccbaf",
   "metadata": {},
   "outputs": [],
   "source": [
    "def fact(n) -> int:\n",
    "    \"\"\"\n",
    "    This function returns the factorial of the given number.\n",
    "    \"\"\"\n",
    "    if isinstance(n, int):\n",
    "        if n == 0: return 1\n",
    "        elif n < 0: return None\n",
    "        else: return functools.reduce(lambda x, y: x * y, range(1, n+1))\n",
    "    else: return None"
   ]
  },
  {
   "cell_type": "code",
   "execution_count": 25,
   "id": "732e957b",
   "metadata": {},
   "outputs": [
    {
     "name": "stdout",
     "output_type": "stream",
     "text": [
      "720\n"
     ]
    }
   ],
   "source": [
    "print(fact(n=6))"
   ]
  },
  {
   "cell_type": "code",
   "execution_count": 26,
   "id": "1f6088f8",
   "metadata": {},
   "outputs": [
    {
     "name": "stdout",
     "output_type": "stream",
     "text": [
      "None\n"
     ]
    }
   ],
   "source": [
    "print(fact(n=-6))"
   ]
  },
  {
   "cell_type": "code",
   "execution_count": 27,
   "id": "577886db",
   "metadata": {},
   "outputs": [
    {
     "name": "stdout",
     "output_type": "stream",
     "text": [
      "1\n"
     ]
    }
   ],
   "source": [
    "print(fact(n=0))"
   ]
  },
  {
   "cell_type": "code",
   "execution_count": 28,
   "id": "cd085e45",
   "metadata": {},
   "outputs": [
    {
     "name": "stdout",
     "output_type": "stream",
     "text": [
      "None\n"
     ]
    }
   ],
   "source": [
    "print(fact(n='8'))"
   ]
  },
  {
   "cell_type": "code",
   "execution_count": 29,
   "id": "27d619ef",
   "metadata": {},
   "outputs": [],
   "source": [
    "def P(n, r) -> int:\n",
    "    \"\"\"\n",
    "    This method finds the permutations of the given numbers.\n",
    "    \"\"\"\n",
    "    if isinstance(n, int) and isinstance(r, int):\n",
    "        if r > n or n < 0 or r < 0:\n",
    "            print(\"Please ensure r > 0, n >= r and n, r belong to I.\")\n",
    "        else: return fact(n=n) // fact(n=n-r)\n",
    "    else: return None"
   ]
  },
  {
   "cell_type": "code",
   "execution_count": 30,
   "id": "4380967c",
   "metadata": {
    "scrolled": true
   },
   "outputs": [
    {
     "name": "stdout",
     "output_type": "stream",
     "text": [
      "60\n"
     ]
    }
   ],
   "source": [
    "print(P(n=5, r=3))"
   ]
  },
  {
   "cell_type": "code",
   "execution_count": 31,
   "id": "332eba1c",
   "metadata": {},
   "outputs": [
    {
     "name": "stdout",
     "output_type": "stream",
     "text": [
      "Please ensure r > 0, n >= r and n, r belong to I.\n"
     ]
    }
   ],
   "source": [
    "P(n=5, r=6)"
   ]
  },
  {
   "cell_type": "code",
   "execution_count": 32,
   "id": "f53f50a9",
   "metadata": {},
   "outputs": [],
   "source": [
    "def C(n, r) -> int:\n",
    "    \"\"\"\n",
    "    This method finds the combinations of the given numbers.\n",
    "    \"\"\"\n",
    "    if isinstance(n, int) and isinstance(r, int):\n",
    "        if r > n or n < 0 or r < 0:\n",
    "            print(\"Please ensure r > 0, n >= r and n, r belong to I.\")\n",
    "        else: return fact(n=n) // (fact(n=n-r) * fact(n=r))\n",
    "    else: return None"
   ]
  },
  {
   "cell_type": "code",
   "execution_count": 33,
   "id": "c179c31d",
   "metadata": {},
   "outputs": [
    {
     "name": "stdout",
     "output_type": "stream",
     "text": [
      "10\n"
     ]
    }
   ],
   "source": [
    "print(C(n=5, r=3))"
   ]
  },
  {
   "cell_type": "code",
   "execution_count": 34,
   "id": "21d95003",
   "metadata": {},
   "outputs": [
    {
     "name": "stdout",
     "output_type": "stream",
     "text": [
      "Please ensure r > 0, n >= r and n, r belong to I.\n"
     ]
    }
   ],
   "source": [
    "C(n=5, r=7)"
   ]
  },
  {
   "cell_type": "markdown",
   "id": "c73f6744",
   "metadata": {},
   "source": [
    "---"
   ]
  },
  {
   "cell_type": "markdown",
   "id": "c75aa927",
   "metadata": {},
   "source": [
    "5Q) Write a function that converts a decimal number to binary number."
   ]
  },
  {
   "cell_type": "code",
   "execution_count": 35,
   "id": "9d7f1f15",
   "metadata": {},
   "outputs": [],
   "source": [
    "def dec_to_bin(n) -> str:\n",
    "    \"\"\"\n",
    "    This funtion converts the given decimal number to binary number.\n",
    "    \"\"\"\n",
    "    return bin(n)[2:]"
   ]
  },
  {
   "cell_type": "code",
   "execution_count": 36,
   "id": "8a652e00",
   "metadata": {},
   "outputs": [
    {
     "name": "stdout",
     "output_type": "stream",
     "text": [
      "10001010111\n"
     ]
    }
   ],
   "source": [
    "print(dec_to_bin(n=1111))"
   ]
  },
  {
   "cell_type": "markdown",
   "id": "51e02300",
   "metadata": {},
   "source": [
    "---"
   ]
  },
  {
   "cell_type": "markdown",
   "id": "7c54bd93",
   "metadata": {},
   "source": [
    "6Q) Write a function `cubesum()` that accepts an integer and returns the sum of the cubes of individual digits of that number. Use this function to make functions `PrintArmstrong()` and `isArmstrong()` to print Armstrong numbers and to find whether is an Armstrong number."
   ]
  },
  {
   "cell_type": "code",
   "execution_count": 37,
   "id": "1fc28845",
   "metadata": {},
   "outputs": [],
   "source": [
    "def cubesum(n) -> int:\n",
    "    \"\"\"\n",
    "    This function returns the sum of cubes of digits of the given number.\n",
    "    \"\"\"\n",
    "    return sum(list(map(lambda i: i**3, list(map(int, str(n))))))"
   ]
  },
  {
   "cell_type": "code",
   "execution_count": 38,
   "id": "c91e6eeb",
   "metadata": {},
   "outputs": [
    {
     "name": "stdout",
     "output_type": "stream",
     "text": [
      "36\n"
     ]
    }
   ],
   "source": [
    "print(cubesum(n=123))"
   ]
  },
  {
   "cell_type": "code",
   "execution_count": 39,
   "id": "a4944aa8",
   "metadata": {},
   "outputs": [],
   "source": [
    "def is_armstrong(an) -> bool:\n",
    "    \"\"\"\n",
    "    This function is a test to verify given number is an armstrong number.\n",
    "    \"\"\"\n",
    "    return cubesum(an) == an"
   ]
  },
  {
   "cell_type": "code",
   "execution_count": 40,
   "id": "2bcedcc3",
   "metadata": {},
   "outputs": [
    {
     "name": "stdout",
     "output_type": "stream",
     "text": [
      "False\n"
     ]
    }
   ],
   "source": [
    "print(is_armstrong(an=123))"
   ]
  },
  {
   "cell_type": "code",
   "execution_count": 41,
   "id": "a5c78687",
   "metadata": {},
   "outputs": [],
   "source": [
    "def print_armstrong(num) -> list:\n",
    "    \"\"\"\n",
    "    This function lists all the armstrong numbers in [1, nums].\n",
    "    \"\"\"\n",
    "    return list(filter(is_armstrong, range(1, num+1)))"
   ]
  },
  {
   "cell_type": "code",
   "execution_count": 42,
   "id": "4fe2cd23",
   "metadata": {},
   "outputs": [
    {
     "name": "stdout",
     "output_type": "stream",
     "text": [
      "[1, 153, 370, 371, 407]\n"
     ]
    }
   ],
   "source": [
    "print(print_armstrong(num=1000))"
   ]
  },
  {
   "cell_type": "markdown",
   "id": "3ab5688d",
   "metadata": {},
   "source": [
    "---"
   ]
  },
  {
   "cell_type": "markdown",
   "id": "544a3fc5",
   "metadata": {},
   "source": [
    "7Q) Write a function `prodDigits()` that inputs a number and returns the product of digits of that number."
   ]
  },
  {
   "cell_type": "code",
   "execution_count": 43,
   "id": "45f3a680",
   "metadata": {},
   "outputs": [],
   "source": [
    "def prod_digits(n) -> int:\n",
    "    \"\"\"\n",
    "    This function returns the product of digits of the given number.\n",
    "    \"\"\"\n",
    "    return functools.reduce(lambda x, y: x * y, list(map(int, str(n))))"
   ]
  },
  {
   "cell_type": "code",
   "execution_count": 44,
   "id": "cb8b670a",
   "metadata": {},
   "outputs": [
    {
     "name": "stdout",
     "output_type": "stream",
     "text": [
      "20\n"
     ]
    }
   ],
   "source": [
    "print(prod_digits(n=45))"
   ]
  },
  {
   "cell_type": "code",
   "execution_count": 45,
   "id": "b74160c8",
   "metadata": {},
   "outputs": [
    {
     "name": "stdout",
     "output_type": "stream",
     "text": [
      "162\n"
     ]
    }
   ],
   "source": [
    "print(prod_digits(n=369))"
   ]
  },
  {
   "cell_type": "markdown",
   "id": "14c9f8b7",
   "metadata": {},
   "source": [
    "---"
   ]
  },
  {
   "cell_type": "markdown",
   "id": "6ffed5a0",
   "metadata": {},
   "source": [
    "8Q) If all the digits of a number $n$ are multiplied by each other repeating with the product, the one digit number obtained at the last is called the multiplicative digital root of $n$. The number of times digits need to be multiplied to reach one digit is called multiplicative persistance of $n$.\n",
    "\n",
    "For example: \n",
    "\n",
    "- $86 \\rightarrow 48 \\rightarrow 32 \\rightarrow 6$ where MDR $6$ and MPersistence $3$.\n",
    "- $341 \\rightarrow 12 \\rightarrow 2$ where MDR $2$ and MPersistence $2$.\n",
    "\n",
    "Using the function `prodDigits()` of previous exercise write functions `MDR()` and `MPersistence()` that input a number and return its multiplicative digital root and multiplicative persistance respectively."
   ]
  },
  {
   "cell_type": "code",
   "execution_count": 46,
   "id": "d819c3df",
   "metadata": {},
   "outputs": [],
   "source": [
    "class MDR_MP(object):\n",
    "    \"\"\"\n",
    "    A class for problem 8.\n",
    "    \"\"\"\n",
    "    def __init__(self, n):\n",
    "        self.n = abs(n)\n",
    "        self.result = [self.n]\n",
    "    \n",
    "    def do_prod_digits(self) -> int:\n",
    "        \"\"\"\n",
    "        This method does the product of all the digits of the number.\n",
    "        \"\"\"\n",
    "        return functools.reduce(lambda x, y: x * y, list(map(int, str(self.n))))\n",
    "    \n",
    "    def MDR(self) -> int:\n",
    "        \"\"\"\n",
    "        This method calculates multiplicative digital root of the number.\n",
    "        \"\"\"\n",
    "        if len(str(self.n)) == 1:\n",
    "            print(\"Result: {}\".format(self.result))\n",
    "            return self.n\n",
    "        elif len(str(self.n)) > 1:\n",
    "            self.n = self.do_prod_digits()\n",
    "            self.result += [self.n]\n",
    "            return self.MDR()\n",
    "    \n",
    "    def MP(self) -> int:\n",
    "        \"\"\"\n",
    "        This method calculates multiplicative persistance of the number.\n",
    "        Invoke this method only after invoking MDR() for proper solution.\n",
    "        \"\"\"\n",
    "        return len(self.result[1:])\n",
    "    \n",
    "    def solution(self):\n",
    "        return [self.MDR(), self.MP()]"
   ]
  },
  {
   "cell_type": "code",
   "execution_count": 47,
   "id": "c0147a13",
   "metadata": {},
   "outputs": [
    {
     "name": "stdout",
     "output_type": "stream",
     "text": [
      "Result: [86, 48, 32, 6]\n",
      "MDR: 6\n",
      "MP: 3\n"
     ]
    }
   ],
   "source": [
    "mdr_mp = MDR_MP(n=86)\n",
    "sol = mdr_mp.solution()\n",
    "print(\"MDR: {}\".format(sol[0]))\n",
    "print(\"MP: {}\".format(sol[1]))"
   ]
  },
  {
   "cell_type": "code",
   "execution_count": 48,
   "id": "c96ca133",
   "metadata": {},
   "outputs": [
    {
     "name": "stdout",
     "output_type": "stream",
     "text": [
      "Result: [341, 12, 2]\n",
      "MDR: 2\n",
      "MP: 2\n"
     ]
    }
   ],
   "source": [
    "mdr_mp = MDR_MP(n=341)\n",
    "sol = mdr_mp.solution()\n",
    "print(\"MDR: {}\".format(sol[0]))\n",
    "print(\"MP: {}\".format(sol[1]))"
   ]
  },
  {
   "cell_type": "code",
   "execution_count": 49,
   "id": "3722f298",
   "metadata": {},
   "outputs": [
    {
     "name": "stdout",
     "output_type": "stream",
     "text": [
      "Result: [36493, 1944, 144, 16, 6]\n",
      "MDR: 6\n",
      "MP: 4\n"
     ]
    }
   ],
   "source": [
    "mdr_mp = MDR_MP(n=36493)\n",
    "sol = mdr_mp.solution()\n",
    "print(\"MDR: {}\".format(sol[0]))\n",
    "print(\"MP: {}\".format(sol[1]))"
   ]
  },
  {
   "cell_type": "code",
   "execution_count": 50,
   "id": "424faa53",
   "metadata": {},
   "outputs": [
    {
     "name": "stdout",
     "output_type": "stream",
     "text": [
      "Result: [5]\n",
      "MDR: 5\n",
      "MP: 0\n"
     ]
    }
   ],
   "source": [
    "mdr_mp = MDR_MP(n=5)\n",
    "sol = mdr_mp.solution()\n",
    "print(\"MDR: {}\".format(sol[0]))\n",
    "print(\"MP: {}\".format(sol[1]))"
   ]
  },
  {
   "cell_type": "markdown",
   "id": "e7a2910f",
   "metadata": {},
   "source": [
    "---"
   ]
  },
  {
   "cell_type": "markdown",
   "id": "86c59897",
   "metadata": {},
   "source": [
    "9Q) Write a function `sumPdivisors()` that finds the sum of proper divisors of a number. Proper divisors of a number are those numbers by which the number is divisible, except the number itself. For example, proper divisors of $36$ are $1, 2, 3, 4, 6, 9, 12, 18$."
   ]
  },
  {
   "cell_type": "code",
   "execution_count": 51,
   "id": "c38d4717",
   "metadata": {},
   "outputs": [],
   "source": [
    "def sum_proper_divisors(n) -> int:\n",
    "    \"\"\"\n",
    "    This function calculates the sum of proper divisors of a number.\n",
    "    \"\"\"\n",
    "    return sum([i for i in range(1, n) if n % i == 0])"
   ]
  },
  {
   "cell_type": "code",
   "execution_count": 52,
   "id": "2bfff1c9",
   "metadata": {},
   "outputs": [
    {
     "name": "stdout",
     "output_type": "stream",
     "text": [
      "55\n"
     ]
    }
   ],
   "source": [
    "print(sum_proper_divisors(n=36))"
   ]
  },
  {
   "cell_type": "code",
   "execution_count": 53,
   "id": "a98337db",
   "metadata": {},
   "outputs": [
    {
     "name": "stdout",
     "output_type": "stream",
     "text": [
      "177\n"
     ]
    }
   ],
   "source": [
    "print(sum_proper_divisors(n=369))"
   ]
  },
  {
   "cell_type": "code",
   "execution_count": 54,
   "id": "5181e016",
   "metadata": {},
   "outputs": [
    {
     "name": "stdout",
     "output_type": "stream",
     "text": [
      "48513\n"
     ]
    }
   ],
   "source": [
    "print(sum_proper_divisors(n=99999))"
   ]
  },
  {
   "cell_type": "markdown",
   "id": "cd7ce2c5",
   "metadata": {},
   "source": [
    "---"
   ]
  },
  {
   "cell_type": "markdown",
   "id": "5a58b856",
   "metadata": {},
   "source": [
    "10Q) A number is called perfect if the sum of proper divisors of that number is equal to the number. For example $28$ is perfect number, since $1 + 2 + 4 + 7 + 14 = 28$. Write a program to print all the perfect numbers in a given range."
   ]
  },
  {
   "cell_type": "code",
   "execution_count": 55,
   "id": "599fba8d",
   "metadata": {},
   "outputs": [],
   "source": [
    "def perfect_numbers(n) -> list:\n",
    "    \"\"\"\n",
    "    This function lists all the perfect numbers in [1, n).\n",
    "    \"\"\"\n",
    "    return [p for p in range(1, n) if sum_proper_divisors(n=p) == p]"
   ]
  },
  {
   "cell_type": "code",
   "execution_count": 56,
   "id": "8c39f45a",
   "metadata": {},
   "outputs": [
    {
     "name": "stdout",
     "output_type": "stream",
     "text": [
      "[6, 28]\n"
     ]
    }
   ],
   "source": [
    "print(perfect_numbers(100))"
   ]
  },
  {
   "cell_type": "code",
   "execution_count": 57,
   "id": "62207e14",
   "metadata": {},
   "outputs": [
    {
     "name": "stdout",
     "output_type": "stream",
     "text": [
      "[6, 28, 496]\n"
     ]
    }
   ],
   "source": [
    "print(perfect_numbers(1000))"
   ]
  },
  {
   "cell_type": "markdown",
   "id": "185e2ccd",
   "metadata": {},
   "source": [
    "---"
   ]
  },
  {
   "cell_type": "markdown",
   "id": "6d0144c5",
   "metadata": {},
   "source": [
    "11Q) Two different numbers are called amicable numbers if the sum of the proper divisors of each is equal to the other number. For example $220$ and $284$ are amicable numbers.\n",
    "\n",
    "- Sum of proper divisors of $220 = 1 + 2 + 4 + 5 + 10 + 11 + 20 + 22 + 44 + 55 + 110 = 284$.\n",
    "- Sum of proper divisors of $284 = 1 + 2 + 4 + 71 + 142 = 220$.\n",
    "- Write a function to print pairs of amicable numbers in a range."
   ]
  },
  {
   "cell_type": "code",
   "execution_count": 58,
   "id": "e4d58bf6",
   "metadata": {},
   "outputs": [],
   "source": [
    "def amicable_numbers(n1, n2) -> bool:\n",
    "    \"\"\"\n",
    "    This function checks the amicability test of two given numbers.\n",
    "    \"\"\"\n",
    "    return sum_proper_divisors(n=n1) == n2 and sum_proper_divisors(n=n2) == n1"
   ]
  },
  {
   "cell_type": "code",
   "execution_count": 59,
   "id": "f5050bfd",
   "metadata": {},
   "outputs": [
    {
     "name": "stdout",
     "output_type": "stream",
     "text": [
      "True\n"
     ]
    }
   ],
   "source": [
    "print(amicable_numbers(n1=220, n2=284))"
   ]
  },
  {
   "cell_type": "code",
   "execution_count": 60,
   "id": "43ae761b",
   "metadata": {},
   "outputs": [],
   "source": [
    "def amicable_pairs(n) -> list:\n",
    "    \"\"\"\n",
    "    This function lists all pairs of amicable numbers.\n",
    "    \"\"\"\n",
    "    return [(n1, n2)\n",
    "            for n1 in range(1, n)\n",
    "            for n2 in range(1, n)\n",
    "            if amicable_numbers(n1=n1, n2=n2) and n1 != n2]"
   ]
  },
  {
   "cell_type": "code",
   "execution_count": 61,
   "id": "02065a17",
   "metadata": {},
   "outputs": [
    {
     "name": "stdout",
     "output_type": "stream",
     "text": [
      "[(220, 284), (284, 220)]\n"
     ]
    }
   ],
   "source": [
    "print(amicable_pairs(n=300))"
   ]
  },
  {
   "cell_type": "markdown",
   "id": "ab7079bb",
   "metadata": {},
   "source": [
    "---"
   ]
  },
  {
   "cell_type": "markdown",
   "id": "e1e60531",
   "metadata": {},
   "source": [
    "12Q) Write a program which can filter odd numbers in a list by using `filter()`."
   ]
  },
  {
   "cell_type": "code",
   "execution_count": 62,
   "id": "b9197c86",
   "metadata": {},
   "outputs": [],
   "source": [
    "is_odd = lambda x: x % 2 == 1"
   ]
  },
  {
   "cell_type": "code",
   "execution_count": 63,
   "id": "88fd1a2a",
   "metadata": {},
   "outputs": [
    {
     "name": "stdout",
     "output_type": "stream",
     "text": [
      "[1, 3, 5, 7, 9]\n"
     ]
    }
   ],
   "source": [
    "print(list(filter(is_odd, range(1, 10))))"
   ]
  },
  {
   "cell_type": "code",
   "execution_count": 64,
   "id": "54dc22f9",
   "metadata": {},
   "outputs": [
    {
     "name": "stdout",
     "output_type": "stream",
     "text": [
      "[]\n"
     ]
    }
   ],
   "source": [
    "print(list(filter(is_odd, range(0, 10, 2))))"
   ]
  },
  {
   "cell_type": "markdown",
   "id": "803a9840",
   "metadata": {},
   "source": [
    "---"
   ]
  },
  {
   "cell_type": "markdown",
   "id": "1be132ef",
   "metadata": {},
   "source": [
    "13Q) Write a program which can `map()` to make a list whose elements are cube of elements in a given list."
   ]
  },
  {
   "cell_type": "code",
   "execution_count": 65,
   "id": "e5fe6e04",
   "metadata": {},
   "outputs": [],
   "source": [
    "cube_it = lambda x: x**3"
   ]
  },
  {
   "cell_type": "code",
   "execution_count": 66,
   "id": "91430905",
   "metadata": {},
   "outputs": [
    {
     "name": "stdout",
     "output_type": "stream",
     "text": [
      "[1, 8, 27, 64, 125, 216, 343, 512, 729, 1000]\n"
     ]
    }
   ],
   "source": [
    "print(list(map(cube_it, range(1, 11))))"
   ]
  },
  {
   "cell_type": "markdown",
   "id": "07ffcd4f",
   "metadata": {},
   "source": [
    "---"
   ]
  },
  {
   "cell_type": "markdown",
   "id": "4162df58",
   "metadata": {},
   "source": [
    "14Q) Write a program which can `map()` and `filter()` to make a list whose elements are cube of even number in a given list."
   ]
  },
  {
   "cell_type": "code",
   "execution_count": 67,
   "id": "62202a74",
   "metadata": {},
   "outputs": [],
   "source": [
    "is_even = lambda x: x % 2 == 0"
   ]
  },
  {
   "cell_type": "code",
   "execution_count": 68,
   "id": "2b2bef49",
   "metadata": {},
   "outputs": [
    {
     "name": "stdout",
     "output_type": "stream",
     "text": [
      "[8, 64, 216, 512, 1000]\n"
     ]
    }
   ],
   "source": [
    "print(list(map(cube_it, filter(is_even, range(1, 11)))))"
   ]
  },
  {
   "cell_type": "markdown",
   "id": "dc562c20",
   "metadata": {},
   "source": [
    "---"
   ]
  },
  {
   "cell_type": "markdown",
   "id": "fdea5258",
   "metadata": {},
   "source": [
    "End of the file."
   ]
  }
 ],
 "metadata": {
  "kernelspec": {
   "display_name": "Python 3 (ipykernel)",
   "language": "python",
   "name": "python3"
  },
  "language_info": {
   "codemirror_mode": {
    "name": "ipython",
    "version": 3
   },
   "file_extension": ".py",
   "mimetype": "text/x-python",
   "name": "python",
   "nbconvert_exporter": "python",
   "pygments_lexer": "ipython3",
   "version": "3.10.2"
  }
 },
 "nbformat": 4,
 "nbformat_minor": 5
}
