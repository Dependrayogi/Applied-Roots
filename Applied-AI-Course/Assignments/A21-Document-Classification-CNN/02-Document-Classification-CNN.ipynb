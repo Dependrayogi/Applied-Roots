{
 "cells": [
  {
   "cell_type": "code",
   "execution_count": 1,
   "metadata": {
    "id": "WZWhPb4uCy02"
   },
   "outputs": [],
   "source": [
    "!pip install scikit-learn --upgrade --quiet"
   ]
  },
  {
   "cell_type": "code",
   "execution_count": 2,
   "metadata": {
    "id": "N55cO3_yYqQ3"
   },
   "outputs": [],
   "source": [
    "!pip install tensorflow_addons --quiet"
   ]
  },
  {
   "cell_type": "code",
   "execution_count": 3,
   "metadata": {
    "id": "a1Fn-IGeDEUT"
   },
   "outputs": [],
   "source": [
    "import warnings\n",
    "warnings.filterwarnings('ignore')"
   ]
  },
  {
   "cell_type": "code",
   "execution_count": 4,
   "metadata": {
    "colab": {
     "base_uri": "https://localhost:8080/"
    },
    "id": "mxQ8AVqXDIAU",
    "outputId": "b6b71353-fbe7-42fc-9bfc-6785fbfe5cd8"
   },
   "outputs": [
    {
     "name": "stdout",
     "output_type": "stream",
     "text": [
      "Drive already mounted at /content/drive; to attempt to forcibly remount, call drive.mount(\"/content/drive\", force_remount=True).\n"
     ]
    }
   ],
   "source": [
    "from google.colab import drive\n",
    "drive.mount(mountpoint='/content/drive')"
   ]
  },
  {
   "cell_type": "code",
   "execution_count": 5,
   "metadata": {
    "id": "1vHvNSt-DJ0M"
   },
   "outputs": [],
   "source": [
    "from IPython.display import display"
   ]
  },
  {
   "cell_type": "code",
   "execution_count": 6,
   "metadata": {
    "id": "1N_2kIy_DPoC"
   },
   "outputs": [],
   "source": [
    "from matplotlib import pyplot as plt\n",
    "from matplotlib import style\n",
    "style.use(style='seaborn-deep')"
   ]
  },
  {
   "cell_type": "code",
   "execution_count": 7,
   "metadata": {
    "id": "mRHZDYmzDRtc"
   },
   "outputs": [],
   "source": [
    "from tqdm import tqdm"
   ]
  },
  {
   "cell_type": "code",
   "execution_count": 8,
   "metadata": {
    "id": "9W_b9kKnDWqz"
   },
   "outputs": [],
   "source": [
    "from sklearn.model_selection import train_test_split\n",
    "from sklearn.preprocessing import LabelEncoder\n",
    "from sklearn.metrics import auc\n",
    "from sklearn.metrics import f1_score\n",
    "from sklearn.metrics import roc_curve"
   ]
  },
  {
   "cell_type": "code",
   "execution_count": 9,
   "metadata": {
    "id": "bl0LqiuTYjrg"
   },
   "outputs": [],
   "source": [
    "import tensorflow as tf\n",
    "import tensorflow_addons as tfa"
   ]
  },
  {
   "cell_type": "code",
   "execution_count": 10,
   "metadata": {
    "id": "Yd2KTYMFHejk"
   },
   "outputs": [],
   "source": [
    "from tensorflow.keras.preprocessing.text import Tokenizer\n",
    "from tensorflow.keras.preprocessing.sequence import pad_sequences"
   ]
  },
  {
   "cell_type": "code",
   "execution_count": 11,
   "metadata": {
    "id": "0UAhmhDbZN4K"
   },
   "outputs": [],
   "source": [
    "from tensorflow.keras.layers import Conv1D\n",
    "from tensorflow.keras.layers import concatenate\n",
    "from tensorflow.keras.layers import Dense\n",
    "from tensorflow.keras.layers import Dropout\n",
    "from tensorflow.keras.layers import Embedding\n",
    "from tensorflow.keras.layers import Flatten\n",
    "from tensorflow.keras.layers import Input\n",
    "from tensorflow.keras.layers import MaxPooling1D"
   ]
  },
  {
   "cell_type": "code",
   "execution_count": 12,
   "metadata": {
    "id": "DFqFdkynaAzh"
   },
   "outputs": [],
   "source": [
    "from tensorflow.keras.callbacks import Callback\n",
    "from tensorflow.keras.callbacks import EarlyStopping\n",
    "from tensorflow.keras.callbacks import ModelCheckpoint\n",
    "from tensorflow.keras.callbacks import TensorBoard"
   ]
  },
  {
   "cell_type": "code",
   "execution_count": 13,
   "metadata": {
    "id": "03aBN5L8aah0"
   },
   "outputs": [],
   "source": [
    "from tensorflow.keras.models import Model\n",
    "from tensorflow.keras.models import Sequential"
   ]
  },
  {
   "cell_type": "code",
   "execution_count": 14,
   "metadata": {
    "id": "kxCXSU1CDiU3"
   },
   "outputs": [],
   "source": [
    "import datetime\n",
    "import os\n",
    "import numpy as np\n",
    "import pandas as pd\n",
    "import pickle\n",
    "import string"
   ]
  },
  {
   "cell_type": "code",
   "execution_count": 15,
   "metadata": {
    "id": "7moEXhv9EHzo"
   },
   "outputs": [],
   "source": [
    "base_path = '/content/drive/MyDrive/Applied-AI/Assignment-21/'"
   ]
  },
  {
   "cell_type": "code",
   "execution_count": 16,
   "metadata": {
    "id": "dXnxS5K-DoMu"
   },
   "outputs": [],
   "source": [
    "data_path = os.path.join(base_path, 'final_preprocessed_data.csv')"
   ]
  },
  {
   "cell_type": "code",
   "execution_count": 17,
   "metadata": {
    "id": "Vcr8ZeLyDpbk"
   },
   "outputs": [],
   "source": [
    "data_df = pd.read_csv(filepath_or_buffer=data_path)"
   ]
  },
  {
   "cell_type": "code",
   "execution_count": 18,
   "metadata": {
    "colab": {
     "base_uri": "https://localhost:8080/"
    },
    "id": "SGLBS9O3ENh1",
    "outputId": "e1525901-fbb4-4d6d-ea43-2e1857aefe5e"
   },
   "outputs": [
    {
     "name": "stdout",
     "output_type": "stream",
     "text": [
      "<class 'pandas.core.frame.DataFrame'>\n",
      "RangeIndex: 18828 entries, 0 to 18827\n",
      "Data columns (total 2 columns):\n",
      " #   Column  Non-Null Count  Dtype \n",
      "---  ------  --------------  ----- \n",
      " 0   data    18828 non-null  object\n",
      " 1   class   18828 non-null  object\n",
      "dtypes: object(2)\n",
      "memory usage: 294.3+ KB\n"
     ]
    }
   ],
   "source": [
    "data_df.info()"
   ]
  },
  {
   "cell_type": "code",
   "execution_count": 19,
   "metadata": {
    "colab": {
     "base_uri": "https://localhost:8080/",
     "height": 206
    },
    "id": "xZoas7wMDpYw",
    "outputId": "12649a13-1da9-4377-b682-bf44549f9d06"
   },
   "outputs": [
    {
     "data": {
      "text/html": [
       "\n",
       "  <div id=\"df-066520b2-e3dd-4866-a43f-9e43c80d8836\">\n",
       "    <div class=\"colab-df-container\">\n",
       "      <div>\n",
       "<style scoped>\n",
       "    .dataframe tbody tr th:only-of-type {\n",
       "        vertical-align: middle;\n",
       "    }\n",
       "\n",
       "    .dataframe tbody tr th {\n",
       "        vertical-align: top;\n",
       "    }\n",
       "\n",
       "    .dataframe thead th {\n",
       "        text-align: right;\n",
       "    }\n",
       "</style>\n",
       "<table border=\"1\" class=\"dataframe\">\n",
       "  <thead>\n",
       "    <tr style=\"text-align: right;\">\n",
       "      <th></th>\n",
       "      <th>data</th>\n",
       "      <th>class</th>\n",
       "    </tr>\n",
       "  </thead>\n",
       "  <tbody>\n",
       "    <tr>\n",
       "      <th>0</th>\n",
       "      <td>atheism resources resources december atheist r...</td>\n",
       "      <td>alt.atheism</td>\n",
       "    </tr>\n",
       "    <tr>\n",
       "      <th>1</th>\n",
       "      <td>atheism introduction introduction april begin ...</td>\n",
       "      <td>alt.atheism</td>\n",
       "    </tr>\n",
       "    <tr>\n",
       "      <th>2</th>\n",
       "      <td>article has quite different not necessarily mo...</td>\n",
       "      <td>alt.atheism</td>\n",
       "    </tr>\n",
       "    <tr>\n",
       "      <th>3</th>\n",
       "      <td>recently ras have been ordered and none have r...</td>\n",
       "      <td>alt.atheism</td>\n",
       "    </tr>\n",
       "    <tr>\n",
       "      <th>4</th>\n",
       "      <td>article harder ccrp ida org article however ha...</td>\n",
       "      <td>alt.atheism</td>\n",
       "    </tr>\n",
       "  </tbody>\n",
       "</table>\n",
       "</div>\n",
       "      <button class=\"colab-df-convert\" onclick=\"convertToInteractive('df-066520b2-e3dd-4866-a43f-9e43c80d8836')\"\n",
       "              title=\"Convert this dataframe to an interactive table.\"\n",
       "              style=\"display:none;\">\n",
       "        \n",
       "  <svg xmlns=\"http://www.w3.org/2000/svg\" height=\"24px\"viewBox=\"0 0 24 24\"\n",
       "       width=\"24px\">\n",
       "    <path d=\"M0 0h24v24H0V0z\" fill=\"none\"/>\n",
       "    <path d=\"M18.56 5.44l.94 2.06.94-2.06 2.06-.94-2.06-.94-.94-2.06-.94 2.06-2.06.94zm-11 1L8.5 8.5l.94-2.06 2.06-.94-2.06-.94L8.5 2.5l-.94 2.06-2.06.94zm10 10l.94 2.06.94-2.06 2.06-.94-2.06-.94-.94-2.06-.94 2.06-2.06.94z\"/><path d=\"M17.41 7.96l-1.37-1.37c-.4-.4-.92-.59-1.43-.59-.52 0-1.04.2-1.43.59L10.3 9.45l-7.72 7.72c-.78.78-.78 2.05 0 2.83L4 21.41c.39.39.9.59 1.41.59.51 0 1.02-.2 1.41-.59l7.78-7.78 2.81-2.81c.8-.78.8-2.07 0-2.86zM5.41 20L4 18.59l7.72-7.72 1.47 1.35L5.41 20z\"/>\n",
       "  </svg>\n",
       "      </button>\n",
       "      \n",
       "  <style>\n",
       "    .colab-df-container {\n",
       "      display:flex;\n",
       "      flex-wrap:wrap;\n",
       "      gap: 12px;\n",
       "    }\n",
       "\n",
       "    .colab-df-convert {\n",
       "      background-color: #E8F0FE;\n",
       "      border: none;\n",
       "      border-radius: 50%;\n",
       "      cursor: pointer;\n",
       "      display: none;\n",
       "      fill: #1967D2;\n",
       "      height: 32px;\n",
       "      padding: 0 0 0 0;\n",
       "      width: 32px;\n",
       "    }\n",
       "\n",
       "    .colab-df-convert:hover {\n",
       "      background-color: #E2EBFA;\n",
       "      box-shadow: 0px 1px 2px rgba(60, 64, 67, 0.3), 0px 1px 3px 1px rgba(60, 64, 67, 0.15);\n",
       "      fill: #174EA6;\n",
       "    }\n",
       "\n",
       "    [theme=dark] .colab-df-convert {\n",
       "      background-color: #3B4455;\n",
       "      fill: #D2E3FC;\n",
       "    }\n",
       "\n",
       "    [theme=dark] .colab-df-convert:hover {\n",
       "      background-color: #434B5C;\n",
       "      box-shadow: 0px 1px 3px 1px rgba(0, 0, 0, 0.15);\n",
       "      filter: drop-shadow(0px 1px 2px rgba(0, 0, 0, 0.3));\n",
       "      fill: #FFFFFF;\n",
       "    }\n",
       "  </style>\n",
       "\n",
       "      <script>\n",
       "        const buttonEl =\n",
       "          document.querySelector('#df-066520b2-e3dd-4866-a43f-9e43c80d8836 button.colab-df-convert');\n",
       "        buttonEl.style.display =\n",
       "          google.colab.kernel.accessAllowed ? 'block' : 'none';\n",
       "\n",
       "        async function convertToInteractive(key) {\n",
       "          const element = document.querySelector('#df-066520b2-e3dd-4866-a43f-9e43c80d8836');\n",
       "          const dataTable =\n",
       "            await google.colab.kernel.invokeFunction('convertToInteractive',\n",
       "                                                     [key], {});\n",
       "          if (!dataTable) return;\n",
       "\n",
       "          const docLinkHtml = 'Like what you see? Visit the ' +\n",
       "            '<a target=\"_blank\" href=https://colab.research.google.com/notebooks/data_table.ipynb>data table notebook</a>'\n",
       "            + ' to learn more about interactive tables.';\n",
       "          element.innerHTML = '';\n",
       "          dataTable['output_type'] = 'display_data';\n",
       "          await google.colab.output.renderOutput(dataTable, element);\n",
       "          const docLink = document.createElement('div');\n",
       "          docLink.innerHTML = docLinkHtml;\n",
       "          element.appendChild(docLink);\n",
       "        }\n",
       "      </script>\n",
       "    </div>\n",
       "  </div>\n",
       "  "
      ],
      "text/plain": [
       "                                                data        class\n",
       "0  atheism resources resources december atheist r...  alt.atheism\n",
       "1  atheism introduction introduction april begin ...  alt.atheism\n",
       "2  article has quite different not necessarily mo...  alt.atheism\n",
       "3  recently ras have been ordered and none have r...  alt.atheism\n",
       "4  article harder ccrp ida org article however ha...  alt.atheism"
      ]
     },
     "metadata": {},
     "output_type": "display_data"
    }
   ],
   "source": [
    "display(data_df.head())"
   ]
  },
  {
   "cell_type": "code",
   "execution_count": 20,
   "metadata": {
    "colab": {
     "base_uri": "https://localhost:8080/",
     "height": 676
    },
    "id": "7sb1UvDxDpWM",
    "outputId": "c3ee199c-854e-49c0-929b-a9bac261eb0f"
   },
   "outputs": [
    {
     "data": {
      "text/html": [
       "\n",
       "  <div id=\"df-f0f08666-3923-48a2-8b12-b893a11bdf65\">\n",
       "    <div class=\"colab-df-container\">\n",
       "      <div>\n",
       "<style scoped>\n",
       "    .dataframe tbody tr th:only-of-type {\n",
       "        vertical-align: middle;\n",
       "    }\n",
       "\n",
       "    .dataframe tbody tr th {\n",
       "        vertical-align: top;\n",
       "    }\n",
       "\n",
       "    .dataframe thead th {\n",
       "        text-align: right;\n",
       "    }\n",
       "</style>\n",
       "<table border=\"1\" class=\"dataframe\">\n",
       "  <thead>\n",
       "    <tr style=\"text-align: right;\">\n",
       "      <th></th>\n",
       "      <th>class</th>\n",
       "    </tr>\n",
       "  </thead>\n",
       "  <tbody>\n",
       "    <tr>\n",
       "      <th>rec.sport.hockey</th>\n",
       "      <td>999</td>\n",
       "    </tr>\n",
       "    <tr>\n",
       "      <th>soc.religion.christian</th>\n",
       "      <td>997</td>\n",
       "    </tr>\n",
       "    <tr>\n",
       "      <th>rec.sport.baseball</th>\n",
       "      <td>994</td>\n",
       "    </tr>\n",
       "    <tr>\n",
       "      <th>rec.motorcycles</th>\n",
       "      <td>994</td>\n",
       "    </tr>\n",
       "    <tr>\n",
       "      <th>sci.crypt</th>\n",
       "      <td>991</td>\n",
       "    </tr>\n",
       "    <tr>\n",
       "      <th>rec.autos</th>\n",
       "      <td>990</td>\n",
       "    </tr>\n",
       "    <tr>\n",
       "      <th>sci.med</th>\n",
       "      <td>990</td>\n",
       "    </tr>\n",
       "    <tr>\n",
       "      <th>sci.space</th>\n",
       "      <td>987</td>\n",
       "    </tr>\n",
       "    <tr>\n",
       "      <th>comp.os.ms-windows.misc</th>\n",
       "      <td>985</td>\n",
       "    </tr>\n",
       "    <tr>\n",
       "      <th>comp.sys.ibm.pc.hardware</th>\n",
       "      <td>982</td>\n",
       "    </tr>\n",
       "    <tr>\n",
       "      <th>sci.electronics</th>\n",
       "      <td>981</td>\n",
       "    </tr>\n",
       "    <tr>\n",
       "      <th>comp.windows.x</th>\n",
       "      <td>980</td>\n",
       "    </tr>\n",
       "    <tr>\n",
       "      <th>comp.graphics</th>\n",
       "      <td>973</td>\n",
       "    </tr>\n",
       "    <tr>\n",
       "      <th>misc.forsale</th>\n",
       "      <td>972</td>\n",
       "    </tr>\n",
       "    <tr>\n",
       "      <th>comp.sys.mac.hardware</th>\n",
       "      <td>961</td>\n",
       "    </tr>\n",
       "    <tr>\n",
       "      <th>talk.politics.mideast</th>\n",
       "      <td>940</td>\n",
       "    </tr>\n",
       "    <tr>\n",
       "      <th>talk.politics.guns</th>\n",
       "      <td>910</td>\n",
       "    </tr>\n",
       "    <tr>\n",
       "      <th>alt.atheism</th>\n",
       "      <td>799</td>\n",
       "    </tr>\n",
       "    <tr>\n",
       "      <th>talk.politics.misc</th>\n",
       "      <td>775</td>\n",
       "    </tr>\n",
       "    <tr>\n",
       "      <th>talk.religion.misc</th>\n",
       "      <td>628</td>\n",
       "    </tr>\n",
       "  </tbody>\n",
       "</table>\n",
       "</div>\n",
       "      <button class=\"colab-df-convert\" onclick=\"convertToInteractive('df-f0f08666-3923-48a2-8b12-b893a11bdf65')\"\n",
       "              title=\"Convert this dataframe to an interactive table.\"\n",
       "              style=\"display:none;\">\n",
       "        \n",
       "  <svg xmlns=\"http://www.w3.org/2000/svg\" height=\"24px\"viewBox=\"0 0 24 24\"\n",
       "       width=\"24px\">\n",
       "    <path d=\"M0 0h24v24H0V0z\" fill=\"none\"/>\n",
       "    <path d=\"M18.56 5.44l.94 2.06.94-2.06 2.06-.94-2.06-.94-.94-2.06-.94 2.06-2.06.94zm-11 1L8.5 8.5l.94-2.06 2.06-.94-2.06-.94L8.5 2.5l-.94 2.06-2.06.94zm10 10l.94 2.06.94-2.06 2.06-.94-2.06-.94-.94-2.06-.94 2.06-2.06.94z\"/><path d=\"M17.41 7.96l-1.37-1.37c-.4-.4-.92-.59-1.43-.59-.52 0-1.04.2-1.43.59L10.3 9.45l-7.72 7.72c-.78.78-.78 2.05 0 2.83L4 21.41c.39.39.9.59 1.41.59.51 0 1.02-.2 1.41-.59l7.78-7.78 2.81-2.81c.8-.78.8-2.07 0-2.86zM5.41 20L4 18.59l7.72-7.72 1.47 1.35L5.41 20z\"/>\n",
       "  </svg>\n",
       "      </button>\n",
       "      \n",
       "  <style>\n",
       "    .colab-df-container {\n",
       "      display:flex;\n",
       "      flex-wrap:wrap;\n",
       "      gap: 12px;\n",
       "    }\n",
       "\n",
       "    .colab-df-convert {\n",
       "      background-color: #E8F0FE;\n",
       "      border: none;\n",
       "      border-radius: 50%;\n",
       "      cursor: pointer;\n",
       "      display: none;\n",
       "      fill: #1967D2;\n",
       "      height: 32px;\n",
       "      padding: 0 0 0 0;\n",
       "      width: 32px;\n",
       "    }\n",
       "\n",
       "    .colab-df-convert:hover {\n",
       "      background-color: #E2EBFA;\n",
       "      box-shadow: 0px 1px 2px rgba(60, 64, 67, 0.3), 0px 1px 3px 1px rgba(60, 64, 67, 0.15);\n",
       "      fill: #174EA6;\n",
       "    }\n",
       "\n",
       "    [theme=dark] .colab-df-convert {\n",
       "      background-color: #3B4455;\n",
       "      fill: #D2E3FC;\n",
       "    }\n",
       "\n",
       "    [theme=dark] .colab-df-convert:hover {\n",
       "      background-color: #434B5C;\n",
       "      box-shadow: 0px 1px 3px 1px rgba(0, 0, 0, 0.15);\n",
       "      filter: drop-shadow(0px 1px 2px rgba(0, 0, 0, 0.3));\n",
       "      fill: #FFFFFF;\n",
       "    }\n",
       "  </style>\n",
       "\n",
       "      <script>\n",
       "        const buttonEl =\n",
       "          document.querySelector('#df-f0f08666-3923-48a2-8b12-b893a11bdf65 button.colab-df-convert');\n",
       "        buttonEl.style.display =\n",
       "          google.colab.kernel.accessAllowed ? 'block' : 'none';\n",
       "\n",
       "        async function convertToInteractive(key) {\n",
       "          const element = document.querySelector('#df-f0f08666-3923-48a2-8b12-b893a11bdf65');\n",
       "          const dataTable =\n",
       "            await google.colab.kernel.invokeFunction('convertToInteractive',\n",
       "                                                     [key], {});\n",
       "          if (!dataTable) return;\n",
       "\n",
       "          const docLinkHtml = 'Like what you see? Visit the ' +\n",
       "            '<a target=\"_blank\" href=https://colab.research.google.com/notebooks/data_table.ipynb>data table notebook</a>'\n",
       "            + ' to learn more about interactive tables.';\n",
       "          element.innerHTML = '';\n",
       "          dataTable['output_type'] = 'display_data';\n",
       "          await google.colab.output.renderOutput(dataTable, element);\n",
       "          const docLink = document.createElement('div');\n",
       "          docLink.innerHTML = docLinkHtml;\n",
       "          element.appendChild(docLink);\n",
       "        }\n",
       "      </script>\n",
       "    </div>\n",
       "  </div>\n",
       "  "
      ],
      "text/plain": [
       "                          class\n",
       "rec.sport.hockey            999\n",
       "soc.religion.christian      997\n",
       "rec.sport.baseball          994\n",
       "rec.motorcycles             994\n",
       "sci.crypt                   991\n",
       "rec.autos                   990\n",
       "sci.med                     990\n",
       "sci.space                   987\n",
       "comp.os.ms-windows.misc     985\n",
       "comp.sys.ibm.pc.hardware    982\n",
       "sci.electronics             981\n",
       "comp.windows.x              980\n",
       "comp.graphics               973\n",
       "misc.forsale                972\n",
       "comp.sys.mac.hardware       961\n",
       "talk.politics.mideast       940\n",
       "talk.politics.guns          910\n",
       "alt.atheism                 799\n",
       "talk.politics.misc          775\n",
       "talk.religion.misc          628"
      ]
     },
     "metadata": {},
     "output_type": "display_data"
    }
   ],
   "source": [
    "display(data_df['class'].value_counts().to_frame())"
   ]
  },
  {
   "cell_type": "code",
   "execution_count": 21,
   "metadata": {
    "colab": {
     "base_uri": "https://localhost:8080/"
    },
    "id": "ygIAQNSA3YHy",
    "outputId": "fea7b2a8-d684-44bb-9dec-524d7ff49851"
   },
   "outputs": [
    {
     "name": "stdout",
     "output_type": "stream",
     "text": [
      "20\n"
     ]
    }
   ],
   "source": [
    "num_classes = len(data_df['class'].value_counts())\n",
    "print(num_classes)"
   ]
  },
  {
   "cell_type": "markdown",
   "metadata": {
    "id": "VeFEFdSaFrNB"
   },
   "source": [
    "1. Read the preprocessed data.\n",
    "\n",
    "2. Split the data into train and test. Use 25% for test also do a stratify split."
   ]
  },
  {
   "cell_type": "code",
   "execution_count": 22,
   "metadata": {
    "id": "nnBRfR4HDpTm"
   },
   "outputs": [],
   "source": [
    "X = data_df['data'].values\n",
    "y = data_df['class'].values"
   ]
  },
  {
   "cell_type": "code",
   "execution_count": 23,
   "metadata": {
    "id": "vC1ecryyDpQ4"
   },
   "outputs": [],
   "source": [
    "X_train, X_test, y_train, y_test = train_test_split(X, y, test_size=0.25, stratify=y, random_state=42)"
   ]
  },
  {
   "cell_type": "code",
   "execution_count": 24,
   "metadata": {
    "colab": {
     "base_uri": "https://localhost:8080/"
    },
    "id": "zV-oiLbbFaW_",
    "outputId": "9c8be6e9-6969-4c66-e731-4c9e64d434fa"
   },
   "outputs": [
    {
     "name": "stdout",
     "output_type": "stream",
     "text": [
      "(14121,) (14121,)\n",
      "(4707,) (4707,)\n"
     ]
    }
   ],
   "source": [
    "print(X_train.shape, y_train.shape)\n",
    "print(X_test.shape, y_test.shape)"
   ]
  },
  {
   "cell_type": "markdown",
   "metadata": {
    "id": "_D4E_2bzGLIQ"
   },
   "source": [
    "Encoding the classes.\n",
    "* First we need to encode the train classes, based on that, we need to then encode the test classes."
   ]
  },
  {
   "cell_type": "code",
   "execution_count": 25,
   "metadata": {
    "colab": {
     "base_uri": "https://localhost:8080/"
    },
    "id": "eAXcmoOsFaMj",
    "outputId": "51a32314-b0c8-47c0-e3dd-f88e55a204a5"
   },
   "outputs": [
    {
     "data": {
      "text/plain": [
       "LabelEncoder()"
      ]
     },
     "execution_count": 25,
     "metadata": {},
     "output_type": "execute_result"
    }
   ],
   "source": [
    "label_encoder = LabelEncoder()\n",
    "label_encoder.fit(y=y_train)"
   ]
  },
  {
   "cell_type": "code",
   "execution_count": 26,
   "metadata": {
    "id": "oHtQwjrNFaC0"
   },
   "outputs": [],
   "source": [
    "y_train_vector = label_encoder.transform(y=y_train)\n",
    "y_test_vector = label_encoder.transform(y=y_test)"
   ]
  },
  {
   "cell_type": "code",
   "execution_count": 27,
   "metadata": {
    "colab": {
     "base_uri": "https://localhost:8080/"
    },
    "id": "BTai_xxaFZ10",
    "outputId": "9c36696a-7615-46b8-f9f3-2552b6fbfdf2"
   },
   "outputs": [
    {
     "name": "stdout",
     "output_type": "stream",
     "text": [
      "[16 10 17 ... 15 12 18]\n",
      "[12  6  0 ... 15  4  7]\n"
     ]
    }
   ],
   "source": [
    "print(y_train_vector)\n",
    "print(y_test_vector)"
   ]
  },
  {
   "cell_type": "markdown",
   "metadata": {
    "id": "hp80dnpgHTA3"
   },
   "source": [
    "Converting the encoded labels to categorical.\n",
    "\n",
    "Reference: https://www.tensorflow.org/api_docs/python/tf/keras/utils/to_categorical"
   ]
  },
  {
   "cell_type": "code",
   "execution_count": 30,
   "metadata": {
    "id": "mSSou_IyHVAl"
   },
   "outputs": [],
   "source": [
    "y_train_categorical = tf.keras.utils.to_categorical(y=y_train_vector, num_classes=num_classes)\n",
    "y_test_categorical = tf.keras.utils.to_categorical(y=y_test_vector, num_classes=num_classes)"
   ]
  },
  {
   "cell_type": "code",
   "execution_count": 31,
   "metadata": {
    "colab": {
     "base_uri": "https://localhost:8080/"
    },
    "id": "sm1LMCByIEIy",
    "outputId": "e0aea62c-2e78-4fc5-913a-2a0959b44e49"
   },
   "outputs": [
    {
     "name": "stdout",
     "output_type": "stream",
     "text": [
      "(14121, 20)\n",
      "(4707, 20)\n"
     ]
    }
   ],
   "source": [
    "print(y_train_categorical.shape)\n",
    "print(y_test_categorical.shape)"
   ]
  },
  {
   "cell_type": "markdown",
   "metadata": {
    "id": "Dw17edzVHJwy"
   },
   "source": [
    "3. Analyze your text data and pad the sequnce if required. Sequnce length is not restricted, you can use anything of your choice. You need to give the reasoning."
   ]
  },
  {
   "cell_type": "code",
   "execution_count": 32,
   "metadata": {
    "id": "L0ldH2f_Mfib"
   },
   "outputs": [],
   "source": [
    "def token_filters():\n",
    "    all_filters = list(string.punctuation)\n",
    "    all_filters.remove('_')\n",
    "    return \"\".join(all_filters)"
   ]
  },
  {
   "cell_type": "code",
   "execution_count": 33,
   "metadata": {
    "colab": {
     "base_uri": "https://localhost:8080/"
    },
    "id": "-ImK8KOzG_U4",
    "outputId": "1a560ed7-0179-4145-af95-f41045deea91"
   },
   "outputs": [
    {
     "name": "stdout",
     "output_type": "stream",
     "text": [
      "!\"#$%&'()*+,-./:;<=>?@[\\]^`{|}~\n"
     ]
    }
   ],
   "source": [
    "all_filters = token_filters()\n",
    "print(all_filters)"
   ]
  },
  {
   "cell_type": "markdown",
   "metadata": {
    "id": "HTtpp7FGQCP9"
   },
   "source": [
    "Reference: https://www.tensorflow.org/api_docs/python/tf/keras/preprocessing/text/Tokenizer"
   ]
  },
  {
   "cell_type": "code",
   "execution_count": 34,
   "metadata": {
    "id": "sYj2L_XqStMc"
   },
   "outputs": [],
   "source": [
    "np.random.seed(369)"
   ]
  },
  {
   "cell_type": "code",
   "execution_count": 35,
   "metadata": {
    "id": "vTIdRUlML4jR"
   },
   "outputs": [],
   "source": [
    "token1 = Tokenizer(filters=all_filters)\n",
    "token1.fit_on_texts(texts=X_train)"
   ]
  },
  {
   "cell_type": "code",
   "execution_count": 36,
   "metadata": {
    "colab": {
     "base_uri": "https://localhost:8080/"
    },
    "id": "eRTK-KO9OdOj",
    "outputId": "440ef7ad-6281-4a51-c958-826716babff2"
   },
   "outputs": [
    {
     "name": "stdout",
     "output_type": "stream",
     "text": [
      "933\n"
     ]
    }
   ],
   "source": [
    "print(token1.word_index['new_york'])"
   ]
  },
  {
   "cell_type": "code",
   "execution_count": 37,
   "metadata": {
    "colab": {
     "base_uri": "https://localhost:8080/"
    },
    "id": "y5GsGJx0Of7E",
    "outputId": "55360a87-1416-48e6-b13b-486d9ca7e30c"
   },
   "outputs": [
    {
     "name": "stdout",
     "output_type": "stream",
     "text": [
      "90192\n"
     ]
    }
   ],
   "source": [
    "vocab_size_1 = len(token1.word_index) + 1\n",
    "print(vocab_size_1)"
   ]
  },
  {
   "cell_type": "code",
   "execution_count": 38,
   "metadata": {
    "id": "FisAto2APN7K"
   },
   "outputs": [],
   "source": [
    "X_train_sequences_1 = token1.texts_to_sequences(texts=X_train)\n",
    "X_test_sequences_1 = token1.texts_to_sequences(texts=X_test)"
   ]
  },
  {
   "cell_type": "code",
   "execution_count": 39,
   "metadata": {
    "colab": {
     "base_uri": "https://localhost:8080/"
    },
    "id": "yXPntUuBPYEe",
    "outputId": "b0b7e97e-ca9e-4068-dc31-99b459044a15"
   },
   "outputs": [
    {
     "name": "stdout",
     "output_type": "stream",
     "text": [
      "406\n",
      "278\n"
     ]
    }
   ],
   "source": [
    "print(len(X_train_sequences_1[0]))\n",
    "print(len(X_train_sequences_1[1]))"
   ]
  },
  {
   "cell_type": "code",
   "execution_count": 40,
   "metadata": {
    "id": "20QAdPjSSXQO"
   },
   "outputs": [],
   "source": [
    "# If I keep maximum length 8990, tf is throwing error, and from the error message, it said to keep 8568.\n",
    "\n",
    "maxlen_1 = 8568"
   ]
  },
  {
   "cell_type": "markdown",
   "metadata": {
    "id": "Vursi1KgQG4Z"
   },
   "source": [
    "Reference: https://www.tensorflow.org/api_docs/python/tf/keras/utils/pad_sequences"
   ]
  },
  {
   "cell_type": "code",
   "execution_count": 41,
   "metadata": {
    "id": "4lYXy5PPPejr"
   },
   "outputs": [],
   "source": [
    "X_train_padded_1 = pad_sequences(sequences=X_train_sequences_1, maxlen=maxlen_1, padding='post')\n",
    "X_test_padded_1 = pad_sequences(sequences=X_test_sequences_1, maxlen=maxlen_1, padding='post')"
   ]
  },
  {
   "cell_type": "code",
   "execution_count": 42,
   "metadata": {
    "colab": {
     "base_uri": "https://localhost:8080/"
    },
    "id": "7ENK5wNBQGjY",
    "outputId": "e6b3de32-af40-4113-f774-7c530440e709"
   },
   "outputs": [
    {
     "name": "stdout",
     "output_type": "stream",
     "text": [
      "8568\n",
      "8568\n"
     ]
    }
   ],
   "source": [
    "print(len(X_train_padded_1[0]))\n",
    "print(len(X_train_padded_1[1]))"
   ]
  },
  {
   "cell_type": "code",
   "execution_count": 43,
   "metadata": {
    "id": "m5IdCFnaQGgq"
   },
   "outputs": [],
   "source": [
    "glove_vectors_path = os.path.join(base_path, 'glove_vectors')"
   ]
  },
  {
   "cell_type": "code",
   "execution_count": 44,
   "metadata": {
    "id": "7nJGr0H3QGeM"
   },
   "outputs": [],
   "source": [
    "with open(file=glove_vectors_path, mode='rb') as gvf:\n",
    "    gmodel = pickle.load(gvf)"
   ]
  },
  {
   "cell_type": "code",
   "execution_count": 45,
   "metadata": {
    "id": "5EGTsRwqQGYD"
   },
   "outputs": [],
   "source": [
    "vocab_words = list(token1.word_index.keys())"
   ]
  },
  {
   "cell_type": "code",
   "execution_count": 46,
   "metadata": {
    "id": "r9LFx496QGVz"
   },
   "outputs": [],
   "source": [
    "embedding_matrix = np.zeros(shape=(vocab_size_1, 300))\n",
    "for (i, word) in enumerate(vocab_words):\n",
    "    e_vector = gmodel.get(word, None)\n",
    "    if e_vector is not None:\n",
    "        embedding_matrix[i] = e_vector"
   ]
  },
  {
   "cell_type": "code",
   "execution_count": 47,
   "metadata": {
    "colab": {
     "base_uri": "https://localhost:8080/"
    },
    "id": "4cIeMRbyXH2e",
    "outputId": "3687238c-e872-40bc-b947-f6e1b6b5da54"
   },
   "outputs": [
    {
     "name": "stdout",
     "output_type": "stream",
     "text": [
      "(90192, 300)\n"
     ]
    }
   ],
   "source": [
    "print(embedding_matrix.shape)"
   ]
  },
  {
   "cell_type": "code",
   "execution_count": 48,
   "metadata": {
    "id": "KRM2acPiLeQe"
   },
   "outputs": [],
   "source": [
    "char_glove_vectors_path = os.path.join(base_path, 'glove.840B.300d-char.txt')"
   ]
  },
  {
   "cell_type": "code",
   "execution_count": 49,
   "metadata": {
    "id": "_W2_zQonCH2X"
   },
   "outputs": [],
   "source": [
    "with open(file=char_glove_vectors_path, mode='r') as cgvf:\n",
    "    char_glove = cgvf.readlines()"
   ]
  },
  {
   "cell_type": "code",
   "execution_count": 50,
   "metadata": {
    "id": "7ZXHMEkICH0G"
   },
   "outputs": [],
   "source": [
    "cglove = {}\n",
    "for line in char_glove:\n",
    "    l = line.split(' ')\n",
    "    char = l[0]\n",
    "    char_vec = np.asarray(l[1:], dtype='float32')\n",
    "    cglove[char] = char_vec"
   ]
  },
  {
   "cell_type": "code",
   "execution_count": 51,
   "metadata": {
    "id": "UFrKgFKGCHxn"
   },
   "outputs": [],
   "source": [
    "np.random.seed(369)"
   ]
  },
  {
   "cell_type": "code",
   "execution_count": 52,
   "metadata": {
    "id": "3STpFGX-MYJX"
   },
   "outputs": [],
   "source": [
    "token2 = Tokenizer(char_level=True, filters=all_filters)\n",
    "token2.fit_on_texts(texts=X_train)"
   ]
  },
  {
   "cell_type": "code",
   "execution_count": 53,
   "metadata": {
    "colab": {
     "base_uri": "https://localhost:8080/"
    },
    "id": "U5NiriuFPxib",
    "outputId": "7f9884f2-d84b-4d54-d90b-0552be5ac1b5"
   },
   "outputs": [
    {
     "name": "stdout",
     "output_type": "stream",
     "text": [
      "32\n"
     ]
    }
   ],
   "source": [
    "print(token2.word_index['_'])"
   ]
  },
  {
   "cell_type": "code",
   "execution_count": 54,
   "metadata": {
    "colab": {
     "base_uri": "https://localhost:8080/"
    },
    "id": "ZF2pO45gPxfr",
    "outputId": "0405afca-0b06-4dcd-dc36-bdcaa2b21a1e"
   },
   "outputs": [
    {
     "name": "stdout",
     "output_type": "stream",
     "text": [
      "44\n"
     ]
    }
   ],
   "source": [
    "vocab_size_2 = len(token2.word_index) + 1\n",
    "print(vocab_size_2)"
   ]
  },
  {
   "cell_type": "code",
   "execution_count": 55,
   "metadata": {
    "id": "c1FysXf_PxaO"
   },
   "outputs": [],
   "source": [
    "X_train_sequences_2 = token2.texts_to_sequences(texts=X_train)\n",
    "X_test_sequences_2 = token2.texts_to_sequences(texts=X_test)"
   ]
  },
  {
   "cell_type": "code",
   "execution_count": 56,
   "metadata": {
    "colab": {
     "base_uri": "https://localhost:8080/"
    },
    "id": "ECq9H5eQPxXW",
    "outputId": "31438e07-8170-421f-e64b-ba8cdedfdb38"
   },
   "outputs": [
    {
     "name": "stdout",
     "output_type": "stream",
     "text": [
      "2445\n",
      "1620\n"
     ]
    }
   ],
   "source": [
    "print(len(X_train_sequences_2[0]))\n",
    "print(len(X_train_sequences_2[1]))"
   ]
  },
  {
   "cell_type": "code",
   "execution_count": 57,
   "metadata": {
    "id": "RbtQyp4CTN-R"
   },
   "outputs": [],
   "source": [
    "# If I keep maximum length ~57000, tf is throwing error, and from the error message, so I kept 8000.\n",
    "\n",
    "maxlen_2 = 8000"
   ]
  },
  {
   "cell_type": "code",
   "execution_count": 58,
   "metadata": {
    "id": "1Eg2Nw9SQ9gK"
   },
   "outputs": [],
   "source": [
    "X_train_padded_2 = pad_sequences(sequences=X_train_sequences_2, maxlen=maxlen_2, padding='post')\n",
    "X_test_padded_2 = pad_sequences(sequences=X_test_sequences_2, maxlen=maxlen_2, padding='post')"
   ]
  },
  {
   "cell_type": "code",
   "execution_count": 59,
   "metadata": {
    "colab": {
     "base_uri": "https://localhost:8080/"
    },
    "id": "e92Qv7x3TEkH",
    "outputId": "67a164a5-3f2d-41eb-ea73-7860253c82fc"
   },
   "outputs": [
    {
     "name": "stdout",
     "output_type": "stream",
     "text": [
      "8000\n",
      "8000\n"
     ]
    }
   ],
   "source": [
    "print(len(X_train_padded_2[0]))\n",
    "print(len(X_train_padded_2[1]))"
   ]
  },
  {
   "cell_type": "code",
   "execution_count": 60,
   "metadata": {
    "id": "AezLLYczQ9db"
   },
   "outputs": [],
   "source": [
    "vocab_chars = list(token2.word_index.keys())"
   ]
  },
  {
   "cell_type": "code",
   "execution_count": 61,
   "metadata": {
    "id": "AXOb6R1JQ9bG"
   },
   "outputs": [],
   "source": [
    "char_embedding_matrix = np.zeros((vocab_size_2, 300))\n",
    "for (i, char) in enumerate(vocab_chars):\n",
    "    e_vector = cglove.get(char, None)\n",
    "    if e_vector is not None:\n",
    "        char_embedding_matrix[i] = e_vector"
   ]
  },
  {
   "cell_type": "code",
   "execution_count": 62,
   "metadata": {
    "colab": {
     "base_uri": "https://localhost:8080/"
    },
    "id": "jZRzzcBsQ9YD",
    "outputId": "59ba6882-4b59-4dc3-dd06-d68e2a05cdea"
   },
   "outputs": [
    {
     "name": "stdout",
     "output_type": "stream",
     "text": [
      "(44, 300)\n"
     ]
    }
   ],
   "source": [
    "print(char_embedding_matrix.shape)"
   ]
  },
  {
   "cell_type": "markdown",
   "metadata": {
    "id": "NF9OtFoWTGuW"
   },
   "source": [
    "---"
   ]
  },
  {
   "cell_type": "markdown",
   "metadata": {
    "id": "f93LxTG-R5RF"
   },
   "source": [
    "Models"
   ]
  },
  {
   "cell_type": "markdown",
   "metadata": {
    "id": "8ydORtMJTLi9"
   },
   "source": [
    "1. Code the models ( Model-1, Model-2 ) as discussed below and try to optimize that models.\n",
    "\n",
    "2. For every model use predefined Glove vectors. Don't train any word vectors while Training the model.\n",
    "\n",
    "3. Use \"categorical_crossentropy\" as Loss.\n",
    "\n",
    "4. Use Accuracy and Micro Avgeraged F1 score as your as Key metrics to evaluate your model.\n",
    "\n",
    "5. Use Tensorboard to plot the loss and metrics based on the epoches.\n",
    "\n",
    "6. Please save your best model weights in to 'best_model_L.h5' (L = 1 or 2).\n",
    "\n",
    "7. You are free to choose any activation function, learning rate, optimizer. But use the same architectures which are giving below.\n",
    "\n",
    "8. You can add some layer to the architecture but your deletion of layer is not acceptable.\n",
    "\n",
    "9. Try to use Early Stopping technique or any of the callback techniques that you did in the previous assignments.\n",
    "\n",
    "10. For every model save your model to image (Plot the model) with shapes and inlcude those images in the notebook markdown cell, upload those imgaes to Classroom. You can use \"plot_model\" please refer <a href='https://www.tensorflow.org/api_docs/python/tf/keras/utils/plot_model'>this</a> if you don't know how to plot the model with shapes."
   ]
  },
  {
   "cell_type": "markdown",
   "metadata": {
    "id": "V_W1i3XjZIxm"
   },
   "source": [
    "Reference: https://medium.com/tensorflow/introducing-tensorflow-addons-6131a50a3dcf"
   ]
  },
  {
   "cell_type": "markdown",
   "metadata": {
    "id": "PgXvte-LdMiD"
   },
   "source": [
    "Model 1"
   ]
  },
  {
   "cell_type": "markdown",
   "metadata": {
    "id": "RTxdpU1HdYs-"
   },
   "source": [
    "1. All are Conv1D layers with any number of filter and filter sizes, there is no restriction on this.\n",
    "\n",
    "2. Use concatenate layer is to concatenate all the filters/channels. \n",
    "\n",
    "3. You can use any pool size and stride for maxpooling layer.\n",
    "\n",
    "4. Don't use more than 16 filters in one Conv layer because it will increase the no of params. ( Only recommendation if you have less computing power )\n",
    "\n",
    "5. You can use any number of layers after the Flatten Layer.\n",
    "\n",
    "Reference: https://machinelearningmastery.com/use-word-embedding-layers-deep-learning-keras/"
   ]
  },
  {
   "cell_type": "markdown",
   "metadata": {
    "id": "Pi1MtCeNc9Ld"
   },
   "source": [
    "![](https://i.imgur.com/fv1GvFJ.png)"
   ]
  },
  {
   "cell_type": "code",
   "execution_count": 63,
   "metadata": {
    "id": "IQL6smQedYOP"
   },
   "outputs": [],
   "source": [
    "%load_ext tensorboard\n",
    "\n",
    "# Clear any logs from previous runs\n",
    "!rm -rf ./logs/"
   ]
  },
  {
   "cell_type": "markdown",
   "metadata": {
    "id": "34m9AFSjxEZM"
   },
   "source": [
    "Reference: https://www.tensorflow.org/api_docs/python/tf/keras/layers/Embedding"
   ]
  },
  {
   "cell_type": "code",
   "execution_count": 64,
   "metadata": {
    "id": "NcCfv3cRXHw1"
   },
   "outputs": [],
   "source": [
    "input_layer_1 = Input(shape=(maxlen_1, ), name='Input')\n",
    "\n",
    "embedding_layer_1 = Embedding(input_dim=embedding_matrix.shape[0],\n",
    "                              output_dim=embedding_matrix.shape[1],\n",
    "                              weights=[embedding_matrix],\n",
    "                              input_length=maxlen_1,\n",
    "                              trainable=True,\n",
    "                              name='Word_Embeddings')(input_layer_1)\n",
    "\n",
    "conv1d1_1 = Conv1D(filters=5, kernel_size=3, kernel_initializer='he_normal', activation='relu', name='Conv1D_1')(embedding_layer_1)\n",
    "conv1d2_1 = Conv1D(filters=5, kernel_size=3, kernel_initializer='he_normal', activation='relu', name='Conv1D_2')(embedding_layer_1)\n",
    "conv1d3_1 = Conv1D(filters=5, kernel_size=3, kernel_initializer='he_normal', activation='relu', name='Conv1D_3')(embedding_layer_1)\n",
    "\n",
    "concatenated_layer1_1 = concatenate(inputs=[conv1d1_1, conv1d2_1, conv1d3_1], axis=1, name='Concatenated_1')\n",
    "\n",
    "maxpool1_1 = MaxPooling1D(pool_size=4, name='MaxPool_1')(concatenated_layer1_1)\n",
    "\n",
    "conv1d4_1 = Conv1D(filters=5, kernel_size=3, kernel_initializer='he_normal', activation='relu', name='Conv1D_4')(maxpool1_1)\n",
    "conv1d5_1 = Conv1D(filters=5, kernel_size=3, kernel_initializer='he_normal', activation='relu', name='Conv1D_5')(maxpool1_1)\n",
    "conv1d6_1 = Conv1D(filters=5, kernel_size=3, kernel_initializer='he_normal', activation='relu', name='Conv1D_6')(maxpool1_1)\n",
    "\n",
    "concatenated_layer2_1 = concatenate(inputs=[conv1d4_1, conv1d5_1, conv1d6_1], axis=1, name='Concatenated_2')\n",
    "\n",
    "maxpool2_1 = MaxPooling1D(pool_size=2, name='MaxPool_2')(concatenated_layer2_1)\n",
    "\n",
    "conv1d7_1 = Conv1D(filters=5, kernel_size=3, kernel_initializer='he_normal', activation='relu', name='Conv1D_7')(maxpool2_1)\n",
    "\n",
    "flat_1 = Flatten(name='Flatten')(conv1d7_1)\n",
    "\n",
    "drop_1 = Dropout(rate=0.4, name='Dropout')(flat_1)\n",
    "\n",
    "dense_1 = Dense(units=100, activation='relu', name='Dense')(drop_1)\n",
    "\n",
    "output_layer_1 = Dense(units=num_classes, activation='softmax', name='Output')(dense_1)"
   ]
  },
  {
   "cell_type": "code",
   "execution_count": 65,
   "metadata": {
    "id": "g6AypTExXHt1"
   },
   "outputs": [],
   "source": [
    "model_1 = Model(inputs=input_layer_1, outputs=output_layer_1)\n",
    "optimizer_1 = tf.keras.optimizers.Adam()\n",
    "model_1.compile(optimizer=optimizer_1,\n",
    "                loss='categorical_crossentropy',\n",
    "                metrics=['accuracy', tfa.metrics.F1Score(num_classes=num_classes, average='micro')])"
   ]
  },
  {
   "cell_type": "code",
   "execution_count": 66,
   "metadata": {
    "id": "Q2IxzlfK4-hx"
   },
   "outputs": [],
   "source": [
    "filepath_1 = \"model_save/best_model_1.h5\"\n",
    "model_save_callback_1 = ModelCheckpoint(filepath=filepath_1, monitor='val_accuracy', verbose=1, save_best_only=True, mode='auto')\n",
    "\n",
    "early_stop_callback_1 = EarlyStopping(monitor='val_accuracy', min_delta=0.01, patience=2, verbose=1)\n",
    "\n",
    "log_dir_1 = os.path.join('logs', 'fits', datetime.datetime.now().strftime(\"%Y%m%d-%H%M%S\"))\n",
    "tensorboard_callback_1 = TensorBoard(log_dir=log_dir_1, histogram_freq=1)\n",
    "\n",
    "callbacks_1 = [model_save_callback_1, early_stop_callback_1, tensorboard_callback_1]"
   ]
  },
  {
   "cell_type": "code",
   "execution_count": 67,
   "metadata": {
    "colab": {
     "base_uri": "https://localhost:8080/"
    },
    "id": "mCTjhcMw56Va",
    "outputId": "322de2eb-f17d-49db-9c96-9c06035c136c",
    "scrolled": false
   },
   "outputs": [
    {
     "name": "stdout",
     "output_type": "stream",
     "text": [
      "Model: \"model\"\n",
      "__________________________________________________________________________________________________\n",
      " Layer (type)                   Output Shape         Param #     Connected to                     \n",
      "==================================================================================================\n",
      " Input (InputLayer)             [(None, 8568)]       0           []                               \n",
      "                                                                                                  \n",
      " Word_Embeddings (Embedding)    (None, 8568, 300)    27057600    ['Input[0][0]']                  \n",
      "                                                                                                  \n",
      " Conv1D_1 (Conv1D)              (None, 8566, 5)      4505        ['Word_Embeddings[0][0]']        \n",
      "                                                                                                  \n",
      " Conv1D_2 (Conv1D)              (None, 8566, 5)      4505        ['Word_Embeddings[0][0]']        \n",
      "                                                                                                  \n",
      " Conv1D_3 (Conv1D)              (None, 8566, 5)      4505        ['Word_Embeddings[0][0]']        \n",
      "                                                                                                  \n",
      " Concatenated_1 (Concatenate)   (None, 25698, 5)     0           ['Conv1D_1[0][0]',               \n",
      "                                                                  'Conv1D_2[0][0]',               \n",
      "                                                                  'Conv1D_3[0][0]']               \n",
      "                                                                                                  \n",
      " MaxPool_1 (MaxPooling1D)       (None, 6424, 5)      0           ['Concatenated_1[0][0]']         \n",
      "                                                                                                  \n",
      " Conv1D_4 (Conv1D)              (None, 6422, 5)      80          ['MaxPool_1[0][0]']              \n",
      "                                                                                                  \n",
      " Conv1D_5 (Conv1D)              (None, 6422, 5)      80          ['MaxPool_1[0][0]']              \n",
      "                                                                                                  \n",
      " Conv1D_6 (Conv1D)              (None, 6422, 5)      80          ['MaxPool_1[0][0]']              \n",
      "                                                                                                  \n",
      " Concatenated_2 (Concatenate)   (None, 19266, 5)     0           ['Conv1D_4[0][0]',               \n",
      "                                                                  'Conv1D_5[0][0]',               \n",
      "                                                                  'Conv1D_6[0][0]']               \n",
      "                                                                                                  \n",
      " MaxPool_2 (MaxPooling1D)       (None, 9633, 5)      0           ['Concatenated_2[0][0]']         \n",
      "                                                                                                  \n",
      " Conv1D_7 (Conv1D)              (None, 9631, 5)      80          ['MaxPool_2[0][0]']              \n",
      "                                                                                                  \n",
      " Flatten (Flatten)              (None, 48155)        0           ['Conv1D_7[0][0]']               \n",
      "                                                                                                  \n",
      " Dropout (Dropout)              (None, 48155)        0           ['Flatten[0][0]']                \n",
      "                                                                                                  \n",
      " Dense (Dense)                  (None, 100)          4815600     ['Dropout[0][0]']                \n",
      "                                                                                                  \n",
      " Output (Dense)                 (None, 20)           2020        ['Dense[0][0]']                  \n",
      "                                                                                                  \n",
      "==================================================================================================\n",
      "Total params: 31,889,055\n",
      "Trainable params: 31,889,055\n",
      "Non-trainable params: 0\n",
      "__________________________________________________________________________________________________\n"
     ]
    }
   ],
   "source": [
    "model_1.summary()"
   ]
  },
  {
   "cell_type": "code",
   "execution_count": 68,
   "metadata": {
    "colab": {
     "base_uri": "https://localhost:8080/"
    },
    "id": "afi2u2Jw59_c",
    "outputId": "b05eba49-418a-4a55-af21-f31727999244"
   },
   "outputs": [
    {
     "name": "stdout",
     "output_type": "stream",
     "text": [
      "Epoch 1/20\n",
      "142/142 [==============================] - ETA: 0s - loss: 3.1017 - accuracy: 0.0506 - f1_score: 0.0506\n",
      "Epoch 1: val_accuracy improved from -inf to 0.05332, saving model to model_save/best_model_1.h5\n",
      "142/142 [==============================] - 69s 454ms/step - loss: 3.1017 - accuracy: 0.0506 - f1_score: 0.0506 - val_loss: 2.9934 - val_accuracy: 0.0533 - val_f1_score: 0.0533\n",
      "Epoch 2/20\n",
      "142/142 [==============================] - ETA: 0s - loss: 2.9908 - accuracy: 0.0524 - f1_score: 0.0524\n",
      "Epoch 2: val_accuracy improved from 0.05332 to 0.05949, saving model to model_save/best_model_1.h5\n",
      "142/142 [==============================] - 65s 458ms/step - loss: 2.9908 - accuracy: 0.0524 - f1_score: 0.0524 - val_loss: 2.9876 - val_accuracy: 0.0595 - val_f1_score: 0.0595\n",
      "Epoch 3/20\n",
      "142/142 [==============================] - ETA: 0s - loss: 2.9215 - accuracy: 0.0706 - f1_score: 0.0706\n",
      "Epoch 3: val_accuracy improved from 0.05949 to 0.10261, saving model to model_save/best_model_1.h5\n",
      "142/142 [==============================] - 67s 471ms/step - loss: 2.9215 - accuracy: 0.0706 - f1_score: 0.0706 - val_loss: 2.7266 - val_accuracy: 0.1026 - val_f1_score: 0.1026\n",
      "Epoch 4/20\n",
      "142/142 [==============================] - ETA: 0s - loss: 2.4150 - accuracy: 0.1733 - f1_score: 0.1733\n",
      "Epoch 4: val_accuracy improved from 0.10261 to 0.25536, saving model to model_save/best_model_1.h5\n",
      "142/142 [==============================] - 67s 473ms/step - loss: 2.4150 - accuracy: 0.1733 - f1_score: 0.1733 - val_loss: 2.1246 - val_accuracy: 0.2554 - val_f1_score: 0.2554\n",
      "Epoch 5/20\n",
      "142/142 [==============================] - ETA: 0s - loss: 1.6401 - accuracy: 0.4051 - f1_score: 0.4051\n",
      "Epoch 5: val_accuracy improved from 0.25536 to 0.42426, saving model to model_save/best_model_1.h5\n",
      "142/142 [==============================] - 67s 473ms/step - loss: 1.6401 - accuracy: 0.4051 - f1_score: 0.4051 - val_loss: 1.7185 - val_accuracy: 0.4243 - val_f1_score: 0.4243\n",
      "Epoch 6/20\n",
      "142/142 [==============================] - ETA: 0s - loss: 1.0673 - accuracy: 0.6066 - f1_score: 0.6066\n",
      "Epoch 6: val_accuracy improved from 0.42426 to 0.51137, saving model to model_save/best_model_1.h5\n",
      "142/142 [==============================] - 67s 474ms/step - loss: 1.0673 - accuracy: 0.6066 - f1_score: 0.6066 - val_loss: 1.6555 - val_accuracy: 0.5114 - val_f1_score: 0.5114\n",
      "Epoch 7/20\n",
      "142/142 [==============================] - ETA: 0s - loss: 0.6728 - accuracy: 0.7655 - f1_score: 0.7655\n",
      "Epoch 7: val_accuracy improved from 0.51137 to 0.57723, saving model to model_save/best_model_1.h5\n",
      "142/142 [==============================] - 67s 473ms/step - loss: 0.6728 - accuracy: 0.7655 - f1_score: 0.7655 - val_loss: 1.6905 - val_accuracy: 0.5772 - val_f1_score: 0.5772\n",
      "Epoch 8/20\n",
      "142/142 [==============================] - ETA: 0s - loss: 0.4165 - accuracy: 0.8653 - f1_score: 0.8653\n",
      "Epoch 8: val_accuracy improved from 0.57723 to 0.60442, saving model to model_save/best_model_1.h5\n",
      "142/142 [==============================] - 67s 473ms/step - loss: 0.4165 - accuracy: 0.8653 - f1_score: 0.8653 - val_loss: 1.9116 - val_accuracy: 0.6044 - val_f1_score: 0.6044\n",
      "Epoch 9/20\n",
      "142/142 [==============================] - ETA: 0s - loss: 0.2637 - accuracy: 0.9217 - f1_score: 0.9217\n",
      "Epoch 9: val_accuracy improved from 0.60442 to 0.61292, saving model to model_save/best_model_1.h5\n",
      "142/142 [==============================] - 67s 472ms/step - loss: 0.2637 - accuracy: 0.9217 - f1_score: 0.9217 - val_loss: 2.2475 - val_accuracy: 0.6129 - val_f1_score: 0.6129\n",
      "Epoch 10/20\n",
      "142/142 [==============================] - ETA: 0s - loss: 0.1753 - accuracy: 0.9504 - f1_score: 0.9504\n",
      "Epoch 10: val_accuracy improved from 0.61292 to 0.64585, saving model to model_save/best_model_1.h5\n",
      "142/142 [==============================] - 67s 473ms/step - loss: 0.1753 - accuracy: 0.9504 - f1_score: 0.9504 - val_loss: 2.0649 - val_accuracy: 0.6458 - val_f1_score: 0.6458\n",
      "Epoch 11/20\n",
      "142/142 [==============================] - ETA: 0s - loss: 0.1283 - accuracy: 0.9664 - f1_score: 0.9664\n",
      "Epoch 11: val_accuracy did not improve from 0.64585\n",
      "142/142 [==============================] - 66s 467ms/step - loss: 0.1283 - accuracy: 0.9664 - f1_score: 0.9664 - val_loss: 2.2893 - val_accuracy: 0.6444 - val_f1_score: 0.6444\n",
      "Epoch 12/20\n",
      "142/142 [==============================] - ETA: 0s - loss: 0.0983 - accuracy: 0.9761 - f1_score: 0.9761\n",
      "Epoch 12: val_accuracy improved from 0.64585 to 0.66306, saving model to model_save/best_model_1.h5\n",
      "142/142 [==============================] - 67s 472ms/step - loss: 0.0983 - accuracy: 0.9761 - f1_score: 0.9761 - val_loss: 2.4442 - val_accuracy: 0.6631 - val_f1_score: 0.6631\n",
      "Epoch 13/20\n",
      "142/142 [==============================] - ETA: 0s - loss: 0.0834 - accuracy: 0.9771 - f1_score: 0.9771\n",
      "Epoch 13: val_accuracy did not improve from 0.66306\n",
      "142/142 [==============================] - 66s 467ms/step - loss: 0.0834 - accuracy: 0.9771 - f1_score: 0.9771 - val_loss: 2.5821 - val_accuracy: 0.6478 - val_f1_score: 0.6478\n",
      "Epoch 14/20\n",
      "142/142 [==============================] - ETA: 0s - loss: 0.0768 - accuracy: 0.9826 - f1_score: 0.9826\n",
      "Epoch 14: val_accuracy improved from 0.66306 to 0.66985, saving model to model_save/best_model_1.h5\n",
      "142/142 [==============================] - 67s 474ms/step - loss: 0.0768 - accuracy: 0.9826 - f1_score: 0.9826 - val_loss: 2.5559 - val_accuracy: 0.6699 - val_f1_score: 0.6699\n",
      "Epoch 14: early stopping\n"
     ]
    },
    {
     "data": {
      "text/plain": [
       "<keras.callbacks.History at 0x7f5809377c50>"
      ]
     },
     "execution_count": 68,
     "metadata": {},
     "output_type": "execute_result"
    }
   ],
   "source": [
    "model_1.fit(x=X_train_padded_1,\n",
    "            y=y_train_categorical,\n",
    "            epochs=20,\n",
    "            validation_data=(X_test_padded_1, y_test_categorical),\n",
    "            batch_size=100,\n",
    "            callbacks=callbacks_1)"
   ]
  },
  {
   "cell_type": "code",
   "execution_count": 70,
   "metadata": {
    "id": "h03MIqP3-x21"
   },
   "outputs": [],
   "source": [
    "# %tensorboard --logdir logs/fits"
   ]
  },
  {
   "cell_type": "markdown",
   "metadata": {
    "id": "EJPoE8MNCxoH"
   },
   "source": [
    "Model 1 TensorBoard Images\n",
    "\n",
    "![](https://user-images.githubusercontent.com/63338657/196056407-b81c3be7-ae73-4d10-8f64-cdea30d2b95c.png)\n",
    "\n",
    "![](https://user-images.githubusercontent.com/63338657/196056280-76d54b88-d445-42c1-b6e0-577f15f9df21.png)\n",
    "\n",
    "![](https://user-images.githubusercontent.com/63338657/196056361-219c6cb8-a6ab-4d0c-944d-07399a587b86.png)"
   ]
  },
  {
   "cell_type": "code",
   "execution_count": 71,
   "metadata": {
    "colab": {
     "base_uri": "https://localhost:8080/",
     "height": 1000
    },
    "id": "SD1xlCUCCH9W",
    "outputId": "fa2d21d6-343c-4450-f532-e5e5a0e8b830"
   },
   "outputs": [
    {
     "data": {
      "image/png": "[encoded data removed]",
      "text/plain": [
       "<IPython.core.display.Image object>"
      ]
     },
     "execution_count": 71,
     "metadata": {},
     "output_type": "execute_result"
    }
   ],
   "source": [
    "tf.keras.utils.plot_model(model=model_1,\n",
    "                          to_file=os.path.join(base_path, 'model_1.png'),\n",
    "                          show_shapes=True, \n",
    "                          show_layer_names=True,\n",
    "                          expand_nested=False,\n",
    "                          dpi=96)"
   ]
  },
  {
   "cell_type": "code",
   "execution_count": 72,
   "metadata": {
    "colab": {
     "base_uri": "https://localhost:8080/"
    },
    "id": "EwDRi39cCH6f",
    "outputId": "0068dee3-1fb2-4d0d-ca35-287cb91e33bd"
   },
   "outputs": [
    {
     "name": "stdout",
     "output_type": "stream",
     "text": [
      "442/442 [==============================] - 14s 32ms/step - loss: 0.0367 - accuracy: 0.9921 - f1_score: 0.9921\n",
      "Training Accuracy: 99.21393394470215.\n",
      "Traning Loss: 0.03668484464287758.\n"
     ]
    }
   ],
   "source": [
    "train_loss_1, train_accuracy_1, _ = model_1.evaluate(x=X_train_padded_1, y=y_train_categorical)\n",
    "print(\"Training Accuracy: {}.\".format(train_accuracy_1 * 100))\n",
    "print(\"Traning Loss: {}.\".format(train_loss_1))"
   ]
  },
  {
   "cell_type": "code",
   "execution_count": 73,
   "metadata": {
    "colab": {
     "base_uri": "https://localhost:8080/"
    },
    "id": "RLHtT6YaCH4Z",
    "outputId": "18c3ae9c-563c-4fde-8a1b-69877c4791c7"
   },
   "outputs": [
    {
     "name": "stdout",
     "output_type": "stream",
     "text": [
      "148/148 [==============================] - 5s 32ms/step - loss: 2.5559 - accuracy: 0.6699 - f1_score: 0.6699\n",
      "Test Accuracy: 66.98533892631531.\n",
      "Test Loss: 2.5558791160583496.\n"
     ]
    }
   ],
   "source": [
    "test_loss_1, test_accuracy_1, _ = model_1.evaluate(x=X_test_padded_1, y=y_test_categorical)\n",
    "print(\"Test Accuracy: {}.\".format(test_accuracy_1 * 100))\n",
    "print(\"Test Loss: {}.\".format(test_loss_1))"
   ]
  },
  {
   "cell_type": "markdown",
   "metadata": {
    "id": "PsNZLwQSSCbu"
   },
   "source": [
    "Model 2"
   ]
  },
  {
   "cell_type": "markdown",
   "metadata": {
    "id": "yGE4hRghSF7B"
   },
   "source": [
    "Here are the some papers based on Char-CNN\n",
    "\n",
    "Here are the some papers based on Char-CNN\n",
    " 1. Xiang Zhang, Junbo Zhao, Yann LeCun. <a href=\"http://arxiv.org/abs/1509.01626\">Character-level Convolutional Networks for Text Classification</a>.NIPS 2015\n",
    " 2. Yoon Kim, Yacine Jernite, David Sontag, Alexander M. Rush. <a href=\"https://arxiv.org/abs/1508.06615\">Character-Aware Neural Language Models</a>. AAAI 2016\n",
    " 3. Shaojie Bai, J. Zico Kolter, Vladlen Koltun. <a href=\"https://arxiv.org/pdf/1803.01271.pdf\">An Empirical Evaluation of Generic Convolutional and Recurrent Networks for Sequence Modeling</a>\n",
    " 4. Use the pratrained char embeddings <a href='https://github.com/minimaxir/char-embeddings/blob/master/glove.840B.300d-char.txt'>https://github.com/minimaxir/char-embeddings/blob/master/glove.840B.300d-char.txt</a>"
   ]
  },
  {
   "cell_type": "markdown",
   "metadata": {
    "id": "0osegAFRSqjt"
   },
   "source": [
    "![](https://i.imgur.com/EuuoJtr.png)"
   ]
  },
  {
   "cell_type": "code",
   "execution_count": 74,
   "metadata": {
    "colab": {
     "base_uri": "https://localhost:8080/"
    },
    "id": "CNcfCyuyNGJx",
    "outputId": "01bb7a5f-aa7a-4c5e-eee4-eee2b7ac5a5b"
   },
   "outputs": [
    {
     "name": "stdout",
     "output_type": "stream",
     "text": [
      "The tensorboard extension is already loaded. To reload it, use:\n",
      "  %reload_ext tensorboard\n"
     ]
    }
   ],
   "source": [
    "%load_ext tensorboard\n",
    "\n",
    "# Clear any logs from previous runs\n",
    "!rm -rf ./logs/"
   ]
  },
  {
   "cell_type": "code",
   "execution_count": 75,
   "metadata": {
    "id": "p55tRm3JNGHA"
   },
   "outputs": [],
   "source": [
    "input_layer_2 = Input(shape=(maxlen_2, ), name='Input')\n",
    "\n",
    "embedding_layer_2 = Embedding(input_dim=char_embedding_matrix.shape[0],\n",
    "                              output_dim=char_embedding_matrix.shape[1],\n",
    "                              weights=[char_embedding_matrix],\n",
    "                              input_length=maxlen_2,\n",
    "                              trainable=True,\n",
    "                              name='Char_Embeddings')(input_layer_2)\n",
    "\n",
    "conv1d1_2 = Conv1D(filters=5, kernel_size=3, kernel_initializer='he_normal', activation='relu', name='Conv1D_1')(embedding_layer_2)\n",
    "conv1d2_2 = Conv1D(filters=5, kernel_size=3, kernel_initializer='he_normal', activation='relu', name='Conv1D_2')(conv1d1_2)\n",
    "\n",
    "maxpool1_2 = MaxPooling1D(pool_size=4, name='MaxPool_1')(conv1d2_2)\n",
    "\n",
    "conv1d3_2 = Conv1D(filters=5, kernel_size=3, kernel_initializer='he_normal', activation='relu', name='Conv1D_4')(maxpool1_2)\n",
    "conv1d4_2 = Conv1D(filters=5, kernel_size=3, kernel_initializer='he_normal', activation='relu', name='Conv1D_5')(conv1d3_2)\n",
    "\n",
    "maxpool2_2 = MaxPooling1D(pool_size=2, name='MaxPool_2')(conv1d4_2)\n",
    "\n",
    "flat_2 = Flatten(name='Flatten')(maxpool2_2)\n",
    "\n",
    "drop_2 = Dropout(rate=0.4, name='Dropout')(flat_2)\n",
    "\n",
    "dense_2 = Dense(units=100, activation='relu', name='Dense')(drop_2)\n",
    "\n",
    "output_layer_2 = Dense(units=num_classes, activation='softmax', name='Output')(dense_2)"
   ]
  },
  {
   "cell_type": "code",
   "execution_count": 76,
   "metadata": {
    "id": "9k788q3qNGDM"
   },
   "outputs": [],
   "source": [
    "model_2 = Model(inputs=input_layer_2, outputs=output_layer_2)\n",
    "optimizer_2 = tf.keras.optimizers.Adam()\n",
    "model_2.compile(optimizer=optimizer_2,\n",
    "                loss='categorical_crossentropy',\n",
    "                metrics=['accuracy', tfa.metrics.F1Score(num_classes=num_classes, average='micro')])"
   ]
  },
  {
   "cell_type": "code",
   "execution_count": 77,
   "metadata": {
    "id": "wkYW4nkDNGAl"
   },
   "outputs": [],
   "source": [
    "filepath_2 = \"model_save/best_model_2.h5\"\n",
    "model_save_callback_2 = ModelCheckpoint(filepath=filepath_2, monitor='val_accuracy', verbose=1, save_best_only=True, mode='auto')\n",
    "\n",
    "early_stop_callback_2 = EarlyStopping(monitor='val_accuracy', min_delta=0.01, patience=2, verbose=1)\n",
    "\n",
    "log_dir_2 = os.path.join('logs', 'fits', datetime.datetime.now().strftime(\"%Y%m%d-%H%M%S\"))\n",
    "tensorboard_callback_2 = TensorBoard(log_dir=log_dir_2, histogram_freq=1)\n",
    "\n",
    "callbacks_2 = [model_save_callback_2, early_stop_callback_2, tensorboard_callback_2]"
   ]
  },
  {
   "cell_type": "code",
   "execution_count": 78,
   "metadata": {
    "colab": {
     "base_uri": "https://localhost:8080/"
    },
    "id": "HAw9N6V1NF-j",
    "outputId": "9fa75643-8a90-4fde-f11e-a5c21f1c1dd6"
   },
   "outputs": [
    {
     "name": "stdout",
     "output_type": "stream",
     "text": [
      "Model: \"model_1\"\n",
      "_________________________________________________________________\n",
      " Layer (type)                Output Shape              Param #   \n",
      "=================================================================\n",
      " Input (InputLayer)          [(None, 8000)]            0         \n",
      "                                                                 \n",
      " Char_Embeddings (Embedding)  (None, 8000, 300)        13200     \n",
      "                                                                 \n",
      " Conv1D_1 (Conv1D)           (None, 7998, 5)           4505      \n",
      "                                                                 \n",
      " Conv1D_2 (Conv1D)           (None, 7996, 5)           80        \n",
      "                                                                 \n",
      " MaxPool_1 (MaxPooling1D)    (None, 1999, 5)           0         \n",
      "                                                                 \n",
      " Conv1D_4 (Conv1D)           (None, 1997, 5)           80        \n",
      "                                                                 \n",
      " Conv1D_5 (Conv1D)           (None, 1995, 5)           80        \n",
      "                                                                 \n",
      " MaxPool_2 (MaxPooling1D)    (None, 997, 5)            0         \n",
      "                                                                 \n",
      " Flatten (Flatten)           (None, 4985)              0         \n",
      "                                                                 \n",
      " Dropout (Dropout)           (None, 4985)              0         \n",
      "                                                                 \n",
      " Dense (Dense)               (None, 100)               498600    \n",
      "                                                                 \n",
      " Output (Dense)              (None, 20)                2020      \n",
      "                                                                 \n",
      "=================================================================\n",
      "Total params: 518,565\n",
      "Trainable params: 518,565\n",
      "Non-trainable params: 0\n",
      "_________________________________________________________________\n"
     ]
    }
   ],
   "source": [
    "model_2.summary()"
   ]
  },
  {
   "cell_type": "code",
   "execution_count": 79,
   "metadata": {
    "colab": {
     "base_uri": "https://localhost:8080/"
    },
    "id": "7Lcg1lGANF8P",
    "outputId": "2fede98d-da79-4210-d8bf-4b9d056725ce"
   },
   "outputs": [
    {
     "name": "stdout",
     "output_type": "stream",
     "text": [
      "Epoch 1/20\n",
      "142/142 [==============================] - ETA: 0s - loss: 2.9481 - accuracy: 0.0772 - f1_score: 0.0772\n",
      "Epoch 1: val_accuracy improved from -inf to 0.08753, saving model to model_save/best_model_2.h5\n",
      "142/142 [==============================] - 21s 139ms/step - loss: 2.9481 - accuracy: 0.0772 - f1_score: 0.0772 - val_loss: 2.9241 - val_accuracy: 0.0875 - val_f1_score: 0.0875\n",
      "Epoch 2/20\n",
      "141/142 [============================>.] - ETA: 0s - loss: 2.9181 - accuracy: 0.0870 - f1_score: 0.0870\n",
      "Epoch 2: val_accuracy improved from 0.08753 to 0.08965, saving model to model_save/best_model_2.h5\n",
      "142/142 [==============================] - 20s 138ms/step - loss: 2.9183 - accuracy: 0.0870 - f1_score: 0.0870 - val_loss: 2.9172 - val_accuracy: 0.0897 - val_f1_score: 0.0897\n",
      "Epoch 3/20\n",
      "141/142 [============================>.] - ETA: 0s - loss: 2.8890 - accuracy: 0.1005 - f1_score: 0.1005\n",
      "Epoch 3: val_accuracy did not improve from 0.08965\n",
      "142/142 [==============================] - 20s 139ms/step - loss: 2.8890 - accuracy: 0.1006 - f1_score: 0.1006 - val_loss: 2.9093 - val_accuracy: 0.0892 - val_f1_score: 0.0892\n",
      "Epoch 3: early stopping\n"
     ]
    },
    {
     "data": {
      "text/plain": [
       "<keras.callbacks.History at 0x7f58083dde10>"
      ]
     },
     "execution_count": 79,
     "metadata": {},
     "output_type": "execute_result"
    }
   ],
   "source": [
    "model_2.fit(x=X_train_padded_2,\n",
    "            y=y_train_categorical,\n",
    "            epochs=20,\n",
    "            validation_data=(X_test_padded_2, y_test_categorical),\n",
    "            batch_size=100,\n",
    "            callbacks=callbacks_2)"
   ]
  },
  {
   "cell_type": "code",
   "execution_count": 81,
   "metadata": {
    "id": "ZYoS-pGXWEa-"
   },
   "outputs": [],
   "source": [
    "# %tensorboard --logdir logs/fits"
   ]
  },
  {
   "cell_type": "markdown",
   "metadata": {
    "id": "viW3Sdq9WqNr"
   },
   "source": [
    "Model 2 TensorBoard Images\n",
    "\n",
    "![](https://user-images.githubusercontent.com/63338657/196056554-b1a9057e-687b-4013-88e3-6386ddc4301b.png)\n",
    "\n",
    "![](https://user-images.githubusercontent.com/63338657/196056599-675440f5-515f-4d7d-99fa-6e7ac1d841c4.png)\n",
    "\n",
    "![](https://user-images.githubusercontent.com/63338657/196056647-3d034ffd-3a3a-4546-9b03-9441b9b08de9.png)"
   ]
  },
  {
   "cell_type": "code",
   "execution_count": 82,
   "metadata": {
    "colab": {
     "base_uri": "https://localhost:8080/",
     "height": 1000
    },
    "id": "uzSUoEenWpao",
    "outputId": "1f0405a9-5c65-41ac-fabc-8b70e056e1f0"
   },
   "outputs": [
    {
     "data": {
      "image/png": "[encoded data removed]",
      "text/plain": [
       "<IPython.core.display.Image object>"
      ]
     },
     "execution_count": 82,
     "metadata": {},
     "output_type": "execute_result"
    }
   ],
   "source": [
    "tf.keras.utils.plot_model(model=model_2,\n",
    "                          to_file=os.path.join(base_path, 'model_2.png'),\n",
    "                          show_shapes=True, \n",
    "                          show_layer_names=True,\n",
    "                          expand_nested=False,\n",
    "                          dpi=96)"
   ]
  },
  {
   "cell_type": "code",
   "execution_count": 83,
   "metadata": {
    "colab": {
     "base_uri": "https://localhost:8080/"
    },
    "id": "6ObwFBfvWw8o",
    "outputId": "749a889f-dec8-48e9-d570-455faabb4577"
   },
   "outputs": [
    {
     "name": "stdout",
     "output_type": "stream",
     "text": [
      "442/442 [==============================] - 5s 10ms/step - loss: 2.8248 - accuracy: 0.1299 - f1_score: 0.1299\n",
      "Training Accuracy: 12.994830310344696.\n",
      "Traning Loss: 2.8248414993286133.\n"
     ]
    }
   ],
   "source": [
    "train_loss_2, train_accuracy_2, _ = model_2.evaluate(x=X_train_padded_2, y=y_train_categorical)\n",
    "print(\"Training Accuracy: {}.\".format(train_accuracy_2 * 100))\n",
    "print(\"Traning Loss: {}.\".format(train_loss_2))"
   ]
  },
  {
   "cell_type": "code",
   "execution_count": 84,
   "metadata": {
    "colab": {
     "base_uri": "https://localhost:8080/"
    },
    "id": "09zs68KQXEA1",
    "outputId": "d1b66877-2b30-4b51-9091-89cbcc16c23c"
   },
   "outputs": [
    {
     "name": "stdout",
     "output_type": "stream",
     "text": [
      "148/148 [==============================] - 2s 11ms/step - loss: 2.9093 - accuracy: 0.0892 - f1_score: 0.0892\n",
      "Test Accuracy: 8.92288088798523.\n",
      "Test Loss: 2.9093451499938965.\n"
     ]
    }
   ],
   "source": [
    "test_loss_2, test_accuracy_2, _ = model_2.evaluate(x=X_test_padded_2, y=y_test_categorical)\n",
    "print(\"Test Accuracy: {}.\".format(test_accuracy_2 * 100))\n",
    "print(\"Test Loss: {}.\".format(test_loss_2))"
   ]
  },
  {
   "cell_type": "markdown",
   "metadata": {
    "id": "1FeBIBaCXSK5"
   },
   "source": [
    "End of the file."
   ]
  }
 ],
 "metadata": {
  "accelerator": "GPU",
  "colab": {
   "collapsed_sections": [],
   "machine_shape": "hm",
   "provenance": []
  },
  "gpuClass": "standard",
  "kernelspec": {
   "display_name": "Python 3 (ipykernel)",
   "language": "python",
   "name": "python3"
  },
  "language_info": {
   "codemirror_mode": {
    "name": "ipython",
    "version": 3
   },
   "file_extension": ".py",
   "mimetype": "text/x-python",
   "name": "python",
   "nbconvert_exporter": "python",
   "pygments_lexer": "ipython3",
   "version": "3.10.7"
  }
 },
 "nbformat": 4,
 "nbformat_minor": 1
}
