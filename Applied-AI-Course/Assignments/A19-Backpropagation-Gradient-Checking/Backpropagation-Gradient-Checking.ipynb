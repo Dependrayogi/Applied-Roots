{
 "cells": [
  {
   "cell_type": "markdown",
   "metadata": {
    "id": "y871RZtRhCEH"
   },
   "source": [
    "Backpropagation"
   ]
  },
  {
   "cell_type": "markdown",
   "metadata": {
    "id": "LqePYi-4mFvK"
   },
   "source": [
    "\n",
    "In this assignment, you will implement Backpropagation from scratch. You will then verify the correctness of the your implementation using a \"grader\" function/cell (provided by us) which will match your implmentation.\n",
    "\n",
    "The grader fucntion would help you validate the correctness of your code. \n",
    "\n",
    "Please submit the final Colab notebook in the classroom ONLY after you have verified your code using the grader function/cell.\n",
    "\n",
    "\n"
   ]
  },
  {
   "cell_type": "markdown",
   "metadata": {
    "id": "0huUQ0byiI0I"
   },
   "source": [
    "Loading data."
   ]
  },
  {
   "cell_type": "code",
   "execution_count": 1,
   "metadata": {
    "id": "1hSje5CBgcUb"
   },
   "outputs": [],
   "source": [
    "from matplotlib import pyplot as plt\n",
    "from matplotlib import style\n",
    "from tqdm import tqdm\n",
    "\n",
    "import numpy as np\n",
    "import pickle"
   ]
  },
  {
   "cell_type": "code",
   "execution_count": 2,
   "metadata": {},
   "outputs": [],
   "source": [
    "style.use(style='seaborn-deep')"
   ]
  },
  {
   "cell_type": "code",
   "execution_count": 3,
   "metadata": {},
   "outputs": [
    {
     "name": "stdout",
     "output_type": "stream",
     "text": [
      "(506, 6)\n",
      "(506, 5) (506,)\n"
     ]
    }
   ],
   "source": [
    "with open(file='data.pkl', mode='rb') as f:\n",
    "    data = pickle.load(f)\n",
    "\n",
    "print(data.shape)\n",
    "X = data[:, :5]\n",
    "y = data[:, -1]\n",
    "print(X.shape, y.shape)"
   ]
  },
  {
   "cell_type": "code",
   "execution_count": 4,
   "metadata": {},
   "outputs": [
    {
     "name": "stdout",
     "output_type": "stream",
     "text": [
      "[-1.2879095  -0.12001342 -1.45900038 -0.66660821 -0.14421743  1.85884913]\n"
     ]
    }
   ],
   "source": [
    "print(data[0])"
   ]
  },
  {
   "cell_type": "markdown",
   "metadata": {
    "id": "hmphIg_E52Rs"
   },
   "source": [
    "Check this video for better understanding of the computational graphs and back propagation."
   ]
  },
  {
   "cell_type": "markdown",
   "metadata": {
    "colab": {
     "base_uri": "https://localhost:8080/",
     "height": 520
    },
    "id": "uUWpHhgg53eu",
    "outputId": "3cc89735-d0a7-4c1c-aab5-d4e75b856a6b"
   },
   "source": [
    "Reference: https://youtu.be/i94OvYb6noo."
   ]
  },
  {
   "cell_type": "markdown",
   "metadata": {
    "id": "5JL-0soQistC"
   },
   "source": [
    "Computational graph."
   ]
  },
  {
   "cell_type": "markdown",
   "metadata": {
    "id": "nREnTTJ3i0Vd"
   },
   "source": [
    "<img src='https://i.imgur.com/seSGbNS.png'>"
   ]
  },
  {
   "cell_type": "markdown",
   "metadata": {
    "id": "DSPX_H_4i_HT"
   },
   "source": [
    "If you observe the graph, we are having input features [f1, f2, f3, f4, f5] and 9 weights [w1, w2, w3, w4, w5, w6, w7, w8, w9].\n",
    "\n",
    "The final output of this graph is a value $L$ which is computed as $(Y-Y^{'})^{2}$."
   ]
  },
  {
   "cell_type": "markdown",
   "metadata": {
    "id": "D54eDEv6jkO4"
   },
   "source": [
    "Task 1: Implementing Forward propagation, Backpropagation and Gradient checking."
   ]
  },
  {
   "cell_type": "markdown",
   "metadata": {
    "id": "xyWK94o_fTKH"
   },
   "source": [
    "Task 1.1"
   ]
  },
  {
   "cell_type": "markdown",
   "metadata": {
    "id": "RwEcPWLffTKI"
   },
   "source": [
    "Forward propagation."
   ]
  },
  {
   "cell_type": "markdown",
   "metadata": {
    "id": "FCZrm-gkfTKI"
   },
   "source": [
    "\n",
    "* Forward propagation (Write your code in<font color='blue'> def forward_propagation()</font>)<br><br>\n",
    "* For easy debugging, we will break the computational graph into 3 parts.\n",
    "\n",
    "    <font color='green'><b>Part 1</b></font></b>\n",
    "    <img src='https://i.imgur.com/0xUaxy6.png'><br><br>\n",
    "    <font color='green'><b>Part 2</b></font></b><br>\n",
    "    <img src='https://i.imgur.com/J29pAJL.png'><br><br>\n",
    "    <font color='green'><b>Part 3</b></font></b>\n",
    "    <img src='https://i.imgur.com/vMyCsd9.png'>"
   ]
  },
  {
   "cell_type": "code",
   "execution_count": 5,
   "metadata": {
    "id": "ADCovl2FfTKJ"
   },
   "outputs": [],
   "source": [
    "def sigmoid(z):\n",
    "    \"\"\"\n",
    "    In this function, we will compute the sigmoid(z).\n",
    "    \"\"\"\n",
    "    return 1 / (1 + np.exp(-z))"
   ]
  },
  {
   "cell_type": "code",
   "execution_count": 6,
   "metadata": {
    "id": "dLJ-OYwefTKJ"
   },
   "outputs": [
    {
     "data": {
      "text/plain": [
       "True"
      ]
     },
     "execution_count": 6,
     "metadata": {},
     "output_type": "execute_result"
    }
   ],
   "source": [
    "def grader_sigmoid(x):\n",
    "    val = sigmoid(z=x)\n",
    "    assert(val == 0.8807970779778825)\n",
    "    return True\n",
    "\n",
    "grader_sigmoid(x=2)"
   ]
  },
  {
   "cell_type": "code",
   "execution_count": 7,
   "metadata": {
    "id": "KD3piNkifTKJ"
   },
   "outputs": [],
   "source": [
    "def forward_propagation(x, y, w):\n",
    "    \"\"\"\n",
    "    In this function, we will compute the forward propagation.\n",
    "    \"\"\"\n",
    "\n",
    "    forward_dict = dict()\n",
    "\n",
    "    p1_m1 = x[0] * w[0]\n",
    "    forward_dict['o1_m1'] = p1_m1\n",
    "    p1_m2 = x[1] * w[1]\n",
    "    forward_dict['o1_m2'] = p1_m2\n",
    "    p1_a1 = p1_m1 + p1_m2\n",
    "    forward_dict['o1_a1'] = p1_a1\n",
    "    p1_a2 = p1_m1 + p1_m2\n",
    "    forward_dict['o1_a2'] = p1_a2\n",
    "    p1_m3 = p1_a1 * p1_a2\n",
    "    forward_dict['o1_m3'] = p1_m3\n",
    "    p1_a3 = p1_m3 + w[5]\n",
    "    forward_dict['o1_a3'] = p1_a3\n",
    "    p1_exp = np.exp(p1_a3)\n",
    "    forward_dict['o1_exp'] = p1_exp\n",
    "\n",
    "    p2_a1 = p1_exp + w[6]\n",
    "    forward_dict['o2_a1'] = p2_a1\n",
    "    p2_tanh = np.tanh(p2_a1)\n",
    "    forward_dict['o2_tanh'] = p2_tanh\n",
    "\n",
    "    p3_m1 = x[2] * w[2]\n",
    "    forward_dict['o3_m1'] = p3_m1\n",
    "    p3_sin = np.sin(p3_m1)\n",
    "    forward_dict['o3_sin'] = p3_sin\n",
    "    p3_m2 = x[3] * w[3]\n",
    "    forward_dict['o3_m2'] = p3_m2\n",
    "    p3_m3 = x[4] * w[4]\n",
    "    forward_dict['o3_m3'] = p3_m3\n",
    "    p3_a1 = p3_m2 + p3_m3\n",
    "    forward_dict['o3_a1'] = p3_a1\n",
    "    p3_m4 = p3_sin * p3_a1\n",
    "    forward_dict['o3_m4'] = p3_m4\n",
    "    p3_a2 = p3_m4 + w[7]\n",
    "    forward_dict['o3_a2'] = p3_a2\n",
    "    p3_sigmoid = sigmoid(z=p3_a2)\n",
    "    forward_dict['o3_sigmoid'] = p3_sigmoid\n",
    "\n",
    "    p4_m1 = p3_sigmoid * w[8]\n",
    "    forward_dict['o4_m1'] = p4_m1\n",
    "    p4_a1 = p2_tanh + p4_m1\n",
    "    forward_dict['o4_a1'] = p4_a1\n",
    "    y_hat = p4_a1\n",
    "    \n",
    "    l = (y - y_hat) ** 2\n",
    "    dl = (2 * (y - y_hat)) * (-1)\n",
    "\n",
    "    forward_dict['exp'] = p1_exp\n",
    "    forward_dict['sigmoid'] = p3_sigmoid\n",
    "    forward_dict['tanh'] = p2_tanh\n",
    "    forward_dict['loss'] = l\n",
    "    forward_dict['dl'] = dl\n",
    "\n",
    "    return forward_dict"
   ]
  },
  {
   "cell_type": "code",
   "execution_count": 8,
   "metadata": {
    "id": "vP0iV7f4fTKK"
   },
   "outputs": [
    {
     "data": {
      "text/plain": [
       "True"
      ]
     },
     "execution_count": 8,
     "metadata": {},
     "output_type": "execute_result"
    }
   ],
   "source": [
    "def grader_forwardprop(data):\n",
    "    dl = (data['dl'] == -1.9285278284819143)\n",
    "    loss = (data['loss'] == 0.9298048963072919)\n",
    "    part1 = (data['exp'] == 1.1272967040973583)\n",
    "    part2 = (data['tanh'] == 0.8417934192562146)\n",
    "    part3 = (data['sigmoid'] == 0.5279179387419721)\n",
    "    assert (dl and loss and part1 and part2 and part3)\n",
    "    return True\n",
    "\n",
    "w = np.ones(9) * 0.1\n",
    "d1 = forward_propagation(x=X[0], y=y[0], w=w)\n",
    "grader_forwardprop(data=d1)"
   ]
  },
  {
   "cell_type": "markdown",
   "metadata": {
    "id": "2zcQmvkvfTKL"
   },
   "source": [
    "Task 1.2"
   ]
  },
  {
   "cell_type": "markdown",
   "metadata": {
    "id": "4YVYD18xfTKL"
   },
   "source": [
    "Backward propagation."
   ]
  },
  {
   "cell_type": "markdown",
   "metadata": {},
   "source": [
    "Hand solved gradients.\n",
    "\n",
    "![](https://user-images.githubusercontent.com/63338657/194126110-7144dfdd-7a09-44ae-9eea-4f06af359097.jpg)\n",
    "\n",
    "![](https://user-images.githubusercontent.com/63338657/194126199-e94cb4b5-4b12-4c1a-b604-b3bcde6d1a4e.jpg)\n",
    "\n",
    "![](https://user-images.githubusercontent.com/63338657/194126273-dce25da5-9728-46ee-8bea-6624ef70fad4.jpg)\n",
    "\n",
    "![](https://user-images.githubusercontent.com/63338657/194126356-d4c26b15-2e4c-4690-8d34-90447a7dffda.jpg)\n",
    "\n",
    "![](https://user-images.githubusercontent.com/63338657/194126442-ddffeb94-de50-419e-bb05-fc4b527e8b5c.jpg)"
   ]
  },
  {
   "cell_type": "code",
   "execution_count": 9,
   "metadata": {
    "id": "Ld1PMQtffTKL"
   },
   "outputs": [],
   "source": [
    "def backward_propagation(x, y, w, forward_dict):\n",
    "    \"\"\"\n",
    "    In this function, we will compute the backward propagation.\n",
    "    \"\"\"\n",
    "    backward_dict = dict()\n",
    "    \n",
    "    d_sigmoid = forward_dict['o3_sigmoid'] * (1 - forward_dict['o3_sigmoid'])\n",
    "    \n",
    "    dw1 = x[0] * 2 * forward_dict['o1_a1'] * forward_dict['o1_exp'] * (1 - (forward_dict['o2_tanh'] ** 2))\n",
    "    dw2 = x[1] * 2 * forward_dict['o1_a1'] * forward_dict['o1_exp'] * (1 - (forward_dict['o2_tanh'] ** 2))\n",
    "    dw3 = x[2] * forward_dict['o3_a1'] * w[8] * d_sigmoid * np.cos(forward_dict['o3_m1'])\n",
    "    dw4 = x[3] * w[8] * d_sigmoid * forward_dict['o3_sin']\n",
    "    dw5 = x[4] * w[8] * d_sigmoid * forward_dict['o3_sin']\n",
    "    dw6 = forward_dict['o1_exp'] * (1 - (forward_dict['o2_tanh'] ** 2))\n",
    "    dw7 = (1 - (forward_dict['o2_tanh'] ** 2))\n",
    "    dw8 = w[8] * d_sigmoid\n",
    "    dw9 = forward_dict['o3_sigmoid']\n",
    "    \n",
    "    backward_dict['dw1'] = forward_dict['dl'] * dw1\n",
    "    backward_dict['dw2'] = forward_dict['dl'] * dw2\n",
    "    backward_dict['dw3'] = forward_dict['dl'] * dw3\n",
    "    backward_dict['dw4'] = forward_dict['dl'] * dw4\n",
    "    backward_dict['dw5'] = forward_dict['dl'] * dw5\n",
    "    backward_dict['dw6'] = forward_dict['dl'] * dw6\n",
    "    backward_dict['dw7'] = forward_dict['dl'] * dw7\n",
    "    backward_dict['dw8'] = forward_dict['dl'] * dw8\n",
    "    backward_dict['dw9'] = forward_dict['dl'] * dw9\n",
    "    \n",
    "    return backward_dict"
   ]
  },
  {
   "cell_type": "code",
   "execution_count": 10,
   "metadata": {
    "id": "0ipQbNXOfTKM"
   },
   "outputs": [
    {
     "data": {
      "text/plain": [
       "True"
      ]
     },
     "execution_count": 10,
     "metadata": {},
     "output_type": "execute_result"
    }
   ],
   "source": [
    "def grader_backprop(data):\n",
    "    dw1 = (np.round(data['dw1'], 6) == -0.229733)\n",
    "    dw2 = (np.round(data['dw2'], 6) == -0.021408)\n",
    "    dw3 = (np.round(data['dw3'], 6) == -0.005625)\n",
    "    dw4 = (np.round(data['dw4'], 6) == -0.004658)\n",
    "    dw5 = (np.round(data['dw5'], 6) == -0.001008)\n",
    "    dw6 = (np.round(data['dw6'], 6) == -0.633475)\n",
    "    dw7 = (np.round(data['dw7'], 6) == -0.561942)\n",
    "    dw8 = (np.round(data['dw8'], 6) == -0.048063)\n",
    "    dw9 = (np.round(data['dw9'], 6) == -1.018104)\n",
    "    assert (dw1 and dw2 and dw3 and dw4 and dw5 and dw6 and dw7 and dw8 and dw9)\n",
    "    return True\n",
    "\n",
    "w = np.ones(9) * 0.1\n",
    "forward_dict = forward_propagation(x=X[0], y=y[0], w=w)\n",
    "backward_dict = backward_propagation(x=X[0], y=y[0], w=w, forward_dict=forward_dict)\n",
    "grader_backprop(data=backward_dict)"
   ]
  },
  {
   "cell_type": "markdown",
   "metadata": {
    "id": "RlR1JVN5fTKM"
   },
   "source": [
    "Task 1.3"
   ]
  },
  {
   "cell_type": "markdown",
   "metadata": {
    "id": "STS4NrQQc6OH"
   },
   "source": [
    " Gradient clipping."
   ]
  },
  {
   "cell_type": "markdown",
   "metadata": {
    "id": "XY7ivRNzdPok"
   },
   "source": [
    "Check this  <a href='https://towardsdatascience.com/how-to-debug-a-neural-network-with-gradient-checking-41deec0357a9'>blog link</a> for more details on Gradient clipping."
   ]
  },
  {
   "cell_type": "markdown",
   "metadata": {
    "id": "BrsfpDoidtZ5"
   },
   "source": [
    "We know that the derivative of any function is\n",
    "\n",
    "$$\\lim_{\\epsilon\\to0}\\frac{f(x+\\epsilon)-f(x-\\epsilon)}{2\\epsilon}$$"
   ]
  },
  {
   "cell_type": "markdown",
   "metadata": {
    "id": "vUcmt0kPd02f"
   },
   "source": [
    "*  The definition above can be used as a numerical approximation of the derivative. Taking an epsilon small enough, the calculated approximation will have an error in the range of epsilon squared. \n",
    "\n",
    "*  In other words, if epsilon is 0.001, the approximation will be off by 0.00001.\n",
    "\n",
    "Therefore, we can use this to approximate the gradient, and in turn make sure that backpropagation is implemented properly. This forms the basis of <b>gradient checking!</b>"
   ]
  },
  {
   "cell_type": "markdown",
   "metadata": {
    "id": "pFSu16KCeU0x"
   },
   "source": [
    "Gradient checking example."
   ]
  },
  {
   "cell_type": "markdown",
   "metadata": {
    "id": "Gz0mmT_xecfC"
   },
   "source": [
    "<font >\n",
    "Lets understand the concept with a simple example:\n",
    "$f(w1,w2,x1,x2)=w_{1}^{2} . x_{1} + w_{2} . x_{2}$ \n",
    "\n",
    "From the above function , lets assume $w_{1}=1$, $w_{2}=2$, $x_{1}=3$, $x_{2}=4$ the gradient of $f$ w.r.t $w_{1}$ is\n",
    "$$\n",
    "\\begin{array} {lcl}\n",
    "\\frac{df}{dw_{1}} = dw_{1} &=&2.w_{1}.x_{1} \\\\& = &2.1.3\\\\& = &6\n",
    "\\end{array}\n",
    "$$\n",
    "\n",
    "Let calculate the aproximate gradient of $w_{1}$ as mentinoned in the above formula and considering $\\epsilon=0.0001$\n",
    "\n",
    "$$\n",
    "\\begin{array} {lcl}\n",
    "dw_1^{approx} & = & \\frac{f(w1+\\epsilon,w2,x1,x2)-f(w1-\\epsilon,w2,x1,x2)}{2\\epsilon} \\\\ & = & \\frac{((1+0.0001)^{2} . 3 + 2 . 4) - ((1-0.0001)^{2} . 3 + 2 . 4)}{2\\epsilon} \\\\ & = & \\frac{(1.00020001 . 3 + 2 . 4) - (0.99980001. 3 + 2 . 4)}{2*0.0001} \\\\ & = & \\frac{(11.00060003) - (10.99940003)}{0.0002}\\\\ & = & 5.99999999999\n",
    "\\end{array}\n",
    "$$\n",
    "\n",
    "Then, we apply the following formula for gradient check: <i>gradient_check</i> = \n",
    "$\\frac{\\left\\Vert\\left (dW-dW^{approx}\\rm\\right) \\right\\Vert_2}{\\left\\Vert\\left (dW\\rm\\right) \\right\\Vert_2+\\left\\Vert\\left (dW^{approx}\\rm\\right) \\right\\Vert_2}$\n",
    "\n",
    "The equation above is basically the Euclidean distance normalized by the sum of the norm of the vectors. We use normalization in case that one of the vectors is very small.\n",
    "As a value for epsilon, we usually opt for 1e-7. Therefore, if gradient check return a value less than 1e-7, then it means that backpropagation was implemented correctly. Otherwise, there is potentially a mistake in your implementation. If the value exceeds 1e-3, then you are sure that the code is not correct.\n",
    "\n",
    "In our example: <i>gradient_check</i> $ = \\frac{(6 - 5.999999999994898)}{(6 + 5.999999999994898)} = 4.2514140356330737e^{-13}$.\n",
    "\n",
    "You can mathamatically derive the same thing like this\n",
    "\n",
    "$$\n",
    "\\begin{array} {lcl}\n",
    "dw_1^{approx} & = & \\frac{f(w1+\\epsilon,w2,x1,x2)-f(w1-\\epsilon,w2,x1,x2)}{2\\epsilon} \\\\ & = & \\frac{((w_{1}+\\epsilon)^{2} . x_{1} + w_{2} . x_{2}) - ((w_{1}-\\epsilon)^{2} . x_{1} + w_{2} . x_{2})}{2\\epsilon} \\\\ & = & \\frac{4. \\epsilon.w_{1}. x_{1}}{2\\epsilon} \\\\ & = &  2.w_{1}.x_{1}\n",
    "\\end{array}\n",
    "$$"
   ]
  },
  {
   "cell_type": "markdown",
   "metadata": {
    "id": "f1BFQQaCermK"
   },
   "source": [
    "Implement Gradient checking (Write your code in <font color='blue'> def gradient_checking()</font>)."
   ]
  },
  {
   "cell_type": "code",
   "execution_count": 11,
   "metadata": {
    "id": "XBoJRqAwfTKO"
   },
   "outputs": [],
   "source": [
    "def gradient_checking(x, y, w, eps):\n",
    "    \"\"\"\n",
    "    This function is used to monitor the gradients.\n",
    "    \"\"\"\n",
    "    forward_dict = forward_propagation(x=x, y=y, w=w)\n",
    "    backward_dict = backward_propagation(x=x, y=y, w=w, forward_dict=forward_dict)\n",
    "    \n",
    "    original_gradients_list = list(backward_dict.values())\n",
    "    \n",
    "    approx_gradients_list = []\n",
    "    \n",
    "    for i in range(len(w)):\n",
    "        w_new = w[:]\n",
    "        w_new[i] = w_new[i] + eps\n",
    "        f1 = forward_propagation(x=x, y=y, w=w_new)['loss']\n",
    "        \n",
    "        w_new = w[:]\n",
    "        w_new[i] = w_new[i] - eps\n",
    "        f2 = forward_propagation(x=x, y=y, w=w_new)['loss']\n",
    "        \n",
    "        grad = (f1 - f2) / (2*eps)\n",
    "        approx_gradients_list.append(grad)\n",
    "    \n",
    "    original_gradients_list = np.array(original_gradients_list)\n",
    "    approx_gradients_list = np.array(approx_gradients_list)\n",
    "    gradient_check_value = ((original_gradients_list - approx_gradients_list) / \n",
    "                            (original_gradients_list + approx_gradients_list))\n",
    "    \n",
    "    return gradient_check_value"
   ]
  },
  {
   "cell_type": "code",
   "execution_count": 12,
   "metadata": {
    "id": "aWSU56GffTKO"
   },
   "outputs": [
    {
     "name": "stdout",
     "output_type": "stream",
     "text": [
      "[-1.73921918e-08  1.63713365e-06  5.73356054e-05  3.77243270e-05\n",
      " -1.95446016e-04 -1.16536656e-10 -3.79907639e-10 -1.06774472e-07\n",
      " -7.02865325e-10]\n"
     ]
    },
    {
     "data": {
      "text/plain": [
       "True"
      ]
     },
     "execution_count": 12,
     "metadata": {},
     "output_type": "execute_result"
    }
   ],
   "source": [
    "def grader_grad_check(value):\n",
    "    print(value)\n",
    "    assert(np.all(value <= 10**-3))\n",
    "    return True \n",
    "\n",
    "w = [0.00271756, 0.01260512, 0.00167639, \n",
    "     -0.00207756, 0.00720768, 0.00114524, \n",
    "     0.00684168, 0.02242521, 0.01296444]\n",
    "eps = 10**(-7)\n",
    "value = gradient_checking(x=X[0], y=y[0], w=w, eps=eps)\n",
    "grader_grad_check(value=value)"
   ]
  },
  {
   "cell_type": "markdown",
   "metadata": {
    "id": "0ufbFBFfhgL0"
   },
   "source": [
    "Task 2: Optimizers"
   ]
  },
  {
   "cell_type": "markdown",
   "metadata": {
    "id": "7zt05soYh1RM"
   },
   "source": [
    "* As a part of this task, you will be implementing 2  optimizers(methods to update weight).\n",
    "* Use the same computational graph that was mentioned above to do this task.\n",
    "* The weights have been initialized from normal distribution with mean=0 and std=0.01. The initialization of weights is very important otherwiswe you can face vanishing gradient and exploding gradients problem."
   ]
  },
  {
   "cell_type": "markdown",
   "metadata": {
    "id": "CAyi7aSAicbr"
   },
   "source": [
    "Check below video for reference purpose."
   ]
  },
  {
   "cell_type": "markdown",
   "metadata": {
    "id": "ZogcxiegkQpz"
   },
   "source": [
    "Reference: https://youtu.be/gYpoJMlgyXA."
   ]
  },
  {
   "cell_type": "markdown",
   "metadata": {
    "id": "_fdmPNqtjm3X"
   },
   "source": [
    "Implement below tasks."
   ]
  },
  {
   "cell_type": "markdown",
   "metadata": {
    "id": "Ll9-CRsLjx_D"
   },
   "source": [
    "*  <b>Task 2.1</b>: You will be implementing the above algorithm with <b>Vanilla update</b> of weights.\n",
    "*  <b>Task 2.2</b>: You will be implementing the above algorithm with <b>Momentum update</b> of weights.\n",
    "*  <b>Task 2.3</b>: You will be implementing the above algorithm with <b>Adam update</b> of weights."
   ]
  },
  {
   "cell_type": "markdown",
   "metadata": {
    "id": "atp082demrUR"
   },
   "source": [
    "Note : If you get any assertion error while running grader functions, please print the variables in grader functions and check which variable is returning False. Recheck your logic for that variable."
   ]
  },
  {
   "cell_type": "code",
   "execution_count": 13,
   "metadata": {},
   "outputs": [],
   "source": [
    "class ImplementOptimizers(object):\n",
    "    \"\"\"\n",
    "    This class implements different optimizers.\n",
    "    \"\"\"\n",
    "    \n",
    "    def __init__(self, X, y, eta, epochs):\n",
    "        self.X = X\n",
    "        self.y = y\n",
    "        self.eta = eta\n",
    "        self.epochs = list(range(epochs))\n",
    "        self.no_weights = 9\n",
    "    \n",
    "    def implement_vanilla_update(self):\n",
    "        \"\"\"\n",
    "        This method implements vanilla update to the weights.\n",
    "        \"\"\"\n",
    "        loss_list = list()\n",
    "        \n",
    "        w = np.random.normal(loc=0.0, scale=0.01, size=self.no_weights)\n",
    "        \n",
    "        for epoch in self.epochs:\n",
    "            sdg_loss = list()\n",
    "            \n",
    "            for (xi, yi) in zip(self.X, self.y):\n",
    "                forward_dict = forward_propagation(x=xi, y=yi, w=w)\n",
    "                sdg_loss.append(forward_dict['loss'])\n",
    "                \n",
    "                backward_dict = backward_propagation(x=xi, y=yi, w=w, forward_dict=forward_dict)\n",
    "                dLdw = np.array(list(backward_dict.values()))\n",
    "                \n",
    "                w = w - (self.eta * dLdw)\n",
    "            \n",
    "            epoch_loss = np.mean(a=sdg_loss)\n",
    "            loss_list.append(epoch_loss)\n",
    "            print(\"Epoch: {}, Loss: {}.\".format(epoch, epoch_loss))\n",
    "        \n",
    "        return loss_list\n",
    "    \n",
    "    def implement_momentum_update(self):\n",
    "        \"\"\"\n",
    "        This method implements momentum update to the weights.\n",
    "        \"\"\"\n",
    "        loss_list = list()\n",
    "        \n",
    "        w = np.random.normal(loc=0.0, scale=0.01, size=self.no_weights)\n",
    "        gamma = 0.9\n",
    "        v = 0\n",
    "        \n",
    "        for epoch in self.epochs:\n",
    "            sdg_loss = list()\n",
    "            \n",
    "            for (xi, yi) in zip(self.X, self.y):\n",
    "                forward_dict = forward_propagation(x=xi, y=yi, w=w)\n",
    "                sdg_loss.append(forward_dict['loss'])\n",
    "                \n",
    "                backward_dict = backward_propagation(x=xi, y=yi, w=w, forward_dict=forward_dict)\n",
    "                dLdw = np.array(list(backward_dict.values()))\n",
    "                \n",
    "                v = (gamma * v) + (self.eta * dLdw)\n",
    "                w = w - v\n",
    "            \n",
    "            epoch_loss = np.mean(a=sdg_loss)\n",
    "            loss_list.append(epoch_loss)\n",
    "            print(\"Epoch: {}, Loss: {}.\".format(epoch, epoch_loss))\n",
    "        \n",
    "        return loss_list\n",
    "    \n",
    "    def implement_adam_update(self):\n",
    "        \"\"\"\n",
    "        This method implements adam update to the weights.\n",
    "        \"\"\"\n",
    "        loss_list = list()\n",
    "        \n",
    "        w = np.random.normal(loc=0.0, scale=0.01, size=self.no_weights)\n",
    "        m, v = 0, 0\n",
    "        b1, b2 = 0.9, 0.99\n",
    "        eps = 1e-8\n",
    "        \n",
    "        for epoch in self.epochs:\n",
    "            sdg_loss = list()\n",
    "            t = epoch + 1\n",
    "            \n",
    "            for (xi, yi) in zip(self.X, self.y):\n",
    "                forward_dict = forward_propagation(x=xi, y=yi, w=w)\n",
    "                sdg_loss.append(forward_dict['loss'])\n",
    "                \n",
    "                backward_dict = backward_propagation(x=xi, y=yi, w=w, forward_dict=forward_dict)\n",
    "                dLdw = np.array(list(backward_dict.values()))\n",
    "                \n",
    "                m = (b1 * m) + ((1 - b1) * dLdw)\n",
    "                v = (b2 * v) + ((1 - b2) * (dLdw ** 2))\n",
    "                m_cap = m / (1 - (b1 ** t))\n",
    "                v_cap = v / (1 - (b2 ** t))\n",
    "                w = w - ((self.eta / (np.sqrt(v_cap) + eps)) * m_cap)\n",
    "            \n",
    "            epoch_loss = np.mean(a=sdg_loss)\n",
    "            loss_list.append(epoch_loss)\n",
    "            print(\"Epoch: {}, Loss: {}.\".format(epoch, epoch_loss))\n",
    "        \n",
    "        return loss_list"
   ]
  },
  {
   "cell_type": "code",
   "execution_count": 14,
   "metadata": {},
   "outputs": [],
   "source": [
    "opt = ImplementOptimizers(X=X, y=y, eta=0.001, epochs=30)"
   ]
  },
  {
   "cell_type": "markdown",
   "metadata": {
    "id": "cv_hZFWalS2z"
   },
   "source": [
    "2.1 Algorithm with Vanilla update of weights."
   ]
  },
  {
   "cell_type": "code",
   "execution_count": 15,
   "metadata": {
    "id": "KlVuEsRjQoW5"
   },
   "outputs": [
    {
     "name": "stdout",
     "output_type": "stream",
     "text": [
      "Epoch: 0, Loss: 0.6963719928959677.\n",
      "Epoch: 1, Loss: 0.3454798606918055.\n",
      "Epoch: 2, Loss: 0.18453002402263716.\n",
      "Epoch: 3, Loss: 0.10139005590997607.\n",
      "Epoch: 4, Loss: 0.06088431299769883.\n",
      "Epoch: 5, Loss: 0.0427290307557766.\n",
      "Epoch: 6, Loss: 0.0352086455068501.\n",
      "Epoch: 7, Loss: 0.03231854132966018.\n",
      "Epoch: 8, Loss: 0.03130022434548508.\n",
      "Epoch: 9, Loss: 0.030987934097191024.\n",
      "Epoch: 10, Loss: 0.030920320770101442.\n",
      "Epoch: 11, Loss: 0.030925694750422266.\n",
      "Epoch: 12, Loss: 0.030944909048173378.\n",
      "Epoch: 13, Loss: 0.03096018462243123.\n",
      "Epoch: 14, Loss: 0.030967858100551075.\n",
      "Epoch: 15, Loss: 0.03096845337580732.\n",
      "Epoch: 16, Loss: 0.03096330904594072.\n",
      "Epoch: 17, Loss: 0.030953576294026654.\n",
      "Epoch: 18, Loss: 0.030940017569535842.\n",
      "Epoch: 19, Loss: 0.030923041659047714.\n",
      "Epoch: 20, Loss: 0.03090278509001518.\n",
      "Epoch: 21, Loss: 0.0308791838230012.\n",
      "Epoch: 22, Loss: 0.030852024176379885.\n",
      "Epoch: 23, Loss: 0.030820975157354845.\n",
      "Epoch: 24, Loss: 0.030785606968453325.\n",
      "Epoch: 25, Loss: 0.03074539993612762.\n",
      "Epoch: 26, Loss: 0.0306997469809955.\n",
      "Epoch: 27, Loss: 0.030647951754559876.\n",
      "Epoch: 28, Loss: 0.030589223849259474.\n",
      "Epoch: 29, Loss: 0.030522672018751192.\n"
     ]
    }
   ],
   "source": [
    "vanilla_loss = opt.implement_vanilla_update()"
   ]
  },
  {
   "cell_type": "markdown",
   "metadata": {
    "id": "V4RWWrZ7lWap"
   },
   "source": [
    "2.2 Algorithm with Momentum update of weights."
   ]
  },
  {
   "cell_type": "markdown",
   "metadata": {
    "id": "oM2BAasL6zz4"
   },
   "source": [
    "<img src='https://i.imgur.com/gyPSXhS.png'>"
   ]
  },
  {
   "cell_type": "markdown",
   "metadata": {
    "id": "2iCc4sIE-4A-"
   },
   "source": [
    "Here Gamma referes to the momentum coefficient, eta is leaning rate and v_t is moving average of our gradients at timestep t"
   ]
  },
  {
   "cell_type": "code",
   "execution_count": 16,
   "metadata": {
    "id": "HuDaxRnCQoW5"
   },
   "outputs": [
    {
     "name": "stdout",
     "output_type": "stream",
     "text": [
      "Epoch: 0, Loss: 0.14304377500935742.\n",
      "Epoch: 1, Loss: 0.03038555905640686.\n",
      "Epoch: 2, Loss: 0.03057434433457403.\n",
      "Epoch: 3, Loss: 0.03008222518565102.\n",
      "Epoch: 4, Loss: 0.028606556289228965.\n",
      "Epoch: 5, Loss: 0.024795179933724494.\n",
      "Epoch: 6, Loss: 0.017729576014118637.\n",
      "Epoch: 7, Loss: 0.010066501618458599.\n",
      "Epoch: 8, Loss: 0.005311492777406843.\n",
      "Epoch: 9, Loss: 0.003139498894537309.\n",
      "Epoch: 10, Loss: 0.00218222498022234.\n",
      "Epoch: 11, Loss: 0.0017348971565945338.\n",
      "Epoch: 12, Loss: 0.001507627123507354.\n",
      "Epoch: 13, Loss: 0.0013799005740434186.\n",
      "Epoch: 14, Loss: 0.0012997212961903231.\n",
      "Epoch: 15, Loss: 0.0012438154676500217.\n",
      "Epoch: 16, Loss: 0.0012013248142860955.\n",
      "Epoch: 17, Loss: 0.0011669016542633316.\n",
      "Epoch: 18, Loss: 0.0011377185983842204.\n",
      "Epoch: 19, Loss: 0.0011121504386550315.\n",
      "Epoch: 20, Loss: 0.001089181448951745.\n",
      "Epoch: 21, Loss: 0.001068130753493368.\n",
      "Epoch: 22, Loss: 0.001048518762414444.\n",
      "Epoch: 23, Loss: 0.0010299973634944827.\n",
      "Epoch: 24, Loss: 0.0010123099465500056.\n",
      "Epoch: 25, Loss: 0.0009952662385011525.\n",
      "Epoch: 26, Loss: 0.0009787251549083428.\n",
      "Epoch: 27, Loss: 0.0009625824591800647.\n",
      "Epoch: 28, Loss: 0.0009467615968104023.\n",
      "Epoch: 29, Loss: 0.0009312067831384067.\n"
     ]
    }
   ],
   "source": [
    "momentum_loss = opt.implement_momentum_update()"
   ]
  },
  {
   "cell_type": "markdown",
   "metadata": {
    "id": "Agtmr_lZQoW6"
   },
   "source": [
    "2.3 Algorithm with Adam update of weights."
   ]
  },
  {
   "cell_type": "markdown",
   "metadata": {
    "id": "WRYiT2KKQoW6"
   },
   "source": [
    "<img src='https://i.imgur.com/GDR8UFP.jpg'>"
   ]
  },
  {
   "cell_type": "code",
   "execution_count": 17,
   "metadata": {
    "id": "0YffVQ2LQoW6"
   },
   "outputs": [
    {
     "name": "stdout",
     "output_type": "stream",
     "text": [
      "Epoch: 0, Loss: 0.46033605295992047.\n",
      "Epoch: 1, Loss: 0.08997233185351344.\n",
      "Epoch: 2, Loss: 0.00998883575119737.\n",
      "Epoch: 3, Loss: 0.003084003231520696.\n",
      "Epoch: 4, Loss: 0.0013902922926218094.\n",
      "Epoch: 5, Loss: 0.0008164626500134751.\n",
      "Epoch: 6, Loss: 0.0005327135511252326.\n",
      "Epoch: 7, Loss: 0.0003404394340257538.\n",
      "Epoch: 8, Loss: 0.0002092014588582612.\n",
      "Epoch: 9, Loss: 0.00012503756460800785.\n",
      "Epoch: 10, Loss: 7.478592093730734e-05.\n",
      "Epoch: 11, Loss: 4.5707109785085694e-05.\n",
      "Epoch: 12, Loss: 2.8402028576425128e-05.\n",
      "Epoch: 13, Loss: 1.7468168310392837e-05.\n",
      "Epoch: 14, Loss: 1.0190963020274455e-05.\n",
      "Epoch: 15, Loss: 5.271351263682033e-06.\n",
      "Epoch: 16, Loss: 2.2439593028953905e-06.\n",
      "Epoch: 17, Loss: 6.854599617036353e-07.\n",
      "Epoch: 18, Loss: 3.350779208288715e-07.\n",
      "Epoch: 19, Loss: 2.9431602394229507e-07.\n",
      "Epoch: 20, Loss: 2.474489917566754e-07.\n",
      "Epoch: 21, Loss: 2.7360793776103963e-07.\n",
      "Epoch: 22, Loss: 2.524227871834622e-07.\n",
      "Epoch: 23, Loss: 2.531333793024268e-07.\n",
      "Epoch: 24, Loss: 2.751121466419193e-07.\n",
      "Epoch: 25, Loss: 2.65406387386385e-07.\n",
      "Epoch: 26, Loss: 2.775909440678494e-07.\n",
      "Epoch: 27, Loss: 2.7679882621707784e-07.\n",
      "Epoch: 28, Loss: 2.849744208080224e-07.\n",
      "Epoch: 29, Loss: 2.8816527651817975e-07.\n"
     ]
    }
   ],
   "source": [
    "adam_loss = opt.implement_adam_update()"
   ]
  },
  {
   "cell_type": "markdown",
   "metadata": {
    "id": "7627cy8YlnYO"
   },
   "source": [
    "Comparision plot between epochs and loss with different optimizers. Make sure that loss is conerging with increaing epochs."
   ]
  },
  {
   "cell_type": "code",
   "execution_count": 18,
   "metadata": {
    "id": "scleSfIXl_bC"
   },
   "outputs": [
    {
     "data": {
      "image/png": "[encoded data removed]",
      "text/plain": [
       "<Figure size 1080x576 with 1 Axes>"
      ]
     },
     "metadata": {
      "needs_background": "light"
     },
     "output_type": "display_data"
    }
   ],
   "source": [
    "plt.figure(figsize=(15, 8))\n",
    "plt.plot(opt.epochs, vanilla_loss, 'o--r', label='Vanilla Loss')\n",
    "plt.plot(opt.epochs, momentum_loss, 'o--b', label='Momentum Loss')\n",
    "plt.plot(opt.epochs, adam_loss, 'o--k', label='Adam Loss')\n",
    "plt.title('Epochs VS Loss')\n",
    "plt.xlabel('Epochs')\n",
    "plt.ylabel('Loss')\n",
    "plt.grid()\n",
    "plt.legend()\n",
    "plt.show()"
   ]
  },
  {
   "cell_type": "markdown",
   "metadata": {
    "id": "YfDWEOCr69uQ"
   },
   "source": [
    "You can go through the following blog to understand the implementation of other optimizers. [Gradients update blog](https://cs231n.github.io/neural-networks-3/)."
   ]
  },
  {
   "cell_type": "markdown",
   "metadata": {},
   "source": [
    "End of the file."
   ]
  }
 ],
 "metadata": {
  "colab": {
   "collapsed_sections": [],
   "provenance": []
  },
  "kernelspec": {
   "display_name": "Python 3 (ipykernel)",
   "language": "python",
   "name": "python3"
  },
  "language_info": {
   "codemirror_mode": {
    "name": "ipython",
    "version": 3
   },
   "file_extension": ".py",
   "mimetype": "text/x-python",
   "name": "python",
   "nbconvert_exporter": "python",
   "pygments_lexer": "ipython3",
   "version": "3.10.7"
  }
 },
 "nbformat": 4,
 "nbformat_minor": 1
}
