{
 "cells": [
  {
   "cell_type": "markdown",
   "id": "50f9de1a",
   "metadata": {},
   "source": [
    "__Q1) Given two matrices please print the product of those two matrices.__\n",
    "\n",
    "Example $1$:\n",
    "$A = \n",
    "\\begin{bmatrix}\n",
    "1 & 3 & 4 \\\\\n",
    "2 & 5 & 7 \\\\\n",
    "5 & 9 & 6\n",
    "\\end{bmatrix},$\n",
    "$B = \n",
    "\\begin{bmatrix}\n",
    "1 & 0 & 0 \\\\\n",
    "0 & 1 & 0 \\\\\n",
    "0 & 0 & 1\n",
    "\\end{bmatrix},$\n",
    "$A \\times B = \n",
    "\\begin{bmatrix}\n",
    "1 & 3 & 4 \\\\\n",
    "2 & 5 & 7 \\\\\n",
    "5 & 9 & 6\n",
    "\\end{bmatrix}$\n",
    "\n",
    "Example $2$:\n",
    "$A = \n",
    "\\begin{bmatrix}\n",
    "1 & 2 \\\\\n",
    "3 & 4\n",
    "\\end{bmatrix},$\n",
    "$B = \n",
    "\\begin{bmatrix}\n",
    "1 & 2 & 3 & 4 & 5 \\\\\n",
    "5 & 6 & 7 & 8 & 9\n",
    "\\end{bmatrix},$\n",
    "$A \\times B = \n",
    "\\begin{bmatrix}\n",
    "11 & 14 & 17 & 20 & 23 \\\\\n",
    "23 & 30 & 37 & 44 & 51\n",
    "\\end{bmatrix}$\n",
    "\n",
    "Example $3$:\n",
    "$A = \n",
    "\\begin{bmatrix}\n",
    "1 & 2 \\\\\n",
    "3 & 4\n",
    "\\end{bmatrix},$\n",
    "$B = \n",
    "\\begin{bmatrix}\n",
    "1 & 4 \\\\\n",
    "5 & 6 \\\\\n",
    "7 & 8 \\\\\n",
    "9 & 6\n",
    "\\end{bmatrix},$\n",
    "$A \\times B =  \\text{Not possible}$"
   ]
  },
  {
   "cell_type": "code",
   "execution_count": 1,
   "id": "aeb241a8",
   "metadata": {},
   "outputs": [],
   "source": [
    "class MatrixMultiplication(object):\n",
    "    \"\"\"\n",
    "    This class is for matrix multiplication.\n",
    "    \"\"\"\n",
    "    \n",
    "    def __init__(self):\n",
    "        pass\n",
    "    \n",
    "    def matrix_test(self, mat) -> bool:\n",
    "        \"\"\"\n",
    "        This method tests the matrix.\n",
    "        \"\"\"\n",
    "        rows = len(mat)\n",
    "        if rows == 0:\n",
    "            return False\n",
    "        else:\n",
    "            cols = [len(row) for row in mat if isinstance(row, list)]\n",
    "            if sum(cols) == 0:\n",
    "                return False\n",
    "            elif len(set(cols)) > 1:\n",
    "                return False\n",
    "            else:\n",
    "                return sum(cols) == rows * cols[0]\n",
    "    \n",
    "    def matrix_shape(self, mat) -> tuple:\n",
    "        \"\"\"\n",
    "        This method calculates the shape of the matrix.\n",
    "        \"\"\"\n",
    "        if self.matrix_test(mat=mat):\n",
    "            rows = len(mat)\n",
    "            cols = len(mat[0])\n",
    "            return (rows, cols)\n",
    "        else:\n",
    "            return (None, None)\n",
    "        \n",
    "    def mat_mul_rule(self, mat1, mat2) -> bool:\n",
    "        \"\"\"\n",
    "        This method checks the matrix multilication rule.\n",
    "        \"\"\"\n",
    "        mat1_shape = self.matrix_shape(mat=mat1)\n",
    "        mat2_shape = self.matrix_shape(mat=mat2)\n",
    "        if (isinstance(mat1_shape[1], int) and\n",
    "            isinstance(mat2_shape[0], int)):\n",
    "            return mat1_shape[1] == mat2_shape[0]\n",
    "        else:\n",
    "            return False\n",
    "    \n",
    "    def transpose(self, mat) -> list:\n",
    "        \"\"\"\n",
    "        This method transposes the given matrix.\n",
    "        \"\"\"\n",
    "        row_len, col_len = self.matrix_shape(mat=mat)\n",
    "        if isinstance(row_len, int) and isinstance(col_len, int):\n",
    "            max_len = row_len if row_len >= col_len else col_len\n",
    "            return [[row[i] for row in mat] for i in range(max_len)]\n",
    "        else:\n",
    "            return None\n",
    "    \n",
    "    def dot_product(self, r, c) -> int:\n",
    "        \"\"\"\n",
    "        This method dots the given row and col.\n",
    "        r = row and c = col.\n",
    "        \"\"\"\n",
    "        dot = 0\n",
    "        for i in range(len(r)):\n",
    "            dot += (r[i] * c[i])\n",
    "        return dot\n",
    "    \n",
    "    def matrix_mul(self, mat1, mat2) -> list:\n",
    "        \"\"\"\n",
    "        This method accepts two matrices and multiplies them.\n",
    "        \"\"\"\n",
    "        if self.mat_mul_rule(mat1=mat1, mat2=mat2):\n",
    "            mat2_T = self.transpose(mat=mat2)\n",
    "            output = [[self.dot_product(r=r, c=c) for c in mat2_T]\n",
    "                      for r in mat1]\n",
    "        else:\n",
    "            output = \"Not possible!\"\n",
    "        return output"
   ]
  },
  {
   "cell_type": "code",
   "execution_count": 2,
   "id": "40cf85bd",
   "metadata": {},
   "outputs": [],
   "source": [
    "A = [[1, 2], [3], []]\n",
    "B1 = [[1, 2], [3], [5]]\n",
    "B2 = [[1, 2], [3], [5, 6]]\n",
    "B3 = [[1, 2], [3], [5, 6, 7]]\n",
    "B4 = [[1, 2, 3], [3], [1, 2, 4]]\n",
    "C = [[]]\n",
    "D = [1, 2, 3]\n",
    "E = [[1], [2], [3]]\n",
    "F = [[1, 2, 3]]\n",
    "G = [[1, 2, 3], [1, 2, 3]]"
   ]
  },
  {
   "cell_type": "code",
   "execution_count": 3,
   "id": "8b854a0c",
   "metadata": {},
   "outputs": [
    {
     "name": "stdout",
     "output_type": "stream",
     "text": [
      "False\n",
      "(None, None)\n",
      "False\n",
      "(None, None)\n",
      "False\n",
      "(None, None)\n",
      "False\n",
      "(None, None)\n",
      "False\n",
      "(None, None)\n",
      "False\n",
      "(None, None)\n",
      "False\n",
      "(None, None)\n",
      "True\n",
      "(3, 1)\n",
      "True\n",
      "(1, 3)\n",
      "True\n",
      "(2, 3)\n"
     ]
    }
   ],
   "source": [
    "mat_mul = MatrixMultiplication()\n",
    "for mat in [A, B1, B2, B3, B4, C, D, E, F, G]:\n",
    "    print(mat_mul.matrix_test(mat=mat))\n",
    "    print(mat_mul.matrix_shape(mat=mat))"
   ]
  },
  {
   "cell_type": "code",
   "execution_count": 4,
   "id": "f30f7c76",
   "metadata": {},
   "outputs": [],
   "source": [
    "mat1 = [[1, 2], [3, 4]]\n",
    "mat2 = [[1, 2, 3, 4, 5], [5, 6, 7, 8, 9]]"
   ]
  },
  {
   "cell_type": "code",
   "execution_count": 5,
   "id": "6e44f8a1",
   "metadata": {},
   "outputs": [
    {
     "name": "stdout",
     "output_type": "stream",
     "text": [
      "[[11, 14, 17, 20, 23], [23, 30, 37, 44, 51]]\n"
     ]
    }
   ],
   "source": [
    "mat_mul = MatrixMultiplication()\n",
    "print(mat_mul.matrix_mul(mat1=mat1, mat2=mat2))"
   ]
  },
  {
   "cell_type": "code",
   "execution_count": 6,
   "id": "b4ce5008",
   "metadata": {},
   "outputs": [],
   "source": [
    "mat1 = [[1], [2], [3]]\n",
    "mat2 = [[1, 2, 3]]"
   ]
  },
  {
   "cell_type": "code",
   "execution_count": 7,
   "id": "4aa64911",
   "metadata": {},
   "outputs": [
    {
     "name": "stdout",
     "output_type": "stream",
     "text": [
      "[[1, 2, 3], [2, 4, 6], [3, 6, 9]]\n"
     ]
    }
   ],
   "source": [
    "mat_mul = MatrixMultiplication()\n",
    "print(mat_mul.matrix_mul(mat1=mat1, mat2=mat2))"
   ]
  },
  {
   "cell_type": "code",
   "execution_count": 8,
   "id": "cdc1966c",
   "metadata": {},
   "outputs": [],
   "source": [
    "mat1 = [[1, 2], [3, 4]]\n",
    "mat2 = [[1, 4], [5, 6], [7, 8], [9, 6]]"
   ]
  },
  {
   "cell_type": "code",
   "execution_count": 9,
   "id": "c5e8f22f",
   "metadata": {},
   "outputs": [
    {
     "name": "stdout",
     "output_type": "stream",
     "text": [
      "Not possible!\n"
     ]
    }
   ],
   "source": [
    "mat_mul = MatrixMultiplication()\n",
    "print(mat_mul.matrix_mul(mat1=mat1, mat2=mat2))"
   ]
  },
  {
   "cell_type": "markdown",
   "id": "de7c3015",
   "metadata": {},
   "source": [
    "---"
   ]
  },
  {
   "cell_type": "markdown",
   "id": "8915da17",
   "metadata": {},
   "source": [
    "__Q2) Proportional Sampling $-$ Select a number randomly with probability proportional to its magnitude from the given array of $n$ elements.__\n",
    "\n",
    "Consider an experiment, selecting an element from the list A randomly with probability proportional to its magnitude. Assume we are doing the same experiment for 100 times with replacement, in each experiment you will print a number that is selected randomly from A.\n",
    "\n",
    "Example $1$:\n",
    "$A = \\left[0, 5, 27, 6, 13, 28, 100, 45, 10, 79\\right]$\n",
    "\n",
    "Let $f(x)$ denote the number of times $x$ getting selected in $100$ experiments.\n",
    "\n",
    "$f(100) > f(79) > f(45) > f(28) > f(27) > f(13) > f(10) > f(6) > f(5) > f(0)$\n",
    "\n",
    "Further learning on `random` module: [here](https://youtu.be/KzqSDvzOFNA)."
   ]
  },
  {
   "cell_type": "code",
   "execution_count": 10,
   "id": "4f01d7e9",
   "metadata": {},
   "outputs": [],
   "source": [
    "class ProportionalSampling(object):\n",
    "    \"\"\"\n",
    "    This class is for proportional sampling.\n",
    "    \"\"\"\n",
    "    \n",
    "    def __init__(self, data):\n",
    "        self.data = data\n",
    "        self.experiment = None\n",
    "    \n",
    "    def sum_of_data(self) -> int:\n",
    "        \"\"\"\n",
    "        This method returns the sum of the data points.\n",
    "        \"\"\"\n",
    "        return sum(self.data)\n",
    "    \n",
    "    def probability(self) -> list:\n",
    "        \"\"\"\n",
    "        This method calculates probability of each data point.\n",
    "        \"\"\"\n",
    "        return [(d / self.sum_of_data()) for d in self.data]\n",
    "    \n",
    "    def do_experiment(self, ktimes=100):\n",
    "        \"\"\"\n",
    "        This method does the statistical experiment.\n",
    "        \"\"\"\n",
    "        import random\n",
    "        return random.choices(population=self.data,\n",
    "                              weights=self.probability(),\n",
    "                              k=ktimes)\n",
    "    \n",
    "    def hist_of_experiment(self) -> dict:\n",
    "        \"\"\"\n",
    "        This method obtains the frequency of the experiment.\n",
    "        \"\"\"\n",
    "        hist = dict()\n",
    "        for obs in self.do_experiment():\n",
    "            hist.update({obs: hist.get(obs, 0) + 1})\n",
    "        hist = dict(sorted(hist.items(),\n",
    "                           key=lambda tup: tup[1],\n",
    "                           reverse=True))\n",
    "        return hist"
   ]
  },
  {
   "cell_type": "code",
   "execution_count": 11,
   "id": "536f4d01",
   "metadata": {},
   "outputs": [
    {
     "name": "stdout",
     "output_type": "stream",
     "text": [
      "{100: 30, 79: 23, 45: 19, 28: 14, 27: 7, 10: 5, 13: 2}\n"
     ]
    }
   ],
   "source": [
    "data = [0, 5, 27, 6, 13, 28, 100, 45, 10, 79]\n",
    "f_x = ProportionalSampling(data=data)\n",
    "print(f_x.hist_of_experiment())"
   ]
  },
  {
   "cell_type": "markdown",
   "id": "e80859a5",
   "metadata": {},
   "source": [
    "---"
   ]
  },
  {
   "cell_type": "markdown",
   "id": "d32750a7",
   "metadata": {},
   "source": [
    "__Q3) Replace the digits in the string with #.__\n",
    "\n",
    "Consider a string that will have digits in that, we need to remove all the not digits and replace the digits with #.\n",
    "\n",
    "- Example $1$: $A =$ '234' and Output: '###'\n",
    "- Example $2$: $A =$ 'a2b3c4' and Output: '###'\n",
    "- Example $3$: $A =$ 'abc' and Output: ''\n",
    "- Example $5$: $A =$ '#2a$#b%c%561#' and Output: '####'"
   ]
  },
  {
   "cell_type": "code",
   "execution_count": 12,
   "id": "2de982be",
   "metadata": {},
   "outputs": [],
   "source": [
    "def check_digit_replace(string) -> str:\n",
    "    \"\"\"\n",
    "    This function replaces digits with '#'.\n",
    "    \"\"\"\n",
    "    output = str()\n",
    "    for char in string:\n",
    "        if char.isdigit():\n",
    "            output += '#'\n",
    "    return output"
   ]
  },
  {
   "cell_type": "code",
   "execution_count": 13,
   "id": "e47fd080",
   "metadata": {},
   "outputs": [
    {
     "name": "stdout",
     "output_type": "stream",
     "text": [
      "1 --> ###\n",
      "2 --> ###\n",
      "3 --> \n",
      "4 --> ####\n"
     ]
    }
   ],
   "source": [
    "strings = ['234', 'a2b3c4', 'abc', '#2a$#b%c%561#']\n",
    "for s_no, string in enumerate(strings):\n",
    "    print(\"{} --> {}\".format(s_no+1, check_digit_replace(string=string)))"
   ]
  },
  {
   "cell_type": "markdown",
   "id": "a5691d4c",
   "metadata": {},
   "source": [
    "---"
   ]
  },
  {
   "cell_type": "markdown",
   "id": "fb0b7fde",
   "metadata": {},
   "source": [
    "__Q4) Students marks dashboard.__\n",
    "\n",
    "Consider the marks list of class students given two lists $-$\n",
    "\n",
    "Students $=$ $[$'student1', 'student2', 'student3', 'student4', 'student5', 'student6', 'student7', 'student8', 'student9', 'student10'$]$\n",
    "\n",
    "Marks $= \\left[45, 78, 12, 14, 48, 43, 45, 98, 22, 80\\right]$\n",
    "\n",
    "From the above two lists the Student[0] got Marks[0], Student[1] got Marks[1] and so on\n",
    "\n",
    "Your task is to print the name of students \n",
    "\n",
    "- Who got top $5$ ranks, in the descending order of marks.\n",
    "- Who got least $5$ ranks, in the increasing order of marks.\n",
    "- Who got marks between $> 25^{th}$ percentile $< 75^{th}$ percentile, in the increasing order of marks.\n",
    "\n",
    "Further learning on percentile formula: [here](https://msameeruddin.hashnode.dev/5-statistical-measures-for-exploratory-data-analysis#heading-percentile-computation).\n",
    "\n",
    "Percentiles\n",
    "\n",
    "$$l_p = \\left[(n-1) \\frac{p}{100} \\right] + 1$$\n",
    "$l_p - \\text{location of } p^{th} \\text{percentile.}$\n",
    "\n",
    "$$p_v = X[\\text{prev}] + \\left(\\text{floating part of } l_p \\times (X[\\text{curr}] - X[\\text{prev}])\\right)$$\n",
    "$p_v - \\text{percentile value.}$"
   ]
  },
  {
   "cell_type": "code",
   "execution_count": 14,
   "id": "6d50c91e",
   "metadata": {},
   "outputs": [],
   "source": [
    "class MarksDashboard(object):\n",
    "    \"\"\"\n",
    "    This class generates the dashboard.\n",
    "    \"\"\"\n",
    "    \n",
    "    def __init__(self, students, marks):\n",
    "        self.students = students\n",
    "        self.marks = marks\n",
    "    \n",
    "    def process_data(self) -> dict:\n",
    "        \"\"\"\n",
    "        This method processes the data.\n",
    "        \"\"\"\n",
    "        data = {k: v for (k, v) in zip(self.students, self.marks)}\n",
    "        data = dict(sorted(data.items(),\n",
    "                           key=lambda tup: tup[1]))\n",
    "        return data\n",
    "    \n",
    "    def top_5(self) -> dict:\n",
    "        \"\"\"\n",
    "        This method lists top 5 students.\n",
    "        \"\"\"\n",
    "        data = self.process_data()\n",
    "        top_5_marks = list(data.values())[-5:]\n",
    "        print(\"Top 5 ranks in the class:\")\n",
    "        top_5_ranks = {k: v for (k, v) in data.items()\n",
    "                       if v in top_5_marks}\n",
    "        return dict(sorted(top_5_ranks.items(),\n",
    "                           key=lambda tup: tup[1],\n",
    "                           reverse=True))\n",
    "    \n",
    "    def least_5(self) -> dict:\n",
    "        \"\"\"\n",
    "        This method lists least 5 students.\n",
    "        \"\"\"\n",
    "        data = self.process_data()\n",
    "        least_5_marks = list(data.values())[:5]\n",
    "        print(\"Least 5 ranks in the class:\")\n",
    "        return {k: v for (k, v) in data.items()\n",
    "                if v in least_5_marks}\n",
    "    \n",
    "    def percentile(self, p, data) -> int:\n",
    "        \"\"\"\n",
    "        This method computes the pth percentile.\n",
    "        \"\"\"\n",
    "        lp = ((len(data) - 1) * (p / 100)) + 1\n",
    "        curr = int(lp)\n",
    "        floatlp = lp - curr\n",
    "        prev = curr - 1\n",
    "        return data[prev] + (floatlp * (data[curr] - data[prev]))\n",
    "        \n",
    "    def IQR(self) -> dict:\n",
    "        \"\"\"\n",
    "        This method computes the IQR.\n",
    "        \"\"\"\n",
    "        data = self.process_data()\n",
    "        p_25 = self.percentile(p=25, data=list(data.values()))\n",
    "        p_75 = self.percentile(p=75, data=list(data.values()))\n",
    "        print(\"IQR\")\n",
    "        print(\"25th Percentile = {}\".format(p_25))\n",
    "        print(\"75th Percentile = {}\".format(p_75))\n",
    "        marks_iqr = [mark\n",
    "                     for mark in list(data.values())\n",
    "                     if mark >= p_25 and mark < p_75]\n",
    "        return {k: v for (k, v) in data.items() if v in marks_iqr}\n",
    "    \n",
    "    def display_dashboard(self) -> None:\n",
    "        \"\"\"\n",
    "        This method displays the dashboard.\n",
    "        \"\"\"\n",
    "        print(self.top_5(), \"\\n\")\n",
    "        print(self.least_5(), \"\\n\")\n",
    "        print(self.IQR())\n",
    "        return None"
   ]
  },
  {
   "cell_type": "code",
   "execution_count": 15,
   "id": "2c4bbe84",
   "metadata": {},
   "outputs": [],
   "source": [
    "students = ['Student1', 'Student2', 'Student3', 'Student4', 'Student5', \n",
    "            'Student6', 'Student7', 'Student8', 'Student9', 'Student10']\n",
    "marks = [45, 78, 12, 14, 48, 43, 47, 98, 35, 80]"
   ]
  },
  {
   "cell_type": "code",
   "execution_count": 16,
   "id": "c5379d08",
   "metadata": {},
   "outputs": [
    {
     "name": "stdout",
     "output_type": "stream",
     "text": [
      "Top 5 ranks in the class:\n",
      "{'Student8': 98, 'Student10': 80, 'Student2': 78, 'Student5': 48, 'Student7': 47} \n",
      "\n",
      "Least 5 ranks in the class:\n",
      "{'Student3': 12, 'Student4': 14, 'Student9': 35, 'Student6': 43, 'Student1': 45} \n",
      "\n",
      "IQR\n",
      "25th Percentile = 37.0\n",
      "75th Percentile = 70.5\n",
      "{'Student6': 43, 'Student1': 45, 'Student7': 47, 'Student5': 48}\n"
     ]
    }
   ],
   "source": [
    "mark_dash = MarksDashboard(students=students, marks=marks)\n",
    "mark_dash.display_dashboard()"
   ]
  },
  {
   "cell_type": "markdown",
   "id": "dfcda7e2",
   "metadata": {},
   "source": [
    "---"
   ]
  },
  {
   "cell_type": "markdown",
   "id": "16453914",
   "metadata": {},
   "source": [
    "__Q5) Find the closest points.__\n",
    "\n",
    "Consider you have been given $n$ data points in the form of list of tuples like,\n",
    "\n",
    "$S = \\left[(x_1, y_1), (x_2, y_2), (x_3, y_3), (x_4, y_4), (x_5, y_5), \\dots, (x_n, y_n)\\right]$\n",
    "\n",
    "and a point $P = (p, q)$.\n",
    "\n",
    "Your task is to find $5$ closest points (based on cosine distance) in $S$ from $P$.\n",
    "\n",
    "Cosine distance between two points $X \\ (x, y)$ and $P \\ (p, q)$ is defind as $-$\n",
    "\n",
    "$$\\overline{XP} = cos^{-1}\\left(\\frac{xp + yq}{\\sqrt{x^2 + y^2}\\sqrt{p^2 + q^2}}\\right)$$\n",
    "\n",
    "$S = \\left[(1, 2), (3, 4), (-1, 1), (6, -7), (0, 6), (-5, -8), (-1, -1), (6, 0), (1, -1)\\right]$\n",
    "\n",
    "$P = (3, -4)$\n",
    "\n",
    "![](vyZZQGu.png)\n",
    "\n",
    "Image source: [here](https://i.imgur.com/vyZZQGu.png)."
   ]
  },
  {
   "cell_type": "code",
   "execution_count": 17,
   "id": "5353ecc4",
   "metadata": {},
   "outputs": [],
   "source": [
    "class CosineDistance(object):\n",
    "    \"\"\"\n",
    "    This class finds closest points using cosine distance.\n",
    "    \"\"\"\n",
    "    \n",
    "    def __init__(self, points, P):\n",
    "        self.points = points\n",
    "        self.P = P\n",
    "    \n",
    "    def cosine_distance(self, P1, P2) -> float:\n",
    "        \"\"\"\n",
    "        This method computes cosine distance between two points.\n",
    "        \"\"\"\n",
    "        from math import acos\n",
    "        from math import sqrt\n",
    "        x, y = P1\n",
    "        p, q = P2\n",
    "        numerator = x*p + y*q\n",
    "        denominator = sqrt(x**2 + y**2) * sqrt(p**2 + q**2)\n",
    "        d = acos(numerator / denominator)\n",
    "        return round(d, 3)\n",
    "    \n",
    "    def all_distances(self) -> None:\n",
    "        \"\"\"\n",
    "        This method finds cosine distance between points and query point.\n",
    "        \"\"\"\n",
    "        ds = [self.cosine_distance(P1=P1, P2=self.P)\n",
    "              for P1 in self.points]\n",
    "        pds = {k: v for (k, v) in zip(self.points, ds)}\n",
    "        pds = dict(sorted(pds.items(), key=lambda tup: tup[1]))\n",
    "        ds = sorted(ds)\n",
    "        cds = ds[:5]\n",
    "        cps = {k: v for (k, v) in pds.items() if v in cds}\n",
    "        print(\"Closest points:\")\n",
    "        print(cps, \"\\n\")\n",
    "        fds = ds[5:]\n",
    "        fps = {k: v for (k, v) in pds.items() if v in fds}\n",
    "        print(\"Farthest points:\")\n",
    "        print(fps)\n",
    "        return None"
   ]
  },
  {
   "cell_type": "code",
   "execution_count": 18,
   "id": "7690739b",
   "metadata": {},
   "outputs": [],
   "source": [
    "points = [(1, 2), (3, 4), (-1, 1), (6, -7), (0, 6),\n",
    "          (-5, -8), (-1, -1), (6, 0), (1, -1)]\n",
    "P = (3, -4)"
   ]
  },
  {
   "cell_type": "code",
   "execution_count": 19,
   "id": "2c917d5a",
   "metadata": {},
   "outputs": [
    {
     "name": "stdout",
     "output_type": "stream",
     "text": [
      "Closest points:\n",
      "{(6, -7): 0.065, (1, -1): 0.142, (6, 0): 0.927, (-5, -8): 1.202, (-1, -1): 1.429} \n",
      "\n",
      "Farthest points:\n",
      "{(3, 4): 1.855, (1, 2): 2.034, (0, 6): 2.498, (-1, 1): 3.0}\n"
     ]
    }
   ],
   "source": [
    "c_d = CosineDistance(points=points, P=P)\n",
    "c_d.all_distances()"
   ]
  },
  {
   "cell_type": "markdown",
   "id": "6201978f",
   "metadata": {},
   "source": [
    "---"
   ]
  },
  {
   "cell_type": "markdown",
   "id": "e0b280e1",
   "metadata": {},
   "source": [
    "__Q6) Find which line separates red balls and blue balls.__\n",
    "\n",
    "Consider you have given two set of data points in the form of list of tuples and set of line equations\n",
    "\n",
    "- $\\text{Red} = \\left[(R_{11}, R_{12}), (R_{21}, R_{22}), (R_{31}, R_{32}), (R_{41}, R_{42}), (R_{51}, R_{52}), \\dots, (R_{n1}, R_{n2})\\right]$\n",
    "- $\\text{Blue} = \\left[(B_{11}, B_{12}), (B_{21}, B_{22}), (B_{31}, B_{32}), (B_{41}, B_{42}), (B_{51}, B_{52}), \\dots, (B_{m1}, B_{m2})\\right]$\n",
    "- $\\text{Lines} = \\left[a_1x+b_1y+c_1, a_2x+b_2y+c_2, a_3x+b_3y+c_3, a_4x+b_4y+c_4, \\dots, k \\ \\text{lines}\\right]$.\n",
    "\n",
    "Your task is for each line, print `True`, if all the red balls are one side of the line and blue balls are on the other side of the line, otherwise print `False`.\n",
    "\n",
    "Example:\n",
    "\n",
    "- $\\text{Red} = \\left[(1, 1), (2, 1), (4, 2), (2, 4), (-1, 4)\\right]$\n",
    "- $\\text{Blue} = \\left[(-2, -1), (-1, -2), (-3, -2), (-3, -1), (1, -3)\\right]$\n",
    "- $\\text{Lines} = \\left[\\text{'1x+1y+0'}, \\text{'1x-1y+0'}, \\text{'1x+0y-3'}, \\text{'0x+1y-0.5'}\\right]$\n",
    "\n",
    "![](mSnQW5K.png)\n",
    "\n",
    "Image source: [here](https://i.imgur.com/mSnQW5K.png).\n",
    "\n",
    "Formula:\n",
    "\n",
    "The distance $d$ between a point $P = (x_0, y_0)$ and a line $L: ax + by + c = 0$ is\n",
    "\n",
    "$$d = \\frac{\\left| ax_0 + by_0 +c \\right|}{\\sqrt{a^2 + b^2}}$$\n",
    "\n",
    "here, in the formula we force $d$ to be positive, because distance is always positive. But for this exercise, we have to find the lines that separate the red balls and blue balls. So, for this particular case, we will not use the absolute distance. If the distance is positive, then the balls are in one side else if the distance is negative, then the balls are in other side of the line.\n",
    "\n",
    "Further learning: [here](https://brilliant.org/wiki/distance-between-point-and-line/) from [brilliant.org](https://brilliant.org/)."
   ]
  },
  {
   "cell_type": "code",
   "execution_count": 20,
   "id": "fdc95fb3",
   "metadata": {},
   "outputs": [],
   "source": [
    "class LineSeparation(object):\n",
    "    \"\"\"\n",
    "    This class finds which line separates the red and the blue balls.\n",
    "    \"\"\"\n",
    "    \n",
    "    def __init__(self, reds, blues, lines):\n",
    "        self.reds = reds\n",
    "        self.blues = blues\n",
    "        self.lines = lines\n",
    "    \n",
    "    def pl_d(self, p, l) -> float:\n",
    "        \"\"\"\n",
    "        This method computes the distance between a point and a line.\n",
    "        \"\"\"\n",
    "        from math import sqrt\n",
    "        import re\n",
    "        matches = re.findall(pattern='[\\d?.-]+', string=l)\n",
    "        a, b, c = list(map(float, matches))\n",
    "        x0, y0 = p\n",
    "        return (a*x0 + b*y0 + c) / (sqrt(a**2 + b**2))\n",
    "    \n",
    "    def is_separating(self) -> dict:\n",
    "        \"\"\"\n",
    "        This method validates whether the line separates the points or not.\n",
    "        \"\"\"\n",
    "        line_dict = dict.fromkeys(self.lines, None)\n",
    "        for l in self.lines:\n",
    "            red_ds = [True if self.pl_d(p=rp, l=l) > 0 else False\n",
    "                      for rp in self.reds]\n",
    "            blue_ds = [True if self.pl_d(p=bp, l=l) < 0 else False\n",
    "                       for bp in self.blues]\n",
    "            line_dict[l] = all(red_ds) and all(blue_ds)\n",
    "        return line_dict"
   ]
  },
  {
   "cell_type": "code",
   "execution_count": 21,
   "id": "baa7d62d",
   "metadata": {},
   "outputs": [],
   "source": [
    "reds = [(1, 1), (2, 1), (4, 2), (2, 4), (-1, 4)]\n",
    "blues = [(-2, -1), (-1, -2), (-3, -2), (-3, -1), (1,-3)]\n",
    "lines = ['1x+1y+0','1x-1y+0','1x+0y-3','0x+1y-0.5']"
   ]
  },
  {
   "cell_type": "code",
   "execution_count": 22,
   "id": "f8265f25",
   "metadata": {},
   "outputs": [
    {
     "name": "stdout",
     "output_type": "stream",
     "text": [
      "{'1x+1y+0': True, '1x-1y+0': False, '1x+0y-3': False, '0x+1y-0.5': True}\n"
     ]
    }
   ],
   "source": [
    "ls = LineSeparation(reds=reds, blues=blues, lines=lines)\n",
    "print(ls.is_separating())"
   ]
  },
  {
   "cell_type": "markdown",
   "id": "5b4d75ed",
   "metadata": {},
   "source": [
    "---"
   ]
  },
  {
   "cell_type": "markdown",
   "id": "2a1aa6b8",
   "metadata": {},
   "source": [
    "__Q7) Filling the missing values in the specified format.__\n",
    "\n",
    "Your program reads a string for example `\"_,_,x,_,_,_\"` and returns the filled sequence.\n",
    "\n",
    "```\n",
    "I: _,_,_,24\n",
    "O: 6,6,6,6\n",
    "I: 40,_,_,_,60\n",
    "O: 20,20,20,20,20\n",
    "I: 80,_,_,_,_\n",
    "O: 16,16,16,16,16\n",
    "I: _,_,30,_,_,_,50,_,_\n",
    "O: 10,10,12,12,12,12,4,4,4\n",
    "```"
   ]
  },
  {
   "cell_type": "code",
   "execution_count": 23,
   "id": "3046ef79",
   "metadata": {},
   "outputs": [],
   "source": [
    "class SmoothHepler(object):\n",
    "    \"\"\"\n",
    "    This class is a helper for smoothing problem.\n",
    "    \"\"\"\n",
    "    \n",
    "    def __init__(self, string):\n",
    "        self.string = string.split(',')\n",
    "        self.output = []\n",
    "    \n",
    "    def get_proper_input(self) -> list:\n",
    "        \"\"\"\n",
    "        This method obtains a proper input list for special case.\n",
    "        \"\"\"\n",
    "        for i, char in enumerate(self.string):\n",
    "            if char.isdigit():\n",
    "                self.output.append(','.join(self.string[:i+1]))\n",
    "                self.string = self.string[i+1:]\n",
    "                return self.get_proper_input()\n",
    "            else:\n",
    "                self.output.append(','.join(self.string[:i+1]))\n",
    "        remove_ = lambda x: x[-1].isdigit()\n",
    "        if self.output[-1][-1].isdigit():\n",
    "            self.output = list(filter(remove_, self.output))\n",
    "        else:\n",
    "            B = [self.output[-1]]\n",
    "            A = list(filter(remove_, self.output[:-1]))\n",
    "            self.output = A + B\n",
    "        if self.output[0].isdigit():\n",
    "            self.output[0] = self.output.pop(0) + ',' + self.output[0]\n",
    "        return self.output"
   ]
  },
  {
   "cell_type": "code",
   "execution_count": 24,
   "id": "0845249b",
   "metadata": {},
   "outputs": [],
   "source": [
    "strings = [\"_,_,30,_,_,_,50,_,_\",\"_,_,30,_,_,_,50\", \"30,_,_,_,50,_,_\"]"
   ]
  },
  {
   "cell_type": "code",
   "execution_count": 25,
   "id": "5f29e85d",
   "metadata": {},
   "outputs": [
    {
     "name": "stdout",
     "output_type": "stream",
     "text": [
      "['_,_,30', '_,_,_,50', '_,_']\n",
      "['_,_,30', '_,_,_,50']\n",
      "['30,_,_,_,50', '_,_']\n"
     ]
    }
   ],
   "source": [
    "for string in strings:\n",
    "    s_helper = SmoothHepler(string=string)\n",
    "    print(s_helper.get_proper_input())"
   ]
  },
  {
   "cell_type": "markdown",
   "id": "a586686a",
   "metadata": {},
   "source": [
    "I will use the `SmoothHepler` class inside `SmoothCurve` class, to solve the special case of the problem. Honestly this question is so interesting, it took me some hours to solve it."
   ]
  },
  {
   "cell_type": "code",
   "execution_count": 26,
   "id": "9c9ab826",
   "metadata": {},
   "outputs": [],
   "source": [
    "class SmoothCurve(object):\n",
    "    \"\"\"\n",
    "    This class fills the blanks.\n",
    "    \"\"\"\n",
    "    \n",
    "    def __init__(self):\n",
    "        self.solution = list()\n",
    "    \n",
    "    def pick_numbers(self, s)-> list:\n",
    "        \"\"\"\n",
    "        This method picks the numbers in the string.\n",
    "        \"\"\"\n",
    "        import re\n",
    "        return list(map(int, re.findall(pattern='[\\d]+', string=s)))\n",
    "    \n",
    "    def batches(self, s) -> list:\n",
    "        \"\"\"\n",
    "        This method gets the set of blanks in the string.\n",
    "        \"\"\"\n",
    "        import re\n",
    "        return re.findall(pattern='[_,]+', string=string)\n",
    "    \n",
    "    def smoothing(self, string) -> str:\n",
    "        \"\"\"\n",
    "        This method smooths the curve, by filling the blank spaces.\n",
    "        \"\"\"\n",
    "        batches = self.batches(s=string)\n",
    "        if len(batches) == 1:\n",
    "            sol = self.ordinary(string=string)\n",
    "            return ','.join(sol)\n",
    "        elif len(batches) > 1:\n",
    "            s_helper = SmoothHepler(string=string)\n",
    "            p_input = s_helper.get_proper_input()\n",
    "            sol = self.special(p_input=p_input)\n",
    "            return ','.join(sol)\n",
    "        else:\n",
    "            return None\n",
    "    \n",
    "    def ordinary(self, string) -> list:\n",
    "        \"\"\"\n",
    "        This method smooths ordinary set of problems.\n",
    "        \"\"\"\n",
    "        size = len(string.split(','))\n",
    "        nums = self.pick_numbers(s=string)\n",
    "        total = sum(nums)\n",
    "        return list(map(str, [total // size] * size))\n",
    "    \n",
    "    def special_helper(self, string) -> tuple:\n",
    "        \"\"\"\n",
    "        This method is helps self.special(string).\n",
    "        \"\"\"\n",
    "        ord_sol = self.ordinary(string=string)\n",
    "        return ord_sol.pop(), ord_sol\n",
    "    \n",
    "    def special(self, p_input) -> list:\n",
    "        \"\"\"\n",
    "        This method smooths special set of problems.\n",
    "        \"\"\"\n",
    "        if len(p_input) == 1:\n",
    "            ord_sol = self.ordinary(p_input[0])\n",
    "            self.solution.append(','.join(ord_sol))\n",
    "        else:\n",
    "            p_str = p_input.pop(0)\n",
    "            l_ord, ord_sol = self.special_helper(string=p_str)\n",
    "            self.solution.append(','.join(ord_sol))\n",
    "            p_input[0] = l_ord + ',' + p_input[0]\n",
    "            self.special(p_input=p_input)\n",
    "        return self.solution"
   ]
  },
  {
   "cell_type": "code",
   "execution_count": 27,
   "id": "20b84777",
   "metadata": {},
   "outputs": [],
   "source": [
    "strings = [\"_,_,_,24\", \"40,_,_,_,60\", \"80,_,_,_,_\", \"_,_,30,_,_,_,50,_,_\"]"
   ]
  },
  {
   "cell_type": "code",
   "execution_count": 28,
   "id": "552757d9",
   "metadata": {},
   "outputs": [
    {
     "name": "stdout",
     "output_type": "stream",
     "text": [
      "I: _,_,_,24\n",
      "O: 6,6,6,6\n",
      "I: 40,_,_,_,60\n",
      "O: 20,20,20,20,20\n",
      "I: 80,_,_,_,_\n",
      "O: 16,16,16,16,16\n",
      "I: _,_,30,_,_,_,50,_,_\n",
      "O: 10,10,12,12,12,12,4,4,4\n"
     ]
    }
   ],
   "source": [
    "smooth_it = SmoothCurve()\n",
    "\n",
    "for string in strings:\n",
    "    print(\"I: {}\".format(string))\n",
    "    print(\"O: {}\".format(smooth_it.smoothing(string=string)))"
   ]
  },
  {
   "cell_type": "markdown",
   "id": "227f3d0b",
   "metadata": {},
   "source": [
    "---"
   ]
  },
  {
   "cell_type": "markdown",
   "id": "2fe720bf",
   "metadata": {},
   "source": [
    "__Q8) Compute conditional probabilities.__\n",
    "\n",
    "You will be given a list of lists, each sublist will be of length $2$ i.e. `[[x, y], [p, q], [l, m], ..., [r, s]]` consider its like a martrix of $n$ rows and $2$ columns.\n",
    "\n",
    "- The $1^{\\text{st}}$ column $F$ will contain only $5$ uniques values `(F1, F2, F3, F4, F5)`.\n",
    "- The $2^{\\text{nd}}$ column $S$ will contain only $3$ uniques values `(S1, S2, S3)`.\n",
    "\n",
    "```\n",
    "I: [[F1, S1], [F2, S2], [F3, S3], [F1, S2], [F2, S3],\n",
    "    [F3, S2], [F2, S1], [F4, S1], [F4, S3], [F5, S1]]\n",
    "O:\n",
    "a. P(F=F1|S==S1) = 1/4, P(F=F1|S==S2) = 1/3, P(F=F1|S==S3) = 0/3\n",
    "b. P(F=F2|S==S1) = 1/4, P(F=F2|S==S2) = 1/3, P(F=F2|S==S3) = 1/3\n",
    "c. P(F=F3|S==S1) = 0/4, P(F=F3|S==S2) = 1/3, P(F=F3|S==S3) = 1/3\n",
    "d. P(F=F4|S==S1) = 1/4, P(F=F4|S==S2) = 0/3, P(F=F4|S==S3) = 1/3\n",
    "e. P(F=F5|S==S1) = 1/4, P(F=F5|S==S2) = 0/3, P(F=F5|S==S3) = 0/3\n",
    "```"
   ]
  },
  {
   "cell_type": "code",
   "execution_count": 29,
   "id": "04953f49",
   "metadata": {},
   "outputs": [],
   "source": [
    "class ConditionalProbability(object):\n",
    "    \"\"\"\n",
    "    This class finds the conditional probabilities.\n",
    "    \"\"\"\n",
    "    \n",
    "    def __init__(self, AB_space):\n",
    "        self.AB_space = AB_space\n",
    "        self.A_space = set(map(lambda x: x[0], self.AB_space))\n",
    "        self.B_space = set(map(lambda x: x[1], self.AB_space))\n",
    "        print(\"A: {}\".format(self.A_space))\n",
    "        print(\"B: {}\".format(self.B_space))\n",
    "    \n",
    "    def total_Bi(self):\n",
    "        \"\"\"\n",
    "        This method gets the total Bi's.\n",
    "        \"\"\"\n",
    "        all_Bis = list(map(lambda x: x[1], self.AB_space))\n",
    "        B_hist = dict()\n",
    "        for b in all_Bis:\n",
    "            B_hist.update({b: B_hist.get(b, 0) + 1})\n",
    "        return B_hist\n",
    "    \n",
    "    def do_conditional_probability(self):\n",
    "        \"\"\"\n",
    "        This method computes conditional probability.\n",
    "        \"\"\"\n",
    "        solution = list()\n",
    "        for Ai in self.A_space:\n",
    "            Ai_Bi = list()\n",
    "            for Bi in self.B_space:\n",
    "                num = self.AB_space.count([Ai, Bi])\n",
    "                den = self.total_Bi()[Bi]\n",
    "                Ai_Bi.append(f'P({Ai}|{Bi}) = {num}/{den}')\n",
    "            solution.append(Ai_Bi)\n",
    "        return solution"
   ]
  },
  {
   "cell_type": "code",
   "execution_count": 30,
   "id": "03030aef",
   "metadata": {},
   "outputs": [],
   "source": [
    "AB_space = [['F1', 'S1'], ['F2', 'S2'], ['F3', 'S3'], ['F1', 'S2'], ['F2', 'S3'],\n",
    "            ['F3', 'S2'], ['F2', 'S1'], ['F4', 'S1'], ['F4', 'S3'], ['F5', 'S1']]"
   ]
  },
  {
   "cell_type": "code",
   "execution_count": 31,
   "id": "42a5d120",
   "metadata": {},
   "outputs": [
    {
     "name": "stdout",
     "output_type": "stream",
     "text": [
      "A: {'F4', 'F3', 'F5', 'F2', 'F1'}\n",
      "B: {'S1', 'S3', 'S2'}\n",
      "['P(F4|S1) = 1/4', 'P(F4|S3) = 1/3', 'P(F4|S2) = 0/3']\n",
      "['P(F3|S1) = 0/4', 'P(F3|S3) = 1/3', 'P(F3|S2) = 1/3']\n",
      "['P(F5|S1) = 1/4', 'P(F5|S3) = 0/3', 'P(F5|S2) = 0/3']\n",
      "['P(F2|S1) = 1/4', 'P(F2|S3) = 1/3', 'P(F2|S2) = 1/3']\n",
      "['P(F1|S1) = 1/4', 'P(F1|S3) = 0/3', 'P(F1|S2) = 1/3']\n"
     ]
    }
   ],
   "source": [
    "cp = ConditionalProbability(AB_space=AB_space)\n",
    "solution = cp.do_conditional_probability()\n",
    "for sol in solution:\n",
    "    print(sol)"
   ]
  },
  {
   "cell_type": "markdown",
   "id": "4f711f8c",
   "metadata": {},
   "source": [
    "---"
   ]
  },
  {
   "cell_type": "markdown",
   "id": "e015f43b",
   "metadata": {},
   "source": [
    "__Q9) Given two sentances $S1$, $S2$ your task is to find common words.__\n",
    "\n",
    "Find:\n",
    "\n",
    "- Number of common words between $S1$, $S2$.\n",
    "- Words in $S1$ but not in $S2$.\n",
    "- Words in $S2$ but not in $S1$."
   ]
  },
  {
   "cell_type": "code",
   "execution_count": 32,
   "id": "e7dd086e",
   "metadata": {},
   "outputs": [],
   "source": [
    "class Commonality(object):\n",
    "    \"\"\"\n",
    "    This class finds the common friends.\n",
    "    \"\"\"\n",
    "    \n",
    "    def __init__(self, S1, S2):\n",
    "        self.S1 = set(list(S1.split()))\n",
    "        self.S2 = set(list(S2.split()))\n",
    "    \n",
    "    def solution(self) -> None:\n",
    "        \"\"\"\n",
    "        This methods provides the solution to problem 9.\n",
    "        \"\"\"\n",
    "        print(\"a. {}\".format(len(self.S1.intersection(self.S2))))\n",
    "        print(\"b. {}\".format(list(self.S1.difference(self.S2))))\n",
    "        print(\"c. {}\".format(list(self.S2.difference(self.S1))))\n",
    "        return None"
   ]
  },
  {
   "cell_type": "code",
   "execution_count": 33,
   "id": "be5cc971",
   "metadata": {},
   "outputs": [],
   "source": [
    "S1 = \"The first column F will contain only 5 unique values\"\n",
    "S2 = \"The second column S will contain only 3 unique values\""
   ]
  },
  {
   "cell_type": "code",
   "execution_count": 34,
   "id": "5d6a7e17",
   "metadata": {},
   "outputs": [
    {
     "name": "stdout",
     "output_type": "stream",
     "text": [
      "a. 7\n",
      "b. ['F', '5', 'first']\n",
      "c. ['3', 'S', 'second']\n"
     ]
    }
   ],
   "source": [
    "comm = Commonality(S1=S1, S2=S2)\n",
    "comm.solution()"
   ]
  },
  {
   "cell_type": "markdown",
   "id": "24022305",
   "metadata": {},
   "source": [
    "---"
   ]
  },
  {
   "cell_type": "markdown",
   "id": "4943fb87",
   "metadata": {},
   "source": [
    "__Q10) Compute $\\log$ loss.__\n",
    "\n",
    "Given $Y = \\left(y_1, y_2, y_3, \\dots, y_n\\right)$ and $Y' = \\left(y_1', y_2', y_3', \\dots, y_n'\\right)$, then\n",
    "\n",
    "$$\\text{LogLoss} = -\\frac{1}{n} \\sum_{i=1}^{n} y_i\\log{(y_i')} + (1-y_i)\\log{(1-y_i')}$$\n",
    "\n",
    "LogLoss is also called as Binary Cross Entropy."
   ]
  },
  {
   "cell_type": "code",
   "execution_count": 35,
   "id": "93a8d3fd",
   "metadata": {},
   "outputs": [],
   "source": [
    "class LogLoss(object):\n",
    "    \"\"\"\n",
    "    This class computes the LogLoss function.\n",
    "    \"\"\"\n",
    "    \n",
    "    def __init__(self, Y_Yhat):\n",
    "        self.Y_Yhat = Y_Yhat\n",
    "        self.n = len(Y_Yhat)\n",
    "    \n",
    "    def compute_logloss(self) -> float:\n",
    "        \"\"\"\n",
    "        This method computes LogLoss function.\n",
    "        \"\"\"\n",
    "        from math import log10\n",
    "        logloss = 0\n",
    "        for y, yhat in self.Y_Yhat:\n",
    "            logloss += (y * log10(yhat)) + ((1-y) * log10(1-yhat))\n",
    "        return round(((-logloss) / self.n), 7)"
   ]
  },
  {
   "cell_type": "code",
   "execution_count": 36,
   "id": "da3b8359",
   "metadata": {},
   "outputs": [],
   "source": [
    "Y_Yhat = [[1, 0.4], [0, 0.5], [0, 0.9], [0, 0.3],\n",
    "          [0, 0.6], [1, 0.1], [1, 0.9], [1, 0.8]]"
   ]
  },
  {
   "cell_type": "code",
   "execution_count": 37,
   "id": "7f36d2ff",
   "metadata": {},
   "outputs": [
    {
     "name": "stdout",
     "output_type": "stream",
     "text": [
      "0.4243099\n"
     ]
    }
   ],
   "source": [
    "logloss = LogLoss(Y_Yhat=Y_Yhat)\n",
    "print(logloss.compute_logloss())"
   ]
  },
  {
   "cell_type": "markdown",
   "id": "6ec7e794",
   "metadata": {},
   "source": [
    "---"
   ]
  },
  {
   "cell_type": "markdown",
   "id": "1de2b2e6",
   "metadata": {},
   "source": [
    "End of the file."
   ]
  }
 ],
 "metadata": {
  "kernelspec": {
   "display_name": "Python 3 (ipykernel)",
   "language": "python",
   "name": "python3"
  },
  "language_info": {
   "codemirror_mode": {
    "name": "ipython",
    "version": 3
   },
   "file_extension": ".py",
   "mimetype": "text/x-python",
   "name": "python",
   "nbconvert_exporter": "python",
   "pygments_lexer": "ipython3",
   "version": "3.10.4"
  }
 },
 "nbformat": 4,
 "nbformat_minor": 5
}
